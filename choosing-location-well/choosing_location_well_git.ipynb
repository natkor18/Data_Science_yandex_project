{
  "cells": [
    {
      "cell_type": "markdown",
      "metadata": {
        "id": "Nv-D0Fr2qEmP"
      },
      "source": [
        "# Выбор локации для скважины"
      ]
    },
    {
      "cell_type": "markdown",
      "metadata": {
        "id": "vxQXccVWqEmQ"
      },
      "source": [
        "Допустим, вы работаете в добывающей компании «ГлавРосГосНефть». Нужно решить, где бурить новую скважину.\n",
        "\n",
        "Вам предоставлены пробы нефти в трёх регионах: в каждом 10 000 месторождений, где измерили качество нефти и объём её запасов. Постройте модель машинного обучения, которая поможет определить регион, где добыча принесёт наибольшую прибыль. Проанализируйте возможную прибыль и риски техникой *Bootstrap.*\n",
        "\n",
        "**Шаги для выбора локации:**\n",
        "\n",
        "- В избранном регионе ищут месторождения, для каждого определяют значения признаков;\n",
        "- Строят модель и оценивают объём запасов;\n",
        "- Выбирают месторождения с самым высокими оценками значений. Количество месторождений зависит от бюджета компании и стоимости разработки одной скважины;\n",
        "- Прибыль равна суммарной прибыли отобранных месторождений."
      ]
    },
    {
      "cell_type": "markdown",
      "metadata": {
        "id": "KWoUrwRRqEmQ"
      },
      "source": [
        "# Описание данных\n",
        "\n",
        "- id — уникальный идентификатор скважины;\n",
        "- f0, f1, f2 — три признака точек (неважно, что они означают, но сами признаки значимы);\n",
        "- product — объём запасов в скважине (тыс. баррелей).\n",
        "\n",
        "**Условия задачи:**\n",
        "\n",
        "- Для обучения модели подходит только линейная регрессия (остальные — недостаточно предсказуемые).\n",
        "- При разведке региона исследуют 500 точек, из которых с помощью машинного обучения выбирают 200 лучших для разработки.\n",
        "- Бюджет на разработку скважин в регионе — 10 млрд рублей.\n",
        "- При нынешних ценах один баррель сырья приносит 450 рублей дохода. Доход с каждой единицы продукта составляет 450 тыс. рублей, поскольку объём указан в тысячах баррелей.\n",
        "- После оценки рисков нужно оставить лишь те регионы, в которых вероятность убытков меньше 2.5%. Среди них выбирают регион с наибольшей средней прибылью.\n",
        "- Данные синтетические: детали контрактов и характеристики месторождений не разглашаются."
      ]
    },
    {
      "cell_type": "markdown",
      "metadata": {
        "id": "hYtgf22HqEmR"
      },
      "source": [
        "## Загрузка и подготовка данных"
      ]
    },
    {
      "cell_type": "code",
      "execution_count": null,
      "metadata": {
        "id": "UFMTcR9LqEmR"
      },
      "outputs": [],
      "source": [
        "#Все библиотеки в отдельную ячейку\n",
        "import pandas as pd\n",
        "from sklearn.model_selection import train_test_split\n",
        "from sklearn.linear_model import LinearRegression\n",
        "from sklearn.metrics import mean_squared_error\n",
        "from sklearn.metrics import r2_score\n",
        "from sklearn.metrics import mean_absolute_error\n",
        "import matplotlib.pyplot as plt\n",
        "from sklearn.metrics import confusion_matrix\n",
        "from sklearn.preprocessing import StandardScaler\n",
        "from scipy import stats as st\n",
        "import numpy as np"
      ]
    },
    
    {
      "cell_type": "code",
      "execution_count": null,
      "metadata": {
        "id": "9EJRZHJ9qEmS"
      },
      "outputs": [],
      "source": [
        "#загрузим данные из имеющихся датасетов\n",
        "data_reg1 = pd.read_csv(\"/datasets/geo_data_0.csv\")\n",
        "data_reg2 = pd.read_csv(\"/datasets/geo_data_1.csv\")\n",
        "data_reg3 = pd.read_csv(\"/datasets/geo_data_2.csv\")"
      ]
    },
    {
      "cell_type": "code",
      "execution_count": null,
      "metadata": {
        "id": "Flj-6XCsqEmS"
      },
      "outputs": [],
      "source": [
        "data_regs = [data_reg1, data_reg2, data_reg3]"
      ]
    },
    {
      "cell_type": "markdown",
      "metadata": {
        "id": "ska_zZGSqEmS"
      },
      "source": [
        "**Используя методы head, info, shape - посмотрим какие данные представлены в датафреймах.**"
      ]
    },
    {
      "cell_type": "code",
      "execution_count": null,
      "metadata": {
        "id": "duN3Yzj4qEmS",
        "outputId": "b5c46048-e7dd-43b9-e08e-b34eee1d356e"
      },
      "outputs": [
        {
          "name": "stdout",
          "output_type": "stream",
          "text": [
            "Регион №1:\n",
            "       id        f0        f1        f2     product\n",
            "0  txEyH  0.705745 -0.497823  1.221170  105.280062\n",
            "1  2acmU  1.334711 -0.340164  4.365080   73.037750\n",
            "2  409Wp  1.022732  0.151990  1.419926   85.265647\n",
            "3  iJLyR -0.032172  0.139033  2.978566  168.620776\n",
            "4  Xdl7t  1.988431  0.155413  4.751769  154.036647 \n",
            "Размер: (100000, 5)\n",
            "\n",
            "Регион №2:\n",
            "       id         f0         f1        f2     product\n",
            "0  kBEdx -15.001348  -8.276000 -0.005876    3.179103\n",
            "1  62mP7  14.272088  -3.475083  0.999183   26.953261\n",
            "2  vyE1P   6.263187  -5.948386  5.001160  134.766305\n",
            "3  KcrkZ -13.081196 -11.506057  4.999415  137.945408\n",
            "4  AHL4O  12.702195  -8.147433  5.004363  134.766305 \n",
            "Размер: (100000, 5)\n",
            "\n",
            "Регион №3:\n",
            "       id        f0        f1        f2     product\n",
            "0  fwXo0 -1.146987  0.963328 -0.828965   27.758673\n",
            "1  WJtFt  0.262778  0.269839 -2.530187   56.069697\n",
            "2  ovLUW  0.194587  0.289035 -5.586433   62.871910\n",
            "3  q6cA6  2.236060 -0.553760  0.930038  114.572842\n",
            "4  WPMUX -0.515993  1.716266  5.899011  149.600746 \n",
            "Размер: (100000, 5)\n",
            "\n"
          ]
        }
      ],
      "source": [
        "i = 1\n",
        "for reg in data_regs:\n",
        "    print(f\"Регион №{i}:\\n {reg.head()} \\nРазмер: {reg.shape}\\n\")\n",
        "    i += 1\n"
      ]
    },
    {
      "cell_type": "code",
      "execution_count": null,
      "metadata": {
        "id": "bObBBbFYqEmT",
        "outputId": "b3a1c630-e816-42b8-affe-8fed0882b91c"
      },
      "outputs": [
        {
          "name": "stdout",
          "output_type": "stream",
          "text": [
            "<class 'pandas.core.frame.DataFrame'>\n",
            "RangeIndex: 100000 entries, 0 to 99999\n",
            "Data columns (total 5 columns):\n",
            " #   Column   Non-Null Count   Dtype  \n",
            "---  ------   --------------   -----  \n",
            " 0   id       100000 non-null  object \n",
            " 1   f0       100000 non-null  float64\n",
            " 2   f1       100000 non-null  float64\n",
            " 3   f2       100000 non-null  float64\n",
            " 4   product  100000 non-null  float64\n",
            "dtypes: float64(4), object(1)\n",
            "memory usage: 3.8+ MB\n",
            "None \n",
            "\n",
            "<class 'pandas.core.frame.DataFrame'>\n",
            "RangeIndex: 100000 entries, 0 to 99999\n",
            "Data columns (total 5 columns):\n",
            " #   Column   Non-Null Count   Dtype  \n",
            "---  ------   --------------   -----  \n",
            " 0   id       100000 non-null  object \n",
            " 1   f0       100000 non-null  float64\n",
            " 2   f1       100000 non-null  float64\n",
            " 3   f2       100000 non-null  float64\n",
            " 4   product  100000 non-null  float64\n",
            "dtypes: float64(4), object(1)\n",
            "memory usage: 3.8+ MB\n",
            "None \n",
            "\n",
            "<class 'pandas.core.frame.DataFrame'>\n",
            "RangeIndex: 100000 entries, 0 to 99999\n",
            "Data columns (total 5 columns):\n",
            " #   Column   Non-Null Count   Dtype  \n",
            "---  ------   --------------   -----  \n",
            " 0   id       100000 non-null  object \n",
            " 1   f0       100000 non-null  float64\n",
            " 2   f1       100000 non-null  float64\n",
            " 3   f2       100000 non-null  float64\n",
            " 4   product  100000 non-null  float64\n",
            "dtypes: float64(4), object(1)\n",
            "memory usage: 3.8+ MB\n",
            "None \n",
            "\n"
          ]
        }
      ],
      "source": [
        "#Изучим общую информацию о данных\n",
        "for reg in data_regs:\n",
        "    print(reg.info(),\"\\n\")"
      ]
    },
    {
      "cell_type": "markdown",
      "metadata": {
        "id": "3bG9t8GdqEmT"
      },
      "source": [
        "**Три датафрейма с информацией  о пробах нефти в трёх регионах. Размер каждого датафрейма 100000 строк, 4 столбца.**\n",
        "- id - уникальный номер скважины\n",
        "- f0, f1, f2 — три признаки точек - признаки для предсказаний;\n",
        "- product — объём запасов в скважине (тыс. баррелей) - **это будет целевой признак.**\n",
        "\n",
        "**Проверим данные на наличие пропусков и дубликатов.**"
      ]
    },
    {
      "cell_type": "code",
      "execution_count": null,
      "metadata": {
        "id": "SRpjAKc1qEmT",
        "outputId": "28e45111-ec3a-420d-a7ca-9f1bb9a35f93"
      },
      "outputs": [
        {
          "name": "stdout",
          "output_type": "stream",
          "text": [
            "id         0\n",
            "f0         0\n",
            "f1         0\n",
            "f2         0\n",
            "product    0\n",
            "dtype: int64\n",
            "id         0\n",
            "f0         0\n",
            "f1         0\n",
            "f2         0\n",
            "product    0\n",
            "dtype: int64\n",
            "id         0\n",
            "f0         0\n",
            "f1         0\n",
            "f2         0\n",
            "product    0\n",
            "dtype: int64\n"
          ]
        }
      ],
      "source": [
        "for reg in data_regs:\n",
        "    print(reg.isna().sum())"
      ]
    },
    {
      "cell_type": "code",
      "execution_count": null,
      "metadata": {
        "id": "xb0Yp1-eqEmT",
        "outputId": "1a2bf643-6bf5-4fb4-f392-7ce95b7cfe4a"
      },
      "outputs": [
        {
          "name": "stdout",
          "output_type": "stream",
          "text": [
            "10\n",
            "4\n",
            "4\n"
          ]
        }
      ],
      "source": [
        "#нашли дубликаты\n",
        "for reg in data_regs:\n",
        "    print(reg['id'].duplicated().sum())"
      ]
    },
    {
      "cell_type": "markdown",
      "metadata": {
        "id": "3z63sChHqEmU"
      },
      "source": [
        "**Устраним выявленные дубликаты.**"
      ]
    },
    {
      "cell_type": "code",
      "execution_count": null,
      "metadata": {
        "id": "tsNx4J_TqEmU"
      },
      "outputs": [],
      "source": [
        "def regs_drop_duplicates(name_regs):\n",
        "    name_regs=name_regs.drop_duplicates(subset=['id']).reset_index(drop=True)\n",
        "    return name_regs"
      ]
    },
    {
      "cell_type": "code",
      "execution_count": null,
      "metadata": {
        "id": "SfxZnKJfqEmU"
      },
      "outputs": [],
      "source": [
        "data_reg1 = regs_drop_duplicates(data_reg1)\n",
        "data_reg2 = regs_drop_duplicates(data_reg2)\n",
        "data_reg3 = regs_drop_duplicates(data_reg3)"
      ]
    },
    {
      "cell_type": "code",
      "execution_count": null,
      "metadata": {
        "id": "a-B8vz7XqEmU",
        "outputId": "5c281fba-7a3e-4fc6-8ffa-3fd98421ad7e"
      },
      "outputs": [
        {
          "name": "stdout",
          "output_type": "stream",
          "text": [
            "<class 'pandas.core.frame.DataFrame'>\n",
            "RangeIndex: 99996 entries, 0 to 99995\n",
            "Data columns (total 5 columns):\n",
            " #   Column   Non-Null Count  Dtype  \n",
            "---  ------   --------------  -----  \n",
            " 0   id       99996 non-null  object \n",
            " 1   f0       99996 non-null  float64\n",
            " 2   f1       99996 non-null  float64\n",
            " 3   f2       99996 non-null  float64\n",
            " 4   product  99996 non-null  float64\n",
            "dtypes: float64(4), object(1)\n",
            "memory usage: 3.8+ MB\n"
          ]
        }
      ],
      "source": [
        "data_reg3.info()"
      ]
    },
    {
      "cell_type": "markdown",
      "metadata": {
        "id": "IlN8VJBiqEmU"
      },
      "source": [
        "**Выявлены дубликаты в id. Дубликаты устранены.**\n",
        "\n",
        "**Пропусков нет, данные в ячейка f0, f1, f2 вещественного типа - количественные. В id - уникальный номер скважины, не значимый признак. Поэтому \"id\" удалим.**"
      ]
    },
    {
      "cell_type": "code",
      "execution_count": null,
      "metadata": {
        "id": "rbQ0u2aWqEmU"
      },
      "outputs": [],
      "source": [
        "data_reg1 = data_reg1.drop(['id'], axis=1)"
      ]
    },
    {
      "cell_type": "code",
      "execution_count": null,
      "metadata": {
        "id": "F7oKeheRqEmU"
      },
      "outputs": [],
      "source": [
        "data_reg2 = data_reg2.drop(['id'], axis=1)"
      ]
    },
    {
      "cell_type": "code",
      "execution_count": null,
      "metadata": {
        "id": "taQa171TqEmU"
      },
      "outputs": [],
      "source": [
        "data_reg3 = data_reg3.drop(['id'], axis=1)"
      ]
    },
    {
      "cell_type": "code",
      "execution_count": null,
      "metadata": {
        "id": "8OhsCYgsqEmV",
        "outputId": "eba4f761-d5c9-4bd4-f233-8be0eefbc494"
      },
      "outputs": [
        {
          "name": "stdout",
          "output_type": "stream",
          "text": [
            "(99990, 4) (99996, 4) (99996, 4)\n"
          ]
        }
      ],
      "source": [
        "print(data_reg1.shape, data_reg2.shape,data_reg3.shape)"
      ]
    },
    {
      "cell_type": "markdown",
      "metadata": {
        "id": "nEHecFPoqEmV"
      },
      "source": [
        "**Проверим, как данные коррелируют друг с другом**"
      ]
    },
    {
      "cell_type": "code",
      "execution_count": null,
      "metadata": {
        "id": "IqyeW4kRqEmV",
        "outputId": "c08c0b20-e1bf-4c32-dc85-494e9d6fddf4"
      },
      "outputs": [
        {
          "name": "stdout",
          "output_type": "stream",
          "text": [
            "Корреляция по региону № 1\n",
            "               f0        f1        f2   product\n",
            "f0       1.000000 -0.440723 -0.003153  0.143536\n",
            "f1      -0.440723  1.000000  0.001724 -0.192356\n",
            "f2      -0.003153  0.001724  1.000000  0.483663\n",
            "product  0.143536 -0.192356  0.483663  1.000000 \n",
            "\n",
            "Корреляция по региону № 2\n",
            "               f0        f1        f2   product\n",
            "f0       1.000000  0.182287 -0.001777 -0.030491\n",
            "f1       0.182287  1.000000 -0.002595 -0.010155\n",
            "f2      -0.001777 -0.002595  1.000000  0.999397\n",
            "product -0.030491 -0.010155  0.999397  1.000000 \n",
            "\n",
            "Корреляция по региону № 3\n",
            "               f0        f1        f2   product\n",
            "f0       1.000000  0.000528 -0.000448 -0.001987\n",
            "f1       0.000528  1.000000  0.000779 -0.001012\n",
            "f2      -0.000448  0.000779  1.000000  0.445871\n",
            "product -0.001987 -0.001012  0.445871  1.000000 \n",
            "\n"
          ]
        }
      ],
      "source": [
        "i = 1\n",
        "for reg in data_regs:\n",
        "    print(\"Корреляция по региону №\", i)\n",
        "    print(reg.corr(),\"\\n\")\n",
        "    i+=1"
      ]
    },
    {
      "cell_type": "markdown",
      "metadata": {
        "id": "lzYxPJEJqEmV"
      },
      "source": [
        "**Корреляция в данных**\n",
        "- Наблюдается сильная корреляция по второму региону между целевым признаком и признаком f2.\n",
        "- По первому и третьему регионам между целевым признаком и признаком f2 также есть положительная корреляция, она меньше.\n",
        "- Два других признака f0,f1  практически не коррелируют с целевым в регионах 2 и 3, и слабо отрицательно в регионе 2.**\n",
        "\n",
        "\n",
        "**Итак, признак f2 - оказывает сильное влияние на целевой признак.**\n",
        "\n",
        "Построим гистограммы распределения объема запасов в скважинах по регионам"
      ]
    },
    
    {
      "cell_type": "code",
      "execution_count": null,
      "metadata": {
        "id": "3zuQkPvZqEmV",
        "outputId": "fed9afdd-57ef-4a0c-b0b7-933538ebd593"
      },
      "outputs": [
        {
          "data": {
            "image/png": "[encoded data removed]",
            "text/plain": [
              "<Figure size 1440x720 with 3 Axes>"
            ]
          },
          "metadata": {
            "needs_background": "light"
          },
          "output_type": "display_data"
        }
      ],
      "source": [
        "fig, axes = plt.subplots(1, 3, figsize=(20, 10))\n",
        "\n",
        "axes[0].set_title(\"Первый регион\")\n",
        "axes[0].hist(data_reg1['product'], bins = 100);\n",
        "\n",
        "axes[1].set_title(\"Второй регион\")\n",
        "axes[1].hist(data_reg2['product'], bins = 100);\n",
        "\n",
        "\n",
        "axes[2].set_title(\"Тетий регион\")\n",
        "axes[2].hist(data_reg3['product'], bins = 100);"
      ]
    },
    {
      "cell_type": "markdown",
      "metadata": {
        "id": "UecO1CoNqEmV"
      },
      "source": [
        "Первый и третий регионы - распределение приближается к нормальному, второй регион - наблюдается неравномерное распределение.\n",
        "\n",
        "Ниже - диаграммы рассеяния, демонстрирующие корреляцию между объемом запаса в скважинах и признаком f2.Во втором регионе - зависимость идеальная. В первом и третьем - больше похожа на  естественную."
      ]
    },
    {
      "cell_type": "code",
      "execution_count": null,
      "metadata": {
        "id": "emuRwCviqEmV",
        "outputId": "67663968-42ea-44f6-b3aa-ba4cf44fc137"
      },
      "outputs": [
        {
          "data": {
            "image/png": "[encoded data removed]",
            "text/plain": [
              "<Figure size 1440x720 with 3 Axes>"
            ]
          },
          "metadata": {
            "needs_background": "light"
          },
          "output_type": "display_data"
        }
      ],
      "source": [
        "fig, axes = plt.subplots(1, 3, figsize=(20, 10))\n",
        "\n",
        "axes[0].set_title(\"Первый регион\")\n",
        "axes[0].scatter(data_reg1['f2'], data_reg1['product']);\n",
        "\n",
        "axes[1].set_title(\"Второй регион\")\n",
        "axes[1].scatter(data_reg2['f2'], data_reg2['product']);\n",
        "\n",
        "\n",
        "axes[2].set_title(\"Третий регион\")\n",
        "axes[2].scatter(data_reg3['f2'], data_reg3['product']);\n"
      ]
    },
    {
      "cell_type": "markdown",
      "metadata": {
        "id": "pwQH-mM2qEmV"
      },
      "source": [
        "Визуально второй регион отличается снова отличается."
      ]
    },
    {
      "cell_type": "markdown",
      "metadata": {
        "id": "uRwxA_TgqEmW"
      },
      "source": [
        "## Обучение и проверка модели"
      ]
    },
    {
      "cell_type": "markdown",
      "metadata": {
        "id": "4ukoNdnpqEmW"
      },
      "source": [
        "Создадим отдельную функцию для разбиения данных на выборки. И выполним это разбиение."
      ]
    },
    {
      "cell_type": "code",
      "execution_count": null,
      "metadata": {
        "id": "N8dYm0MEqEmW"
      },
      "outputs": [],
      "source": [
        "def split_regions(data_name):\n",
        "    target_reg = data_name['product']\n",
        "    features_reg = data_name.drop('product', axis=1)\n",
        "\n",
        "    lst_split = train_test_split(features_reg, target_reg, random_state=12345, test_size=0.25)\n",
        "\n",
        "    return lst_split"
      ]
    },
    {
      "cell_type": "code",
      "execution_count": null,
      "metadata": {
        "id": "oawFTXMZqEmW"
      },
      "outputs": [],
      "source": [
        "features_train_reg1, features_valid_reg1, target_train_reg1, target_valid_reg1 = split_regions(data_reg1)"
      ]
    },
    {
      "cell_type": "code",
      "execution_count": null,
      "metadata": {
        "id": "Dws1pulJqEmY",
        "outputId": "94cbb533-6336-4232-8335-cfaa51dd170e"
      },
      "outputs": [
        {
          "data": {
            "text/html": [
              "<div>\n",
              "<style scoped>\n",
              "    .dataframe tbody tr th:only-of-type {\n",
              "        vertical-align: middle;\n",
              "    }\n",
              "\n",
              "    .dataframe tbody tr th {\n",
              "        vertical-align: top;\n",
              "    }\n",
              "\n",
              "    .dataframe thead th {\n",
              "        text-align: right;\n",
              "    }\n",
              "</style>\n",
              "<table border=\"1\" class=\"dataframe\">\n",
              "  <thead>\n",
              "    <tr style=\"text-align: right;\">\n",
              "      <th></th>\n",
              "      <th>f0</th>\n",
              "      <th>f1</th>\n",
              "      <th>f2</th>\n",
              "    </tr>\n",
              "  </thead>\n",
              "  <tbody>\n",
              "    <tr>\n",
              "      <th>75161</th>\n",
              "      <td>1.175747</td>\n",
              "      <td>-0.382577</td>\n",
              "      <td>2.280279</td>\n",
              "    </tr>\n",
              "    <tr>\n",
              "      <th>43240</th>\n",
              "      <td>-0.878080</td>\n",
              "      <td>0.162056</td>\n",
              "      <td>-1.655183</td>\n",
              "    </tr>\n",
              "    <tr>\n",
              "      <th>91987</th>\n",
              "      <td>-0.064050</td>\n",
              "      <td>0.320469</td>\n",
              "      <td>0.861030</td>\n",
              "    </tr>\n",
              "    <tr>\n",
              "      <th>5094</th>\n",
              "      <td>0.055304</td>\n",
              "      <td>0.884562</td>\n",
              "      <td>-0.276966</td>\n",
              "    </tr>\n",
              "    <tr>\n",
              "      <th>78245</th>\n",
              "      <td>-0.143708</td>\n",
              "      <td>1.026059</td>\n",
              "      <td>1.291161</td>\n",
              "    </tr>\n",
              "  </tbody>\n",
              "</table>\n",
              "</div>"
            ],
            "text/plain": [
              "             f0        f1        f2\n",
              "75161  1.175747 -0.382577  2.280279\n",
              "43240 -0.878080  0.162056 -1.655183\n",
              "91987 -0.064050  0.320469  0.861030\n",
              "5094   0.055304  0.884562 -0.276966\n",
              "78245 -0.143708  1.026059  1.291161"
            ]
          },
          "execution_count": 20,
          "metadata": {},
          "output_type": "execute_result"
        }
      ],
      "source": [
        "features_train_reg1.head()"
      ]
    },
    {
      "cell_type": "code",
      "execution_count": null,
      "metadata": {
        "id": "bIx2FRCFqEmZ"
      },
      "outputs": [],
      "source": [
        "features_train_reg2, features_valid_reg2, target_train_reg2, target_valid_reg2 = split_regions(data_reg2)"
      ]
    },
    {
      "cell_type": "code",
      "execution_count": null,
      "metadata": {
        "id": "dpDklEqGqEmZ",
        "outputId": "33b45cdc-68af-4f94-b19e-90312bc65c4f"
      },
      "outputs": [
        {
          "data": {
            "text/html": [
              "<div>\n",
              "<style scoped>\n",
              "    .dataframe tbody tr th:only-of-type {\n",
              "        vertical-align: middle;\n",
              "    }\n",
              "\n",
              "    .dataframe tbody tr th {\n",
              "        vertical-align: top;\n",
              "    }\n",
              "\n",
              "    .dataframe thead th {\n",
              "        text-align: right;\n",
              "    }\n",
              "</style>\n",
              "<table border=\"1\" class=\"dataframe\">\n",
              "  <thead>\n",
              "    <tr style=\"text-align: right;\">\n",
              "      <th></th>\n",
              "      <th>f0</th>\n",
              "      <th>f1</th>\n",
              "      <th>f2</th>\n",
              "    </tr>\n",
              "  </thead>\n",
              "  <tbody>\n",
              "    <tr>\n",
              "      <th>7866</th>\n",
              "      <td>18.819463</td>\n",
              "      <td>4.602079</td>\n",
              "      <td>2.996867</td>\n",
              "    </tr>\n",
              "    <tr>\n",
              "      <th>83619</th>\n",
              "      <td>-6.162089</td>\n",
              "      <td>4.048343</td>\n",
              "      <td>3.007117</td>\n",
              "    </tr>\n",
              "    <tr>\n",
              "      <th>45141</th>\n",
              "      <td>-9.062697</td>\n",
              "      <td>-1.046600</td>\n",
              "      <td>5.005842</td>\n",
              "    </tr>\n",
              "    <tr>\n",
              "      <th>35823</th>\n",
              "      <td>7.039176</td>\n",
              "      <td>5.176089</td>\n",
              "      <td>-0.000562</td>\n",
              "    </tr>\n",
              "    <tr>\n",
              "      <th>17773</th>\n",
              "      <td>17.019966</td>\n",
              "      <td>-6.441701</td>\n",
              "      <td>3.998933</td>\n",
              "    </tr>\n",
              "  </tbody>\n",
              "</table>\n",
              "</div>"
            ],
            "text/plain": [
              "              f0        f1        f2\n",
              "7866   18.819463  4.602079  2.996867\n",
              "83619  -6.162089  4.048343  3.007117\n",
              "45141  -9.062697 -1.046600  5.005842\n",
              "35823   7.039176  5.176089 -0.000562\n",
              "17773  17.019966 -6.441701  3.998933"
            ]
          },
          "execution_count": 22,
          "metadata": {},
          "output_type": "execute_result"
        }
      ],
      "source": [
        "features_train_reg2.head()"
      ]
    },
    {
      "cell_type": "code",
      "execution_count": null,
      "metadata": {
        "id": "rjGu1xxtqEmZ"
      },
      "outputs": [],
      "source": [
        "features_train_reg3, features_valid_reg3, target_train_reg3, target_valid_reg3 = split_regions(data_reg3)"
      ]
    },
    {
      "cell_type": "code",
      "execution_count": null,
      "metadata": {
        "id": "iXUYN1HpqEmZ"
      },
      "outputs": [],
      "source": [
        "def print_korr_split(features_train, target_train, features_valid, target_valid):\n",
        "    print(\"Обучающая выборка\", features_train.shape,target_train.shape)\n",
        "    print(\"Валидационная выборка\", features_valid.shape, target_valid.shape)"
      ]
    },
    {
      "cell_type": "code",
      "execution_count": null,
      "metadata": {
        "id": "tjdlhvrqqEmZ",
        "outputId": "b1fc4ea4-bed6-4fbe-b558-18f442dfcfcb"
      },
      "outputs": [
        {
          "name": "stdout",
          "output_type": "stream",
          "text": [
            "Обучающая выборка (74992, 3) (74992,)\n",
            "Валидационная выборка (24998, 3) (24998,)\n",
            "\n",
            "Обучающая выборка (74997, 3) (74997,)\n",
            "Валидационная выборка (24999, 3) (24999,)\n",
            "\n",
            "Обучающая выборка (74997, 3) (74997,)\n",
            "Валидационная выборка (24999, 3) (24999,)\n"
          ]
        }
      ],
      "source": [
        "#Выполним контроль корректности разбиения\n",
        "print_korr_split(features_train_reg1, target_train_reg1, features_valid_reg1, target_valid_reg1)\n",
        "print()\n",
        "print_korr_split(features_train_reg2, target_train_reg2, features_valid_reg2, target_valid_reg2)\n",
        "print()\n",
        "print_korr_split(features_train_reg3, target_train_reg3, features_valid_reg3, target_valid_reg3)"
      ]
    },
    {
      "cell_type": "code",
      "execution_count": null,
      "metadata": {
        "id": "Y7nGw3T2qEmZ",
        "outputId": "d52e3917-2f0c-4aaf-fd6d-549204266854"
      },
      "outputs": [
        {
          "data": {
            "text/html": [
              "<div>\n",
              "<style scoped>\n",
              "    .dataframe tbody tr th:only-of-type {\n",
              "        vertical-align: middle;\n",
              "    }\n",
              "\n",
              "    .dataframe tbody tr th {\n",
              "        vertical-align: top;\n",
              "    }\n",
              "\n",
              "    .dataframe thead th {\n",
              "        text-align: right;\n",
              "    }\n",
              "</style>\n",
              "<table border=\"1\" class=\"dataframe\">\n",
              "  <thead>\n",
              "    <tr style=\"text-align: right;\">\n",
              "      <th></th>\n",
              "      <th>f0</th>\n",
              "      <th>f1</th>\n",
              "      <th>f2</th>\n",
              "      <th>product</th>\n",
              "    </tr>\n",
              "  </thead>\n",
              "  <tbody>\n",
              "    <tr>\n",
              "      <th>0</th>\n",
              "      <td>0.705745</td>\n",
              "      <td>-0.497823</td>\n",
              "      <td>1.221170</td>\n",
              "      <td>105.280062</td>\n",
              "    </tr>\n",
              "    <tr>\n",
              "      <th>1</th>\n",
              "      <td>1.334711</td>\n",
              "      <td>-0.340164</td>\n",
              "      <td>4.365080</td>\n",
              "      <td>73.037750</td>\n",
              "    </tr>\n",
              "    <tr>\n",
              "      <th>2</th>\n",
              "      <td>1.022732</td>\n",
              "      <td>0.151990</td>\n",
              "      <td>1.419926</td>\n",
              "      <td>85.265647</td>\n",
              "    </tr>\n",
              "    <tr>\n",
              "      <th>3</th>\n",
              "      <td>-0.032172</td>\n",
              "      <td>0.139033</td>\n",
              "      <td>2.978566</td>\n",
              "      <td>168.620776</td>\n",
              "    </tr>\n",
              "    <tr>\n",
              "      <th>4</th>\n",
              "      <td>1.988431</td>\n",
              "      <td>0.155413</td>\n",
              "      <td>4.751769</td>\n",
              "      <td>154.036647</td>\n",
              "    </tr>\n",
              "  </tbody>\n",
              "</table>\n",
              "</div>"
            ],
            "text/plain": [
              "         f0        f1        f2     product\n",
              "0  0.705745 -0.497823  1.221170  105.280062\n",
              "1  1.334711 -0.340164  4.365080   73.037750\n",
              "2  1.022732  0.151990  1.419926   85.265647\n",
              "3 -0.032172  0.139033  2.978566  168.620776\n",
              "4  1.988431  0.155413  4.751769  154.036647"
            ]
          },
          "execution_count": 26,
          "metadata": {},
          "output_type": "execute_result"
        }
      ],
      "source": [
        "data_reg1.head()"
      ]
    },
    {
      "cell_type": "markdown",
      "metadata": {
        "id": "YqG20ClqqEmZ"
      },
      "source": [
        "**Масштабирование выполнять не надо. Данные вполне сопоставимы.**\n",
        "\n",
        "Обучим модель линейной регрессии на тренировочной выборке. И выполним предсказания на валидационной выборке. Посчитаем значения метрик, в каждом регионе. Для этого напишем сответствующую функцию."
      ]
    },
    {
      "cell_type": "code",
      "execution_count": null,
      "metadata": {
        "id": "dAUHPzN0qEma"
      },
      "outputs": [],
      "source": [
        "def metrics_model(feature_train, target_train, feature_valid, target_valid):\n",
        "    model = LinearRegression()\n",
        "    model.fit(feature_train, target_train)\n",
        "\n",
        "    predictions_valid = model.predict(feature_valid)\n",
        "\n",
        "    #Предсказанные данные для региона в Series\n",
        "    predictions_valid_df = pd.Series(predictions_valid)\n",
        "\n",
        "    result = mean_squared_error(target_valid, predictions_valid)\n",
        "\n",
        "    print(\"R2 =\", r2_score(target_valid, predictions_valid))\n",
        "    print(\"RMSE на валидационной выборке:\", result**0.5)\n",
        "    print(\"MSE на валидационной выборке:\", result)\n",
        "    print(\"MAE  на валидационной выборке:\", mean_absolute_error(target_valid, predictions_valid))\n",
        "\n",
        "    return predictions_valid_df\n",
        ""
      ]
    },
    {
      "cell_type": "code",
      "execution_count": null,
      "metadata": {
        "id": "d1wIBULoqEma",
        "outputId": "1e403c01-2710-4c23-9495-6656a910e0cb"
      },
      "outputs": [
        {
          "name": "stdout",
          "output_type": "stream",
          "text": [
            "R2 = 0.2723923460817068\n",
            "RMSE на валидационной выборке: 37.853527328872964\n",
            "MSE на валидационной выборке: 1432.8895312377324\n",
            "MAE  на валидационной выборке: 31.141028675220266\n",
            "Средний предсказанный запас на 1 скважину по первому региону: 92.78915638280621\n"
          ]
        }
      ],
      "source": [
        "#Для первого региона\n",
        "predictions_valid_reg1 = metrics_model(features_train_reg1, target_train_reg1, features_valid_reg1, target_valid_reg1)\n",
        "\n",
        "print(\"Средний предсказанный запас на 1 скважину по первому региону:\",predictions_valid_reg1.mean())"
      ]
    },
    {
      "cell_type": "code",
      "execution_count": null,
      "metadata": {
        "id": "l0XN4ZXVqEma",
        "outputId": "088bffe8-5261-4d46-ea17-67af40d22af3"
      },
      "outputs": [
        {
          "name": "stdout",
          "output_type": "stream",
          "text": [
            "R2 = 0.9996222988190184\n",
            "RMSE на валидационной выборке: 0.892059264771703\n",
            "MSE на валидационной выборке: 0.7957697318650314\n",
            "MAE  на валидационной выборке: 0.7193530096516099\n",
            "Средний предсказанный запас на 1 скважину по второму региону: 69.17831957030432\n"
          ]
        }
      ],
      "source": [
        "#Для второго региона\n",
        "predictions_valid_reg2 = metrics_model(features_train_reg2, target_train_reg2, features_valid_reg2, target_valid_reg2)\n",
        "\n",
        "print(\"Средний предсказанный запас на 1 скважину по второму региону:\",predictions_valid_reg2.mean())"
      ]
    },
    {
      "cell_type": "code",
      "execution_count": null,
      "metadata": {
        "id": "fEeoBbH9qEma",
        "outputId": "23e577cd-0f1c-41e6-ade6-7cfd86d10c57"
      },
      "outputs": [
        {
          "name": "stdout",
          "output_type": "stream",
          "text": [
            "R2 = 0.19556241810202346\n",
            "RMSE на валидационной выборке: 40.07585073246016\n",
            "MSE на валидационной выборке: 1606.0738119304278\n",
            "MAE  на валидационной выборке: 32.83139014902301\n",
            "Средний предсказанный запас на 1 скважину по третьему региону: 94.86572480562035\n"
          ]
        }
      ],
      "source": [
        "#Для третьего региона\n",
        "predictions_valid_reg3 = metrics_model(features_train_reg3, target_train_reg3, features_valid_reg3, target_valid_reg3)\n",
        "\n",
        "print(\"Средний предсказанный запас на 1 скважину по третьему региону:\",predictions_valid_reg3.mean())"
      ]
    },
    {
      "cell_type": "markdown",
      "metadata": {
        "id": "GyoV-sKYqEmb"
      },
      "source": [
        "**Для второго региона значение метрики лучше всего.**\n",
        "\n",
        "**Предсказания для регионов**"
      ]
    },
    {
      "cell_type": "code",
      "execution_count": null,
      "metadata": {
        "id": "_kooeHyBqEmc",
        "outputId": "a83a394e-0e47-45e1-923f-1e713d09a6b0"
      },
      "outputs": [
        {
          "name": "stdout",
          "output_type": "stream",
          "text": [
            "Предсказания для региона № 1 \n",
            "\n",
            " 0        103.950372\n",
            "1         73.687869\n",
            "2        101.015288\n",
            "3         94.048415\n",
            "4         87.559552\n",
            "            ...    \n",
            "24993     63.963223\n",
            "24994    139.862730\n",
            "24995     78.444653\n",
            "24996     71.082768\n",
            "24997     66.054854\n",
            "Length: 24998, dtype: float64 \n",
            "\n",
            "Предсказания для региона № 2 \n",
            "\n",
            " 0         53.407255\n",
            "1        137.863458\n",
            "2         29.745003\n",
            "3         83.188229\n",
            "4          1.242101\n",
            "            ...    \n",
            "24994    110.688350\n",
            "24995     81.716127\n",
            "24996     54.611428\n",
            "24997    107.578737\n",
            "24998      1.969338\n",
            "Length: 24999, dtype: float64 \n",
            "\n",
            "Предсказания для региона № 3 \n",
            "\n",
            " 0         76.457565\n",
            "1        109.417094\n",
            "2         89.922620\n",
            "3         83.701818\n",
            "4         86.761173\n",
            "            ...    \n",
            "24994     95.591732\n",
            "24995    112.126588\n",
            "24996     62.367249\n",
            "24997    114.190814\n",
            "24998     86.998804\n",
            "Length: 24999, dtype: float64 \n",
            "\n"
          ]
        }
      ],
      "source": [
        "predict_regs = [predictions_valid_reg1, predictions_valid_reg2, predictions_valid_reg3]\n",
        "i = 1\n",
        "for reg in predict_regs:\n",
        "    print(\"Предсказания для региона №\",i,\"\\n\\n\",reg,\"\\n\")\n",
        "    i+=1"
      ]
    },
    {
      "cell_type": "markdown",
      "metadata": {
        "id": "gh6pDM2-qEmc"
      },
      "source": [
        "Посчитаем количество ответов в выборках по регионам, чтобы убедиться, что дисбаланса нет. Хотя уже и так понятно, что его нет."
      ]
    },
    {
      "cell_type": "code",
      "execution_count": null,
      "metadata": {
        "id": "8pCBAG7IqEmc"
      },
      "outputs": [],
      "source": [
        "def answer_models(features_train, target_train, features_valid, target_valid):\n",
        "    model = LinearRegression()\n",
        "    model.fit(features_train, target_train)\n",
        "    predictions_valid = model.predict(features_valid)\n",
        "\n",
        "    LnR_series = pd.Series(model.predict(features_valid)).value_counts(normalize = 1)\n",
        "\n",
        "    print(f\"Количество ответов:\\n{LnR_series}\" , end='\\n')\n",
        "    print()\n",
        ""
      ]
    },
    {
      "cell_type": "code",
      "execution_count": null,
      "metadata": {
        "id": "VK06IsUJqEmd",
        "outputId": "93cd1f69-940d-4a9d-eeda-be371b9c97b4"
      },
      "outputs": [
        {
          "name": "stdout",
          "output_type": "stream",
          "text": [
            "Количество ответов:\n",
            "65.124711     0.00004\n",
            "105.632899    0.00004\n",
            "76.256135     0.00004\n",
            "99.988687     0.00004\n",
            "107.980005    0.00004\n",
            "               ...   \n",
            "63.088476     0.00004\n",
            "97.589573     0.00004\n",
            "72.145669     0.00004\n",
            "72.045439     0.00004\n",
            "89.282138     0.00004\n",
            "Length: 24998, dtype: float64\n",
            "\n"
          ]
        }
      ],
      "source": [
        "answer_models(features_train_reg1, target_train_reg1, features_valid_reg1, target_valid_reg1)"
      ]
    },
    {
      "cell_type": "code",
      "execution_count": null,
      "metadata": {
        "id": "iosEDSmqqEmd",
        "outputId": "305170e8-3da8-4855-9ac6-bfd0c97c5e2a"
      },
      "outputs": [
        {
          "name": "stdout",
          "output_type": "stream",
          "text": [
            "Количество ответов:\n",
            "56.236503     0.00004\n",
            "112.080498    0.00004\n",
            "109.686071    0.00004\n",
            "80.046232     0.00004\n",
            "80.913687     0.00004\n",
            "               ...   \n",
            "79.966338     0.00004\n",
            "83.995824     0.00004\n",
            "56.838305     0.00004\n",
            "83.730566     0.00004\n",
            "84.316554     0.00004\n",
            "Length: 24999, dtype: float64\n",
            "\n"
          ]
        }
      ],
      "source": [
        "answer_models(features_train_reg2, target_train_reg2, features_valid_reg2, target_valid_reg2)"
      ]
    },
    {
      "cell_type": "code",
      "execution_count": null,
      "metadata": {
        "id": "qPwWKqrJqEmd",
        "outputId": "2c8eafdb-7b9e-4a92-c8c6-206388506e65"
      },
      "outputs": [
        {
          "name": "stdout",
          "output_type": "stream",
          "text": [
            "Количество ответов:\n",
            "78.656628     0.00004\n",
            "96.176836     0.00004\n",
            "74.041804     0.00004\n",
            "134.235033    0.00004\n",
            "55.237878     0.00004\n",
            "               ...   \n",
            "110.461921    0.00004\n",
            "89.421475     0.00004\n",
            "73.738149     0.00004\n",
            "61.159288     0.00004\n",
            "61.110891     0.00004\n",
            "Length: 24999, dtype: float64\n",
            "\n"
          ]
        }
      ],
      "source": [
        "answer_models(features_train_reg3, target_train_reg3, features_valid_reg3, target_valid_reg3)"
      ]
    },
    {
      "cell_type": "markdown",
      "metadata": {
        "id": "1jF0334eqEmd"
      },
      "source": [
        "**Дисбаланс не наблюдается.**\n",
        "\n",
        "Сравним предсказанные данные с реальными"
      ]
    },
    {
      "cell_type": "code",
      "execution_count": null,
      "metadata": {
        "id": "fcQIFN1OqEme"
      },
      "outputs": [],
      "source": [
        "def predict_real_data(target_data, predict_data):\n",
        "    data_predict_real = pd.concat([target_data.reset_index(drop=True), pd.DataFrame(predict_data)], axis = 1)\n",
        "    data_predict_real.columns = ['real', 'predict']\n",
        "    print(data_predict_real.head(10))"
      ]
    },
    {
      "cell_type": "code",
      "execution_count": null,
      "metadata": {
        "id": "INjGkjz5qEme",
        "outputId": "5777839f-5f7a-40ab-ea4d-e30fa4058bb6"
      },
      "outputs": [
        {
          "name": "stdout",
          "output_type": "stream",
          "text": [
            "Регион №1\n",
            "         real     predict\n",
            "0  123.566299  103.950372\n",
            "1   63.442039   73.687869\n",
            "2   88.718000  101.015288\n",
            "3   51.422060   94.048415\n",
            "4  102.569999   87.559552\n",
            "5   36.308374   64.885772\n",
            "6   69.669767  121.873997\n",
            "7  136.730952   82.137868\n",
            "8   29.091859   85.330138\n",
            "9  126.004696   96.607296\n"
          ]
        }
      ],
      "source": [
        "print(\"Регион №1\")\n",
        "predict_real_data(target_valid_reg1, predictions_valid_reg1)"
      ]
    },
    {
      "cell_type": "code",
      "execution_count": null,
      "metadata": {
        "id": "uSNH8-1UqEme",
        "outputId": "3eb8deb2-93b7-41b7-e12d-48b7a86354cc"
      },
      "outputs": [
        {
          "name": "stdout",
          "output_type": "stream",
          "text": [
            "Регион №2\n",
            "         real     predict\n",
            "0   53.906522   53.407255\n",
            "1  137.945408  137.863458\n",
            "2   30.132364   29.745003\n",
            "3   84.038886   83.188229\n",
            "4    0.000000    1.242101\n",
            "5  110.992147  111.433035\n",
            "6  137.945408  137.129669\n",
            "7  134.766305  135.126301\n",
            "8   84.038886   83.083272\n",
            "9    3.179103    2.505282\n"
          ]
        }
      ],
      "source": [
        "print(\"Регион №2\")\n",
        "predict_real_data(target_valid_reg2, predictions_valid_reg2)"
      ]
    },
    {
      "cell_type": "code",
      "execution_count": null,
      "metadata": {
        "id": "mzVlgN-xqEmf",
        "outputId": "37d0553d-c602-4273-c922-87c333fb3c6e"
      },
      "outputs": [
        {
          "name": "stdout",
          "output_type": "stream",
          "text": [
            "Регион №3\n",
            "         real     predict\n",
            "0   97.651721   76.457565\n",
            "1   66.640660  109.417094\n",
            "2   57.776581   89.922620\n",
            "3   35.055066   83.701818\n",
            "4   82.047594   86.761173\n",
            "5  105.904629  122.198051\n",
            "6   51.646180  119.305740\n",
            "7  155.098655  108.019369\n",
            "8  139.820559   97.141514\n",
            "9   16.230778   97.781075\n"
          ]
        }
      ],
      "source": [
        "print(\"Регион №3\")\n",
        "predict_real_data(target_valid_reg3, predictions_valid_reg3)"
      ]
    },
    {
      "cell_type": "markdown",
      "metadata": {
        "id": "4KI_ZvdTqEmf"
      },
      "source": [
        "**Снова регион №2 показывает лучшие результаты. Получается, что регион №2 - самый \"подозрительный\" на \"лучшесть\". Он выбивается по показателям от двух других - по метрикам, по корреляции, визуально. И модель предскавает данные во втором регионе точнее.**\n",
        "\n",
        "\n",
        "Тем не менее, без расчета перспективной прибыли никуда."
      ]
    },
    {
      "cell_type": "markdown",
      "metadata": {
        "id": "uF-O7HiOqEmf"
      },
      "source": [
        "## Подготовка к расчёту прибыли"
      ]
    },
    {
      "cell_type": "markdown",
      "metadata": {
        "id": "m5sr18wvqEmf"
      },
      "source": [
        "**Условия задачи:**\n",
        "\n",
        "- При разведке региона исследуют 500 точек, из которых с помощью машинного обучения выбирают 200 лучших для разработки.\n",
        "- Бюджет на разработку скважин в регионе — 10 млрд рублей.\n",
        "- При нынешних ценах один баррель сырья приносит 450 рублей дохода. Доход с каждой единицы продукта составляет 450 тыс. рублей, поскольку объём указан в тысячах баррелей.\n",
        "- После оценки рисков нужно оставить лишь те регионы, в которых вероятность убытков меньше 2.5%. Среди них выбирают регион с наибольшей средней прибылью.\n",
        "- Данные синтетические: детали контрактов и характеристики месторождений не разглашаются."
      ]
    },
    {
      "cell_type": "markdown",
      "metadata": {
        "id": "avc5WtZSqEmg"
      },
      "source": [
        "**Рассчитаем достаточный объём сырья для безубыточной разработки новой скважины. Сравним полученный объём сырья со средним запасом в каждом регионе.**\n",
        "\n",
        "\n",
        "**Для всех ключевых значений создадим константы**"
      ]
    },
    {
      "cell_type": "code",
      "execution_count": null,
      "metadata": {
        "id": "INPt7hhgqEmg"
      },
      "outputs": [],
      "source": [
        "budzhet = 10**10 # Общий бюджет на разработку\n",
        "one_unit_price = 450_000 # Доход с каждой 1000 баррелей составляет 450 тыс. рублей\n",
        "points500 = 500 # Количество исследуемых точек\n",
        "points200 = 200 # Количество лучших точек для разработки\n",
        "barrel = 450 # стоимость 1 барреля"
      ]
    },
    {
      "cell_type": "markdown",
      "metadata": {
        "id": "JMYj78BKqEmg"
      },
      "source": [
        "**Посчитаем минимальное среднее количество продукта в месторождениях региона, достаточное для разработки**"
      ]
    },
    {
      "cell_type": "code",
      "execution_count": null,
      "metadata": {
        "id": "fpF_HSQvqEmg",
        "outputId": "a2ed0d70-26b7-4c15-b849-9a9820edb96d"
      },
      "outputs": [
        {
          "name": "stdout",
          "output_type": "stream",
          "text": [
            "Средняя безубыточная окупаемость разработки новой скважины (при 200) -  50000000.0\n",
            "Средний безубыточный объем с одной скважины -  111.11111111111111\n",
            "Средний безубыточный объем на регион -  22222.222222222223\n"
          ]
        }
      ],
      "source": [
        "average_cost_one = budzhet / points200\n",
        "print(\"Средняя безубыточная окупаемость разработки новой скважины (при 200) - \", average_cost_one)\n",
        "\n",
        "average_volume_one = average_cost_one / one_unit_price\n",
        "print(\"Средний безубыточный объем с одной скважины - \", average_volume_one)\n",
        "\n",
        "average_volume_region = budzhet / one_unit_price\n",
        "print(\"Средний безубыточный объем на регион - \", average_volume_region)\n"
      ]
    },
    {
      "cell_type": "code",
      "execution_count": null,
      "metadata": {
        "id": "sPw2vsaTqEmh",
        "outputId": "6dcf30c8-75bc-42ac-da23-84fa9ae4852d"
      },
      "outputs": [
        {
          "name": "stdout",
          "output_type": "stream",
          "text": [
            "Средний предсказанный запас на 1 скважину по первому региону: 92.78915638280621\n",
            "Средний предсказанный запас на 1 скважину по второму региону: 69.17831957030432\n",
            "Средний предсказанный запас на 1 скважину по третьему региону: 94.86572480562035\n"
          ]
        }
      ],
      "source": [
        "print(\"Средний предсказанный запас на 1 скважину по первому региону:\",predictions_valid_reg1.mean())\n",
        "print(\"Средний предсказанный запас на 1 скважину по второму региону:\",predictions_valid_reg2.mean())\n",
        "print(\"Средний предсказанный запас на 1 скважину по третьему региону:\",predictions_valid_reg3.mean())"
      ]
    },
    {
      "cell_type": "code",
      "execution_count": null,
      "metadata": {
        "id": "oFK8hfK9qEmh"
      },
      "outputs": [],
      "source": [
        "def sub_aver(reg, i):\n",
        "    print(f\"Регион №{i} |{round(reg,3)} | {round((reg - average_volume_one),3)}|\")"
      ]
    },
    {
      "cell_type": "code",
      "execution_count": null,
      "metadata": {
        "id": "F_zk1nYUqEmh",
        "outputId": "9aa0b315-b679-4405-d56c-1def06b13cad"
      },
      "outputs": [
        {
          "name": "stdout",
          "output_type": "stream",
          "text": [
            "Сравнение полученных и реальных средних по регионам\n",
            "\t  прогноз  разница\n",
            "____________________________\n",
            "Регион №1 |92.789 | -18.322|\n",
            "Регион №2 |69.178 | -41.933|\n",
            "Регион №3 |94.866 | -16.245|\n",
            "____________________________\n"
          ]
        }
      ],
      "source": [
        "print(\"Сравнение полученных и реальных средних по регионам\")\n",
        "print(\"\\t  прогноз  разница\")\n",
        "print(\"____________________________\")\n",
        "sub_aver(predictions_valid_reg1.mean(),1)\n",
        "sub_aver(predictions_valid_reg2.mean(),2)\n",
        "sub_aver(predictions_valid_reg3.mean(),3)\n",
        "print(\"____________________________\")\n"
      ]
    },
    {
      "cell_type": "markdown",
      "metadata": {
        "id": "V-55PIFzqEmi"
      },
      "source": [
        "**Получается, что предсказанные запасы во всех трех регионах не позволяют полностью сразу окупить бюджет. Так ситуация выглядит по средним. Средний запас на 1 скважину во всех трех регионах меньше рассчитанного безубыточного объема. Причем, в первом и третьем эта разница значительно меньше, чем во втором.**\n",
        "\n"
      ]
    },
    {
      "cell_type": "markdown",
      "metadata": {
        "id": "DJfHiCxUqEmi"
      },
      "source": [
        "## Расчёт прибыли и рисков"
      ]
    },
    {
      "cell_type": "code",
      "execution_count": null,
      "metadata": {
        "id": "-_mUCm2NqEmi"
      },
      "outputs": [],
      "source": [
        "def series_type(target, pred):\n",
        "    target = target.reset_index(drop=True)\n",
        "    pred = pd.Series(pred)\n",
        "    return target, pred"
      ]
    },
    {
      "cell_type": "code",
      "execution_count": null,
      "metadata": {
        "id": "aFiy-KYyqEmj"
      },
      "outputs": [],
      "source": [
        "target_valid_reg1 ,predictions_valid_reg1 = series_type(target_valid_reg1 ,predictions_valid_reg1)\n",
        "target_valid_reg2 ,predictions_valid_reg2 = series_type(target_valid_reg2 ,predictions_valid_reg2)\n",
        "target_valid_reg3 ,predictions_valid_reg3 = series_type(target_valid_reg3,predictions_valid_reg3)"
      ]
    },
    {
      "cell_type": "markdown",
      "metadata": {
        "id": "CiETmWp7qEmj"
      },
      "source": [
        "Функция revenue() подсчитывает и возвращает выручку."
      ]
    },
    {
      "cell_type": "code",
      "execution_count": null,
      "metadata": {
        "id": "9ZJmh-DKqEmj"
      },
      "outputs": [],
      "source": [
        "def revenue(target, probabilities, count):\n",
        "    probs_sorted = pd.Series(probabilities).sort_values(ascending=False)\n",
        "    selected = target[probs_sorted.index][:count]\n",
        "    return round(one_unit_price * selected.sum() - budzhet,3)"
      ]
    },
    {
      "cell_type": "code",
      "execution_count": null,
      "metadata": {
        "id": "XwF1spd3qEmj",
        "outputId": "8281a70b-d1a2-4e47-9ceb-5c53fd802d93"
      },
      "outputs": [
        {
          "name": "stdout",
          "output_type": "stream",
          "text": [
            "Регион №1 22498449585.5\n",
            "Регион №2 21037716741.704\n",
            "Регион №3 20550987726.9\n"
          ]
        }
      ],
      "source": [
        "print(\"Регион №1\", revenue(target_valid_reg1 ,predictions_valid_reg1,500))\n",
        "print(\"Регион №2\",revenue(target_valid_reg2 ,predictions_valid_reg2,500))\n",
        "print(\"Регион №3\",revenue(target_valid_reg3 ,predictions_valid_reg3,500))"
      ]
    },
    {
      "cell_type": "markdown",
      "metadata": {
        "id": "mRYmAyI-qEmk"
      },
      "source": [
        "Проведем поцедуру Bootstrap и посчитаем прибыль и риски."
      ]
    },
    {
      "cell_type": "code",
      "execution_count": null,
      "metadata": {
        "id": "ymFT_CEqqEmk"
      },
      "outputs": [],
      "source": [
        "def bootstrap_regions(target, predicted):\n",
        "    state = np.random.RandomState(12345)\n",
        "    values = []\n",
        "    for i in range(1000):\n",
        "        target_subsample = target.sample(n = 500, replace=True, random_state=state)\n",
        "\n",
        "        pred_subsumple = predicted[target_subsample.index]\n",
        "\n",
        "        values.append(revenue(target_subsample, pred_subsumple, 200))\n",
        "\n",
        "    values = pd.Series(values)\n",
        "    values_mean = values.mean()\n",
        "    lower = values.quantile(q=0.025)\n",
        "    upper = values.quantile(q=0.975)\n",
        "    risk = len(values[values < 0]) / len(values) * 100\n",
        "    out = f\"прогноз.средн.прибыль: {round(values_mean,3)}, доверительный интервал:({round(lower,3)}, {round(upper,3)})\"\n",
        "    return f\"{out}, риск убытков: {round(risk,3)} %\""
      ]
    },
    {
      "cell_type": "code",
      "execution_count": null,
      "metadata": {
        "id": "Pk5m4jKTqEmk",
        "outputId": "a73594ec-a09c-42c4-9e22-8d720f20e39a"
      },
      "outputs": [
        {
          "name": "stdout",
          "output_type": "stream",
          "text": [
            "Регион №1: прогноз.средн.прибыль: 409428038.621, доверительный интервал:(-131536028.702, 944395582.755), риск убытков: 7.1 %\n",
            "Регион №2: прогноз.средн.прибыль: 536902587.487, доверительный интервал:(114527902.902, 970787910.995), риск убытков: 0.9 %\n",
            "Регион №3: прогноз.средн.прибыль: 353790362.731, доверительный интервал:(-159194031.191, 875652502.871), риск убытков: 10.2 %\n"
          ]
        }
      ],
      "source": [
        "print(\"Регион №1:\", bootstrap_regions(target_valid_reg1, predictions_valid_reg1))\n",
        "print(\"Регион №2:\", bootstrap_regions(target_valid_reg2, predictions_valid_reg2))\n",
        "print(\"Регион №3:\", bootstrap_regions(target_valid_reg3, predictions_valid_reg3))"
      ]
    },
    {
      "cell_type": "markdown",
      "metadata": {
        "id": "DksJiYenqEmk"
      },
      "source": [
        "**Вывод**\n",
        "\n",
        "В ходе исследования выполнена предобработка данных:\n",
        "- устранены дубликаты;\n",
        "- проверены на наличие пропусков\n",
        "- проверены типы данных\n",
        "\n",
        "Выявлено:\n",
        "- корреляция между признаками и целевым признаком. Оказалось, что признак  f2 сильно влияет на целевой признак,  влияние двух других незначительное.\n",
        "- выявлено особенно сильная зависимость во втором регионе.\n",
        "- второй регион сразу же явно выделяется из всех трех.\n",
        "\n",
        "Данные по всем трем регионам разбиты на две выборки – обучающую и валидационную.\n",
        "Построены модели линейной регрессии по всем трем регионам, модели обучены. На валидационных данных сделаны предсказания.\n",
        "Данные предсказаний сравниваются с целевыми значениями на валидации. И снова самые близкие значения по второму региону.\n",
        "\n",
        "Посчитаны метрики MSE, RMSE, MAE, R2 по всем трем регионам.  Значения метрик по второму региону самые лучшие в сравнении с двумя другими:\n",
        "- R2 = 0.9996222988190184\n",
        "- RMSE на валидационной выборке: 0.892059264771703\n",
        "- MSE на валидационной выборке: 0.7957697318650314\n",
        "- MAE  на валидационной выборке: 0.7193530096516099\n",
        "\n",
        "По всем трем регионам посчитаны средние показатели запаса на скважину. При расчете безубыточной прибыли оказалось, что средние значения запасов на 1 скважину во всех трех регионах не достаточны.\n",
        "Средний безубыточный объем с одной скважины -  111.11111111111111\n",
        "\n",
        "Тогда как\n",
        "\n",
        "- Средний предсказанный запас на 1 скважину по первому региону: 92.78915638280621\n",
        "- Средний предсказанный запас на 1 скважину по второму региону: 69.17831957030432\n",
        "- Средний предсказанный запас на 1 скважину по третьему региону: 94.86572480562035\n",
        "\n",
        "Тем не менее, при отборе лучших скважин, возможно эти значения поменяются. Для этого проводилась техника бутстреп, которая показала следующие значения:\n",
        "- Регион №1: прогноз.средн.прибыль: 409428038.621, доверительный интервал:(-131536028.702, 944395582.755), риск убытков: 7.1 %\n",
        "- Регион №2: прогноз.средн.прибыль: 536902587.487, доверительный интервал:(114527902.902, 970787910.995), риск убытков: 0.9 %\n",
        "- Регион №3: прогноз.средн.прибыль: 353790362.731, доверительный интервал:(-159194031.191, 875652502.871), риск убытков: 10.2 %\n",
        "\n",
        "Таким образом,\n",
        "\n",
        "**исследование показало, что наиболее перспективным для разработок является Регион №2.**\n",
        "- В нем наблюдается высокая корреляция между признаков f2 и целевым признаком.<br/>\n",
        "- Предсказания по второму региону получились самыми точными.<br/>\n",
        "- Бутстреп показал самую высокую среднюю прибыль и самые низкие риски убытков.\n",
        "\n",
        "\n",
        "\n",
        "\n",
        "\n",
        "\n",
        "\n",
        "\n",
        "\n"
      ]
    }
  ],
  "metadata": {
    "ExecuteTimeLog": [
      {
        "duration": 319,
        "start_time": "2023-04-30T04:45:12.749Z"
      },
      {
        "duration": 56,
        "start_time": "2023-04-30T04:47:07.434Z"
      },
      {
        "duration": 1494,
        "start_time": "2023-04-30T04:47:24.434Z"
      },
      {
        "duration": 6,
        "start_time": "2023-04-30T04:47:37.482Z"
      },
      {
        "duration": 14,
        "start_time": "2023-04-30T04:47:45.490Z"
      },
      {
        "duration": 8,
        "start_time": "2023-04-30T04:48:02.282Z"
      },
      {
        "duration": 8,
        "start_time": "2023-04-30T04:48:14.339Z"
      },
      {
        "duration": 14,
        "start_time": "2023-04-30T04:48:31.675Z"
      },
      {
        "duration": 12,
        "start_time": "2023-04-30T04:55:32.557Z"
      },
      {
        "duration": 10,
        "start_time": "2023-04-30T04:56:16.280Z"
      },
      {
        "duration": 7,
        "start_time": "2023-04-30T04:57:04.528Z"
      },
      {
        "duration": 7,
        "start_time": "2023-04-30T04:57:22.264Z"
      },
      {
        "duration": 3,
        "start_time": "2023-04-30T04:57:29.992Z"
      },
      {
        "duration": 7,
        "start_time": "2023-04-30T04:57:36.712Z"
      },
      {
        "duration": 10,
        "start_time": "2023-04-30T04:57:57.652Z"
      },
      {
        "duration": 30,
        "start_time": "2023-04-30T04:58:38.089Z"
      },
      {
        "duration": 3,
        "start_time": "2023-04-30T04:59:17.410Z"
      },
      {
        "duration": 3,
        "start_time": "2023-04-30T04:59:26.505Z"
      },
      {
        "duration": 9,
        "start_time": "2023-04-30T04:59:50.681Z"
      },
      {
        "duration": 17,
        "start_time": "2023-04-30T05:00:19.450Z"
      },
      {
        "duration": 11,
        "start_time": "2023-04-30T05:10:33.143Z"
      },
      {
        "duration": 11,
        "start_time": "2023-04-30T05:11:16.552Z"
      },
      {
        "duration": 12,
        "start_time": "2023-04-30T05:11:57.983Z"
      },
      {
        "duration": 4,
        "start_time": "2023-04-30T05:15:42.578Z"
      },
      {
        "duration": 7,
        "start_time": "2023-04-30T05:19:17.772Z"
      },
      {
        "duration": 643,
        "start_time": "2023-04-30T05:20:08.316Z"
      },
      {
        "duration": 43,
        "start_time": "2023-04-30T05:20:14.964Z"
      },
      {
        "duration": 31,
        "start_time": "2023-04-30T05:21:03.694Z"
      },
      {
        "duration": 29,
        "start_time": "2023-04-30T05:22:19.966Z"
      },
      {
        "duration": 19,
        "start_time": "2023-04-30T05:23:29.687Z"
      },
      {
        "duration": 7,
        "start_time": "2023-04-30T05:23:43.750Z"
      },
      {
        "duration": 91,
        "start_time": "2023-04-30T05:23:45.582Z"
      },
      {
        "duration": 33,
        "start_time": "2023-04-30T05:23:51.349Z"
      },
      {
        "duration": 15,
        "start_time": "2023-04-30T05:23:58.212Z"
      },
      {
        "duration": 76,
        "start_time": "2023-04-30T05:24:51.119Z"
      },
      {
        "duration": 27,
        "start_time": "2023-04-30T05:24:56.905Z"
      },
      {
        "duration": 14,
        "start_time": "2023-04-30T05:25:37.744Z"
      },
      {
        "duration": 6,
        "start_time": "2023-04-30T05:25:59.901Z"
      },
      {
        "duration": 4,
        "start_time": "2023-04-30T05:27:43.776Z"
      },
      {
        "duration": 1222,
        "start_time": "2023-04-30T05:28:58.665Z"
      },
      {
        "duration": 6,
        "start_time": "2023-04-30T05:29:16.203Z"
      },
      {
        "duration": 5,
        "start_time": "2023-04-30T05:29:32.825Z"
      },
      {
        "duration": 4,
        "start_time": "2023-04-30T05:29:39.801Z"
      },
      {
        "duration": 10,
        "start_time": "2023-04-30T05:31:06.890Z"
      },
      {
        "duration": 6,
        "start_time": "2023-04-30T05:39:12.545Z"
      },
      {
        "duration": 13,
        "start_time": "2023-04-30T05:39:37.806Z"
      },
      {
        "duration": 4,
        "start_time": "2023-04-30T05:39:56.830Z"
      },
      {
        "duration": 6,
        "start_time": "2023-04-30T05:40:39.343Z"
      },
      {
        "duration": 15,
        "start_time": "2023-04-30T05:40:40.854Z"
      },
      {
        "duration": 4,
        "start_time": "2023-04-30T05:40:54.855Z"
      },
      {
        "duration": 20,
        "start_time": "2023-04-30T05:44:30.871Z"
      },
      {
        "duration": 4,
        "start_time": "2023-04-30T05:45:43.747Z"
      },
      {
        "duration": 11,
        "start_time": "2023-04-30T05:46:51.769Z"
      },
      {
        "duration": 13,
        "start_time": "2023-04-30T05:46:59.547Z"
      },
      {
        "duration": 3,
        "start_time": "2023-04-30T05:47:24.850Z"
      },
      {
        "duration": 11,
        "start_time": "2023-04-30T05:47:27.187Z"
      },
      {
        "duration": 3,
        "start_time": "2023-04-30T05:47:43.475Z"
      },
      {
        "duration": 53,
        "start_time": "2023-04-30T05:47:45.043Z"
      },
      {
        "duration": 3,
        "start_time": "2023-04-30T05:48:16.923Z"
      },
      {
        "duration": 3,
        "start_time": "2023-04-30T05:48:23.603Z"
      },
      {
        "duration": 11,
        "start_time": "2023-04-30T05:48:24.291Z"
      },
      {
        "duration": 3,
        "start_time": "2023-04-30T05:52:41.674Z"
      },
      {
        "duration": 12,
        "start_time": "2023-04-30T05:52:42.381Z"
      },
      {
        "duration": 12,
        "start_time": "2023-04-30T05:53:39.358Z"
      },
      {
        "duration": 13,
        "start_time": "2023-04-30T05:54:06.472Z"
      },
      {
        "duration": 4,
        "start_time": "2023-04-30T06:00:01.071Z"
      },
      {
        "duration": 54,
        "start_time": "2023-04-30T06:00:01.641Z"
      },
      {
        "duration": 3,
        "start_time": "2023-04-30T06:00:17.402Z"
      },
      {
        "duration": 3,
        "start_time": "2023-04-30T06:00:23.689Z"
      },
      {
        "duration": 28,
        "start_time": "2023-04-30T06:00:24.282Z"
      },
      {
        "duration": 4,
        "start_time": "2023-04-30T06:00:35.113Z"
      },
      {
        "duration": 21,
        "start_time": "2023-04-30T06:00:35.722Z"
      },
      {
        "duration": 3,
        "start_time": "2023-04-30T06:01:12.467Z"
      },
      {
        "duration": 12,
        "start_time": "2023-04-30T06:01:13.034Z"
      },
      {
        "duration": 13,
        "start_time": "2023-04-30T06:01:17.522Z"
      },
      {
        "duration": 14,
        "start_time": "2023-04-30T06:01:18.410Z"
      },
      {
        "duration": 4,
        "start_time": "2023-04-30T06:04:11.091Z"
      },
      {
        "duration": 125,
        "start_time": "2023-04-30T06:04:11.771Z"
      },
      {
        "duration": 3,
        "start_time": "2023-04-30T06:04:41.052Z"
      },
      {
        "duration": 4,
        "start_time": "2023-04-30T06:04:49.207Z"
      },
      {
        "duration": 14,
        "start_time": "2023-04-30T06:04:52.028Z"
      },
      {
        "duration": 5,
        "start_time": "2023-04-30T06:05:17.492Z"
      },
      {
        "duration": 21,
        "start_time": "2023-04-30T06:05:18.005Z"
      },
      {
        "duration": 16,
        "start_time": "2023-04-30T06:05:19.100Z"
      },
      {
        "duration": 15,
        "start_time": "2023-04-30T06:05:19.797Z"
      },
      {
        "duration": 3,
        "start_time": "2023-04-30T06:24:58.999Z"
      },
      {
        "duration": 10,
        "start_time": "2023-04-30T06:25:50.071Z"
      },
      {
        "duration": 12,
        "start_time": "2023-04-30T06:26:20.983Z"
      },
      {
        "duration": 74,
        "start_time": "2023-04-30T06:26:47.816Z"
      },
      {
        "duration": 9,
        "start_time": "2023-04-30T06:26:55.152Z"
      },
      {
        "duration": 10,
        "start_time": "2023-04-30T06:27:03.040Z"
      },
      {
        "duration": 10,
        "start_time": "2023-04-30T06:28:57.649Z"
      },
      {
        "duration": 10,
        "start_time": "2023-04-30T06:29:15.593Z"
      },
      {
        "duration": 10,
        "start_time": "2023-04-30T06:29:22.529Z"
      },
      {
        "duration": 74,
        "start_time": "2023-04-30T06:29:45.329Z"
      },
      {
        "duration": 9,
        "start_time": "2023-04-30T06:29:50.592Z"
      },
      {
        "duration": 3,
        "start_time": "2023-04-30T06:30:07.770Z"
      },
      {
        "duration": 21,
        "start_time": "2023-04-30T06:30:36.233Z"
      },
      {
        "duration": 24,
        "start_time": "2023-04-30T06:30:49.465Z"
      },
      {
        "duration": 20,
        "start_time": "2023-04-30T06:31:04.873Z"
      },
      {
        "duration": 11,
        "start_time": "2023-04-30T06:31:33.066Z"
      },
      {
        "duration": 17,
        "start_time": "2023-04-30T06:31:59.882Z"
      },
      {
        "duration": 13,
        "start_time": "2023-04-30T06:32:11.754Z"
      },
      {
        "duration": 18,
        "start_time": "2023-04-30T06:32:51.619Z"
      },
      {
        "duration": 12,
        "start_time": "2023-04-30T06:33:54.620Z"
      },
      {
        "duration": 14,
        "start_time": "2023-04-30T06:34:09.083Z"
      },
      {
        "duration": 11,
        "start_time": "2023-04-30T06:34:16.836Z"
      },
      {
        "duration": 12,
        "start_time": "2023-04-30T06:34:36.627Z"
      },
      {
        "duration": 11,
        "start_time": "2023-04-30T06:35:20.564Z"
      },
      {
        "duration": 11,
        "start_time": "2023-04-30T06:35:32.932Z"
      },
      {
        "duration": 15,
        "start_time": "2023-04-30T06:36:13.332Z"
      },
      {
        "duration": 26,
        "start_time": "2023-04-30T06:36:32.252Z"
      },
      {
        "duration": 25,
        "start_time": "2023-04-30T06:36:56.196Z"
      },
      {
        "duration": 4,
        "start_time": "2023-04-30T06:55:09.007Z"
      },
      {
        "duration": 48,
        "start_time": "2023-04-30T06:55:11.254Z"
      },
      {
        "duration": 5,
        "start_time": "2023-04-30T06:55:30.822Z"
      },
      {
        "duration": 62,
        "start_time": "2023-04-30T06:55:32.646Z"
      },
      {
        "duration": 4,
        "start_time": "2023-04-30T06:55:46.174Z"
      },
      {
        "duration": 32,
        "start_time": "2023-04-30T06:55:46.752Z"
      },
      {
        "duration": 5,
        "start_time": "2023-04-30T06:55:54.256Z"
      },
      {
        "duration": 27,
        "start_time": "2023-04-30T06:55:55.820Z"
      },
      {
        "duration": 29,
        "start_time": "2023-04-30T06:55:56.693Z"
      },
      {
        "duration": 13,
        "start_time": "2023-04-30T06:55:57.326Z"
      },
      {
        "duration": 15,
        "start_time": "2023-04-30T06:55:57.906Z"
      },
      {
        "duration": 82,
        "start_time": "2023-04-30T06:57:53.328Z"
      },
      {
        "duration": 21,
        "start_time": "2023-04-30T06:58:37.352Z"
      },
      {
        "duration": 78,
        "start_time": "2023-04-30T06:58:47.216Z"
      },
      {
        "duration": 7,
        "start_time": "2023-04-30T06:59:18.216Z"
      },
      {
        "duration": 183,
        "start_time": "2023-04-30T06:59:18.816Z"
      },
      {
        "duration": 65,
        "start_time": "2023-04-30T07:00:11.537Z"
      },
      {
        "duration": 3,
        "start_time": "2023-04-30T07:00:28.265Z"
      },
      {
        "duration": 64,
        "start_time": "2023-04-30T07:00:29.129Z"
      },
      {
        "duration": 4,
        "start_time": "2023-04-30T07:00:37.617Z"
      },
      {
        "duration": 4,
        "start_time": "2023-04-30T07:00:55.746Z"
      },
      {
        "duration": 4,
        "start_time": "2023-04-30T07:03:21.226Z"
      },
      {
        "duration": 39,
        "start_time": "2023-04-30T07:03:21.894Z"
      },
      {
        "duration": 4,
        "start_time": "2023-04-30T07:03:24.570Z"
      },
      {
        "duration": 7,
        "start_time": "2023-04-30T07:03:30.666Z"
      },
      {
        "duration": 17,
        "start_time": "2023-04-30T07:03:59.915Z"
      },
      {
        "duration": 22,
        "start_time": "2023-04-30T07:04:16.923Z"
      },
      {
        "duration": 29,
        "start_time": "2023-04-30T07:04:24.323Z"
      },
      {
        "duration": 18,
        "start_time": "2023-04-30T07:04:34.675Z"
      },
      {
        "duration": 31,
        "start_time": "2023-04-30T07:04:59.485Z"
      },
      {
        "duration": 5,
        "start_time": "2023-04-30T07:05:16.932Z"
      },
      {
        "duration": 68,
        "start_time": "2023-04-30T07:05:17.429Z"
      },
      {
        "duration": 5,
        "start_time": "2023-04-30T07:05:18.355Z"
      },
      {
        "duration": 5,
        "start_time": "2023-04-30T07:05:27.955Z"
      },
      {
        "duration": 17,
        "start_time": "2023-04-30T07:05:28.815Z"
      },
      {
        "duration": 24,
        "start_time": "2023-04-30T07:05:49.277Z"
      },
      {
        "duration": 20,
        "start_time": "2023-04-30T07:05:50.657Z"
      },
      {
        "duration": 5,
        "start_time": "2023-04-30T07:05:56.015Z"
      },
      {
        "duration": 14,
        "start_time": "2023-04-30T07:05:56.555Z"
      },
      {
        "duration": 15,
        "start_time": "2023-04-30T07:06:13.534Z"
      },
      {
        "duration": 15,
        "start_time": "2023-04-30T07:06:26.331Z"
      },
      {
        "duration": 180,
        "start_time": "2023-04-30T07:11:20.522Z"
      },
      {
        "duration": 24,
        "start_time": "2023-04-30T07:11:37.271Z"
      },
      {
        "duration": 10,
        "start_time": "2023-04-30T07:15:51.754Z"
      },
      {
        "duration": 412,
        "start_time": "2023-04-30T07:16:35.714Z"
      },
      {
        "duration": 747,
        "start_time": "2023-04-30T07:16:41.122Z"
      },
      {
        "duration": 1221,
        "start_time": "2023-04-30T07:18:36.834Z"
      },
      {
        "duration": 4,
        "start_time": "2023-04-30T07:30:56.939Z"
      },
      {
        "duration": 3,
        "start_time": "2023-04-30T07:34:12.254Z"
      },
      {
        "duration": 340,
        "start_time": "2023-04-30T07:34:12.738Z"
      },
      {
        "duration": 16,
        "start_time": "2023-04-30T07:34:14.231Z"
      },
      {
        "duration": 31,
        "start_time": "2023-04-30T07:34:14.826Z"
      },
      {
        "duration": 19,
        "start_time": "2023-04-30T07:34:15.465Z"
      },
      {
        "duration": 4,
        "start_time": "2023-04-30T07:34:16.622Z"
      },
      {
        "duration": 483,
        "start_time": "2023-04-30T07:34:24.118Z"
      },
      {
        "duration": 23,
        "start_time": "2023-04-30T07:34:51.772Z"
      },
      {
        "duration": 4,
        "start_time": "2023-04-30T07:35:01.438Z"
      },
      {
        "duration": 314,
        "start_time": "2023-04-30T07:35:01.942Z"
      },
      {
        "duration": 15,
        "start_time": "2023-04-30T07:35:02.851Z"
      },
      {
        "duration": 45,
        "start_time": "2023-04-30T07:35:03.356Z"
      },
      {
        "duration": 18,
        "start_time": "2023-04-30T07:35:03.938Z"
      },
      {
        "duration": 450,
        "start_time": "2023-04-30T07:35:05.222Z"
      },
      {
        "duration": 387,
        "start_time": "2023-04-30T07:35:21.322Z"
      },
      {
        "duration": 400,
        "start_time": "2023-04-30T07:35:31.276Z"
      },
      {
        "duration": 950,
        "start_time": "2023-04-30T07:35:59.859Z"
      },
      {
        "duration": 347,
        "start_time": "2023-04-30T07:37:04.751Z"
      },
      {
        "duration": 25,
        "start_time": "2023-04-30T08:14:54.056Z"
      },
      {
        "duration": 18,
        "start_time": "2023-04-30T08:16:27.820Z"
      },
      {
        "duration": 4,
        "start_time": "2023-04-30T08:16:34.762Z"
      },
      {
        "duration": 20,
        "start_time": "2023-04-30T08:16:39.875Z"
      },
      {
        "duration": 201,
        "start_time": "2023-04-30T08:17:18.875Z"
      },
      {
        "duration": 205,
        "start_time": "2023-04-30T08:17:49.799Z"
      },
      {
        "duration": 4032,
        "start_time": "2023-04-30T08:22:32.717Z"
      },
      {
        "duration": 5,
        "start_time": "2023-04-30T08:22:56.806Z"
      },
      {
        "duration": 3948,
        "start_time": "2023-04-30T08:23:03.156Z"
      },
      {
        "duration": 7,
        "start_time": "2023-04-30T08:23:23.410Z"
      },
      {
        "duration": 4045,
        "start_time": "2023-04-30T08:23:25.733Z"
      },
      {
        "duration": 9,
        "start_time": "2023-04-30T08:23:53.948Z"
      },
      {
        "duration": 19,
        "start_time": "2023-04-30T08:23:54.229Z"
      },
      {
        "duration": 4,
        "start_time": "2023-04-30T08:24:03.933Z"
      },
      {
        "duration": 20,
        "start_time": "2023-04-30T08:24:04.917Z"
      },
      {
        "duration": 4,
        "start_time": "2023-04-30T08:24:13.213Z"
      },
      {
        "duration": 14,
        "start_time": "2023-04-30T08:24:13.757Z"
      },
      {
        "duration": 3,
        "start_time": "2023-04-30T08:24:26.807Z"
      },
      {
        "duration": 370,
        "start_time": "2023-04-30T08:24:27.208Z"
      },
      {
        "duration": 17,
        "start_time": "2023-04-30T08:24:28.326Z"
      },
      {
        "duration": 45,
        "start_time": "2023-04-30T08:24:28.713Z"
      },
      {
        "duration": 20,
        "start_time": "2023-04-30T08:24:29.140Z"
      },
      {
        "duration": 4,
        "start_time": "2023-04-30T08:24:30.252Z"
      },
      {
        "duration": 4145,
        "start_time": "2023-04-30T08:24:30.749Z"
      },
      {
        "duration": 1427,
        "start_time": "2023-04-30T08:24:59.541Z"
      },
      {
        "duration": 19,
        "start_time": "2023-04-30T08:25:12.718Z"
      },
      {
        "duration": 15,
        "start_time": "2023-04-30T08:25:25.221Z"
      },
      {
        "duration": 4,
        "start_time": "2023-04-30T08:25:33.837Z"
      },
      {
        "duration": 338,
        "start_time": "2023-04-30T08:25:34.213Z"
      },
      {
        "duration": 13,
        "start_time": "2023-04-30T08:25:35.014Z"
      },
      {
        "duration": 31,
        "start_time": "2023-04-30T08:25:35.526Z"
      },
      {
        "duration": 19,
        "start_time": "2023-04-30T08:25:35.958Z"
      },
      {
        "duration": 8,
        "start_time": "2023-04-30T08:25:37.004Z"
      },
      {
        "duration": 4024,
        "start_time": "2023-04-30T08:25:37.508Z"
      },
      {
        "duration": 19,
        "start_time": "2023-04-30T08:26:08.339Z"
      },
      {
        "duration": 21,
        "start_time": "2023-04-30T08:26:27.315Z"
      },
      {
        "duration": 4,
        "start_time": "2023-04-30T08:26:33.382Z"
      },
      {
        "duration": 412,
        "start_time": "2023-04-30T08:26:33.912Z"
      },
      {
        "duration": 16,
        "start_time": "2023-04-30T08:26:34.918Z"
      },
      {
        "duration": 37,
        "start_time": "2023-04-30T08:26:35.413Z"
      },
      {
        "duration": 20,
        "start_time": "2023-04-30T08:26:35.869Z"
      },
      {
        "duration": 9,
        "start_time": "2023-04-30T08:26:36.837Z"
      },
      {
        "duration": 3818,
        "start_time": "2023-04-30T08:26:37.471Z"
      },
      {
        "duration": 12,
        "start_time": "2023-04-30T08:26:58.861Z"
      },
      {
        "duration": 16,
        "start_time": "2023-04-30T08:27:13.620Z"
      },
      {
        "duration": 1191,
        "start_time": "2023-04-30T08:27:33.607Z"
      },
      {
        "duration": 7,
        "start_time": "2023-04-30T08:27:45.018Z"
      },
      {
        "duration": 440,
        "start_time": "2023-04-30T08:30:19.065Z"
      },
      {
        "duration": 12,
        "start_time": "2023-04-30T08:30:25.030Z"
      },
      {
        "duration": 56,
        "start_time": "2023-04-30T08:30:56.833Z"
      },
      {
        "duration": 1450,
        "start_time": "2023-04-30T08:31:03.352Z"
      },
      {
        "duration": 1561,
        "start_time": "2023-04-30T08:31:08.423Z"
      },
      {
        "duration": 14,
        "start_time": "2023-04-30T08:31:10.834Z"
      },
      {
        "duration": 44,
        "start_time": "2023-04-30T08:31:11.418Z"
      },
      {
        "duration": 19,
        "start_time": "2023-04-30T08:31:11.863Z"
      },
      {
        "duration": 4,
        "start_time": "2023-04-30T08:31:14.508Z"
      },
      {
        "duration": 1364,
        "start_time": "2023-04-30T08:31:47.613Z"
      },
      {
        "duration": 1613,
        "start_time": "2023-04-30T08:31:48.979Z"
      },
      {
        "duration": 18,
        "start_time": "2023-04-30T08:31:52.825Z"
      },
      {
        "duration": 34,
        "start_time": "2023-04-30T08:31:53.665Z"
      },
      {
        "duration": 19,
        "start_time": "2023-04-30T08:31:54.449Z"
      },
      {
        "duration": 4,
        "start_time": "2023-04-30T08:31:55.806Z"
      },
      {
        "duration": 4639,
        "start_time": "2023-04-30T08:31:57.402Z"
      },
      {
        "duration": 20,
        "start_time": "2023-04-30T08:32:07.545Z"
      },
      {
        "duration": 3,
        "start_time": "2023-04-30T08:32:18.649Z"
      },
      {
        "duration": 426,
        "start_time": "2023-04-30T08:32:19.129Z"
      },
      {
        "duration": 14,
        "start_time": "2023-04-30T08:32:20.657Z"
      },
      {
        "duration": 55,
        "start_time": "2023-04-30T08:32:21.214Z"
      },
      {
        "duration": 19,
        "start_time": "2023-04-30T08:32:21.714Z"
      },
      {
        "duration": 10,
        "start_time": "2023-04-30T08:32:24.482Z"
      },
      {
        "duration": 45,
        "start_time": "2023-04-30T08:33:11.153Z"
      },
      {
        "duration": 7,
        "start_time": "2023-04-30T08:33:20.222Z"
      },
      {
        "duration": 1359,
        "start_time": "2023-04-30T08:35:24.327Z"
      },
      {
        "duration": 1804,
        "start_time": "2023-04-30T08:35:27.019Z"
      },
      {
        "duration": 19,
        "start_time": "2023-04-30T08:35:29.454Z"
      },
      {
        "duration": 54,
        "start_time": "2023-04-30T08:35:30.104Z"
      },
      {
        "duration": 32,
        "start_time": "2023-04-30T08:35:31.163Z"
      },
      {
        "duration": 5,
        "start_time": "2023-04-30T08:35:33.516Z"
      },
      {
        "duration": 67,
        "start_time": "2023-04-30T08:35:55.970Z"
      },
      {
        "duration": 1555,
        "start_time": "2023-04-30T08:36:05.435Z"
      },
      {
        "duration": 1738,
        "start_time": "2023-04-30T08:36:06.993Z"
      },
      {
        "duration": 15,
        "start_time": "2023-04-30T08:36:09.043Z"
      },
      {
        "duration": 34,
        "start_time": "2023-04-30T08:36:09.812Z"
      },
      {
        "duration": 28,
        "start_time": "2023-04-30T08:36:10.547Z"
      },
      {
        "duration": 4,
        "start_time": "2023-04-30T08:36:12.919Z"
      },
      {
        "duration": 1672,
        "start_time": "2023-04-30T08:58:02.699Z"
      },
      {
        "duration": 1674,
        "start_time": "2023-04-30T08:58:05.019Z"
      },
      {
        "duration": 18,
        "start_time": "2023-04-30T08:58:07.887Z"
      },
      {
        "duration": 50,
        "start_time": "2023-04-30T08:58:09.226Z"
      },
      {
        "duration": 28,
        "start_time": "2023-04-30T08:58:10.094Z"
      },
      {
        "duration": 4,
        "start_time": "2023-04-30T08:58:12.528Z"
      },
      {
        "duration": 75,
        "start_time": "2023-04-30T08:58:31.314Z"
      },
      {
        "duration": 1707,
        "start_time": "2023-04-30T08:59:27.606Z"
      },
      {
        "duration": 1760,
        "start_time": "2023-04-30T08:59:29.937Z"
      },
      {
        "duration": 20,
        "start_time": "2023-04-30T08:59:31.700Z"
      },
      {
        "duration": 48,
        "start_time": "2023-04-30T08:59:32.047Z"
      },
      {
        "duration": 31,
        "start_time": "2023-04-30T08:59:32.919Z"
      },
      {
        "duration": 3,
        "start_time": "2023-04-30T08:59:34.811Z"
      },
      {
        "duration": 1581,
        "start_time": "2023-04-30T08:59:52.319Z"
      },
      {
        "duration": 1752,
        "start_time": "2023-04-30T08:59:54.626Z"
      },
      {
        "duration": 27,
        "start_time": "2023-04-30T08:59:57.946Z"
      },
      {
        "duration": 73,
        "start_time": "2023-04-30T08:59:59.457Z"
      },
      {
        "duration": 28,
        "start_time": "2023-04-30T09:00:01.611Z"
      },
      {
        "duration": 3,
        "start_time": "2023-04-30T09:00:08.688Z"
      },
      {
        "duration": 1696,
        "start_time": "2023-04-30T09:00:38.833Z"
      },
      {
        "duration": 1701,
        "start_time": "2023-04-30T09:00:40.531Z"
      },
      {
        "duration": 22,
        "start_time": "2023-04-30T09:00:42.988Z"
      },
      {
        "duration": 46,
        "start_time": "2023-04-30T09:00:43.617Z"
      },
      {
        "duration": 30,
        "start_time": "2023-04-30T09:00:44.337Z"
      },
      {
        "duration": 3,
        "start_time": "2023-04-30T09:00:46.225Z"
      },
      {
        "duration": 66,
        "start_time": "2023-04-30T09:02:57.112Z"
      },
      {
        "duration": 1549,
        "start_time": "2023-04-30T09:03:02.650Z"
      },
      {
        "duration": 1671,
        "start_time": "2023-04-30T09:03:04.201Z"
      },
      {
        "duration": 17,
        "start_time": "2023-04-30T09:03:07.210Z"
      },
      {
        "duration": 56,
        "start_time": "2023-04-30T09:03:07.834Z"
      },
      {
        "duration": 27,
        "start_time": "2023-04-30T09:03:08.418Z"
      },
      {
        "duration": 4,
        "start_time": "2023-04-30T09:03:10.394Z"
      },
      {
        "duration": 1610,
        "start_time": "2023-04-30T09:03:39.538Z"
      },
      {
        "duration": 1696,
        "start_time": "2023-04-30T09:03:41.151Z"
      },
      {
        "duration": 13,
        "start_time": "2023-04-30T09:03:42.849Z"
      },
      {
        "duration": 37,
        "start_time": "2023-04-30T09:03:42.864Z"
      },
      {
        "duration": 28,
        "start_time": "2023-04-30T09:03:43.042Z"
      },
      {
        "duration": 5,
        "start_time": "2023-04-30T09:03:45.033Z"
      },
      {
        "duration": 4240,
        "start_time": "2023-04-30T09:03:45.545Z"
      },
      {
        "duration": 21,
        "start_time": "2023-04-30T09:03:58.450Z"
      },
      {
        "duration": 42,
        "start_time": "2023-04-30T09:38:42.316Z"
      },
      {
        "duration": 37,
        "start_time": "2023-04-30T09:38:48.916Z"
      },
      {
        "duration": 115,
        "start_time": "2023-04-30T09:39:08.492Z"
      },
      {
        "duration": 11,
        "start_time": "2023-04-30T09:39:13.923Z"
      },
      {
        "duration": 12,
        "start_time": "2023-04-30T09:39:23.620Z"
      },
      {
        "duration": 113,
        "start_time": "2023-04-30T09:42:27.545Z"
      },
      {
        "duration": 1313,
        "start_time": "2023-04-30T09:43:22.167Z"
      },
      {
        "duration": 1299,
        "start_time": "2023-04-30T09:43:31.315Z"
      },
      {
        "duration": 1342,
        "start_time": "2023-04-30T09:44:12.507Z"
      },
      {
        "duration": 9,
        "start_time": "2023-04-30T09:51:10.394Z"
      },
      {
        "duration": 502,
        "start_time": "2023-04-30T09:51:10.923Z"
      },
      {
        "duration": 18,
        "start_time": "2023-04-30T09:51:12.236Z"
      },
      {
        "duration": 50,
        "start_time": "2023-04-30T09:51:12.892Z"
      },
      {
        "duration": 33,
        "start_time": "2023-04-30T09:51:13.597Z"
      },
      {
        "duration": 25,
        "start_time": "2023-04-30T09:51:14.763Z"
      },
      {
        "duration": 60,
        "start_time": "2023-04-30T09:51:47.601Z"
      },
      {
        "duration": 43,
        "start_time": "2023-04-30T09:52:07.092Z"
      },
      {
        "duration": 3,
        "start_time": "2023-04-30T09:52:15.939Z"
      },
      {
        "duration": 409,
        "start_time": "2023-04-30T09:52:16.503Z"
      },
      {
        "duration": 14,
        "start_time": "2023-04-30T09:52:18.036Z"
      },
      {
        "duration": 57,
        "start_time": "2023-04-30T09:52:18.651Z"
      },
      {
        "duration": 34,
        "start_time": "2023-04-30T09:52:19.194Z"
      },
      {
        "duration": 69,
        "start_time": "2023-04-30T09:52:20.340Z"
      },
      {
        "duration": 76,
        "start_time": "2023-04-30T09:55:15.692Z"
      },
      {
        "duration": 55,
        "start_time": "2023-04-30T09:56:04.357Z"
      },
      {
        "duration": 76,
        "start_time": "2023-04-30T09:56:10.135Z"
      },
      {
        "duration": 3,
        "start_time": "2023-04-30T09:56:58.317Z"
      },
      {
        "duration": 362,
        "start_time": "2023-04-30T09:56:58.734Z"
      },
      {
        "duration": 16,
        "start_time": "2023-04-30T09:56:59.341Z"
      },
      {
        "duration": 33,
        "start_time": "2023-04-30T09:56:59.637Z"
      },
      {
        "duration": 18,
        "start_time": "2023-04-30T09:56:59.917Z"
      },
      {
        "duration": 48,
        "start_time": "2023-04-30T09:57:00.269Z"
      },
      {
        "duration": 58,
        "start_time": "2023-04-30T09:57:00.901Z"
      },
      {
        "duration": 16,
        "start_time": "2023-04-30T10:00:29.416Z"
      },
      {
        "duration": 63,
        "start_time": "2023-04-30T10:00:37.135Z"
      },
      {
        "duration": 74,
        "start_time": "2023-04-30T10:00:58.494Z"
      },
      {
        "duration": 13,
        "start_time": "2023-04-30T10:01:05.110Z"
      },
      {
        "duration": 16,
        "start_time": "2023-04-30T10:01:29.136Z"
      },
      {
        "duration": 29,
        "start_time": "2023-04-30T10:01:44.003Z"
      },
      {
        "duration": 83,
        "start_time": "2023-04-30T10:01:50.264Z"
      },
      {
        "duration": 21,
        "start_time": "2023-04-30T10:01:56.061Z"
      },
      {
        "duration": 838,
        "start_time": "2023-04-30T10:02:04.309Z"
      },
      {
        "duration": 31,
        "start_time": "2023-04-30T10:02:17.793Z"
      },
      {
        "duration": 27,
        "start_time": "2023-04-30T10:02:23.136Z"
      },
      {
        "duration": 16,
        "start_time": "2023-04-30T10:02:32.412Z"
      },
      {
        "duration": 5,
        "start_time": "2023-04-30T10:02:51.596Z"
      },
      {
        "duration": 3,
        "start_time": "2023-04-30T10:03:06.737Z"
      },
      {
        "duration": 375,
        "start_time": "2023-04-30T10:03:07.273Z"
      },
      {
        "duration": 12,
        "start_time": "2023-04-30T10:03:08.441Z"
      },
      {
        "duration": 30,
        "start_time": "2023-04-30T10:03:09.121Z"
      },
      {
        "duration": 30,
        "start_time": "2023-04-30T10:03:09.800Z"
      },
      {
        "duration": 58,
        "start_time": "2023-04-30T10:03:10.659Z"
      },
      {
        "duration": 64,
        "start_time": "2023-04-30T10:03:12.074Z"
      },
      {
        "duration": 31,
        "start_time": "2023-04-30T10:04:42.111Z"
      },
      {
        "duration": 4,
        "start_time": "2023-04-30T10:05:37.049Z"
      },
      {
        "duration": 370,
        "start_time": "2023-04-30T10:05:37.644Z"
      },
      {
        "duration": 5,
        "start_time": "2023-04-30T10:05:38.391Z"
      },
      {
        "duration": 372,
        "start_time": "2023-04-30T10:07:20.612Z"
      },
      {
        "duration": 7,
        "start_time": "2023-04-30T10:07:21.163Z"
      },
      {
        "duration": 14,
        "start_time": "2023-04-30T10:07:37.212Z"
      },
      {
        "duration": 12,
        "start_time": "2023-04-30T10:07:55.562Z"
      },
      {
        "duration": 19,
        "start_time": "2023-04-30T10:09:10.090Z"
      },
      {
        "duration": 11,
        "start_time": "2023-04-30T10:09:19.364Z"
      },
      {
        "duration": 10,
        "start_time": "2023-04-30T10:09:43.956Z"
      },
      {
        "duration": 33,
        "start_time": "2023-04-30T10:11:33.141Z"
      },
      {
        "duration": 17,
        "start_time": "2023-04-30T10:12:12.454Z"
      },
      {
        "duration": 51,
        "start_time": "2023-04-30T10:12:33.166Z"
      },
      {
        "duration": 41,
        "start_time": "2023-04-30T10:13:05.215Z"
      },
      {
        "duration": 55,
        "start_time": "2023-04-30T10:13:26.255Z"
      },
      {
        "duration": 66,
        "start_time": "2023-04-30T10:13:51.240Z"
      },
      {
        "duration": 45,
        "start_time": "2023-04-30T10:15:41.631Z"
      },
      {
        "duration": 13,
        "start_time": "2023-04-30T10:15:58.513Z"
      },
      {
        "duration": 73,
        "start_time": "2023-04-30T10:17:18.314Z"
      },
      {
        "duration": 32,
        "start_time": "2023-04-30T10:17:49.153Z"
      },
      {
        "duration": 30,
        "start_time": "2023-04-30T10:18:04.314Z"
      },
      {
        "duration": 4,
        "start_time": "2023-04-30T10:18:11.028Z"
      },
      {
        "duration": 372,
        "start_time": "2023-04-30T10:18:11.617Z"
      },
      {
        "duration": 6,
        "start_time": "2023-04-30T10:18:12.177Z"
      },
      {
        "duration": 12,
        "start_time": "2023-04-30T10:18:18.720Z"
      },
      {
        "duration": 39,
        "start_time": "2023-04-30T10:18:21.273Z"
      },
      {
        "duration": 19,
        "start_time": "2023-04-30T10:18:23.012Z"
      },
      {
        "duration": 40,
        "start_time": "2023-04-30T10:18:24.016Z"
      },
      {
        "duration": 25,
        "start_time": "2023-04-30T10:18:25.606Z"
      },
      {
        "duration": 67,
        "start_time": "2023-04-30T10:18:27.736Z"
      },
      {
        "duration": 39,
        "start_time": "2023-04-30T10:18:29.442Z"
      },
      {
        "duration": 12,
        "start_time": "2023-04-30T10:18:48.514Z"
      },
      {
        "duration": 8,
        "start_time": "2023-04-30T10:19:45.722Z"
      },
      {
        "duration": 10,
        "start_time": "2023-04-30T10:19:50.585Z"
      },
      {
        "duration": 8,
        "start_time": "2023-04-30T10:20:12.531Z"
      },
      {
        "duration": 43,
        "start_time": "2023-04-30T10:20:27.809Z"
      },
      {
        "duration": 10,
        "start_time": "2023-04-30T10:20:29.113Z"
      },
      {
        "duration": 15,
        "start_time": "2023-04-30T10:20:33.666Z"
      },
      {
        "duration": 15,
        "start_time": "2023-04-30T10:20:47.714Z"
      },
      {
        "duration": 9,
        "start_time": "2023-04-30T10:21:20.115Z"
      },
      {
        "duration": 4123,
        "start_time": "2023-04-30T10:21:21.312Z"
      },
      {
        "duration": 15,
        "start_time": "2023-04-30T10:21:26.540Z"
      },
      {
        "duration": 3,
        "start_time": "2023-04-30T10:23:44.008Z"
      },
      {
        "duration": 359,
        "start_time": "2023-04-30T10:23:44.476Z"
      },
      {
        "duration": 5,
        "start_time": "2023-04-30T10:23:44.914Z"
      },
      {
        "duration": 14,
        "start_time": "2023-04-30T10:23:45.812Z"
      },
      {
        "duration": 43,
        "start_time": "2023-04-30T10:23:46.308Z"
      },
      {
        "duration": 27,
        "start_time": "2023-04-30T10:23:46.748Z"
      },
      {
        "duration": 42,
        "start_time": "2023-04-30T10:23:47.259Z"
      },
      {
        "duration": 24,
        "start_time": "2023-04-30T10:23:47.747Z"
      },
      {
        "duration": 14,
        "start_time": "2023-04-30T10:23:48.364Z"
      },
      {
        "duration": 42,
        "start_time": "2023-04-30T10:23:49.333Z"
      },
      {
        "duration": 14,
        "start_time": "2023-04-30T10:23:50.275Z"
      },
      {
        "duration": 9,
        "start_time": "2023-04-30T10:23:50.828Z"
      },
      {
        "duration": 19,
        "start_time": "2023-04-30T10:23:55.701Z"
      },
      {
        "duration": 20,
        "start_time": "2023-04-30T10:25:56.180Z"
      },
      {
        "duration": 14,
        "start_time": "2023-04-30T10:26:15.512Z"
      },
      {
        "duration": 4,
        "start_time": "2023-04-30T10:27:06.351Z"
      },
      {
        "duration": 4288,
        "start_time": "2023-04-30T10:27:09.220Z"
      },
      {
        "duration": 5,
        "start_time": "2023-04-30T10:27:22.342Z"
      },
      {
        "duration": 21,
        "start_time": "2023-04-30T10:27:24.617Z"
      },
      {
        "duration": 3,
        "start_time": "2023-04-30T10:27:31.567Z"
      },
      {
        "duration": 379,
        "start_time": "2023-04-30T10:27:32.014Z"
      },
      {
        "duration": 5,
        "start_time": "2023-04-30T10:27:32.399Z"
      },
      {
        "duration": 11,
        "start_time": "2023-04-30T10:27:32.646Z"
      },
      {
        "duration": 52,
        "start_time": "2023-04-30T10:27:32.855Z"
      },
      {
        "duration": 26,
        "start_time": "2023-04-30T10:27:33.062Z"
      },
      {
        "duration": 65,
        "start_time": "2023-04-30T10:27:33.286Z"
      },
      {
        "duration": 32,
        "start_time": "2023-04-30T10:27:33.826Z"
      },
      {
        "duration": 23,
        "start_time": "2023-04-30T10:27:34.121Z"
      },
      {
        "duration": 70,
        "start_time": "2023-04-30T10:27:34.382Z"
      },
      {
        "duration": 17,
        "start_time": "2023-04-30T10:27:35.054Z"
      },
      {
        "duration": 9,
        "start_time": "2023-04-30T10:27:36.078Z"
      },
      {
        "duration": 4,
        "start_time": "2023-04-30T10:28:16.519Z"
      },
      {
        "duration": 5755,
        "start_time": "2023-04-30T10:28:17.728Z"
      },
      {
        "duration": 23,
        "start_time": "2023-04-30T10:28:25.326Z"
      },
      {
        "duration": 6,
        "start_time": "2023-04-30T10:28:37.550Z"
      },
      {
        "duration": 14,
        "start_time": "2023-04-30T10:28:38.326Z"
      },
      {
        "duration": 5,
        "start_time": "2023-04-30T10:28:39.143Z"
      },
      {
        "duration": 6,
        "start_time": "2023-04-30T10:28:40.924Z"
      },
      {
        "duration": 26,
        "start_time": "2023-04-30T10:28:42.055Z"
      },
      {
        "duration": 4,
        "start_time": "2023-04-30T10:28:42.943Z"
      },
      {
        "duration": 7,
        "start_time": "2023-04-30T10:28:43.519Z"
      },
      {
        "duration": 39,
        "start_time": "2023-04-30T10:28:44.010Z"
      },
      {
        "duration": 4,
        "start_time": "2023-04-30T10:28:44.623Z"
      },
      {
        "duration": 4,
        "start_time": "2023-04-30T10:28:45.062Z"
      },
      {
        "duration": 101,
        "start_time": "2023-04-30T10:28:47.521Z"
      },
      {
        "duration": 1514,
        "start_time": "2023-04-30T10:28:50.486Z"
      },
      {
        "duration": 47,
        "start_time": "2023-04-30T10:28:52.515Z"
      },
      {
        "duration": 45,
        "start_time": "2023-04-30T10:28:56.906Z"
      },
      {
        "duration": 17,
        "start_time": "2023-04-30T10:32:02.537Z"
      },
      {
        "duration": 14,
        "start_time": "2023-04-30T10:32:21.545Z"
      },
      {
        "duration": 10,
        "start_time": "2023-04-30T10:32:34.116Z"
      },
      {
        "duration": 415,
        "start_time": "2023-04-30T10:32:34.561Z"
      },
      {
        "duration": 5,
        "start_time": "2023-04-30T10:32:34.980Z"
      },
      {
        "duration": 15,
        "start_time": "2023-04-30T10:32:35.911Z"
      },
      {
        "duration": 43,
        "start_time": "2023-04-30T10:32:36.512Z"
      },
      {
        "duration": 23,
        "start_time": "2023-04-30T10:32:37.107Z"
      },
      {
        "duration": 62,
        "start_time": "2023-04-30T10:32:38.272Z"
      },
      {
        "duration": 29,
        "start_time": "2023-04-30T10:32:38.815Z"
      },
      {
        "duration": 16,
        "start_time": "2023-04-30T10:32:40.176Z"
      },
      {
        "duration": 69,
        "start_time": "2023-04-30T10:32:41.476Z"
      },
      {
        "duration": 19,
        "start_time": "2023-04-30T10:32:42.112Z"
      },
      {
        "duration": 11,
        "start_time": "2023-04-30T10:32:46.119Z"
      },
      {
        "duration": 447,
        "start_time": "2023-04-30T10:32:50.330Z"
      },
      {
        "duration": 5658,
        "start_time": "2023-04-30T10:33:23.961Z"
      },
      {
        "duration": 919,
        "start_time": "2023-04-30T10:35:01.937Z"
      },
      {
        "duration": 11,
        "start_time": "2023-04-30T10:35:21.066Z"
      },
      {
        "duration": 843,
        "start_time": "2023-04-30T10:35:28.017Z"
      },
      {
        "duration": 71,
        "start_time": "2023-04-30T10:35:52.200Z"
      },
      {
        "duration": 73,
        "start_time": "2023-04-30T10:36:26.812Z"
      },
      {
        "duration": 5,
        "start_time": "2023-04-30T10:36:39.026Z"
      },
      {
        "duration": 471,
        "start_time": "2023-04-30T10:36:39.362Z"
      },
      {
        "duration": 8,
        "start_time": "2023-04-30T10:36:39.837Z"
      },
      {
        "duration": 13,
        "start_time": "2023-04-30T10:36:40.762Z"
      },
      {
        "duration": 44,
        "start_time": "2023-04-30T10:36:41.291Z"
      },
      {
        "duration": 29,
        "start_time": "2023-04-30T10:36:41.827Z"
      },
      {
        "duration": 61,
        "start_time": "2023-04-30T10:36:42.339Z"
      },
      {
        "duration": 31,
        "start_time": "2023-04-30T10:36:42.859Z"
      },
      {
        "duration": 21,
        "start_time": "2023-04-30T10:36:43.514Z"
      },
      {
        "duration": 59,
        "start_time": "2023-04-30T10:36:44.045Z"
      },
      {
        "duration": 17,
        "start_time": "2023-04-30T10:36:44.627Z"
      },
      {
        "duration": 12,
        "start_time": "2023-04-30T10:36:45.180Z"
      },
      {
        "duration": 95,
        "start_time": "2023-04-30T10:36:47.923Z"
      },
      {
        "duration": 1214,
        "start_time": "2023-04-30T10:37:10.115Z"
      },
      {
        "duration": 1296,
        "start_time": "2023-04-30T11:59:55.412Z"
      },
      {
        "duration": 1554,
        "start_time": "2023-04-30T11:59:57.379Z"
      },
      {
        "duration": 3,
        "start_time": "2023-04-30T11:59:59.584Z"
      },
      {
        "duration": 16,
        "start_time": "2023-04-30T12:00:02.370Z"
      },
      {
        "duration": 50,
        "start_time": "2023-04-30T12:00:03.300Z"
      },
      {
        "duration": 29,
        "start_time": "2023-04-30T12:00:04.800Z"
      },
      {
        "duration": 48,
        "start_time": "2023-04-30T12:00:06.168Z"
      },
      {
        "duration": 34,
        "start_time": "2023-04-30T12:00:09.944Z"
      },
      {
        "duration": 18,
        "start_time": "2023-04-30T12:00:12.406Z"
      },
      {
        "duration": 55,
        "start_time": "2023-04-30T12:00:14.754Z"
      },
      {
        "duration": 13,
        "start_time": "2023-04-30T12:00:16.144Z"
      },
      {
        "duration": 5,
        "start_time": "2023-04-30T12:02:32.322Z"
      },
      {
        "duration": 32,
        "start_time": "2023-04-30T12:02:56.883Z"
      },
      {
        "duration": 3,
        "start_time": "2023-04-30T12:03:18.355Z"
      },
      {
        "duration": 30,
        "start_time": "2023-04-30T12:03:19.801Z"
      },
      {
        "duration": 13,
        "start_time": "2023-04-30T12:04:10.444Z"
      },
      {
        "duration": 11,
        "start_time": "2023-04-30T12:04:39.236Z"
      },
      {
        "duration": 3,
        "start_time": "2023-04-30T12:04:47.451Z"
      },
      {
        "duration": 11,
        "start_time": "2023-04-30T12:04:48.180Z"
      },
      {
        "duration": 13,
        "start_time": "2023-04-30T12:05:25.800Z"
      },
      {
        "duration": 6,
        "start_time": "2023-04-30T12:05:50.420Z"
      },
      {
        "duration": 23,
        "start_time": "2023-04-30T12:05:51.052Z"
      },
      {
        "duration": 4,
        "start_time": "2023-04-30T12:05:51.756Z"
      },
      {
        "duration": 7,
        "start_time": "2023-04-30T12:05:53.397Z"
      },
      {
        "duration": 23,
        "start_time": "2023-04-30T12:05:54.252Z"
      },
      {
        "duration": 4,
        "start_time": "2023-04-30T12:05:54.780Z"
      },
      {
        "duration": 6,
        "start_time": "2023-04-30T12:05:56.509Z"
      },
      {
        "duration": 18,
        "start_time": "2023-04-30T12:05:57.028Z"
      },
      {
        "duration": 4,
        "start_time": "2023-04-30T12:05:57.532Z"
      },
      {
        "duration": 4,
        "start_time": "2023-04-30T12:05:57.972Z"
      },
      {
        "duration": 20,
        "start_time": "2023-04-30T12:09:10.157Z"
      },
      {
        "duration": 5,
        "start_time": "2023-04-30T12:09:11.372Z"
      },
      {
        "duration": 6,
        "start_time": "2023-04-30T12:09:13.184Z"
      },
      {
        "duration": 18,
        "start_time": "2023-04-30T12:09:14.048Z"
      },
      {
        "duration": 4,
        "start_time": "2023-04-30T12:09:14.900Z"
      },
      {
        "duration": 6,
        "start_time": "2023-04-30T12:09:16.716Z"
      },
      {
        "duration": 23,
        "start_time": "2023-04-30T12:09:18.103Z"
      },
      {
        "duration": 5,
        "start_time": "2023-04-30T12:09:19.372Z"
      },
      {
        "duration": 4,
        "start_time": "2023-04-30T12:09:23.566Z"
      },
      {
        "duration": 115,
        "start_time": "2023-04-30T12:09:24.848Z"
      },
      {
        "duration": 3,
        "start_time": "2023-04-30T12:09:47.103Z"
      },
      {
        "duration": 331,
        "start_time": "2023-04-30T12:09:47.630Z"
      },
      {
        "duration": 5,
        "start_time": "2023-04-30T12:09:48.134Z"
      },
      {
        "duration": 11,
        "start_time": "2023-04-30T12:09:49.303Z"
      },
      {
        "duration": 32,
        "start_time": "2023-04-30T12:09:50.606Z"
      },
      {
        "duration": 17,
        "start_time": "2023-04-30T12:09:51.510Z"
      },
      {
        "duration": 39,
        "start_time": "2023-04-30T12:09:52.030Z"
      },
      {
        "duration": 24,
        "start_time": "2023-04-30T12:09:52.638Z"
      },
      {
        "duration": 12,
        "start_time": "2023-04-30T12:09:53.486Z"
      },
      {
        "duration": 45,
        "start_time": "2023-04-30T12:09:54.031Z"
      },
      {
        "duration": 4,
        "start_time": "2023-04-30T12:09:55.134Z"
      },
      {
        "duration": 14,
        "start_time": "2023-04-30T12:09:56.002Z"
      },
      {
        "duration": 7,
        "start_time": "2023-04-30T12:09:58.806Z"
      },
      {
        "duration": 15,
        "start_time": "2023-04-30T12:10:05.333Z"
      },
      {
        "duration": 4,
        "start_time": "2023-04-30T12:10:06.400Z"
      },
      {
        "duration": 6,
        "start_time": "2023-04-30T12:10:07.753Z"
      },
      {
        "duration": 21,
        "start_time": "2023-04-30T12:10:09.062Z"
      },
      {
        "duration": 4,
        "start_time": "2023-04-30T12:10:09.575Z"
      },
      {
        "duration": 6,
        "start_time": "2023-04-30T12:10:10.022Z"
      },
      {
        "duration": 20,
        "start_time": "2023-04-30T12:10:10.510Z"
      },
      {
        "duration": 3,
        "start_time": "2023-04-30T12:10:10.974Z"
      },
      {
        "duration": 4,
        "start_time": "2023-04-30T12:10:11.774Z"
      },
      {
        "duration": 38,
        "start_time": "2023-04-30T12:10:13.566Z"
      },
      {
        "duration": 17,
        "start_time": "2023-04-30T12:10:34.967Z"
      },
      {
        "duration": 22,
        "start_time": "2023-04-30T12:11:22.512Z"
      },
      {
        "duration": 16,
        "start_time": "2023-04-30T12:12:22.663Z"
      },
      {
        "duration": 10,
        "start_time": "2023-04-30T12:13:36.548Z"
      },
      {
        "duration": 19,
        "start_time": "2023-04-30T12:13:47.808Z"
      },
      {
        "duration": 28,
        "start_time": "2023-04-30T12:14:40.857Z"
      },
      {
        "duration": 20,
        "start_time": "2023-04-30T12:15:12.715Z"
      },
      {
        "duration": 27,
        "start_time": "2023-04-30T12:15:26.501Z"
      },
      {
        "duration": 3,
        "start_time": "2023-04-30T12:20:16.428Z"
      },
      {
        "duration": 368,
        "start_time": "2023-04-30T12:20:16.883Z"
      },
      {
        "duration": 4,
        "start_time": "2023-04-30T12:20:17.459Z"
      },
      {
        "duration": 10,
        "start_time": "2023-04-30T12:20:18.739Z"
      },
      {
        "duration": 46,
        "start_time": "2023-04-30T12:20:19.606Z"
      },
      {
        "duration": 17,
        "start_time": "2023-04-30T12:20:21.098Z"
      },
      {
        "duration": 39,
        "start_time": "2023-04-30T12:20:22.006Z"
      },
      {
        "duration": 3,
        "start_time": "2023-04-30T12:20:23.643Z"
      },
      {
        "duration": 62,
        "start_time": "2023-04-30T12:20:25.003Z"
      },
      {
        "duration": 13,
        "start_time": "2023-04-30T12:20:27.019Z"
      },
      {
        "duration": 22,
        "start_time": "2023-04-30T12:21:09.460Z"
      },
      {
        "duration": 13,
        "start_time": "2023-04-30T12:21:10.677Z"
      },
      {
        "duration": 59,
        "start_time": "2023-04-30T12:21:25.277Z"
      },
      {
        "duration": 12,
        "start_time": "2023-04-30T12:21:26.107Z"
      },
      {
        "duration": 3,
        "start_time": "2023-04-30T12:22:55.676Z"
      },
      {
        "duration": 18,
        "start_time": "2023-04-30T12:24:08.687Z"
      },
      {
        "duration": 16,
        "start_time": "2023-04-30T12:24:25.805Z"
      },
      {
        "duration": 4,
        "start_time": "2023-04-30T12:25:04.212Z"
      },
      {
        "duration": 25,
        "start_time": "2023-04-30T12:25:06.663Z"
      },
      {
        "duration": 9,
        "start_time": "2023-04-30T12:26:13.149Z"
      },
      {
        "duration": 3,
        "start_time": "2023-04-30T12:26:38.302Z"
      },
      {
        "duration": 329,
        "start_time": "2023-04-30T12:26:38.886Z"
      },
      {
        "duration": 7,
        "start_time": "2023-04-30T12:26:39.822Z"
      },
      {
        "duration": 12,
        "start_time": "2023-04-30T12:26:41.087Z"
      },
      {
        "duration": 30,
        "start_time": "2023-04-30T12:26:42.575Z"
      },
      {
        "duration": 16,
        "start_time": "2023-04-30T12:26:44.567Z"
      },
      {
        "duration": 38,
        "start_time": "2023-04-30T12:26:45.615Z"
      },
      {
        "duration": 3,
        "start_time": "2023-04-30T12:26:47.046Z"
      },
      {
        "duration": 57,
        "start_time": "2023-04-30T12:26:48.143Z"
      },
      {
        "duration": 12,
        "start_time": "2023-04-30T12:26:48.967Z"
      },
      {
        "duration": 13,
        "start_time": "2023-04-30T12:26:52.623Z"
      },
      {
        "duration": 4,
        "start_time": "2023-04-30T12:26:57.210Z"
      },
      {
        "duration": 25,
        "start_time": "2023-04-30T12:26:58.317Z"
      },
      {
        "duration": 22,
        "start_time": "2023-04-30T12:27:49.983Z"
      },
      {
        "duration": 3,
        "start_time": "2023-04-30T12:28:35.847Z"
      },
      {
        "duration": 23,
        "start_time": "2023-04-30T12:28:37.119Z"
      },
      {
        "duration": 4,
        "start_time": "2023-04-30T12:29:22.472Z"
      },
      {
        "duration": 342,
        "start_time": "2023-04-30T12:29:23.115Z"
      },
      {
        "duration": 7,
        "start_time": "2023-04-30T12:29:24.312Z"
      },
      {
        "duration": 13,
        "start_time": "2023-04-30T12:29:28.584Z"
      },
      {
        "duration": 37,
        "start_time": "2023-04-30T12:29:29.760Z"
      },
      {
        "duration": 18,
        "start_time": "2023-04-30T12:29:32.543Z"
      },
      {
        "duration": 41,
        "start_time": "2023-04-30T12:29:33.944Z"
      },
      {
        "duration": 3,
        "start_time": "2023-04-30T12:29:35.420Z"
      },
      {
        "duration": 58,
        "start_time": "2023-04-30T12:29:36.478Z"
      },
      {
        "duration": 14,
        "start_time": "2023-04-30T12:29:37.510Z"
      },
      {
        "duration": 13,
        "start_time": "2023-04-30T12:29:41.890Z"
      },
      {
        "duration": 2,
        "start_time": "2023-04-30T12:29:49.259Z"
      },
      {
        "duration": 23,
        "start_time": "2023-04-30T12:29:51.136Z"
      },
      {
        "duration": 3,
        "start_time": "2023-04-30T12:30:08.360Z"
      },
      {
        "duration": 12,
        "start_time": "2023-04-30T12:30:09.144Z"
      },
      {
        "duration": 15,
        "start_time": "2023-04-30T12:30:24.923Z"
      },
      {
        "duration": 9,
        "start_time": "2023-04-30T12:30:56.568Z"
      },
      {
        "duration": 11,
        "start_time": "2023-04-30T12:31:00.643Z"
      },
      {
        "duration": 3,
        "start_time": "2023-04-30T12:31:13.937Z"
      },
      {
        "duration": 320,
        "start_time": "2023-04-30T12:31:14.456Z"
      },
      {
        "duration": 6,
        "start_time": "2023-04-30T12:31:14.917Z"
      },
      {
        "duration": 13,
        "start_time": "2023-04-30T12:31:15.768Z"
      },
      {
        "duration": 29,
        "start_time": "2023-04-30T12:31:16.316Z"
      },
      {
        "duration": 27,
        "start_time": "2023-04-30T12:31:16.815Z"
      },
      {
        "duration": 51,
        "start_time": "2023-04-30T12:31:17.657Z"
      },
      {
        "duration": 3,
        "start_time": "2023-04-30T12:31:18.976Z"
      },
      {
        "duration": 66,
        "start_time": "2023-04-30T12:31:20.441Z"
      },
      {
        "duration": 12,
        "start_time": "2023-04-30T12:31:21.225Z"
      },
      {
        "duration": 12,
        "start_time": "2023-04-30T12:31:22.018Z"
      },
      {
        "duration": 13,
        "start_time": "2023-04-30T12:31:23.152Z"
      },
      {
        "duration": 3,
        "start_time": "2023-04-30T12:31:27.961Z"
      },
      {
        "duration": 3,
        "start_time": "2023-04-30T12:31:48.576Z"
      },
      {
        "duration": 311,
        "start_time": "2023-04-30T12:31:48.953Z"
      },
      {
        "duration": 6,
        "start_time": "2023-04-30T12:31:49.321Z"
      },
      {
        "duration": 14,
        "start_time": "2023-04-30T12:31:50.222Z"
      },
      {
        "duration": 32,
        "start_time": "2023-04-30T12:31:50.714Z"
      },
      {
        "duration": 18,
        "start_time": "2023-04-30T12:31:51.221Z"
      },
      {
        "duration": 39,
        "start_time": "2023-04-30T12:31:52.185Z"
      },
      {
        "duration": 3,
        "start_time": "2023-04-30T12:31:52.657Z"
      },
      {
        "duration": 61,
        "start_time": "2023-04-30T12:31:56.945Z"
      },
      {
        "duration": 14,
        "start_time": "2023-04-30T12:31:58.425Z"
      },
      {
        "duration": 17,
        "start_time": "2023-04-30T12:31:59.456Z"
      },
      {
        "duration": 12,
        "start_time": "2023-04-30T12:32:02.337Z"
      },
      {
        "duration": 3,
        "start_time": "2023-04-30T12:32:03.197Z"
      },
      {
        "duration": 15,
        "start_time": "2023-04-30T12:32:05.233Z"
      },
      {
        "duration": 18,
        "start_time": "2023-04-30T12:32:16.153Z"
      },
      {
        "duration": 3,
        "start_time": "2023-04-30T12:32:38.651Z"
      },
      {
        "duration": 334,
        "start_time": "2023-04-30T12:32:38.893Z"
      },
      {
        "duration": 6,
        "start_time": "2023-04-30T12:32:39.229Z"
      },
      {
        "duration": 14,
        "start_time": "2023-04-30T12:32:39.569Z"
      },
      {
        "duration": 35,
        "start_time": "2023-04-30T12:32:39.882Z"
      },
      {
        "duration": 18,
        "start_time": "2023-04-30T12:32:40.202Z"
      },
      {
        "duration": 39,
        "start_time": "2023-04-30T12:32:40.510Z"
      },
      {
        "duration": 3,
        "start_time": "2023-04-30T12:32:40.977Z"
      },
      {
        "duration": 67,
        "start_time": "2023-04-30T12:32:41.457Z"
      },
      {
        "duration": 12,
        "start_time": "2023-04-30T12:32:41.873Z"
      },
      {
        "duration": 13,
        "start_time": "2023-04-30T12:32:42.329Z"
      },
      {
        "duration": 14,
        "start_time": "2023-04-30T12:32:43.459Z"
      },
      {
        "duration": 3,
        "start_time": "2023-04-30T12:32:44.641Z"
      },
      {
        "duration": 17,
        "start_time": "2023-04-30T12:32:45.913Z"
      },
      {
        "duration": 16,
        "start_time": "2023-04-30T12:33:12.866Z"
      },
      {
        "duration": 3,
        "start_time": "2023-04-30T12:33:35.721Z"
      },
      {
        "duration": 341,
        "start_time": "2023-04-30T12:33:35.954Z"
      },
      {
        "duration": 6,
        "start_time": "2023-04-30T12:33:36.297Z"
      },
      {
        "duration": 12,
        "start_time": "2023-04-30T12:33:36.569Z"
      },
      {
        "duration": 31,
        "start_time": "2023-04-30T12:33:36.753Z"
      },
      {
        "duration": 18,
        "start_time": "2023-04-30T12:33:36.945Z"
      },
      {
        "duration": 44,
        "start_time": "2023-04-30T12:33:37.154Z"
      },
      {
        "duration": 3,
        "start_time": "2023-04-30T12:33:37.354Z"
      },
      {
        "duration": 59,
        "start_time": "2023-04-30T12:33:37.828Z"
      },
      {
        "duration": 13,
        "start_time": "2023-04-30T12:33:38.169Z"
      },
      {
        "duration": 14,
        "start_time": "2023-04-30T12:33:38.481Z"
      },
      {
        "duration": 15,
        "start_time": "2023-04-30T12:33:39.819Z"
      },
      {
        "duration": 3,
        "start_time": "2023-04-30T12:33:40.512Z"
      },
      {
        "duration": 22,
        "start_time": "2023-04-30T12:33:41.985Z"
      },
      {
        "duration": 17,
        "start_time": "2023-04-30T12:34:42.961Z"
      },
      {
        "duration": 3,
        "start_time": "2023-04-30T12:34:47.716Z"
      },
      {
        "duration": 319,
        "start_time": "2023-04-30T12:34:48.216Z"
      },
      {
        "duration": 5,
        "start_time": "2023-04-30T12:34:48.667Z"
      },
      {
        "duration": 13,
        "start_time": "2023-04-30T12:34:50.043Z"
      },
      {
        "duration": 30,
        "start_time": "2023-04-30T12:34:50.666Z"
      },
      {
        "duration": 17,
        "start_time": "2023-04-30T12:34:51.251Z"
      },
      {
        "duration": 37,
        "start_time": "2023-04-30T12:34:52.009Z"
      },
      {
        "duration": 3,
        "start_time": "2023-04-30T12:34:52.614Z"
      },
      {
        "duration": 60,
        "start_time": "2023-04-30T12:34:53.363Z"
      },
      {
        "duration": 13,
        "start_time": "2023-04-30T12:34:53.970Z"
      },
      {
        "duration": 13,
        "start_time": "2023-04-30T12:34:55.020Z"
      },
      {
        "duration": 19,
        "start_time": "2023-04-30T12:34:57.169Z"
      },
      {
        "duration": 3,
        "start_time": "2023-04-30T12:34:58.331Z"
      },
      {
        "duration": 34,
        "start_time": "2023-04-30T12:34:59.310Z"
      },
      {
        "duration": 4,
        "start_time": "2023-04-30T12:35:53.812Z"
      },
      {
        "duration": 374,
        "start_time": "2023-04-30T12:35:54.075Z"
      },
      {
        "duration": 6,
        "start_time": "2023-04-30T12:35:54.474Z"
      },
      {
        "duration": 12,
        "start_time": "2023-04-30T12:35:55.131Z"
      },
      {
        "duration": 30,
        "start_time": "2023-04-30T12:35:55.813Z"
      },
      {
        "duration": 16,
        "start_time": "2023-04-30T12:35:56.374Z"
      },
      {
        "duration": 46,
        "start_time": "2023-04-30T12:35:57.258Z"
      },
      {
        "duration": 3,
        "start_time": "2023-04-30T12:35:57.810Z"
      },
      {
        "duration": 54,
        "start_time": "2023-04-30T12:35:58.414Z"
      },
      {
        "duration": 3,
        "start_time": "2023-04-30T12:35:59.614Z"
      },
      {
        "duration": 26,
        "start_time": "2023-04-30T12:36:00.459Z"
      },
      {
        "duration": 5,
        "start_time": "2023-04-30T12:36:12.170Z"
      },
      {
        "duration": 12,
        "start_time": "2023-04-30T12:36:12.710Z"
      },
      {
        "duration": 5,
        "start_time": "2023-04-30T12:36:13.212Z"
      },
      {
        "duration": 5,
        "start_time": "2023-04-30T12:36:13.719Z"
      },
      {
        "duration": 19,
        "start_time": "2023-04-30T12:36:14.251Z"
      },
      {
        "duration": 4,
        "start_time": "2023-04-30T12:36:14.849Z"
      },
      {
        "duration": 5,
        "start_time": "2023-04-30T12:36:15.419Z"
      },
      {
        "duration": 15,
        "start_time": "2023-04-30T12:36:16.517Z"
      },
      {
        "duration": 4,
        "start_time": "2023-04-30T12:36:17.115Z"
      },
      {
        "duration": 8,
        "start_time": "2023-04-30T12:36:18.029Z"
      },
      {
        "duration": 4,
        "start_time": "2023-04-30T12:36:20.749Z"
      },
      {
        "duration": 20,
        "start_time": "2023-04-30T12:36:21.524Z"
      },
      {
        "duration": 1327,
        "start_time": "2023-04-30T12:36:27.260Z"
      },
      {
        "duration": 101,
        "start_time": "2023-04-30T12:36:28.593Z"
      },
      {
        "duration": 15,
        "start_time": "2023-04-30T12:36:29.820Z"
      },
      {
        "duration": 5,
        "start_time": "2023-04-30T12:37:34.283Z"
      },
      {
        "duration": 15,
        "start_time": "2023-04-30T12:37:34.990Z"
      },
      {
        "duration": 13,
        "start_time": "2023-04-30T12:37:35.884Z"
      },
      {
        "duration": 16,
        "start_time": "2023-04-30T12:37:36.620Z"
      },
      {
        "duration": 3,
        "start_time": "2023-04-30T13:41:51.570Z"
      },
      {
        "duration": 347,
        "start_time": "2023-04-30T13:41:53.112Z"
      },
      {
        "duration": 7,
        "start_time": "2023-04-30T13:41:54.222Z"
      },
      {
        "duration": 13,
        "start_time": "2023-04-30T13:41:56.439Z"
      },
      {
        "duration": 34,
        "start_time": "2023-04-30T13:42:02.310Z"
      },
      {
        "duration": 21,
        "start_time": "2023-04-30T13:42:03.461Z"
      },
      {
        "duration": 44,
        "start_time": "2023-04-30T13:42:04.492Z"
      },
      {
        "duration": 3,
        "start_time": "2023-04-30T13:42:05.245Z"
      },
      {
        "duration": 69,
        "start_time": "2023-04-30T13:42:06.141Z"
      },
      {
        "duration": 3,
        "start_time": "2023-04-30T13:42:08.045Z"
      },
      {
        "duration": 32,
        "start_time": "2023-04-30T13:42:09.211Z"
      },
      {
        "duration": 17,
        "start_time": "2023-04-30T13:42:30.253Z"
      },
      {
        "duration": 3,
        "start_time": "2023-04-30T13:42:35.917Z"
      },
      {
        "duration": 323,
        "start_time": "2023-04-30T13:42:36.429Z"
      },
      {
        "duration": 6,
        "start_time": "2023-04-30T13:42:36.807Z"
      },
      {
        "duration": 14,
        "start_time": "2023-04-30T13:42:37.558Z"
      },
      {
        "duration": 30,
        "start_time": "2023-04-30T13:42:38.158Z"
      },
      {
        "duration": 26,
        "start_time": "2023-04-30T13:42:38.907Z"
      },
      {
        "duration": 50,
        "start_time": "2023-04-30T13:42:39.687Z"
      },
      {
        "duration": 2,
        "start_time": "2023-04-30T13:42:40.375Z"
      },
      {
        "duration": 73,
        "start_time": "2023-04-30T13:42:41.095Z"
      },
      {
        "duration": 7,
        "start_time": "2023-04-30T13:42:42.399Z"
      },
      {
        "duration": 28,
        "start_time": "2023-04-30T13:42:43.600Z"
      },
      {
        "duration": 20,
        "start_time": "2023-04-30T13:42:52.694Z"
      },
      {
        "duration": 3,
        "start_time": "2023-04-30T13:43:00.119Z"
      },
      {
        "duration": 26,
        "start_time": "2023-04-30T13:43:00.984Z"
      },
      {
        "duration": 3,
        "start_time": "2023-04-30T13:44:03.136Z"
      },
      {
        "duration": 301,
        "start_time": "2023-04-30T13:44:03.543Z"
      },
      {
        "duration": 6,
        "start_time": "2023-04-30T13:44:03.976Z"
      },
      {
        "duration": 12,
        "start_time": "2023-04-30T13:44:04.775Z"
      },
      {
        "duration": 35,
        "start_time": "2023-04-30T13:44:05.295Z"
      },
      {
        "duration": 17,
        "start_time": "2023-04-30T13:44:06.359Z"
      },
      {
        "duration": 41,
        "start_time": "2023-04-30T13:44:06.815Z"
      },
      {
        "duration": 2,
        "start_time": "2023-04-30T13:44:07.375Z"
      },
      {
        "duration": 57,
        "start_time": "2023-04-30T13:44:08.031Z"
      },
      {
        "duration": 12,
        "start_time": "2023-04-30T13:44:15.927Z"
      },
      {
        "duration": 3,
        "start_time": "2023-04-30T13:44:58.735Z"
      },
      {
        "duration": 314,
        "start_time": "2023-04-30T13:44:59.160Z"
      },
      {
        "duration": 6,
        "start_time": "2023-04-30T13:44:59.476Z"
      },
      {
        "duration": 15,
        "start_time": "2023-04-30T13:45:00.103Z"
      },
      {
        "duration": 46,
        "start_time": "2023-04-30T13:45:00.688Z"
      },
      {
        "duration": 26,
        "start_time": "2023-04-30T13:45:01.431Z"
      },
      {
        "duration": 48,
        "start_time": "2023-04-30T13:45:02.256Z"
      },
      {
        "duration": 3,
        "start_time": "2023-04-30T13:45:03.528Z"
      },
      {
        "duration": 63,
        "start_time": "2023-04-30T13:45:04.672Z"
      },
      {
        "duration": 17,
        "start_time": "2023-04-30T13:45:06.456Z"
      },
      {
        "duration": 22,
        "start_time": "2023-04-30T13:45:07.495Z"
      },
      {
        "duration": 11,
        "start_time": "2023-04-30T13:45:10.412Z"
      },
      {
        "duration": 14,
        "start_time": "2023-04-30T13:45:21.434Z"
      },
      {
        "duration": 15,
        "start_time": "2023-04-30T13:46:38.402Z"
      },
      {
        "duration": 4,
        "start_time": "2023-04-30T13:46:44.395Z"
      },
      {
        "duration": 368,
        "start_time": "2023-04-30T13:46:44.840Z"
      },
      {
        "duration": 7,
        "start_time": "2023-04-30T13:46:45.309Z"
      },
      {
        "duration": 12,
        "start_time": "2023-04-30T13:46:46.179Z"
      },
      {
        "duration": 37,
        "start_time": "2023-04-30T13:46:46.592Z"
      },
      {
        "duration": 27,
        "start_time": "2023-04-30T13:46:47.088Z"
      },
      {
        "duration": 43,
        "start_time": "2023-04-30T13:46:47.584Z"
      },
      {
        "duration": 3,
        "start_time": "2023-04-30T13:46:48.107Z"
      },
      {
        "duration": 61,
        "start_time": "2023-04-30T13:46:48.592Z"
      },
      {
        "duration": 13,
        "start_time": "2023-04-30T13:46:49.912Z"
      },
      {
        "duration": 13,
        "start_time": "2023-04-30T13:46:51.572Z"
      },
      {
        "duration": 13,
        "start_time": "2023-04-30T13:46:54.178Z"
      },
      {
        "duration": 10,
        "start_time": "2023-04-30T13:47:13.014Z"
      },
      {
        "duration": 11,
        "start_time": "2023-04-30T13:47:29.872Z"
      },
      {
        "duration": 3,
        "start_time": "2023-04-30T13:47:39.337Z"
      },
      {
        "duration": 342,
        "start_time": "2023-04-30T13:47:39.793Z"
      },
      {
        "duration": 7,
        "start_time": "2023-04-30T13:47:40.205Z"
      },
      {
        "duration": 13,
        "start_time": "2023-04-30T13:47:41.312Z"
      },
      {
        "duration": 36,
        "start_time": "2023-04-30T13:47:41.993Z"
      },
      {
        "duration": 26,
        "start_time": "2023-04-30T13:47:42.593Z"
      },
      {
        "duration": 40,
        "start_time": "2023-04-30T13:47:43.314Z"
      },
      {
        "duration": 2,
        "start_time": "2023-04-30T13:47:44.433Z"
      },
      {
        "duration": 66,
        "start_time": "2023-04-30T13:47:45.656Z"
      },
      {
        "duration": 6,
        "start_time": "2023-04-30T13:47:48.777Z"
      },
      {
        "duration": 6,
        "start_time": "2023-04-30T13:48:01.625Z"
      },
      {
        "duration": 5,
        "start_time": "2023-04-30T13:48:10.585Z"
      },
      {
        "duration": 7,
        "start_time": "2023-04-30T13:48:37.101Z"
      },
      {
        "duration": 14,
        "start_time": "2023-04-30T13:48:44.571Z"
      },
      {
        "duration": 3,
        "start_time": "2023-04-30T13:48:53.129Z"
      },
      {
        "duration": 315,
        "start_time": "2023-04-30T13:48:53.673Z"
      },
      {
        "duration": 8,
        "start_time": "2023-04-30T13:48:54.122Z"
      },
      {
        "duration": 13,
        "start_time": "2023-04-30T13:48:55.073Z"
      },
      {
        "duration": 33,
        "start_time": "2023-04-30T13:48:55.778Z"
      },
      {
        "duration": 17,
        "start_time": "2023-04-30T13:48:56.457Z"
      },
      {
        "duration": 38,
        "start_time": "2023-04-30T13:48:57.323Z"
      },
      {
        "duration": 2,
        "start_time": "2023-04-30T13:48:58.658Z"
      },
      {
        "duration": 74,
        "start_time": "2023-04-30T13:48:59.953Z"
      },
      {
        "duration": 5,
        "start_time": "2023-04-30T13:49:02.915Z"
      },
      {
        "duration": 5,
        "start_time": "2023-04-30T13:49:03.737Z"
      },
      {
        "duration": 4,
        "start_time": "2023-04-30T13:49:04.738Z"
      },
      {
        "duration": 4,
        "start_time": "2023-04-30T13:49:05.681Z"
      },
      {
        "duration": 21,
        "start_time": "2023-04-30T13:49:17.386Z"
      },
      {
        "duration": 11,
        "start_time": "2023-04-30T13:49:57.682Z"
      },
      {
        "duration": 5,
        "start_time": "2023-04-30T13:50:13.978Z"
      },
      {
        "duration": 315,
        "start_time": "2023-04-30T13:50:14.457Z"
      },
      {
        "duration": 6,
        "start_time": "2023-04-30T13:50:14.929Z"
      },
      {
        "duration": 14,
        "start_time": "2023-04-30T13:50:16.011Z"
      },
      {
        "duration": 30,
        "start_time": "2023-04-30T13:50:16.754Z"
      },
      {
        "duration": 19,
        "start_time": "2023-04-30T13:50:17.276Z"
      },
      {
        "duration": 42,
        "start_time": "2023-04-30T13:50:18.338Z"
      },
      {
        "duration": 4,
        "start_time": "2023-04-30T13:50:19.303Z"
      },
      {
        "duration": 73,
        "start_time": "2023-04-30T13:50:21.354Z"
      },
      {
        "duration": 14,
        "start_time": "2023-04-30T13:50:27.339Z"
      },
      {
        "duration": 5,
        "start_time": "2023-04-30T13:50:30.225Z"
      },
      {
        "duration": 6,
        "start_time": "2023-04-30T13:50:30.738Z"
      },
      {
        "duration": 8,
        "start_time": "2023-04-30T13:50:31.691Z"
      },
      {
        "duration": 10,
        "start_time": "2023-04-30T13:50:32.594Z"
      },
      {
        "duration": 5,
        "start_time": "2023-04-30T13:50:49.642Z"
      },
      {
        "duration": 12,
        "start_time": "2023-04-30T13:50:50.219Z"
      },
      {
        "duration": 4,
        "start_time": "2023-04-30T13:50:50.715Z"
      },
      {
        "duration": 5,
        "start_time": "2023-04-30T13:50:51.412Z"
      },
      {
        "duration": 10,
        "start_time": "2023-04-30T13:50:52.058Z"
      },
      {
        "duration": 4,
        "start_time": "2023-04-30T13:50:52.683Z"
      },
      {
        "duration": 4,
        "start_time": "2023-04-30T13:50:53.276Z"
      },
      {
        "duration": 14,
        "start_time": "2023-04-30T13:50:54.052Z"
      },
      {
        "duration": 6,
        "start_time": "2023-04-30T13:50:55.100Z"
      },
      {
        "duration": 8,
        "start_time": "2023-04-30T13:50:56.017Z"
      },
      {
        "duration": 4,
        "start_time": "2023-04-30T13:50:58.042Z"
      },
      {
        "duration": 104,
        "start_time": "2023-04-30T13:50:59.194Z"
      },
      {
        "duration": 25,
        "start_time": "2023-04-30T13:51:00.081Z"
      },
      {
        "duration": 15,
        "start_time": "2023-04-30T13:51:00.914Z"
      },
      {
        "duration": 4,
        "start_time": "2023-04-30T13:52:19.259Z"
      },
      {
        "duration": 59,
        "start_time": "2023-04-30T13:52:19.939Z"
      },
      {
        "duration": 26,
        "start_time": "2023-04-30T13:52:33.386Z"
      },
      {
        "duration": 78,
        "start_time": "2023-04-30T13:52:53.523Z"
      },
      {
        "duration": 6,
        "start_time": "2023-04-30T13:53:44.064Z"
      },
      {
        "duration": 76,
        "start_time": "2023-04-30T13:53:44.725Z"
      },
      {
        "duration": 18,
        "start_time": "2023-04-30T13:54:51.637Z"
      },
      {
        "duration": 19,
        "start_time": "2023-04-30T13:54:53.916Z"
      },
      {
        "duration": 14,
        "start_time": "2023-04-30T14:00:29.223Z"
      },
      {
        "duration": 30,
        "start_time": "2023-04-30T14:01:43.978Z"
      },
      {
        "duration": 34,
        "start_time": "2023-04-30T14:01:55.207Z"
      },
      {
        "duration": 39,
        "start_time": "2023-04-30T14:02:28.617Z"
      },
      {
        "duration": 35,
        "start_time": "2023-04-30T14:02:45.184Z"
      },
      {
        "duration": 38,
        "start_time": "2023-04-30T14:03:01.729Z"
      },
      {
        "duration": 3,
        "start_time": "2023-04-30T15:41:09.130Z"
      },
      {
        "duration": 293,
        "start_time": "2023-04-30T15:41:09.785Z"
      },
      {
        "duration": 5,
        "start_time": "2023-04-30T15:41:11.016Z"
      },
      {
        "duration": 12,
        "start_time": "2023-04-30T15:41:13.432Z"
      },
      {
        "duration": 29,
        "start_time": "2023-04-30T15:41:16.138Z"
      },
      {
        "duration": 19,
        "start_time": "2023-04-30T15:41:19.620Z"
      },
      {
        "duration": 38,
        "start_time": "2023-04-30T15:41:21.028Z"
      },
      {
        "duration": 3,
        "start_time": "2023-04-30T15:41:23.612Z"
      },
      {
        "duration": 67,
        "start_time": "2023-04-30T15:41:25.713Z"
      },
      {
        "duration": 14,
        "start_time": "2023-04-30T15:41:26.827Z"
      },
      {
        "duration": 5,
        "start_time": "2023-04-30T15:41:32.840Z"
      },
      {
        "duration": 5,
        "start_time": "2023-04-30T15:41:33.550Z"
      },
      {
        "duration": 7,
        "start_time": "2023-04-30T15:41:34.211Z"
      },
      {
        "duration": 4,
        "start_time": "2023-04-30T15:41:34.738Z"
      },
      {
        "duration": 28,
        "start_time": "2023-04-30T15:41:36.547Z"
      },
      {
        "duration": 307,
        "start_time": "2023-04-30T15:44:02.823Z"
      },
      {
        "duration": 358,
        "start_time": "2023-04-30T15:44:12.675Z"
      },
      {
        "duration": 117,
        "start_time": "2023-04-30T15:44:25.024Z"
      },
      {
        "duration": 301,
        "start_time": "2023-04-30T15:44:35.383Z"
      },
      {
        "duration": 747,
        "start_time": "2023-04-30T15:45:34.119Z"
      },
      {
        "duration": 940,
        "start_time": "2023-04-30T15:45:56.922Z"
      },
      {
        "duration": 936,
        "start_time": "2023-04-30T15:46:06.915Z"
      },
      {
        "duration": 486,
        "start_time": "2023-04-30T15:46:37.482Z"
      },
      {
        "duration": 229,
        "start_time": "2023-04-30T15:46:45.844Z"
      },
      {
        "duration": 525,
        "start_time": "2023-04-30T15:47:44.016Z"
      },
      {
        "duration": 253,
        "start_time": "2023-04-30T15:48:05.327Z"
      },
      {
        "duration": 562,
        "start_time": "2023-04-30T15:48:18.238Z"
      },
      {
        "duration": 244,
        "start_time": "2023-04-30T15:48:32.528Z"
      },
      {
        "duration": 222,
        "start_time": "2023-04-30T15:48:43.183Z"
      },
      {
        "duration": 237,
        "start_time": "2023-04-30T15:48:53.432Z"
      },
      {
        "duration": 1093,
        "start_time": "2023-04-30T15:51:32.184Z"
      },
      {
        "duration": 1108,
        "start_time": "2023-04-30T15:51:41.219Z"
      },
      {
        "duration": 1136,
        "start_time": "2023-04-30T15:53:04.877Z"
      },
      {
        "duration": 4,
        "start_time": "2023-04-30T15:53:17.383Z"
      },
      {
        "duration": 1170,
        "start_time": "2023-04-30T15:53:24.343Z"
      },
      {
        "duration": 1193,
        "start_time": "2023-04-30T15:54:01.234Z"
      },
      {
        "duration": 1181,
        "start_time": "2023-04-30T15:54:15.613Z"
      },
      {
        "duration": 147,
        "start_time": "2023-04-30T15:54:38.810Z"
      },
      {
        "duration": 123,
        "start_time": "2023-04-30T15:54:50.010Z"
      },
      {
        "duration": 468,
        "start_time": "2023-04-30T15:55:08.264Z"
      },
      {
        "duration": 440,
        "start_time": "2023-04-30T15:55:27.945Z"
      },
      {
        "duration": 289,
        "start_time": "2023-04-30T15:55:33.710Z"
      },
      {
        "duration": 181,
        "start_time": "2023-04-30T15:57:00.419Z"
      },
      {
        "duration": 167,
        "start_time": "2023-04-30T15:57:30.833Z"
      },
      {
        "duration": 422,
        "start_time": "2023-04-30T15:59:23.421Z"
      },
      {
        "duration": 320,
        "start_time": "2023-04-30T16:00:14.123Z"
      },
      {
        "duration": 323,
        "start_time": "2023-04-30T16:00:26.765Z"
      },
      {
        "duration": 346,
        "start_time": "2023-04-30T16:00:54.182Z"
      },
      {
        "duration": 311,
        "start_time": "2023-04-30T16:01:14.819Z"
      },
      {
        "duration": 437,
        "start_time": "2023-04-30T16:01:29.425Z"
      },
      {
        "duration": 432,
        "start_time": "2023-04-30T16:02:38.713Z"
      },
      {
        "duration": 75,
        "start_time": "2023-04-30T16:02:49.252Z"
      },
      {
        "duration": 424,
        "start_time": "2023-04-30T16:02:54.955Z"
      },
      {
        "duration": 470,
        "start_time": "2023-04-30T16:03:43.820Z"
      },
      {
        "duration": 532,
        "start_time": "2023-04-30T16:04:25.128Z"
      },
      {
        "duration": 425,
        "start_time": "2023-04-30T16:05:21.780Z"
      },
      {
        "duration": 430,
        "start_time": "2023-04-30T16:05:30.676Z"
      },
      {
        "duration": 455,
        "start_time": "2023-04-30T16:05:38.284Z"
      },
      {
        "duration": 483,
        "start_time": "2023-04-30T16:06:45.781Z"
      },
      {
        "duration": 445,
        "start_time": "2023-04-30T16:07:02.078Z"
      },
      {
        "duration": 594,
        "start_time": "2023-04-30T16:07:19.157Z"
      },
      {
        "duration": 671,
        "start_time": "2023-04-30T16:07:32.197Z"
      },
      {
        "duration": 633,
        "start_time": "2023-04-30T16:07:55.814Z"
      },
      {
        "duration": 284,
        "start_time": "2023-04-30T16:08:39.314Z"
      },
      {
        "duration": 243,
        "start_time": "2023-04-30T16:08:52.254Z"
      },
      {
        "duration": 252,
        "start_time": "2023-04-30T16:09:29.153Z"
      },
      {
        "duration": 250,
        "start_time": "2023-04-30T16:09:36.223Z"
      },
      {
        "duration": 361,
        "start_time": "2023-04-30T16:10:18.308Z"
      },
      {
        "duration": 9,
        "start_time": "2023-04-30T16:10:48.417Z"
      },
      {
        "duration": 13,
        "start_time": "2023-04-30T16:11:27.984Z"
      },
      {
        "duration": 3,
        "start_time": "2023-04-30T16:11:32.826Z"
      },
      {
        "duration": 303,
        "start_time": "2023-04-30T16:11:33.318Z"
      },
      {
        "duration": 3,
        "start_time": "2023-04-30T16:11:33.817Z"
      },
      {
        "duration": 17,
        "start_time": "2023-04-30T16:11:34.945Z"
      },
      {
        "duration": 33,
        "start_time": "2023-04-30T16:11:35.663Z"
      },
      {
        "duration": 18,
        "start_time": "2023-04-30T16:11:36.751Z"
      },
      {
        "duration": 40,
        "start_time": "2023-04-30T16:11:38.447Z"
      },
      {
        "duration": 3,
        "start_time": "2023-04-30T16:11:39.551Z"
      },
      {
        "duration": 61,
        "start_time": "2023-04-30T16:11:40.480Z"
      },
      {
        "duration": 13,
        "start_time": "2023-04-30T16:11:40.968Z"
      },
      {
        "duration": 4,
        "start_time": "2023-04-30T16:11:42.311Z"
      },
      {
        "duration": 5,
        "start_time": "2023-04-30T16:11:43.109Z"
      },
      {
        "duration": 5,
        "start_time": "2023-04-30T16:11:43.637Z"
      },
      {
        "duration": 5,
        "start_time": "2023-04-30T16:11:44.143Z"
      },
      {
        "duration": 26,
        "start_time": "2023-04-30T16:11:44.710Z"
      },
      {
        "duration": 259,
        "start_time": "2023-04-30T16:11:46.536Z"
      },
      {
        "duration": 226,
        "start_time": "2023-04-30T16:11:55.156Z"
      },
      {
        "duration": 244,
        "start_time": "2023-04-30T16:13:04.514Z"
      },
      {
        "duration": 411,
        "start_time": "2023-04-30T16:13:44.371Z"
      },
      {
        "duration": 593,
        "start_time": "2023-04-30T16:14:01.353Z"
      },
      {
        "duration": 412,
        "start_time": "2023-04-30T16:14:31.178Z"
      },
      {
        "duration": 7,
        "start_time": "2023-04-30T16:15:04.178Z"
      },
      {
        "duration": 499,
        "start_time": "2023-04-30T16:15:15.218Z"
      },
      {
        "duration": 619,
        "start_time": "2023-04-30T16:15:55.122Z"
      },
      {
        "duration": 239,
        "start_time": "2023-04-30T16:16:16.874Z"
      },
      {
        "duration": 242,
        "start_time": "2023-04-30T16:20:48.142Z"
      },
      {
        "duration": 390,
        "start_time": "2023-04-30T16:20:57.271Z"
      },
      {
        "duration": 513,
        "start_time": "2023-04-30T16:21:11.766Z"
      },
      {
        "duration": 509,
        "start_time": "2023-04-30T16:21:44.437Z"
      },
      {
        "duration": 628,
        "start_time": "2023-04-30T16:22:11.610Z"
      },
      {
        "duration": 771,
        "start_time": "2023-04-30T16:22:27.837Z"
      },
      {
        "duration": 637,
        "start_time": "2023-04-30T16:22:36.007Z"
      },
      {
        "duration": 15,
        "start_time": "2023-04-30T16:22:59.732Z"
      },
      {
        "duration": 384,
        "start_time": "2023-04-30T16:23:52.063Z"
      },
      {
        "duration": 751,
        "start_time": "2023-04-30T16:24:55.159Z"
      },
      {
        "duration": 646,
        "start_time": "2023-04-30T16:25:06.407Z"
      },
      {
        "duration": 781,
        "start_time": "2023-04-30T16:25:15.823Z"
      },
      {
        "duration": 778,
        "start_time": "2023-04-30T16:25:27.410Z"
      },
      {
        "duration": 768,
        "start_time": "2023-04-30T16:25:35.720Z"
      },
      {
        "duration": 625,
        "start_time": "2023-04-30T16:25:48.403Z"
      },
      {
        "duration": 783,
        "start_time": "2023-04-30T16:25:58.320Z"
      },
      {
        "duration": 304,
        "start_time": "2023-04-30T16:26:24.011Z"
      },
      {
        "duration": 265,
        "start_time": "2023-04-30T16:26:31.753Z"
      },
      {
        "duration": 651,
        "start_time": "2023-04-30T16:26:35.298Z"
      },
      {
        "duration": 802,
        "start_time": "2023-04-30T16:29:14.242Z"
      },
      {
        "duration": 627,
        "start_time": "2023-04-30T16:30:24.850Z"
      },
      {
        "duration": 818,
        "start_time": "2023-04-30T16:30:56.873Z"
      },
      {
        "duration": 1835,
        "start_time": "2023-04-30T16:31:46.900Z"
      },
      {
        "duration": 830,
        "start_time": "2023-04-30T16:32:05.042Z"
      },
      {
        "duration": 258,
        "start_time": "2023-04-30T16:37:08.847Z"
      },
      {
        "duration": 262,
        "start_time": "2023-04-30T16:37:28.581Z"
      },
      {
        "duration": 240,
        "start_time": "2023-04-30T16:38:19.610Z"
      },
      {
        "duration": 227,
        "start_time": "2023-04-30T16:38:27.342Z"
      },
      {
        "duration": 200,
        "start_time": "2023-04-30T16:38:42.870Z"
      },
      {
        "duration": 261,
        "start_time": "2023-04-30T16:39:04.613Z"
      },
      {
        "duration": 241,
        "start_time": "2023-04-30T16:39:15.526Z"
      },
      {
        "duration": 279,
        "start_time": "2023-04-30T16:39:28.751Z"
      },
      {
        "duration": 251,
        "start_time": "2023-04-30T16:39:30.720Z"
      },
      {
        "duration": 15,
        "start_time": "2023-04-30T16:41:33.240Z"
      },
      {
        "duration": 4348,
        "start_time": "2023-04-30T16:42:18.953Z"
      },
      {
        "duration": 637,
        "start_time": "2023-04-30T16:42:58.812Z"
      },
      {
        "duration": 279,
        "start_time": "2023-04-30T16:43:39.249Z"
      },
      {
        "duration": 436,
        "start_time": "2023-04-30T16:47:18.283Z"
      },
      {
        "duration": 275,
        "start_time": "2023-04-30T16:47:55.931Z"
      },
      {
        "duration": 119,
        "start_time": "2023-04-30T16:49:44.020Z"
      },
      {
        "duration": 104,
        "start_time": "2023-04-30T16:49:55.981Z"
      },
      {
        "duration": 471,
        "start_time": "2023-04-30T16:57:02.626Z"
      },
      {
        "duration": 302,
        "start_time": "2023-04-30T16:57:53.706Z"
      },
      {
        "duration": 430,
        "start_time": "2023-04-30T16:58:06.217Z"
      },
      {
        "duration": 438,
        "start_time": "2023-04-30T16:58:48.737Z"
      },
      {
        "duration": 479,
        "start_time": "2023-04-30T16:59:01.873Z"
      },
      {
        "duration": 759,
        "start_time": "2023-04-30T16:59:18.554Z"
      },
      {
        "duration": 957,
        "start_time": "2023-04-30T17:00:12.591Z"
      },
      {
        "duration": 784,
        "start_time": "2023-04-30T17:00:36.410Z"
      },
      {
        "duration": 4199,
        "start_time": "2023-04-30T17:01:14.569Z"
      },
      {
        "duration": 4347,
        "start_time": "2023-04-30T17:01:51.363Z"
      },
      {
        "duration": 4231,
        "start_time": "2023-04-30T17:02:21.787Z"
      },
      {
        "duration": 767,
        "start_time": "2023-04-30T17:02:50.163Z"
      },
      {
        "duration": 4,
        "start_time": "2023-04-30T17:06:07.421Z"
      },
      {
        "duration": 10,
        "start_time": "2023-04-30T17:06:08.316Z"
      },
      {
        "duration": 4,
        "start_time": "2023-04-30T17:06:08.828Z"
      },
      {
        "duration": 4,
        "start_time": "2023-04-30T17:06:09.366Z"
      },
      {
        "duration": 11,
        "start_time": "2023-04-30T17:06:09.909Z"
      },
      {
        "duration": 6,
        "start_time": "2023-04-30T17:06:10.497Z"
      },
      {
        "duration": 4,
        "start_time": "2023-04-30T17:06:11.180Z"
      },
      {
        "duration": 10,
        "start_time": "2023-04-30T17:06:12.348Z"
      },
      {
        "duration": 4,
        "start_time": "2023-04-30T17:06:12.868Z"
      },
      {
        "duration": 8,
        "start_time": "2023-04-30T17:06:13.567Z"
      },
      {
        "duration": 99,
        "start_time": "2023-04-30T17:07:59.802Z"
      },
      {
        "duration": 21,
        "start_time": "2023-04-30T17:08:16.581Z"
      },
      {
        "duration": 16,
        "start_time": "2023-04-30T17:08:37.374Z"
      },
      {
        "duration": 9,
        "start_time": "2023-04-30T19:49:52.193Z"
      },
      {
        "duration": 4,
        "start_time": "2023-04-30T19:49:58.752Z"
      },
      {
        "duration": 19,
        "start_time": "2023-04-30T19:49:59.724Z"
      },
      {
        "duration": 4,
        "start_time": "2023-04-30T19:50:52.933Z"
      },
      {
        "duration": 17,
        "start_time": "2023-04-30T19:50:53.685Z"
      },
      {
        "duration": 4,
        "start_time": "2023-04-30T19:54:09.350Z"
      },
      {
        "duration": 219,
        "start_time": "2023-04-30T19:54:11.676Z"
      },
      {
        "duration": 4,
        "start_time": "2023-04-30T19:54:49.957Z"
      },
      {
        "duration": 3,
        "start_time": "2023-04-30T19:54:59.238Z"
      },
      {
        "duration": 192,
        "start_time": "2023-04-30T19:55:00.001Z"
      },
      {
        "duration": 4,
        "start_time": "2023-04-30T19:55:43.639Z"
      },
      {
        "duration": 17,
        "start_time": "2023-04-30T19:55:44.358Z"
      },
      {
        "duration": 4,
        "start_time": "2023-04-30T19:56:09.983Z"
      },
      {
        "duration": 169,
        "start_time": "2023-04-30T19:56:10.727Z"
      },
      {
        "duration": 4,
        "start_time": "2023-04-30T19:56:40.775Z"
      },
      {
        "duration": 217,
        "start_time": "2023-04-30T19:56:41.177Z"
      },
      {
        "duration": 3,
        "start_time": "2023-04-30T19:57:52.871Z"
      },
      {
        "duration": 314,
        "start_time": "2023-04-30T19:57:53.367Z"
      },
      {
        "duration": 2,
        "start_time": "2023-04-30T19:57:53.887Z"
      },
      {
        "duration": 13,
        "start_time": "2023-04-30T19:57:55.104Z"
      },
      {
        "duration": 31,
        "start_time": "2023-04-30T19:57:56.303Z"
      },
      {
        "duration": 18,
        "start_time": "2023-04-30T19:57:56.952Z"
      },
      {
        "duration": 39,
        "start_time": "2023-04-30T19:57:57.631Z"
      },
      {
        "duration": 2,
        "start_time": "2023-04-30T19:57:58.239Z"
      },
      {
        "duration": 62,
        "start_time": "2023-04-30T19:57:59.199Z"
      },
      {
        "duration": 13,
        "start_time": "2023-04-30T19:57:59.727Z"
      },
      {
        "duration": 6,
        "start_time": "2023-04-30T19:58:00.894Z"
      },
      {
        "duration": 5,
        "start_time": "2023-04-30T19:58:01.411Z"
      },
      {
        "duration": 6,
        "start_time": "2023-04-30T19:58:01.920Z"
      },
      {
        "duration": 3,
        "start_time": "2023-04-30T19:58:02.379Z"
      },
      {
        "duration": 26,
        "start_time": "2023-04-30T19:58:03.232Z"
      },
      {
        "duration": 826,
        "start_time": "2023-04-30T19:58:04.560Z"
      },
      {
        "duration": 749,
        "start_time": "2023-04-30T19:58:05.792Z"
      },
      {
        "duration": 4,
        "start_time": "2023-04-30T19:58:08.328Z"
      },
      {
        "duration": 10,
        "start_time": "2023-04-30T19:58:08.856Z"
      },
      {
        "duration": 4,
        "start_time": "2023-04-30T19:58:09.458Z"
      },
      {
        "duration": 4,
        "start_time": "2023-04-30T19:58:09.976Z"
      },
      {
        "duration": 10,
        "start_time": "2023-04-30T19:58:10.529Z"
      },
      {
        "duration": 4,
        "start_time": "2023-04-30T19:58:11.055Z"
      },
      {
        "duration": 5,
        "start_time": "2023-04-30T19:58:11.536Z"
      },
      {
        "duration": 10,
        "start_time": "2023-04-30T19:58:12.032Z"
      },
      {
        "duration": 4,
        "start_time": "2023-04-30T19:58:12.536Z"
      },
      {
        "duration": 8,
        "start_time": "2023-04-30T19:58:13.143Z"
      },
      {
        "duration": 5,
        "start_time": "2023-04-30T19:58:14.105Z"
      },
      {
        "duration": 24,
        "start_time": "2023-04-30T19:58:14.969Z"
      },
      {
        "duration": 16,
        "start_time": "2023-04-30T19:58:15.640Z"
      },
      {
        "duration": 16,
        "start_time": "2023-04-30T19:58:16.536Z"
      },
      {
        "duration": 3,
        "start_time": "2023-04-30T19:58:18.520Z"
      },
      {
        "duration": 177,
        "start_time": "2023-04-30T19:58:19.920Z"
      },
      {
        "duration": 4,
        "start_time": "2023-04-30T20:01:02.466Z"
      },
      {
        "duration": 30,
        "start_time": "2023-04-30T20:01:04.466Z"
      },
      {
        "duration": 4,
        "start_time": "2023-04-30T20:01:24.834Z"
      },
      {
        "duration": 296,
        "start_time": "2023-04-30T20:01:25.258Z"
      },
      {
        "duration": 6,
        "start_time": "2023-04-30T20:01:25.562Z"
      },
      {
        "duration": 12,
        "start_time": "2023-04-30T20:01:26.507Z"
      },
      {
        "duration": 31,
        "start_time": "2023-04-30T20:01:27.026Z"
      },
      {
        "duration": 19,
        "start_time": "2023-04-30T20:01:27.501Z"
      },
      {
        "duration": 46,
        "start_time": "2023-04-30T20:01:27.916Z"
      },
      {
        "duration": 3,
        "start_time": "2023-04-30T20:01:28.338Z"
      },
      {
        "duration": 66,
        "start_time": "2023-04-30T20:01:28.858Z"
      },
      {
        "duration": 13,
        "start_time": "2023-04-30T20:01:29.242Z"
      },
      {
        "duration": 5,
        "start_time": "2023-04-30T20:01:30.226Z"
      },
      {
        "duration": 5,
        "start_time": "2023-04-30T20:01:30.578Z"
      },
      {
        "duration": 7,
        "start_time": "2023-04-30T20:01:30.842Z"
      },
      {
        "duration": 4,
        "start_time": "2023-04-30T20:01:31.122Z"
      },
      {
        "duration": 32,
        "start_time": "2023-04-30T20:01:31.380Z"
      },
      {
        "duration": 620,
        "start_time": "2023-04-30T20:01:32.851Z"
      },
      {
        "duration": 794,
        "start_time": "2023-04-30T20:01:33.474Z"
      },
      {
        "duration": 5,
        "start_time": "2023-04-30T20:01:35.897Z"
      },
      {
        "duration": 10,
        "start_time": "2023-04-30T20:01:36.179Z"
      },
      {
        "duration": 3,
        "start_time": "2023-04-30T20:01:36.427Z"
      },
      {
        "duration": 5,
        "start_time": "2023-04-30T20:01:36.673Z"
      },
      {
        "duration": 10,
        "start_time": "2023-04-30T20:01:36.882Z"
      },
      {
        "duration": 4,
        "start_time": "2023-04-30T20:01:37.115Z"
      },
      {
        "duration": 5,
        "start_time": "2023-04-30T20:01:37.410Z"
      },
      {
        "duration": 11,
        "start_time": "2023-04-30T20:01:37.906Z"
      },
      {
        "duration": 4,
        "start_time": "2023-04-30T20:01:38.386Z"
      },
      {
        "duration": 9,
        "start_time": "2023-04-30T20:01:38.824Z"
      },
      {
        "duration": 4,
        "start_time": "2023-04-30T20:01:39.371Z"
      },
      {
        "duration": 35,
        "start_time": "2023-04-30T20:01:40.259Z"
      },
      {
        "duration": 17,
        "start_time": "2023-04-30T20:01:40.874Z"
      },
      {
        "duration": 22,
        "start_time": "2023-04-30T20:01:41.427Z"
      },
      {
        "duration": 12,
        "start_time": "2023-04-30T20:03:30.347Z"
      },
      {
        "duration": 68,
        "start_time": "2023-04-30T20:04:19.181Z"
      },
      {
        "duration": 18,
        "start_time": "2023-04-30T20:04:27.974Z"
      },
      {
        "duration": 13,
        "start_time": "2023-04-30T20:05:08.901Z"
      },
      {
        "duration": 4,
        "start_time": "2023-04-30T20:05:26.572Z"
      },
      {
        "duration": 98,
        "start_time": "2023-04-30T20:05:29.797Z"
      },
      {
        "duration": 4,
        "start_time": "2023-04-30T20:05:39.540Z"
      },
      {
        "duration": 17,
        "start_time": "2023-04-30T20:05:41.603Z"
      },
      {
        "duration": 18,
        "start_time": "2023-04-30T20:06:30.927Z"
      },
      {
        "duration": 18,
        "start_time": "2023-04-30T20:06:31.308Z"
      },
      {
        "duration": 3,
        "start_time": "2023-04-30T20:20:59.724Z"
      },
      {
        "duration": 1555,
        "start_time": "2023-05-01T05:19:46.763Z"
      },
      {
        "duration": 1900,
        "start_time": "2023-05-01T05:19:48.320Z"
      },
      {
        "duration": 2,
        "start_time": "2023-05-01T05:19:51.181Z"
      },
      {
        "duration": 14,
        "start_time": "2023-05-01T05:19:53.581Z"
      },
      {
        "duration": 35,
        "start_time": "2023-05-01T05:19:56.340Z"
      },
      {
        "duration": 29,
        "start_time": "2023-05-01T05:19:57.541Z"
      },
      {
        "duration": 46,
        "start_time": "2023-05-01T05:19:58.660Z"
      },
      {
        "duration": 3,
        "start_time": "2023-05-01T05:20:00.734Z"
      },
      {
        "duration": 81,
        "start_time": "2023-05-01T05:20:01.692Z"
      },
      {
        "duration": 18,
        "start_time": "2023-05-01T05:20:03.229Z"
      },
      {
        "duration": 5,
        "start_time": "2023-05-01T05:20:06.061Z"
      },
      {
        "duration": 5,
        "start_time": "2023-05-01T05:20:06.836Z"
      },
      {
        "duration": 5,
        "start_time": "2023-05-01T05:20:07.349Z"
      },
      {
        "duration": 4,
        "start_time": "2023-05-01T05:20:07.852Z"
      },
      {
        "duration": 29,
        "start_time": "2023-05-01T05:20:08.325Z"
      },
      {
        "duration": 726,
        "start_time": "2023-05-01T05:20:12.365Z"
      },
      {
        "duration": 1028,
        "start_time": "2023-05-01T05:20:14.221Z"
      },
      {
        "duration": 4,
        "start_time": "2023-05-01T05:20:24.157Z"
      },
      {
        "duration": 13,
        "start_time": "2023-05-01T05:20:25.205Z"
      },
      {
        "duration": 4,
        "start_time": "2023-05-01T05:20:25.972Z"
      },
      {
        "duration": 6,
        "start_time": "2023-05-01T05:20:26.588Z"
      },
      {
        "duration": 13,
        "start_time": "2023-05-01T05:20:27.485Z"
      },
      {
        "duration": 4,
        "start_time": "2023-05-01T05:20:28.357Z"
      },
      {
        "duration": 6,
        "start_time": "2023-05-01T05:20:29.564Z"
      },
      {
        "duration": 13,
        "start_time": "2023-05-01T05:20:30.325Z"
      },
      {
        "duration": 4,
        "start_time": "2023-05-01T05:20:31.197Z"
      },
      {
        "duration": 12,
        "start_time": "2023-05-01T05:20:31.902Z"
      },
      {
        "duration": 4,
        "start_time": "2023-05-01T05:20:33.021Z"
      },
      {
        "duration": 54,
        "start_time": "2023-05-01T05:20:35.749Z"
      },
      {
        "duration": 18,
        "start_time": "2023-05-01T05:20:39.748Z"
      },
      {
        "duration": 18,
        "start_time": "2023-05-01T05:20:40.261Z"
      },
      {
        "duration": 7,
        "start_time": "2023-05-01T05:21:36.077Z"
      },
      {
        "duration": 10,
        "start_time": "2023-05-01T05:23:25.469Z"
      },
      {
        "duration": 9,
        "start_time": "2023-05-01T05:25:08.463Z"
      },
      {
        "duration": 9,
        "start_time": "2023-05-01T05:25:22.366Z"
      },
      {
        "duration": 9,
        "start_time": "2023-05-01T05:26:14.904Z"
      },
      {
        "duration": 4,
        "start_time": "2023-05-01T05:26:33.304Z"
      },
      {
        "duration": 20,
        "start_time": "2023-05-01T05:26:33.800Z"
      },
      {
        "duration": 19,
        "start_time": "2023-05-01T05:26:34.303Z"
      },
      {
        "duration": 19,
        "start_time": "2023-05-01T05:26:34.879Z"
      },
      {
        "duration": 788,
        "start_time": "2023-05-01T05:37:38.548Z"
      },
      {
        "duration": 12,
        "start_time": "2023-05-01T05:41:03.831Z"
      },
      {
        "duration": 12,
        "start_time": "2023-05-01T05:41:15.319Z"
      },
      {
        "duration": 34,
        "start_time": "2023-05-01T05:41:16.799Z"
      },
      {
        "duration": 19,
        "start_time": "2023-05-01T05:41:18.319Z"
      },
      {
        "duration": 18,
        "start_time": "2023-05-01T05:41:52.951Z"
      },
      {
        "duration": 35,
        "start_time": "2023-05-01T05:41:53.481Z"
      },
      {
        "duration": 3,
        "start_time": "2023-05-01T05:41:54.359Z"
      },
      {
        "duration": 3,
        "start_time": "2023-05-01T05:43:26.376Z"
      },
      {
        "duration": 114,
        "start_time": "2023-05-01T05:43:26.896Z"
      },
      {
        "duration": 10,
        "start_time": "2023-05-01T05:43:28.520Z"
      },
      {
        "duration": 4,
        "start_time": "2023-05-01T05:43:35.732Z"
      },
      {
        "duration": 380,
        "start_time": "2023-05-01T05:43:35.737Z"
      },
      {
        "duration": 6,
        "start_time": "2023-05-01T05:43:36.319Z"
      },
      {
        "duration": 14,
        "start_time": "2023-05-01T05:43:37.023Z"
      },
      {
        "duration": 34,
        "start_time": "2023-05-01T05:43:37.752Z"
      },
      {
        "duration": 21,
        "start_time": "2023-05-01T05:43:40.269Z"
      },
      {
        "duration": 41,
        "start_time": "2023-05-01T05:43:40.840Z"
      },
      {
        "duration": 3,
        "start_time": "2023-05-01T05:43:43.743Z"
      },
      {
        "duration": 85,
        "start_time": "2023-05-01T05:43:44.473Z"
      },
      {
        "duration": 14,
        "start_time": "2023-05-01T05:43:45.809Z"
      },
      {
        "duration": 4,
        "start_time": "2023-05-01T05:44:08.793Z"
      },
      {
        "duration": 5,
        "start_time": "2023-05-01T05:44:09.256Z"
      },
      {
        "duration": 5,
        "start_time": "2023-05-01T05:44:09.736Z"
      },
      {
        "duration": 4,
        "start_time": "2023-05-01T05:44:10.736Z"
      },
      {
        "duration": 40,
        "start_time": "2023-05-01T05:46:57.786Z"
      },
      {
        "duration": 3,
        "start_time": "2023-05-01T05:59:31.377Z"
      },
      {
        "duration": 394,
        "start_time": "2023-05-01T05:59:31.787Z"
      },
      {
        "duration": 7,
        "start_time": "2023-05-01T05:59:32.183Z"
      },
      {
        "duration": 12,
        "start_time": "2023-05-01T05:59:32.961Z"
      },
      {
        "duration": 37,
        "start_time": "2023-05-01T05:59:33.176Z"
      },
      {
        "duration": 18,
        "start_time": "2023-05-01T05:59:33.872Z"
      },
      {
        "duration": 43,
        "start_time": "2023-05-01T05:59:34.105Z"
      },
      {
        "duration": 3,
        "start_time": "2023-05-01T05:59:34.544Z"
      },
      {
        "duration": 68,
        "start_time": "2023-05-01T05:59:34.769Z"
      },
      {
        "duration": 13,
        "start_time": "2023-05-01T05:59:34.943Z"
      },
      {
        "duration": 5,
        "start_time": "2023-05-01T05:59:35.759Z"
      },
      {
        "duration": 6,
        "start_time": "2023-05-01T05:59:35.845Z"
      },
      {
        "duration": 6,
        "start_time": "2023-05-01T05:59:36.088Z"
      },
      {
        "duration": 3,
        "start_time": "2023-05-01T05:59:36.320Z"
      },
      {
        "duration": 29,
        "start_time": "2023-05-01T05:59:36.816Z"
      },
      {
        "duration": 884,
        "start_time": "2023-05-01T05:59:37.376Z"
      },
      {
        "duration": 841,
        "start_time": "2023-05-01T05:59:38.425Z"
      },
      {
        "duration": 4,
        "start_time": "2023-05-01T05:59:42.705Z"
      },
      {
        "duration": 16,
        "start_time": "2023-05-01T05:59:43.708Z"
      },
      {
        "duration": 4,
        "start_time": "2023-05-01T06:00:36.721Z"
      },
      {
        "duration": 13,
        "start_time": "2023-05-01T06:00:37.417Z"
      },
      {
        "duration": 4,
        "start_time": "2023-05-01T06:00:42.657Z"
      },
      {
        "duration": 12,
        "start_time": "2023-05-01T06:02:02.730Z"
      },
      {
        "duration": 11,
        "start_time": "2023-05-01T06:02:03.762Z"
      },
      {
        "duration": 3,
        "start_time": "2023-05-01T06:02:05.289Z"
      },
      {
        "duration": 3,
        "start_time": "2023-05-01T06:02:05.649Z"
      },
      {
        "duration": 4,
        "start_time": "2023-05-01T06:02:06.616Z"
      },
      {
        "duration": 2,
        "start_time": "2023-05-01T06:02:07.841Z"
      },
      {
        "duration": 2,
        "start_time": "2023-05-01T06:02:08.242Z"
      },
      {
        "duration": 4,
        "start_time": "2023-05-01T06:02:09.017Z"
      },
      {
        "duration": 3,
        "start_time": "2023-05-01T06:02:11.612Z"
      },
      {
        "duration": 2,
        "start_time": "2023-05-01T06:02:12.119Z"
      },
      {
        "duration": 4,
        "start_time": "2023-05-01T06:02:12.729Z"
      },
      {
        "duration": 9,
        "start_time": "2023-05-01T06:02:13.760Z"
      },
      {
        "duration": 4,
        "start_time": "2023-05-01T06:02:17.312Z"
      },
      {
        "duration": 19,
        "start_time": "2023-05-01T06:02:18.612Z"
      },
      {
        "duration": 3,
        "start_time": "2023-05-01T06:06:16.244Z"
      },
      {
        "duration": 16,
        "start_time": "2023-05-01T06:06:17.156Z"
      },
      {
        "duration": 3,
        "start_time": "2023-05-01T06:06:28.748Z"
      },
      {
        "duration": 3,
        "start_time": "2023-05-01T06:06:29.515Z"
      },
      {
        "duration": 4,
        "start_time": "2023-05-01T06:07:36.469Z"
      },
      {
        "duration": 5,
        "start_time": "2023-05-01T06:08:31.414Z"
      },
      {
        "duration": 10,
        "start_time": "2023-05-01T06:08:47.378Z"
      },
      {
        "duration": 10,
        "start_time": "2023-05-01T06:12:29.952Z"
      },
      {
        "duration": 3,
        "start_time": "2023-05-01T06:12:57.536Z"
      },
      {
        "duration": 14,
        "start_time": "2023-05-01T06:13:03.928Z"
      },
      {
        "duration": 4,
        "start_time": "2023-05-01T06:15:44.865Z"
      },
      {
        "duration": 19,
        "start_time": "2023-05-01T06:15:46.120Z"
      },
      {
        "duration": 89,
        "start_time": "2023-05-01T06:15:48.206Z"
      },
      {
        "duration": 17,
        "start_time": "2023-05-01T06:15:48.969Z"
      },
      {
        "duration": 9,
        "start_time": "2023-05-01T06:16:01.610Z"
      },
      {
        "duration": 4,
        "start_time": "2023-05-01T06:16:15.609Z"
      },
      {
        "duration": 42,
        "start_time": "2023-05-01T06:16:19.153Z"
      },
      {
        "duration": 21,
        "start_time": "2023-05-01T06:16:19.985Z"
      },
      {
        "duration": 17,
        "start_time": "2023-05-01T06:16:20.777Z"
      },
      {
        "duration": 15,
        "start_time": "2023-05-01T06:18:58.651Z"
      },
      {
        "duration": 15,
        "start_time": "2023-05-01T06:19:02.603Z"
      },
      {
        "duration": 16,
        "start_time": "2023-05-01T06:19:04.811Z"
      },
      {
        "duration": 16,
        "start_time": "2023-05-01T06:19:28.974Z"
      },
      {
        "duration": 16,
        "start_time": "2023-05-01T06:19:30.244Z"
      },
      {
        "duration": 16,
        "start_time": "2023-05-01T06:19:31.021Z"
      },
      {
        "duration": 4,
        "start_time": "2023-05-01T06:19:35.764Z"
      },
      {
        "duration": 15,
        "start_time": "2023-05-01T06:19:37.258Z"
      },
      {
        "duration": 16,
        "start_time": "2023-05-01T06:19:39.258Z"
      },
      {
        "duration": 15,
        "start_time": "2023-05-01T06:19:40.852Z"
      },
      {
        "duration": 3,
        "start_time": "2023-05-01T06:19:45.387Z"
      },
      {
        "duration": 11,
        "start_time": "2023-05-01T06:19:46.098Z"
      },
      {
        "duration": 11,
        "start_time": "2023-05-01T06:19:46.931Z"
      },
      {
        "duration": 12,
        "start_time": "2023-05-01T06:19:47.522Z"
      },
      {
        "duration": 3,
        "start_time": "2023-05-01T06:19:48.586Z"
      },
      {
        "duration": 6,
        "start_time": "2023-05-01T06:19:49.659Z"
      },
      {
        "duration": 2,
        "start_time": "2023-05-01T06:19:56.859Z"
      },
      {
        "duration": 3,
        "start_time": "2023-05-01T06:19:57.210Z"
      },
      {
        "duration": 9,
        "start_time": "2023-05-01T06:19:57.838Z"
      },
      {
        "duration": 4,
        "start_time": "2023-05-01T06:19:58.475Z"
      },
      {
        "duration": 92,
        "start_time": "2023-05-01T06:19:59.003Z"
      },
      {
        "duration": 16,
        "start_time": "2023-05-01T06:20:00.643Z"
      },
      {
        "duration": 17,
        "start_time": "2023-05-01T06:20:01.827Z"
      },
      {
        "duration": 4,
        "start_time": "2023-05-01T06:20:30.899Z"
      },
      {
        "duration": 11,
        "start_time": "2023-05-01T06:20:31.380Z"
      },
      {
        "duration": 13,
        "start_time": "2023-05-01T06:20:31.939Z"
      },
      {
        "duration": 12,
        "start_time": "2023-05-01T06:20:35.573Z"
      },
      {
        "duration": 3,
        "start_time": "2023-05-01T06:20:37.339Z"
      },
      {
        "duration": 6,
        "start_time": "2023-05-01T06:20:38.052Z"
      },
      {
        "duration": 2,
        "start_time": "2023-05-01T06:20:41.546Z"
      },
      {
        "duration": 2,
        "start_time": "2023-05-01T06:20:42.505Z"
      },
      {
        "duration": 9,
        "start_time": "2023-05-01T06:20:43.092Z"
      },
      {
        "duration": 4,
        "start_time": "2023-05-01T06:20:47.636Z"
      },
      {
        "duration": 22,
        "start_time": "2023-05-01T06:20:49.923Z"
      },
      {
        "duration": 16,
        "start_time": "2023-05-01T06:20:51.163Z"
      },
      {
        "duration": 15,
        "start_time": "2023-05-01T06:20:52.932Z"
      },
      {
        "duration": 9,
        "start_time": "2023-05-01T06:21:55.020Z"
      },
      {
        "duration": 8,
        "start_time": "2023-05-01T06:21:57.788Z"
      },
      {
        "duration": 3,
        "start_time": "2023-05-01T06:22:50.764Z"
      },
      {
        "duration": 14,
        "start_time": "2023-05-01T06:22:51.380Z"
      },
      {
        "duration": 9,
        "start_time": "2023-05-01T06:22:51.973Z"
      },
      {
        "duration": 11,
        "start_time": "2023-05-01T06:22:52.752Z"
      },
      {
        "duration": 8,
        "start_time": "2023-05-01T06:22:53.278Z"
      },
      {
        "duration": 11,
        "start_time": "2023-05-01T06:22:58.548Z"
      },
      {
        "duration": 3,
        "start_time": "2023-05-01T06:22:59.132Z"
      },
      {
        "duration": 6,
        "start_time": "2023-05-01T06:22:59.740Z"
      },
      {
        "duration": 2,
        "start_time": "2023-05-01T06:23:01.884Z"
      },
      {
        "duration": 3,
        "start_time": "2023-05-01T06:23:02.516Z"
      },
      {
        "duration": 8,
        "start_time": "2023-05-01T06:23:03.261Z"
      },
      {
        "duration": 4,
        "start_time": "2023-05-01T06:23:04.357Z"
      },
      {
        "duration": 18,
        "start_time": "2023-05-01T06:23:05.505Z"
      },
      {
        "duration": 17,
        "start_time": "2023-05-01T06:23:06.324Z"
      },
      {
        "duration": 16,
        "start_time": "2023-05-01T06:23:08.684Z"
      },
      {
        "duration": 10,
        "start_time": "2023-05-01T06:23:38.428Z"
      },
      {
        "duration": 4,
        "start_time": "2023-05-01T06:23:40.172Z"
      },
      {
        "duration": 34,
        "start_time": "2023-05-01T06:23:44.364Z"
      },
      {
        "duration": 21,
        "start_time": "2023-05-01T06:23:45.255Z"
      },
      {
        "duration": 19,
        "start_time": "2023-05-01T06:23:45.852Z"
      },
      {
        "duration": 4,
        "start_time": "2023-05-01T06:24:23.733Z"
      },
      {
        "duration": 16,
        "start_time": "2023-05-01T06:24:24.173Z"
      },
      {
        "duration": 16,
        "start_time": "2023-05-01T06:24:33.181Z"
      },
      {
        "duration": 16,
        "start_time": "2023-05-01T06:24:34.206Z"
      },
      {
        "duration": 9,
        "start_time": "2023-05-01T06:24:47.190Z"
      },
      {
        "duration": 3,
        "start_time": "2023-05-01T06:40:53.503Z"
      },
      {
        "duration": 1167,
        "start_time": "2023-05-01T06:40:56.510Z"
      },
      {
        "duration": 11,
        "start_time": "2023-05-01T06:43:20.943Z"
      },
      {
        "duration": 17,
        "start_time": "2023-05-01T06:43:38.278Z"
      },
      {
        "duration": 14,
        "start_time": "2023-05-01T06:44:16.422Z"
      },
      {
        "duration": 16,
        "start_time": "2023-05-01T06:44:21.751Z"
      },
      {
        "duration": 13,
        "start_time": "2023-05-01T06:45:49.728Z"
      },
      {
        "duration": 14,
        "start_time": "2023-05-01T06:47:31.297Z"
      },
      {
        "duration": 14,
        "start_time": "2023-05-01T06:48:07.017Z"
      },
      {
        "duration": 14,
        "start_time": "2023-05-01T06:48:17.610Z"
      },
      {
        "duration": 16,
        "start_time": "2023-05-01T06:48:38.673Z"
      },
      {
        "duration": 15,
        "start_time": "2023-05-01T06:49:33.090Z"
      },
      {
        "duration": 14,
        "start_time": "2023-05-01T06:50:31.314Z"
      },
      {
        "duration": 4,
        "start_time": "2023-05-01T06:52:56.140Z"
      },
      {
        "duration": 13,
        "start_time": "2023-05-01T06:52:56.770Z"
      },
      {
        "duration": 19,
        "start_time": "2023-05-01T06:53:17.156Z"
      },
      {
        "duration": 3,
        "start_time": "2023-05-01T06:53:49.620Z"
      },
      {
        "duration": 7,
        "start_time": "2023-05-01T06:53:50.196Z"
      },
      {
        "duration": 6,
        "start_time": "2023-05-01T06:53:52.516Z"
      },
      {
        "duration": 7,
        "start_time": "2023-05-01T06:54:00.940Z"
      },
      {
        "duration": 7,
        "start_time": "2023-05-01T06:54:14.981Z"
      },
      {
        "duration": 3,
        "start_time": "2023-05-01T06:57:55.071Z"
      },
      {
        "duration": 373,
        "start_time": "2023-05-01T06:57:55.542Z"
      },
      {
        "duration": 9,
        "start_time": "2023-05-01T06:57:55.917Z"
      },
      {
        "duration": 12,
        "start_time": "2023-05-01T06:57:56.527Z"
      },
      {
        "duration": 42,
        "start_time": "2023-05-01T06:57:57.030Z"
      },
      {
        "duration": 21,
        "start_time": "2023-05-01T06:57:57.870Z"
      },
      {
        "duration": 46,
        "start_time": "2023-05-01T06:57:58.327Z"
      },
      {
        "duration": 3,
        "start_time": "2023-05-01T06:57:59.310Z"
      },
      {
        "duration": 70,
        "start_time": "2023-05-01T06:57:59.838Z"
      },
      {
        "duration": 15,
        "start_time": "2023-05-01T06:58:00.326Z"
      },
      {
        "duration": 5,
        "start_time": "2023-05-01T06:58:01.310Z"
      },
      {
        "duration": 6,
        "start_time": "2023-05-01T06:58:01.982Z"
      },
      {
        "duration": 5,
        "start_time": "2023-05-01T06:58:02.486Z"
      },
      {
        "duration": 4,
        "start_time": "2023-05-01T06:58:02.918Z"
      },
      {
        "duration": 30,
        "start_time": "2023-05-01T06:58:03.894Z"
      },
      {
        "duration": 790,
        "start_time": "2023-05-01T06:58:05.094Z"
      },
      {
        "duration": 844,
        "start_time": "2023-05-01T06:58:06.543Z"
      },
      {
        "duration": 3,
        "start_time": "2023-05-01T06:58:08.414Z"
      },
      {
        "duration": 11,
        "start_time": "2023-05-01T06:58:08.862Z"
      },
      {
        "duration": 8,
        "start_time": "2023-05-01T06:58:09.271Z"
      },
      {
        "duration": 12,
        "start_time": "2023-05-01T06:58:09.775Z"
      },
      {
        "duration": 8,
        "start_time": "2023-05-01T06:58:10.318Z"
      },
      {
        "duration": 14,
        "start_time": "2023-05-01T06:58:10.749Z"
      },
      {
        "duration": 3,
        "start_time": "2023-05-01T06:58:11.326Z"
      },
      {
        "duration": 7,
        "start_time": "2023-05-01T06:58:11.726Z"
      },
      {
        "duration": 2,
        "start_time": "2023-05-01T06:58:12.374Z"
      },
      {
        "duration": 3,
        "start_time": "2023-05-01T06:58:12.789Z"
      },
      {
        "duration": 9,
        "start_time": "2023-05-01T06:58:13.462Z"
      },
      {
        "duration": 5,
        "start_time": "2023-05-01T06:58:14.334Z"
      },
      {
        "duration": 14,
        "start_time": "2023-05-01T06:58:15.286Z"
      },
      {
        "duration": 148,
        "start_time": "2023-05-01T06:58:28.247Z"
      },
      {
        "duration": 17,
        "start_time": "2023-05-01T06:58:29.494Z"
      },
      {
        "duration": 16,
        "start_time": "2023-05-01T06:58:30.007Z"
      },
      {
        "duration": 9,
        "start_time": "2023-05-01T06:58:31.135Z"
      },
      {
        "duration": 4,
        "start_time": "2023-05-01T06:58:33.606Z"
      },
      {
        "duration": 19,
        "start_time": "2023-05-01T06:58:34.432Z"
      },
      {
        "duration": 18,
        "start_time": "2023-05-01T06:58:34.975Z"
      },
      {
        "duration": 20,
        "start_time": "2023-05-01T06:58:35.542Z"
      },
      {
        "duration": 4,
        "start_time": "2023-05-01T06:58:36.958Z"
      },
      {
        "duration": 8,
        "start_time": "2023-05-01T06:58:37.809Z"
      },
      {
        "duration": 8,
        "start_time": "2023-05-01T06:58:38.854Z"
      },
      {
        "duration": 7,
        "start_time": "2023-05-01T06:58:39.494Z"
      },
      {
        "duration": 5,
        "start_time": "2023-05-01T07:00:08.232Z"
      },
      {
        "duration": 15,
        "start_time": "2023-05-01T07:00:09.152Z"
      },
      {
        "duration": 15,
        "start_time": "2023-05-01T07:00:09.688Z"
      },
      {
        "duration": 15,
        "start_time": "2023-05-01T07:00:10.104Z"
      },
      {
        "duration": 9,
        "start_time": "2023-05-01T07:00:10.863Z"
      },
      {
        "duration": 7,
        "start_time": "2023-05-01T07:00:11.818Z"
      },
      {
        "duration": 18,
        "start_time": "2023-05-01T07:00:12.823Z"
      },
      {
        "duration": 18,
        "start_time": "2023-05-01T07:00:13.295Z"
      },
      {
        "duration": 24,
        "start_time": "2023-05-01T07:00:13.703Z"
      },
      {
        "duration": 3,
        "start_time": "2023-05-01T07:00:14.816Z"
      },
      {
        "duration": 6,
        "start_time": "2023-05-01T07:00:15.392Z"
      },
      {
        "duration": 6,
        "start_time": "2023-05-01T07:00:15.944Z"
      },
      {
        "duration": 7,
        "start_time": "2023-05-01T07:00:16.615Z"
      },
      {
        "duration": 3,
        "start_time": "2023-05-01T07:32:07.418Z"
      },
      {
        "duration": 3,
        "start_time": "2023-05-01T07:32:49.490Z"
      },
      {
        "duration": 4,
        "start_time": "2023-05-01T07:32:49.930Z"
      },
      {
        "duration": 3,
        "start_time": "2023-05-01T07:34:38.747Z"
      },
      {
        "duration": 3,
        "start_time": "2023-05-01T07:38:25.045Z"
      },
      {
        "duration": 5,
        "start_time": "2023-05-01T07:42:14.238Z"
      },
      {
        "duration": 3,
        "start_time": "2023-05-01T07:43:59.584Z"
      },
      {
        "duration": 5,
        "start_time": "2023-05-01T07:44:07.519Z"
      },
      {
        "duration": 5,
        "start_time": "2023-05-01T07:44:19.694Z"
      },
      {
        "duration": 5,
        "start_time": "2023-05-01T07:48:31.491Z"
      },
      {
        "duration": 5,
        "start_time": "2023-05-01T07:49:39.634Z"
      },
      {
        "duration": 122,
        "start_time": "2023-05-01T07:50:42.383Z"
      },
      {
        "duration": 16,
        "start_time": "2023-05-01T07:50:42.827Z"
      },
      {
        "duration": 22,
        "start_time": "2023-05-01T07:50:43.987Z"
      },
      {
        "duration": 6,
        "start_time": "2023-05-01T07:50:58.243Z"
      },
      {
        "duration": 4,
        "start_time": "2023-05-01T08:01:53.527Z"
      },
      {
        "duration": 7,
        "start_time": "2023-05-01T08:01:59.812Z"
      },
      {
        "duration": 8,
        "start_time": "2023-05-01T08:04:43.843Z"
      },
      {
        "duration": 8,
        "start_time": "2023-05-01T08:07:21.863Z"
      },
      {
        "duration": 8,
        "start_time": "2023-05-01T08:07:44.391Z"
      },
      {
        "duration": 7,
        "start_time": "2023-05-01T08:09:54.607Z"
      },
      {
        "duration": 6,
        "start_time": "2023-05-01T08:10:13.775Z"
      },
      {
        "duration": 6,
        "start_time": "2023-05-01T08:10:15.509Z"
      },
      {
        "duration": 6,
        "start_time": "2023-05-01T08:10:16.519Z"
      },
      {
        "duration": 5,
        "start_time": "2023-05-01T08:11:35.277Z"
      },
      {
        "duration": 11,
        "start_time": "2023-05-01T08:12:28.384Z"
      },
      {
        "duration": 658,
        "start_time": "2023-05-01T08:12:44.727Z"
      },
      {
        "duration": 658,
        "start_time": "2023-05-01T08:13:21.335Z"
      },
      {
        "duration": 636,
        "start_time": "2023-05-01T08:15:26.427Z"
      },
      {
        "duration": 4,
        "start_time": "2023-05-01T11:54:58.991Z"
      },
      {
        "duration": 6,
        "start_time": "2023-05-01T11:55:00.279Z"
      },
      {
        "duration": 7,
        "start_time": "2023-05-01T11:55:02.260Z"
      },
      {
        "duration": 5,
        "start_time": "2023-05-01T11:58:09.847Z"
      },
      {
        "duration": 13,
        "start_time": "2023-05-01T11:58:10.894Z"
      },
      {
        "duration": 8,
        "start_time": "2023-05-01T11:58:13.758Z"
      },
      {
        "duration": 18,
        "start_time": "2023-05-01T12:07:32.621Z"
      },
      {
        "duration": 10,
        "start_time": "2023-05-01T12:07:56.132Z"
      },
      {
        "duration": 9,
        "start_time": "2023-05-01T12:08:04.945Z"
      },
      {
        "duration": 16,
        "start_time": "2023-05-01T12:08:12.755Z"
      },
      {
        "duration": 152,
        "start_time": "2023-05-01T12:09:14.695Z"
      },
      {
        "duration": 120,
        "start_time": "2023-05-01T12:09:28.025Z"
      },
      {
        "duration": 226,
        "start_time": "2023-05-01T12:09:42.069Z"
      },
      {
        "duration": 137,
        "start_time": "2023-05-01T12:09:56.114Z"
      },
      {
        "duration": 14,
        "start_time": "2023-05-01T12:10:07.017Z"
      },
      {
        "duration": 23,
        "start_time": "2023-05-01T12:10:19.583Z"
      },
      {
        "duration": 21,
        "start_time": "2023-05-01T12:10:32.646Z"
      },
      {
        "duration": 19,
        "start_time": "2023-05-01T12:10:43.119Z"
      },
      {
        "duration": 20,
        "start_time": "2023-05-01T12:10:50.590Z"
      },
      {
        "duration": 9,
        "start_time": "2023-05-01T12:11:13.842Z"
      },
      {
        "duration": 9,
        "start_time": "2023-05-01T12:14:06.057Z"
      },
      {
        "duration": 7,
        "start_time": "2023-05-01T12:14:15.916Z"
      },
      {
        "duration": 6,
        "start_time": "2023-05-01T12:14:17.245Z"
      },
      {
        "duration": 17,
        "start_time": "2023-05-01T12:14:26.346Z"
      },
      {
        "duration": 6,
        "start_time": "2023-05-01T12:14:37.142Z"
      },
      {
        "duration": 8,
        "start_time": "2023-05-01T12:14:42.903Z"
      },
      {
        "duration": 21,
        "start_time": "2023-05-01T12:15:22.916Z"
      },
      {
        "duration": 14,
        "start_time": "2023-05-01T12:16:03.056Z"
      },
      {
        "duration": 4,
        "start_time": "2023-05-01T12:16:45.839Z"
      },
      {
        "duration": 7,
        "start_time": "2023-05-01T12:16:48.145Z"
      },
      {
        "duration": 8,
        "start_time": "2023-05-01T12:16:56.959Z"
      },
      {
        "duration": 7,
        "start_time": "2023-05-01T12:17:09.819Z"
      },
      {
        "duration": 15,
        "start_time": "2023-05-01T12:17:21.341Z"
      },
      {
        "duration": 37,
        "start_time": "2023-05-01T12:17:31.521Z"
      },
      {
        "duration": 14,
        "start_time": "2023-05-01T12:17:42.241Z"
      },
      {
        "duration": 7,
        "start_time": "2023-05-01T12:18:02.119Z"
      },
      {
        "duration": 23,
        "start_time": "2023-05-01T12:18:04.892Z"
      },
      {
        "duration": 4,
        "start_time": "2023-05-01T12:18:46.736Z"
      },
      {
        "duration": 14,
        "start_time": "2023-05-01T12:18:48.392Z"
      },
      {
        "duration": 4,
        "start_time": "2023-05-01T12:18:58.482Z"
      },
      {
        "duration": 7,
        "start_time": "2023-05-01T12:18:59.833Z"
      },
      {
        "duration": 11,
        "start_time": "2023-05-01T12:19:29.719Z"
      },
      {
        "duration": 15,
        "start_time": "2023-05-01T12:19:30.112Z"
      },
      {
        "duration": 10,
        "start_time": "2023-05-01T12:19:54.028Z"
      },
      {
        "duration": 9,
        "start_time": "2023-05-01T12:20:05.657Z"
      },
      {
        "duration": 8,
        "start_time": "2023-05-01T12:20:19.821Z"
      },
      {
        "duration": 13,
        "start_time": "2023-05-01T12:20:27.621Z"
      },
      {
        "duration": 26,
        "start_time": "2023-05-01T12:20:33.031Z"
      },
      {
        "duration": 19,
        "start_time": "2023-05-01T12:20:52.342Z"
      },
      {
        "duration": 5,
        "start_time": "2023-05-01T12:26:03.252Z"
      },
      {
        "duration": 15,
        "start_time": "2023-05-01T12:26:03.803Z"
      },
      {
        "duration": 13,
        "start_time": "2023-05-01T14:02:57.840Z"
      },
      {
        "duration": 4,
        "start_time": "2023-05-01T14:03:01.657Z"
      },
      {
        "duration": 37,
        "start_time": "2023-05-01T14:03:02.411Z"
      },
      {
        "duration": 22,
        "start_time": "2023-05-01T14:03:13.503Z"
      },
      {
        "duration": 36,
        "start_time": "2023-05-01T14:03:15.605Z"
      },
      {
        "duration": 3,
        "start_time": "2023-05-01T14:03:29.743Z"
      },
      {
        "duration": 1419,
        "start_time": "2023-05-01T14:03:30.026Z"
      },
      {
        "duration": 4,
        "start_time": "2023-05-01T14:03:31.447Z"
      },
      {
        "duration": 27,
        "start_time": "2023-05-01T14:03:31.452Z"
      },
      {
        "duration": 73,
        "start_time": "2023-05-01T14:03:31.482Z"
      },
      {
        "duration": 20,
        "start_time": "2023-05-01T14:03:31.556Z"
      },
      {
        "duration": 69,
        "start_time": "2023-05-01T14:03:31.577Z"
      },
      {
        "duration": 10,
        "start_time": "2023-05-01T14:03:32.034Z"
      },
      {
        "duration": 109,
        "start_time": "2023-05-01T14:03:32.255Z"
      },
      {
        "duration": 29,
        "start_time": "2023-05-01T14:03:32.522Z"
      },
      {
        "duration": 5,
        "start_time": "2023-05-01T14:03:32.872Z"
      },
      {
        "duration": 18,
        "start_time": "2023-05-01T14:03:33.120Z"
      },
      {
        "duration": 8,
        "start_time": "2023-05-01T14:03:33.327Z"
      },
      {
        "duration": 12,
        "start_time": "2023-05-01T14:03:33.503Z"
      },
      {
        "duration": 54,
        "start_time": "2023-05-01T14:03:34.386Z"
      },
      {
        "duration": 928,
        "start_time": "2023-05-01T14:03:34.442Z"
      },
      {
        "duration": 1181,
        "start_time": "2023-05-01T14:03:35.372Z"
      },
      {
        "duration": 3,
        "start_time": "2023-05-01T14:03:36.555Z"
      },
      {
        "duration": 19,
        "start_time": "2023-05-01T14:03:36.560Z"
      },
      {
        "duration": 16,
        "start_time": "2023-05-01T14:03:36.823Z"
      },
      {
        "duration": 20,
        "start_time": "2023-05-01T14:03:37.816Z"
      },
      {
        "duration": 8,
        "start_time": "2023-05-01T14:03:38.344Z"
      },
      {
        "duration": 22,
        "start_time": "2023-05-01T14:03:38.919Z"
      },
      {
        "duration": 6,
        "start_time": "2023-05-01T14:03:39.521Z"
      },
      {
        "duration": 6,
        "start_time": "2023-05-01T14:03:39.989Z"
      },
      {
        "duration": 2,
        "start_time": "2023-05-01T14:03:40.558Z"
      },
      {
        "duration": 3,
        "start_time": "2023-05-01T14:03:41.144Z"
      },
      {
        "duration": 37,
        "start_time": "2023-05-01T14:03:41.705Z"
      },
      {
        "duration": 7,
        "start_time": "2023-05-01T14:03:45.527Z"
      },
      {
        "duration": 46,
        "start_time": "2023-05-01T14:03:46.913Z"
      },
      {
        "duration": 119,
        "start_time": "2023-05-01T14:03:47.796Z"
      },
      {
        "duration": 45,
        "start_time": "2023-05-01T14:03:48.221Z"
      },
      {
        "duration": 18,
        "start_time": "2023-05-01T14:03:49.912Z"
      },
      {
        "duration": 4,
        "start_time": "2023-05-01T14:03:52.054Z"
      },
      {
        "duration": 21,
        "start_time": "2023-05-01T14:03:53.437Z"
      },
      {
        "duration": 79,
        "start_time": "2023-05-01T14:03:54.219Z"
      },
      {
        "duration": 21,
        "start_time": "2023-05-01T14:03:54.861Z"
      },
      {
        "duration": 20,
        "start_time": "2023-05-01T14:03:56.113Z"
      },
      {
        "duration": 7,
        "start_time": "2023-05-01T14:03:56.944Z"
      },
      {
        "duration": 19,
        "start_time": "2023-05-01T14:03:57.592Z"
      },
      {
        "duration": 8,
        "start_time": "2023-05-01T14:03:58.254Z"
      },
      {
        "duration": 6,
        "start_time": "2023-05-01T14:04:05.225Z"
      },
      {
        "duration": 5,
        "start_time": "2023-05-01T14:04:06.371Z"
      },
      {
        "duration": 12,
        "start_time": "2023-05-01T14:04:06.914Z"
      },
      {
        "duration": 6,
        "start_time": "2023-05-01T14:04:07.410Z"
      },
      {
        "duration": 7,
        "start_time": "2023-05-01T14:04:07.940Z"
      },
      {
        "duration": 20,
        "start_time": "2023-05-01T14:04:10.589Z"
      },
      {
        "duration": 46,
        "start_time": "2023-05-01T14:04:11.389Z"
      },
      {
        "duration": 8,
        "start_time": "2023-05-01T14:06:28.264Z"
      },
      {
        "duration": 6,
        "start_time": "2023-05-01T14:06:54.942Z"
      },
      {
        "duration": 21,
        "start_time": "2023-05-01T14:07:55.471Z"
      },
      {
        "duration": 4,
        "start_time": "2023-05-01T14:08:19.840Z"
      },
      {
        "duration": 9,
        "start_time": "2023-05-01T14:08:20.977Z"
      },
      {
        "duration": 5,
        "start_time": "2023-05-01T14:09:44.396Z"
      },
      {
        "duration": 15,
        "start_time": "2023-05-01T14:09:45.020Z"
      },
      {
        "duration": 10,
        "start_time": "2023-05-01T14:12:59.148Z"
      },
      {
        "duration": 4,
        "start_time": "2023-05-01T14:13:09.964Z"
      },
      {
        "duration": 805,
        "start_time": "2023-05-01T14:13:10.557Z"
      },
      {
        "duration": 4,
        "start_time": "2023-05-01T14:15:00.068Z"
      },
      {
        "duration": 38,
        "start_time": "2023-05-01T14:15:01.028Z"
      },
      {
        "duration": 50,
        "start_time": "2023-05-01T19:54:14.079Z"
      },
      {
        "duration": 7,
        "start_time": "2023-05-01T19:56:09.917Z"
      },
      {
        "duration": 1359,
        "start_time": "2023-05-01T19:56:18.275Z"
      },
      {
        "duration": 1470,
        "start_time": "2023-05-01T19:56:19.636Z"
      },
      {
        "duration": 2,
        "start_time": "2023-05-01T19:56:21.108Z"
      },
      {
        "duration": 13,
        "start_time": "2023-05-01T19:56:21.746Z"
      },
      {
        "duration": 37,
        "start_time": "2023-05-01T19:56:22.068Z"
      },
      {
        "duration": 19,
        "start_time": "2023-05-01T19:56:22.669Z"
      },
      {
        "duration": 44,
        "start_time": "2023-05-01T19:56:23.157Z"
      },
      {
        "duration": 3,
        "start_time": "2023-05-01T19:56:23.721Z"
      },
      {
        "duration": 75,
        "start_time": "2023-05-01T19:56:23.976Z"
      },
      {
        "duration": 15,
        "start_time": "2023-05-01T19:56:24.244Z"
      },
      {
        "duration": 5,
        "start_time": "2023-05-01T19:56:24.813Z"
      },
      {
        "duration": 5,
        "start_time": "2023-05-01T19:56:25.108Z"
      },
      {
        "duration": 5,
        "start_time": "2023-05-01T19:56:25.347Z"
      },
      {
        "duration": 3,
        "start_time": "2023-05-01T19:56:25.617Z"
      },
      {
        "duration": 25,
        "start_time": "2023-05-01T19:56:26.075Z"
      },
      {
        "duration": 741,
        "start_time": "2023-05-01T19:56:26.531Z"
      },
      {
        "duration": 867,
        "start_time": "2023-05-01T19:56:27.274Z"
      },
      {
        "duration": 4,
        "start_time": "2023-05-01T19:56:28.143Z"
      },
      {
        "duration": 12,
        "start_time": "2023-05-01T19:56:28.252Z"
      },
      {
        "duration": 9,
        "start_time": "2023-05-01T19:56:28.580Z"
      },
      {
        "duration": 13,
        "start_time": "2023-05-01T19:56:29.207Z"
      },
      {
        "duration": 8,
        "start_time": "2023-05-01T19:56:29.744Z"
      },
      {
        "duration": 13,
        "start_time": "2023-05-01T19:56:30.277Z"
      },
      {
        "duration": 3,
        "start_time": "2023-05-01T19:56:30.577Z"
      },
      {
        "duration": 5,
        "start_time": "2023-05-01T19:56:30.933Z"
      },
      {
        "duration": 3,
        "start_time": "2023-05-01T19:56:31.209Z"
      },
      {
        "duration": 2,
        "start_time": "2023-05-01T19:56:31.525Z"
      },
      {
        "duration": 9,
        "start_time": "2023-05-01T19:56:31.824Z"
      },
      {
        "duration": 4,
        "start_time": "2023-05-01T19:56:32.414Z"
      },
      {
        "duration": 66,
        "start_time": "2023-05-01T19:56:32.771Z"
      },
      {
        "duration": 18,
        "start_time": "2023-05-01T19:56:33.074Z"
      },
      {
        "duration": 17,
        "start_time": "2023-05-01T19:56:33.451Z"
      },
      {
        "duration": 8,
        "start_time": "2023-05-01T19:56:34.130Z"
      },
      {
        "duration": 3,
        "start_time": "2023-05-01T19:56:35.427Z"
      },
      {
        "duration": 22,
        "start_time": "2023-05-01T19:56:36.043Z"
      },
      {
        "duration": 19,
        "start_time": "2023-05-01T19:56:37.035Z"
      },
      {
        "duration": 19,
        "start_time": "2023-05-01T19:56:37.635Z"
      },
      {
        "duration": 2,
        "start_time": "2023-05-01T19:56:38.980Z"
      },
      {
        "duration": 6,
        "start_time": "2023-05-01T19:56:39.558Z"
      },
      {
        "duration": 124,
        "start_time": "2023-05-01T19:56:40.112Z"
      },
      {
        "duration": 131,
        "start_time": "2023-05-01T19:56:54.174Z"
      },
      {
        "duration": 129,
        "start_time": "2023-05-01T19:57:05.009Z"
      },
      {
        "duration": 140,
        "start_time": "2023-05-01T19:57:24.340Z"
      },
      {
        "duration": 116,
        "start_time": "2023-05-01T19:58:49.625Z"
      },
      {
        "duration": 204,
        "start_time": "2023-05-01T19:59:21.079Z"
      },
      {
        "duration": 8,
        "start_time": "2023-05-01T19:59:58.950Z"
      },
      {
        "duration": 9,
        "start_time": "2023-05-01T20:00:12.471Z"
      },
      {
        "duration": 3,
        "start_time": "2023-05-01T20:00:23.574Z"
      },
      {
        "duration": 4,
        "start_time": "2023-05-01T20:00:25.085Z"
      },
      {
        "duration": 5,
        "start_time": "2023-05-01T20:00:25.781Z"
      },
      {
        "duration": 3,
        "start_time": "2023-05-01T20:00:26.369Z"
      },
      {
        "duration": 9,
        "start_time": "2023-05-01T20:00:27.228Z"
      },
      {
        "duration": 3,
        "start_time": "2023-05-01T20:00:31.770Z"
      },
      {
        "duration": 8,
        "start_time": "2023-05-01T20:00:32.443Z"
      },
      {
        "duration": 3,
        "start_time": "2023-05-01T20:00:33.216Z"
      },
      {
        "duration": 634,
        "start_time": "2023-05-01T20:00:34.877Z"
      },
      {
        "duration": 4,
        "start_time": "2023-05-01T20:00:37.669Z"
      },
      {
        "duration": 1768,
        "start_time": "2023-05-02T21:02:33.844Z"
      },
      {
        "duration": 1459,
        "start_time": "2023-05-02T21:02:36.264Z"
      },
      {
        "duration": 4,
        "start_time": "2023-05-02T21:02:37.726Z"
      },
      {
        "duration": 18,
        "start_time": "2023-05-02T21:02:37.732Z"
      },
      {
        "duration": 59,
        "start_time": "2023-05-02T21:02:37.978Z"
      },
      {
        "duration": 32,
        "start_time": "2023-05-02T21:02:38.718Z"
      },
      {
        "duration": 93,
        "start_time": "2023-05-02T21:02:39.054Z"
      },
      {
        "duration": 4,
        "start_time": "2023-05-02T21:02:39.752Z"
      },
      {
        "duration": 130,
        "start_time": "2023-05-02T21:02:40.087Z"
      },
      {
        "duration": 20,
        "start_time": "2023-05-02T21:02:40.360Z"
      },
      {
        "duration": 16,
        "start_time": "2023-05-02T21:02:40.984Z"
      },
      {
        "duration": 6,
        "start_time": "2023-05-02T21:02:41.278Z"
      },
      {
        "duration": 11,
        "start_time": "2023-05-02T21:02:41.586Z"
      },
      {
        "duration": 9,
        "start_time": "2023-05-02T21:02:41.889Z"
      },
      {
        "duration": 55,
        "start_time": "2023-05-02T21:02:42.389Z"
      },
      {
        "duration": 946,
        "start_time": "2023-05-02T21:02:43.384Z"
      },
      {
        "duration": 1125,
        "start_time": "2023-05-02T21:02:44.333Z"
      },
      {
        "duration": 4,
        "start_time": "2023-05-02T21:02:45.646Z"
      },
      {
        "duration": 16,
        "start_time": "2023-05-02T21:02:46.010Z"
      },
      {
        "duration": 13,
        "start_time": "2023-05-02T21:02:46.337Z"
      },
      {
        "duration": 23,
        "start_time": "2023-05-02T21:02:46.680Z"
      },
      {
        "duration": 9,
        "start_time": "2023-05-02T21:02:47.040Z"
      },
      {
        "duration": 17,
        "start_time": "2023-05-02T21:02:47.408Z"
      },
      {
        "duration": 4,
        "start_time": "2023-05-02T21:02:47.735Z"
      },
      {
        "duration": 6,
        "start_time": "2023-05-02T21:02:48.040Z"
      },
      {
        "duration": 4,
        "start_time": "2023-05-02T21:02:48.371Z"
      },
      {
        "duration": 3,
        "start_time": "2023-05-02T21:02:48.823Z"
      },
      {
        "duration": 13,
        "start_time": "2023-05-02T21:02:49.210Z"
      },
      {
        "duration": 8,
        "start_time": "2023-05-02T21:02:50.308Z"
      },
      {
        "duration": 27,
        "start_time": "2023-05-02T21:02:50.734Z"
      },
      {
        "duration": 28,
        "start_time": "2023-05-02T21:02:51.560Z"
      },
      {
        "duration": 56,
        "start_time": "2023-05-02T21:02:52.136Z"
      },
      {
        "duration": 12,
        "start_time": "2023-05-02T21:02:53.575Z"
      },
      {
        "duration": 9,
        "start_time": "2023-05-02T21:02:54.607Z"
      },
      {
        "duration": 79,
        "start_time": "2023-05-02T21:02:55.431Z"
      },
      {
        "duration": 27,
        "start_time": "2023-05-02T21:02:55.811Z"
      },
      {
        "duration": 24,
        "start_time": "2023-05-02T21:02:56.403Z"
      },
      {
        "duration": 5,
        "start_time": "2023-05-02T21:02:57.119Z"
      },
      {
        "duration": 11,
        "start_time": "2023-05-02T21:02:58.232Z"
      },
      {
        "duration": 12,
        "start_time": "2023-05-02T21:02:58.744Z"
      },
      {
        "duration": 12,
        "start_time": "2023-05-02T21:02:59.302Z"
      },
      {
        "duration": 5,
        "start_time": "2023-05-02T21:03:02.212Z"
      },
      {
        "duration": 6,
        "start_time": "2023-05-02T21:03:03.823Z"
      },
      {
        "duration": 10,
        "start_time": "2023-05-02T21:03:04.597Z"
      },
      {
        "duration": 4,
        "start_time": "2023-05-02T21:03:05.319Z"
      },
      {
        "duration": 8,
        "start_time": "2023-05-02T21:03:05.919Z"
      },
      {
        "duration": 4,
        "start_time": "2023-05-02T21:03:08.878Z"
      },
      {
        "duration": 12,
        "start_time": "2023-05-02T21:03:09.263Z"
      },
      {
        "duration": 5,
        "start_time": "2023-05-02T21:03:10.640Z"
      },
      {
        "duration": 887,
        "start_time": "2023-05-02T21:03:12.379Z"
      },
      {
        "duration": 1624,
        "start_time": "2023-05-03T15:25:00.616Z"
      },
      {
        "duration": 853,
        "start_time": "2023-05-03T15:25:02.242Z"
      },
      {
        "duration": 3,
        "start_time": "2023-05-03T15:25:03.881Z"
      },
      {
        "duration": 15,
        "start_time": "2023-05-03T15:25:05.418Z"
      },
      {
        "duration": 33,
        "start_time": "2023-05-03T15:25:06.227Z"
      },
      {
        "duration": 20,
        "start_time": "2023-05-03T15:25:08.043Z"
      },
      {
        "duration": 44,
        "start_time": "2023-05-03T15:25:09.235Z"
      },
      {
        "duration": 3,
        "start_time": "2023-05-03T15:25:10.748Z"
      },
      {
        "duration": 84,
        "start_time": "2023-05-03T15:25:12.599Z"
      },
      {
        "duration": 15,
        "start_time": "2023-05-03T15:25:13.109Z"
      },
      {
        "duration": 5,
        "start_time": "2023-05-03T15:25:14.757Z"
      },
      {
        "duration": 5,
        "start_time": "2023-05-03T15:25:15.539Z"
      },
      {
        "duration": 4,
        "start_time": "2023-05-03T15:25:16.012Z"
      },
      {
        "duration": 3,
        "start_time": "2023-05-03T15:25:16.451Z"
      },
      {
        "duration": 27,
        "start_time": "2023-05-03T15:25:18.923Z"
      },
      {
        "duration": 758,
        "start_time": "2023-05-03T15:25:21.323Z"
      },
      {
        "duration": 912,
        "start_time": "2023-05-03T15:25:24.402Z"
      },
      {
        "duration": 4,
        "start_time": "2023-05-03T15:26:48.912Z"
      },
      {
        "duration": 11,
        "start_time": "2023-05-03T15:26:49.628Z"
      },
      {
        "duration": 9,
        "start_time": "2023-05-03T15:26:50.151Z"
      },
      {
        "duration": 13,
        "start_time": "2023-05-03T15:26:50.644Z"
      },
      {
        "duration": 7,
        "start_time": "2023-05-03T15:26:51.355Z"
      },
      {
        "duration": 15,
        "start_time": "2023-05-03T15:26:52.037Z"
      },
      {
        "duration": 3,
        "start_time": "2023-05-03T15:26:52.599Z"
      },
      {
        "duration": 6,
        "start_time": "2023-05-03T15:26:53.305Z"
      },
      {
        "duration": 3,
        "start_time": "2023-05-03T15:26:54.078Z"
      },
      {
        "duration": 2,
        "start_time": "2023-05-03T15:27:03.773Z"
      },
      {
        "duration": 11,
        "start_time": "2023-05-03T15:27:04.197Z"
      },
      {
        "duration": 4,
        "start_time": "2023-05-03T15:27:06.095Z"
      },
      {
        "duration": 51,
        "start_time": "2023-05-03T15:27:08.306Z"
      },
      {
        "duration": 16,
        "start_time": "2023-05-03T15:27:09.220Z"
      },
      {
        "duration": 15,
        "start_time": "2023-05-03T15:27:10.102Z"
      },
      {
        "duration": 12,
        "start_time": "2023-05-03T15:27:13.140Z"
      },
      {
        "duration": 4,
        "start_time": "2023-05-03T15:27:14.488Z"
      },
      {
        "duration": 20,
        "start_time": "2023-05-03T15:27:21.100Z"
      },
      {
        "duration": 18,
        "start_time": "2023-05-03T15:27:21.830Z"
      },
      {
        "duration": 20,
        "start_time": "2023-05-03T15:27:22.428Z"
      },
      {
        "duration": 3,
        "start_time": "2023-05-03T15:27:24.164Z"
      },
      {
        "duration": 7,
        "start_time": "2023-05-03T15:27:26.724Z"
      },
      {
        "duration": 7,
        "start_time": "2023-05-03T15:27:27.236Z"
      },
      {
        "duration": 8,
        "start_time": "2023-05-03T15:27:27.990Z"
      },
      {
        "duration": 3,
        "start_time": "2023-05-03T15:27:35.372Z"
      },
      {
        "duration": 4,
        "start_time": "2023-05-03T15:27:36.979Z"
      },
      {
        "duration": 5,
        "start_time": "2023-05-03T15:27:37.926Z"
      },
      {
        "duration": 3,
        "start_time": "2023-05-03T15:27:38.488Z"
      },
      {
        "duration": 5,
        "start_time": "2023-05-03T15:27:40.797Z"
      },
      {
        "duration": 3,
        "start_time": "2023-05-03T15:49:31.503Z"
      },
      {
        "duration": 10,
        "start_time": "2023-05-03T15:49:32.103Z"
      },
      {
        "duration": 3,
        "start_time": "2023-05-03T15:49:39.013Z"
      },
      {
        "duration": 9,
        "start_time": "2023-05-03T15:49:42.639Z"
      },
      {
        "duration": 98,
        "start_time": "2023-05-03T15:51:07.400Z"
      },
      {
        "duration": 161,
        "start_time": "2023-05-03T15:51:31.953Z"
      },
      {
        "duration": 4,
        "start_time": "2023-05-03T15:52:07.274Z"
      },
      {
        "duration": 5,
        "start_time": "2023-05-03T15:52:38.656Z"
      },
      {
        "duration": 5,
        "start_time": "2023-05-03T15:53:01.560Z"
      },
      {
        "duration": 6,
        "start_time": "2023-05-03T15:53:13.712Z"
      },
      {
        "duration": 6,
        "start_time": "2023-05-03T15:54:33.385Z"
      },
      {
        "duration": 11,
        "start_time": "2023-05-03T16:01:21.725Z"
      },
      {
        "duration": 5,
        "start_time": "2023-05-03T16:01:28.511Z"
      },
      {
        "duration": 20,
        "start_time": "2023-05-03T16:01:29.091Z"
      },
      {
        "duration": 6,
        "start_time": "2023-05-03T16:01:42.004Z"
      },
      {
        "duration": 4,
        "start_time": "2023-05-03T16:01:44.220Z"
      },
      {
        "duration": 17,
        "start_time": "2023-05-03T16:01:45.285Z"
      },
      {
        "duration": 12,
        "start_time": "2023-05-03T18:28:12.902Z"
      },
      {
        "duration": 3,
        "start_time": "2023-05-03T18:47:31.108Z"
      },
      {
        "duration": 4,
        "start_time": "2023-05-03T18:49:19.147Z"
      },
      {
        "duration": 20,
        "start_time": "2023-05-03T18:53:11.637Z"
      },
      {
        "duration": 2,
        "start_time": "2023-05-03T19:06:37.115Z"
      },
      {
        "duration": 14,
        "start_time": "2023-05-03T19:06:38.179Z"
      },
      {
        "duration": 3,
        "start_time": "2023-05-03T19:07:23.292Z"
      },
      {
        "duration": 28,
        "start_time": "2023-05-03T19:07:23.922Z"
      },
      {
        "duration": 4,
        "start_time": "2023-05-03T19:08:59.498Z"
      },
      {
        "duration": 441,
        "start_time": "2023-05-03T19:09:08.114Z"
      },
      {
        "duration": 11,
        "start_time": "2023-05-03T19:09:08.558Z"
      },
      {
        "duration": 15,
        "start_time": "2023-05-03T19:09:08.803Z"
      },
      {
        "duration": 40,
        "start_time": "2023-05-03T19:09:09.402Z"
      },
      {
        "duration": 20,
        "start_time": "2023-05-03T19:09:09.851Z"
      },
      {
        "duration": 61,
        "start_time": "2023-05-03T19:09:10.043Z"
      },
      {
        "duration": 3,
        "start_time": "2023-05-03T19:09:10.474Z"
      },
      {
        "duration": 80,
        "start_time": "2023-05-03T19:09:10.699Z"
      },
      {
        "duration": 15,
        "start_time": "2023-05-03T19:09:10.931Z"
      },
      {
        "duration": 6,
        "start_time": "2023-05-03T19:09:11.338Z"
      },
      {
        "duration": 5,
        "start_time": "2023-05-03T19:09:11.547Z"
      },
      {
        "duration": 7,
        "start_time": "2023-05-03T19:09:11.755Z"
      },
      {
        "duration": 4,
        "start_time": "2023-05-03T19:09:11.977Z"
      },
      {
        "duration": 37,
        "start_time": "2023-05-03T19:09:12.372Z"
      },
      {
        "duration": 841,
        "start_time": "2023-05-03T19:09:12.816Z"
      },
      {
        "duration": 1047,
        "start_time": "2023-05-03T19:09:13.659Z"
      },
      {
        "duration": 4,
        "start_time": "2023-05-03T19:09:14.709Z"
      },
      {
        "duration": 23,
        "start_time": "2023-05-03T19:09:14.714Z"
      },
      {
        "duration": 27,
        "start_time": "2023-05-03T19:09:14.739Z"
      },
      {
        "duration": 13,
        "start_time": "2023-05-03T19:09:15.610Z"
      },
      {
        "duration": 11,
        "start_time": "2023-05-03T19:09:15.954Z"
      },
      {
        "duration": 13,
        "start_time": "2023-05-03T19:09:16.576Z"
      },
      {
        "duration": 4,
        "start_time": "2023-05-03T19:09:17.017Z"
      },
      {
        "duration": 6,
        "start_time": "2023-05-03T19:09:17.443Z"
      },
      {
        "duration": 3,
        "start_time": "2023-05-03T19:09:17.923Z"
      },
      {
        "duration": 2,
        "start_time": "2023-05-03T19:09:18.515Z"
      },
      {
        "duration": 10,
        "start_time": "2023-05-03T19:09:18.994Z"
      },
      {
        "duration": 4,
        "start_time": "2023-05-03T19:09:19.978Z"
      },
      {
        "duration": 35,
        "start_time": "2023-05-03T19:09:21.123Z"
      },
      {
        "duration": 18,
        "start_time": "2023-05-03T19:09:21.555Z"
      },
      {
        "duration": 23,
        "start_time": "2023-05-03T19:09:22.178Z"
      },
      {
        "duration": 10,
        "start_time": "2023-05-03T19:09:23.317Z"
      },
      {
        "duration": 5,
        "start_time": "2023-05-03T19:09:24.913Z"
      },
      {
        "duration": 210,
        "start_time": "2023-05-03T19:09:25.547Z"
      },
      {
        "duration": 62,
        "start_time": "2023-05-03T19:09:26.094Z"
      },
      {
        "duration": 25,
        "start_time": "2023-05-03T19:09:26.677Z"
      },
      {
        "duration": 3,
        "start_time": "2023-05-03T19:09:28.380Z"
      },
      {
        "duration": 7,
        "start_time": "2023-05-03T19:09:28.882Z"
      },
      {
        "duration": 10,
        "start_time": "2023-05-03T19:09:29.357Z"
      },
      {
        "duration": 8,
        "start_time": "2023-05-03T19:09:29.946Z"
      },
      {
        "duration": 3,
        "start_time": "2023-05-03T19:09:33.010Z"
      },
      {
        "duration": 12,
        "start_time": "2023-05-03T19:09:34.099Z"
      },
      {
        "duration": 10,
        "start_time": "2023-05-03T19:09:34.419Z"
      },
      {
        "duration": 3,
        "start_time": "2023-05-03T19:09:35.338Z"
      },
      {
        "duration": 11,
        "start_time": "2023-05-03T19:09:35.726Z"
      },
      {
        "duration": 4,
        "start_time": "2023-05-03T19:09:38.227Z"
      },
      {
        "duration": 17,
        "start_time": "2023-05-03T19:11:07.895Z"
      },
      {
        "duration": 3,
        "start_time": "2023-05-03T19:12:45.228Z"
      },
      {
        "duration": 26,
        "start_time": "2023-05-03T19:12:45.912Z"
      },
      {
        "duration": 114,
        "start_time": "2023-05-03T19:15:32.214Z"
      },
      {
        "duration": 22,
        "start_time": "2023-05-03T19:15:33.439Z"
      },
      {
        "duration": 5,
        "start_time": "2023-05-03T19:15:47.176Z"
      },
      {
        "duration": 30,
        "start_time": "2023-05-03T19:15:53.543Z"
      },
      {
        "duration": 23,
        "start_time": "2023-05-03T19:20:09.849Z"
      },
      {
        "duration": 24,
        "start_time": "2023-05-03T19:21:00.233Z"
      },
      {
        "duration": 4,
        "start_time": "2023-05-03T19:23:45.314Z"
      },
      {
        "duration": 4,
        "start_time": "2023-05-03T19:23:45.907Z"
      },
      {
        "duration": 9,
        "start_time": "2023-05-03T19:23:47.893Z"
      },
      {
        "duration": 16,
        "start_time": "2023-05-03T19:24:08.010Z"
      },
      {
        "duration": 8,
        "start_time": "2023-05-03T19:24:30.323Z"
      },
      {
        "duration": 27,
        "start_time": "2023-05-03T19:24:30.754Z"
      },
      {
        "duration": 4,
        "start_time": "2023-05-03T19:26:02.003Z"
      },
      {
        "duration": 3,
        "start_time": "2023-05-03T19:26:02.644Z"
      },
      {
        "duration": 4,
        "start_time": "2023-05-03T19:26:03.234Z"
      },
      {
        "duration": 17,
        "start_time": "2023-05-03T19:26:04.419Z"
      },
      {
        "duration": 8,
        "start_time": "2023-05-03T19:27:28.108Z"
      },
      {
        "duration": 3,
        "start_time": "2023-05-03T19:27:29.244Z"
      },
      {
        "duration": 4,
        "start_time": "2023-05-03T19:27:29.813Z"
      },
      {
        "duration": 17,
        "start_time": "2023-05-03T19:27:30.461Z"
      },
      {
        "duration": 4,
        "start_time": "2023-05-03T19:28:08.668Z"
      },
      {
        "duration": 6,
        "start_time": "2023-05-03T19:28:09.084Z"
      },
      {
        "duration": 4,
        "start_time": "2023-05-03T19:28:09.536Z"
      },
      {
        "duration": 4,
        "start_time": "2023-05-03T19:28:10.084Z"
      },
      {
        "duration": 35,
        "start_time": "2023-05-03T19:28:10.596Z"
      },
      {
        "duration": 8,
        "start_time": "2023-05-03T19:37:18.682Z"
      },
      {
        "duration": 3,
        "start_time": "2023-05-03T19:37:32.802Z"
      },
      {
        "duration": 4,
        "start_time": "2023-05-03T19:40:46.956Z"
      },
      {
        "duration": 6,
        "start_time": "2023-05-03T19:40:47.751Z"
      },
      {
        "duration": 4,
        "start_time": "2023-05-03T19:40:48.417Z"
      },
      {
        "duration": 4,
        "start_time": "2023-05-03T19:40:48.902Z"
      },
      {
        "duration": 1853,
        "start_time": "2023-05-03T19:40:49.741Z"
      },
      {
        "duration": 6,
        "start_time": "2023-05-03T19:43:02.409Z"
      },
      {
        "duration": 3,
        "start_time": "2023-05-03T19:43:03.763Z"
      },
      {
        "duration": 3,
        "start_time": "2023-05-03T19:43:04.236Z"
      },
      {
        "duration": 1353,
        "start_time": "2023-05-03T19:43:05.069Z"
      },
      {
        "duration": 6,
        "start_time": "2023-05-03T19:43:26.558Z"
      },
      {
        "duration": 3,
        "start_time": "2023-05-03T19:43:26.909Z"
      },
      {
        "duration": 4,
        "start_time": "2023-05-03T19:43:27.318Z"
      },
      {
        "duration": 1474,
        "start_time": "2023-05-03T19:43:27.941Z"
      },
      {
        "duration": 0,
        "start_time": "2023-05-03T19:43:29.416Z"
      },
      {
        "duration": 5,
        "start_time": "2023-05-03T19:43:38.933Z"
      },
      {
        "duration": 3,
        "start_time": "2023-05-03T19:43:39.405Z"
      },
      {
        "duration": 3,
        "start_time": "2023-05-03T19:43:39.949Z"
      },
      {
        "duration": 1370,
        "start_time": "2023-05-03T19:43:40.453Z"
      },
      {
        "duration": 10,
        "start_time": "2023-05-03T19:45:51.823Z"
      },
      {
        "duration": 9,
        "start_time": "2023-05-03T19:46:08.255Z"
      },
      {
        "duration": 3,
        "start_time": "2023-05-03T19:46:48.520Z"
      },
      {
        "duration": 34,
        "start_time": "2023-05-03T19:46:49.001Z"
      },
      {
        "duration": 3,
        "start_time": "2023-05-03T19:47:51.928Z"
      },
      {
        "duration": 5,
        "start_time": "2023-05-03T19:47:52.544Z"
      },
      {
        "duration": 4,
        "start_time": "2023-05-03T19:47:55.104Z"
      },
      {
        "duration": 23,
        "start_time": "2023-05-03T19:47:56.289Z"
      },
      {
        "duration": 6,
        "start_time": "2023-05-03T19:48:07.337Z"
      },
      {
        "duration": 3,
        "start_time": "2023-05-03T19:48:07.895Z"
      },
      {
        "duration": 1342,
        "start_time": "2023-05-03T19:48:08.410Z"
      },
      {
        "duration": 4533,
        "start_time": "2023-05-03T19:48:28.272Z"
      },
      {
        "duration": 4305,
        "start_time": "2023-05-03T19:48:52.569Z"
      },
      {
        "duration": 7,
        "start_time": "2023-05-03T19:50:10.963Z"
      },
      {
        "duration": 4,
        "start_time": "2023-05-03T19:50:11.515Z"
      },
      {
        "duration": 6657,
        "start_time": "2023-05-03T19:50:12.067Z"
      },
      {
        "duration": 7,
        "start_time": "2023-05-03T19:50:37.120Z"
      },
      {
        "duration": 4,
        "start_time": "2023-05-03T19:50:37.569Z"
      },
      {
        "duration": 5980,
        "start_time": "2023-05-03T19:50:38.058Z"
      },
      {
        "duration": 6,
        "start_time": "2023-05-03T19:51:32.331Z"
      },
      {
        "duration": 8,
        "start_time": "2023-05-03T19:52:18.570Z"
      },
      {
        "duration": 4,
        "start_time": "2023-05-03T19:52:19.275Z"
      },
      {
        "duration": 7178,
        "start_time": "2023-05-03T19:52:20.203Z"
      },
      {
        "duration": 7,
        "start_time": "2023-05-03T20:23:39.787Z"
      },
      {
        "duration": 6088,
        "start_time": "2023-05-03T20:23:40.285Z"
      },
      {
        "duration": 7,
        "start_time": "2023-05-03T20:26:10.864Z"
      },
      {
        "duration": 5815,
        "start_time": "2023-05-03T20:26:11.289Z"
      },
      {
        "duration": 8,
        "start_time": "2023-05-03T20:27:04.139Z"
      },
      {
        "duration": 5604,
        "start_time": "2023-05-03T20:27:04.651Z"
      },
      {
        "duration": 9,
        "start_time": "2023-05-03T20:28:38.674Z"
      },
      {
        "duration": 22,
        "start_time": "2023-05-03T20:28:39.554Z"
      },
      {
        "duration": 7,
        "start_time": "2023-05-03T20:29:04.795Z"
      },
      {
        "duration": 21,
        "start_time": "2023-05-03T20:29:05.610Z"
      },
      {
        "duration": 7,
        "start_time": "2023-05-03T20:31:50.989Z"
      },
      {
        "duration": 21,
        "start_time": "2023-05-03T20:31:51.787Z"
      },
      {
        "duration": 17,
        "start_time": "2023-05-03T20:33:38.142Z"
      },
      {
        "duration": 21,
        "start_time": "2023-05-03T20:33:39.039Z"
      },
      {
        "duration": 5,
        "start_time": "2023-05-03T20:33:43.557Z"
      },
      {
        "duration": 30,
        "start_time": "2023-05-03T20:33:43.940Z"
      },
      {
        "duration": 7,
        "start_time": "2023-05-03T20:33:45.223Z"
      },
      {
        "duration": 22,
        "start_time": "2023-05-03T20:33:45.946Z"
      },
      {
        "duration": 7,
        "start_time": "2023-05-03T20:34:09.715Z"
      },
      {
        "duration": 6370,
        "start_time": "2023-05-03T20:34:10.462Z"
      },
      {
        "duration": 8,
        "start_time": "2023-05-03T20:36:28.616Z"
      },
      {
        "duration": 5435,
        "start_time": "2023-05-03T20:36:31.312Z"
      },
      {
        "duration": 6,
        "start_time": "2023-05-03T20:38:15.033Z"
      },
      {
        "duration": 4290,
        "start_time": "2023-05-03T20:38:15.401Z"
      },
      {
        "duration": 6,
        "start_time": "2023-05-03T20:39:40.057Z"
      },
      {
        "duration": 4706,
        "start_time": "2023-05-03T20:39:40.746Z"
      },
      {
        "duration": 6,
        "start_time": "2023-05-03T20:40:25.074Z"
      },
      {
        "duration": 5175,
        "start_time": "2023-05-03T20:40:25.546Z"
      },
      {
        "duration": 7,
        "start_time": "2023-05-03T20:40:52.123Z"
      },
      {
        "duration": 4663,
        "start_time": "2023-05-03T20:40:52.651Z"
      },
      {
        "duration": 17,
        "start_time": "2023-05-03T21:08:19.773Z"
      },
      {
        "duration": 4,
        "start_time": "2023-05-03T21:08:57.352Z"
      },
      {
        "duration": 18,
        "start_time": "2023-05-03T21:08:57.797Z"
      },
      {
        "duration": 3,
        "start_time": "2023-05-03T21:09:12.320Z"
      },
      {
        "duration": 20,
        "start_time": "2023-05-03T21:09:12.965Z"
      },
      {
        "duration": 5,
        "start_time": "2023-05-03T21:09:21.014Z"
      },
      {
        "duration": 4097,
        "start_time": "2023-05-03T21:09:21.933Z"
      },
      {
        "duration": 3,
        "start_time": "2023-05-03T21:14:47.953Z"
      },
      {
        "duration": 355,
        "start_time": "2023-05-03T21:14:48.177Z"
      },
      {
        "duration": 7,
        "start_time": "2023-05-03T21:14:48.534Z"
      },
      {
        "duration": 11,
        "start_time": "2023-05-03T21:14:49.609Z"
      },
      {
        "duration": 48,
        "start_time": "2023-05-03T21:14:49.889Z"
      },
      {
        "duration": 17,
        "start_time": "2023-05-03T21:14:50.633Z"
      },
      {
        "duration": 50,
        "start_time": "2023-05-03T21:14:50.865Z"
      },
      {
        "duration": 2,
        "start_time": "2023-05-03T21:14:51.474Z"
      },
      {
        "duration": 68,
        "start_time": "2023-05-03T21:14:51.690Z"
      },
      {
        "duration": 13,
        "start_time": "2023-05-03T21:14:51.913Z"
      },
      {
        "duration": 6,
        "start_time": "2023-05-03T21:14:52.368Z"
      },
      {
        "duration": 5,
        "start_time": "2023-05-03T21:14:52.587Z"
      },
      {
        "duration": 5,
        "start_time": "2023-05-03T21:14:52.817Z"
      },
      {
        "duration": 4,
        "start_time": "2023-05-03T21:14:53.041Z"
      },
      {
        "duration": 31,
        "start_time": "2023-05-03T21:14:53.456Z"
      },
      {
        "duration": 809,
        "start_time": "2023-05-03T21:14:54.351Z"
      },
      {
        "duration": 918,
        "start_time": "2023-05-03T21:14:55.163Z"
      },
      {
        "duration": 3,
        "start_time": "2023-05-03T21:14:56.083Z"
      },
      {
        "duration": 18,
        "start_time": "2023-05-03T21:14:56.088Z"
      },
      {
        "duration": 8,
        "start_time": "2023-05-03T21:14:56.108Z"
      },
      {
        "duration": 18,
        "start_time": "2023-05-03T21:14:56.118Z"
      },
      {
        "duration": 24,
        "start_time": "2023-05-03T21:14:56.138Z"
      },
      {
        "duration": 12,
        "start_time": "2023-05-03T21:14:56.164Z"
      },
      {
        "duration": 3,
        "start_time": "2023-05-03T21:14:56.201Z"
      },
      {
        "duration": 6,
        "start_time": "2023-05-03T21:14:56.409Z"
      },
      {
        "duration": 2,
        "start_time": "2023-05-03T21:14:56.601Z"
      },
      {
        "duration": 3,
        "start_time": "2023-05-03T21:14:57.515Z"
      },
      {
        "duration": 9,
        "start_time": "2023-05-03T21:14:57.746Z"
      },
      {
        "duration": 5,
        "start_time": "2023-05-03T21:14:58.232Z"
      },
      {
        "duration": 17,
        "start_time": "2023-05-03T21:14:58.681Z"
      },
      {
        "duration": 20,
        "start_time": "2023-05-03T21:14:58.897Z"
      },
      {
        "duration": 14,
        "start_time": "2023-05-03T21:14:59.113Z"
      },
      {
        "duration": 10,
        "start_time": "2023-05-03T21:14:59.536Z"
      },
      {
        "duration": 5,
        "start_time": "2023-05-03T21:14:59.977Z"
      },
      {
        "duration": 18,
        "start_time": "2023-05-03T21:15:00.185Z"
      },
      {
        "duration": 19,
        "start_time": "2023-05-03T21:15:00.400Z"
      },
      {
        "duration": 20,
        "start_time": "2023-05-03T21:15:00.624Z"
      },
      {
        "duration": 3,
        "start_time": "2023-05-03T21:15:01.073Z"
      },
      {
        "duration": 8,
        "start_time": "2023-05-03T21:15:01.281Z"
      },
      {
        "duration": 7,
        "start_time": "2023-05-03T21:15:01.498Z"
      },
      {
        "duration": 8,
        "start_time": "2023-05-03T21:15:01.705Z"
      },
      {
        "duration": 3,
        "start_time": "2023-05-03T21:15:02.777Z"
      },
      {
        "duration": 5,
        "start_time": "2023-05-03T21:15:03.185Z"
      },
      {
        "duration": 5,
        "start_time": "2023-05-03T21:15:03.409Z"
      },
      {
        "duration": 4,
        "start_time": "2023-05-03T21:15:03.633Z"
      },
      {
        "duration": 8,
        "start_time": "2023-05-03T21:15:03.849Z"
      },
      {
        "duration": 4,
        "start_time": "2023-05-03T21:15:04.529Z"
      },
      {
        "duration": 5,
        "start_time": "2023-05-03T21:15:04.751Z"
      },
      {
        "duration": 4,
        "start_time": "2023-05-03T21:15:05.195Z"
      },
      {
        "duration": 19,
        "start_time": "2023-05-03T21:15:05.417Z"
      },
      {
        "duration": 4,
        "start_time": "2023-05-03T21:15:05.890Z"
      },
      {
        "duration": 4048,
        "start_time": "2023-05-03T21:15:06.120Z"
      },
      {
        "duration": 33,
        "start_time": "2023-05-03T21:16:43.809Z"
      },
      {
        "duration": 9,
        "start_time": "2023-05-03T21:20:35.084Z"
      },
      {
        "duration": 4,
        "start_time": "2023-05-03T21:22:49.188Z"
      },
      {
        "duration": 15,
        "start_time": "2023-05-03T21:22:49.612Z"
      },
      {
        "duration": 16,
        "start_time": "2023-05-03T21:22:50.068Z"
      },
      {
        "duration": 15,
        "start_time": "2023-05-03T21:22:50.836Z"
      },
      {
        "duration": 5,
        "start_time": "2023-05-03T21:24:54.381Z"
      },
      {
        "duration": 19,
        "start_time": "2023-05-03T21:24:55.708Z"
      },
      {
        "duration": 20,
        "start_time": "2023-05-03T21:24:57.084Z"
      },
      {
        "duration": 19,
        "start_time": "2023-05-03T21:24:57.692Z"
      },
      {
        "duration": 3,
        "start_time": "2023-05-03T21:24:59.635Z"
      },
      {
        "duration": 7,
        "start_time": "2023-05-03T21:25:00.100Z"
      },
      {
        "duration": 8,
        "start_time": "2023-05-03T21:25:08.860Z"
      },
      {
        "duration": 6,
        "start_time": "2023-05-03T21:25:09.300Z"
      },
      {
        "duration": 6,
        "start_time": "2023-05-03T21:25:09.780Z"
      },
      {
        "duration": 3,
        "start_time": "2023-05-03T21:25:31.019Z"
      },
      {
        "duration": 5,
        "start_time": "2023-05-03T21:25:36.507Z"
      },
      {
        "duration": 4,
        "start_time": "2023-05-03T21:26:04.356Z"
      },
      {
        "duration": 5,
        "start_time": "2023-05-03T21:26:05.366Z"
      },
      {
        "duration": 3,
        "start_time": "2023-05-03T21:26:07.163Z"
      },
      {
        "duration": 7,
        "start_time": "2023-05-03T21:26:07.723Z"
      },
      {
        "duration": 3,
        "start_time": "2023-05-03T21:26:16.765Z"
      },
      {
        "duration": 4,
        "start_time": "2023-05-03T21:26:18.619Z"
      },
      {
        "duration": 3,
        "start_time": "2023-05-03T21:26:20.125Z"
      },
      {
        "duration": 17,
        "start_time": "2023-05-03T21:26:20.851Z"
      },
      {
        "duration": 4,
        "start_time": "2023-05-03T21:26:24.179Z"
      },
      {
        "duration": 4284,
        "start_time": "2023-05-03T21:26:25.700Z"
      },
      {
        "duration": 3269,
        "start_time": "2023-05-03T21:43:21.780Z"
      },
      {
        "duration": 466,
        "start_time": "2023-05-03T21:43:25.051Z"
      },
      {
        "duration": 5,
        "start_time": "2023-05-03T21:43:25.519Z"
      },
      {
        "duration": 29,
        "start_time": "2023-05-03T21:43:25.526Z"
      },
      {
        "duration": 41,
        "start_time": "2023-05-03T21:43:25.560Z"
      },
      {
        "duration": 46,
        "start_time": "2023-05-03T21:43:25.604Z"
      },
      {
        "duration": 48,
        "start_time": "2023-05-03T21:43:25.652Z"
      },
      {
        "duration": 4,
        "start_time": "2023-05-03T21:43:25.718Z"
      },
      {
        "duration": 108,
        "start_time": "2023-05-03T21:43:25.724Z"
      },
      {
        "duration": 17,
        "start_time": "2023-05-03T21:43:25.834Z"
      },
      {
        "duration": 9,
        "start_time": "2023-05-03T21:43:25.853Z"
      },
      {
        "duration": 16,
        "start_time": "2023-05-03T21:43:25.864Z"
      },
      {
        "duration": 10,
        "start_time": "2023-05-03T21:43:25.882Z"
      },
      {
        "duration": 7,
        "start_time": "2023-05-03T21:43:25.897Z"
      },
      {
        "duration": 46,
        "start_time": "2023-05-03T21:43:25.918Z"
      },
      {
        "duration": 914,
        "start_time": "2023-05-03T21:43:25.966Z"
      },
      {
        "duration": 1111,
        "start_time": "2023-05-03T21:43:26.882Z"
      },
      {
        "duration": 3,
        "start_time": "2023-05-03T21:43:27.995Z"
      },
      {
        "duration": 19,
        "start_time": "2023-05-03T21:43:28.000Z"
      },
      {
        "duration": 16,
        "start_time": "2023-05-03T21:43:28.021Z"
      },
      {
        "duration": 21,
        "start_time": "2023-05-03T21:43:28.039Z"
      },
      {
        "duration": 9,
        "start_time": "2023-05-03T21:43:28.061Z"
      },
      {
        "duration": 18,
        "start_time": "2023-05-03T21:43:28.071Z"
      },
      {
        "duration": 6,
        "start_time": "2023-05-03T21:43:28.091Z"
      },
      {
        "duration": 24,
        "start_time": "2023-05-03T21:43:28.119Z"
      },
      {
        "duration": 14,
        "start_time": "2023-05-03T21:43:28.144Z"
      },
      {
        "duration": 14,
        "start_time": "2023-05-03T21:43:28.160Z"
      },
      {
        "duration": 67,
        "start_time": "2023-05-03T21:43:28.175Z"
      },
      {
        "duration": 100,
        "start_time": "2023-05-03T21:43:28.318Z"
      },
      {
        "duration": 122,
        "start_time": "2023-05-03T21:43:28.420Z"
      },
      {
        "duration": 195,
        "start_time": "2023-05-03T21:43:28.545Z"
      },
      {
        "duration": 5,
        "start_time": "2023-05-03T21:43:28.743Z"
      },
      {
        "duration": 72,
        "start_time": "2023-05-03T21:43:28.750Z"
      },
      {
        "duration": 115,
        "start_time": "2023-05-03T21:43:28.824Z"
      },
      {
        "duration": 276,
        "start_time": "2023-05-03T21:43:28.941Z"
      },
      {
        "duration": 17,
        "start_time": "2023-05-03T21:43:29.221Z"
      },
      {
        "duration": 13,
        "start_time": "2023-05-03T21:43:29.240Z"
      },
      {
        "duration": 9,
        "start_time": "2023-05-03T21:43:29.254Z"
      },
      {
        "duration": 8,
        "start_time": "2023-05-03T21:43:29.264Z"
      },
      {
        "duration": 4,
        "start_time": "2023-05-03T21:43:29.274Z"
      },
      {
        "duration": 36,
        "start_time": "2023-05-03T21:43:29.282Z"
      },
      {
        "duration": 40,
        "start_time": "2023-05-03T21:43:29.320Z"
      },
      {
        "duration": 7,
        "start_time": "2023-05-03T21:43:29.362Z"
      },
      {
        "duration": 20,
        "start_time": "2023-05-03T21:43:29.370Z"
      },
      {
        "duration": 19,
        "start_time": "2023-05-03T21:43:29.392Z"
      },
      {
        "duration": 25,
        "start_time": "2023-05-03T21:43:29.413Z"
      },
      {
        "duration": 7,
        "start_time": "2023-05-03T21:43:29.440Z"
      },
      {
        "duration": 32,
        "start_time": "2023-05-03T21:43:29.449Z"
      },
      {
        "duration": 5,
        "start_time": "2023-05-03T21:43:29.483Z"
      },
      {
        "duration": 4866,
        "start_time": "2023-05-03T21:43:29.491Z"
      }
    ],
    "kernelspec": {
      "display_name": "Python 3 (ipykernel)",
      "language": "python",
      "name": "python3"
    },
    "language_info": {
      "codemirror_mode": {
        "name": "ipython",
        "version": 3
      },
      "file_extension": ".py",
      "mimetype": "text/x-python",
      "name": "python",
      "nbconvert_exporter": "python",
      "pygments_lexer": "ipython3",
      "version": "3.9.5"
    },
    "toc": {
      "base_numbering": 1,
      "nav_menu": {},
      "number_sections": true,
      "sideBar": true,
      "skip_h1_title": true,
      "title_cell": "Table of Contents",
      "title_sidebar": "Contents",
      "toc_cell": false,
      "toc_position": {},
      "toc_section_display": true,
      "toc_window_display": false
    },
    "colab": {
      "provenance": []
    }
  },
  "nbformat": 4,
  "nbformat_minor": 0
}
