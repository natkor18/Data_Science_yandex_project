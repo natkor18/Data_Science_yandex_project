{
  "cells": [
    {
      "cell_type": "markdown",
      "metadata": {
        "toc": true,
        "id": "zt0vOVq3mFHG"
      },
      "source": [
        "<h1>Содержание<span class=\"tocSkip\"></span></h1>\n",
        "<div class=\"toc\"><ul class=\"toc-item\"><li><span><a href=\"#Подготовка-данных\" data-toc-modified-id=\"Подготовка-данных-1\"><span class=\"toc-item-num\">1&nbsp;&nbsp;</span>Подготовка данных</a></span></li><li><span><a href=\"#Исследование-задачи\" data-toc-modified-id=\"Исследование-задачи-2\"><span class=\"toc-item-num\">2&nbsp;&nbsp;</span>Исследование задачи</a></span></li><li><span><a href=\"#Борьба-с-дисбалансом\" data-toc-modified-id=\"Борьба-с-дисбалансом-3\"><span class=\"toc-item-num\">3&nbsp;&nbsp;</span>Борьба с дисбалансом</a></span></li><li><span><a href=\"#Тестирование-модели\" data-toc-modified-id=\"Тестирование-модели-4\"><span class=\"toc-item-num\">4&nbsp;&nbsp;</span>Тестирование модели</a></span></li><li><span><a href=\"#Чек-лист-готовности-проекта\" data-toc-modified-id=\"Чек-лист-готовности-проекта-5\"><span class=\"toc-item-num\">5&nbsp;&nbsp;</span>Чек-лист готовности проекта</a></span></li></ul></div>"
      ]
    },
    {
      "cell_type": "markdown",
      "metadata": {
        "id": "5XadNmKImFHH"
      },
      "source": [
        "# Отток клиентов"
      ]
    },
    {
      "cell_type": "markdown",
      "metadata": {
        "id": "iaquh7yxmFHH"
      },
      "source": [
        "Из «Бета-Банка» стали уходить клиенты. Каждый месяц. Немного, но заметно. Банковские маркетологи посчитали: сохранять текущих клиентов дешевле, чем привлекать новых.\n",
        "\n",
        "Нужно спрогнозировать, уйдёт клиент из банка в ближайшее время или нет. Вам предоставлены исторические данные о поведении клиентов и расторжении договоров с банком.\n",
        "\n",
        "Постройте модель с предельно большим значением *F1*-меры. Чтобы сдать проект успешно, нужно довести метрику до 0.59. Проверьте *F1*-меру на тестовой выборке самостоятельно.\n",
        "\n",
        "Дополнительно измеряйте *AUC-ROC*, сравнивайте её значение с *F1*-мерой.\n",
        "\n",
        "Источник данных: [https://www.kaggle.com/barelydedicated/bank-customer-churn-modeling](https://www.kaggle.com/barelydedicated/bank-customer-churn-modeling)"
      ]
    },
    {
      "cell_type": "markdown",
      "metadata": {
        "id": "_GvJCUrumFHH"
      },
      "source": [
        "## Подготовка данных"
      ]
    },
    {
      "cell_type": "markdown",
      "metadata": {
        "id": "Wb3tR8apmFHH"
      },
      "source": [
        "**Описание данных**\n",
        "\n",
        "- RowNumber — индекс строки в данных\n",
        "- CustomerId — уникальный идентификатор клиента\n",
        "- Surname — фамилия\n",
        "- CreditScore — кредитный рейтинг\n",
        "- Geography — страна проживания\n",
        "- Gender — пол\n",
        "- Age — возраст\n",
        "- Tenure — сколько лет человек является клиентом банка\n",
        "- Balance — баланс на счёте\n",
        "- NumOfProducts — количество продуктов банка, используемых клиентом\n",
        "- HasCrCard — наличие кредитной карты\n",
        "- IsActiveMember — активность клиента\n",
        "- EstimatedSalary — предполагаемая зарплата\n",
        "\n",
        "**Целевой признак**\n",
        "- Exited — факт ухода клиента\n"
      ]
    },
    {
      "cell_type": "code",
      "execution_count": null,
      "metadata": {
        "id": "gNubYyG9mFHH"
      },
      "outputs": [],
      "source": [
        "import pandas as pd\n",
        "from sklearn.preprocessing import OrdinalEncoder\n",
        "from sklearn.model_selection import train_test_split\n",
        "from sklearn.ensemble import RandomForestRegressor\n",
        "from sklearn.linear_model import LinearRegression\n",
        "from sklearn.ensemble import RandomForestClassifier\n",
        "from sklearn.tree import DecisionTreeClassifier\n",
        "from sklearn.dummy import DummyClassifier\n",
        "from sklearn.metrics import accuracy_score\n",
        "from sklearn.linear_model import LogisticRegression\n",
        "from sklearn.metrics import precision_score\n",
        "from sklearn.preprocessing import StandardScaler\n",
        "from sklearn.metrics import confusion_matrix\n",
        "from sklearn.metrics import recall_score\n",
        "from sklearn.metrics import precision_score\n",
        "from sklearn.metrics import f1_score\n",
        "from sklearn.utils import shuffle\n",
        "from sklearn.metrics import roc_auc_score\n",
        "import numpy as np\n",
        "import matplotlib.pyplot as plt\n",
        "from sklearn.metrics import precision_recall_curve\n",
        "from sklearn.metrics import roc_auc_score"
      ]
    },
    {
      "cell_type": "markdown",
      "metadata": {
        "id": "YwBlhNJemFHI"
      },
      "source": [
        "<font size = 3>**Считаем данные в таблицу и посмотрим что в ней есть. Посмотрим общую информацию о данных, размер таблицы, сами данные. Проверим пропуски. Для этого используем методы info, shape, head, isna.**</font>"
      ]
    },
    {
      "cell_type": "code",
      "execution_count": null,
      "metadata": {
        "id": "iA-DmEzTmFHI",
        "outputId": "6d36e7d7-aaf2-421c-cd08-06af77709177"
      },
      "outputs": [
        {
          "name": "stdout",
          "output_type": "stream",
          "text": [
            "<class 'pandas.core.frame.DataFrame'>\n",
            "RangeIndex: 10000 entries, 0 to 9999\n",
            "Data columns (total 14 columns):\n",
            " #   Column           Non-Null Count  Dtype  \n",
            "---  ------           --------------  -----  \n",
            " 0   RowNumber        10000 non-null  int64  \n",
            " 1   CustomerId       10000 non-null  int64  \n",
            " 2   Surname          10000 non-null  object \n",
            " 3   CreditScore      10000 non-null  int64  \n",
            " 4   Geography        10000 non-null  object \n",
            " 5   Gender           10000 non-null  object \n",
            " 6   Age              10000 non-null  int64  \n",
            " 7   Tenure           9091 non-null   float64\n",
            " 8   Balance          10000 non-null  float64\n",
            " 9   NumOfProducts    10000 non-null  int64  \n",
            " 10  HasCrCard        10000 non-null  int64  \n",
            " 11  IsActiveMember   10000 non-null  int64  \n",
            " 12  EstimatedSalary  10000 non-null  float64\n",
            " 13  Exited           10000 non-null  int64  \n",
            "dtypes: float64(3), int64(8), object(3)\n",
            "memory usage: 1.1+ MB\n"
          ]
        }
      ],
      "source": [
        "data = pd.read_csv(\"/datasets/Churn.csv\")\n",
        "data.info()"
      ]
    },
    {
      "cell_type": "code",
      "execution_count": null,
      "metadata": {
        "id": "s_5SNSN5mFHK",
        "outputId": "25d139c8-a59a-4a46-da37-f8d302bd0b1a"
      },
      "outputs": [
        {
          "data": {
            "text/plain": [
              "RowNumber            0\n",
              "CustomerId           0\n",
              "Surname              0\n",
              "CreditScore          0\n",
              "Geography            0\n",
              "Gender               0\n",
              "Age                  0\n",
              "Tenure             909\n",
              "Balance              0\n",
              "NumOfProducts        0\n",
              "HasCrCard            0\n",
              "IsActiveMember       0\n",
              "EstimatedSalary      0\n",
              "Exited               0\n",
              "dtype: int64"
            ]
          },
          "execution_count": 3,
          "metadata": {},
          "output_type": "execute_result"
        }
      ],
      "source": [
        "data.isna().sum()"
      ]
    },
    {
      "cell_type": "code",
      "execution_count": null,
      "metadata": {
        "id": "3N63F10AmFHK",
        "outputId": "7bd93904-7cfe-46b5-e4a5-cad74a326195"
      },
      "outputs": [
        {
          "data": {
            "text/plain": [
              "(10000, 14)"
            ]
          },
          "execution_count": 4,
          "metadata": {},
          "output_type": "execute_result"
        }
      ],
      "source": [
        "data.shape"
      ]
    },
    {
      "cell_type": "code",
      "execution_count": null,
      "metadata": {
        "id": "VWojbQAImFHK",
        "outputId": "08c54660-25d9-4738-866a-ac578d5d4ddb"
      },
      "outputs": [
        {
          "data": {
            "text/html": [
              "<div>\n",
              "<style scoped>\n",
              "    .dataframe tbody tr th:only-of-type {\n",
              "        vertical-align: middle;\n",
              "    }\n",
              "\n",
              "    .dataframe tbody tr th {\n",
              "        vertical-align: top;\n",
              "    }\n",
              "\n",
              "    .dataframe thead th {\n",
              "        text-align: right;\n",
              "    }\n",
              "</style>\n",
              "<table border=\"1\" class=\"dataframe\">\n",
              "  <thead>\n",
              "    <tr style=\"text-align: right;\">\n",
              "      <th></th>\n",
              "      <th>RowNumber</th>\n",
              "      <th>CustomerId</th>\n",
              "      <th>Surname</th>\n",
              "      <th>CreditScore</th>\n",
              "      <th>Geography</th>\n",
              "      <th>Gender</th>\n",
              "      <th>Age</th>\n",
              "      <th>Tenure</th>\n",
              "      <th>Balance</th>\n",
              "      <th>NumOfProducts</th>\n",
              "      <th>HasCrCard</th>\n",
              "      <th>IsActiveMember</th>\n",
              "      <th>EstimatedSalary</th>\n",
              "      <th>Exited</th>\n",
              "    </tr>\n",
              "  </thead>\n",
              "  <tbody>\n",
              "    <tr>\n",
              "      <th>0</th>\n",
              "      <td>1</td>\n",
              "      <td>15634602</td>\n",
              "      <td>Hargrave</td>\n",
              "      <td>619</td>\n",
              "      <td>France</td>\n",
              "      <td>Female</td>\n",
              "      <td>42</td>\n",
              "      <td>2.0</td>\n",
              "      <td>0.00</td>\n",
              "      <td>1</td>\n",
              "      <td>1</td>\n",
              "      <td>1</td>\n",
              "      <td>101348.88</td>\n",
              "      <td>1</td>\n",
              "    </tr>\n",
              "    <tr>\n",
              "      <th>1</th>\n",
              "      <td>2</td>\n",
              "      <td>15647311</td>\n",
              "      <td>Hill</td>\n",
              "      <td>608</td>\n",
              "      <td>Spain</td>\n",
              "      <td>Female</td>\n",
              "      <td>41</td>\n",
              "      <td>1.0</td>\n",
              "      <td>83807.86</td>\n",
              "      <td>1</td>\n",
              "      <td>0</td>\n",
              "      <td>1</td>\n",
              "      <td>112542.58</td>\n",
              "      <td>0</td>\n",
              "    </tr>\n",
              "    <tr>\n",
              "      <th>2</th>\n",
              "      <td>3</td>\n",
              "      <td>15619304</td>\n",
              "      <td>Onio</td>\n",
              "      <td>502</td>\n",
              "      <td>France</td>\n",
              "      <td>Female</td>\n",
              "      <td>42</td>\n",
              "      <td>8.0</td>\n",
              "      <td>159660.80</td>\n",
              "      <td>3</td>\n",
              "      <td>1</td>\n",
              "      <td>0</td>\n",
              "      <td>113931.57</td>\n",
              "      <td>1</td>\n",
              "    </tr>\n",
              "    <tr>\n",
              "      <th>3</th>\n",
              "      <td>4</td>\n",
              "      <td>15701354</td>\n",
              "      <td>Boni</td>\n",
              "      <td>699</td>\n",
              "      <td>France</td>\n",
              "      <td>Female</td>\n",
              "      <td>39</td>\n",
              "      <td>1.0</td>\n",
              "      <td>0.00</td>\n",
              "      <td>2</td>\n",
              "      <td>0</td>\n",
              "      <td>0</td>\n",
              "      <td>93826.63</td>\n",
              "      <td>0</td>\n",
              "    </tr>\n",
              "    <tr>\n",
              "      <th>4</th>\n",
              "      <td>5</td>\n",
              "      <td>15737888</td>\n",
              "      <td>Mitchell</td>\n",
              "      <td>850</td>\n",
              "      <td>Spain</td>\n",
              "      <td>Female</td>\n",
              "      <td>43</td>\n",
              "      <td>2.0</td>\n",
              "      <td>125510.82</td>\n",
              "      <td>1</td>\n",
              "      <td>1</td>\n",
              "      <td>1</td>\n",
              "      <td>79084.10</td>\n",
              "      <td>0</td>\n",
              "    </tr>\n",
              "    <tr>\n",
              "      <th>5</th>\n",
              "      <td>6</td>\n",
              "      <td>15574012</td>\n",
              "      <td>Chu</td>\n",
              "      <td>645</td>\n",
              "      <td>Spain</td>\n",
              "      <td>Male</td>\n",
              "      <td>44</td>\n",
              "      <td>8.0</td>\n",
              "      <td>113755.78</td>\n",
              "      <td>2</td>\n",
              "      <td>1</td>\n",
              "      <td>0</td>\n",
              "      <td>149756.71</td>\n",
              "      <td>1</td>\n",
              "    </tr>\n",
              "    <tr>\n",
              "      <th>6</th>\n",
              "      <td>7</td>\n",
              "      <td>15592531</td>\n",
              "      <td>Bartlett</td>\n",
              "      <td>822</td>\n",
              "      <td>France</td>\n",
              "      <td>Male</td>\n",
              "      <td>50</td>\n",
              "      <td>7.0</td>\n",
              "      <td>0.00</td>\n",
              "      <td>2</td>\n",
              "      <td>1</td>\n",
              "      <td>1</td>\n",
              "      <td>10062.80</td>\n",
              "      <td>0</td>\n",
              "    </tr>\n",
              "    <tr>\n",
              "      <th>7</th>\n",
              "      <td>8</td>\n",
              "      <td>15656148</td>\n",
              "      <td>Obinna</td>\n",
              "      <td>376</td>\n",
              "      <td>Germany</td>\n",
              "      <td>Female</td>\n",
              "      <td>29</td>\n",
              "      <td>4.0</td>\n",
              "      <td>115046.74</td>\n",
              "      <td>4</td>\n",
              "      <td>1</td>\n",
              "      <td>0</td>\n",
              "      <td>119346.88</td>\n",
              "      <td>1</td>\n",
              "    </tr>\n",
              "    <tr>\n",
              "      <th>8</th>\n",
              "      <td>9</td>\n",
              "      <td>15792365</td>\n",
              "      <td>He</td>\n",
              "      <td>501</td>\n",
              "      <td>France</td>\n",
              "      <td>Male</td>\n",
              "      <td>44</td>\n",
              "      <td>4.0</td>\n",
              "      <td>142051.07</td>\n",
              "      <td>2</td>\n",
              "      <td>0</td>\n",
              "      <td>1</td>\n",
              "      <td>74940.50</td>\n",
              "      <td>0</td>\n",
              "    </tr>\n",
              "    <tr>\n",
              "      <th>9</th>\n",
              "      <td>10</td>\n",
              "      <td>15592389</td>\n",
              "      <td>H?</td>\n",
              "      <td>684</td>\n",
              "      <td>France</td>\n",
              "      <td>Male</td>\n",
              "      <td>27</td>\n",
              "      <td>2.0</td>\n",
              "      <td>134603.88</td>\n",
              "      <td>1</td>\n",
              "      <td>1</td>\n",
              "      <td>1</td>\n",
              "      <td>71725.73</td>\n",
              "      <td>0</td>\n",
              "    </tr>\n",
              "  </tbody>\n",
              "</table>\n",
              "</div>"
            ],
            "text/plain": [
              "   RowNumber  CustomerId   Surname  CreditScore Geography  Gender  Age  \\\n",
              "0          1    15634602  Hargrave          619    France  Female   42   \n",
              "1          2    15647311      Hill          608     Spain  Female   41   \n",
              "2          3    15619304      Onio          502    France  Female   42   \n",
              "3          4    15701354      Boni          699    France  Female   39   \n",
              "4          5    15737888  Mitchell          850     Spain  Female   43   \n",
              "5          6    15574012       Chu          645     Spain    Male   44   \n",
              "6          7    15592531  Bartlett          822    France    Male   50   \n",
              "7          8    15656148    Obinna          376   Germany  Female   29   \n",
              "8          9    15792365        He          501    France    Male   44   \n",
              "9         10    15592389        H?          684    France    Male   27   \n",
              "\n",
              "   Tenure    Balance  NumOfProducts  HasCrCard  IsActiveMember  \\\n",
              "0     2.0       0.00              1          1               1   \n",
              "1     1.0   83807.86              1          0               1   \n",
              "2     8.0  159660.80              3          1               0   \n",
              "3     1.0       0.00              2          0               0   \n",
              "4     2.0  125510.82              1          1               1   \n",
              "5     8.0  113755.78              2          1               0   \n",
              "6     7.0       0.00              2          1               1   \n",
              "7     4.0  115046.74              4          1               0   \n",
              "8     4.0  142051.07              2          0               1   \n",
              "9     2.0  134603.88              1          1               1   \n",
              "\n",
              "   EstimatedSalary  Exited  \n",
              "0        101348.88       1  \n",
              "1        112542.58       0  \n",
              "2        113931.57       1  \n",
              "3         93826.63       0  \n",
              "4         79084.10       0  \n",
              "5        149756.71       1  \n",
              "6         10062.80       0  \n",
              "7        119346.88       1  \n",
              "8         74940.50       0  \n",
              "9         71725.73       0  "
            ]
          },
          "execution_count": 5,
          "metadata": {},
          "output_type": "execute_result"
        }
      ],
      "source": [
        "data.head(10)"
      ]
    },
    {
      "cell_type": "markdown",
      "metadata": {
        "id": "QD9lzKLimFHL"
      },
      "source": [
        "<font size=3>**Всего в таблице 10_000 строк и 14 столбцов. Данные смешанные - есть количественные и есть категориальные. Есть пропуски в одном столбце - \"Tenure\" (заполнены NaN). То есть, про 909 человек (это примерно 10% - много) нет информации о том, сколько по времени они являются клиентами банка.**\n",
        "\n",
        "Как обработать пропуски в столбце \"Tenure\".\n",
        "- удалить\n",
        "- заполнить медианой\n",
        "- обучить модель\n",
        "    \n",
        "Сначала я хотела заполнить пропуски значениями, которые предскажет модель. Для этого выбрала \"Tenure\" в качестве целевого признака, разбила данные на две выборки. Тренировочная - без пропусков и тестовая - с пропусками. Попыталась обучить модель. Но вероятно сразу этого было делать нельзя, надо было сначала подготовить данные. Поэтому на разных моделях (решающее дерево, случайный лес, логистическая регрессия), оценки качества были низкие - не превысили 0.1139463264408271.\n",
        "    \n",
        "Поэтому, просто удалим пропуски.\n",
        "\n",
        "**Это 10% от всей выборки. Не мало, но и не так много.** </font>"
      ]
    },
    {
      "cell_type": "code",
      "execution_count": null,
      "metadata": {
        "id": "__kx3hcdmFHL"
      },
      "outputs": [],
      "source": [
        "data.dropna(subset=['Tenure'], how='all', inplace=True)\n",
        "#data['Tenure']=data['Tenure'].fillna(0)"
      ]
    },
    {
      "cell_type": "code",
      "execution_count": null,
      "metadata": {
        "id": "5-tjanohmFHM",
        "outputId": "db8b081f-bc40-458f-a9f9-c29c7ebebb5d"
      },
      "outputs": [
        {
          "data": {
            "text/plain": [
              "RowNumber          0\n",
              "CustomerId         0\n",
              "Surname            0\n",
              "CreditScore        0\n",
              "Geography          0\n",
              "Gender             0\n",
              "Age                0\n",
              "Tenure             0\n",
              "Balance            0\n",
              "NumOfProducts      0\n",
              "HasCrCard          0\n",
              "IsActiveMember     0\n",
              "EstimatedSalary    0\n",
              "Exited             0\n",
              "dtype: int64"
            ]
          },
          "execution_count": 7,
          "metadata": {},
          "output_type": "execute_result"
        }
      ],
      "source": [
        "data.isna().sum()"
      ]
    },
    {
      "cell_type": "code",
      "execution_count": null,
      "metadata": {
        "id": "6NHS1uWomFHM",
        "outputId": "74c2074e-2428-4fe9-8390-89ebaba8c927"
      },
      "outputs": [
        {
          "name": "stdout",
          "output_type": "stream",
          "text": [
            "<class 'pandas.core.frame.DataFrame'>\n",
            "Int64Index: 9091 entries, 0 to 9998\n",
            "Data columns (total 14 columns):\n",
            " #   Column           Non-Null Count  Dtype  \n",
            "---  ------           --------------  -----  \n",
            " 0   RowNumber        9091 non-null   int64  \n",
            " 1   CustomerId       9091 non-null   int64  \n",
            " 2   Surname          9091 non-null   object \n",
            " 3   CreditScore      9091 non-null   int64  \n",
            " 4   Geography        9091 non-null   object \n",
            " 5   Gender           9091 non-null   object \n",
            " 6   Age              9091 non-null   int64  \n",
            " 7   Tenure           9091 non-null   float64\n",
            " 8   Balance          9091 non-null   float64\n",
            " 9   NumOfProducts    9091 non-null   int64  \n",
            " 10  HasCrCard        9091 non-null   int64  \n",
            " 11  IsActiveMember   9091 non-null   int64  \n",
            " 12  EstimatedSalary  9091 non-null   float64\n",
            " 13  Exited           9091 non-null   int64  \n",
            "dtypes: float64(3), int64(8), object(3)\n",
            "memory usage: 1.0+ MB\n"
          ]
        }
      ],
      "source": [
        "data.info()"
      ]
    },
    {
      "cell_type": "markdown",
      "metadata": {
        "id": "36QR8I7mmFHN"
      },
      "source": [
        "<font size = 3>**Почти все типы данных в таблице приведены в соответсвие. Данные - \"HasCrCard — наличие кредитной карты\" и\n",
        "\"IsActiveMember — активность клиента\" стоит привести к логическому типу.**</font>"
      ]
    },
    {
      "cell_type": "code",
      "execution_count": null,
      "metadata": {
        "id": "uk6s9RAWmFHN",
        "outputId": "b8a3ee32-5b76-46c6-ae87-28aee2c5c2b9"
      },
      "outputs": [
        {
          "name": "stdout",
          "output_type": "stream",
          "text": [
            "<class 'pandas.core.frame.DataFrame'>\n",
            "Int64Index: 9091 entries, 0 to 9998\n",
            "Data columns (total 14 columns):\n",
            " #   Column           Non-Null Count  Dtype  \n",
            "---  ------           --------------  -----  \n",
            " 0   RowNumber        9091 non-null   int64  \n",
            " 1   CustomerId       9091 non-null   int64  \n",
            " 2   Surname          9091 non-null   object \n",
            " 3   CreditScore      9091 non-null   int64  \n",
            " 4   Geography        9091 non-null   object \n",
            " 5   Gender           9091 non-null   object \n",
            " 6   Age              9091 non-null   int64  \n",
            " 7   Tenure           9091 non-null   float64\n",
            " 8   Balance          9091 non-null   float64\n",
            " 9   NumOfProducts    9091 non-null   int64  \n",
            " 10  HasCrCard        9091 non-null   bool   \n",
            " 11  IsActiveMember   9091 non-null   bool   \n",
            " 12  EstimatedSalary  9091 non-null   float64\n",
            " 13  Exited           9091 non-null   int64  \n",
            "dtypes: bool(2), float64(3), int64(6), object(3)\n",
            "memory usage: 941.1+ KB\n"
          ]
        }
      ],
      "source": [
        "data['HasCrCard'] = data['HasCrCard'].astype('bool')\n",
        "data['IsActiveMember'] = data['IsActiveMember'].astype('bool')\n",
        "data.info()"
      ]
    },
    {
      "cell_type": "markdown",
      "metadata": {
        "id": "hDt2bhHDmFHN"
      },
      "source": [
        "<font size = 3>**Удалим лишние столбцы, которые являются незначимыми признаками. К таким данным можно отнести - \"RowNumber\", \"CustomerId\", \"Surname\".**</font>"
      ]
    },
    {
      "cell_type": "code",
      "execution_count": null,
      "metadata": {
        "id": "C9DlaLRDmFHN",
        "outputId": "e63ae041-69ed-4507-c9f7-a7251f0d1b71"
      },
      "outputs": [
        {
          "data": {
            "text/html": [
              "<div>\n",
              "<style scoped>\n",
              "    .dataframe tbody tr th:only-of-type {\n",
              "        vertical-align: middle;\n",
              "    }\n",
              "\n",
              "    .dataframe tbody tr th {\n",
              "        vertical-align: top;\n",
              "    }\n",
              "\n",
              "    .dataframe thead th {\n",
              "        text-align: right;\n",
              "    }\n",
              "</style>\n",
              "<table border=\"1\" class=\"dataframe\">\n",
              "  <thead>\n",
              "    <tr style=\"text-align: right;\">\n",
              "      <th></th>\n",
              "      <th>CreditScore</th>\n",
              "      <th>Geography</th>\n",
              "      <th>Gender</th>\n",
              "      <th>Age</th>\n",
              "      <th>Tenure</th>\n",
              "      <th>Balance</th>\n",
              "      <th>NumOfProducts</th>\n",
              "      <th>HasCrCard</th>\n",
              "      <th>IsActiveMember</th>\n",
              "      <th>EstimatedSalary</th>\n",
              "      <th>Exited</th>\n",
              "    </tr>\n",
              "  </thead>\n",
              "  <tbody>\n",
              "    <tr>\n",
              "      <th>0</th>\n",
              "      <td>619</td>\n",
              "      <td>France</td>\n",
              "      <td>Female</td>\n",
              "      <td>42</td>\n",
              "      <td>2.0</td>\n",
              "      <td>0.00</td>\n",
              "      <td>1</td>\n",
              "      <td>True</td>\n",
              "      <td>True</td>\n",
              "      <td>101348.88</td>\n",
              "      <td>1</td>\n",
              "    </tr>\n",
              "    <tr>\n",
              "      <th>1</th>\n",
              "      <td>608</td>\n",
              "      <td>Spain</td>\n",
              "      <td>Female</td>\n",
              "      <td>41</td>\n",
              "      <td>1.0</td>\n",
              "      <td>83807.86</td>\n",
              "      <td>1</td>\n",
              "      <td>False</td>\n",
              "      <td>True</td>\n",
              "      <td>112542.58</td>\n",
              "      <td>0</td>\n",
              "    </tr>\n",
              "    <tr>\n",
              "      <th>2</th>\n",
              "      <td>502</td>\n",
              "      <td>France</td>\n",
              "      <td>Female</td>\n",
              "      <td>42</td>\n",
              "      <td>8.0</td>\n",
              "      <td>159660.80</td>\n",
              "      <td>3</td>\n",
              "      <td>True</td>\n",
              "      <td>False</td>\n",
              "      <td>113931.57</td>\n",
              "      <td>1</td>\n",
              "    </tr>\n",
              "    <tr>\n",
              "      <th>3</th>\n",
              "      <td>699</td>\n",
              "      <td>France</td>\n",
              "      <td>Female</td>\n",
              "      <td>39</td>\n",
              "      <td>1.0</td>\n",
              "      <td>0.00</td>\n",
              "      <td>2</td>\n",
              "      <td>False</td>\n",
              "      <td>False</td>\n",
              "      <td>93826.63</td>\n",
              "      <td>0</td>\n",
              "    </tr>\n",
              "    <tr>\n",
              "      <th>4</th>\n",
              "      <td>850</td>\n",
              "      <td>Spain</td>\n",
              "      <td>Female</td>\n",
              "      <td>43</td>\n",
              "      <td>2.0</td>\n",
              "      <td>125510.82</td>\n",
              "      <td>1</td>\n",
              "      <td>True</td>\n",
              "      <td>True</td>\n",
              "      <td>79084.10</td>\n",
              "      <td>0</td>\n",
              "    </tr>\n",
              "  </tbody>\n",
              "</table>\n",
              "</div>"
            ],
            "text/plain": [
              "   CreditScore Geography  Gender  Age  Tenure    Balance  NumOfProducts  \\\n",
              "0          619    France  Female   42     2.0       0.00              1   \n",
              "1          608     Spain  Female   41     1.0   83807.86              1   \n",
              "2          502    France  Female   42     8.0  159660.80              3   \n",
              "3          699    France  Female   39     1.0       0.00              2   \n",
              "4          850     Spain  Female   43     2.0  125510.82              1   \n",
              "\n",
              "   HasCrCard  IsActiveMember  EstimatedSalary  Exited  \n",
              "0       True            True        101348.88       1  \n",
              "1      False            True        112542.58       0  \n",
              "2       True           False        113931.57       1  \n",
              "3      False           False         93826.63       0  \n",
              "4       True            True         79084.10       0  "
            ]
          },
          "execution_count": 10,
          "metadata": {},
          "output_type": "execute_result"
        }
      ],
      "source": [
        "drop_col = ['RowNumber','CustomerId', 'Surname']\n",
        "data = data.drop(drop_col, axis=1)\n",
        "data.head()"
      ]
    },
    {
      "cell_type": "markdown",
      "metadata": {
        "id": "oFrnceTkmFHN"
      },
      "source": [
        "<font size = 3>**Преобразуем категориальные признаки \"Gender\", \"Geography\" в численные, техникой прямого кодирования. Она работает со всеми моделями.**</font>"
      ]
    },
    {
      "cell_type": "code",
      "execution_count": null,
      "metadata": {
        "id": "4jCKb4I8mFHO",
        "outputId": "dd97601e-b7b1-4ef5-ddb5-0bb15f663a11"
      },
      "outputs": [
        {
          "data": {
            "text/html": [
              "<div>\n",
              "<style scoped>\n",
              "    .dataframe tbody tr th:only-of-type {\n",
              "        vertical-align: middle;\n",
              "    }\n",
              "\n",
              "    .dataframe tbody tr th {\n",
              "        vertical-align: top;\n",
              "    }\n",
              "\n",
              "    .dataframe thead th {\n",
              "        text-align: right;\n",
              "    }\n",
              "</style>\n",
              "<table border=\"1\" class=\"dataframe\">\n",
              "  <thead>\n",
              "    <tr style=\"text-align: right;\">\n",
              "      <th></th>\n",
              "      <th>Male</th>\n",
              "    </tr>\n",
              "  </thead>\n",
              "  <tbody>\n",
              "    <tr>\n",
              "      <th>0</th>\n",
              "      <td>0</td>\n",
              "    </tr>\n",
              "    <tr>\n",
              "      <th>1</th>\n",
              "      <td>0</td>\n",
              "    </tr>\n",
              "    <tr>\n",
              "      <th>2</th>\n",
              "      <td>0</td>\n",
              "    </tr>\n",
              "    <tr>\n",
              "      <th>3</th>\n",
              "      <td>0</td>\n",
              "    </tr>\n",
              "    <tr>\n",
              "      <th>4</th>\n",
              "      <td>0</td>\n",
              "    </tr>\n",
              "  </tbody>\n",
              "</table>\n",
              "</div>"
            ],
            "text/plain": [
              "   Male\n",
              "0     0\n",
              "1     0\n",
              "2     0\n",
              "3     0\n",
              "4     0"
            ]
          },
          "execution_count": 11,
          "metadata": {},
          "output_type": "execute_result"
        }
      ],
      "source": [
        "data_gender = pd.get_dummies(data['Gender'], drop_first=True)\n",
        "data_gender.head()"
      ]
    },
    {
      "cell_type": "code",
      "execution_count": null,
      "metadata": {
        "id": "4rLLM8q9mFHO",
        "outputId": "bdd641fd-ac3b-4acc-fdc6-849cad090489"
      },
      "outputs": [
        {
          "name": "stdout",
          "output_type": "stream",
          "text": [
            "['France' 'Spain' 'Germany']\n"
          ]
        },
        {
          "data": {
            "text/html": [
              "<div>\n",
              "<style scoped>\n",
              "    .dataframe tbody tr th:only-of-type {\n",
              "        vertical-align: middle;\n",
              "    }\n",
              "\n",
              "    .dataframe tbody tr th {\n",
              "        vertical-align: top;\n",
              "    }\n",
              "\n",
              "    .dataframe thead th {\n",
              "        text-align: right;\n",
              "    }\n",
              "</style>\n",
              "<table border=\"1\" class=\"dataframe\">\n",
              "  <thead>\n",
              "    <tr style=\"text-align: right;\">\n",
              "      <th></th>\n",
              "      <th>Germany</th>\n",
              "      <th>Spain</th>\n",
              "    </tr>\n",
              "  </thead>\n",
              "  <tbody>\n",
              "    <tr>\n",
              "      <th>0</th>\n",
              "      <td>0</td>\n",
              "      <td>0</td>\n",
              "    </tr>\n",
              "    <tr>\n",
              "      <th>1</th>\n",
              "      <td>0</td>\n",
              "      <td>1</td>\n",
              "    </tr>\n",
              "    <tr>\n",
              "      <th>2</th>\n",
              "      <td>0</td>\n",
              "      <td>0</td>\n",
              "    </tr>\n",
              "    <tr>\n",
              "      <th>3</th>\n",
              "      <td>0</td>\n",
              "      <td>0</td>\n",
              "    </tr>\n",
              "    <tr>\n",
              "      <th>4</th>\n",
              "      <td>0</td>\n",
              "      <td>1</td>\n",
              "    </tr>\n",
              "  </tbody>\n",
              "</table>\n",
              "</div>"
            ],
            "text/plain": [
              "   Germany  Spain\n",
              "0        0      0\n",
              "1        0      1\n",
              "2        0      0\n",
              "3        0      0\n",
              "4        0      1"
            ]
          },
          "execution_count": 12,
          "metadata": {},
          "output_type": "execute_result"
        }
      ],
      "source": [
        "print(data['Geography'].unique())\n",
        "data_geagraphy = pd.get_dummies(data['Geography'],drop_first=True)\n",
        "data_geagraphy.head()"
      ]
    },
    {
      "cell_type": "code",
      "execution_count": null,
      "metadata": {
        "id": "Sg6tuqlEmFHS",
        "outputId": "acbfdc00-3408-4c69-a1db-a3a2bae8b037"
      },
      "outputs": [
        {
          "data": {
            "text/html": [
              "<div>\n",
              "<style scoped>\n",
              "    .dataframe tbody tr th:only-of-type {\n",
              "        vertical-align: middle;\n",
              "    }\n",
              "\n",
              "    .dataframe tbody tr th {\n",
              "        vertical-align: top;\n",
              "    }\n",
              "\n",
              "    .dataframe thead th {\n",
              "        text-align: right;\n",
              "    }\n",
              "</style>\n",
              "<table border=\"1\" class=\"dataframe\">\n",
              "  <thead>\n",
              "    <tr style=\"text-align: right;\">\n",
              "      <th></th>\n",
              "      <th>CreditScore</th>\n",
              "      <th>Age</th>\n",
              "      <th>Tenure</th>\n",
              "      <th>Balance</th>\n",
              "      <th>NumOfProducts</th>\n",
              "      <th>HasCrCard</th>\n",
              "      <th>IsActiveMember</th>\n",
              "      <th>EstimatedSalary</th>\n",
              "      <th>Exited</th>\n",
              "      <th>Germany</th>\n",
              "      <th>Spain</th>\n",
              "      <th>Male</th>\n",
              "    </tr>\n",
              "  </thead>\n",
              "  <tbody>\n",
              "    <tr>\n",
              "      <th>0</th>\n",
              "      <td>619</td>\n",
              "      <td>42</td>\n",
              "      <td>2.0</td>\n",
              "      <td>0.00</td>\n",
              "      <td>1</td>\n",
              "      <td>True</td>\n",
              "      <td>True</td>\n",
              "      <td>101348.88</td>\n",
              "      <td>1</td>\n",
              "      <td>0</td>\n",
              "      <td>0</td>\n",
              "      <td>0</td>\n",
              "    </tr>\n",
              "    <tr>\n",
              "      <th>1</th>\n",
              "      <td>608</td>\n",
              "      <td>41</td>\n",
              "      <td>1.0</td>\n",
              "      <td>83807.86</td>\n",
              "      <td>1</td>\n",
              "      <td>False</td>\n",
              "      <td>True</td>\n",
              "      <td>112542.58</td>\n",
              "      <td>0</td>\n",
              "      <td>0</td>\n",
              "      <td>1</td>\n",
              "      <td>0</td>\n",
              "    </tr>\n",
              "    <tr>\n",
              "      <th>2</th>\n",
              "      <td>502</td>\n",
              "      <td>42</td>\n",
              "      <td>8.0</td>\n",
              "      <td>159660.80</td>\n",
              "      <td>3</td>\n",
              "      <td>True</td>\n",
              "      <td>False</td>\n",
              "      <td>113931.57</td>\n",
              "      <td>1</td>\n",
              "      <td>0</td>\n",
              "      <td>0</td>\n",
              "      <td>0</td>\n",
              "    </tr>\n",
              "    <tr>\n",
              "      <th>3</th>\n",
              "      <td>699</td>\n",
              "      <td>39</td>\n",
              "      <td>1.0</td>\n",
              "      <td>0.00</td>\n",
              "      <td>2</td>\n",
              "      <td>False</td>\n",
              "      <td>False</td>\n",
              "      <td>93826.63</td>\n",
              "      <td>0</td>\n",
              "      <td>0</td>\n",
              "      <td>0</td>\n",
              "      <td>0</td>\n",
              "    </tr>\n",
              "    <tr>\n",
              "      <th>4</th>\n",
              "      <td>850</td>\n",
              "      <td>43</td>\n",
              "      <td>2.0</td>\n",
              "      <td>125510.82</td>\n",
              "      <td>1</td>\n",
              "      <td>True</td>\n",
              "      <td>True</td>\n",
              "      <td>79084.10</td>\n",
              "      <td>0</td>\n",
              "      <td>0</td>\n",
              "      <td>1</td>\n",
              "      <td>0</td>\n",
              "    </tr>\n",
              "    <tr>\n",
              "      <th>...</th>\n",
              "      <td>...</td>\n",
              "      <td>...</td>\n",
              "      <td>...</td>\n",
              "      <td>...</td>\n",
              "      <td>...</td>\n",
              "      <td>...</td>\n",
              "      <td>...</td>\n",
              "      <td>...</td>\n",
              "      <td>...</td>\n",
              "      <td>...</td>\n",
              "      <td>...</td>\n",
              "      <td>...</td>\n",
              "    </tr>\n",
              "    <tr>\n",
              "      <th>9994</th>\n",
              "      <td>800</td>\n",
              "      <td>29</td>\n",
              "      <td>2.0</td>\n",
              "      <td>0.00</td>\n",
              "      <td>2</td>\n",
              "      <td>False</td>\n",
              "      <td>False</td>\n",
              "      <td>167773.55</td>\n",
              "      <td>0</td>\n",
              "      <td>0</td>\n",
              "      <td>0</td>\n",
              "      <td>0</td>\n",
              "    </tr>\n",
              "    <tr>\n",
              "      <th>9995</th>\n",
              "      <td>771</td>\n",
              "      <td>39</td>\n",
              "      <td>5.0</td>\n",
              "      <td>0.00</td>\n",
              "      <td>2</td>\n",
              "      <td>True</td>\n",
              "      <td>False</td>\n",
              "      <td>96270.64</td>\n",
              "      <td>0</td>\n",
              "      <td>0</td>\n",
              "      <td>0</td>\n",
              "      <td>1</td>\n",
              "    </tr>\n",
              "    <tr>\n",
              "      <th>9996</th>\n",
              "      <td>516</td>\n",
              "      <td>35</td>\n",
              "      <td>10.0</td>\n",
              "      <td>57369.61</td>\n",
              "      <td>1</td>\n",
              "      <td>True</td>\n",
              "      <td>True</td>\n",
              "      <td>101699.77</td>\n",
              "      <td>0</td>\n",
              "      <td>0</td>\n",
              "      <td>0</td>\n",
              "      <td>1</td>\n",
              "    </tr>\n",
              "    <tr>\n",
              "      <th>9997</th>\n",
              "      <td>709</td>\n",
              "      <td>36</td>\n",
              "      <td>7.0</td>\n",
              "      <td>0.00</td>\n",
              "      <td>1</td>\n",
              "      <td>False</td>\n",
              "      <td>True</td>\n",
              "      <td>42085.58</td>\n",
              "      <td>1</td>\n",
              "      <td>0</td>\n",
              "      <td>0</td>\n",
              "      <td>0</td>\n",
              "    </tr>\n",
              "    <tr>\n",
              "      <th>9998</th>\n",
              "      <td>772</td>\n",
              "      <td>42</td>\n",
              "      <td>3.0</td>\n",
              "      <td>75075.31</td>\n",
              "      <td>2</td>\n",
              "      <td>True</td>\n",
              "      <td>False</td>\n",
              "      <td>92888.52</td>\n",
              "      <td>1</td>\n",
              "      <td>1</td>\n",
              "      <td>0</td>\n",
              "      <td>1</td>\n",
              "    </tr>\n",
              "  </tbody>\n",
              "</table>\n",
              "<p>9091 rows × 12 columns</p>\n",
              "</div>"
            ],
            "text/plain": [
              "      CreditScore  Age  Tenure    Balance  NumOfProducts  HasCrCard  \\\n",
              "0             619   42     2.0       0.00              1       True   \n",
              "1             608   41     1.0   83807.86              1      False   \n",
              "2             502   42     8.0  159660.80              3       True   \n",
              "3             699   39     1.0       0.00              2      False   \n",
              "4             850   43     2.0  125510.82              1       True   \n",
              "...           ...  ...     ...        ...            ...        ...   \n",
              "9994          800   29     2.0       0.00              2      False   \n",
              "9995          771   39     5.0       0.00              2       True   \n",
              "9996          516   35    10.0   57369.61              1       True   \n",
              "9997          709   36     7.0       0.00              1      False   \n",
              "9998          772   42     3.0   75075.31              2       True   \n",
              "\n",
              "      IsActiveMember  EstimatedSalary  Exited  Germany  Spain  Male  \n",
              "0               True        101348.88       1        0      0     0  \n",
              "1               True        112542.58       0        0      1     0  \n",
              "2              False        113931.57       1        0      0     0  \n",
              "3              False         93826.63       0        0      0     0  \n",
              "4               True         79084.10       0        0      1     0  \n",
              "...              ...              ...     ...      ...    ...   ...  \n",
              "9994           False        167773.55       0        0      0     0  \n",
              "9995           False         96270.64       0        0      0     1  \n",
              "9996            True        101699.77       0        0      0     1  \n",
              "9997            True         42085.58       1        0      0     0  \n",
              "9998           False         92888.52       1        1      0     1  \n",
              "\n",
              "[9091 rows x 12 columns]"
            ]
          },
          "execution_count": 13,
          "metadata": {},
          "output_type": "execute_result"
        }
      ],
      "source": [
        "data_new = pd.concat([data, data_geagraphy,data_gender], axis='columns')\n",
        "data_new=data_new.drop(['Geography', 'Gender'], axis='columns')\n",
        "data_new"
      ]
    },
    {
      "cell_type": "markdown",
      "metadata": {
        "id": "pX6121rAmFHS"
      },
      "source": [
        "<font size=3>Проведем масштабирование данных в столбцах \"CreditScore\", \"Age\", \"Balance\", \"EstimatedSalary\".</font>"
      ]
    },
    {
      "cell_type": "code",
      "execution_count": null,
      "metadata": {
        "id": "0VKetaNDmFHT"
      },
      "outputs": [],
      "source": [
        "#data_new.head()"
      ]
    },
    {
      "cell_type": "markdown",
      "metadata": {
        "id": "h8RXAaXVmFHT"
      },
      "source": [
        "<font size =3>Данные в датасете подготовлены.\n",
        "- Масштабированы - (будут позже)\n",
        "- приведены к численным значениям методом OHE\n",
        "- заполнены пропуски\n",
        "\n",
        "Можно приступать к исследованию задачи.</font>"
      ]
    },
    {
      "cell_type": "markdown",
      "metadata": {
        "id": "aDnGjIgKmFHT"
      },
      "source": [
        "<font size=3>Поделим датасет на три выборки: тренировочную, валидационную и тестовую. Обработанные данные в новом датафрейте - data_new</font>"
      ]
    },
    {
      "cell_type": "code",
      "execution_count": null,
      "metadata": {
        "id": "zCBYkzi1mFHU"
      },
      "outputs": [],
      "source": [
        "target = data_new['Exited']\n",
        "features = data_new.drop('Exited',axis=1)"
      ]
    },
    {
      "cell_type": "code",
      "execution_count": null,
      "metadata": {
        "id": "pdT330_JmFHU"
      },
      "outputs": [],
      "source": [
        "feature_train, feature_test, target_train, target_test = train_test_split(\n",
        "    features, target, test_size=0.2, random_state=12345,stratify=target)"
      ]
    },
    {
      "cell_type": "code",
      "execution_count": null,
      "metadata": {
        "id": "VeceH-WcmFHU"
      },
      "outputs": [],
      "source": [
        "feature_train, feature_valid, target_train, target_valid = train_test_split(\n",
        "    feature_train, target_train,test_size=0.2, random_state=12345, stratify=target_train)"
      ]
    },
    {
      "cell_type": "code",
      "execution_count": null,
      "metadata": {
        "id": "0T1XkJScmFHV",
        "outputId": "f650079e-46b9-4a34-f1b5-bb8e4baa732d"
      },
      "outputs": [
        {
          "data": {
            "text/plain": [
              "(5817, 11)"
            ]
          },
          "execution_count": 21,
          "metadata": {},
          "output_type": "execute_result"
        }
      ],
      "source": [
        "feature_train.shape"
      ]
    },
    {
      "cell_type": "code",
      "execution_count": null,
      "metadata": {
        "id": "5HRPTBujmFHV"
      },
      "outputs": [],
      "source": [
        "pd.options.mode.chained_assignment = None # чтобы не вылетала ошибка\n",
        "scaler=StandardScaler()\n",
        "numeric = [\"CreditScore\", \"Age\", \"Balance\", \"EstimatedSalary\"] #выбрали столбцы для масштабирования\n",
        "scaler.fit(feature_train[numeric])\n",
        "\n",
        "feature_train[numeric] = scaler.transform(feature_train[numeric])\n",
        "feature_valid[numeric] = scaler.transform(feature_valid[numeric])\n",
        "feature_test[numeric] = scaler.transform(feature_test[numeric])"
      ]
    },
    {
      "cell_type": "code",
      "execution_count": null,
      "metadata": {
        "id": "0PHQbrGHmFHW",
        "outputId": "ddddb56a-7561-4005-fb53-83576eb7a41d"
      },
      "outputs": [
        {
          "data": {
            "text/html": [
              "<div>\n",
              "<style scoped>\n",
              "    .dataframe tbody tr th:only-of-type {\n",
              "        vertical-align: middle;\n",
              "    }\n",
              "\n",
              "    .dataframe tbody tr th {\n",
              "        vertical-align: top;\n",
              "    }\n",
              "\n",
              "    .dataframe thead th {\n",
              "        text-align: right;\n",
              "    }\n",
              "</style>\n",
              "<table border=\"1\" class=\"dataframe\">\n",
              "  <thead>\n",
              "    <tr style=\"text-align: right;\">\n",
              "      <th></th>\n",
              "      <th>CreditScore</th>\n",
              "      <th>Age</th>\n",
              "      <th>Tenure</th>\n",
              "      <th>Balance</th>\n",
              "      <th>NumOfProducts</th>\n",
              "      <th>HasCrCard</th>\n",
              "      <th>IsActiveMember</th>\n",
              "      <th>EstimatedSalary</th>\n",
              "      <th>Germany</th>\n",
              "      <th>Spain</th>\n",
              "      <th>Male</th>\n",
              "    </tr>\n",
              "  </thead>\n",
              "  <tbody>\n",
              "    <tr>\n",
              "      <th>5843</th>\n",
              "      <td>0.610451</td>\n",
              "      <td>-1.689217</td>\n",
              "      <td>4.0</td>\n",
              "      <td>0.533455</td>\n",
              "      <td>2</td>\n",
              "      <td>True</td>\n",
              "      <td>True</td>\n",
              "      <td>-0.754290</td>\n",
              "      <td>0</td>\n",
              "      <td>0</td>\n",
              "      <td>1</td>\n",
              "    </tr>\n",
              "    <tr>\n",
              "      <th>2075</th>\n",
              "      <td>0.610451</td>\n",
              "      <td>0.573575</td>\n",
              "      <td>9.0</td>\n",
              "      <td>0.518987</td>\n",
              "      <td>1</td>\n",
              "      <td>True</td>\n",
              "      <td>True</td>\n",
              "      <td>1.545171</td>\n",
              "      <td>1</td>\n",
              "      <td>0</td>\n",
              "      <td>1</td>\n",
              "    </tr>\n",
              "    <tr>\n",
              "      <th>1013</th>\n",
              "      <td>-0.170720</td>\n",
              "      <td>-1.406368</td>\n",
              "      <td>4.0</td>\n",
              "      <td>-1.221743</td>\n",
              "      <td>2</td>\n",
              "      <td>True</td>\n",
              "      <td>True</td>\n",
              "      <td>-0.502830</td>\n",
              "      <td>0</td>\n",
              "      <td>1</td>\n",
              "      <td>1</td>\n",
              "    </tr>\n",
              "    <tr>\n",
              "      <th>3038</th>\n",
              "      <td>0.964582</td>\n",
              "      <td>0.762141</td>\n",
              "      <td>9.0</td>\n",
              "      <td>-1.221743</td>\n",
              "      <td>2</td>\n",
              "      <td>True</td>\n",
              "      <td>False</td>\n",
              "      <td>0.235293</td>\n",
              "      <td>0</td>\n",
              "      <td>0</td>\n",
              "      <td>1</td>\n",
              "    </tr>\n",
              "    <tr>\n",
              "      <th>4104</th>\n",
              "      <td>2.068637</td>\n",
              "      <td>1.516405</td>\n",
              "      <td>6.0</td>\n",
              "      <td>-1.221743</td>\n",
              "      <td>1</td>\n",
              "      <td>True</td>\n",
              "      <td>False</td>\n",
              "      <td>-1.713933</td>\n",
              "      <td>0</td>\n",
              "      <td>0</td>\n",
              "      <td>1</td>\n",
              "    </tr>\n",
              "  </tbody>\n",
              "</table>\n",
              "</div>"
            ],
            "text/plain": [
              "      CreditScore       Age  Tenure   Balance  NumOfProducts  HasCrCard  \\\n",
              "5843     0.610451 -1.689217     4.0  0.533455              2       True   \n",
              "2075     0.610451  0.573575     9.0  0.518987              1       True   \n",
              "1013    -0.170720 -1.406368     4.0 -1.221743              2       True   \n",
              "3038     0.964582  0.762141     9.0 -1.221743              2       True   \n",
              "4104     2.068637  1.516405     6.0 -1.221743              1       True   \n",
              "\n",
              "      IsActiveMember  EstimatedSalary  Germany  Spain  Male  \n",
              "5843            True        -0.754290        0      0     1  \n",
              "2075            True         1.545171        1      0     1  \n",
              "1013            True        -0.502830        0      1     1  \n",
              "3038           False         0.235293        0      0     1  \n",
              "4104           False        -1.713933        0      0     1  "
            ]
          },
          "execution_count": 23,
          "metadata": {},
          "output_type": "execute_result"
        }
      ],
      "source": [
        "feature_train.head() #посмотрим на результат"
      ]
    },
    {
      "cell_type": "markdown",
      "metadata": {
        "id": "G_-x9qr_mFHW"
      },
      "source": [
        "<font size=3>Выполним контроль корректности разбиения</font>"
      ]
    },
    {
      "cell_type": "code",
      "execution_count": null,
      "metadata": {
        "id": "2alayrrdmFHW",
        "outputId": "68b21bc7-aabd-450d-c030-16341a0523da"
      },
      "outputs": [
        {
          "name": "stdout",
          "output_type": "stream",
          "text": [
            "Обучающая выборка (5817, 11) (5817,)\n",
            "Тестовая выборка (1819, 11) (1819,)\n",
            "Валидационная выборка (1455, 11) (1455,)\n"
          ]
        }
      ],
      "source": [
        "print(\"Обучающая выборка\",feature_train.shape, target_train.shape)\n",
        "print(\"Тестовая выборка\",feature_test.shape, target_test.shape)\n",
        "print(\"Валидационная выборка\",feature_valid.shape, target_valid.shape)"
      ]
    },
    {
      "cell_type": "markdown",
      "metadata": {
        "id": "jkxESh7LmFHW"
      },
      "source": [
        "<font size=3>Разбиение корректное. Исследуем разные модели. </font>"
      ]
    },
    {
      "cell_type": "code",
      "execution_count": null,
      "metadata": {
        "id": "Vb6IwUTpmFHX"
      },
      "outputs": [],
      "source": [
        "def accuracy_model(feature_train, target_train, feature_valid, target_valid):\n",
        "    model_DTC = DecisionTreeClassifier(random_state=12345, max_depth=5)\n",
        "    DTC_score = model_DTC.fit(feature_train, target_train).score(feature_valid, target_valid)\n",
        "\n",
        "    model_RFC = RandomForestClassifier(max_depth=9, n_estimators=9, random_state=12345)\n",
        "    RFC_score = model_RFC.fit(feature_train, target_train).score(feature_valid, target_valid)\n",
        "\n",
        "    model_LgR = LogisticRegression(solver = 'liblinear')\n",
        "    LgR_score = model_LgR.fit(feature_train, target_train).score(feature_valid, target_valid)\n",
        "\n",
        "    print(\"Качество:\" \"\\nдерево решений\", DTC_score, \";\\nCлучайный лес \", RFC_score, \";\\nЛогистическая регрессия\", LgR_score)"
      ]
    },
    {
      "cell_type": "code",
      "execution_count": null,
      "metadata": {
        "id": "za5Ef42hmFHX",
        "outputId": "f9159ea0-2bcf-47b9-e967-64e4d0f89606"
      },
      "outputs": [
        {
          "name": "stdout",
          "output_type": "stream",
          "text": [
            "Качество:\n",
            "дерево решений 0.8529209621993127 ;\n",
            "Cлучайный лес  0.8646048109965636 ;\n",
            "Логистическая регрессия 0.8061855670103093\n",
            "CPU times: user 105 ms, sys: 24 ms, total: 129 ms\n",
            "Wall time: 111 ms\n"
          ]
        }
      ],
      "source": [
        "%%time\n",
        "accuracy_model(feature_train, target_train, feature_valid, target_valid)"
      ]
    },
    {
      "cell_type": "markdown",
      "metadata": {
        "id": "6niDTGhKmFHX"
      },
      "source": [
        "Accuracy моделей и константной модели близки. Это плохо."
      ]
    },
    {
      "cell_type": "markdown",
      "metadata": {
        "id": "MHZ_UkGdmFHX"
      },
      "source": [
        "**Проверим адекватность модели. Исследуем целевой признак.**\n",
        "Чтобы оценить адекватность модели, проверим, как часто в целевом признаке встречается класс «1» или «0». Затем создадим константную модель и сравним результаты. </font>"
      ]
    },
    {
      "cell_type": "code",
      "execution_count": null,
      "metadata": {
        "id": "VbXoqtM4mFHX",
        "outputId": "bee3174e-5513-4f9e-a91a-b6bca2dfa5ca"
      },
      "outputs": [
        {
          "name": "stdout",
          "output_type": "stream",
          "text": [
            "0    0.923711\n",
            "1    0.076289\n",
            "dtype: float64\n"
          ]
        },
        {
          "data": {
            "image/png": "[encoded data removed]",
            "text/plain": [
              "<Figure size 432x288 with 1 Axes>"
            ]
          },
          "metadata": {
            "needs_background": "light"
          },
          "output_type": "display_data"
        }
      ],
      "source": [
        "model_DTC = DecisionTreeClassifier(random_state=12345, max_depth=5)\n",
        "model_DTC.fit(feature_train, target_train)\n",
        "\n",
        "predicted_valid = pd.Series(model_DTC.predict(feature_valid))\n",
        "class_frequency = predicted_valid.value_counts(normalize=True)\n",
        "print(class_frequency)\n",
        "class_frequency.plot(kind='bar');\n",
        "\n"
      ]
    },
    {
      "cell_type": "code",
      "execution_count": null,
      "metadata": {
        "id": "j8P4NjI2mFHY",
        "outputId": "6160aab9-838b-4aca-d729-bdbc5622b40e"
      },
      "outputs": [
        {
          "name": "stdout",
          "output_type": "stream",
          "text": [
            "0    0.913402\n",
            "1    0.086598\n",
            "dtype: float64\n"
          ]
        },
        {
          "data": {
            "image/png": "[encoded data removed]",
            "text/plain": [
              "<Figure size 432x288 with 1 Axes>"
            ]
          },
          "metadata": {
            "needs_background": "light"
          },
          "output_type": "display_data"
        }
      ],
      "source": [
        "model_RFC = RandomForestClassifier(random_state=12345, n_estimators = 5, max_depth=5)\n",
        "model_RFC.fit(feature_train, target_train)\n",
        "\n",
        "predicted_valid = pd.Series(model_RFC.predict(feature_valid))\n",
        "class_frequency = predicted_valid.value_counts(normalize=True)\n",
        "print(class_frequency)\n",
        "class_frequency.plot(kind='bar');"
      ]
    },
    {
      "cell_type": "code",
      "execution_count": null,
      "metadata": {
        "id": "7IlLVt_FmFHY",
        "outputId": "f8a29c10-274e-4506-dc1a-ab9dedca34ed"
      },
      "outputs": [
        {
          "name": "stdout",
          "output_type": "stream",
          "text": [
            "0    0.930584\n",
            "1    0.069416\n",
            "dtype: float64\n"
          ]
        },
        {
          "data": {
            "image/png": "[encoded data removed]",
            "text/plain": [
              "<Figure size 432x288 with 1 Axes>"
            ]
          },
          "metadata": {
            "needs_background": "light"
          },
          "output_type": "display_data"
        }
      ],
      "source": [
        "model_LgR = LogisticRegression(solver = 'liblinear')\n",
        "model_LgR.fit(feature_train, target_train)\n",
        "\n",
        "predicted_valid = pd.Series(model_LgR.predict(feature_valid))\n",
        "class_frequency = predicted_valid.value_counts(normalize=True)\n",
        "print(class_frequency)\n",
        "class_frequency.plot(kind='bar');"
      ]
    },
    {
      "cell_type": "markdown",
      "metadata": {
        "id": "-WoYgDjAmFHY"
      },
      "source": [
        "Посчитаем количество положительных и отрицательных ответов и сравним для разных моделей."
      ]
    },
    {
      "cell_type": "code",
      "execution_count": null,
      "metadata": {
        "id": "oRSe5H_EmFHY"
      },
      "outputs": [],
      "source": [
        "def all_models(feature_train, target_train, feature_valid, target_valid):\n",
        "    model_DTC = DecisionTreeClassifier(random_state=12345, max_depth=5)\n",
        "    model_DTC.fit(feature_train, target_train)\n",
        "    DTC_series = pd.Series(model_DTC.predict(feature_valid)).value_counts(normalize = 1)\n",
        "\n",
        "\n",
        "    model_RFC = RandomForestClassifier(random_state=12345, n_estimators = 5, max_depth=5)\n",
        "    model_RFC.fit(feature_train, target_train)\n",
        "    RFC_series = pd.Series(model_RFC.predict(feature_valid)).value_counts(normalize = 1)\n",
        "\n",
        "    model_LgR = LogisticRegression(solver = 'liblinear')\n",
        "    model_LgR.fit(feature_train, target_train)\n",
        "    LgR_series = pd.Series(model_LgR.predict(feature_valid)).value_counts(normalize = 1)\n",
        "\n",
        "    print(f\"Соотношения ответов:\\n\\nДерево решений\\n{DTC_series}, \\n\\nСлучайный лес\\n{RFC_series}, \\n\\nЛогистическая регрессия\\n{LgR_series}\" , end='\\n')"
      ]
    },
    {
      "cell_type": "code",
      "execution_count": null,
      "metadata": {
        "id": "A8UZLlRlmFHY",
        "outputId": "2ba93532-794a-4a8f-e44a-376658e67eb3"
      },
      "outputs": [
        {
          "name": "stdout",
          "output_type": "stream",
          "text": [
            "Соотношения ответов:\n",
            "\n",
            "Дерево решений\n",
            "0    0.923711\n",
            "1    0.076289\n",
            "dtype: float64, \n",
            "\n",
            "Случайный лес\n",
            "0    0.913402\n",
            "1    0.086598\n",
            "dtype: float64, \n",
            "\n",
            "Логистическая регрессия\n",
            "0    0.930584\n",
            "1    0.069416\n",
            "dtype: float64\n"
          ]
        }
      ],
      "source": [
        "all_models(feature_train, target_train, feature_valid, target_valid)"
      ]
    },
    {
      "cell_type": "markdown",
      "metadata": {
        "id": "C4wXjccYmFHZ"
      },
      "source": [
        "Наблюдается сильный дисбаланс классов, что плохо сказывается на обучении модели. Классы несбалансированны, так как их соотношение далеко от 1:1. Баланс классов наблюдается, если их количество примерно равно. Accuracy не подходит."
      ]
    },
    {
      "cell_type": "markdown",
      "metadata": {
        "id": "JYAL3RGFmFHZ"
      },
      "source": [
        "## Борьба с дисбалансом"
      ]
    },
    {
      "cell_type": "markdown",
      "metadata": {
        "id": "56TOBa1vmFHZ"
      },
      "source": [
        "**Построим матрицы ошибок для всех моделей.**"
      ]
    },
    {
      "cell_type": "code",
      "execution_count": null,
      "metadata": {
        "id": "ckeDcZ3AmFHZ",
        "outputId": "cc022520-129a-4892-dcea-4b75f8b8f389"
      },
      "outputs": [
        {
          "name": "stdout",
          "output_type": "stream",
          "text": [
            "[[1144   14]\n",
            " [ 200   97]]\n"
          ]
        }
      ],
      "source": [
        "model_DTC = DecisionTreeClassifier(random_state=12345, max_depth=5)\n",
        "model_DTC.fit(feature_train, target_train)\n",
        "predicted_valid = model_DTC.predict(feature_valid)\n",
        "print(confusion_matrix(target_valid,predicted_valid))\n"
      ]
    },
    {
      "cell_type": "code",
      "execution_count": null,
      "metadata": {
        "id": "1WEpmC8KmFHZ",
        "outputId": "7247204f-c478-4716-e631-835dbd3f86e7"
      },
      "outputs": [
        {
          "name": "stdout",
          "output_type": "stream",
          "text": [
            "[[1127   31]\n",
            " [ 166  131]]\n"
          ]
        }
      ],
      "source": [
        "model_RFC = RandomForestClassifier(random_state=12345, n_estimators = 9, max_depth=9)\n",
        "model_RFC.fit(feature_train, target_train)\n",
        "predicted_valid = model_RFC.predict(feature_valid)\n",
        "print(confusion_matrix(target_valid,predicted_valid))"
      ]
    },
    {
      "cell_type": "code",
      "execution_count": null,
      "metadata": {
        "id": "mt6E0SFCmFHa",
        "outputId": "71a98dc9-a644-4c0f-be21-f1661d413787"
      },
      "outputs": [
        {
          "name": "stdout",
          "output_type": "stream",
          "text": [
            "[[1115   43]\n",
            " [ 239   58]]\n"
          ]
        }
      ],
      "source": [
        "model_LR=LogisticRegression(solver = 'liblinear')\n",
        "model_LR.fit(feature_train, target_train)\n",
        "predicted_valid = model_LR.predict(feature_valid)\n",
        "print(confusion_matrix(target_valid,predicted_valid))"
      ]
    },
    {
      "cell_type": "markdown",
      "metadata": {
        "id": "a15oy2w3mFHb"
      },
      "source": [
        "Видим, что все три модели дают пессимистичный ответ.\n",
        "Посчитаем значения метрик: полноту, точность до балансировки."
      ]
    },
    {
      "cell_type": "code",
      "execution_count": null,
      "metadata": {
        "id": "toagh8iWmFHc"
      },
      "outputs": [],
      "source": [
        "def metrics_recal_precision(target_valid, predicted_valid):\n",
        "    model_DTC = DecisionTreeClassifier(random_state=12345, max_depth=9)\n",
        "    model_DTC.fit(feature_train, target_train)\n",
        "\n",
        "    predicted_DTC = model_DTC.predict(feature_valid)\n",
        "    rc_DTC=recall_score(target_valid, predicted_DTC)\n",
        "    pr_scDTC = precision_score(target_valid, predicted_DTC)\n",
        "    f1_DTC = f1_score(target_valid, predicted_DTC)\n",
        "    DTC_score = model_DTC.score(feature_valid, target_valid)\n",
        "\n",
        "\n",
        "    model_RFC = RandomForestClassifier(random_state=12345, n_estimators = 16, max_depth=9)\n",
        "    model_RFC.fit(feature_train, target_train)\n",
        "    predicted_RFC = model_RFC.predict(feature_valid)\n",
        "    rc_RFC=recall_score(target_valid, predicted_RFC)\n",
        "    pr_scRFC = precision_score(target_valid, predicted_RFC)\n",
        "    f1_RFC = f1_score(target_valid, predicted_RFC)\n",
        "    RFC_score = model_RFC.score(feature_valid, target_valid)\n",
        "\n",
        "\n",
        "    model_LgR = LogisticRegression(solver = 'liblinear')\n",
        "    model_LgR.fit(feature_train, target_train)\n",
        "    predicted_LgR = model_LgR.predict(feature_valid)\n",
        "    rc_LgR=recall_score(target_valid, predicted_LgR)\n",
        "    pr_scLgR = precision_score(target_valid, predicted_LgR)\n",
        "    f1_LgR = f1_score(target_valid, predicted_LgR)\n",
        "    LgR_score = model_LgR.score(feature_valid, target_valid)\n",
        "\n",
        "    print(f\"Решающее дерево: \\naccuracy: {DTC_score}\\nrecall: {rc_DTC} \\nprecision: {pr_scDTC} \\nF1-мера :{f1_DTC}\\n\")\n",
        "    print(f\"Случайный лес: \\naccuracy: {RFC_score}\\nrecall: {rc_RFC} \\nprecision: {pr_scRFC} \\nF1-мера :{f1_RFC}\\n\")\n",
        "    print(f\"Логистическая регрессия: \\naccuracy: {LgR_score}\\nrecall: {rc_LgR} \\nprecision: {pr_scLgR} \\nF1-мера :{f1_LgR}\\n\")\n",
        ""
      ]
    },
    {
      "cell_type": "code",
      "execution_count": null,
      "metadata": {
        "id": "Q8_zY2-9mFHc",
        "outputId": "9f706998-604a-4921-c0fb-3789c3517c2b"
      },
      "outputs": [
        {
          "name": "stdout",
          "output_type": "stream",
          "text": [
            "Решающее дерево: \n",
            "accuracy: 0.8474226804123711\n",
            "recall: 0.45454545454545453 \n",
            "precision: 0.6923076923076923 \n",
            "F1-мера :0.5487804878048781\n",
            "\n",
            "Случайный лес: \n",
            "accuracy: 0.8652920962199313\n",
            "recall: 0.4478114478114478 \n",
            "precision: 0.806060606060606 \n",
            "F1-мера :0.5757575757575758\n",
            "\n",
            "Логистическая регрессия: \n",
            "accuracy: 0.8061855670103093\n",
            "recall: 0.19528619528619529 \n",
            "precision: 0.5742574257425742 \n",
            "F1-мера :0.2914572864321608\n",
            "\n"
          ]
        }
      ],
      "source": [
        "metrics_recal_precision(target_valid, predicted_valid)"
      ]
    },
    {
      "cell_type": "markdown",
      "metadata": {
        "id": "QlM-aTRymFHc"
      },
      "source": [
        "Случайный лес дает лучшую точность."
      ]
    },
    {
      "cell_type": "markdown",
      "metadata": {
        "id": "lEhPuCxnmFHc"
      },
      "source": [
        "Увеличим выборку."
      ]
    },
    {
      "cell_type": "code",
      "execution_count": null,
      "metadata": {
        "id": "LqxGVgt0mFHc"
      },
      "outputs": [],
      "source": [
        "def upsample(feature, target, repeat):\n",
        "    feature_zeros = feature[target == 0]\n",
        "    feature_ones = feature[target == 1]\n",
        "    target_zeros = target[target == 0]\n",
        "    target_ones = target[target == 1]\n",
        "\n",
        "    feature_upsampled = pd.concat([feature_zeros] + [feature_ones] * repeat)\n",
        "    target_upsampled = pd.concat([target_zeros] + [target_ones] * repeat)\n",
        "\n",
        "    feature_upsampled, target_upsampled = shuffle(\n",
        "        feature_upsampled, target_upsampled, random_state=12345)\n",
        "\n",
        "    return feature_upsampled, target_upsampled\n"
      ]
    },
    {
      "cell_type": "code",
      "execution_count": null,
      "metadata": {
        "id": "UAryRP0AmFHd",
        "outputId": "02e30cae-8224-4edc-972a-a46134387e90"
      },
      "outputs": [
        {
          "name": "stdout",
          "output_type": "stream",
          "text": [
            "(9375, 11)\n",
            "(9375,)\n",
            "1    0.506027\n",
            "0    0.493973\n",
            "Name: Exited, dtype: float64\n"
          ]
        }
      ],
      "source": [
        "feature_upsampled, target_upsampled = upsample(feature_train, target_train,4)\n",
        "\n",
        "print(feature_upsampled.shape)\n",
        "print(target_upsampled.shape)\n",
        "print(target_upsampled.value_counts(normalize = 1))"
      ]
    },
    {
      "cell_type": "code",
      "execution_count": null,
      "metadata": {
        "id": "fjX5Mn5TmFHd",
        "outputId": "d61da84f-cf8d-4657-9800-f81d1636a4ce"
      },
      "outputs": [
        {
          "data": {
            "image/png": "[encoded data removed]",
            "text/plain": [
              "<Figure size 360x360 with 1 Axes>"
            ]
          },
          "metadata": {
            "needs_background": "light"
          },
          "output_type": "display_data"
        }
      ],
      "source": [
        "target_upsampled.plot(kind ='hist', bins=3, figsize=(5,5));"
      ]
    },
    {
      "cell_type": "markdown",
      "metadata": {
        "id": "KJqdc2WKmFHd"
      },
      "source": [
        "Уменьшим выборку."
      ]
    },
    {
      "cell_type": "code",
      "execution_count": null,
      "metadata": {
        "id": "lXiWSbAomFHd"
      },
      "outputs": [],
      "source": [
        "def downsample(feature, target, fraction):\n",
        "    feature_zeros = feature[target == 0]\n",
        "    feature_ones = feature[target == 1]\n",
        "    target_zeros = target[target == 0]\n",
        "    target_ones = target[target == 1]\n",
        "\n",
        "    feature_downsampled = pd.concat(\n",
        "        [feature_zeros.sample(frac=fraction, random_state=12345)] + [feature_ones])\n",
        "    target_downsampled = pd.concat(\n",
        "        [target_zeros.sample(frac=fraction, random_state=12345)] + [target_ones])\n",
        "\n",
        "    feature_downsampled, target_downsampled = shuffle(\n",
        "        feature_downsampled, target_downsampled, random_state=12345)\n",
        "\n",
        "    return feature_downsampled, target_downsampled"
      ]
    },
    {
      "cell_type": "code",
      "execution_count": null,
      "metadata": {
        "id": "1zSIpH0cmFHe",
        "outputId": "d84e668d-358e-4ebd-ae76-016199f33f34"
      },
      "outputs": [
        {
          "name": "stdout",
          "output_type": "stream",
          "text": [
            "(2344, 11)\n",
            "(2344,)\n",
            "1    0.505973\n",
            "0    0.494027\n",
            "Name: Exited, dtype: float64\n"
          ]
        }
      ],
      "source": [
        "feature_downsampled, target_downsampled = downsample(feature_train, target_train, 0.25)\n",
        "\n",
        "print(feature_downsampled.shape)\n",
        "print(target_downsampled.shape)\n",
        "print(target_downsampled.value_counts(normalize = 1))"
      ]
    },
    {
      "cell_type": "code",
      "execution_count": null,
      "metadata": {
        "id": "J7LFh_wqmFHe",
        "outputId": "03572eb0-e87c-435b-dec5-4830d87451b3"
      },
      "outputs": [
        {
          "data": {
            "image/png": "[encoded data removed]",
            "text/plain": [
              "<Figure size 360x360 with 1 Axes>"
            ]
          },
          "metadata": {
            "needs_background": "light"
          },
          "output_type": "display_data"
        }
      ],
      "source": [
        "target_downsampled.plot(kind ='hist', bins=3, figsize=(5,5));"
      ]
    },
    {
      "cell_type": "markdown",
      "metadata": {
        "id": "35qYM5kTmFHe"
      },
      "source": [
        "Увеличение выборки позволило получить лучший набор данных. Проверим метрики на сбалансированных данных."
      ]
    },
    {
      "cell_type": "code",
      "execution_count": null,
      "metadata": {
        "id": "wd7SXQ6JmFHe",
        "outputId": "c15e0341-afba-4919-c313-c80c27693ae5"
      },
      "outputs": [
        {
          "name": "stdout",
          "output_type": "stream",
          "text": [
            "Оптимальная глубина дерева = 6\n",
            "Качество модели -  0.5753768844221105\n"
          ]
        }
      ],
      "source": [
        "best_model = 0\n",
        "best_f1 = 0\n",
        "for depth in range(1, 20):\n",
        "    model_DTC = DecisionTreeClassifier(random_state=12345, max_depth=depth)\n",
        "    model_DTC.fit(feature_upsampled, target_upsampled)\n",
        "    predicted_DTC = model_DTC.predict(feature_valid)\n",
        "    f1_DTC = f1_score(target_valid, predicted_DTC)\n",
        "\n",
        "    if f1_DTC > best_f1:\n",
        "        best_model = model_DTC\n",
        "        best_depth = depth\n",
        "        best_f1 = f1_DTC\n",
        "\n",
        "\n",
        "print('Оптимальная глубина дерева =', best_depth)\n",
        "print('Качество модели - ', best_f1)"
      ]
    },
    {
      "cell_type": "code",
      "execution_count": null,
      "metadata": {
        "id": "HVqfJFXemFHf",
        "outputId": "f71d0a61-74e6-40b4-b273-3d3b9c253aae"
      },
      "outputs": [
        {
          "data": {
            "text/plain": [
              "0.5589622641509435"
            ]
          },
          "execution_count": 49,
          "metadata": {},
          "output_type": "execute_result"
        }
      ],
      "source": [
        "model_DTC = DecisionTreeClassifier(random_state=12345, max_depth=5)\n",
        "model_DTC.fit(feature_upsampled, target_upsampled)\n",
        "predicted_DTC = model_DTC.predict(feature_valid)\n",
        "f1_DTC = f1_score(target_valid, predicted_DTC)\n",
        "f1_DTC"
      ]
    },
    {
      "cell_type": "code",
      "execution_count": null,
      "metadata": {
        "id": "rNFgtZgimFHf",
        "outputId": "94ef60e7-6089-4823-d35b-51058317aee8"
      },
      "outputs": [
        {
          "name": "stdout",
          "output_type": "stream",
          "text": [
            "Решающее дерево:\n",
            "auc_roc_DTC 0.7634113152247868\n",
            "Accuracy:  0.77312\n",
            "reccal 0.797979797979798\n",
            "precision: 0.4301270417422868\n",
            "f1: 0.5589622641509435 \n",
            "\n"
          ]
        }
      ],
      "source": [
        "predicted_DTC_auc = model_DTC.predict_proba(feature_valid)[:, 1]\n",
        "auc_roc_DTC = roc_auc_score(target_valid, predicted_DTC)\n",
        "\n",
        "DTC_score = model_DTC.score(feature_upsampled, target_upsampled)\n",
        "rc_DTC=recall_score(target_valid, predicted_DTC)\n",
        "pr_scDTC = precision_score(target_valid, predicted_DTC)\n",
        "\n",
        "print(\"Решающее дерево:\")\n",
        "print(\"auc_roc_DTC\", auc_roc_DTC)\n",
        "print(\"Accuracy: \",DTC_score)\n",
        "print(\"reccal\",rc_DTC)\n",
        "print(\"precision:\",pr_scDTC)\n",
        "print(\"f1:\",f1_DTC,'\\n')"
      ]
    },
    {
      "cell_type": "code",
      "execution_count": null,
      "metadata": {
        "id": "ee7_ByLwmFHg",
        "outputId": "0648c476-bc8a-43ad-c916-32abfcc17ceb"
      },
      "outputs": [
        {
          "name": "stdout",
          "output_type": "stream",
          "text": [
            "Оптимальная глубина дерева = 8  количество 23\n",
            "Качество модели -  0.6055312954876273\n"
          ]
        }
      ],
      "source": [
        "#Подберем лучшие параметры. Конечно работает долго\n",
        "best_model = 0\n",
        "best_f1 = 0\n",
        "n_best = 0\n",
        "for depth in range(1, 10):\n",
        "    for n in range(1,50):\n",
        "        model_RFC = RandomForestClassifier(random_state=12345, n_estimators = n, max_depth=depth)\n",
        "        model_RFC.fit(feature_upsampled, target_upsampled)\n",
        "        predicted_RFC = model_RFC.predict(feature_valid)\n",
        "        f1_RFC = f1_score(target_valid, predicted_RFC)\n",
        "        if f1_RFC > best_f1:\n",
        "            best_model = model_RFC\n",
        "            best_depth = depth\n",
        "            best_f1 = f1_RFC\n",
        "            n_best = n\n",
        "\n",
        "print('Оптимальная глубина дерева =', best_depth, ' количество', n_best)\n",
        "print('Качество модели - ', best_f1)"
      ]
    },
    {
      "cell_type": "code",
      "execution_count": null,
      "metadata": {
        "id": "W6poYxbUmFHg",
        "outputId": "ae697d9e-f501-4096-8cc9-66caf8caec57"
      },
      "outputs": [
        {
          "name": "stdout",
          "output_type": "stream",
          "text": [
            "Логистическая регрессия:\n",
            "auc_roc 0.7715845850560876\n",
            "Accuracy:  0.70752\n",
            "reccal 0.7205387205387206\n",
            "precision: 0.3787610619469027\n",
            "f1: 0.49651972157772634\n"
          ]
        }
      ],
      "source": [
        "model_LgR = LogisticRegression(solver = 'liblinear')\n",
        "model_LgR.fit(feature_upsampled, target_upsampled)\n",
        "predicted_LgR = model_LgR.predict(feature_valid)\n",
        "\n",
        "predicted_LgR_auc = model_LgR.predict_proba(feature_valid)[:, 1]\n",
        "\n",
        "auc_roc_LgR = roc_auc_score(target_valid, predicted_LgR)\n",
        "predicted_LgR = model_LgR.predict(feature_valid)\n",
        "\n",
        "LgR_score = model_LgR.score(feature_upsampled, target_upsampled)\n",
        "rc_LgR=recall_score(target_valid, predicted_LgR)\n",
        "pr_scLgR = precision_score(target_valid, predicted_LgR)\n",
        "f1_LgR = f1_score(target_valid, predicted_LgR)\n",
        "\n",
        "print(\"Логистическая регрессия:\")\n",
        "print(\"auc_roc\", auc_roc_RFC)\n",
        "print(\"Accuracy: \",LgR_score)\n",
        "print(\"reccal\",rc_LgR)\n",
        "print(\"precision:\",pr_scLgR)\n",
        "print(\"f1:\",f1_LgR)"
      ]
    },
    {
      "cell_type": "markdown",
      "metadata": {
        "id": "_xF8A7GVmFHh"
      },
      "source": [
        "Лучшая модель - случайный лес. Ее и будем использовать.\n",
        "\n",
        "Случайный лес:\n",
        "- auc_roc_DTC 0.7817199035025667\n",
        "- Accuracy:  0.8429874814343306\n",
        "- reccal 0.7092198581560284\n",
        "- precision: 0.5390835579514824\n",
        "- f1: 0.6125574272588055\n",
        "\n",
        "\n",
        "Оптимальная глубина дерева = 9  количество 34"
      ]
    },
    {
      "cell_type": "markdown",
      "metadata": {
        "id": "idHAZuc0mFHh"
      },
      "source": [
        " Проверим модель на тестовой выборке."
      ]
    },
    {
      "cell_type": "code",
      "execution_count": null,
      "metadata": {
        "id": "aygV7qy5mFHi",
        "outputId": "f33fa7a9-87e6-4b0a-a123-7e6e2c235d7d"
      },
      "outputs": [
        {
          "name": "stdout",
          "output_type": "stream",
          "text": [
            "Качество: 0.7405167674546455\n",
            "Полнота 0.7304582210242587\n",
            "Точность 0.5211538461538462\n",
            "f1 0.6083052749719415\n"
          ]
        }
      ],
      "source": [
        "model_RFC = RandomForestClassifier(max_depth= 6,  n_estimators = 23, random_state=12345)\n",
        "model_RFC.fit(feature_upsampled, target_upsampled)\n",
        "model_RFC_predict = model_RFC.predict(feature_test)\n",
        "\n",
        "\n",
        "DTC_score = model_DTC.score(feature_test, target_test)\n",
        "rc_DTC=recall_score(target_test, model_RFC_predict)\n",
        "pr_scDTC = precision_score(target_test, model_RFC_predict)\n",
        "f1_DTC = f1_score(target_test, model_RFC_predict)\n",
        "\n",
        "print(\"Качество:\", DTC_score)\n",
        "print(\"Полнота\",rc_DTC)\n",
        "print(\"Точность\", pr_scDTC)\n",
        "print(\"f1\", f1_DTC)"
      ]
    },
    {
      "cell_type": "markdown",
      "metadata": {
        "id": "rxQywpunmFHi"
      },
      "source": [
        "Посчитаем auc_roc для RFC на тестовой выборке"
      ]
    },
    {
      "cell_type": "code",
      "execution_count": null,
      "metadata": {
        "id": "kBAWk2stmFHi",
        "outputId": "4da208b2-d682-4002-b05c-6c92c51f0fd6"
      },
      "outputs": [
        {
          "data": {
            "text/plain": [
              "0.8560985688969636"
            ]
          },
          "execution_count": 55,
          "metadata": {},
          "output_type": "execute_result"
        }
      ],
      "source": [
        "model_RFC_valid = model_RFC.predict_proba(feature_test)[:, 1]\n",
        "auc_roc_RFC = roc_auc_score(target_test, model_RFC_valid)\n",
        "auc_roc_RFC"
      ]
    },
    {
      "cell_type": "markdown",
      "metadata": {
        "id": "RqduPvgzmFHi"
      },
      "source": [
        "Создаем константную модель"
      ]
    },
    {
      "cell_type": "code",
      "execution_count": null,
      "metadata": {
        "id": "GxFZ-oUXmFHi",
        "outputId": "7f7784b1-a200-4d93-a78d-b04d3df93a25"
      },
      "outputs": [
        {
          "data": {
            "text/plain": [
              "0    1819\n",
              "dtype: int64"
            ]
          },
          "execution_count": 56,
          "metadata": {},
          "output_type": "execute_result"
        }
      ],
      "source": [
        "target_predict_constant = pd.Series([0]*len(feature_test))\n",
        "target_predict_constant.value_counts()"
      ]
    },
    {
      "cell_type": "markdown",
      "metadata": {
        "id": "BZ2_yE5YmFHi"
      },
      "source": [
        "Сравним точность модели с константной"
      ]
    },
    {
      "cell_type": "code",
      "execution_count": null,
      "metadata": {
        "id": "gCH_3H7zmFHi",
        "outputId": "cfead947-7cdd-40f8-d481-5dc3a92c6094"
      },
      "outputs": [
        {
          "name": "stdout",
          "output_type": "stream",
          "text": [
            "accuracy_score_const: 0.7960417811984607\n",
            "accuracy_score модели: 0.8081363386476086\n",
            "AUC-ROC константой модели: 0.5\n",
            "AUC-ROC модели: 0.7792484475287039\n"
          ]
        }
      ],
      "source": [
        "print('accuracy_score_const:', accuracy_score(target_test, target_predict_constant))\n",
        "print('accuracy_score модели:', accuracy_score(target_test, model_RFC_predict))\n",
        "\n",
        "\n",
        "print('AUC-ROC константой модели:', roc_auc_score(target_test, target_predict_constant))\n",
        "print('AUC-ROC модели:', roc_auc_score(target_test, model_RFC_predict))"
      ]
    },
    {
      "cell_type": "markdown",
      "metadata": {
        "id": "2e5i1mcJmFHj"
      },
      "source": [
        "<font size=4>**Выводы:**\n",
        "\n",
        "- В ходе изучения данных датасета выявлены пропуски, наличие категориальных данных вместе с количественными.<br/>\n",
        "\n",
        "- Данные обработаны, пропуски удалены, категориальные признаки приведены к количественным техникой прямого кодирования. <br/>\n",
        "\n",
        "- Выполнено масштабирование данных.<br/>\n",
        "\n",
        "- В ходе исследования моделей, выявился дисбаланс классов. <br/>\n",
        "\n",
        "- Дисбаланс был устранен путем увеличения выборки. Были проверены различные метрики на разных моделях.<br/>\n",
        "\n",
        "- Наилучшее поведение показала модель – случайный лес. При оптимальной глубине дерева = 9 и количестве деревьев – 43 были достигнуты следующие показатели:<br/>\n",
        "\n",
        "        Случайный лес:\n",
        "        - auc_roc_DTC 0.7715845850560876\n",
        "        - Accuracy:  0.8443733333333333\n",
        "        - recal 0.7003367003367004\n",
        "        - precision: 0.5333333333333333\n",
        "        - f1: 0.6055312954876273\n",
        "\n",
        "- Модель была проверена на тестовой выборке. Получены следующие показатели.<br/>\n",
        "        - AUC-ROC модели: 0.7792484475287039\n",
        "        - Качество: 0.7405167674546455\n",
        "        - Полнота 0.7304582210242587\n",
        "        - Точность 0.5211538461538462\n",
        "        - f1 0.6083052749719415\n",
        "    \n",
        "    Новые:Оптимальная глубина дерева = 8 количество 23.\n",
        "    \n",
        "    \n",
        "</font>"
      ]
    }
  ],
  "metadata": {
    "ExecuteTimeLog": [
      {
        "duration": 60,
        "start_time": "2023-04-14T07:49:44.338Z"
      },
      {
        "duration": 74,
        "start_time": "2023-04-14T07:50:28.317Z"
      },
      {
        "duration": 1120,
        "start_time": "2023-04-14T07:50:37.784Z"
      },
      {
        "duration": 143,
        "start_time": "2023-04-14T07:50:40.598Z"
      },
      {
        "duration": 55,
        "start_time": "2023-04-14T07:51:24.600Z"
      },
      {
        "duration": 128,
        "start_time": "2023-04-14T07:51:31.159Z"
      },
      {
        "duration": 177,
        "start_time": "2023-04-14T07:51:46.014Z"
      },
      {
        "duration": 56,
        "start_time": "2023-04-14T07:52:00.789Z"
      },
      {
        "duration": 10,
        "start_time": "2023-04-14T07:52:19.831Z"
      },
      {
        "duration": 21,
        "start_time": "2023-04-14T07:52:30.632Z"
      },
      {
        "duration": 7,
        "start_time": "2023-04-14T07:52:42.695Z"
      },
      {
        "duration": 3,
        "start_time": "2023-04-14T07:52:50.008Z"
      },
      {
        "duration": 60,
        "start_time": "2023-04-14T07:55:18.991Z"
      },
      {
        "duration": 9,
        "start_time": "2023-04-14T07:56:18.145Z"
      },
      {
        "duration": 19,
        "start_time": "2023-04-14T07:58:52.618Z"
      },
      {
        "duration": 16,
        "start_time": "2023-04-14T07:59:20.307Z"
      },
      {
        "duration": 20,
        "start_time": "2023-04-14T08:03:51.526Z"
      },
      {
        "duration": 15,
        "start_time": "2023-04-14T08:08:33.210Z"
      },
      {
        "duration": 6,
        "start_time": "2023-04-14T08:11:18.049Z"
      },
      {
        "duration": 13,
        "start_time": "2023-04-14T08:24:20.433Z"
      },
      {
        "duration": 14,
        "start_time": "2023-04-14T08:24:27.849Z"
      },
      {
        "duration": 22,
        "start_time": "2023-04-14T08:24:59.192Z"
      },
      {
        "duration": 14,
        "start_time": "2023-04-14T08:25:18.210Z"
      },
      {
        "duration": 3,
        "start_time": "2023-04-14T08:34:32.959Z"
      },
      {
        "duration": 56,
        "start_time": "2023-04-14T08:34:34.578Z"
      },
      {
        "duration": 10,
        "start_time": "2023-04-14T08:34:35.728Z"
      },
      {
        "duration": 4,
        "start_time": "2023-04-14T08:34:36.952Z"
      },
      {
        "duration": 17,
        "start_time": "2023-04-14T08:34:37.769Z"
      },
      {
        "duration": 24,
        "start_time": "2023-04-14T08:34:40.120Z"
      },
      {
        "duration": 5,
        "start_time": "2023-04-14T08:35:23.810Z"
      },
      {
        "duration": 1052,
        "start_time": "2023-04-14T10:42:52.401Z"
      },
      {
        "duration": 89,
        "start_time": "2023-04-14T10:42:54.993Z"
      },
      {
        "duration": 17,
        "start_time": "2023-04-14T10:42:55.785Z"
      },
      {
        "duration": 5,
        "start_time": "2023-04-14T10:42:57.415Z"
      },
      {
        "duration": 15,
        "start_time": "2023-04-14T10:42:58.745Z"
      },
      {
        "duration": 14,
        "start_time": "2023-04-14T10:43:00.803Z"
      },
      {
        "duration": 4,
        "start_time": "2023-04-14T10:43:21.096Z"
      },
      {
        "duration": 4,
        "start_time": "2023-04-14T10:51:22.707Z"
      },
      {
        "duration": 3,
        "start_time": "2023-04-14T10:51:27.955Z"
      },
      {
        "duration": 56,
        "start_time": "2023-04-14T10:51:29.208Z"
      },
      {
        "duration": 10,
        "start_time": "2023-04-14T10:51:29.711Z"
      },
      {
        "duration": 3,
        "start_time": "2023-04-14T10:51:30.253Z"
      },
      {
        "duration": 20,
        "start_time": "2023-04-14T10:51:31.007Z"
      },
      {
        "duration": 13,
        "start_time": "2023-04-14T10:51:33.320Z"
      },
      {
        "duration": 6,
        "start_time": "2023-04-14T10:51:35.584Z"
      },
      {
        "duration": 6,
        "start_time": "2023-04-14T10:54:12.191Z"
      },
      {
        "duration": 50,
        "start_time": "2023-04-14T10:54:30.800Z"
      },
      {
        "duration": 9,
        "start_time": "2023-04-14T10:54:32.498Z"
      },
      {
        "duration": 3,
        "start_time": "2023-04-14T10:54:33.472Z"
      },
      {
        "duration": 13,
        "start_time": "2023-04-14T10:54:34.221Z"
      },
      {
        "duration": 13,
        "start_time": "2023-04-14T10:54:36.791Z"
      },
      {
        "duration": 5,
        "start_time": "2023-04-14T10:54:43.744Z"
      },
      {
        "duration": 7,
        "start_time": "2023-04-14T10:54:44.388Z"
      },
      {
        "duration": 42,
        "start_time": "2023-04-14T10:57:48.619Z"
      },
      {
        "duration": 129,
        "start_time": "2023-04-14T10:58:53.473Z"
      },
      {
        "duration": 5,
        "start_time": "2023-04-14T10:59:02.648Z"
      },
      {
        "duration": 24,
        "start_time": "2023-04-14T10:59:06.572Z"
      },
      {
        "duration": 2,
        "start_time": "2023-04-14T10:59:44.284Z"
      },
      {
        "duration": 45,
        "start_time": "2023-04-14T10:59:47.724Z"
      },
      {
        "duration": 7,
        "start_time": "2023-04-14T10:59:48.431Z"
      },
      {
        "duration": 3,
        "start_time": "2023-04-14T10:59:48.992Z"
      },
      {
        "duration": 15,
        "start_time": "2023-04-14T10:59:49.876Z"
      },
      {
        "duration": 13,
        "start_time": "2023-04-14T10:59:51.728Z"
      },
      {
        "duration": 4,
        "start_time": "2023-04-14T10:59:53.786Z"
      },
      {
        "duration": 8,
        "start_time": "2023-04-14T10:59:56.883Z"
      },
      {
        "duration": 20,
        "start_time": "2023-04-14T11:00:04.936Z"
      },
      {
        "duration": 17,
        "start_time": "2023-04-14T11:00:55.953Z"
      },
      {
        "duration": 8,
        "start_time": "2023-04-14T11:03:22.502Z"
      },
      {
        "duration": 2,
        "start_time": "2023-04-14T11:03:39.034Z"
      },
      {
        "duration": 18,
        "start_time": "2023-04-14T11:03:43.010Z"
      },
      {
        "duration": 3,
        "start_time": "2023-04-14T11:11:10.496Z"
      },
      {
        "duration": 43,
        "start_time": "2023-04-14T11:11:11.743Z"
      },
      {
        "duration": 7,
        "start_time": "2023-04-14T11:11:12.319Z"
      },
      {
        "duration": 4,
        "start_time": "2023-04-14T11:11:12.869Z"
      },
      {
        "duration": 13,
        "start_time": "2023-04-14T11:11:13.760Z"
      },
      {
        "duration": 14,
        "start_time": "2023-04-14T11:11:15.199Z"
      },
      {
        "duration": 32,
        "start_time": "2023-04-14T11:11:16.487Z"
      },
      {
        "duration": 6,
        "start_time": "2023-04-14T11:11:17.892Z"
      },
      {
        "duration": 23,
        "start_time": "2023-04-14T11:12:45.752Z"
      },
      {
        "duration": 15,
        "start_time": "2023-04-14T11:13:23.849Z"
      },
      {
        "duration": 10,
        "start_time": "2023-04-14T11:13:47.889Z"
      },
      {
        "duration": 11,
        "start_time": "2023-04-14T11:15:05.906Z"
      },
      {
        "duration": 18,
        "start_time": "2023-04-14T11:15:25.282Z"
      },
      {
        "duration": 18,
        "start_time": "2023-04-14T11:15:52.530Z"
      },
      {
        "duration": 2,
        "start_time": "2023-04-14T11:16:10.309Z"
      },
      {
        "duration": 42,
        "start_time": "2023-04-14T11:16:11.617Z"
      },
      {
        "duration": 7,
        "start_time": "2023-04-14T11:16:12.241Z"
      },
      {
        "duration": 4,
        "start_time": "2023-04-14T11:16:12.849Z"
      },
      {
        "duration": 18,
        "start_time": "2023-04-14T11:16:13.996Z"
      },
      {
        "duration": 13,
        "start_time": "2023-04-14T11:16:15.811Z"
      },
      {
        "duration": 4,
        "start_time": "2023-04-14T11:16:18.250Z"
      },
      {
        "duration": 15,
        "start_time": "2023-04-14T11:17:00.184Z"
      },
      {
        "duration": 11,
        "start_time": "2023-04-14T11:17:57.459Z"
      },
      {
        "duration": 12,
        "start_time": "2023-04-14T11:18:21.394Z"
      },
      {
        "duration": 11,
        "start_time": "2023-04-14T11:18:49.424Z"
      },
      {
        "duration": 9,
        "start_time": "2023-04-14T11:21:26.756Z"
      },
      {
        "duration": 8,
        "start_time": "2023-04-14T11:21:37.483Z"
      },
      {
        "duration": 10,
        "start_time": "2023-04-14T11:21:38.317Z"
      },
      {
        "duration": 11,
        "start_time": "2023-04-14T11:21:50.333Z"
      },
      {
        "duration": 8,
        "start_time": "2023-04-14T11:21:51.482Z"
      },
      {
        "duration": 4,
        "start_time": "2023-04-14T11:22:10.198Z"
      },
      {
        "duration": 7,
        "start_time": "2023-04-14T11:23:37.247Z"
      },
      {
        "duration": 4,
        "start_time": "2023-04-14T11:23:40.261Z"
      },
      {
        "duration": 7,
        "start_time": "2023-04-14T11:23:40.861Z"
      },
      {
        "duration": 18,
        "start_time": "2023-04-14T11:23:57.957Z"
      },
      {
        "duration": 17,
        "start_time": "2023-04-14T11:24:36.985Z"
      },
      {
        "duration": 8,
        "start_time": "2023-04-14T11:27:13.994Z"
      },
      {
        "duration": 2,
        "start_time": "2023-04-14T11:27:22.824Z"
      },
      {
        "duration": 17,
        "start_time": "2023-04-14T11:27:31.016Z"
      },
      {
        "duration": 9,
        "start_time": "2023-04-14T11:29:05.590Z"
      },
      {
        "duration": 3,
        "start_time": "2023-04-14T11:29:11.618Z"
      },
      {
        "duration": 17,
        "start_time": "2023-04-14T11:29:25.427Z"
      },
      {
        "duration": 1198,
        "start_time": "2023-04-15T05:37:28.980Z"
      },
      {
        "duration": 182,
        "start_time": "2023-04-15T05:37:31.962Z"
      },
      {
        "duration": 14,
        "start_time": "2023-04-15T05:37:35.394Z"
      },
      {
        "duration": 5,
        "start_time": "2023-04-15T05:37:37.643Z"
      },
      {
        "duration": 16,
        "start_time": "2023-04-15T05:37:38.780Z"
      },
      {
        "duration": 19,
        "start_time": "2023-04-15T05:37:57.347Z"
      },
      {
        "duration": 131,
        "start_time": "2023-04-15T05:42:32.176Z"
      },
      {
        "duration": 207,
        "start_time": "2023-04-15T05:42:41.461Z"
      },
      {
        "duration": 159,
        "start_time": "2023-04-15T05:42:45.580Z"
      },
      {
        "duration": 152,
        "start_time": "2023-04-15T05:42:47.053Z"
      },
      {
        "duration": 89,
        "start_time": "2023-04-15T05:43:05.029Z"
      },
      {
        "duration": 6,
        "start_time": "2023-04-15T05:43:08.397Z"
      },
      {
        "duration": 85,
        "start_time": "2023-04-15T05:43:09.350Z"
      },
      {
        "duration": 13651,
        "start_time": "2023-04-15T05:43:10.902Z"
      },
      {
        "duration": 1545,
        "start_time": "2023-04-15T05:53:59.381Z"
      },
      {
        "duration": 112,
        "start_time": "2023-04-15T05:54:21.373Z"
      },
      {
        "duration": 2511,
        "start_time": "2023-04-15T05:54:22.779Z"
      },
      {
        "duration": 2115,
        "start_time": "2023-04-15T05:54:48.405Z"
      },
      {
        "duration": 2024,
        "start_time": "2023-04-15T05:54:59.909Z"
      },
      {
        "duration": 163701,
        "start_time": "2023-04-15T05:56:07.742Z"
      },
      {
        "duration": 0,
        "start_time": "2023-04-15T05:58:51.447Z"
      },
      {
        "duration": 4,
        "start_time": "2023-04-15T05:59:01.151Z"
      },
      {
        "duration": 55,
        "start_time": "2023-04-15T05:59:04.718Z"
      },
      {
        "duration": 12,
        "start_time": "2023-04-15T05:59:05.519Z"
      },
      {
        "duration": 5,
        "start_time": "2023-04-15T05:59:06.014Z"
      },
      {
        "duration": 23,
        "start_time": "2023-04-15T05:59:07.330Z"
      },
      {
        "duration": 17,
        "start_time": "2023-04-15T05:59:08.638Z"
      },
      {
        "duration": 261,
        "start_time": "2023-04-15T05:59:10.223Z"
      },
      {
        "duration": 201,
        "start_time": "2023-04-15T05:59:11.519Z"
      },
      {
        "duration": 228,
        "start_time": "2023-04-15T05:59:12.102Z"
      },
      {
        "duration": 178,
        "start_time": "2023-04-15T05:59:12.986Z"
      },
      {
        "duration": 11,
        "start_time": "2023-04-15T05:59:14.297Z"
      },
      {
        "duration": 113,
        "start_time": "2023-04-15T05:59:15.126Z"
      },
      {
        "duration": 2035,
        "start_time": "2023-04-15T06:00:19.055Z"
      },
      {
        "duration": 3720,
        "start_time": "2023-04-15T06:05:08.210Z"
      },
      {
        "duration": 7,
        "start_time": "2023-04-15T06:05:53.591Z"
      },
      {
        "duration": 3574,
        "start_time": "2023-04-15T06:06:00.946Z"
      },
      {
        "duration": 16409,
        "start_time": "2023-04-15T06:07:56.000Z"
      },
      {
        "duration": 2622,
        "start_time": "2023-04-15T06:08:44.125Z"
      },
      {
        "duration": 2790,
        "start_time": "2023-04-15T06:08:56.340Z"
      },
      {
        "duration": 3577,
        "start_time": "2023-04-15T06:09:06.845Z"
      },
      {
        "duration": 4351,
        "start_time": "2023-04-15T06:09:16.578Z"
      },
      {
        "duration": 15,
        "start_time": "2023-04-15T06:11:01.611Z"
      },
      {
        "duration": 4,
        "start_time": "2023-04-15T06:11:24.306Z"
      },
      {
        "duration": 9856,
        "start_time": "2023-04-15T06:12:05.897Z"
      },
      {
        "duration": 0,
        "start_time": "2023-04-15T06:12:15.755Z"
      },
      {
        "duration": 7,
        "start_time": "2023-04-15T06:12:20.781Z"
      },
      {
        "duration": 46,
        "start_time": "2023-04-15T06:12:22.316Z"
      },
      {
        "duration": 15,
        "start_time": "2023-04-15T06:12:22.981Z"
      },
      {
        "duration": 5,
        "start_time": "2023-04-15T06:12:23.549Z"
      },
      {
        "duration": 22,
        "start_time": "2023-04-15T06:12:24.110Z"
      },
      {
        "duration": 20,
        "start_time": "2023-04-15T06:12:25.637Z"
      },
      {
        "duration": 225,
        "start_time": "2023-04-15T06:12:26.910Z"
      },
      {
        "duration": 167,
        "start_time": "2023-04-15T06:12:30.193Z"
      },
      {
        "duration": 119,
        "start_time": "2023-04-15T06:12:30.697Z"
      },
      {
        "duration": 127,
        "start_time": "2023-04-15T06:12:31.110Z"
      },
      {
        "duration": 6,
        "start_time": "2023-04-15T06:12:31.550Z"
      },
      {
        "duration": 83,
        "start_time": "2023-04-15T06:12:32.627Z"
      },
      {
        "duration": 3827,
        "start_time": "2023-04-15T06:12:36.115Z"
      },
      {
        "duration": 4900,
        "start_time": "2023-04-15T06:12:39.949Z"
      },
      {
        "duration": 4734,
        "start_time": "2023-04-15T06:12:47.215Z"
      },
      {
        "duration": 33150,
        "start_time": "2023-04-15T06:12:51.951Z"
      },
      {
        "duration": 5,
        "start_time": "2023-04-15T06:17:43.634Z"
      },
      {
        "duration": 3709,
        "start_time": "2023-04-15T06:18:29.184Z"
      },
      {
        "duration": 3213,
        "start_time": "2023-04-15T06:19:00.811Z"
      },
      {
        "duration": 3327,
        "start_time": "2023-04-15T06:20:32.581Z"
      },
      {
        "duration": 3504,
        "start_time": "2023-04-15T06:20:45.501Z"
      },
      {
        "duration": 3461,
        "start_time": "2023-04-15T06:21:01.418Z"
      },
      {
        "duration": 3527,
        "start_time": "2023-04-15T06:21:45.983Z"
      },
      {
        "duration": 3426,
        "start_time": "2023-04-15T06:22:11.244Z"
      },
      {
        "duration": 9,
        "start_time": "2023-04-15T06:29:41.199Z"
      },
      {
        "duration": 107604,
        "start_time": "2023-04-15T06:30:03.481Z"
      },
      {
        "duration": 8,
        "start_time": "2023-04-15T06:35:57.200Z"
      },
      {
        "duration": 11,
        "start_time": "2023-04-15T06:36:05.176Z"
      },
      {
        "duration": 13,
        "start_time": "2023-04-15T06:36:15.049Z"
      },
      {
        "duration": 5,
        "start_time": "2023-04-15T06:36:30.703Z"
      },
      {
        "duration": 45,
        "start_time": "2023-04-15T06:36:32.290Z"
      },
      {
        "duration": 7,
        "start_time": "2023-04-15T06:36:33.026Z"
      },
      {
        "duration": 12,
        "start_time": "2023-04-15T06:36:33.782Z"
      },
      {
        "duration": 14,
        "start_time": "2023-04-15T06:36:34.411Z"
      },
      {
        "duration": 17,
        "start_time": "2023-04-15T06:36:36.673Z"
      },
      {
        "duration": 12,
        "start_time": "2023-04-15T06:36:40.389Z"
      },
      {
        "duration": 14,
        "start_time": "2023-04-15T06:37:21.123Z"
      },
      {
        "duration": 14,
        "start_time": "2023-04-15T06:37:30.282Z"
      },
      {
        "duration": 13,
        "start_time": "2023-04-15T06:37:32.577Z"
      },
      {
        "duration": 11,
        "start_time": "2023-04-15T06:37:33.242Z"
      },
      {
        "duration": 11,
        "start_time": "2023-04-15T06:37:36.171Z"
      },
      {
        "duration": 4,
        "start_time": "2023-04-15T06:37:37.114Z"
      },
      {
        "duration": 6,
        "start_time": "2023-04-15T06:37:37.706Z"
      },
      {
        "duration": 31,
        "start_time": "2023-04-15T06:37:38.346Z"
      },
      {
        "duration": 1209,
        "start_time": "2023-04-15T06:37:40.426Z"
      },
      {
        "duration": 2159,
        "start_time": "2023-04-15T06:37:42.746Z"
      },
      {
        "duration": 193,
        "start_time": "2023-04-15T06:37:44.907Z"
      },
      {
        "duration": 11,
        "start_time": "2023-04-15T06:50:26.574Z"
      },
      {
        "duration": 10,
        "start_time": "2023-04-15T06:50:56.426Z"
      },
      {
        "duration": 3,
        "start_time": "2023-04-15T06:51:18.174Z"
      },
      {
        "duration": 16,
        "start_time": "2023-04-15T06:56:01.740Z"
      },
      {
        "duration": 8,
        "start_time": "2023-04-15T06:56:03.708Z"
      },
      {
        "duration": 7,
        "start_time": "2023-04-15T06:56:08.917Z"
      },
      {
        "duration": 14,
        "start_time": "2023-04-15T06:56:09.757Z"
      },
      {
        "duration": 12,
        "start_time": "2023-04-15T06:56:10.477Z"
      },
      {
        "duration": 5,
        "start_time": "2023-04-15T06:56:11.092Z"
      },
      {
        "duration": 8,
        "start_time": "2023-04-15T06:56:11.972Z"
      },
      {
        "duration": 32,
        "start_time": "2023-04-15T06:56:12.493Z"
      },
      {
        "duration": 1263,
        "start_time": "2023-04-15T06:56:13.628Z"
      },
      {
        "duration": 2561,
        "start_time": "2023-04-15T06:56:15.037Z"
      },
      {
        "duration": 15,
        "start_time": "2023-04-15T06:56:20.988Z"
      },
      {
        "duration": 13,
        "start_time": "2023-04-15T06:57:02.066Z"
      },
      {
        "duration": 9,
        "start_time": "2023-04-15T06:57:11.949Z"
      },
      {
        "duration": 5,
        "start_time": "2023-04-15T06:57:42.152Z"
      },
      {
        "duration": 50,
        "start_time": "2023-04-15T06:57:43.910Z"
      },
      {
        "duration": 12,
        "start_time": "2023-04-15T06:57:44.636Z"
      },
      {
        "duration": 6,
        "start_time": "2023-04-15T06:57:45.104Z"
      },
      {
        "duration": 19,
        "start_time": "2023-04-15T06:57:45.580Z"
      },
      {
        "duration": 14,
        "start_time": "2023-04-15T06:57:46.644Z"
      },
      {
        "duration": 21,
        "start_time": "2023-04-15T06:57:49.444Z"
      },
      {
        "duration": 19,
        "start_time": "2023-04-15T06:58:32.224Z"
      },
      {
        "duration": 16,
        "start_time": "2023-04-15T06:58:54.639Z"
      },
      {
        "duration": 28,
        "start_time": "2023-04-15T06:59:25.760Z"
      },
      {
        "duration": 18,
        "start_time": "2023-04-15T06:59:43.673Z"
      },
      {
        "duration": 3,
        "start_time": "2023-04-15T07:00:08.350Z"
      },
      {
        "duration": 45,
        "start_time": "2023-04-15T07:00:09.439Z"
      },
      {
        "duration": 7,
        "start_time": "2023-04-15T07:00:09.918Z"
      },
      {
        "duration": 4,
        "start_time": "2023-04-15T07:00:10.366Z"
      },
      {
        "duration": 14,
        "start_time": "2023-04-15T07:00:10.743Z"
      },
      {
        "duration": 14,
        "start_time": "2023-04-15T07:00:11.718Z"
      },
      {
        "duration": 14,
        "start_time": "2023-04-15T07:00:12.943Z"
      },
      {
        "duration": 24,
        "start_time": "2023-04-15T07:00:14.750Z"
      },
      {
        "duration": 19,
        "start_time": "2023-04-15T07:00:33.080Z"
      },
      {
        "duration": 14,
        "start_time": "2023-04-15T07:00:35.558Z"
      },
      {
        "duration": 11,
        "start_time": "2023-04-15T07:00:40.855Z"
      },
      {
        "duration": 8,
        "start_time": "2023-04-15T07:00:42.679Z"
      },
      {
        "duration": 17,
        "start_time": "2023-04-15T07:00:43.414Z"
      },
      {
        "duration": 13,
        "start_time": "2023-04-15T07:00:45.519Z"
      },
      {
        "duration": 4,
        "start_time": "2023-04-15T07:00:46.254Z"
      },
      {
        "duration": 11,
        "start_time": "2023-04-15T07:00:46.967Z"
      },
      {
        "duration": 29,
        "start_time": "2023-04-15T07:00:48.303Z"
      },
      {
        "duration": 1193,
        "start_time": "2023-04-15T07:00:49.343Z"
      },
      {
        "duration": 1769,
        "start_time": "2023-04-15T07:00:52.519Z"
      },
      {
        "duration": 9,
        "start_time": "2023-04-15T07:03:09.911Z"
      },
      {
        "duration": 11,
        "start_time": "2023-04-15T07:03:10.648Z"
      },
      {
        "duration": 11,
        "start_time": "2023-04-15T07:03:15.640Z"
      },
      {
        "duration": 4,
        "start_time": "2023-04-15T07:03:16.881Z"
      },
      {
        "duration": 7,
        "start_time": "2023-04-15T07:03:17.573Z"
      },
      {
        "duration": 27,
        "start_time": "2023-04-15T07:03:18.149Z"
      },
      {
        "duration": 1178,
        "start_time": "2023-04-15T07:03:19.448Z"
      },
      {
        "duration": 3258,
        "start_time": "2023-04-15T07:03:20.629Z"
      },
      {
        "duration": 104,
        "start_time": "2023-04-15T07:03:23.982Z"
      },
      {
        "duration": 8,
        "start_time": "2023-04-15T07:04:09.719Z"
      },
      {
        "duration": 8,
        "start_time": "2023-04-15T07:04:32.198Z"
      },
      {
        "duration": 13,
        "start_time": "2023-04-15T07:04:51.248Z"
      },
      {
        "duration": 1147,
        "start_time": "2023-04-15T09:46:29.323Z"
      },
      {
        "duration": 184,
        "start_time": "2023-04-15T09:46:31.916Z"
      },
      {
        "duration": 11,
        "start_time": "2023-04-15T09:46:32.795Z"
      },
      {
        "duration": 5,
        "start_time": "2023-04-15T09:46:33.356Z"
      },
      {
        "duration": 19,
        "start_time": "2023-04-15T09:46:33.926Z"
      },
      {
        "duration": 14,
        "start_time": "2023-04-15T09:46:34.956Z"
      },
      {
        "duration": 21,
        "start_time": "2023-04-15T09:46:36.030Z"
      },
      {
        "duration": 26,
        "start_time": "2023-04-15T09:46:37.132Z"
      },
      {
        "duration": 14,
        "start_time": "2023-04-15T09:46:37.613Z"
      },
      {
        "duration": 10,
        "start_time": "2023-04-15T09:46:38.340Z"
      },
      {
        "duration": 7,
        "start_time": "2023-04-15T09:46:39.406Z"
      },
      {
        "duration": 9,
        "start_time": "2023-04-15T09:46:40.004Z"
      },
      {
        "duration": 12,
        "start_time": "2023-04-15T09:46:40.805Z"
      },
      {
        "duration": 5,
        "start_time": "2023-04-15T09:46:44.452Z"
      },
      {
        "duration": 67,
        "start_time": "2023-04-15T09:49:42.517Z"
      },
      {
        "duration": 7,
        "start_time": "2023-04-15T09:49:51.574Z"
      },
      {
        "duration": 5,
        "start_time": "2023-04-15T09:51:38.627Z"
      },
      {
        "duration": 5,
        "start_time": "2023-04-15T09:54:19.232Z"
      },
      {
        "duration": 31,
        "start_time": "2023-04-15T10:01:09.652Z"
      },
      {
        "duration": 34,
        "start_time": "2023-04-15T10:05:57.317Z"
      },
      {
        "duration": 43,
        "start_time": "2023-04-15T10:06:03.943Z"
      },
      {
        "duration": 45,
        "start_time": "2023-04-15T10:06:11.847Z"
      },
      {
        "duration": 38,
        "start_time": "2023-04-15T10:06:22.144Z"
      },
      {
        "duration": 40,
        "start_time": "2023-04-15T10:06:39.343Z"
      },
      {
        "duration": 709,
        "start_time": "2023-04-15T10:09:00.080Z"
      },
      {
        "duration": 734,
        "start_time": "2023-04-15T10:09:41.737Z"
      },
      {
        "duration": 158,
        "start_time": "2023-04-15T10:17:38.847Z"
      },
      {
        "duration": 60,
        "start_time": "2023-04-15T10:18:10.718Z"
      },
      {
        "duration": 3231,
        "start_time": "2023-04-15T10:18:18.442Z"
      },
      {
        "duration": 11,
        "start_time": "2023-04-15T10:28:02.377Z"
      },
      {
        "duration": 11,
        "start_time": "2023-04-15T10:28:12.075Z"
      },
      {
        "duration": 654,
        "start_time": "2023-04-15T10:28:26.386Z"
      },
      {
        "duration": 4268,
        "start_time": "2023-04-15T10:31:24.177Z"
      },
      {
        "duration": 736,
        "start_time": "2023-04-15T10:33:33.672Z"
      },
      {
        "duration": 1124,
        "start_time": "2023-04-15T10:34:23.222Z"
      },
      {
        "duration": 13,
        "start_time": "2023-04-15T10:38:44.592Z"
      },
      {
        "duration": 13,
        "start_time": "2023-04-15T10:38:57.208Z"
      },
      {
        "duration": 26,
        "start_time": "2023-04-15T10:39:14.351Z"
      },
      {
        "duration": 43,
        "start_time": "2023-04-15T10:40:07.528Z"
      },
      {
        "duration": 32,
        "start_time": "2023-04-15T10:40:19.807Z"
      },
      {
        "duration": 1407,
        "start_time": "2023-04-15T15:00:15.266Z"
      },
      {
        "duration": 505,
        "start_time": "2023-04-15T15:00:17.981Z"
      },
      {
        "duration": 22,
        "start_time": "2023-04-15T15:00:18.574Z"
      },
      {
        "duration": 4,
        "start_time": "2023-04-15T15:00:19.391Z"
      },
      {
        "duration": 20,
        "start_time": "2023-04-15T15:00:20.120Z"
      },
      {
        "duration": 18,
        "start_time": "2023-04-15T15:00:21.213Z"
      },
      {
        "duration": 25,
        "start_time": "2023-04-15T15:00:22.417Z"
      },
      {
        "duration": 39,
        "start_time": "2023-04-15T15:00:23.527Z"
      },
      {
        "duration": 27,
        "start_time": "2023-04-15T15:00:24.034Z"
      },
      {
        "duration": 19,
        "start_time": "2023-04-15T15:00:24.673Z"
      },
      {
        "duration": 20,
        "start_time": "2023-04-15T15:00:26.069Z"
      },
      {
        "duration": 10,
        "start_time": "2023-04-15T15:00:27.004Z"
      },
      {
        "duration": 14,
        "start_time": "2023-04-15T15:00:27.623Z"
      },
      {
        "duration": 8,
        "start_time": "2023-04-15T15:00:29.816Z"
      },
      {
        "duration": 8,
        "start_time": "2023-04-15T15:00:30.400Z"
      },
      {
        "duration": 16,
        "start_time": "2023-04-15T15:00:30.943Z"
      },
      {
        "duration": 12,
        "start_time": "2023-04-15T15:00:31.971Z"
      },
      {
        "duration": 899,
        "start_time": "2023-04-15T15:00:46.631Z"
      },
      {
        "duration": 4515,
        "start_time": "2023-04-15T15:00:56.986Z"
      },
      {
        "duration": 1286,
        "start_time": "2023-04-15T15:01:03.355Z"
      },
      {
        "duration": 4,
        "start_time": "2023-04-15T15:06:31.098Z"
      },
      {
        "duration": 74,
        "start_time": "2023-04-15T15:06:32.027Z"
      },
      {
        "duration": 8,
        "start_time": "2023-04-15T15:06:32.767Z"
      },
      {
        "duration": 4,
        "start_time": "2023-04-15T15:06:33.421Z"
      },
      {
        "duration": 38,
        "start_time": "2023-04-15T15:06:34.132Z"
      },
      {
        "duration": 5,
        "start_time": "2023-04-15T15:07:26.324Z"
      },
      {
        "duration": 53,
        "start_time": "2023-04-15T15:07:26.957Z"
      },
      {
        "duration": 15,
        "start_time": "2023-04-15T15:07:27.212Z"
      },
      {
        "duration": 6,
        "start_time": "2023-04-15T15:07:27.459Z"
      },
      {
        "duration": 17,
        "start_time": "2023-04-15T15:07:27.700Z"
      },
      {
        "duration": 16,
        "start_time": "2023-04-15T15:07:28.331Z"
      },
      {
        "duration": 16,
        "start_time": "2023-04-15T15:07:28.766Z"
      },
      {
        "duration": 22,
        "start_time": "2023-04-15T15:07:29.221Z"
      },
      {
        "duration": 18,
        "start_time": "2023-04-15T15:07:29.435Z"
      },
      {
        "duration": 14,
        "start_time": "2023-04-15T15:07:29.676Z"
      },
      {
        "duration": 9,
        "start_time": "2023-04-15T15:07:30.090Z"
      },
      {
        "duration": 9,
        "start_time": "2023-04-15T15:07:30.306Z"
      },
      {
        "duration": 23,
        "start_time": "2023-04-15T15:07:30.515Z"
      },
      {
        "duration": 7,
        "start_time": "2023-04-15T15:07:31.435Z"
      },
      {
        "duration": 7,
        "start_time": "2023-04-15T15:07:31.722Z"
      },
      {
        "duration": 7,
        "start_time": "2023-04-15T15:07:32.001Z"
      },
      {
        "duration": 5,
        "start_time": "2023-04-15T15:07:32.776Z"
      },
      {
        "duration": 749,
        "start_time": "2023-04-15T15:07:33.267Z"
      },
      {
        "duration": 3927,
        "start_time": "2023-04-15T15:07:34.906Z"
      },
      {
        "duration": 1719,
        "start_time": "2023-04-15T15:07:40.033Z"
      },
      {
        "duration": 133,
        "start_time": "2023-04-15T15:07:43.625Z"
      },
      {
        "duration": 19,
        "start_time": "2023-04-15T15:07:54.486Z"
      },
      {
        "duration": 6,
        "start_time": "2023-04-15T15:08:34.268Z"
      },
      {
        "duration": 6,
        "start_time": "2023-04-15T15:31:32.439Z"
      },
      {
        "duration": 20,
        "start_time": "2023-04-15T16:19:39.556Z"
      },
      {
        "duration": 14,
        "start_time": "2023-04-15T16:20:10.733Z"
      },
      {
        "duration": 610,
        "start_time": "2023-04-15T16:20:19.565Z"
      },
      {
        "duration": 9,
        "start_time": "2023-04-15T16:21:14.562Z"
      },
      {
        "duration": 1232,
        "start_time": "2023-04-17T09:15:42.970Z"
      },
      {
        "duration": 404,
        "start_time": "2023-04-17T09:15:45.555Z"
      },
      {
        "duration": 14,
        "start_time": "2023-04-17T09:15:47.432Z"
      },
      {
        "duration": 5,
        "start_time": "2023-04-17T09:15:48.804Z"
      },
      {
        "duration": 18,
        "start_time": "2023-04-17T09:15:55.208Z"
      },
      {
        "duration": 5,
        "start_time": "2023-04-17T09:16:19.020Z"
      },
      {
        "duration": 5,
        "start_time": "2023-04-17T09:16:27.964Z"
      },
      {
        "duration": 6,
        "start_time": "2023-04-17T09:16:35.408Z"
      },
      {
        "duration": 12,
        "start_time": "2023-04-17T09:17:13.973Z"
      },
      {
        "duration": 9,
        "start_time": "2023-04-17T09:17:29.109Z"
      },
      {
        "duration": 27,
        "start_time": "2023-04-17T09:17:38.290Z"
      },
      {
        "duration": 6,
        "start_time": "2023-04-17T09:17:49.870Z"
      },
      {
        "duration": 25,
        "start_time": "2023-04-17T09:18:04.261Z"
      },
      {
        "duration": 23,
        "start_time": "2023-04-17T09:19:12.672Z"
      },
      {
        "duration": 28,
        "start_time": "2023-04-17T09:19:14.777Z"
      },
      {
        "duration": 15,
        "start_time": "2023-04-17T09:19:17.235Z"
      },
      {
        "duration": 17,
        "start_time": "2023-04-17T09:19:18.739Z"
      },
      {
        "duration": 19,
        "start_time": "2023-04-17T09:19:19.356Z"
      },
      {
        "duration": 15,
        "start_time": "2023-04-17T09:19:20.486Z"
      },
      {
        "duration": 7,
        "start_time": "2023-04-17T09:19:22.621Z"
      },
      {
        "duration": 9,
        "start_time": "2023-04-17T09:19:23.077Z"
      },
      {
        "duration": 16,
        "start_time": "2023-04-17T09:19:23.416Z"
      },
      {
        "duration": 5,
        "start_time": "2023-04-17T09:19:25.372Z"
      },
      {
        "duration": 7,
        "start_time": "2023-04-17T09:19:25.778Z"
      },
      {
        "duration": 6,
        "start_time": "2023-04-17T09:19:26.264Z"
      },
      {
        "duration": 5,
        "start_time": "2023-04-17T09:19:27.465Z"
      },
      {
        "duration": 757,
        "start_time": "2023-04-17T09:19:28.309Z"
      },
      {
        "duration": 3746,
        "start_time": "2023-04-17T09:19:29.931Z"
      },
      {
        "duration": 711,
        "start_time": "2023-04-17T09:19:33.680Z"
      },
      {
        "duration": 11,
        "start_time": "2023-04-17T09:19:34.396Z"
      },
      {
        "duration": 679,
        "start_time": "2023-04-17T09:19:34.488Z"
      },
      {
        "duration": 4,
        "start_time": "2023-04-17T09:46:23.330Z"
      },
      {
        "duration": 119,
        "start_time": "2023-04-17T09:46:25.268Z"
      },
      {
        "duration": 11,
        "start_time": "2023-04-17T09:46:26.803Z"
      },
      {
        "duration": 4,
        "start_time": "2023-04-17T09:46:27.751Z"
      },
      {
        "duration": 19,
        "start_time": "2023-04-17T09:46:29.023Z"
      },
      {
        "duration": 24,
        "start_time": "2023-04-17T09:46:31.211Z"
      },
      {
        "duration": 23,
        "start_time": "2023-04-17T09:46:43.241Z"
      },
      {
        "duration": 16,
        "start_time": "2023-04-17T09:46:49.382Z"
      },
      {
        "duration": 17,
        "start_time": "2023-04-17T09:46:55.657Z"
      },
      {
        "duration": 14,
        "start_time": "2023-04-17T09:46:57.894Z"
      },
      {
        "duration": 20,
        "start_time": "2023-04-17T09:50:51.689Z"
      },
      {
        "duration": 8,
        "start_time": "2023-04-17T09:50:52.974Z"
      },
      {
        "duration": 9,
        "start_time": "2023-04-17T09:50:53.657Z"
      },
      {
        "duration": 14,
        "start_time": "2023-04-17T09:50:54.271Z"
      },
      {
        "duration": 6,
        "start_time": "2023-04-17T09:50:57.781Z"
      },
      {
        "duration": 7,
        "start_time": "2023-04-17T09:50:58.352Z"
      },
      {
        "duration": 6,
        "start_time": "2023-04-17T09:50:59.020Z"
      },
      {
        "duration": 5,
        "start_time": "2023-04-17T09:51:00.274Z"
      },
      {
        "duration": 762,
        "start_time": "2023-04-17T09:51:01.736Z"
      },
      {
        "duration": 3577,
        "start_time": "2023-04-17T09:51:03.028Z"
      },
      {
        "duration": 382,
        "start_time": "2023-04-17T09:51:06.607Z"
      },
      {
        "duration": 7,
        "start_time": "2023-04-17T09:51:06.991Z"
      },
      {
        "duration": 149,
        "start_time": "2023-04-17T09:55:31.958Z"
      },
      {
        "duration": 205,
        "start_time": "2023-04-17T09:58:20.015Z"
      },
      {
        "duration": 86,
        "start_time": "2023-04-17T09:58:27.270Z"
      },
      {
        "duration": 176,
        "start_time": "2023-04-17T09:58:32.306Z"
      },
      {
        "duration": 4,
        "start_time": "2023-04-17T10:04:47.273Z"
      },
      {
        "duration": 138,
        "start_time": "2023-04-17T10:05:09.016Z"
      },
      {
        "duration": 5,
        "start_time": "2023-04-17T10:06:00.038Z"
      },
      {
        "duration": 13,
        "start_time": "2023-04-17T10:06:09.675Z"
      },
      {
        "duration": 4,
        "start_time": "2023-04-17T10:06:25.771Z"
      },
      {
        "duration": 51,
        "start_time": "2023-04-17T10:06:26.736Z"
      },
      {
        "duration": 9,
        "start_time": "2023-04-17T10:06:27.316Z"
      },
      {
        "duration": 5,
        "start_time": "2023-04-17T10:06:27.829Z"
      },
      {
        "duration": 22,
        "start_time": "2023-04-17T10:06:28.413Z"
      },
      {
        "duration": 27,
        "start_time": "2023-04-17T10:06:28.867Z"
      },
      {
        "duration": 22,
        "start_time": "2023-04-17T10:06:29.813Z"
      },
      {
        "duration": 16,
        "start_time": "2023-04-17T10:06:30.820Z"
      },
      {
        "duration": 21,
        "start_time": "2023-04-17T10:06:31.942Z"
      },
      {
        "duration": 21,
        "start_time": "2023-04-17T10:06:32.472Z"
      },
      {
        "duration": 14,
        "start_time": "2023-04-17T10:06:33.054Z"
      },
      {
        "duration": 8,
        "start_time": "2023-04-17T10:06:34.429Z"
      },
      {
        "duration": 9,
        "start_time": "2023-04-17T10:06:34.962Z"
      },
      {
        "duration": 93,
        "start_time": "2023-04-17T10:06:35.536Z"
      },
      {
        "duration": 7,
        "start_time": "2023-04-17T10:06:37.717Z"
      },
      {
        "duration": 9,
        "start_time": "2023-04-17T10:06:38.273Z"
      },
      {
        "duration": 6,
        "start_time": "2023-04-17T10:06:38.874Z"
      },
      {
        "duration": 6,
        "start_time": "2023-04-17T10:06:39.964Z"
      },
      {
        "duration": 725,
        "start_time": "2023-04-17T10:06:41.672Z"
      },
      {
        "duration": 3438,
        "start_time": "2023-04-17T10:06:43.216Z"
      },
      {
        "duration": 1447,
        "start_time": "2023-04-17T10:06:46.657Z"
      },
      {
        "duration": 217,
        "start_time": "2023-04-17T10:06:48.194Z"
      },
      {
        "duration": 177,
        "start_time": "2023-04-17T10:06:53.115Z"
      },
      {
        "duration": 6,
        "start_time": "2023-04-17T10:06:57.814Z"
      },
      {
        "duration": 13,
        "start_time": "2023-04-17T10:07:01.113Z"
      },
      {
        "duration": 10,
        "start_time": "2023-04-17T10:09:46.841Z"
      },
      {
        "duration": 6,
        "start_time": "2023-04-17T10:09:56.569Z"
      },
      {
        "duration": 5,
        "start_time": "2023-04-17T10:10:28.678Z"
      },
      {
        "duration": 65,
        "start_time": "2023-04-17T10:10:29.739Z"
      },
      {
        "duration": 9,
        "start_time": "2023-04-17T10:10:30.483Z"
      },
      {
        "duration": 4,
        "start_time": "2023-04-17T10:10:30.982Z"
      },
      {
        "duration": 15,
        "start_time": "2023-04-17T10:10:31.928Z"
      },
      {
        "duration": 24,
        "start_time": "2023-04-17T10:10:33.023Z"
      },
      {
        "duration": 16,
        "start_time": "2023-04-17T10:10:34.216Z"
      },
      {
        "duration": 15,
        "start_time": "2023-04-17T10:10:35.417Z"
      },
      {
        "duration": 23,
        "start_time": "2023-04-17T10:10:37.025Z"
      },
      {
        "duration": 14,
        "start_time": "2023-04-17T10:10:37.573Z"
      },
      {
        "duration": 11,
        "start_time": "2023-04-17T10:10:38.158Z"
      },
      {
        "duration": 10,
        "start_time": "2023-04-17T10:10:39.730Z"
      },
      {
        "duration": 10,
        "start_time": "2023-04-17T10:10:40.245Z"
      },
      {
        "duration": 17,
        "start_time": "2023-04-17T10:10:40.861Z"
      },
      {
        "duration": 7,
        "start_time": "2023-04-17T10:10:42.964Z"
      },
      {
        "duration": 8,
        "start_time": "2023-04-17T10:10:43.520Z"
      },
      {
        "duration": 9,
        "start_time": "2023-04-17T10:10:44.120Z"
      },
      {
        "duration": 7,
        "start_time": "2023-04-17T10:10:45.173Z"
      },
      {
        "duration": 750,
        "start_time": "2023-04-17T10:10:46.462Z"
      },
      {
        "duration": 3671,
        "start_time": "2023-04-17T10:10:47.623Z"
      },
      {
        "duration": 212,
        "start_time": "2023-04-17T10:10:51.297Z"
      },
      {
        "duration": 286,
        "start_time": "2023-04-17T10:10:51.520Z"
      },
      {
        "duration": 178,
        "start_time": "2023-04-17T10:10:55.143Z"
      },
      {
        "duration": 6,
        "start_time": "2023-04-17T10:10:57.660Z"
      },
      {
        "duration": 6,
        "start_time": "2023-04-17T10:11:01.346Z"
      },
      {
        "duration": 5,
        "start_time": "2023-04-17T10:13:44.041Z"
      },
      {
        "duration": 55,
        "start_time": "2023-04-17T10:13:44.929Z"
      },
      {
        "duration": 9,
        "start_time": "2023-04-17T10:13:45.163Z"
      },
      {
        "duration": 4,
        "start_time": "2023-04-17T10:13:45.789Z"
      },
      {
        "duration": 16,
        "start_time": "2023-04-17T10:13:46.121Z"
      },
      {
        "duration": 24,
        "start_time": "2023-04-17T10:13:46.477Z"
      },
      {
        "duration": 16,
        "start_time": "2023-04-17T10:13:47.037Z"
      },
      {
        "duration": 16,
        "start_time": "2023-04-17T10:13:47.633Z"
      },
      {
        "duration": 18,
        "start_time": "2023-04-17T10:13:48.241Z"
      },
      {
        "duration": 14,
        "start_time": "2023-04-17T10:13:48.737Z"
      },
      {
        "duration": 22,
        "start_time": "2023-04-17T10:13:49.186Z"
      },
      {
        "duration": 10,
        "start_time": "2023-04-17T10:13:49.734Z"
      },
      {
        "duration": 9,
        "start_time": "2023-04-17T10:13:49.971Z"
      },
      {
        "duration": 13,
        "start_time": "2023-04-17T10:13:50.218Z"
      },
      {
        "duration": 7,
        "start_time": "2023-04-17T10:13:51.354Z"
      },
      {
        "duration": 7,
        "start_time": "2023-04-17T10:13:51.714Z"
      },
      {
        "duration": 7,
        "start_time": "2023-04-17T10:13:52.030Z"
      },
      {
        "duration": 5,
        "start_time": "2023-04-17T10:13:52.646Z"
      },
      {
        "duration": 686,
        "start_time": "2023-04-17T10:13:53.181Z"
      },
      {
        "duration": 3350,
        "start_time": "2023-04-17T10:13:54.036Z"
      },
      {
        "duration": 302,
        "start_time": "2023-04-17T10:13:57.389Z"
      },
      {
        "duration": 127,
        "start_time": "2023-04-17T10:14:00.946Z"
      },
      {
        "duration": 10,
        "start_time": "2023-04-17T10:14:04.064Z"
      },
      {
        "duration": 44,
        "start_time": "2023-04-17T10:14:11.730Z"
      },
      {
        "duration": 156,
        "start_time": "2023-04-17T10:14:19.233Z"
      },
      {
        "duration": 6,
        "start_time": "2023-04-17T10:14:25.245Z"
      },
      {
        "duration": 19,
        "start_time": "2023-04-17T10:14:37.726Z"
      },
      {
        "duration": 5,
        "start_time": "2023-04-17T10:14:44.141Z"
      },
      {
        "duration": 9,
        "start_time": "2023-04-17T10:16:32.146Z"
      },
      {
        "duration": 6,
        "start_time": "2023-04-17T10:16:53.015Z"
      },
      {
        "duration": 7,
        "start_time": "2023-04-17T10:17:01.249Z"
      },
      {
        "duration": 6,
        "start_time": "2023-04-17T10:19:17.122Z"
      },
      {
        "duration": 6,
        "start_time": "2023-04-17T10:20:07.368Z"
      },
      {
        "duration": 158,
        "start_time": "2023-04-17T10:20:56.030Z"
      },
      {
        "duration": 6,
        "start_time": "2023-04-17T10:21:11.880Z"
      },
      {
        "duration": 10,
        "start_time": "2023-04-17T10:24:56.704Z"
      },
      {
        "duration": 5,
        "start_time": "2023-04-17T10:25:07.714Z"
      },
      {
        "duration": 5,
        "start_time": "2023-04-17T10:25:17.656Z"
      },
      {
        "duration": 37,
        "start_time": "2023-04-17T10:26:13.922Z"
      },
      {
        "duration": 166,
        "start_time": "2023-04-17T10:31:19.257Z"
      },
      {
        "duration": 7,
        "start_time": "2023-04-17T10:31:22.311Z"
      },
      {
        "duration": 6,
        "start_time": "2023-04-17T10:31:28.353Z"
      },
      {
        "duration": 7,
        "start_time": "2023-04-17T10:31:36.534Z"
      },
      {
        "duration": 6,
        "start_time": "2023-04-17T10:31:39.526Z"
      },
      {
        "duration": 7,
        "start_time": "2023-04-17T10:31:40.863Z"
      },
      {
        "duration": 6,
        "start_time": "2023-04-17T13:07:01.263Z"
      },
      {
        "duration": 6,
        "start_time": "2023-04-17T13:07:03.039Z"
      },
      {
        "duration": 7,
        "start_time": "2023-04-17T13:07:03.611Z"
      },
      {
        "duration": 8,
        "start_time": "2023-04-17T13:07:04.098Z"
      },
      {
        "duration": 13,
        "start_time": "2023-04-17T13:09:19.613Z"
      },
      {
        "duration": 15,
        "start_time": "2023-04-17T13:09:43.540Z"
      },
      {
        "duration": 14,
        "start_time": "2023-04-17T13:11:32.225Z"
      },
      {
        "duration": 24,
        "start_time": "2023-04-17T13:11:44.913Z"
      },
      {
        "duration": 4,
        "start_time": "2023-04-17T13:12:58.074Z"
      },
      {
        "duration": 26,
        "start_time": "2023-04-17T13:13:05.182Z"
      },
      {
        "duration": 16,
        "start_time": "2023-04-17T13:14:33.432Z"
      },
      {
        "duration": 65,
        "start_time": "2023-04-17T13:15:15.048Z"
      },
      {
        "duration": 72,
        "start_time": "2023-04-17T13:17:31.141Z"
      },
      {
        "duration": 20,
        "start_time": "2023-04-17T13:19:27.618Z"
      },
      {
        "duration": 12,
        "start_time": "2023-04-17T13:20:13.863Z"
      },
      {
        "duration": 5,
        "start_time": "2023-04-17T13:20:28.565Z"
      },
      {
        "duration": 64,
        "start_time": "2023-04-17T13:20:29.684Z"
      },
      {
        "duration": 8,
        "start_time": "2023-04-17T13:20:30.368Z"
      },
      {
        "duration": 4,
        "start_time": "2023-04-17T13:20:30.754Z"
      },
      {
        "duration": 15,
        "start_time": "2023-04-17T13:20:31.228Z"
      },
      {
        "duration": 23,
        "start_time": "2023-04-17T13:20:32.121Z"
      },
      {
        "duration": 14,
        "start_time": "2023-04-17T13:20:33.147Z"
      },
      {
        "duration": 15,
        "start_time": "2023-04-17T13:20:34.153Z"
      },
      {
        "duration": 16,
        "start_time": "2023-04-17T13:20:35.057Z"
      },
      {
        "duration": 14,
        "start_time": "2023-04-17T13:20:35.518Z"
      },
      {
        "duration": 10,
        "start_time": "2023-04-17T13:20:35.858Z"
      },
      {
        "duration": 8,
        "start_time": "2023-04-17T13:20:36.574Z"
      },
      {
        "duration": 16,
        "start_time": "2023-04-17T13:20:36.884Z"
      },
      {
        "duration": 18,
        "start_time": "2023-04-17T13:20:37.517Z"
      },
      {
        "duration": 7,
        "start_time": "2023-04-17T13:20:38.813Z"
      },
      {
        "duration": 6,
        "start_time": "2023-04-17T13:20:39.182Z"
      },
      {
        "duration": 6,
        "start_time": "2023-04-17T13:20:39.568Z"
      },
      {
        "duration": 5,
        "start_time": "2023-04-17T13:20:40.481Z"
      },
      {
        "duration": 741,
        "start_time": "2023-04-17T13:20:41.115Z"
      },
      {
        "duration": 3686,
        "start_time": "2023-04-17T13:20:42.174Z"
      },
      {
        "duration": 716,
        "start_time": "2023-04-17T13:20:46.974Z"
      },
      {
        "duration": 130,
        "start_time": "2023-04-17T13:20:49.544Z"
      },
      {
        "duration": 169,
        "start_time": "2023-04-17T13:20:52.710Z"
      },
      {
        "duration": 4,
        "start_time": "2023-04-17T13:20:58.129Z"
      },
      {
        "duration": 6,
        "start_time": "2023-04-17T13:21:31.775Z"
      },
      {
        "duration": 6,
        "start_time": "2023-04-17T13:21:35.247Z"
      },
      {
        "duration": 6,
        "start_time": "2023-04-17T13:21:36.321Z"
      },
      {
        "duration": 5,
        "start_time": "2023-04-17T13:21:36.953Z"
      },
      {
        "duration": 14,
        "start_time": "2023-04-17T13:21:38.640Z"
      },
      {
        "duration": 62,
        "start_time": "2023-04-17T13:21:52.026Z"
      },
      {
        "duration": 83,
        "start_time": "2023-04-17T13:21:53.578Z"
      },
      {
        "duration": 13,
        "start_time": "2023-04-17T13:24:27.130Z"
      },
      {
        "duration": 39,
        "start_time": "2023-04-17T13:24:36.223Z"
      },
      {
        "duration": 29,
        "start_time": "2023-04-17T13:24:44.163Z"
      },
      {
        "duration": 43,
        "start_time": "2023-04-17T13:25:00.651Z"
      },
      {
        "duration": 4,
        "start_time": "2023-04-17T13:25:15.239Z"
      },
      {
        "duration": 74,
        "start_time": "2023-04-17T13:25:22.719Z"
      },
      {
        "duration": 30,
        "start_time": "2023-04-17T13:27:10.868Z"
      },
      {
        "duration": 6,
        "start_time": "2023-04-17T13:27:11.951Z"
      },
      {
        "duration": 5,
        "start_time": "2023-04-17T13:27:44.069Z"
      },
      {
        "duration": 5,
        "start_time": "2023-04-17T13:27:45.473Z"
      },
      {
        "duration": 5,
        "start_time": "2023-04-17T13:27:46.812Z"
      },
      {
        "duration": 5,
        "start_time": "2023-04-17T13:28:15.616Z"
      },
      {
        "duration": 5,
        "start_time": "2023-04-17T13:28:21.466Z"
      },
      {
        "duration": 52,
        "start_time": "2023-04-17T13:28:22.942Z"
      },
      {
        "duration": 7,
        "start_time": "2023-04-17T13:28:24.649Z"
      },
      {
        "duration": 4,
        "start_time": "2023-04-17T13:28:25.354Z"
      },
      {
        "duration": 15,
        "start_time": "2023-04-17T13:28:26.043Z"
      },
      {
        "duration": 24,
        "start_time": "2023-04-17T13:28:26.738Z"
      },
      {
        "duration": 18,
        "start_time": "2023-04-17T13:28:28.280Z"
      },
      {
        "duration": 17,
        "start_time": "2023-04-17T13:28:30.318Z"
      },
      {
        "duration": 21,
        "start_time": "2023-04-17T13:28:31.722Z"
      },
      {
        "duration": 15,
        "start_time": "2023-04-17T13:28:32.336Z"
      },
      {
        "duration": 14,
        "start_time": "2023-04-17T13:28:32.957Z"
      },
      {
        "duration": 7,
        "start_time": "2023-04-17T13:28:34.133Z"
      },
      {
        "duration": 8,
        "start_time": "2023-04-17T13:28:34.664Z"
      },
      {
        "duration": 13,
        "start_time": "2023-04-17T13:28:35.271Z"
      },
      {
        "duration": 5,
        "start_time": "2023-04-17T13:28:37.424Z"
      },
      {
        "duration": 7,
        "start_time": "2023-04-17T13:28:38.066Z"
      },
      {
        "duration": 6,
        "start_time": "2023-04-17T13:28:38.622Z"
      },
      {
        "duration": 5,
        "start_time": "2023-04-17T13:28:39.736Z"
      },
      {
        "duration": 746,
        "start_time": "2023-04-17T13:28:44.528Z"
      },
      {
        "duration": 3547,
        "start_time": "2023-04-17T13:28:47.415Z"
      },
      {
        "duration": 336,
        "start_time": "2023-04-17T13:28:50.964Z"
      },
      {
        "duration": 297,
        "start_time": "2023-04-17T13:28:51.302Z"
      },
      {
        "duration": 8,
        "start_time": "2023-04-17T13:28:51.601Z"
      },
      {
        "duration": 166,
        "start_time": "2023-04-17T13:28:53.459Z"
      },
      {
        "duration": 5,
        "start_time": "2023-04-17T13:28:58.354Z"
      },
      {
        "duration": 5,
        "start_time": "2023-04-17T13:29:05.841Z"
      },
      {
        "duration": 5,
        "start_time": "2023-04-17T13:29:08.116Z"
      },
      {
        "duration": 7,
        "start_time": "2023-04-17T13:29:08.922Z"
      },
      {
        "duration": 6,
        "start_time": "2023-04-17T13:29:09.813Z"
      },
      {
        "duration": 16,
        "start_time": "2023-04-17T13:29:18.580Z"
      },
      {
        "duration": 55,
        "start_time": "2023-04-17T13:29:27.034Z"
      },
      {
        "duration": 6,
        "start_time": "2023-04-17T13:29:29.931Z"
      },
      {
        "duration": 7,
        "start_time": "2023-04-17T13:29:31.568Z"
      },
      {
        "duration": 7,
        "start_time": "2023-04-17T13:29:32.328Z"
      },
      {
        "duration": 81,
        "start_time": "2023-04-17T13:29:33.560Z"
      },
      {
        "duration": 1298,
        "start_time": "2023-04-17T18:57:20.139Z"
      },
      {
        "duration": 356,
        "start_time": "2023-04-17T18:57:21.440Z"
      },
      {
        "duration": 22,
        "start_time": "2023-04-17T18:57:21.800Z"
      },
      {
        "duration": 5,
        "start_time": "2023-04-17T18:57:22.806Z"
      },
      {
        "duration": 17,
        "start_time": "2023-04-17T18:57:23.457Z"
      },
      {
        "duration": 24,
        "start_time": "2023-04-17T18:57:24.313Z"
      },
      {
        "duration": 14,
        "start_time": "2023-04-17T18:57:25.401Z"
      },
      {
        "duration": 24,
        "start_time": "2023-04-17T18:57:26.510Z"
      },
      {
        "duration": 17,
        "start_time": "2023-04-17T18:57:27.699Z"
      },
      {
        "duration": 15,
        "start_time": "2023-04-17T18:57:28.205Z"
      },
      {
        "duration": 15,
        "start_time": "2023-04-17T18:57:28.744Z"
      },
      {
        "duration": 9,
        "start_time": "2023-04-17T18:57:30.188Z"
      },
      {
        "duration": 10,
        "start_time": "2023-04-17T18:57:31.199Z"
      },
      {
        "duration": 18,
        "start_time": "2023-04-17T18:57:31.744Z"
      },
      {
        "duration": 5,
        "start_time": "2023-04-17T18:57:34.624Z"
      },
      {
        "duration": 6,
        "start_time": "2023-04-17T18:57:35.208Z"
      },
      {
        "duration": 6,
        "start_time": "2023-04-17T18:57:35.752Z"
      },
      {
        "duration": 5,
        "start_time": "2023-04-17T18:57:36.799Z"
      },
      {
        "duration": 719,
        "start_time": "2023-04-17T18:57:38.092Z"
      },
      {
        "duration": 3190,
        "start_time": "2023-04-17T18:57:40.038Z"
      },
      {
        "duration": 366,
        "start_time": "2023-04-17T18:57:43.229Z"
      },
      {
        "duration": 759,
        "start_time": "2023-04-17T18:57:43.597Z"
      },
      {
        "duration": 124,
        "start_time": "2023-04-17T18:57:44.746Z"
      },
      {
        "duration": 173,
        "start_time": "2023-04-17T18:57:51.358Z"
      },
      {
        "duration": 10,
        "start_time": "2023-04-17T18:57:53.528Z"
      },
      {
        "duration": 6,
        "start_time": "2023-04-17T18:58:12.633Z"
      },
      {
        "duration": 50,
        "start_time": "2023-04-17T18:58:13.699Z"
      },
      {
        "duration": 7,
        "start_time": "2023-04-17T18:58:14.700Z"
      },
      {
        "duration": 4,
        "start_time": "2023-04-17T18:58:15.537Z"
      },
      {
        "duration": 16,
        "start_time": "2023-04-17T18:58:16.121Z"
      },
      {
        "duration": 23,
        "start_time": "2023-04-17T18:58:16.904Z"
      },
      {
        "duration": 24,
        "start_time": "2023-04-17T18:58:18.209Z"
      },
      {
        "duration": 22,
        "start_time": "2023-04-17T18:58:19.545Z"
      },
      {
        "duration": 23,
        "start_time": "2023-04-17T18:58:21.003Z"
      },
      {
        "duration": 18,
        "start_time": "2023-04-17T18:58:21.552Z"
      },
      {
        "duration": 14,
        "start_time": "2023-04-17T18:58:22.160Z"
      },
      {
        "duration": 7,
        "start_time": "2023-04-17T18:58:23.302Z"
      },
      {
        "duration": 9,
        "start_time": "2023-04-17T18:58:24.000Z"
      },
      {
        "duration": 14,
        "start_time": "2023-04-17T18:58:26.648Z"
      },
      {
        "duration": 7,
        "start_time": "2023-04-17T18:58:29.528Z"
      },
      {
        "duration": 7,
        "start_time": "2023-04-17T18:58:30.200Z"
      },
      {
        "duration": 7,
        "start_time": "2023-04-17T18:58:31.145Z"
      },
      {
        "duration": 6,
        "start_time": "2023-04-17T18:58:33.710Z"
      },
      {
        "duration": 689,
        "start_time": "2023-04-17T18:58:35.414Z"
      },
      {
        "duration": 3269,
        "start_time": "2023-04-17T18:58:37.288Z"
      },
      {
        "duration": 527,
        "start_time": "2023-04-17T18:58:40.559Z"
      },
      {
        "duration": 113,
        "start_time": "2023-04-17T18:58:42.225Z"
      },
      {
        "duration": 10,
        "start_time": "2023-04-17T18:58:43.602Z"
      },
      {
        "duration": 157,
        "start_time": "2023-04-17T18:58:52.161Z"
      },
      {
        "duration": 6,
        "start_time": "2023-04-17T18:58:57.002Z"
      },
      {
        "duration": 7,
        "start_time": "2023-04-17T18:59:00.500Z"
      },
      {
        "duration": 7,
        "start_time": "2023-04-17T18:59:02.807Z"
      },
      {
        "duration": 6,
        "start_time": "2023-04-17T18:59:06.551Z"
      },
      {
        "duration": 6,
        "start_time": "2023-04-17T18:59:07.403Z"
      },
      {
        "duration": 13,
        "start_time": "2023-04-17T18:59:09.160Z"
      },
      {
        "duration": 1042,
        "start_time": "2023-04-18T12:17:19.279Z"
      },
      {
        "duration": 165,
        "start_time": "2023-04-18T12:17:20.322Z"
      },
      {
        "duration": 12,
        "start_time": "2023-04-18T12:17:20.752Z"
      },
      {
        "duration": 4,
        "start_time": "2023-04-18T12:17:21.656Z"
      },
      {
        "duration": 22,
        "start_time": "2023-04-18T12:17:22.237Z"
      },
      {
        "duration": 35,
        "start_time": "2023-04-18T12:17:23.014Z"
      },
      {
        "duration": 14,
        "start_time": "2023-04-18T12:17:26.186Z"
      },
      {
        "duration": 14,
        "start_time": "2023-04-18T12:17:33.183Z"
      },
      {
        "duration": 15,
        "start_time": "2023-04-18T12:17:37.683Z"
      },
      {
        "duration": 11,
        "start_time": "2023-04-18T12:17:39.906Z"
      },
      {
        "duration": 10,
        "start_time": "2023-04-18T12:18:45.825Z"
      },
      {
        "duration": 6,
        "start_time": "2023-04-18T12:19:19.076Z"
      },
      {
        "duration": 8,
        "start_time": "2023-04-18T12:19:19.876Z"
      },
      {
        "duration": 18,
        "start_time": "2023-04-18T12:19:23.164Z"
      },
      {
        "duration": 87,
        "start_time": "2023-04-18T12:20:50.614Z"
      },
      {
        "duration": 1195,
        "start_time": "2023-04-18T12:20:59.875Z"
      },
      {
        "duration": 1154,
        "start_time": "2023-04-18T12:21:08.136Z"
      },
      {
        "duration": 4,
        "start_time": "2023-04-18T12:21:20.677Z"
      },
      {
        "duration": 46,
        "start_time": "2023-04-18T12:21:22.016Z"
      },
      {
        "duration": 7,
        "start_time": "2023-04-18T12:21:22.711Z"
      },
      {
        "duration": 3,
        "start_time": "2023-04-18T12:21:23.277Z"
      },
      {
        "duration": 14,
        "start_time": "2023-04-18T12:21:23.950Z"
      },
      {
        "duration": 20,
        "start_time": "2023-04-18T12:21:24.431Z"
      },
      {
        "duration": 14,
        "start_time": "2023-04-18T12:21:25.723Z"
      },
      {
        "duration": 13,
        "start_time": "2023-04-18T12:21:27.142Z"
      },
      {
        "duration": 17,
        "start_time": "2023-04-18T12:21:28.851Z"
      },
      {
        "duration": 11,
        "start_time": "2023-04-18T12:21:29.464Z"
      },
      {
        "duration": 4,
        "start_time": "2023-04-18T12:21:30.452Z"
      },
      {
        "duration": 1281,
        "start_time": "2023-04-18T12:21:47.921Z"
      },
      {
        "duration": 3,
        "start_time": "2023-04-18T12:21:57.264Z"
      },
      {
        "duration": 53,
        "start_time": "2023-04-18T12:21:58.527Z"
      },
      {
        "duration": 7,
        "start_time": "2023-04-18T12:21:59.215Z"
      },
      {
        "duration": 3,
        "start_time": "2023-04-18T12:21:59.829Z"
      },
      {
        "duration": 14,
        "start_time": "2023-04-18T12:22:00.519Z"
      },
      {
        "duration": 19,
        "start_time": "2023-04-18T12:22:01.160Z"
      },
      {
        "duration": 12,
        "start_time": "2023-04-18T12:22:03.960Z"
      },
      {
        "duration": 17,
        "start_time": "2023-04-18T12:22:06.179Z"
      },
      {
        "duration": 21,
        "start_time": "2023-04-18T12:22:14.011Z"
      },
      {
        "duration": 17,
        "start_time": "2023-04-18T12:22:16.067Z"
      },
      {
        "duration": 11,
        "start_time": "2023-04-18T12:22:17.168Z"
      },
      {
        "duration": 1135,
        "start_time": "2023-04-18T12:22:36.453Z"
      },
      {
        "duration": 0,
        "start_time": "2023-04-18T12:22:37.589Z"
      },
      {
        "duration": 4,
        "start_time": "2023-04-18T12:22:55.285Z"
      },
      {
        "duration": 44,
        "start_time": "2023-04-18T12:22:56.369Z"
      },
      {
        "duration": 6,
        "start_time": "2023-04-18T12:22:57.026Z"
      },
      {
        "duration": 3,
        "start_time": "2023-04-18T12:22:57.453Z"
      },
      {
        "duration": 12,
        "start_time": "2023-04-18T12:22:57.925Z"
      },
      {
        "duration": 19,
        "start_time": "2023-04-18T12:22:58.380Z"
      },
      {
        "duration": 14,
        "start_time": "2023-04-18T12:22:59.120Z"
      },
      {
        "duration": 13,
        "start_time": "2023-04-18T12:22:59.946Z"
      },
      {
        "duration": 15,
        "start_time": "2023-04-18T12:23:00.906Z"
      },
      {
        "duration": 11,
        "start_time": "2023-04-18T12:23:01.441Z"
      },
      {
        "duration": 8,
        "start_time": "2023-04-18T12:23:02.618Z"
      },
      {
        "duration": 6,
        "start_time": "2023-04-18T12:23:04.627Z"
      },
      {
        "duration": 7,
        "start_time": "2023-04-18T12:23:08.215Z"
      },
      {
        "duration": 12,
        "start_time": "2023-04-18T12:23:12.436Z"
      },
      {
        "duration": 1107,
        "start_time": "2023-04-21T18:47:39.147Z"
      },
      {
        "duration": 84,
        "start_time": "2023-04-21T18:47:41.570Z"
      },
      {
        "duration": 11,
        "start_time": "2023-04-21T18:47:43.707Z"
      },
      {
        "duration": 4,
        "start_time": "2023-04-21T18:47:45.024Z"
      },
      {
        "duration": 16,
        "start_time": "2023-04-21T18:47:46.742Z"
      },
      {
        "duration": 4,
        "start_time": "2023-04-21T18:48:19.835Z"
      },
      {
        "duration": 13,
        "start_time": "2023-04-21T18:49:14.443Z"
      },
      {
        "duration": 4,
        "start_time": "2023-04-21T18:49:23.309Z"
      },
      {
        "duration": 46,
        "start_time": "2023-04-21T18:49:24.716Z"
      },
      {
        "duration": 8,
        "start_time": "2023-04-21T18:49:26.073Z"
      },
      {
        "duration": 4,
        "start_time": "2023-04-21T18:49:27.899Z"
      },
      {
        "duration": 12,
        "start_time": "2023-04-21T18:49:29.112Z"
      },
      {
        "duration": 12,
        "start_time": "2023-04-21T18:49:49.755Z"
      },
      {
        "duration": 13,
        "start_time": "2023-04-21T18:49:59.061Z"
      },
      {
        "duration": 10,
        "start_time": "2023-04-21T18:54:55.879Z"
      },
      {
        "duration": 10,
        "start_time": "2023-04-21T18:55:03.701Z"
      },
      {
        "duration": 14,
        "start_time": "2023-04-21T18:55:15.072Z"
      },
      {
        "duration": 7,
        "start_time": "2023-04-21T18:55:22.440Z"
      },
      {
        "duration": 7,
        "start_time": "2023-04-21T18:56:25.000Z"
      },
      {
        "duration": 7,
        "start_time": "2023-04-21T18:56:25.615Z"
      },
      {
        "duration": 10,
        "start_time": "2023-04-21T18:56:38.408Z"
      },
      {
        "duration": 4,
        "start_time": "2023-04-21T18:57:38.810Z"
      },
      {
        "duration": 48,
        "start_time": "2023-04-21T18:57:39.842Z"
      },
      {
        "duration": 7,
        "start_time": "2023-04-21T18:57:42.976Z"
      },
      {
        "duration": 3,
        "start_time": "2023-04-21T18:57:44.617Z"
      },
      {
        "duration": 11,
        "start_time": "2023-04-21T18:57:46.162Z"
      },
      {
        "duration": 18,
        "start_time": "2023-04-21T18:58:00.026Z"
      },
      {
        "duration": 6,
        "start_time": "2023-04-21T18:58:04.135Z"
      },
      {
        "duration": 8,
        "start_time": "2023-04-21T18:58:55.021Z"
      },
      {
        "duration": 6,
        "start_time": "2023-04-21T18:58:56.050Z"
      },
      {
        "duration": 11,
        "start_time": "2023-04-21T18:59:02.312Z"
      },
      {
        "duration": 12,
        "start_time": "2023-04-21T18:59:08.240Z"
      },
      {
        "duration": 20,
        "start_time": "2023-04-21T18:59:15.970Z"
      },
      {
        "duration": 59,
        "start_time": "2023-04-21T19:39:26.804Z"
      },
      {
        "duration": 16,
        "start_time": "2023-04-21T19:39:26.865Z"
      },
      {
        "duration": 22,
        "start_time": "2023-04-21T19:39:26.886Z"
      },
      {
        "duration": 23,
        "start_time": "2023-04-21T19:39:26.909Z"
      },
      {
        "duration": 16,
        "start_time": "2023-04-21T19:39:26.933Z"
      },
      {
        "duration": 3,
        "start_time": "2023-04-21T19:39:45.250Z"
      },
      {
        "duration": 62,
        "start_time": "2023-04-21T19:39:48.038Z"
      },
      {
        "duration": 6,
        "start_time": "2023-04-21T19:39:48.831Z"
      },
      {
        "duration": 4,
        "start_time": "2023-04-21T19:39:49.335Z"
      },
      {
        "duration": 12,
        "start_time": "2023-04-21T19:39:50.003Z"
      },
      {
        "duration": 7,
        "start_time": "2023-04-21T19:39:51.431Z"
      },
      {
        "duration": 6,
        "start_time": "2023-04-21T19:39:51.903Z"
      },
      {
        "duration": 11,
        "start_time": "2023-04-21T19:39:52.698Z"
      },
      {
        "duration": 13,
        "start_time": "2023-04-21T19:39:54.537Z"
      },
      {
        "duration": 15,
        "start_time": "2023-04-21T19:39:58.663Z"
      },
      {
        "duration": 4,
        "start_time": "2023-04-21T19:43:06.954Z"
      },
      {
        "duration": 44,
        "start_time": "2023-04-21T19:43:08.113Z"
      },
      {
        "duration": 6,
        "start_time": "2023-04-21T19:43:08.914Z"
      },
      {
        "duration": 4,
        "start_time": "2023-04-21T19:43:09.657Z"
      },
      {
        "duration": 14,
        "start_time": "2023-04-21T19:43:11.155Z"
      },
      {
        "duration": 7,
        "start_time": "2023-04-21T19:43:13.937Z"
      },
      {
        "duration": 7,
        "start_time": "2023-04-21T19:43:15.041Z"
      },
      {
        "duration": 11,
        "start_time": "2023-04-21T19:43:16.600Z"
      },
      {
        "duration": 17,
        "start_time": "2023-04-21T19:43:40.706Z"
      },
      {
        "duration": 12,
        "start_time": "2023-04-21T19:43:58.618Z"
      },
      {
        "duration": 17,
        "start_time": "2023-04-21T19:56:49.905Z"
      },
      {
        "duration": 17,
        "start_time": "2023-04-21T19:57:11.064Z"
      },
      {
        "duration": 17,
        "start_time": "2023-04-21T19:57:37.240Z"
      },
      {
        "duration": 17,
        "start_time": "2023-04-21T19:59:12.434Z"
      },
      {
        "duration": 7,
        "start_time": "2023-04-21T19:59:29.114Z"
      },
      {
        "duration": 24,
        "start_time": "2023-04-21T20:00:08.687Z"
      },
      {
        "duration": 8,
        "start_time": "2023-04-21T20:00:17.618Z"
      },
      {
        "duration": 155,
        "start_time": "2023-04-21T20:00:21.594Z"
      },
      {
        "duration": 5,
        "start_time": "2023-04-21T20:00:28.050Z"
      },
      {
        "duration": 58,
        "start_time": "2023-04-21T20:00:29.412Z"
      },
      {
        "duration": 8,
        "start_time": "2023-04-21T20:00:30.222Z"
      },
      {
        "duration": 4,
        "start_time": "2023-04-21T20:00:31.026Z"
      },
      {
        "duration": 12,
        "start_time": "2023-04-21T20:00:31.651Z"
      },
      {
        "duration": 8,
        "start_time": "2023-04-21T20:00:32.826Z"
      },
      {
        "duration": 7,
        "start_time": "2023-04-21T20:00:33.326Z"
      },
      {
        "duration": 21,
        "start_time": "2023-04-21T20:00:34.006Z"
      },
      {
        "duration": 16,
        "start_time": "2023-04-21T20:00:36.831Z"
      },
      {
        "duration": 16,
        "start_time": "2023-04-21T20:00:41.339Z"
      },
      {
        "duration": 17,
        "start_time": "2023-04-21T20:00:48.394Z"
      },
      {
        "duration": 9,
        "start_time": "2023-04-21T20:01:57.803Z"
      },
      {
        "duration": 8,
        "start_time": "2023-04-21T20:03:55.118Z"
      },
      {
        "duration": 11,
        "start_time": "2023-04-21T20:03:56.211Z"
      },
      {
        "duration": 24,
        "start_time": "2023-04-21T20:08:56.927Z"
      },
      {
        "duration": 29,
        "start_time": "2023-04-21T20:10:33.702Z"
      },
      {
        "duration": 13,
        "start_time": "2023-04-21T20:10:48.300Z"
      },
      {
        "duration": 18,
        "start_time": "2023-04-21T20:10:50.303Z"
      },
      {
        "duration": 36,
        "start_time": "2023-04-21T20:10:51.700Z"
      },
      {
        "duration": 39,
        "start_time": "2023-04-21T20:11:18.897Z"
      },
      {
        "duration": 36,
        "start_time": "2023-04-21T20:11:53.857Z"
      },
      {
        "duration": 27,
        "start_time": "2023-04-21T20:12:15.554Z"
      },
      {
        "duration": 26,
        "start_time": "2023-04-21T20:12:19.599Z"
      },
      {
        "duration": 19,
        "start_time": "2023-04-21T20:14:16.998Z"
      },
      {
        "duration": 21,
        "start_time": "2023-04-21T20:14:20.511Z"
      },
      {
        "duration": 4,
        "start_time": "2023-04-21T20:16:43.243Z"
      },
      {
        "duration": 8,
        "start_time": "2023-04-21T20:16:44.497Z"
      },
      {
        "duration": 8,
        "start_time": "2023-04-21T20:16:45.706Z"
      },
      {
        "duration": 5,
        "start_time": "2023-04-21T20:17:05.035Z"
      },
      {
        "duration": 104,
        "start_time": "2023-04-21T20:21:56.669Z"
      },
      {
        "duration": 46,
        "start_time": "2023-04-21T20:22:17.120Z"
      },
      {
        "duration": 42,
        "start_time": "2023-04-21T20:22:24.425Z"
      },
      {
        "duration": 54,
        "start_time": "2023-04-21T20:22:32.090Z"
      },
      {
        "duration": 3200,
        "start_time": "2023-04-21T20:23:07.269Z"
      },
      {
        "duration": 87,
        "start_time": "2023-04-21T20:24:22.926Z"
      },
      {
        "duration": 97,
        "start_time": "2023-04-21T20:24:38.452Z"
      },
      {
        "duration": 181,
        "start_time": "2023-04-21T20:24:51.365Z"
      },
      {
        "duration": 1013,
        "start_time": "2023-04-21T20:25:09.270Z"
      },
      {
        "duration": 57,
        "start_time": "2023-04-21T20:26:08.586Z"
      },
      {
        "duration": 129,
        "start_time": "2023-04-21T20:27:08.135Z"
      },
      {
        "duration": 783,
        "start_time": "2023-04-21T20:27:46.790Z"
      },
      {
        "duration": 3456,
        "start_time": "2023-04-21T20:28:19.815Z"
      },
      {
        "duration": 2093,
        "start_time": "2023-04-21T20:28:30.811Z"
      },
      {
        "duration": 531,
        "start_time": "2023-04-21T20:30:20.554Z"
      },
      {
        "duration": 20,
        "start_time": "2023-04-21T20:33:19.521Z"
      },
      {
        "duration": 8,
        "start_time": "2023-04-21T20:33:36.628Z"
      },
      {
        "duration": 137,
        "start_time": "2023-04-21T20:33:42.895Z"
      },
      {
        "duration": 126,
        "start_time": "2023-04-21T20:33:54.698Z"
      },
      {
        "duration": 9,
        "start_time": "2023-04-21T20:34:41.767Z"
      },
      {
        "duration": 8,
        "start_time": "2023-04-21T20:39:31.071Z"
      },
      {
        "duration": 6,
        "start_time": "2023-04-21T20:39:37.811Z"
      },
      {
        "duration": 7,
        "start_time": "2023-04-21T20:39:41.198Z"
      },
      {
        "duration": 6,
        "start_time": "2023-04-21T20:39:44.137Z"
      },
      {
        "duration": 4,
        "start_time": "2023-04-21T20:41:47.449Z"
      },
      {
        "duration": 4,
        "start_time": "2023-04-21T20:42:02.265Z"
      },
      {
        "duration": 8,
        "start_time": "2023-04-21T20:42:02.833Z"
      },
      {
        "duration": 4,
        "start_time": "2023-04-21T20:43:35.858Z"
      },
      {
        "duration": 8,
        "start_time": "2023-04-21T20:43:38.812Z"
      },
      {
        "duration": 91,
        "start_time": "2023-04-21T20:44:01.041Z"
      },
      {
        "duration": 65,
        "start_time": "2023-04-21T20:44:09.311Z"
      },
      {
        "duration": 8,
        "start_time": "2023-04-21T20:44:31.636Z"
      },
      {
        "duration": 39,
        "start_time": "2023-04-21T20:44:46.939Z"
      },
      {
        "duration": 9,
        "start_time": "2023-04-21T20:44:50.627Z"
      },
      {
        "duration": 6,
        "start_time": "2023-04-21T20:45:16.398Z"
      },
      {
        "duration": 14,
        "start_time": "2023-04-21T20:45:18.306Z"
      },
      {
        "duration": 11,
        "start_time": "2023-04-21T20:45:19.116Z"
      },
      {
        "duration": 15,
        "start_time": "2023-04-21T20:45:25.705Z"
      },
      {
        "duration": 8,
        "start_time": "2023-04-21T20:45:28.140Z"
      },
      {
        "duration": 35,
        "start_time": "2023-04-21T20:45:31.318Z"
      },
      {
        "duration": 16,
        "start_time": "2023-04-21T20:45:42.090Z"
      },
      {
        "duration": 5,
        "start_time": "2023-04-21T20:45:44.539Z"
      },
      {
        "duration": 11,
        "start_time": "2023-04-21T20:45:50.190Z"
      },
      {
        "duration": 29,
        "start_time": "2023-04-21T20:48:15.800Z"
      },
      {
        "duration": 15,
        "start_time": "2023-04-21T20:50:23.385Z"
      },
      {
        "duration": 28,
        "start_time": "2023-04-21T20:50:46.055Z"
      },
      {
        "duration": 21,
        "start_time": "2023-04-21T20:51:18.287Z"
      },
      {
        "duration": 128,
        "start_time": "2023-04-21T20:51:28.647Z"
      },
      {
        "duration": 15,
        "start_time": "2023-04-21T20:57:32.498Z"
      },
      {
        "duration": 17,
        "start_time": "2023-04-21T20:58:03.124Z"
      },
      {
        "duration": 31,
        "start_time": "2023-04-21T20:58:30.460Z"
      },
      {
        "duration": 39,
        "start_time": "2023-04-21T20:58:59.197Z"
      },
      {
        "duration": 12,
        "start_time": "2023-04-21T20:59:19.774Z"
      },
      {
        "duration": 61,
        "start_time": "2023-04-21T20:59:31.715Z"
      },
      {
        "duration": 133,
        "start_time": "2023-04-21T21:00:04.259Z"
      },
      {
        "duration": 7,
        "start_time": "2023-04-21T21:00:07.800Z"
      },
      {
        "duration": 25,
        "start_time": "2023-04-21T21:00:20.411Z"
      },
      {
        "duration": 8,
        "start_time": "2023-04-21T21:00:22.036Z"
      },
      {
        "duration": 12,
        "start_time": "2023-04-21T21:01:04.165Z"
      },
      {
        "duration": 3,
        "start_time": "2023-04-21T21:01:27.805Z"
      },
      {
        "duration": 9,
        "start_time": "2023-04-21T21:01:28.725Z"
      },
      {
        "duration": 171,
        "start_time": "2023-04-21T21:01:35.001Z"
      },
      {
        "duration": 9,
        "start_time": "2023-04-21T21:01:36.245Z"
      },
      {
        "duration": 38,
        "start_time": "2023-04-21T21:01:47.453Z"
      },
      {
        "duration": 7,
        "start_time": "2023-04-21T21:01:49.117Z"
      },
      {
        "duration": 30,
        "start_time": "2023-04-21T21:01:52.421Z"
      },
      {
        "duration": 7,
        "start_time": "2023-04-21T21:01:53.802Z"
      },
      {
        "duration": 47,
        "start_time": "2023-04-21T21:03:51.431Z"
      },
      {
        "duration": 6,
        "start_time": "2023-04-21T21:04:16.983Z"
      },
      {
        "duration": 234,
        "start_time": "2023-04-21T21:04:22.759Z"
      },
      {
        "duration": 47,
        "start_time": "2023-04-21T21:07:08.699Z"
      },
      {
        "duration": 189,
        "start_time": "2023-04-21T21:13:26.605Z"
      },
      {
        "duration": 9,
        "start_time": "2023-04-21T21:13:29.573Z"
      },
      {
        "duration": 3,
        "start_time": "2023-04-21T21:14:13.556Z"
      },
      {
        "duration": 110,
        "start_time": "2023-04-21T21:14:20.878Z"
      },
      {
        "duration": 804,
        "start_time": "2023-04-21T21:15:16.854Z"
      },
      {
        "duration": 74,
        "start_time": "2023-04-21T21:15:42.399Z"
      },
      {
        "duration": 16,
        "start_time": "2023-04-21T21:17:29.328Z"
      },
      {
        "duration": 4,
        "start_time": "2023-04-21T21:17:36.840Z"
      },
      {
        "duration": 48,
        "start_time": "2023-04-21T21:17:38.079Z"
      },
      {
        "duration": 7,
        "start_time": "2023-04-21T21:17:38.959Z"
      },
      {
        "duration": 3,
        "start_time": "2023-04-21T21:17:39.688Z"
      },
      {
        "duration": 11,
        "start_time": "2023-04-21T21:17:40.336Z"
      },
      {
        "duration": 7,
        "start_time": "2023-04-21T21:17:41.567Z"
      },
      {
        "duration": 7,
        "start_time": "2023-04-21T21:17:42.144Z"
      },
      {
        "duration": 11,
        "start_time": "2023-04-21T21:17:42.710Z"
      },
      {
        "duration": 13,
        "start_time": "2023-04-21T21:17:43.831Z"
      },
      {
        "duration": 12,
        "start_time": "2023-04-21T21:17:44.808Z"
      },
      {
        "duration": 7,
        "start_time": "2023-04-21T21:17:45.800Z"
      },
      {
        "duration": 7,
        "start_time": "2023-04-21T21:17:46.382Z"
      },
      {
        "duration": 19,
        "start_time": "2023-04-21T21:17:47.152Z"
      },
      {
        "duration": 14,
        "start_time": "2023-04-21T21:17:48.087Z"
      },
      {
        "duration": 11,
        "start_time": "2023-04-21T21:17:48.536Z"
      },
      {
        "duration": 5,
        "start_time": "2023-04-21T21:17:50.663Z"
      },
      {
        "duration": 5,
        "start_time": "2023-04-21T21:17:51.127Z"
      },
      {
        "duration": 6,
        "start_time": "2023-04-21T21:17:51.560Z"
      },
      {
        "duration": 5,
        "start_time": "2023-04-21T21:17:52.535Z"
      },
      {
        "duration": 621,
        "start_time": "2023-04-21T21:17:53.664Z"
      },
      {
        "duration": 2760,
        "start_time": "2023-04-21T21:17:55.704Z"
      },
      {
        "duration": 210,
        "start_time": "2023-04-21T21:17:58.466Z"
      },
      {
        "duration": 299,
        "start_time": "2023-04-21T21:17:58.677Z"
      },
      {
        "duration": 4,
        "start_time": "2023-04-21T21:17:58.978Z"
      },
      {
        "duration": 4,
        "start_time": "2023-04-21T21:18:04.136Z"
      },
      {
        "duration": 3,
        "start_time": "2023-04-21T21:18:05.431Z"
      },
      {
        "duration": 8,
        "start_time": "2023-04-21T21:18:05.919Z"
      },
      {
        "duration": 62,
        "start_time": "2023-04-21T21:18:08.135Z"
      },
      {
        "duration": 8,
        "start_time": "2023-04-21T21:18:12.488Z"
      },
      {
        "duration": 18,
        "start_time": "2023-04-21T21:18:16.416Z"
      },
      {
        "duration": 7,
        "start_time": "2023-04-21T21:18:18.104Z"
      },
      {
        "duration": 24,
        "start_time": "2023-04-21T21:18:19.264Z"
      },
      {
        "duration": 8,
        "start_time": "2023-04-21T21:18:21.184Z"
      },
      {
        "duration": 217,
        "start_time": "2023-04-21T21:18:26.961Z"
      },
      {
        "duration": 10,
        "start_time": "2023-04-21T21:18:36.074Z"
      },
      {
        "duration": 4,
        "start_time": "2023-04-21T21:18:58.440Z"
      },
      {
        "duration": 107,
        "start_time": "2023-04-21T21:19:06.631Z"
      },
      {
        "duration": 49,
        "start_time": "2023-04-21T21:19:52.961Z"
      },
      {
        "duration": 78,
        "start_time": "2023-04-21T21:23:09.395Z"
      },
      {
        "duration": 4,
        "start_time": "2023-04-21T21:23:27.603Z"
      },
      {
        "duration": 80,
        "start_time": "2023-04-21T21:23:33.492Z"
      },
      {
        "duration": 8,
        "start_time": "2023-04-21T21:23:49.612Z"
      },
      {
        "duration": 66,
        "start_time": "2023-04-21T21:25:02.373Z"
      },
      {
        "duration": 120,
        "start_time": "2023-04-21T21:25:23.052Z"
      },
      {
        "duration": 24,
        "start_time": "2023-04-21T21:28:45.669Z"
      },
      {
        "duration": 69,
        "start_time": "2023-04-21T21:31:34.216Z"
      },
      {
        "duration": 23,
        "start_time": "2023-04-21T21:32:57.224Z"
      },
      {
        "duration": 33,
        "start_time": "2023-04-21T21:34:09.792Z"
      },
      {
        "duration": 23,
        "start_time": "2023-04-21T21:34:44.809Z"
      },
      {
        "duration": 4,
        "start_time": "2023-04-21T21:39:04.067Z"
      },
      {
        "duration": 4,
        "start_time": "2023-04-21T21:39:10.651Z"
      },
      {
        "duration": 4,
        "start_time": "2023-04-21T21:39:21.615Z"
      },
      {
        "duration": 46,
        "start_time": "2023-04-21T21:39:22.483Z"
      },
      {
        "duration": 6,
        "start_time": "2023-04-21T21:39:22.844Z"
      },
      {
        "duration": 4,
        "start_time": "2023-04-21T21:39:23.284Z"
      },
      {
        "duration": 14,
        "start_time": "2023-04-21T21:39:23.852Z"
      },
      {
        "duration": 7,
        "start_time": "2023-04-21T21:39:24.635Z"
      },
      {
        "duration": 7,
        "start_time": "2023-04-21T21:39:25.131Z"
      },
      {
        "duration": 11,
        "start_time": "2023-04-21T21:39:25.607Z"
      },
      {
        "duration": 12,
        "start_time": "2023-04-21T21:39:26.595Z"
      },
      {
        "duration": 12,
        "start_time": "2023-04-21T21:39:27.957Z"
      },
      {
        "duration": 7,
        "start_time": "2023-04-21T21:39:29.491Z"
      },
      {
        "duration": 7,
        "start_time": "2023-04-21T21:39:29.956Z"
      },
      {
        "duration": 17,
        "start_time": "2023-04-21T21:39:30.509Z"
      },
      {
        "duration": 13,
        "start_time": "2023-04-21T21:39:32.107Z"
      },
      {
        "duration": 10,
        "start_time": "2023-04-21T21:39:32.756Z"
      },
      {
        "duration": 4,
        "start_time": "2023-04-21T21:39:35.299Z"
      },
      {
        "duration": 5,
        "start_time": "2023-04-21T21:39:35.659Z"
      },
      {
        "duration": 7,
        "start_time": "2023-04-21T21:39:36.108Z"
      },
      {
        "duration": 4,
        "start_time": "2023-04-21T21:39:37.227Z"
      },
      {
        "duration": 4,
        "start_time": "2023-04-21T21:39:39.228Z"
      },
      {
        "duration": 108,
        "start_time": "2023-04-21T21:39:57.180Z"
      },
      {
        "duration": 4,
        "start_time": "2023-04-21T21:40:41.236Z"
      },
      {
        "duration": 117,
        "start_time": "2023-04-21T21:40:45.156Z"
      },
      {
        "duration": 4,
        "start_time": "2023-04-21T21:41:00.415Z"
      },
      {
        "duration": 101,
        "start_time": "2023-04-21T21:41:02.540Z"
      },
      {
        "duration": 115,
        "start_time": "2023-04-21T21:41:19.261Z"
      },
      {
        "duration": 116,
        "start_time": "2023-04-21T21:41:42.205Z"
      },
      {
        "duration": 5,
        "start_time": "2023-04-21T21:42:04.717Z"
      },
      {
        "duration": 3,
        "start_time": "2023-04-21T21:42:05.989Z"
      },
      {
        "duration": 4,
        "start_time": "2023-04-21T21:42:12.836Z"
      },
      {
        "duration": 103,
        "start_time": "2023-04-21T21:42:13.428Z"
      },
      {
        "duration": 5,
        "start_time": "2023-04-21T21:43:42.894Z"
      },
      {
        "duration": 105,
        "start_time": "2023-04-21T21:43:44.573Z"
      },
      {
        "duration": 4,
        "start_time": "2023-04-21T21:44:29.430Z"
      },
      {
        "duration": 111,
        "start_time": "2023-04-21T21:44:30.277Z"
      },
      {
        "duration": 116,
        "start_time": "2023-04-21T21:45:07.541Z"
      },
      {
        "duration": 4,
        "start_time": "2023-04-21T21:45:11.494Z"
      },
      {
        "duration": 86,
        "start_time": "2023-04-21T21:46:17.582Z"
      },
      {
        "duration": 4,
        "start_time": "2023-04-21T21:46:51.982Z"
      },
      {
        "duration": 4,
        "start_time": "2023-04-21T21:48:27.271Z"
      },
      {
        "duration": 688,
        "start_time": "2023-04-21T21:48:34.726Z"
      },
      {
        "duration": 4,
        "start_time": "2023-04-21T21:49:05.575Z"
      },
      {
        "duration": 45,
        "start_time": "2023-04-21T21:49:06.567Z"
      },
      {
        "duration": 7,
        "start_time": "2023-04-21T21:49:07.095Z"
      },
      {
        "duration": 4,
        "start_time": "2023-04-21T21:49:07.686Z"
      },
      {
        "duration": 13,
        "start_time": "2023-04-21T21:49:08.262Z"
      },
      {
        "duration": 6,
        "start_time": "2023-04-21T21:49:09.399Z"
      },
      {
        "duration": 7,
        "start_time": "2023-04-21T21:49:09.871Z"
      },
      {
        "duration": 11,
        "start_time": "2023-04-21T21:49:10.543Z"
      },
      {
        "duration": 11,
        "start_time": "2023-04-21T21:49:11.583Z"
      },
      {
        "duration": 12,
        "start_time": "2023-04-21T21:49:12.672Z"
      },
      {
        "duration": 7,
        "start_time": "2023-04-21T21:49:14.239Z"
      },
      {
        "duration": 7,
        "start_time": "2023-04-21T21:49:14.752Z"
      },
      {
        "duration": 18,
        "start_time": "2023-04-21T21:49:15.609Z"
      },
      {
        "duration": 13,
        "start_time": "2023-04-21T21:49:16.800Z"
      },
      {
        "duration": 11,
        "start_time": "2023-04-21T21:49:17.367Z"
      },
      {
        "duration": 4,
        "start_time": "2023-04-21T21:49:19.479Z"
      },
      {
        "duration": 6,
        "start_time": "2023-04-21T21:49:19.950Z"
      },
      {
        "duration": 5,
        "start_time": "2023-04-21T21:49:20.455Z"
      },
      {
        "duration": 5,
        "start_time": "2023-04-21T21:49:21.343Z"
      },
      {
        "duration": 4,
        "start_time": "2023-04-21T21:49:26.869Z"
      },
      {
        "duration": 148,
        "start_time": "2023-04-21T21:49:27.630Z"
      },
      {
        "duration": 114,
        "start_time": "2023-04-21T21:49:29.855Z"
      },
      {
        "duration": 5,
        "start_time": "2023-04-21T21:49:30.863Z"
      },
      {
        "duration": 4,
        "start_time": "2023-04-21T21:49:31.519Z"
      },
      {
        "duration": 714,
        "start_time": "2023-04-21T21:49:32.359Z"
      },
      {
        "duration": 4,
        "start_time": "2023-04-21T21:49:54.519Z"
      },
      {
        "duration": 746,
        "start_time": "2023-04-21T21:49:56.127Z"
      },
      {
        "duration": 4,
        "start_time": "2023-04-21T21:50:23.232Z"
      },
      {
        "duration": 159,
        "start_time": "2023-04-21T21:50:24.071Z"
      },
      {
        "duration": 115,
        "start_time": "2023-04-21T21:50:42.785Z"
      },
      {
        "duration": 5,
        "start_time": "2023-04-21T21:51:38.416Z"
      },
      {
        "duration": 4,
        "start_time": "2023-04-21T21:51:38.936Z"
      },
      {
        "duration": 178,
        "start_time": "2023-04-21T21:51:39.440Z"
      },
      {
        "duration": 6,
        "start_time": "2023-04-21T21:51:42.552Z"
      },
      {
        "duration": 3,
        "start_time": "2023-04-21T21:52:03.856Z"
      },
      {
        "duration": 7,
        "start_time": "2023-04-21T21:52:04.632Z"
      },
      {
        "duration": 178,
        "start_time": "2023-04-21T21:54:33.283Z"
      },
      {
        "duration": 270,
        "start_time": "2023-04-21T21:55:03.555Z"
      },
      {
        "duration": 4,
        "start_time": "2023-04-21T21:55:09.898Z"
      },
      {
        "duration": 4,
        "start_time": "2023-04-21T21:55:13.562Z"
      },
      {
        "duration": 156,
        "start_time": "2023-04-21T21:55:13.922Z"
      },
      {
        "duration": 195,
        "start_time": "2023-04-21T21:55:23.378Z"
      },
      {
        "duration": 5,
        "start_time": "2023-04-21T21:56:03.162Z"
      },
      {
        "duration": 40,
        "start_time": "2023-04-21T21:56:45.059Z"
      },
      {
        "duration": 108,
        "start_time": "2023-04-21T21:57:03.523Z"
      },
      {
        "duration": 32,
        "start_time": "2023-04-21T21:57:07.779Z"
      },
      {
        "duration": 103,
        "start_time": "2023-04-21T21:57:13.267Z"
      },
      {
        "duration": 39,
        "start_time": "2023-04-21T21:58:16.787Z"
      },
      {
        "duration": 120,
        "start_time": "2023-04-21T21:58:17.436Z"
      },
      {
        "duration": 9,
        "start_time": "2023-04-21T21:58:18.259Z"
      },
      {
        "duration": 17,
        "start_time": "2023-04-21T21:58:35.116Z"
      },
      {
        "duration": 41,
        "start_time": "2023-04-21T21:59:52.461Z"
      },
      {
        "duration": 112,
        "start_time": "2023-04-21T21:59:59.973Z"
      },
      {
        "duration": 26,
        "start_time": "2023-04-21T22:00:08.228Z"
      },
      {
        "duration": 36,
        "start_time": "2023-04-21T22:00:44.533Z"
      },
      {
        "duration": 126,
        "start_time": "2023-04-21T22:00:46.717Z"
      },
      {
        "duration": 25,
        "start_time": "2023-04-21T22:00:48.516Z"
      },
      {
        "duration": 35,
        "start_time": "2023-04-21T22:01:01.949Z"
      },
      {
        "duration": 110,
        "start_time": "2023-04-21T22:01:04.357Z"
      },
      {
        "duration": 28,
        "start_time": "2023-04-21T22:01:06.381Z"
      },
      {
        "duration": 34,
        "start_time": "2023-04-21T22:02:51.422Z"
      },
      {
        "duration": 113,
        "start_time": "2023-04-21T22:02:53.270Z"
      },
      {
        "duration": 26,
        "start_time": "2023-04-21T22:02:54.822Z"
      },
      {
        "duration": 3,
        "start_time": "2023-04-21T22:03:07.110Z"
      },
      {
        "duration": 7,
        "start_time": "2023-04-21T22:03:08.040Z"
      },
      {
        "duration": 56,
        "start_time": "2023-04-21T22:03:11.126Z"
      },
      {
        "duration": 8,
        "start_time": "2023-04-21T22:03:14.301Z"
      },
      {
        "duration": 29,
        "start_time": "2023-04-21T22:03:17.533Z"
      },
      {
        "duration": 10,
        "start_time": "2023-04-21T22:03:18.609Z"
      },
      {
        "duration": 24,
        "start_time": "2023-04-21T22:03:19.534Z"
      },
      {
        "duration": 8,
        "start_time": "2023-04-21T22:03:20.398Z"
      },
      {
        "duration": 172,
        "start_time": "2023-04-21T22:03:22.423Z"
      },
      {
        "duration": 108,
        "start_time": "2023-04-21T22:03:23.790Z"
      },
      {
        "duration": 10,
        "start_time": "2023-04-21T22:03:25.093Z"
      },
      {
        "duration": 63,
        "start_time": "2023-04-21T22:03:29.742Z"
      },
      {
        "duration": 96,
        "start_time": "2023-04-21T22:03:32.053Z"
      },
      {
        "duration": 1591,
        "start_time": "2023-04-22T05:44:38.218Z"
      },
      {
        "duration": 185,
        "start_time": "2023-04-22T05:44:49.347Z"
      },
      {
        "duration": 10,
        "start_time": "2023-04-22T05:44:51.388Z"
      },
      {
        "duration": 4,
        "start_time": "2023-04-22T05:44:52.596Z"
      },
      {
        "duration": 18,
        "start_time": "2023-04-22T05:44:53.254Z"
      },
      {
        "duration": 10,
        "start_time": "2023-04-22T05:44:55.196Z"
      },
      {
        "duration": 8,
        "start_time": "2023-04-22T05:47:54.590Z"
      },
      {
        "duration": 7,
        "start_time": "2023-04-22T05:47:55.102Z"
      },
      {
        "duration": 12,
        "start_time": "2023-04-22T05:47:56.310Z"
      },
      {
        "duration": 14,
        "start_time": "2023-04-22T05:47:59.318Z"
      },
      {
        "duration": 15,
        "start_time": "2023-04-22T05:48:00.734Z"
      },
      {
        "duration": 9,
        "start_time": "2023-04-22T05:48:35.124Z"
      },
      {
        "duration": 8,
        "start_time": "2023-04-22T05:48:39.446Z"
      },
      {
        "duration": 1271,
        "start_time": "2023-04-22T05:49:31.999Z"
      },
      {
        "duration": 9,
        "start_time": "2023-04-22T05:49:45.311Z"
      },
      {
        "duration": 11,
        "start_time": "2023-04-22T05:49:55.231Z"
      },
      {
        "duration": 10,
        "start_time": "2023-04-22T05:50:12.888Z"
      },
      {
        "duration": 22,
        "start_time": "2023-04-22T05:51:11.999Z"
      },
      {
        "duration": 23,
        "start_time": "2023-04-22T05:51:22.847Z"
      },
      {
        "duration": 13,
        "start_time": "2023-04-22T05:51:23.432Z"
      },
      {
        "duration": 4,
        "start_time": "2023-04-22T05:51:26.847Z"
      },
      {
        "duration": 6,
        "start_time": "2023-04-22T05:51:27.455Z"
      },
      {
        "duration": 6,
        "start_time": "2023-04-22T05:51:27.943Z"
      },
      {
        "duration": 5,
        "start_time": "2023-04-22T05:51:29.080Z"
      },
      {
        "duration": 4,
        "start_time": "2023-04-22T05:51:30.800Z"
      },
      {
        "duration": 133,
        "start_time": "2023-04-22T05:51:31.480Z"
      },
      {
        "duration": 10,
        "start_time": "2023-04-22T05:52:23.048Z"
      },
      {
        "duration": 21,
        "start_time": "2023-04-22T05:52:26.977Z"
      },
      {
        "duration": 15,
        "start_time": "2023-04-22T05:52:29.057Z"
      },
      {
        "duration": 13,
        "start_time": "2023-04-22T05:52:29.625Z"
      },
      {
        "duration": 5,
        "start_time": "2023-04-22T05:52:32.664Z"
      },
      {
        "duration": 7,
        "start_time": "2023-04-22T05:52:33.288Z"
      },
      {
        "duration": 7,
        "start_time": "2023-04-22T05:52:33.816Z"
      },
      {
        "duration": 4,
        "start_time": "2023-04-22T05:52:35.153Z"
      },
      {
        "duration": 5,
        "start_time": "2023-04-22T05:52:37.320Z"
      },
      {
        "duration": 138,
        "start_time": "2023-04-22T05:52:37.976Z"
      },
      {
        "duration": 158,
        "start_time": "2023-04-22T05:53:16.256Z"
      },
      {
        "duration": 5,
        "start_time": "2023-04-22T05:53:20.056Z"
      },
      {
        "duration": 222,
        "start_time": "2023-04-22T05:53:21.927Z"
      },
      {
        "duration": 296,
        "start_time": "2023-04-22T05:53:46.977Z"
      },
      {
        "duration": 167,
        "start_time": "2023-04-22T06:08:09.291Z"
      },
      {
        "duration": 163,
        "start_time": "2023-04-22T06:08:29.584Z"
      },
      {
        "duration": 263,
        "start_time": "2023-04-22T06:08:35.976Z"
      },
      {
        "duration": 148,
        "start_time": "2023-04-22T06:09:01.113Z"
      },
      {
        "duration": 5,
        "start_time": "2023-04-22T06:09:10.056Z"
      },
      {
        "duration": 216,
        "start_time": "2023-04-22T06:09:13.337Z"
      },
      {
        "duration": 296,
        "start_time": "2023-04-22T06:09:14.472Z"
      },
      {
        "duration": 5,
        "start_time": "2023-04-22T06:14:16.539Z"
      },
      {
        "duration": 184,
        "start_time": "2023-04-22T06:14:18.339Z"
      },
      {
        "duration": 8,
        "start_time": "2023-04-22T06:14:53.916Z"
      },
      {
        "duration": 232,
        "start_time": "2023-04-22T06:14:54.980Z"
      },
      {
        "duration": 5,
        "start_time": "2023-04-22T06:16:23.956Z"
      },
      {
        "duration": 204,
        "start_time": "2023-04-22T06:16:25.108Z"
      },
      {
        "duration": 5,
        "start_time": "2023-04-22T06:16:37.740Z"
      },
      {
        "duration": 6,
        "start_time": "2023-04-22T06:16:40.213Z"
      },
      {
        "duration": 237,
        "start_time": "2023-04-22T06:16:40.676Z"
      },
      {
        "duration": 5,
        "start_time": "2023-04-22T06:17:01.101Z"
      },
      {
        "duration": 183,
        "start_time": "2023-04-22T06:17:03.052Z"
      },
      {
        "duration": 5,
        "start_time": "2023-04-22T06:17:29.134Z"
      },
      {
        "duration": 225,
        "start_time": "2023-04-22T06:17:29.891Z"
      },
      {
        "duration": 5,
        "start_time": "2023-04-22T06:17:54.310Z"
      },
      {
        "duration": 208,
        "start_time": "2023-04-22T06:17:55.205Z"
      },
      {
        "duration": 4,
        "start_time": "2023-04-22T06:18:06.885Z"
      },
      {
        "duration": 252,
        "start_time": "2023-04-22T06:18:07.461Z"
      },
      {
        "duration": 5,
        "start_time": "2023-04-22T06:18:26.229Z"
      },
      {
        "duration": 180,
        "start_time": "2023-04-22T06:18:26.637Z"
      },
      {
        "duration": 6,
        "start_time": "2023-04-22T06:19:00.006Z"
      },
      {
        "duration": 276,
        "start_time": "2023-04-22T06:19:00.637Z"
      },
      {
        "duration": 179,
        "start_time": "2023-04-22T06:24:16.040Z"
      },
      {
        "duration": 40,
        "start_time": "2023-04-22T06:24:23.193Z"
      },
      {
        "duration": 37,
        "start_time": "2023-04-22T06:24:32.633Z"
      },
      {
        "duration": 38,
        "start_time": "2023-04-22T06:24:45.744Z"
      },
      {
        "duration": 134,
        "start_time": "2023-04-22T06:24:46.880Z"
      },
      {
        "duration": 30,
        "start_time": "2023-04-22T06:24:47.568Z"
      },
      {
        "duration": 6,
        "start_time": "2023-04-22T06:36:29.480Z"
      },
      {
        "duration": 174,
        "start_time": "2023-04-22T06:36:30.999Z"
      },
      {
        "duration": 6,
        "start_time": "2023-04-22T06:37:07.502Z"
      },
      {
        "duration": 232,
        "start_time": "2023-04-22T06:37:07.983Z"
      },
      {
        "duration": 6,
        "start_time": "2023-04-22T06:37:20.799Z"
      },
      {
        "duration": 245,
        "start_time": "2023-04-22T06:37:22.669Z"
      },
      {
        "duration": 7,
        "start_time": "2023-04-22T06:38:22.696Z"
      },
      {
        "duration": 224,
        "start_time": "2023-04-22T06:38:23.891Z"
      },
      {
        "duration": 6,
        "start_time": "2023-04-22T06:40:25.937Z"
      },
      {
        "duration": 190,
        "start_time": "2023-04-22T06:40:26.632Z"
      },
      {
        "duration": 6,
        "start_time": "2023-04-22T06:40:34.043Z"
      },
      {
        "duration": 295,
        "start_time": "2023-04-22T06:40:34.216Z"
      },
      {
        "duration": 87,
        "start_time": "2023-04-22T06:45:02.227Z"
      },
      {
        "duration": 4,
        "start_time": "2023-04-22T06:45:29.684Z"
      },
      {
        "duration": 14,
        "start_time": "2023-04-22T06:49:29.070Z"
      },
      {
        "duration": 356,
        "start_time": "2023-04-22T06:49:29.759Z"
      },
      {
        "duration": 258,
        "start_time": "2023-04-22T06:49:42.358Z"
      },
      {
        "duration": 14,
        "start_time": "2023-04-22T06:50:24.894Z"
      },
      {
        "duration": 362,
        "start_time": "2023-04-22T06:50:25.598Z"
      },
      {
        "duration": 279,
        "start_time": "2023-04-22T06:50:27.334Z"
      },
      {
        "duration": 376,
        "start_time": "2023-04-22T06:53:14.744Z"
      },
      {
        "duration": 52,
        "start_time": "2023-04-22T06:53:15.400Z"
      },
      {
        "duration": 340,
        "start_time": "2023-04-22T06:53:36.216Z"
      },
      {
        "duration": 255,
        "start_time": "2023-04-22T06:53:39.968Z"
      },
      {
        "duration": 22,
        "start_time": "2023-04-22T06:53:57.921Z"
      },
      {
        "duration": 244,
        "start_time": "2023-04-22T06:53:58.768Z"
      },
      {
        "duration": 27,
        "start_time": "2023-04-22T06:54:01.464Z"
      },
      {
        "duration": 185,
        "start_time": "2023-04-22T06:54:06.328Z"
      },
      {
        "duration": 221,
        "start_time": "2023-04-22T06:54:14.520Z"
      },
      {
        "duration": 130,
        "start_time": "2023-04-22T06:54:19.863Z"
      },
      {
        "duration": 11,
        "start_time": "2023-04-22T06:54:20.438Z"
      },
      {
        "duration": 89,
        "start_time": "2023-04-22T06:54:23.271Z"
      },
      {
        "duration": 127,
        "start_time": "2023-04-22T06:54:25.176Z"
      },
      {
        "duration": 1643,
        "start_time": "2023-04-22T16:48:56.412Z"
      },
      {
        "duration": 138,
        "start_time": "2023-04-22T16:48:58.228Z"
      },
      {
        "duration": 11,
        "start_time": "2023-04-22T16:48:59.289Z"
      },
      {
        "duration": 3,
        "start_time": "2023-04-22T16:48:59.932Z"
      },
      {
        "duration": 18,
        "start_time": "2023-04-22T16:49:00.869Z"
      },
      {
        "duration": 9,
        "start_time": "2023-04-22T16:49:02.739Z"
      },
      {
        "duration": 5,
        "start_time": "2023-04-22T16:49:03.332Z"
      },
      {
        "duration": 10,
        "start_time": "2023-04-22T16:49:07.051Z"
      },
      {
        "duration": 12,
        "start_time": "2023-04-22T16:49:09.357Z"
      },
      {
        "duration": 14,
        "start_time": "2023-04-22T16:49:12.037Z"
      },
      {
        "duration": 7,
        "start_time": "2023-04-22T16:49:14.343Z"
      },
      {
        "duration": 11,
        "start_time": "2023-04-22T16:49:16.868Z"
      },
      {
        "duration": 22,
        "start_time": "2023-04-22T16:49:18.246Z"
      },
      {
        "duration": 16,
        "start_time": "2023-04-22T16:49:21.522Z"
      },
      {
        "duration": 12,
        "start_time": "2023-04-22T16:49:22.029Z"
      },
      {
        "duration": 5,
        "start_time": "2023-04-22T16:49:26.236Z"
      },
      {
        "duration": 5,
        "start_time": "2023-04-22T16:49:26.788Z"
      },
      {
        "duration": 5,
        "start_time": "2023-04-22T16:49:27.342Z"
      },
      {
        "duration": 4,
        "start_time": "2023-04-22T16:49:28.452Z"
      },
      {
        "duration": 6,
        "start_time": "2023-04-22T16:49:29.724Z"
      },
      {
        "duration": 149,
        "start_time": "2023-04-22T16:54:45.527Z"
      },
      {
        "duration": 152,
        "start_time": "2023-04-22T16:55:07.679Z"
      },
      {
        "duration": 4,
        "start_time": "2023-04-22T16:55:13.135Z"
      },
      {
        "duration": 237,
        "start_time": "2023-04-22T16:55:16.231Z"
      },
      {
        "duration": 233,
        "start_time": "2023-04-22T16:55:17.414Z"
      },
      {
        "duration": 7,
        "start_time": "2023-04-22T16:55:23.110Z"
      },
      {
        "duration": 187,
        "start_time": "2023-04-22T16:55:24.847Z"
      },
      {
        "duration": 143,
        "start_time": "2023-04-22T16:57:18.025Z"
      },
      {
        "duration": 4,
        "start_time": "2023-04-22T16:57:21.411Z"
      },
      {
        "duration": 238,
        "start_time": "2023-04-22T16:57:26.024Z"
      },
      {
        "duration": 301,
        "start_time": "2023-04-22T16:57:28.111Z"
      },
      {
        "duration": 13,
        "start_time": "2023-04-22T17:00:58.382Z"
      },
      {
        "duration": 6,
        "start_time": "2023-04-22T17:00:59.011Z"
      },
      {
        "duration": 7,
        "start_time": "2023-04-22T17:02:49.605Z"
      },
      {
        "duration": 5,
        "start_time": "2023-04-22T17:03:31.796Z"
      },
      {
        "duration": 119,
        "start_time": "2023-04-22T17:04:18.109Z"
      },
      {
        "duration": 208,
        "start_time": "2023-04-22T17:04:18.593Z"
      },
      {
        "duration": 247,
        "start_time": "2023-04-22T17:04:19.407Z"
      },
      {
        "duration": 5,
        "start_time": "2023-04-22T17:04:21.313Z"
      },
      {
        "duration": 253,
        "start_time": "2023-04-22T17:04:22.428Z"
      },
      {
        "duration": 45,
        "start_time": "2023-04-22T17:06:13.388Z"
      },
      {
        "duration": 125,
        "start_time": "2023-04-22T17:06:13.904Z"
      },
      {
        "duration": 21,
        "start_time": "2023-04-22T17:06:14.710Z"
      },
      {
        "duration": 5,
        "start_time": "2023-04-22T17:06:54.715Z"
      },
      {
        "duration": 7,
        "start_time": "2023-04-22T17:08:07.204Z"
      },
      {
        "duration": 224,
        "start_time": "2023-04-22T17:08:25.362Z"
      },
      {
        "duration": 4,
        "start_time": "2023-04-22T17:08:42.129Z"
      },
      {
        "duration": 197,
        "start_time": "2023-04-22T17:08:42.395Z"
      },
      {
        "duration": 61,
        "start_time": "2023-04-22T17:08:46.440Z"
      },
      {
        "duration": 160,
        "start_time": "2023-04-22T17:08:46.737Z"
      },
      {
        "duration": 68,
        "start_time": "2023-04-22T17:08:47.909Z"
      },
      {
        "duration": 8,
        "start_time": "2023-04-22T17:09:29.501Z"
      },
      {
        "duration": 468,
        "start_time": "2023-04-22T17:09:30.146Z"
      },
      {
        "duration": 23,
        "start_time": "2023-04-22T17:11:14.888Z"
      },
      {
        "duration": 96,
        "start_time": "2023-04-22T17:11:15.627Z"
      },
      {
        "duration": 8,
        "start_time": "2023-04-22T17:13:44.958Z"
      },
      {
        "duration": 5,
        "start_time": "2023-04-22T17:13:55.013Z"
      },
      {
        "duration": 8,
        "start_time": "2023-04-22T17:14:25.218Z"
      },
      {
        "duration": 5,
        "start_time": "2023-04-22T17:14:31.925Z"
      },
      {
        "duration": 7,
        "start_time": "2023-04-22T17:14:36.499Z"
      },
      {
        "duration": 295,
        "start_time": "2023-04-22T17:14:37.714Z"
      },
      {
        "duration": 10,
        "start_time": "2023-04-22T17:15:02.418Z"
      },
      {
        "duration": 109,
        "start_time": "2023-04-22T17:15:03.107Z"
      },
      {
        "duration": 8,
        "start_time": "2023-04-22T17:15:26.727Z"
      },
      {
        "duration": 77,
        "start_time": "2023-04-22T17:15:27.496Z"
      },
      {
        "duration": 27,
        "start_time": "2023-04-22T17:15:48.670Z"
      },
      {
        "duration": 425,
        "start_time": "2023-04-22T17:15:49.499Z"
      },
      {
        "duration": 5,
        "start_time": "2023-04-22T17:16:02.819Z"
      },
      {
        "duration": 226,
        "start_time": "2023-04-22T17:16:03.706Z"
      },
      {
        "duration": 16,
        "start_time": "2023-04-22T17:17:40.265Z"
      },
      {
        "duration": 279,
        "start_time": "2023-04-22T17:17:41.126Z"
      },
      {
        "duration": 12,
        "start_time": "2023-04-22T17:17:52.302Z"
      },
      {
        "duration": 247,
        "start_time": "2023-04-22T17:17:52.742Z"
      },
      {
        "duration": 6,
        "start_time": "2023-04-22T17:18:07.217Z"
      },
      {
        "duration": 275,
        "start_time": "2023-04-22T17:18:07.823Z"
      },
      {
        "duration": 6,
        "start_time": "2023-04-22T17:18:30.106Z"
      },
      {
        "duration": 216,
        "start_time": "2023-04-22T17:18:30.710Z"
      },
      {
        "duration": 4,
        "start_time": "2023-04-22T17:19:53.920Z"
      },
      {
        "duration": 26,
        "start_time": "2023-04-22T17:19:57.287Z"
      },
      {
        "duration": 362,
        "start_time": "2023-04-22T17:19:58.968Z"
      },
      {
        "duration": 231,
        "start_time": "2023-04-22T17:20:04.589Z"
      },
      {
        "duration": 10,
        "start_time": "2023-04-22T17:21:38.114Z"
      },
      {
        "duration": 12,
        "start_time": "2023-04-22T17:29:30.280Z"
      },
      {
        "duration": 16,
        "start_time": "2023-04-22T17:29:39.491Z"
      },
      {
        "duration": 375,
        "start_time": "2023-04-22T17:29:42.654Z"
      },
      {
        "duration": 11,
        "start_time": "2023-04-22T17:31:43.752Z"
      },
      {
        "duration": 429,
        "start_time": "2023-04-22T17:31:45.372Z"
      },
      {
        "duration": 69,
        "start_time": "2023-04-22T17:31:57.726Z"
      },
      {
        "duration": 8,
        "start_time": "2023-04-22T17:33:07.256Z"
      },
      {
        "duration": 13,
        "start_time": "2023-04-22T17:34:27.448Z"
      },
      {
        "duration": 22,
        "start_time": "2023-04-22T17:35:14.795Z"
      },
      {
        "duration": 8,
        "start_time": "2023-04-22T17:35:24.151Z"
      },
      {
        "duration": 14,
        "start_time": "2023-04-22T17:35:46.418Z"
      },
      {
        "duration": 18,
        "start_time": "2023-04-22T17:35:56.210Z"
      },
      {
        "duration": 40,
        "start_time": "2023-04-22T17:36:03.515Z"
      },
      {
        "duration": 12,
        "start_time": "2023-04-22T17:36:10.550Z"
      },
      {
        "duration": 11,
        "start_time": "2023-04-22T17:36:16.950Z"
      },
      {
        "duration": 12,
        "start_time": "2023-04-22T17:36:21.201Z"
      },
      {
        "duration": 25,
        "start_time": "2023-04-22T17:36:28.472Z"
      },
      {
        "duration": 253,
        "start_time": "2023-04-22T17:36:52.046Z"
      },
      {
        "duration": 12,
        "start_time": "2023-04-22T17:37:15.911Z"
      },
      {
        "duration": 297,
        "start_time": "2023-04-22T17:37:19.704Z"
      },
      {
        "duration": 17,
        "start_time": "2023-04-22T17:37:27.189Z"
      },
      {
        "duration": 247,
        "start_time": "2023-04-22T17:37:27.855Z"
      },
      {
        "duration": 21,
        "start_time": "2023-04-22T17:37:34.390Z"
      },
      {
        "duration": 262,
        "start_time": "2023-04-22T17:37:35.015Z"
      },
      {
        "duration": 22,
        "start_time": "2023-04-22T17:38:02.797Z"
      },
      {
        "duration": 10,
        "start_time": "2023-04-22T17:38:28.896Z"
      },
      {
        "duration": 3,
        "start_time": "2023-04-22T17:38:35.222Z"
      },
      {
        "duration": 25,
        "start_time": "2023-04-22T17:38:58.359Z"
      },
      {
        "duration": 53,
        "start_time": "2023-04-22T17:39:25.506Z"
      },
      {
        "duration": 89,
        "start_time": "2023-04-22T17:42:35.016Z"
      },
      {
        "duration": 118,
        "start_time": "2023-04-22T17:42:42.648Z"
      },
      {
        "duration": 15,
        "start_time": "2023-04-22T17:42:59.997Z"
      },
      {
        "duration": 11,
        "start_time": "2023-04-22T17:43:05.726Z"
      },
      {
        "duration": 105,
        "start_time": "2023-04-22T17:43:09.255Z"
      },
      {
        "duration": 11,
        "start_time": "2023-04-22T17:43:24.319Z"
      },
      {
        "duration": 104,
        "start_time": "2023-04-22T17:43:26.906Z"
      },
      {
        "duration": 12,
        "start_time": "2023-04-22T17:43:32.520Z"
      },
      {
        "duration": 116,
        "start_time": "2023-04-22T17:43:33.102Z"
      },
      {
        "duration": 13,
        "start_time": "2023-04-22T17:43:37.507Z"
      },
      {
        "duration": 119,
        "start_time": "2023-04-22T17:43:38.151Z"
      },
      {
        "duration": 146,
        "start_time": "2023-04-22T17:43:50.764Z"
      },
      {
        "duration": 4,
        "start_time": "2023-04-22T17:44:04.702Z"
      },
      {
        "duration": 9,
        "start_time": "2023-04-22T17:44:05.351Z"
      },
      {
        "duration": 21,
        "start_time": "2023-04-22T17:44:35.696Z"
      },
      {
        "duration": 14,
        "start_time": "2023-04-22T17:45:00.206Z"
      },
      {
        "duration": 119,
        "start_time": "2023-04-22T17:45:03.768Z"
      },
      {
        "duration": 117,
        "start_time": "2023-04-22T17:45:15.633Z"
      },
      {
        "duration": 21,
        "start_time": "2023-04-22T17:45:27.494Z"
      },
      {
        "duration": 190,
        "start_time": "2023-04-22T17:45:28.320Z"
      },
      {
        "duration": 25,
        "start_time": "2023-04-22T17:45:36.664Z"
      },
      {
        "duration": 119,
        "start_time": "2023-04-22T17:45:37.598Z"
      },
      {
        "duration": 10,
        "start_time": "2023-04-22T17:45:46.648Z"
      },
      {
        "duration": 117,
        "start_time": "2023-04-22T17:45:51.209Z"
      },
      {
        "duration": 10,
        "start_time": "2023-04-22T17:45:56.511Z"
      },
      {
        "duration": 133,
        "start_time": "2023-04-22T17:45:57.272Z"
      },
      {
        "duration": 64,
        "start_time": "2023-04-22T17:52:39.706Z"
      },
      {
        "duration": 43,
        "start_time": "2023-04-22T17:55:01.701Z"
      },
      {
        "duration": 38,
        "start_time": "2023-04-22T17:55:37.898Z"
      },
      {
        "duration": 36,
        "start_time": "2023-04-22T17:57:08.940Z"
      },
      {
        "duration": 67,
        "start_time": "2023-04-22T17:58:40.142Z"
      },
      {
        "duration": 94,
        "start_time": "2023-04-22T18:01:33.899Z"
      },
      {
        "duration": 5,
        "start_time": "2023-04-22T18:02:31.712Z"
      },
      {
        "duration": 25,
        "start_time": "2023-04-22T18:02:32.602Z"
      },
      {
        "duration": 4,
        "start_time": "2023-04-22T18:02:40.230Z"
      },
      {
        "duration": 98,
        "start_time": "2023-04-22T18:02:41.310Z"
      },
      {
        "duration": 14,
        "start_time": "2023-04-22T18:02:41.810Z"
      },
      {
        "duration": 7,
        "start_time": "2023-04-22T18:02:42.516Z"
      },
      {
        "duration": 16,
        "start_time": "2023-04-22T18:02:43.115Z"
      },
      {
        "duration": 10,
        "start_time": "2023-04-22T18:02:44.134Z"
      },
      {
        "duration": 7,
        "start_time": "2023-04-22T18:02:44.506Z"
      },
      {
        "duration": 13,
        "start_time": "2023-04-22T18:02:44.845Z"
      },
      {
        "duration": 22,
        "start_time": "2023-04-22T18:02:45.733Z"
      },
      {
        "duration": 12,
        "start_time": "2023-04-22T18:02:46.534Z"
      },
      {
        "duration": 9,
        "start_time": "2023-04-22T18:02:47.327Z"
      },
      {
        "duration": 11,
        "start_time": "2023-04-22T18:02:47.558Z"
      },
      {
        "duration": 57,
        "start_time": "2023-04-22T18:02:48.360Z"
      },
      {
        "duration": 13,
        "start_time": "2023-04-22T18:02:48.421Z"
      },
      {
        "duration": 32,
        "start_time": "2023-04-22T18:02:48.790Z"
      },
      {
        "duration": 4,
        "start_time": "2023-04-22T18:02:50.542Z"
      },
      {
        "duration": 6,
        "start_time": "2023-04-22T18:02:51.054Z"
      },
      {
        "duration": 14,
        "start_time": "2023-04-22T18:02:51.407Z"
      },
      {
        "duration": 9,
        "start_time": "2023-04-22T18:02:52.299Z"
      },
      {
        "duration": 3,
        "start_time": "2023-04-22T18:02:53.335Z"
      },
      {
        "duration": 208,
        "start_time": "2023-04-22T18:02:53.698Z"
      },
      {
        "duration": 10,
        "start_time": "2023-04-22T18:02:54.702Z"
      },
      {
        "duration": 135,
        "start_time": "2023-04-22T18:02:56.801Z"
      },
      {
        "duration": 225,
        "start_time": "2023-04-22T18:02:57.319Z"
      },
      {
        "duration": 275,
        "start_time": "2023-04-22T18:02:58.334Z"
      },
      {
        "duration": 5,
        "start_time": "2023-04-22T18:03:00.322Z"
      },
      {
        "duration": 231,
        "start_time": "2023-04-22T18:03:01.272Z"
      },
      {
        "duration": 47,
        "start_time": "2023-04-22T18:03:07.110Z"
      },
      {
        "duration": 137,
        "start_time": "2023-04-22T18:03:07.602Z"
      },
      {
        "duration": 23,
        "start_time": "2023-04-22T18:03:08.542Z"
      },
      {
        "duration": 7,
        "start_time": "2023-04-22T18:03:11.518Z"
      },
      {
        "duration": 289,
        "start_time": "2023-04-22T18:03:12.323Z"
      },
      {
        "duration": 16,
        "start_time": "2023-04-22T18:03:22.496Z"
      },
      {
        "duration": 15,
        "start_time": "2023-04-22T18:03:23.217Z"
      },
      {
        "duration": 148,
        "start_time": "2023-04-22T18:03:27.006Z"
      },
      {
        "duration": 99,
        "start_time": "2023-04-22T18:03:40.058Z"
      },
      {
        "duration": 81,
        "start_time": "2023-04-22T18:04:22.463Z"
      },
      {
        "duration": 52,
        "start_time": "2023-04-22T18:06:45.210Z"
      },
      {
        "duration": 101,
        "start_time": "2023-04-22T18:07:12.726Z"
      },
      {
        "duration": 102,
        "start_time": "2023-04-22T18:09:21.943Z"
      },
      {
        "duration": 103,
        "start_time": "2023-04-22T18:09:46.990Z"
      },
      {
        "duration": 80,
        "start_time": "2023-04-22T18:10:01.813Z"
      },
      {
        "duration": 108,
        "start_time": "2023-04-22T18:10:09.300Z"
      },
      {
        "duration": 83,
        "start_time": "2023-04-22T18:10:19.025Z"
      },
      {
        "duration": 92,
        "start_time": "2023-04-22T18:10:23.497Z"
      },
      {
        "duration": 103,
        "start_time": "2023-04-22T18:12:23.340Z"
      },
      {
        "duration": 98,
        "start_time": "2023-04-22T18:12:27.738Z"
      },
      {
        "duration": 93,
        "start_time": "2023-04-22T18:13:21.540Z"
      },
      {
        "duration": 440,
        "start_time": "2023-04-22T18:18:37.049Z"
      },
      {
        "duration": 324,
        "start_time": "2023-04-22T18:19:07.591Z"
      },
      {
        "duration": 12,
        "start_time": "2023-04-22T18:23:27.595Z"
      },
      {
        "duration": 9,
        "start_time": "2023-04-22T18:23:39.061Z"
      },
      {
        "duration": 8,
        "start_time": "2023-04-22T18:23:46.043Z"
      },
      {
        "duration": 53,
        "start_time": "2023-04-22T18:24:26.491Z"
      },
      {
        "duration": 14,
        "start_time": "2023-04-22T18:24:30.491Z"
      },
      {
        "duration": 268,
        "start_time": "2023-04-22T18:24:34.525Z"
      },
      {
        "duration": 62,
        "start_time": "2023-04-22T18:26:38.751Z"
      },
      {
        "duration": 8,
        "start_time": "2023-04-22T18:26:39.944Z"
      },
      {
        "duration": 323,
        "start_time": "2023-04-22T18:26:44.161Z"
      },
      {
        "duration": 23,
        "start_time": "2023-04-22T18:28:03.787Z"
      },
      {
        "duration": 21,
        "start_time": "2023-04-22T18:28:19.410Z"
      },
      {
        "duration": 264,
        "start_time": "2023-04-22T18:29:17.969Z"
      },
      {
        "duration": 200,
        "start_time": "2023-04-22T18:29:43.914Z"
      },
      {
        "duration": 263,
        "start_time": "2023-04-22T18:30:12.658Z"
      },
      {
        "duration": 224,
        "start_time": "2023-04-22T18:30:24.458Z"
      },
      {
        "duration": 245,
        "start_time": "2023-04-22T18:32:14.162Z"
      },
      {
        "duration": 191,
        "start_time": "2023-04-22T18:33:22.732Z"
      },
      {
        "duration": 155,
        "start_time": "2023-04-22T18:33:36.836Z"
      },
      {
        "duration": 126,
        "start_time": "2023-04-22T18:33:56.260Z"
      },
      {
        "duration": 20,
        "start_time": "2023-04-22T18:34:08.794Z"
      },
      {
        "duration": 79,
        "start_time": "2023-04-22T18:34:09.532Z"
      },
      {
        "duration": 122,
        "start_time": "2023-04-22T18:34:11.029Z"
      },
      {
        "duration": 6,
        "start_time": "2023-04-22T19:20:05.110Z"
      },
      {
        "duration": 44,
        "start_time": "2023-04-22T19:20:06.806Z"
      },
      {
        "duration": 7,
        "start_time": "2023-04-22T19:20:07.739Z"
      },
      {
        "duration": 3,
        "start_time": "2023-04-22T19:20:08.681Z"
      },
      {
        "duration": 13,
        "start_time": "2023-04-22T19:20:09.411Z"
      },
      {
        "duration": 7,
        "start_time": "2023-04-22T19:20:13.355Z"
      },
      {
        "duration": 6,
        "start_time": "2023-04-22T19:20:14.124Z"
      },
      {
        "duration": 10,
        "start_time": "2023-04-22T19:20:14.717Z"
      },
      {
        "duration": 23,
        "start_time": "2023-04-22T19:20:16.963Z"
      },
      {
        "duration": 15,
        "start_time": "2023-04-22T19:20:19.140Z"
      },
      {
        "duration": 10,
        "start_time": "2023-04-22T19:20:23.912Z"
      },
      {
        "duration": 18,
        "start_time": "2023-04-22T19:20:25.992Z"
      },
      {
        "duration": 31,
        "start_time": "2023-04-22T19:20:26.958Z"
      },
      {
        "duration": 19,
        "start_time": "2023-04-22T19:20:28.459Z"
      },
      {
        "duration": 12,
        "start_time": "2023-04-22T19:20:29.000Z"
      },
      {
        "duration": 5,
        "start_time": "2023-04-22T19:20:38.531Z"
      },
      {
        "duration": 6,
        "start_time": "2023-04-22T19:20:52.043Z"
      },
      {
        "duration": 4,
        "start_time": "2023-04-22T19:21:05.664Z"
      },
      {
        "duration": 7,
        "start_time": "2023-04-22T19:21:07.306Z"
      },
      {
        "duration": 5,
        "start_time": "2023-04-22T19:21:16.810Z"
      },
      {
        "duration": 167,
        "start_time": "2023-04-22T19:21:18.341Z"
      },
      {
        "duration": 153,
        "start_time": "2023-04-22T19:22:23.357Z"
      },
      {
        "duration": 4,
        "start_time": "2023-04-22T19:22:37.453Z"
      },
      {
        "duration": 151,
        "start_time": "2023-04-22T19:22:51.949Z"
      },
      {
        "duration": 150,
        "start_time": "2023-04-22T19:23:11.461Z"
      },
      {
        "duration": 146,
        "start_time": "2023-04-22T19:23:22.215Z"
      },
      {
        "duration": 253,
        "start_time": "2023-04-22T19:23:48.757Z"
      },
      {
        "duration": 310,
        "start_time": "2023-04-22T19:24:09.208Z"
      },
      {
        "duration": 5,
        "start_time": "2023-04-22T19:24:50.318Z"
      },
      {
        "duration": 247,
        "start_time": "2023-04-22T19:24:53.132Z"
      },
      {
        "duration": 200,
        "start_time": "2023-04-22T19:25:06.534Z"
      },
      {
        "duration": 141,
        "start_time": "2023-04-22T19:26:37.102Z"
      },
      {
        "duration": 182,
        "start_time": "2023-04-22T19:27:18.117Z"
      },
      {
        "duration": 231,
        "start_time": "2023-04-22T19:27:40.349Z"
      },
      {
        "duration": 160,
        "start_time": "2023-04-22T19:28:20.291Z"
      },
      {
        "duration": 206,
        "start_time": "2023-04-22T19:28:30.829Z"
      },
      {
        "duration": 12,
        "start_time": "2023-04-22T19:28:35.774Z"
      },
      {
        "duration": 153,
        "start_time": "2023-04-22T19:28:49.833Z"
      },
      {
        "duration": 36,
        "start_time": "2023-04-22T19:29:17.888Z"
      },
      {
        "duration": 79,
        "start_time": "2023-04-22T19:29:19.230Z"
      },
      {
        "duration": 55,
        "start_time": "2023-04-22T19:29:20.925Z"
      },
      {
        "duration": 9,
        "start_time": "2023-04-22T19:29:28.398Z"
      },
      {
        "duration": 255,
        "start_time": "2023-04-22T19:29:30.141Z"
      },
      {
        "duration": 5,
        "start_time": "2023-04-22T19:30:38.319Z"
      },
      {
        "duration": 211,
        "start_time": "2023-04-22T19:30:38.896Z"
      },
      {
        "duration": 5,
        "start_time": "2023-04-22T19:31:06.120Z"
      },
      {
        "duration": 271,
        "start_time": "2023-04-22T19:31:08.805Z"
      },
      {
        "duration": 10,
        "start_time": "2023-04-22T19:31:37.273Z"
      },
      {
        "duration": 200,
        "start_time": "2023-04-22T19:31:38.500Z"
      },
      {
        "duration": 3,
        "start_time": "2023-04-22T19:32:05.143Z"
      },
      {
        "duration": 10,
        "start_time": "2023-04-22T19:32:06.799Z"
      },
      {
        "duration": 107,
        "start_time": "2023-04-22T19:32:14.591Z"
      },
      {
        "duration": 8,
        "start_time": "2023-04-22T19:32:19.187Z"
      },
      {
        "duration": 11,
        "start_time": "2023-04-22T19:32:21.413Z"
      },
      {
        "duration": 141,
        "start_time": "2023-04-22T19:32:26.803Z"
      },
      {
        "duration": 37,
        "start_time": "2023-04-22T19:32:39.503Z"
      },
      {
        "duration": 19,
        "start_time": "2023-04-22T19:32:42.630Z"
      },
      {
        "duration": 123,
        "start_time": "2023-04-22T19:32:56.994Z"
      },
      {
        "duration": 107,
        "start_time": "2023-04-22T19:33:00.387Z"
      },
      {
        "duration": 153,
        "start_time": "2023-04-22T19:35:15.351Z"
      },
      {
        "duration": 117,
        "start_time": "2023-04-22T19:35:29.734Z"
      },
      {
        "duration": 149,
        "start_time": "2023-04-22T19:36:17.964Z"
      },
      {
        "duration": 38,
        "start_time": "2023-04-22T19:37:13.615Z"
      },
      {
        "duration": 59,
        "start_time": "2023-04-22T19:37:48.269Z"
      },
      {
        "duration": 281,
        "start_time": "2023-04-22T19:38:03.269Z"
      },
      {
        "duration": 185,
        "start_time": "2023-04-22T19:38:23.198Z"
      },
      {
        "duration": 24,
        "start_time": "2023-04-22T19:39:31.265Z"
      },
      {
        "duration": 109,
        "start_time": "2023-04-22T19:39:37.120Z"
      },
      {
        "duration": 3,
        "start_time": "2023-04-22T19:39:40.544Z"
      },
      {
        "duration": 13,
        "start_time": "2023-04-22T19:39:41.106Z"
      },
      {
        "duration": 104,
        "start_time": "2023-04-22T19:39:42.128Z"
      },
      {
        "duration": 43,
        "start_time": "2023-04-22T19:39:43.416Z"
      },
      {
        "duration": 18,
        "start_time": "2023-04-22T19:39:43.944Z"
      },
      {
        "duration": 147,
        "start_time": "2023-04-22T19:39:48.298Z"
      },
      {
        "duration": 234,
        "start_time": "2023-04-22T19:39:48.896Z"
      },
      {
        "duration": 16,
        "start_time": "2023-04-22T19:40:20.248Z"
      },
      {
        "duration": 127,
        "start_time": "2023-04-22T19:40:21.590Z"
      },
      {
        "duration": 10,
        "start_time": "2023-04-22T19:40:29.002Z"
      },
      {
        "duration": 30,
        "start_time": "2023-04-22T19:40:29.486Z"
      },
      {
        "duration": 102,
        "start_time": "2023-04-22T19:40:33.697Z"
      },
      {
        "duration": 4,
        "start_time": "2023-04-22T19:40:37.016Z"
      },
      {
        "duration": 10,
        "start_time": "2023-04-22T19:40:37.848Z"
      },
      {
        "duration": 122,
        "start_time": "2023-04-22T19:40:38.959Z"
      },
      {
        "duration": 52,
        "start_time": "2023-04-22T19:40:40.664Z"
      },
      {
        "duration": 48,
        "start_time": "2023-04-22T19:40:42.271Z"
      },
      {
        "duration": 153,
        "start_time": "2023-04-22T19:40:48.240Z"
      },
      {
        "duration": 220,
        "start_time": "2023-04-22T19:40:50.560Z"
      },
      {
        "duration": 49,
        "start_time": "2023-04-22T19:41:01.440Z"
      },
      {
        "duration": 48,
        "start_time": "2023-04-22T19:41:02.136Z"
      },
      {
        "duration": 156,
        "start_time": "2023-04-22T19:41:03.049Z"
      },
      {
        "duration": 140,
        "start_time": "2023-04-22T19:41:04.678Z"
      },
      {
        "duration": 23,
        "start_time": "2023-04-22T19:41:13.470Z"
      },
      {
        "duration": 83,
        "start_time": "2023-04-22T19:41:14.622Z"
      },
      {
        "duration": 256,
        "start_time": "2023-04-22T19:41:15.858Z"
      },
      {
        "duration": 4,
        "start_time": "2023-04-22T19:44:04.313Z"
      },
      {
        "duration": 114,
        "start_time": "2023-04-22T19:44:05.013Z"
      },
      {
        "duration": 17,
        "start_time": "2023-04-22T19:44:09.274Z"
      },
      {
        "duration": 132,
        "start_time": "2023-04-22T19:44:11.545Z"
      },
      {
        "duration": 153,
        "start_time": "2023-04-22T19:44:15.009Z"
      },
      {
        "duration": 211,
        "start_time": "2023-04-22T19:44:15.825Z"
      },
      {
        "duration": 4,
        "start_time": "2023-04-22T19:44:18.121Z"
      },
      {
        "duration": 137,
        "start_time": "2023-04-22T19:44:18.799Z"
      },
      {
        "duration": 46,
        "start_time": "2023-04-22T19:44:21.554Z"
      },
      {
        "duration": 64,
        "start_time": "2023-04-22T19:44:28.629Z"
      },
      {
        "duration": 58,
        "start_time": "2023-04-22T19:44:33.905Z"
      },
      {
        "duration": 34,
        "start_time": "2023-04-22T19:44:34.449Z"
      },
      {
        "duration": 15,
        "start_time": "2023-04-22T19:44:40.970Z"
      },
      {
        "duration": 268,
        "start_time": "2023-04-22T19:44:42.025Z"
      },
      {
        "duration": 4,
        "start_time": "2023-04-22T19:44:51.202Z"
      },
      {
        "duration": 12,
        "start_time": "2023-04-22T19:44:52.899Z"
      },
      {
        "duration": 110,
        "start_time": "2023-04-22T19:44:54.538Z"
      },
      {
        "duration": 4,
        "start_time": "2023-04-22T19:44:58.529Z"
      },
      {
        "duration": 12,
        "start_time": "2023-04-22T19:44:59.601Z"
      },
      {
        "duration": 113,
        "start_time": "2023-04-22T19:45:07.738Z"
      },
      {
        "duration": 38,
        "start_time": "2023-04-22T19:45:10.625Z"
      },
      {
        "duration": 24,
        "start_time": "2023-04-22T19:45:11.937Z"
      },
      {
        "duration": 132,
        "start_time": "2023-04-22T19:45:19.998Z"
      },
      {
        "duration": 48,
        "start_time": "2023-04-22T19:45:38.818Z"
      },
      {
        "duration": 19,
        "start_time": "2023-04-22T19:45:39.442Z"
      },
      {
        "duration": 70,
        "start_time": "2023-04-22T19:45:49.339Z"
      },
      {
        "duration": 17,
        "start_time": "2023-04-22T19:45:50.730Z"
      },
      {
        "duration": 41,
        "start_time": "2023-04-22T19:45:59.722Z"
      },
      {
        "duration": 19,
        "start_time": "2023-04-22T19:46:00.234Z"
      },
      {
        "duration": 28,
        "start_time": "2023-04-22T19:46:08.929Z"
      },
      {
        "duration": 19,
        "start_time": "2023-04-22T19:46:09.835Z"
      },
      {
        "duration": 29,
        "start_time": "2023-04-22T19:46:20.906Z"
      },
      {
        "duration": 21,
        "start_time": "2023-04-22T19:46:22.450Z"
      },
      {
        "duration": 38,
        "start_time": "2023-04-22T19:46:30.946Z"
      },
      {
        "duration": 18,
        "start_time": "2023-04-22T19:46:31.698Z"
      },
      {
        "duration": 4,
        "start_time": "2023-04-22T19:46:57.507Z"
      },
      {
        "duration": 115,
        "start_time": "2023-04-22T19:46:58.565Z"
      },
      {
        "duration": 4,
        "start_time": "2023-04-22T19:47:08.166Z"
      },
      {
        "duration": 78,
        "start_time": "2023-04-22T19:47:08.923Z"
      },
      {
        "duration": 4,
        "start_time": "2023-04-22T19:47:14.514Z"
      },
      {
        "duration": 110,
        "start_time": "2023-04-22T19:47:21.996Z"
      },
      {
        "duration": 118,
        "start_time": "2023-04-22T19:47:28.597Z"
      },
      {
        "duration": 223,
        "start_time": "2023-04-22T19:47:34.501Z"
      },
      {
        "duration": 5,
        "start_time": "2023-04-22T19:47:46.600Z"
      },
      {
        "duration": 64,
        "start_time": "2023-04-22T19:47:47.495Z"
      },
      {
        "duration": 38,
        "start_time": "2023-04-22T19:47:59.667Z"
      },
      {
        "duration": 30,
        "start_time": "2023-04-22T19:48:07.707Z"
      },
      {
        "duration": 22,
        "start_time": "2023-04-22T19:48:08.346Z"
      },
      {
        "duration": 14,
        "start_time": "2023-04-22T19:48:27.191Z"
      },
      {
        "duration": 126,
        "start_time": "2023-04-22T19:48:29.467Z"
      },
      {
        "duration": 7,
        "start_time": "2023-04-22T19:48:44.599Z"
      },
      {
        "duration": 13,
        "start_time": "2023-04-22T19:48:47.300Z"
      },
      {
        "duration": 111,
        "start_time": "2023-04-22T19:48:50.803Z"
      },
      {
        "duration": 4,
        "start_time": "2023-04-22T19:48:55.731Z"
      },
      {
        "duration": 30,
        "start_time": "2023-04-22T19:48:57.867Z"
      },
      {
        "duration": 108,
        "start_time": "2023-04-22T19:48:59.411Z"
      },
      {
        "duration": 34,
        "start_time": "2023-04-22T19:49:05.714Z"
      },
      {
        "duration": 18,
        "start_time": "2023-04-22T19:49:06.819Z"
      },
      {
        "duration": 92,
        "start_time": "2023-04-22T19:49:17.709Z"
      },
      {
        "duration": 154,
        "start_time": "2023-04-22T19:49:20.744Z"
      },
      {
        "duration": 16,
        "start_time": "2023-04-22T19:49:58.398Z"
      },
      {
        "duration": 114,
        "start_time": "2023-04-22T19:50:01.793Z"
      },
      {
        "duration": 9,
        "start_time": "2023-04-22T19:50:09.760Z"
      },
      {
        "duration": 106,
        "start_time": "2023-04-22T19:50:11.141Z"
      },
      {
        "duration": 12,
        "start_time": "2023-04-22T19:50:20.407Z"
      },
      {
        "duration": 126,
        "start_time": "2023-04-22T19:50:23.696Z"
      },
      {
        "duration": 5,
        "start_time": "2023-04-22T19:50:25.253Z"
      },
      {
        "duration": 12,
        "start_time": "2023-04-22T19:50:26.341Z"
      },
      {
        "duration": 114,
        "start_time": "2023-04-22T19:50:28.133Z"
      },
      {
        "duration": 49,
        "start_time": "2023-04-22T19:50:39.752Z"
      },
      {
        "duration": 18,
        "start_time": "2023-04-22T19:50:45.326Z"
      },
      {
        "duration": 83,
        "start_time": "2023-04-22T19:50:54.863Z"
      },
      {
        "duration": 82,
        "start_time": "2023-04-22T19:51:11.511Z"
      },
      {
        "duration": 59,
        "start_time": "2023-04-22T19:51:29.445Z"
      },
      {
        "duration": 209,
        "start_time": "2023-04-22T19:51:45.406Z"
      },
      {
        "duration": 7,
        "start_time": "2023-04-22T19:51:55.016Z"
      },
      {
        "duration": 77,
        "start_time": "2023-04-22T19:51:55.785Z"
      },
      {
        "duration": 138,
        "start_time": "2023-04-22T19:52:02.951Z"
      },
      {
        "duration": 260,
        "start_time": "2023-04-22T19:58:10.598Z"
      },
      {
        "duration": 250,
        "start_time": "2023-04-22T19:58:33.102Z"
      },
      {
        "duration": 1234,
        "start_time": "2023-04-22T19:58:43.154Z"
      },
      {
        "duration": 1200,
        "start_time": "2023-04-22T19:58:53.136Z"
      },
      {
        "duration": 4,
        "start_time": "2023-04-22T20:03:18.830Z"
      },
      {
        "duration": 48,
        "start_time": "2023-04-22T20:03:19.910Z"
      },
      {
        "duration": 7,
        "start_time": "2023-04-22T20:03:20.446Z"
      },
      {
        "duration": 4,
        "start_time": "2023-04-22T20:03:21.491Z"
      },
      {
        "duration": 14,
        "start_time": "2023-04-22T20:03:22.552Z"
      },
      {
        "duration": 8,
        "start_time": "2023-04-22T20:03:24.710Z"
      },
      {
        "duration": 10,
        "start_time": "2023-04-22T20:03:30.596Z"
      },
      {
        "duration": 9,
        "start_time": "2023-04-22T20:06:57.093Z"
      },
      {
        "duration": 16,
        "start_time": "2023-04-22T20:07:19.521Z"
      },
      {
        "duration": 15,
        "start_time": "2023-04-22T20:07:40.695Z"
      },
      {
        "duration": 10,
        "start_time": "2023-04-22T20:07:51.634Z"
      },
      {
        "duration": 3,
        "start_time": "2023-04-22T20:12:11.566Z"
      },
      {
        "duration": 7,
        "start_time": "2023-04-22T20:12:12.627Z"
      },
      {
        "duration": 11,
        "start_time": "2023-04-22T20:12:13.236Z"
      },
      {
        "duration": 14,
        "start_time": "2023-04-22T20:12:14.194Z"
      },
      {
        "duration": 12,
        "start_time": "2023-04-22T20:12:14.941Z"
      },
      {
        "duration": 9,
        "start_time": "2023-04-22T20:12:16.053Z"
      },
      {
        "duration": 9,
        "start_time": "2023-04-22T20:12:16.617Z"
      },
      {
        "duration": 17,
        "start_time": "2023-04-22T20:12:17.124Z"
      },
      {
        "duration": 13,
        "start_time": "2023-04-22T20:12:18.749Z"
      },
      {
        "duration": 34,
        "start_time": "2023-04-22T20:12:19.270Z"
      },
      {
        "duration": 9,
        "start_time": "2023-04-22T20:12:21.593Z"
      },
      {
        "duration": 9,
        "start_time": "2023-04-22T20:12:22.069Z"
      },
      {
        "duration": 13,
        "start_time": "2023-04-22T20:12:22.576Z"
      },
      {
        "duration": 4,
        "start_time": "2023-04-22T20:12:23.765Z"
      },
      {
        "duration": 6,
        "start_time": "2023-04-22T20:12:26.625Z"
      },
      {
        "duration": 89,
        "start_time": "2023-04-22T20:12:27.157Z"
      },
      {
        "duration": 24,
        "start_time": "2023-04-22T20:12:33.173Z"
      },
      {
        "duration": 4,
        "start_time": "2023-04-22T20:12:45.149Z"
      },
      {
        "duration": 63,
        "start_time": "2023-04-22T20:12:46.048Z"
      },
      {
        "duration": 8,
        "start_time": "2023-04-22T20:12:46.499Z"
      },
      {
        "duration": 4,
        "start_time": "2023-04-22T20:12:47.149Z"
      },
      {
        "duration": 13,
        "start_time": "2023-04-22T20:12:47.722Z"
      },
      {
        "duration": 14,
        "start_time": "2023-04-22T20:12:49.095Z"
      },
      {
        "duration": 7,
        "start_time": "2023-04-22T20:12:49.637Z"
      },
      {
        "duration": 11,
        "start_time": "2023-04-22T20:12:50.452Z"
      },
      {
        "duration": 13,
        "start_time": "2023-04-22T20:12:51.621Z"
      },
      {
        "duration": 14,
        "start_time": "2023-04-22T20:12:52.833Z"
      },
      {
        "duration": 8,
        "start_time": "2023-04-22T20:12:54.038Z"
      },
      {
        "duration": 9,
        "start_time": "2023-04-22T20:12:55.034Z"
      },
      {
        "duration": 33,
        "start_time": "2023-04-22T20:12:56.356Z"
      },
      {
        "duration": 17,
        "start_time": "2023-04-22T20:12:57.439Z"
      },
      {
        "duration": 12,
        "start_time": "2023-04-22T20:12:57.958Z"
      },
      {
        "duration": 5,
        "start_time": "2023-04-22T20:13:00.600Z"
      },
      {
        "duration": 6,
        "start_time": "2023-04-22T20:13:01.061Z"
      },
      {
        "duration": 6,
        "start_time": "2023-04-22T20:13:01.540Z"
      },
      {
        "duration": 4,
        "start_time": "2023-04-22T20:13:02.522Z"
      },
      {
        "duration": 4,
        "start_time": "2023-04-22T20:13:05.237Z"
      },
      {
        "duration": 120,
        "start_time": "2023-04-22T20:13:05.765Z"
      },
      {
        "duration": 15,
        "start_time": "2023-04-22T20:13:06.721Z"
      },
      {
        "duration": 121,
        "start_time": "2023-04-22T20:13:29.028Z"
      },
      {
        "duration": 117,
        "start_time": "2023-04-22T20:13:31.141Z"
      },
      {
        "duration": 214,
        "start_time": "2023-04-22T20:13:31.926Z"
      },
      {
        "duration": 4,
        "start_time": "2023-04-22T20:13:34.062Z"
      },
      {
        "duration": 126,
        "start_time": "2023-04-22T20:13:34.653Z"
      },
      {
        "duration": 39,
        "start_time": "2023-04-22T20:13:40.399Z"
      },
      {
        "duration": 44,
        "start_time": "2023-04-22T20:13:41.227Z"
      },
      {
        "duration": 86,
        "start_time": "2023-04-22T20:13:41.993Z"
      },
      {
        "duration": 12,
        "start_time": "2023-04-22T20:13:48.490Z"
      },
      {
        "duration": 160,
        "start_time": "2023-04-22T20:13:49.519Z"
      },
      {
        "duration": 4,
        "start_time": "2023-04-22T20:13:55.592Z"
      },
      {
        "duration": 11,
        "start_time": "2023-04-22T20:13:56.525Z"
      },
      {
        "duration": 107,
        "start_time": "2023-04-22T20:13:57.143Z"
      },
      {
        "duration": 6,
        "start_time": "2023-04-22T20:13:58.342Z"
      },
      {
        "duration": 15,
        "start_time": "2023-04-22T20:13:58.926Z"
      },
      {
        "duration": 117,
        "start_time": "2023-04-22T20:14:00.534Z"
      },
      {
        "duration": 8,
        "start_time": "2023-04-22T20:14:30.487Z"
      },
      {
        "duration": 12,
        "start_time": "2023-04-22T20:14:31.038Z"
      },
      {
        "duration": 136,
        "start_time": "2023-04-22T20:14:31.608Z"
      },
      {
        "duration": 29,
        "start_time": "2023-04-22T20:14:32.718Z"
      },
      {
        "duration": 40,
        "start_time": "2023-04-22T20:14:36.846Z"
      },
      {
        "duration": 20,
        "start_time": "2023-04-22T20:14:37.646Z"
      },
      {
        "duration": 69,
        "start_time": "2023-04-22T20:14:38.831Z"
      },
      {
        "duration": 130,
        "start_time": "2023-04-22T20:14:40.870Z"
      },
      {
        "duration": 16,
        "start_time": "2023-04-22T20:15:03.670Z"
      },
      {
        "duration": 53,
        "start_time": "2023-04-22T20:15:05.198Z"
      },
      {
        "duration": 15,
        "start_time": "2023-04-22T20:15:05.962Z"
      },
      {
        "duration": 4,
        "start_time": "2023-04-22T20:15:07.122Z"
      },
      {
        "duration": 20,
        "start_time": "2023-04-22T20:15:08.588Z"
      },
      {
        "duration": 10,
        "start_time": "2023-04-22T20:16:12.143Z"
      },
      {
        "duration": 11,
        "start_time": "2023-04-22T20:16:22.824Z"
      },
      {
        "duration": 30,
        "start_time": "2023-04-22T20:16:47.305Z"
      },
      {
        "duration": 7,
        "start_time": "2023-04-22T20:16:53.858Z"
      },
      {
        "duration": 10,
        "start_time": "2023-04-22T20:16:55.240Z"
      },
      {
        "duration": 21,
        "start_time": "2023-04-22T20:16:57.064Z"
      },
      {
        "duration": 18,
        "start_time": "2023-04-22T20:17:01.510Z"
      },
      {
        "duration": 12,
        "start_time": "2023-04-22T20:17:03.753Z"
      },
      {
        "duration": 31,
        "start_time": "2023-04-22T20:17:07.767Z"
      },
      {
        "duration": 17,
        "start_time": "2023-04-22T20:17:10.425Z"
      },
      {
        "duration": 6,
        "start_time": "2023-04-22T20:18:25.737Z"
      },
      {
        "duration": 65,
        "start_time": "2023-04-22T20:18:26.969Z"
      },
      {
        "duration": 6,
        "start_time": "2023-04-22T20:18:27.709Z"
      },
      {
        "duration": 6,
        "start_time": "2023-04-22T20:18:28.411Z"
      },
      {
        "duration": 43,
        "start_time": "2023-04-22T20:18:29.466Z"
      },
      {
        "duration": 10,
        "start_time": "2023-04-22T20:18:31.095Z"
      },
      {
        "duration": 13,
        "start_time": "2023-04-22T20:18:31.795Z"
      },
      {
        "duration": 17,
        "start_time": "2023-04-22T20:18:34.290Z"
      },
      {
        "duration": 17,
        "start_time": "2023-04-22T20:18:38.337Z"
      },
      {
        "duration": 14,
        "start_time": "2023-04-22T20:18:42.219Z"
      },
      {
        "duration": 5,
        "start_time": "2023-04-22T20:19:19.123Z"
      },
      {
        "duration": 9,
        "start_time": "2023-04-22T20:19:19.805Z"
      },
      {
        "duration": 7,
        "start_time": "2023-04-22T20:19:53.316Z"
      },
      {
        "duration": 7,
        "start_time": "2023-04-22T20:19:55.002Z"
      },
      {
        "duration": 6,
        "start_time": "2023-04-22T20:20:16.516Z"
      },
      {
        "duration": 6,
        "start_time": "2023-04-22T20:20:17.666Z"
      },
      {
        "duration": 27,
        "start_time": "2023-04-22T20:20:18.666Z"
      },
      {
        "duration": 13,
        "start_time": "2023-04-22T20:22:49.494Z"
      },
      {
        "duration": 6,
        "start_time": "2023-04-22T20:22:59.428Z"
      },
      {
        "duration": 8,
        "start_time": "2023-04-22T20:23:01.516Z"
      },
      {
        "duration": 13,
        "start_time": "2023-04-22T20:23:05.012Z"
      },
      {
        "duration": 4,
        "start_time": "2023-04-22T20:23:13.414Z"
      },
      {
        "duration": 64,
        "start_time": "2023-04-22T20:23:14.452Z"
      },
      {
        "duration": 7,
        "start_time": "2023-04-22T20:23:16.548Z"
      },
      {
        "duration": 4,
        "start_time": "2023-04-22T20:23:17.660Z"
      },
      {
        "duration": 21,
        "start_time": "2023-04-22T20:23:20.002Z"
      },
      {
        "duration": 8,
        "start_time": "2023-04-22T20:23:24.317Z"
      },
      {
        "duration": 10,
        "start_time": "2023-04-22T20:23:25.965Z"
      },
      {
        "duration": 11,
        "start_time": "2023-04-22T20:23:28.620Z"
      },
      {
        "duration": 12,
        "start_time": "2023-04-22T20:23:33.349Z"
      },
      {
        "duration": 13,
        "start_time": "2023-04-22T20:23:36.525Z"
      },
      {
        "duration": 13,
        "start_time": "2023-04-22T20:23:38.390Z"
      },
      {
        "duration": 10,
        "start_time": "2023-04-22T20:23:39.340Z"
      },
      {
        "duration": 50,
        "start_time": "2023-04-22T20:23:40.253Z"
      },
      {
        "duration": 19,
        "start_time": "2023-04-22T20:23:41.836Z"
      },
      {
        "duration": 39,
        "start_time": "2023-04-22T20:23:42.469Z"
      },
      {
        "duration": 6,
        "start_time": "2023-04-22T20:23:45.012Z"
      },
      {
        "duration": 8,
        "start_time": "2023-04-22T20:23:45.502Z"
      },
      {
        "duration": 11,
        "start_time": "2023-04-22T20:23:46.002Z"
      },
      {
        "duration": 5,
        "start_time": "2023-04-22T20:23:47.051Z"
      },
      {
        "duration": 16,
        "start_time": "2023-04-22T20:23:53.689Z"
      },
      {
        "duration": 150,
        "start_time": "2023-04-22T20:23:54.347Z"
      },
      {
        "duration": 5,
        "start_time": "2023-04-22T20:23:55.540Z"
      },
      {
        "duration": 130,
        "start_time": "2023-04-22T20:24:09.843Z"
      },
      {
        "duration": 163,
        "start_time": "2023-04-22T20:24:11.956Z"
      },
      {
        "duration": 304,
        "start_time": "2023-04-22T20:24:13.956Z"
      },
      {
        "duration": 5,
        "start_time": "2023-04-22T20:24:17.339Z"
      },
      {
        "duration": 153,
        "start_time": "2023-04-22T20:24:18.226Z"
      },
      {
        "duration": 38,
        "start_time": "2023-04-22T20:24:21.851Z"
      },
      {
        "duration": 40,
        "start_time": "2023-04-22T20:24:22.531Z"
      },
      {
        "duration": 77,
        "start_time": "2023-04-22T20:24:23.108Z"
      },
      {
        "duration": 7,
        "start_time": "2023-04-22T20:24:24.516Z"
      },
      {
        "duration": 126,
        "start_time": "2023-04-22T20:24:25.298Z"
      },
      {
        "duration": 4,
        "start_time": "2023-04-22T20:24:35.147Z"
      },
      {
        "duration": 14,
        "start_time": "2023-04-22T20:24:35.740Z"
      },
      {
        "duration": 119,
        "start_time": "2023-04-22T20:24:38.611Z"
      },
      {
        "duration": 5,
        "start_time": "2023-04-22T20:24:41.411Z"
      },
      {
        "duration": 18,
        "start_time": "2023-04-22T20:24:42.300Z"
      },
      {
        "duration": 139,
        "start_time": "2023-04-22T20:24:44.101Z"
      },
      {
        "duration": 39,
        "start_time": "2023-04-22T20:24:54.342Z"
      },
      {
        "duration": 38,
        "start_time": "2023-04-22T20:24:55.507Z"
      },
      {
        "duration": 27,
        "start_time": "2023-04-22T20:24:57.708Z"
      },
      {
        "duration": 1131,
        "start_time": "2023-04-22T20:25:03.629Z"
      },
      {
        "duration": 28,
        "start_time": "2023-04-22T20:25:05.027Z"
      },
      {
        "duration": 42,
        "start_time": "2023-04-22T20:25:07.963Z"
      },
      {
        "duration": 63,
        "start_time": "2023-04-22T20:25:10.195Z"
      },
      {
        "duration": 147,
        "start_time": "2023-04-22T20:25:11.442Z"
      },
      {
        "duration": 127,
        "start_time": "2023-04-22T20:25:27.042Z"
      },
      {
        "duration": 82,
        "start_time": "2023-04-22T20:25:47.444Z"
      },
      {
        "duration": 81,
        "start_time": "2023-04-22T20:26:21.851Z"
      },
      {
        "duration": 33,
        "start_time": "2023-04-22T20:26:22.383Z"
      },
      {
        "duration": 29,
        "start_time": "2023-04-22T20:26:33.818Z"
      },
      {
        "duration": 52,
        "start_time": "2023-04-22T20:26:35.865Z"
      },
      {
        "duration": 118,
        "start_time": "2023-04-22T20:26:57.191Z"
      },
      {
        "duration": 5033,
        "start_time": "2023-04-22T20:27:43.710Z"
      },
      {
        "duration": 20,
        "start_time": "2023-04-22T20:29:00.738Z"
      },
      {
        "duration": 99,
        "start_time": "2023-04-22T20:29:26.739Z"
      },
      {
        "duration": 33,
        "start_time": "2023-04-22T20:29:37.923Z"
      },
      {
        "duration": 22,
        "start_time": "2023-04-22T20:29:38.622Z"
      },
      {
        "duration": 97,
        "start_time": "2023-04-22T20:29:39.769Z"
      },
      {
        "duration": 110,
        "start_time": "2023-04-22T20:29:44.590Z"
      },
      {
        "duration": 60,
        "start_time": "2023-04-22T20:30:28.020Z"
      },
      {
        "duration": 133,
        "start_time": "2023-04-22T20:30:50.867Z"
      },
      {
        "duration": 6,
        "start_time": "2023-04-22T20:31:59.905Z"
      },
      {
        "duration": 5,
        "start_time": "2023-04-22T20:32:08.794Z"
      },
      {
        "duration": 7,
        "start_time": "2023-04-22T20:32:10.225Z"
      },
      {
        "duration": 18,
        "start_time": "2023-04-22T20:32:54.457Z"
      },
      {
        "duration": 13,
        "start_time": "2023-04-22T20:32:56.572Z"
      },
      {
        "duration": 6,
        "start_time": "2023-04-22T20:33:17.498Z"
      },
      {
        "duration": 12,
        "start_time": "2023-04-22T20:33:19.071Z"
      },
      {
        "duration": 9,
        "start_time": "2023-04-22T20:33:41.049Z"
      },
      {
        "duration": 52,
        "start_time": "2023-04-22T20:33:42.130Z"
      },
      {
        "duration": 10,
        "start_time": "2023-04-22T20:33:43.002Z"
      },
      {
        "duration": 4,
        "start_time": "2023-04-22T20:33:43.826Z"
      },
      {
        "duration": 13,
        "start_time": "2023-04-22T20:33:44.845Z"
      },
      {
        "duration": 8,
        "start_time": "2023-04-22T20:33:46.898Z"
      },
      {
        "duration": 9,
        "start_time": "2023-04-22T20:33:48.009Z"
      },
      {
        "duration": 10,
        "start_time": "2023-04-22T20:33:50.521Z"
      },
      {
        "duration": 6,
        "start_time": "2023-04-22T20:34:00.111Z"
      },
      {
        "duration": 12,
        "start_time": "2023-04-22T20:34:00.999Z"
      },
      {
        "duration": 5,
        "start_time": "2023-04-22T20:34:13.547Z"
      },
      {
        "duration": 44,
        "start_time": "2023-04-22T20:34:14.506Z"
      },
      {
        "duration": 7,
        "start_time": "2023-04-22T20:34:15.016Z"
      },
      {
        "duration": 12,
        "start_time": "2023-04-22T20:34:16.200Z"
      },
      {
        "duration": 14,
        "start_time": "2023-04-22T20:34:19.406Z"
      },
      {
        "duration": 4,
        "start_time": "2023-04-22T20:34:34.731Z"
      },
      {
        "duration": 7,
        "start_time": "2023-04-22T20:34:35.804Z"
      },
      {
        "duration": 12,
        "start_time": "2023-04-22T20:34:36.520Z"
      },
      {
        "duration": 4,
        "start_time": "2023-04-22T20:34:44.145Z"
      },
      {
        "duration": 63,
        "start_time": "2023-04-22T20:34:44.937Z"
      },
      {
        "duration": 17,
        "start_time": "2023-04-22T20:34:45.688Z"
      },
      {
        "duration": 5,
        "start_time": "2023-04-22T20:34:46.321Z"
      },
      {
        "duration": 17,
        "start_time": "2023-04-22T20:34:47.214Z"
      },
      {
        "duration": 4,
        "start_time": "2023-04-22T20:34:48.478Z"
      },
      {
        "duration": 9,
        "start_time": "2023-04-22T20:34:49.337Z"
      },
      {
        "duration": 16,
        "start_time": "2023-04-22T20:34:53.457Z"
      },
      {
        "duration": 12,
        "start_time": "2023-04-22T20:34:58.834Z"
      },
      {
        "duration": 13,
        "start_time": "2023-04-22T20:35:00.528Z"
      },
      {
        "duration": 20,
        "start_time": "2023-04-22T20:35:01.773Z"
      },
      {
        "duration": 11,
        "start_time": "2023-04-22T20:35:02.510Z"
      },
      {
        "duration": 19,
        "start_time": "2023-04-22T20:35:03.227Z"
      },
      {
        "duration": 22,
        "start_time": "2023-04-22T20:35:04.610Z"
      },
      {
        "duration": 13,
        "start_time": "2023-04-22T20:35:05.153Z"
      },
      {
        "duration": 5,
        "start_time": "2023-04-22T20:35:07.329Z"
      },
      {
        "duration": 5,
        "start_time": "2023-04-22T20:35:07.849Z"
      },
      {
        "duration": 7,
        "start_time": "2023-04-22T20:35:08.335Z"
      },
      {
        "duration": 16,
        "start_time": "2023-04-22T20:35:10.770Z"
      },
      {
        "duration": 9,
        "start_time": "2023-04-22T20:35:13.701Z"
      },
      {
        "duration": 111,
        "start_time": "2023-04-22T20:35:14.301Z"
      },
      {
        "duration": 14,
        "start_time": "2023-04-22T20:35:18.098Z"
      },
      {
        "duration": 6,
        "start_time": "2023-04-22T20:35:28.650Z"
      },
      {
        "duration": 121,
        "start_time": "2023-04-22T20:35:29.771Z"
      },
      {
        "duration": 14,
        "start_time": "2023-04-22T20:35:32.346Z"
      },
      {
        "duration": 6,
        "start_time": "2023-04-22T20:37:14.923Z"
      },
      {
        "duration": 6,
        "start_time": "2023-04-22T20:37:15.353Z"
      },
      {
        "duration": 8,
        "start_time": "2023-04-22T20:37:15.753Z"
      },
      {
        "duration": 6,
        "start_time": "2023-04-22T20:37:16.612Z"
      },
      {
        "duration": 4,
        "start_time": "2023-04-22T20:37:17.915Z"
      },
      {
        "duration": 123,
        "start_time": "2023-04-22T20:37:19.265Z"
      },
      {
        "duration": 18,
        "start_time": "2023-04-22T20:37:23.153Z"
      },
      {
        "duration": 5,
        "start_time": "2023-04-22T20:38:44.934Z"
      },
      {
        "duration": 92,
        "start_time": "2023-04-22T20:38:46.113Z"
      },
      {
        "duration": 9,
        "start_time": "2023-04-22T20:38:47.158Z"
      },
      {
        "duration": 4,
        "start_time": "2023-04-22T20:38:48.063Z"
      },
      {
        "duration": 42,
        "start_time": "2023-04-22T20:38:48.868Z"
      },
      {
        "duration": 6,
        "start_time": "2023-04-22T20:38:50.895Z"
      },
      {
        "duration": 14,
        "start_time": "2023-04-22T20:38:55.371Z"
      },
      {
        "duration": 75,
        "start_time": "2023-04-22T20:38:56.685Z"
      },
      {
        "duration": 12,
        "start_time": "2023-04-22T20:38:57.689Z"
      },
      {
        "duration": 5,
        "start_time": "2023-04-22T20:38:58.736Z"
      },
      {
        "duration": 16,
        "start_time": "2023-04-22T20:39:00.930Z"
      },
      {
        "duration": 7,
        "start_time": "2023-04-22T20:39:10.505Z"
      },
      {
        "duration": 11,
        "start_time": "2023-04-22T20:39:11.346Z"
      },
      {
        "duration": 27,
        "start_time": "2023-04-22T20:39:12.868Z"
      },
      {
        "duration": 19,
        "start_time": "2023-04-22T20:39:17.530Z"
      },
      {
        "duration": 24,
        "start_time": "2023-04-22T20:39:21.697Z"
      },
      {
        "duration": 9,
        "start_time": "2023-04-22T20:39:24.739Z"
      },
      {
        "duration": 11,
        "start_time": "2023-04-22T20:39:26.619Z"
      },
      {
        "duration": 38,
        "start_time": "2023-04-22T20:39:34.202Z"
      },
      {
        "duration": 34,
        "start_time": "2023-04-22T20:39:36.663Z"
      },
      {
        "duration": 17,
        "start_time": "2023-04-22T20:39:37.652Z"
      },
      {
        "duration": 5,
        "start_time": "2023-04-22T20:39:45.347Z"
      },
      {
        "duration": 7,
        "start_time": "2023-04-22T20:39:46.904Z"
      },
      {
        "duration": 10,
        "start_time": "2023-04-22T20:39:47.813Z"
      },
      {
        "duration": 6,
        "start_time": "2023-04-22T20:39:49.826Z"
      },
      {
        "duration": 5,
        "start_time": "2023-04-22T20:39:51.857Z"
      },
      {
        "duration": 230,
        "start_time": "2023-04-22T20:39:53.100Z"
      },
      {
        "duration": 9,
        "start_time": "2023-04-22T20:39:54.208Z"
      },
      {
        "duration": 7,
        "start_time": "2023-04-22T20:44:11.468Z"
      },
      {
        "duration": 70,
        "start_time": "2023-04-22T20:44:12.515Z"
      },
      {
        "duration": 17,
        "start_time": "2023-04-22T20:44:13.200Z"
      },
      {
        "duration": 6,
        "start_time": "2023-04-22T20:44:13.835Z"
      },
      {
        "duration": 13,
        "start_time": "2023-04-22T20:44:14.549Z"
      },
      {
        "duration": 12,
        "start_time": "2023-04-22T20:44:16.902Z"
      },
      {
        "duration": 11,
        "start_time": "2023-04-22T20:44:17.496Z"
      },
      {
        "duration": 17,
        "start_time": "2023-04-22T20:44:18.415Z"
      },
      {
        "duration": 16,
        "start_time": "2023-04-22T20:44:21.852Z"
      },
      {
        "duration": 36,
        "start_time": "2023-04-22T20:44:26.262Z"
      },
      {
        "duration": 12,
        "start_time": "2023-04-22T20:44:31.618Z"
      },
      {
        "duration": 19,
        "start_time": "2023-04-22T20:44:32.415Z"
      },
      {
        "duration": 27,
        "start_time": "2023-04-22T20:44:37.037Z"
      },
      {
        "duration": 24,
        "start_time": "2023-04-22T20:44:41.334Z"
      },
      {
        "duration": 17,
        "start_time": "2023-04-22T20:44:42.206Z"
      },
      {
        "duration": 27,
        "start_time": "2023-04-22T20:45:50.090Z"
      },
      {
        "duration": 5,
        "start_time": "2023-04-22T20:45:52.698Z"
      },
      {
        "duration": 7,
        "start_time": "2023-04-22T20:45:53.215Z"
      },
      {
        "duration": 8,
        "start_time": "2023-04-22T20:45:53.822Z"
      },
      {
        "duration": 12,
        "start_time": "2023-04-22T20:45:56.502Z"
      },
      {
        "duration": 4,
        "start_time": "2023-04-22T20:46:02.765Z"
      },
      {
        "duration": 245,
        "start_time": "2023-04-22T20:46:05.952Z"
      },
      {
        "duration": 8,
        "start_time": "2023-04-22T20:46:28.927Z"
      },
      {
        "duration": 10,
        "start_time": "2023-04-22T20:46:39.891Z"
      },
      {
        "duration": 86,
        "start_time": "2023-04-22T20:46:41.110Z"
      },
      {
        "duration": 10,
        "start_time": "2023-04-22T20:46:42.044Z"
      },
      {
        "duration": 4,
        "start_time": "2023-04-22T20:46:42.703Z"
      },
      {
        "duration": 13,
        "start_time": "2023-04-22T20:46:44.031Z"
      },
      {
        "duration": 7,
        "start_time": "2023-04-22T20:46:51.726Z"
      },
      {
        "duration": 11,
        "start_time": "2023-04-22T20:46:52.325Z"
      },
      {
        "duration": 39,
        "start_time": "2023-04-22T20:46:53.758Z"
      },
      {
        "duration": 17,
        "start_time": "2023-04-22T20:46:56.347Z"
      },
      {
        "duration": 18,
        "start_time": "2023-04-22T20:46:57.816Z"
      },
      {
        "duration": 14,
        "start_time": "2023-04-22T20:46:59.068Z"
      },
      {
        "duration": 14,
        "start_time": "2023-04-22T20:46:59.526Z"
      },
      {
        "duration": 21,
        "start_time": "2023-04-22T20:47:00.031Z"
      },
      {
        "duration": 13,
        "start_time": "2023-04-22T20:47:01.234Z"
      },
      {
        "duration": 19,
        "start_time": "2023-04-22T20:47:01.803Z"
      },
      {
        "duration": 6,
        "start_time": "2023-04-22T20:47:04.225Z"
      },
      {
        "duration": 10,
        "start_time": "2023-04-22T20:47:04.716Z"
      },
      {
        "duration": 6,
        "start_time": "2023-04-22T20:47:05.191Z"
      },
      {
        "duration": 11,
        "start_time": "2023-04-22T20:47:06.206Z"
      },
      {
        "duration": 6,
        "start_time": "2023-04-22T20:47:07.749Z"
      },
      {
        "duration": 186,
        "start_time": "2023-04-22T20:47:08.710Z"
      },
      {
        "duration": 10,
        "start_time": "2023-04-22T20:47:17.413Z"
      },
      {
        "duration": 147,
        "start_time": "2023-04-22T20:47:25.814Z"
      },
      {
        "duration": 200,
        "start_time": "2023-04-22T20:47:29.559Z"
      },
      {
        "duration": 323,
        "start_time": "2023-04-22T20:47:30.909Z"
      },
      {
        "duration": 6,
        "start_time": "2023-04-22T20:47:32.614Z"
      },
      {
        "duration": 144,
        "start_time": "2023-04-22T20:47:33.541Z"
      },
      {
        "duration": 43,
        "start_time": "2023-04-22T20:47:40.415Z"
      },
      {
        "duration": 70,
        "start_time": "2023-04-22T20:47:41.165Z"
      },
      {
        "duration": 42,
        "start_time": "2023-04-22T20:47:41.710Z"
      },
      {
        "duration": 9,
        "start_time": "2023-04-22T20:47:43.098Z"
      },
      {
        "duration": 349,
        "start_time": "2023-04-22T20:47:44.174Z"
      },
      {
        "duration": 3,
        "start_time": "2023-04-22T20:47:50.430Z"
      },
      {
        "duration": 12,
        "start_time": "2023-04-22T20:47:51.132Z"
      },
      {
        "duration": 118,
        "start_time": "2023-04-22T20:47:52.219Z"
      },
      {
        "duration": 6,
        "start_time": "2023-04-22T20:47:53.949Z"
      },
      {
        "duration": 16,
        "start_time": "2023-04-22T20:47:54.469Z"
      },
      {
        "duration": 171,
        "start_time": "2023-04-22T20:47:55.622Z"
      },
      {
        "duration": 31,
        "start_time": "2023-04-22T20:47:56.839Z"
      },
      {
        "duration": 30,
        "start_time": "2023-04-22T20:48:06.718Z"
      },
      {
        "duration": 53,
        "start_time": "2023-04-22T20:48:27.557Z"
      },
      {
        "duration": 45,
        "start_time": "2023-04-22T20:48:28.270Z"
      },
      {
        "duration": 106,
        "start_time": "2023-04-22T20:48:31.414Z"
      },
      {
        "duration": 100,
        "start_time": "2023-04-22T20:48:32.837Z"
      },
      {
        "duration": 7,
        "start_time": "2023-04-22T20:49:44.023Z"
      },
      {
        "duration": 61,
        "start_time": "2023-04-22T20:49:45.015Z"
      },
      {
        "duration": 9,
        "start_time": "2023-04-22T20:49:45.526Z"
      },
      {
        "duration": 9,
        "start_time": "2023-04-22T20:49:46.131Z"
      },
      {
        "duration": 46,
        "start_time": "2023-04-22T20:49:46.794Z"
      },
      {
        "duration": 9,
        "start_time": "2023-04-22T20:49:47.726Z"
      },
      {
        "duration": 25,
        "start_time": "2023-04-22T20:49:48.206Z"
      },
      {
        "duration": 14,
        "start_time": "2023-04-22T20:49:48.830Z"
      },
      {
        "duration": 20,
        "start_time": "2023-04-22T20:49:49.899Z"
      },
      {
        "duration": 17,
        "start_time": "2023-04-22T20:49:51.245Z"
      },
      {
        "duration": 12,
        "start_time": "2023-04-22T20:49:52.399Z"
      },
      {
        "duration": 31,
        "start_time": "2023-04-22T20:49:52.915Z"
      },
      {
        "duration": 29,
        "start_time": "2023-04-22T20:49:53.401Z"
      },
      {
        "duration": 25,
        "start_time": "2023-04-22T20:49:54.458Z"
      },
      {
        "duration": 21,
        "start_time": "2023-04-22T20:49:55.070Z"
      },
      {
        "duration": 5,
        "start_time": "2023-04-22T20:49:57.263Z"
      },
      {
        "duration": 10,
        "start_time": "2023-04-22T20:49:57.730Z"
      },
      {
        "duration": 12,
        "start_time": "2023-04-22T20:49:58.166Z"
      },
      {
        "duration": 14,
        "start_time": "2023-04-22T20:49:59.090Z"
      },
      {
        "duration": 26,
        "start_time": "2023-04-22T20:50:00.599Z"
      },
      {
        "duration": 168,
        "start_time": "2023-04-22T20:50:01.025Z"
      },
      {
        "duration": 12,
        "start_time": "2023-04-22T20:50:03.601Z"
      },
      {
        "duration": 134,
        "start_time": "2023-04-22T20:50:07.525Z"
      },
      {
        "duration": 147,
        "start_time": "2023-04-22T20:50:08.950Z"
      },
      {
        "duration": 294,
        "start_time": "2023-04-22T20:50:09.930Z"
      },
      {
        "duration": 6,
        "start_time": "2023-04-22T20:50:11.646Z"
      },
      {
        "duration": 100,
        "start_time": "2023-04-22T20:50:12.621Z"
      },
      {
        "duration": 52,
        "start_time": "2023-04-22T20:50:16.023Z"
      },
      {
        "duration": 53,
        "start_time": "2023-04-22T20:50:16.725Z"
      },
      {
        "duration": 55,
        "start_time": "2023-04-22T20:50:17.189Z"
      },
      {
        "duration": 10,
        "start_time": "2023-04-22T20:50:18.521Z"
      },
      {
        "duration": 217,
        "start_time": "2023-04-22T20:50:19.409Z"
      },
      {
        "duration": 6,
        "start_time": "2023-04-22T20:50:27.801Z"
      },
      {
        "duration": 22,
        "start_time": "2023-04-22T20:50:28.416Z"
      },
      {
        "duration": 110,
        "start_time": "2023-04-22T20:50:29.334Z"
      },
      {
        "duration": 5,
        "start_time": "2023-04-22T20:50:30.424Z"
      },
      {
        "duration": 15,
        "start_time": "2023-04-22T20:50:30.913Z"
      },
      {
        "duration": 165,
        "start_time": "2023-04-22T20:50:32.165Z"
      },
      {
        "duration": 46,
        "start_time": "2023-04-22T20:50:33.497Z"
      },
      {
        "duration": 29,
        "start_time": "2023-04-22T20:50:34.831Z"
      },
      {
        "duration": 4998,
        "start_time": "2023-04-22T20:50:39.705Z"
      },
      {
        "duration": 39,
        "start_time": "2023-04-22T20:50:44.705Z"
      },
      {
        "duration": 19,
        "start_time": "2023-04-22T20:50:44.745Z"
      },
      {
        "duration": 24,
        "start_time": "2023-04-22T20:50:47.876Z"
      },
      {
        "duration": 173,
        "start_time": "2023-04-22T20:50:48.870Z"
      },
      {
        "duration": 5526,
        "start_time": "2023-04-22T20:50:51.507Z"
      },
      {
        "duration": 54,
        "start_time": "2023-04-22T20:50:57.039Z"
      },
      {
        "duration": 20,
        "start_time": "2023-04-22T20:51:03.718Z"
      },
      {
        "duration": 98,
        "start_time": "2023-04-22T20:51:04.419Z"
      },
      {
        "duration": 272,
        "start_time": "2023-04-22T20:51:06.937Z"
      },
      {
        "duration": 869,
        "start_time": "2023-04-22T20:54:20.160Z"
      },
      {
        "duration": 39,
        "start_time": "2023-04-22T20:54:40.603Z"
      },
      {
        "duration": 51,
        "start_time": "2023-04-22T20:54:46.605Z"
      },
      {
        "duration": 97,
        "start_time": "2023-04-22T20:54:56.328Z"
      },
      {
        "duration": 199,
        "start_time": "2023-04-22T20:54:57.227Z"
      },
      {
        "duration": 207,
        "start_time": "2023-04-22T20:55:06.136Z"
      },
      {
        "duration": 504,
        "start_time": "2023-04-22T21:00:19.538Z"
      },
      {
        "duration": 120,
        "start_time": "2023-04-22T21:00:35.358Z"
      },
      {
        "duration": 363,
        "start_time": "2023-04-22T21:00:41.698Z"
      },
      {
        "duration": 822,
        "start_time": "2023-04-22T21:00:48.098Z"
      },
      {
        "duration": 1567,
        "start_time": "2023-04-22T21:01:01.834Z"
      },
      {
        "duration": 135263,
        "start_time": "2023-04-22T21:04:09.914Z"
      },
      {
        "duration": 65925,
        "start_time": "2023-04-22T21:06:43.212Z"
      },
      {
        "duration": 70863,
        "start_time": "2023-04-22T21:10:03.623Z"
      },
      {
        "duration": 107,
        "start_time": "2023-04-22T21:13:03.596Z"
      },
      {
        "duration": 458,
        "start_time": "2023-04-22T21:13:50.047Z"
      },
      {
        "duration": 470,
        "start_time": "2023-04-22T21:15:09.827Z"
      },
      {
        "duration": 462,
        "start_time": "2023-04-22T21:15:18.294Z"
      },
      {
        "duration": 333,
        "start_time": "2023-04-22T21:15:29.802Z"
      },
      {
        "duration": 76402,
        "start_time": "2023-04-22T21:16:24.761Z"
      },
      {
        "duration": 67939,
        "start_time": "2023-04-22T21:18:23.862Z"
      },
      {
        "duration": 367,
        "start_time": "2023-04-22T21:20:04.601Z"
      },
      {
        "duration": 437,
        "start_time": "2023-04-22T21:20:24.566Z"
      },
      {
        "duration": 462,
        "start_time": "2023-04-22T21:21:21.511Z"
      },
      {
        "duration": 29,
        "start_time": "2023-04-22T21:22:15.511Z"
      },
      {
        "duration": 13,
        "start_time": "2023-04-22T21:23:48.232Z"
      },
      {
        "duration": 276,
        "start_time": "2023-04-22T21:24:14.033Z"
      },
      {
        "duration": 300,
        "start_time": "2023-04-22T21:24:49.865Z"
      },
      {
        "duration": 386,
        "start_time": "2023-04-22T21:26:20.224Z"
      },
      {
        "duration": 303,
        "start_time": "2023-04-22T21:28:47.339Z"
      },
      {
        "duration": 331,
        "start_time": "2023-04-22T21:29:22.302Z"
      },
      {
        "duration": 291,
        "start_time": "2023-04-22T21:31:12.802Z"
      },
      {
        "duration": 353,
        "start_time": "2023-04-22T21:32:26.054Z"
      },
      {
        "duration": 17,
        "start_time": "2023-04-22T21:34:03.316Z"
      },
      {
        "duration": 34,
        "start_time": "2023-04-22T21:34:07.958Z"
      },
      {
        "duration": 7,
        "start_time": "2023-04-22T21:34:43.533Z"
      },
      {
        "duration": 15,
        "start_time": "2023-04-22T21:36:42.852Z"
      },
      {
        "duration": 16,
        "start_time": "2023-04-22T21:37:33.944Z"
      },
      {
        "duration": 16,
        "start_time": "2023-04-22T21:39:02.429Z"
      },
      {
        "duration": 19,
        "start_time": "2023-04-22T21:39:19.407Z"
      },
      {
        "duration": 38,
        "start_time": "2023-04-22T21:39:28.371Z"
      },
      {
        "duration": 18,
        "start_time": "2023-04-22T21:39:57.889Z"
      },
      {
        "duration": 10,
        "start_time": "2023-04-22T21:41:02.926Z"
      },
      {
        "duration": 259,
        "start_time": "2023-04-22T21:43:55.022Z"
      },
      {
        "duration": 31,
        "start_time": "2023-04-22T21:44:24.358Z"
      },
      {
        "duration": 7,
        "start_time": "2023-04-22T21:44:31.621Z"
      },
      {
        "duration": 7,
        "start_time": "2023-04-22T21:44:43.470Z"
      },
      {
        "duration": 9,
        "start_time": "2023-04-22T21:45:07.934Z"
      },
      {
        "duration": 11,
        "start_time": "2023-04-22T21:45:19.709Z"
      },
      {
        "duration": 3,
        "start_time": "2023-04-22T21:45:57.149Z"
      },
      {
        "duration": 86,
        "start_time": "2023-04-22T21:46:03.645Z"
      },
      {
        "duration": 4,
        "start_time": "2023-04-22T21:46:18.759Z"
      },
      {
        "duration": 6,
        "start_time": "2023-04-22T22:03:34.735Z"
      },
      {
        "duration": 137,
        "start_time": "2023-04-22T22:03:36.409Z"
      },
      {
        "duration": 7,
        "start_time": "2023-04-22T22:03:36.926Z"
      },
      {
        "duration": 4,
        "start_time": "2023-04-22T22:03:37.532Z"
      },
      {
        "duration": 19,
        "start_time": "2023-04-22T22:03:38.133Z"
      },
      {
        "duration": 11,
        "start_time": "2023-04-22T22:03:39.202Z"
      },
      {
        "duration": 13,
        "start_time": "2023-04-22T22:03:39.698Z"
      },
      {
        "duration": 14,
        "start_time": "2023-04-22T22:03:40.221Z"
      },
      {
        "duration": 21,
        "start_time": "2023-04-22T22:03:41.261Z"
      },
      {
        "duration": 16,
        "start_time": "2023-04-22T22:03:44.141Z"
      },
      {
        "duration": 9,
        "start_time": "2023-04-22T22:03:45.261Z"
      },
      {
        "duration": 17,
        "start_time": "2023-04-22T22:03:45.775Z"
      },
      {
        "duration": 25,
        "start_time": "2023-04-22T22:03:46.222Z"
      },
      {
        "duration": 25,
        "start_time": "2023-04-22T22:03:47.193Z"
      },
      {
        "duration": 15,
        "start_time": "2023-04-22T22:03:47.628Z"
      },
      {
        "duration": 5,
        "start_time": "2023-04-22T22:03:49.342Z"
      },
      {
        "duration": 6,
        "start_time": "2023-04-22T22:03:49.739Z"
      },
      {
        "duration": 6,
        "start_time": "2023-04-22T22:03:50.117Z"
      },
      {
        "duration": 4,
        "start_time": "2023-04-22T22:03:50.757Z"
      },
      {
        "duration": 9,
        "start_time": "2023-04-22T22:03:51.417Z"
      },
      {
        "duration": 223,
        "start_time": "2023-04-22T22:03:51.785Z"
      },
      {
        "duration": 6,
        "start_time": "2023-04-22T22:03:52.130Z"
      },
      {
        "duration": 233,
        "start_time": "2023-04-22T22:03:54.395Z"
      },
      {
        "duration": 154,
        "start_time": "2023-04-22T22:03:54.894Z"
      },
      {
        "duration": 312,
        "start_time": "2023-04-22T22:03:55.715Z"
      },
      {
        "duration": 6,
        "start_time": "2023-04-22T22:03:57.017Z"
      },
      {
        "duration": 130,
        "start_time": "2023-04-22T22:03:57.845Z"
      },
      {
        "duration": 29,
        "start_time": "2023-04-22T22:03:59.789Z"
      },
      {
        "duration": 50,
        "start_time": "2023-04-22T22:04:00.244Z"
      },
      {
        "duration": 39,
        "start_time": "2023-04-22T22:04:00.637Z"
      },
      {
        "duration": 6,
        "start_time": "2023-04-22T22:04:01.341Z"
      },
      {
        "duration": 190,
        "start_time": "2023-04-22T22:04:02.291Z"
      },
      {
        "duration": 13,
        "start_time": "2023-04-22T22:04:06.087Z"
      },
      {
        "duration": 23,
        "start_time": "2023-04-22T22:04:06.614Z"
      },
      {
        "duration": 162,
        "start_time": "2023-04-22T22:04:07.526Z"
      },
      {
        "duration": 5,
        "start_time": "2023-04-22T22:04:08.732Z"
      },
      {
        "duration": 12,
        "start_time": "2023-04-22T22:04:09.254Z"
      },
      {
        "duration": 139,
        "start_time": "2023-04-22T22:04:10.365Z"
      },
      {
        "duration": 880,
        "start_time": "2023-04-22T22:04:11.765Z"
      },
      {
        "duration": 43,
        "start_time": "2023-04-22T22:04:12.868Z"
      },
      {
        "duration": 39,
        "start_time": "2023-04-22T22:04:14.446Z"
      },
      {
        "duration": 79926,
        "start_time": "2023-04-22T22:04:18.698Z"
      },
      {
        "duration": 168,
        "start_time": "2023-04-22T22:05:38.949Z"
      },
      {
        "duration": 407,
        "start_time": "2023-04-22T22:05:39.185Z"
      },
      {
        "duration": 332,
        "start_time": "2023-04-22T22:05:43.807Z"
      },
      {
        "duration": 162,
        "start_time": "2023-04-22T22:05:44.542Z"
      },
      {
        "duration": 25,
        "start_time": "2023-04-22T22:08:28.906Z"
      },
      {
        "duration": 458,
        "start_time": "2023-04-22T22:09:18.052Z"
      },
      {
        "duration": 321,
        "start_time": "2023-04-22T22:09:39.731Z"
      },
      {
        "duration": 363,
        "start_time": "2023-04-22T22:10:25.742Z"
      },
      {
        "duration": 356,
        "start_time": "2023-04-22T22:11:06.869Z"
      },
      {
        "duration": 38,
        "start_time": "2023-04-22T22:15:35.813Z"
      },
      {
        "duration": 39,
        "start_time": "2023-04-22T22:15:36.969Z"
      },
      {
        "duration": 360,
        "start_time": "2023-04-22T22:16:08.330Z"
      },
      {
        "duration": 165,
        "start_time": "2023-04-22T22:16:38.844Z"
      },
      {
        "duration": 4,
        "start_time": "2023-04-22T22:17:02.547Z"
      },
      {
        "duration": 63,
        "start_time": "2023-04-22T22:17:03.771Z"
      },
      {
        "duration": 8,
        "start_time": "2023-04-22T22:17:04.111Z"
      },
      {
        "duration": 10,
        "start_time": "2023-04-22T22:17:04.688Z"
      },
      {
        "duration": 21,
        "start_time": "2023-04-22T22:17:05.164Z"
      },
      {
        "duration": 16,
        "start_time": "2023-04-22T22:17:05.994Z"
      },
      {
        "duration": 9,
        "start_time": "2023-04-22T22:17:07.111Z"
      },
      {
        "duration": 23,
        "start_time": "2023-04-22T22:17:07.573Z"
      },
      {
        "duration": 30,
        "start_time": "2023-04-22T22:17:08.571Z"
      },
      {
        "duration": 14,
        "start_time": "2023-04-22T22:17:09.540Z"
      },
      {
        "duration": 12,
        "start_time": "2023-04-22T22:17:10.407Z"
      },
      {
        "duration": 17,
        "start_time": "2023-04-22T22:17:10.799Z"
      },
      {
        "duration": 19,
        "start_time": "2023-04-22T22:17:11.132Z"
      },
      {
        "duration": 15,
        "start_time": "2023-04-22T22:17:11.805Z"
      },
      {
        "duration": 11,
        "start_time": "2023-04-22T22:17:12.123Z"
      },
      {
        "duration": 7,
        "start_time": "2023-04-22T22:17:13.996Z"
      },
      {
        "duration": 6,
        "start_time": "2023-04-22T22:17:14.530Z"
      },
      {
        "duration": 6,
        "start_time": "2023-04-22T22:17:14.709Z"
      },
      {
        "duration": 7,
        "start_time": "2023-04-22T22:17:15.502Z"
      },
      {
        "duration": 4,
        "start_time": "2023-04-22T22:17:16.144Z"
      },
      {
        "duration": 109,
        "start_time": "2023-04-22T22:17:16.501Z"
      },
      {
        "duration": 7,
        "start_time": "2023-04-22T22:17:16.801Z"
      },
      {
        "duration": 182,
        "start_time": "2023-04-22T22:17:17.828Z"
      },
      {
        "duration": 119,
        "start_time": "2023-04-22T22:17:18.293Z"
      },
      {
        "duration": 271,
        "start_time": "2023-04-22T22:17:18.931Z"
      },
      {
        "duration": 5,
        "start_time": "2023-04-22T22:17:20.050Z"
      },
      {
        "duration": 123,
        "start_time": "2023-04-22T22:17:20.570Z"
      },
      {
        "duration": 27,
        "start_time": "2023-04-22T22:17:23.298Z"
      },
      {
        "duration": 47,
        "start_time": "2023-04-22T22:17:23.879Z"
      },
      {
        "duration": 61,
        "start_time": "2023-04-22T22:17:24.354Z"
      },
      {
        "duration": 9,
        "start_time": "2023-04-22T22:17:26.798Z"
      },
      {
        "duration": 184,
        "start_time": "2023-04-22T22:17:27.405Z"
      },
      {
        "duration": 6,
        "start_time": "2023-04-22T22:17:29.113Z"
      },
      {
        "duration": 11,
        "start_time": "2023-04-22T22:17:29.756Z"
      },
      {
        "duration": 129,
        "start_time": "2023-04-22T22:17:30.402Z"
      },
      {
        "duration": 13,
        "start_time": "2023-04-22T22:17:32.276Z"
      },
      {
        "duration": 14,
        "start_time": "2023-04-22T22:17:32.811Z"
      },
      {
        "duration": 135,
        "start_time": "2023-04-22T22:17:33.314Z"
      },
      {
        "duration": 761,
        "start_time": "2023-04-22T22:17:34.548Z"
      },
      {
        "duration": 49,
        "start_time": "2023-04-22T22:17:37.547Z"
      },
      {
        "duration": 27,
        "start_time": "2023-04-22T22:17:38.939Z"
      },
      {
        "duration": 70978,
        "start_time": "2023-04-22T22:17:41.323Z"
      },
      {
        "duration": 340,
        "start_time": "2023-04-22T22:18:52.303Z"
      },
      {
        "duration": 260,
        "start_time": "2023-04-22T22:18:52.645Z"
      },
      {
        "duration": 73817,
        "start_time": "2023-04-22T22:18:58.356Z"
      },
      {
        "duration": 334,
        "start_time": "2023-04-22T22:20:12.182Z"
      },
      {
        "duration": 288,
        "start_time": "2023-04-22T22:20:12.518Z"
      },
      {
        "duration": 380,
        "start_time": "2023-04-22T22:20:12.809Z"
      },
      {
        "duration": 29,
        "start_time": "2023-04-22T22:20:13.197Z"
      },
      {
        "duration": 9,
        "start_time": "2023-04-22T22:20:13.228Z"
      },
      {
        "duration": 18,
        "start_time": "2023-04-22T22:20:13.238Z"
      },
      {
        "duration": 1147,
        "start_time": "2023-04-23T16:49:38.136Z"
      },
      {
        "duration": 78,
        "start_time": "2023-04-23T16:49:39.285Z"
      },
      {
        "duration": 9,
        "start_time": "2023-04-23T16:49:39.365Z"
      },
      {
        "duration": 4,
        "start_time": "2023-04-23T16:49:39.375Z"
      },
      {
        "duration": 36,
        "start_time": "2023-04-23T16:49:39.382Z"
      },
      {
        "duration": 17,
        "start_time": "2023-04-23T16:49:39.420Z"
      },
      {
        "duration": 9,
        "start_time": "2023-04-23T16:49:39.438Z"
      },
      {
        "duration": 13,
        "start_time": "2023-04-23T16:49:39.448Z"
      },
      {
        "duration": 11,
        "start_time": "2023-04-23T16:49:39.463Z"
      },
      {
        "duration": 12,
        "start_time": "2023-04-23T16:49:39.476Z"
      },
      {
        "duration": 27,
        "start_time": "2023-04-23T16:49:39.490Z"
      },
      {
        "duration": 14,
        "start_time": "2023-04-23T16:49:39.524Z"
      },
      {
        "duration": 19,
        "start_time": "2023-04-23T16:49:39.540Z"
      },
      {
        "duration": 13,
        "start_time": "2023-04-23T16:49:39.561Z"
      },
      {
        "duration": 24,
        "start_time": "2023-04-23T16:49:39.576Z"
      },
      {
        "duration": 9,
        "start_time": "2023-04-23T16:49:39.601Z"
      },
      {
        "duration": 6,
        "start_time": "2023-04-23T16:49:39.614Z"
      },
      {
        "duration": 13,
        "start_time": "2023-04-23T16:49:39.621Z"
      },
      {
        "duration": 4,
        "start_time": "2023-04-23T16:49:39.636Z"
      },
      {
        "duration": 6,
        "start_time": "2023-04-23T16:49:39.641Z"
      },
      {
        "duration": 90,
        "start_time": "2023-04-23T16:49:39.649Z"
      },
      {
        "duration": 57,
        "start_time": "2023-04-23T16:49:39.741Z"
      },
      {
        "duration": 218,
        "start_time": "2023-04-23T16:49:39.805Z"
      },
      {
        "duration": 129,
        "start_time": "2023-04-23T16:49:40.025Z"
      },
      {
        "duration": 286,
        "start_time": "2023-04-23T16:49:40.156Z"
      },
      {
        "duration": 6,
        "start_time": "2023-04-23T16:49:40.444Z"
      },
      {
        "duration": 147,
        "start_time": "2023-04-23T16:49:40.452Z"
      },
      {
        "duration": 106,
        "start_time": "2023-04-23T16:49:40.607Z"
      },
      {
        "duration": 43,
        "start_time": "2023-04-23T16:49:40.715Z"
      },
      {
        "duration": 42,
        "start_time": "2023-04-23T16:49:40.760Z"
      },
      {
        "duration": 25,
        "start_time": "2023-04-23T16:49:40.809Z"
      },
      {
        "duration": 245,
        "start_time": "2023-04-23T16:49:40.894Z"
      },
      {
        "duration": 54,
        "start_time": "2023-04-23T16:49:41.141Z"
      },
      {
        "duration": 105,
        "start_time": "2023-04-23T16:49:41.202Z"
      },
      {
        "duration": 134,
        "start_time": "2023-04-23T16:49:41.311Z"
      },
      {
        "duration": 4,
        "start_time": "2023-04-23T16:49:41.449Z"
      },
      {
        "duration": 19,
        "start_time": "2023-04-23T16:49:41.455Z"
      },
      {
        "duration": 130,
        "start_time": "2023-04-23T16:49:41.479Z"
      },
      {
        "duration": 135,
        "start_time": "2023-04-23T16:49:41.610Z"
      },
      {
        "duration": 0,
        "start_time": "2023-04-23T16:49:41.747Z"
      },
      {
        "duration": 0,
        "start_time": "2023-04-23T16:49:41.748Z"
      },
      {
        "duration": 0,
        "start_time": "2023-04-23T16:49:41.749Z"
      },
      {
        "duration": 0,
        "start_time": "2023-04-23T16:49:41.750Z"
      },
      {
        "duration": 0,
        "start_time": "2023-04-23T16:49:41.751Z"
      },
      {
        "duration": 0,
        "start_time": "2023-04-23T16:49:41.752Z"
      },
      {
        "duration": 0,
        "start_time": "2023-04-23T16:49:41.752Z"
      },
      {
        "duration": 0,
        "start_time": "2023-04-23T16:49:41.753Z"
      },
      {
        "duration": 0,
        "start_time": "2023-04-23T16:49:41.754Z"
      },
      {
        "duration": 641,
        "start_time": "2023-04-23T16:59:25.185Z"
      },
      {
        "duration": 31,
        "start_time": "2023-04-23T16:59:26.890Z"
      },
      {
        "duration": 14,
        "start_time": "2023-04-23T16:59:36.737Z"
      },
      {
        "duration": 1494,
        "start_time": "2023-04-24T15:49:30.686Z"
      },
      {
        "duration": 87,
        "start_time": "2023-04-24T15:49:46.984Z"
      },
      {
        "duration": 9,
        "start_time": "2023-04-24T15:49:51.214Z"
      },
      {
        "duration": 4,
        "start_time": "2023-04-24T15:49:53.710Z"
      },
      {
        "duration": 23,
        "start_time": "2023-04-24T15:49:54.808Z"
      },
      {
        "duration": 7,
        "start_time": "2023-04-24T15:50:06.358Z"
      },
      {
        "duration": 7,
        "start_time": "2023-04-24T15:53:29.299Z"
      },
      {
        "duration": 11,
        "start_time": "2023-04-24T15:53:30.987Z"
      },
      {
        "duration": 12,
        "start_time": "2023-04-24T15:53:39.361Z"
      },
      {
        "duration": 15,
        "start_time": "2023-04-24T15:54:20.885Z"
      },
      {
        "duration": 8,
        "start_time": "2023-04-24T15:54:28.305Z"
      },
      {
        "duration": 9,
        "start_time": "2023-04-24T15:54:29.114Z"
      },
      {
        "duration": 21,
        "start_time": "2023-04-24T16:02:43.501Z"
      },
      {
        "duration": 6,
        "start_time": "2023-04-24T16:16:27.981Z"
      },
      {
        "duration": 4,
        "start_time": "2023-04-24T16:21:44.895Z"
      },
      {
        "duration": 56,
        "start_time": "2023-04-24T16:21:46.022Z"
      },
      {
        "duration": 8,
        "start_time": "2023-04-24T16:21:48.009Z"
      },
      {
        "duration": 3,
        "start_time": "2023-04-24T16:21:48.614Z"
      },
      {
        "duration": 16,
        "start_time": "2023-04-24T16:21:49.295Z"
      },
      {
        "duration": 6,
        "start_time": "2023-04-24T16:21:51.247Z"
      },
      {
        "duration": 7,
        "start_time": "2023-04-24T16:21:53.702Z"
      },
      {
        "duration": 11,
        "start_time": "2023-04-24T16:21:54.501Z"
      },
      {
        "duration": 12,
        "start_time": "2023-04-24T16:21:55.720Z"
      },
      {
        "duration": 12,
        "start_time": "2023-04-24T16:21:58.579Z"
      },
      {
        "duration": 3,
        "start_time": "2023-04-24T16:22:02.082Z"
      },
      {
        "duration": 2,
        "start_time": "2023-04-24T16:22:02.848Z"
      },
      {
        "duration": 107,
        "start_time": "2023-04-24T16:22:05.832Z"
      },
      {
        "duration": 8,
        "start_time": "2023-04-24T16:22:38.202Z"
      },
      {
        "duration": 7,
        "start_time": "2023-04-24T16:23:23.545Z"
      },
      {
        "duration": 10,
        "start_time": "2023-04-24T16:23:24.714Z"
      },
      {
        "duration": 20,
        "start_time": "2023-04-24T16:23:41.489Z"
      },
      {
        "duration": 10,
        "start_time": "2023-04-24T16:29:02.227Z"
      },
      {
        "duration": 9,
        "start_time": "2023-04-24T16:29:17.835Z"
      },
      {
        "duration": 24,
        "start_time": "2023-04-24T16:30:47.996Z"
      },
      {
        "duration": 3,
        "start_time": "2023-04-24T16:31:20.581Z"
      },
      {
        "duration": 4,
        "start_time": "2023-04-24T16:38:15.692Z"
      },
      {
        "duration": 8,
        "start_time": "2023-04-24T16:38:16.284Z"
      },
      {
        "duration": 24,
        "start_time": "2023-04-24T16:38:17.449Z"
      },
      {
        "duration": 21,
        "start_time": "2023-04-24T16:38:37.609Z"
      },
      {
        "duration": 15,
        "start_time": "2023-04-24T16:39:21.585Z"
      },
      {
        "duration": 4,
        "start_time": "2023-04-24T16:41:26.834Z"
      },
      {
        "duration": 5,
        "start_time": "2023-04-24T16:41:27.424Z"
      },
      {
        "duration": 6,
        "start_time": "2023-04-24T16:41:30.834Z"
      },
      {
        "duration": 14,
        "start_time": "2023-04-24T16:41:31.588Z"
      },
      {
        "duration": 11,
        "start_time": "2023-04-24T16:41:45.051Z"
      },
      {
        "duration": 10,
        "start_time": "2023-04-24T16:42:54.484Z"
      },
      {
        "duration": 11,
        "start_time": "2023-04-24T16:43:51.828Z"
      },
      {
        "duration": 4,
        "start_time": "2023-04-24T16:44:00.795Z"
      },
      {
        "duration": 11,
        "start_time": "2023-04-24T16:44:01.390Z"
      },
      {
        "duration": 4,
        "start_time": "2023-04-24T16:44:06.252Z"
      },
      {
        "duration": 7,
        "start_time": "2023-04-24T16:44:06.999Z"
      },
      {
        "duration": 6,
        "start_time": "2023-04-24T16:44:09.708Z"
      },
      {
        "duration": 12,
        "start_time": "2023-04-24T16:44:10.340Z"
      },
      {
        "duration": 9,
        "start_time": "2023-04-24T16:44:39.582Z"
      },
      {
        "duration": 9,
        "start_time": "2023-04-24T16:44:46.948Z"
      },
      {
        "duration": 12,
        "start_time": "2023-04-24T16:44:54.852Z"
      },
      {
        "duration": 4,
        "start_time": "2023-04-24T16:45:01.340Z"
      },
      {
        "duration": 8,
        "start_time": "2023-04-24T16:45:09.293Z"
      },
      {
        "duration": 4,
        "start_time": "2023-04-24T16:45:21.693Z"
      },
      {
        "duration": 4,
        "start_time": "2023-04-24T16:46:58.839Z"
      },
      {
        "duration": 4,
        "start_time": "2023-04-24T16:53:08.728Z"
      },
      {
        "duration": 44,
        "start_time": "2023-04-24T16:53:09.816Z"
      },
      {
        "duration": 7,
        "start_time": "2023-04-24T16:53:11.409Z"
      },
      {
        "duration": 4,
        "start_time": "2023-04-24T16:53:12.033Z"
      },
      {
        "duration": 13,
        "start_time": "2023-04-24T16:53:12.530Z"
      },
      {
        "duration": 6,
        "start_time": "2023-04-24T16:53:14.137Z"
      },
      {
        "duration": 8,
        "start_time": "2023-04-24T16:53:16.129Z"
      },
      {
        "duration": 11,
        "start_time": "2023-04-24T16:53:16.712Z"
      },
      {
        "duration": 13,
        "start_time": "2023-04-24T16:53:19.761Z"
      },
      {
        "duration": 13,
        "start_time": "2023-04-24T16:53:21.649Z"
      },
      {
        "duration": 7,
        "start_time": "2023-04-24T16:53:22.947Z"
      },
      {
        "duration": 9,
        "start_time": "2023-04-24T16:53:23.544Z"
      },
      {
        "duration": 20,
        "start_time": "2023-04-24T16:53:29.706Z"
      },
      {
        "duration": 2,
        "start_time": "2023-04-24T16:53:44.224Z"
      },
      {
        "duration": 2,
        "start_time": "2023-04-24T16:53:45.913Z"
      },
      {
        "duration": 4,
        "start_time": "2023-04-24T16:53:50.329Z"
      },
      {
        "duration": 6,
        "start_time": "2023-04-24T16:53:51.745Z"
      },
      {
        "duration": 4,
        "start_time": "2023-04-24T16:53:52.633Z"
      },
      {
        "duration": 5,
        "start_time": "2023-04-24T16:54:10.306Z"
      },
      {
        "duration": 15,
        "start_time": "2023-04-24T16:54:11.389Z"
      },
      {
        "duration": 4,
        "start_time": "2023-04-24T16:54:12.485Z"
      },
      {
        "duration": 10,
        "start_time": "2023-04-24T16:55:05.658Z"
      },
      {
        "duration": 11,
        "start_time": "2023-04-24T16:55:27.793Z"
      },
      {
        "duration": 11,
        "start_time": "2023-04-24T16:55:44.792Z"
      },
      {
        "duration": 4,
        "start_time": "2023-04-24T16:55:56.899Z"
      },
      {
        "duration": 13,
        "start_time": "2023-04-24T16:57:57.715Z"
      },
      {
        "duration": 21,
        "start_time": "2023-04-24T16:58:08.123Z"
      },
      {
        "duration": 11,
        "start_time": "2023-04-24T16:58:09.659Z"
      },
      {
        "duration": 6,
        "start_time": "2023-04-24T16:58:39.500Z"
      },
      {
        "duration": 18,
        "start_time": "2023-04-24T16:58:40.193Z"
      },
      {
        "duration": 11,
        "start_time": "2023-04-24T16:58:46.556Z"
      },
      {
        "duration": 4,
        "start_time": "2023-04-24T16:58:50.360Z"
      },
      {
        "duration": 4,
        "start_time": "2023-04-24T16:59:00.060Z"
      },
      {
        "duration": 4,
        "start_time": "2023-04-24T16:59:11.652Z"
      },
      {
        "duration": 100,
        "start_time": "2023-04-24T16:59:13.433Z"
      },
      {
        "duration": 4,
        "start_time": "2023-04-24T16:59:27.228Z"
      },
      {
        "duration": 112,
        "start_time": "2023-04-24T16:59:31.512Z"
      },
      {
        "duration": 103,
        "start_time": "2023-04-24T16:59:38.316Z"
      },
      {
        "duration": 273,
        "start_time": "2023-04-24T16:59:39.716Z"
      },
      {
        "duration": 5,
        "start_time": "2023-04-24T16:59:42.174Z"
      },
      {
        "duration": 56,
        "start_time": "2023-04-24T16:59:43.444Z"
      },
      {
        "duration": 22,
        "start_time": "2023-04-24T16:59:51.621Z"
      },
      {
        "duration": 28,
        "start_time": "2023-04-24T16:59:53.902Z"
      },
      {
        "duration": 20,
        "start_time": "2023-04-24T16:59:55.890Z"
      },
      {
        "duration": 6,
        "start_time": "2023-04-24T17:00:04.285Z"
      },
      {
        "duration": 144,
        "start_time": "2023-04-24T17:00:06.491Z"
      },
      {
        "duration": 4,
        "start_time": "2023-04-24T17:00:39.812Z"
      },
      {
        "duration": 15,
        "start_time": "2023-04-24T17:00:40.996Z"
      },
      {
        "duration": 119,
        "start_time": "2023-04-24T17:00:49.204Z"
      },
      {
        "duration": 4,
        "start_time": "2023-04-24T17:00:51.412Z"
      },
      {
        "duration": 13,
        "start_time": "2023-04-24T17:00:52.037Z"
      },
      {
        "duration": 104,
        "start_time": "2023-04-24T17:00:54.421Z"
      },
      {
        "duration": 11,
        "start_time": "2023-04-24T17:01:18.933Z"
      },
      {
        "duration": 11,
        "start_time": "2023-04-24T17:01:39.837Z"
      },
      {
        "duration": 13,
        "start_time": "2023-04-24T17:01:45.213Z"
      },
      {
        "duration": 13,
        "start_time": "2023-04-24T17:01:50.534Z"
      },
      {
        "duration": 204,
        "start_time": "2023-04-24T17:01:52.013Z"
      },
      {
        "duration": 4,
        "start_time": "2023-04-24T17:02:01.630Z"
      },
      {
        "duration": 12,
        "start_time": "2023-04-24T17:02:05.005Z"
      },
      {
        "duration": 12,
        "start_time": "2023-04-24T17:02:16.696Z"
      },
      {
        "duration": 114,
        "start_time": "2023-04-24T17:02:18.517Z"
      },
      {
        "duration": 491,
        "start_time": "2023-04-24T17:02:21.462Z"
      },
      {
        "duration": 484,
        "start_time": "2023-04-24T17:03:03.495Z"
      },
      {
        "duration": 25,
        "start_time": "2023-04-24T17:03:04.895Z"
      },
      {
        "duration": 15,
        "start_time": "2023-04-24T17:03:06.006Z"
      },
      {
        "duration": 25,
        "start_time": "2023-04-24T17:04:26.542Z"
      },
      {
        "duration": 4,
        "start_time": "2023-04-24T17:04:57.688Z"
      },
      {
        "duration": 13,
        "start_time": "2023-04-24T17:05:06.527Z"
      },
      {
        "duration": 124,
        "start_time": "2023-04-24T17:05:11.592Z"
      },
      {
        "duration": 48071,
        "start_time": "2023-04-24T17:06:40.352Z"
      },
      {
        "duration": 238,
        "start_time": "2023-04-24T17:07:28.426Z"
      },
      {
        "duration": 183,
        "start_time": "2023-04-24T17:07:28.665Z"
      },
      {
        "duration": 345,
        "start_time": "2023-04-24T17:08:05.144Z"
      },
      {
        "duration": 321,
        "start_time": "2023-04-24T17:08:11.016Z"
      },
      {
        "duration": 29,
        "start_time": "2023-04-24T17:08:53.565Z"
      },
      {
        "duration": 30,
        "start_time": "2023-04-24T17:11:43.259Z"
      },
      {
        "duration": 20,
        "start_time": "2023-04-24T17:23:42.785Z"
      },
      {
        "duration": 48762,
        "start_time": "2023-04-24T17:23:55.953Z"
      },
      {
        "duration": 339,
        "start_time": "2023-04-24T17:25:05.201Z"
      },
      {
        "duration": 202,
        "start_time": "2023-04-24T17:25:10.535Z"
      },
      {
        "duration": 7,
        "start_time": "2023-04-24T17:31:00.190Z"
      },
      {
        "duration": 11,
        "start_time": "2023-04-24T17:31:00.901Z"
      },
      {
        "duration": 13,
        "start_time": "2023-04-24T17:31:02.261Z"
      },
      {
        "duration": 21,
        "start_time": "2023-04-24T17:31:03.675Z"
      },
      {
        "duration": 5,
        "start_time": "2023-04-24T17:31:16.201Z"
      },
      {
        "duration": 46,
        "start_time": "2023-04-24T17:31:17.133Z"
      },
      {
        "duration": 7,
        "start_time": "2023-04-24T17:31:18.653Z"
      },
      {
        "duration": 4,
        "start_time": "2023-04-24T17:31:19.022Z"
      },
      {
        "duration": 13,
        "start_time": "2023-04-24T17:31:19.670Z"
      },
      {
        "duration": 6,
        "start_time": "2023-04-24T17:31:21.149Z"
      },
      {
        "duration": 10,
        "start_time": "2023-04-24T17:31:24.909Z"
      },
      {
        "duration": 11,
        "start_time": "2023-04-24T17:31:25.556Z"
      },
      {
        "duration": 12,
        "start_time": "2023-04-24T17:31:26.525Z"
      },
      {
        "duration": 14,
        "start_time": "2023-04-24T17:31:27.973Z"
      },
      {
        "duration": 7,
        "start_time": "2023-04-24T17:31:29.365Z"
      },
      {
        "duration": 9,
        "start_time": "2023-04-24T17:31:29.710Z"
      },
      {
        "duration": 21,
        "start_time": "2023-04-24T17:31:32.365Z"
      },
      {
        "duration": 2,
        "start_time": "2023-04-24T17:31:33.381Z"
      },
      {
        "duration": 3,
        "start_time": "2023-04-24T17:32:24.868Z"
      },
      {
        "duration": 3,
        "start_time": "2023-04-24T17:32:51.478Z"
      },
      {
        "duration": 6,
        "start_time": "2023-04-24T17:32:51.974Z"
      },
      {
        "duration": 5,
        "start_time": "2023-04-24T17:32:58.718Z"
      },
      {
        "duration": 22,
        "start_time": "2023-04-24T17:33:04.870Z"
      },
      {
        "duration": 6,
        "start_time": "2023-04-24T17:33:12.216Z"
      },
      {
        "duration": 20,
        "start_time": "2023-04-24T17:33:16.133Z"
      },
      {
        "duration": 13,
        "start_time": "2023-04-24T17:33:17.302Z"
      },
      {
        "duration": 4,
        "start_time": "2023-04-24T17:33:19.950Z"
      },
      {
        "duration": 5,
        "start_time": "2023-04-24T17:34:20.624Z"
      },
      {
        "duration": 53,
        "start_time": "2023-04-24T17:36:00.487Z"
      },
      {
        "duration": 17,
        "start_time": "2023-04-24T17:37:04.344Z"
      },
      {
        "duration": 11,
        "start_time": "2023-04-24T17:37:04.943Z"
      },
      {
        "duration": 8,
        "start_time": "2023-04-24T17:37:06.344Z"
      },
      {
        "duration": 6,
        "start_time": "2023-04-24T17:37:15.121Z"
      },
      {
        "duration": 55,
        "start_time": "2023-04-24T17:37:15.833Z"
      },
      {
        "duration": 8,
        "start_time": "2023-04-24T17:37:16.808Z"
      },
      {
        "duration": 4,
        "start_time": "2023-04-24T17:37:17.044Z"
      },
      {
        "duration": 15,
        "start_time": "2023-04-24T17:37:17.265Z"
      },
      {
        "duration": 6,
        "start_time": "2023-04-24T17:37:18.008Z"
      },
      {
        "duration": 7,
        "start_time": "2023-04-24T17:37:19.081Z"
      },
      {
        "duration": 11,
        "start_time": "2023-04-24T17:37:19.352Z"
      },
      {
        "duration": 13,
        "start_time": "2023-04-24T17:37:19.856Z"
      },
      {
        "duration": 13,
        "start_time": "2023-04-24T17:37:20.897Z"
      },
      {
        "duration": 9,
        "start_time": "2023-04-24T17:37:21.353Z"
      },
      {
        "duration": 10,
        "start_time": "2023-04-24T17:37:21.896Z"
      },
      {
        "duration": 20,
        "start_time": "2023-04-24T17:37:24.321Z"
      },
      {
        "duration": 2,
        "start_time": "2023-04-24T17:37:25.504Z"
      },
      {
        "duration": 3,
        "start_time": "2023-04-24T17:37:26.960Z"
      },
      {
        "duration": 4,
        "start_time": "2023-04-24T17:37:29.512Z"
      },
      {
        "duration": 7,
        "start_time": "2023-04-24T17:37:30.288Z"
      },
      {
        "duration": 5,
        "start_time": "2023-04-24T17:37:59.856Z"
      },
      {
        "duration": 21,
        "start_time": "2023-04-24T17:38:03.320Z"
      },
      {
        "duration": 12,
        "start_time": "2023-04-24T17:38:03.961Z"
      },
      {
        "duration": 8,
        "start_time": "2023-04-24T17:38:04.577Z"
      },
      {
        "duration": 5,
        "start_time": "2023-04-24T17:38:05.976Z"
      },
      {
        "duration": 11,
        "start_time": "2023-04-24T17:38:14.657Z"
      },
      {
        "duration": 20,
        "start_time": "2023-04-24T17:38:26.505Z"
      },
      {
        "duration": 13,
        "start_time": "2023-04-24T17:38:27.034Z"
      },
      {
        "duration": 5,
        "start_time": "2023-04-24T17:38:29.168Z"
      },
      {
        "duration": 1626,
        "start_time": "2023-04-24T19:51:51.878Z"
      },
      {
        "duration": 112,
        "start_time": "2023-04-24T19:51:53.507Z"
      },
      {
        "duration": 10,
        "start_time": "2023-04-24T19:51:55.902Z"
      },
      {
        "duration": 4,
        "start_time": "2023-04-24T19:51:56.602Z"
      },
      {
        "duration": 18,
        "start_time": "2023-04-24T19:51:57.229Z"
      },
      {
        "duration": 8,
        "start_time": "2023-04-24T19:52:01.674Z"
      },
      {
        "duration": 8,
        "start_time": "2023-04-24T19:52:05.946Z"
      },
      {
        "duration": 12,
        "start_time": "2023-04-24T19:52:06.712Z"
      },
      {
        "duration": 15,
        "start_time": "2023-04-24T19:52:09.169Z"
      },
      {
        "duration": 16,
        "start_time": "2023-04-24T19:53:04.034Z"
      },
      {
        "duration": 8,
        "start_time": "2023-04-24T19:53:05.465Z"
      },
      {
        "duration": 10,
        "start_time": "2023-04-24T19:53:06.350Z"
      },
      {
        "duration": 32,
        "start_time": "2023-04-24T19:53:50.498Z"
      },
      {
        "duration": 2,
        "start_time": "2023-04-24T19:53:58.515Z"
      },
      {
        "duration": 2,
        "start_time": "2023-04-24T19:54:12.508Z"
      },
      {
        "duration": 4,
        "start_time": "2023-04-24T19:54:26.571Z"
      },
      {
        "duration": 7,
        "start_time": "2023-04-24T19:54:27.178Z"
      },
      {
        "duration": 8,
        "start_time": "2023-04-24T19:54:32.787Z"
      },
      {
        "duration": 26,
        "start_time": "2023-04-24T19:55:02.207Z"
      },
      {
        "duration": 27,
        "start_time": "2023-04-24T19:56:03.101Z"
      },
      {
        "duration": 13,
        "start_time": "2023-04-24T19:56:06.685Z"
      },
      {
        "duration": 14,
        "start_time": "2023-04-24T19:56:23.774Z"
      },
      {
        "duration": 4,
        "start_time": "2023-04-24T19:56:32.938Z"
      },
      {
        "duration": 5,
        "start_time": "2023-04-24T19:56:43.304Z"
      },
      {
        "duration": 152,
        "start_time": "2023-04-24T19:56:44.836Z"
      },
      {
        "duration": 6,
        "start_time": "2023-04-24T19:56:55.180Z"
      },
      {
        "duration": 191,
        "start_time": "2023-04-24T19:57:06.429Z"
      },
      {
        "duration": 157,
        "start_time": "2023-04-24T19:57:09.246Z"
      },
      {
        "duration": 279,
        "start_time": "2023-04-24T19:57:10.486Z"
      },
      {
        "duration": 7,
        "start_time": "2023-04-24T19:57:25.645Z"
      },
      {
        "duration": 82,
        "start_time": "2023-04-24T19:57:26.933Z"
      },
      {
        "duration": 33,
        "start_time": "2023-04-24T19:57:39.181Z"
      },
      {
        "duration": 38,
        "start_time": "2023-04-24T19:57:41.001Z"
      },
      {
        "duration": 31,
        "start_time": "2023-04-24T19:57:42.741Z"
      },
      {
        "duration": 7,
        "start_time": "2023-04-24T19:57:54.137Z"
      },
      {
        "duration": 287,
        "start_time": "2023-04-24T19:58:07.610Z"
      },
      {
        "duration": 5,
        "start_time": "2023-04-24T19:58:26.213Z"
      },
      {
        "duration": 15,
        "start_time": "2023-04-24T19:58:30.013Z"
      },
      {
        "duration": 136,
        "start_time": "2023-04-24T19:58:37.670Z"
      },
      {
        "duration": 6,
        "start_time": "2023-04-24T19:58:43.558Z"
      },
      {
        "duration": 13,
        "start_time": "2023-04-24T19:58:45.703Z"
      },
      {
        "duration": 135,
        "start_time": "2023-04-24T19:58:49.733Z"
      },
      {
        "duration": 788,
        "start_time": "2023-04-24T19:58:54.173Z"
      },
      {
        "duration": 38,
        "start_time": "2023-04-24T19:59:00.013Z"
      },
      {
        "duration": 33,
        "start_time": "2023-04-24T19:59:02.981Z"
      },
      {
        "duration": 70068,
        "start_time": "2023-04-24T19:59:52.981Z"
      },
      {
        "duration": 487,
        "start_time": "2023-04-24T20:01:03.051Z"
      },
      {
        "duration": 249,
        "start_time": "2023-04-24T20:01:03.540Z"
      },
      {
        "duration": 474,
        "start_time": "2023-04-24T20:01:43.472Z"
      },
      {
        "duration": 282,
        "start_time": "2023-04-24T20:01:45.615Z"
      },
      {
        "duration": 343,
        "start_time": "2023-04-24T20:01:50.375Z"
      },
      {
        "duration": 31,
        "start_time": "2023-04-24T20:01:52.719Z"
      },
      {
        "duration": 9,
        "start_time": "2023-04-24T20:01:57.631Z"
      },
      {
        "duration": 12,
        "start_time": "2023-04-24T20:02:02.215Z"
      },
      {
        "duration": 5,
        "start_time": "2023-04-24T20:02:21.015Z"
      },
      {
        "duration": 54,
        "start_time": "2023-04-24T20:02:22.727Z"
      },
      {
        "duration": 11,
        "start_time": "2023-04-24T20:02:26.774Z"
      },
      {
        "duration": 5,
        "start_time": "2023-04-24T20:02:27.566Z"
      },
      {
        "duration": 19,
        "start_time": "2023-04-24T20:02:28.322Z"
      },
      {
        "duration": 9,
        "start_time": "2023-04-24T20:02:33.030Z"
      },
      {
        "duration": 8,
        "start_time": "2023-04-24T20:02:36.272Z"
      },
      {
        "duration": 18,
        "start_time": "2023-04-24T20:02:37.080Z"
      },
      {
        "duration": 18,
        "start_time": "2023-04-24T20:02:39.527Z"
      },
      {
        "duration": 17,
        "start_time": "2023-04-24T20:02:41.423Z"
      },
      {
        "duration": 10,
        "start_time": "2023-04-24T20:02:42.951Z"
      },
      {
        "duration": 11,
        "start_time": "2023-04-24T20:02:43.559Z"
      },
      {
        "duration": 31,
        "start_time": "2023-04-24T20:02:55.601Z"
      },
      {
        "duration": 4,
        "start_time": "2023-04-24T20:03:00.806Z"
      },
      {
        "duration": 3,
        "start_time": "2023-04-24T20:03:08.735Z"
      },
      {
        "duration": 9,
        "start_time": "2023-04-24T20:03:17.806Z"
      },
      {
        "duration": 9,
        "start_time": "2023-04-24T20:03:18.319Z"
      },
      {
        "duration": 9,
        "start_time": "2023-04-24T20:03:21.560Z"
      },
      {
        "duration": 24,
        "start_time": "2023-04-24T20:04:14.147Z"
      },
      {
        "duration": 14,
        "start_time": "2023-04-24T20:04:35.977Z"
      },
      {
        "duration": 4,
        "start_time": "2023-04-24T20:04:39.024Z"
      },
      {
        "duration": 6,
        "start_time": "2023-04-24T20:04:47.985Z"
      },
      {
        "duration": 5,
        "start_time": "2023-04-24T20:04:54.563Z"
      },
      {
        "duration": 118,
        "start_time": "2023-04-24T20:05:02.872Z"
      },
      {
        "duration": 4,
        "start_time": "2023-04-24T20:05:09.257Z"
      },
      {
        "duration": 130,
        "start_time": "2023-04-24T20:05:13.672Z"
      },
      {
        "duration": 135,
        "start_time": "2023-04-24T20:05:15.856Z"
      },
      {
        "duration": 306,
        "start_time": "2023-04-24T20:05:17.153Z"
      },
      {
        "duration": 5,
        "start_time": "2023-04-24T20:05:23.536Z"
      },
      {
        "duration": 124,
        "start_time": "2023-04-24T20:05:27.768Z"
      },
      {
        "duration": 27,
        "start_time": "2023-04-24T20:05:39.336Z"
      },
      {
        "duration": 38,
        "start_time": "2023-04-24T20:05:41.498Z"
      },
      {
        "duration": 29,
        "start_time": "2023-04-24T20:05:43.024Z"
      },
      {
        "duration": 5,
        "start_time": "2023-04-24T20:06:34.442Z"
      },
      {
        "duration": 52,
        "start_time": "2023-04-24T20:06:35.369Z"
      },
      {
        "duration": 8,
        "start_time": "2023-04-24T20:06:36.881Z"
      },
      {
        "duration": 4,
        "start_time": "2023-04-24T20:06:37.472Z"
      },
      {
        "duration": 17,
        "start_time": "2023-04-24T20:06:38.018Z"
      },
      {
        "duration": 7,
        "start_time": "2023-04-24T20:06:39.624Z"
      },
      {
        "duration": 10,
        "start_time": "2023-04-24T20:06:41.121Z"
      },
      {
        "duration": 14,
        "start_time": "2023-04-24T20:06:41.802Z"
      },
      {
        "duration": 15,
        "start_time": "2023-04-24T20:06:42.931Z"
      },
      {
        "duration": 20,
        "start_time": "2023-04-24T20:06:44.603Z"
      },
      {
        "duration": 9,
        "start_time": "2023-04-24T20:06:45.977Z"
      },
      {
        "duration": 14,
        "start_time": "2023-04-24T20:06:46.803Z"
      },
      {
        "duration": 24,
        "start_time": "2023-04-24T20:06:50.736Z"
      },
      {
        "duration": 4,
        "start_time": "2023-04-24T20:06:52.900Z"
      },
      {
        "duration": 3,
        "start_time": "2023-04-24T20:06:54.313Z"
      },
      {
        "duration": 5,
        "start_time": "2023-04-24T20:06:57.809Z"
      },
      {
        "duration": 6,
        "start_time": "2023-04-24T20:06:58.649Z"
      },
      {
        "duration": 14,
        "start_time": "2023-04-24T20:07:03.761Z"
      },
      {
        "duration": 6,
        "start_time": "2023-04-24T20:07:04.810Z"
      },
      {
        "duration": 26,
        "start_time": "2023-04-24T20:07:14.417Z"
      },
      {
        "duration": 19,
        "start_time": "2023-04-24T20:07:15.274Z"
      },
      {
        "duration": 10,
        "start_time": "2023-04-24T20:07:23.504Z"
      },
      {
        "duration": 5,
        "start_time": "2023-04-24T20:08:20.730Z"
      },
      {
        "duration": 155,
        "start_time": "2023-04-24T20:08:22.745Z"
      },
      {
        "duration": 5,
        "start_time": "2023-04-24T20:08:33.983Z"
      },
      {
        "duration": 139,
        "start_time": "2023-04-24T20:08:36.352Z"
      },
      {
        "duration": 5,
        "start_time": "2023-04-24T20:08:44.128Z"
      },
      {
        "duration": 257,
        "start_time": "2023-04-24T20:08:46.232Z"
      },
      {
        "duration": 5,
        "start_time": "2023-04-24T20:08:51.962Z"
      },
      {
        "duration": 163,
        "start_time": "2023-04-24T20:08:52.830Z"
      },
      {
        "duration": 4,
        "start_time": "2023-04-24T20:08:59.411Z"
      },
      {
        "duration": 152,
        "start_time": "2023-04-24T20:09:00.234Z"
      },
      {
        "duration": 6,
        "start_time": "2023-04-24T20:09:06.412Z"
      },
      {
        "duration": 107,
        "start_time": "2023-04-24T20:09:08.138Z"
      },
      {
        "duration": 6,
        "start_time": "2023-04-24T20:09:16.978Z"
      },
      {
        "duration": 122,
        "start_time": "2023-04-24T20:09:20.102Z"
      },
      {
        "duration": 148,
        "start_time": "2023-04-24T20:09:22.426Z"
      },
      {
        "duration": 246,
        "start_time": "2023-04-24T20:09:23.419Z"
      },
      {
        "duration": 5,
        "start_time": "2023-04-24T20:09:25.026Z"
      },
      {
        "duration": 172,
        "start_time": "2023-04-24T20:09:26.715Z"
      },
      {
        "duration": 30,
        "start_time": "2023-04-24T20:09:48.275Z"
      },
      {
        "duration": 71,
        "start_time": "2023-04-24T20:09:49.483Z"
      },
      {
        "duration": 30,
        "start_time": "2023-04-24T20:09:53.313Z"
      },
      {
        "duration": 7,
        "start_time": "2023-04-24T20:10:02.104Z"
      },
      {
        "duration": 7,
        "start_time": "2023-04-24T20:10:13.755Z"
      },
      {
        "duration": 315,
        "start_time": "2023-04-24T20:10:14.684Z"
      },
      {
        "duration": 7,
        "start_time": "2023-04-24T20:10:26.227Z"
      },
      {
        "duration": 205,
        "start_time": "2023-04-24T20:10:26.883Z"
      },
      {
        "duration": 6,
        "start_time": "2023-04-24T20:10:36.547Z"
      },
      {
        "duration": 250,
        "start_time": "2023-04-24T20:10:37.347Z"
      },
      {
        "duration": 7,
        "start_time": "2023-04-24T20:10:44.643Z"
      },
      {
        "duration": 263,
        "start_time": "2023-04-24T20:10:45.323Z"
      },
      {
        "duration": 7,
        "start_time": "2023-04-24T20:10:50.819Z"
      },
      {
        "duration": 316,
        "start_time": "2023-04-24T20:10:51.475Z"
      },
      {
        "duration": 7,
        "start_time": "2023-04-24T20:10:57.876Z"
      },
      {
        "duration": 416,
        "start_time": "2023-04-24T20:10:58.483Z"
      },
      {
        "duration": 9,
        "start_time": "2023-04-24T20:11:04.123Z"
      },
      {
        "duration": 312,
        "start_time": "2023-04-24T20:11:04.785Z"
      },
      {
        "duration": 9,
        "start_time": "2023-04-24T20:11:25.116Z"
      },
      {
        "duration": 295,
        "start_time": "2023-04-24T20:11:25.804Z"
      },
      {
        "duration": 7,
        "start_time": "2023-04-24T20:11:35.667Z"
      },
      {
        "duration": 286,
        "start_time": "2023-04-24T20:11:37.601Z"
      },
      {
        "duration": 4,
        "start_time": "2023-04-24T20:11:52.764Z"
      },
      {
        "duration": 14,
        "start_time": "2023-04-24T20:12:04.827Z"
      },
      {
        "duration": 130,
        "start_time": "2023-04-24T20:12:14.860Z"
      },
      {
        "duration": 6,
        "start_time": "2023-04-24T20:12:19.020Z"
      },
      {
        "duration": 13,
        "start_time": "2023-04-24T20:12:21.572Z"
      },
      {
        "duration": 136,
        "start_time": "2023-04-24T20:12:23.453Z"
      },
      {
        "duration": 769,
        "start_time": "2023-04-24T20:12:38.998Z"
      },
      {
        "duration": 47,
        "start_time": "2023-04-24T20:16:49.895Z"
      },
      {
        "duration": 27,
        "start_time": "2023-04-24T20:16:51.038Z"
      },
      {
        "duration": 67240,
        "start_time": "2023-04-24T20:16:59.421Z"
      },
      {
        "duration": 484,
        "start_time": "2023-04-24T20:18:06.664Z"
      },
      {
        "duration": 440,
        "start_time": "2023-04-24T20:18:07.150Z"
      },
      {
        "duration": 265,
        "start_time": "2023-04-24T20:19:04.312Z"
      },
      {
        "duration": 451,
        "start_time": "2023-04-24T20:19:10.740Z"
      },
      {
        "duration": 254,
        "start_time": "2023-04-24T20:22:43.015Z"
      },
      {
        "duration": 603,
        "start_time": "2023-04-24T20:23:18.452Z"
      },
      {
        "duration": 400,
        "start_time": "2023-04-24T20:23:25.933Z"
      },
      {
        "duration": 529,
        "start_time": "2023-04-24T20:23:35.075Z"
      },
      {
        "duration": 114,
        "start_time": "2023-04-24T20:25:51.958Z"
      },
      {
        "duration": 200352,
        "start_time": "2023-04-24T20:26:31.087Z"
      },
      {
        "duration": 38,
        "start_time": "2023-04-24T20:36:15.037Z"
      },
      {
        "duration": 25,
        "start_time": "2023-04-24T20:36:16.341Z"
      },
      {
        "duration": 27,
        "start_time": "2023-04-24T20:36:57.373Z"
      },
      {
        "duration": 198491,
        "start_time": "2023-04-24T20:37:14.706Z"
      },
      {
        "duration": 139,
        "start_time": "2023-04-24T20:45:17.955Z"
      },
      {
        "duration": 423,
        "start_time": "2023-04-24T20:45:41.674Z"
      },
      {
        "duration": 242,
        "start_time": "2023-04-24T20:45:49.666Z"
      },
      {
        "duration": 25,
        "start_time": "2023-04-24T20:45:52.263Z"
      },
      {
        "duration": 8,
        "start_time": "2023-04-24T20:45:54.305Z"
      },
      {
        "duration": 12,
        "start_time": "2023-04-24T20:45:56.483Z"
      },
      {
        "duration": 6,
        "start_time": "2023-04-24T20:47:46.318Z"
      },
      {
        "duration": 52,
        "start_time": "2023-04-24T20:47:47.779Z"
      },
      {
        "duration": 9,
        "start_time": "2023-04-24T20:47:49.507Z"
      },
      {
        "duration": 4,
        "start_time": "2023-04-24T20:47:50.051Z"
      },
      {
        "duration": 22,
        "start_time": "2023-04-24T20:47:50.606Z"
      },
      {
        "duration": 7,
        "start_time": "2023-04-24T20:47:52.467Z"
      },
      {
        "duration": 8,
        "start_time": "2023-04-24T20:47:54.683Z"
      },
      {
        "duration": 14,
        "start_time": "2023-04-24T20:47:55.315Z"
      },
      {
        "duration": 16,
        "start_time": "2023-04-24T20:47:56.756Z"
      },
      {
        "duration": 18,
        "start_time": "2023-04-24T20:47:58.571Z"
      },
      {
        "duration": 11,
        "start_time": "2023-04-24T20:48:01.014Z"
      },
      {
        "duration": 12,
        "start_time": "2023-04-24T20:48:01.619Z"
      },
      {
        "duration": 22,
        "start_time": "2023-04-24T20:48:08.444Z"
      },
      {
        "duration": 3,
        "start_time": "2023-04-24T20:48:11.363Z"
      },
      {
        "duration": 2,
        "start_time": "2023-04-24T20:48:16.660Z"
      },
      {
        "duration": 5,
        "start_time": "2023-04-24T20:48:29.531Z"
      },
      {
        "duration": 7,
        "start_time": "2023-04-24T20:48:30.012Z"
      },
      {
        "duration": 6,
        "start_time": "2023-04-24T20:48:31.572Z"
      },
      {
        "duration": 4,
        "start_time": "2023-04-24T20:48:37.931Z"
      },
      {
        "duration": 35,
        "start_time": "2023-04-24T20:48:50.405Z"
      },
      {
        "duration": 13,
        "start_time": "2023-04-24T20:48:52.164Z"
      },
      {
        "duration": 5,
        "start_time": "2023-04-24T20:48:55.315Z"
      },
      {
        "duration": 5,
        "start_time": "2023-04-24T20:49:01.580Z"
      },
      {
        "duration": 121,
        "start_time": "2023-04-24T20:49:02.572Z"
      },
      {
        "duration": 5,
        "start_time": "2023-04-24T20:49:13.684Z"
      },
      {
        "duration": 120,
        "start_time": "2023-04-24T20:49:24.906Z"
      },
      {
        "duration": 130,
        "start_time": "2023-04-24T20:49:26.622Z"
      },
      {
        "duration": 260,
        "start_time": "2023-04-24T20:49:28.307Z"
      },
      {
        "duration": 5,
        "start_time": "2023-04-24T20:49:35.869Z"
      },
      {
        "duration": 80,
        "start_time": "2023-04-24T20:49:45.252Z"
      },
      {
        "duration": 36,
        "start_time": "2023-04-24T20:49:56.503Z"
      },
      {
        "duration": 69,
        "start_time": "2023-04-24T20:49:57.902Z"
      },
      {
        "duration": 50,
        "start_time": "2023-04-24T20:49:59.439Z"
      },
      {
        "duration": 7,
        "start_time": "2023-04-24T20:50:19.206Z"
      },
      {
        "duration": 325,
        "start_time": "2023-04-24T20:50:21.069Z"
      },
      {
        "duration": 6,
        "start_time": "2023-04-24T20:50:31.927Z"
      },
      {
        "duration": 13,
        "start_time": "2023-04-24T20:50:47.917Z"
      },
      {
        "duration": 217,
        "start_time": "2023-04-24T20:50:54.325Z"
      },
      {
        "duration": 5,
        "start_time": "2023-04-24T20:51:06.268Z"
      },
      {
        "duration": 14,
        "start_time": "2023-04-24T20:51:06.861Z"
      },
      {
        "duration": 123,
        "start_time": "2023-04-24T20:51:07.739Z"
      },
      {
        "duration": 743,
        "start_time": "2023-04-24T20:51:12.174Z"
      },
      {
        "duration": 803,
        "start_time": "2023-04-24T20:52:32.139Z"
      },
      {
        "duration": 5,
        "start_time": "2023-04-24T20:52:48.671Z"
      },
      {
        "duration": 7,
        "start_time": "2023-04-24T20:52:56.655Z"
      },
      {
        "duration": 46,
        "start_time": "2023-04-24T20:53:19.879Z"
      },
      {
        "duration": 753,
        "start_time": "2023-04-24T20:54:15.872Z"
      },
      {
        "duration": 4,
        "start_time": "2023-04-24T20:54:29.352Z"
      },
      {
        "duration": 39,
        "start_time": "2023-04-24T20:55:01.907Z"
      },
      {
        "duration": 25,
        "start_time": "2023-04-24T20:55:29.385Z"
      },
      {
        "duration": 215065,
        "start_time": "2023-04-24T20:55:46.762Z"
      },
      {
        "duration": 574,
        "start_time": "2023-04-24T20:59:21.830Z"
      },
      {
        "duration": 540,
        "start_time": "2023-04-24T21:00:36.165Z"
      },
      {
        "duration": 390,
        "start_time": "2023-04-24T21:00:45.410Z"
      },
      {
        "duration": 47,
        "start_time": "2023-04-24T21:04:20.448Z"
      },
      {
        "duration": 430,
        "start_time": "2023-04-24T21:04:41.329Z"
      },
      {
        "duration": 459,
        "start_time": "2023-04-24T21:04:49.924Z"
      },
      {
        "duration": 548,
        "start_time": "2023-04-24T21:04:59.603Z"
      },
      {
        "duration": 285,
        "start_time": "2023-04-24T21:05:04.017Z"
      },
      {
        "duration": 568,
        "start_time": "2023-04-24T21:05:11.561Z"
      },
      {
        "duration": 31,
        "start_time": "2023-04-24T21:05:24.713Z"
      },
      {
        "duration": 7,
        "start_time": "2023-04-24T21:05:26.576Z"
      },
      {
        "duration": 11,
        "start_time": "2023-04-24T21:05:27.992Z"
      },
      {
        "duration": 5,
        "start_time": "2023-04-24T21:05:39.720Z"
      },
      {
        "duration": 68,
        "start_time": "2023-04-24T21:05:40.614Z"
      },
      {
        "duration": 8,
        "start_time": "2023-04-24T21:05:42.057Z"
      },
      {
        "duration": 6,
        "start_time": "2023-04-24T21:05:42.672Z"
      },
      {
        "duration": 15,
        "start_time": "2023-04-24T21:05:43.145Z"
      },
      {
        "duration": 7,
        "start_time": "2023-04-24T21:05:45.367Z"
      },
      {
        "duration": 11,
        "start_time": "2023-04-24T21:05:47.488Z"
      },
      {
        "duration": 18,
        "start_time": "2023-04-24T21:05:48.440Z"
      },
      {
        "duration": 20,
        "start_time": "2023-04-24T21:05:50.456Z"
      },
      {
        "duration": 18,
        "start_time": "2023-04-24T21:05:52.621Z"
      },
      {
        "duration": 10,
        "start_time": "2023-04-24T21:05:54.977Z"
      },
      {
        "duration": 12,
        "start_time": "2023-04-24T21:05:56.936Z"
      },
      {
        "duration": 30,
        "start_time": "2023-04-24T21:06:01.057Z"
      },
      {
        "duration": 3,
        "start_time": "2023-04-24T21:06:06.240Z"
      },
      {
        "duration": 3,
        "start_time": "2023-04-24T21:06:09.109Z"
      },
      {
        "duration": 6,
        "start_time": "2023-04-24T21:06:14.593Z"
      },
      {
        "duration": 11,
        "start_time": "2023-04-24T21:06:23.608Z"
      },
      {
        "duration": 8,
        "start_time": "2023-04-24T21:06:26.952Z"
      },
      {
        "duration": 8,
        "start_time": "2023-04-24T21:06:36.414Z"
      },
      {
        "duration": 8,
        "start_time": "2023-04-24T21:06:37.887Z"
      },
      {
        "duration": 39,
        "start_time": "2023-04-24T21:06:44.921Z"
      },
      {
        "duration": 19,
        "start_time": "2023-04-24T21:06:46.026Z"
      },
      {
        "duration": 9,
        "start_time": "2023-04-24T21:06:48.009Z"
      },
      {
        "duration": 7,
        "start_time": "2023-04-24T21:06:50.803Z"
      },
      {
        "duration": 139,
        "start_time": "2023-04-24T21:06:51.515Z"
      },
      {
        "duration": 6,
        "start_time": "2023-04-24T21:06:56.217Z"
      },
      {
        "duration": 130,
        "start_time": "2023-04-24T21:06:59.535Z"
      },
      {
        "duration": 140,
        "start_time": "2023-04-24T21:07:01.241Z"
      },
      {
        "duration": 236,
        "start_time": "2023-04-24T21:07:02.336Z"
      },
      {
        "duration": 6,
        "start_time": "2023-04-24T21:07:04.303Z"
      },
      {
        "duration": 109,
        "start_time": "2023-04-24T21:07:05.728Z"
      },
      {
        "duration": 26,
        "start_time": "2023-04-24T21:07:10.457Z"
      },
      {
        "duration": 74,
        "start_time": "2023-04-24T21:07:11.241Z"
      },
      {
        "duration": 38,
        "start_time": "2023-04-24T21:07:11.977Z"
      },
      {
        "duration": 10,
        "start_time": "2023-04-24T21:07:16.137Z"
      },
      {
        "duration": 209,
        "start_time": "2023-04-24T21:07:17.985Z"
      },
      {
        "duration": 5,
        "start_time": "2023-04-24T21:07:28.977Z"
      },
      {
        "duration": 19,
        "start_time": "2023-04-24T21:07:30.679Z"
      },
      {
        "duration": 161,
        "start_time": "2023-04-24T21:07:32.173Z"
      },
      {
        "duration": 5,
        "start_time": "2023-04-24T21:07:34.353Z"
      },
      {
        "duration": 25,
        "start_time": "2023-04-24T21:07:35.985Z"
      },
      {
        "duration": 163,
        "start_time": "2023-04-24T21:07:37.073Z"
      },
      {
        "duration": 750,
        "start_time": "2023-04-24T21:07:39.969Z"
      },
      {
        "duration": 45,
        "start_time": "2023-04-24T21:07:46.588Z"
      },
      {
        "duration": 33,
        "start_time": "2023-04-24T21:07:49.473Z"
      },
      {
        "duration": 170163,
        "start_time": "2023-04-24T21:07:55.041Z"
      },
      {
        "duration": 388,
        "start_time": "2023-04-24T21:12:57.357Z"
      },
      {
        "duration": 150,
        "start_time": "2023-04-24T21:13:03.549Z"
      },
      {
        "duration": 328,
        "start_time": "2023-04-24T21:13:09.941Z"
      },
      {
        "duration": 29,
        "start_time": "2023-04-24T21:13:17.749Z"
      },
      {
        "duration": 7,
        "start_time": "2023-04-24T21:13:19.141Z"
      },
      {
        "duration": 10,
        "start_time": "2023-04-24T21:13:20.324Z"
      },
      {
        "duration": 5,
        "start_time": "2023-04-24T21:13:39.325Z"
      },
      {
        "duration": 58,
        "start_time": "2023-04-24T21:13:41.173Z"
      },
      {
        "duration": 8,
        "start_time": "2023-04-24T21:16:29.391Z"
      },
      {
        "duration": 57,
        "start_time": "2023-04-24T21:16:31.122Z"
      },
      {
        "duration": 10,
        "start_time": "2023-04-24T21:16:33.323Z"
      },
      {
        "duration": 5,
        "start_time": "2023-04-24T21:16:33.654Z"
      },
      {
        "duration": 24,
        "start_time": "2023-04-24T21:16:34.264Z"
      },
      {
        "duration": 6,
        "start_time": "2023-04-24T21:16:35.718Z"
      },
      {
        "duration": 9,
        "start_time": "2023-04-24T21:16:37.495Z"
      },
      {
        "duration": 15,
        "start_time": "2023-04-24T21:16:38.063Z"
      },
      {
        "duration": 14,
        "start_time": "2023-04-24T21:16:39.124Z"
      },
      {
        "duration": 22,
        "start_time": "2023-04-24T21:16:40.640Z"
      },
      {
        "duration": 10,
        "start_time": "2023-04-24T21:16:41.724Z"
      },
      {
        "duration": 11,
        "start_time": "2023-04-24T21:16:42.271Z"
      },
      {
        "duration": 35,
        "start_time": "2023-04-24T21:16:45.037Z"
      },
      {
        "duration": 3,
        "start_time": "2023-04-24T21:16:50.620Z"
      },
      {
        "duration": 4,
        "start_time": "2023-04-24T21:16:52.223Z"
      },
      {
        "duration": 5,
        "start_time": "2023-04-24T21:16:55.103Z"
      },
      {
        "duration": 6,
        "start_time": "2023-04-24T21:16:55.535Z"
      },
      {
        "duration": 6,
        "start_time": "2023-04-24T21:16:56.552Z"
      },
      {
        "duration": 4,
        "start_time": "2023-04-24T21:16:56.871Z"
      },
      {
        "duration": 27,
        "start_time": "2023-04-24T21:16:58.679Z"
      },
      {
        "duration": 14,
        "start_time": "2023-04-24T21:16:59.423Z"
      },
      {
        "duration": 5,
        "start_time": "2023-04-24T21:17:01.663Z"
      },
      {
        "duration": 6,
        "start_time": "2023-04-24T21:17:04.847Z"
      },
      {
        "duration": 267,
        "start_time": "2023-04-24T21:17:05.422Z"
      },
      {
        "duration": 8,
        "start_time": "2023-04-24T21:17:08.023Z"
      },
      {
        "duration": 153,
        "start_time": "2023-04-24T21:17:10.167Z"
      },
      {
        "duration": 193,
        "start_time": "2023-04-24T21:17:11.319Z"
      },
      {
        "duration": 309,
        "start_time": "2023-04-24T21:17:12.463Z"
      },
      {
        "duration": 6,
        "start_time": "2023-04-24T21:17:15.127Z"
      },
      {
        "duration": 141,
        "start_time": "2023-04-24T21:17:16.478Z"
      },
      {
        "duration": 50,
        "start_time": "2023-04-24T21:17:20.679Z"
      },
      {
        "duration": 96,
        "start_time": "2023-04-24T21:17:21.523Z"
      },
      {
        "duration": 35,
        "start_time": "2023-04-24T21:17:22.063Z"
      },
      {
        "duration": 7,
        "start_time": "2023-04-24T21:17:25.321Z"
      },
      {
        "duration": 365,
        "start_time": "2023-04-24T21:17:26.224Z"
      },
      {
        "duration": 9,
        "start_time": "2023-04-24T21:17:31.625Z"
      },
      {
        "duration": 15,
        "start_time": "2023-04-24T21:17:33.167Z"
      },
      {
        "duration": 205,
        "start_time": "2023-04-24T21:17:34.760Z"
      },
      {
        "duration": 5,
        "start_time": "2023-04-24T21:17:38.887Z"
      },
      {
        "duration": 18,
        "start_time": "2023-04-24T21:17:40.224Z"
      },
      {
        "duration": 200,
        "start_time": "2023-04-24T21:17:41.168Z"
      },
      {
        "duration": 773,
        "start_time": "2023-04-24T21:17:49.087Z"
      },
      {
        "duration": 38,
        "start_time": "2023-04-24T21:17:52.122Z"
      },
      {
        "duration": 25,
        "start_time": "2023-04-24T21:17:53.719Z"
      },
      {
        "duration": 78935,
        "start_time": "2023-04-24T21:18:14.812Z"
      },
      {
        "duration": 275,
        "start_time": "2023-04-24T21:20:27.873Z"
      },
      {
        "duration": 455,
        "start_time": "2023-04-24T21:20:30.834Z"
      },
      {
        "duration": 329,
        "start_time": "2023-04-24T21:21:12.154Z"
      },
      {
        "duration": 27,
        "start_time": "2023-04-24T21:21:17.623Z"
      },
      {
        "duration": 7,
        "start_time": "2023-04-24T21:21:19.420Z"
      },
      {
        "duration": 15,
        "start_time": "2023-04-24T21:21:20.442Z"
      },
      {
        "duration": 1586,
        "start_time": "2023-04-25T10:21:08.284Z"
      },
      {
        "duration": 175,
        "start_time": "2023-04-25T10:21:11.526Z"
      },
      {
        "duration": 11,
        "start_time": "2023-04-25T10:21:13.584Z"
      },
      {
        "duration": 4,
        "start_time": "2023-04-25T10:21:14.248Z"
      },
      {
        "duration": 18,
        "start_time": "2023-04-25T10:21:14.792Z"
      },
      {
        "duration": 24,
        "start_time": "2023-04-25T10:47:34.006Z"
      },
      {
        "duration": 7,
        "start_time": "2023-04-25T10:47:36.731Z"
      },
      {
        "duration": 22,
        "start_time": "2023-04-25T10:47:37.566Z"
      },
      {
        "duration": 13,
        "start_time": "2023-04-25T10:47:38.744Z"
      },
      {
        "duration": 14,
        "start_time": "2023-04-25T10:47:40.236Z"
      },
      {
        "duration": 8,
        "start_time": "2023-04-25T10:47:42.833Z"
      },
      {
        "duration": 12,
        "start_time": "2023-04-25T10:47:43.407Z"
      },
      {
        "duration": 20,
        "start_time": "2023-04-25T10:47:48.112Z"
      },
      {
        "duration": 3,
        "start_time": "2023-04-25T10:47:50.934Z"
      },
      {
        "duration": 3,
        "start_time": "2023-04-25T10:47:52.708Z"
      },
      {
        "duration": 4,
        "start_time": "2023-04-25T10:47:55.953Z"
      },
      {
        "duration": 5,
        "start_time": "2023-04-25T10:47:56.657Z"
      },
      {
        "duration": 6,
        "start_time": "2023-04-25T10:47:59.631Z"
      },
      {
        "duration": 3,
        "start_time": "2023-04-25T10:48:00.493Z"
      },
      {
        "duration": 22,
        "start_time": "2023-04-25T10:48:06.341Z"
      },
      {
        "duration": 12,
        "start_time": "2023-04-25T10:48:09.121Z"
      },
      {
        "duration": 5,
        "start_time": "2023-04-25T10:48:11.350Z"
      },
      {
        "duration": 4,
        "start_time": "2023-04-25T10:48:14.587Z"
      },
      {
        "duration": 132,
        "start_time": "2023-04-25T10:48:17.133Z"
      },
      {
        "duration": 5,
        "start_time": "2023-04-25T10:48:19.614Z"
      },
      {
        "duration": 119,
        "start_time": "2023-04-25T10:48:22.092Z"
      },
      {
        "duration": 119,
        "start_time": "2023-04-25T10:48:23.300Z"
      },
      {
        "duration": 229,
        "start_time": "2023-04-25T10:48:23.806Z"
      },
      {
        "duration": 4,
        "start_time": "2023-04-25T10:48:26.412Z"
      },
      {
        "duration": 76,
        "start_time": "2023-04-25T10:48:27.942Z"
      },
      {
        "duration": 24,
        "start_time": "2023-04-25T10:48:31.592Z"
      },
      {
        "duration": 73,
        "start_time": "2023-04-25T10:48:32.588Z"
      },
      {
        "duration": 71,
        "start_time": "2023-04-25T10:48:33.191Z"
      },
      {
        "duration": 6,
        "start_time": "2023-04-25T10:48:36.723Z"
      },
      {
        "duration": 236,
        "start_time": "2023-04-25T10:48:37.537Z"
      },
      {
        "duration": 4,
        "start_time": "2023-04-25T10:48:40.639Z"
      },
      {
        "duration": 13,
        "start_time": "2023-04-25T10:48:44.032Z"
      },
      {
        "duration": 114,
        "start_time": "2023-04-25T10:48:46.339Z"
      },
      {
        "duration": 4,
        "start_time": "2023-04-25T10:48:48.416Z"
      },
      {
        "duration": 13,
        "start_time": "2023-04-25T10:48:49.210Z"
      },
      {
        "duration": 120,
        "start_time": "2023-04-25T10:48:50.539Z"
      },
      {
        "duration": 716,
        "start_time": "2023-04-25T10:48:53.633Z"
      },
      {
        "duration": 39,
        "start_time": "2023-04-25T10:49:21.753Z"
      },
      {
        "duration": 21,
        "start_time": "2023-04-25T10:49:22.912Z"
      },
      {
        "duration": 62102,
        "start_time": "2023-04-25T10:49:26.940Z"
      },
      {
        "duration": 249,
        "start_time": "2023-04-25T10:52:37.921Z"
      },
      {
        "duration": 442,
        "start_time": "2023-04-25T10:52:56.822Z"
      },
      {
        "duration": 463,
        "start_time": "2023-04-25T10:53:15.786Z"
      },
      {
        "duration": 446,
        "start_time": "2023-04-25T10:53:31.580Z"
      },
      {
        "duration": 320,
        "start_time": "2023-04-25T10:53:45.245Z"
      },
      {
        "duration": 343,
        "start_time": "2023-04-25T10:54:41.524Z"
      },
      {
        "duration": 432,
        "start_time": "2023-04-25T10:54:49.486Z"
      },
      {
        "duration": 274,
        "start_time": "2023-04-25T10:54:54.789Z"
      },
      {
        "duration": 271,
        "start_time": "2023-04-25T10:55:36.215Z"
      },
      {
        "duration": 23,
        "start_time": "2023-04-25T10:55:39.992Z"
      },
      {
        "duration": 6,
        "start_time": "2023-04-25T10:55:41.790Z"
      },
      {
        "duration": 9,
        "start_time": "2023-04-25T10:55:44.207Z"
      },
      {
        "duration": 15,
        "start_time": "2023-04-25T11:22:35.250Z"
      },
      {
        "duration": 5,
        "start_time": "2023-04-25T11:22:36.725Z"
      },
      {
        "duration": 38,
        "start_time": "2023-04-25T11:22:43.611Z"
      },
      {
        "duration": 21,
        "start_time": "2023-04-25T11:22:45.019Z"
      },
      {
        "duration": 5,
        "start_time": "2023-04-25T11:23:00.278Z"
      },
      {
        "duration": 5,
        "start_time": "2023-04-25T11:23:02.986Z"
      },
      {
        "duration": 133,
        "start_time": "2023-04-25T11:23:03.548Z"
      },
      {
        "duration": 7,
        "start_time": "2023-04-25T11:23:06.203Z"
      },
      {
        "duration": 134,
        "start_time": "2023-04-25T11:23:10.464Z"
      },
      {
        "duration": 156,
        "start_time": "2023-04-25T11:23:11.966Z"
      },
      {
        "duration": 265,
        "start_time": "2023-04-25T11:23:13.213Z"
      },
      {
        "duration": 4,
        "start_time": "2023-04-25T11:23:15.054Z"
      },
      {
        "duration": 106,
        "start_time": "2023-04-25T11:23:15.959Z"
      },
      {
        "duration": 23,
        "start_time": "2023-04-25T11:23:23.215Z"
      },
      {
        "duration": 71,
        "start_time": "2023-04-25T11:23:25.237Z"
      },
      {
        "duration": 36,
        "start_time": "2023-04-25T11:23:26.459Z"
      },
      {
        "duration": 6,
        "start_time": "2023-04-25T11:23:28.951Z"
      },
      {
        "duration": 299,
        "start_time": "2023-04-25T11:23:34.285Z"
      },
      {
        "duration": 5,
        "start_time": "2023-04-25T11:23:40.236Z"
      },
      {
        "duration": 12,
        "start_time": "2023-04-25T11:23:42.017Z"
      },
      {
        "duration": 151,
        "start_time": "2023-04-25T11:23:45.396Z"
      },
      {
        "duration": 6,
        "start_time": "2023-04-25T11:23:47.415Z"
      },
      {
        "duration": 20,
        "start_time": "2023-04-25T11:23:48.365Z"
      },
      {
        "duration": 131,
        "start_time": "2023-04-25T11:23:50.179Z"
      },
      {
        "duration": 675,
        "start_time": "2023-04-25T11:23:51.839Z"
      },
      {
        "duration": 31,
        "start_time": "2023-04-25T11:23:56.223Z"
      },
      {
        "duration": 24,
        "start_time": "2023-04-25T11:24:02.375Z"
      },
      {
        "duration": 55054,
        "start_time": "2023-04-25T11:24:13.180Z"
      },
      {
        "duration": 344,
        "start_time": "2023-04-25T11:30:24.802Z"
      },
      {
        "duration": 338,
        "start_time": "2023-04-25T11:30:47.727Z"
      },
      {
        "duration": 288,
        "start_time": "2023-04-25T11:30:57.708Z"
      },
      {
        "duration": 24,
        "start_time": "2023-04-25T11:30:59.010Z"
      },
      {
        "duration": 7,
        "start_time": "2023-04-25T11:31:00.670Z"
      },
      {
        "duration": 13,
        "start_time": "2023-04-25T11:31:01.845Z"
      },
      {
        "duration": 285,
        "start_time": "2023-04-25T11:32:31.378Z"
      },
      {
        "duration": 317,
        "start_time": "2023-04-25T11:35:44.193Z"
      },
      {
        "duration": 249,
        "start_time": "2023-04-25T11:35:54.837Z"
      },
      {
        "duration": 107,
        "start_time": "2023-04-25T11:36:02.286Z"
      },
      {
        "duration": 261,
        "start_time": "2023-04-25T11:36:08.782Z"
      },
      {
        "duration": 5,
        "start_time": "2023-04-25T11:36:38.385Z"
      },
      {
        "duration": 49,
        "start_time": "2023-04-25T11:36:39.891Z"
      },
      {
        "duration": 8,
        "start_time": "2023-04-25T11:36:41.573Z"
      },
      {
        "duration": 4,
        "start_time": "2023-04-25T11:36:42.236Z"
      },
      {
        "duration": 16,
        "start_time": "2023-04-25T11:36:42.777Z"
      },
      {
        "duration": 7,
        "start_time": "2023-04-25T11:36:44.458Z"
      },
      {
        "duration": 8,
        "start_time": "2023-04-25T11:36:46.236Z"
      },
      {
        "duration": 12,
        "start_time": "2023-04-25T11:36:46.836Z"
      },
      {
        "duration": 21,
        "start_time": "2023-04-25T11:36:48.067Z"
      },
      {
        "duration": 20,
        "start_time": "2023-04-25T11:36:49.773Z"
      },
      {
        "duration": 10,
        "start_time": "2023-04-25T11:36:51.032Z"
      },
      {
        "duration": 13,
        "start_time": "2023-04-25T11:36:51.662Z"
      },
      {
        "duration": 25,
        "start_time": "2023-04-25T11:36:55.211Z"
      },
      {
        "duration": 2,
        "start_time": "2023-04-25T11:36:58.891Z"
      },
      {
        "duration": 3,
        "start_time": "2023-04-25T11:37:01.013Z"
      },
      {
        "duration": 5,
        "start_time": "2023-04-25T11:37:06.169Z"
      },
      {
        "duration": 7,
        "start_time": "2023-04-25T11:37:07.154Z"
      },
      {
        "duration": 9,
        "start_time": "2023-04-25T11:37:09.405Z"
      },
      {
        "duration": 5,
        "start_time": "2023-04-25T11:37:58.300Z"
      },
      {
        "duration": 50,
        "start_time": "2023-04-25T11:37:59.512Z"
      },
      {
        "duration": 9,
        "start_time": "2023-04-25T11:38:01.102Z"
      },
      {
        "duration": 4,
        "start_time": "2023-04-25T11:38:01.668Z"
      },
      {
        "duration": 15,
        "start_time": "2023-04-25T11:38:02.053Z"
      },
      {
        "duration": 6,
        "start_time": "2023-04-25T11:38:04.075Z"
      },
      {
        "duration": 10,
        "start_time": "2023-04-25T11:38:05.425Z"
      },
      {
        "duration": 12,
        "start_time": "2023-04-25T11:38:05.951Z"
      },
      {
        "duration": 14,
        "start_time": "2023-04-25T11:38:06.909Z"
      },
      {
        "duration": 15,
        "start_time": "2023-04-25T11:38:08.383Z"
      },
      {
        "duration": 9,
        "start_time": "2023-04-25T11:38:09.442Z"
      },
      {
        "duration": 10,
        "start_time": "2023-04-25T11:38:09.901Z"
      },
      {
        "duration": 23,
        "start_time": "2023-04-25T11:38:12.792Z"
      },
      {
        "duration": 2,
        "start_time": "2023-04-25T11:38:13.956Z"
      },
      {
        "duration": 3,
        "start_time": "2023-04-25T11:38:15.044Z"
      },
      {
        "duration": 4,
        "start_time": "2023-04-25T11:38:18.300Z"
      },
      {
        "duration": 10,
        "start_time": "2023-04-25T11:38:18.958Z"
      },
      {
        "duration": 12,
        "start_time": "2023-04-25T11:38:30.884Z"
      },
      {
        "duration": 8,
        "start_time": "2023-04-25T11:38:35.315Z"
      },
      {
        "duration": 5,
        "start_time": "2023-04-25T11:38:35.856Z"
      },
      {
        "duration": 25,
        "start_time": "2023-04-25T11:38:41.254Z"
      },
      {
        "duration": 14,
        "start_time": "2023-04-25T11:38:42.129Z"
      },
      {
        "duration": 6,
        "start_time": "2023-04-25T11:38:48.384Z"
      },
      {
        "duration": 4,
        "start_time": "2023-04-25T11:38:52.950Z"
      },
      {
        "duration": 113,
        "start_time": "2023-04-25T11:38:53.777Z"
      },
      {
        "duration": 6,
        "start_time": "2023-04-25T11:38:58.047Z"
      },
      {
        "duration": 115,
        "start_time": "2023-04-25T11:39:00.908Z"
      },
      {
        "duration": 152,
        "start_time": "2023-04-25T11:39:07.887Z"
      },
      {
        "duration": 256,
        "start_time": "2023-04-25T11:39:09.111Z"
      },
      {
        "duration": 5,
        "start_time": "2023-04-25T11:39:10.987Z"
      },
      {
        "duration": 87,
        "start_time": "2023-04-25T11:39:13.588Z"
      },
      {
        "duration": 26,
        "start_time": "2023-04-25T11:39:22.301Z"
      },
      {
        "duration": 81,
        "start_time": "2023-04-25T11:39:23.494Z"
      },
      {
        "duration": 81,
        "start_time": "2023-04-25T11:39:23.983Z"
      },
      {
        "duration": 7,
        "start_time": "2023-04-25T11:39:26.186Z"
      },
      {
        "duration": 263,
        "start_time": "2023-04-25T11:39:27.416Z"
      },
      {
        "duration": 6,
        "start_time": "2023-04-25T11:39:37.115Z"
      },
      {
        "duration": 13,
        "start_time": "2023-04-25T11:39:39.766Z"
      },
      {
        "duration": 115,
        "start_time": "2023-04-25T11:39:41.823Z"
      },
      {
        "duration": 4,
        "start_time": "2023-04-25T11:39:44.029Z"
      },
      {
        "duration": 18,
        "start_time": "2023-04-25T11:39:45.001Z"
      },
      {
        "duration": 119,
        "start_time": "2023-04-25T11:39:45.617Z"
      },
      {
        "duration": 703,
        "start_time": "2023-04-25T11:39:47.972Z"
      },
      {
        "duration": 35,
        "start_time": "2023-04-25T11:39:56.447Z"
      },
      {
        "duration": 23,
        "start_time": "2023-04-25T11:39:58.215Z"
      },
      {
        "duration": 64764,
        "start_time": "2023-04-25T11:40:06.442Z"
      },
      {
        "duration": 374,
        "start_time": "2023-04-25T11:42:32.315Z"
      },
      {
        "duration": 419,
        "start_time": "2023-04-25T11:42:50.116Z"
      },
      {
        "duration": 419,
        "start_time": "2023-04-25T11:44:09.608Z"
      },
      {
        "duration": 244,
        "start_time": "2023-04-25T11:44:11.728Z"
      },
      {
        "duration": 327,
        "start_time": "2023-04-25T11:46:19.231Z"
      },
      {
        "duration": 339,
        "start_time": "2023-04-25T11:46:36.691Z"
      },
      {
        "duration": 2878,
        "start_time": "2023-04-25T13:52:15.250Z"
      },
      {
        "duration": 54,
        "start_time": "2023-04-25T13:52:18.130Z"
      },
      {
        "duration": 12,
        "start_time": "2023-04-25T13:52:18.187Z"
      },
      {
        "duration": 16,
        "start_time": "2023-04-25T13:52:18.202Z"
      },
      {
        "duration": 43,
        "start_time": "2023-04-25T13:52:18.219Z"
      },
      {
        "duration": 10,
        "start_time": "2023-04-25T13:52:18.264Z"
      },
      {
        "duration": 10,
        "start_time": "2023-04-25T13:52:18.276Z"
      },
      {
        "duration": 30,
        "start_time": "2023-04-25T13:52:18.288Z"
      },
      {
        "duration": 28,
        "start_time": "2023-04-25T13:52:18.320Z"
      },
      {
        "duration": 16,
        "start_time": "2023-04-25T13:52:18.351Z"
      },
      {
        "duration": 13,
        "start_time": "2023-04-25T13:52:18.369Z"
      },
      {
        "duration": 21,
        "start_time": "2023-04-25T13:52:18.384Z"
      },
      {
        "duration": 49,
        "start_time": "2023-04-25T13:52:18.407Z"
      },
      {
        "duration": 2,
        "start_time": "2023-04-25T13:52:18.458Z"
      },
      {
        "duration": 7,
        "start_time": "2023-04-25T13:52:18.462Z"
      },
      {
        "duration": 12,
        "start_time": "2023-04-25T13:52:18.471Z"
      },
      {
        "duration": 24,
        "start_time": "2023-04-25T13:52:18.486Z"
      },
      {
        "duration": 34,
        "start_time": "2023-04-25T13:52:18.512Z"
      },
      {
        "duration": 5,
        "start_time": "2023-04-25T13:52:18.548Z"
      },
      {
        "duration": 27,
        "start_time": "2023-04-25T13:52:18.555Z"
      },
      {
        "duration": 19,
        "start_time": "2023-04-25T13:52:18.584Z"
      },
      {
        "duration": 31,
        "start_time": "2023-04-25T13:52:18.605Z"
      },
      {
        "duration": 22,
        "start_time": "2023-04-25T13:52:18.639Z"
      },
      {
        "duration": 115,
        "start_time": "2023-04-25T13:52:18.663Z"
      },
      {
        "duration": 54,
        "start_time": "2023-04-25T13:52:18.780Z"
      },
      {
        "duration": 219,
        "start_time": "2023-04-25T13:52:18.836Z"
      },
      {
        "duration": 135,
        "start_time": "2023-04-25T13:52:19.057Z"
      },
      {
        "duration": 364,
        "start_time": "2023-04-25T13:52:19.196Z"
      },
      {
        "duration": 5,
        "start_time": "2023-04-25T13:52:19.562Z"
      },
      {
        "duration": 177,
        "start_time": "2023-04-25T13:52:19.569Z"
      },
      {
        "duration": 106,
        "start_time": "2023-04-25T13:52:19.749Z"
      },
      {
        "duration": 61,
        "start_time": "2023-04-25T13:52:19.857Z"
      },
      {
        "duration": 27,
        "start_time": "2023-04-25T13:52:19.933Z"
      },
      {
        "duration": 9,
        "start_time": "2023-04-25T13:52:20.039Z"
      },
      {
        "duration": 294,
        "start_time": "2023-04-25T13:52:20.050Z"
      },
      {
        "duration": 92,
        "start_time": "2023-04-25T13:52:20.346Z"
      },
      {
        "duration": 127,
        "start_time": "2023-04-25T13:52:20.442Z"
      },
      {
        "duration": 138,
        "start_time": "2023-04-25T13:52:20.571Z"
      },
      {
        "duration": 4,
        "start_time": "2023-04-25T13:52:20.711Z"
      },
      {
        "duration": 25,
        "start_time": "2023-04-25T13:52:20.717Z"
      },
      {
        "duration": 139,
        "start_time": "2023-04-25T13:52:20.744Z"
      },
      {
        "duration": 747,
        "start_time": "2023-04-25T13:52:20.885Z"
      },
      {
        "duration": 35,
        "start_time": "2023-04-25T13:52:21.634Z"
      },
      {
        "duration": 23,
        "start_time": "2023-04-25T13:52:21.670Z"
      },
      {
        "duration": 70727,
        "start_time": "2023-04-25T13:52:21.695Z"
      },
      {
        "duration": 462,
        "start_time": "2023-04-25T13:53:32.424Z"
      },
      {
        "duration": 247,
        "start_time": "2023-04-25T13:53:32.888Z"
      },
      {
        "duration": 469,
        "start_time": "2023-04-25T13:53:33.138Z"
      },
      {
        "duration": 33,
        "start_time": "2023-04-25T13:53:33.609Z"
      },
      {
        "duration": 8,
        "start_time": "2023-04-25T13:53:33.643Z"
      },
      {
        "duration": 40,
        "start_time": "2023-04-25T13:53:33.652Z"
      },
      {
        "duration": 134,
        "start_time": "2023-04-25T14:16:31.417Z"
      },
      {
        "duration": 1361,
        "start_time": "2023-04-25T17:58:52.887Z"
      },
      {
        "duration": 95,
        "start_time": "2023-04-25T17:58:54.471Z"
      },
      {
        "duration": 10,
        "start_time": "2023-04-25T17:58:56.349Z"
      },
      {
        "duration": 4,
        "start_time": "2023-04-25T17:58:56.874Z"
      },
      {
        "duration": 14,
        "start_time": "2023-04-25T17:58:57.278Z"
      },
      {
        "duration": 7,
        "start_time": "2023-04-25T17:58:58.751Z"
      },
      {
        "duration": 7,
        "start_time": "2023-04-25T17:59:00.629Z"
      },
      {
        "duration": 11,
        "start_time": "2023-04-25T17:59:01.093Z"
      },
      {
        "duration": 12,
        "start_time": "2023-04-25T17:59:02.132Z"
      },
      {
        "duration": 13,
        "start_time": "2023-04-25T17:59:03.836Z"
      },
      {
        "duration": 7,
        "start_time": "2023-04-25T17:59:04.981Z"
      },
      {
        "duration": 8,
        "start_time": "2023-04-25T17:59:05.453Z"
      },
      {
        "duration": 18,
        "start_time": "2023-04-25T17:59:09.997Z"
      },
      {
        "duration": 2,
        "start_time": "2023-04-25T17:59:11.187Z"
      },
      {
        "duration": 2,
        "start_time": "2023-04-25T17:59:13.361Z"
      },
      {
        "duration": 4,
        "start_time": "2023-04-25T17:59:16.485Z"
      },
      {
        "duration": 8,
        "start_time": "2023-04-25T17:59:16.997Z"
      },
      {
        "duration": 8,
        "start_time": "2023-04-25T17:59:18.671Z"
      },
      {
        "duration": 3,
        "start_time": "2023-04-25T17:59:18.949Z"
      },
      {
        "duration": 22,
        "start_time": "2023-04-25T17:59:20.733Z"
      },
      {
        "duration": 10,
        "start_time": "2023-04-25T17:59:23.214Z"
      },
      {
        "duration": 4,
        "start_time": "2023-04-25T17:59:24.451Z"
      },
      {
        "duration": 5,
        "start_time": "2023-04-25T17:59:27.773Z"
      },
      {
        "duration": 101,
        "start_time": "2023-04-25T17:59:28.872Z"
      },
      {
        "duration": 5,
        "start_time": "2023-04-25T17:59:31.789Z"
      },
      {
        "duration": 104,
        "start_time": "2023-04-25T17:59:34.635Z"
      },
      {
        "duration": 105,
        "start_time": "2023-04-25T17:59:35.699Z"
      },
      {
        "duration": 275,
        "start_time": "2023-04-25T17:59:36.238Z"
      },
      {
        "duration": 4,
        "start_time": "2023-04-25T17:59:38.045Z"
      },
      {
        "duration": 112,
        "start_time": "2023-04-25T17:59:38.969Z"
      },
      {
        "duration": 25,
        "start_time": "2023-04-25T17:59:51.219Z"
      },
      {
        "duration": 68,
        "start_time": "2023-04-25T17:59:51.835Z"
      },
      {
        "duration": 37,
        "start_time": "2023-04-25T17:59:52.374Z"
      },
      {
        "duration": 6,
        "start_time": "2023-04-25T17:59:55.419Z"
      },
      {
        "duration": 249,
        "start_time": "2023-04-25T17:59:56.540Z"
      },
      {
        "duration": 6,
        "start_time": "2023-04-25T18:00:02.575Z"
      },
      {
        "duration": 13,
        "start_time": "2023-04-25T18:00:04.917Z"
      },
      {
        "duration": 118,
        "start_time": "2023-04-25T18:00:06.238Z"
      },
      {
        "duration": 7,
        "start_time": "2023-04-25T18:00:09.694Z"
      },
      {
        "duration": 13,
        "start_time": "2023-04-25T18:00:11.709Z"
      },
      {
        "duration": 116,
        "start_time": "2023-04-25T18:00:12.470Z"
      },
      {
        "duration": 3,
        "start_time": "2023-04-25T18:00:14.237Z"
      },
      {
        "duration": 726,
        "start_time": "2023-04-25T18:00:14.878Z"
      },
      {
        "duration": 44,
        "start_time": "2023-04-25T18:00:25.689Z"
      },
      {
        "duration": 26,
        "start_time": "2023-04-25T18:00:27.876Z"
      },
      {
        "duration": 61912,
        "start_time": "2023-04-25T18:00:32.407Z"
      },
      {
        "duration": 57896,
        "start_time": "2023-04-25T18:01:54.411Z"
      },
      {
        "duration": 379,
        "start_time": "2023-04-25T18:02:52.309Z"
      },
      {
        "duration": 187,
        "start_time": "2023-04-25T18:02:52.689Z"
      },
      {
        "duration": 315,
        "start_time": "2023-04-25T18:03:08.040Z"
      },
      {
        "duration": 18,
        "start_time": "2023-04-25T18:03:13.898Z"
      },
      {
        "duration": 5,
        "start_time": "2023-04-25T18:03:15.175Z"
      },
      {
        "duration": 8,
        "start_time": "2023-04-25T18:03:16.428Z"
      },
      {
        "duration": 198,
        "start_time": "2023-04-25T18:03:37.984Z"
      },
      {
        "duration": 223,
        "start_time": "2023-04-25T18:03:50.649Z"
      },
      {
        "duration": 142,
        "start_time": "2023-04-25T18:04:04.688Z"
      },
      {
        "duration": 13,
        "start_time": "2023-04-25T18:04:12.696Z"
      },
      {
        "duration": 6,
        "start_time": "2023-04-25T18:04:14.090Z"
      },
      {
        "duration": 8,
        "start_time": "2023-04-25T18:04:15.032Z"
      },
      {
        "duration": 6,
        "start_time": "2023-04-25T18:04:46.070Z"
      },
      {
        "duration": 45,
        "start_time": "2023-04-25T18:04:47.161Z"
      },
      {
        "duration": 7,
        "start_time": "2023-04-25T18:04:48.680Z"
      },
      {
        "duration": 3,
        "start_time": "2023-04-25T18:04:49.265Z"
      },
      {
        "duration": 12,
        "start_time": "2023-04-25T18:04:49.951Z"
      },
      {
        "duration": 6,
        "start_time": "2023-04-25T18:04:51.702Z"
      },
      {
        "duration": 8,
        "start_time": "2023-04-25T18:04:54.617Z"
      },
      {
        "duration": 11,
        "start_time": "2023-04-25T18:04:55.637Z"
      },
      {
        "duration": 13,
        "start_time": "2023-04-25T18:04:56.897Z"
      },
      {
        "duration": 12,
        "start_time": "2023-04-25T18:04:59.889Z"
      },
      {
        "duration": 7,
        "start_time": "2023-04-25T18:05:01.777Z"
      },
      {
        "duration": 8,
        "start_time": "2023-04-25T18:05:03.127Z"
      },
      {
        "duration": 18,
        "start_time": "2023-04-25T18:05:14.682Z"
      },
      {
        "duration": 2,
        "start_time": "2023-04-25T18:05:16.649Z"
      },
      {
        "duration": 2,
        "start_time": "2023-04-25T18:05:19.265Z"
      },
      {
        "duration": 5,
        "start_time": "2023-04-25T18:05:23.144Z"
      },
      {
        "duration": 8,
        "start_time": "2023-04-25T18:05:23.825Z"
      },
      {
        "duration": 6,
        "start_time": "2023-04-25T18:05:29.439Z"
      },
      {
        "duration": 3,
        "start_time": "2023-04-25T18:05:29.913Z"
      },
      {
        "duration": 17,
        "start_time": "2023-04-25T18:05:34.594Z"
      },
      {
        "duration": 12,
        "start_time": "2023-04-25T18:05:55.168Z"
      },
      {
        "duration": 4,
        "start_time": "2023-04-25T18:05:56.978Z"
      },
      {
        "duration": 4,
        "start_time": "2023-04-25T18:06:18.739Z"
      },
      {
        "duration": 95,
        "start_time": "2023-04-25T18:06:19.290Z"
      },
      {
        "duration": 4,
        "start_time": "2023-04-25T18:06:23.600Z"
      },
      {
        "duration": 104,
        "start_time": "2023-04-25T18:06:30.058Z"
      },
      {
        "duration": 102,
        "start_time": "2023-04-25T18:06:46.607Z"
      },
      {
        "duration": 241,
        "start_time": "2023-04-25T18:06:47.587Z"
      },
      {
        "duration": 4,
        "start_time": "2023-04-25T18:06:50.488Z"
      },
      {
        "duration": 67,
        "start_time": "2023-04-25T18:06:51.434Z"
      },
      {
        "duration": 29,
        "start_time": "2023-04-25T18:06:58.394Z"
      },
      {
        "duration": 58,
        "start_time": "2023-04-25T18:07:00.298Z"
      },
      {
        "duration": 20,
        "start_time": "2023-04-25T18:07:02.548Z"
      },
      {
        "duration": 5,
        "start_time": "2023-04-25T18:07:08.917Z"
      },
      {
        "duration": 199,
        "start_time": "2023-04-25T18:07:10.075Z"
      },
      {
        "duration": 4,
        "start_time": "2023-04-25T18:07:15.083Z"
      },
      {
        "duration": 9,
        "start_time": "2023-04-25T18:07:17.099Z"
      },
      {
        "duration": 93,
        "start_time": "2023-04-25T18:07:18.750Z"
      },
      {
        "duration": 3,
        "start_time": "2023-04-25T18:07:25.332Z"
      },
      {
        "duration": 12,
        "start_time": "2023-04-25T18:07:26.228Z"
      },
      {
        "duration": 98,
        "start_time": "2023-04-25T18:07:26.940Z"
      },
      {
        "duration": 2,
        "start_time": "2023-04-25T18:07:33.523Z"
      },
      {
        "duration": 629,
        "start_time": "2023-04-25T18:07:34.890Z"
      },
      {
        "duration": 1543,
        "start_time": "2023-04-26T11:24:39.487Z"
      },
      {
        "duration": 185,
        "start_time": "2023-04-26T11:24:41.032Z"
      },
      {
        "duration": 10,
        "start_time": "2023-04-26T11:24:44.914Z"
      },
      {
        "duration": 4,
        "start_time": "2023-04-26T11:24:45.442Z"
      },
      {
        "duration": 19,
        "start_time": "2023-04-26T11:24:46.112Z"
      },
      {
        "duration": 8,
        "start_time": "2023-04-26T11:24:49.434Z"
      },
      {
        "duration": 7,
        "start_time": "2023-04-26T11:24:59.147Z"
      },
      {
        "duration": 16,
        "start_time": "2023-04-26T11:24:59.805Z"
      },
      {
        "duration": 20,
        "start_time": "2023-04-26T11:25:00.995Z"
      },
      {
        "duration": 14,
        "start_time": "2023-04-26T11:25:04.363Z"
      },
      {
        "duration": 11,
        "start_time": "2023-04-26T11:25:05.394Z"
      },
      {
        "duration": 10,
        "start_time": "2023-04-26T11:25:06.020Z"
      },
      {
        "duration": 21,
        "start_time": "2023-04-26T11:25:16.380Z"
      },
      {
        "duration": 3,
        "start_time": "2023-04-26T11:25:18.395Z"
      },
      {
        "duration": 3,
        "start_time": "2023-04-26T11:25:21.051Z"
      },
      {
        "duration": 4,
        "start_time": "2023-04-26T11:26:53.545Z"
      },
      {
        "duration": 9,
        "start_time": "2023-04-26T11:26:54.026Z"
      },
      {
        "duration": 4,
        "start_time": "2023-04-26T11:27:50.939Z"
      },
      {
        "duration": 9,
        "start_time": "2023-04-26T11:27:51.394Z"
      },
      {
        "duration": 8,
        "start_time": "2023-04-26T11:28:08.782Z"
      },
      {
        "duration": 3,
        "start_time": "2023-04-26T11:28:20.884Z"
      },
      {
        "duration": 34,
        "start_time": "2023-04-26T11:29:55.877Z"
      },
      {
        "duration": 17,
        "start_time": "2023-04-26T11:30:53.101Z"
      },
      {
        "duration": 5,
        "start_time": "2023-04-26T11:30:56.285Z"
      },
      {
        "duration": 5,
        "start_time": "2023-04-26T11:40:28.898Z"
      },
      {
        "duration": 114,
        "start_time": "2023-04-26T11:40:29.547Z"
      },
      {
        "duration": 6,
        "start_time": "2023-04-26T11:40:34.451Z"
      },
      {
        "duration": 134,
        "start_time": "2023-04-26T11:40:37.715Z"
      },
      {
        "duration": 110,
        "start_time": "2023-04-26T11:40:42.938Z"
      },
      {
        "duration": 279,
        "start_time": "2023-04-26T11:40:43.361Z"
      },
      {
        "duration": 5,
        "start_time": "2023-04-26T11:40:44.786Z"
      },
      {
        "duration": 83,
        "start_time": "2023-04-26T11:40:45.688Z"
      },
      {
        "duration": 26,
        "start_time": "2023-04-26T11:41:13.698Z"
      },
      {
        "duration": 67,
        "start_time": "2023-04-26T11:41:14.131Z"
      },
      {
        "duration": 86,
        "start_time": "2023-04-26T11:41:15.370Z"
      },
      {
        "duration": 6,
        "start_time": "2023-04-26T11:41:18.802Z"
      },
      {
        "duration": 199,
        "start_time": "2023-04-26T11:41:21.262Z"
      },
      {
        "duration": 4,
        "start_time": "2023-04-26T11:41:42.107Z"
      },
      {
        "duration": 11,
        "start_time": "2023-04-26T11:41:44.354Z"
      },
      {
        "duration": 99,
        "start_time": "2023-04-26T11:41:46.082Z"
      },
      {
        "duration": 5,
        "start_time": "2023-04-26T11:41:51.570Z"
      },
      {
        "duration": 16,
        "start_time": "2023-04-26T11:41:52.237Z"
      },
      {
        "duration": 142,
        "start_time": "2023-04-26T11:41:52.747Z"
      },
      {
        "duration": 2,
        "start_time": "2023-04-26T11:41:54.161Z"
      },
      {
        "duration": 615,
        "start_time": "2023-04-26T11:41:55.027Z"
      },
      {
        "duration": 95,
        "start_time": "2023-04-26T11:44:45.908Z"
      },
      {
        "duration": 28,
        "start_time": "2023-04-26T11:45:48.444Z"
      },
      {
        "duration": 21,
        "start_time": "2023-04-26T11:45:51.196Z"
      },
      {
        "duration": 35,
        "start_time": "2023-04-26T11:46:30.603Z"
      },
      {
        "duration": 20,
        "start_time": "2023-04-26T11:46:32.910Z"
      },
      {
        "duration": 58427,
        "start_time": "2023-04-26T11:46:40.805Z"
      },
      {
        "duration": 206,
        "start_time": "2023-04-26T11:48:36.575Z"
      },
      {
        "duration": 158,
        "start_time": "2023-04-26T11:48:43.897Z"
      },
      {
        "duration": 144,
        "start_time": "2023-04-26T11:51:45.001Z"
      },
      {
        "duration": 19,
        "start_time": "2023-04-26T11:51:56.384Z"
      },
      {
        "duration": 7,
        "start_time": "2023-04-26T11:51:57.928Z"
      },
      {
        "duration": 9,
        "start_time": "2023-04-26T11:51:59.257Z"
      }
    ],
    "kernelspec": {
      "display_name": "Python 3 (ipykernel)",
      "language": "python",
      "name": "python3"
    },
    "language_info": {
      "codemirror_mode": {
        "name": "ipython",
        "version": 3
      },
      "file_extension": ".py",
      "mimetype": "text/x-python",
      "name": "python",
      "nbconvert_exporter": "python",
      "pygments_lexer": "ipython3",
      "version": "3.9.5"
    },
    "toc": {
      "base_numbering": 1,
      "nav_menu": {},
      "number_sections": true,
      "sideBar": true,
      "skip_h1_title": true,
      "title_cell": "Содержание",
      "title_sidebar": "Contents",
      "toc_cell": true,
      "toc_position": {},
      "toc_section_display": true,
      "toc_window_display": true
    },
    "colab": {
      "provenance": []
    }
  },
  "nbformat": 4,
  "nbformat_minor": 0
}