{
  "cells": [
    {
      "cell_type": "markdown",
      "metadata": {
        "toc": true,
        "id": "erX-Bc9vWHaf"
      },
      "source": [
        "<h1>Содержание<span class=\"tocSkip\"></span></h1>\n",
        "<div class=\"toc\"><ul class=\"toc-item\"><li><span><a href=\"#Загрузка-данных\" data-toc-modified-id=\"Загрузка-данных-1\"><span class=\"toc-item-num\">1&nbsp;&nbsp;</span>Загрузка данных</a></span></li><li><span><a href=\"#Умножение-матриц\" data-toc-modified-id=\"Умножение-матриц-2\"><span class=\"toc-item-num\">2&nbsp;&nbsp;</span>Умножение матриц</a></span></li><li><span><a href=\"#Алгоритм-преобразования\" data-toc-modified-id=\"Алгоритм-преобразования-3\"><span class=\"toc-item-num\">3&nbsp;&nbsp;</span>Алгоритм преобразования</a></span></li><li><span><a href=\"#Проверка-алгоритма\" data-toc-modified-id=\"Проверка-алгоритма-4\"><span class=\"toc-item-num\">4&nbsp;&nbsp;</span>Проверка алгоритма</a></span></li><li><span><a href=\"#Чек-лист-проверки\" data-toc-modified-id=\"Чек-лист-проверки-5\"><span class=\"toc-item-num\">5&nbsp;&nbsp;</span>Чек-лист проверки</a></span></li></ul></div>"
      ]
    },
    {
      "cell_type": "markdown",
      "metadata": {
        "id": "XXFT6e7GWHaf"
      },
      "source": [
        "# Защита персональных данных клиентов"
      ]
    },
    {
      "cell_type": "markdown",
      "metadata": {
        "id": "GrtPumm2WHag"
      },
      "source": [
        "Вам нужно защитить данные клиентов страховой компании «Хоть потоп». Разработайте такой метод преобразования данных, чтобы по ним было сложно восстановить персональную информацию. Обоснуйте корректность его работы.\n",
        "\n",
        "Нужно защитить данные, чтобы при преобразовании качество моделей машинного обучения не ухудшилось. Подбирать наилучшую модель не требуется."
      ]
    },
    {
      "cell_type": "markdown",
      "metadata": {
        "id": "2cliIl4cWHag"
      },
      "source": [
        "## Загрузка данных"
      ]
    },
    {
      "cell_type": "code",
      "execution_count": null,
      "metadata": {
        "id": "emqBVZ8sWHag"
      },
      "outputs": [],
      "source": [
        "import pandas as pd\n",
        "import numpy as np\n",
        "from sklearn.model_selection import train_test_split\n",
        "from sklearn.metrics import r2_score\n",
        "from sklearn.metrics import mean_squared_error\n",
        "import matplotlib.pyplot as plt\n",
        "from sklearn.linear_model import LinearRegression\n",
        "import seaborn as sns"
      ]
    },
    {
      "cell_type": "code",
      "execution_count": null,
      "metadata": {
        "id": "3SsU43KHWHah"
      },
      "outputs": [],
      "source": [
        "data = pd.read_csv(\"/datasets/insurance.csv\")"
      ]
    },
    {
      "cell_type": "code",
      "execution_count": null,
      "metadata": {
        "id": "llD5AB1NWHai",
        "outputId": "425d487c-aadc-4368-9720-7642cd40986a"
      },
      "outputs": [
        {
          "data": {
            "text/html": [
              "<div>\n",
              "<style scoped>\n",
              "    .dataframe tbody tr th:only-of-type {\n",
              "        vertical-align: middle;\n",
              "    }\n",
              "\n",
              "    .dataframe tbody tr th {\n",
              "        vertical-align: top;\n",
              "    }\n",
              "\n",
              "    .dataframe thead th {\n",
              "        text-align: right;\n",
              "    }\n",
              "</style>\n",
              "<table border=\"1\" class=\"dataframe\">\n",
              "  <thead>\n",
              "    <tr style=\"text-align: right;\">\n",
              "      <th></th>\n",
              "      <th>Пол</th>\n",
              "      <th>Возраст</th>\n",
              "      <th>Зарплата</th>\n",
              "      <th>Члены семьи</th>\n",
              "      <th>Страховые выплаты</th>\n",
              "    </tr>\n",
              "  </thead>\n",
              "  <tbody>\n",
              "    <tr>\n",
              "      <th>0</th>\n",
              "      <td>1</td>\n",
              "      <td>41.0</td>\n",
              "      <td>49600.0</td>\n",
              "      <td>1</td>\n",
              "      <td>0</td>\n",
              "    </tr>\n",
              "    <tr>\n",
              "      <th>1</th>\n",
              "      <td>0</td>\n",
              "      <td>46.0</td>\n",
              "      <td>38000.0</td>\n",
              "      <td>1</td>\n",
              "      <td>1</td>\n",
              "    </tr>\n",
              "    <tr>\n",
              "      <th>2</th>\n",
              "      <td>0</td>\n",
              "      <td>29.0</td>\n",
              "      <td>21000.0</td>\n",
              "      <td>0</td>\n",
              "      <td>0</td>\n",
              "    </tr>\n",
              "    <tr>\n",
              "      <th>3</th>\n",
              "      <td>0</td>\n",
              "      <td>21.0</td>\n",
              "      <td>41700.0</td>\n",
              "      <td>2</td>\n",
              "      <td>0</td>\n",
              "    </tr>\n",
              "    <tr>\n",
              "      <th>4</th>\n",
              "      <td>1</td>\n",
              "      <td>28.0</td>\n",
              "      <td>26100.0</td>\n",
              "      <td>0</td>\n",
              "      <td>0</td>\n",
              "    </tr>\n",
              "  </tbody>\n",
              "</table>\n",
              "</div>"
            ],
            "text/plain": [
              "   Пол  Возраст  Зарплата  Члены семьи  Страховые выплаты\n",
              "0    1     41.0   49600.0            1                  0\n",
              "1    0     46.0   38000.0            1                  1\n",
              "2    0     29.0   21000.0            0                  0\n",
              "3    0     21.0   41700.0            2                  0\n",
              "4    1     28.0   26100.0            0                  0"
            ]
          },
          "execution_count": 3,
          "metadata": {},
          "output_type": "execute_result"
        }
      ],
      "source": [
        "data.head()"
      ]
    },
    {
      "cell_type": "code",
      "execution_count": null,
      "metadata": {
        "id": "DpDvfu32WHaj",
        "outputId": "930190cc-450e-44c8-d199-b05464616135"
      },
      "outputs": [
        {
          "name": "stdout",
          "output_type": "stream",
          "text": [
            "<class 'pandas.core.frame.DataFrame'>\n",
            "RangeIndex: 5000 entries, 0 to 4999\n",
            "Data columns (total 5 columns):\n",
            " #   Column             Non-Null Count  Dtype  \n",
            "---  ------             --------------  -----  \n",
            " 0   Пол                5000 non-null   int64  \n",
            " 1   Возраст            5000 non-null   float64\n",
            " 2   Зарплата           5000 non-null   float64\n",
            " 3   Члены семьи        5000 non-null   int64  \n",
            " 4   Страховые выплаты  5000 non-null   int64  \n",
            "dtypes: float64(2), int64(3)\n",
            "memory usage: 195.4 KB\n"
          ]
        }
      ],
      "source": [
        "data.info()"
      ]
    },
    {
      "cell_type": "code",
      "execution_count": null,
      "metadata": {
        "id": "L21aP22oWHaj",
        "outputId": "0a016cac-5aae-45f1-a60f-de5f74baf124"
      },
      "outputs": [
        {
          "data": {
            "text/html": [
              "<div>\n",
              "<style scoped>\n",
              "    .dataframe tbody tr th:only-of-type {\n",
              "        vertical-align: middle;\n",
              "    }\n",
              "\n",
              "    .dataframe tbody tr th {\n",
              "        vertical-align: top;\n",
              "    }\n",
              "\n",
              "    .dataframe thead th {\n",
              "        text-align: right;\n",
              "    }\n",
              "</style>\n",
              "<table border=\"1\" class=\"dataframe\">\n",
              "  <thead>\n",
              "    <tr style=\"text-align: right;\">\n",
              "      <th></th>\n",
              "      <th>Пол</th>\n",
              "      <th>Возраст</th>\n",
              "      <th>Зарплата</th>\n",
              "      <th>Члены семьи</th>\n",
              "      <th>Страховые выплаты</th>\n",
              "    </tr>\n",
              "  </thead>\n",
              "  <tbody>\n",
              "    <tr>\n",
              "      <th>count</th>\n",
              "      <td>5000.000000</td>\n",
              "      <td>5000.000000</td>\n",
              "      <td>5000.000000</td>\n",
              "      <td>5000.000000</td>\n",
              "      <td>5000.000000</td>\n",
              "    </tr>\n",
              "    <tr>\n",
              "      <th>mean</th>\n",
              "      <td>0.499000</td>\n",
              "      <td>30.952800</td>\n",
              "      <td>39916.360000</td>\n",
              "      <td>1.194200</td>\n",
              "      <td>0.148000</td>\n",
              "    </tr>\n",
              "    <tr>\n",
              "      <th>std</th>\n",
              "      <td>0.500049</td>\n",
              "      <td>8.440807</td>\n",
              "      <td>9900.083569</td>\n",
              "      <td>1.091387</td>\n",
              "      <td>0.463183</td>\n",
              "    </tr>\n",
              "    <tr>\n",
              "      <th>min</th>\n",
              "      <td>0.000000</td>\n",
              "      <td>18.000000</td>\n",
              "      <td>5300.000000</td>\n",
              "      <td>0.000000</td>\n",
              "      <td>0.000000</td>\n",
              "    </tr>\n",
              "    <tr>\n",
              "      <th>25%</th>\n",
              "      <td>0.000000</td>\n",
              "      <td>24.000000</td>\n",
              "      <td>33300.000000</td>\n",
              "      <td>0.000000</td>\n",
              "      <td>0.000000</td>\n",
              "    </tr>\n",
              "    <tr>\n",
              "      <th>50%</th>\n",
              "      <td>0.000000</td>\n",
              "      <td>30.000000</td>\n",
              "      <td>40200.000000</td>\n",
              "      <td>1.000000</td>\n",
              "      <td>0.000000</td>\n",
              "    </tr>\n",
              "    <tr>\n",
              "      <th>75%</th>\n",
              "      <td>1.000000</td>\n",
              "      <td>37.000000</td>\n",
              "      <td>46600.000000</td>\n",
              "      <td>2.000000</td>\n",
              "      <td>0.000000</td>\n",
              "    </tr>\n",
              "    <tr>\n",
              "      <th>max</th>\n",
              "      <td>1.000000</td>\n",
              "      <td>65.000000</td>\n",
              "      <td>79000.000000</td>\n",
              "      <td>6.000000</td>\n",
              "      <td>5.000000</td>\n",
              "    </tr>\n",
              "  </tbody>\n",
              "</table>\n",
              "</div>"
            ],
            "text/plain": [
              "               Пол      Возраст      Зарплата  Члены семьи  Страховые выплаты\n",
              "count  5000.000000  5000.000000   5000.000000  5000.000000        5000.000000\n",
              "mean      0.499000    30.952800  39916.360000     1.194200           0.148000\n",
              "std       0.500049     8.440807   9900.083569     1.091387           0.463183\n",
              "min       0.000000    18.000000   5300.000000     0.000000           0.000000\n",
              "25%       0.000000    24.000000  33300.000000     0.000000           0.000000\n",
              "50%       0.000000    30.000000  40200.000000     1.000000           0.000000\n",
              "75%       1.000000    37.000000  46600.000000     2.000000           0.000000\n",
              "max       1.000000    65.000000  79000.000000     6.000000           5.000000"
            ]
          },
          "execution_count": 5,
          "metadata": {},
          "output_type": "execute_result"
        }
      ],
      "source": [
        "data.describe()"
      ]
    },
    {
      "cell_type": "code",
      "execution_count": null,
      "metadata": {
        "id": "BfTnMQnMWHaj",
        "outputId": "f20904ee-b616-4c97-8a68-57b5c6938910"
      },
      "outputs": [
        {
          "data": {
            "text/plain": [
              "(5000, 5)"
            ]
          },
          "execution_count": 6,
          "metadata": {},
          "output_type": "execute_result"
        }
      ],
      "source": [
        "data.shape"
      ]
    },
    {
      "cell_type": "code",
      "execution_count": null,
      "metadata": {
        "id": "lrfynmc9WHak",
        "outputId": "2b82347f-4267-4713-906b-f1ad16075fda"
      },
      "outputs": [
        {
          "data": {
            "text/plain": [
              "1    1814\n",
              "0    1513\n",
              "2    1071\n",
              "3     439\n",
              "4     124\n",
              "5      32\n",
              "6       7\n",
              "Name: Члены семьи, dtype: int64"
            ]
          },
          "execution_count": 85,
          "metadata": {},
          "output_type": "execute_result"
        }
      ],
      "source": [
        "data[\"Члены семьи\"].value_counts()"
      ]
    },
    {
      "cell_type": "code",
      "execution_count": null,
      "metadata": {
        "id": "kZFeJaipWHak",
        "outputId": "b88aa814-e69d-41dd-e4dc-b696636d1b61"
      },
      "outputs": [
        {
          "data": {
            "text/plain": [
              "array([41, 46, 29, 21, 28, 43, 39, 25, 36, 32, 38, 23, 40, 34, 26, 42, 27,\n",
              "       33, 47, 30, 19, 31, 22, 20, 24, 18, 37, 48, 45, 44, 52, 49, 35, 56,\n",
              "       65, 55, 57, 54, 50, 53, 51, 58, 59, 60, 61, 62])"
            ]
          },
          "execution_count": 170,
          "metadata": {},
          "output_type": "execute_result"
        }
      ],
      "source": [
        "data['Возраст'].unique().astype('int')"
      ]
    },
    {
      "cell_type": "code",
      "execution_count": null,
      "metadata": {
        "scrolled": true,
        "id": "vRHF47lsWHak",
        "outputId": "274b0024-9d52-4ce8-ea85-e7c3ba8bef63"
      },
      "outputs": [
        {
          "data": {
            "text/plain": [
              "19.0    223\n",
              "25.0    214\n",
              "31.0    212\n",
              "26.0    211\n",
              "27.0    209\n",
              "22.0    209\n",
              "32.0    206\n",
              "28.0    204\n",
              "29.0    203\n",
              "30.0    202\n",
              "23.0    202\n",
              "21.0    200\n",
              "20.0    195\n",
              "36.0    193\n",
              "33.0    191\n",
              "24.0    182\n",
              "35.0    179\n",
              "34.0    177\n",
              "37.0    147\n",
              "39.0    141\n",
              "38.0    139\n",
              "41.0    129\n",
              "18.0    117\n",
              "40.0    114\n",
              "42.0     93\n",
              "43.0     77\n",
              "44.0     74\n",
              "45.0     73\n",
              "46.0     60\n",
              "47.0     47\n",
              "49.0     37\n",
              "50.0     27\n",
              "48.0     26\n",
              "52.0     22\n",
              "51.0     21\n",
              "53.0     11\n",
              "55.0      9\n",
              "54.0      7\n",
              "56.0      5\n",
              "59.0      3\n",
              "60.0      2\n",
              "58.0      2\n",
              "57.0      2\n",
              "65.0      1\n",
              "61.0      1\n",
              "62.0      1\n",
              "Name: Возраст, dtype: int64"
            ]
          },
          "execution_count": 173,
          "metadata": {},
          "output_type": "execute_result"
        }
      ],
      "source": [
        "data['Возраст'].value_counts()"
      ]
    },
    {
      "cell_type": "code",
      "execution_count": null,
      "metadata": {
        "id": "5QiNQ3sDWHal",
        "outputId": "0bd8d995-55fc-43ae-940c-f7e81de5df6e"
      },
      "outputs": [
        {
          "data": {
            "image/png": "[encoded data removed]",
            "text/plain": [
              "<Figure size 1080x1080 with 6 Axes>"
            ]
          },
          "metadata": {
            "needs_background": "light"
          },
          "output_type": "display_data"
        }
      ],
      "source": [
        "figure, axis = plt.subplots(2, 3, figsize=(15, 15))\n",
        "\n",
        "\n",
        "axis[0, 0].pie(data['Пол'].value_counts(), labels=['Муж','Жен']);\n",
        "axis[0, 0].set_title(\"Клиенты банка (пол)\")\n",
        "\n",
        "\n",
        "X= data[\"Страховые выплаты\"].value_counts()\n",
        "explode = (0, 0, 0, 0.1, 0.2, 0.3)\n",
        "\n",
        "axis[0, 1].pie(data[\"Страховые выплаты\"].value_counts(), labels=[0,1,2,3,4,5], autopct='%1.1f%%', explode= explode)\n",
        "axis[0, 1].set_title(\"Объем страховых выплат клиентам\")\n",
        "axis[0, 1].legend(bbox_to_anchor = (-0.16, 0.45, 0.25, 0.25), loc = 'best', labels = [0,1,2,3,4,5])\n",
        "\n",
        "\n",
        "axis[0, 2].bar(data['Возраст'], data[\"Страховые выплаты\"]);\n",
        "axis[0, 2].set_title(\"Возраст/страховые выплаты\")\n",
        "\n",
        "axis[1, 0].boxplot(data[\"Зарплата\"])\n",
        "axis[1, 0].set_title(\"Диаграмма размаха зарплаты клиентов банка\")\n",
        "\n",
        "\n",
        "axis[1, 1].bar(data[\"Члены семьи\"], data[\"Страховые выплаты\"])\n",
        "axis[1, 1].set_title(\"кол.чл.семьи/страховые выплаты\")\n",
        "\n",
        "axis[1, 2].scatter(data['Зарплата'], data['Страховые выплаты'], alpha=0.3)\n",
        "axis[1,2].set_title(\"Зарплата/страховые выплаты\")\n",
        "\n",
        "\n",
        "plt.show()"
      ]
    },
    {
      "cell_type": "code",
      "execution_count": null,
      "metadata": {
        "id": "0H-mbYtlWHal",
        "outputId": "ad6a6a90-8986-4e8c-9c35-30573dc622a2"
      },
      "outputs": [
        {
          "data": {
            "image/png": "[encoded data removed]",
            "text/plain": [
              "<Figure size 1080x1080 with 6 Axes>"
            ]
          },
          "metadata": {
            "needs_background": "light"
          },
          "output_type": "display_data"
        }
      ],
      "source": [
        "data.hist(figsize=(15,15));"
      ]
    },
    {
      "cell_type": "code",
      "execution_count": null,
      "metadata": {
        "id": "JPnKyBp3WHal",
        "outputId": "4ad6d12b-abef-4184-c0d9-c840fd21ade3"
      },
      "outputs": [
        {
          "data": {
            "image/png": "[encoded data removed]",
            "text/plain": [
              "<Figure size 900x900 with 30 Axes>"
            ]
          },
          "metadata": {
            "needs_background": "light"
          },
          "output_type": "display_data"
        }
      ],
      "source": [
        "#sns.pairplot(data);"
      ]
    },
    {
      "cell_type": "code",
      "execution_count": null,
      "metadata": {
        "id": "X5_0cf5eWHal",
        "outputId": "4b46e5a8-9a41-47c4-eaf5-fbf4c9c133a5"
      },
      "outputs": [
        {
          "name": "stdout",
          "output_type": "stream",
          "text": [
            "Корреляция между страховыми выплатами и параметром \"Пол\" составляет: 1.01%\n",
            "Корреляция между страховыми выплатами и параметром \"Возраст\" составляет: 65.10%\n",
            "Корреляция между страховыми выплатами и параметром \"Зарплата\" составляет: -1.50%\n",
            "Корреляция между страховыми выплатами и параметром \"Члены семьи\" составляет: -3.63%\n"
          ]
        }
      ],
      "source": [
        "line_list = list(data.drop('Страховые выплаты', axis=1).columns)\n",
        "\n",
        "for param in line_list:\n",
        "    correlation = data['Страховые выплаты'].corr(data[param])\n",
        "    print(f'Корреляция между страховыми выплатами и параметром \"{param}\" составляет: {correlation:0.2%}')\n"
      ]
    },
    {
      "cell_type": "code",
      "execution_count": null,
      "metadata": {
        "id": "58oFK7iCWHam",
        "outputId": "5c8d4f57-2a50-4e68-a3bd-f59aae331563"
      },
      "outputs": [
        {
          "data": {
            "image/png": "[encoded data removed]",
            "text/plain": [
              "<Figure size 432x288 with 2 Axes>"
            ]
          },
          "metadata": {
            "needs_background": "light"
          },
          "output_type": "display_data"
        }
      ],
      "source": [
        "corr=data.corr()\n",
        "sns.heatmap(corr, xticklabels=corr.columns.values, yticklabels=corr.columns.values);"
      ]
    },
    {
      "cell_type": "markdown",
      "metadata": {
        "id": "0gexNkDnWHam"
      },
      "source": [
        "      \n",
        "Визуальный анализ данных позволил сделать некотоые выводы:<br/>\n",
        "        \n",
        "1) Страховые выплаты в основном не выплачиваются (причина не выяснялась)<br/>\n",
        "\n",
        "2) Клиенты банка в равных долях по гендерному признаку - мужчины и женщины<br/>\n",
        "\n",
        "3) Возраст клиентов банка: подавляющее большинство молодые люди от 19 до 35 лет, чуть меньше - от 35до 40 лет. Количество клиентов старше 50 меньше в половину.<br/>\n",
        "\n",
        "4) Средняя зарплата клиентов банка от 32 до 47 тыс. Но есть небольшое количество клиентов с  зарплатой - более 65 тыс. И также небольшое количество клиентов с зарплатой менее 15 тыс.<br/>\n",
        "\n",
        "5) Выявлена прямая корреляция между страховыми выплатами и возрастом. Чем старше человек, тем больше вероятность, что он получит страховую выплату.<br/>\n",
        "\n",
        "6) Остальные признаки слабо коррелируют с целевым признаком.<br/>\n"
      ]
    },
    {
      "cell_type": "code",
      "execution_count": null,
      "metadata": {
        "id": "xSx2jJ2zWHan"
      },
      "outputs": [],
      "source": [
        "targets = data['Страховые выплаты']\n",
        "features = data.drop('Страховые выплаты', axis=1)"
      ]
    },
    {
      "cell_type": "code",
      "execution_count": null,
      "metadata": {
        "id": "7AetpeS4WHan",
        "outputId": "ea70c50b-8a06-43ef-fe98-6573a94aabac"
      },
      "outputs": [
        {
          "data": {
            "text/plain": [
              "((5000, 4), (5000,))"
            ]
          },
          "execution_count": 8,
          "metadata": {},
          "output_type": "execute_result"
        }
      ],
      "source": [
        "features.shape, targets.shape"
      ]
    },
    {
      "cell_type": "code",
      "execution_count": null,
      "metadata": {
        "id": "9X1wKyxwWHan"
      },
      "outputs": [],
      "source": [
        "train_features, test_features, train_targets, test_targets = train_test_split(features,\n",
        "                                                                            targets, random_state=12345, test_size=0.25)"
      ]
    },
    {
      "cell_type": "code",
      "execution_count": null,
      "metadata": {
        "id": "kh-kTBnoWHan",
        "outputId": "5034d990-c369-457e-eea9-b39247106f6e"
      },
      "outputs": [
        {
          "data": {
            "text/plain": [
              "((3750, 4), (3750,), (1250, 4), (1250,))"
            ]
          },
          "execution_count": 10,
          "metadata": {},
          "output_type": "execute_result"
        }
      ],
      "source": [
        "train_features.shape, train_targets.shape, test_features.shape, test_targets.shape"
      ]
    },
    {
      "cell_type": "code",
      "execution_count": null,
      "metadata": {
        "id": "D9hqSJ2LWHan",
        "outputId": "af631df0-dd07-4b56-ccc1-ee206708d2e7"
      },
      "outputs": [
        {
          "data": {
            "text/plain": [
              "3369    1\n",
              "1441    0\n",
              "571     0\n",
              "225     0\n",
              "2558    0\n",
              "       ..\n",
              "3497    1\n",
              "3492    0\n",
              "2177    0\n",
              "3557    0\n",
              "4578    0\n",
              "Name: Страховые выплаты, Length: 3750, dtype: int64"
            ]
          },
          "execution_count": 11,
          "metadata": {},
          "output_type": "execute_result"
        }
      ],
      "source": [
        "train_targets"
      ]
    },
    {
      "cell_type": "markdown",
      "metadata": {
        "id": "CU8gGoNzWHan"
      },
      "source": [
        "Решим задачу регрессии для исходных данных. Создадим модель линейной регресси по исходным данным."
      ]
    },
    {
      "cell_type": "code",
      "execution_count": null,
      "metadata": {
        "id": "XR-ClDoeWHan"
      },
      "outputs": [],
      "source": [
        "class LinearRegression:\n",
        "    def fit(self, train_features, train_targets):\n",
        "        X = np.concatenate((np.ones((train_features.shape[0],1)), train_features), axis=1)\n",
        "        y = train_targets\n",
        "        w = (np.linalg.inv((X.T @ X)) @ X.T) @ y\n",
        "        self.w = w[1:]\n",
        "        self.w0 = w[0]\n",
        "\n",
        "    def predict(self, test_features):\n",
        "        return test_features.dot(self.w) + self.w0"
      ]
    },
    {
      "cell_type": "markdown",
      "metadata": {
        "id": "TCqwaizJWHao"
      },
      "source": [
        "Обучим модель на тренировочной выборке, выполним предсказание на тестовой выборке. Проверим качество модели."
      ]
    },
    {
      "cell_type": "code",
      "execution_count": null,
      "metadata": {
        "id": "LdQ9esCRWHao",
        "outputId": "526b8860-f900-40da-d27a-9f7ac3801dbf"
      },
      "outputs": [
        {
          "name": "stdout",
          "output_type": "stream",
          "text": [
            "R2 = 0.4352275712702667\n",
            "MSE = 0.11660517472525564\n"
          ]
        }
      ],
      "source": [
        "model = LinearRegression()\n",
        "model.fit(train_features, train_targets)\n",
        "prediction = model.predict(test_features)\n",
        "print(\"R2 =\", r2_score(test_targets, prediction))\n",
        "print(\"MSE =\", mean_squared_error(test_targets, prediction))"
      ]
    },
    {
      "cell_type": "markdown",
      "metadata": {
        "id": "sxQEFdTgWHao"
      },
      "source": [
        "Значение R2 неотрицательное, больше нуля и меньше 1, близко к нулю. Значение MSE также в диапазоне [0,1]. Значение метрик вполне неплохие. Модель можно использовать."
      ]
    },
    {
      "cell_type": "code",
      "execution_count": null,
      "metadata": {
        "id": "Nuea1d5NWHao",
        "outputId": "81a57dbf-4ac1-483b-effa-681afc992337"
      },
      "outputs": [
        {
          "data": {
            "image/png": "[encoded data removed]",
            "text/plain": [
              "<Figure size 864x864 with 1 Axes>"
            ]
          },
          "metadata": {
            "needs_background": "light"
          },
          "output_type": "display_data"
        }
      ],
      "source": [
        "plt.figure(figsize=(12,12))\n",
        "plt.plot(test_targets,prediction,'o',color='green')\n",
        "plt.legend(['Предсказание'])\n",
        "plt.title('График исходных и предсказанных значений', y=1, fontsize=15)\n",
        "plt.xlabel('Исходные значения')\n",
        "plt.ylabel('Предсказанные значения')\n",
        "plt.xlim(-0.3,4.3)\n",
        "plt.ylim(-1,1.5)\n",
        "plt.grid(True)\n",
        "plt.show()"
      ]
    },
    {
      "cell_type": "markdown",
      "metadata": {
        "id": "Zwig81TlWHao"
      },
      "source": [
        "Преобразуем матрицу, для того чтобы зашифровать данные."
      ]
    },
    {
      "cell_type": "markdown",
      "metadata": {
        "id": "7V1SbcyNWHap"
      },
      "source": [
        "Ответьте на вопрос и обоснуйте решение. <br/>\n",
        " Признаки умножают на обратимую матрицу. Изменится ли качество линейной регрессии? (Её можно обучить заново.)<br/>\n",
        " - a. Изменится. Приведите примеры матриц.\n",
        " - b. Не изменится. Укажите, как связаны параметры линейной регрессии в исходной задаче и в преобразованной."
      ]
    },
    {
      "cell_type": "markdown",
      "metadata": {
        "id": "7gKJyfDQWHap"
      },
      "source": [
        "В этом задании вы можете записывать формулы в *Jupyter Notebook.*\n",
        "\n",
        "Чтобы записать формулу внутри текста, окружите её символами доллара \\\\$; если снаружи —  двойными символами \\\\$\\\\$. Эти формулы записываются на языке вёрстки *LaTeX.*\n",
        "\n",
        "Для примера мы записали формулы линейной регрессии. Можете их скопировать и отредактировать, чтобы решить задачу.\n",
        "\n",
        "Работать в *LaTeX* необязательно."
      ]
    },
    {
      "cell_type": "markdown",
      "metadata": {
        "id": "y6WQ_WfYWHap"
      },
      "source": [
        "Обозначения:\n",
        "\n",
        "- $X$ — матрица признаков (нулевой столбец состоит из единиц)\n",
        "\n",
        "- $y$ — вектор целевого признака\n",
        "\n",
        "- $P$ — матрица, на которую умножаются признаки\n",
        "\n",
        "- $w$ — вектор весов линейной регрессии (нулевой элемент равен сдвигу)"
      ]
    },
    {
      "cell_type": "markdown",
      "metadata": {
        "id": "Y7mIhNDqWHap"
      },
      "source": [
        "Предсказания:\n",
        "\n",
        "$$\n",
        "a = Xw\n",
        "$$\n",
        "\n",
        "Задача обучения:\n",
        "\n",
        "$$\n",
        "w = \\arg\\min_w MSE(Xw, y)\n",
        "$$\n",
        "\n",
        "Формула обучения:\n",
        "\n",
        "$$\n",
        "w = (X^T X)^{-1} X^T y\n",
        "$$"
      ]
    },
    {
      "cell_type": "markdown",
      "metadata": {
        "id": "a_GeTYJFWHaq"
      },
      "source": [
        "**Ответ:** При умножении признаков на обратимую матрицу качество линейной регрессии должно остаться прежним. Это связано со свойством умножения матрицы на обратную и умноженим матриц на единичную.\n",
        "\n",
        "**Обоснование:**\n",
        "$$\n",
        "a = Xw\n",
        "$$\n",
        "\n",
        "$$\n",
        "a' = XPw'\n",
        "$$\n",
        "\n",
        "$$\n",
        "w = (X^T X)^{-1} X^T y\n",
        "$$\n",
        "\n",
        "$$\n",
        "w' = (X^TX)^{-1}X^T(P^TP)^{-1}P^T y = (X^TX)^{-1}X^T((P^T)^{-1}P^T)P^{-1}y = (X^TX)^{-1}X^TEP^{-1}y = (X^TX)^{-1}X^TP^{-1}y =\n",
        "$$\n",
        "\n",
        "$$\n",
        "= wP^{-1}y\n",
        "$$\n",
        "\n",
        "$$\n",
        "a' = XPw' = XPwP^{-1} = Xw(PP^{-1}) = XwE = Xw\n",
        "$$"
      ]
    },
    {
      "cell_type": "markdown",
      "metadata": {
        "id": "0OIRVVW8WHaq"
      },
      "source": [
        "$$\n",
        "a = Xw = XEw = XPP^{-1}w = (XP)P^{-1}w = (XP)w'\n",
        "$$\n",
        "\n",
        "$$\n",
        "w' = ((XP)^T XP)^{-1} (XP)^T y\n",
        "$$\n",
        "$$\n",
        "w' = (P^T (X^T X) P)^{-1} (XP)^T y\n",
        "$$\n",
        "$$\n",
        ".....\n",
        "$$"
      ]
    },
    {
      "cell_type": "markdown",
      "metadata": {
        "id": "vONiO2CDWHaq"
      },
      "source": [
        "$$\n",
        "a = Xw = XEw = XPP^{-1}w = (XP)P^{-1}w = (XP)w'\n",
        "$$\n",
        "\n",
        "$$\n",
        "w' = ((XP)^T XP)^{-1} (XP)^T y\n",
        "$$\n",
        "$$\n",
        "w' = (P^T (X^T X) P)^{-1} (XP)^T y\n",
        "$$\n",
        "$$\n",
        "w' = (P^T P)^{-1}(X^TX)^{-1}X^T P^T y =\n",
        "$$\n",
        "\n",
        "$$\n",
        "w'= (X^TX)^{-1}X^Ty(P^T)^{-1}P^TP^{-1}=\n",
        "$$\n",
        "\n",
        "$$\n",
        "w'= (X^T X)^{-1}X^TyEP^{-1}=(X^TX)^{-1}X^TyP^{-1}=\n",
        "$$\n",
        "\n",
        "$$\n",
        "w'= w P^{-1}\n",
        "$$\n",
        "\n",
        "$$\n",
        "a = Xw\n",
        "$$\n",
        "\n",
        "$$\n",
        "a' = XPw' = XPwP^{-1} = XwPP^{-1} = XwE= Xw = a\n",
        "$$\n",
        "\n",
        "$$\n",
        "a' = a\n",
        "$$\n",
        "\n",
        "Таким образом, отсюда следует, что качество модели должно остаться прежним при умножении признаков на случайню обратимую матрицу."
      ]
    },
    {
      "cell_type": "markdown",
      "metadata": {
        "id": "ZC3OeJDvWHar"
      },
      "source": [
        "## Алгоритм преобразования"
      ]
    },
    {
      "cell_type": "markdown",
      "metadata": {
        "id": "Mky0CtQwWHar"
      },
      "source": [
        "**Алгоритм**\n",
        "\n",
        "1. Сгенерируем случайную матрицу размерностью 4х4 (так как матрица признаков, состоящая из данных тренировочной выборки, имеет размерность 3750х4, то подойдет матрица размерностью 4х4)\n",
        "2. Проверим сгенерированную матрицу на обратимость\n",
        "3. Выполним умножение матрицы признаков из данных тренировочной выборки на сгенерированную матрицу\n",
        "4. Выполним умножение матрицы признаков из данных тестовой выборки на сгенерированную матрицу\n",
        "5. Обучим созданную ранее модель линейной регрессии на новых данных (полученная новая матрица)\n",
        "6. Используя обученную модель, предскажем значения\n",
        "7. Оценим качество полученной модели\n",
        "8. Сравним качество полученной модели с исходной моделью\n"
      ]
    },
    {
      "cell_type": "markdown",
      "metadata": {
        "id": "ZvWfRMCqWHas"
      },
      "source": [
        "**Обоснование**\n",
        "\n",
        "Таким образом, для обратимого преобразования данных можно использовать случайную обратимую матрицу. Умножив матрицу признаков на случайную обратимую матрицу заданного размера, качество модели не изменится.\n",
        "\n",
        "$$\n",
        "XP = (XP)P^{-1} = X(PP^{-1}) = XE = X\n",
        "$$\n",
        "\n",
        "Восстановить данные можно также путем умножения преобразованной матрицы на обратную. Обратная матрица вычисляется как произведение 1 деленой на определитель матрицы и транспонированной матрицы дополнений исходной матрицы.\n"
      ]
    },
    {
      "cell_type": "markdown",
      "metadata": {
        "id": "Qlwtg-vtWHas"
      },
      "source": [
        "## Проверка алгоритма"
      ]
    },
    {
      "cell_type": "code",
      "execution_count": null,
      "metadata": {
        "id": "nxJhU45oWHas",
        "outputId": "43e94ed4-f5a9-42d7-a4b2-38c412894cf3"
      },
      "outputs": [
        {
          "data": {
            "text/plain": [
              "array([[9.22964851, 5.76480339, 5.58960362, 7.5359585 ],\n",
              "       [6.69928252, 7.79250745, 6.42213417, 7.13708042],\n",
              "       [8.13665658, 7.44197307, 7.12693257, 8.72467548],\n",
              "       [6.94657454, 7.56560839, 7.49648208, 7.92804459]])"
            ]
          },
          "execution_count": 15,
          "metadata": {},
          "output_type": "execute_result"
        }
      ],
      "source": [
        "#Сгенерируем случайную матрицу размерностью 4х4\n",
        "P = np.random.normal(7, size=(4,4))\n",
        "P\n"
      ]
    },
    {
      "cell_type": "markdown",
      "metadata": {
        "id": "pHcz_PRMWHas"
      },
      "source": [
        "Проверим, является ли матрица обратимой."
      ]
    },
    {
      "cell_type": "code",
      "execution_count": null,
      "metadata": {
        "id": "pWESdiDCWHas",
        "outputId": "7d511d12-bba3-4c92-8358-788553764e5f"
      },
      "outputs": [
        {
          "data": {
            "text/plain": [
              "array([[ 0.49836819,  0.08748633, -0.70725767,  0.22584568],\n",
              "       [-0.1217855 ,  0.78594021, -0.06188294, -0.523665  ],\n",
              "       [ 0.31427486, -0.58032834, -1.15185986,  1.49129979],\n",
              "       [-0.61762093, -0.27792795,  1.76791349, -0.98214781]])"
            ]
          },
          "execution_count": 16,
          "metadata": {},
          "output_type": "execute_result"
        }
      ],
      "source": [
        "np.linalg.inv(P)"
      ]
    },
    {
      "cell_type": "code",
      "execution_count": null,
      "metadata": {
        "id": "9l-ndyZqWHat"
      },
      "outputs": [],
      "source": [
        "X = np.array(train_features)\n",
        "y = np.array(train_targets)"
      ]
    },
    {
      "cell_type": "code",
      "execution_count": null,
      "metadata": {
        "id": "3fnXNB6gWHat",
        "outputId": "1a692b8a-eea8-413c-b003-2800f6156f4b"
      },
      "outputs": [
        {
          "data": {
            "text/plain": [
              "array([[294851.21373518, 269747.83332093, 258284.19706735,\n",
              "        316155.61088062],\n",
              "       [468908.42452928, 428928.35881687, 410735.25848106,\n",
              "        502791.50440994],\n",
              "       [334637.90924373, 306122.01897251, 293129.93360495,\n",
              "        358820.47689538],\n",
              "       ...,\n",
              "       [363999.39613958, 332989.01939045, 318850.27968585,\n",
              "        390301.07830998],\n",
              "       [407821.66540393, 373044.54834201, 357230.59488374,\n",
              "        437294.96955574],\n",
              "       [332102.87502109, 303780.55884669, 290900.86960614,\n",
              "        356102.36416096]])"
            ]
          },
          "execution_count": 18,
          "metadata": {},
          "output_type": "execute_result"
        }
      ],
      "source": [
        "XP = X @ P\n",
        "XP"
      ]
    },
    {
      "cell_type": "code",
      "execution_count": null,
      "metadata": {
        "id": "vmKsToprWHat",
        "outputId": "aa930b26-a01f-442e-e97d-d4add81e1674"
      },
      "outputs": [
        {
          "data": {
            "text/plain": [
              "array([1, 0, 0, ..., 0, 0, 0])"
            ]
          },
          "execution_count": 19,
          "metadata": {},
          "output_type": "execute_result"
        }
      ],
      "source": [
        "y"
      ]
    },
    {
      "cell_type": "code",
      "execution_count": null,
      "metadata": {
        "id": "_cJ806s9WHat"
      },
      "outputs": [],
      "source": [
        "yP = y"
      ]
    },
    {
      "cell_type": "code",
      "execution_count": null,
      "metadata": {
        "id": "0nl8jzPJWHat",
        "outputId": "9c2029e1-53a1-490b-ca5c-0d99fcd6c9c6"
      },
      "outputs": [
        {
          "data": {
            "text/plain": [
              "array([1, 0, 0, ..., 0, 0, 0])"
            ]
          },
          "execution_count": 21,
          "metadata": {},
          "output_type": "execute_result"
        }
      ],
      "source": [
        "yP"
      ]
    },
    {
      "cell_type": "markdown",
      "metadata": {
        "id": "QUwZDVmEWHat"
      },
      "source": [
        "Создадим датафрейм с преобразованными данными."
      ]
    },
    {
      "cell_type": "code",
      "execution_count": null,
      "metadata": {
        "id": "dosYsDQaWHau"
      },
      "outputs": [],
      "source": [
        "XP_df = pd.DataFrame(XP, columns = train_features.columns)"
      ]
    },
    {
      "cell_type": "code",
      "execution_count": null,
      "metadata": {
        "id": "-WWJJAteWHau",
        "outputId": "8fc86f19-b621-4838-a9d1-ff77cd064ae7"
      },
      "outputs": [
        {
          "data": {
            "text/html": [
              "<div>\n",
              "<style scoped>\n",
              "    .dataframe tbody tr th:only-of-type {\n",
              "        vertical-align: middle;\n",
              "    }\n",
              "\n",
              "    .dataframe tbody tr th {\n",
              "        vertical-align: top;\n",
              "    }\n",
              "\n",
              "    .dataframe thead th {\n",
              "        text-align: right;\n",
              "    }\n",
              "</style>\n",
              "<table border=\"1\" class=\"dataframe\">\n",
              "  <thead>\n",
              "    <tr style=\"text-align: right;\">\n",
              "      <th></th>\n",
              "      <th>Пол</th>\n",
              "      <th>Возраст</th>\n",
              "      <th>Зарплата</th>\n",
              "      <th>Члены семьи</th>\n",
              "    </tr>\n",
              "  </thead>\n",
              "  <tbody>\n",
              "    <tr>\n",
              "      <th>0</th>\n",
              "      <td>294851.213735</td>\n",
              "      <td>269747.833321</td>\n",
              "      <td>258284.197067</td>\n",
              "      <td>316155.610881</td>\n",
              "    </tr>\n",
              "    <tr>\n",
              "      <th>1</th>\n",
              "      <td>468908.424529</td>\n",
              "      <td>428928.358817</td>\n",
              "      <td>410735.258481</td>\n",
              "      <td>502791.504410</td>\n",
              "    </tr>\n",
              "    <tr>\n",
              "      <th>2</th>\n",
              "      <td>334637.909244</td>\n",
              "      <td>306122.018973</td>\n",
              "      <td>293129.933605</td>\n",
              "      <td>358820.476895</td>\n",
              "    </tr>\n",
              "    <tr>\n",
              "      <th>3</th>\n",
              "      <td>367211.332712</td>\n",
              "      <td>335921.081277</td>\n",
              "      <td>321663.352441</td>\n",
              "      <td>393747.727142</td>\n",
              "    </tr>\n",
              "    <tr>\n",
              "      <th>4</th>\n",
              "      <td>411949.792655</td>\n",
              "      <td>376836.121242</td>\n",
              "      <td>360849.711683</td>\n",
              "      <td>441719.959092</td>\n",
              "    </tr>\n",
              "    <tr>\n",
              "      <th>...</th>\n",
              "      <td>...</td>\n",
              "      <td>...</td>\n",
              "      <td>...</td>\n",
              "      <td>...</td>\n",
              "    </tr>\n",
              "    <tr>\n",
              "      <th>3745</th>\n",
              "      <td>261468.046233</td>\n",
              "      <td>239214.620820</td>\n",
              "      <td>229044.265290</td>\n",
              "      <td>280361.840324</td>\n",
              "    </tr>\n",
              "    <tr>\n",
              "      <th>3746</th>\n",
              "      <td>184917.470680</td>\n",
              "      <td>169181.241303</td>\n",
              "      <td>161991.175136</td>\n",
              "      <td>198281.683853</td>\n",
              "    </tr>\n",
              "    <tr>\n",
              "      <th>3747</th>\n",
              "      <td>363999.396140</td>\n",
              "      <td>332989.019390</td>\n",
              "      <td>318850.279686</td>\n",
              "      <td>390301.078310</td>\n",
              "    </tr>\n",
              "    <tr>\n",
              "      <th>3748</th>\n",
              "      <td>407821.665404</td>\n",
              "      <td>373044.548342</td>\n",
              "      <td>357230.594884</td>\n",
              "      <td>437294.969556</td>\n",
              "    </tr>\n",
              "    <tr>\n",
              "      <th>3749</th>\n",
              "      <td>332102.875021</td>\n",
              "      <td>303780.558847</td>\n",
              "      <td>290900.869606</td>\n",
              "      <td>356102.364161</td>\n",
              "    </tr>\n",
              "  </tbody>\n",
              "</table>\n",
              "<p>3750 rows × 4 columns</p>\n",
              "</div>"
            ],
            "text/plain": [
              "                Пол        Возраст       Зарплата    Члены семьи\n",
              "0     294851.213735  269747.833321  258284.197067  316155.610881\n",
              "1     468908.424529  428928.358817  410735.258481  502791.504410\n",
              "2     334637.909244  306122.018973  293129.933605  358820.476895\n",
              "3     367211.332712  335921.081277  321663.352441  393747.727142\n",
              "4     411949.792655  376836.121242  360849.711683  441719.959092\n",
              "...             ...            ...            ...            ...\n",
              "3745  261468.046233  239214.620820  229044.265290  280361.840324\n",
              "3746  184917.470680  169181.241303  161991.175136  198281.683853\n",
              "3747  363999.396140  332989.019390  318850.279686  390301.078310\n",
              "3748  407821.665404  373044.548342  357230.594884  437294.969556\n",
              "3749  332102.875021  303780.558847  290900.869606  356102.364161\n",
              "\n",
              "[3750 rows x 4 columns]"
            ]
          },
          "execution_count": 23,
          "metadata": {},
          "output_type": "execute_result"
        }
      ],
      "source": [
        "XP_df"
      ]
    },
    {
      "cell_type": "code",
      "execution_count": null,
      "metadata": {
        "id": "yhIV0zNLWHau"
      },
      "outputs": [],
      "source": [
        "y_df = pd.DataFrame(yP)"
      ]
    },
    {
      "cell_type": "code",
      "execution_count": null,
      "metadata": {
        "id": "KtZNkE8NWHau",
        "outputId": "3ab40a1b-e761-435d-a6f8-87592a506c57"
      },
      "outputs": [
        {
          "data": {
            "text/html": [
              "<div>\n",
              "<style scoped>\n",
              "    .dataframe tbody tr th:only-of-type {\n",
              "        vertical-align: middle;\n",
              "    }\n",
              "\n",
              "    .dataframe tbody tr th {\n",
              "        vertical-align: top;\n",
              "    }\n",
              "\n",
              "    .dataframe thead th {\n",
              "        text-align: right;\n",
              "    }\n",
              "</style>\n",
              "<table border=\"1\" class=\"dataframe\">\n",
              "  <thead>\n",
              "    <tr style=\"text-align: right;\">\n",
              "      <th></th>\n",
              "      <th>0</th>\n",
              "    </tr>\n",
              "  </thead>\n",
              "  <tbody>\n",
              "    <tr>\n",
              "      <th>0</th>\n",
              "      <td>1</td>\n",
              "    </tr>\n",
              "    <tr>\n",
              "      <th>1</th>\n",
              "      <td>0</td>\n",
              "    </tr>\n",
              "    <tr>\n",
              "      <th>2</th>\n",
              "      <td>0</td>\n",
              "    </tr>\n",
              "    <tr>\n",
              "      <th>3</th>\n",
              "      <td>0</td>\n",
              "    </tr>\n",
              "    <tr>\n",
              "      <th>4</th>\n",
              "      <td>0</td>\n",
              "    </tr>\n",
              "    <tr>\n",
              "      <th>...</th>\n",
              "      <td>...</td>\n",
              "    </tr>\n",
              "    <tr>\n",
              "      <th>3745</th>\n",
              "      <td>1</td>\n",
              "    </tr>\n",
              "    <tr>\n",
              "      <th>3746</th>\n",
              "      <td>0</td>\n",
              "    </tr>\n",
              "    <tr>\n",
              "      <th>3747</th>\n",
              "      <td>0</td>\n",
              "    </tr>\n",
              "    <tr>\n",
              "      <th>3748</th>\n",
              "      <td>0</td>\n",
              "    </tr>\n",
              "    <tr>\n",
              "      <th>3749</th>\n",
              "      <td>0</td>\n",
              "    </tr>\n",
              "  </tbody>\n",
              "</table>\n",
              "<p>3750 rows × 1 columns</p>\n",
              "</div>"
            ],
            "text/plain": [
              "      0\n",
              "0     1\n",
              "1     0\n",
              "2     0\n",
              "3     0\n",
              "4     0\n",
              "...  ..\n",
              "3745  1\n",
              "3746  0\n",
              "3747  0\n",
              "3748  0\n",
              "3749  0\n",
              "\n",
              "[3750 rows x 1 columns]"
            ]
          },
          "execution_count": 25,
          "metadata": {},
          "output_type": "execute_result"
        }
      ],
      "source": [
        "y_df"
      ]
    },
    {
      "cell_type": "code",
      "execution_count": null,
      "metadata": {
        "id": "C3cKcq4XWHau"
      },
      "outputs": [],
      "source": [
        "XP_test = np.array(test_features) @ P\n",
        "YP_test = np.array(test_targets)"
      ]
    },
    {
      "cell_type": "code",
      "execution_count": null,
      "metadata": {
        "id": "HVafjNZxWHau"
      },
      "outputs": [],
      "source": [
        "XP_test_df = pd.DataFrame(XP_test , columns = test_features.columns)\n",
        "YP_test_df = pd.DataFrame(YP_test)"
      ]
    },
    {
      "cell_type": "code",
      "execution_count": null,
      "metadata": {
        "id": "-Jj9Tmt3WHau",
        "outputId": "0e692a93-b1db-402d-c31e-66127683212d"
      },
      "outputs": [
        {
          "data": {
            "text/plain": [
              "(                Пол        Возраст       Зарплата    Члены семьи\n",
              " 0     317578.469422  290524.364861  278192.286778  340529.579599\n",
              " 1     351038.756073  321153.795852  307506.893652  376406.223350\n",
              " 2     342823.743880  313616.738788  300299.914241  367594.719853\n",
              " 3     283289.634796  259136.512942  248145.696291  303761.448354\n",
              " 4     325768.720267  298028.677989  285370.596426  349311.351724\n",
              " ...             ...            ...            ...            ...\n",
              " 1245  236327.827160  216235.532894  207029.156083  253402.972104\n",
              " 1246  471363.561946  431175.855055  412889.405566  505425.554108\n",
              " 1247  344424.278067  315073.963372  301699.612219  369311.106628\n",
              " 1248  336294.320765  307639.782811  294579.101778  360593.568227\n",
              " 1249  253385.231200  231834.760912  221969.784137  271695.052451\n",
              " \n",
              " [1250 rows x 4 columns],\n",
              "       0\n",
              " 0     0\n",
              " 1     2\n",
              " 2     0\n",
              " 3     0\n",
              " 4     0\n",
              " ...  ..\n",
              " 1245  2\n",
              " 1246  0\n",
              " 1247  0\n",
              " 1248  0\n",
              " 1249  2\n",
              " \n",
              " [1250 rows x 1 columns])"
            ]
          },
          "execution_count": 28,
          "metadata": {},
          "output_type": "execute_result"
        }
      ],
      "source": [
        "XP_test_df, YP_test_df"
      ]
    },
    {
      "cell_type": "markdown",
      "metadata": {
        "id": "-_dPRDvyWHav"
      },
      "source": [
        "Обучим модель на новых данных, сделаем предсказание, оценим качество модели."
      ]
    },
    {
      "cell_type": "code",
      "execution_count": null,
      "metadata": {
        "id": "oeuQrPHZWHav",
        "outputId": "08c89512-51fa-4d98-be92-0e723910c31c"
      },
      "outputs": [
        {
          "name": "stdout",
          "output_type": "stream",
          "text": [
            "R2 = 0.4352275712702667\n",
            "MSE = 0.11660517472525564\n"
          ]
        }
      ],
      "source": [
        "model2 = LinearRegression()\n",
        "model2.fit(XP, yP)\n",
        "prediction2 = model.predict(XP_test_df)\n",
        "print(\"R2 =\",r2_score(YP_test_df, prediction))\n",
        "print(\"MSE =\", mean_squared_error(YP_test_df, prediction))"
      ]
    },
    {
      "cell_type": "markdown",
      "metadata": {
        "id": "HTWhpbAQWHav"
      },
      "source": [
        "Видим, метрики R2 и MSE точно такие же, что и в у ранее созданной модели."
      ]
    },
    {
      "cell_type": "markdown",
      "metadata": {
        "id": "OApvT0K2WHav"
      },
      "source": [
        "**Выводы:**\n",
        "\n",
        "- Разработан метод преобразования данных, позволяющий защитить данные клиентов страховой компании \"Хоть потоп\".\n",
        "\n",
        "\n",
        "- Алгоритм преобразования основан на свойствах умножения матриц на обратную и единичную матрицы. Результатом умножения матрицы на обратную ей, получается единичная матрица, а результатом умножения матрицы на единичную, получается сама матрица.\n",
        "\n",
        "\n",
        "- Таким образом, матрица признаков, умноженная на матрицу, состоящую из случайных значений, представлена матрицей с защищенными персональными данными.\n",
        "\n",
        "- Создана модель линейной регрессии. Модель обучена на тренировочной выборке и предсказаны данные на тестовой выборке. Рассчитаны метрики  R2 = 0.4352275712702667, MSE = 0.11660517472525564.\n",
        "\n",
        "\n",
        "- Модель линейной регрессии обучена на новых преобразованных данных. Выполнено предсказание. Рассчитаны метрики R2 = 0.4352275712702667, MSE = 0.11660517472525564.\n",
        "\n",
        "\n",
        "- Качество модели не ухудшилось."
      ]
    }
  ],
  "metadata": {
    "ExecuteTimeLog": [
      {
        "duration": 387,
        "start_time": "2023-05-28T06:55:33.477Z"
      },
      {
        "duration": 71,
        "start_time": "2023-05-28T06:55:37.613Z"
      },
      {
        "duration": 99,
        "start_time": "2023-05-28T06:55:49.453Z"
      },
      {
        "duration": 16,
        "start_time": "2023-05-28T06:56:00.394Z"
      },
      {
        "duration": 12,
        "start_time": "2023-05-28T06:56:12.853Z"
      },
      {
        "duration": 12,
        "start_time": "2023-05-28T06:58:54.216Z"
      },
      {
        "duration": 8,
        "start_time": "2023-05-28T06:59:33.022Z"
      },
      {
        "duration": 23,
        "start_time": "2023-05-28T06:59:48.704Z"
      },
      {
        "duration": 4,
        "start_time": "2023-05-28T07:00:00.677Z"
      },
      {
        "duration": 8,
        "start_time": "2023-05-28T07:02:38.766Z"
      },
      {
        "duration": 4,
        "start_time": "2023-05-28T07:03:31.225Z"
      },
      {
        "duration": 4,
        "start_time": "2023-05-28T07:03:32.337Z"
      },
      {
        "duration": 10,
        "start_time": "2023-05-28T07:03:49.524Z"
      },
      {
        "duration": 5,
        "start_time": "2023-05-28T07:04:13.409Z"
      },
      {
        "duration": 6,
        "start_time": "2023-05-28T07:08:32.040Z"
      },
      {
        "duration": 9,
        "start_time": "2023-05-28T07:09:00.376Z"
      },
      {
        "duration": 12,
        "start_time": "2023-05-28T07:14:47.798Z"
      },
      {
        "duration": 930,
        "start_time": "2023-05-28T07:15:15.378Z"
      },
      {
        "duration": 3,
        "start_time": "2023-05-28T07:16:38.321Z"
      },
      {
        "duration": 45,
        "start_time": "2023-05-28T07:16:38.973Z"
      },
      {
        "duration": 15,
        "start_time": "2023-05-28T07:16:39.076Z"
      },
      {
        "duration": 12,
        "start_time": "2023-05-28T07:16:39.359Z"
      },
      {
        "duration": 30,
        "start_time": "2023-05-28T07:16:40.841Z"
      },
      {
        "duration": 8,
        "start_time": "2023-05-28T07:16:41.725Z"
      },
      {
        "duration": 4,
        "start_time": "2023-05-28T07:16:43.056Z"
      },
      {
        "duration": 4,
        "start_time": "2023-05-28T07:16:44.344Z"
      },
      {
        "duration": 6,
        "start_time": "2023-05-28T07:18:21.825Z"
      },
      {
        "duration": 4,
        "start_time": "2023-05-28T07:19:13.250Z"
      },
      {
        "duration": 10,
        "start_time": "2023-05-28T07:26:50.604Z"
      },
      {
        "duration": 4,
        "start_time": "2023-05-28T07:27:09.437Z"
      },
      {
        "duration": 61,
        "start_time": "2023-05-28T07:29:03.056Z"
      },
      {
        "duration": 9,
        "start_time": "2023-05-28T07:29:32.848Z"
      },
      {
        "duration": 5,
        "start_time": "2023-05-28T07:29:39.940Z"
      },
      {
        "duration": 8,
        "start_time": "2023-05-28T07:29:40.692Z"
      },
      {
        "duration": 4,
        "start_time": "2023-05-28T07:29:42.942Z"
      },
      {
        "duration": 146,
        "start_time": "2023-05-28T07:29:43.786Z"
      },
      {
        "duration": 8,
        "start_time": "2023-05-28T07:30:58.502Z"
      },
      {
        "duration": 5,
        "start_time": "2023-05-28T07:31:03.428Z"
      },
      {
        "duration": 159,
        "start_time": "2023-05-28T07:31:04.501Z"
      },
      {
        "duration": 5,
        "start_time": "2023-05-28T07:34:34.509Z"
      },
      {
        "duration": 7,
        "start_time": "2023-05-28T07:34:35.743Z"
      },
      {
        "duration": 4,
        "start_time": "2023-05-28T07:34:58.558Z"
      },
      {
        "duration": 16,
        "start_time": "2023-05-28T07:34:59.432Z"
      },
      {
        "duration": 4,
        "start_time": "2023-05-28T07:36:13.138Z"
      },
      {
        "duration": 27,
        "start_time": "2023-05-28T07:36:20.808Z"
      },
      {
        "duration": 3,
        "start_time": "2023-05-28T07:41:33.623Z"
      },
      {
        "duration": 28,
        "start_time": "2023-05-28T07:41:33.941Z"
      },
      {
        "duration": 17,
        "start_time": "2023-05-28T07:41:34.404Z"
      },
      {
        "duration": 14,
        "start_time": "2023-05-28T07:41:34.864Z"
      },
      {
        "duration": 23,
        "start_time": "2023-05-28T07:41:35.223Z"
      },
      {
        "duration": 4,
        "start_time": "2023-05-28T07:41:35.663Z"
      },
      {
        "duration": 9,
        "start_time": "2023-05-28T07:41:36.098Z"
      },
      {
        "duration": 4,
        "start_time": "2023-05-28T07:41:36.423Z"
      },
      {
        "duration": 9,
        "start_time": "2023-05-28T07:41:36.684Z"
      },
      {
        "duration": 5,
        "start_time": "2023-05-28T07:41:36.906Z"
      },
      {
        "duration": 4,
        "start_time": "2023-05-28T07:41:40.622Z"
      },
      {
        "duration": 7,
        "start_time": "2023-05-28T07:41:41.167Z"
      },
      {
        "duration": 6,
        "start_time": "2023-05-28T07:54:27.358Z"
      },
      {
        "duration": 4,
        "start_time": "2023-05-28T08:28:18.827Z"
      },
      {
        "duration": 12,
        "start_time": "2023-05-28T08:28:39.212Z"
      },
      {
        "duration": 5,
        "start_time": "2023-05-28T08:30:15.828Z"
      },
      {
        "duration": 9,
        "start_time": "2023-05-28T08:31:09.726Z"
      },
      {
        "duration": 6,
        "start_time": "2023-05-28T08:31:17.557Z"
      },
      {
        "duration": 5,
        "start_time": "2023-05-28T08:31:23.330Z"
      },
      {
        "duration": 15,
        "start_time": "2023-05-28T08:31:51.798Z"
      },
      {
        "duration": 6,
        "start_time": "2023-05-28T08:32:23.755Z"
      },
      {
        "duration": 7,
        "start_time": "2023-05-28T08:33:14.026Z"
      },
      {
        "duration": 4,
        "start_time": "2023-05-28T08:34:20.728Z"
      },
      {
        "duration": 5,
        "start_time": "2023-05-28T08:34:34.041Z"
      },
      {
        "duration": 10,
        "start_time": "2023-05-28T08:34:43.808Z"
      },
      {
        "duration": 99,
        "start_time": "2023-05-28T08:34:49.202Z"
      },
      {
        "duration": 22,
        "start_time": "2023-05-28T08:34:56.208Z"
      },
      {
        "duration": 451,
        "start_time": "2023-05-28T08:35:37.820Z"
      },
      {
        "duration": 15,
        "start_time": "2023-05-28T08:36:39.902Z"
      },
      {
        "duration": 14,
        "start_time": "2023-05-28T08:36:48.420Z"
      },
      {
        "duration": 167,
        "start_time": "2023-05-28T08:37:29.575Z"
      },
      {
        "duration": 9,
        "start_time": "2023-05-28T08:38:41.342Z"
      },
      {
        "duration": 5,
        "start_time": "2023-05-28T08:39:18.427Z"
      },
      {
        "duration": 17,
        "start_time": "2023-05-28T08:39:30.098Z"
      },
      {
        "duration": 4,
        "start_time": "2023-05-28T08:39:39.126Z"
      },
      {
        "duration": 6,
        "start_time": "2023-05-28T08:39:39.910Z"
      },
      {
        "duration": 8,
        "start_time": "2023-05-28T08:39:55.352Z"
      },
      {
        "duration": 6,
        "start_time": "2023-05-28T08:40:01.601Z"
      },
      {
        "duration": 16,
        "start_time": "2023-05-28T08:40:03.125Z"
      },
      {
        "duration": 4,
        "start_time": "2023-05-28T08:40:03.739Z"
      },
      {
        "duration": 173,
        "start_time": "2023-05-28T08:44:59.423Z"
      },
      {
        "duration": 109,
        "start_time": "2023-05-28T08:45:16.027Z"
      },
      {
        "duration": 11,
        "start_time": "2023-05-28T08:52:27.891Z"
      },
      {
        "duration": 11,
        "start_time": "2023-05-28T08:53:10.105Z"
      },
      {
        "duration": 6,
        "start_time": "2023-05-28T08:53:16.731Z"
      },
      {
        "duration": 3,
        "start_time": "2023-05-28T08:53:21.928Z"
      },
      {
        "duration": 10,
        "start_time": "2023-05-28T08:53:24.505Z"
      },
      {
        "duration": 106,
        "start_time": "2023-05-28T08:53:28.871Z"
      },
      {
        "duration": 142,
        "start_time": "2023-05-28T08:53:36.706Z"
      },
      {
        "duration": 13,
        "start_time": "2023-05-28T08:54:02.511Z"
      },
      {
        "duration": 118,
        "start_time": "2023-05-28T08:54:03.218Z"
      },
      {
        "duration": 7,
        "start_time": "2023-05-28T08:54:17.587Z"
      },
      {
        "duration": 140,
        "start_time": "2023-05-28T08:54:18.816Z"
      },
      {
        "duration": 4,
        "start_time": "2023-05-28T08:54:23.757Z"
      },
      {
        "duration": 6,
        "start_time": "2023-05-28T08:54:25.843Z"
      },
      {
        "duration": 7,
        "start_time": "2023-05-28T08:54:39.699Z"
      },
      {
        "duration": 11,
        "start_time": "2023-05-28T08:54:40.697Z"
      },
      {
        "duration": 18,
        "start_time": "2023-05-28T08:55:01.404Z"
      },
      {
        "duration": 6,
        "start_time": "2023-05-28T08:55:02.045Z"
      },
      {
        "duration": 3,
        "start_time": "2023-05-28T08:55:03.847Z"
      },
      {
        "duration": 9,
        "start_time": "2023-05-28T08:55:04.926Z"
      },
      {
        "duration": 10,
        "start_time": "2023-05-28T08:57:03.542Z"
      },
      {
        "duration": 21,
        "start_time": "2023-05-28T08:57:44.746Z"
      },
      {
        "duration": 983,
        "start_time": "2023-05-30T05:45:58.079Z"
      },
      {
        "duration": 127,
        "start_time": "2023-05-30T05:45:59.857Z"
      },
      {
        "duration": 14,
        "start_time": "2023-05-30T05:46:00.417Z"
      },
      {
        "duration": 11,
        "start_time": "2023-05-30T05:46:00.999Z"
      },
      {
        "duration": 23,
        "start_time": "2023-05-30T05:46:02.183Z"
      },
      {
        "duration": 4,
        "start_time": "2023-05-30T06:10:37.178Z"
      },
      {
        "duration": 3,
        "start_time": "2023-05-30T06:10:38.905Z"
      },
      {
        "duration": 4,
        "start_time": "2023-05-30T06:10:40.873Z"
      },
      {
        "duration": 4,
        "start_time": "2023-05-30T06:10:41.491Z"
      },
      {
        "duration": 94,
        "start_time": "2023-05-30T06:10:42.476Z"
      },
      {
        "duration": 4,
        "start_time": "2023-05-30T06:10:57.040Z"
      },
      {
        "duration": 4,
        "start_time": "2023-05-30T06:11:01.936Z"
      },
      {
        "duration": 4,
        "start_time": "2023-05-30T06:11:06.390Z"
      },
      {
        "duration": 32,
        "start_time": "2023-05-30T06:11:07.999Z"
      },
      {
        "duration": 6,
        "start_time": "2023-05-30T06:11:39.800Z"
      },
      {
        "duration": 6,
        "start_time": "2023-05-30T06:11:41.730Z"
      },
      {
        "duration": 4,
        "start_time": "2023-05-30T06:11:42.230Z"
      },
      {
        "duration": 5,
        "start_time": "2023-05-30T06:11:43.038Z"
      },
      {
        "duration": 18,
        "start_time": "2023-05-30T06:11:43.841Z"
      },
      {
        "duration": 2,
        "start_time": "2023-05-30T06:13:09.100Z"
      },
      {
        "duration": 3,
        "start_time": "2023-05-30T06:15:13.820Z"
      },
      {
        "duration": 7,
        "start_time": "2023-05-30T06:16:10.541Z"
      },
      {
        "duration": 3,
        "start_time": "2023-05-30T06:17:01.499Z"
      },
      {
        "duration": 3,
        "start_time": "2023-05-30T06:17:48.590Z"
      },
      {
        "duration": 4,
        "start_time": "2023-05-30T06:17:49.040Z"
      },
      {
        "duration": 6,
        "start_time": "2023-05-30T06:17:49.820Z"
      },
      {
        "duration": 8,
        "start_time": "2023-05-30T06:17:50.490Z"
      },
      {
        "duration": 5,
        "start_time": "2023-05-30T06:18:01.621Z"
      },
      {
        "duration": 2,
        "start_time": "2023-05-30T06:20:21.890Z"
      },
      {
        "duration": 6,
        "start_time": "2023-05-30T06:20:23.551Z"
      },
      {
        "duration": 8,
        "start_time": "2023-05-30T06:20:24.189Z"
      },
      {
        "duration": 9,
        "start_time": "2023-05-30T06:33:16.310Z"
      },
      {
        "duration": 4,
        "start_time": "2023-05-30T06:33:34.820Z"
      },
      {
        "duration": 3,
        "start_time": "2023-05-30T06:43:08.689Z"
      },
      {
        "duration": 10,
        "start_time": "2023-05-30T06:43:10.062Z"
      },
      {
        "duration": 107,
        "start_time": "2023-05-30T06:43:41.080Z"
      },
      {
        "duration": 2,
        "start_time": "2023-05-30T06:45:26.480Z"
      },
      {
        "duration": 128,
        "start_time": "2023-05-30T06:45:27.534Z"
      },
      {
        "duration": 14,
        "start_time": "2023-05-30T06:45:52.531Z"
      },
      {
        "duration": 11,
        "start_time": "2023-05-30T06:46:01.651Z"
      },
      {
        "duration": 4,
        "start_time": "2023-05-30T06:46:09.843Z"
      },
      {
        "duration": 4,
        "start_time": "2023-05-30T06:46:18.069Z"
      },
      {
        "duration": 3,
        "start_time": "2023-05-30T06:47:47.969Z"
      },
      {
        "duration": 3,
        "start_time": "2023-05-30T06:47:48.410Z"
      },
      {
        "duration": 5,
        "start_time": "2023-05-30T06:47:49.050Z"
      },
      {
        "duration": 12,
        "start_time": "2023-05-30T06:49:53.972Z"
      },
      {
        "duration": 3,
        "start_time": "2023-05-30T06:50:17.540Z"
      },
      {
        "duration": 17,
        "start_time": "2023-05-30T06:50:27.131Z"
      },
      {
        "duration": 11,
        "start_time": "2023-05-30T06:52:12.561Z"
      },
      {
        "duration": 8,
        "start_time": "2023-05-30T06:54:51.700Z"
      },
      {
        "duration": 3,
        "start_time": "2023-05-30T06:55:36.050Z"
      },
      {
        "duration": 7,
        "start_time": "2023-05-30T06:55:37.167Z"
      },
      {
        "duration": 7,
        "start_time": "2023-05-30T06:57:08.600Z"
      },
      {
        "duration": 3,
        "start_time": "2023-05-30T06:57:39.010Z"
      },
      {
        "duration": 8,
        "start_time": "2023-05-30T06:57:40.058Z"
      },
      {
        "duration": 14,
        "start_time": "2023-05-30T07:13:09.716Z"
      },
      {
        "duration": 3,
        "start_time": "2023-05-30T07:13:30.809Z"
      },
      {
        "duration": 3,
        "start_time": "2023-05-30T07:16:06.140Z"
      },
      {
        "duration": 3,
        "start_time": "2023-05-30T07:16:06.740Z"
      },
      {
        "duration": 9,
        "start_time": "2023-05-30T07:16:27.100Z"
      },
      {
        "duration": 7,
        "start_time": "2023-05-30T07:16:56.700Z"
      },
      {
        "duration": 3,
        "start_time": "2023-05-30T07:17:19.110Z"
      },
      {
        "duration": 3,
        "start_time": "2023-05-30T07:17:19.590Z"
      },
      {
        "duration": 4,
        "start_time": "2023-05-30T07:17:20.059Z"
      },
      {
        "duration": 3,
        "start_time": "2023-05-30T07:17:21.101Z"
      },
      {
        "duration": 14,
        "start_time": "2023-05-30T07:17:21.441Z"
      },
      {
        "duration": 3,
        "start_time": "2023-05-30T07:17:22.100Z"
      },
      {
        "duration": 7,
        "start_time": "2023-05-30T07:17:22.688Z"
      },
      {
        "duration": 3,
        "start_time": "2023-05-30T07:17:23.120Z"
      },
      {
        "duration": 4,
        "start_time": "2023-05-30T07:17:23.710Z"
      },
      {
        "duration": 9,
        "start_time": "2023-05-30T07:17:24.330Z"
      },
      {
        "duration": 6,
        "start_time": "2023-05-30T07:17:25.200Z"
      },
      {
        "duration": 3,
        "start_time": "2023-05-30T07:51:44.920Z"
      },
      {
        "duration": 2,
        "start_time": "2023-05-30T07:52:16.575Z"
      },
      {
        "duration": 9,
        "start_time": "2023-05-30T07:53:23.199Z"
      },
      {
        "duration": 8,
        "start_time": "2023-05-30T07:53:53.950Z"
      },
      {
        "duration": 6,
        "start_time": "2023-05-30T07:53:59.270Z"
      },
      {
        "duration": 12,
        "start_time": "2023-05-30T07:56:43.959Z"
      },
      {
        "duration": 9,
        "start_time": "2023-05-30T07:56:51.310Z"
      },
      {
        "duration": 1081,
        "start_time": "2023-05-31T05:02:03.041Z"
      },
      {
        "duration": 82,
        "start_time": "2023-05-31T05:02:04.124Z"
      },
      {
        "duration": 18,
        "start_time": "2023-05-31T05:02:04.847Z"
      },
      {
        "duration": 13,
        "start_time": "2023-05-31T05:02:05.373Z"
      },
      {
        "duration": 34,
        "start_time": "2023-05-31T05:02:06.606Z"
      },
      {
        "duration": 4,
        "start_time": "2023-05-31T05:02:07.069Z"
      },
      {
        "duration": 4,
        "start_time": "2023-05-31T05:02:07.853Z"
      },
      {
        "duration": 4,
        "start_time": "2023-05-31T05:02:08.317Z"
      },
      {
        "duration": 4,
        "start_time": "2023-05-31T05:02:08.807Z"
      },
      {
        "duration": 3,
        "start_time": "2023-05-31T05:02:09.463Z"
      },
      {
        "duration": 4,
        "start_time": "2023-05-31T05:02:09.991Z"
      },
      {
        "duration": 5,
        "start_time": "2023-05-31T05:51:10.157Z"
      },
      {
        "duration": 10,
        "start_time": "2023-05-31T05:51:10.813Z"
      },
      {
        "duration": 6,
        "start_time": "2023-05-31T05:51:11.879Z"
      },
      {
        "duration": 10,
        "start_time": "2023-05-31T05:51:12.960Z"
      },
      {
        "duration": 4,
        "start_time": "2023-05-31T05:51:13.942Z"
      },
      {
        "duration": 5,
        "start_time": "2023-05-31T05:51:15.574Z"
      },
      {
        "duration": 4,
        "start_time": "2023-05-31T05:51:16.640Z"
      },
      {
        "duration": 3,
        "start_time": "2023-05-31T05:51:18.262Z"
      },
      {
        "duration": 17,
        "start_time": "2023-05-31T05:51:19.005Z"
      },
      {
        "duration": 108,
        "start_time": "2023-05-31T05:51:19.686Z"
      },
      {
        "duration": 10,
        "start_time": "2023-05-31T05:52:19.414Z"
      },
      {
        "duration": 3,
        "start_time": "2023-05-31T05:52:20.278Z"
      },
      {
        "duration": 3,
        "start_time": "2023-05-31T05:52:20.847Z"
      },
      {
        "duration": 9,
        "start_time": "2023-05-31T05:52:21.654Z"
      },
      {
        "duration": 10,
        "start_time": "2023-05-31T05:52:22.438Z"
      },
      {
        "duration": 5,
        "start_time": "2023-05-31T05:52:43.392Z"
      },
      {
        "duration": 4,
        "start_time": "2023-05-31T05:52:43.871Z"
      },
      {
        "duration": 3,
        "start_time": "2023-05-31T05:52:44.744Z"
      },
      {
        "duration": 5,
        "start_time": "2023-05-31T05:52:45.272Z"
      },
      {
        "duration": 3,
        "start_time": "2023-05-31T05:52:46.503Z"
      },
      {
        "duration": 10,
        "start_time": "2023-05-31T05:52:47.048Z"
      },
      {
        "duration": 3,
        "start_time": "2023-05-31T05:52:47.574Z"
      },
      {
        "duration": 9,
        "start_time": "2023-05-31T05:52:48.133Z"
      },
      {
        "duration": 4,
        "start_time": "2023-05-31T05:52:48.687Z"
      },
      {
        "duration": 4,
        "start_time": "2023-05-31T05:52:49.243Z"
      },
      {
        "duration": 8,
        "start_time": "2023-05-31T05:52:49.791Z"
      },
      {
        "duration": 21,
        "start_time": "2023-05-31T05:52:50.287Z"
      },
      {
        "duration": 4,
        "start_time": "2023-05-31T05:54:55.541Z"
      },
      {
        "duration": 27,
        "start_time": "2023-05-31T05:54:55.984Z"
      },
      {
        "duration": 8,
        "start_time": "2023-05-31T05:54:56.489Z"
      },
      {
        "duration": 10,
        "start_time": "2023-05-31T05:54:56.952Z"
      },
      {
        "duration": 22,
        "start_time": "2023-05-31T05:54:57.488Z"
      },
      {
        "duration": 4,
        "start_time": "2023-05-31T05:54:58.039Z"
      },
      {
        "duration": 4,
        "start_time": "2023-05-31T05:54:58.760Z"
      },
      {
        "duration": 3,
        "start_time": "2023-05-31T05:54:59.215Z"
      },
      {
        "duration": 7,
        "start_time": "2023-05-31T05:54:59.767Z"
      },
      {
        "duration": 5,
        "start_time": "2023-05-31T05:55:00.343Z"
      },
      {
        "duration": 5,
        "start_time": "2023-05-31T05:55:01.176Z"
      },
      {
        "duration": 5,
        "start_time": "2023-05-31T05:55:02.689Z"
      },
      {
        "duration": 9,
        "start_time": "2023-05-31T05:55:03.680Z"
      },
      {
        "duration": 10,
        "start_time": "2023-05-31T06:01:32.773Z"
      },
      {
        "duration": 13,
        "start_time": "2023-05-31T06:02:05.255Z"
      },
      {
        "duration": 65,
        "start_time": "2023-05-31T06:02:32.879Z"
      },
      {
        "duration": 430,
        "start_time": "2023-05-31T06:02:46.374Z"
      },
      {
        "duration": 21,
        "start_time": "2023-05-31T06:02:50.588Z"
      },
      {
        "duration": 262,
        "start_time": "2023-05-31T06:03:08.137Z"
      },
      {
        "duration": 20,
        "start_time": "2023-05-31T06:04:35.885Z"
      },
      {
        "duration": 61,
        "start_time": "2023-05-31T06:07:49.909Z"
      },
      {
        "duration": 24,
        "start_time": "2023-05-31T06:09:16.815Z"
      },
      {
        "duration": 94,
        "start_time": "2023-05-31T06:09:21.591Z"
      },
      {
        "duration": 117,
        "start_time": "2023-05-31T06:09:30.782Z"
      },
      {
        "duration": 187,
        "start_time": "2023-05-31T06:11:44.115Z"
      },
      {
        "duration": 128,
        "start_time": "2023-05-31T06:13:17.858Z"
      },
      {
        "duration": 126,
        "start_time": "2023-05-31T06:13:33.274Z"
      },
      {
        "duration": 243,
        "start_time": "2023-05-31T06:14:21.939Z"
      },
      {
        "duration": 159,
        "start_time": "2023-05-31T06:14:29.506Z"
      },
      {
        "duration": 176,
        "start_time": "2023-05-31T06:17:25.727Z"
      },
      {
        "duration": 169,
        "start_time": "2023-05-31T06:18:06.501Z"
      },
      {
        "duration": 197,
        "start_time": "2023-05-31T06:18:18.358Z"
      },
      {
        "duration": 233,
        "start_time": "2023-05-31T06:18:34.635Z"
      },
      {
        "duration": 198,
        "start_time": "2023-05-31T06:19:19.502Z"
      },
      {
        "duration": 185,
        "start_time": "2023-05-31T06:19:32.015Z"
      },
      {
        "duration": 209,
        "start_time": "2023-05-31T06:19:44.059Z"
      },
      {
        "duration": 206,
        "start_time": "2023-05-31T06:19:56.342Z"
      },
      {
        "duration": 336,
        "start_time": "2023-05-31T06:20:07.958Z"
      },
      {
        "duration": 199,
        "start_time": "2023-05-31T06:20:17.406Z"
      },
      {
        "duration": 303,
        "start_time": "2023-05-31T06:22:28.559Z"
      },
      {
        "duration": 195,
        "start_time": "2023-05-31T06:22:45.047Z"
      },
      {
        "duration": 196,
        "start_time": "2023-05-31T06:22:57.181Z"
      },
      {
        "duration": 3,
        "start_time": "2023-05-31T06:26:02.785Z"
      },
      {
        "duration": 36,
        "start_time": "2023-05-31T06:26:03.192Z"
      },
      {
        "duration": 9,
        "start_time": "2023-05-31T06:26:03.807Z"
      },
      {
        "duration": 12,
        "start_time": "2023-05-31T06:26:04.912Z"
      },
      {
        "duration": 23,
        "start_time": "2023-05-31T06:26:08.720Z"
      },
      {
        "duration": 4,
        "start_time": "2023-05-31T06:26:09.217Z"
      },
      {
        "duration": 4,
        "start_time": "2023-05-31T06:26:11.988Z"
      },
      {
        "duration": 4,
        "start_time": "2023-05-31T06:26:12.617Z"
      },
      {
        "duration": 5,
        "start_time": "2023-05-31T06:26:14.145Z"
      },
      {
        "duration": 4,
        "start_time": "2023-05-31T06:26:14.722Z"
      },
      {
        "duration": 4,
        "start_time": "2023-05-31T06:26:15.521Z"
      },
      {
        "duration": 4,
        "start_time": "2023-05-31T06:26:16.985Z"
      },
      {
        "duration": 12,
        "start_time": "2023-05-31T06:26:19.453Z"
      },
      {
        "duration": 176,
        "start_time": "2023-05-31T06:26:22.425Z"
      },
      {
        "duration": 4,
        "start_time": "2023-05-31T06:34:59.273Z"
      },
      {
        "duration": 5,
        "start_time": "2023-05-31T06:35:00.558Z"
      },
      {
        "duration": 4,
        "start_time": "2023-05-31T06:35:01.613Z"
      },
      {
        "duration": 5,
        "start_time": "2023-05-31T06:35:02.014Z"
      },
      {
        "duration": 4,
        "start_time": "2023-05-31T06:35:02.525Z"
      },
      {
        "duration": 2,
        "start_time": "2023-05-31T06:35:03.085Z"
      },
      {
        "duration": 4,
        "start_time": "2023-05-31T06:35:03.634Z"
      },
      {
        "duration": 3,
        "start_time": "2023-05-31T06:35:04.349Z"
      },
      {
        "duration": 9,
        "start_time": "2023-05-31T06:35:04.621Z"
      },
      {
        "duration": 4,
        "start_time": "2023-05-31T06:35:04.918Z"
      },
      {
        "duration": 7,
        "start_time": "2023-05-31T06:35:05.398Z"
      },
      {
        "duration": 5,
        "start_time": "2023-05-31T06:35:06.925Z"
      },
      {
        "duration": 3,
        "start_time": "2023-05-31T06:35:07.302Z"
      },
      {
        "duration": 8,
        "start_time": "2023-05-31T06:35:07.598Z"
      },
      {
        "duration": 13,
        "start_time": "2023-05-31T06:35:07.886Z"
      },
      {
        "duration": 1530,
        "start_time": "2023-05-31T18:27:01.839Z"
      },
      {
        "duration": 83,
        "start_time": "2023-05-31T18:27:03.371Z"
      },
      {
        "duration": 12,
        "start_time": "2023-05-31T18:27:04.019Z"
      },
      {
        "duration": 12,
        "start_time": "2023-05-31T18:27:04.640Z"
      },
      {
        "duration": 22,
        "start_time": "2023-05-31T18:27:05.091Z"
      },
      {
        "duration": 4,
        "start_time": "2023-05-31T18:27:05.568Z"
      },
      {
        "duration": 6,
        "start_time": "2023-05-31T18:27:05.894Z"
      },
      {
        "duration": 4,
        "start_time": "2023-05-31T18:27:06.304Z"
      },
      {
        "duration": 6,
        "start_time": "2023-05-31T18:27:06.576Z"
      },
      {
        "duration": 5,
        "start_time": "2023-05-31T18:27:06.840Z"
      },
      {
        "duration": 5,
        "start_time": "2023-05-31T18:27:07.056Z"
      },
      {
        "duration": 6,
        "start_time": "2023-05-31T18:27:07.519Z"
      },
      {
        "duration": 87,
        "start_time": "2023-05-31T18:27:08.392Z"
      },
      {
        "duration": 204,
        "start_time": "2023-05-31T18:27:10.128Z"
      },
      {
        "duration": 194,
        "start_time": "2023-05-31T18:28:21.544Z"
      },
      {
        "duration": 168,
        "start_time": "2023-05-31T18:28:35.504Z"
      },
      {
        "duration": 256,
        "start_time": "2023-05-31T18:28:56.393Z"
      },
      {
        "duration": 5,
        "start_time": "2023-05-31T18:30:05.826Z"
      },
      {
        "duration": 7,
        "start_time": "2023-05-31T18:30:07.001Z"
      },
      {
        "duration": 4,
        "start_time": "2023-05-31T18:30:07.588Z"
      },
      {
        "duration": 4,
        "start_time": "2023-05-31T18:30:08.010Z"
      },
      {
        "duration": 4,
        "start_time": "2023-05-31T18:30:08.266Z"
      },
      {
        "duration": 4,
        "start_time": "2023-05-31T18:30:08.514Z"
      },
      {
        "duration": 4,
        "start_time": "2023-05-31T18:30:08.809Z"
      },
      {
        "duration": 3,
        "start_time": "2023-05-31T18:30:09.345Z"
      },
      {
        "duration": 14,
        "start_time": "2023-05-31T18:30:11.505Z"
      },
      {
        "duration": 7,
        "start_time": "2023-05-31T18:30:14.473Z"
      },
      {
        "duration": 8,
        "start_time": "2023-05-31T18:30:15.186Z"
      },
      {
        "duration": 4,
        "start_time": "2023-05-31T18:30:16.033Z"
      },
      {
        "duration": 3,
        "start_time": "2023-05-31T18:30:16.617Z"
      },
      {
        "duration": 8,
        "start_time": "2023-05-31T18:30:17.191Z"
      },
      {
        "duration": 12,
        "start_time": "2023-05-31T18:30:22.962Z"
      },
      {
        "duration": 5,
        "start_time": "2023-05-31T19:33:02.213Z"
      },
      {
        "duration": 9,
        "start_time": "2023-05-31T19:33:14.035Z"
      },
      {
        "duration": 4,
        "start_time": "2023-05-31T19:33:16.634Z"
      },
      {
        "duration": 16,
        "start_time": "2023-05-31T19:33:51.077Z"
      },
      {
        "duration": 3,
        "start_time": "2023-05-31T19:33:51.740Z"
      },
      {
        "duration": 5,
        "start_time": "2023-05-31T19:33:52.373Z"
      },
      {
        "duration": 4,
        "start_time": "2023-05-31T19:33:56.059Z"
      },
      {
        "duration": 12,
        "start_time": "2023-05-31T19:33:57.061Z"
      },
      {
        "duration": 4,
        "start_time": "2023-05-31T19:33:58.611Z"
      },
      {
        "duration": 9,
        "start_time": "2023-05-31T19:34:00.336Z"
      },
      {
        "duration": 6,
        "start_time": "2023-05-31T19:34:01.777Z"
      },
      {
        "duration": 5,
        "start_time": "2023-05-31T19:34:02.910Z"
      },
      {
        "duration": 8,
        "start_time": "2023-05-31T19:34:03.659Z"
      },
      {
        "duration": 40,
        "start_time": "2023-05-31T19:34:04.802Z"
      },
      {
        "duration": 7,
        "start_time": "2023-05-31T19:59:26.649Z"
      },
      {
        "duration": 41,
        "start_time": "2023-05-31T19:59:26.872Z"
      },
      {
        "duration": 9,
        "start_time": "2023-05-31T19:59:27.108Z"
      },
      {
        "duration": 11,
        "start_time": "2023-05-31T19:59:27.319Z"
      },
      {
        "duration": 26,
        "start_time": "2023-05-31T19:59:27.521Z"
      },
      {
        "duration": 5,
        "start_time": "2023-05-31T19:59:27.748Z"
      },
      {
        "duration": 6,
        "start_time": "2023-05-31T19:59:27.948Z"
      },
      {
        "duration": 5,
        "start_time": "2023-05-31T19:59:28.152Z"
      },
      {
        "duration": 7,
        "start_time": "2023-05-31T19:59:28.348Z"
      },
      {
        "duration": 5,
        "start_time": "2023-05-31T19:59:28.544Z"
      },
      {
        "duration": 6,
        "start_time": "2023-05-31T19:59:28.760Z"
      },
      {
        "duration": 11,
        "start_time": "2023-05-31T19:59:29.176Z"
      },
      {
        "duration": 13,
        "start_time": "2023-05-31T19:59:29.610Z"
      },
      {
        "duration": 218,
        "start_time": "2023-05-31T19:59:30.052Z"
      },
      {
        "duration": 13,
        "start_time": "2023-05-31T19:59:32.817Z"
      },
      {
        "duration": 6,
        "start_time": "2023-05-31T19:59:33.243Z"
      },
      {
        "duration": 4,
        "start_time": "2023-05-31T19:59:33.656Z"
      },
      {
        "duration": 5,
        "start_time": "2023-05-31T19:59:33.864Z"
      },
      {
        "duration": 12,
        "start_time": "2023-05-31T19:59:34.073Z"
      },
      {
        "duration": 3,
        "start_time": "2023-05-31T19:59:34.308Z"
      },
      {
        "duration": 4,
        "start_time": "2023-05-31T19:59:34.520Z"
      },
      {
        "duration": 6,
        "start_time": "2023-05-31T19:59:34.977Z"
      },
      {
        "duration": 13,
        "start_time": "2023-05-31T19:59:35.402Z"
      },
      {
        "duration": 3,
        "start_time": "2023-05-31T19:59:35.646Z"
      },
      {
        "duration": 11,
        "start_time": "2023-05-31T19:59:35.848Z"
      },
      {
        "duration": 8,
        "start_time": "2023-05-31T19:59:36.095Z"
      },
      {
        "duration": 5,
        "start_time": "2023-05-31T19:59:36.344Z"
      },
      {
        "duration": 20,
        "start_time": "2023-05-31T19:59:36.568Z"
      },
      {
        "duration": 17,
        "start_time": "2023-05-31T19:59:37.045Z"
      },
      {
        "duration": 2786,
        "start_time": "2023-06-01T05:30:08.499Z"
      },
      {
        "duration": 31,
        "start_time": "2023-06-01T05:30:11.286Z"
      },
      {
        "duration": 12,
        "start_time": "2023-06-01T05:30:17.479Z"
      },
      {
        "duration": 10,
        "start_time": "2023-06-01T05:30:17.897Z"
      },
      {
        "duration": 22,
        "start_time": "2023-06-01T05:30:18.371Z"
      },
      {
        "duration": 4,
        "start_time": "2023-06-01T05:30:18.963Z"
      },
      {
        "duration": 3,
        "start_time": "2023-06-01T05:30:19.752Z"
      },
      {
        "duration": 4,
        "start_time": "2023-06-01T05:30:20.935Z"
      },
      {
        "duration": 5,
        "start_time": "2023-06-01T05:30:21.095Z"
      },
      {
        "duration": 4,
        "start_time": "2023-06-01T05:30:21.269Z"
      },
      {
        "duration": 4,
        "start_time": "2023-06-01T05:30:21.631Z"
      },
      {
        "duration": 4,
        "start_time": "2023-06-01T05:30:23.148Z"
      },
      {
        "duration": 9,
        "start_time": "2023-06-01T05:30:23.731Z"
      },
      {
        "duration": 172,
        "start_time": "2023-06-01T05:30:25.160Z"
      },
      {
        "duration": 5,
        "start_time": "2023-06-01T05:34:40.486Z"
      },
      {
        "duration": 5,
        "start_time": "2023-06-01T05:34:41.445Z"
      },
      {
        "duration": 4,
        "start_time": "2023-06-01T05:35:07.930Z"
      },
      {
        "duration": 4,
        "start_time": "2023-06-01T05:35:08.420Z"
      },
      {
        "duration": 4,
        "start_time": "2023-06-01T05:35:08.845Z"
      },
      {
        "duration": 3,
        "start_time": "2023-06-01T05:35:09.280Z"
      },
      {
        "duration": 5,
        "start_time": "2023-06-01T05:35:09.503Z"
      },
      {
        "duration": 4,
        "start_time": "2023-06-01T05:35:10.727Z"
      },
      {
        "duration": 15,
        "start_time": "2023-06-01T05:35:11.538Z"
      },
      {
        "duration": 3,
        "start_time": "2023-06-01T05:35:12.000Z"
      },
      {
        "duration": 9,
        "start_time": "2023-06-01T05:35:12.507Z"
      },
      {
        "duration": 3,
        "start_time": "2023-06-01T05:35:12.712Z"
      },
      {
        "duration": 3,
        "start_time": "2023-06-01T05:35:12.902Z"
      },
      {
        "duration": 8,
        "start_time": "2023-06-01T05:35:13.107Z"
      },
      {
        "duration": 9,
        "start_time": "2023-06-01T05:35:14.036Z"
      },
      {
        "duration": 51,
        "start_time": "2023-06-01T06:17:02.845Z"
      },
      {
        "duration": 1548,
        "start_time": "2023-06-01T06:17:18.249Z"
      },
      {
        "duration": 75,
        "start_time": "2023-06-01T06:17:20.529Z"
      },
      {
        "duration": 13,
        "start_time": "2023-06-01T06:17:21.489Z"
      },
      {
        "duration": 11,
        "start_time": "2023-06-01T06:17:21.945Z"
      },
      {
        "duration": 22,
        "start_time": "2023-06-01T06:17:22.305Z"
      },
      {
        "duration": 5,
        "start_time": "2023-06-01T06:17:22.809Z"
      },
      {
        "duration": 282,
        "start_time": "2023-06-01T06:17:24.145Z"
      },
      {
        "duration": 311,
        "start_time": "2023-06-01T06:18:07.602Z"
      },
      {
        "duration": 351,
        "start_time": "2023-06-01T06:18:52.603Z"
      },
      {
        "duration": 180,
        "start_time": "2023-06-01T06:19:36.499Z"
      },
      {
        "duration": 4712,
        "start_time": "2023-06-01T06:20:30.387Z"
      },
      {
        "duration": 3688,
        "start_time": "2023-06-01T06:21:46.133Z"
      },
      {
        "duration": 149,
        "start_time": "2023-06-01T06:26:25.276Z"
      },
      {
        "duration": 6985,
        "start_time": "2023-06-01T06:28:30.328Z"
      },
      {
        "duration": 6766,
        "start_time": "2023-06-01T06:29:12.616Z"
      },
      {
        "duration": 7138,
        "start_time": "2023-06-01T06:29:38.191Z"
      },
      {
        "duration": 8100,
        "start_time": "2023-06-01T06:30:03.232Z"
      },
      {
        "duration": 8453,
        "start_time": "2023-06-01T06:31:02.881Z"
      },
      {
        "duration": 7998,
        "start_time": "2023-06-01T06:31:34.792Z"
      },
      {
        "duration": 8188,
        "start_time": "2023-06-01T06:32:10.234Z"
      },
      {
        "duration": 45,
        "start_time": "2023-06-01T06:33:27.634Z"
      },
      {
        "duration": 8994,
        "start_time": "2023-06-01T06:33:36.279Z"
      },
      {
        "duration": 8513,
        "start_time": "2023-06-01T06:34:00.779Z"
      },
      {
        "duration": 8479,
        "start_time": "2023-06-01T06:34:11.676Z"
      },
      {
        "duration": 8834,
        "start_time": "2023-06-01T06:34:44.795Z"
      },
      {
        "duration": 8564,
        "start_time": "2023-06-01T06:35:00.395Z"
      },
      {
        "duration": 8429,
        "start_time": "2023-06-01T06:35:17.878Z"
      },
      {
        "duration": 311,
        "start_time": "2023-06-01T06:36:42.244Z"
      },
      {
        "duration": 629,
        "start_time": "2023-06-01T06:39:42.317Z"
      },
      {
        "duration": 18,
        "start_time": "2023-06-01T06:48:42.930Z"
      },
      {
        "duration": 433,
        "start_time": "2023-06-01T06:48:52.145Z"
      },
      {
        "duration": 4,
        "start_time": "2023-06-01T06:50:12.258Z"
      },
      {
        "duration": 341,
        "start_time": "2023-06-01T06:50:19.131Z"
      },
      {
        "duration": 15,
        "start_time": "2023-06-01T06:50:33.394Z"
      },
      {
        "duration": 352,
        "start_time": "2023-06-01T06:50:46.375Z"
      },
      {
        "duration": 324,
        "start_time": "2023-06-01T06:51:20.451Z"
      },
      {
        "duration": 490,
        "start_time": "2023-06-01T06:52:35.054Z"
      },
      {
        "duration": 414,
        "start_time": "2023-06-01T06:52:53.485Z"
      },
      {
        "duration": 805,
        "start_time": "2023-06-01T06:53:08.676Z"
      },
      {
        "duration": 377,
        "start_time": "2023-06-01T06:53:18.725Z"
      },
      {
        "duration": 438,
        "start_time": "2023-06-01T06:54:24.437Z"
      },
      {
        "duration": 429,
        "start_time": "2023-06-01T06:55:46.646Z"
      },
      {
        "duration": 382,
        "start_time": "2023-06-01T06:55:55.807Z"
      },
      {
        "duration": 405,
        "start_time": "2023-06-01T06:56:10.382Z"
      },
      {
        "duration": 370,
        "start_time": "2023-06-01T06:56:24.199Z"
      },
      {
        "duration": 475,
        "start_time": "2023-06-01T06:57:05.624Z"
      },
      {
        "duration": 378,
        "start_time": "2023-06-01T06:57:12.600Z"
      },
      {
        "duration": 427,
        "start_time": "2023-06-01T06:57:46.489Z"
      },
      {
        "duration": 515,
        "start_time": "2023-06-01T06:57:54.519Z"
      },
      {
        "duration": 404,
        "start_time": "2023-06-01T06:58:52.353Z"
      },
      {
        "duration": 411,
        "start_time": "2023-06-01T06:59:12.195Z"
      },
      {
        "duration": 464,
        "start_time": "2023-06-01T07:03:35.299Z"
      },
      {
        "duration": 416,
        "start_time": "2023-06-01T07:03:53.020Z"
      },
      {
        "duration": 837,
        "start_time": "2023-06-01T07:04:34.229Z"
      },
      {
        "duration": 500,
        "start_time": "2023-06-01T07:05:03.182Z"
      },
      {
        "duration": 529,
        "start_time": "2023-06-01T07:05:31.474Z"
      },
      {
        "duration": 472,
        "start_time": "2023-06-01T07:05:46.246Z"
      },
      {
        "duration": 419,
        "start_time": "2023-06-01T07:06:07.340Z"
      },
      {
        "duration": 435,
        "start_time": "2023-06-01T07:06:16.916Z"
      },
      {
        "duration": 7771,
        "start_time": "2023-06-01T07:06:30.813Z"
      },
      {
        "duration": 27271,
        "start_time": "2023-06-01T07:08:42.831Z"
      },
      {
        "duration": 9923,
        "start_time": "2023-06-01T07:09:56.350Z"
      },
      {
        "duration": 31200,
        "start_time": "2023-06-01T07:10:52.280Z"
      },
      {
        "duration": 33233,
        "start_time": "2023-06-01T07:12:12.080Z"
      },
      {
        "duration": 31594,
        "start_time": "2023-06-01T07:13:08.899Z"
      },
      {
        "duration": 33186,
        "start_time": "2023-06-01T07:14:14.714Z"
      },
      {
        "duration": 30659,
        "start_time": "2023-06-01T07:15:07.642Z"
      },
      {
        "duration": 28595,
        "start_time": "2023-06-01T07:16:15.739Z"
      },
      {
        "duration": 31518,
        "start_time": "2023-06-01T07:17:16.143Z"
      },
      {
        "duration": 17,
        "start_time": "2023-06-01T07:17:47.664Z"
      },
      {
        "duration": 19014,
        "start_time": "2023-06-01T07:18:18.382Z"
      },
      {
        "duration": 18412,
        "start_time": "2023-06-01T07:18:47.819Z"
      },
      {
        "duration": 1476,
        "start_time": "2023-06-01T13:29:17.729Z"
      },
      {
        "duration": 78,
        "start_time": "2023-06-01T13:29:19.207Z"
      },
      {
        "duration": 12,
        "start_time": "2023-06-01T13:29:21.728Z"
      },
      {
        "duration": 11,
        "start_time": "2023-06-01T13:29:22.700Z"
      },
      {
        "duration": 20,
        "start_time": "2023-06-01T13:29:23.230Z"
      },
      {
        "duration": 4,
        "start_time": "2023-06-01T13:29:23.724Z"
      },
      {
        "duration": 13395,
        "start_time": "2023-06-01T13:29:32.632Z"
      },
      {
        "duration": 232,
        "start_time": "2023-06-01T13:31:02.079Z"
      },
      {
        "duration": 109,
        "start_time": "2023-06-01T13:31:07.255Z"
      },
      {
        "duration": 6,
        "start_time": "2023-06-01T13:31:41.501Z"
      },
      {
        "duration": 4,
        "start_time": "2023-06-01T13:31:49.550Z"
      },
      {
        "duration": 4,
        "start_time": "2023-06-01T13:31:59.949Z"
      },
      {
        "duration": 5,
        "start_time": "2023-06-01T13:32:16.249Z"
      },
      {
        "duration": 11,
        "start_time": "2023-06-01T13:32:26.598Z"
      },
      {
        "duration": 5,
        "start_time": "2023-06-01T13:34:59.111Z"
      },
      {
        "duration": 5,
        "start_time": "2023-06-01T13:35:16.655Z"
      },
      {
        "duration": 62,
        "start_time": "2023-06-01T13:35:32.705Z"
      },
      {
        "duration": 97,
        "start_time": "2023-06-01T13:36:40.243Z"
      },
      {
        "duration": 62,
        "start_time": "2023-06-01T13:37:33.451Z"
      },
      {
        "duration": 60,
        "start_time": "2023-06-01T13:37:41.651Z"
      },
      {
        "duration": 66,
        "start_time": "2023-06-01T13:37:50.377Z"
      },
      {
        "duration": 51,
        "start_time": "2023-06-01T13:38:00.305Z"
      },
      {
        "duration": 236,
        "start_time": "2023-06-01T13:39:20.598Z"
      },
      {
        "duration": 52,
        "start_time": "2023-06-01T13:39:31.163Z"
      },
      {
        "duration": 5983,
        "start_time": "2023-06-01T13:40:05.116Z"
      },
      {
        "duration": 369,
        "start_time": "2023-06-01T13:46:24.198Z"
      },
      {
        "duration": 6218,
        "start_time": "2023-06-01T13:47:05.599Z"
      },
      {
        "duration": 5956,
        "start_time": "2023-06-01T13:47:35.415Z"
      },
      {
        "duration": 6143,
        "start_time": "2023-06-01T13:47:54.215Z"
      },
      {
        "duration": 6032,
        "start_time": "2023-06-01T13:49:38.056Z"
      },
      {
        "duration": 5,
        "start_time": "2023-06-01T13:50:35.465Z"
      },
      {
        "duration": 5,
        "start_time": "2023-06-01T13:50:58.713Z"
      },
      {
        "duration": 4,
        "start_time": "2023-06-01T13:51:28.912Z"
      },
      {
        "duration": 6451,
        "start_time": "2023-06-01T13:51:58.962Z"
      },
      {
        "duration": 4,
        "start_time": "2023-06-01T13:52:23.392Z"
      },
      {
        "duration": 11,
        "start_time": "2023-06-01T13:52:42.833Z"
      },
      {
        "duration": 8,
        "start_time": "2023-06-01T13:52:49.337Z"
      },
      {
        "duration": 8,
        "start_time": "2023-06-01T13:53:17.091Z"
      },
      {
        "duration": 9,
        "start_time": "2023-06-01T13:53:31.090Z"
      },
      {
        "duration": 9,
        "start_time": "2023-06-01T13:53:36.913Z"
      },
      {
        "duration": 8,
        "start_time": "2023-06-01T13:53:40.338Z"
      },
      {
        "duration": 4,
        "start_time": "2023-06-01T13:53:46.585Z"
      },
      {
        "duration": 8,
        "start_time": "2023-06-01T13:53:52.994Z"
      },
      {
        "duration": 7,
        "start_time": "2023-06-01T13:54:15.570Z"
      },
      {
        "duration": 5761,
        "start_time": "2023-06-01T13:54:46.828Z"
      },
      {
        "duration": 6900,
        "start_time": "2023-06-01T13:55:11.139Z"
      },
      {
        "duration": 6837,
        "start_time": "2023-06-01T13:55:31.674Z"
      },
      {
        "duration": 6441,
        "start_time": "2023-06-01T13:55:58.308Z"
      },
      {
        "duration": 6430,
        "start_time": "2023-06-01T13:56:27.376Z"
      },
      {
        "duration": 6276,
        "start_time": "2023-06-01T13:56:57.676Z"
      },
      {
        "duration": 7064,
        "start_time": "2023-06-01T13:58:12.285Z"
      },
      {
        "duration": 5991,
        "start_time": "2023-06-01T13:58:39.380Z"
      },
      {
        "duration": 6537,
        "start_time": "2023-06-01T13:59:28.928Z"
      },
      {
        "duration": 6652,
        "start_time": "2023-06-01T13:59:52.382Z"
      },
      {
        "duration": 85,
        "start_time": "2023-06-01T14:00:39.853Z"
      },
      {
        "duration": 102,
        "start_time": "2023-06-01T14:01:46.446Z"
      },
      {
        "duration": 91,
        "start_time": "2023-06-01T14:02:13.547Z"
      },
      {
        "duration": 95,
        "start_time": "2023-06-01T14:03:12.977Z"
      },
      {
        "duration": 86,
        "start_time": "2023-06-01T14:04:22.688Z"
      },
      {
        "duration": 88,
        "start_time": "2023-06-01T14:04:30.852Z"
      },
      {
        "duration": 56,
        "start_time": "2023-06-01T14:04:46.313Z"
      },
      {
        "duration": 124,
        "start_time": "2023-06-01T14:04:56.964Z"
      },
      {
        "duration": 118,
        "start_time": "2023-06-01T14:06:12.987Z"
      },
      {
        "duration": 87,
        "start_time": "2023-06-01T14:06:29.699Z"
      },
      {
        "duration": 93,
        "start_time": "2023-06-01T14:07:02.041Z"
      },
      {
        "duration": 91,
        "start_time": "2023-06-01T14:07:19.155Z"
      },
      {
        "duration": 90,
        "start_time": "2023-06-01T14:07:31.037Z"
      },
      {
        "duration": 89,
        "start_time": "2023-06-01T14:07:47.148Z"
      },
      {
        "duration": 91,
        "start_time": "2023-06-01T14:08:03.563Z"
      },
      {
        "duration": 107,
        "start_time": "2023-06-01T14:08:36.273Z"
      },
      {
        "duration": 75,
        "start_time": "2023-06-01T14:09:13.578Z"
      },
      {
        "duration": 47,
        "start_time": "2023-06-01T14:09:20.574Z"
      },
      {
        "duration": 6435,
        "start_time": "2023-06-01T14:09:38.300Z"
      },
      {
        "duration": 5935,
        "start_time": "2023-06-01T14:10:24.597Z"
      },
      {
        "duration": 6081,
        "start_time": "2023-06-01T14:10:57.647Z"
      },
      {
        "duration": 6588,
        "start_time": "2023-06-01T14:13:44.854Z"
      },
      {
        "duration": 7185,
        "start_time": "2023-06-01T14:14:49.017Z"
      },
      {
        "duration": 71,
        "start_time": "2023-06-01T14:15:50.793Z"
      },
      {
        "duration": 6316,
        "start_time": "2023-06-01T14:15:59.344Z"
      },
      {
        "duration": 6969,
        "start_time": "2023-06-01T14:16:28.563Z"
      },
      {
        "duration": 8184,
        "start_time": "2023-06-01T14:16:46.945Z"
      },
      {
        "duration": 7116,
        "start_time": "2023-06-01T14:20:27.576Z"
      },
      {
        "duration": 6451,
        "start_time": "2023-06-01T14:22:33.315Z"
      },
      {
        "duration": 6626,
        "start_time": "2023-06-01T14:23:05.093Z"
      },
      {
        "duration": 7,
        "start_time": "2023-06-01T14:24:07.683Z"
      },
      {
        "duration": 450,
        "start_time": "2023-06-01T14:24:43.662Z"
      },
      {
        "duration": 331,
        "start_time": "2023-06-01T14:24:58.910Z"
      },
      {
        "duration": 321,
        "start_time": "2023-06-01T14:25:32.707Z"
      },
      {
        "duration": 6335,
        "start_time": "2023-06-01T14:25:52.047Z"
      },
      {
        "duration": 6549,
        "start_time": "2023-06-01T14:27:13.320Z"
      },
      {
        "duration": 6245,
        "start_time": "2023-06-01T15:22:26.654Z"
      },
      {
        "duration": 6564,
        "start_time": "2023-06-01T15:25:16.908Z"
      },
      {
        "duration": 6680,
        "start_time": "2023-06-01T15:26:23.033Z"
      },
      {
        "duration": 6791,
        "start_time": "2023-06-01T15:29:28.618Z"
      },
      {
        "duration": 7170,
        "start_time": "2023-06-01T15:32:01.468Z"
      },
      {
        "duration": 6470,
        "start_time": "2023-06-01T15:32:46.171Z"
      },
      {
        "duration": 21,
        "start_time": "2023-06-01T15:34:35.495Z"
      },
      {
        "duration": 7046,
        "start_time": "2023-06-01T15:34:54.201Z"
      },
      {
        "duration": 6264,
        "start_time": "2023-06-01T15:35:14.188Z"
      },
      {
        "duration": 6008,
        "start_time": "2023-06-01T15:35:46.993Z"
      },
      {
        "duration": 6420,
        "start_time": "2023-06-01T15:36:07.297Z"
      },
      {
        "duration": 8,
        "start_time": "2023-06-01T15:38:46.791Z"
      },
      {
        "duration": 3281,
        "start_time": "2023-06-01T15:38:54.468Z"
      },
      {
        "duration": 2185,
        "start_time": "2023-06-01T15:41:36.568Z"
      },
      {
        "duration": 13,
        "start_time": "2023-06-01T15:42:32.088Z"
      },
      {
        "duration": 4,
        "start_time": "2023-06-01T15:42:44.315Z"
      },
      {
        "duration": 9,
        "start_time": "2023-06-01T15:42:55.314Z"
      },
      {
        "duration": 5,
        "start_time": "2023-06-01T15:43:03.915Z"
      },
      {
        "duration": 1513,
        "start_time": "2023-06-01T15:43:17.261Z"
      },
      {
        "duration": 2470,
        "start_time": "2023-06-01T15:44:05.028Z"
      },
      {
        "duration": 2921,
        "start_time": "2023-06-01T15:45:29.764Z"
      },
      {
        "duration": 3208,
        "start_time": "2023-06-01T15:46:23.624Z"
      },
      {
        "duration": 871,
        "start_time": "2023-06-01T15:49:54.927Z"
      },
      {
        "duration": 946,
        "start_time": "2023-06-01T15:50:21.209Z"
      },
      {
        "duration": 574,
        "start_time": "2023-06-01T15:53:14.705Z"
      },
      {
        "duration": 415,
        "start_time": "2023-06-01T15:54:48.577Z"
      },
      {
        "duration": 263,
        "start_time": "2023-06-01T15:55:14.952Z"
      },
      {
        "duration": 241,
        "start_time": "2023-06-01T15:55:44.865Z"
      },
      {
        "duration": 162,
        "start_time": "2023-06-01T15:56:19.028Z"
      },
      {
        "duration": 150,
        "start_time": "2023-06-01T15:56:58.265Z"
      },
      {
        "duration": 195,
        "start_time": "2023-06-01T15:57:07.723Z"
      },
      {
        "duration": 6957,
        "start_time": "2023-06-01T15:57:42.716Z"
      },
      {
        "duration": 7509,
        "start_time": "2023-06-01T15:58:01.332Z"
      },
      {
        "duration": 7571,
        "start_time": "2023-06-01T15:58:32.200Z"
      },
      {
        "duration": 7757,
        "start_time": "2023-06-01T16:00:31.004Z"
      },
      {
        "duration": 7036,
        "start_time": "2023-06-01T16:00:39.273Z"
      },
      {
        "duration": 8027,
        "start_time": "2023-06-01T16:01:51.666Z"
      },
      {
        "duration": 7237,
        "start_time": "2023-06-01T16:02:39.515Z"
      },
      {
        "duration": 6929,
        "start_time": "2023-06-01T16:03:08.031Z"
      },
      {
        "duration": 7265,
        "start_time": "2023-06-01T16:03:42.390Z"
      },
      {
        "duration": 7414,
        "start_time": "2023-06-01T16:05:55.417Z"
      },
      {
        "duration": 7275,
        "start_time": "2023-06-01T16:07:35.062Z"
      },
      {
        "duration": 7100,
        "start_time": "2023-06-01T16:08:30.970Z"
      },
      {
        "duration": 7347,
        "start_time": "2023-06-01T16:09:11.521Z"
      },
      {
        "duration": 7390,
        "start_time": "2023-06-01T16:09:33.470Z"
      },
      {
        "duration": 607,
        "start_time": "2023-06-01T16:10:45.819Z"
      },
      {
        "duration": 5,
        "start_time": "2023-06-01T16:12:15.124Z"
      },
      {
        "duration": 4,
        "start_time": "2023-06-01T16:12:48.758Z"
      },
      {
        "duration": 464,
        "start_time": "2023-06-01T16:15:16.762Z"
      },
      {
        "duration": 464,
        "start_time": "2023-06-01T16:15:26.470Z"
      },
      {
        "duration": 482,
        "start_time": "2023-06-01T16:15:42.409Z"
      },
      {
        "duration": 1011,
        "start_time": "2023-06-01T16:15:47.912Z"
      },
      {
        "duration": 491,
        "start_time": "2023-06-01T16:17:07.104Z"
      },
      {
        "duration": 463,
        "start_time": "2023-06-01T16:17:25.574Z"
      },
      {
        "duration": 525,
        "start_time": "2023-06-01T16:17:46.174Z"
      },
      {
        "duration": 464,
        "start_time": "2023-06-01T16:18:05.801Z"
      },
      {
        "duration": 564,
        "start_time": "2023-06-01T16:18:45.399Z"
      },
      {
        "duration": 444,
        "start_time": "2023-06-01T16:19:28.775Z"
      },
      {
        "duration": 503,
        "start_time": "2023-06-01T16:20:00.500Z"
      },
      {
        "duration": 6164,
        "start_time": "2023-06-01T16:21:19.775Z"
      },
      {
        "duration": 7505,
        "start_time": "2023-06-01T16:22:26.506Z"
      },
      {
        "duration": 6946,
        "start_time": "2023-06-01T16:23:18.211Z"
      },
      {
        "duration": 554,
        "start_time": "2023-06-01T16:24:25.403Z"
      },
      {
        "duration": 14125,
        "start_time": "2023-06-01T16:25:04.879Z"
      },
      {
        "duration": 7607,
        "start_time": "2023-06-01T16:26:28.179Z"
      },
      {
        "duration": 7797,
        "start_time": "2023-06-01T16:26:50.373Z"
      },
      {
        "duration": 13736,
        "start_time": "2023-06-01T16:29:03.074Z"
      },
      {
        "duration": 24,
        "start_time": "2023-06-01T16:31:43.370Z"
      },
      {
        "duration": 23,
        "start_time": "2023-06-01T16:31:53.377Z"
      },
      {
        "duration": 6,
        "start_time": "2023-06-01T16:31:59.566Z"
      },
      {
        "duration": 23,
        "start_time": "2023-06-01T16:33:02.585Z"
      },
      {
        "duration": 17,
        "start_time": "2023-06-01T16:33:26.284Z"
      },
      {
        "duration": 7,
        "start_time": "2023-06-01T16:34:28.166Z"
      },
      {
        "duration": 10,
        "start_time": "2023-06-01T16:36:36.774Z"
      },
      {
        "duration": 12,
        "start_time": "2023-06-01T16:37:38.404Z"
      },
      {
        "duration": 182,
        "start_time": "2023-06-01T16:38:20.012Z"
      },
      {
        "duration": 184,
        "start_time": "2023-06-01T16:38:49.210Z"
      },
      {
        "duration": 469,
        "start_time": "2023-06-01T16:40:30.008Z"
      },
      {
        "duration": 3,
        "start_time": "2023-06-01T16:41:10.963Z"
      },
      {
        "duration": 10,
        "start_time": "2023-06-01T16:41:47.503Z"
      },
      {
        "duration": 13964,
        "start_time": "2023-06-01T16:41:48.504Z"
      },
      {
        "duration": 11,
        "start_time": "2023-06-01T16:44:56.803Z"
      },
      {
        "duration": 12,
        "start_time": "2023-06-01T16:45:13.781Z"
      },
      {
        "duration": 96,
        "start_time": "2023-06-01T17:01:15.965Z"
      },
      {
        "duration": 72,
        "start_time": "2023-06-01T19:56:19.743Z"
      }
    ],
    "kernelspec": {
      "display_name": "Python 3 (ipykernel)",
      "language": "python",
      "name": "python3"
    },
    "language_info": {
      "codemirror_mode": {
        "name": "ipython",
        "version": 3
      },
      "file_extension": ".py",
      "mimetype": "text/x-python",
      "name": "python",
      "nbconvert_exporter": "python",
      "pygments_lexer": "ipython3",
      "version": "3.9.5"
    },
    "toc": {
      "base_numbering": 1,
      "nav_menu": {},
      "number_sections": true,
      "sideBar": true,
      "skip_h1_title": true,
      "title_cell": "Содержание",
      "title_sidebar": "Contents",
      "toc_cell": true,
      "toc_position": {
        "height": "calc(100% - 180px)",
        "left": "10px",
        "top": "150px",
        "width": "349.091px"
      },
      "toc_section_display": true,
      "toc_window_display": true
    },
    "colab": {
      "provenance": []
    }
  },
  "nbformat": 4,
  "nbformat_minor": 0
}