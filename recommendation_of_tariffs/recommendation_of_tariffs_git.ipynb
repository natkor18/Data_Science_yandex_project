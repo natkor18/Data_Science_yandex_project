{
  "cells": [
    {
      "cell_type": "markdown",
      "metadata": {
        "id": "Ynm_AX44iXEU"
      },
      "source": [
        "# Рекомендация тарифов"
      ]
    },
    {
      "cell_type": "markdown",
      "metadata": {
        "id": "MejFgok_iXEU"
      },
      "source": [
        "В нашем распоряжении данные о поведении клиентов, которые уже перешли на эти тарифы (из проекта курса «Статистический анализ данных»). Нужно построить модель для задачи классификации, которая выберет подходящий тариф. Предобработка данных не понадобится — вы её уже сделали.\n",
        "\n",
        "Постройте модель с максимально большим значением *accuracy*. Чтобы сдать проект успешно, нужно довести долю правильных ответов по крайней мере до 0.75. Проверьте *accuracy* на тестовой выборке самостоятельно."
      ]
    },
    {
      "cell_type": "markdown",
      "metadata": {
        "id": "ts8F1w4NiXEV"
      },
      "source": [
        "## Откройте и изучите файл"
      ]
    },
    {
      "cell_type": "code",
      "execution_count": null,
      "metadata": {
        "id": "TQWvss7ZiXEW"
      },
      "outputs": [],
      "source": [
        "import pandas as pd\n",
        "from sklearn.tree import DecisionTreeClassifier\n",
        "from sklearn.ensemble import RandomForestClassifier\n",
        "from sklearn.linear_model import LogisticRegression\n",
        "from sklearn.model_selection import train_test_split\n",
        "from sklearn.metrics import accuracy_score\n",
        "from sklearn.dummy import DummyClassifier"
      ]
    },
    {
      "cell_type": "code",
      "execution_count": null,
      "metadata": {
        "id": "chShYlrXiXEX"
      },
      "outputs": [],
      "source": [
        "df = pd.read_csv(\"/datasets/users_behavior.csv\")"
      ]
    },
    {
      "cell_type": "code",
      "execution_count": null,
      "metadata": {
        "id": "LDGYULPOiXEX",
        "outputId": "b0ac1a79-ab5a-4d85-9ea4-29bd64ba22e2"
      },
      "outputs": [
        {
          "data": {
            "text/html": [
              "<div>\n",
              "<style scoped>\n",
              "    .dataframe tbody tr th:only-of-type {\n",
              "        vertical-align: middle;\n",
              "    }\n",
              "\n",
              "    .dataframe tbody tr th {\n",
              "        vertical-align: top;\n",
              "    }\n",
              "\n",
              "    .dataframe thead th {\n",
              "        text-align: right;\n",
              "    }\n",
              "</style>\n",
              "<table border=\"1\" class=\"dataframe\">\n",
              "  <thead>\n",
              "    <tr style=\"text-align: right;\">\n",
              "      <th></th>\n",
              "      <th>calls</th>\n",
              "      <th>minutes</th>\n",
              "      <th>messages</th>\n",
              "      <th>mb_used</th>\n",
              "      <th>is_ultra</th>\n",
              "    </tr>\n",
              "  </thead>\n",
              "  <tbody>\n",
              "    <tr>\n",
              "      <th>0</th>\n",
              "      <td>40.0</td>\n",
              "      <td>311.90</td>\n",
              "      <td>83.0</td>\n",
              "      <td>19915.42</td>\n",
              "      <td>0</td>\n",
              "    </tr>\n",
              "    <tr>\n",
              "      <th>1</th>\n",
              "      <td>85.0</td>\n",
              "      <td>516.75</td>\n",
              "      <td>56.0</td>\n",
              "      <td>22696.96</td>\n",
              "      <td>0</td>\n",
              "    </tr>\n",
              "    <tr>\n",
              "      <th>2</th>\n",
              "      <td>77.0</td>\n",
              "      <td>467.66</td>\n",
              "      <td>86.0</td>\n",
              "      <td>21060.45</td>\n",
              "      <td>0</td>\n",
              "    </tr>\n",
              "    <tr>\n",
              "      <th>3</th>\n",
              "      <td>106.0</td>\n",
              "      <td>745.53</td>\n",
              "      <td>81.0</td>\n",
              "      <td>8437.39</td>\n",
              "      <td>1</td>\n",
              "    </tr>\n",
              "    <tr>\n",
              "      <th>4</th>\n",
              "      <td>66.0</td>\n",
              "      <td>418.74</td>\n",
              "      <td>1.0</td>\n",
              "      <td>14502.75</td>\n",
              "      <td>0</td>\n",
              "    </tr>\n",
              "  </tbody>\n",
              "</table>\n",
              "</div>"
            ],
            "text/plain": [
              "   calls  minutes  messages   mb_used  is_ultra\n",
              "0   40.0   311.90      83.0  19915.42         0\n",
              "1   85.0   516.75      56.0  22696.96         0\n",
              "2   77.0   467.66      86.0  21060.45         0\n",
              "3  106.0   745.53      81.0   8437.39         1\n",
              "4   66.0   418.74       1.0  14502.75         0"
            ]
          },
          "execution_count": 50,
          "metadata": {},
          "output_type": "execute_result"
        }
      ],
      "source": [
        "df.head()"
      ]
    },
    {
      "cell_type": "code",
      "execution_count": null,
      "metadata": {
        "id": "ynxk__yriXEX",
        "outputId": "8c4fe1f2-9807-4eab-b1f9-e70f0a21359f"
      },
      "outputs": [
        {
          "name": "stdout",
          "output_type": "stream",
          "text": [
            "<class 'pandas.core.frame.DataFrame'>\n",
            "RangeIndex: 3214 entries, 0 to 3213\n",
            "Data columns (total 5 columns):\n",
            " #   Column    Non-Null Count  Dtype  \n",
            "---  ------    --------------  -----  \n",
            " 0   calls     3214 non-null   float64\n",
            " 1   minutes   3214 non-null   float64\n",
            " 2   messages  3214 non-null   float64\n",
            " 3   mb_used   3214 non-null   float64\n",
            " 4   is_ultra  3214 non-null   int64  \n",
            "dtypes: float64(4), int64(1)\n",
            "memory usage: 125.7 KB\n"
          ]
        }
      ],
      "source": [
        "df.info()"
      ]
    },
    {
      "cell_type": "markdown",
      "metadata": {
        "id": "zK-vpVXQiXEY"
      },
      "source": [
        "## Разбейте данные на выборки"
      ]
    },
    {
      "cell_type": "code",
      "execution_count": null,
      "metadata": {
        "id": "Prhx23L2iXEY"
      },
      "outputs": [],
      "source": [
        "features = df.drop(['is_ultra'], axis=1)\n",
        "target = df['is_ultra']"
      ]
    },
    {
      "cell_type": "code",
      "execution_count": null,
      "metadata": {
        "id": "6n5Jf-QliXEY"
      },
      "outputs": [],
      "source": [
        "features_train, features_test, target_train, target_test = train_test_split(features, target, test_size=0.20, random_state=12345)\n",
        "features_train, features_valid, target_train, target_valid = train_test_split(features_train, target_train, test_size=0.20, random_state=12345)"
      ]
    },
    {
      "cell_type": "markdown",
      "metadata": {
        "id": "V5Mq_GcyiXEY"
      },
      "source": [
        "<font size=3 color=#000080>**Для контроля за корректностью разбиения использовала .shape**</font>"
      ]
    },
    {
      "cell_type": "code",
      "execution_count": null,
      "metadata": {
        "id": "s3nHbL41iXEZ",
        "outputId": "9278d035-c90c-4666-fddc-b85b36b472bd"
      },
      "outputs": [
        {
          "name": "stdout",
          "output_type": "stream",
          "text": [
            "Обучающая выборка: (2056, 4) (2056,)\n",
            "Тестовая выборка: (643, 4) (643,)\n",
            "Валидационная выборка: (515, 4) (515,)\n"
          ]
        }
      ],
      "source": [
        "print(\"Обучающая выборка:\", features_train.shape, target_train.shape)\n",
        "print(\"Тестовая выборка:\", features_test.shape, target_test.shape)\n",
        "print(\"Валидационная выборка:\", features_valid.shape, target_valid.shape)"
      ]
    },
    {
      "cell_type": "markdown",
      "metadata": {
        "id": "aM6e5DVkiXEZ"
      },
      "source": [
        "Разбиение корректное"
      ]
    },
    {
      "cell_type": "markdown",
      "metadata": {
        "id": "C5pzzFAMiXEZ"
      },
      "source": [
        "## Исследуйте модели"
      ]
    },
    {
      "cell_type": "markdown",
      "metadata": {
        "id": "68tRCH3QiXEZ"
      },
      "source": [
        "<font size=4>**Модель \"решающее дерево\"**</font>"
      ]
    },
    {
      "cell_type": "code",
      "execution_count": null,
      "metadata": {
        "id": "gI2pTYgOiXEZ",
        "outputId": "4506aa8a-f308-4a05-f296-2be4f84d4677"
      },
      "outputs": [
        {
          "name": "stdout",
          "output_type": "stream",
          "text": [
            "Несовпадений 126\n",
            "Совпадений 389\n",
            "Accuracy модели на валидационной выборке: 0.7553398058252427\n",
            "Accuracy модели на тренировочной выборке: 0.811284046692607\n"
          ]
        }
      ],
      "source": [
        "model = DecisionTreeClassifier(random_state=12345,  max_depth=3)\n",
        "model.fit(features_train, target_train)\n",
        "\n",
        "test_prediction = model.predict(features_valid)\n",
        "train_prediction = model.predict(features_train)\n",
        "\n",
        "print(\"Несовпадений\", sum(test_prediction!=target_valid.values))\n",
        "print(\"Совпадений\", sum(test_prediction==target_valid.values))\n",
        "\n",
        "result_valid = accuracy_score(target_valid,test_prediction)\n",
        "result_train = accuracy_score(target_train, train_prediction)\n",
        "\n",
        "print(\"Accuracy модели на валидационной выборке:\", result_valid)\n",
        "print(\"Accuracy модели на тренировочной выборке:\", result_train)"
      ]
    },
    {
      "cell_type": "markdown",
      "metadata": {
        "id": "OKLa_VD7iXEZ"
      },
      "source": [
        "**Модель \"решающее дерево\" на валидационной выборке показала Accuracy - 0.7106796116504854**"
      ]
    },
    {
      "cell_type": "markdown",
      "metadata": {
        "id": "003ihGuiiXEZ"
      },
      "source": [
        "<font size=4>*Попробуем улучшить модель, изменив глубину дерева*</font>"
      ]
    },
    {
      "cell_type": "code",
      "execution_count": null,
      "metadata": {
        "id": "CLU5DQP7iXEZ",
        "outputId": "4dbcbc9f-6950-44f9-f336-d6711283b9ba"
      },
      "outputs": [
        {
          "name": "stdout",
          "output_type": "stream",
          "text": [
            "Accuracy наилучшей модели на валидационной выборке: 0.7572815533980582 глубина дерева:  5\n"
          ]
        }
      ],
      "source": [
        "best_model = 0\n",
        "best_result = 0\n",
        "best_depth = 0\n",
        "for depth in range(1,6):\n",
        "    model = DecisionTreeClassifier(random_state=12345, max_depth=depth)\n",
        "    model.fit(features_train, target_train)\n",
        "    predictions = model.predict(features_valid)\n",
        "    result = accuracy_score(target_valid, predictions)\n",
        "    if result > best_result:\n",
        "        best_result = result\n",
        "        best_model = model\n",
        "        best_depth = depth\n",
        "print(\"Accuracy наилучшей модели на валидационной выборке:\", best_result, \"глубина дерева: \", best_depth)"
      ]
    },
    {
      "cell_type": "markdown",
      "metadata": {
        "id": "jun1i4pWiXEa"
      },
      "source": [
        "**Модель \"решающее дерево\" на валидационной выборке при глубине 5 показала Accuracy - 0.7572815533980582. Модель улучшилась.**"
      ]
    },
    {
      "cell_type": "markdown",
      "metadata": {
        "id": "2n9DCdjYiXEa"
      },
      "source": [
        "<font size=3>**Построим решающее дерево**</font>"
      ]
    },
    {
      "cell_type": "code",
      "execution_count": null,
      "metadata": {
        "id": "ka-rFDhBiXEa"
      },
      "outputs": [],
      "source": [
        "#from sklearn import tree\n",
        "#import matplotlib.pyplot as plt\n",
        "\n",
        "#plt.figure(figsize=(25,25))\n",
        "#tree.plot_tree(model)"
      ]
    },
    {
      "cell_type": "markdown",
      "metadata": {
        "id": "oi24ip-miXEa"
      },
      "source": [
        "<font size=3 color=#000080>**В таком виде решающее дерево выглядит гораздо лучше**</font>"
      ]
    },
    {
      "cell_type": "code",
      "execution_count": null,
      "metadata": {
        "id": "Bf43jQiEiXEa",
        "outputId": "35304e54-81e9-46d6-b39f-ddd602b34ded"
      },
      "outputs": [
        {
          "data": {
            "image/png": "[encoded data removed]",
            "text/plain": [
              "<Figure size 1440x1440 with 1 Axes>"
            ]
          },
          "metadata": {
            "needs_background": "light"
          },
          "output_type": "display_data"
        }
      ],
      "source": [
        "from sklearn import tree\n",
        "import matplotlib.pyplot as plt\n",
        "\n",
        "\n",
        "fig = plt.figure(figsize=(20,20))\n",
        "tree.plot_tree(model, feature_names=features.columns.values, class_names=['Smart','Ultra'],\n",
        "               filled=True, fontsize = 15, max_depth = 2);"
      ]
    },
    {
      "cell_type": "markdown",
      "metadata": {
        "id": "_R7R5XDgiXEb"
      },
      "source": [
        "<font size=4>**Модель \"случайный лес\"**</font>"
      ]
    },
    {
      "cell_type": "code",
      "execution_count": null,
      "metadata": {
        "scrolled": true,
        "id": "2d0SPMOBiXEb",
        "outputId": "c7222490-328e-4ddf-e63a-47c07966b85b"
      },
      "outputs": [
        {
          "name": "stdout",
          "output_type": "stream",
          "text": [
            "Accuracy: 0.7165048543689321, деревьев: 1,глубина:1\n",
            "Accuracy: 0.7495145631067961, деревьев: 1,глубина:2\n",
            "Accuracy: 0.7533980582524272, деревьев: 1,глубина:3\n",
            "Accuracy: 0.7533980582524272, деревьев: 1,глубина:4\n",
            "Accuracy: 0.7475728155339806, деревьев: 1,глубина:5\n",
            "Accuracy: 0.7572815533980582, деревьев: 1,глубина:6\n",
            "Accuracy: 0.7669902912621359, деревьев: 1,глубина:7\n",
            "Accuracy: 0.7631067961165049, деревьев: 1,глубина:8\n",
            "Accuracy: 0.7631067961165049, деревьев: 1,глубина:9\n",
            "Accuracy: 0.7514563106796116, деревьев: 1,глубина:10\n",
            "Accuracy: 0.7165048543689321, деревьев: 2,глубина:1\n",
            "Accuracy: 0.7514563106796116, деревьев: 2,глубина:2\n",
            "Accuracy: 0.7611650485436893, деревьев: 2,глубина:3\n",
            "Accuracy: 0.7572815533980582, деревьев: 2,глубина:4\n",
            "Accuracy: 0.7592233009708738, деревьев: 2,глубина:5\n",
            "Accuracy: 0.7728155339805826, деревьев: 2,глубина:6\n",
            "Accuracy: 0.7747572815533981, деревьев: 2,глубина:7\n",
            "Accuracy: 0.7631067961165049, деревьев: 2,глубина:8\n",
            "Accuracy: 0.7514563106796116, деревьев: 2,глубина:9\n",
            "Accuracy: 0.7572815533980582, деревьев: 2,глубина:10\n",
            "Accuracy: 0.7165048543689321, деревьев: 3,глубина:1\n",
            "Accuracy: 0.7495145631067961, деревьев: 3,глубина:2\n",
            "Accuracy: 0.7495145631067961, деревьев: 3,глубина:3\n",
            "Accuracy: 0.7553398058252427, деревьев: 3,глубина:4\n",
            "Accuracy: 0.7572815533980582, деревьев: 3,глубина:5\n",
            "Accuracy: 0.7708737864077669, деревьев: 3,глубина:6\n",
            "Accuracy: 0.7747572815533981, деревьев: 3,глубина:7\n",
            "Accuracy: 0.7844660194174757, деревьев: 3,глубина:8\n",
            "Accuracy: 0.7708737864077669, деревьев: 3,глубина:9\n",
            "Accuracy: 0.7728155339805826, деревьев: 3,глубина:10\n",
            "Accuracy: 0.7165048543689321, деревьев: 4,глубина:1\n",
            "Accuracy: 0.7553398058252427, деревьев: 4,глубина:2\n",
            "Accuracy: 0.7553398058252427, деревьев: 4,глубина:3\n",
            "Accuracy: 0.7553398058252427, деревьев: 4,глубина:4\n",
            "Accuracy: 0.7572815533980582, деревьев: 4,глубина:5\n",
            "Accuracy: 0.7708737864077669, деревьев: 4,глубина:6\n",
            "Accuracy: 0.7650485436893204, деревьев: 4,глубина:7\n",
            "Accuracy: 0.7786407766990291, деревьев: 4,глубина:8\n",
            "Accuracy: 0.7747572815533981, деревьев: 4,глубина:9\n",
            "Accuracy: 0.7786407766990291, деревьев: 4,глубина:10\n",
            "Accuracy: 0.7203883495145631, деревьев: 5,глубина:1\n",
            "Accuracy: 0.7320388349514563, деревьев: 5,глубина:2\n",
            "Accuracy: 0.7553398058252427, деревьев: 5,глубина:3\n",
            "Accuracy: 0.7572815533980582, деревьев: 5,глубина:4\n",
            "Accuracy: 0.7611650485436893, деревьев: 5,глубина:5\n",
            "Accuracy: 0.7669902912621359, деревьев: 5,глубина:6\n",
            "Accuracy: 0.7766990291262136, деревьев: 5,глубина:7\n",
            "Accuracy: 0.7844660194174757, деревьев: 5,глубина:8\n",
            "Accuracy: 0.7805825242718447, деревьев: 5,глубина:9\n",
            "Accuracy: 0.7805825242718447, деревьев: 5,глубина:10\n",
            "Accuracy: 0.7223300970873786, деревьев: 6,глубина:1\n",
            "Accuracy: 0.7553398058252427, деревьев: 6,глубина:2\n",
            "Accuracy: 0.7553398058252427, деревьев: 6,глубина:3\n",
            "Accuracy: 0.7669902912621359, деревьев: 6,глубина:4\n",
            "Accuracy: 0.7631067961165049, деревьев: 6,глубина:5\n",
            "Accuracy: 0.7766990291262136, деревьев: 6,глубина:6\n",
            "Accuracy: 0.7747572815533981, деревьев: 6,глубина:7\n",
            "Accuracy: 0.7825242718446602, деревьев: 6,глубина:8\n",
            "Accuracy: 0.7922330097087379, деревьев: 6,глубина:9\n",
            "Accuracy: 0.7708737864077669, деревьев: 6,глубина:10\n",
            "Accuracy: 0.7223300970873786, деревьев: 7,глубина:1\n",
            "Accuracy: 0.7262135922330097, деревьев: 7,глубина:2\n",
            "Accuracy: 0.7572815533980582, деревьев: 7,глубина:3\n",
            "Accuracy: 0.7631067961165049, деревьев: 7,глубина:4\n",
            "Accuracy: 0.7572815533980582, деревьев: 7,глубина:5\n",
            "Accuracy: 0.7766990291262136, деревьев: 7,глубина:6\n",
            "Accuracy: 0.7825242718446602, деревьев: 7,глубина:7\n",
            "Accuracy: 0.7844660194174757, деревьев: 7,глубина:8\n",
            "Accuracy: 0.7864077669902912, деревьев: 7,глубина:9\n",
            "Accuracy: 0.7805825242718447, деревьев: 7,глубина:10\n",
            "Accuracy: 0.7223300970873786, деревьев: 8,глубина:1\n",
            "Accuracy: 0.7514563106796116, деревьев: 8,глубина:2\n",
            "Accuracy: 0.7572815533980582, деревьев: 8,глубина:3\n",
            "Accuracy: 0.7669902912621359, деревьев: 8,глубина:4\n",
            "Accuracy: 0.7572815533980582, деревьев: 8,глубина:5\n",
            "Accuracy: 0.7728155339805826, деревьев: 8,глубина:6\n",
            "Accuracy: 0.7825242718446602, деревьев: 8,глубина:7\n",
            "Accuracy: 0.7844660194174757, деревьев: 8,глубина:8\n",
            "Accuracy: 0.7864077669902912, деревьев: 8,глубина:9\n",
            "Accuracy: 0.7766990291262136, деревьев: 8,глубина:10\n",
            "Accuracy: 0.7242718446601941, деревьев: 9,глубина:1\n",
            "Accuracy: 0.7320388349514563, деревьев: 9,глубина:2\n",
            "Accuracy: 0.7592233009708738, деревьев: 9,глубина:3\n",
            "Accuracy: 0.7650485436893204, деревьев: 9,глубина:4\n",
            "Accuracy: 0.7650485436893204, деревьев: 9,глубина:5\n",
            "Accuracy: 0.7728155339805826, деревьев: 9,глубина:6\n",
            "Accuracy: 0.7825242718446602, деревьев: 9,глубина:7\n",
            "Accuracy: 0.7864077669902912, деревьев: 9,глубина:8\n",
            "Accuracy: 0.7883495145631068, деревьев: 9,глубина:9\n",
            "Accuracy: 0.7825242718446602, деревьев: 9,глубина:10\n",
            "Accuracy: 0.7203883495145631, деревьев: 10,глубина:1\n",
            "Accuracy: 0.7320388349514563, деревьев: 10,глубина:2\n",
            "Accuracy: 0.7592233009708738, деревьев: 10,глубина:3\n",
            "Accuracy: 0.7650485436893204, деревьев: 10,глубина:4\n",
            "Accuracy: 0.7631067961165049, деревьев: 10,глубина:5\n",
            "Accuracy: 0.7766990291262136, деревьев: 10,глубина:6\n",
            "Accuracy: 0.7805825242718447, деревьев: 10,глубина:7\n",
            "Accuracy: 0.7864077669902912, деревьев: 10,глубина:8\n",
            "Accuracy: 0.7864077669902912, деревьев: 10,глубина:9\n",
            "Accuracy: 0.7844660194174757, деревьев: 10,глубина:10\n",
            "Accuracy наилучшей модели на валидационной выборке: 0.7922330097087379 деревьев 6 глубина 9\n",
            "CPU times: user 1.62 s, sys: 21.9 ms, total: 1.64 s\n",
            "Wall time: 1.66 s\n"
          ]
        }
      ],
      "source": [
        "%%time\n",
        "best_model = 0\n",
        "best_result = 0\n",
        "best_est = 0\n",
        "best_depth = 0\n",
        "for est in range(1,11):\n",
        "    for depth in range(1,11):\n",
        "        model = RandomForestClassifier(random_state=12345, n_estimators=est, max_depth=depth)\n",
        "        model.fit(features_train, target_train)\n",
        "        result = model.score(features_valid, target_valid)\n",
        "        print(f\"Accuracy: {result}, деревьев: {est},глубина:{depth}\")\n",
        "        if result> best_result:\n",
        "            best_model = model.fit(features_train, target_train)\n",
        "            best_result = result\n",
        "            best_est = est\n",
        "            best_depth = depth\n",
        "print(\"Accuracy наилучшей модели на валидационной выборке:\", best_result, \"деревьев\", best_est, \"глубина\",best_depth)"
      ]
    },
    {
      "cell_type": "markdown",
      "metadata": {
        "id": "6rBlSKyPiXEb"
      },
      "source": [
        "<font size=3 color=#000080>**Посчитаю время работы модели \"случайный лес\" на выбранных гиперпараметрах, которые дают лучший результат.**</font>"
      ]
    },
    {
      "cell_type": "code",
      "execution_count": null,
      "metadata": {
        "id": "wIoqN_NEiXEc",
        "outputId": "52628181-8122-4822-99e0-2d40e5a0c46f"
      },
      "outputs": [
        {
          "name": "stdout",
          "output_type": "stream",
          "text": [
            "Accuracy: 0.7922330097087379, деревьев: 6 ,глубина: 9\n",
            "CPU times: user 23.7 ms, sys: 3.57 ms, total: 27.2 ms\n",
            "Wall time: 26.4 ms\n"
          ]
        }
      ],
      "source": [
        "%%time\n",
        "model = RandomForestClassifier(random_state=12345, n_estimators=6, max_depth=9)\n",
        "model.fit(features_train, target_train)\n",
        "result = model.score(features_valid, target_valid)\n",
        "print(f\"Accuracy: {result}, деревьев: 6 ,глубина: 9\")\n"
      ]
    },
    {
      "cell_type": "markdown",
      "metadata": {
        "id": "kfLvPD-FiXEc"
      },
      "source": [
        "<font size=3 color=#000080>**Вполне хорошее время. Данную модель с параметрами  деревьев: 6, глубиной: 9 и значением Accuracy: 0.7922330097087379 будем считать лучшей.**</font>\n",
        "\n",
        "\n",
        "<font size=4>Рассмотрели как изменяется модель \"случайный лес\" при изменении гиперпараметров. <br>Наибольшее значение accuracy  на валидационной выборке: 0.7922330097087379 при количестве деревьев -  6 и глубине - 9.</font>\n",
        "\n"
      ]
    },
    {
      "cell_type": "markdown",
      "metadata": {
        "id": "wQgp-SaPiXEc"
      },
      "source": [
        "<font size=4>**Модель \"Логистическая регрессия\"**</font>"
      ]
    },
    {
      "cell_type": "code",
      "execution_count": null,
      "metadata": {
        "id": "NgXTNA_tiXEc",
        "outputId": "894e581f-8bd2-499a-c8b8-0fde02929aa0"
      },
      "outputs": [
        {
          "name": "stdout",
          "output_type": "stream",
          "text": [
            "Accuracy на валидационной выборке: 0.7165048543689321\n"
          ]
        }
      ],
      "source": [
        "model = LogisticRegression(random_state=12345, solver='lbfgs', max_iter=1000)\n",
        "model.fit(features_train, target_train)\n",
        "result = model.score(features_valid, target_valid)\n",
        "print(\"Accuracy на валидационной выборке:\",result)"
      ]
    },
    {
      "cell_type": "markdown",
      "metadata": {
        "id": "ZgFQHff4iXEc"
      },
      "source": [
        "<font size=4>Модель \"Логистическая регрессия\" показала Accuracy на валидационной выборке 0.7165048543689321. Что меньше чем на \"Решающем дереве\" и на модели \"случйный лес\".</font>"
      ]
    },
    {
      "cell_type": "markdown",
      "metadata": {
        "id": "uTbqVUq3iXEc"
      },
      "source": [
        "<font size=3 color=#000080>**Модель \"Логистическая регрессия\" показала Accuracy на валидационной выборке 0.7165048543689321<br><br>\n",
        "Модель \"Случайны лес\"  показала Accuracy на валидационной выборке 0.7922330097087379<br><br>\n",
        "Модель \"Решающее дерево\" показала Accuracy на валидационной выборке 0.7572815533980582<br><br>\n",
        "Выбираем лучшую модель Случайный лес**</font>\n",
        "\n",
        "\n",
        "- Как назвать ситуацию, когда на валидации при увеличении глубины дерева (модель DT), метрика качества стала снижаться? Как по твоему в это же время вела себя эта же метрика на train?<br>\n",
        "    - Предположу что это переобучение. Метрика на train должна остаться прежней.<br>\n",
        "\n",
        "- Насколько знаю вы еще под капот моделям не заглядывали, но может знаешь почему обычно RF показывает более высокие результаты из выбранных?<br>\n",
        "     - ?\n",
        "- Мы решаем задачу классификации (а еще есть задача регрессии), а в названии модели с помощью которой мы решаем задачу \"классификации\" (Логистическая регрессия) есть слово \"регрессия\". Нет ли тут парадокса? )<br>\n",
        "    - ?\n",
        "- Почему логистическая регрессия показывать на много более худшие результаты?<br>\n",
        "    - ?\n"
      ]
    },
    {
      "cell_type": "markdown",
      "metadata": {
        "id": "-nIq-izeiXEd"
      },
      "source": [
        "## Проверьте модель на тестовой выборке"
      ]
    },
    {
      "cell_type": "markdown",
      "metadata": {
        "id": "xC_cg66uiXEd"
      },
      "source": [
        "<font size=3 color=#000080>**Проверим работу выбранной модели на тестовой выборке.**</font>"
      ]
    },
    {
      "cell_type": "markdown",
      "metadata": {
        "id": "ZZ8Olc9IiXEd"
      },
      "source": [
        "<font size=3>**\"Случайный лес\" на тестовой выборке**</font>"
      ]
    },
    {
      "cell_type": "code",
      "execution_count": null,
      "metadata": {
        "id": "VGdVWTnEiXEd",
        "outputId": "fc1da6f9-4c8c-4bff-e9df-c6f4a2808caf"
      },
      "outputs": [
        {
          "name": "stdout",
          "output_type": "stream",
          "text": [
            "Accuracy модели 'случайный лес' на тестовой выборке: 0.7947122861586314\n"
          ]
        }
      ],
      "source": [
        "model = RandomForestClassifier(random_state=12345, n_estimators=6, max_depth=9)\n",
        "model.fit(features_train, target_train)\n",
        "result = model.score(features_test, target_test)\n",
        "\n",
        "print(\"Accuracy модели 'случайный лес' на тестовой выборке:\",result)"
      ]
    },
    {
      "cell_type": "markdown",
      "metadata": {
        "id": "FaSzpXiFiXEd"
      },
      "source": [
        "<font size=4 color=#000080>Accuracy модели 'случайный лес'<br>\n",
        "на тестовой выборке при 6 деревьях и глубине 9: 0.7916018662519441, <br>\n",
        "на валидационной это значение - 0.7922330097087379.<br><br>\n",
        "Значения практичсеки совпадают как на валидационном так и на тестовых наборах. Что говорит о том, что модель дает хорошие ответы.\n",
        "<br>\n",
        "**Случайный лес дает лучший результат.**</font>"
      ]
    },
    {
      "cell_type": "markdown",
      "metadata": {
        "id": "-GDs2J6IiXEe"
      },
      "source": [
        "## (бонус) Проверьте модели на адекватность"
      ]
    },
    {
      "cell_type": "markdown",
      "metadata": {
        "id": "6kEg4xK8iXEe"
      },
      "source": [
        "<font size=4>Проверим модель на адекватность. Использовать будем sklearn.dummy.DummyClassifier</font>"
      ]
    },
    {
      "cell_type": "code",
      "execution_count": null,
      "metadata": {
        "id": "Bo4B9ib1iXEe",
        "outputId": "3e9d3ef2-d70a-4d69-f29c-7a35362b7e74"
      },
      "outputs": [
        {
          "name": "stdout",
          "output_type": "stream",
          "text": [
            "Accuracy модели 'случайный лес' на тестовой выборке: 0.7916018662519441\n"
          ]
        }
      ],
      "source": [
        "model = RandomForestClassifier(random_state=12345, n_estimators=9, max_depth=4)\n",
        "model.fit(features_train, target_train)\n",
        "result = model.score(features_test, target_test)\n",
        "\n",
        "print(\"Accuracy модели 'случайный лес' на тестовой выборке:\",result)"
      ]
    },
    {
      "cell_type": "code",
      "execution_count": null,
      "metadata": {
        "id": "b-ivlwnZiXEf",
        "outputId": "e3f48576-b9ea-48c8-e66a-1461e7cb240c"
      },
      "outputs": [
        {
          "name": "stdout",
          "output_type": "stream",
          "text": [
            "Accuracy DummyClassifier: 0.6757281553398058 0.6757281553398058\n"
          ]
        }
      ],
      "source": [
        "dummy_clf = DummyClassifier(strategy=\"most_frequent\", random_state=12345)\n",
        "dummy_clf.fit(features_train, target_train)\n",
        "clf_predict=dummy_clf.predict(features_valid)\n",
        "clf_predict=dummy_clf.score(features_valid, target_valid)\n",
        "\n",
        "print('Accuracy DummyClassifier:', clf_predict, clf_predict)"
      ]
    },
    {
      "cell_type": "markdown",
      "metadata": {
        "id": "EBBKdXJiiXEf"
      },
      "source": [
        "<font size=4>Accuracy модели DummyClassifier ниже, чем у модели RandomForestClassifier значит модель адекватна и эффективна.</font>"
      ]
    },
    {
      "cell_type": "markdown",
      "metadata": {
        "id": "ykZXgjhHiXEf"
      },
      "source": [
        "## Чек-лист готовности проекта"
      ]
    },
    {
      "cell_type": "markdown",
      "metadata": {
        "id": "sH2TYhmMiXEf"
      },
      "source": [
        "Поставьте 'x' в выполненных пунктах. Далее нажмите Shift+Enter."
      ]
    },
    {
      "cell_type": "markdown",
      "metadata": {
        "id": "5EIOc9-GiXEf"
      },
      "source": [
        "<font size=4>**Общий вывод**<br>\n",
        "1. Данные в датасете очищены и не требуют предобработки<br><br>\n",
        "2. Данные были разбиты на три выборки: тренировочную, валидационную, тестовую в соотношении 3:1:1<br><br>\n",
        "3. Для решения задачи классификации были построены три модели: «Решающее дерево», «Случайный лес», «Логистическая регрессия».<br><br>\n",
        "4. Все модели были обучены на тренировочной выборке и проверены на валидационной выборке. Была выбрана лучшая модель - Случайный лес. Модель протестирована, оценено время работы модели.\n",
        "   \n",
        "    **Случайный лес**<br>\n",
        "       - на тестовой выборке при 6 деревьях и глубине 9: 0.7916018662519441,\n",
        "       - на валидационной это значение - 0.7922330097087379.\n",
        "\n",
        "    Значения практически совпадают как на валидационном так и на тестовых наборах. Что говорит о том, что модель дает хорошие ответы.\n",
        "    \n",
        "6. Модель была рассмотрена при различных гиперпараметрах. В модели «случайный лес» рассматривались гиперпараметры – глубина и количество деревьев. <br>Это позволило увидеть как меняется показатель Accuracy в зависимости от величины данных параметров. Можно сделать вывод о том, что с увеличением глубины точность Accuracy увеличивается. Количество деревьев влияет на точность, но это влияние не прямо пропорционально. Влияние depth сильнее. При этом стоит помнить о том, что увеличение глубины и количества деревьев влияет на скорость работы модели.<br><br>\n",
        "\n",
        "7.  Была оценена адекватность выбранной модели. Accuracy модели DummyClassifier ниже, чем у модели RandomForestClassifier значит модель адекватна и эффективна. <br></font>\n"
      ]
    }
  ],
  "metadata": {
    "ExecuteTimeLog": [
      {
        "duration": 46,
        "start_time": "2023-03-28T03:27:09.982Z"
      },
      {
        "duration": 529,
        "start_time": "2023-03-28T03:27:15.720Z"
      },
      {
        "duration": 42,
        "start_time": "2023-03-28T03:27:27.393Z"
      },
      {
        "duration": 3,
        "start_time": "2023-03-28T03:27:49.351Z"
      },
      {
        "duration": 30,
        "start_time": "2023-03-28T03:27:50.592Z"
      },
      {
        "duration": 9,
        "start_time": "2023-03-28T03:27:51.720Z"
      },
      {
        "duration": 11,
        "start_time": "2023-03-28T03:28:08.841Z"
      },
      {
        "duration": 14,
        "start_time": "2023-03-28T03:33:22.283Z"
      },
      {
        "duration": 4,
        "start_time": "2023-03-28T03:33:44.027Z"
      },
      {
        "duration": 8,
        "start_time": "2023-03-28T03:33:53.757Z"
      },
      {
        "duration": 6,
        "start_time": "2023-03-28T03:34:13.331Z"
      },
      {
        "duration": 3,
        "start_time": "2023-03-28T03:34:27.811Z"
      },
      {
        "duration": 840,
        "start_time": "2023-03-28T03:38:44.605Z"
      },
      {
        "duration": 32,
        "start_time": "2023-03-28T03:38:45.884Z"
      },
      {
        "duration": 17,
        "start_time": "2023-03-28T03:39:22.234Z"
      },
      {
        "duration": 3,
        "start_time": "2023-03-28T03:39:38.054Z"
      },
      {
        "duration": 31,
        "start_time": "2023-03-28T03:39:40.566Z"
      },
      {
        "duration": 9,
        "start_time": "2023-03-28T03:39:41.085Z"
      },
      {
        "duration": 10,
        "start_time": "2023-03-28T03:39:41.605Z"
      },
      {
        "duration": 4,
        "start_time": "2023-03-28T03:39:42.685Z"
      },
      {
        "duration": 4,
        "start_time": "2023-03-28T03:39:51.655Z"
      },
      {
        "duration": 12,
        "start_time": "2023-03-28T03:40:51.438Z"
      },
      {
        "duration": 11,
        "start_time": "2023-03-28T03:41:54.607Z"
      },
      {
        "duration": 9,
        "start_time": "2023-03-28T03:42:03.623Z"
      },
      {
        "duration": 30,
        "start_time": "2023-03-28T03:42:20.711Z"
      },
      {
        "duration": 8,
        "start_time": "2023-03-28T03:42:23.352Z"
      },
      {
        "duration": 3,
        "start_time": "2023-03-28T03:42:53.895Z"
      },
      {
        "duration": 29,
        "start_time": "2023-03-28T03:42:55.895Z"
      },
      {
        "duration": 9,
        "start_time": "2023-03-28T03:42:56.367Z"
      },
      {
        "duration": 12,
        "start_time": "2023-03-28T03:42:56.711Z"
      },
      {
        "duration": 4,
        "start_time": "2023-03-28T03:42:57.890Z"
      },
      {
        "duration": 4,
        "start_time": "2023-03-28T03:42:58.455Z"
      },
      {
        "duration": 3,
        "start_time": "2023-03-28T03:42:58.943Z"
      },
      {
        "duration": 30,
        "start_time": "2023-03-28T03:43:40.387Z"
      },
      {
        "duration": 23,
        "start_time": "2023-03-28T03:44:32.912Z"
      },
      {
        "duration": 21,
        "start_time": "2023-03-28T03:45:29.018Z"
      },
      {
        "duration": 21,
        "start_time": "2023-03-28T03:46:51.235Z"
      },
      {
        "duration": 23,
        "start_time": "2023-03-28T03:48:51.467Z"
      },
      {
        "duration": 25,
        "start_time": "2023-03-28T03:49:10.275Z"
      },
      {
        "duration": 23,
        "start_time": "2023-03-28T03:49:58.227Z"
      },
      {
        "duration": 25,
        "start_time": "2023-03-28T03:52:03.837Z"
      },
      {
        "duration": 8,
        "start_time": "2023-03-28T03:52:36.084Z"
      },
      {
        "duration": 3,
        "start_time": "2023-03-28T03:52:55.940Z"
      },
      {
        "duration": 30,
        "start_time": "2023-03-28T03:53:02.644Z"
      },
      {
        "duration": 21,
        "start_time": "2023-03-28T03:53:45.189Z"
      },
      {
        "duration": 40,
        "start_time": "2023-03-28T04:12:03.730Z"
      },
      {
        "duration": 31,
        "start_time": "2023-03-28T04:15:02.138Z"
      },
      {
        "duration": 24,
        "start_time": "2023-03-28T04:20:25.724Z"
      },
      {
        "duration": 11,
        "start_time": "2023-03-28T04:26:08.175Z"
      },
      {
        "duration": 16,
        "start_time": "2023-03-28T04:27:59.042Z"
      },
      {
        "duration": 17,
        "start_time": "2023-03-28T04:29:18.593Z"
      },
      {
        "duration": 33,
        "start_time": "2023-03-28T04:30:31.811Z"
      },
      {
        "duration": 16,
        "start_time": "2023-03-28T04:31:20.562Z"
      },
      {
        "duration": 37,
        "start_time": "2023-03-28T04:31:41.095Z"
      },
      {
        "duration": 33,
        "start_time": "2023-03-28T04:33:13.755Z"
      },
      {
        "duration": 61,
        "start_time": "2023-03-28T04:41:37.751Z"
      },
      {
        "duration": 10,
        "start_time": "2023-03-28T04:41:52.663Z"
      },
      {
        "duration": 3,
        "start_time": "2023-03-28T04:42:15.551Z"
      },
      {
        "duration": 10,
        "start_time": "2023-03-28T04:42:20.151Z"
      },
      {
        "duration": 18,
        "start_time": "2023-03-28T04:42:47.423Z"
      },
      {
        "duration": 368,
        "start_time": "2023-03-28T04:43:26.380Z"
      },
      {
        "duration": 1158,
        "start_time": "2023-03-28T04:44:38.369Z"
      },
      {
        "duration": 2383,
        "start_time": "2023-03-28T04:44:50.776Z"
      },
      {
        "duration": 361,
        "start_time": "2023-03-28T04:45:11.848Z"
      },
      {
        "duration": 4141,
        "start_time": "2023-03-28T04:45:21.240Z"
      },
      {
        "duration": 428,
        "start_time": "2023-03-28T04:45:31.681Z"
      },
      {
        "duration": 11,
        "start_time": "2023-03-28T04:47:58.809Z"
      },
      {
        "duration": 16,
        "start_time": "2023-03-28T04:48:30.084Z"
      },
      {
        "duration": 6,
        "start_time": "2023-03-28T04:49:01.051Z"
      },
      {
        "duration": 10,
        "start_time": "2023-03-28T04:52:09.397Z"
      },
      {
        "duration": 4,
        "start_time": "2023-03-28T04:52:42.468Z"
      },
      {
        "duration": 143,
        "start_time": "2023-03-28T04:52:46.996Z"
      },
      {
        "duration": 68,
        "start_time": "2023-03-28T05:12:10.119Z"
      },
      {
        "duration": 12,
        "start_time": "2023-03-28T05:12:15.032Z"
      },
      {
        "duration": 9,
        "start_time": "2023-03-28T05:12:22.895Z"
      },
      {
        "duration": 5,
        "start_time": "2023-03-28T05:12:26.175Z"
      },
      {
        "duration": 14,
        "start_time": "2023-03-28T05:12:38.303Z"
      },
      {
        "duration": 18,
        "start_time": "2023-03-28T05:13:21.593Z"
      },
      {
        "duration": 12,
        "start_time": "2023-03-28T05:13:38.567Z"
      },
      {
        "duration": 11,
        "start_time": "2023-03-28T05:13:43.824Z"
      },
      {
        "duration": 5,
        "start_time": "2023-03-28T05:13:54.119Z"
      },
      {
        "duration": 9,
        "start_time": "2023-03-28T05:14:05.425Z"
      },
      {
        "duration": 9,
        "start_time": "2023-03-28T05:18:19.635Z"
      },
      {
        "duration": 4,
        "start_time": "2023-03-28T05:18:32.291Z"
      },
      {
        "duration": 6,
        "start_time": "2023-03-28T05:18:32.778Z"
      },
      {
        "duration": 22,
        "start_time": "2023-03-28T05:18:34.706Z"
      },
      {
        "duration": 28,
        "start_time": "2023-03-28T05:18:38.667Z"
      },
      {
        "duration": 392,
        "start_time": "2023-03-28T05:18:43.282Z"
      },
      {
        "duration": 40,
        "start_time": "2023-03-28T05:18:45.540Z"
      },
      {
        "duration": 11,
        "start_time": "2023-03-28T05:20:35.925Z"
      },
      {
        "duration": 12,
        "start_time": "2023-03-28T05:21:04.668Z"
      },
      {
        "duration": 11,
        "start_time": "2023-03-28T05:21:13.260Z"
      },
      {
        "duration": 9,
        "start_time": "2023-03-28T05:21:18.212Z"
      },
      {
        "duration": 11,
        "start_time": "2023-03-28T05:21:39.220Z"
      },
      {
        "duration": 9,
        "start_time": "2023-03-28T05:21:44.948Z"
      },
      {
        "duration": 9,
        "start_time": "2023-03-28T05:21:49.204Z"
      },
      {
        "duration": 11,
        "start_time": "2023-03-28T05:21:54.165Z"
      },
      {
        "duration": 14,
        "start_time": "2023-03-28T05:21:59.734Z"
      },
      {
        "duration": 15,
        "start_time": "2023-03-28T05:22:05.629Z"
      },
      {
        "duration": 12,
        "start_time": "2023-03-28T05:23:04.037Z"
      },
      {
        "duration": 66,
        "start_time": "2023-03-28T05:24:27.702Z"
      },
      {
        "duration": 36,
        "start_time": "2023-03-28T05:24:36.726Z"
      },
      {
        "duration": 52,
        "start_time": "2023-03-28T05:26:08.448Z"
      },
      {
        "duration": 42,
        "start_time": "2023-03-28T05:26:41.992Z"
      },
      {
        "duration": 57,
        "start_time": "2023-03-28T05:27:44.608Z"
      },
      {
        "duration": 46,
        "start_time": "2023-03-28T05:28:20.922Z"
      },
      {
        "duration": 19,
        "start_time": "2023-03-28T05:28:49.801Z"
      },
      {
        "duration": 14,
        "start_time": "2023-03-28T05:28:54.659Z"
      },
      {
        "duration": 43,
        "start_time": "2023-03-28T05:29:04.083Z"
      },
      {
        "duration": 42,
        "start_time": "2023-03-28T05:29:14.465Z"
      },
      {
        "duration": 43,
        "start_time": "2023-03-28T05:30:52.403Z"
      },
      {
        "duration": 38,
        "start_time": "2023-03-28T05:37:39.950Z"
      },
      {
        "duration": 35,
        "start_time": "2023-03-28T05:37:50.205Z"
      },
      {
        "duration": 46,
        "start_time": "2023-03-28T05:38:21.046Z"
      },
      {
        "duration": 12,
        "start_time": "2023-03-28T05:38:39.462Z"
      },
      {
        "duration": 3,
        "start_time": "2023-03-28T05:40:40.183Z"
      },
      {
        "duration": 30,
        "start_time": "2023-03-28T05:40:41.687Z"
      },
      {
        "duration": 9,
        "start_time": "2023-03-28T05:40:41.945Z"
      },
      {
        "duration": 10,
        "start_time": "2023-03-28T05:40:42.487Z"
      },
      {
        "duration": 3,
        "start_time": "2023-03-28T05:40:43.935Z"
      },
      {
        "duration": 6,
        "start_time": "2023-03-28T05:40:44.415Z"
      },
      {
        "duration": 20,
        "start_time": "2023-03-28T05:40:45.951Z"
      },
      {
        "duration": 29,
        "start_time": "2023-03-28T05:40:47.191Z"
      },
      {
        "duration": 391,
        "start_time": "2023-03-28T05:40:48.118Z"
      },
      {
        "duration": 34,
        "start_time": "2023-03-28T05:40:48.959Z"
      },
      {
        "duration": 12,
        "start_time": "2023-03-28T05:40:50.216Z"
      },
      {
        "duration": 44,
        "start_time": "2023-03-28T05:40:50.534Z"
      },
      {
        "duration": 35,
        "start_time": "2023-03-28T05:40:50.871Z"
      },
      {
        "duration": 8,
        "start_time": "2023-03-28T05:58:18.097Z"
      },
      {
        "duration": 491,
        "start_time": "2023-03-28T05:58:33.305Z"
      },
      {
        "duration": 391,
        "start_time": "2023-03-28T05:58:43.016Z"
      },
      {
        "duration": 78,
        "start_time": "2023-03-28T05:58:44.473Z"
      },
      {
        "duration": 35,
        "start_time": "2023-03-28T05:59:06.073Z"
      },
      {
        "duration": 1411,
        "start_time": "2023-03-28T05:59:07.153Z"
      },
      {
        "duration": 1424,
        "start_time": "2023-03-28T05:59:17.248Z"
      },
      {
        "duration": 1611,
        "start_time": "2023-03-28T06:01:48.793Z"
      },
      {
        "duration": 1838,
        "start_time": "2023-03-28T06:01:59.515Z"
      },
      {
        "duration": 11,
        "start_time": "2023-03-28T06:20:45.565Z"
      },
      {
        "duration": 10,
        "start_time": "2023-03-28T06:20:49.029Z"
      },
      {
        "duration": 15,
        "start_time": "2023-03-28T06:21:49.855Z"
      },
      {
        "duration": 10,
        "start_time": "2023-03-28T06:22:23.855Z"
      },
      {
        "duration": 37,
        "start_time": "2023-03-28T06:44:47.338Z"
      },
      {
        "duration": 48,
        "start_time": "2023-03-28T06:44:52.930Z"
      },
      {
        "duration": 38,
        "start_time": "2023-03-28T06:45:01.299Z"
      },
      {
        "duration": 58,
        "start_time": "2023-03-28T06:45:10.979Z"
      },
      {
        "duration": 36,
        "start_time": "2023-03-28T06:45:15.810Z"
      },
      {
        "duration": 11,
        "start_time": "2023-03-28T06:46:53.939Z"
      },
      {
        "duration": 14,
        "start_time": "2023-03-28T06:47:07.596Z"
      },
      {
        "duration": 16,
        "start_time": "2023-03-28T06:51:06.069Z"
      },
      {
        "duration": 522,
        "start_time": "2023-03-28T06:51:20.390Z"
      },
      {
        "duration": 215,
        "start_time": "2023-03-28T06:51:51.878Z"
      },
      {
        "duration": 204,
        "start_time": "2023-03-28T06:52:28.814Z"
      },
      {
        "duration": 243,
        "start_time": "2023-03-28T06:53:00.862Z"
      },
      {
        "duration": 208,
        "start_time": "2023-03-28T06:53:11.174Z"
      },
      {
        "duration": 224,
        "start_time": "2023-03-28T06:53:21.319Z"
      },
      {
        "duration": 523,
        "start_time": "2023-03-28T06:53:25.548Z"
      },
      {
        "duration": 45,
        "start_time": "2023-03-28T06:53:42.248Z"
      },
      {
        "duration": 190,
        "start_time": "2023-03-28T06:53:51.871Z"
      },
      {
        "duration": 217,
        "start_time": "2023-03-28T06:54:04.399Z"
      },
      {
        "duration": 210,
        "start_time": "2023-03-28T06:54:18.184Z"
      },
      {
        "duration": 210,
        "start_time": "2023-03-28T06:57:34.350Z"
      },
      {
        "duration": 2066,
        "start_time": "2023-03-28T07:14:33.499Z"
      },
      {
        "duration": 22,
        "start_time": "2023-03-28T07:17:13.053Z"
      },
      {
        "duration": 3,
        "start_time": "2023-03-28T07:28:20.680Z"
      },
      {
        "duration": 36,
        "start_time": "2023-03-28T07:28:20.685Z"
      },
      {
        "duration": 10,
        "start_time": "2023-03-28T07:28:20.722Z"
      },
      {
        "duration": 16,
        "start_time": "2023-03-28T07:28:20.733Z"
      },
      {
        "duration": 10,
        "start_time": "2023-03-28T07:28:20.750Z"
      },
      {
        "duration": 18,
        "start_time": "2023-03-28T07:28:20.761Z"
      },
      {
        "duration": 35,
        "start_time": "2023-03-28T07:28:20.782Z"
      },
      {
        "duration": 29,
        "start_time": "2023-03-28T07:28:20.819Z"
      },
      {
        "duration": 1725,
        "start_time": "2023-03-28T07:28:20.850Z"
      },
      {
        "duration": 1808,
        "start_time": "2023-03-28T07:28:22.577Z"
      },
      {
        "duration": 36,
        "start_time": "2023-03-28T07:28:24.386Z"
      },
      {
        "duration": 3,
        "start_time": "2023-03-28T07:31:35.813Z"
      },
      {
        "duration": 30,
        "start_time": "2023-03-28T07:31:36.884Z"
      },
      {
        "duration": 10,
        "start_time": "2023-03-28T07:31:37.374Z"
      },
      {
        "duration": 10,
        "start_time": "2023-03-28T07:31:38.204Z"
      },
      {
        "duration": 4,
        "start_time": "2023-03-28T07:31:39.218Z"
      },
      {
        "duration": 7,
        "start_time": "2023-03-28T07:31:39.707Z"
      },
      {
        "duration": 28,
        "start_time": "2023-03-28T07:31:41.235Z"
      },
      {
        "duration": 34,
        "start_time": "2023-03-28T07:31:44.842Z"
      },
      {
        "duration": 1728,
        "start_time": "2023-03-28T07:31:53.412Z"
      },
      {
        "duration": 1874,
        "start_time": "2023-03-28T07:32:00.652Z"
      },
      {
        "duration": 36,
        "start_time": "2023-03-28T07:38:53.599Z"
      },
      {
        "duration": 10,
        "start_time": "2023-03-28T07:40:02.013Z"
      },
      {
        "duration": 51,
        "start_time": "2023-03-28T07:41:17.681Z"
      },
      {
        "duration": 27,
        "start_time": "2023-03-28T07:44:31.365Z"
      },
      {
        "duration": 33,
        "start_time": "2023-03-28T07:47:37.885Z"
      },
      {
        "duration": 34,
        "start_time": "2023-03-28T07:47:45.972Z"
      },
      {
        "duration": 188,
        "start_time": "2023-03-28T07:47:47.700Z"
      },
      {
        "duration": 28,
        "start_time": "2023-03-28T07:52:58.431Z"
      },
      {
        "duration": 13,
        "start_time": "2023-03-28T07:55:56.617Z"
      },
      {
        "duration": 12,
        "start_time": "2023-03-28T07:57:39.693Z"
      },
      {
        "duration": 19,
        "start_time": "2023-03-28T07:57:55.202Z"
      },
      {
        "duration": 20,
        "start_time": "2023-03-28T07:58:13.026Z"
      },
      {
        "duration": 17,
        "start_time": "2023-03-28T07:58:19.234Z"
      },
      {
        "duration": 10,
        "start_time": "2023-03-28T08:00:13.139Z"
      },
      {
        "duration": 29,
        "start_time": "2023-03-28T08:00:17.188Z"
      },
      {
        "duration": 27,
        "start_time": "2023-03-28T08:02:43.884Z"
      },
      {
        "duration": 35,
        "start_time": "2023-03-28T08:02:45.021Z"
      },
      {
        "duration": 193,
        "start_time": "2023-03-28T08:02:45.516Z"
      },
      {
        "duration": 3,
        "start_time": "2023-03-28T08:06:26.159Z"
      },
      {
        "duration": 7,
        "start_time": "2023-03-28T08:09:06.212Z"
      },
      {
        "duration": 6,
        "start_time": "2023-03-28T08:11:07.417Z"
      },
      {
        "duration": 40,
        "start_time": "2023-03-28T08:12:51.282Z"
      },
      {
        "duration": 184,
        "start_time": "2023-03-28T08:12:53.058Z"
      },
      {
        "duration": 30,
        "start_time": "2023-03-28T08:13:29.627Z"
      },
      {
        "duration": 9,
        "start_time": "2023-03-28T08:13:33.530Z"
      },
      {
        "duration": 2102,
        "start_time": "2023-03-28T09:19:25.571Z"
      },
      {
        "duration": 61,
        "start_time": "2023-03-28T09:19:27.675Z"
      },
      {
        "duration": 16,
        "start_time": "2023-03-28T09:19:27.738Z"
      },
      {
        "duration": 12,
        "start_time": "2023-03-28T09:19:27.756Z"
      },
      {
        "duration": 8,
        "start_time": "2023-03-28T09:19:27.769Z"
      },
      {
        "duration": 7,
        "start_time": "2023-03-28T09:19:27.779Z"
      },
      {
        "duration": 15,
        "start_time": "2023-03-28T09:19:27.788Z"
      },
      {
        "duration": 31,
        "start_time": "2023-03-28T09:19:27.804Z"
      },
      {
        "duration": 2270,
        "start_time": "2023-03-28T09:19:27.837Z"
      },
      {
        "duration": 2082,
        "start_time": "2023-03-28T09:19:30.110Z"
      },
      {
        "duration": 51,
        "start_time": "2023-03-28T09:19:32.193Z"
      },
      {
        "duration": 10,
        "start_time": "2023-03-28T09:19:32.245Z"
      },
      {
        "duration": 46,
        "start_time": "2023-03-28T09:19:32.257Z"
      },
      {
        "duration": 42,
        "start_time": "2023-03-28T09:19:32.305Z"
      },
      {
        "duration": 240,
        "start_time": "2023-03-28T09:19:32.349Z"
      },
      {
        "duration": 37,
        "start_time": "2023-03-28T09:19:32.591Z"
      },
      {
        "duration": 5,
        "start_time": "2023-03-28T09:19:32.630Z"
      },
      {
        "duration": 5,
        "start_time": "2023-03-28T09:20:15.357Z"
      },
      {
        "duration": 1049,
        "start_time": "2023-03-28T13:48:10.200Z"
      },
      {
        "duration": 64,
        "start_time": "2023-03-28T13:48:13.116Z"
      },
      {
        "duration": 16,
        "start_time": "2023-03-28T13:48:13.860Z"
      },
      {
        "duration": 10,
        "start_time": "2023-03-28T13:48:14.455Z"
      },
      {
        "duration": 4,
        "start_time": "2023-03-28T13:48:16.650Z"
      },
      {
        "duration": 6,
        "start_time": "2023-03-28T13:48:17.171Z"
      },
      {
        "duration": 107,
        "start_time": "2023-03-28T13:48:18.692Z"
      },
      {
        "duration": 11,
        "start_time": "2023-03-28T13:48:30.260Z"
      },
      {
        "duration": 4,
        "start_time": "2023-03-28T13:48:45.292Z"
      },
      {
        "duration": 4,
        "start_time": "2023-03-28T13:51:31.934Z"
      },
      {
        "duration": 10,
        "start_time": "2023-03-28T13:53:30.256Z"
      },
      {
        "duration": 5,
        "start_time": "2023-03-28T13:54:05.879Z"
      },
      {
        "duration": 5,
        "start_time": "2023-03-28T13:54:17.112Z"
      },
      {
        "duration": 15,
        "start_time": "2023-03-28T14:01:11.563Z"
      },
      {
        "duration": 28,
        "start_time": "2023-03-28T14:01:13.962Z"
      },
      {
        "duration": 4,
        "start_time": "2023-03-28T14:01:42.004Z"
      },
      {
        "duration": 3,
        "start_time": "2023-03-28T14:01:55.723Z"
      },
      {
        "duration": 2,
        "start_time": "2023-03-28T14:02:15.108Z"
      },
      {
        "duration": 404,
        "start_time": "2023-03-28T14:02:28.082Z"
      },
      {
        "duration": 12,
        "start_time": "2023-03-28T14:02:55.891Z"
      },
      {
        "duration": 999,
        "start_time": "2023-03-28T14:03:16.980Z"
      },
      {
        "duration": 1036,
        "start_time": "2023-03-28T14:03:53.532Z"
      },
      {
        "duration": 573,
        "start_time": "2023-03-28T14:05:56.597Z"
      },
      {
        "duration": 645,
        "start_time": "2023-03-28T14:06:12.700Z"
      },
      {
        "duration": 610,
        "start_time": "2023-03-28T14:06:17.668Z"
      },
      {
        "duration": 625,
        "start_time": "2023-03-28T14:06:28.373Z"
      },
      {
        "duration": 1660,
        "start_time": "2023-03-28T14:24:39.296Z"
      },
      {
        "duration": 26,
        "start_time": "2023-03-28T14:27:04.960Z"
      },
      {
        "duration": 100,
        "start_time": "2023-03-28T14:27:37.792Z"
      },
      {
        "duration": 92,
        "start_time": "2023-03-28T14:28:01.633Z"
      },
      {
        "duration": 96,
        "start_time": "2023-03-28T14:28:16.962Z"
      },
      {
        "duration": 26,
        "start_time": "2023-03-28T14:28:26.681Z"
      },
      {
        "duration": 149,
        "start_time": "2023-03-28T14:28:54.723Z"
      },
      {
        "duration": 3,
        "start_time": "2023-03-28T14:29:02.993Z"
      },
      {
        "duration": 149,
        "start_time": "2023-03-28T14:29:04.202Z"
      },
      {
        "duration": 26,
        "start_time": "2023-03-28T14:29:11.473Z"
      },
      {
        "duration": 9,
        "start_time": "2023-03-28T14:29:12.209Z"
      },
      {
        "duration": 11,
        "start_time": "2023-03-28T14:29:12.737Z"
      },
      {
        "duration": 3,
        "start_time": "2023-03-28T14:29:14.657Z"
      },
      {
        "duration": 7,
        "start_time": "2023-03-28T14:29:15.081Z"
      },
      {
        "duration": 4,
        "start_time": "2023-03-28T14:29:16.546Z"
      },
      {
        "duration": 16,
        "start_time": "2023-03-28T14:29:19.059Z"
      },
      {
        "duration": 27,
        "start_time": "2023-03-28T14:29:20.553Z"
      },
      {
        "duration": 3,
        "start_time": "2023-03-28T14:29:22.961Z"
      },
      {
        "duration": 580,
        "start_time": "2023-03-28T14:29:24.169Z"
      },
      {
        "duration": 1671,
        "start_time": "2023-03-28T14:29:28.106Z"
      },
      {
        "duration": 26,
        "start_time": "2023-03-28T14:31:08.923Z"
      },
      {
        "duration": 3,
        "start_time": "2023-03-28T14:31:58.355Z"
      },
      {
        "duration": 25,
        "start_time": "2023-03-28T14:32:00.002Z"
      },
      {
        "duration": 9,
        "start_time": "2023-03-28T14:32:00.442Z"
      },
      {
        "duration": 10,
        "start_time": "2023-03-28T14:32:00.690Z"
      },
      {
        "duration": 3,
        "start_time": "2023-03-28T14:32:01.515Z"
      },
      {
        "duration": 6,
        "start_time": "2023-03-28T14:32:01.758Z"
      },
      {
        "duration": 6,
        "start_time": "2023-03-28T14:32:02.616Z"
      },
      {
        "duration": 14,
        "start_time": "2023-03-28T14:32:03.844Z"
      },
      {
        "duration": 28,
        "start_time": "2023-03-28T14:32:04.931Z"
      },
      {
        "duration": 2,
        "start_time": "2023-03-28T14:32:07.429Z"
      },
      {
        "duration": 498,
        "start_time": "2023-03-28T14:32:08.754Z"
      },
      {
        "duration": 1660,
        "start_time": "2023-03-28T14:32:11.563Z"
      },
      {
        "duration": 30,
        "start_time": "2023-03-28T14:32:18.483Z"
      },
      {
        "duration": 40,
        "start_time": "2023-03-28T14:36:18.413Z"
      },
      {
        "duration": 48,
        "start_time": "2023-03-28T14:41:00.228Z"
      },
      {
        "duration": 2,
        "start_time": "2023-03-28T14:47:47.659Z"
      },
      {
        "duration": 38,
        "start_time": "2023-03-28T14:48:23.068Z"
      },
      {
        "duration": 2,
        "start_time": "2023-03-28T14:48:27.436Z"
      },
      {
        "duration": 3,
        "start_time": "2023-03-28T14:48:28.964Z"
      },
      {
        "duration": 2,
        "start_time": "2023-03-28T14:48:59.124Z"
      },
      {
        "duration": 3,
        "start_time": "2023-03-28T14:49:59.741Z"
      },
      {
        "duration": 38,
        "start_time": "2023-03-28T14:50:01.844Z"
      },
      {
        "duration": 26,
        "start_time": "2023-03-28T14:50:38.909Z"
      },
      {
        "duration": 25,
        "start_time": "2023-03-28T14:51:06.004Z"
      },
      {
        "duration": 3,
        "start_time": "2023-03-28T14:55:56.047Z"
      },
      {
        "duration": 6,
        "start_time": "2023-03-28T14:55:56.698Z"
      },
      {
        "duration": 34,
        "start_time": "2023-03-28T14:55:58.455Z"
      },
      {
        "duration": 7,
        "start_time": "2023-03-28T14:55:58.699Z"
      },
      {
        "duration": 3,
        "start_time": "2023-03-28T15:23:47.305Z"
      },
      {
        "duration": 2,
        "start_time": "2023-03-28T15:24:04.578Z"
      },
      {
        "duration": 25,
        "start_time": "2023-03-28T15:24:06.241Z"
      },
      {
        "duration": 3,
        "start_time": "2023-03-28T15:24:08.513Z"
      },
      {
        "duration": 2,
        "start_time": "2023-03-28T15:24:08.978Z"
      },
      {
        "duration": 2,
        "start_time": "2023-03-28T15:24:11.082Z"
      },
      {
        "duration": 28,
        "start_time": "2023-03-28T15:24:16.095Z"
      },
      {
        "duration": 5,
        "start_time": "2023-03-28T15:24:16.489Z"
      }
    ],
    "kernelspec": {
      "display_name": "Python 3 (ipykernel)",
      "language": "python",
      "name": "python3"
    },
    "language_info": {
      "codemirror_mode": {
        "name": "ipython",
        "version": 3
      },
      "file_extension": ".py",
      "mimetype": "text/x-python",
      "name": "python",
      "nbconvert_exporter": "python",
      "pygments_lexer": "ipython3",
      "version": "3.9.5"
    },
    "toc": {
      "base_numbering": 1,
      "nav_menu": {},
      "number_sections": true,
      "sideBar": true,
      "skip_h1_title": true,
      "title_cell": "Table of Contents",
      "title_sidebar": "Contents",
      "toc_cell": false,
      "toc_position": {},
      "toc_section_display": true,
      "toc_window_display": false
    },
    "colab": {
      "provenance": []
    }
  },
  "nbformat": 4,
  "nbformat_minor": 0
}