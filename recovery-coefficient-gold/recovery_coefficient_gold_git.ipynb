{
  "cells": [
    {
      "cell_type": "markdown",
      "metadata": {
        "id": "4fnTRRLtDdhC"
      },
      "source": [
        "# Восстановление золота из золотосодержащей руды\n",
        "\n",
        "Подготовьте прототип модели машинного обучения для «Цифры». Компания разрабатывает решения для эффективной работы промышленных предприятий.\n",
        "\n",
        "Модель должна предсказать коэффициент восстановления золота из золотосодержащей руды. Используйте данные с параметрами добычи и очистки.\n",
        "\n",
        "Модель поможет оптимизировать производство, чтобы не запускать предприятие с убыточными характеристиками.\n",
        "\n",
        "Вам нужно:\n",
        "\n",
        "1. Подготовить данные;\n",
        "2. Провести исследовательский анализ данных;\n",
        "3. Построить и обучить модель.\n",
        "\n",
        "Чтобы выполнить проект, обращайтесь к библиотекам *pandas*, *matplotlib* и *sklearn.* Вам поможет их документация."
      ]
    },
    {
      "cell_type": "markdown",
      "metadata": {
        "id": "9ePYxZ9FDdhC"
      },
      "source": [
        "# Технологический процесс восстановления золота\n",
        "\n",
        "**1. Флотация**\n",
        "\n",
        "Во флотационную установку подаётся смесь золотосодержащей руды. После обогащения получается черновой концентрат и «отвальные хвосты», то есть остатки продукта с низкой концентрацией ценных металлов.<br/><br/>\n",
        "На стабильность этого процесса влияет непостоянное и неоптимальное физико-химическое состояние флотационной пульпы (смеси твёрдых частиц и жидкости).<br/>\n",
        "\n",
        "**2. Очистка**\n",
        "\n",
        "Черновой концентрат проходит две очистки. На выходе получается финальный концентрат и новые отвальные хвосты.\n",
        "\n",
        "**Описание данных**\n",
        "\n",
        "**Технологический процесс**\n",
        "\n",
        "- Rougher feed — исходное сырье\n",
        "- Rougher additions (или reagent additions) — флотационные реагенты:\n",
        "    - Xanthate,\n",
        "    - Sulphate,\n",
        "    - Depressant\n",
        "- Xanthate — ксантогенат (промотер, или активатор флотации);\n",
        "- Sulphate — сульфат (на данном производстве сульфид натрия);\n",
        "- Depressant — депрессант (силикат натрия).\n",
        "- Rougher process (англ. «грубый процесс») — флотация\n",
        "- Rougher tails — отвальные хвосты\n",
        "- Float banks — флотационная установка\n",
        "- Cleaner process — очистка\n",
        "- Rougher Au — черновой концентрат золота\n",
        "- Final Au — финальный концентрат золота\n",
        "\n",
        "**Параметры этапов**\n",
        "- air amount — объём воздуха\n",
        "- fluid levels — уровень жидкости\n",
        "- feed size — размер гранул сырья\n",
        "- feed rate — скорость подачи\n",
        "\n",
        "**Наименование признаков**\n",
        "\n",
        "Наименование признаков должно быть такое:\n",
        "\n",
        "**[этап].[тип_параметра].[название_параметра]**\n",
        "\n",
        "Пример: rougher.input.feed_ag\n",
        "\n",
        "**Возможные значения для блока [этап]:**\n",
        "\n",
        "- rougher — флотация\n",
        "- primary_cleaner — первичная очистка\n",
        "- secondary_cleaner — вторичная очистка\n",
        "- final — финальные характеристики\n",
        "\n",
        "\n",
        "**Возможные значения для блока [тип_параметра]:**\n",
        "\n",
        "- input — параметры сырья\n",
        "- output — параметры продукта\n",
        "- state — параметры, характеризующие текущее состояние этапа\n",
        "- calculation — расчётные характеристики"
      ]
    },
    {
      "cell_type": "markdown",
      "metadata": {
        "id": "qmH-5xX7DdhD"
      },
      "source": [
        "## Подготовка данных"
      ]
    },
    {
      "cell_type": "markdown",
      "metadata": {
        "id": "CcMcdhbiDdhD"
      },
      "source": [
        "**1.1. Откройте файлы и изучите их.**"
      ]
    },
    {
      "cell_type": "code",
      "execution_count": null,
      "metadata": {
        "id": "3WdH5zhxDdhE"
      },
      "outputs": [],
      "source": [
        "import pandas as pd\n",
        "import matplotlib.pyplot  as plt\n",
        "from sklearn.metrics import mean_absolute_error\n",
        "import numpy as np\n",
        "import seaborn as sns\n",
        "from sklearn.preprocessing import StandardScaler\n",
        "\n",
        "from sklearn.ensemble import RandomForestRegressor\n",
        "from sklearn.tree import DecisionTreeRegressor\n",
        "from sklearn.linear_model import LinearRegression\n",
        "\n",
        "from sklearn.pipeline import make_pipeline\n",
        "\n",
        "from sklearn import linear_model\n",
        "from sklearn.model_selection import cross_val_score\n",
        "\n",
        "from sklearn.model_selection import GridSearchCV\n",
        "from sklearn.metrics import make_scorer\n",
        "\n",
        "from sklearn.dummy import DummyRegressor"
      ]
    },
    {
      "cell_type": "code",
      "execution_count": null,
      "metadata": {
        "id": "93_E7wD-DdhF"
      },
      "outputs": [],
      "source": [
        "data_train = pd.read_csv(\"/datasets/gold_industry_train.csv\")\n",
        "data_test = pd.read_csv(\"/datasets/gold_industry_test.csv\")\n",
        "data_real = pd.read_csv(\"/datasets/gold_industry_full.csv\")"
      ]
    },
    {
      "cell_type": "markdown",
      "metadata": {
        "id": "_GJuAaYMDdhG"
      },
      "source": [
        "Загрузили данные из трех датасетов. Посмотрим, что это за данные."
      ]
    },
    {
      "cell_type": "code",
      "execution_count": null,
      "metadata": {
        "id": "zOuC_hG5DdhG",
        "outputId": "f2b5a307-89ab-4bf3-eb45-6fe341cead57"
      },
      "outputs": [
        {
          "data": {
            "text/html": [
              "<div>\n",
              "<style scoped>\n",
              "    .dataframe tbody tr th:only-of-type {\n",
              "        vertical-align: middle;\n",
              "    }\n",
              "\n",
              "    .dataframe tbody tr th {\n",
              "        vertical-align: top;\n",
              "    }\n",
              "\n",
              "    .dataframe thead th {\n",
              "        text-align: right;\n",
              "    }\n",
              "</style>\n",
              "<table border=\"1\" class=\"dataframe\">\n",
              "  <thead>\n",
              "    <tr style=\"text-align: right;\">\n",
              "      <th></th>\n",
              "      <th>date</th>\n",
              "      <th>rougher.input.feed_au</th>\n",
              "      <th>rougher.input.feed_ag</th>\n",
              "      <th>rougher.input.feed_pb</th>\n",
              "      <th>rougher.input.feed_sol</th>\n",
              "      <th>rougher.input.feed_rate</th>\n",
              "      <th>rougher.input.feed_size</th>\n",
              "      <th>rougher.input.floatbank10_sulfate</th>\n",
              "      <th>rougher.input.floatbank10_xanthate</th>\n",
              "      <th>rougher.state.floatbank10_a_air</th>\n",
              "      <th>...</th>\n",
              "      <th>secondary_cleaner.output.tail_sol</th>\n",
              "      <th>final.output.concentrate_au</th>\n",
              "      <th>final.output.concentrate_ag</th>\n",
              "      <th>final.output.concentrate_pb</th>\n",
              "      <th>final.output.concentrate_sol</th>\n",
              "      <th>final.output.recovery</th>\n",
              "      <th>final.output.tail_au</th>\n",
              "      <th>final.output.tail_ag</th>\n",
              "      <th>final.output.tail_pb</th>\n",
              "      <th>final.output.tail_sol</th>\n",
              "    </tr>\n",
              "  </thead>\n",
              "  <tbody>\n",
              "    <tr>\n",
              "      <th>0</th>\n",
              "      <td>2016-01-15 00:00:00</td>\n",
              "      <td>6.486150</td>\n",
              "      <td>6.100378</td>\n",
              "      <td>2.284912</td>\n",
              "      <td>36.808594</td>\n",
              "      <td>523.546326</td>\n",
              "      <td>55.486599</td>\n",
              "      <td>11.986616</td>\n",
              "      <td>6.007990</td>\n",
              "      <td>999.706909</td>\n",
              "      <td>...</td>\n",
              "      <td>8.764648</td>\n",
              "      <td>42.192020</td>\n",
              "      <td>6.055403</td>\n",
              "      <td>9.889648</td>\n",
              "      <td>5.507324</td>\n",
              "      <td>70.541216</td>\n",
              "      <td>2.143149</td>\n",
              "      <td>10.411962</td>\n",
              "      <td>0.895447</td>\n",
              "      <td>16.904297</td>\n",
              "    </tr>\n",
              "    <tr>\n",
              "      <th>1</th>\n",
              "      <td>2016-01-15 01:00:00</td>\n",
              "      <td>6.478583</td>\n",
              "      <td>6.161113</td>\n",
              "      <td>2.266033</td>\n",
              "      <td>35.753385</td>\n",
              "      <td>525.290581</td>\n",
              "      <td>57.278666</td>\n",
              "      <td>11.971193</td>\n",
              "      <td>6.005766</td>\n",
              "      <td>1000.286398</td>\n",
              "      <td>...</td>\n",
              "      <td>9.001494</td>\n",
              "      <td>42.701629</td>\n",
              "      <td>6.029369</td>\n",
              "      <td>9.968944</td>\n",
              "      <td>5.257781</td>\n",
              "      <td>69.266198</td>\n",
              "      <td>2.224930</td>\n",
              "      <td>10.462676</td>\n",
              "      <td>0.927452</td>\n",
              "      <td>16.634514</td>\n",
              "    </tr>\n",
              "    <tr>\n",
              "      <th>2</th>\n",
              "      <td>2016-01-15 02:00:00</td>\n",
              "      <td>6.362222</td>\n",
              "      <td>6.116455</td>\n",
              "      <td>2.159622</td>\n",
              "      <td>35.971630</td>\n",
              "      <td>530.026610</td>\n",
              "      <td>57.510649</td>\n",
              "      <td>11.920603</td>\n",
              "      <td>6.197377</td>\n",
              "      <td>999.719565</td>\n",
              "      <td>...</td>\n",
              "      <td>8.842896</td>\n",
              "      <td>42.657501</td>\n",
              "      <td>6.055926</td>\n",
              "      <td>10.213995</td>\n",
              "      <td>5.383759</td>\n",
              "      <td>68.116445</td>\n",
              "      <td>2.257889</td>\n",
              "      <td>10.507046</td>\n",
              "      <td>0.953716</td>\n",
              "      <td>16.208849</td>\n",
              "    </tr>\n",
              "    <tr>\n",
              "      <th>3</th>\n",
              "      <td>2016-01-15 03:00:00</td>\n",
              "      <td>6.118189</td>\n",
              "      <td>6.043309</td>\n",
              "      <td>2.037807</td>\n",
              "      <td>36.862241</td>\n",
              "      <td>542.590390</td>\n",
              "      <td>57.792734</td>\n",
              "      <td>11.630094</td>\n",
              "      <td>6.203177</td>\n",
              "      <td>999.814770</td>\n",
              "      <td>...</td>\n",
              "      <td>9.122857</td>\n",
              "      <td>42.689819</td>\n",
              "      <td>6.047977</td>\n",
              "      <td>9.977019</td>\n",
              "      <td>4.858634</td>\n",
              "      <td>68.347543</td>\n",
              "      <td>2.146849</td>\n",
              "      <td>10.422762</td>\n",
              "      <td>0.883763</td>\n",
              "      <td>16.532835</td>\n",
              "    </tr>\n",
              "    <tr>\n",
              "      <th>4</th>\n",
              "      <td>2016-01-15 04:00:00</td>\n",
              "      <td>5.663707</td>\n",
              "      <td>6.060915</td>\n",
              "      <td>1.786875</td>\n",
              "      <td>34.347666</td>\n",
              "      <td>540.531893</td>\n",
              "      <td>56.047189</td>\n",
              "      <td>10.957755</td>\n",
              "      <td>6.198826</td>\n",
              "      <td>999.678690</td>\n",
              "      <td>...</td>\n",
              "      <td>8.871028</td>\n",
              "      <td>42.774141</td>\n",
              "      <td>6.148599</td>\n",
              "      <td>10.142511</td>\n",
              "      <td>4.939416</td>\n",
              "      <td>66.927016</td>\n",
              "      <td>2.055292</td>\n",
              "      <td>10.360302</td>\n",
              "      <td>0.792826</td>\n",
              "      <td>16.525686</td>\n",
              "    </tr>\n",
              "    <tr>\n",
              "      <th>5</th>\n",
              "      <td>2016-01-15 05:00:00</td>\n",
              "      <td>5.687168</td>\n",
              "      <td>5.801920</td>\n",
              "      <td>1.879351</td>\n",
              "      <td>35.470082</td>\n",
              "      <td>546.173470</td>\n",
              "      <td>57.469578</td>\n",
              "      <td>11.072517</td>\n",
              "      <td>6.200383</td>\n",
              "      <td>999.934134</td>\n",
              "      <td>...</td>\n",
              "      <td>9.302669</td>\n",
              "      <td>41.633678</td>\n",
              "      <td>6.482968</td>\n",
              "      <td>10.049416</td>\n",
              "      <td>5.480257</td>\n",
              "      <td>69.465816</td>\n",
              "      <td>1.918586</td>\n",
              "      <td>10.182708</td>\n",
              "      <td>0.664118</td>\n",
              "      <td>16.999638</td>\n",
              "    </tr>\n",
              "    <tr>\n",
              "      <th>6</th>\n",
              "      <td>2016-01-15 06:00:00</td>\n",
              "      <td>6.038436</td>\n",
              "      <td>6.056253</td>\n",
              "      <td>2.105501</td>\n",
              "      <td>34.920570</td>\n",
              "      <td>523.376439</td>\n",
              "      <td>56.674647</td>\n",
              "      <td>11.535899</td>\n",
              "      <td>6.204974</td>\n",
              "      <td>999.832373</td>\n",
              "      <td>...</td>\n",
              "      <td>9.103047</td>\n",
              "      <td>41.995316</td>\n",
              "      <td>6.533849</td>\n",
              "      <td>10.058141</td>\n",
              "      <td>4.569100</td>\n",
              "      <td>69.300835</td>\n",
              "      <td>2.058913</td>\n",
              "      <td>10.304598</td>\n",
              "      <td>0.807342</td>\n",
              "      <td>16.723575</td>\n",
              "    </tr>\n",
              "    <tr>\n",
              "      <th>7</th>\n",
              "      <td>2016-01-15 07:00:00</td>\n",
              "      <td>6.433854</td>\n",
              "      <td>5.955053</td>\n",
              "      <td>2.310432</td>\n",
              "      <td>36.091386</td>\n",
              "      <td>549.842749</td>\n",
              "      <td>56.730325</td>\n",
              "      <td>12.557906</td>\n",
              "      <td>6.799275</td>\n",
              "      <td>1000.166602</td>\n",
              "      <td>...</td>\n",
              "      <td>9.369209</td>\n",
              "      <td>42.452727</td>\n",
              "      <td>6.130823</td>\n",
              "      <td>9.935481</td>\n",
              "      <td>4.389813</td>\n",
              "      <td>70.230976</td>\n",
              "      <td>2.143437</td>\n",
              "      <td>10.443288</td>\n",
              "      <td>0.949346</td>\n",
              "      <td>16.689959</td>\n",
              "    </tr>\n",
              "    <tr>\n",
              "      <th>8</th>\n",
              "      <td>2016-01-15 08:00:00</td>\n",
              "      <td>6.526612</td>\n",
              "      <td>5.878084</td>\n",
              "      <td>2.391713</td>\n",
              "      <td>35.753879</td>\n",
              "      <td>560.115242</td>\n",
              "      <td>56.649893</td>\n",
              "      <td>13.166128</td>\n",
              "      <td>6.798659</td>\n",
              "      <td>1000.026864</td>\n",
              "      <td>...</td>\n",
              "      <td>9.437044</td>\n",
              "      <td>43.404078</td>\n",
              "      <td>5.834140</td>\n",
              "      <td>10.071156</td>\n",
              "      <td>4.876389</td>\n",
              "      <td>69.688595</td>\n",
              "      <td>2.209881</td>\n",
              "      <td>10.420140</td>\n",
              "      <td>1.065453</td>\n",
              "      <td>17.201948</td>\n",
              "    </tr>\n",
              "    <tr>\n",
              "      <th>9</th>\n",
              "      <td>2016-01-15 09:00:00</td>\n",
              "      <td>6.747693</td>\n",
              "      <td>5.974832</td>\n",
              "      <td>2.539114</td>\n",
              "      <td>38.553938</td>\n",
              "      <td>566.616045</td>\n",
              "      <td>60.308763</td>\n",
              "      <td>13.996130</td>\n",
              "      <td>6.800263</td>\n",
              "      <td>1000.332327</td>\n",
              "      <td>...</td>\n",
              "      <td>9.582874</td>\n",
              "      <td>43.487291</td>\n",
              "      <td>5.706261</td>\n",
              "      <td>10.242511</td>\n",
              "      <td>5.214161</td>\n",
              "      <td>70.973641</td>\n",
              "      <td>2.200997</td>\n",
              "      <td>10.473539</td>\n",
              "      <td>1.171183</td>\n",
              "      <td>17.717049</td>\n",
              "    </tr>\n",
              "  </tbody>\n",
              "</table>\n",
              "<p>10 rows × 87 columns</p>\n",
              "</div>"
            ],
            "text/plain": [
              "                  date  rougher.input.feed_au  rougher.input.feed_ag  \\\n",
              "0  2016-01-15 00:00:00               6.486150               6.100378   \n",
              "1  2016-01-15 01:00:00               6.478583               6.161113   \n",
              "2  2016-01-15 02:00:00               6.362222               6.116455   \n",
              "3  2016-01-15 03:00:00               6.118189               6.043309   \n",
              "4  2016-01-15 04:00:00               5.663707               6.060915   \n",
              "5  2016-01-15 05:00:00               5.687168               5.801920   \n",
              "6  2016-01-15 06:00:00               6.038436               6.056253   \n",
              "7  2016-01-15 07:00:00               6.433854               5.955053   \n",
              "8  2016-01-15 08:00:00               6.526612               5.878084   \n",
              "9  2016-01-15 09:00:00               6.747693               5.974832   \n",
              "\n",
              "   rougher.input.feed_pb  rougher.input.feed_sol  rougher.input.feed_rate  \\\n",
              "0               2.284912               36.808594               523.546326   \n",
              "1               2.266033               35.753385               525.290581   \n",
              "2               2.159622               35.971630               530.026610   \n",
              "3               2.037807               36.862241               542.590390   \n",
              "4               1.786875               34.347666               540.531893   \n",
              "5               1.879351               35.470082               546.173470   \n",
              "6               2.105501               34.920570               523.376439   \n",
              "7               2.310432               36.091386               549.842749   \n",
              "8               2.391713               35.753879               560.115242   \n",
              "9               2.539114               38.553938               566.616045   \n",
              "\n",
              "   rougher.input.feed_size  rougher.input.floatbank10_sulfate  \\\n",
              "0                55.486599                          11.986616   \n",
              "1                57.278666                          11.971193   \n",
              "2                57.510649                          11.920603   \n",
              "3                57.792734                          11.630094   \n",
              "4                56.047189                          10.957755   \n",
              "5                57.469578                          11.072517   \n",
              "6                56.674647                          11.535899   \n",
              "7                56.730325                          12.557906   \n",
              "8                56.649893                          13.166128   \n",
              "9                60.308763                          13.996130   \n",
              "\n",
              "   rougher.input.floatbank10_xanthate  rougher.state.floatbank10_a_air  ...  \\\n",
              "0                            6.007990                       999.706909  ...   \n",
              "1                            6.005766                      1000.286398  ...   \n",
              "2                            6.197377                       999.719565  ...   \n",
              "3                            6.203177                       999.814770  ...   \n",
              "4                            6.198826                       999.678690  ...   \n",
              "5                            6.200383                       999.934134  ...   \n",
              "6                            6.204974                       999.832373  ...   \n",
              "7                            6.799275                      1000.166602  ...   \n",
              "8                            6.798659                      1000.026864  ...   \n",
              "9                            6.800263                      1000.332327  ...   \n",
              "\n",
              "   secondary_cleaner.output.tail_sol  final.output.concentrate_au  \\\n",
              "0                           8.764648                    42.192020   \n",
              "1                           9.001494                    42.701629   \n",
              "2                           8.842896                    42.657501   \n",
              "3                           9.122857                    42.689819   \n",
              "4                           8.871028                    42.774141   \n",
              "5                           9.302669                    41.633678   \n",
              "6                           9.103047                    41.995316   \n",
              "7                           9.369209                    42.452727   \n",
              "8                           9.437044                    43.404078   \n",
              "9                           9.582874                    43.487291   \n",
              "\n",
              "   final.output.concentrate_ag  final.output.concentrate_pb  \\\n",
              "0                     6.055403                     9.889648   \n",
              "1                     6.029369                     9.968944   \n",
              "2                     6.055926                    10.213995   \n",
              "3                     6.047977                     9.977019   \n",
              "4                     6.148599                    10.142511   \n",
              "5                     6.482968                    10.049416   \n",
              "6                     6.533849                    10.058141   \n",
              "7                     6.130823                     9.935481   \n",
              "8                     5.834140                    10.071156   \n",
              "9                     5.706261                    10.242511   \n",
              "\n",
              "   final.output.concentrate_sol  final.output.recovery  final.output.tail_au  \\\n",
              "0                      5.507324              70.541216              2.143149   \n",
              "1                      5.257781              69.266198              2.224930   \n",
              "2                      5.383759              68.116445              2.257889   \n",
              "3                      4.858634              68.347543              2.146849   \n",
              "4                      4.939416              66.927016              2.055292   \n",
              "5                      5.480257              69.465816              1.918586   \n",
              "6                      4.569100              69.300835              2.058913   \n",
              "7                      4.389813              70.230976              2.143437   \n",
              "8                      4.876389              69.688595              2.209881   \n",
              "9                      5.214161              70.973641              2.200997   \n",
              "\n",
              "   final.output.tail_ag  final.output.tail_pb  final.output.tail_sol  \n",
              "0             10.411962              0.895447              16.904297  \n",
              "1             10.462676              0.927452              16.634514  \n",
              "2             10.507046              0.953716              16.208849  \n",
              "3             10.422762              0.883763              16.532835  \n",
              "4             10.360302              0.792826              16.525686  \n",
              "5             10.182708              0.664118              16.999638  \n",
              "6             10.304598              0.807342              16.723575  \n",
              "7             10.443288              0.949346              16.689959  \n",
              "8             10.420140              1.065453              17.201948  \n",
              "9             10.473539              1.171183              17.717049  \n",
              "\n",
              "[10 rows x 87 columns]"
            ]
          },
          "execution_count": 3,
          "metadata": {},
          "output_type": "execute_result"
        }
      ],
      "source": [
        "#Вывод первых 10 элементов обучающей выборки\n",
        "data_train.head(10)"
      ]
    },
    {
      "cell_type": "code",
      "execution_count": null,
      "metadata": {
        "id": "gTL-ajaSDdhG",
        "outputId": "af2c6f5f-644f-46d2-826a-07e321feebfb"
      },
      "outputs": [
        {
          "data": {
            "text/plain": [
              "['date',\n",
              " 'rougher.input.feed_au',\n",
              " 'rougher.input.feed_ag',\n",
              " 'rougher.input.feed_pb',\n",
              " 'rougher.input.feed_sol',\n",
              " 'rougher.input.feed_rate',\n",
              " 'rougher.input.feed_size',\n",
              " 'rougher.input.floatbank10_sulfate',\n",
              " 'rougher.input.floatbank10_xanthate',\n",
              " 'rougher.state.floatbank10_a_air',\n",
              " 'rougher.state.floatbank10_a_level',\n",
              " 'rougher.state.floatbank10_b_air',\n",
              " 'rougher.state.floatbank10_b_level',\n",
              " 'rougher.state.floatbank10_c_air',\n",
              " 'rougher.state.floatbank10_c_level',\n",
              " 'rougher.state.floatbank10_d_air',\n",
              " 'rougher.state.floatbank10_d_level',\n",
              " 'rougher.state.floatbank10_e_air',\n",
              " 'rougher.state.floatbank10_e_level',\n",
              " 'rougher.state.floatbank10_f_air',\n",
              " 'rougher.state.floatbank10_f_level',\n",
              " 'rougher.input.floatbank11_sulfate',\n",
              " 'rougher.input.floatbank11_xanthate',\n",
              " 'rougher.calculation.sulfate_to_au_concentrate',\n",
              " 'rougher.calculation.floatbank10_sulfate_to_au_feed',\n",
              " 'rougher.calculation.floatbank11_sulfate_to_au_feed',\n",
              " 'rougher.calculation.au_pb_ratio',\n",
              " 'rougher.output.concentrate_au',\n",
              " 'rougher.output.concentrate_ag',\n",
              " 'rougher.output.concentrate_pb',\n",
              " 'rougher.output.concentrate_sol',\n",
              " 'rougher.output.recovery',\n",
              " 'rougher.output.tail_au',\n",
              " 'rougher.output.tail_ag',\n",
              " 'rougher.output.tail_pb',\n",
              " 'rougher.output.tail_sol',\n",
              " 'primary_cleaner.input.sulfate',\n",
              " 'primary_cleaner.input.depressant',\n",
              " 'primary_cleaner.input.feed_size',\n",
              " 'primary_cleaner.input.xanthate',\n",
              " 'primary_cleaner.state.floatbank8_a_air',\n",
              " 'primary_cleaner.state.floatbank8_a_level',\n",
              " 'primary_cleaner.state.floatbank8_b_air',\n",
              " 'primary_cleaner.state.floatbank8_b_level',\n",
              " 'primary_cleaner.state.floatbank8_c_air',\n",
              " 'primary_cleaner.state.floatbank8_c_level',\n",
              " 'primary_cleaner.state.floatbank8_d_air',\n",
              " 'primary_cleaner.state.floatbank8_d_level',\n",
              " 'primary_cleaner.output.concentrate_au',\n",
              " 'primary_cleaner.output.concentrate_ag',\n",
              " 'primary_cleaner.output.concentrate_pb',\n",
              " 'primary_cleaner.output.concentrate_sol',\n",
              " 'primary_cleaner.output.tail_au',\n",
              " 'primary_cleaner.output.tail_ag',\n",
              " 'primary_cleaner.output.tail_pb',\n",
              " 'primary_cleaner.output.tail_sol',\n",
              " 'secondary_cleaner.state.floatbank2_a_air',\n",
              " 'secondary_cleaner.state.floatbank2_a_level',\n",
              " 'secondary_cleaner.state.floatbank2_b_air',\n",
              " 'secondary_cleaner.state.floatbank2_b_level',\n",
              " 'secondary_cleaner.state.floatbank3_a_air',\n",
              " 'secondary_cleaner.state.floatbank3_a_level',\n",
              " 'secondary_cleaner.state.floatbank3_b_air',\n",
              " 'secondary_cleaner.state.floatbank3_b_level',\n",
              " 'secondary_cleaner.state.floatbank4_a_air',\n",
              " 'secondary_cleaner.state.floatbank4_a_level',\n",
              " 'secondary_cleaner.state.floatbank4_b_air',\n",
              " 'secondary_cleaner.state.floatbank4_b_level',\n",
              " 'secondary_cleaner.state.floatbank5_a_air',\n",
              " 'secondary_cleaner.state.floatbank5_a_level',\n",
              " 'secondary_cleaner.state.floatbank5_b_air',\n",
              " 'secondary_cleaner.state.floatbank5_b_level',\n",
              " 'secondary_cleaner.state.floatbank6_a_air',\n",
              " 'secondary_cleaner.state.floatbank6_a_level',\n",
              " 'secondary_cleaner.output.tail_au',\n",
              " 'secondary_cleaner.output.tail_ag',\n",
              " 'secondary_cleaner.output.tail_pb',\n",
              " 'secondary_cleaner.output.tail_sol',\n",
              " 'final.output.concentrate_au',\n",
              " 'final.output.concentrate_ag',\n",
              " 'final.output.concentrate_pb',\n",
              " 'final.output.concentrate_sol',\n",
              " 'final.output.recovery',\n",
              " 'final.output.tail_au',\n",
              " 'final.output.tail_ag',\n",
              " 'final.output.tail_pb',\n",
              " 'final.output.tail_sol']"
            ]
          },
          "execution_count": 4,
          "metadata": {},
          "output_type": "execute_result"
        }
      ],
      "source": [
        "#Вывод названий столбцов выборки\n",
        "data_train.columns.tolist()"
      ]
    },
    {
      "cell_type": "code",
      "execution_count": null,
      "metadata": {
        "id": "CTPeTLSdDdhH",
        "outputId": "9e15a4c9-aea2-483d-c47a-b2d89eb60d95"
      },
      "outputs": [
        {
          "name": "stdout",
          "output_type": "stream",
          "text": [
            "<class 'pandas.core.frame.DataFrame'>\n",
            "RangeIndex: 14579 entries, 0 to 14578\n",
            "Data columns (total 87 columns):\n",
            " #   Column                                              Non-Null Count  Dtype  \n",
            "---  ------                                              --------------  -----  \n",
            " 0   date                                                14579 non-null  object \n",
            " 1   rougher.input.feed_au                               14579 non-null  float64\n",
            " 2   rougher.input.feed_ag                               14579 non-null  float64\n",
            " 3   rougher.input.feed_pb                               14507 non-null  float64\n",
            " 4   rougher.input.feed_sol                              14502 non-null  float64\n",
            " 5   rougher.input.feed_rate                             14572 non-null  float64\n",
            " 6   rougher.input.feed_size                             14478 non-null  float64\n",
            " 7   rougher.input.floatbank10_sulfate                   14548 non-null  float64\n",
            " 8   rougher.input.floatbank10_xanthate                  14572 non-null  float64\n",
            " 9   rougher.state.floatbank10_a_air                     14579 non-null  float64\n",
            " 10  rougher.state.floatbank10_a_level                   14579 non-null  float64\n",
            " 11  rougher.state.floatbank10_b_air                     14579 non-null  float64\n",
            " 12  rougher.state.floatbank10_b_level                   14579 non-null  float64\n",
            " 13  rougher.state.floatbank10_c_air                     14579 non-null  float64\n",
            " 14  rougher.state.floatbank10_c_level                   14579 non-null  float64\n",
            " 15  rougher.state.floatbank10_d_air                     14579 non-null  float64\n",
            " 16  rougher.state.floatbank10_d_level                   14579 non-null  float64\n",
            " 17  rougher.state.floatbank10_e_air                     14150 non-null  float64\n",
            " 18  rougher.state.floatbank10_e_level                   14579 non-null  float64\n",
            " 19  rougher.state.floatbank10_f_air                     14579 non-null  float64\n",
            " 20  rougher.state.floatbank10_f_level                   14579 non-null  float64\n",
            " 21  rougher.input.floatbank11_sulfate                   14543 non-null  float64\n",
            " 22  rougher.input.floatbank11_xanthate                  14172 non-null  float64\n",
            " 23  rougher.calculation.sulfate_to_au_concentrate       14578 non-null  float64\n",
            " 24  rougher.calculation.floatbank10_sulfate_to_au_feed  14578 non-null  float64\n",
            " 25  rougher.calculation.floatbank11_sulfate_to_au_feed  14578 non-null  float64\n",
            " 26  rougher.calculation.au_pb_ratio                     14579 non-null  float64\n",
            " 27  rougher.output.concentrate_au                       14579 non-null  float64\n",
            " 28  rougher.output.concentrate_ag                       14579 non-null  float64\n",
            " 29  rougher.output.concentrate_pb                       14579 non-null  float64\n",
            " 30  rougher.output.concentrate_sol                      14561 non-null  float64\n",
            " 31  rougher.output.recovery                             14579 non-null  float64\n",
            " 32  rougher.output.tail_au                              14579 non-null  float64\n",
            " 33  rougher.output.tail_ag                              14578 non-null  float64\n",
            " 34  rougher.output.tail_pb                              14579 non-null  float64\n",
            " 35  rougher.output.tail_sol                             14579 non-null  float64\n",
            " 36  primary_cleaner.input.sulfate                       14556 non-null  float64\n",
            " 37  primary_cleaner.input.depressant                    14551 non-null  float64\n",
            " 38  primary_cleaner.input.feed_size                     14579 non-null  float64\n",
            " 39  primary_cleaner.input.xanthate                      14518 non-null  float64\n",
            " 40  primary_cleaner.state.floatbank8_a_air              14576 non-null  float64\n",
            " 41  primary_cleaner.state.floatbank8_a_level            14579 non-null  float64\n",
            " 42  primary_cleaner.state.floatbank8_b_air              14576 non-null  float64\n",
            " 43  primary_cleaner.state.floatbank8_b_level            14579 non-null  float64\n",
            " 44  primary_cleaner.state.floatbank8_c_air              14579 non-null  float64\n",
            " 45  primary_cleaner.state.floatbank8_c_level            14579 non-null  float64\n",
            " 46  primary_cleaner.state.floatbank8_d_air              14578 non-null  float64\n",
            " 47  primary_cleaner.state.floatbank8_d_level            14579 non-null  float64\n",
            " 48  primary_cleaner.output.concentrate_au               14579 non-null  float64\n",
            " 49  primary_cleaner.output.concentrate_ag               14579 non-null  float64\n",
            " 50  primary_cleaner.output.concentrate_pb               14491 non-null  float64\n",
            " 51  primary_cleaner.output.concentrate_sol              14314 non-null  float64\n",
            " 52  primary_cleaner.output.tail_au                      14579 non-null  float64\n",
            " 53  primary_cleaner.output.tail_ag                      14575 non-null  float64\n",
            " 54  primary_cleaner.output.tail_pb                      14573 non-null  float64\n",
            " 55  primary_cleaner.output.tail_sol                     14534 non-null  float64\n",
            " 56  secondary_cleaner.state.floatbank2_a_air            14485 non-null  float64\n",
            " 57  secondary_cleaner.state.floatbank2_a_level          14579 non-null  float64\n",
            " 58  secondary_cleaner.state.floatbank2_b_air            14557 non-null  float64\n",
            " 59  secondary_cleaner.state.floatbank2_b_level          14579 non-null  float64\n",
            " 60  secondary_cleaner.state.floatbank3_a_air            14567 non-null  float64\n",
            " 61  secondary_cleaner.state.floatbank3_a_level          14579 non-null  float64\n",
            " 62  secondary_cleaner.state.floatbank3_b_air            14579 non-null  float64\n",
            " 63  secondary_cleaner.state.floatbank3_b_level          14579 non-null  float64\n",
            " 64  secondary_cleaner.state.floatbank4_a_air            14574 non-null  float64\n",
            " 65  secondary_cleaner.state.floatbank4_a_level          14579 non-null  float64\n",
            " 66  secondary_cleaner.state.floatbank4_b_air            14579 non-null  float64\n",
            " 67  secondary_cleaner.state.floatbank4_b_level          14579 non-null  float64\n",
            " 68  secondary_cleaner.state.floatbank5_a_air            14579 non-null  float64\n",
            " 69  secondary_cleaner.state.floatbank5_a_level          14579 non-null  float64\n",
            " 70  secondary_cleaner.state.floatbank5_b_air            14579 non-null  float64\n",
            " 71  secondary_cleaner.state.floatbank5_b_level          14579 non-null  float64\n",
            " 72  secondary_cleaner.state.floatbank6_a_air            14578 non-null  float64\n",
            " 73  secondary_cleaner.state.floatbank6_a_level          14579 non-null  float64\n",
            " 74  secondary_cleaner.output.tail_au                    14579 non-null  float64\n",
            " 75  secondary_cleaner.output.tail_ag                    14578 non-null  float64\n",
            " 76  secondary_cleaner.output.tail_pb                    14575 non-null  float64\n",
            " 77  secondary_cleaner.output.tail_sol                   13659 non-null  float64\n",
            " 78  final.output.concentrate_au                         14579 non-null  float64\n",
            " 79  final.output.concentrate_ag                         14578 non-null  float64\n",
            " 80  final.output.concentrate_pb                         14578 non-null  float64\n",
            " 81  final.output.concentrate_sol                        14387 non-null  float64\n",
            " 82  final.output.recovery                               14579 non-null  float64\n",
            " 83  final.output.tail_au                                14579 non-null  float64\n",
            " 84  final.output.tail_ag                                14578 non-null  float64\n",
            " 85  final.output.tail_pb                                14504 non-null  float64\n",
            " 86  final.output.tail_sol                               14574 non-null  float64\n",
            "dtypes: float64(86), object(1)\n",
            "memory usage: 10.6 MB\n"
          ]
        }
      ],
      "source": [
        "#Вывод общей информации о данных в выборке вместе с занимаемым объемом\n",
        "data_train.info(memory_usage='deep')"
      ]
    },
    {
      "cell_type": "code",
      "execution_count": null,
      "metadata": {
        "id": "ZmxZUYjXDdhH",
        "outputId": "cad95c29-091c-4768-c450-bbd355e48338"
      },
      "outputs": [
        {
          "data": {
            "text/plain": [
              "date                       0\n",
              "rougher.input.feed_au      0\n",
              "rougher.input.feed_ag      0\n",
              "rougher.input.feed_pb     72\n",
              "rougher.input.feed_sol    77\n",
              "                          ..\n",
              "final.output.recovery      0\n",
              "final.output.tail_au       0\n",
              "final.output.tail_ag       1\n",
              "final.output.tail_pb      75\n",
              "final.output.tail_sol      5\n",
              "Length: 87, dtype: int64"
            ]
          },
          "execution_count": 6,
          "metadata": {},
          "output_type": "execute_result"
        }
      ],
      "source": [
        "#Проверим на наличие пропусков. Пропуски есть.\n",
        "data_train.isna().sum()"
      ]
    },
    {
      "cell_type": "code",
      "execution_count": null,
      "metadata": {
        "id": "A2pURawuDdhH",
        "outputId": "bc90abde-ab1b-494a-fce3-de13c753de6d"
      },
      "outputs": [
        {
          "data": {
            "text/plain": [
              "0"
            ]
          },
          "execution_count": 7,
          "metadata": {},
          "output_type": "execute_result"
        }
      ],
      "source": [
        "#Поиск дубликатов. Дубликатов нет\n",
        "data_train.duplicated().sum()"
      ]
    },
    {
      "cell_type": "code",
      "execution_count": null,
      "metadata": {
        "id": "7C0Qa1eyDdhH",
        "outputId": "130bb006-11fa-4ba9-fabf-38a488ee5f18"
      },
      "outputs": [
        {
          "data": {
            "text/html": [
              "<div>\n",
              "<style scoped>\n",
              "    .dataframe tbody tr th:only-of-type {\n",
              "        vertical-align: middle;\n",
              "    }\n",
              "\n",
              "    .dataframe tbody tr th {\n",
              "        vertical-align: top;\n",
              "    }\n",
              "\n",
              "    .dataframe thead th {\n",
              "        text-align: right;\n",
              "    }\n",
              "</style>\n",
              "<table border=\"1\" class=\"dataframe\">\n",
              "  <thead>\n",
              "    <tr style=\"text-align: right;\">\n",
              "      <th></th>\n",
              "      <th>date</th>\n",
              "      <th>rougher.input.feed_au</th>\n",
              "      <th>rougher.input.feed_ag</th>\n",
              "      <th>rougher.input.feed_pb</th>\n",
              "      <th>rougher.input.feed_sol</th>\n",
              "      <th>rougher.input.feed_rate</th>\n",
              "      <th>rougher.input.feed_size</th>\n",
              "      <th>rougher.input.floatbank10_sulfate</th>\n",
              "      <th>rougher.input.floatbank10_xanthate</th>\n",
              "      <th>rougher.state.floatbank10_a_air</th>\n",
              "      <th>...</th>\n",
              "      <th>secondary_cleaner.state.floatbank4_a_air</th>\n",
              "      <th>secondary_cleaner.state.floatbank4_a_level</th>\n",
              "      <th>secondary_cleaner.state.floatbank4_b_air</th>\n",
              "      <th>secondary_cleaner.state.floatbank4_b_level</th>\n",
              "      <th>secondary_cleaner.state.floatbank5_a_air</th>\n",
              "      <th>secondary_cleaner.state.floatbank5_a_level</th>\n",
              "      <th>secondary_cleaner.state.floatbank5_b_air</th>\n",
              "      <th>secondary_cleaner.state.floatbank5_b_level</th>\n",
              "      <th>secondary_cleaner.state.floatbank6_a_air</th>\n",
              "      <th>secondary_cleaner.state.floatbank6_a_level</th>\n",
              "    </tr>\n",
              "  </thead>\n",
              "  <tbody>\n",
              "    <tr>\n",
              "      <th>593</th>\n",
              "      <td>2018-01-14 21:59:59</td>\n",
              "      <td>1.567181</td>\n",
              "      <td>5.754863</td>\n",
              "      <td>NaN</td>\n",
              "      <td>37.923502</td>\n",
              "      <td>510.812634</td>\n",
              "      <td>68.523956</td>\n",
              "      <td>5.005570</td>\n",
              "      <td>4.711896</td>\n",
              "      <td>1197.910761</td>\n",
              "      <td>...</td>\n",
              "      <td>30.022631</td>\n",
              "      <td>-498.727322</td>\n",
              "      <td>22.040393</td>\n",
              "      <td>-499.427831</td>\n",
              "      <td>25.017645</td>\n",
              "      <td>-499.973026</td>\n",
              "      <td>22.984164</td>\n",
              "      <td>-500.164116</td>\n",
              "      <td>24.992154</td>\n",
              "      <td>-499.743822</td>\n",
              "    </tr>\n",
              "    <tr>\n",
              "      <th>835</th>\n",
              "      <td>2018-02-02 23:59:59</td>\n",
              "      <td>2.815890</td>\n",
              "      <td>6.128690</td>\n",
              "      <td>NaN</td>\n",
              "      <td>42.448171</td>\n",
              "      <td>533.785976</td>\n",
              "      <td>75.343884</td>\n",
              "      <td>5.004810</td>\n",
              "      <td>4.999046</td>\n",
              "      <td>1201.981142</td>\n",
              "      <td>...</td>\n",
              "      <td>30.016414</td>\n",
              "      <td>-501.072985</td>\n",
              "      <td>19.983553</td>\n",
              "      <td>-500.157182</td>\n",
              "      <td>25.016060</td>\n",
              "      <td>-500.772859</td>\n",
              "      <td>23.009988</td>\n",
              "      <td>-500.119777</td>\n",
              "      <td>24.980096</td>\n",
              "      <td>-500.072790</td>\n",
              "    </tr>\n",
              "    <tr>\n",
              "      <th>836</th>\n",
              "      <td>2018-02-03 00:59:59</td>\n",
              "      <td>2.891693</td>\n",
              "      <td>6.211225</td>\n",
              "      <td>NaN</td>\n",
              "      <td>41.966903</td>\n",
              "      <td>583.739319</td>\n",
              "      <td>77.110459</td>\n",
              "      <td>5.000377</td>\n",
              "      <td>5.002892</td>\n",
              "      <td>1198.791879</td>\n",
              "      <td>...</td>\n",
              "      <td>30.012373</td>\n",
              "      <td>-502.142339</td>\n",
              "      <td>19.841365</td>\n",
              "      <td>-501.125175</td>\n",
              "      <td>24.993037</td>\n",
              "      <td>-500.487172</td>\n",
              "      <td>22.979754</td>\n",
              "      <td>-500.007838</td>\n",
              "      <td>24.986214</td>\n",
              "      <td>-500.099652</td>\n",
              "    </tr>\n",
              "    <tr>\n",
              "      <th>837</th>\n",
              "      <td>2018-02-03 01:59:59</td>\n",
              "      <td>2.664240</td>\n",
              "      <td>5.862863</td>\n",
              "      <td>NaN</td>\n",
              "      <td>40.464959</td>\n",
              "      <td>568.328803</td>\n",
              "      <td>77.269229</td>\n",
              "      <td>4.996561</td>\n",
              "      <td>5.060176</td>\n",
              "      <td>1201.630075</td>\n",
              "      <td>...</td>\n",
              "      <td>30.015214</td>\n",
              "      <td>-495.662792</td>\n",
              "      <td>20.043123</td>\n",
              "      <td>-498.371977</td>\n",
              "      <td>24.993173</td>\n",
              "      <td>-498.123865</td>\n",
              "      <td>23.004359</td>\n",
              "      <td>-499.672881</td>\n",
              "      <td>24.996677</td>\n",
              "      <td>-498.634913</td>\n",
              "    </tr>\n",
              "    <tr>\n",
              "      <th>838</th>\n",
              "      <td>2018-02-03 02:59:59</td>\n",
              "      <td>3.288108</td>\n",
              "      <td>6.372757</td>\n",
              "      <td>NaN</td>\n",
              "      <td>42.545296</td>\n",
              "      <td>579.277726</td>\n",
              "      <td>80.590023</td>\n",
              "      <td>5.203311</td>\n",
              "      <td>5.675847</td>\n",
              "      <td>1204.597354</td>\n",
              "      <td>...</td>\n",
              "      <td>29.987397</td>\n",
              "      <td>-501.051064</td>\n",
              "      <td>19.972289</td>\n",
              "      <td>-499.635388</td>\n",
              "      <td>25.000540</td>\n",
              "      <td>-500.624888</td>\n",
              "      <td>22.975748</td>\n",
              "      <td>-499.913198</td>\n",
              "      <td>24.968321</td>\n",
              "      <td>-499.959513</td>\n",
              "    </tr>\n",
              "    <tr>\n",
              "      <th>844</th>\n",
              "      <td>2018-02-03 08:59:59</td>\n",
              "      <td>4.057594</td>\n",
              "      <td>6.510478</td>\n",
              "      <td>NaN</td>\n",
              "      <td>38.381958</td>\n",
              "      <td>561.059826</td>\n",
              "      <td>75.077195</td>\n",
              "      <td>5.005644</td>\n",
              "      <td>5.196432</td>\n",
              "      <td>1194.775195</td>\n",
              "      <td>...</td>\n",
              "      <td>30.005189</td>\n",
              "      <td>-498.668498</td>\n",
              "      <td>19.913505</td>\n",
              "      <td>-499.294871</td>\n",
              "      <td>25.008953</td>\n",
              "      <td>-499.334722</td>\n",
              "      <td>23.010726</td>\n",
              "      <td>-500.093261</td>\n",
              "      <td>25.016404</td>\n",
              "      <td>-500.095148</td>\n",
              "    </tr>\n",
              "    <tr>\n",
              "      <th>845</th>\n",
              "      <td>2018-02-03 09:59:59</td>\n",
              "      <td>3.125779</td>\n",
              "      <td>6.308087</td>\n",
              "      <td>NaN</td>\n",
              "      <td>35.711194</td>\n",
              "      <td>560.982586</td>\n",
              "      <td>74.583358</td>\n",
              "      <td>4.995903</td>\n",
              "      <td>5.199000</td>\n",
              "      <td>1200.063962</td>\n",
              "      <td>...</td>\n",
              "      <td>30.022671</td>\n",
              "      <td>-501.999158</td>\n",
              "      <td>19.962413</td>\n",
              "      <td>-500.319286</td>\n",
              "      <td>25.008025</td>\n",
              "      <td>-500.542059</td>\n",
              "      <td>22.997063</td>\n",
              "      <td>-500.040470</td>\n",
              "      <td>24.994111</td>\n",
              "      <td>-500.385286</td>\n",
              "    </tr>\n",
              "    <tr>\n",
              "      <th>847</th>\n",
              "      <td>2018-02-03 11:59:59</td>\n",
              "      <td>3.203214</td>\n",
              "      <td>5.909170</td>\n",
              "      <td>NaN</td>\n",
              "      <td>37.894633</td>\n",
              "      <td>564.018230</td>\n",
              "      <td>80.413398</td>\n",
              "      <td>4.996444</td>\n",
              "      <td>5.197157</td>\n",
              "      <td>1198.777615</td>\n",
              "      <td>...</td>\n",
              "      <td>30.006309</td>\n",
              "      <td>-498.218111</td>\n",
              "      <td>19.888326</td>\n",
              "      <td>-499.875033</td>\n",
              "      <td>25.009116</td>\n",
              "      <td>-499.547858</td>\n",
              "      <td>23.025394</td>\n",
              "      <td>-499.976413</td>\n",
              "      <td>24.992912</td>\n",
              "      <td>-499.710579</td>\n",
              "    </tr>\n",
              "    <tr>\n",
              "      <th>848</th>\n",
              "      <td>2018-02-03 12:59:59</td>\n",
              "      <td>2.406989</td>\n",
              "      <td>5.727992</td>\n",
              "      <td>NaN</td>\n",
              "      <td>37.010155</td>\n",
              "      <td>559.726403</td>\n",
              "      <td>79.159090</td>\n",
              "      <td>5.002757</td>\n",
              "      <td>5.202703</td>\n",
              "      <td>1204.027938</td>\n",
              "      <td>...</td>\n",
              "      <td>30.012308</td>\n",
              "      <td>-499.484521</td>\n",
              "      <td>19.911201</td>\n",
              "      <td>-500.129941</td>\n",
              "      <td>25.010029</td>\n",
              "      <td>-500.089265</td>\n",
              "      <td>22.997125</td>\n",
              "      <td>-500.141310</td>\n",
              "      <td>25.010350</td>\n",
              "      <td>-500.384210</td>\n",
              "    </tr>\n",
              "    <tr>\n",
              "      <th>849</th>\n",
              "      <td>2018-02-03 13:59:59</td>\n",
              "      <td>2.012762</td>\n",
              "      <td>5.924086</td>\n",
              "      <td>NaN</td>\n",
              "      <td>36.353826</td>\n",
              "      <td>559.859454</td>\n",
              "      <td>78.313642</td>\n",
              "      <td>5.001062</td>\n",
              "      <td>5.199816</td>\n",
              "      <td>1201.820029</td>\n",
              "      <td>...</td>\n",
              "      <td>30.032559</td>\n",
              "      <td>-501.116519</td>\n",
              "      <td>19.894668</td>\n",
              "      <td>-500.184107</td>\n",
              "      <td>24.986056</td>\n",
              "      <td>-499.919750</td>\n",
              "      <td>23.008245</td>\n",
              "      <td>-499.880273</td>\n",
              "      <td>24.975394</td>\n",
              "      <td>-499.824020</td>\n",
              "    </tr>\n",
              "  </tbody>\n",
              "</table>\n",
              "<p>10 rows × 53 columns</p>\n",
              "</div>"
            ],
            "text/plain": [
              "                    date  rougher.input.feed_au  rougher.input.feed_ag  \\\n",
              "593  2018-01-14 21:59:59               1.567181               5.754863   \n",
              "835  2018-02-02 23:59:59               2.815890               6.128690   \n",
              "836  2018-02-03 00:59:59               2.891693               6.211225   \n",
              "837  2018-02-03 01:59:59               2.664240               5.862863   \n",
              "838  2018-02-03 02:59:59               3.288108               6.372757   \n",
              "844  2018-02-03 08:59:59               4.057594               6.510478   \n",
              "845  2018-02-03 09:59:59               3.125779               6.308087   \n",
              "847  2018-02-03 11:59:59               3.203214               5.909170   \n",
              "848  2018-02-03 12:59:59               2.406989               5.727992   \n",
              "849  2018-02-03 13:59:59               2.012762               5.924086   \n",
              "\n",
              "     rougher.input.feed_pb  rougher.input.feed_sol  rougher.input.feed_rate  \\\n",
              "593                    NaN               37.923502               510.812634   \n",
              "835                    NaN               42.448171               533.785976   \n",
              "836                    NaN               41.966903               583.739319   \n",
              "837                    NaN               40.464959               568.328803   \n",
              "838                    NaN               42.545296               579.277726   \n",
              "844                    NaN               38.381958               561.059826   \n",
              "845                    NaN               35.711194               560.982586   \n",
              "847                    NaN               37.894633               564.018230   \n",
              "848                    NaN               37.010155               559.726403   \n",
              "849                    NaN               36.353826               559.859454   \n",
              "\n",
              "     rougher.input.feed_size  rougher.input.floatbank10_sulfate  \\\n",
              "593                68.523956                           5.005570   \n",
              "835                75.343884                           5.004810   \n",
              "836                77.110459                           5.000377   \n",
              "837                77.269229                           4.996561   \n",
              "838                80.590023                           5.203311   \n",
              "844                75.077195                           5.005644   \n",
              "845                74.583358                           4.995903   \n",
              "847                80.413398                           4.996444   \n",
              "848                79.159090                           5.002757   \n",
              "849                78.313642                           5.001062   \n",
              "\n",
              "     rougher.input.floatbank10_xanthate  rougher.state.floatbank10_a_air  ...  \\\n",
              "593                            4.711896                      1197.910761  ...   \n",
              "835                            4.999046                      1201.981142  ...   \n",
              "836                            5.002892                      1198.791879  ...   \n",
              "837                            5.060176                      1201.630075  ...   \n",
              "838                            5.675847                      1204.597354  ...   \n",
              "844                            5.196432                      1194.775195  ...   \n",
              "845                            5.199000                      1200.063962  ...   \n",
              "847                            5.197157                      1198.777615  ...   \n",
              "848                            5.202703                      1204.027938  ...   \n",
              "849                            5.199816                      1201.820029  ...   \n",
              "\n",
              "     secondary_cleaner.state.floatbank4_a_air  \\\n",
              "593                                 30.022631   \n",
              "835                                 30.016414   \n",
              "836                                 30.012373   \n",
              "837                                 30.015214   \n",
              "838                                 29.987397   \n",
              "844                                 30.005189   \n",
              "845                                 30.022671   \n",
              "847                                 30.006309   \n",
              "848                                 30.012308   \n",
              "849                                 30.032559   \n",
              "\n",
              "     secondary_cleaner.state.floatbank4_a_level  \\\n",
              "593                                 -498.727322   \n",
              "835                                 -501.072985   \n",
              "836                                 -502.142339   \n",
              "837                                 -495.662792   \n",
              "838                                 -501.051064   \n",
              "844                                 -498.668498   \n",
              "845                                 -501.999158   \n",
              "847                                 -498.218111   \n",
              "848                                 -499.484521   \n",
              "849                                 -501.116519   \n",
              "\n",
              "     secondary_cleaner.state.floatbank4_b_air  \\\n",
              "593                                 22.040393   \n",
              "835                                 19.983553   \n",
              "836                                 19.841365   \n",
              "837                                 20.043123   \n",
              "838                                 19.972289   \n",
              "844                                 19.913505   \n",
              "845                                 19.962413   \n",
              "847                                 19.888326   \n",
              "848                                 19.911201   \n",
              "849                                 19.894668   \n",
              "\n",
              "     secondary_cleaner.state.floatbank4_b_level  \\\n",
              "593                                 -499.427831   \n",
              "835                                 -500.157182   \n",
              "836                                 -501.125175   \n",
              "837                                 -498.371977   \n",
              "838                                 -499.635388   \n",
              "844                                 -499.294871   \n",
              "845                                 -500.319286   \n",
              "847                                 -499.875033   \n",
              "848                                 -500.129941   \n",
              "849                                 -500.184107   \n",
              "\n",
              "     secondary_cleaner.state.floatbank5_a_air  \\\n",
              "593                                 25.017645   \n",
              "835                                 25.016060   \n",
              "836                                 24.993037   \n",
              "837                                 24.993173   \n",
              "838                                 25.000540   \n",
              "844                                 25.008953   \n",
              "845                                 25.008025   \n",
              "847                                 25.009116   \n",
              "848                                 25.010029   \n",
              "849                                 24.986056   \n",
              "\n",
              "     secondary_cleaner.state.floatbank5_a_level  \\\n",
              "593                                 -499.973026   \n",
              "835                                 -500.772859   \n",
              "836                                 -500.487172   \n",
              "837                                 -498.123865   \n",
              "838                                 -500.624888   \n",
              "844                                 -499.334722   \n",
              "845                                 -500.542059   \n",
              "847                                 -499.547858   \n",
              "848                                 -500.089265   \n",
              "849                                 -499.919750   \n",
              "\n",
              "     secondary_cleaner.state.floatbank5_b_air  \\\n",
              "593                                 22.984164   \n",
              "835                                 23.009988   \n",
              "836                                 22.979754   \n",
              "837                                 23.004359   \n",
              "838                                 22.975748   \n",
              "844                                 23.010726   \n",
              "845                                 22.997063   \n",
              "847                                 23.025394   \n",
              "848                                 22.997125   \n",
              "849                                 23.008245   \n",
              "\n",
              "     secondary_cleaner.state.floatbank5_b_level  \\\n",
              "593                                 -500.164116   \n",
              "835                                 -500.119777   \n",
              "836                                 -500.007838   \n",
              "837                                 -499.672881   \n",
              "838                                 -499.913198   \n",
              "844                                 -500.093261   \n",
              "845                                 -500.040470   \n",
              "847                                 -499.976413   \n",
              "848                                 -500.141310   \n",
              "849                                 -499.880273   \n",
              "\n",
              "     secondary_cleaner.state.floatbank6_a_air  \\\n",
              "593                                 24.992154   \n",
              "835                                 24.980096   \n",
              "836                                 24.986214   \n",
              "837                                 24.996677   \n",
              "838                                 24.968321   \n",
              "844                                 25.016404   \n",
              "845                                 24.994111   \n",
              "847                                 24.992912   \n",
              "848                                 25.010350   \n",
              "849                                 24.975394   \n",
              "\n",
              "     secondary_cleaner.state.floatbank6_a_level  \n",
              "593                                 -499.743822  \n",
              "835                                 -500.072790  \n",
              "836                                 -500.099652  \n",
              "837                                 -498.634913  \n",
              "838                                 -499.959513  \n",
              "844                                 -500.095148  \n",
              "845                                 -500.385286  \n",
              "847                                 -499.710579  \n",
              "848                                 -500.384210  \n",
              "849                                 -499.824020  \n",
              "\n",
              "[10 rows x 53 columns]"
            ]
          },
          "execution_count": 8,
          "metadata": {},
          "output_type": "execute_result"
        }
      ],
      "source": [
        "#Вывод первых 10 пропущенных элементов тестовой выборки\n",
        "data_test[data_test['rougher.input.feed_pb'].isna()].head(10)"
      ]
    },
    {
      "cell_type": "code",
      "execution_count": null,
      "metadata": {
        "id": "cTPQ09RkDdhH",
        "outputId": "be13e1d1-fb0b-47c6-9a30-d36b82e53d58"
      },
      "outputs": [
        {
          "data": {
            "text/plain": [
              "593     2018-01-14 21:59:59\n",
              "835     2018-02-02 23:59:59\n",
              "836     2018-02-03 00:59:59\n",
              "837     2018-02-03 01:59:59\n",
              "838     2018-02-03 02:59:59\n",
              "844     2018-02-03 08:59:59\n",
              "845     2018-02-03 09:59:59\n",
              "847     2018-02-03 11:59:59\n",
              "848     2018-02-03 12:59:59\n",
              "849     2018-02-03 13:59:59\n",
              "850     2018-02-03 14:59:59\n",
              "851     2018-02-03 15:59:59\n",
              "852     2018-02-03 16:59:59\n",
              "853     2018-02-03 17:59:59\n",
              "854     2018-02-03 18:59:59\n",
              "855     2018-02-03 19:59:59\n",
              "856     2018-02-03 20:59:59\n",
              "857     2018-02-03 21:59:59\n",
              "858     2018-02-03 22:59:59\n",
              "859     2018-02-03 23:59:59\n",
              "860     2018-02-04 00:59:59\n",
              "861     2018-02-04 01:59:59\n",
              "862     2018-02-04 02:59:59\n",
              "863     2018-02-04 03:59:59\n",
              "864     2018-02-04 04:59:59\n",
              "890     2018-02-05 07:59:59\n",
              "4088    2018-07-06 22:59:59\n",
              "4089    2018-07-06 23:59:59\n",
              "Name: date, dtype: object"
            ]
          },
          "execution_count": 9,
          "metadata": {},
          "output_type": "execute_result"
        }
      ],
      "source": [
        "#Посмотрим на даты пропусков, может они что-то подскажут\n",
        "data_test[data_test['rougher.input.feed_pb'].isna()]['date']"
      ]
    },
    {
      "cell_type": "code",
      "execution_count": null,
      "metadata": {
        "id": "L5LzLD_nDdhI",
        "outputId": "ac94665d-343b-4f5c-a452-4026bb25f75f"
      },
      "outputs": [
        {
          "name": "stdout",
          "output_type": "stream",
          "text": [
            "<class 'pandas.core.frame.DataFrame'>\n",
            "RangeIndex: 4860 entries, 0 to 4859\n",
            "Data columns (total 53 columns):\n",
            " #   Column                                      Non-Null Count  Dtype  \n",
            "---  ------                                      --------------  -----  \n",
            " 0   date                                        4860 non-null   object \n",
            " 1   rougher.input.feed_au                       4860 non-null   float64\n",
            " 2   rougher.input.feed_ag                       4860 non-null   float64\n",
            " 3   rougher.input.feed_pb                       4832 non-null   float64\n",
            " 4   rougher.input.feed_sol                      4838 non-null   float64\n",
            " 5   rougher.input.feed_rate                     4856 non-null   float64\n",
            " 6   rougher.input.feed_size                     4816 non-null   float64\n",
            " 7   rougher.input.floatbank10_sulfate           4857 non-null   float64\n",
            " 8   rougher.input.floatbank10_xanthate          4859 non-null   float64\n",
            " 9   rougher.state.floatbank10_a_air             4859 non-null   float64\n",
            " 10  rougher.state.floatbank10_a_level           4859 non-null   float64\n",
            " 11  rougher.state.floatbank10_b_air             4859 non-null   float64\n",
            " 12  rougher.state.floatbank10_b_level           4859 non-null   float64\n",
            " 13  rougher.state.floatbank10_c_air             4859 non-null   float64\n",
            " 14  rougher.state.floatbank10_c_level           4859 non-null   float64\n",
            " 15  rougher.state.floatbank10_d_air             4860 non-null   float64\n",
            " 16  rougher.state.floatbank10_d_level           4860 non-null   float64\n",
            " 17  rougher.state.floatbank10_e_air             4853 non-null   float64\n",
            " 18  rougher.state.floatbank10_e_level           4860 non-null   float64\n",
            " 19  rougher.state.floatbank10_f_air             4860 non-null   float64\n",
            " 20  rougher.state.floatbank10_f_level           4860 non-null   float64\n",
            " 21  rougher.input.floatbank11_sulfate           4852 non-null   float64\n",
            " 22  rougher.input.floatbank11_xanthate          4814 non-null   float64\n",
            " 23  primary_cleaner.input.sulfate               4859 non-null   float64\n",
            " 24  primary_cleaner.input.depressant            4851 non-null   float64\n",
            " 25  primary_cleaner.input.feed_size             4860 non-null   float64\n",
            " 26  primary_cleaner.input.xanthate              4817 non-null   float64\n",
            " 27  primary_cleaner.state.floatbank8_a_air      4859 non-null   float64\n",
            " 28  primary_cleaner.state.floatbank8_a_level    4859 non-null   float64\n",
            " 29  primary_cleaner.state.floatbank8_b_air      4859 non-null   float64\n",
            " 30  primary_cleaner.state.floatbank8_b_level    4859 non-null   float64\n",
            " 31  primary_cleaner.state.floatbank8_c_air      4858 non-null   float64\n",
            " 32  primary_cleaner.state.floatbank8_c_level    4859 non-null   float64\n",
            " 33  primary_cleaner.state.floatbank8_d_air      4858 non-null   float64\n",
            " 34  primary_cleaner.state.floatbank8_d_level    4859 non-null   float64\n",
            " 35  secondary_cleaner.state.floatbank2_a_air    4734 non-null   float64\n",
            " 36  secondary_cleaner.state.floatbank2_a_level  4859 non-null   float64\n",
            " 37  secondary_cleaner.state.floatbank2_b_air    4859 non-null   float64\n",
            " 38  secondary_cleaner.state.floatbank2_b_level  4859 non-null   float64\n",
            " 39  secondary_cleaner.state.floatbank3_a_air    4859 non-null   float64\n",
            " 40  secondary_cleaner.state.floatbank3_a_level  4859 non-null   float64\n",
            " 41  secondary_cleaner.state.floatbank3_b_air    4859 non-null   float64\n",
            " 42  secondary_cleaner.state.floatbank3_b_level  4859 non-null   float64\n",
            " 43  secondary_cleaner.state.floatbank4_a_air    4859 non-null   float64\n",
            " 44  secondary_cleaner.state.floatbank4_a_level  4859 non-null   float64\n",
            " 45  secondary_cleaner.state.floatbank4_b_air    4859 non-null   float64\n",
            " 46  secondary_cleaner.state.floatbank4_b_level  4859 non-null   float64\n",
            " 47  secondary_cleaner.state.floatbank5_a_air    4859 non-null   float64\n",
            " 48  secondary_cleaner.state.floatbank5_a_level  4859 non-null   float64\n",
            " 49  secondary_cleaner.state.floatbank5_b_air    4859 non-null   float64\n",
            " 50  secondary_cleaner.state.floatbank5_b_level  4859 non-null   float64\n",
            " 51  secondary_cleaner.state.floatbank6_a_air    4859 non-null   float64\n",
            " 52  secondary_cleaner.state.floatbank6_a_level  4859 non-null   float64\n",
            "dtypes: float64(52), object(1)\n",
            "memory usage: 2.3 MB\n"
          ]
        }
      ],
      "source": [
        "data_test.info(memory_usage='deep')"
      ]
    },
    {
      "cell_type": "code",
      "execution_count": null,
      "metadata": {
        "id": "KXfWzjVqDdhI",
        "outputId": "f5b6400b-1f37-45ed-d59b-efe972dd116e"
      },
      "outputs": [
        {
          "data": {
            "text/html": [
              "<div>\n",
              "<style scoped>\n",
              "    .dataframe tbody tr th:only-of-type {\n",
              "        vertical-align: middle;\n",
              "    }\n",
              "\n",
              "    .dataframe tbody tr th {\n",
              "        vertical-align: top;\n",
              "    }\n",
              "\n",
              "    .dataframe thead th {\n",
              "        text-align: right;\n",
              "    }\n",
              "</style>\n",
              "<table border=\"1\" class=\"dataframe\">\n",
              "  <thead>\n",
              "    <tr style=\"text-align: right;\">\n",
              "      <th></th>\n",
              "      <th>date</th>\n",
              "      <th>rougher.input.feed_au</th>\n",
              "      <th>rougher.input.feed_ag</th>\n",
              "      <th>rougher.input.feed_pb</th>\n",
              "      <th>rougher.input.feed_sol</th>\n",
              "      <th>rougher.input.feed_rate</th>\n",
              "      <th>rougher.input.feed_size</th>\n",
              "      <th>rougher.input.floatbank10_sulfate</th>\n",
              "      <th>rougher.input.floatbank10_xanthate</th>\n",
              "      <th>rougher.state.floatbank10_a_air</th>\n",
              "      <th>...</th>\n",
              "      <th>secondary_cleaner.output.tail_sol</th>\n",
              "      <th>final.output.concentrate_au</th>\n",
              "      <th>final.output.concentrate_ag</th>\n",
              "      <th>final.output.concentrate_pb</th>\n",
              "      <th>final.output.concentrate_sol</th>\n",
              "      <th>final.output.recovery</th>\n",
              "      <th>final.output.tail_au</th>\n",
              "      <th>final.output.tail_ag</th>\n",
              "      <th>final.output.tail_pb</th>\n",
              "      <th>final.output.tail_sol</th>\n",
              "    </tr>\n",
              "  </thead>\n",
              "  <tbody>\n",
              "    <tr>\n",
              "      <th>0</th>\n",
              "      <td>2016-01-15 00:00:00</td>\n",
              "      <td>6.486150</td>\n",
              "      <td>6.100378</td>\n",
              "      <td>2.284912</td>\n",
              "      <td>36.808594</td>\n",
              "      <td>523.546326</td>\n",
              "      <td>55.486599</td>\n",
              "      <td>11.986616</td>\n",
              "      <td>6.007990</td>\n",
              "      <td>999.706909</td>\n",
              "      <td>...</td>\n",
              "      <td>8.764648</td>\n",
              "      <td>42.192020</td>\n",
              "      <td>6.055403</td>\n",
              "      <td>9.889648</td>\n",
              "      <td>5.507324</td>\n",
              "      <td>70.541216</td>\n",
              "      <td>2.143149</td>\n",
              "      <td>10.411962</td>\n",
              "      <td>0.895447</td>\n",
              "      <td>16.904297</td>\n",
              "    </tr>\n",
              "    <tr>\n",
              "      <th>1</th>\n",
              "      <td>2016-01-15 01:00:00</td>\n",
              "      <td>6.478583</td>\n",
              "      <td>6.161113</td>\n",
              "      <td>2.266033</td>\n",
              "      <td>35.753385</td>\n",
              "      <td>525.290581</td>\n",
              "      <td>57.278666</td>\n",
              "      <td>11.971193</td>\n",
              "      <td>6.005766</td>\n",
              "      <td>1000.286398</td>\n",
              "      <td>...</td>\n",
              "      <td>9.001494</td>\n",
              "      <td>42.701629</td>\n",
              "      <td>6.029369</td>\n",
              "      <td>9.968944</td>\n",
              "      <td>5.257781</td>\n",
              "      <td>69.266198</td>\n",
              "      <td>2.224930</td>\n",
              "      <td>10.462676</td>\n",
              "      <td>0.927452</td>\n",
              "      <td>16.634514</td>\n",
              "    </tr>\n",
              "    <tr>\n",
              "      <th>2</th>\n",
              "      <td>2016-01-15 02:00:00</td>\n",
              "      <td>6.362222</td>\n",
              "      <td>6.116455</td>\n",
              "      <td>2.159622</td>\n",
              "      <td>35.971630</td>\n",
              "      <td>530.026610</td>\n",
              "      <td>57.510649</td>\n",
              "      <td>11.920603</td>\n",
              "      <td>6.197377</td>\n",
              "      <td>999.719565</td>\n",
              "      <td>...</td>\n",
              "      <td>8.842896</td>\n",
              "      <td>42.657501</td>\n",
              "      <td>6.055926</td>\n",
              "      <td>10.213995</td>\n",
              "      <td>5.383759</td>\n",
              "      <td>68.116445</td>\n",
              "      <td>2.257889</td>\n",
              "      <td>10.507046</td>\n",
              "      <td>0.953716</td>\n",
              "      <td>16.208849</td>\n",
              "    </tr>\n",
              "    <tr>\n",
              "      <th>3</th>\n",
              "      <td>2016-01-15 03:00:00</td>\n",
              "      <td>6.118189</td>\n",
              "      <td>6.043309</td>\n",
              "      <td>2.037807</td>\n",
              "      <td>36.862241</td>\n",
              "      <td>542.590390</td>\n",
              "      <td>57.792734</td>\n",
              "      <td>11.630094</td>\n",
              "      <td>6.203177</td>\n",
              "      <td>999.814770</td>\n",
              "      <td>...</td>\n",
              "      <td>9.122857</td>\n",
              "      <td>42.689819</td>\n",
              "      <td>6.047977</td>\n",
              "      <td>9.977019</td>\n",
              "      <td>4.858634</td>\n",
              "      <td>68.347543</td>\n",
              "      <td>2.146849</td>\n",
              "      <td>10.422762</td>\n",
              "      <td>0.883763</td>\n",
              "      <td>16.532835</td>\n",
              "    </tr>\n",
              "    <tr>\n",
              "      <th>4</th>\n",
              "      <td>2016-01-15 04:00:00</td>\n",
              "      <td>5.663707</td>\n",
              "      <td>6.060915</td>\n",
              "      <td>1.786875</td>\n",
              "      <td>34.347666</td>\n",
              "      <td>540.531893</td>\n",
              "      <td>56.047189</td>\n",
              "      <td>10.957755</td>\n",
              "      <td>6.198826</td>\n",
              "      <td>999.678690</td>\n",
              "      <td>...</td>\n",
              "      <td>8.871028</td>\n",
              "      <td>42.774141</td>\n",
              "      <td>6.148599</td>\n",
              "      <td>10.142511</td>\n",
              "      <td>4.939416</td>\n",
              "      <td>66.927016</td>\n",
              "      <td>2.055292</td>\n",
              "      <td>10.360302</td>\n",
              "      <td>0.792826</td>\n",
              "      <td>16.525686</td>\n",
              "    </tr>\n",
              "    <tr>\n",
              "      <th>5</th>\n",
              "      <td>2016-01-15 05:00:00</td>\n",
              "      <td>5.687168</td>\n",
              "      <td>5.801920</td>\n",
              "      <td>1.879351</td>\n",
              "      <td>35.470082</td>\n",
              "      <td>546.173470</td>\n",
              "      <td>57.469578</td>\n",
              "      <td>11.072517</td>\n",
              "      <td>6.200383</td>\n",
              "      <td>999.934134</td>\n",
              "      <td>...</td>\n",
              "      <td>9.302669</td>\n",
              "      <td>41.633678</td>\n",
              "      <td>6.482968</td>\n",
              "      <td>10.049416</td>\n",
              "      <td>5.480257</td>\n",
              "      <td>69.465816</td>\n",
              "      <td>1.918586</td>\n",
              "      <td>10.182708</td>\n",
              "      <td>0.664118</td>\n",
              "      <td>16.999638</td>\n",
              "    </tr>\n",
              "    <tr>\n",
              "      <th>6</th>\n",
              "      <td>2016-01-15 06:00:00</td>\n",
              "      <td>6.038436</td>\n",
              "      <td>6.056253</td>\n",
              "      <td>2.105501</td>\n",
              "      <td>34.920570</td>\n",
              "      <td>523.376439</td>\n",
              "      <td>56.674647</td>\n",
              "      <td>11.535899</td>\n",
              "      <td>6.204974</td>\n",
              "      <td>999.832373</td>\n",
              "      <td>...</td>\n",
              "      <td>9.103047</td>\n",
              "      <td>41.995316</td>\n",
              "      <td>6.533849</td>\n",
              "      <td>10.058141</td>\n",
              "      <td>4.569100</td>\n",
              "      <td>69.300835</td>\n",
              "      <td>2.058913</td>\n",
              "      <td>10.304598</td>\n",
              "      <td>0.807342</td>\n",
              "      <td>16.723575</td>\n",
              "    </tr>\n",
              "    <tr>\n",
              "      <th>7</th>\n",
              "      <td>2016-01-15 07:00:00</td>\n",
              "      <td>6.433854</td>\n",
              "      <td>5.955053</td>\n",
              "      <td>2.310432</td>\n",
              "      <td>36.091386</td>\n",
              "      <td>549.842749</td>\n",
              "      <td>56.730325</td>\n",
              "      <td>12.557906</td>\n",
              "      <td>6.799275</td>\n",
              "      <td>1000.166602</td>\n",
              "      <td>...</td>\n",
              "      <td>9.369209</td>\n",
              "      <td>42.452727</td>\n",
              "      <td>6.130823</td>\n",
              "      <td>9.935481</td>\n",
              "      <td>4.389813</td>\n",
              "      <td>70.230976</td>\n",
              "      <td>2.143437</td>\n",
              "      <td>10.443288</td>\n",
              "      <td>0.949346</td>\n",
              "      <td>16.689959</td>\n",
              "    </tr>\n",
              "    <tr>\n",
              "      <th>8</th>\n",
              "      <td>2016-01-15 08:00:00</td>\n",
              "      <td>6.526612</td>\n",
              "      <td>5.878084</td>\n",
              "      <td>2.391713</td>\n",
              "      <td>35.753879</td>\n",
              "      <td>560.115242</td>\n",
              "      <td>56.649893</td>\n",
              "      <td>13.166128</td>\n",
              "      <td>6.798659</td>\n",
              "      <td>1000.026864</td>\n",
              "      <td>...</td>\n",
              "      <td>9.437044</td>\n",
              "      <td>43.404078</td>\n",
              "      <td>5.834140</td>\n",
              "      <td>10.071156</td>\n",
              "      <td>4.876389</td>\n",
              "      <td>69.688595</td>\n",
              "      <td>2.209881</td>\n",
              "      <td>10.420140</td>\n",
              "      <td>1.065453</td>\n",
              "      <td>17.201948</td>\n",
              "    </tr>\n",
              "    <tr>\n",
              "      <th>9</th>\n",
              "      <td>2016-01-15 09:00:00</td>\n",
              "      <td>6.747693</td>\n",
              "      <td>5.974832</td>\n",
              "      <td>2.539114</td>\n",
              "      <td>38.553938</td>\n",
              "      <td>566.616045</td>\n",
              "      <td>60.308763</td>\n",
              "      <td>13.996130</td>\n",
              "      <td>6.800263</td>\n",
              "      <td>1000.332327</td>\n",
              "      <td>...</td>\n",
              "      <td>9.582874</td>\n",
              "      <td>43.487291</td>\n",
              "      <td>5.706261</td>\n",
              "      <td>10.242511</td>\n",
              "      <td>5.214161</td>\n",
              "      <td>70.973641</td>\n",
              "      <td>2.200997</td>\n",
              "      <td>10.473539</td>\n",
              "      <td>1.171183</td>\n",
              "      <td>17.717049</td>\n",
              "    </tr>\n",
              "  </tbody>\n",
              "</table>\n",
              "<p>10 rows × 87 columns</p>\n",
              "</div>"
            ],
            "text/plain": [
              "                  date  rougher.input.feed_au  rougher.input.feed_ag  \\\n",
              "0  2016-01-15 00:00:00               6.486150               6.100378   \n",
              "1  2016-01-15 01:00:00               6.478583               6.161113   \n",
              "2  2016-01-15 02:00:00               6.362222               6.116455   \n",
              "3  2016-01-15 03:00:00               6.118189               6.043309   \n",
              "4  2016-01-15 04:00:00               5.663707               6.060915   \n",
              "5  2016-01-15 05:00:00               5.687168               5.801920   \n",
              "6  2016-01-15 06:00:00               6.038436               6.056253   \n",
              "7  2016-01-15 07:00:00               6.433854               5.955053   \n",
              "8  2016-01-15 08:00:00               6.526612               5.878084   \n",
              "9  2016-01-15 09:00:00               6.747693               5.974832   \n",
              "\n",
              "   rougher.input.feed_pb  rougher.input.feed_sol  rougher.input.feed_rate  \\\n",
              "0               2.284912               36.808594               523.546326   \n",
              "1               2.266033               35.753385               525.290581   \n",
              "2               2.159622               35.971630               530.026610   \n",
              "3               2.037807               36.862241               542.590390   \n",
              "4               1.786875               34.347666               540.531893   \n",
              "5               1.879351               35.470082               546.173470   \n",
              "6               2.105501               34.920570               523.376439   \n",
              "7               2.310432               36.091386               549.842749   \n",
              "8               2.391713               35.753879               560.115242   \n",
              "9               2.539114               38.553938               566.616045   \n",
              "\n",
              "   rougher.input.feed_size  rougher.input.floatbank10_sulfate  \\\n",
              "0                55.486599                          11.986616   \n",
              "1                57.278666                          11.971193   \n",
              "2                57.510649                          11.920603   \n",
              "3                57.792734                          11.630094   \n",
              "4                56.047189                          10.957755   \n",
              "5                57.469578                          11.072517   \n",
              "6                56.674647                          11.535899   \n",
              "7                56.730325                          12.557906   \n",
              "8                56.649893                          13.166128   \n",
              "9                60.308763                          13.996130   \n",
              "\n",
              "   rougher.input.floatbank10_xanthate  rougher.state.floatbank10_a_air  ...  \\\n",
              "0                            6.007990                       999.706909  ...   \n",
              "1                            6.005766                      1000.286398  ...   \n",
              "2                            6.197377                       999.719565  ...   \n",
              "3                            6.203177                       999.814770  ...   \n",
              "4                            6.198826                       999.678690  ...   \n",
              "5                            6.200383                       999.934134  ...   \n",
              "6                            6.204974                       999.832373  ...   \n",
              "7                            6.799275                      1000.166602  ...   \n",
              "8                            6.798659                      1000.026864  ...   \n",
              "9                            6.800263                      1000.332327  ...   \n",
              "\n",
              "   secondary_cleaner.output.tail_sol  final.output.concentrate_au  \\\n",
              "0                           8.764648                    42.192020   \n",
              "1                           9.001494                    42.701629   \n",
              "2                           8.842896                    42.657501   \n",
              "3                           9.122857                    42.689819   \n",
              "4                           8.871028                    42.774141   \n",
              "5                           9.302669                    41.633678   \n",
              "6                           9.103047                    41.995316   \n",
              "7                           9.369209                    42.452727   \n",
              "8                           9.437044                    43.404078   \n",
              "9                           9.582874                    43.487291   \n",
              "\n",
              "   final.output.concentrate_ag  final.output.concentrate_pb  \\\n",
              "0                     6.055403                     9.889648   \n",
              "1                     6.029369                     9.968944   \n",
              "2                     6.055926                    10.213995   \n",
              "3                     6.047977                     9.977019   \n",
              "4                     6.148599                    10.142511   \n",
              "5                     6.482968                    10.049416   \n",
              "6                     6.533849                    10.058141   \n",
              "7                     6.130823                     9.935481   \n",
              "8                     5.834140                    10.071156   \n",
              "9                     5.706261                    10.242511   \n",
              "\n",
              "   final.output.concentrate_sol  final.output.recovery  final.output.tail_au  \\\n",
              "0                      5.507324              70.541216              2.143149   \n",
              "1                      5.257781              69.266198              2.224930   \n",
              "2                      5.383759              68.116445              2.257889   \n",
              "3                      4.858634              68.347543              2.146849   \n",
              "4                      4.939416              66.927016              2.055292   \n",
              "5                      5.480257              69.465816              1.918586   \n",
              "6                      4.569100              69.300835              2.058913   \n",
              "7                      4.389813              70.230976              2.143437   \n",
              "8                      4.876389              69.688595              2.209881   \n",
              "9                      5.214161              70.973641              2.200997   \n",
              "\n",
              "   final.output.tail_ag  final.output.tail_pb  final.output.tail_sol  \n",
              "0             10.411962              0.895447              16.904297  \n",
              "1             10.462676              0.927452              16.634514  \n",
              "2             10.507046              0.953716              16.208849  \n",
              "3             10.422762              0.883763              16.532835  \n",
              "4             10.360302              0.792826              16.525686  \n",
              "5             10.182708              0.664118              16.999638  \n",
              "6             10.304598              0.807342              16.723575  \n",
              "7             10.443288              0.949346              16.689959  \n",
              "8             10.420140              1.065453              17.201948  \n",
              "9             10.473539              1.171183              17.717049  \n",
              "\n",
              "[10 rows x 87 columns]"
            ]
          },
          "execution_count": 11,
          "metadata": {},
          "output_type": "execute_result"
        }
      ],
      "source": [
        "data_real.head(10)"
      ]
    },
    {
      "cell_type": "code",
      "execution_count": null,
      "metadata": {
        "id": "iGQUyLVpDdhI",
        "outputId": "00ce90af-b819-44c9-a437-7c31b0a95d8c"
      },
      "outputs": [
        {
          "name": "stdout",
          "output_type": "stream",
          "text": [
            "<class 'pandas.core.frame.DataFrame'>\n",
            "RangeIndex: 19439 entries, 0 to 19438\n",
            "Data columns (total 87 columns):\n",
            " #   Column                                              Non-Null Count  Dtype  \n",
            "---  ------                                              --------------  -----  \n",
            " 0   date                                                19439 non-null  object \n",
            " 1   rougher.input.feed_au                               19439 non-null  float64\n",
            " 2   rougher.input.feed_ag                               19439 non-null  float64\n",
            " 3   rougher.input.feed_pb                               19339 non-null  float64\n",
            " 4   rougher.input.feed_sol                              19340 non-null  float64\n",
            " 5   rougher.input.feed_rate                             19428 non-null  float64\n",
            " 6   rougher.input.feed_size                             19294 non-null  float64\n",
            " 7   rougher.input.floatbank10_sulfate                   19405 non-null  float64\n",
            " 8   rougher.input.floatbank10_xanthate                  19431 non-null  float64\n",
            " 9   rougher.state.floatbank10_a_air                     19438 non-null  float64\n",
            " 10  rougher.state.floatbank10_a_level                   19438 non-null  float64\n",
            " 11  rougher.state.floatbank10_b_air                     19438 non-null  float64\n",
            " 12  rougher.state.floatbank10_b_level                   19438 non-null  float64\n",
            " 13  rougher.state.floatbank10_c_air                     19438 non-null  float64\n",
            " 14  rougher.state.floatbank10_c_level                   19438 non-null  float64\n",
            " 15  rougher.state.floatbank10_d_air                     19439 non-null  float64\n",
            " 16  rougher.state.floatbank10_d_level                   19439 non-null  float64\n",
            " 17  rougher.state.floatbank10_e_air                     19003 non-null  float64\n",
            " 18  rougher.state.floatbank10_e_level                   19439 non-null  float64\n",
            " 19  rougher.state.floatbank10_f_air                     19439 non-null  float64\n",
            " 20  rougher.state.floatbank10_f_level                   19439 non-null  float64\n",
            " 21  rougher.input.floatbank11_sulfate                   19395 non-null  float64\n",
            " 22  rougher.input.floatbank11_xanthate                  18986 non-null  float64\n",
            " 23  rougher.calculation.sulfate_to_au_concentrate       19437 non-null  float64\n",
            " 24  rougher.calculation.floatbank10_sulfate_to_au_feed  19437 non-null  float64\n",
            " 25  rougher.calculation.floatbank11_sulfate_to_au_feed  19437 non-null  float64\n",
            " 26  rougher.calculation.au_pb_ratio                     19439 non-null  float64\n",
            " 27  rougher.output.concentrate_au                       19439 non-null  float64\n",
            " 28  rougher.output.concentrate_ag                       19439 non-null  float64\n",
            " 29  rougher.output.concentrate_pb                       19439 non-null  float64\n",
            " 30  rougher.output.concentrate_sol                      19416 non-null  float64\n",
            " 31  rougher.output.recovery                             19439 non-null  float64\n",
            " 32  rougher.output.tail_au                              19439 non-null  float64\n",
            " 33  rougher.output.tail_ag                              19438 non-null  float64\n",
            " 34  rougher.output.tail_pb                              19439 non-null  float64\n",
            " 35  rougher.output.tail_sol                             19439 non-null  float64\n",
            " 36  primary_cleaner.input.sulfate                       19415 non-null  float64\n",
            " 37  primary_cleaner.input.depressant                    19402 non-null  float64\n",
            " 38  primary_cleaner.input.feed_size                     19439 non-null  float64\n",
            " 39  primary_cleaner.input.xanthate                      19335 non-null  float64\n",
            " 40  primary_cleaner.state.floatbank8_a_air              19435 non-null  float64\n",
            " 41  primary_cleaner.state.floatbank8_a_level            19438 non-null  float64\n",
            " 42  primary_cleaner.state.floatbank8_b_air              19435 non-null  float64\n",
            " 43  primary_cleaner.state.floatbank8_b_level            19438 non-null  float64\n",
            " 44  primary_cleaner.state.floatbank8_c_air              19437 non-null  float64\n",
            " 45  primary_cleaner.state.floatbank8_c_level            19438 non-null  float64\n",
            " 46  primary_cleaner.state.floatbank8_d_air              19436 non-null  float64\n",
            " 47  primary_cleaner.state.floatbank8_d_level            19438 non-null  float64\n",
            " 48  primary_cleaner.output.concentrate_au               19439 non-null  float64\n",
            " 49  primary_cleaner.output.concentrate_ag               19439 non-null  float64\n",
            " 50  primary_cleaner.output.concentrate_pb               19323 non-null  float64\n",
            " 51  primary_cleaner.output.concentrate_sol              19069 non-null  float64\n",
            " 52  primary_cleaner.output.tail_au                      19439 non-null  float64\n",
            " 53  primary_cleaner.output.tail_ag                      19435 non-null  float64\n",
            " 54  primary_cleaner.output.tail_pb                      19418 non-null  float64\n",
            " 55  primary_cleaner.output.tail_sol                     19377 non-null  float64\n",
            " 56  secondary_cleaner.state.floatbank2_a_air            19219 non-null  float64\n",
            " 57  secondary_cleaner.state.floatbank2_a_level          19438 non-null  float64\n",
            " 58  secondary_cleaner.state.floatbank2_b_air            19416 non-null  float64\n",
            " 59  secondary_cleaner.state.floatbank2_b_level          19438 non-null  float64\n",
            " 60  secondary_cleaner.state.floatbank3_a_air            19426 non-null  float64\n",
            " 61  secondary_cleaner.state.floatbank3_a_level          19438 non-null  float64\n",
            " 62  secondary_cleaner.state.floatbank3_b_air            19438 non-null  float64\n",
            " 63  secondary_cleaner.state.floatbank3_b_level          19438 non-null  float64\n",
            " 64  secondary_cleaner.state.floatbank4_a_air            19433 non-null  float64\n",
            " 65  secondary_cleaner.state.floatbank4_a_level          19438 non-null  float64\n",
            " 66  secondary_cleaner.state.floatbank4_b_air            19438 non-null  float64\n",
            " 67  secondary_cleaner.state.floatbank4_b_level          19438 non-null  float64\n",
            " 68  secondary_cleaner.state.floatbank5_a_air            19438 non-null  float64\n",
            " 69  secondary_cleaner.state.floatbank5_a_level          19438 non-null  float64\n",
            " 70  secondary_cleaner.state.floatbank5_b_air            19438 non-null  float64\n",
            " 71  secondary_cleaner.state.floatbank5_b_level          19438 non-null  float64\n",
            " 72  secondary_cleaner.state.floatbank6_a_air            19437 non-null  float64\n",
            " 73  secondary_cleaner.state.floatbank6_a_level          19438 non-null  float64\n",
            " 74  secondary_cleaner.output.tail_au                    19439 non-null  float64\n",
            " 75  secondary_cleaner.output.tail_ag                    19437 non-null  float64\n",
            " 76  secondary_cleaner.output.tail_pb                    19427 non-null  float64\n",
            " 77  secondary_cleaner.output.tail_sol                   17691 non-null  float64\n",
            " 78  final.output.concentrate_au                         19439 non-null  float64\n",
            " 79  final.output.concentrate_ag                         19438 non-null  float64\n",
            " 80  final.output.concentrate_pb                         19438 non-null  float64\n",
            " 81  final.output.concentrate_sol                        19228 non-null  float64\n",
            " 82  final.output.recovery                               19439 non-null  float64\n",
            " 83  final.output.tail_au                                19439 non-null  float64\n",
            " 84  final.output.tail_ag                                19438 non-null  float64\n",
            " 85  final.output.tail_pb                                19338 non-null  float64\n",
            " 86  final.output.tail_sol                               19433 non-null  float64\n",
            "dtypes: float64(86), object(1)\n",
            "memory usage: 14.2 MB\n"
          ]
        }
      ],
      "source": [
        "data_real.info(memory_usage='deep')"
      ]
    },
    {
      "cell_type": "code",
      "execution_count": null,
      "metadata": {
        "id": "8H4giJ7JDdhI",
        "outputId": "03dc8e11-63c4-4f4d-eb20-f9e472378532"
      },
      "outputs": [
        {
          "data": {
            "text/plain": [
              "date                        0\n",
              "rougher.input.feed_au       0\n",
              "rougher.input.feed_ag       0\n",
              "rougher.input.feed_pb     100\n",
              "rougher.input.feed_sol     99\n",
              "                         ... \n",
              "final.output.recovery       0\n",
              "final.output.tail_au        0\n",
              "final.output.tail_ag        1\n",
              "final.output.tail_pb      101\n",
              "final.output.tail_sol       6\n",
              "Length: 87, dtype: int64"
            ]
          },
          "execution_count": 13,
          "metadata": {},
          "output_type": "execute_result"
        }
      ],
      "source": [
        "data_real.isna().sum()"
      ]
    },
    {
      "cell_type": "code",
      "execution_count": null,
      "metadata": {
        "id": "Zi7w_95BDdhI",
        "outputId": "8db42d96-50ec-416a-aa6a-0f6b361b946c"
      },
      "outputs": [
        {
          "data": {
            "text/html": [
              "<div>\n",
              "<style scoped>\n",
              "    .dataframe tbody tr th:only-of-type {\n",
              "        vertical-align: middle;\n",
              "    }\n",
              "\n",
              "    .dataframe tbody tr th {\n",
              "        vertical-align: top;\n",
              "    }\n",
              "\n",
              "    .dataframe thead th {\n",
              "        text-align: right;\n",
              "    }\n",
              "</style>\n",
              "<table border=\"1\" class=\"dataframe\">\n",
              "  <thead>\n",
              "    <tr style=\"text-align: right;\">\n",
              "      <th></th>\n",
              "      <th>date</th>\n",
              "      <th>rougher.input.feed_au</th>\n",
              "      <th>rougher.input.feed_ag</th>\n",
              "      <th>rougher.input.feed_pb</th>\n",
              "      <th>rougher.input.feed_sol</th>\n",
              "      <th>rougher.input.feed_rate</th>\n",
              "      <th>rougher.input.feed_size</th>\n",
              "      <th>rougher.input.floatbank10_sulfate</th>\n",
              "      <th>rougher.input.floatbank10_xanthate</th>\n",
              "      <th>rougher.state.floatbank10_a_air</th>\n",
              "      <th>...</th>\n",
              "      <th>secondary_cleaner.output.tail_sol</th>\n",
              "      <th>final.output.concentrate_au</th>\n",
              "      <th>final.output.concentrate_ag</th>\n",
              "      <th>final.output.concentrate_pb</th>\n",
              "      <th>final.output.concentrate_sol</th>\n",
              "      <th>final.output.recovery</th>\n",
              "      <th>final.output.tail_au</th>\n",
              "      <th>final.output.tail_ag</th>\n",
              "      <th>final.output.tail_pb</th>\n",
              "      <th>final.output.tail_sol</th>\n",
              "    </tr>\n",
              "  </thead>\n",
              "  <tbody>\n",
              "    <tr>\n",
              "      <th>262</th>\n",
              "      <td>2016-01-27 14:00:00</td>\n",
              "      <td>3.514019</td>\n",
              "      <td>7.504396</td>\n",
              "      <td>NaN</td>\n",
              "      <td>29.200848</td>\n",
              "      <td>202.024295</td>\n",
              "      <td>60.125904</td>\n",
              "      <td>4.500554</td>\n",
              "      <td>2.616880</td>\n",
              "      <td>1000.752695</td>\n",
              "      <td>...</td>\n",
              "      <td>2.088724</td>\n",
              "      <td>40.328310</td>\n",
              "      <td>9.292335</td>\n",
              "      <td>8.603079</td>\n",
              "      <td>NaN</td>\n",
              "      <td>40.604484</td>\n",
              "      <td>2.163724</td>\n",
              "      <td>11.107299</td>\n",
              "      <td>0.340029</td>\n",
              "      <td>5.535904</td>\n",
              "    </tr>\n",
              "    <tr>\n",
              "      <th>354</th>\n",
              "      <td>2016-02-01 04:00:00</td>\n",
              "      <td>4.155161</td>\n",
              "      <td>8.782859</td>\n",
              "      <td>NaN</td>\n",
              "      <td>NaN</td>\n",
              "      <td>411.555909</td>\n",
              "      <td>36.936359</td>\n",
              "      <td>6.966367</td>\n",
              "      <td>5.552877</td>\n",
              "      <td>1000.501509</td>\n",
              "      <td>...</td>\n",
              "      <td>9.624694</td>\n",
              "      <td>44.654136</td>\n",
              "      <td>5.637249</td>\n",
              "      <td>9.405023</td>\n",
              "      <td>0.911648</td>\n",
              "      <td>42.357525</td>\n",
              "      <td>2.493415</td>\n",
              "      <td>11.555843</td>\n",
              "      <td>1.498860</td>\n",
              "      <td>11.246721</td>\n",
              "    </tr>\n",
              "    <tr>\n",
              "      <th>760</th>\n",
              "      <td>2016-02-18 22:00:00</td>\n",
              "      <td>3.682222</td>\n",
              "      <td>7.146042</td>\n",
              "      <td>NaN</td>\n",
              "      <td>29.748334</td>\n",
              "      <td>477.952640</td>\n",
              "      <td>54.936135</td>\n",
              "      <td>6.016813</td>\n",
              "      <td>3.638118</td>\n",
              "      <td>991.691682</td>\n",
              "      <td>...</td>\n",
              "      <td>9.869267</td>\n",
              "      <td>31.183485</td>\n",
              "      <td>3.253537</td>\n",
              "      <td>7.229496</td>\n",
              "      <td>5.910253</td>\n",
              "      <td>68.950557</td>\n",
              "      <td>1.244647</td>\n",
              "      <td>8.182029</td>\n",
              "      <td>NaN</td>\n",
              "      <td>6.746923</td>\n",
              "    </tr>\n",
              "    <tr>\n",
              "      <th>761</th>\n",
              "      <td>2016-02-18 23:00:00</td>\n",
              "      <td>4.478027</td>\n",
              "      <td>7.888903</td>\n",
              "      <td>NaN</td>\n",
              "      <td>33.534971</td>\n",
              "      <td>492.788388</td>\n",
              "      <td>54.891904</td>\n",
              "      <td>5.501627</td>\n",
              "      <td>3.220578</td>\n",
              "      <td>990.982997</td>\n",
              "      <td>...</td>\n",
              "      <td>10.580796</td>\n",
              "      <td>46.534848</td>\n",
              "      <td>4.242921</td>\n",
              "      <td>10.294672</td>\n",
              "      <td>7.586523</td>\n",
              "      <td>62.388421</td>\n",
              "      <td>1.791831</td>\n",
              "      <td>10.674696</td>\n",
              "      <td>NaN</td>\n",
              "      <td>9.679080</td>\n",
              "    </tr>\n",
              "    <tr>\n",
              "      <th>852</th>\n",
              "      <td>2016-02-22 22:00:00</td>\n",
              "      <td>3.691317</td>\n",
              "      <td>7.551066</td>\n",
              "      <td>NaN</td>\n",
              "      <td>NaN</td>\n",
              "      <td>489.383457</td>\n",
              "      <td>49.991229</td>\n",
              "      <td>4.785527</td>\n",
              "      <td>3.095143</td>\n",
              "      <td>989.995014</td>\n",
              "      <td>...</td>\n",
              "      <td>11.445213</td>\n",
              "      <td>41.755563</td>\n",
              "      <td>4.643427</td>\n",
              "      <td>11.799903</td>\n",
              "      <td>7.532330</td>\n",
              "      <td>29.387374</td>\n",
              "      <td>2.676058</td>\n",
              "      <td>10.644910</td>\n",
              "      <td>1.278552</td>\n",
              "      <td>13.509223</td>\n",
              "    </tr>\n",
              "    <tr>\n",
              "      <th>918</th>\n",
              "      <td>2016-02-25 16:00:00</td>\n",
              "      <td>2.106483</td>\n",
              "      <td>7.846996</td>\n",
              "      <td>NaN</td>\n",
              "      <td>NaN</td>\n",
              "      <td>213.827893</td>\n",
              "      <td>44.402832</td>\n",
              "      <td>6.447446</td>\n",
              "      <td>4.041024</td>\n",
              "      <td>1000.711633</td>\n",
              "      <td>...</td>\n",
              "      <td>0.000000</td>\n",
              "      <td>43.121872</td>\n",
              "      <td>4.978376</td>\n",
              "      <td>10.380017</td>\n",
              "      <td>NaN</td>\n",
              "      <td>15.887114</td>\n",
              "      <td>1.785682</td>\n",
              "      <td>10.137380</td>\n",
              "      <td>0.870445</td>\n",
              "      <td>17.765880</td>\n",
              "    </tr>\n",
              "    <tr>\n",
              "      <th>919</th>\n",
              "      <td>2016-02-25 17:00:00</td>\n",
              "      <td>2.628128</td>\n",
              "      <td>7.566549</td>\n",
              "      <td>NaN</td>\n",
              "      <td>NaN</td>\n",
              "      <td>179.425096</td>\n",
              "      <td>61.097736</td>\n",
              "      <td>4.003762</td>\n",
              "      <td>2.496125</td>\n",
              "      <td>1000.079060</td>\n",
              "      <td>...</td>\n",
              "      <td>5.958196</td>\n",
              "      <td>41.506126</td>\n",
              "      <td>7.449749</td>\n",
              "      <td>7.814327</td>\n",
              "      <td>NaN</td>\n",
              "      <td>5.813479</td>\n",
              "      <td>2.484487</td>\n",
              "      <td>11.656130</td>\n",
              "      <td>1.246949</td>\n",
              "      <td>3.811963</td>\n",
              "    </tr>\n",
              "    <tr>\n",
              "      <th>1175</th>\n",
              "      <td>2016-03-10 16:00:00</td>\n",
              "      <td>5.204188</td>\n",
              "      <td>6.287612</td>\n",
              "      <td>NaN</td>\n",
              "      <td>26.950710</td>\n",
              "      <td>449.065692</td>\n",
              "      <td>47.160965</td>\n",
              "      <td>8.994607</td>\n",
              "      <td>5.996812</td>\n",
              "      <td>998.952149</td>\n",
              "      <td>...</td>\n",
              "      <td>11.118625</td>\n",
              "      <td>47.293059</td>\n",
              "      <td>5.456930</td>\n",
              "      <td>8.554733</td>\n",
              "      <td>NaN</td>\n",
              "      <td>41.614843</td>\n",
              "      <td>3.184293</td>\n",
              "      <td>10.761689</td>\n",
              "      <td>1.404221</td>\n",
              "      <td>15.087121</td>\n",
              "    </tr>\n",
              "    <tr>\n",
              "      <th>1246</th>\n",
              "      <td>2016-03-13 15:00:00</td>\n",
              "      <td>3.048159</td>\n",
              "      <td>7.480951</td>\n",
              "      <td>NaN</td>\n",
              "      <td>NaN</td>\n",
              "      <td>176.819859</td>\n",
              "      <td>55.244951</td>\n",
              "      <td>3.996756</td>\n",
              "      <td>2.495699</td>\n",
              "      <td>1000.680318</td>\n",
              "      <td>...</td>\n",
              "      <td>NaN</td>\n",
              "      <td>43.050052</td>\n",
              "      <td>9.943401</td>\n",
              "      <td>7.542210</td>\n",
              "      <td>NaN</td>\n",
              "      <td>5.982863</td>\n",
              "      <td>2.877984</td>\n",
              "      <td>11.186132</td>\n",
              "      <td>1.037645</td>\n",
              "      <td>4.265981</td>\n",
              "    </tr>\n",
              "    <tr>\n",
              "      <th>13301</th>\n",
              "      <td>2017-10-15 03:59:59</td>\n",
              "      <td>2.450551</td>\n",
              "      <td>6.648316</td>\n",
              "      <td>NaN</td>\n",
              "      <td>41.739046</td>\n",
              "      <td>574.378897</td>\n",
              "      <td>56.502525</td>\n",
              "      <td>5.053696</td>\n",
              "      <td>5.498925</td>\n",
              "      <td>1201.251521</td>\n",
              "      <td>...</td>\n",
              "      <td>NaN</td>\n",
              "      <td>43.799048</td>\n",
              "      <td>5.936281</td>\n",
              "      <td>10.628963</td>\n",
              "      <td>8.094710</td>\n",
              "      <td>42.942625</td>\n",
              "      <td>1.432641</td>\n",
              "      <td>9.324558</td>\n",
              "      <td>0.987726</td>\n",
              "      <td>9.450270</td>\n",
              "    </tr>\n",
              "  </tbody>\n",
              "</table>\n",
              "<p>10 rows × 87 columns</p>\n",
              "</div>"
            ],
            "text/plain": [
              "                      date  rougher.input.feed_au  rougher.input.feed_ag  \\\n",
              "262    2016-01-27 14:00:00               3.514019               7.504396   \n",
              "354    2016-02-01 04:00:00               4.155161               8.782859   \n",
              "760    2016-02-18 22:00:00               3.682222               7.146042   \n",
              "761    2016-02-18 23:00:00               4.478027               7.888903   \n",
              "852    2016-02-22 22:00:00               3.691317               7.551066   \n",
              "918    2016-02-25 16:00:00               2.106483               7.846996   \n",
              "919    2016-02-25 17:00:00               2.628128               7.566549   \n",
              "1175   2016-03-10 16:00:00               5.204188               6.287612   \n",
              "1246   2016-03-13 15:00:00               3.048159               7.480951   \n",
              "13301  2017-10-15 03:59:59               2.450551               6.648316   \n",
              "\n",
              "       rougher.input.feed_pb  rougher.input.feed_sol  rougher.input.feed_rate  \\\n",
              "262                      NaN               29.200848               202.024295   \n",
              "354                      NaN                     NaN               411.555909   \n",
              "760                      NaN               29.748334               477.952640   \n",
              "761                      NaN               33.534971               492.788388   \n",
              "852                      NaN                     NaN               489.383457   \n",
              "918                      NaN                     NaN               213.827893   \n",
              "919                      NaN                     NaN               179.425096   \n",
              "1175                     NaN               26.950710               449.065692   \n",
              "1246                     NaN                     NaN               176.819859   \n",
              "13301                    NaN               41.739046               574.378897   \n",
              "\n",
              "       rougher.input.feed_size  rougher.input.floatbank10_sulfate  \\\n",
              "262                  60.125904                           4.500554   \n",
              "354                  36.936359                           6.966367   \n",
              "760                  54.936135                           6.016813   \n",
              "761                  54.891904                           5.501627   \n",
              "852                  49.991229                           4.785527   \n",
              "918                  44.402832                           6.447446   \n",
              "919                  61.097736                           4.003762   \n",
              "1175                 47.160965                           8.994607   \n",
              "1246                 55.244951                           3.996756   \n",
              "13301                56.502525                           5.053696   \n",
              "\n",
              "       rougher.input.floatbank10_xanthate  rougher.state.floatbank10_a_air  \\\n",
              "262                              2.616880                      1000.752695   \n",
              "354                              5.552877                      1000.501509   \n",
              "760                              3.638118                       991.691682   \n",
              "761                              3.220578                       990.982997   \n",
              "852                              3.095143                       989.995014   \n",
              "918                              4.041024                      1000.711633   \n",
              "919                              2.496125                      1000.079060   \n",
              "1175                             5.996812                       998.952149   \n",
              "1246                             2.495699                      1000.680318   \n",
              "13301                            5.498925                      1201.251521   \n",
              "\n",
              "       ...  secondary_cleaner.output.tail_sol  final.output.concentrate_au  \\\n",
              "262    ...                           2.088724                    40.328310   \n",
              "354    ...                           9.624694                    44.654136   \n",
              "760    ...                           9.869267                    31.183485   \n",
              "761    ...                          10.580796                    46.534848   \n",
              "852    ...                          11.445213                    41.755563   \n",
              "918    ...                           0.000000                    43.121872   \n",
              "919    ...                           5.958196                    41.506126   \n",
              "1175   ...                          11.118625                    47.293059   \n",
              "1246   ...                                NaN                    43.050052   \n",
              "13301  ...                                NaN                    43.799048   \n",
              "\n",
              "       final.output.concentrate_ag  final.output.concentrate_pb  \\\n",
              "262                       9.292335                     8.603079   \n",
              "354                       5.637249                     9.405023   \n",
              "760                       3.253537                     7.229496   \n",
              "761                       4.242921                    10.294672   \n",
              "852                       4.643427                    11.799903   \n",
              "918                       4.978376                    10.380017   \n",
              "919                       7.449749                     7.814327   \n",
              "1175                      5.456930                     8.554733   \n",
              "1246                      9.943401                     7.542210   \n",
              "13301                     5.936281                    10.628963   \n",
              "\n",
              "       final.output.concentrate_sol  final.output.recovery  \\\n",
              "262                             NaN              40.604484   \n",
              "354                        0.911648              42.357525   \n",
              "760                        5.910253              68.950557   \n",
              "761                        7.586523              62.388421   \n",
              "852                        7.532330              29.387374   \n",
              "918                             NaN              15.887114   \n",
              "919                             NaN               5.813479   \n",
              "1175                            NaN              41.614843   \n",
              "1246                            NaN               5.982863   \n",
              "13301                      8.094710              42.942625   \n",
              "\n",
              "       final.output.tail_au  final.output.tail_ag  final.output.tail_pb  \\\n",
              "262                2.163724             11.107299              0.340029   \n",
              "354                2.493415             11.555843              1.498860   \n",
              "760                1.244647              8.182029                   NaN   \n",
              "761                1.791831             10.674696                   NaN   \n",
              "852                2.676058             10.644910              1.278552   \n",
              "918                1.785682             10.137380              0.870445   \n",
              "919                2.484487             11.656130              1.246949   \n",
              "1175               3.184293             10.761689              1.404221   \n",
              "1246               2.877984             11.186132              1.037645   \n",
              "13301              1.432641              9.324558              0.987726   \n",
              "\n",
              "       final.output.tail_sol  \n",
              "262                 5.535904  \n",
              "354                11.246721  \n",
              "760                 6.746923  \n",
              "761                 9.679080  \n",
              "852                13.509223  \n",
              "918                17.765880  \n",
              "919                 3.811963  \n",
              "1175               15.087121  \n",
              "1246                4.265981  \n",
              "13301               9.450270  \n",
              "\n",
              "[10 rows x 87 columns]"
            ]
          },
          "execution_count": 14,
          "metadata": {},
          "output_type": "execute_result"
        }
      ],
      "source": [
        "data_real[data_real['rougher.input.feed_pb'].isna()].head(10)"
      ]
    },
    {
      "cell_type": "code",
      "execution_count": null,
      "metadata": {
        "id": "hcOdRD4nDdhI",
        "outputId": "0c8900d6-e4a8-4016-8414-d0893c025638"
      },
      "outputs": [
        {
          "data": {
            "text/plain": [
              "262      2016-01-27 14:00:00\n",
              "354      2016-02-01 04:00:00\n",
              "760      2016-02-18 22:00:00\n",
              "761      2016-02-18 23:00:00\n",
              "852      2016-02-22 22:00:00\n",
              "                ...         \n",
              "15442    2018-02-04 03:59:59\n",
              "15443    2018-02-04 04:59:59\n",
              "15469    2018-02-05 07:59:59\n",
              "18667    2018-07-06 22:59:59\n",
              "18668    2018-07-06 23:59:59\n",
              "Name: date, Length: 100, dtype: object"
            ]
          },
          "execution_count": 15,
          "metadata": {},
          "output_type": "execute_result"
        }
      ],
      "source": [
        "data_real[data_real['rougher.input.feed_pb'].isna()]['date']"
      ]
    },
    {
      "cell_type": "code",
      "execution_count": null,
      "metadata": {
        "id": "YMiVXUAMDdhJ",
        "outputId": "96df1b7d-d065-48d8-e88a-81d4dd2ff4b4"
      },
      "outputs": [
        {
          "data": {
            "text/plain": [
              "38       2016-01-16 14:00:00\n",
              "82       2016-01-18 12:00:00\n",
              "84       2016-01-18 14:00:00\n",
              "216      2016-01-25 16:00:00\n",
              "354      2016-02-01 04:00:00\n",
              "                ...         \n",
              "18324    2018-06-19 18:59:59\n",
              "18781    2018-07-12 00:59:59\n",
              "18808    2018-07-13 03:59:59\n",
              "18896    2018-07-17 02:59:59\n",
              "19315    2018-08-13 02:59:59\n",
              "Name: date, Length: 99, dtype: object"
            ]
          },
          "execution_count": 16,
          "metadata": {},
          "output_type": "execute_result"
        }
      ],
      "source": [
        "data_real[data_real['rougher.input.feed_sol'].isna()]['date']"
      ]
    },
    {
      "cell_type": "code",
      "execution_count": null,
      "metadata": {
        "id": "zgspwlAUDdhJ",
        "outputId": "4cc0577b-72bf-439f-d02c-787e8ce09052"
      },
      "outputs": [
        {
          "data": {
            "text/plain": [
              "0"
            ]
          },
          "execution_count": 17,
          "metadata": {},
          "output_type": "execute_result"
        }
      ],
      "source": [
        "data_real.duplicated().sum()"
      ]
    },
    {
      "cell_type": "code",
      "execution_count": null,
      "metadata": {
        "id": "iKXcwggWDdhJ",
        "outputId": "c3fa4824-bf9b-4680-edbe-2136a4e124cb"
      },
      "outputs": [
        {
          "name": "stdout",
          "output_type": "stream",
          "text": [
            "(19439, 87) (14579, 87) (4860, 53)\n"
          ]
        }
      ],
      "source": [
        "# Размерность таблиц\n",
        "print(data_real.shape, data_train.shape, data_test.shape)"
      ]
    },
    {
      "cell_type": "markdown",
      "metadata": {
        "id": "s9YQnxb6DdhJ"
      },
      "source": [
        "**Тестовый набор данных содержит значительно меньше столбцов - разница в 34 столбца. Выискивать из глазами совсем неудобно. Пройдемся в цикле по обучающей выборке по названию столбцов и найдем те, которые отсутствуют в тестовой выборке. Можно предположить, то это данные, касающиеся выходных значений. Которые модель должна предсказать.**"
      ]
    },
    {
      "cell_type": "code",
      "execution_count": null,
      "metadata": {
        "id": "cNaLaFFoDdhJ",
        "outputId": "b1b08537-38ae-4900-ee87-84a63bd76305"
      },
      "outputs": [
        {
          "name": "stdout",
          "output_type": "stream",
          "text": [
            "1 rougher.calculation.sulfate_to_au_concentrate\n",
            "2 rougher.calculation.floatbank10_sulfate_to_au_feed\n",
            "3 rougher.calculation.floatbank11_sulfate_to_au_feed\n",
            "4 rougher.calculation.au_pb_ratio\n",
            "5 rougher.output.concentrate_au\n",
            "6 rougher.output.concentrate_ag\n",
            "7 rougher.output.concentrate_pb\n",
            "8 rougher.output.concentrate_sol\n",
            "9 rougher.output.recovery\n",
            "10 rougher.output.tail_au\n",
            "11 rougher.output.tail_ag\n",
            "12 rougher.output.tail_pb\n",
            "13 rougher.output.tail_sol\n",
            "14 primary_cleaner.output.concentrate_au\n",
            "15 primary_cleaner.output.concentrate_ag\n",
            "16 primary_cleaner.output.concentrate_pb\n",
            "17 primary_cleaner.output.concentrate_sol\n",
            "18 primary_cleaner.output.tail_au\n",
            "19 primary_cleaner.output.tail_ag\n",
            "20 primary_cleaner.output.tail_pb\n",
            "21 primary_cleaner.output.tail_sol\n",
            "22 secondary_cleaner.output.tail_au\n",
            "23 secondary_cleaner.output.tail_ag\n",
            "24 secondary_cleaner.output.tail_pb\n",
            "25 secondary_cleaner.output.tail_sol\n",
            "26 final.output.concentrate_au\n",
            "27 final.output.concentrate_ag\n",
            "28 final.output.concentrate_pb\n",
            "29 final.output.concentrate_sol\n",
            "30 final.output.recovery\n",
            "31 final.output.tail_au\n",
            "32 final.output.tail_ag\n",
            "33 final.output.tail_pb\n",
            "34 final.output.tail_sol\n",
            "\n",
            " 34 столбца отсутствует в сравнении с тренировочной выборкой \n"
          ]
        }
      ],
      "source": [
        "# Определим, какие столбцы отсутствуют в тестовом датасете.\n",
        "count = 0\n",
        "for item in data_train.columns.unique():\n",
        "    if item not in data_test.columns.unique():\n",
        "        count += 1\n",
        "        print(count, item)\n",
        "print('\\n', count, 'столбца отсутствует в сравнении с тренировочной выборкой ')"
      ]
    },
    {
      "cell_type": "code",
      "execution_count": null,
      "metadata": {
        "id": "xando0CoDdhK",
        "outputId": "4c816c55-3be7-4070-8971-9667fc693104"
      },
      "outputs": [
        {
          "data": {
            "text/html": [
              "<div>\n",
              "<style scoped>\n",
              "    .dataframe tbody tr th:only-of-type {\n",
              "        vertical-align: middle;\n",
              "    }\n",
              "\n",
              "    .dataframe tbody tr th {\n",
              "        vertical-align: top;\n",
              "    }\n",
              "\n",
              "    .dataframe thead th {\n",
              "        text-align: right;\n",
              "    }\n",
              "</style>\n",
              "<table border=\"1\" class=\"dataframe\">\n",
              "  <thead>\n",
              "    <tr style=\"text-align: right;\">\n",
              "      <th></th>\n",
              "      <th>rougher.input.feed_au</th>\n",
              "      <th>rougher.input.feed_ag</th>\n",
              "      <th>rougher.input.feed_pb</th>\n",
              "      <th>rougher.input.feed_sol</th>\n",
              "      <th>rougher.input.feed_rate</th>\n",
              "      <th>rougher.input.feed_size</th>\n",
              "      <th>rougher.input.floatbank10_sulfate</th>\n",
              "      <th>rougher.input.floatbank10_xanthate</th>\n",
              "      <th>rougher.state.floatbank10_a_air</th>\n",
              "      <th>rougher.state.floatbank10_a_level</th>\n",
              "      <th>...</th>\n",
              "      <th>secondary_cleaner.output.tail_sol</th>\n",
              "      <th>final.output.concentrate_au</th>\n",
              "      <th>final.output.concentrate_ag</th>\n",
              "      <th>final.output.concentrate_pb</th>\n",
              "      <th>final.output.concentrate_sol</th>\n",
              "      <th>final.output.recovery</th>\n",
              "      <th>final.output.tail_au</th>\n",
              "      <th>final.output.tail_ag</th>\n",
              "      <th>final.output.tail_pb</th>\n",
              "      <th>final.output.tail_sol</th>\n",
              "    </tr>\n",
              "  </thead>\n",
              "  <tbody>\n",
              "    <tr>\n",
              "      <th>count</th>\n",
              "      <td>19439.000000</td>\n",
              "      <td>19439.000000</td>\n",
              "      <td>19339.000000</td>\n",
              "      <td>19340.000000</td>\n",
              "      <td>19428.000000</td>\n",
              "      <td>19294.000000</td>\n",
              "      <td>19405.000000</td>\n",
              "      <td>19431.000000</td>\n",
              "      <td>19438.000000</td>\n",
              "      <td>19438.000000</td>\n",
              "      <td>...</td>\n",
              "      <td>17691.000000</td>\n",
              "      <td>19439.000000</td>\n",
              "      <td>19438.000000</td>\n",
              "      <td>19438.000000</td>\n",
              "      <td>19228.000000</td>\n",
              "      <td>19439.000000</td>\n",
              "      <td>19439.000000</td>\n",
              "      <td>19438.000000</td>\n",
              "      <td>19338.000000</td>\n",
              "      <td>19433.000000</td>\n",
              "    </tr>\n",
              "    <tr>\n",
              "      <th>mean</th>\n",
              "      <td>8.266097</td>\n",
              "      <td>8.794927</td>\n",
              "      <td>3.598085</td>\n",
              "      <td>36.695114</td>\n",
              "      <td>478.320042</td>\n",
              "      <td>58.970310</td>\n",
              "      <td>12.334373</td>\n",
              "      <td>6.021474</td>\n",
              "      <td>1105.315068</td>\n",
              "      <td>-376.610690</td>\n",
              "      <td>...</td>\n",
              "      <td>7.167247</td>\n",
              "      <td>44.076513</td>\n",
              "      <td>5.168470</td>\n",
              "      <td>9.978895</td>\n",
              "      <td>9.501224</td>\n",
              "      <td>67.050208</td>\n",
              "      <td>3.042467</td>\n",
              "      <td>9.688589</td>\n",
              "      <td>2.705795</td>\n",
              "      <td>10.583728</td>\n",
              "    </tr>\n",
              "    <tr>\n",
              "      <th>std</th>\n",
              "      <td>1.955092</td>\n",
              "      <td>1.936847</td>\n",
              "      <td>1.049486</td>\n",
              "      <td>5.145445</td>\n",
              "      <td>105.373758</td>\n",
              "      <td>21.634478</td>\n",
              "      <td>3.427317</td>\n",
              "      <td>1.127263</td>\n",
              "      <td>160.826798</td>\n",
              "      <td>93.909667</td>\n",
              "      <td>...</td>\n",
              "      <td>3.916079</td>\n",
              "      <td>5.129784</td>\n",
              "      <td>1.372348</td>\n",
              "      <td>1.669240</td>\n",
              "      <td>2.787537</td>\n",
              "      <td>10.125840</td>\n",
              "      <td>0.922808</td>\n",
              "      <td>2.328642</td>\n",
              "      <td>0.949077</td>\n",
              "      <td>2.868782</td>\n",
              "    </tr>\n",
              "    <tr>\n",
              "      <th>min</th>\n",
              "      <td>0.010000</td>\n",
              "      <td>0.010000</td>\n",
              "      <td>0.010000</td>\n",
              "      <td>0.010000</td>\n",
              "      <td>0.002986</td>\n",
              "      <td>0.046369</td>\n",
              "      <td>0.001083</td>\n",
              "      <td>0.000568</td>\n",
              "      <td>-0.042069</td>\n",
              "      <td>-657.949759</td>\n",
              "      <td>...</td>\n",
              "      <td>0.000000</td>\n",
              "      <td>0.000000</td>\n",
              "      <td>0.000000</td>\n",
              "      <td>0.000000</td>\n",
              "      <td>0.000000</td>\n",
              "      <td>0.000000</td>\n",
              "      <td>0.000000</td>\n",
              "      <td>0.000000</td>\n",
              "      <td>0.000000</td>\n",
              "      <td>0.000000</td>\n",
              "    </tr>\n",
              "    <tr>\n",
              "      <th>25%</th>\n",
              "      <td>6.854384</td>\n",
              "      <td>7.237967</td>\n",
              "      <td>2.887280</td>\n",
              "      <td>34.207799</td>\n",
              "      <td>416.525453</td>\n",
              "      <td>47.435103</td>\n",
              "      <td>10.000362</td>\n",
              "      <td>5.398678</td>\n",
              "      <td>999.661867</td>\n",
              "      <td>-499.835165</td>\n",
              "      <td>...</td>\n",
              "      <td>3.845475</td>\n",
              "      <td>43.402215</td>\n",
              "      <td>4.251240</td>\n",
              "      <td>9.137262</td>\n",
              "      <td>7.722820</td>\n",
              "      <td>63.299712</td>\n",
              "      <td>2.461138</td>\n",
              "      <td>8.062878</td>\n",
              "      <td>2.040119</td>\n",
              "      <td>8.938947</td>\n",
              "    </tr>\n",
              "    <tr>\n",
              "      <th>50%</th>\n",
              "      <td>8.125839</td>\n",
              "      <td>8.593574</td>\n",
              "      <td>3.534895</td>\n",
              "      <td>37.202650</td>\n",
              "      <td>499.416120</td>\n",
              "      <td>54.610197</td>\n",
              "      <td>12.001174</td>\n",
              "      <td>6.008273</td>\n",
              "      <td>1001.072890</td>\n",
              "      <td>-300.263994</td>\n",
              "      <td>...</td>\n",
              "      <td>7.685827</td>\n",
              "      <td>45.011244</td>\n",
              "      <td>5.066094</td>\n",
              "      <td>10.102433</td>\n",
              "      <td>9.218961</td>\n",
              "      <td>68.172738</td>\n",
              "      <td>2.984909</td>\n",
              "      <td>9.743623</td>\n",
              "      <td>2.748730</td>\n",
              "      <td>10.622456</td>\n",
              "    </tr>\n",
              "    <tr>\n",
              "      <th>75%</th>\n",
              "      <td>9.769917</td>\n",
              "      <td>10.213771</td>\n",
              "      <td>4.244161</td>\n",
              "      <td>40.039133</td>\n",
              "      <td>550.172183</td>\n",
              "      <td>65.023044</td>\n",
              "      <td>14.716595</td>\n",
              "      <td>6.798051</td>\n",
              "      <td>1205.620588</td>\n",
              "      <td>-299.981998</td>\n",
              "      <td>...</td>\n",
              "      <td>10.411296</td>\n",
              "      <td>46.275313</td>\n",
              "      <td>5.895527</td>\n",
              "      <td>11.035769</td>\n",
              "      <td>10.947813</td>\n",
              "      <td>72.686642</td>\n",
              "      <td>3.571351</td>\n",
              "      <td>11.134294</td>\n",
              "      <td>3.333216</td>\n",
              "      <td>12.104271</td>\n",
              "    </tr>\n",
              "    <tr>\n",
              "      <th>max</th>\n",
              "      <td>13.731330</td>\n",
              "      <td>14.596026</td>\n",
              "      <td>7.142594</td>\n",
              "      <td>53.477742</td>\n",
              "      <td>717.508837</td>\n",
              "      <td>484.967466</td>\n",
              "      <td>36.118275</td>\n",
              "      <td>9.703448</td>\n",
              "      <td>1521.980372</td>\n",
              "      <td>-273.776101</td>\n",
              "      <td>...</td>\n",
              "      <td>26.000772</td>\n",
              "      <td>52.756638</td>\n",
              "      <td>16.001945</td>\n",
              "      <td>17.031899</td>\n",
              "      <td>19.615720</td>\n",
              "      <td>100.000000</td>\n",
              "      <td>8.245022</td>\n",
              "      <td>19.552149</td>\n",
              "      <td>5.804178</td>\n",
              "      <td>22.317730</td>\n",
              "    </tr>\n",
              "  </tbody>\n",
              "</table>\n",
              "<p>8 rows × 86 columns</p>\n",
              "</div>"
            ],
            "text/plain": [
              "       rougher.input.feed_au  rougher.input.feed_ag  rougher.input.feed_pb  \\\n",
              "count           19439.000000           19439.000000           19339.000000   \n",
              "mean                8.266097               8.794927               3.598085   \n",
              "std                 1.955092               1.936847               1.049486   \n",
              "min                 0.010000               0.010000               0.010000   \n",
              "25%                 6.854384               7.237967               2.887280   \n",
              "50%                 8.125839               8.593574               3.534895   \n",
              "75%                 9.769917              10.213771               4.244161   \n",
              "max                13.731330              14.596026               7.142594   \n",
              "\n",
              "       rougher.input.feed_sol  rougher.input.feed_rate  \\\n",
              "count            19340.000000             19428.000000   \n",
              "mean                36.695114               478.320042   \n",
              "std                  5.145445               105.373758   \n",
              "min                  0.010000                 0.002986   \n",
              "25%                 34.207799               416.525453   \n",
              "50%                 37.202650               499.416120   \n",
              "75%                 40.039133               550.172183   \n",
              "max                 53.477742               717.508837   \n",
              "\n",
              "       rougher.input.feed_size  rougher.input.floatbank10_sulfate  \\\n",
              "count             19294.000000                       19405.000000   \n",
              "mean                 58.970310                          12.334373   \n",
              "std                  21.634478                           3.427317   \n",
              "min                   0.046369                           0.001083   \n",
              "25%                  47.435103                          10.000362   \n",
              "50%                  54.610197                          12.001174   \n",
              "75%                  65.023044                          14.716595   \n",
              "max                 484.967466                          36.118275   \n",
              "\n",
              "       rougher.input.floatbank10_xanthate  rougher.state.floatbank10_a_air  \\\n",
              "count                        19431.000000                     19438.000000   \n",
              "mean                             6.021474                      1105.315068   \n",
              "std                              1.127263                       160.826798   \n",
              "min                              0.000568                        -0.042069   \n",
              "25%                              5.398678                       999.661867   \n",
              "50%                              6.008273                      1001.072890   \n",
              "75%                              6.798051                      1205.620588   \n",
              "max                              9.703448                      1521.980372   \n",
              "\n",
              "       rougher.state.floatbank10_a_level  ...  \\\n",
              "count                       19438.000000  ...   \n",
              "mean                         -376.610690  ...   \n",
              "std                            93.909667  ...   \n",
              "min                          -657.949759  ...   \n",
              "25%                          -499.835165  ...   \n",
              "50%                          -300.263994  ...   \n",
              "75%                          -299.981998  ...   \n",
              "max                          -273.776101  ...   \n",
              "\n",
              "       secondary_cleaner.output.tail_sol  final.output.concentrate_au  \\\n",
              "count                       17691.000000                 19439.000000   \n",
              "mean                            7.167247                    44.076513   \n",
              "std                             3.916079                     5.129784   \n",
              "min                             0.000000                     0.000000   \n",
              "25%                             3.845475                    43.402215   \n",
              "50%                             7.685827                    45.011244   \n",
              "75%                            10.411296                    46.275313   \n",
              "max                            26.000772                    52.756638   \n",
              "\n",
              "       final.output.concentrate_ag  final.output.concentrate_pb  \\\n",
              "count                 19438.000000                 19438.000000   \n",
              "mean                      5.168470                     9.978895   \n",
              "std                       1.372348                     1.669240   \n",
              "min                       0.000000                     0.000000   \n",
              "25%                       4.251240                     9.137262   \n",
              "50%                       5.066094                    10.102433   \n",
              "75%                       5.895527                    11.035769   \n",
              "max                      16.001945                    17.031899   \n",
              "\n",
              "       final.output.concentrate_sol  final.output.recovery  \\\n",
              "count                  19228.000000           19439.000000   \n",
              "mean                       9.501224              67.050208   \n",
              "std                        2.787537              10.125840   \n",
              "min                        0.000000               0.000000   \n",
              "25%                        7.722820              63.299712   \n",
              "50%                        9.218961              68.172738   \n",
              "75%                       10.947813              72.686642   \n",
              "max                       19.615720             100.000000   \n",
              "\n",
              "       final.output.tail_au  final.output.tail_ag  final.output.tail_pb  \\\n",
              "count          19439.000000          19438.000000          19338.000000   \n",
              "mean               3.042467              9.688589              2.705795   \n",
              "std                0.922808              2.328642              0.949077   \n",
              "min                0.000000              0.000000              0.000000   \n",
              "25%                2.461138              8.062878              2.040119   \n",
              "50%                2.984909              9.743623              2.748730   \n",
              "75%                3.571351             11.134294              3.333216   \n",
              "max                8.245022             19.552149              5.804178   \n",
              "\n",
              "       final.output.tail_sol  \n",
              "count           19433.000000  \n",
              "mean               10.583728  \n",
              "std                 2.868782  \n",
              "min                 0.000000  \n",
              "25%                 8.938947  \n",
              "50%                10.622456  \n",
              "75%                12.104271  \n",
              "max                22.317730  \n",
              "\n",
              "[8 rows x 86 columns]"
            ]
          },
          "execution_count": 20,
          "metadata": {},
          "output_type": "execute_result"
        }
      ],
      "source": [
        "data_real.describe()"
      ]
    },
    {
      "cell_type": "markdown",
      "metadata": {
        "id": "-cmDpysMDdhK"
      },
      "source": [
        "**1.2. Проверьте, что эффективность обогащения рассчитана правильно. Вычислите её на обучающей выборке для признака rougher.output.recovery. Найдите MAE между вашими расчётами и значением признака. Опишите выводы.**"
      ]
    },
    {
      "cell_type": "markdown",
      "metadata": {
        "id": "rlXOHNCADdhL"
      },
      "source": [
        "Проверим формулу: ![image.png](attachment:image.png)\n",
        "\n",
        "- data_train['rougher.output.concentrate_au'] - C — доля золота в концентрате после флотации/очистки;\n",
        "- data_train['rougher.input.feed_au'] - F — доля золота в сырье/концентрате до флотации/очистки;\n",
        "- data_train['rougher.output.tail_au'] - T — доля золота в отвальных хвостах после флотации/очистки.\n",
        "\n"
      ]
    },
    {
      "cell_type": "code",
      "execution_count": null,
      "metadata": {
        "id": "1AB8oZ0IDdhL"
      },
      "outputs": [],
      "source": [
        "a = data_train['rougher.output.concentrate_au'] * (data_train['rougher.input.feed_au'] - data_train['rougher.output.tail_au'])\n",
        "b = (data_train['rougher.input.feed_au'] * (data_train['rougher.output.concentrate_au'] - data_train['rougher.output.tail_au']))\n",
        "Recovery = (a / b) * 100"
      ]
    },
    {
      "cell_type": "code",
      "execution_count": null,
      "metadata": {
        "id": "51PCeuonDdhL",
        "outputId": "385a7c88-8b80-4532-fde2-46dc7dd2b0bf"
      },
      "outputs": [
        {
          "name": "stdout",
          "output_type": "stream",
          "text": [
            "Рассчитанные\t\t rougher.output.recovery\n",
            "\n",
            "87.10776292825425 \t 87.10776292825425\n",
            "86.84326050586625 \t 86.84326050586624\n",
            "86.84230825746626 \t 86.84230825746624\n",
            "87.22642953304764 \t 87.22642953304764\n",
            "86.68879413602453 \t 86.68879413602453\n",
            "88.15691183260716 \t 88.15691183260715\n",
            "88.1680653345177 \t 88.16806533451772\n",
            "87.66833564149847 \t 87.66833564149847\n",
            "87.03586230135835 \t 87.03586230135834\n",
            "88.28069949176967 \t 88.2806994917697\n",
            "88.49911737941176 \t 88.49911737941177\n",
            "89.51970137744689 \t 89.51970137744689\n",
            "85.1362942201115 \t 85.13629422011151\n",
            "86.48982729445996 \t 86.48982729445996\n",
            "86.24179487081707 \t 86.24179487081707\n",
            "86.58257785754911 \t 86.58257785754914\n",
            "86.82411855923712 \t 86.82411855923709\n",
            "88.1322394406157 \t 88.1322394406157\n",
            "85.91049781625505 \t 85.91049781625506\n",
            "86.26237747686008 \t 86.26237747686007\n"
          ]
        }
      ],
      "source": [
        "#Выведем первые 20 рассчитанных значений и значений признака rougher.output.recovery\n",
        "print(\"Рассчитанные\\t\\t\", \"rougher.output.recovery\\n\")\n",
        "for i in range(20):\n",
        "    print(Recovery[i], '\\t', data_train['rougher.output.recovery'][i])"
      ]
    },
    {
      "cell_type": "markdown",
      "metadata": {
        "id": "pnBUoEoRDdhL"
      },
      "source": [
        "**Сравним данные, полученные по формуле с данными из обучающей выборки.**"
      ]
    },
    {
      "cell_type": "code",
      "execution_count": null,
      "metadata": {
        "id": "e_DQ9irEDdhL"
      },
      "outputs": [],
      "source": [
        "for i in range(len(Recovery)):\n",
        "    if (Recovery[i] - data_train['rougher.output.recovery'][i])>0.0000000000001:\n",
        "        print(Recovery[i], data_train['rougher.output.recovery'][i], Recovery[i] - data_train['rougher.output.recovery'][i])"
      ]
    },
    {
      "cell_type": "markdown",
      "metadata": {
        "id": "nHvTP0raDdhM"
      },
      "source": [
        "**Полное совпадение до 13 знаков после запятой. Вывод: формула эффективности обогащения рассчитана правильно.**\n",
        "\n",
        "**Найдем MAE между полученными расчётами и значениями признака.**\n"
      ]
    },
    {
      "cell_type": "code",
      "execution_count": null,
      "metadata": {
        "id": "GHDzdJHQDdhM",
        "outputId": "25de3385-7e40-4a2c-cb79-e001e58d4648"
      },
      "outputs": [
        {
          "data": {
            "text/plain": [
              "9.83758577644259e-15"
            ]
          },
          "execution_count": 24,
          "metadata": {},
          "output_type": "execute_result"
        }
      ],
      "source": [
        "s = 0\n",
        "for i in range(len(Recovery)):\n",
        "    s += abs(data_train['rougher.output.recovery'][i] - Recovery[i])\n",
        "mae = s / len(Recovery)\n",
        "mae"
      ]
    },
    {
      "cell_type": "markdown",
      "metadata": {
        "id": "I8TzX_i2DdhM"
      },
      "source": [
        "**MAE -  предельно низко. Что говорит о том, что средняя абсолютная разница между прогнозируемыми значениями и фактическими значениями в наборе данных предельно мала. Делаем вывод, что модель соответствует набору данных. Формулу можно использовать**"
      ]
    },
    {
      "cell_type": "markdown",
      "metadata": {
        "id": "cOhWv_9pDdhN"
      },
      "source": [
        "**1.3. Проанализируйте признаки, недоступные в тестовой выборке. Что это за параметры? К какому типу относятся?**"
      ]
    },
    {
      "cell_type": "markdown",
      "metadata": {
        "id": "j_0IqCy4DdhN"
      },
      "source": [
        "\n",
        "Так как тестовая выборка имитирует работу модели в реальных условиях протекания технологического процесса, то можно предположить, что некоторые признаки заранее не могут быть известны, потому что замеряются и/или рассчитываются значительно позже.   \n",
        "    \n",
        "В тестовой выборке отсутствуют 4 признака этапа флотации - расчетные характеристики исходного сырья.\n",
        "\n",
        "Девять признаков этапа флотации относящиеся к характеристикам концентрации веществ во время флотации и отвальных хвостах.\n",
        "\n",
        "8 Признаков – первичная очистка, концентрация веществ после первичной очистки и отвальных хвостах.\n",
        "\n",
        "4 признака – концентрация веществ в отвальных хвостах во время вторичной очистки\n",
        "9 признаков – признаки обогащения и отвальных хвостах на финальном этапе\n",
        "\n"
      ]
    },
    {
      "cell_type": "markdown",
      "metadata": {
        "id": "V59HrfkzDdhN"
      },
      "source": [
        "**1.4. Проведите предобработку данных.**\n",
        "\n",
        "Выполним предобработку данных.\n",
        "  - устраним пропуски\n",
        "  - проверим данные на аномалии"
      ]
    },
    {
      "cell_type": "code",
      "execution_count": null,
      "metadata": {
        "id": "IzvQ0n4TDdhO",
        "outputId": "d2b0fcf0-db86-45f1-b4a3-c27a50fdf2af"
      },
      "outputs": [
        {
          "data": {
            "text/html": [
              "<div>\n",
              "<style scoped>\n",
              "    .dataframe tbody tr th:only-of-type {\n",
              "        vertical-align: middle;\n",
              "    }\n",
              "\n",
              "    .dataframe tbody tr th {\n",
              "        vertical-align: top;\n",
              "    }\n",
              "\n",
              "    .dataframe thead th {\n",
              "        text-align: right;\n",
              "    }\n",
              "</style>\n",
              "<table border=\"1\" class=\"dataframe\">\n",
              "  <thead>\n",
              "    <tr style=\"text-align: right;\">\n",
              "      <th></th>\n",
              "      <th>date</th>\n",
              "      <th>rougher.input.feed_au</th>\n",
              "      <th>rougher.input.feed_ag</th>\n",
              "      <th>rougher.input.feed_pb</th>\n",
              "      <th>rougher.input.feed_sol</th>\n",
              "      <th>rougher.input.feed_rate</th>\n",
              "      <th>rougher.input.feed_size</th>\n",
              "      <th>rougher.input.floatbank10_sulfate</th>\n",
              "      <th>rougher.input.floatbank10_xanthate</th>\n",
              "      <th>rougher.state.floatbank10_a_air</th>\n",
              "      <th>...</th>\n",
              "      <th>secondary_cleaner.output.tail_sol</th>\n",
              "      <th>final.output.concentrate_au</th>\n",
              "      <th>final.output.concentrate_ag</th>\n",
              "      <th>final.output.concentrate_pb</th>\n",
              "      <th>final.output.concentrate_sol</th>\n",
              "      <th>final.output.recovery</th>\n",
              "      <th>final.output.tail_au</th>\n",
              "      <th>final.output.tail_ag</th>\n",
              "      <th>final.output.tail_pb</th>\n",
              "      <th>final.output.tail_sol</th>\n",
              "    </tr>\n",
              "  </thead>\n",
              "  <tbody>\n",
              "    <tr>\n",
              "      <th>0</th>\n",
              "      <td>2016-01-15 00:00:00</td>\n",
              "      <td>6.486150</td>\n",
              "      <td>6.100378</td>\n",
              "      <td>2.284912</td>\n",
              "      <td>36.808594</td>\n",
              "      <td>523.546326</td>\n",
              "      <td>55.486599</td>\n",
              "      <td>11.986616</td>\n",
              "      <td>6.007990</td>\n",
              "      <td>999.706909</td>\n",
              "      <td>...</td>\n",
              "      <td>8.764648</td>\n",
              "      <td>42.192020</td>\n",
              "      <td>6.055403</td>\n",
              "      <td>9.889648</td>\n",
              "      <td>5.507324</td>\n",
              "      <td>70.541216</td>\n",
              "      <td>2.143149</td>\n",
              "      <td>10.411962</td>\n",
              "      <td>0.895447</td>\n",
              "      <td>16.904297</td>\n",
              "    </tr>\n",
              "    <tr>\n",
              "      <th>1</th>\n",
              "      <td>2016-01-15 01:00:00</td>\n",
              "      <td>6.478583</td>\n",
              "      <td>6.161113</td>\n",
              "      <td>2.266033</td>\n",
              "      <td>35.753385</td>\n",
              "      <td>525.290581</td>\n",
              "      <td>57.278666</td>\n",
              "      <td>11.971193</td>\n",
              "      <td>6.005766</td>\n",
              "      <td>1000.286398</td>\n",
              "      <td>...</td>\n",
              "      <td>9.001494</td>\n",
              "      <td>42.701629</td>\n",
              "      <td>6.029369</td>\n",
              "      <td>9.968944</td>\n",
              "      <td>5.257781</td>\n",
              "      <td>69.266198</td>\n",
              "      <td>2.224930</td>\n",
              "      <td>10.462676</td>\n",
              "      <td>0.927452</td>\n",
              "      <td>16.634514</td>\n",
              "    </tr>\n",
              "    <tr>\n",
              "      <th>2</th>\n",
              "      <td>2016-01-15 02:00:00</td>\n",
              "      <td>6.362222</td>\n",
              "      <td>6.116455</td>\n",
              "      <td>2.159622</td>\n",
              "      <td>35.971630</td>\n",
              "      <td>530.026610</td>\n",
              "      <td>57.510649</td>\n",
              "      <td>11.920603</td>\n",
              "      <td>6.197377</td>\n",
              "      <td>999.719565</td>\n",
              "      <td>...</td>\n",
              "      <td>8.842896</td>\n",
              "      <td>42.657501</td>\n",
              "      <td>6.055926</td>\n",
              "      <td>10.213995</td>\n",
              "      <td>5.383759</td>\n",
              "      <td>68.116445</td>\n",
              "      <td>2.257889</td>\n",
              "      <td>10.507046</td>\n",
              "      <td>0.953716</td>\n",
              "      <td>16.208849</td>\n",
              "    </tr>\n",
              "    <tr>\n",
              "      <th>3</th>\n",
              "      <td>2016-01-15 03:00:00</td>\n",
              "      <td>6.118189</td>\n",
              "      <td>6.043309</td>\n",
              "      <td>2.037807</td>\n",
              "      <td>36.862241</td>\n",
              "      <td>542.590390</td>\n",
              "      <td>57.792734</td>\n",
              "      <td>11.630094</td>\n",
              "      <td>6.203177</td>\n",
              "      <td>999.814770</td>\n",
              "      <td>...</td>\n",
              "      <td>9.122857</td>\n",
              "      <td>42.689819</td>\n",
              "      <td>6.047977</td>\n",
              "      <td>9.977019</td>\n",
              "      <td>4.858634</td>\n",
              "      <td>68.347543</td>\n",
              "      <td>2.146849</td>\n",
              "      <td>10.422762</td>\n",
              "      <td>0.883763</td>\n",
              "      <td>16.532835</td>\n",
              "    </tr>\n",
              "    <tr>\n",
              "      <th>4</th>\n",
              "      <td>2016-01-15 04:00:00</td>\n",
              "      <td>5.663707</td>\n",
              "      <td>6.060915</td>\n",
              "      <td>1.786875</td>\n",
              "      <td>34.347666</td>\n",
              "      <td>540.531893</td>\n",
              "      <td>56.047189</td>\n",
              "      <td>10.957755</td>\n",
              "      <td>6.198826</td>\n",
              "      <td>999.678690</td>\n",
              "      <td>...</td>\n",
              "      <td>8.871028</td>\n",
              "      <td>42.774141</td>\n",
              "      <td>6.148599</td>\n",
              "      <td>10.142511</td>\n",
              "      <td>4.939416</td>\n",
              "      <td>66.927016</td>\n",
              "      <td>2.055292</td>\n",
              "      <td>10.360302</td>\n",
              "      <td>0.792826</td>\n",
              "      <td>16.525686</td>\n",
              "    </tr>\n",
              "  </tbody>\n",
              "</table>\n",
              "<p>5 rows × 87 columns</p>\n",
              "</div>"
            ],
            "text/plain": [
              "                  date  rougher.input.feed_au  rougher.input.feed_ag  \\\n",
              "0  2016-01-15 00:00:00               6.486150               6.100378   \n",
              "1  2016-01-15 01:00:00               6.478583               6.161113   \n",
              "2  2016-01-15 02:00:00               6.362222               6.116455   \n",
              "3  2016-01-15 03:00:00               6.118189               6.043309   \n",
              "4  2016-01-15 04:00:00               5.663707               6.060915   \n",
              "\n",
              "   rougher.input.feed_pb  rougher.input.feed_sol  rougher.input.feed_rate  \\\n",
              "0               2.284912               36.808594               523.546326   \n",
              "1               2.266033               35.753385               525.290581   \n",
              "2               2.159622               35.971630               530.026610   \n",
              "3               2.037807               36.862241               542.590390   \n",
              "4               1.786875               34.347666               540.531893   \n",
              "\n",
              "   rougher.input.feed_size  rougher.input.floatbank10_sulfate  \\\n",
              "0                55.486599                          11.986616   \n",
              "1                57.278666                          11.971193   \n",
              "2                57.510649                          11.920603   \n",
              "3                57.792734                          11.630094   \n",
              "4                56.047189                          10.957755   \n",
              "\n",
              "   rougher.input.floatbank10_xanthate  rougher.state.floatbank10_a_air  ...  \\\n",
              "0                            6.007990                       999.706909  ...   \n",
              "1                            6.005766                      1000.286398  ...   \n",
              "2                            6.197377                       999.719565  ...   \n",
              "3                            6.203177                       999.814770  ...   \n",
              "4                            6.198826                       999.678690  ...   \n",
              "\n",
              "   secondary_cleaner.output.tail_sol  final.output.concentrate_au  \\\n",
              "0                           8.764648                    42.192020   \n",
              "1                           9.001494                    42.701629   \n",
              "2                           8.842896                    42.657501   \n",
              "3                           9.122857                    42.689819   \n",
              "4                           8.871028                    42.774141   \n",
              "\n",
              "   final.output.concentrate_ag  final.output.concentrate_pb  \\\n",
              "0                     6.055403                     9.889648   \n",
              "1                     6.029369                     9.968944   \n",
              "2                     6.055926                    10.213995   \n",
              "3                     6.047977                     9.977019   \n",
              "4                     6.148599                    10.142511   \n",
              "\n",
              "   final.output.concentrate_sol  final.output.recovery  final.output.tail_au  \\\n",
              "0                      5.507324              70.541216              2.143149   \n",
              "1                      5.257781              69.266198              2.224930   \n",
              "2                      5.383759              68.116445              2.257889   \n",
              "3                      4.858634              68.347543              2.146849   \n",
              "4                      4.939416              66.927016              2.055292   \n",
              "\n",
              "   final.output.tail_ag  final.output.tail_pb  final.output.tail_sol  \n",
              "0             10.411962              0.895447              16.904297  \n",
              "1             10.462676              0.927452              16.634514  \n",
              "2             10.507046              0.953716              16.208849  \n",
              "3             10.422762              0.883763              16.532835  \n",
              "4             10.360302              0.792826              16.525686  \n",
              "\n",
              "[5 rows x 87 columns]"
            ]
          },
          "execution_count": 26,
          "metadata": {},
          "output_type": "execute_result"
        }
      ],
      "source": [
        "data_real.head()"
      ]
    },
    {
      "cell_type": "code",
      "execution_count": null,
      "metadata": {
        "id": "D-LHTCgmDdhO"
      },
      "outputs": [],
      "source": [
        "#Заполним пропуски соседними значениями\n",
        "data_real = data_real.fillna(method='ffill')\n",
        "data_train=data_train.fillna(method='ffill')\n",
        "data_test = data_test.fillna(method='ffill')"
      ]
    },
    {
      "cell_type": "markdown",
      "metadata": {
        "id": "jQo5eKbIDdhO"
      },
      "source": [
        "\n",
        "Стратегия заполнения пропусков - значением предыдущей даты, выбрана исходя из описания технического задания к проекту, где сказано, что \"Данные индексируются датой и временем получения информации (признак date). Соседние по времени параметры часто похожи.\"\n"
      ]
    },
    {
      "cell_type": "code",
      "execution_count": null,
      "metadata": {
        "id": "nCei_P9zDdhP",
        "outputId": "1e818efd-d48a-48aa-8153-c4e6debd1717"
      },
      "outputs": [
        {
          "data": {
            "text/plain": [
              "date                      0\n",
              "rougher.input.feed_au     0\n",
              "rougher.input.feed_ag     0\n",
              "rougher.input.feed_pb     0\n",
              "rougher.input.feed_sol    0\n",
              "                         ..\n",
              "final.output.recovery     0\n",
              "final.output.tail_au      0\n",
              "final.output.tail_ag      0\n",
              "final.output.tail_pb      0\n",
              "final.output.tail_sol     0\n",
              "Length: 87, dtype: int64"
            ]
          },
          "execution_count": 28,
          "metadata": {},
          "output_type": "execute_result"
        }
      ],
      "source": [
        "data_train.isna().sum()"
      ]
    },
    {
      "cell_type": "code",
      "execution_count": null,
      "metadata": {
        "id": "-8WW2UX4DdhP"
      },
      "outputs": [],
      "source": [
        "# data_real['date'].hist(bins = 100,figsize=(15,15));"
      ]
    },
    {
      "cell_type": "code",
      "execution_count": null,
      "metadata": {
        "id": "KSosSaRGDdhP",
        "outputId": "bda3a043-2e65-4e2a-faa3-e63c4a8d8e06"
      },
      "outputs": [
        {
          "data": {
            "image/png": "[encoded data removed]",
            "text/plain": [
              "<Figure size 1152x1152 with 1 Axes>"
            ]
          },
          "metadata": {
            "needs_background": "light"
          },
          "output_type": "display_data"
        }
      ],
      "source": [
        "colors = ['#78C850', '#F08030', '#6890F0','#F8D030', '#F85888', '#705898', '#98D8D8']\n",
        "plt.figure(figsize=(16,16))\n",
        "grid=True\n",
        "df = pd.DataFrame(data=data_real, columns=['rougher.input.feed_au',  'rougher.input.feed_ag',  'rougher.input.feed_pb', \\\n",
        "                                           'rougher.input.feed_sol'])\n",
        "sns.boxplot(x=\"variable\", y=\"value\", data=pd.melt(df), palette=colors)\\\n",
        ".set_title(\"Диаграмма размаха концентрации металлов на этапе флотации\");\n",
        "plt.grid(True);"
      ]
    },
    {
      "cell_type": "code",
      "execution_count": null,
      "metadata": {
        "id": "nk5unKeiDdhP",
        "outputId": "4e363afd-4090-498a-aac0-64d627f008c9"
      },
      "outputs": [
        {
          "data": {
            "image/png": "[encoded data removed]",
            "text/plain": [
              "<Figure size 1152x1152 with 1 Axes>"
            ]
          },
          "metadata": {
            "needs_background": "light"
          },
          "output_type": "display_data"
        }
      ],
      "source": [
        "colors = ['#78C850', '#F08030', '#6890F0','#F8D030', '#F85888', '#705898', '#98D8D8']\n",
        "plt.figure(figsize=(16,16))\n",
        "df = pd.DataFrame(data=data_real, columns=['rougher.input.feed_rate', 'rougher.input.feed_size'])\n",
        "sns.boxplot(x=\"variable\", y=\"value\", data=pd.melt(df), palette=colors).set_title(\"Диаграмма размаха флотационных характеристик\");\n",
        "plt.grid(True);"
      ]
    },
    {
      "cell_type": "code",
      "execution_count": null,
      "metadata": {
        "scrolled": true,
        "id": "fUBWsfT7DdhQ",
        "outputId": "3912b4d9-3c72-4227-e6cc-76d476a2d26a"
      },
      "outputs": [
        {
          "name": "stdout",
          "output_type": "stream",
          "text": [
            "rougher.input.feed_au\n",
            "count    19439.000000\n",
            "mean         8.266097\n",
            "std          1.955092\n",
            "min          0.010000\n",
            "25%          6.854384\n",
            "50%          8.125839\n",
            "75%          9.769917\n",
            "max         13.731330\n",
            "Name: rougher.input.feed_au, dtype: float64\n",
            "rougher.input.feed_ag\n",
            "count    19439.000000\n",
            "mean         8.794927\n",
            "std          1.936847\n",
            "min          0.010000\n",
            "25%          7.237967\n",
            "50%          8.593574\n",
            "75%         10.213771\n",
            "max         14.596026\n",
            "Name: rougher.input.feed_ag, dtype: float64\n",
            "rougher.input.feed_pb\n",
            "count    19439.000000\n",
            "mean         3.584516\n",
            "std          1.064760\n",
            "min          0.010000\n",
            "25%          2.872178\n",
            "50%          3.528235\n",
            "75%          4.241005\n",
            "max          7.142594\n",
            "Name: rougher.input.feed_pb, dtype: float64\n",
            "rougher.input.feed_sol\n",
            "count    19439.000000\n",
            "mean        36.676689\n",
            "std          5.160229\n",
            "min          0.010000\n",
            "25%         34.197313\n",
            "50%         37.189485\n",
            "75%         40.026614\n",
            "max         53.477742\n",
            "Name: rougher.input.feed_sol, dtype: float64\n",
            "rougher.input.feed_rate\n",
            "count    19439.000000\n",
            "mean       478.290904\n",
            "std        105.407509\n",
            "min          0.002986\n",
            "25%        416.500514\n",
            "50%        499.412752\n",
            "75%        550.169337\n",
            "max        717.508837\n",
            "Name: rougher.input.feed_rate, dtype: float64\n",
            "rougher.input.feed_size\n",
            "count    19439.000000\n",
            "mean        59.087187\n",
            "std         22.104305\n",
            "min          0.046369\n",
            "25%         47.485797\n",
            "50%         54.734792\n",
            "75%         64.992522\n",
            "max        484.967466\n",
            "Name: rougher.input.feed_size, dtype: float64\n"
          ]
        }
      ],
      "source": [
        "lst = ['rougher.input.feed_au',  'rougher.input.feed_ag',  'rougher.input.feed_pb', 'rougher.input.feed_sol',\\\n",
        "       'rougher.input.feed_rate', 'rougher.input.feed_size']\n",
        "for item in lst:\n",
        "    print(item)\n",
        "    print(data_real[item].describe())"
      ]
    },
    {
      "cell_type": "markdown",
      "metadata": {
        "id": "qp16QzUvDdhQ"
      },
      "source": [
        "Размах в данных показывает, что есть выбросы. Есть данные, близкие к нулю, которые являются выбросами. Их можно удалить."
      ]
    },
    {
      "cell_type": "markdown",
      "metadata": {
        "id": "k-fGYkmADdhQ"
      },
      "source": [
        "Итак. На первом этапе данные были проанализированы. Сделаны следующие выводы:\n",
        "- Три датасета.\n",
        "- Размерность трех датафреймов:\n",
        "        - исходный -(19439, 87)\n",
        "        - тренировочный - (14579, 87)\n",
        "        - тестовый - (4860, 53).\n",
        "- Тестовая выборка содержит на 34 столбца меньше чем две другие таблицы.\n",
        "- В тестовой выборке отсутствуют данные, касающиеся выходных значений, которые будут получены в ходе выполнения технологического процесса. Поэтому, тестовую и тренировочную выборки создадим заново из исходной.\n",
        "- В данных присутствуют пропуски. - Выберем стратегию заполнения пропусков. Большое количество пропусков в один день - различие по времени, стоит посмотреть на значения тех же признаков по соседним датам. Заполним значением предыдущей даты.\n",
        "- **Пропущенные значения логично заполнить значением предыдущей даты, так как в описании технического задания к проекту сказано, что \"Данные индексируются датой и временем получения информации (признак date). Соседние по времени параметры часто похожи.\"**\n",
        "- Явных дубликатов нет\n",
        "- Типы данных в норме, дату - выбросить из признаков.\n",
        "- все значения количественные - юудем использовать модеи регрессии\n",
        "- Размах в данных показывает, что есть выбросы. Есть данные, близкие к нулю, которые являются выбросами. Их можно удалить.\n",
        "- Проверена формула эффективности обогащения. Найдено полное совпадение значений до 13 знаков после запятой. MAE - предельно низко. Что говорит о том, что средняя абсолютная разница между прогнозируемыми значениями и фактическими значениями в наборе данных предельно мала. Делаем вывод, что модель соответствует набору данных. Формулу можно использовать.\n",
        "\n"
      ]
    },
    {
      "cell_type": "markdown",
      "metadata": {
        "id": "v0pEPhkADdhR"
      },
      "source": [
        "## Анализ данных"
      ]
    },
    {
      "cell_type": "markdown",
      "metadata": {
        "id": "dmwDoCtUDdhR"
      },
      "source": [
        "**2.1. Посмотрите, как меняется концентрация металлов (Au, Ag, Pb) на различных этапах: в сырье, в черновом концентрате, в концентрате после первой очистки и в финальном концентрате. Какие особенности имеют распределения? Опишите выводы.**"
      ]
    },
    {
      "cell_type": "code",
      "execution_count": null,
      "metadata": {
        "id": "l_VMn5-XDdhR"
      },
      "outputs": [],
      "source": [
        "col_input=['rougher.input.feed_au', 'rougher.input.feed_ag', 'rougher.input.feed_pb']\n",
        "col_outp = ['rougher.output.concentrate_au', 'rougher.output.concentrate_ag', 'rougher.output.concentrate_pb']\n",
        "col_primary = ['primary_cleaner.output.concentrate_au', 'primary_cleaner.output.concentrate_ag',\\\n",
        "               'primary_cleaner.output.concentrate_pb']\n",
        "col_final = ['final.output.concentrate_au', 'final.output.concentrate_ag', 'final.output.concentrate_pb']"
      ]
    },
    {
      "cell_type": "code",
      "execution_count": null,
      "metadata": {
        "id": "8t1dT68XDdhT",
        "outputId": "c3be1927-1610-4cec-d3e6-aa0743aafb41"
      },
      "outputs": [
        {
          "data": {
            "image/png": "[encoded data removed]",
            "text/plain": [
              "<Figure size 720x720 with 1 Axes>"
            ]
          },
          "metadata": {
            "needs_background": "light"
          },
          "output_type": "display_data"
        }
      ],
      "source": [
        "data_real['rougher.input.feed_au'].hist(bins=50, figsize=(10,10), legend='Золото');\n",
        "data_real['rougher.input.feed_ag'].hist(bins=50, figsize=(10,10),alpha = 0.3, legend='Серебро');\n",
        "data_real['rougher.input.feed_pb'].hist(bins=50, figsize=(10,10),alpha = 0.5, legend='Свинец');\n",
        "plt.title(\"Концентрация металлов на этапе флотации\");\n",
        "plt.ylabel('Частота значений параметров');\n",
        "plt.xlabel(\"Значения параметров\");"
      ]
    },
    {
      "cell_type": "code",
      "execution_count": null,
      "metadata": {
        "id": "E1C_7HLkDdhU",
        "outputId": "138ca818-4b9f-41ee-a4d6-1c49e308430c"
      },
      "outputs": [
        {
          "data": {
            "image/png": "[encoded data removed]",
            "text/plain": [
              "<Figure size 720x720 with 1 Axes>"
            ]
          },
          "metadata": {
            "needs_background": "light"
          },
          "output_type": "display_data"
        }
      ],
      "source": [
        "data_real['rougher.output.concentrate_au'].hist(bins=50, figsize=(10,10), legend='Золото');\n",
        "data_real['rougher.output.concentrate_ag'].hist(bins=50, figsize=(10,10),alpha = 0.3, legend='Серебро');\n",
        "data_real['rougher.output.concentrate_pb'].hist(bins=50, figsize=(10,10),alpha = 0.5, legend='Свинец');\n",
        "plt.title(\"Концентрация металлов в черновом концентрате\");\n",
        "plt.ylabel('Частота значений параметров');\n",
        "plt.xlabel(\"Значения параметров\");"
      ]
    },
    {
      "cell_type": "code",
      "execution_count": null,
      "metadata": {
        "id": "NNDdUxgSDdhU",
        "outputId": "7b7bedde-b338-4ef3-838e-a859dfab7593"
      },
      "outputs": [
        {
          "data": {
            "image/png": "[encoded data removed]",
            "text/plain": [
              "<Figure size 720x720 with 1 Axes>"
            ]
          },
          "metadata": {
            "needs_background": "light"
          },
          "output_type": "display_data"
        }
      ],
      "source": [
        "data_real['primary_cleaner.output.concentrate_au'].hist(bins=50, figsize=(10,10), legend='Золото');\n",
        "data_real['primary_cleaner.output.concentrate_ag'].hist(bins=50, figsize=(10,10),alpha = 0.3, legend='Серебро');\n",
        "data_real['primary_cleaner.output.concentrate_pb'].hist(bins=50, figsize=(10,10),alpha = 0.5, legend='Свинец');\n",
        "plt.title(\"Концентрация металлов после первой очистки\");\n",
        "plt.ylabel('Частота значений параметров');\n",
        "plt.xlabel(\"Значения параметров\");"
      ]
    },
    {
      "cell_type": "code",
      "execution_count": null,
      "metadata": {
        "id": "5KZqI7TZDdhU",
        "outputId": "ce97649a-cf44-46ae-9786-1abc5bdebebd"
      },
      "outputs": [
        {
          "data": {
            "image/png": "[encoded data removed]",
            "text/plain": [
              "<Figure size 720x720 with 1 Axes>"
            ]
          },
          "metadata": {
            "needs_background": "light"
          },
          "output_type": "display_data"
        }
      ],
      "source": [
        "data_real['final.output.concentrate_au'].hist(bins=50, figsize=(10,10), legend='Золото');\n",
        "data_real['final.output.concentrate_ag'].hist(bins=50, figsize=(10,10),alpha = 0.3, legend='Серебро');\n",
        "data_real['final.output.concentrate_pb'].hist(bins=50, figsize=(10,10),alpha = 0.5, legend='Свинец');\n",
        "plt.title(\"Концентрация металлов  в финальном концентрате\");\n",
        "plt.ylabel('Частота значений параметров');\n",
        "plt.xlabel(\"Значения параметров\");"
      ]
    },
    {
      "cell_type": "markdown",
      "metadata": {
        "id": "0tk_f3WFDdhU"
      },
      "source": [
        "На графиках прекрасно отслеживается процесс роста концентрации золота от этапа к этапу. Рассчитаем количественные значения изменения концентрации золота на разных этапах, подтвердим визуальное представление расчетными значениями."
      ]
    },
    {
      "cell_type": "code",
      "execution_count": null,
      "metadata": {
        "id": "D00IgHglDdhU"
      },
      "outputs": [],
      "source": [
        "def pprint_concenr(col):\n",
        "    for item in col:\n",
        "        print(round(data_real[item].mean(),3), end='\\t')"
      ]
    },
    {
      "cell_type": "code",
      "execution_count": null,
      "metadata": {
        "id": "bIyHe38qDdhU",
        "outputId": "dcea9f50-8321-4886-8514-53aeb9c9340d"
      },
      "outputs": [
        {
          "name": "stdout",
          "output_type": "stream",
          "text": [
            "Концентрация металлов (Au, Ag, Pb)\n",
            "до флотации \n",
            "Золото  Серебро  Свинец\n",
            "8.266\t8.795\t3.585\t\n",
            "\n",
            "после флотации \n",
            "Золото  Серебро  Свинец\n",
            "19.772\t11.995\t7.606\t\n",
            "\n",
            "после первичной обработки \n",
            "Золото  Серебро  Свинец\n",
            "32.119\t8.442\t9.809\t\n",
            "\n",
            "после вторичной обработки \n",
            "Золото  Серебро  Свинец\n",
            "44.077\t5.168\t9.979\t"
          ]
        }
      ],
      "source": [
        "print(\"Концентрация металлов (Au, Ag, Pb)\")\n",
        "print(\"до флотации \\nЗолото  Серебро  Свинец\")\n",
        "pprint_concenr(col_input)\n",
        "print(\"\\n\\nпосле флотации \\nЗолото  Серебро  Свинец\")\n",
        "pprint_concenr(col_outp)\n",
        "print(\"\\n\\nпосле первичной обработки \\nЗолото  Серебро  Свинец\")\n",
        "pprint_concenr(col_primary)\n",
        "print(\"\\n\\nпосле вторичной обработки \\nЗолото  Серебро  Свинец\")\n",
        "pprint_concenr(col_final )"
      ]
    },
    {
      "cell_type": "markdown",
      "metadata": {
        "id": "kXgcgfV3DdhV"
      },
      "source": [
        "Концентрация золота растет с каждым этапом. После вторичной обработки его содержание увеличивается более чем в 5 раз. Содержание серебра увеличивается после флотации, затем снижается. К финальному этапу содержание серебра меньше чем в начале в полтора раза. Концентрация свинца растет от этапа к этапу. К финальному этапу содержание свинца увеличивается втрое.\n",
        "\n",
        "Таким образом,\n",
        "- содержание золота в финальном концентрате увеличивается более чем в пять раз по сравнению с его содержанием в сырье.\n",
        "- Уже после флотации  концентрация золота вырастает в 2,4 раза.\n",
        "- После первой очистки - увеличивается  в 1,5 раза.\n",
        "- К финальному этапу концентрация увеличивается в 5,4 раз."
      ]
    },
    {
      "cell_type": "markdown",
      "metadata": {
        "id": "t63pJFv8DdhV"
      },
      "source": [
        "\n",
        "На всех графиках видно, что есть некоторые  значения возле нуля. Это выглядит весьма странно. Помня также, о том что диаграмма размаха показала выбросы около нуля, возможно это они как раз и есть. Избавимся от них.\n"
      ]
    },
    {
      "cell_type": "code",
      "execution_count": null,
      "metadata": {
        "id": "-T8Nt-6-DdhV",
        "outputId": "b03f6145-12c6-4ccb-a566-a96a8dbddf66"
      },
      "outputs": [
        {
          "name": "stdout",
          "output_type": "stream",
          "text": [
            "rougher.input.feed_au 17\n",
            "rougher.input.feed_ag 4\n",
            "rougher.input.feed_pb 102\n",
            "rougher.input.feed_sol 4\n",
            "rougher.input.feed_rate 35\n",
            "rougher.input.feed_size 3\n",
            "rougher.output.concentrate_au 398\n",
            "rougher.output.concentrate_ag 399\n",
            "rougher.output.concentrate_pb 401\n",
            "primary_cleaner.output.concentrate_au 214\n",
            "primary_cleaner.output.concentrate_ag 239\n",
            "primary_cleaner.output.concentrate_pb 242\n",
            "final.output.concentrate_au 100\n",
            "final.output.concentrate_ag 117\n",
            "final.output.concentrate_pb 103\n"
          ]
        }
      ],
      "source": [
        "columns=['rougher.input.feed_au',  'rougher.input.feed_ag',  'rougher.input.feed_pb', 'rougher.input.feed_sol',\\\n",
        "        'rougher.input.feed_rate', 'rougher.input.feed_size', 'rougher.output.concentrate_au', \\\n",
        "         'rougher.output.concentrate_ag', 'rougher.output.concentrate_pb','primary_cleaner.output.concentrate_au',\\\n",
        "         'primary_cleaner.output.concentrate_ag', 'primary_cleaner.output.concentrate_pb', 'final.output.concentrate_au', \\\n",
        "         'final.output.concentrate_ag', 'final.output.concentrate_pb']\n",
        "\n",
        "for item in columns:\n",
        "    print(item, data_train[data_train[item] < 1][item].count())"
      ]
    },
    {
      "cell_type": "code",
      "execution_count": null,
      "metadata": {
        "id": "qHVzPAXnDdhV",
        "outputId": "bf9ee840-358d-4658-ae06-20de4b8bc310"
      },
      "outputs": [
        {
          "data": {
            "text/plain": [
              "(13982, 87)"
            ]
          },
          "execution_count": 41,
          "metadata": {},
          "output_type": "execute_result"
        }
      ],
      "source": [
        "for item in columns:\n",
        "    data_train = data_train.drop(data_train[data_train[item]==0].index)\n",
        "\n",
        "data_train.shape"
      ]
    },
    {
      "cell_type": "code",
      "execution_count": null,
      "metadata": {
        "id": "EraxfgJnDdhV",
        "outputId": "3b36c99d-91cb-4c47-a29a-654bf34b5991"
      },
      "outputs": [
        {
          "data": {
            "text/plain": [
              "596"
            ]
          },
          "execution_count": 42,
          "metadata": {},
          "output_type": "execute_result"
        }
      ],
      "source": [
        "14578 - 13982"
      ]
    },
    {
      "cell_type": "code",
      "execution_count": null,
      "metadata": {
        "id": "zA6cbZX4DdhV",
        "outputId": "1a3ed92e-fc8b-4580-dd1a-7cbcde8aa11b"
      },
      "outputs": [
        {
          "data": {
            "image/png": "[encoded data removed]",
            "text/plain": [
              "<Figure size 720x720 with 1 Axes>"
            ]
          },
          "metadata": {
            "needs_background": "light"
          },
          "output_type": "display_data"
        }
      ],
      "source": [
        "data_real['final.output.concentrate_au'].hist(bins=50, figsize=(10,10), legend='Золото');\n",
        "data_real['final.output.concentrate_ag'].hist(bins=50, figsize=(10,10),alpha = 0.3, legend='Серебро');\n",
        "data_real['final.output.concentrate_pb'].hist(bins=50, figsize=(10,10),alpha = 0.5, legend='Свинец');\n",
        "plt.title(\"Концентрация металлов  в финальном концентрате\");\n",
        "plt.ylabel('Частота значений параметров');\n",
        "plt.xlabel(\"Значения параметров\");"
      ]
    },
    {
      "cell_type": "markdown",
      "metadata": {
        "id": "xlhFa_D6DdhW"
      },
      "source": [
        "Логичнее было бы построить графики концентрации каждого металла на разных этапах."
      ]
    },
    {
      "cell_type": "markdown",
      "metadata": {
        "id": "QelOgS3pDdhW"
      },
      "source": [
        "**2.2.  Сравните распределения размеров гранул исходного сырья на обучающей и тестовой выборках. Если распределения сильно отличаются друг от друга, оценка модели будет неправильной.**"
      ]
    },
    {
      "cell_type": "code",
      "execution_count": null,
      "metadata": {
        "id": "nJhDBAhUDdhW",
        "outputId": "3501ae2a-42a5-488e-ce60-34b9f340996c"
      },
      "outputs": [
        {
          "data": {
            "image/png": "[encoded data removed]",
            "text/plain": [
              "<Figure size 1872x1152 with 1 Axes>"
            ]
          },
          "metadata": {
            "needs_background": "light"
          },
          "output_type": "display_data"
        }
      ],
      "source": [
        "plt.figure(figsize=(26,16))\n",
        "plt.grid(b=True)\n",
        "sns.kdeplot(data_train['rougher.input.feed_size'], x='train',fill=True, alpha=0.5, legend=True, \\\n",
        "            label='rougher.input.feed_size')\n",
        "sns.kdeplot(data_test['rougher.input.feed_size'], x='test', fill=True, alpha=0.5, legend=True, \\\n",
        "            label='rougher.input.feed_size')\n",
        "plt.rcParams['figure.figsize'] = (25, 15)\n",
        "plt.title('Распределения размеров гранул сырья на обучающей и тестовой выборках на этапе флотации',fontsize=20);\n",
        "plt.legend(fontsize=20);\n",
        "plt.ylabel('Значения параметров',fontsize=20);\n",
        "plt.xlabel(\"Распределение гранул сырья\", fontsize=20);"
      ]
    },
    {
      "cell_type": "code",
      "execution_count": null,
      "metadata": {
        "id": "WDnUfJlcDdhX",
        "outputId": "d001ffcf-63a7-4559-81db-b615c6882041"
      },
      "outputs": [
        {
          "name": "stdout",
          "output_type": "stream",
          "text": [
            "59.17172485816585\n",
            "59.13615007330843\n"
          ]
        }
      ],
      "source": [
        "print(data_train['rougher.input.feed_size'].mean())\n",
        "print(data_test['rougher.input.feed_size'].mean())"
      ]
    },
    {
      "cell_type": "markdown",
      "metadata": {
        "id": "PGAnKq1rDdhX"
      },
      "source": [
        " Для представления данных используется график распределения плотности. Действительно, такое представление гораздо лучше демонстрирует распределение плотности размеров гранул на выборках на разных этапах технологического процесса.\n"
      ]
    },
    {
      "cell_type": "markdown",
      "metadata": {
        "id": "pteKV_ojDdhY"
      },
      "source": [
        "**2.3. Исследуйте суммарную концентрацию металлов на разных стадиях: в сырье, в черновом концентрате, в концентрате после первой очистки и в финальном концентрате.**"
      ]
    },
    {
      "cell_type": "code",
      "execution_count": null,
      "metadata": {
        "id": "Din8ZbyoDdhY"
      },
      "outputs": [],
      "source": [
        "col_input=['rougher.input.feed_au', 'rougher.input.feed_ag', 'rougher.input.feed_pb']\n",
        "col_outp = ['rougher.output.concentrate_au', 'rougher.output.concentrate_ag', 'rougher.output.concentrate_pb']\n",
        "col_primary = ['primary_cleaner.output.concentrate_au', 'primary_cleaner.output.concentrate_ag',\\\n",
        "               'primary_cleaner.output.concentrate_pb']\n",
        "col_final = ['final.output.concentrate_au', 'final.output.concentrate_ag', 'final.output.concentrate_pb']"
      ]
    },
    {
      "cell_type": "code",
      "execution_count": null,
      "metadata": {
        "id": "agRuehzsDdhY",
        "outputId": "f621dfdf-d534-47a7-cc5b-b7a69c86e6ad"
      },
      "outputs": [
        {
          "data": {
            "image/png": "[encoded data removed]",
            "text/plain": [
              "<Figure size 1800x1080 with 1 Axes>"
            ]
          },
          "metadata": {
            "needs_background": "light"
          },
          "output_type": "display_data"
        }
      ],
      "source": [
        "concentrate_all_in = data_real['rougher.input.feed_au'] + data_real['rougher.input.feed_ag'] + \\\n",
        "                                                            data_real['rougher.input.feed_pb']\n",
        "concentrate_all_fl = data_real['rougher.output.concentrate_au'] + data_real['rougher.output.concentrate_ag'] \\\n",
        "                                                            + data_real['rougher.output.concentrate_pb']\n",
        "concentrate_all_pr = data_real['primary_cleaner.output.concentrate_au'] + data_real['primary_cleaner.output.concentrate_ag'] \\\n",
        "                                                            + data_real['primary_cleaner.output.concentrate_pb']\n",
        "concentrate_all_fin = data_real['final.output.concentrate_au'] + data_real['final.output.concentrate_ag'] + \\\n",
        "                                                                data_real['final.output.concentrate_pb']\n",
        "\n",
        "\n",
        "plt.rcParams['figure.figsize'] = (25, 15)\n",
        "plt.grid(b=True)\n",
        "plt.hist(concentrate_all_in, bins=100,  label='rougher',alpha=0.5)\n",
        "plt.hist(concentrate_all_fl, bins=100,  label='primary', alpha=0.5)\n",
        "plt.hist(concentrate_all_pr, bins=100,  label='secondary', alpha=0.5)\n",
        "plt.hist(concentrate_all_fin, bins=100,  label='final', alpha=0.5)\n",
        "\n",
        "plt.legend(fontsize=20)\n",
        "plt.title('Cуммарная концентрация металлов на разных стадиях:',fontsize=20)\n",
        "plt.xlabel('Суммарная концентрация')\n",
        "plt.ylabel('Частота')\n",
        "plt.legend(fontsize=20);"
      ]
    },
    {
      "cell_type": "markdown",
      "metadata": {
        "id": "s_azR1eGDdhY"
      },
      "source": [
        "Наблюдается увеличение суммарной концентрации металлов с каждым этапом. При этом видны некоторые нулевые значения. Вероятно это выбросы."
      ]
    },
    {
      "cell_type": "code",
      "execution_count": null,
      "metadata": {
        "id": "DO5DPok4DdhY",
        "outputId": "59193a1a-1fd0-47ae-814f-f814760e8e8d"
      },
      "outputs": [
        {
          "name": "stdout",
          "output_type": "stream",
          "text": [
            "Суммарная концентрация металлов в сырье -  401328.672\n",
            "Суммарная концентрация металлов в черновом концентрате -  765372.365\n",
            "Суммарная концентрация металлов в концентрате после первой очистки -  979163.515\n",
            "Суммарная концентрация металлов в финальном концентрате -  1151249.918\n"
          ]
        }
      ],
      "source": [
        "print(\"Суммарная концентрация металлов в сырье - \", round(concentrate_all_in.sum(),3))\n",
        "print(\"Суммарная концентрация металлов в черновом концентрате - \", round(concentrate_all_fl.sum(), 3) )\n",
        "print(\"Суммарная концентрация металлов в концентрате после первой очистки - \", round(concentrate_all_pr.sum(),3))\n",
        "print(\"Суммарная концентрация металлов в финальном концентрате - \", round(concentrate_all_fin.sum(), 3))"
      ]
    },
    {
      "cell_type": "markdown",
      "metadata": {
        "id": "KrGPaAp2DdhZ"
      },
      "source": [
        "**Выводы.**\n",
        "\n",
        "- Концентрация золота растет с каждым этапом.\n",
        "- После вторичной обработки его содержание увеличивается более чем в 5 раз. Содержание серебра увеличивается после флотации, затем снижается.\n",
        "- К финальному этапу содержание серебра меньше чем в начале в полтора раза. Концентрация свинца растет от этапа к этапу. К финальному этапу содержание свинца увеличивается втрое.\n",
        "- Сравнены распределения размеров гранул исходного сырья на обучающей и тестовой выборках. Распределения практически точно совпадают, следовательно оценка модели будет правильная.\n",
        "\n",
        "Таким образом,\n",
        "  - содержание золота в финальном концентрате увеличивается более чем в пять раз по сравнению с его содержанием в сырье.\n",
        "  - Уже после флотации концентрация золота вырастает в 2,4 раза.\n",
        "  - После первой очистки - увеличивается в 1,5 раза.\n",
        "  - К финальному этапу концентрация увеличивается в 5,4 раз.\n"
      ]
    },
    {
      "cell_type": "markdown",
      "metadata": {
        "id": "JF0YLtHtDdhZ"
      },
      "source": [
        "## Модель"
      ]
    },
    {
      "cell_type": "markdown",
      "metadata": {
        "id": "oLrDvT1oDdhZ"
      },
      "source": [
        "**3.1. Напишите функцию для вычисления итоговой sMAPE.**\n",
        "\n",
        "Вам пригодятся формулы метрик качества:\n"
      ]
    },
    {
      "cell_type": "code",
      "execution_count": null,
      "metadata": {
        "id": "vfNXPr_EDdhZ"
      },
      "outputs": [],
      "source": [
        "def sMAPE(y_true, y_pred):\n",
        "    error = np.abs(y_true - y_pred)\n",
        "    scale = (np.abs(y_true) + np.abs(y_pred)) / 2\n",
        "    return np.mean(error / scale) * 100"
      ]
    },
    {
      "cell_type": "code",
      "execution_count": null,
      "metadata": {
        "id": "cdR22PICDdhZ"
      },
      "outputs": [],
      "source": [
        "def final_sMAPE(sMAPE_rougher, sMAPE_final):\n",
        "    error = 0.25 * sMAPE_rougher + 0.75 * sMAPE_final\n",
        "    return error"
      ]
    },
    {
      "cell_type": "markdown",
      "metadata": {
        "id": "EjyrAoyODdha"
      },
      "source": [
        "**3.2. Обучите разные модели и оцените их качество кросс-валидацией. Выберите лучшую модель и проверьте её на тестовой выборке. Опишите выводы.**"
      ]
    },
    {
      "cell_type": "code",
      "execution_count": null,
      "metadata": {
        "id": "UMziK27yDdha"
      },
      "outputs": [],
      "source": [
        "#выполним разбиение на обучающие выборки по этапам\n",
        "data_train_rougher_features = data_train.loc[:, data_test.columns].drop(['date'], axis=1)\n",
        "data_train_rougher_targets = data_train['rougher.output.recovery']\n",
        "\n",
        "data_train_final_features = data_train_rougher_features.copy()\n",
        "data_train_final_targets = data_train['final.output.recovery']"
      ]
    },
    {
      "cell_type": "code",
      "execution_count": null,
      "metadata": {
        "id": "Y3BlDMGWDdha",
        "outputId": "bf991c50-8c52-4770-aae5-6c024c94b0ac"
      },
      "outputs": [
        {
          "data": {
            "text/html": [
              "<div>\n",
              "<style scoped>\n",
              "    .dataframe tbody tr th:only-of-type {\n",
              "        vertical-align: middle;\n",
              "    }\n",
              "\n",
              "    .dataframe tbody tr th {\n",
              "        vertical-align: top;\n",
              "    }\n",
              "\n",
              "    .dataframe thead th {\n",
              "        text-align: right;\n",
              "    }\n",
              "</style>\n",
              "<table border=\"1\" class=\"dataframe\">\n",
              "  <thead>\n",
              "    <tr style=\"text-align: right;\">\n",
              "      <th></th>\n",
              "      <th>rougher.input.feed_au</th>\n",
              "      <th>rougher.input.feed_ag</th>\n",
              "      <th>rougher.input.feed_pb</th>\n",
              "      <th>rougher.input.feed_sol</th>\n",
              "      <th>rougher.input.feed_rate</th>\n",
              "      <th>rougher.input.feed_size</th>\n",
              "      <th>rougher.input.floatbank10_sulfate</th>\n",
              "      <th>rougher.input.floatbank10_xanthate</th>\n",
              "      <th>rougher.state.floatbank10_a_air</th>\n",
              "      <th>rougher.state.floatbank10_a_level</th>\n",
              "      <th>...</th>\n",
              "      <th>secondary_cleaner.state.floatbank4_a_air</th>\n",
              "      <th>secondary_cleaner.state.floatbank4_a_level</th>\n",
              "      <th>secondary_cleaner.state.floatbank4_b_air</th>\n",
              "      <th>secondary_cleaner.state.floatbank4_b_level</th>\n",
              "      <th>secondary_cleaner.state.floatbank5_a_air</th>\n",
              "      <th>secondary_cleaner.state.floatbank5_a_level</th>\n",
              "      <th>secondary_cleaner.state.floatbank5_b_air</th>\n",
              "      <th>secondary_cleaner.state.floatbank5_b_level</th>\n",
              "      <th>secondary_cleaner.state.floatbank6_a_air</th>\n",
              "      <th>secondary_cleaner.state.floatbank6_a_level</th>\n",
              "    </tr>\n",
              "  </thead>\n",
              "  <tbody>\n",
              "    <tr>\n",
              "      <th>0</th>\n",
              "      <td>6.486150</td>\n",
              "      <td>6.100378</td>\n",
              "      <td>2.284912</td>\n",
              "      <td>36.808594</td>\n",
              "      <td>523.546326</td>\n",
              "      <td>55.486599</td>\n",
              "      <td>11.986616</td>\n",
              "      <td>6.007990</td>\n",
              "      <td>999.706909</td>\n",
              "      <td>-404.066986</td>\n",
              "      <td>...</td>\n",
              "      <td>14.016835</td>\n",
              "      <td>-502.488007</td>\n",
              "      <td>12.099931</td>\n",
              "      <td>-504.715942</td>\n",
              "      <td>9.925633</td>\n",
              "      <td>-498.310211</td>\n",
              "      <td>8.079666</td>\n",
              "      <td>-500.470978</td>\n",
              "      <td>14.151341</td>\n",
              "      <td>-605.841980</td>\n",
              "    </tr>\n",
              "    <tr>\n",
              "      <th>1</th>\n",
              "      <td>6.478583</td>\n",
              "      <td>6.161113</td>\n",
              "      <td>2.266033</td>\n",
              "      <td>35.753385</td>\n",
              "      <td>525.290581</td>\n",
              "      <td>57.278666</td>\n",
              "      <td>11.971193</td>\n",
              "      <td>6.005766</td>\n",
              "      <td>1000.286398</td>\n",
              "      <td>-400.065196</td>\n",
              "      <td>...</td>\n",
              "      <td>13.992281</td>\n",
              "      <td>-505.503262</td>\n",
              "      <td>11.950531</td>\n",
              "      <td>-501.331529</td>\n",
              "      <td>10.039245</td>\n",
              "      <td>-500.169983</td>\n",
              "      <td>7.984757</td>\n",
              "      <td>-500.582168</td>\n",
              "      <td>13.998353</td>\n",
              "      <td>-599.787184</td>\n",
              "    </tr>\n",
              "    <tr>\n",
              "      <th>2</th>\n",
              "      <td>6.362222</td>\n",
              "      <td>6.116455</td>\n",
              "      <td>2.159622</td>\n",
              "      <td>35.971630</td>\n",
              "      <td>530.026610</td>\n",
              "      <td>57.510649</td>\n",
              "      <td>11.920603</td>\n",
              "      <td>6.197377</td>\n",
              "      <td>999.719565</td>\n",
              "      <td>-400.074028</td>\n",
              "      <td>...</td>\n",
              "      <td>14.015015</td>\n",
              "      <td>-502.520901</td>\n",
              "      <td>11.912783</td>\n",
              "      <td>-501.133383</td>\n",
              "      <td>10.070913</td>\n",
              "      <td>-500.129135</td>\n",
              "      <td>8.013877</td>\n",
              "      <td>-500.517572</td>\n",
              "      <td>14.028663</td>\n",
              "      <td>-601.427363</td>\n",
              "    </tr>\n",
              "    <tr>\n",
              "      <th>3</th>\n",
              "      <td>6.118189</td>\n",
              "      <td>6.043309</td>\n",
              "      <td>2.037807</td>\n",
              "      <td>36.862241</td>\n",
              "      <td>542.590390</td>\n",
              "      <td>57.792734</td>\n",
              "      <td>11.630094</td>\n",
              "      <td>6.203177</td>\n",
              "      <td>999.814770</td>\n",
              "      <td>-400.200179</td>\n",
              "      <td>...</td>\n",
              "      <td>14.036510</td>\n",
              "      <td>-500.857308</td>\n",
              "      <td>11.999550</td>\n",
              "      <td>-501.193686</td>\n",
              "      <td>9.970366</td>\n",
              "      <td>-499.201640</td>\n",
              "      <td>7.977324</td>\n",
              "      <td>-500.255908</td>\n",
              "      <td>14.005551</td>\n",
              "      <td>-599.996129</td>\n",
              "    </tr>\n",
              "    <tr>\n",
              "      <th>4</th>\n",
              "      <td>5.663707</td>\n",
              "      <td>6.060915</td>\n",
              "      <td>1.786875</td>\n",
              "      <td>34.347666</td>\n",
              "      <td>540.531893</td>\n",
              "      <td>56.047189</td>\n",
              "      <td>10.957755</td>\n",
              "      <td>6.198826</td>\n",
              "      <td>999.678690</td>\n",
              "      <td>-399.752729</td>\n",
              "      <td>...</td>\n",
              "      <td>14.027298</td>\n",
              "      <td>-499.838632</td>\n",
              "      <td>11.953070</td>\n",
              "      <td>-501.053894</td>\n",
              "      <td>9.925709</td>\n",
              "      <td>-501.686727</td>\n",
              "      <td>7.894242</td>\n",
              "      <td>-500.356035</td>\n",
              "      <td>13.996647</td>\n",
              "      <td>-601.496691</td>\n",
              "    </tr>\n",
              "  </tbody>\n",
              "</table>\n",
              "<p>5 rows × 52 columns</p>\n",
              "</div>"
            ],
            "text/plain": [
              "   rougher.input.feed_au  rougher.input.feed_ag  rougher.input.feed_pb  \\\n",
              "0               6.486150               6.100378               2.284912   \n",
              "1               6.478583               6.161113               2.266033   \n",
              "2               6.362222               6.116455               2.159622   \n",
              "3               6.118189               6.043309               2.037807   \n",
              "4               5.663707               6.060915               1.786875   \n",
              "\n",
              "   rougher.input.feed_sol  rougher.input.feed_rate  rougher.input.feed_size  \\\n",
              "0               36.808594               523.546326                55.486599   \n",
              "1               35.753385               525.290581                57.278666   \n",
              "2               35.971630               530.026610                57.510649   \n",
              "3               36.862241               542.590390                57.792734   \n",
              "4               34.347666               540.531893                56.047189   \n",
              "\n",
              "   rougher.input.floatbank10_sulfate  rougher.input.floatbank10_xanthate  \\\n",
              "0                          11.986616                            6.007990   \n",
              "1                          11.971193                            6.005766   \n",
              "2                          11.920603                            6.197377   \n",
              "3                          11.630094                            6.203177   \n",
              "4                          10.957755                            6.198826   \n",
              "\n",
              "   rougher.state.floatbank10_a_air  rougher.state.floatbank10_a_level  ...  \\\n",
              "0                       999.706909                        -404.066986  ...   \n",
              "1                      1000.286398                        -400.065196  ...   \n",
              "2                       999.719565                        -400.074028  ...   \n",
              "3                       999.814770                        -400.200179  ...   \n",
              "4                       999.678690                        -399.752729  ...   \n",
              "\n",
              "   secondary_cleaner.state.floatbank4_a_air  \\\n",
              "0                                 14.016835   \n",
              "1                                 13.992281   \n",
              "2                                 14.015015   \n",
              "3                                 14.036510   \n",
              "4                                 14.027298   \n",
              "\n",
              "   secondary_cleaner.state.floatbank4_a_level  \\\n",
              "0                                 -502.488007   \n",
              "1                                 -505.503262   \n",
              "2                                 -502.520901   \n",
              "3                                 -500.857308   \n",
              "4                                 -499.838632   \n",
              "\n",
              "   secondary_cleaner.state.floatbank4_b_air  \\\n",
              "0                                 12.099931   \n",
              "1                                 11.950531   \n",
              "2                                 11.912783   \n",
              "3                                 11.999550   \n",
              "4                                 11.953070   \n",
              "\n",
              "   secondary_cleaner.state.floatbank4_b_level  \\\n",
              "0                                 -504.715942   \n",
              "1                                 -501.331529   \n",
              "2                                 -501.133383   \n",
              "3                                 -501.193686   \n",
              "4                                 -501.053894   \n",
              "\n",
              "   secondary_cleaner.state.floatbank5_a_air  \\\n",
              "0                                  9.925633   \n",
              "1                                 10.039245   \n",
              "2                                 10.070913   \n",
              "3                                  9.970366   \n",
              "4                                  9.925709   \n",
              "\n",
              "   secondary_cleaner.state.floatbank5_a_level  \\\n",
              "0                                 -498.310211   \n",
              "1                                 -500.169983   \n",
              "2                                 -500.129135   \n",
              "3                                 -499.201640   \n",
              "4                                 -501.686727   \n",
              "\n",
              "   secondary_cleaner.state.floatbank5_b_air  \\\n",
              "0                                  8.079666   \n",
              "1                                  7.984757   \n",
              "2                                  8.013877   \n",
              "3                                  7.977324   \n",
              "4                                  7.894242   \n",
              "\n",
              "   secondary_cleaner.state.floatbank5_b_level  \\\n",
              "0                                 -500.470978   \n",
              "1                                 -500.582168   \n",
              "2                                 -500.517572   \n",
              "3                                 -500.255908   \n",
              "4                                 -500.356035   \n",
              "\n",
              "   secondary_cleaner.state.floatbank6_a_air  \\\n",
              "0                                 14.151341   \n",
              "1                                 13.998353   \n",
              "2                                 14.028663   \n",
              "3                                 14.005551   \n",
              "4                                 13.996647   \n",
              "\n",
              "   secondary_cleaner.state.floatbank6_a_level  \n",
              "0                                 -605.841980  \n",
              "1                                 -599.787184  \n",
              "2                                 -601.427363  \n",
              "3                                 -599.996129  \n",
              "4                                 -601.496691  \n",
              "\n",
              "[5 rows x 52 columns]"
            ]
          },
          "execution_count": 52,
          "metadata": {},
          "output_type": "execute_result"
        }
      ],
      "source": [
        " data_train_rougher_features.head()"
      ]
    },
    {
      "cell_type": "code",
      "execution_count": null,
      "metadata": {
        "id": "UkBe_H3oDdha",
        "outputId": "21f204b3-4c6e-45c4-e502-a6cb677204e9"
      },
      "outputs": [
        {
          "name": "stdout",
          "output_type": "stream",
          "text": [
            "(13982, 52) (13982,) (13982, 52) (13982,)\n"
          ]
        }
      ],
      "source": [
        "print(data_train_rougher_features.shape, data_train_rougher_targets.shape,data_train_final_features.shape, \\\n",
        "      data_train_final_targets.shape)"
      ]
    },
    {
      "cell_type": "code",
      "execution_count": null,
      "metadata": {
        "id": "4_-P4TpQDdhc"
      },
      "outputs": [],
      "source": [
        "#Подготовим тестовую выборку вместе с таргетами, их подтянем из data_real по дате\n",
        "\n",
        "data_test_targets = data_test.merge(data_real.loc[:,['date',\"rougher.output.recovery\",\"final.output.recovery\"]],on = 'date')\n",
        "data_test_ok = data_test_targets.loc[:,data_test.columns].drop(['date'],axis=1)\n",
        "\n",
        "data_test_targets_rougher = data_test_targets[\"rougher.output.recovery\"]\n",
        "data_test_targets_final = data_test_targets[\"final.output.recovery\"]"
      ]
    },
    {
      "cell_type": "code",
      "execution_count": null,
      "metadata": {
        "id": "PP9jRvbMDdhd"
      },
      "outputs": [],
      "source": [
        "model_RFR = make_pipeline(StandardScaler(), RandomForestRegressor(random_state=12345))\n",
        "model_DTR = make_pipeline(StandardScaler(), DecisionTreeRegressor(random_state=12345))"
      ]
    },
    {
      "cell_type": "code",
      "execution_count": null,
      "metadata": {
        "id": "aVgDR-jXDdhd"
      },
      "outputs": [],
      "source": [
        "scorer = make_scorer(sMAPE, greater_is_better=False)"
      ]
    },
    {
      "cell_type": "code",
      "execution_count": null,
      "metadata": {
        "id": "n7nsOk8yDdhd"
      },
      "outputs": [],
      "source": [
        "# Инициализация параметров для GridSearchCV\n",
        "params_RFR = {\"randomforestregressor__n_estimators\": range(5,100,10),\n",
        "             \"randomforestregressor__max_depth\": range(1, 6)}\n",
        "params_DTR = {\"decisiontreeregressor__max_depth\": range(1, 6)}"
      ]
    },
    {
      "cell_type": "code",
      "execution_count": null,
      "metadata": {
        "id": "qCBbjk5fDdhe"
      },
      "outputs": [],
      "source": [
        "grid_rougher_RFR = GridSearchCV(model_RFR,param_grid = params_RFR, scoring=scorer, n_jobs=-1, verbose=10)\n",
        "grid_final_RFR = GridSearchCV(model_RFR,param_grid = params_RFR, scoring=scorer, n_jobs=-1, verbose=10)\n",
        "\n",
        "grid_rougher_DTR = GridSearchCV(model_DTR, param_grid = params_DTR, scoring=scorer, n_jobs=-1, verbose=10)\n",
        "grid_final_DTR = GridSearchCV(model_DTR, param_grid = params_DTR, scoring=scorer, n_jobs=-1, verbose=10)"
      ]
    },
    {
      "cell_type": "code",
      "execution_count": null,
      "metadata": {
        "id": "9zd9okvYDdhe",
        "outputId": "510e4e92-3b79-4b61-d654-5226828fedcf"
      },
      "outputs": [
        {
          "name": "stdout",
          "output_type": "stream",
          "text": [
            "Fitting 5 folds for each of 1 candidates, totalling 5 fits\n",
            "[CV 1/5; 1/1] START randomforestregressor__max_depth=5, randomforestregressor__n_estimators=85\n",
            "[CV 1/5; 1/1] END randomforestregressor__max_depth=5, randomforestregressor__n_estimators=85; total time=  33.7s\n",
            "[CV 2/5; 1/1] START randomforestregressor__max_depth=5, randomforestregressor__n_estimators=85\n",
            "[CV 2/5; 1/1] END randomforestregressor__max_depth=5, randomforestregressor__n_estimators=85; total time=  34.7s\n",
            "[CV 3/5; 1/1] START randomforestregressor__max_depth=5, randomforestregressor__n_estimators=85\n",
            "[CV 3/5; 1/1] END randomforestregressor__max_depth=5, randomforestregressor__n_estimators=85; total time=  35.1s\n",
            "[CV 4/5; 1/1] START randomforestregressor__max_depth=5, randomforestregressor__n_estimators=85\n",
            "[CV 4/5; 1/1] END randomforestregressor__max_depth=5, randomforestregressor__n_estimators=85; total time=  26.4s\n",
            "[CV 5/5; 1/1] START randomforestregressor__max_depth=5, randomforestregressor__n_estimators=85\n",
            "[CV 5/5; 1/1] END randomforestregressor__max_depth=5, randomforestregressor__n_estimators=85; total time=  26.4s\n",
            "Fitting 5 folds for each of 1 candidates, totalling 5 fits\n",
            "[CV 1/5; 1/1] START randomforestregressor__max_depth=5, randomforestregressor__n_estimators=85\n",
            "[CV 1/5; 1/1] END randomforestregressor__max_depth=5, randomforestregressor__n_estimators=85; total time=  29.8s\n",
            "[CV 2/5; 1/1] START randomforestregressor__max_depth=5, randomforestregressor__n_estimators=85\n",
            "[CV 2/5; 1/1] END randomforestregressor__max_depth=5, randomforestregressor__n_estimators=85; total time=  29.4s\n",
            "[CV 3/5; 1/1] START randomforestregressor__max_depth=5, randomforestregressor__n_estimators=85\n",
            "[CV 3/5; 1/1] END randomforestregressor__max_depth=5, randomforestregressor__n_estimators=85; total time=  27.7s\n",
            "[CV 4/5; 1/1] START randomforestregressor__max_depth=5, randomforestregressor__n_estimators=85\n",
            "[CV 4/5; 1/1] END randomforestregressor__max_depth=5, randomforestregressor__n_estimators=85; total time=  27.1s\n",
            "[CV 5/5; 1/1] START randomforestregressor__max_depth=5, randomforestregressor__n_estimators=85\n",
            "[CV 5/5; 1/1] END randomforestregressor__max_depth=5, randomforestregressor__n_estimators=85; total time=  57.4s\n",
            "Fitting 5 folds for each of 1 candidates, totalling 5 fits\n",
            "[CV 1/5; 1/1] START decisiontreeregressor__max_depth=5..........................\n",
            "[CV 1/5; 1/1] END ........decisiontreeregressor__max_depth=5; total time=   1.9s\n",
            "[CV 2/5; 1/1] START decisiontreeregressor__max_depth=5..........................\n",
            "[CV 2/5; 1/1] END ........decisiontreeregressor__max_depth=5; total time=   1.2s\n",
            "[CV 3/5; 1/1] START decisiontreeregressor__max_depth=5..........................\n",
            "[CV 3/5; 1/1] END ........decisiontreeregressor__max_depth=5; total time=   1.4s\n",
            "[CV 4/5; 1/1] START decisiontreeregressor__max_depth=5..........................\n",
            "[CV 4/5; 1/1] END ........decisiontreeregressor__max_depth=5; total time=   0.8s\n",
            "[CV 5/5; 1/1] START decisiontreeregressor__max_depth=5..........................\n",
            "[CV 5/5; 1/1] END ........decisiontreeregressor__max_depth=5; total time=   0.6s\n",
            "Fitting 5 folds for each of 1 candidates, totalling 5 fits\n",
            "[CV 1/5; 1/1] START decisiontreeregressor__max_depth=5..........................\n",
            "[CV 1/5; 1/1] END ........decisiontreeregressor__max_depth=5; total time=   0.8s\n",
            "[CV 2/5; 1/1] START decisiontreeregressor__max_depth=5..........................\n",
            "[CV 2/5; 1/1] END ........decisiontreeregressor__max_depth=5; total time=   0.8s\n",
            "[CV 3/5; 1/1] START decisiontreeregressor__max_depth=5..........................\n",
            "[CV 3/5; 1/1] END ........decisiontreeregressor__max_depth=5; total time=   1.1s\n",
            "[CV 4/5; 1/1] START decisiontreeregressor__max_depth=5..........................\n",
            "[CV 4/5; 1/1] END ........decisiontreeregressor__max_depth=5; total time=   0.7s\n",
            "[CV 5/5; 1/1] START decisiontreeregressor__max_depth=5..........................\n",
            "[CV 5/5; 1/1] END ........decisiontreeregressor__max_depth=5; total time=   0.7s\n"
          ]
        },
        {
          "data": {
            "text/plain": [
              "GridSearchCV(estimator=Pipeline(steps=[('standardscaler', StandardScaler()),\n",
              "                                       ('decisiontreeregressor',\n",
              "                                        DecisionTreeRegressor(random_state=12345))]),\n",
              "             n_jobs=-1,\n",
              "             param_grid={'decisiontreeregressor__max_depth': range(5, 6)},\n",
              "             scoring=make_scorer(sMAPE, greater_is_better=False), verbose=10)"
            ]
          },
          "execution_count": 67,
          "metadata": {},
          "output_type": "execute_result"
        }
      ],
      "source": [
        "grid_rougher_RFR.fit(data_train_rougher_features, data_train_rougher_targets)\n",
        "grid_final_RFR.fit(data_train_final_features, data_train_final_targets)\n",
        "\n",
        "grid_rougher_DTR.fit(data_train_rougher_features, data_train_rougher_targets)\n",
        "grid_final_DTR.fit(data_train_final_features, data_train_final_targets)"
      ]
    },
    {
      "cell_type": "markdown",
      "metadata": {
        "id": "BW2bACs5Ddhe"
      },
      "source": [
        "Оптимизация параметров выполняется через поиск на range. В GridSearchCV добавлены параметры n_jobs=-1, verbose=10. Виден процесс обучения. Нагляно видно как изменяется время работы модели в завимости от подобранных параметров."
      ]
    },
    {
      "cell_type": "code",
      "execution_count": null,
      "metadata": {
        "id": "g0im892JDdhe",
        "outputId": "d899be54-f19e-4a56-9abe-ee654c7d09a0"
      },
      "outputs": [
        {
          "name": "stdout",
          "output_type": "stream",
          "text": [
            "Выбраны лучшие модели с оптимальными параметрами\n",
            "Pipeline(steps=[('standardscaler', StandardScaler()),\n",
            "                ('randomforestregressor',\n",
            "                 RandomForestRegressor(max_depth=5, n_estimators=85,\n",
            "                                       random_state=12345))]) Pipeline(steps=[('standardscaler', StandardScaler()),\n",
            "                ('decisiontreeregressor',\n",
            "                 DecisionTreeRegressor(max_depth=5, random_state=12345))])\n"
          ]
        }
      ],
      "source": [
        "print(\"Выбраны лучшие модели с оптимальными параметрами\")\n",
        "print(grid_rougher_RFR.best_estimator_, grid_rougher_DTR.best_estimator_)"
      ]
    },
    {
      "cell_type": "code",
      "execution_count": null,
      "metadata": {
        "id": "EkSvUCunDdhe"
      },
      "outputs": [],
      "source": [
        "best_score_rougher_RFR = abs(grid_rougher_RFR.best_score_)\n",
        "best_score_final_RFR = abs(grid_final_RFR.best_score_)\n",
        "\n",
        "best_score_rougher_DTR = abs(grid_rougher_DTR.best_score_)\n",
        "best_score_final_DTR = abs(grid_final_DTR.best_score_)"
      ]
    },
    {
      "cell_type": "code",
      "execution_count": null,
      "metadata": {
        "id": "oO-MJ8yBDdhe",
        "outputId": "4423caed-dda3-4913-83c5-24136b4b70e1"
      },
      "outputs": [
        {
          "name": "stdout",
          "output_type": "stream",
          "text": [
            "На этапе флотации:\n",
            "RandomForest  6.45305320888184 \n",
            "DecisionTree  6.770693260985292\n",
            "\n",
            "Финальный этап:\n",
            "RandomForest  9.33744874188302 \n",
            "DecisionTree  10.322003834916456\n"
          ]
        }
      ],
      "source": [
        "print(\"На этапе флотации:\\nRandomForest \", best_score_rougher_RFR,\"\\nDecisionTree \", best_score_rougher_DTR)\n",
        "print(\"\\nФинальный этап:\\nRandomForest \", best_score_final_RFR, \"\\nDecisionTree \", best_score_final_DTR)"
      ]
    },
    {
      "cell_type": "markdown",
      "metadata": {
        "id": "1sY9HD_HDdhf"
      },
      "source": [
        "Посчитаем sMAPE."
      ]
    },
    {
      "cell_type": "code",
      "execution_count": null,
      "metadata": {
        "id": "uD9eaBOODdhf",
        "outputId": "e87b88db-6f81-4709-ed2e-3150710917b0"
      },
      "outputs": [
        {
          "data": {
            "text/plain": [
              "8.616349858632724"
            ]
          },
          "execution_count": 71,
          "metadata": {},
          "output_type": "execute_result"
        }
      ],
      "source": [
        "final_sMAPE(best_score_rougher_RFR, best_score_final_RFR)"
      ]
    },
    {
      "cell_type": "code",
      "execution_count": null,
      "metadata": {
        "id": "EFBMS287Ddhf",
        "outputId": "e1584515-6b54-415c-d993-6402f6e482be"
      },
      "outputs": [
        {
          "data": {
            "text/plain": [
              "9.434176191433664"
            ]
          },
          "execution_count": 72,
          "metadata": {},
          "output_type": "execute_result"
        }
      ],
      "source": [
        "final_sMAPE(best_score_rougher_DTR, best_score_final_DTR)"
      ]
    },
    {
      "cell_type": "markdown",
      "metadata": {
        "id": "nYtPcWz-Ddhg"
      },
      "source": [
        "RandomForest дает лучший результат. Будем использовать эту модель. Сделаем предсказания на тестовой выборке. Посчитаем sMAPE"
      ]
    },
    {
      "cell_type": "markdown",
      "source": [],
      "metadata": {
        "id": "Fu-65ssvFQcx"
      }
    },
    {
      "cell_type": "code",
      "execution_count": null,
      "metadata": {
        "id": "FQYndzd7Ddhg"
      },
      "outputs": [],
      "source": [
        "rogher_test = grid_rougher_RFR.predict(data_test_ok)"
      ]
    },
    {
      "cell_type": "code",
      "execution_count": null,
      "metadata": {
        "id": "tE_J4dw4Ddhg"
      },
      "outputs": [],
      "source": [
        "final_test = grid_final_RFR.predict(data_test_ok)"
      ]
    },
    {
      "cell_type": "code",
      "execution_count": null,
      "metadata": {
        "id": "kCpsfZaqDdhg",
        "outputId": "0e2b3200-653f-44da-9cc7-13798eb517ea"
      },
      "outputs": [
        {
          "data": {
            "text/plain": [
              "6.527325319129649"
            ]
          },
          "execution_count": 75,
          "metadata": {},
          "output_type": "execute_result"
        }
      ],
      "source": [
        "final_sMAPE(sMAPE(data_test_targets_rougher,rogher_test), sMAPE(data_test_targets_final,final_test))"
      ]
    },
    {
      "cell_type": "markdown",
      "metadata": {
        "id": "IxxBZI0kDdhg"
      },
      "source": [
        "Получили такую ошибку. Вполне приемлемо. После удаления нулевых значений и подбора новых параметров, модель значительно улучшилась."
      ]
    },
    {
      "cell_type": "markdown",
      "metadata": {
        "id": "AMImt3uaDdhh"
      },
      "source": [
        "Проверим что получится на константной модели."
      ]
    },
    {
      "cell_type": "code",
      "execution_count": null,
      "metadata": {
        "id": "Ie5M_SsyDdhh"
      },
      "outputs": [],
      "source": [
        "constant_model_rougher = DummyRegressor(strategy=\"median\")\n",
        "constant_model_final = DummyRegressor(strategy=\"median\")"
      ]
    },
    {
      "cell_type": "code",
      "execution_count": null,
      "metadata": {
        "id": "bJQo4mGGDdhh",
        "outputId": "e0b0d146-f059-4931-c266-7294d09cee91"
      },
      "outputs": [
        {
          "data": {
            "text/plain": [
              "DummyRegressor(strategy='median')"
            ]
          },
          "execution_count": 77,
          "metadata": {},
          "output_type": "execute_result"
        }
      ],
      "source": [
        "constant_model_rougher.fit(data_train_rougher_features, data_train_rougher_targets)\n",
        "constant_model_final.fit(data_train_final_features, data_train_final_targets)"
      ]
    },
    {
      "cell_type": "code",
      "execution_count": null,
      "metadata": {
        "id": "ktnWFFPnDdhh"
      },
      "outputs": [],
      "source": [
        "constant_model_rougher_predict = constant_model_rougher.predict(data_test_ok)\n",
        "constant_model_final_predict = constant_model_final.predict(data_test_ok)"
      ]
    },
    {
      "cell_type": "code",
      "execution_count": null,
      "metadata": {
        "id": "OF_X1Mz1Ddhh",
        "outputId": "ee95292f-6d9e-4f7f-9458-0120065ebd01"
      },
      "outputs": [
        {
          "data": {
            "text/plain": [
              "8.294984028887791"
            ]
          },
          "execution_count": 79,
          "metadata": {},
          "output_type": "execute_result"
        }
      ],
      "source": [
        "final_sMAPE(sMAPE(data_test_targets_rougher, constant_model_rougher_predict),sMAPE(data_test_targets_final, \\\n",
        "                                                                                   constant_model_final_predict))"
      ]
    },
    {
      "cell_type": "markdown",
      "metadata": {
        "id": "Pgp_lP8EDdhh"
      },
      "source": [
        "\n",
        "После удаления выбросов из train модель стала давать лучшие результаты. Значение на константной медлеи получилось хуже, чем на итоговой модели.\n"
      ]
    },
    {
      "cell_type": "markdown",
      "metadata": {
        "id": "0CxsN3gADdhi"
      },
      "source": [
        "**Выводы**\n",
        "\n",
        "В ходе исследования по построению модели предсказывающей коэффициент восстановления золота из золотосодержащей руды выполнено следующее:\n",
        "- изучены датасеты с данными:\n",
        "\n",
        "Выявлено:</br>\n",
        "- Тестовая выборка содержит на 34 столбца меньше чем две другие таблицы.\n",
        "- В тестовой выборке отсутствуют данные, касающиеся выходных значений, которые будут получены в ходе выполнения технологического процесса.\n",
        "- Выбрана стратегия заполнения пропусков - значением предыдущей даты.\n",
        "- В данных отсутствуют явные дубликаты. Типы данных в норме, все значения количественные  -  поэтому используются модели регрессии.\n",
        "- Проверена формула эффективности обогащения. Формула рассчитана верно, может использоваться. Данные, полученные по формуле сравнивались с данными из обучающей выборки. Полное совпадение до 13 знаков после запятой.\n",
        "- Написаны функции для вычисления MAE. MAE посчитано - предельно низко. Что говорит о том, что средняя абсолютная разница между прогнозируемыми значениями и фактическими значениями в наборе данных предельно мала. 9.83758577644259e-15. Формулу можно использовать.\n",
        "- Построены графики, которые показывают процесс роста концентрации золота от этапа к этапу. Рассчитаны количественные значения изменения концентрации золота на разных этапах, что подтверждает визуальное представление.\n",
        "- Концентрация золота растет с каждым этапом. После вторичной обработки его содержание увеличивается более чем в 5 раз. Содержание серебра увеличивается после флотации, затем снижается. К финальному этапу содержание серебра меньше чем в начале в полтора раза. Концентрация свинца растет от этапа к этапу. К финальному этапу содержание свинца увеличивается втрое.\n",
        "        Таким образом,\n",
        "         - содержание золота в финальном концентрате увеличивается более чем в пять раз по сравнению с его содержанием в сырье.\n",
        "         - Уже после флотации концентрация золота вырастает в 2,4 раза.\n",
        "         - После первой очистки - увеличивается в 1,5 раза.\n",
        "         - К финальному этапу концентрация увеличивается в 5,4 раз.\n",
        "- Наблюдается увеличение суммарной концентрации металлов с каждым этапом. При этом видны некоторые нулевые значения.\n",
        "- Рассмотрены две модели регрессии – Случайный лес и Решающее дерево.\n",
        "- Модели обучены, оценено качество каждой из них кросс-валидацией.\n",
        "- Выбрана лучшая модель – «Решающий лес» и проверена на тестовой выборке.\n",
        "\n"
      ]
    }
  ],
  "metadata": {
    "ExecuteTimeLog": [
      {
        "duration": 436,
        "start_time": "2023-05-09T06:15:03.426Z"
      },
      {
        "duration": 102,
        "start_time": "2023-05-09T06:15:04.677Z"
      },
      {
        "duration": 2360,
        "start_time": "2023-05-09T06:15:22.227Z"
      },
      {
        "duration": 40,
        "start_time": "2023-05-09T06:15:24.589Z"
      },
      {
        "duration": 17,
        "start_time": "2023-05-09T06:16:09.016Z"
      },
      {
        "duration": 4,
        "start_time": "2023-05-09T06:17:27.089Z"
      },
      {
        "duration": 12,
        "start_time": "2023-05-09T06:18:23.617Z"
      },
      {
        "duration": 32,
        "start_time": "2023-05-09T06:19:17.327Z"
      },
      {
        "duration": 6,
        "start_time": "2023-05-09T06:19:58.376Z"
      },
      {
        "duration": 10,
        "start_time": "2023-05-09T06:20:27.295Z"
      },
      {
        "duration": 12,
        "start_time": "2023-05-09T06:20:52.037Z"
      },
      {
        "duration": 13,
        "start_time": "2023-05-09T06:21:10.240Z"
      },
      {
        "duration": 9,
        "start_time": "2023-05-09T06:23:54.747Z"
      },
      {
        "duration": 123,
        "start_time": "2023-05-09T06:24:16.107Z"
      },
      {
        "duration": 31,
        "start_time": "2023-05-09T06:26:15.077Z"
      },
      {
        "duration": 19,
        "start_time": "2023-05-09T06:26:43.823Z"
      },
      {
        "duration": 25,
        "start_time": "2023-05-09T06:29:38.686Z"
      },
      {
        "duration": 22,
        "start_time": "2023-05-09T06:29:59.326Z"
      },
      {
        "duration": 4,
        "start_time": "2023-05-09T06:31:30.127Z"
      },
      {
        "duration": 10,
        "start_time": "2023-05-09T06:32:09.094Z"
      },
      {
        "duration": 10,
        "start_time": "2023-05-09T06:33:19.257Z"
      },
      {
        "duration": 134,
        "start_time": "2023-05-09T06:33:27.847Z"
      },
      {
        "duration": 6,
        "start_time": "2023-05-09T06:34:26.754Z"
      },
      {
        "duration": 7,
        "start_time": "2023-05-09T06:34:35.107Z"
      },
      {
        "duration": 6,
        "start_time": "2023-05-09T06:34:54.497Z"
      },
      {
        "duration": 7,
        "start_time": "2023-05-09T06:35:59.476Z"
      },
      {
        "duration": 6,
        "start_time": "2023-05-09T06:36:07.161Z"
      },
      {
        "duration": 6,
        "start_time": "2023-05-09T06:36:19.506Z"
      },
      {
        "duration": 6,
        "start_time": "2023-05-09T06:36:29.887Z"
      },
      {
        "duration": 7,
        "start_time": "2023-05-09T06:38:05.727Z"
      },
      {
        "duration": 7,
        "start_time": "2023-05-09T06:38:20.286Z"
      },
      {
        "duration": 11,
        "start_time": "2023-05-09T06:39:10.296Z"
      },
      {
        "duration": 13,
        "start_time": "2023-05-09T06:39:29.566Z"
      },
      {
        "duration": 600,
        "start_time": "2023-05-09T06:41:05.148Z"
      },
      {
        "duration": 488,
        "start_time": "2023-05-09T06:41:29.599Z"
      },
      {
        "duration": 5867,
        "start_time": "2023-05-09T06:41:44.712Z"
      },
      {
        "duration": 3,
        "start_time": "2023-05-09T06:46:21.766Z"
      },
      {
        "duration": 9,
        "start_time": "2023-05-09T06:46:23.717Z"
      },
      {
        "duration": 83,
        "start_time": "2023-05-09T07:47:58.293Z"
      },
      {
        "duration": 8,
        "start_time": "2023-05-09T07:47:58.378Z"
      },
      {
        "duration": 11,
        "start_time": "2023-05-09T07:48:36.272Z"
      },
      {
        "duration": 17,
        "start_time": "2023-05-09T07:48:47.092Z"
      },
      {
        "duration": 4,
        "start_time": "2023-05-09T07:53:08.694Z"
      },
      {
        "duration": 16,
        "start_time": "2023-05-09T07:57:05.085Z"
      },
      {
        "duration": 6566,
        "start_time": "2023-05-09T07:57:20.785Z"
      },
      {
        "duration": 6296,
        "start_time": "2023-05-09T07:57:45.205Z"
      },
      {
        "duration": 7,
        "start_time": "2023-05-09T09:23:28.030Z"
      },
      {
        "duration": 7,
        "start_time": "2023-05-09T09:24:14.773Z"
      },
      {
        "duration": 5,
        "start_time": "2023-05-09T09:24:23.984Z"
      },
      {
        "duration": 3,
        "start_time": "2023-05-09T09:34:24.009Z"
      },
      {
        "duration": 830,
        "start_time": "2023-05-09T09:34:24.561Z"
      },
      {
        "duration": 27,
        "start_time": "2023-05-09T09:34:25.500Z"
      },
      {
        "duration": 4,
        "start_time": "2023-05-09T09:34:25.561Z"
      },
      {
        "duration": 24,
        "start_time": "2023-05-09T09:34:32.922Z"
      },
      {
        "duration": 12,
        "start_time": "2023-05-09T09:34:34.071Z"
      },
      {
        "duration": 118,
        "start_time": "2023-05-09T09:34:34.100Z"
      },
      {
        "duration": 30,
        "start_time": "2023-05-09T09:34:36.531Z"
      },
      {
        "duration": 1122,
        "start_time": "2023-05-12T18:24:41.691Z"
      },
      {
        "duration": 3505,
        "start_time": "2023-05-12T18:24:44.095Z"
      },
      {
        "duration": 1000,
        "start_time": "2023-05-12T18:24:59.860Z"
      },
      {
        "duration": 39,
        "start_time": "2023-05-12T18:25:00.962Z"
      },
      {
        "duration": 6,
        "start_time": "2023-05-12T18:25:15.342Z"
      },
      {
        "duration": 23,
        "start_time": "2023-05-12T18:25:15.990Z"
      },
      {
        "duration": 12,
        "start_time": "2023-05-12T18:25:16.586Z"
      },
      {
        "duration": 162,
        "start_time": "2023-05-12T18:25:17.086Z"
      },
      {
        "duration": 35,
        "start_time": "2023-05-12T18:25:18.058Z"
      },
      {
        "duration": 20,
        "start_time": "2023-05-12T18:25:18.658Z"
      },
      {
        "duration": 29,
        "start_time": "2023-05-12T18:25:19.184Z"
      },
      {
        "duration": 27,
        "start_time": "2023-05-12T18:25:19.669Z"
      },
      {
        "duration": 13,
        "start_time": "2023-05-12T18:25:20.390Z"
      },
      {
        "duration": 138,
        "start_time": "2023-05-12T18:25:20.815Z"
      },
      {
        "duration": 5,
        "start_time": "2023-05-12T18:25:21.959Z"
      },
      {
        "duration": 21,
        "start_time": "2023-05-12T18:25:55.294Z"
      },
      {
        "duration": 31,
        "start_time": "2023-05-12T18:39:15.927Z"
      },
      {
        "duration": 89,
        "start_time": "2023-05-12T18:39:54.863Z"
      },
      {
        "duration": 6,
        "start_time": "2023-05-12T18:40:08.085Z"
      },
      {
        "duration": 10,
        "start_time": "2023-05-12T18:40:56.397Z"
      },
      {
        "duration": 29,
        "start_time": "2023-05-12T18:41:15.957Z"
      },
      {
        "duration": 34,
        "start_time": "2023-05-12T18:41:28.866Z"
      },
      {
        "duration": 16,
        "start_time": "2023-05-12T18:42:27.470Z"
      },
      {
        "duration": 9,
        "start_time": "2023-05-12T18:42:40.361Z"
      },
      {
        "duration": 12,
        "start_time": "2023-05-12T18:42:46.357Z"
      },
      {
        "duration": 16,
        "start_time": "2023-05-12T18:42:58.677Z"
      },
      {
        "duration": 14,
        "start_time": "2023-05-12T18:43:48.425Z"
      },
      {
        "duration": 30,
        "start_time": "2023-05-12T18:45:21.194Z"
      },
      {
        "duration": 38,
        "start_time": "2023-05-12T18:46:17.065Z"
      },
      {
        "duration": 32,
        "start_time": "2023-05-12T18:47:01.697Z"
      },
      {
        "duration": 6,
        "start_time": "2023-05-12T18:48:03.662Z"
      },
      {
        "duration": 32,
        "start_time": "2023-05-12T18:49:49.287Z"
      },
      {
        "duration": 10,
        "start_time": "2023-05-12T18:51:55.269Z"
      },
      {
        "duration": 27,
        "start_time": "2023-05-12T18:52:05.843Z"
      },
      {
        "duration": 7,
        "start_time": "2023-05-12T18:52:47.708Z"
      },
      {
        "duration": 7,
        "start_time": "2023-05-12T18:53:29.429Z"
      },
      {
        "duration": 6,
        "start_time": "2023-05-12T18:53:42.822Z"
      },
      {
        "duration": 23,
        "start_time": "2023-05-12T18:54:02.452Z"
      },
      {
        "duration": 12,
        "start_time": "2023-05-12T18:54:29.486Z"
      },
      {
        "duration": 15,
        "start_time": "2023-05-12T18:54:36.654Z"
      },
      {
        "duration": 9,
        "start_time": "2023-05-12T18:54:42.836Z"
      },
      {
        "duration": 8,
        "start_time": "2023-05-12T18:55:32.093Z"
      },
      {
        "duration": 73,
        "start_time": "2023-05-12T20:14:12.474Z"
      },
      {
        "duration": 76,
        "start_time": "2023-05-12T20:14:22.791Z"
      },
      {
        "duration": 11,
        "start_time": "2023-05-12T20:14:40.661Z"
      },
      {
        "duration": 71,
        "start_time": "2023-05-12T20:15:08.932Z"
      },
      {
        "duration": 6,
        "start_time": "2023-05-12T20:16:11.165Z"
      },
      {
        "duration": 6,
        "start_time": "2023-05-12T20:16:28.769Z"
      },
      {
        "duration": 6,
        "start_time": "2023-05-12T20:16:48.525Z"
      },
      {
        "duration": 7,
        "start_time": "2023-05-12T20:17:08.428Z"
      },
      {
        "duration": 4,
        "start_time": "2023-05-12T20:17:12.845Z"
      },
      {
        "duration": 4,
        "start_time": "2023-05-12T20:17:14.389Z"
      },
      {
        "duration": 6,
        "start_time": "2023-05-12T20:17:15.093Z"
      },
      {
        "duration": 71,
        "start_time": "2023-05-12T20:18:21.753Z"
      },
      {
        "duration": 71,
        "start_time": "2023-05-12T20:18:36.678Z"
      },
      {
        "duration": 5,
        "start_time": "2023-05-12T20:19:48.431Z"
      },
      {
        "duration": 5,
        "start_time": "2023-05-12T20:19:59.772Z"
      },
      {
        "duration": 7,
        "start_time": "2023-05-12T20:20:32.895Z"
      },
      {
        "duration": 6,
        "start_time": "2023-05-12T20:20:47.478Z"
      },
      {
        "duration": 6,
        "start_time": "2023-05-12T20:21:08.639Z"
      },
      {
        "duration": 9,
        "start_time": "2023-05-12T20:22:34.649Z"
      },
      {
        "duration": 1434,
        "start_time": "2023-05-12T20:23:18.779Z"
      },
      {
        "duration": 91,
        "start_time": "2023-05-12T20:24:04.346Z"
      },
      {
        "duration": 105,
        "start_time": "2023-05-12T20:24:28.521Z"
      },
      {
        "duration": 95,
        "start_time": "2023-05-12T20:24:35.017Z"
      },
      {
        "duration": 1568,
        "start_time": "2023-05-12T20:24:39.240Z"
      },
      {
        "duration": 95,
        "start_time": "2023-05-12T20:24:46.409Z"
      },
      {
        "duration": 3323,
        "start_time": "2023-05-12T20:30:48.500Z"
      },
      {
        "duration": 5,
        "start_time": "2023-05-12T20:31:07.126Z"
      },
      {
        "duration": 7,
        "start_time": "2023-05-12T20:32:07.717Z"
      },
      {
        "duration": 8,
        "start_time": "2023-05-12T20:32:44.581Z"
      },
      {
        "duration": 7,
        "start_time": "2023-05-12T20:33:10.483Z"
      },
      {
        "duration": 9,
        "start_time": "2023-05-12T20:33:29.542Z"
      },
      {
        "duration": 8,
        "start_time": "2023-05-12T20:33:38.526Z"
      },
      {
        "duration": 10,
        "start_time": "2023-05-12T20:34:35.483Z"
      },
      {
        "duration": 9,
        "start_time": "2023-05-12T20:34:41.223Z"
      },
      {
        "duration": 7,
        "start_time": "2023-05-12T20:34:46.087Z"
      },
      {
        "duration": 694,
        "start_time": "2023-05-12T20:38:44.593Z"
      },
      {
        "duration": 54,
        "start_time": "2023-05-12T20:41:02.087Z"
      },
      {
        "duration": 96,
        "start_time": "2023-05-12T20:41:10.991Z"
      },
      {
        "duration": 95,
        "start_time": "2023-05-12T20:41:18.088Z"
      },
      {
        "duration": 22,
        "start_time": "2023-05-12T20:50:46.327Z"
      },
      {
        "duration": 6,
        "start_time": "2023-05-12T21:00:27.157Z"
      },
      {
        "duration": 11,
        "start_time": "2023-05-12T21:00:27.957Z"
      },
      {
        "duration": 1554,
        "start_time": "2023-05-13T06:42:42.545Z"
      },
      {
        "duration": 2384,
        "start_time": "2023-05-13T06:42:44.788Z"
      },
      {
        "duration": 28,
        "start_time": "2023-05-13T06:42:47.614Z"
      },
      {
        "duration": 5,
        "start_time": "2023-05-13T06:42:49.212Z"
      },
      {
        "duration": 22,
        "start_time": "2023-05-13T06:42:50.915Z"
      },
      {
        "duration": 10,
        "start_time": "2023-05-13T06:42:51.725Z"
      },
      {
        "duration": 132,
        "start_time": "2023-05-13T06:42:52.396Z"
      },
      {
        "duration": 27,
        "start_time": "2023-05-13T06:42:53.107Z"
      },
      {
        "duration": 7,
        "start_time": "2023-05-13T06:42:53.755Z"
      },
      {
        "duration": 14,
        "start_time": "2023-05-13T06:42:54.526Z"
      },
      {
        "duration": 24,
        "start_time": "2023-05-13T06:42:55.133Z"
      },
      {
        "duration": 20,
        "start_time": "2023-05-13T06:42:55.668Z"
      },
      {
        "duration": 12,
        "start_time": "2023-05-13T06:42:56.204Z"
      },
      {
        "duration": 26,
        "start_time": "2023-05-13T06:42:56.917Z"
      },
      {
        "duration": 7,
        "start_time": "2023-05-13T06:42:57.652Z"
      },
      {
        "duration": 9,
        "start_time": "2023-05-13T06:43:27.692Z"
      },
      {
        "duration": 106,
        "start_time": "2023-05-13T06:43:29.996Z"
      },
      {
        "duration": 4,
        "start_time": "2023-05-13T06:43:31.459Z"
      },
      {
        "duration": 12,
        "start_time": "2023-05-13T06:43:33.420Z"
      },
      {
        "duration": 8,
        "start_time": "2023-05-13T06:43:40.917Z"
      },
      {
        "duration": 10,
        "start_time": "2023-05-13T06:43:41.708Z"
      },
      {
        "duration": 129,
        "start_time": "2023-05-13T06:44:03.164Z"
      },
      {
        "duration": 113,
        "start_time": "2023-05-13T06:44:22.661Z"
      },
      {
        "duration": 124,
        "start_time": "2023-05-13T07:01:38.237Z"
      },
      {
        "duration": 4289,
        "start_time": "2023-05-13T07:02:04.902Z"
      },
      {
        "duration": 3937,
        "start_time": "2023-05-13T07:02:33.486Z"
      },
      {
        "duration": 3797,
        "start_time": "2023-05-13T07:03:07.488Z"
      },
      {
        "duration": 1513,
        "start_time": "2023-05-13T19:37:50.828Z"
      },
      {
        "duration": 3292,
        "start_time": "2023-05-13T19:37:52.343Z"
      },
      {
        "duration": 29,
        "start_time": "2023-05-13T19:37:55.637Z"
      },
      {
        "duration": 5,
        "start_time": "2023-05-13T19:37:55.667Z"
      },
      {
        "duration": 25,
        "start_time": "2023-05-13T19:37:55.674Z"
      },
      {
        "duration": 9,
        "start_time": "2023-05-13T19:37:55.701Z"
      },
      {
        "duration": 139,
        "start_time": "2023-05-13T19:37:56.082Z"
      },
      {
        "duration": 27,
        "start_time": "2023-05-13T19:37:56.866Z"
      },
      {
        "duration": 8,
        "start_time": "2023-05-13T19:37:57.353Z"
      },
      {
        "duration": 10,
        "start_time": "2023-05-13T19:37:57.953Z"
      },
      {
        "duration": 28,
        "start_time": "2023-05-13T19:37:58.482Z"
      },
      {
        "duration": 17,
        "start_time": "2023-05-13T19:37:58.977Z"
      },
      {
        "duration": 12,
        "start_time": "2023-05-13T19:37:59.721Z"
      },
      {
        "duration": 25,
        "start_time": "2023-05-13T19:38:00.256Z"
      },
      {
        "duration": 7,
        "start_time": "2023-05-13T19:38:02.834Z"
      },
      {
        "duration": 6,
        "start_time": "2023-05-13T19:38:03.418Z"
      },
      {
        "duration": 133,
        "start_time": "2023-05-13T19:38:03.977Z"
      },
      {
        "duration": 4,
        "start_time": "2023-05-13T19:38:04.609Z"
      },
      {
        "duration": 11,
        "start_time": "2023-05-13T19:38:07.409Z"
      },
      {
        "duration": 7,
        "start_time": "2023-05-13T19:38:10.601Z"
      },
      {
        "duration": 14,
        "start_time": "2023-05-13T19:38:11.232Z"
      },
      {
        "duration": 113,
        "start_time": "2023-05-13T19:38:12.729Z"
      },
      {
        "duration": 100,
        "start_time": "2023-05-13T19:38:15.290Z"
      },
      {
        "duration": 112,
        "start_time": "2023-05-13T20:08:40.920Z"
      },
      {
        "duration": 22,
        "start_time": "2023-05-13T20:11:05.354Z"
      },
      {
        "duration": 3,
        "start_time": "2023-05-13T20:11:28.449Z"
      },
      {
        "duration": 761,
        "start_time": "2023-05-13T20:11:28.776Z"
      },
      {
        "duration": 33,
        "start_time": "2023-05-13T20:11:29.539Z"
      },
      {
        "duration": 5,
        "start_time": "2023-05-13T20:11:30.082Z"
      },
      {
        "duration": 18,
        "start_time": "2023-05-13T20:11:30.482Z"
      },
      {
        "duration": 9,
        "start_time": "2023-05-13T20:11:30.978Z"
      },
      {
        "duration": 136,
        "start_time": "2023-05-13T20:11:31.410Z"
      },
      {
        "duration": 37,
        "start_time": "2023-05-13T20:11:31.843Z"
      },
      {
        "duration": 9,
        "start_time": "2023-05-13T20:11:32.267Z"
      },
      {
        "duration": 12,
        "start_time": "2023-05-13T20:11:32.824Z"
      },
      {
        "duration": 29,
        "start_time": "2023-05-13T20:11:33.345Z"
      },
      {
        "duration": 22,
        "start_time": "2023-05-13T20:11:33.825Z"
      },
      {
        "duration": 11,
        "start_time": "2023-05-13T20:11:34.278Z"
      },
      {
        "duration": 24,
        "start_time": "2023-05-13T20:11:34.997Z"
      },
      {
        "duration": 8,
        "start_time": "2023-05-13T20:11:35.766Z"
      },
      {
        "duration": 6,
        "start_time": "2023-05-13T20:11:36.447Z"
      },
      {
        "duration": 95,
        "start_time": "2023-05-13T20:11:37.039Z"
      },
      {
        "duration": 3,
        "start_time": "2023-05-13T20:11:37.544Z"
      },
      {
        "duration": 6,
        "start_time": "2023-05-13T20:11:38.697Z"
      },
      {
        "duration": 5,
        "start_time": "2023-05-13T20:11:40.225Z"
      },
      {
        "duration": 7,
        "start_time": "2023-05-13T20:11:40.905Z"
      },
      {
        "duration": 95,
        "start_time": "2023-05-13T20:11:42.172Z"
      },
      {
        "duration": 109,
        "start_time": "2023-05-13T20:11:43.322Z"
      },
      {
        "duration": 11,
        "start_time": "2023-05-13T20:11:46.444Z"
      },
      {
        "duration": 12,
        "start_time": "2023-05-13T20:13:03.426Z"
      },
      {
        "duration": 13,
        "start_time": "2023-05-13T20:13:43.744Z"
      },
      {
        "duration": 11,
        "start_time": "2023-05-13T20:13:51.484Z"
      },
      {
        "duration": 603,
        "start_time": "2023-05-13T20:13:57.812Z"
      },
      {
        "duration": 9,
        "start_time": "2023-05-13T20:15:39.276Z"
      },
      {
        "duration": 16,
        "start_time": "2023-05-13T20:16:03.175Z"
      },
      {
        "duration": 25,
        "start_time": "2023-05-13T20:16:16.079Z"
      },
      {
        "duration": 17,
        "start_time": "2023-05-13T20:18:26.611Z"
      },
      {
        "duration": 26,
        "start_time": "2023-05-13T20:21:14.042Z"
      },
      {
        "duration": 27,
        "start_time": "2023-05-13T20:21:20.655Z"
      },
      {
        "duration": 27,
        "start_time": "2023-05-13T20:21:41.112Z"
      },
      {
        "duration": 22,
        "start_time": "2023-05-13T20:23:14.689Z"
      },
      {
        "duration": 91,
        "start_time": "2023-05-13T20:23:33.018Z"
      },
      {
        "duration": 25,
        "start_time": "2023-05-13T20:23:43.449Z"
      },
      {
        "duration": 29,
        "start_time": "2023-05-13T20:24:06.656Z"
      },
      {
        "duration": 20,
        "start_time": "2023-05-13T20:24:12.264Z"
      },
      {
        "duration": 20,
        "start_time": "2023-05-13T20:24:30.297Z"
      },
      {
        "duration": 19,
        "start_time": "2023-05-13T20:24:31.201Z"
      },
      {
        "duration": 17,
        "start_time": "2023-05-13T20:24:57.905Z"
      },
      {
        "duration": 19,
        "start_time": "2023-05-13T20:25:12.178Z"
      },
      {
        "duration": 8,
        "start_time": "2023-05-13T20:28:37.348Z"
      },
      {
        "duration": 10,
        "start_time": "2023-05-13T20:29:23.036Z"
      },
      {
        "duration": 6,
        "start_time": "2023-05-13T20:30:11.435Z"
      },
      {
        "duration": 5,
        "start_time": "2023-05-13T20:30:16.107Z"
      },
      {
        "duration": 112,
        "start_time": "2023-05-13T20:30:40.756Z"
      },
      {
        "duration": 20,
        "start_time": "2023-05-13T20:30:58.474Z"
      },
      {
        "duration": 24,
        "start_time": "2023-05-13T20:31:08.310Z"
      },
      {
        "duration": 10,
        "start_time": "2023-05-13T20:31:16.044Z"
      },
      {
        "duration": 110,
        "start_time": "2023-05-13T20:31:26.380Z"
      },
      {
        "duration": 112,
        "start_time": "2023-05-13T20:32:11.182Z"
      },
      {
        "duration": 10,
        "start_time": "2023-05-13T20:32:40.998Z"
      },
      {
        "duration": 77,
        "start_time": "2023-05-13T20:33:02.175Z"
      },
      {
        "duration": 72,
        "start_time": "2023-05-13T20:33:20.677Z"
      },
      {
        "duration": 88,
        "start_time": "2023-05-13T20:33:36.613Z"
      },
      {
        "duration": 128,
        "start_time": "2023-05-13T20:33:43.206Z"
      },
      {
        "duration": 10,
        "start_time": "2023-05-13T20:34:17.142Z"
      },
      {
        "duration": 117,
        "start_time": "2023-05-13T20:35:19.182Z"
      },
      {
        "duration": 98,
        "start_time": "2023-05-13T20:35:32.773Z"
      },
      {
        "duration": 9,
        "start_time": "2023-05-13T20:37:13.496Z"
      },
      {
        "duration": 9,
        "start_time": "2023-05-13T20:37:39.687Z"
      },
      {
        "duration": 2,
        "start_time": "2023-05-13T20:37:46.544Z"
      },
      {
        "duration": 9,
        "start_time": "2023-05-13T20:37:55.008Z"
      },
      {
        "duration": 10,
        "start_time": "2023-05-13T20:38:04.401Z"
      },
      {
        "duration": 108,
        "start_time": "2023-05-13T20:38:27.184Z"
      },
      {
        "duration": 10,
        "start_time": "2023-05-13T20:39:46.106Z"
      },
      {
        "duration": 12,
        "start_time": "2023-05-13T20:40:33.314Z"
      },
      {
        "duration": 95,
        "start_time": "2023-05-13T20:51:03.567Z"
      },
      {
        "duration": 10,
        "start_time": "2023-05-13T20:51:12.551Z"
      },
      {
        "duration": 5,
        "start_time": "2023-05-13T20:51:58.176Z"
      },
      {
        "duration": 142,
        "start_time": "2023-05-13T20:52:26.018Z"
      },
      {
        "duration": 84,
        "start_time": "2023-05-13T20:52:41.944Z"
      },
      {
        "duration": 10,
        "start_time": "2023-05-13T20:52:51.881Z"
      },
      {
        "duration": 10,
        "start_time": "2023-05-13T20:53:10.705Z"
      },
      {
        "duration": 4,
        "start_time": "2023-05-13T20:53:22.449Z"
      },
      {
        "duration": 4,
        "start_time": "2023-05-13T20:53:34.409Z"
      },
      {
        "duration": 8,
        "start_time": "2023-05-13T20:53:39.592Z"
      },
      {
        "duration": 5,
        "start_time": "2023-05-13T20:53:45.449Z"
      },
      {
        "duration": 4,
        "start_time": "2023-05-13T20:53:56.792Z"
      },
      {
        "duration": 8,
        "start_time": "2023-05-13T20:54:11.211Z"
      },
      {
        "duration": 10,
        "start_time": "2023-05-13T20:54:23.352Z"
      },
      {
        "duration": 8,
        "start_time": "2023-05-13T20:54:27.969Z"
      },
      {
        "duration": 9,
        "start_time": "2023-05-13T20:55:42.733Z"
      },
      {
        "duration": 9,
        "start_time": "2023-05-13T20:55:50.134Z"
      },
      {
        "duration": 6,
        "start_time": "2023-05-13T21:00:28.021Z"
      },
      {
        "duration": 5,
        "start_time": "2023-05-13T21:00:56.060Z"
      },
      {
        "duration": 7,
        "start_time": "2023-05-13T21:01:21.805Z"
      },
      {
        "duration": 4,
        "start_time": "2023-05-13T21:01:27.782Z"
      },
      {
        "duration": 23,
        "start_time": "2023-05-13T21:02:32.614Z"
      },
      {
        "duration": 4,
        "start_time": "2023-05-13T21:03:10.390Z"
      },
      {
        "duration": 22,
        "start_time": "2023-05-13T21:03:11.749Z"
      },
      {
        "duration": 26,
        "start_time": "2023-05-13T21:04:35.136Z"
      },
      {
        "duration": 22,
        "start_time": "2023-05-13T21:04:38.807Z"
      },
      {
        "duration": 2,
        "start_time": "2023-05-13T21:05:23.601Z"
      },
      {
        "duration": 685,
        "start_time": "2023-05-13T21:05:24.055Z"
      },
      {
        "duration": 21,
        "start_time": "2023-05-13T21:05:24.752Z"
      },
      {
        "duration": 4,
        "start_time": "2023-05-13T21:05:25.504Z"
      },
      {
        "duration": 15,
        "start_time": "2023-05-13T21:05:25.944Z"
      },
      {
        "duration": 9,
        "start_time": "2023-05-13T21:05:26.560Z"
      },
      {
        "duration": 116,
        "start_time": "2023-05-13T21:05:27.070Z"
      },
      {
        "duration": 21,
        "start_time": "2023-05-13T21:05:27.579Z"
      },
      {
        "duration": 5,
        "start_time": "2023-05-13T21:05:28.112Z"
      },
      {
        "duration": 12,
        "start_time": "2023-05-13T21:05:28.807Z"
      },
      {
        "duration": 23,
        "start_time": "2023-05-13T21:05:29.497Z"
      },
      {
        "duration": 16,
        "start_time": "2023-05-13T21:05:30.272Z"
      },
      {
        "duration": 13,
        "start_time": "2023-05-13T21:05:30.910Z"
      },
      {
        "duration": 29,
        "start_time": "2023-05-13T21:05:31.392Z"
      },
      {
        "duration": 7,
        "start_time": "2023-05-13T21:05:31.967Z"
      },
      {
        "duration": 7,
        "start_time": "2023-05-13T21:05:34.279Z"
      },
      {
        "duration": 90,
        "start_time": "2023-05-13T21:05:35.008Z"
      },
      {
        "duration": 3,
        "start_time": "2023-05-13T21:05:36.720Z"
      },
      {
        "duration": 10,
        "start_time": "2023-05-13T21:05:38.560Z"
      },
      {
        "duration": 5,
        "start_time": "2023-05-13T21:05:48.608Z"
      },
      {
        "duration": 9,
        "start_time": "2023-05-13T21:05:49.248Z"
      },
      {
        "duration": 100,
        "start_time": "2023-05-13T21:05:50.776Z"
      },
      {
        "duration": 102,
        "start_time": "2023-05-13T21:05:52.160Z"
      },
      {
        "duration": 14,
        "start_time": "2023-05-13T21:05:56.608Z"
      },
      {
        "duration": 27,
        "start_time": "2023-05-13T21:06:01.593Z"
      },
      {
        "duration": 3,
        "start_time": "2023-05-13T21:06:51.704Z"
      },
      {
        "duration": 674,
        "start_time": "2023-05-13T21:06:52.054Z"
      },
      {
        "duration": 29,
        "start_time": "2023-05-13T21:06:52.730Z"
      },
      {
        "duration": 5,
        "start_time": "2023-05-13T21:06:52.825Z"
      },
      {
        "duration": 15,
        "start_time": "2023-05-13T21:06:53.096Z"
      },
      {
        "duration": 9,
        "start_time": "2023-05-13T21:06:53.384Z"
      },
      {
        "duration": 127,
        "start_time": "2023-05-13T21:06:53.654Z"
      },
      {
        "duration": 30,
        "start_time": "2023-05-13T21:06:54.026Z"
      },
      {
        "duration": 6,
        "start_time": "2023-05-13T21:06:54.407Z"
      },
      {
        "duration": 10,
        "start_time": "2023-05-13T21:06:54.857Z"
      },
      {
        "duration": 21,
        "start_time": "2023-05-13T21:06:55.265Z"
      },
      {
        "duration": 21,
        "start_time": "2023-05-13T21:06:55.642Z"
      },
      {
        "duration": 12,
        "start_time": "2023-05-13T21:06:56.184Z"
      },
      {
        "duration": 32,
        "start_time": "2023-05-13T21:06:56.513Z"
      },
      {
        "duration": 6,
        "start_time": "2023-05-13T21:06:56.800Z"
      },
      {
        "duration": 7,
        "start_time": "2023-05-13T21:06:57.376Z"
      },
      {
        "duration": 92,
        "start_time": "2023-05-13T21:06:57.784Z"
      },
      {
        "duration": 3,
        "start_time": "2023-05-13T21:06:58.203Z"
      },
      {
        "duration": 9,
        "start_time": "2023-05-13T21:06:59.112Z"
      },
      {
        "duration": 5,
        "start_time": "2023-05-13T21:07:00.592Z"
      },
      {
        "duration": 9,
        "start_time": "2023-05-13T21:07:01.056Z"
      },
      {
        "duration": 99,
        "start_time": "2023-05-13T21:07:02.112Z"
      },
      {
        "duration": 104,
        "start_time": "2023-05-13T21:07:03.131Z"
      },
      {
        "duration": 12,
        "start_time": "2023-05-13T21:07:05.312Z"
      },
      {
        "duration": 21,
        "start_time": "2023-05-13T21:07:22.288Z"
      },
      {
        "duration": 13,
        "start_time": "2023-05-13T21:12:25.204Z"
      },
      {
        "duration": 4,
        "start_time": "2023-05-13T21:15:27.509Z"
      },
      {
        "duration": 3,
        "start_time": "2023-05-13T21:15:50.973Z"
      },
      {
        "duration": 4,
        "start_time": "2023-05-13T21:16:57.866Z"
      },
      {
        "duration": 18,
        "start_time": "2023-05-13T21:17:13.053Z"
      },
      {
        "duration": 10,
        "start_time": "2023-05-13T21:17:28.702Z"
      },
      {
        "duration": 4,
        "start_time": "2023-05-13T21:17:41.391Z"
      },
      {
        "duration": 4,
        "start_time": "2023-05-13T21:18:10.695Z"
      },
      {
        "duration": 10,
        "start_time": "2023-05-13T21:18:12.470Z"
      },
      {
        "duration": 6,
        "start_time": "2023-05-13T21:19:11.400Z"
      },
      {
        "duration": 11,
        "start_time": "2023-05-13T21:19:13.389Z"
      },
      {
        "duration": 6,
        "start_time": "2023-05-13T21:19:38.553Z"
      },
      {
        "duration": 10,
        "start_time": "2023-05-13T21:19:39.215Z"
      },
      {
        "duration": 6,
        "start_time": "2023-05-13T21:21:08.120Z"
      },
      {
        "duration": 10,
        "start_time": "2023-05-13T21:21:09.255Z"
      },
      {
        "duration": 9,
        "start_time": "2023-05-13T21:21:21.144Z"
      },
      {
        "duration": 1407,
        "start_time": "2023-05-14T06:30:22.880Z"
      },
      {
        "duration": 2795,
        "start_time": "2023-05-14T06:30:24.289Z"
      },
      {
        "duration": 25,
        "start_time": "2023-05-14T06:30:27.086Z"
      },
      {
        "duration": 5,
        "start_time": "2023-05-14T06:30:27.112Z"
      },
      {
        "duration": 19,
        "start_time": "2023-05-14T06:30:27.119Z"
      },
      {
        "duration": 9,
        "start_time": "2023-05-14T06:30:27.139Z"
      },
      {
        "duration": 137,
        "start_time": "2023-05-14T06:30:27.501Z"
      },
      {
        "duration": 31,
        "start_time": "2023-05-14T06:30:28.302Z"
      },
      {
        "duration": 6,
        "start_time": "2023-05-14T06:30:31.053Z"
      },
      {
        "duration": 16,
        "start_time": "2023-05-14T06:30:31.797Z"
      },
      {
        "duration": 21,
        "start_time": "2023-05-14T06:30:32.592Z"
      },
      {
        "duration": 18,
        "start_time": "2023-05-14T06:30:33.253Z"
      },
      {
        "duration": 9,
        "start_time": "2023-05-14T06:30:34.021Z"
      },
      {
        "duration": 33,
        "start_time": "2023-05-14T06:30:36.052Z"
      },
      {
        "duration": 7,
        "start_time": "2023-05-14T06:30:37.893Z"
      },
      {
        "duration": 8,
        "start_time": "2023-05-14T06:30:38.550Z"
      },
      {
        "duration": 134,
        "start_time": "2023-05-14T06:30:39.301Z"
      },
      {
        "duration": 4,
        "start_time": "2023-05-14T06:30:39.877Z"
      },
      {
        "duration": 11,
        "start_time": "2023-05-14T06:30:41.261Z"
      },
      {
        "duration": 6,
        "start_time": "2023-05-14T06:30:44.133Z"
      },
      {
        "duration": 12,
        "start_time": "2023-05-14T06:30:45.037Z"
      },
      {
        "duration": 107,
        "start_time": "2023-05-14T06:30:46.478Z"
      },
      {
        "duration": 98,
        "start_time": "2023-05-14T06:30:50.462Z"
      },
      {
        "duration": 14,
        "start_time": "2023-05-14T06:30:54.564Z"
      },
      {
        "duration": 22,
        "start_time": "2023-05-14T06:30:59.065Z"
      },
      {
        "duration": 6,
        "start_time": "2023-05-14T06:31:13.525Z"
      },
      {
        "duration": 10,
        "start_time": "2023-05-14T06:31:23.598Z"
      },
      {
        "duration": 103,
        "start_time": "2023-05-14T06:34:27.168Z"
      },
      {
        "duration": 9,
        "start_time": "2023-05-14T06:34:36.014Z"
      },
      {
        "duration": 19,
        "start_time": "2023-05-14T06:35:19.520Z"
      },
      {
        "duration": 5,
        "start_time": "2023-05-14T06:36:15.640Z"
      },
      {
        "duration": 28,
        "start_time": "2023-05-14T06:36:54.226Z"
      },
      {
        "duration": 24,
        "start_time": "2023-05-14T06:38:21.947Z"
      },
      {
        "duration": 6,
        "start_time": "2023-05-14T06:38:51.722Z"
      },
      {
        "duration": 105,
        "start_time": "2023-05-14T06:39:19.956Z"
      },
      {
        "duration": 6,
        "start_time": "2023-05-14T06:39:53.795Z"
      },
      {
        "duration": 12,
        "start_time": "2023-05-14T06:40:24.971Z"
      },
      {
        "duration": 5,
        "start_time": "2023-05-14T06:40:29.834Z"
      },
      {
        "duration": 13,
        "start_time": "2023-05-14T06:41:47.283Z"
      },
      {
        "duration": 22,
        "start_time": "2023-05-14T06:42:21.211Z"
      },
      {
        "duration": 10,
        "start_time": "2023-05-14T06:47:14.500Z"
      },
      {
        "duration": 8,
        "start_time": "2023-05-14T06:47:29.472Z"
      },
      {
        "duration": 204,
        "start_time": "2023-05-14T06:49:22.559Z"
      },
      {
        "duration": 289,
        "start_time": "2023-05-14T06:53:20.798Z"
      },
      {
        "duration": 63,
        "start_time": "2023-05-14T06:53:32.327Z"
      },
      {
        "duration": 220,
        "start_time": "2023-05-14T06:53:37.086Z"
      },
      {
        "duration": 279,
        "start_time": "2023-05-14T06:53:43.191Z"
      },
      {
        "duration": 216,
        "start_time": "2023-05-14T06:54:12.133Z"
      },
      {
        "duration": 274,
        "start_time": "2023-05-14T06:54:59.335Z"
      },
      {
        "duration": 394,
        "start_time": "2023-05-14T06:56:39.785Z"
      },
      {
        "duration": 260,
        "start_time": "2023-05-14T06:57:00.254Z"
      },
      {
        "duration": 347,
        "start_time": "2023-05-14T06:57:08.564Z"
      },
      {
        "duration": 733,
        "start_time": "2023-05-14T07:00:04.120Z"
      },
      {
        "duration": 12,
        "start_time": "2023-05-14T07:02:17.155Z"
      },
      {
        "duration": 3282,
        "start_time": "2023-05-14T07:03:01.054Z"
      },
      {
        "duration": 3075,
        "start_time": "2023-05-14T07:03:08.190Z"
      },
      {
        "duration": 135,
        "start_time": "2023-05-14T07:05:49.821Z"
      },
      {
        "duration": 167,
        "start_time": "2023-05-14T07:06:00.451Z"
      },
      {
        "duration": 155,
        "start_time": "2023-05-14T07:06:39.451Z"
      },
      {
        "duration": 193,
        "start_time": "2023-05-14T07:07:27.373Z"
      },
      {
        "duration": 9,
        "start_time": "2023-05-14T07:09:01.813Z"
      },
      {
        "duration": 22,
        "start_time": "2023-05-14T07:11:53.767Z"
      },
      {
        "duration": 30,
        "start_time": "2023-05-14T07:12:04.258Z"
      },
      {
        "duration": 23,
        "start_time": "2023-05-14T07:12:16.650Z"
      },
      {
        "duration": 47,
        "start_time": "2023-05-14T07:28:01.990Z"
      },
      {
        "duration": 14,
        "start_time": "2023-05-14T07:28:08.188Z"
      },
      {
        "duration": 195,
        "start_time": "2023-05-14T07:28:54.733Z"
      },
      {
        "duration": 132,
        "start_time": "2023-05-14T07:29:13.846Z"
      },
      {
        "duration": 56,
        "start_time": "2023-05-14T07:29:28.231Z"
      },
      {
        "duration": 184,
        "start_time": "2023-05-14T07:29:35.278Z"
      },
      {
        "duration": 13,
        "start_time": "2023-05-14T07:30:17.601Z"
      },
      {
        "duration": 205,
        "start_time": "2023-05-14T07:31:59.975Z"
      },
      {
        "duration": 237,
        "start_time": "2023-05-14T07:33:29.256Z"
      },
      {
        "duration": 396,
        "start_time": "2023-05-14T07:33:40.877Z"
      },
      {
        "duration": 236,
        "start_time": "2023-05-14T07:34:35.665Z"
      },
      {
        "duration": 226,
        "start_time": "2023-05-14T07:35:40.009Z"
      },
      {
        "duration": 220,
        "start_time": "2023-05-14T07:37:13.210Z"
      },
      {
        "duration": 227,
        "start_time": "2023-05-14T07:37:24.914Z"
      },
      {
        "duration": 200,
        "start_time": "2023-05-14T08:18:29.446Z"
      },
      {
        "duration": 10,
        "start_time": "2023-05-14T08:33:23.525Z"
      },
      {
        "duration": 26,
        "start_time": "2023-05-14T08:33:30.415Z"
      },
      {
        "duration": 19,
        "start_time": "2023-05-14T08:34:27.810Z"
      },
      {
        "duration": 309,
        "start_time": "2023-05-14T08:40:11.305Z"
      },
      {
        "duration": 20,
        "start_time": "2023-05-14T08:50:39.515Z"
      },
      {
        "duration": 7,
        "start_time": "2023-05-14T08:51:41.024Z"
      },
      {
        "duration": 8,
        "start_time": "2023-05-14T08:52:40.061Z"
      },
      {
        "duration": 3,
        "start_time": "2023-05-14T08:52:47.832Z"
      },
      {
        "duration": 10,
        "start_time": "2023-05-14T08:52:58.763Z"
      },
      {
        "duration": 3,
        "start_time": "2023-05-14T08:53:34.819Z"
      },
      {
        "duration": 9,
        "start_time": "2023-05-14T08:56:21.661Z"
      },
      {
        "duration": 13,
        "start_time": "2023-05-14T08:57:49.970Z"
      },
      {
        "duration": 8,
        "start_time": "2023-05-14T08:58:45.028Z"
      },
      {
        "duration": 7,
        "start_time": "2023-05-14T08:58:59.665Z"
      },
      {
        "duration": 322,
        "start_time": "2023-05-14T08:59:37.396Z"
      },
      {
        "duration": 6,
        "start_time": "2023-05-14T08:59:57.483Z"
      },
      {
        "duration": 3,
        "start_time": "2023-05-14T09:00:29.411Z"
      },
      {
        "duration": 3,
        "start_time": "2023-05-14T09:01:42.378Z"
      },
      {
        "duration": 18,
        "start_time": "2023-05-14T09:01:48.742Z"
      },
      {
        "duration": 10,
        "start_time": "2023-05-14T09:03:23.561Z"
      },
      {
        "duration": 7,
        "start_time": "2023-05-14T09:03:44.624Z"
      },
      {
        "duration": 102,
        "start_time": "2023-05-14T09:07:43.763Z"
      },
      {
        "duration": 9,
        "start_time": "2023-05-14T09:07:58.860Z"
      },
      {
        "duration": 49,
        "start_time": "2023-05-14T09:11:37.810Z"
      },
      {
        "duration": 64,
        "start_time": "2023-05-14T09:13:00.990Z"
      },
      {
        "duration": 13,
        "start_time": "2023-05-14T09:13:15.360Z"
      },
      {
        "duration": 61,
        "start_time": "2023-05-14T09:14:58.257Z"
      },
      {
        "duration": 66,
        "start_time": "2023-05-14T09:15:37.162Z"
      },
      {
        "duration": 67,
        "start_time": "2023-05-14T09:15:52.094Z"
      },
      {
        "duration": 10,
        "start_time": "2023-05-14T09:16:10.509Z"
      },
      {
        "duration": 11,
        "start_time": "2023-05-14T09:16:43.090Z"
      },
      {
        "duration": 6,
        "start_time": "2023-05-14T09:16:49.566Z"
      },
      {
        "duration": 15,
        "start_time": "2023-05-14T09:16:59.027Z"
      },
      {
        "duration": 11,
        "start_time": "2023-05-14T09:17:33.685Z"
      },
      {
        "duration": 17,
        "start_time": "2023-05-14T09:17:34.355Z"
      },
      {
        "duration": 7,
        "start_time": "2023-05-14T09:17:39.398Z"
      },
      {
        "duration": 4,
        "start_time": "2023-05-14T09:17:40.313Z"
      },
      {
        "duration": 21,
        "start_time": "2023-05-14T09:17:43.758Z"
      },
      {
        "duration": 13,
        "start_time": "2023-05-14T09:18:15.202Z"
      },
      {
        "duration": 17,
        "start_time": "2023-05-14T09:18:27.708Z"
      },
      {
        "duration": 11,
        "start_time": "2023-05-14T09:19:04.176Z"
      },
      {
        "duration": 16,
        "start_time": "2023-05-14T09:19:05.164Z"
      },
      {
        "duration": 8,
        "start_time": "2023-05-14T09:20:59.699Z"
      },
      {
        "duration": 22,
        "start_time": "2023-05-14T09:21:08.203Z"
      },
      {
        "duration": 7,
        "start_time": "2023-05-14T09:23:17.599Z"
      },
      {
        "duration": 16,
        "start_time": "2023-05-14T09:23:18.591Z"
      },
      {
        "duration": 10,
        "start_time": "2023-05-14T09:23:45.887Z"
      },
      {
        "duration": 3,
        "start_time": "2023-05-14T09:23:57.995Z"
      },
      {
        "duration": 696,
        "start_time": "2023-05-14T09:23:58.428Z"
      },
      {
        "duration": 56,
        "start_time": "2023-05-14T09:23:59.940Z"
      },
      {
        "duration": 5,
        "start_time": "2023-05-14T09:24:00.426Z"
      },
      {
        "duration": 17,
        "start_time": "2023-05-14T09:24:01.091Z"
      },
      {
        "duration": 9,
        "start_time": "2023-05-14T09:24:01.531Z"
      },
      {
        "duration": 115,
        "start_time": "2023-05-14T09:24:01.906Z"
      },
      {
        "duration": 38,
        "start_time": "2023-05-14T09:24:02.291Z"
      },
      {
        "duration": 6,
        "start_time": "2023-05-14T09:24:02.659Z"
      },
      {
        "duration": 13,
        "start_time": "2023-05-14T09:24:03.204Z"
      },
      {
        "duration": 83,
        "start_time": "2023-05-14T09:24:03.550Z"
      },
      {
        "duration": 23,
        "start_time": "2023-05-14T09:24:03.887Z"
      },
      {
        "duration": 11,
        "start_time": "2023-05-14T09:24:04.194Z"
      },
      {
        "duration": 73,
        "start_time": "2023-05-14T09:24:04.734Z"
      },
      {
        "duration": 7,
        "start_time": "2023-05-14T09:24:05.695Z"
      },
      {
        "duration": 6,
        "start_time": "2023-05-14T09:24:06.322Z"
      },
      {
        "duration": 79,
        "start_time": "2023-05-14T09:24:07.276Z"
      },
      {
        "duration": 3,
        "start_time": "2023-05-14T09:24:07.819Z"
      },
      {
        "duration": 10,
        "start_time": "2023-05-14T09:24:09.045Z"
      },
      {
        "duration": 235,
        "start_time": "2023-05-14T09:24:09.572Z"
      },
      {
        "duration": 5,
        "start_time": "2023-05-14T09:24:12.555Z"
      },
      {
        "duration": 6,
        "start_time": "2023-05-14T09:24:13.139Z"
      },
      {
        "duration": 104,
        "start_time": "2023-05-14T09:24:14.584Z"
      },
      {
        "duration": 99,
        "start_time": "2023-05-14T09:24:15.715Z"
      },
      {
        "duration": 13,
        "start_time": "2023-05-14T09:24:18.555Z"
      },
      {
        "duration": 55,
        "start_time": "2023-05-14T09:24:19.091Z"
      },
      {
        "duration": 18,
        "start_time": "2023-05-14T09:24:20.285Z"
      },
      {
        "duration": 9,
        "start_time": "2023-05-14T09:24:20.955Z"
      },
      {
        "duration": 302,
        "start_time": "2023-05-14T09:24:21.604Z"
      },
      {
        "duration": 246,
        "start_time": "2023-05-14T09:24:25.799Z"
      },
      {
        "duration": 207,
        "start_time": "2023-05-14T09:24:27.156Z"
      },
      {
        "duration": 21,
        "start_time": "2023-05-14T09:24:28.247Z"
      },
      {
        "duration": 7,
        "start_time": "2023-05-14T09:24:31.283Z"
      },
      {
        "duration": 18,
        "start_time": "2023-05-14T09:24:31.792Z"
      },
      {
        "duration": 3,
        "start_time": "2023-05-14T09:24:51.331Z"
      },
      {
        "duration": 678,
        "start_time": "2023-05-14T09:24:51.756Z"
      },
      {
        "duration": 65,
        "start_time": "2023-05-14T09:24:52.436Z"
      },
      {
        "duration": 5,
        "start_time": "2023-05-14T09:24:52.738Z"
      },
      {
        "duration": 17,
        "start_time": "2023-05-14T09:24:53.011Z"
      },
      {
        "duration": 9,
        "start_time": "2023-05-14T09:24:53.286Z"
      },
      {
        "duration": 118,
        "start_time": "2023-05-14T09:24:53.555Z"
      },
      {
        "duration": 37,
        "start_time": "2023-05-14T09:24:53.816Z"
      },
      {
        "duration": 6,
        "start_time": "2023-05-14T09:24:54.323Z"
      },
      {
        "duration": 10,
        "start_time": "2023-05-14T09:24:54.843Z"
      },
      {
        "duration": 55,
        "start_time": "2023-05-14T09:24:55.120Z"
      },
      {
        "duration": 18,
        "start_time": "2023-05-14T09:24:55.391Z"
      },
      {
        "duration": 11,
        "start_time": "2023-05-14T09:24:56.107Z"
      },
      {
        "duration": 54,
        "start_time": "2023-05-14T09:24:56.511Z"
      },
      {
        "duration": 6,
        "start_time": "2023-05-14T09:24:56.980Z"
      },
      {
        "duration": 6,
        "start_time": "2023-05-14T09:24:57.531Z"
      },
      {
        "duration": 82,
        "start_time": "2023-05-14T09:24:58.052Z"
      },
      {
        "duration": 3,
        "start_time": "2023-05-14T09:24:58.550Z"
      },
      {
        "duration": 9,
        "start_time": "2023-05-14T09:24:59.491Z"
      },
      {
        "duration": 243,
        "start_time": "2023-05-14T09:24:59.987Z"
      },
      {
        "duration": 5,
        "start_time": "2023-05-14T09:25:00.994Z"
      },
      {
        "duration": 9,
        "start_time": "2023-05-14T09:25:01.193Z"
      },
      {
        "duration": 94,
        "start_time": "2023-05-14T09:25:01.600Z"
      },
      {
        "duration": 101,
        "start_time": "2023-05-14T09:25:02.044Z"
      },
      {
        "duration": 12,
        "start_time": "2023-05-14T09:25:03.021Z"
      },
      {
        "duration": 47,
        "start_time": "2023-05-14T09:25:03.281Z"
      },
      {
        "duration": 16,
        "start_time": "2023-05-14T09:25:03.540Z"
      },
      {
        "duration": 11,
        "start_time": "2023-05-14T09:25:04.117Z"
      },
      {
        "duration": 375,
        "start_time": "2023-05-14T09:25:05.244Z"
      },
      {
        "duration": 258,
        "start_time": "2023-05-14T09:25:05.995Z"
      },
      {
        "duration": 197,
        "start_time": "2023-05-14T09:25:06.652Z"
      },
      {
        "duration": 20,
        "start_time": "2023-05-14T09:25:09.156Z"
      },
      {
        "duration": 15,
        "start_time": "2023-05-14T09:25:23.757Z"
      },
      {
        "duration": 7,
        "start_time": "2023-05-14T09:30:12.999Z"
      },
      {
        "duration": 18,
        "start_time": "2023-05-14T09:30:13.550Z"
      },
      {
        "duration": 6,
        "start_time": "2023-05-14T09:30:31.006Z"
      },
      {
        "duration": 5,
        "start_time": "2023-05-14T09:30:31.847Z"
      },
      {
        "duration": 11,
        "start_time": "2023-05-14T09:30:33.392Z"
      },
      {
        "duration": 17,
        "start_time": "2023-05-14T09:30:34.304Z"
      },
      {
        "duration": 3,
        "start_time": "2023-05-14T09:47:15.853Z"
      },
      {
        "duration": 2,
        "start_time": "2023-05-14T09:47:16.552Z"
      },
      {
        "duration": 3,
        "start_time": "2023-05-14T09:47:17.607Z"
      },
      {
        "duration": 11,
        "start_time": "2023-05-14T09:48:39.215Z"
      },
      {
        "duration": 3,
        "start_time": "2023-05-14T09:49:16.461Z"
      },
      {
        "duration": 10,
        "start_time": "2023-05-14T09:49:19.597Z"
      },
      {
        "duration": 3,
        "start_time": "2023-05-14T09:52:04.062Z"
      },
      {
        "duration": 4,
        "start_time": "2023-05-14T09:53:04.600Z"
      },
      {
        "duration": 3,
        "start_time": "2023-05-14T09:53:05.046Z"
      },
      {
        "duration": 63,
        "start_time": "2023-05-14T09:53:05.484Z"
      },
      {
        "duration": 11,
        "start_time": "2023-05-14T09:53:25.699Z"
      },
      {
        "duration": 11,
        "start_time": "2023-05-14T09:53:46.456Z"
      },
      {
        "duration": 8,
        "start_time": "2023-05-14T09:54:07.572Z"
      },
      {
        "duration": 3,
        "start_time": "2023-05-14T09:54:31.857Z"
      },
      {
        "duration": 9,
        "start_time": "2023-05-14T09:54:33.609Z"
      },
      {
        "duration": 13,
        "start_time": "2023-05-14T09:54:44.207Z"
      },
      {
        "duration": 49,
        "start_time": "2023-05-14T09:55:33.006Z"
      },
      {
        "duration": 7,
        "start_time": "2023-05-14T09:55:42.338Z"
      },
      {
        "duration": 7,
        "start_time": "2023-05-14T09:56:07.058Z"
      },
      {
        "duration": 3,
        "start_time": "2023-05-14T09:57:00.924Z"
      },
      {
        "duration": 8,
        "start_time": "2023-05-14T09:57:02.758Z"
      },
      {
        "duration": 7,
        "start_time": "2023-05-14T10:11:00.363Z"
      },
      {
        "duration": 116,
        "start_time": "2023-05-14T10:11:07.703Z"
      },
      {
        "duration": 232,
        "start_time": "2023-05-14T10:11:50.599Z"
      },
      {
        "duration": 342,
        "start_time": "2023-05-14T10:12:53.512Z"
      },
      {
        "duration": 422,
        "start_time": "2023-05-14T10:13:38.628Z"
      },
      {
        "duration": 501,
        "start_time": "2023-05-14T10:13:59.147Z"
      },
      {
        "duration": 466,
        "start_time": "2023-05-14T10:14:10.261Z"
      },
      {
        "duration": 590,
        "start_time": "2023-05-14T10:14:15.846Z"
      },
      {
        "duration": 437,
        "start_time": "2023-05-14T10:14:32.730Z"
      },
      {
        "duration": 911,
        "start_time": "2023-05-14T10:15:18.965Z"
      },
      {
        "duration": 292,
        "start_time": "2023-05-14T10:15:34.195Z"
      },
      {
        "duration": 297,
        "start_time": "2023-05-14T10:17:09.444Z"
      },
      {
        "duration": 458,
        "start_time": "2023-05-14T10:17:23.830Z"
      },
      {
        "duration": 40,
        "start_time": "2023-05-14T10:17:59.231Z"
      },
      {
        "duration": 471,
        "start_time": "2023-05-14T10:18:06.527Z"
      },
      {
        "duration": 53,
        "start_time": "2023-05-14T10:18:27.354Z"
      },
      {
        "duration": 354,
        "start_time": "2023-05-14T10:18:33.031Z"
      },
      {
        "duration": 1368,
        "start_time": "2023-05-14T10:20:54.520Z"
      },
      {
        "duration": 260,
        "start_time": "2023-05-14T10:21:17.025Z"
      },
      {
        "duration": 1304,
        "start_time": "2023-05-14T10:21:24.521Z"
      },
      {
        "duration": 241,
        "start_time": "2023-05-14T10:22:00.893Z"
      },
      {
        "duration": 244,
        "start_time": "2023-05-14T10:23:09.213Z"
      },
      {
        "duration": 343,
        "start_time": "2023-05-14T10:23:29.143Z"
      },
      {
        "duration": 277,
        "start_time": "2023-05-14T10:23:44.022Z"
      },
      {
        "duration": 15,
        "start_time": "2023-05-14T10:27:12.124Z"
      },
      {
        "duration": 12,
        "start_time": "2023-05-14T10:27:40.141Z"
      },
      {
        "duration": 12,
        "start_time": "2023-05-14T10:27:50.442Z"
      },
      {
        "duration": 13,
        "start_time": "2023-05-14T10:28:12.426Z"
      },
      {
        "duration": 12,
        "start_time": "2023-05-14T10:29:07.217Z"
      },
      {
        "duration": 14,
        "start_time": "2023-05-14T10:29:28.048Z"
      },
      {
        "duration": 13,
        "start_time": "2023-05-14T10:33:52.457Z"
      },
      {
        "duration": 12,
        "start_time": "2023-05-14T10:34:13.762Z"
      },
      {
        "duration": 3,
        "start_time": "2023-05-14T10:37:34.809Z"
      },
      {
        "duration": 11,
        "start_time": "2023-05-14T10:37:35.361Z"
      },
      {
        "duration": 15,
        "start_time": "2023-05-14T10:38:01.762Z"
      },
      {
        "duration": 518,
        "start_time": "2023-05-14T10:38:46.330Z"
      },
      {
        "duration": 420,
        "start_time": "2023-05-14T10:39:16.130Z"
      },
      {
        "duration": 21,
        "start_time": "2023-05-14T10:42:51.460Z"
      },
      {
        "duration": 417,
        "start_time": "2023-05-14T10:43:00.355Z"
      },
      {
        "duration": 743,
        "start_time": "2023-05-14T10:43:29.748Z"
      },
      {
        "duration": 782,
        "start_time": "2023-05-14T10:43:56.310Z"
      },
      {
        "duration": 399,
        "start_time": "2023-05-14T10:44:07.428Z"
      },
      {
        "duration": 399,
        "start_time": "2023-05-14T10:44:51.297Z"
      },
      {
        "duration": 334,
        "start_time": "2023-05-14T10:46:34.062Z"
      },
      {
        "duration": 520,
        "start_time": "2023-05-14T10:47:46.093Z"
      },
      {
        "duration": 359,
        "start_time": "2023-05-14T10:48:34.252Z"
      },
      {
        "duration": 3,
        "start_time": "2023-05-14T10:52:32.413Z"
      },
      {
        "duration": 8,
        "start_time": "2023-05-14T10:52:32.929Z"
      },
      {
        "duration": 8,
        "start_time": "2023-05-14T11:29:05.918Z"
      },
      {
        "duration": 135,
        "start_time": "2023-05-14T11:29:28.013Z"
      },
      {
        "duration": 198,
        "start_time": "2023-05-14T11:29:36.998Z"
      },
      {
        "duration": 231,
        "start_time": "2023-05-14T11:29:47.297Z"
      },
      {
        "duration": 243,
        "start_time": "2023-05-14T11:29:58.869Z"
      },
      {
        "duration": 220,
        "start_time": "2023-05-14T11:30:06.140Z"
      },
      {
        "duration": 218,
        "start_time": "2023-05-14T11:30:21.385Z"
      },
      {
        "duration": 5,
        "start_time": "2023-05-14T11:31:20.139Z"
      },
      {
        "duration": 3,
        "start_time": "2023-05-14T11:31:32.857Z"
      },
      {
        "duration": 499,
        "start_time": "2023-05-14T11:31:49.096Z"
      },
      {
        "duration": 319,
        "start_time": "2023-05-14T11:35:19.717Z"
      },
      {
        "duration": 221,
        "start_time": "2023-05-14T11:35:34.241Z"
      },
      {
        "duration": 506,
        "start_time": "2023-05-14T11:36:39.351Z"
      },
      {
        "duration": 592,
        "start_time": "2023-05-14T11:40:32.547Z"
      },
      {
        "duration": 318,
        "start_time": "2023-05-14T11:44:24.508Z"
      },
      {
        "duration": 423,
        "start_time": "2023-05-14T11:44:56.662Z"
      },
      {
        "duration": 391,
        "start_time": "2023-05-14T11:45:07.216Z"
      },
      {
        "duration": 592,
        "start_time": "2023-05-14T11:45:16.713Z"
      },
      {
        "duration": 463,
        "start_time": "2023-05-14T11:45:27.447Z"
      },
      {
        "duration": 419,
        "start_time": "2023-05-14T11:45:33.072Z"
      },
      {
        "duration": 398,
        "start_time": "2023-05-14T11:45:40.409Z"
      },
      {
        "duration": 625,
        "start_time": "2023-05-14T11:45:49.154Z"
      },
      {
        "duration": 398,
        "start_time": "2023-05-14T11:48:01.309Z"
      },
      {
        "duration": 402,
        "start_time": "2023-05-14T11:49:24.467Z"
      },
      {
        "duration": 408,
        "start_time": "2023-05-14T11:50:31.065Z"
      },
      {
        "duration": 571,
        "start_time": "2023-05-14T11:50:37.747Z"
      },
      {
        "duration": 449,
        "start_time": "2023-05-14T11:50:49.685Z"
      },
      {
        "duration": 461,
        "start_time": "2023-05-14T11:51:19.058Z"
      },
      {
        "duration": 521,
        "start_time": "2023-05-14T11:51:27.701Z"
      },
      {
        "duration": 550,
        "start_time": "2023-05-14T11:51:46.403Z"
      },
      {
        "duration": 325,
        "start_time": "2023-05-14T11:51:55.337Z"
      },
      {
        "duration": 548,
        "start_time": "2023-05-14T11:52:26.033Z"
      },
      {
        "duration": 539,
        "start_time": "2023-05-14T11:52:53.703Z"
      },
      {
        "duration": 444,
        "start_time": "2023-05-14T11:53:02.062Z"
      },
      {
        "duration": 514,
        "start_time": "2023-05-14T11:55:17.953Z"
      },
      {
        "duration": 424,
        "start_time": "2023-05-14T11:55:41.238Z"
      },
      {
        "duration": 455,
        "start_time": "2023-05-14T11:56:00.064Z"
      },
      {
        "duration": 403,
        "start_time": "2023-05-14T11:56:08.852Z"
      },
      {
        "duration": 422,
        "start_time": "2023-05-14T11:56:14.596Z"
      },
      {
        "duration": 491,
        "start_time": "2023-05-14T11:56:57.711Z"
      },
      {
        "duration": 589,
        "start_time": "2023-05-14T11:57:23.153Z"
      },
      {
        "duration": 484,
        "start_time": "2023-05-14T11:57:32.474Z"
      },
      {
        "duration": 474,
        "start_time": "2023-05-14T11:57:39.361Z"
      },
      {
        "duration": 411,
        "start_time": "2023-05-14T11:58:07.816Z"
      },
      {
        "duration": 616,
        "start_time": "2023-05-14T11:58:54.011Z"
      },
      {
        "duration": 481,
        "start_time": "2023-05-14T11:59:00.349Z"
      },
      {
        "duration": 493,
        "start_time": "2023-05-14T11:59:42.663Z"
      },
      {
        "duration": 690,
        "start_time": "2023-05-14T12:00:28.754Z"
      },
      {
        "duration": 556,
        "start_time": "2023-05-14T12:00:38.755Z"
      },
      {
        "duration": 4,
        "start_time": "2023-05-14T12:00:52.357Z"
      },
      {
        "duration": 4,
        "start_time": "2023-05-14T12:03:15.660Z"
      },
      {
        "duration": 1811,
        "start_time": "2023-05-14T14:17:29.135Z"
      },
      {
        "duration": 4066,
        "start_time": "2023-05-14T14:17:30.949Z"
      },
      {
        "duration": 30,
        "start_time": "2023-05-14T14:17:37.019Z"
      },
      {
        "duration": 5,
        "start_time": "2023-05-14T14:17:41.441Z"
      },
      {
        "duration": 18,
        "start_time": "2023-05-14T14:17:42.242Z"
      },
      {
        "duration": 15,
        "start_time": "2023-05-14T14:17:43.098Z"
      },
      {
        "duration": 146,
        "start_time": "2023-05-14T14:17:43.821Z"
      },
      {
        "duration": 26,
        "start_time": "2023-05-14T14:17:44.613Z"
      },
      {
        "duration": 15,
        "start_time": "2023-05-14T14:17:46.110Z"
      },
      {
        "duration": 25,
        "start_time": "2023-05-14T14:17:46.710Z"
      },
      {
        "duration": 41,
        "start_time": "2023-05-14T14:17:47.509Z"
      },
      {
        "duration": 21,
        "start_time": "2023-05-14T14:17:48.208Z"
      },
      {
        "duration": 13,
        "start_time": "2023-05-14T14:17:49.235Z"
      },
      {
        "duration": 35,
        "start_time": "2023-05-14T14:17:49.820Z"
      },
      {
        "duration": 8,
        "start_time": "2023-05-14T14:17:50.321Z"
      },
      {
        "duration": 7,
        "start_time": "2023-05-14T14:17:51.161Z"
      },
      {
        "duration": 147,
        "start_time": "2023-05-14T14:17:51.763Z"
      },
      {
        "duration": 12,
        "start_time": "2023-05-14T14:17:52.300Z"
      },
      {
        "duration": 16,
        "start_time": "2023-05-14T14:17:54.208Z"
      },
      {
        "duration": 310,
        "start_time": "2023-05-14T14:17:55.412Z"
      },
      {
        "duration": 8,
        "start_time": "2023-05-14T14:17:57.748Z"
      },
      {
        "duration": 15,
        "start_time": "2023-05-14T14:17:58.377Z"
      },
      {
        "duration": 131,
        "start_time": "2023-05-14T14:17:59.614Z"
      },
      {
        "duration": 134,
        "start_time": "2023-05-14T14:18:01.010Z"
      },
      {
        "duration": 22,
        "start_time": "2023-05-14T14:18:03.917Z"
      },
      {
        "duration": 24,
        "start_time": "2023-05-14T14:18:04.542Z"
      },
      {
        "duration": 27,
        "start_time": "2023-05-14T14:18:05.109Z"
      },
      {
        "duration": 17,
        "start_time": "2023-05-14T14:18:05.902Z"
      },
      {
        "duration": 521,
        "start_time": "2023-05-14T14:18:06.546Z"
      },
      {
        "duration": 298,
        "start_time": "2023-05-14T14:18:07.098Z"
      },
      {
        "duration": 375,
        "start_time": "2023-05-14T14:18:07.644Z"
      },
      {
        "duration": 32,
        "start_time": "2023-05-14T14:18:08.159Z"
      },
      {
        "duration": 16,
        "start_time": "2023-05-14T14:18:20.775Z"
      },
      {
        "duration": 34,
        "start_time": "2023-05-14T14:18:21.595Z"
      },
      {
        "duration": 13,
        "start_time": "2023-05-14T14:18:22.371Z"
      },
      {
        "duration": 4,
        "start_time": "2023-05-14T14:18:23.659Z"
      },
      {
        "duration": 14,
        "start_time": "2023-05-14T14:18:25.018Z"
      },
      {
        "duration": 12,
        "start_time": "2023-05-14T14:18:36.771Z"
      },
      {
        "duration": 37,
        "start_time": "2023-05-14T14:18:37.336Z"
      },
      {
        "duration": 109,
        "start_time": "2023-05-14T14:18:43.363Z"
      },
      {
        "duration": 4,
        "start_time": "2023-05-14T14:18:47.656Z"
      },
      {
        "duration": 459,
        "start_time": "2023-05-14T14:18:48.248Z"
      },
      {
        "duration": 435,
        "start_time": "2023-05-14T14:18:49.690Z"
      },
      {
        "duration": 422,
        "start_time": "2023-05-14T14:18:50.352Z"
      },
      {
        "duration": 538,
        "start_time": "2023-05-14T14:18:51.175Z"
      },
      {
        "duration": 3,
        "start_time": "2023-05-14T14:18:53.199Z"
      },
      {
        "duration": 11,
        "start_time": "2023-05-14T14:18:53.996Z"
      },
      {
        "duration": 625,
        "start_time": "2023-05-14T14:18:55.631Z"
      },
      {
        "duration": 5,
        "start_time": "2023-05-14T14:18:56.536Z"
      },
      {
        "duration": 726,
        "start_time": "2023-05-14T14:18:57.214Z"
      },
      {
        "duration": 4,
        "start_time": "2023-05-14T14:19:56.906Z"
      },
      {
        "duration": 9,
        "start_time": "2023-05-14T14:20:10.695Z"
      },
      {
        "duration": 11,
        "start_time": "2023-05-14T14:24:18.701Z"
      },
      {
        "duration": 249,
        "start_time": "2023-05-14T14:24:36.940Z"
      },
      {
        "duration": 311,
        "start_time": "2023-05-14T14:24:45.950Z"
      },
      {
        "duration": 271,
        "start_time": "2023-05-14T14:29:12.886Z"
      },
      {
        "duration": 575,
        "start_time": "2023-05-14T14:30:30.533Z"
      },
      {
        "duration": 465,
        "start_time": "2023-05-14T14:30:56.149Z"
      },
      {
        "duration": 553,
        "start_time": "2023-05-14T14:31:36.007Z"
      },
      {
        "duration": 659,
        "start_time": "2023-05-14T14:32:01.499Z"
      },
      {
        "duration": 561,
        "start_time": "2023-05-14T14:32:26.804Z"
      },
      {
        "duration": 535,
        "start_time": "2023-05-14T14:32:36.254Z"
      },
      {
        "duration": 645,
        "start_time": "2023-05-14T14:34:09.173Z"
      },
      {
        "duration": 1170,
        "start_time": "2023-05-14T14:35:14.527Z"
      },
      {
        "duration": 1019,
        "start_time": "2023-05-14T14:35:29.143Z"
      },
      {
        "duration": 1200,
        "start_time": "2023-05-14T14:35:47.559Z"
      },
      {
        "duration": 1131,
        "start_time": "2023-05-14T14:36:00.144Z"
      },
      {
        "duration": 1072,
        "start_time": "2023-05-14T14:37:37.081Z"
      },
      {
        "duration": 10,
        "start_time": "2023-05-14T14:38:45.195Z"
      },
      {
        "duration": 6,
        "start_time": "2023-05-14T14:39:37.362Z"
      },
      {
        "duration": 31,
        "start_time": "2023-05-14T14:40:56.172Z"
      },
      {
        "duration": 16,
        "start_time": "2023-05-14T14:41:59.246Z"
      },
      {
        "duration": 250,
        "start_time": "2023-05-14T14:42:30.076Z"
      },
      {
        "duration": 264,
        "start_time": "2023-05-14T14:45:07.641Z"
      },
      {
        "duration": 228,
        "start_time": "2023-05-14T14:45:44.713Z"
      },
      {
        "duration": 8,
        "start_time": "2023-05-14T14:48:36.465Z"
      },
      {
        "duration": 89,
        "start_time": "2023-05-14T14:49:29.472Z"
      },
      {
        "duration": 102,
        "start_time": "2023-05-14T14:50:23.274Z"
      },
      {
        "duration": 85,
        "start_time": "2023-05-14T14:50:38.850Z"
      },
      {
        "duration": 83,
        "start_time": "2023-05-14T14:50:50.839Z"
      },
      {
        "duration": 123,
        "start_time": "2023-05-14T14:52:02.307Z"
      },
      {
        "duration": 16,
        "start_time": "2023-05-14T14:52:14.872Z"
      },
      {
        "duration": 7,
        "start_time": "2023-05-14T14:52:30.546Z"
      },
      {
        "duration": 4,
        "start_time": "2023-05-14T15:29:26.467Z"
      },
      {
        "duration": 4,
        "start_time": "2023-05-14T15:29:27.337Z"
      },
      {
        "duration": 4,
        "start_time": "2023-05-14T16:48:38.556Z"
      },
      {
        "duration": 13,
        "start_time": "2023-05-14T16:48:57.411Z"
      },
      {
        "duration": 5,
        "start_time": "2023-05-14T16:49:09.855Z"
      },
      {
        "duration": 10,
        "start_time": "2023-05-14T16:50:06.855Z"
      },
      {
        "duration": 22,
        "start_time": "2023-05-14T16:50:12.195Z"
      },
      {
        "duration": 7,
        "start_time": "2023-05-14T16:50:23.712Z"
      },
      {
        "duration": 25,
        "start_time": "2023-05-14T16:50:24.792Z"
      },
      {
        "duration": 9,
        "start_time": "2023-05-14T16:50:26.255Z"
      },
      {
        "duration": 4,
        "start_time": "2023-05-14T16:50:31.903Z"
      },
      {
        "duration": 15,
        "start_time": "2023-05-14T16:50:32.645Z"
      },
      {
        "duration": 22,
        "start_time": "2023-05-14T16:50:33.496Z"
      },
      {
        "duration": 11,
        "start_time": "2023-05-14T16:50:56.120Z"
      },
      {
        "duration": 13,
        "start_time": "2023-05-14T16:52:33.984Z"
      },
      {
        "duration": 8,
        "start_time": "2023-05-14T16:52:46.293Z"
      },
      {
        "duration": 8,
        "start_time": "2023-05-14T16:53:07.321Z"
      },
      {
        "duration": 22,
        "start_time": "2023-05-14T16:53:10.338Z"
      },
      {
        "duration": 14,
        "start_time": "2023-05-14T16:53:11.473Z"
      },
      {
        "duration": 3,
        "start_time": "2023-05-14T16:53:12.465Z"
      },
      {
        "duration": 22,
        "start_time": "2023-05-14T16:53:24.520Z"
      },
      {
        "duration": 13,
        "start_time": "2023-05-14T16:53:29.086Z"
      },
      {
        "duration": 22,
        "start_time": "2023-05-14T16:53:29.930Z"
      },
      {
        "duration": 10,
        "start_time": "2023-05-14T16:53:39.826Z"
      },
      {
        "duration": 5,
        "start_time": "2023-05-14T16:53:40.995Z"
      },
      {
        "duration": 642,
        "start_time": "2023-05-14T16:53:41.337Z"
      },
      {
        "duration": 419,
        "start_time": "2023-05-14T16:53:41.984Z"
      },
      {
        "duration": 432,
        "start_time": "2023-05-14T16:53:42.405Z"
      },
      {
        "duration": 448,
        "start_time": "2023-05-14T16:53:42.839Z"
      },
      {
        "duration": 4,
        "start_time": "2023-05-14T16:53:43.291Z"
      },
      {
        "duration": 10,
        "start_time": "2023-05-14T16:53:43.296Z"
      },
      {
        "duration": 735,
        "start_time": "2023-05-14T16:53:43.920Z"
      },
      {
        "duration": 5,
        "start_time": "2023-05-14T16:53:44.657Z"
      },
      {
        "duration": 602,
        "start_time": "2023-05-14T16:53:44.913Z"
      },
      {
        "duration": 4,
        "start_time": "2023-05-14T16:53:46.426Z"
      },
      {
        "duration": 3,
        "start_time": "2023-05-14T16:53:47.569Z"
      },
      {
        "duration": 1096,
        "start_time": "2023-05-14T16:53:47.946Z"
      },
      {
        "duration": 7,
        "start_time": "2023-05-14T16:53:49.248Z"
      },
      {
        "duration": 3,
        "start_time": "2023-05-14T16:53:50.905Z"
      },
      {
        "duration": 2,
        "start_time": "2023-05-14T16:53:52.337Z"
      },
      {
        "duration": 4,
        "start_time": "2023-05-14T16:53:53.969Z"
      },
      {
        "duration": 12,
        "start_time": "2023-05-14T16:53:54.873Z"
      },
      {
        "duration": 8,
        "start_time": "2023-05-14T16:54:30.060Z"
      },
      {
        "duration": 4,
        "start_time": "2023-05-14T16:55:18.010Z"
      },
      {
        "duration": 754,
        "start_time": "2023-05-14T16:55:18.294Z"
      },
      {
        "duration": 84,
        "start_time": "2023-05-14T16:55:19.051Z"
      },
      {
        "duration": 9,
        "start_time": "2023-05-14T16:55:19.283Z"
      },
      {
        "duration": 20,
        "start_time": "2023-05-14T16:55:19.498Z"
      },
      {
        "duration": 10,
        "start_time": "2023-05-14T16:55:19.714Z"
      },
      {
        "duration": 123,
        "start_time": "2023-05-14T16:55:19.944Z"
      },
      {
        "duration": 48,
        "start_time": "2023-05-14T16:55:20.189Z"
      },
      {
        "duration": 6,
        "start_time": "2023-05-14T16:55:20.505Z"
      },
      {
        "duration": 13,
        "start_time": "2023-05-14T16:55:20.761Z"
      },
      {
        "duration": 75,
        "start_time": "2023-05-14T16:55:21.027Z"
      },
      {
        "duration": 25,
        "start_time": "2023-05-14T16:55:21.271Z"
      },
      {
        "duration": 12,
        "start_time": "2023-05-14T16:55:21.505Z"
      },
      {
        "duration": 97,
        "start_time": "2023-05-14T16:55:21.738Z"
      },
      {
        "duration": 7,
        "start_time": "2023-05-14T16:55:22.034Z"
      },
      {
        "duration": 10,
        "start_time": "2023-05-14T16:55:22.284Z"
      },
      {
        "duration": 88,
        "start_time": "2023-05-14T16:55:22.522Z"
      },
      {
        "duration": 4,
        "start_time": "2023-05-14T16:55:22.770Z"
      },
      {
        "duration": 11,
        "start_time": "2023-05-14T16:55:23.187Z"
      },
      {
        "duration": 303,
        "start_time": "2023-05-14T16:55:23.380Z"
      },
      {
        "duration": 7,
        "start_time": "2023-05-14T16:55:23.991Z"
      },
      {
        "duration": 9,
        "start_time": "2023-05-14T16:55:24.195Z"
      },
      {
        "duration": 115,
        "start_time": "2023-05-14T16:55:25.164Z"
      },
      {
        "duration": 111,
        "start_time": "2023-05-14T16:55:25.285Z"
      },
      {
        "duration": 16,
        "start_time": "2023-05-14T16:55:26.189Z"
      },
      {
        "duration": 64,
        "start_time": "2023-05-14T16:55:26.411Z"
      },
      {
        "duration": 19,
        "start_time": "2023-05-14T16:55:26.898Z"
      },
      {
        "duration": 10,
        "start_time": "2023-05-14T16:55:27.353Z"
      },
      {
        "duration": 367,
        "start_time": "2023-05-14T16:55:27.702Z"
      },
      {
        "duration": 276,
        "start_time": "2023-05-14T16:55:28.160Z"
      },
      {
        "duration": 251,
        "start_time": "2023-05-14T16:55:28.443Z"
      },
      {
        "duration": 25,
        "start_time": "2023-05-14T16:55:28.933Z"
      },
      {
        "duration": 8,
        "start_time": "2023-05-14T16:55:29.914Z"
      },
      {
        "duration": 20,
        "start_time": "2023-05-14T16:55:30.411Z"
      },
      {
        "duration": 9,
        "start_time": "2023-05-14T16:55:30.890Z"
      },
      {
        "duration": 4,
        "start_time": "2023-05-14T16:55:31.370Z"
      },
      {
        "duration": 23,
        "start_time": "2023-05-14T16:55:31.811Z"
      },
      {
        "duration": 3,
        "start_time": "2023-05-14T16:55:32.314Z"
      },
      {
        "duration": 19,
        "start_time": "2023-05-14T16:55:32.915Z"
      },
      {
        "duration": 12,
        "start_time": "2023-05-14T16:55:34.715Z"
      },
      {
        "duration": 4,
        "start_time": "2023-05-14T16:55:35.842Z"
      },
      {
        "duration": 423,
        "start_time": "2023-05-14T16:55:36.086Z"
      },
      {
        "duration": 615,
        "start_time": "2023-05-14T16:55:36.511Z"
      },
      {
        "duration": 490,
        "start_time": "2023-05-14T16:55:37.127Z"
      },
      {
        "duration": 521,
        "start_time": "2023-05-14T16:55:37.620Z"
      },
      {
        "duration": 3,
        "start_time": "2023-05-14T16:55:38.142Z"
      },
      {
        "duration": 12,
        "start_time": "2023-05-14T16:55:38.146Z"
      },
      {
        "duration": 581,
        "start_time": "2023-05-14T16:55:38.159Z"
      },
      {
        "duration": 5,
        "start_time": "2023-05-14T16:55:38.742Z"
      },
      {
        "duration": 775,
        "start_time": "2023-05-14T16:55:38.749Z"
      },
      {
        "duration": 5,
        "start_time": "2023-05-14T16:55:39.526Z"
      },
      {
        "duration": 3,
        "start_time": "2023-05-14T16:55:40.842Z"
      },
      {
        "duration": 953,
        "start_time": "2023-05-14T16:55:41.506Z"
      },
      {
        "duration": 6,
        "start_time": "2023-05-14T16:55:43.293Z"
      },
      {
        "duration": 3,
        "start_time": "2023-05-14T16:55:44.722Z"
      },
      {
        "duration": 4,
        "start_time": "2023-05-14T16:55:45.194Z"
      },
      {
        "duration": 4,
        "start_time": "2023-05-14T16:55:46.418Z"
      },
      {
        "duration": 27,
        "start_time": "2023-05-14T16:55:47.106Z"
      },
      {
        "duration": 5,
        "start_time": "2023-05-14T17:00:04.244Z"
      },
      {
        "duration": 94,
        "start_time": "2023-05-14T17:00:05.012Z"
      },
      {
        "duration": 48,
        "start_time": "2023-05-14T17:00:42.021Z"
      },
      {
        "duration": 4,
        "start_time": "2023-05-14T17:00:52.022Z"
      },
      {
        "duration": 111,
        "start_time": "2023-05-14T17:00:52.572Z"
      },
      {
        "duration": 22,
        "start_time": "2023-05-14T17:01:36.347Z"
      },
      {
        "duration": 10,
        "start_time": "2023-05-14T17:04:25.880Z"
      },
      {
        "duration": 27,
        "start_time": "2023-05-14T17:04:26.463Z"
      },
      {
        "duration": 9,
        "start_time": "2023-05-14T17:04:32.175Z"
      },
      {
        "duration": 4,
        "start_time": "2023-05-14T17:04:33.719Z"
      },
      {
        "duration": 20,
        "start_time": "2023-05-14T17:04:36.728Z"
      },
      {
        "duration": 3,
        "start_time": "2023-05-14T17:04:37.294Z"
      },
      {
        "duration": 31,
        "start_time": "2023-05-14T17:04:37.967Z"
      },
      {
        "duration": 11,
        "start_time": "2023-05-14T17:04:38.510Z"
      },
      {
        "duration": 4,
        "start_time": "2023-05-14T17:04:39.848Z"
      },
      {
        "duration": 624,
        "start_time": "2023-05-14T17:04:40.143Z"
      },
      {
        "duration": 457,
        "start_time": "2023-05-14T17:04:40.769Z"
      },
      {
        "duration": 471,
        "start_time": "2023-05-14T17:04:41.228Z"
      },
      {
        "duration": 435,
        "start_time": "2023-05-14T17:04:41.707Z"
      },
      {
        "duration": 3,
        "start_time": "2023-05-14T17:04:42.144Z"
      },
      {
        "duration": 10,
        "start_time": "2023-05-14T17:04:42.470Z"
      },
      {
        "duration": 762,
        "start_time": "2023-05-14T17:04:43.895Z"
      },
      {
        "duration": 5,
        "start_time": "2023-05-14T17:04:44.702Z"
      },
      {
        "duration": 665,
        "start_time": "2023-05-14T17:04:45.766Z"
      },
      {
        "duration": 5,
        "start_time": "2023-05-14T17:04:46.701Z"
      },
      {
        "duration": 3,
        "start_time": "2023-05-14T17:04:48.006Z"
      },
      {
        "duration": 1018,
        "start_time": "2023-05-14T17:04:48.815Z"
      },
      {
        "duration": 7,
        "start_time": "2023-05-14T17:04:49.991Z"
      },
      {
        "duration": 5,
        "start_time": "2023-05-14T17:04:51.490Z"
      },
      {
        "duration": 3,
        "start_time": "2023-05-14T17:04:52.958Z"
      },
      {
        "duration": 4,
        "start_time": "2023-05-14T17:04:54.239Z"
      },
      {
        "duration": 20,
        "start_time": "2023-05-14T17:04:54.895Z"
      },
      {
        "duration": 20,
        "start_time": "2023-05-14T17:04:56.082Z"
      },
      {
        "duration": 15,
        "start_time": "2023-05-14T17:05:20.927Z"
      },
      {
        "duration": 8,
        "start_time": "2023-05-14T17:12:35.395Z"
      },
      {
        "duration": 26,
        "start_time": "2023-05-14T17:12:37.323Z"
      },
      {
        "duration": 4,
        "start_time": "2023-05-14T17:12:52.307Z"
      },
      {
        "duration": 20,
        "start_time": "2023-05-14T17:12:53.692Z"
      },
      {
        "duration": 108,
        "start_time": "2023-05-14T17:13:06.523Z"
      },
      {
        "duration": 15,
        "start_time": "2023-05-14T17:13:20.132Z"
      },
      {
        "duration": 5,
        "start_time": "2023-05-14T17:13:26.203Z"
      },
      {
        "duration": 110,
        "start_time": "2023-05-14T17:13:27.308Z"
      },
      {
        "duration": 4,
        "start_time": "2023-05-14T17:14:16.496Z"
      },
      {
        "duration": 16,
        "start_time": "2023-05-14T17:14:22.487Z"
      },
      {
        "duration": 5,
        "start_time": "2023-05-14T17:14:31.052Z"
      },
      {
        "duration": 5,
        "start_time": "2023-05-14T17:15:31.469Z"
      },
      {
        "duration": 15,
        "start_time": "2023-05-14T17:15:39.674Z"
      },
      {
        "duration": 25,
        "start_time": "2023-05-14T17:16:03.071Z"
      },
      {
        "duration": 17,
        "start_time": "2023-05-14T17:16:13.141Z"
      },
      {
        "duration": 21,
        "start_time": "2023-05-14T17:19:47.987Z"
      },
      {
        "duration": 17,
        "start_time": "2023-05-14T17:20:12.856Z"
      },
      {
        "duration": 183,
        "start_time": "2023-05-14T17:32:09.076Z"
      },
      {
        "duration": 26,
        "start_time": "2023-05-14T17:32:10.966Z"
      },
      {
        "duration": 10,
        "start_time": "2023-05-14T17:32:20.100Z"
      },
      {
        "duration": 6,
        "start_time": "2023-05-14T17:32:21.532Z"
      },
      {
        "duration": 8,
        "start_time": "2023-05-14T17:33:14.429Z"
      },
      {
        "duration": 13,
        "start_time": "2023-05-14T17:35:27.066Z"
      },
      {
        "duration": 20,
        "start_time": "2023-05-14T17:35:28.502Z"
      },
      {
        "duration": 22,
        "start_time": "2023-05-14T17:35:56.469Z"
      },
      {
        "duration": 5,
        "start_time": "2023-05-14T17:35:57.253Z"
      },
      {
        "duration": 4,
        "start_time": "2023-05-14T17:36:39.668Z"
      },
      {
        "duration": 21,
        "start_time": "2023-05-14T17:36:49.014Z"
      },
      {
        "duration": 21,
        "start_time": "2023-05-14T17:36:59.447Z"
      },
      {
        "duration": 21,
        "start_time": "2023-05-14T17:37:11.831Z"
      },
      {
        "duration": 4,
        "start_time": "2023-05-14T17:38:06.392Z"
      },
      {
        "duration": 16,
        "start_time": "2023-05-14T17:39:00.142Z"
      },
      {
        "duration": 15,
        "start_time": "2023-05-14T17:39:28.654Z"
      },
      {
        "duration": 506,
        "start_time": "2023-05-14T17:41:09.613Z"
      },
      {
        "duration": 475,
        "start_time": "2023-05-14T17:41:22.918Z"
      },
      {
        "duration": 260,
        "start_time": "2023-05-14T17:42:08.590Z"
      },
      {
        "duration": 260,
        "start_time": "2023-05-14T17:43:03.540Z"
      },
      {
        "duration": 259,
        "start_time": "2023-05-14T17:43:34.897Z"
      },
      {
        "duration": 22,
        "start_time": "2023-05-14T17:45:17.376Z"
      },
      {
        "duration": 4,
        "start_time": "2023-05-14T17:46:08.136Z"
      },
      {
        "duration": 14,
        "start_time": "2023-05-14T17:46:16.758Z"
      },
      {
        "duration": 8,
        "start_time": "2023-05-14T17:47:39.444Z"
      },
      {
        "duration": 41,
        "start_time": "2023-05-14T17:47:57.385Z"
      },
      {
        "duration": 14,
        "start_time": "2023-05-14T17:48:16.841Z"
      },
      {
        "duration": 16,
        "start_time": "2023-05-14T17:48:37.745Z"
      },
      {
        "duration": 11,
        "start_time": "2023-05-14T17:51:27.131Z"
      },
      {
        "duration": 7,
        "start_time": "2023-05-14T17:51:44.858Z"
      },
      {
        "duration": 10,
        "start_time": "2023-05-14T17:51:57.050Z"
      },
      {
        "duration": 1568,
        "start_time": "2023-05-14T20:08:20.071Z"
      },
      {
        "duration": 2432,
        "start_time": "2023-05-14T20:08:21.641Z"
      },
      {
        "duration": 28,
        "start_time": "2023-05-14T20:08:26.465Z"
      },
      {
        "duration": 5,
        "start_time": "2023-05-14T20:08:27.149Z"
      },
      {
        "duration": 20,
        "start_time": "2023-05-14T20:08:27.676Z"
      },
      {
        "duration": 9,
        "start_time": "2023-05-14T20:08:28.219Z"
      },
      {
        "duration": 111,
        "start_time": "2023-05-14T20:08:28.773Z"
      },
      {
        "duration": 28,
        "start_time": "2023-05-14T20:08:29.488Z"
      },
      {
        "duration": 6,
        "start_time": "2023-05-14T20:08:30.077Z"
      },
      {
        "duration": 12,
        "start_time": "2023-05-14T20:08:30.614Z"
      },
      {
        "duration": 21,
        "start_time": "2023-05-14T20:08:31.099Z"
      },
      {
        "duration": 24,
        "start_time": "2023-05-14T20:08:31.565Z"
      },
      {
        "duration": 13,
        "start_time": "2023-05-14T20:08:31.948Z"
      },
      {
        "duration": 25,
        "start_time": "2023-05-14T20:08:32.499Z"
      },
      {
        "duration": 8,
        "start_time": "2023-05-14T20:08:33.301Z"
      },
      {
        "duration": 7,
        "start_time": "2023-05-14T20:08:33.885Z"
      },
      {
        "duration": 96,
        "start_time": "2023-05-14T20:08:34.420Z"
      },
      {
        "duration": 3,
        "start_time": "2023-05-14T20:08:34.908Z"
      },
      {
        "duration": 10,
        "start_time": "2023-05-14T20:08:35.982Z"
      },
      {
        "duration": 262,
        "start_time": "2023-05-14T20:08:36.525Z"
      },
      {
        "duration": 6,
        "start_time": "2023-05-14T20:08:38.597Z"
      },
      {
        "duration": 11,
        "start_time": "2023-05-14T20:08:39.204Z"
      },
      {
        "duration": 99,
        "start_time": "2023-05-14T20:08:40.165Z"
      },
      {
        "duration": 93,
        "start_time": "2023-05-14T20:08:40.997Z"
      },
      {
        "duration": 15,
        "start_time": "2023-05-14T20:08:42.820Z"
      },
      {
        "duration": 19,
        "start_time": "2023-05-14T20:08:43.311Z"
      },
      {
        "duration": 23,
        "start_time": "2023-05-14T20:08:43.789Z"
      },
      {
        "duration": 10,
        "start_time": "2023-05-14T20:08:44.421Z"
      },
      {
        "duration": 424,
        "start_time": "2023-05-14T20:08:44.782Z"
      },
      {
        "duration": 338,
        "start_time": "2023-05-14T20:08:45.284Z"
      },
      {
        "duration": 260,
        "start_time": "2023-05-14T20:08:45.732Z"
      },
      {
        "duration": 26,
        "start_time": "2023-05-14T20:08:46.221Z"
      },
      {
        "duration": 16,
        "start_time": "2023-05-14T20:08:47.509Z"
      },
      {
        "duration": 20,
        "start_time": "2023-05-14T20:08:48.630Z"
      },
      {
        "duration": 11,
        "start_time": "2023-05-14T20:08:49.381Z"
      },
      {
        "duration": 4,
        "start_time": "2023-05-14T20:08:50.229Z"
      },
      {
        "duration": 20,
        "start_time": "2023-05-14T20:08:50.837Z"
      },
      {
        "duration": 3,
        "start_time": "2023-05-14T20:09:09.637Z"
      },
      {
        "duration": 23,
        "start_time": "2023-05-14T20:09:10.182Z"
      },
      {
        "duration": 122,
        "start_time": "2023-05-14T20:09:10.981Z"
      },
      {
        "duration": 3,
        "start_time": "2023-05-14T20:09:13.541Z"
      },
      {
        "duration": 456,
        "start_time": "2023-05-14T20:09:13.861Z"
      },
      {
        "duration": 498,
        "start_time": "2023-05-14T20:09:14.319Z"
      },
      {
        "duration": 454,
        "start_time": "2023-05-14T20:09:14.819Z"
      },
      {
        "duration": 519,
        "start_time": "2023-05-14T20:09:15.276Z"
      },
      {
        "duration": 4,
        "start_time": "2023-05-14T20:09:15.797Z"
      },
      {
        "duration": 19,
        "start_time": "2023-05-14T20:09:15.802Z"
      },
      {
        "duration": 732,
        "start_time": "2023-05-14T20:09:16.789Z"
      },
      {
        "duration": 5,
        "start_time": "2023-05-14T20:09:17.524Z"
      },
      {
        "duration": 624,
        "start_time": "2023-05-14T20:09:17.861Z"
      },
      {
        "duration": 5,
        "start_time": "2023-05-14T20:09:18.533Z"
      },
      {
        "duration": 3,
        "start_time": "2023-05-14T20:09:20.548Z"
      },
      {
        "duration": 930,
        "start_time": "2023-05-14T20:09:21.316Z"
      },
      {
        "duration": 7,
        "start_time": "2023-05-14T20:09:22.957Z"
      },
      {
        "duration": 5,
        "start_time": "2023-05-14T20:09:24.846Z"
      },
      {
        "duration": 3,
        "start_time": "2023-05-14T20:09:25.229Z"
      },
      {
        "duration": 6,
        "start_time": "2023-05-14T20:09:38.805Z"
      },
      {
        "duration": 60,
        "start_time": "2023-05-14T20:09:40.615Z"
      },
      {
        "duration": 247,
        "start_time": "2023-05-14T20:09:41.350Z"
      },
      {
        "duration": 14,
        "start_time": "2023-05-14T20:09:50.342Z"
      },
      {
        "duration": 9,
        "start_time": "2023-05-14T20:10:36.632Z"
      },
      {
        "duration": 12,
        "start_time": "2023-05-14T20:10:46.717Z"
      },
      {
        "duration": 6,
        "start_time": "2023-05-14T20:11:09.214Z"
      },
      {
        "duration": 9,
        "start_time": "2023-05-14T20:11:27.502Z"
      },
      {
        "duration": 15,
        "start_time": "2023-05-14T20:12:26.151Z"
      },
      {
        "duration": 12,
        "start_time": "2023-05-14T20:12:49.455Z"
      },
      {
        "duration": 4,
        "start_time": "2023-05-14T20:13:28.456Z"
      },
      {
        "duration": 4,
        "start_time": "2023-05-14T20:13:45.544Z"
      },
      {
        "duration": 12,
        "start_time": "2023-05-14T20:15:53.675Z"
      },
      {
        "duration": 7,
        "start_time": "2023-05-14T20:15:54.433Z"
      },
      {
        "duration": 5,
        "start_time": "2023-05-14T20:15:55.601Z"
      },
      {
        "duration": 25,
        "start_time": "2023-05-14T20:15:57.124Z"
      },
      {
        "duration": 2,
        "start_time": "2023-05-14T20:15:58.353Z"
      },
      {
        "duration": 19,
        "start_time": "2023-05-14T20:16:04.352Z"
      },
      {
        "duration": 10,
        "start_time": "2023-05-14T20:16:05.152Z"
      },
      {
        "duration": 4,
        "start_time": "2023-05-14T20:16:06.600Z"
      },
      {
        "duration": 449,
        "start_time": "2023-05-14T20:16:07.224Z"
      },
      {
        "duration": 422,
        "start_time": "2023-05-14T20:16:07.675Z"
      },
      {
        "duration": 527,
        "start_time": "2023-05-14T20:16:08.100Z"
      },
      {
        "duration": 396,
        "start_time": "2023-05-14T20:16:08.629Z"
      },
      {
        "duration": 2,
        "start_time": "2023-05-14T20:16:09.027Z"
      },
      {
        "duration": 15,
        "start_time": "2023-05-14T20:16:09.968Z"
      },
      {
        "duration": 559,
        "start_time": "2023-05-14T20:16:13.880Z"
      },
      {
        "duration": 5,
        "start_time": "2023-05-14T20:16:14.887Z"
      },
      {
        "duration": 627,
        "start_time": "2023-05-14T20:16:15.664Z"
      },
      {
        "duration": 6,
        "start_time": "2023-05-14T20:16:16.583Z"
      },
      {
        "duration": 3,
        "start_time": "2023-05-14T20:16:18.287Z"
      },
      {
        "duration": 856,
        "start_time": "2023-05-14T20:16:19.104Z"
      },
      {
        "duration": 7,
        "start_time": "2023-05-14T20:16:24.832Z"
      },
      {
        "duration": 4,
        "start_time": "2023-05-14T20:16:28.239Z"
      },
      {
        "duration": 4,
        "start_time": "2023-05-14T20:16:28.808Z"
      },
      {
        "duration": 4,
        "start_time": "2023-05-14T20:16:30.104Z"
      },
      {
        "duration": 36,
        "start_time": "2023-05-14T20:16:31.146Z"
      },
      {
        "duration": 271,
        "start_time": "2023-05-14T20:16:33.512Z"
      },
      {
        "duration": 10,
        "start_time": "2023-05-14T20:16:55.627Z"
      },
      {
        "duration": 0,
        "start_time": "2023-05-14T20:45:28.475Z"
      },
      {
        "duration": 7,
        "start_time": "2023-05-14T20:49:42.615Z"
      },
      {
        "duration": 786,
        "start_time": "2023-05-14T20:49:59.123Z"
      },
      {
        "duration": 101,
        "start_time": "2023-05-14T20:50:02.218Z"
      },
      {
        "duration": 5,
        "start_time": "2023-05-14T20:50:03.114Z"
      },
      {
        "duration": 17,
        "start_time": "2023-05-14T20:50:03.768Z"
      },
      {
        "duration": 11,
        "start_time": "2023-05-14T20:50:04.228Z"
      },
      {
        "duration": 159,
        "start_time": "2023-05-14T20:50:04.611Z"
      },
      {
        "duration": 65,
        "start_time": "2023-05-14T20:50:04.985Z"
      },
      {
        "duration": 8,
        "start_time": "2023-05-14T20:50:05.428Z"
      },
      {
        "duration": 16,
        "start_time": "2023-05-14T20:50:06.011Z"
      },
      {
        "duration": 88,
        "start_time": "2023-05-14T20:50:06.428Z"
      },
      {
        "duration": 28,
        "start_time": "2023-05-14T20:50:06.809Z"
      },
      {
        "duration": 11,
        "start_time": "2023-05-14T20:50:07.131Z"
      },
      {
        "duration": 100,
        "start_time": "2023-05-14T20:50:07.708Z"
      },
      {
        "duration": 8,
        "start_time": "2023-05-14T20:50:08.210Z"
      },
      {
        "duration": 10,
        "start_time": "2023-05-14T20:50:08.923Z"
      },
      {
        "duration": 91,
        "start_time": "2023-05-14T20:50:09.487Z"
      },
      {
        "duration": 5,
        "start_time": "2023-05-14T20:50:09.987Z"
      },
      {
        "duration": 16,
        "start_time": "2023-05-14T20:50:11.507Z"
      },
      {
        "duration": 329,
        "start_time": "2023-05-14T20:50:12.420Z"
      },
      {
        "duration": 5,
        "start_time": "2023-05-14T20:50:16.979Z"
      },
      {
        "duration": 12,
        "start_time": "2023-05-14T20:50:17.480Z"
      },
      {
        "duration": 147,
        "start_time": "2023-05-14T20:50:18.698Z"
      },
      {
        "duration": 117,
        "start_time": "2023-05-14T20:50:19.747Z"
      },
      {
        "duration": 14,
        "start_time": "2023-05-14T20:50:22.585Z"
      },
      {
        "duration": 84,
        "start_time": "2023-05-14T20:50:23.819Z"
      },
      {
        "duration": 19,
        "start_time": "2023-05-14T20:50:25.271Z"
      },
      {
        "duration": 10,
        "start_time": "2023-05-14T20:50:26.155Z"
      },
      {
        "duration": 319,
        "start_time": "2023-05-14T20:50:26.947Z"
      },
      {
        "duration": 410,
        "start_time": "2023-05-14T20:50:30.300Z"
      },
      {
        "duration": 219,
        "start_time": "2023-05-14T20:50:31.035Z"
      },
      {
        "duration": 32,
        "start_time": "2023-05-14T20:50:32.084Z"
      },
      {
        "duration": 17,
        "start_time": "2023-05-14T20:50:35.487Z"
      },
      {
        "duration": 24,
        "start_time": "2023-05-14T20:50:36.687Z"
      },
      {
        "duration": 15,
        "start_time": "2023-05-14T20:50:37.396Z"
      },
      {
        "duration": 8,
        "start_time": "2023-05-14T20:50:38.474Z"
      },
      {
        "duration": 4,
        "start_time": "2023-05-14T20:50:51.581Z"
      },
      {
        "duration": 27,
        "start_time": "2023-05-14T20:51:00.966Z"
      },
      {
        "duration": 21,
        "start_time": "2023-05-14T20:51:11.583Z"
      },
      {
        "duration": 4,
        "start_time": "2023-05-14T20:51:16.087Z"
      },
      {
        "duration": 416,
        "start_time": "2023-05-14T20:51:16.881Z"
      },
      {
        "duration": 623,
        "start_time": "2023-05-14T20:51:21.884Z"
      },
      {
        "duration": 409,
        "start_time": "2023-05-14T20:51:23.286Z"
      },
      {
        "duration": 493,
        "start_time": "2023-05-14T20:51:27.412Z"
      },
      {
        "duration": 3,
        "start_time": "2023-05-14T20:51:32.844Z"
      },
      {
        "duration": 12,
        "start_time": "2023-05-14T20:51:34.072Z"
      },
      {
        "duration": 763,
        "start_time": "2023-05-14T20:51:45.983Z"
      },
      {
        "duration": 6,
        "start_time": "2023-05-14T20:51:50.956Z"
      },
      {
        "duration": 595,
        "start_time": "2023-05-14T20:51:51.948Z"
      },
      {
        "duration": 5,
        "start_time": "2023-05-14T20:51:56.282Z"
      },
      {
        "duration": 3,
        "start_time": "2023-05-14T20:51:59.509Z"
      },
      {
        "duration": 1045,
        "start_time": "2023-05-14T20:52:00.654Z"
      },
      {
        "duration": 10,
        "start_time": "2023-05-14T20:52:11.686Z"
      },
      {
        "duration": 3,
        "start_time": "2023-05-14T20:52:16.397Z"
      },
      {
        "duration": 3,
        "start_time": "2023-05-14T20:52:17.210Z"
      },
      {
        "duration": 5,
        "start_time": "2023-05-14T20:52:19.636Z"
      },
      {
        "duration": 36,
        "start_time": "2023-05-14T20:52:23.777Z"
      },
      {
        "duration": 242,
        "start_time": "2023-05-14T20:52:25.652Z"
      },
      {
        "duration": 7,
        "start_time": "2023-05-14T20:56:48.897Z"
      },
      {
        "duration": 789,
        "start_time": "2023-05-14T20:56:49.392Z"
      },
      {
        "duration": 92,
        "start_time": "2023-05-14T20:56:50.184Z"
      },
      {
        "duration": 18,
        "start_time": "2023-05-14T20:56:50.278Z"
      },
      {
        "duration": 22,
        "start_time": "2023-05-14T20:56:50.298Z"
      },
      {
        "duration": 12,
        "start_time": "2023-05-14T20:56:50.427Z"
      },
      {
        "duration": 154,
        "start_time": "2023-05-14T20:56:50.612Z"
      },
      {
        "duration": 63,
        "start_time": "2023-05-14T20:56:50.806Z"
      },
      {
        "duration": 7,
        "start_time": "2023-05-14T20:56:51.011Z"
      },
      {
        "duration": 14,
        "start_time": "2023-05-14T20:56:51.209Z"
      },
      {
        "duration": 71,
        "start_time": "2023-05-14T20:56:51.430Z"
      },
      {
        "duration": 19,
        "start_time": "2023-05-14T20:56:51.619Z"
      },
      {
        "duration": 14,
        "start_time": "2023-05-14T20:56:51.832Z"
      },
      {
        "duration": 87,
        "start_time": "2023-05-14T20:56:52.048Z"
      },
      {
        "duration": 6,
        "start_time": "2023-05-14T20:56:52.272Z"
      },
      {
        "duration": 8,
        "start_time": "2023-05-14T20:56:52.446Z"
      },
      {
        "duration": 121,
        "start_time": "2023-05-14T20:56:53.025Z"
      },
      {
        "duration": 4,
        "start_time": "2023-05-14T20:56:53.414Z"
      },
      {
        "duration": 13,
        "start_time": "2023-05-14T20:56:53.945Z"
      },
      {
        "duration": 312,
        "start_time": "2023-05-14T20:56:54.235Z"
      },
      {
        "duration": 6,
        "start_time": "2023-05-14T20:56:54.994Z"
      },
      {
        "duration": 7,
        "start_time": "2023-05-14T20:56:55.209Z"
      },
      {
        "duration": 142,
        "start_time": "2023-05-14T20:56:55.729Z"
      },
      {
        "duration": 99,
        "start_time": "2023-05-14T20:56:56.177Z"
      },
      {
        "duration": 20,
        "start_time": "2023-05-14T20:56:57.113Z"
      },
      {
        "duration": 56,
        "start_time": "2023-05-14T20:56:57.339Z"
      },
      {
        "duration": 21,
        "start_time": "2023-05-14T20:56:57.572Z"
      },
      {
        "duration": 10,
        "start_time": "2023-05-14T20:56:57.777Z"
      },
      {
        "duration": 335,
        "start_time": "2023-05-14T20:56:57.993Z"
      },
      {
        "duration": 262,
        "start_time": "2023-05-14T20:56:58.574Z"
      },
      {
        "duration": 224,
        "start_time": "2023-05-14T20:56:59.129Z"
      },
      {
        "duration": 30,
        "start_time": "2023-05-14T20:56:59.548Z"
      },
      {
        "duration": 14,
        "start_time": "2023-05-14T20:57:00.474Z"
      },
      {
        "duration": 30,
        "start_time": "2023-05-14T20:57:00.842Z"
      },
      {
        "duration": 17,
        "start_time": "2023-05-14T20:57:01.251Z"
      },
      {
        "duration": 4,
        "start_time": "2023-05-14T20:57:02.060Z"
      },
      {
        "duration": 6,
        "start_time": "2023-05-14T20:57:03.166Z"
      },
      {
        "duration": 23,
        "start_time": "2023-05-14T20:57:03.618Z"
      },
      {
        "duration": 2,
        "start_time": "2023-05-14T20:57:04.040Z"
      },
      {
        "duration": 19,
        "start_time": "2023-05-14T20:57:04.402Z"
      },
      {
        "duration": 4,
        "start_time": "2023-05-14T20:57:05.673Z"
      },
      {
        "duration": 575,
        "start_time": "2023-05-14T20:57:05.945Z"
      },
      {
        "duration": 441,
        "start_time": "2023-05-14T20:57:07.034Z"
      },
      {
        "duration": 435,
        "start_time": "2023-05-14T20:57:08.419Z"
      },
      {
        "duration": 406,
        "start_time": "2023-05-14T20:57:08.921Z"
      },
      {
        "duration": 3,
        "start_time": "2023-05-14T20:57:10.313Z"
      },
      {
        "duration": 10,
        "start_time": "2023-05-14T20:57:10.768Z"
      },
      {
        "duration": 663,
        "start_time": "2023-05-14T20:57:11.289Z"
      },
      {
        "duration": 5,
        "start_time": "2023-05-14T20:57:11.954Z"
      },
      {
        "duration": 575,
        "start_time": "2023-05-14T20:57:12.217Z"
      },
      {
        "duration": 5,
        "start_time": "2023-05-14T20:57:12.986Z"
      },
      {
        "duration": 3,
        "start_time": "2023-05-14T20:57:14.137Z"
      },
      {
        "duration": 984,
        "start_time": "2023-05-14T20:57:14.474Z"
      },
      {
        "duration": 7,
        "start_time": "2023-05-14T20:57:15.705Z"
      },
      {
        "duration": 4,
        "start_time": "2023-05-14T20:57:17.648Z"
      },
      {
        "duration": 4,
        "start_time": "2023-05-14T20:57:18.129Z"
      },
      {
        "duration": 4,
        "start_time": "2023-05-14T20:57:18.801Z"
      },
      {
        "duration": 50,
        "start_time": "2023-05-14T20:57:19.299Z"
      },
      {
        "duration": 250,
        "start_time": "2023-05-14T20:57:19.633Z"
      },
      {
        "duration": 6,
        "start_time": "2023-05-14T21:23:18.643Z"
      },
      {
        "duration": 11,
        "start_time": "2023-05-14T21:24:33.627Z"
      },
      {
        "duration": 51,
        "start_time": "2023-05-14T21:24:46.418Z"
      },
      {
        "duration": 9,
        "start_time": "2023-05-14T21:24:58.042Z"
      },
      {
        "duration": 11,
        "start_time": "2023-05-14T21:27:44.587Z"
      },
      {
        "duration": 12,
        "start_time": "2023-05-14T21:27:50.692Z"
      },
      {
        "duration": 63,
        "start_time": "2023-05-14T21:30:50.039Z"
      },
      {
        "duration": 25,
        "start_time": "2023-05-14T21:30:58.549Z"
      },
      {
        "duration": 56,
        "start_time": "2023-05-14T21:31:08.133Z"
      },
      {
        "duration": 4,
        "start_time": "2023-05-14T21:32:00.918Z"
      },
      {
        "duration": 3,
        "start_time": "2023-05-14T21:32:18.037Z"
      },
      {
        "duration": 14,
        "start_time": "2023-05-14T21:33:30.551Z"
      },
      {
        "duration": 9,
        "start_time": "2023-05-14T21:34:15.392Z"
      },
      {
        "duration": 3,
        "start_time": "2023-05-14T21:34:21.412Z"
      },
      {
        "duration": 13,
        "start_time": "2023-05-14T21:34:25.528Z"
      },
      {
        "duration": 4,
        "start_time": "2023-05-14T21:34:44.013Z"
      },
      {
        "duration": 5,
        "start_time": "2023-05-14T21:35:41.864Z"
      },
      {
        "duration": 3,
        "start_time": "2023-05-14T21:36:17.888Z"
      },
      {
        "duration": 13,
        "start_time": "2023-05-14T21:38:37.563Z"
      },
      {
        "duration": 5,
        "start_time": "2023-05-14T21:39:13.731Z"
      },
      {
        "duration": 13,
        "start_time": "2023-05-14T21:39:20.133Z"
      },
      {
        "duration": 17,
        "start_time": "2023-05-14T21:40:56.724Z"
      },
      {
        "duration": 5,
        "start_time": "2023-05-14T21:41:28.444Z"
      },
      {
        "duration": 4,
        "start_time": "2023-05-14T21:41:36.364Z"
      },
      {
        "duration": 9,
        "start_time": "2023-05-14T21:41:37.323Z"
      },
      {
        "duration": 21,
        "start_time": "2023-05-14T21:41:38.291Z"
      },
      {
        "duration": 59,
        "start_time": "2023-05-14T21:44:49.134Z"
      },
      {
        "duration": 23,
        "start_time": "2023-05-14T21:44:57.715Z"
      },
      {
        "duration": 8,
        "start_time": "2023-05-14T21:45:01.844Z"
      },
      {
        "duration": 6,
        "start_time": "2023-05-14T21:45:02.537Z"
      },
      {
        "duration": 3,
        "start_time": "2023-05-14T21:45:52.382Z"
      },
      {
        "duration": 9,
        "start_time": "2023-05-14T21:45:53.125Z"
      },
      {
        "duration": 10,
        "start_time": "2023-05-14T21:48:27.095Z"
      },
      {
        "duration": 3,
        "start_time": "2023-05-14T21:48:28.351Z"
      },
      {
        "duration": 3,
        "start_time": "2023-05-14T21:48:29.287Z"
      },
      {
        "duration": 13,
        "start_time": "2023-05-14T21:48:32.318Z"
      },
      {
        "duration": 12,
        "start_time": "2023-05-14T21:48:33.191Z"
      },
      {
        "duration": 43,
        "start_time": "2023-05-14T21:48:34.175Z"
      },
      {
        "duration": 26,
        "start_time": "2023-05-14T21:51:56.266Z"
      },
      {
        "duration": 5,
        "start_time": "2023-05-14T21:52:27.544Z"
      },
      {
        "duration": 860,
        "start_time": "2023-05-14T21:52:27.776Z"
      },
      {
        "duration": 70,
        "start_time": "2023-05-14T21:52:28.642Z"
      },
      {
        "duration": 29,
        "start_time": "2023-05-14T21:52:28.713Z"
      },
      {
        "duration": 31,
        "start_time": "2023-05-14T21:52:28.744Z"
      },
      {
        "duration": 11,
        "start_time": "2023-05-14T21:52:28.877Z"
      },
      {
        "duration": 121,
        "start_time": "2023-05-14T21:52:29.063Z"
      },
      {
        "duration": 70,
        "start_time": "2023-05-14T21:52:29.275Z"
      },
      {
        "duration": 6,
        "start_time": "2023-05-14T21:52:29.471Z"
      },
      {
        "duration": 11,
        "start_time": "2023-05-14T21:52:29.672Z"
      },
      {
        "duration": 93,
        "start_time": "2023-05-14T21:52:29.884Z"
      },
      {
        "duration": 30,
        "start_time": "2023-05-14T21:52:30.115Z"
      },
      {
        "duration": 10,
        "start_time": "2023-05-14T21:52:30.335Z"
      },
      {
        "duration": 98,
        "start_time": "2023-05-14T21:52:30.527Z"
      },
      {
        "duration": 7,
        "start_time": "2023-05-14T21:52:30.746Z"
      },
      {
        "duration": 7,
        "start_time": "2023-05-14T21:52:30.960Z"
      },
      {
        "duration": 130,
        "start_time": "2023-05-14T21:52:31.213Z"
      },
      {
        "duration": 10,
        "start_time": "2023-05-14T21:52:31.423Z"
      },
      {
        "duration": 14,
        "start_time": "2023-05-14T21:52:32.027Z"
      },
      {
        "duration": 320,
        "start_time": "2023-05-14T21:52:32.250Z"
      },
      {
        "duration": 5,
        "start_time": "2023-05-14T21:52:33.187Z"
      },
      {
        "duration": 9,
        "start_time": "2023-05-14T21:52:33.436Z"
      },
      {
        "duration": 152,
        "start_time": "2023-05-14T21:52:33.872Z"
      },
      {
        "duration": 152,
        "start_time": "2023-05-14T21:52:34.318Z"
      },
      {
        "duration": 29,
        "start_time": "2023-05-14T21:52:35.184Z"
      },
      {
        "duration": 66,
        "start_time": "2023-05-14T21:52:35.418Z"
      },
      {
        "duration": 25,
        "start_time": "2023-05-14T21:52:35.623Z"
      },
      {
        "duration": 9,
        "start_time": "2023-05-14T21:52:35.841Z"
      },
      {
        "duration": 389,
        "start_time": "2023-05-14T21:52:36.056Z"
      },
      {
        "duration": 307,
        "start_time": "2023-05-14T21:52:36.447Z"
      },
      {
        "duration": 245,
        "start_time": "2023-05-14T21:52:36.756Z"
      },
      {
        "duration": 29,
        "start_time": "2023-05-14T21:52:37.003Z"
      },
      {
        "duration": 12,
        "start_time": "2023-05-14T21:52:37.376Z"
      },
      {
        "duration": 19,
        "start_time": "2023-05-14T21:52:37.833Z"
      },
      {
        "duration": 14,
        "start_time": "2023-05-14T21:52:38.127Z"
      },
      {
        "duration": 2,
        "start_time": "2023-05-14T21:52:38.376Z"
      },
      {
        "duration": 4,
        "start_time": "2023-05-14T21:52:38.642Z"
      },
      {
        "duration": 20,
        "start_time": "2023-05-14T21:52:38.928Z"
      },
      {
        "duration": 2,
        "start_time": "2023-05-14T21:52:39.140Z"
      },
      {
        "duration": 50,
        "start_time": "2023-05-14T21:52:39.393Z"
      },
      {
        "duration": 14,
        "start_time": "2023-05-14T21:52:40.318Z"
      },
      {
        "duration": 441,
        "start_time": "2023-05-14T21:52:40.568Z"
      },
      {
        "duration": 544,
        "start_time": "2023-05-14T21:52:41.221Z"
      },
      {
        "duration": 474,
        "start_time": "2023-05-14T21:52:41.767Z"
      },
      {
        "duration": 446,
        "start_time": "2023-05-14T21:52:42.246Z"
      },
      {
        "duration": 20,
        "start_time": "2023-05-14T21:52:42.694Z"
      },
      {
        "duration": 11,
        "start_time": "2023-05-14T21:52:43.560Z"
      },
      {
        "duration": 818,
        "start_time": "2023-05-14T21:52:44.688Z"
      },
      {
        "duration": 8,
        "start_time": "2023-05-14T21:52:45.512Z"
      },
      {
        "duration": 687,
        "start_time": "2023-05-14T21:52:45.530Z"
      },
      {
        "duration": 5,
        "start_time": "2023-05-14T21:52:46.219Z"
      },
      {
        "duration": 3,
        "start_time": "2023-05-14T21:52:46.680Z"
      },
      {
        "duration": 1077,
        "start_time": "2023-05-14T21:52:47.168Z"
      },
      {
        "duration": 6,
        "start_time": "2023-05-14T21:52:48.248Z"
      },
      {
        "duration": 4,
        "start_time": "2023-05-14T21:52:49.968Z"
      },
      {
        "duration": 6,
        "start_time": "2023-05-14T21:52:50.323Z"
      },
      {
        "duration": 6,
        "start_time": "2023-05-14T21:52:51.127Z"
      },
      {
        "duration": 248,
        "start_time": "2023-05-14T21:52:51.560Z"
      },
      {
        "duration": 3,
        "start_time": "2023-05-14T21:52:52.160Z"
      },
      {
        "duration": 2,
        "start_time": "2023-05-14T21:52:52.849Z"
      },
      {
        "duration": 4,
        "start_time": "2023-05-14T21:52:53.719Z"
      },
      {
        "duration": 4,
        "start_time": "2023-05-14T21:52:54.272Z"
      },
      {
        "duration": 44,
        "start_time": "2023-05-14T21:52:55.091Z"
      },
      {
        "duration": 8,
        "start_time": "2023-05-14T21:53:02.392Z"
      },
      {
        "duration": 4,
        "start_time": "2023-05-14T22:01:18.878Z"
      },
      {
        "duration": 2,
        "start_time": "2023-05-14T22:01:19.468Z"
      },
      {
        "duration": 3,
        "start_time": "2023-05-14T22:01:20.077Z"
      },
      {
        "duration": 3,
        "start_time": "2023-05-14T22:01:20.659Z"
      },
      {
        "duration": 34,
        "start_time": "2023-05-14T22:01:21.817Z"
      },
      {
        "duration": 3,
        "start_time": "2023-05-14T22:01:47.453Z"
      },
      {
        "duration": 174,
        "start_time": "2023-05-14T22:01:57.760Z"
      },
      {
        "duration": 24,
        "start_time": "2023-05-14T22:02:06.247Z"
      },
      {
        "duration": 4846,
        "start_time": "2023-05-14T22:02:25.040Z"
      },
      {
        "duration": 9,
        "start_time": "2023-05-14T22:03:20.901Z"
      },
      {
        "duration": 4,
        "start_time": "2023-05-14T22:03:21.495Z"
      },
      {
        "duration": 7,
        "start_time": "2023-05-14T22:03:22.019Z"
      },
      {
        "duration": 3,
        "start_time": "2023-05-14T22:03:22.871Z"
      },
      {
        "duration": 4992,
        "start_time": "2023-05-14T22:03:25.140Z"
      },
      {
        "duration": 33,
        "start_time": "2023-05-14T22:03:57.784Z"
      },
      {
        "duration": 21,
        "start_time": "2023-05-14T22:04:11.656Z"
      },
      {
        "duration": 9,
        "start_time": "2023-05-14T22:04:30.729Z"
      },
      {
        "duration": 3,
        "start_time": "2023-05-14T22:04:32.887Z"
      },
      {
        "duration": 4,
        "start_time": "2023-05-14T22:04:33.671Z"
      },
      {
        "duration": 5,
        "start_time": "2023-05-14T22:04:35.079Z"
      },
      {
        "duration": 26,
        "start_time": "2023-05-14T22:04:35.856Z"
      },
      {
        "duration": 2009,
        "start_time": "2023-05-15T06:39:10.769Z"
      },
      {
        "duration": 2411,
        "start_time": "2023-05-15T06:39:12.779Z"
      },
      {
        "duration": 30,
        "start_time": "2023-05-15T06:39:18.980Z"
      },
      {
        "duration": 6,
        "start_time": "2023-05-15T06:39:19.582Z"
      },
      {
        "duration": 15,
        "start_time": "2023-05-15T06:39:20.108Z"
      },
      {
        "duration": 8,
        "start_time": "2023-05-15T06:39:20.919Z"
      },
      {
        "duration": 125,
        "start_time": "2023-05-15T06:39:21.375Z"
      },
      {
        "duration": 19,
        "start_time": "2023-05-15T06:39:21.856Z"
      },
      {
        "duration": 5,
        "start_time": "2023-05-15T06:39:22.368Z"
      },
      {
        "duration": 11,
        "start_time": "2023-05-15T06:39:22.900Z"
      },
      {
        "duration": 20,
        "start_time": "2023-05-15T06:39:23.726Z"
      },
      {
        "duration": 719,
        "start_time": "2023-05-15T06:42:06.024Z"
      },
      {
        "duration": 18,
        "start_time": "2023-05-15T06:42:08.625Z"
      },
      {
        "duration": 13,
        "start_time": "2023-05-15T06:42:09.381Z"
      },
      {
        "duration": 18,
        "start_time": "2023-05-15T06:42:10.026Z"
      },
      {
        "duration": 8,
        "start_time": "2023-05-15T06:42:10.802Z"
      },
      {
        "duration": 120,
        "start_time": "2023-05-15T06:42:11.920Z"
      },
      {
        "duration": 21,
        "start_time": "2023-05-15T06:42:12.900Z"
      },
      {
        "duration": 6,
        "start_time": "2023-05-15T06:42:13.500Z"
      },
      {
        "duration": 13,
        "start_time": "2023-05-15T06:42:14.110Z"
      },
      {
        "duration": 32,
        "start_time": "2023-05-15T06:42:14.698Z"
      },
      {
        "duration": 17,
        "start_time": "2023-05-15T06:42:15.199Z"
      },
      {
        "duration": 12,
        "start_time": "2023-05-15T06:42:16.249Z"
      },
      {
        "duration": 19,
        "start_time": "2023-05-15T06:42:16.700Z"
      },
      {
        "duration": 5,
        "start_time": "2023-05-15T06:42:17.618Z"
      },
      {
        "duration": 6,
        "start_time": "2023-05-15T06:42:18.101Z"
      },
      {
        "duration": 91,
        "start_time": "2023-05-15T06:42:18.617Z"
      },
      {
        "duration": 4,
        "start_time": "2023-05-15T06:42:20.344Z"
      },
      {
        "duration": 5,
        "start_time": "2023-05-15T06:42:22.929Z"
      },
      {
        "duration": 307,
        "start_time": "2023-05-15T06:42:23.511Z"
      },
      {
        "duration": 5,
        "start_time": "2023-05-15T06:42:27.441Z"
      },
      {
        "duration": 7,
        "start_time": "2023-05-15T06:42:28.015Z"
      },
      {
        "duration": 100,
        "start_time": "2023-05-15T06:42:30.151Z"
      },
      {
        "duration": 99,
        "start_time": "2023-05-15T06:42:31.440Z"
      },
      {
        "duration": 12,
        "start_time": "2023-05-15T06:42:35.655Z"
      },
      {
        "duration": 17,
        "start_time": "2023-05-15T06:42:36.656Z"
      },
      {
        "duration": 20,
        "start_time": "2023-05-15T06:42:37.256Z"
      },
      {
        "duration": 9,
        "start_time": "2023-05-15T06:42:38.013Z"
      },
      {
        "duration": 430,
        "start_time": "2023-05-15T06:42:38.919Z"
      },
      {
        "duration": 225,
        "start_time": "2023-05-15T06:42:40.564Z"
      },
      {
        "duration": 208,
        "start_time": "2023-05-15T06:42:41.398Z"
      },
      {
        "duration": 21,
        "start_time": "2023-05-15T06:42:48.940Z"
      },
      {
        "duration": 14,
        "start_time": "2023-05-15T06:42:50.866Z"
      },
      {
        "duration": 16,
        "start_time": "2023-05-15T06:43:55.367Z"
      },
      {
        "duration": 11,
        "start_time": "2023-05-15T06:44:09.857Z"
      },
      {
        "duration": 2,
        "start_time": "2023-05-15T06:44:11.516Z"
      },
      {
        "duration": 4,
        "start_time": "2023-05-15T06:44:12.145Z"
      },
      {
        "duration": 22,
        "start_time": "2023-05-15T06:44:14.176Z"
      },
      {
        "duration": 10,
        "start_time": "2023-05-15T06:44:17.702Z"
      },
      {
        "duration": 2,
        "start_time": "2023-05-15T06:44:18.976Z"
      },
      {
        "duration": 9,
        "start_time": "2023-05-15T06:44:21.482Z"
      },
      {
        "duration": 17,
        "start_time": "2023-05-15T06:44:23.714Z"
      },
      {
        "duration": 3,
        "start_time": "2023-05-15T06:44:40.752Z"
      },
      {
        "duration": 17,
        "start_time": "2023-05-15T06:44:41.171Z"
      },
      {
        "duration": 6,
        "start_time": "2023-05-15T06:44:44.008Z"
      },
      {
        "duration": 389,
        "start_time": "2023-05-15T06:44:44.558Z"
      },
      {
        "duration": 426,
        "start_time": "2023-05-15T06:44:45.779Z"
      },
      {
        "duration": 539,
        "start_time": "2023-05-15T06:44:46.277Z"
      },
      {
        "duration": 408,
        "start_time": "2023-05-15T06:44:46.868Z"
      },
      {
        "duration": 3,
        "start_time": "2023-05-15T06:44:48.019Z"
      },
      {
        "duration": 8,
        "start_time": "2023-05-15T06:44:48.464Z"
      },
      {
        "duration": 490,
        "start_time": "2023-05-15T06:44:49.764Z"
      },
      {
        "duration": 4,
        "start_time": "2023-05-15T06:44:50.346Z"
      },
      {
        "duration": 547,
        "start_time": "2023-05-15T06:44:50.859Z"
      },
      {
        "duration": 4,
        "start_time": "2023-05-15T06:44:51.816Z"
      },
      {
        "duration": 6,
        "start_time": "2023-05-15T06:44:53.784Z"
      },
      {
        "duration": 896,
        "start_time": "2023-05-15T06:44:54.507Z"
      },
      {
        "duration": 7,
        "start_time": "2023-05-15T06:44:56.137Z"
      },
      {
        "duration": 4,
        "start_time": "2023-05-15T06:44:59.247Z"
      },
      {
        "duration": 3,
        "start_time": "2023-05-15T06:44:59.777Z"
      },
      {
        "duration": 268,
        "start_time": "2023-05-15T06:45:17.038Z"
      },
      {
        "duration": 166,
        "start_time": "2023-05-15T06:45:28.044Z"
      },
      {
        "duration": 3,
        "start_time": "2023-05-15T06:46:36.664Z"
      },
      {
        "duration": 3,
        "start_time": "2023-05-15T06:46:39.526Z"
      },
      {
        "duration": 11,
        "start_time": "2023-05-15T06:47:06.507Z"
      },
      {
        "duration": 11,
        "start_time": "2023-05-15T06:47:19.315Z"
      },
      {
        "duration": 3,
        "start_time": "2023-05-15T06:47:24.656Z"
      },
      {
        "duration": 9,
        "start_time": "2023-05-15T06:47:25.627Z"
      },
      {
        "duration": 3,
        "start_time": "2023-05-15T06:47:40.824Z"
      },
      {
        "duration": 18,
        "start_time": "2023-05-15T06:47:56.003Z"
      },
      {
        "duration": 303092,
        "start_time": "2023-05-15T06:53:05.748Z"
      },
      {
        "duration": 287,
        "start_time": "2023-05-15T07:00:41.819Z"
      },
      {
        "duration": 539,
        "start_time": "2023-05-15T07:01:14.217Z"
      },
      {
        "duration": 3054,
        "start_time": "2023-05-15T07:01:20.812Z"
      },
      {
        "duration": 8,
        "start_time": "2023-05-15T07:02:57.136Z"
      },
      {
        "duration": 46,
        "start_time": "2023-05-15T07:03:23.302Z"
      },
      {
        "duration": 3,
        "start_time": "2023-05-15T07:03:51.217Z"
      },
      {
        "duration": 3,
        "start_time": "2023-05-15T07:04:23.300Z"
      },
      {
        "duration": 236,
        "start_time": "2023-05-15T07:04:55.256Z"
      },
      {
        "duration": 3,
        "start_time": "2023-05-15T07:05:03.110Z"
      },
      {
        "duration": 3,
        "start_time": "2023-05-15T07:05:04.436Z"
      },
      {
        "duration": 3,
        "start_time": "2023-05-15T07:05:06.534Z"
      },
      {
        "duration": 28,
        "start_time": "2023-05-15T07:05:06.539Z"
      },
      {
        "duration": 3,
        "start_time": "2023-05-15T07:05:23.205Z"
      },
      {
        "duration": 3,
        "start_time": "2023-05-15T07:05:27.558Z"
      },
      {
        "duration": 631,
        "start_time": "2023-05-15T07:05:40.134Z"
      },
      {
        "duration": 5,
        "start_time": "2023-05-15T07:12:05.347Z"
      },
      {
        "duration": 9,
        "start_time": "2023-05-15T07:12:14.416Z"
      },
      {
        "duration": 9,
        "start_time": "2023-05-15T07:12:55.143Z"
      },
      {
        "duration": 8,
        "start_time": "2023-05-15T07:20:20.110Z"
      },
      {
        "duration": 11,
        "start_time": "2023-05-15T07:20:21.110Z"
      },
      {
        "duration": 3,
        "start_time": "2023-05-15T07:20:35.025Z"
      },
      {
        "duration": 10,
        "start_time": "2023-05-15T07:20:45.110Z"
      },
      {
        "duration": 3014,
        "start_time": "2023-05-15T07:21:19.428Z"
      },
      {
        "duration": 322,
        "start_time": "2023-05-15T07:22:28.615Z"
      },
      {
        "duration": 4,
        "start_time": "2023-05-15T07:23:56.232Z"
      },
      {
        "duration": 231,
        "start_time": "2023-05-15T07:23:58.439Z"
      },
      {
        "duration": 4,
        "start_time": "2023-05-15T07:24:59.777Z"
      },
      {
        "duration": 9,
        "start_time": "2023-05-15T07:25:00.769Z"
      },
      {
        "duration": 34,
        "start_time": "2023-05-15T07:25:08.430Z"
      },
      {
        "duration": 4,
        "start_time": "2023-05-15T07:26:36.646Z"
      },
      {
        "duration": 4,
        "start_time": "2023-05-15T07:26:37.032Z"
      },
      {
        "duration": 7,
        "start_time": "2023-05-15T07:26:54.381Z"
      },
      {
        "duration": 14,
        "start_time": "2023-05-15T07:26:55.182Z"
      },
      {
        "duration": 37,
        "start_time": "2023-05-15T07:27:01.285Z"
      },
      {
        "duration": 25,
        "start_time": "2023-05-15T07:27:13.206Z"
      },
      {
        "duration": 3,
        "start_time": "2023-05-15T07:27:29.430Z"
      },
      {
        "duration": 3,
        "start_time": "2023-05-15T07:27:30.439Z"
      },
      {
        "duration": 44,
        "start_time": "2023-05-15T07:27:35.083Z"
      },
      {
        "duration": 2,
        "start_time": "2023-05-15T07:28:25.936Z"
      },
      {
        "duration": 5,
        "start_time": "2023-05-15T07:28:26.529Z"
      },
      {
        "duration": 3,
        "start_time": "2023-05-15T07:28:30.257Z"
      },
      {
        "duration": 4,
        "start_time": "2023-05-15T07:28:50.363Z"
      },
      {
        "duration": 7,
        "start_time": "2023-05-15T07:28:51.773Z"
      },
      {
        "duration": 4,
        "start_time": "2023-05-15T07:29:32.538Z"
      },
      {
        "duration": 6,
        "start_time": "2023-05-15T07:29:33.503Z"
      },
      {
        "duration": 6,
        "start_time": "2023-05-15T07:29:34.017Z"
      },
      {
        "duration": 555,
        "start_time": "2023-05-15T07:29:35.357Z"
      },
      {
        "duration": 3,
        "start_time": "2023-05-15T07:31:48.137Z"
      },
      {
        "duration": 2,
        "start_time": "2023-05-15T07:31:48.642Z"
      },
      {
        "duration": 7,
        "start_time": "2023-05-15T07:31:51.434Z"
      },
      {
        "duration": 33,
        "start_time": "2023-05-15T07:32:00.586Z"
      },
      {
        "duration": 5,
        "start_time": "2023-05-15T07:32:42.243Z"
      },
      {
        "duration": 754,
        "start_time": "2023-05-15T07:32:43.010Z"
      },
      {
        "duration": 75,
        "start_time": "2023-05-15T07:32:45.043Z"
      },
      {
        "duration": 8,
        "start_time": "2023-05-15T07:32:45.882Z"
      },
      {
        "duration": 28,
        "start_time": "2023-05-15T07:32:46.684Z"
      },
      {
        "duration": 12,
        "start_time": "2023-05-15T07:32:47.404Z"
      },
      {
        "duration": 136,
        "start_time": "2023-05-15T07:32:47.890Z"
      },
      {
        "duration": 40,
        "start_time": "2023-05-15T07:32:48.219Z"
      },
      {
        "duration": 9,
        "start_time": "2023-05-15T07:32:48.483Z"
      },
      {
        "duration": 13,
        "start_time": "2023-05-15T07:32:48.703Z"
      },
      {
        "duration": 62,
        "start_time": "2023-05-15T07:32:48.907Z"
      },
      {
        "duration": 19,
        "start_time": "2023-05-15T07:32:49.109Z"
      },
      {
        "duration": 9,
        "start_time": "2023-05-15T07:32:49.324Z"
      },
      {
        "duration": 107,
        "start_time": "2023-05-15T07:32:49.548Z"
      },
      {
        "duration": 7,
        "start_time": "2023-05-15T07:32:49.758Z"
      },
      {
        "duration": 7,
        "start_time": "2023-05-15T07:32:49.961Z"
      },
      {
        "duration": 103,
        "start_time": "2023-05-15T07:32:50.199Z"
      },
      {
        "duration": 4,
        "start_time": "2023-05-15T07:32:50.411Z"
      },
      {
        "duration": 9,
        "start_time": "2023-05-15T07:32:50.879Z"
      },
      {
        "duration": 362,
        "start_time": "2023-05-15T07:32:51.153Z"
      },
      {
        "duration": 11,
        "start_time": "2023-05-15T07:32:51.880Z"
      },
      {
        "duration": 15,
        "start_time": "2023-05-15T07:32:52.082Z"
      },
      {
        "duration": 129,
        "start_time": "2023-05-15T07:32:52.966Z"
      },
      {
        "duration": 133,
        "start_time": "2023-05-15T07:32:53.478Z"
      },
      {
        "duration": 14,
        "start_time": "2023-05-15T07:32:54.921Z"
      },
      {
        "duration": 58,
        "start_time": "2023-05-15T07:32:55.538Z"
      },
      {
        "duration": 19,
        "start_time": "2023-05-15T07:32:56.029Z"
      },
      {
        "duration": 9,
        "start_time": "2023-05-15T07:32:56.652Z"
      },
      {
        "duration": 338,
        "start_time": "2023-05-15T07:32:57.174Z"
      },
      {
        "duration": 262,
        "start_time": "2023-05-15T07:32:57.922Z"
      },
      {
        "duration": 230,
        "start_time": "2023-05-15T07:32:58.544Z"
      },
      {
        "duration": 21,
        "start_time": "2023-05-15T07:32:59.214Z"
      },
      {
        "duration": 7,
        "start_time": "2023-05-15T07:33:00.800Z"
      },
      {
        "duration": 2,
        "start_time": "2023-05-15T07:33:01.314Z"
      },
      {
        "duration": 3,
        "start_time": "2023-05-15T07:33:01.822Z"
      },
      {
        "duration": 3,
        "start_time": "2023-05-15T07:33:02.210Z"
      },
      {
        "duration": 4,
        "start_time": "2023-05-15T07:33:04.127Z"
      },
      {
        "duration": 402,
        "start_time": "2023-05-15T07:33:07.612Z"
      },
      {
        "duration": 401,
        "start_time": "2023-05-15T07:33:08.016Z"
      },
      {
        "duration": 496,
        "start_time": "2023-05-15T07:33:08.419Z"
      },
      {
        "duration": 401,
        "start_time": "2023-05-15T07:33:08.917Z"
      },
      {
        "duration": 3,
        "start_time": "2023-05-15T07:33:09.320Z"
      },
      {
        "duration": 9,
        "start_time": "2023-05-15T07:33:09.325Z"
      },
      {
        "duration": 591,
        "start_time": "2023-05-15T07:33:09.335Z"
      },
      {
        "duration": 4,
        "start_time": "2023-05-15T07:33:10.016Z"
      },
      {
        "duration": 591,
        "start_time": "2023-05-15T07:33:10.708Z"
      },
      {
        "duration": 13,
        "start_time": "2023-05-15T07:33:12.282Z"
      },
      {
        "duration": 3,
        "start_time": "2023-05-15T07:33:13.411Z"
      },
      {
        "duration": 985,
        "start_time": "2023-05-15T07:33:13.710Z"
      },
      {
        "duration": 8,
        "start_time": "2023-05-15T07:33:14.697Z"
      },
      {
        "duration": 4,
        "start_time": "2023-05-15T07:33:16.027Z"
      },
      {
        "duration": 4,
        "start_time": "2023-05-15T07:33:16.419Z"
      },
      {
        "duration": 7,
        "start_time": "2023-05-15T07:33:17.499Z"
      },
      {
        "duration": 6,
        "start_time": "2023-05-15T07:33:18.082Z"
      },
      {
        "duration": 268,
        "start_time": "2023-05-15T07:33:18.845Z"
      },
      {
        "duration": 4,
        "start_time": "2023-05-15T07:33:19.810Z"
      },
      {
        "duration": 3,
        "start_time": "2023-05-15T07:33:20.426Z"
      },
      {
        "duration": 4,
        "start_time": "2023-05-15T07:33:21.624Z"
      },
      {
        "duration": 4,
        "start_time": "2023-05-15T07:33:23.207Z"
      },
      {
        "duration": 8,
        "start_time": "2023-05-15T07:33:24.165Z"
      },
      {
        "duration": 26,
        "start_time": "2023-05-15T07:33:25.303Z"
      },
      {
        "duration": 4,
        "start_time": "2023-05-15T07:37:03.382Z"
      },
      {
        "duration": 3,
        "start_time": "2023-05-15T07:37:04.009Z"
      },
      {
        "duration": 21,
        "start_time": "2023-05-15T07:37:04.484Z"
      },
      {
        "duration": 34,
        "start_time": "2023-05-15T07:37:05.868Z"
      },
      {
        "duration": 3,
        "start_time": "2023-05-15T07:37:44.225Z"
      },
      {
        "duration": 7,
        "start_time": "2023-05-15T07:37:44.684Z"
      },
      {
        "duration": 3,
        "start_time": "2023-05-15T07:37:45.231Z"
      },
      {
        "duration": 7,
        "start_time": "2023-05-15T07:37:45.883Z"
      },
      {
        "duration": 32,
        "start_time": "2023-05-15T07:37:47.380Z"
      },
      {
        "duration": 5,
        "start_time": "2023-05-15T07:38:47.784Z"
      },
      {
        "duration": 3,
        "start_time": "2023-05-15T07:38:49.699Z"
      },
      {
        "duration": 5,
        "start_time": "2023-05-15T07:38:50.159Z"
      },
      {
        "duration": 21,
        "start_time": "2023-05-15T07:38:50.842Z"
      },
      {
        "duration": 4,
        "start_time": "2023-05-15T07:40:05.896Z"
      },
      {
        "duration": 3,
        "start_time": "2023-05-15T07:40:06.613Z"
      },
      {
        "duration": 4,
        "start_time": "2023-05-15T07:40:07.097Z"
      },
      {
        "duration": 4,
        "start_time": "2023-05-15T07:40:07.596Z"
      },
      {
        "duration": 10,
        "start_time": "2023-05-15T07:40:08.179Z"
      },
      {
        "duration": 23,
        "start_time": "2023-05-15T07:40:09.111Z"
      },
      {
        "duration": 4,
        "start_time": "2023-05-15T07:42:00.932Z"
      },
      {
        "duration": 3,
        "start_time": "2023-05-15T07:42:01.134Z"
      },
      {
        "duration": 3,
        "start_time": "2023-05-15T07:42:04.003Z"
      },
      {
        "duration": 4,
        "start_time": "2023-05-15T07:42:04.614Z"
      },
      {
        "duration": 8,
        "start_time": "2023-05-15T07:42:05.117Z"
      },
      {
        "duration": 460,
        "start_time": "2023-05-15T07:42:05.783Z"
      },
      {
        "duration": 2,
        "start_time": "2023-05-15T07:42:18.658Z"
      },
      {
        "duration": 2,
        "start_time": "2023-05-15T07:42:20.280Z"
      },
      {
        "duration": 417,
        "start_time": "2023-05-15T07:42:22.600Z"
      },
      {
        "duration": 268,
        "start_time": "2023-05-15T07:42:27.427Z"
      },
      {
        "duration": 16,
        "start_time": "2023-05-15T07:42:42.483Z"
      },
      {
        "duration": 4,
        "start_time": "2023-05-15T07:43:31.655Z"
      },
      {
        "duration": 3,
        "start_time": "2023-05-15T07:43:32.322Z"
      },
      {
        "duration": 3,
        "start_time": "2023-05-15T07:43:32.811Z"
      },
      {
        "duration": 3,
        "start_time": "2023-05-15T07:43:33.328Z"
      },
      {
        "duration": 7,
        "start_time": "2023-05-15T07:43:33.951Z"
      },
      {
        "duration": 354,
        "start_time": "2023-05-15T07:43:35.305Z"
      },
      {
        "duration": 2,
        "start_time": "2023-05-15T07:43:36.721Z"
      },
      {
        "duration": 3,
        "start_time": "2023-05-15T07:43:37.256Z"
      },
      {
        "duration": 338,
        "start_time": "2023-05-15T07:43:37.964Z"
      },
      {
        "duration": 247,
        "start_time": "2023-05-15T07:43:39.267Z"
      },
      {
        "duration": 7,
        "start_time": "2023-05-15T07:44:34.585Z"
      },
      {
        "duration": 4,
        "start_time": "2023-05-15T07:44:35.104Z"
      },
      {
        "duration": 238,
        "start_time": "2023-05-15T07:44:35.924Z"
      },
      {
        "duration": 3,
        "start_time": "2023-05-15T07:44:36.825Z"
      },
      {
        "duration": 2,
        "start_time": "2023-05-15T07:44:37.423Z"
      },
      {
        "duration": 4,
        "start_time": "2023-05-15T07:44:38.061Z"
      },
      {
        "duration": 3,
        "start_time": "2023-05-15T07:44:38.604Z"
      },
      {
        "duration": 8,
        "start_time": "2023-05-15T07:44:39.203Z"
      },
      {
        "duration": 352,
        "start_time": "2023-05-15T07:44:40.498Z"
      },
      {
        "duration": 3,
        "start_time": "2023-05-15T07:44:44.007Z"
      },
      {
        "duration": 2,
        "start_time": "2023-05-15T07:44:45.230Z"
      },
      {
        "duration": 382,
        "start_time": "2023-05-15T07:44:45.948Z"
      },
      {
        "duration": 231,
        "start_time": "2023-05-15T07:44:47.784Z"
      },
      {
        "duration": 5,
        "start_time": "2023-05-15T07:47:44.895Z"
      },
      {
        "duration": 5,
        "start_time": "2023-05-15T07:47:45.985Z"
      },
      {
        "duration": 8,
        "start_time": "2023-05-15T07:47:50.899Z"
      },
      {
        "duration": 2276,
        "start_time": "2023-05-15T07:48:16.513Z"
      },
      {
        "duration": 8,
        "start_time": "2023-05-15T07:49:54.583Z"
      },
      {
        "duration": 3,
        "start_time": "2023-05-15T07:50:44.981Z"
      },
      {
        "duration": 4,
        "start_time": "2023-05-15T07:50:47.047Z"
      },
      {
        "duration": 3,
        "start_time": "2023-05-15T07:50:48.716Z"
      },
      {
        "duration": 9,
        "start_time": "2023-05-15T07:50:50.854Z"
      },
      {
        "duration": 2675,
        "start_time": "2023-05-15T07:50:52.011Z"
      },
      {
        "duration": 3,
        "start_time": "2023-05-15T07:52:33.453Z"
      },
      {
        "duration": 2,
        "start_time": "2023-05-15T07:52:34.625Z"
      },
      {
        "duration": 4,
        "start_time": "2023-05-15T07:52:36.301Z"
      },
      {
        "duration": 3,
        "start_time": "2023-05-15T07:52:36.948Z"
      },
      {
        "duration": 8,
        "start_time": "2023-05-15T07:52:37.966Z"
      },
      {
        "duration": 2763,
        "start_time": "2023-05-15T07:52:39.281Z"
      },
      {
        "duration": 14,
        "start_time": "2023-05-15T08:05:28.080Z"
      },
      {
        "duration": 3,
        "start_time": "2023-05-15T08:05:28.550Z"
      },
      {
        "duration": 7,
        "start_time": "2023-05-15T08:05:30.231Z"
      },
      {
        "duration": 12,
        "start_time": "2023-05-15T08:05:31.490Z"
      },
      {
        "duration": 320,
        "start_time": "2023-05-15T08:05:32.608Z"
      },
      {
        "duration": 5,
        "start_time": "2023-05-15T08:05:35.905Z"
      },
      {
        "duration": 7,
        "start_time": "2023-05-15T08:05:36.132Z"
      },
      {
        "duration": 3,
        "start_time": "2023-05-15T08:05:36.349Z"
      },
      {
        "duration": 7,
        "start_time": "2023-05-15T08:05:36.581Z"
      },
      {
        "duration": 3,
        "start_time": "2023-05-15T08:05:36.854Z"
      },
      {
        "duration": 3090,
        "start_time": "2023-05-15T08:05:37.924Z"
      },
      {
        "duration": 7,
        "start_time": "2023-05-15T08:05:46.281Z"
      },
      {
        "duration": 362,
        "start_time": "2023-05-15T10:48:42.257Z"
      },
      {
        "duration": 11,
        "start_time": "2023-05-15T10:48:46.881Z"
      },
      {
        "duration": 5,
        "start_time": "2023-05-15T10:48:47.463Z"
      },
      {
        "duration": 494,
        "start_time": "2023-05-15T10:48:48.269Z"
      },
      {
        "duration": 2,
        "start_time": "2023-05-15T10:48:57.943Z"
      },
      {
        "duration": 19,
        "start_time": "2023-05-15T10:53:50.351Z"
      },
      {
        "duration": 64,
        "start_time": "2023-05-15T10:54:11.280Z"
      },
      {
        "duration": 55,
        "start_time": "2023-05-15T11:03:03.455Z"
      },
      {
        "duration": 66,
        "start_time": "2023-05-15T11:03:26.203Z"
      },
      {
        "duration": 9,
        "start_time": "2023-05-15T11:06:43.998Z"
      },
      {
        "duration": 59,
        "start_time": "2023-05-15T11:06:44.881Z"
      },
      {
        "duration": 31,
        "start_time": "2023-05-15T11:07:10.706Z"
      },
      {
        "duration": 17,
        "start_time": "2023-05-15T11:07:32.011Z"
      },
      {
        "duration": 16,
        "start_time": "2023-05-15T11:09:14.336Z"
      },
      {
        "duration": 22,
        "start_time": "2023-05-15T11:09:22.484Z"
      },
      {
        "duration": 58,
        "start_time": "2023-05-15T11:09:23.985Z"
      },
      {
        "duration": 8,
        "start_time": "2023-05-15T11:09:32.313Z"
      },
      {
        "duration": 8,
        "start_time": "2023-05-15T11:09:35.625Z"
      },
      {
        "duration": 33,
        "start_time": "2023-05-15T11:09:36.916Z"
      },
      {
        "duration": 6,
        "start_time": "2023-05-15T11:09:44.388Z"
      },
      {
        "duration": 54,
        "start_time": "2023-05-15T11:09:47.604Z"
      },
      {
        "duration": 11,
        "start_time": "2023-05-15T11:10:52.907Z"
      },
      {
        "duration": 52,
        "start_time": "2023-05-15T11:10:53.554Z"
      },
      {
        "duration": 4,
        "start_time": "2023-05-15T11:10:58.825Z"
      },
      {
        "duration": 3,
        "start_time": "2023-05-15T11:11:00.326Z"
      },
      {
        "duration": 4891,
        "start_time": "2023-05-15T11:11:01.161Z"
      },
      {
        "duration": 9841,
        "start_time": "2023-05-15T11:11:20.800Z"
      },
      {
        "duration": 10,
        "start_time": "2023-05-15T11:21:26.638Z"
      },
      {
        "duration": 6323,
        "start_time": "2023-05-15T11:21:41.361Z"
      },
      {
        "duration": 15518,
        "start_time": "2023-05-15T11:21:59.298Z"
      },
      {
        "duration": 47740,
        "start_time": "2023-05-15T11:22:32.631Z"
      },
      {
        "duration": 8,
        "start_time": "2023-05-15T11:29:56.891Z"
      },
      {
        "duration": 3,
        "start_time": "2023-05-15T11:29:57.620Z"
      },
      {
        "duration": 48,
        "start_time": "2023-05-15T11:29:58.961Z"
      },
      {
        "duration": 7,
        "start_time": "2023-05-15T11:30:06.104Z"
      },
      {
        "duration": 6211,
        "start_time": "2023-05-15T11:30:41.979Z"
      },
      {
        "duration": 14,
        "start_time": "2023-05-15T11:46:31.510Z"
      },
      {
        "duration": 7507,
        "start_time": "2023-05-15T11:46:39.503Z"
      },
      {
        "duration": 7660,
        "start_time": "2023-05-15T11:47:08.278Z"
      },
      {
        "duration": 424150,
        "start_time": "2023-05-15T11:48:39.454Z"
      },
      {
        "duration": 243,
        "start_time": "2023-05-15T11:55:43.605Z"
      },
      {
        "duration": 5694,
        "start_time": "2023-05-15T12:10:48.534Z"
      },
      {
        "duration": 13431,
        "start_time": "2023-05-15T12:11:01.447Z"
      },
      {
        "duration": 3889,
        "start_time": "2023-05-15T12:11:41.541Z"
      },
      {
        "duration": 5334,
        "start_time": "2023-05-15T12:14:31.923Z"
      },
      {
        "duration": 5212,
        "start_time": "2023-05-15T12:15:17.257Z"
      },
      {
        "duration": 12142,
        "start_time": "2023-05-15T12:15:32.585Z"
      },
      {
        "duration": 67,
        "start_time": "2023-05-15T13:02:45.359Z"
      },
      {
        "duration": 7049,
        "start_time": "2023-05-15T13:02:54.151Z"
      },
      {
        "duration": 62165,
        "start_time": "2023-05-15T13:03:51.186Z"
      },
      {
        "duration": 33503,
        "start_time": "2023-05-15T13:05:08.693Z"
      },
      {
        "duration": 34673,
        "start_time": "2023-05-15T13:06:36.456Z"
      },
      {
        "duration": 127149,
        "start_time": "2023-05-15T13:07:29.458Z"
      },
      {
        "duration": 41228,
        "start_time": "2023-05-15T13:09:58.408Z"
      },
      {
        "duration": 133817,
        "start_time": "2023-05-15T13:10:39.638Z"
      },
      {
        "duration": 367284,
        "start_time": "2023-05-15T13:13:02.162Z"
      },
      {
        "duration": 229362,
        "start_time": "2023-05-15T13:19:48.031Z"
      },
      {
        "duration": 301295,
        "start_time": "2023-05-15T13:23:40.808Z"
      },
      {
        "duration": 374726,
        "start_time": "2023-05-15T13:41:11.500Z"
      },
      {
        "duration": 91,
        "start_time": "2023-05-15T16:23:10.294Z"
      },
      {
        "duration": 2542,
        "start_time": "2023-05-15T16:23:21.772Z"
      },
      {
        "duration": 5628,
        "start_time": "2023-05-15T16:23:24.317Z"
      },
      {
        "duration": 1071,
        "start_time": "2023-05-15T16:23:31.831Z"
      },
      {
        "duration": 46,
        "start_time": "2023-05-15T16:23:34.936Z"
      },
      {
        "duration": 24,
        "start_time": "2023-05-15T16:23:36.303Z"
      },
      {
        "duration": 46,
        "start_time": "2023-05-15T16:23:37.075Z"
      },
      {
        "duration": 15,
        "start_time": "2023-05-15T16:23:37.774Z"
      },
      {
        "duration": 203,
        "start_time": "2023-05-15T16:23:38.294Z"
      },
      {
        "duration": 40,
        "start_time": "2023-05-15T16:23:38.731Z"
      },
      {
        "duration": 9,
        "start_time": "2023-05-15T16:23:39.111Z"
      },
      {
        "duration": 19,
        "start_time": "2023-05-15T16:23:40.248Z"
      },
      {
        "duration": 43,
        "start_time": "2023-05-15T16:23:40.269Z"
      },
      {
        "duration": 28,
        "start_time": "2023-05-15T16:23:40.416Z"
      },
      {
        "duration": 24,
        "start_time": "2023-05-15T16:23:40.806Z"
      },
      {
        "duration": 41,
        "start_time": "2023-05-15T16:23:41.257Z"
      },
      {
        "duration": 9,
        "start_time": "2023-05-15T16:23:41.622Z"
      },
      {
        "duration": 9,
        "start_time": "2023-05-15T16:23:41.924Z"
      },
      {
        "duration": 143,
        "start_time": "2023-05-15T16:23:42.215Z"
      },
      {
        "duration": 4,
        "start_time": "2023-05-15T16:23:42.446Z"
      },
      {
        "duration": 15,
        "start_time": "2023-05-15T16:23:42.874Z"
      },
      {
        "duration": 344,
        "start_time": "2023-05-15T16:23:43.101Z"
      },
      {
        "duration": 8,
        "start_time": "2023-05-15T16:23:43.719Z"
      },
      {
        "duration": 12,
        "start_time": "2023-05-15T16:23:43.926Z"
      },
      {
        "duration": 165,
        "start_time": "2023-05-15T16:23:44.349Z"
      },
      {
        "duration": 163,
        "start_time": "2023-05-15T16:23:44.774Z"
      },
      {
        "duration": 46,
        "start_time": "2023-05-15T16:23:45.675Z"
      },
      {
        "duration": 37,
        "start_time": "2023-05-15T16:23:45.919Z"
      },
      {
        "duration": 35,
        "start_time": "2023-05-15T16:23:46.126Z"
      },
      {
        "duration": 12,
        "start_time": "2023-05-15T16:23:46.341Z"
      },
      {
        "duration": 767,
        "start_time": "2023-05-15T16:23:46.570Z"
      },
      {
        "duration": 392,
        "start_time": "2023-05-15T16:23:47.341Z"
      },
      {
        "duration": 319,
        "start_time": "2023-05-15T16:23:47.739Z"
      },
      {
        "duration": 49,
        "start_time": "2023-05-15T16:23:48.061Z"
      },
      {
        "duration": 4,
        "start_time": "2023-05-15T16:23:48.112Z"
      },
      {
        "duration": 3,
        "start_time": "2023-05-15T16:23:48.118Z"
      },
      {
        "duration": 6,
        "start_time": "2023-05-15T16:23:48.526Z"
      },
      {
        "duration": 3,
        "start_time": "2023-05-15T16:23:48.734Z"
      },
      {
        "duration": 5,
        "start_time": "2023-05-15T16:23:49.416Z"
      },
      {
        "duration": 543,
        "start_time": "2023-05-15T16:23:49.632Z"
      },
      {
        "duration": 563,
        "start_time": "2023-05-15T16:23:50.178Z"
      },
      {
        "duration": 644,
        "start_time": "2023-05-15T16:23:50.743Z"
      },
      {
        "duration": 570,
        "start_time": "2023-05-15T16:23:51.399Z"
      },
      {
        "duration": 4,
        "start_time": "2023-05-15T16:23:51.978Z"
      },
      {
        "duration": 22,
        "start_time": "2023-05-15T16:23:51.984Z"
      },
      {
        "duration": 721,
        "start_time": "2023-05-15T16:23:52.009Z"
      },
      {
        "duration": 5,
        "start_time": "2023-05-15T16:23:52.732Z"
      },
      {
        "duration": 706,
        "start_time": "2023-05-15T16:23:52.739Z"
      },
      {
        "duration": 8,
        "start_time": "2023-05-15T16:23:53.447Z"
      },
      {
        "duration": 8,
        "start_time": "2023-05-15T16:23:53.458Z"
      },
      {
        "duration": 1434,
        "start_time": "2023-05-15T16:23:53.935Z"
      },
      {
        "duration": 9,
        "start_time": "2023-05-15T16:23:55.377Z"
      },
      {
        "duration": 5,
        "start_time": "2023-05-15T16:23:56.113Z"
      },
      {
        "duration": 3,
        "start_time": "2023-05-15T16:23:56.422Z"
      },
      {
        "duration": 15,
        "start_time": "2023-05-15T16:23:57.197Z"
      },
      {
        "duration": 3,
        "start_time": "2023-05-15T16:23:57.710Z"
      },
      {
        "duration": 26,
        "start_time": "2023-05-15T16:23:59.128Z"
      },
      {
        "duration": 7,
        "start_time": "2023-05-15T16:24:01.722Z"
      },
      {
        "duration": 144,
        "start_time": "2023-05-15T16:24:03.675Z"
      },
      {
        "duration": 43340,
        "start_time": "2023-05-15T16:24:06.512Z"
      },
      {
        "duration": 44907,
        "start_time": "2023-05-15T16:29:10.778Z"
      },
      {
        "duration": 341498,
        "start_time": "2023-05-15T16:32:16.302Z"
      },
      {
        "duration": 362305,
        "start_time": "2023-05-15T16:39:31.732Z"
      },
      {
        "duration": 302,
        "start_time": "2023-05-15T16:46:36.917Z"
      },
      {
        "duration": 9875,
        "start_time": "2023-05-15T16:46:46.844Z"
      },
      {
        "duration": 35,
        "start_time": "2023-05-15T16:54:00.391Z"
      },
      {
        "duration": 3,
        "start_time": "2023-05-15T16:54:24.326Z"
      },
      {
        "duration": 26,
        "start_time": "2023-05-15T16:54:37.059Z"
      },
      {
        "duration": 11,
        "start_time": "2023-05-15T16:58:27.653Z"
      },
      {
        "duration": 27,
        "start_time": "2023-05-15T16:58:58.208Z"
      },
      {
        "duration": 17,
        "start_time": "2023-05-15T17:01:55.525Z"
      },
      {
        "duration": 9568,
        "start_time": "2023-05-15T17:02:03.200Z"
      },
      {
        "duration": 22,
        "start_time": "2023-05-15T17:02:19.946Z"
      },
      {
        "duration": 1910,
        "start_time": "2023-05-15T17:19:14.138Z"
      },
      {
        "duration": 0,
        "start_time": "2023-05-15T17:19:16.050Z"
      },
      {
        "duration": 31,
        "start_time": "2023-05-15T17:19:46.006Z"
      },
      {
        "duration": 6,
        "start_time": "2023-05-15T17:19:59.020Z"
      },
      {
        "duration": 9379,
        "start_time": "2023-05-15T17:20:00.067Z"
      },
      {
        "duration": 37,
        "start_time": "2023-05-15T17:20:09.450Z"
      },
      {
        "duration": 469,
        "start_time": "2023-05-15T17:33:00.066Z"
      },
      {
        "duration": 20,
        "start_time": "2023-05-15T17:47:22.055Z"
      },
      {
        "duration": 21,
        "start_time": "2023-05-15T17:48:15.717Z"
      },
      {
        "duration": 28,
        "start_time": "2023-05-15T17:52:27.106Z"
      },
      {
        "duration": 4,
        "start_time": "2023-05-15T17:53:18.294Z"
      },
      {
        "duration": 837,
        "start_time": "2023-05-15T17:53:18.834Z"
      },
      {
        "duration": 26,
        "start_time": "2023-05-15T17:53:20.010Z"
      },
      {
        "duration": 5,
        "start_time": "2023-05-15T17:53:20.418Z"
      },
      {
        "duration": 23,
        "start_time": "2023-05-15T17:53:20.748Z"
      },
      {
        "duration": 12,
        "start_time": "2023-05-15T17:53:21.026Z"
      },
      {
        "duration": 132,
        "start_time": "2023-05-15T17:53:21.597Z"
      },
      {
        "duration": 27,
        "start_time": "2023-05-15T17:53:21.996Z"
      },
      {
        "duration": 7,
        "start_time": "2023-05-15T17:53:22.338Z"
      },
      {
        "duration": 16,
        "start_time": "2023-05-15T17:53:22.627Z"
      },
      {
        "duration": 34,
        "start_time": "2023-05-15T17:53:22.860Z"
      },
      {
        "duration": 18,
        "start_time": "2023-05-15T17:53:23.094Z"
      },
      {
        "duration": 12,
        "start_time": "2023-05-15T17:53:23.355Z"
      },
      {
        "duration": 25,
        "start_time": "2023-05-15T17:53:23.612Z"
      },
      {
        "duration": 8,
        "start_time": "2023-05-15T17:53:23.858Z"
      },
      {
        "duration": 7,
        "start_time": "2023-05-15T17:53:24.458Z"
      },
      {
        "duration": 120,
        "start_time": "2023-05-15T17:53:24.748Z"
      },
      {
        "duration": 4,
        "start_time": "2023-05-15T17:53:25.034Z"
      },
      {
        "duration": 31,
        "start_time": "2023-05-15T17:53:25.570Z"
      },
      {
        "duration": 263,
        "start_time": "2023-05-15T17:53:25.820Z"
      },
      {
        "duration": 6,
        "start_time": "2023-05-15T17:53:26.810Z"
      },
      {
        "duration": 11,
        "start_time": "2023-05-15T17:53:27.059Z"
      },
      {
        "duration": 136,
        "start_time": "2023-05-15T17:53:27.613Z"
      },
      {
        "duration": 133,
        "start_time": "2023-05-15T17:53:28.138Z"
      },
      {
        "duration": 14,
        "start_time": "2023-05-15T17:53:29.295Z"
      },
      {
        "duration": 27,
        "start_time": "2023-05-15T17:53:29.523Z"
      },
      {
        "duration": 27,
        "start_time": "2023-05-15T17:53:29.763Z"
      },
      {
        "duration": 9,
        "start_time": "2023-05-15T17:53:30.746Z"
      },
      {
        "duration": 353,
        "start_time": "2023-05-15T17:53:31.098Z"
      },
      {
        "duration": 400,
        "start_time": "2023-05-15T17:53:31.659Z"
      },
      {
        "duration": 234,
        "start_time": "2023-05-15T17:53:32.062Z"
      },
      {
        "duration": 30,
        "start_time": "2023-05-15T17:53:32.306Z"
      },
      {
        "duration": 3,
        "start_time": "2023-05-15T17:53:32.763Z"
      },
      {
        "duration": 3,
        "start_time": "2023-05-15T17:53:33.418Z"
      },
      {
        "duration": 3,
        "start_time": "2023-05-15T17:53:33.698Z"
      },
      {
        "duration": 3,
        "start_time": "2023-05-15T17:53:33.914Z"
      },
      {
        "duration": 4,
        "start_time": "2023-05-15T17:53:35.010Z"
      },
      {
        "duration": 562,
        "start_time": "2023-05-15T17:53:35.235Z"
      },
      {
        "duration": 484,
        "start_time": "2023-05-15T17:53:35.799Z"
      },
      {
        "duration": 419,
        "start_time": "2023-05-15T17:53:36.288Z"
      },
      {
        "duration": 564,
        "start_time": "2023-05-15T17:53:36.709Z"
      },
      {
        "duration": 4,
        "start_time": "2023-05-15T17:53:37.282Z"
      },
      {
        "duration": 10,
        "start_time": "2023-05-15T17:53:37.626Z"
      },
      {
        "duration": 678,
        "start_time": "2023-05-15T17:53:38.818Z"
      },
      {
        "duration": 6,
        "start_time": "2023-05-15T17:53:40.303Z"
      },
      {
        "duration": 650,
        "start_time": "2023-05-15T17:53:41.291Z"
      },
      {
        "duration": 8,
        "start_time": "2023-05-15T17:53:42.978Z"
      },
      {
        "duration": 3,
        "start_time": "2023-05-15T17:53:45.631Z"
      },
      {
        "duration": 1089,
        "start_time": "2023-05-15T17:53:46.278Z"
      },
      {
        "duration": 9,
        "start_time": "2023-05-15T17:53:47.835Z"
      },
      {
        "duration": 3,
        "start_time": "2023-05-15T17:53:49.555Z"
      },
      {
        "duration": 4,
        "start_time": "2023-05-15T17:53:50.917Z"
      },
      {
        "duration": 9,
        "start_time": "2023-05-15T17:53:58.619Z"
      },
      {
        "duration": 7,
        "start_time": "2023-05-15T17:53:59.887Z"
      },
      {
        "duration": 23,
        "start_time": "2023-05-15T17:54:00.612Z"
      },
      {
        "duration": 4,
        "start_time": "2023-05-15T17:54:02.051Z"
      },
      {
        "duration": 253,
        "start_time": "2023-05-15T17:54:02.988Z"
      },
      {
        "duration": 36413,
        "start_time": "2023-05-15T17:54:06.931Z"
      },
      {
        "duration": 37514,
        "start_time": "2023-05-15T17:54:43.347Z"
      },
      {
        "duration": 322131,
        "start_time": "2023-05-15T17:55:20.863Z"
      },
      {
        "duration": 313550,
        "start_time": "2023-05-15T18:00:42.996Z"
      },
      {
        "duration": 38,
        "start_time": "2023-05-15T18:05:56.548Z"
      },
      {
        "duration": 1684,
        "start_time": "2023-05-15T20:14:30.251Z"
      },
      {
        "duration": 2093,
        "start_time": "2023-05-15T20:14:35.144Z"
      },
      {
        "duration": 29,
        "start_time": "2023-05-15T20:14:38.599Z"
      },
      {
        "duration": 5,
        "start_time": "2023-05-15T20:14:39.655Z"
      },
      {
        "duration": 17,
        "start_time": "2023-05-15T20:14:40.471Z"
      },
      {
        "duration": 9,
        "start_time": "2023-05-15T20:14:41.088Z"
      },
      {
        "duration": 126,
        "start_time": "2023-05-15T20:14:42.015Z"
      },
      {
        "duration": 32,
        "start_time": "2023-05-15T20:14:42.951Z"
      },
      {
        "duration": 6,
        "start_time": "2023-05-15T20:14:43.656Z"
      },
      {
        "duration": 13,
        "start_time": "2023-05-15T20:14:44.275Z"
      },
      {
        "duration": 23,
        "start_time": "2023-05-15T20:14:44.898Z"
      },
      {
        "duration": 18,
        "start_time": "2023-05-15T20:14:45.480Z"
      },
      {
        "duration": 10,
        "start_time": "2023-05-15T20:14:46.082Z"
      },
      {
        "duration": 36,
        "start_time": "2023-05-15T20:14:46.995Z"
      },
      {
        "duration": 6,
        "start_time": "2023-05-15T20:14:47.993Z"
      },
      {
        "duration": 6,
        "start_time": "2023-05-15T20:14:49.029Z"
      },
      {
        "duration": 94,
        "start_time": "2023-05-15T20:14:49.705Z"
      },
      {
        "duration": 3,
        "start_time": "2023-05-15T20:14:50.682Z"
      },
      {
        "duration": 9,
        "start_time": "2023-05-15T20:14:52.568Z"
      },
      {
        "duration": 257,
        "start_time": "2023-05-15T20:14:53.418Z"
      },
      {
        "duration": 7,
        "start_time": "2023-05-15T20:14:55.841Z"
      },
      {
        "duration": 9,
        "start_time": "2023-05-15T20:14:57.401Z"
      },
      {
        "duration": 114,
        "start_time": "2023-05-15T20:14:59.045Z"
      },
      {
        "duration": 108,
        "start_time": "2023-05-15T20:15:00.684Z"
      },
      {
        "duration": 13,
        "start_time": "2023-05-15T20:15:04.057Z"
      },
      {
        "duration": 31,
        "start_time": "2023-05-15T20:15:04.826Z"
      },
      {
        "duration": 25,
        "start_time": "2023-05-15T20:15:05.450Z"
      },
      {
        "duration": 11,
        "start_time": "2023-05-15T20:15:06.105Z"
      },
      {
        "duration": 508,
        "start_time": "2023-05-15T20:15:08.409Z"
      },
      {
        "duration": 252,
        "start_time": "2023-05-15T20:15:09.353Z"
      },
      {
        "duration": 240,
        "start_time": "2023-05-15T20:15:14.008Z"
      },
      {
        "duration": 25,
        "start_time": "2023-05-15T20:15:14.793Z"
      },
      {
        "duration": 4,
        "start_time": "2023-05-15T20:15:16.321Z"
      },
      {
        "duration": 2,
        "start_time": "2023-05-15T20:15:17.201Z"
      },
      {
        "duration": 2,
        "start_time": "2023-05-15T20:15:17.737Z"
      },
      {
        "duration": 3,
        "start_time": "2023-05-15T20:15:18.233Z"
      },
      {
        "duration": 3,
        "start_time": "2023-05-15T20:15:19.877Z"
      },
      {
        "duration": 451,
        "start_time": "2023-05-15T20:15:20.986Z"
      },
      {
        "duration": 438,
        "start_time": "2023-05-15T20:15:22.705Z"
      },
      {
        "duration": 528,
        "start_time": "2023-05-15T20:15:23.714Z"
      },
      {
        "duration": 402,
        "start_time": "2023-05-15T20:15:24.504Z"
      },
      {
        "duration": 3,
        "start_time": "2023-05-15T20:15:26.424Z"
      },
      {
        "duration": 10,
        "start_time": "2023-05-15T20:15:27.152Z"
      },
      {
        "duration": 557,
        "start_time": "2023-05-15T20:15:33.721Z"
      },
      {
        "duration": 5,
        "start_time": "2023-05-15T20:15:34.295Z"
      },
      {
        "duration": 575,
        "start_time": "2023-05-15T20:15:35.004Z"
      },
      {
        "duration": 4,
        "start_time": "2023-05-15T20:15:35.704Z"
      },
      {
        "duration": 3,
        "start_time": "2023-05-15T20:15:39.322Z"
      },
      {
        "duration": 1039,
        "start_time": "2023-05-15T20:15:40.234Z"
      },
      {
        "duration": 6,
        "start_time": "2023-05-15T20:15:46.609Z"
      },
      {
        "duration": 3,
        "start_time": "2023-05-15T20:15:48.555Z"
      },
      {
        "duration": 4,
        "start_time": "2023-05-15T20:15:49.078Z"
      },
      {
        "duration": 8,
        "start_time": "2023-05-15T20:15:51.297Z"
      },
      {
        "duration": 3,
        "start_time": "2023-05-15T20:15:54.735Z"
      },
      {
        "duration": 22,
        "start_time": "2023-05-15T20:15:55.282Z"
      },
      {
        "duration": 4,
        "start_time": "2023-05-15T20:15:55.833Z"
      },
      {
        "duration": 255,
        "start_time": "2023-05-15T20:15:56.481Z"
      },
      {
        "duration": 38023,
        "start_time": "2023-05-15T20:15:57.545Z"
      },
      {
        "duration": 37567,
        "start_time": "2023-05-15T20:16:35.569Z"
      },
      {
        "duration": 348918,
        "start_time": "2023-05-15T20:17:27.625Z"
      },
      {
        "duration": 328488,
        "start_time": "2023-05-15T20:23:16.546Z"
      },
      {
        "duration": 152,
        "start_time": "2023-05-15T20:29:04.529Z"
      },
      {
        "duration": 14,
        "start_time": "2023-05-15T20:29:59.632Z"
      },
      {
        "duration": 16,
        "start_time": "2023-05-15T20:30:06.113Z"
      },
      {
        "duration": 13,
        "start_time": "2023-05-15T20:30:19.856Z"
      },
      {
        "duration": 18,
        "start_time": "2023-05-15T20:30:35.930Z"
      },
      {
        "duration": 13,
        "start_time": "2023-05-15T20:30:44.873Z"
      },
      {
        "duration": 13,
        "start_time": "2023-05-15T20:31:05.313Z"
      },
      {
        "duration": 20,
        "start_time": "2023-05-15T20:31:12.581Z"
      },
      {
        "duration": 13,
        "start_time": "2023-05-15T20:31:30.450Z"
      },
      {
        "duration": 13,
        "start_time": "2023-05-15T20:31:46.754Z"
      },
      {
        "duration": 10,
        "start_time": "2023-05-15T20:31:51.785Z"
      },
      {
        "duration": 11,
        "start_time": "2023-05-15T20:32:04.970Z"
      },
      {
        "duration": 11,
        "start_time": "2023-05-15T20:32:16.001Z"
      },
      {
        "duration": 10,
        "start_time": "2023-05-15T20:33:27.731Z"
      },
      {
        "duration": 10,
        "start_time": "2023-05-15T20:33:36.922Z"
      },
      {
        "duration": 10,
        "start_time": "2023-05-15T20:33:53.899Z"
      },
      {
        "duration": 17,
        "start_time": "2023-05-15T20:34:25.576Z"
      },
      {
        "duration": 21,
        "start_time": "2023-05-15T20:34:39.114Z"
      },
      {
        "duration": 13,
        "start_time": "2023-05-15T20:34:54.203Z"
      },
      {
        "duration": 11,
        "start_time": "2023-05-15T20:35:05.117Z"
      },
      {
        "duration": 11,
        "start_time": "2023-05-15T20:36:43.307Z"
      },
      {
        "duration": 20,
        "start_time": "2023-05-15T20:37:45.733Z"
      },
      {
        "duration": 15,
        "start_time": "2023-05-15T20:37:57.205Z"
      },
      {
        "duration": 727,
        "start_time": "2023-05-15T20:38:43.756Z"
      },
      {
        "duration": 26,
        "start_time": "2023-05-15T20:38:58.492Z"
      },
      {
        "duration": 4,
        "start_time": "2023-05-15T20:39:28.644Z"
      },
      {
        "duration": 29,
        "start_time": "2023-05-15T20:40:14.320Z"
      },
      {
        "duration": 6,
        "start_time": "2023-05-15T20:40:21.733Z"
      },
      {
        "duration": 13,
        "start_time": "2023-05-15T20:40:23.413Z"
      },
      {
        "duration": 29,
        "start_time": "2023-05-15T20:40:24.071Z"
      },
      {
        "duration": 18,
        "start_time": "2023-05-15T20:40:24.952Z"
      },
      {
        "duration": 10,
        "start_time": "2023-05-15T20:40:26.222Z"
      },
      {
        "duration": 25,
        "start_time": "2023-05-15T20:40:32.918Z"
      },
      {
        "duration": 6,
        "start_time": "2023-05-15T20:40:33.925Z"
      },
      {
        "duration": 8,
        "start_time": "2023-05-15T20:40:35.332Z"
      },
      {
        "duration": 100,
        "start_time": "2023-05-15T20:40:36.725Z"
      },
      {
        "duration": 4,
        "start_time": "2023-05-15T20:40:37.493Z"
      },
      {
        "duration": 11,
        "start_time": "2023-05-15T20:40:43.357Z"
      },
      {
        "duration": 256,
        "start_time": "2023-05-15T20:40:43.918Z"
      },
      {
        "duration": 6,
        "start_time": "2023-05-15T20:40:48.940Z"
      },
      {
        "duration": 10,
        "start_time": "2023-05-15T20:40:49.525Z"
      },
      {
        "duration": 112,
        "start_time": "2023-05-15T20:41:05.181Z"
      },
      {
        "duration": 123,
        "start_time": "2023-05-15T20:41:05.749Z"
      },
      {
        "duration": 15,
        "start_time": "2023-05-15T20:41:07.077Z"
      },
      {
        "duration": 23,
        "start_time": "2023-05-15T20:41:07.455Z"
      },
      {
        "duration": 19,
        "start_time": "2023-05-15T20:41:08.046Z"
      },
      {
        "duration": 9,
        "start_time": "2023-05-15T20:41:08.629Z"
      },
      {
        "duration": 328,
        "start_time": "2023-05-15T20:41:09.557Z"
      },
      {
        "duration": 247,
        "start_time": "2023-05-15T20:41:20.694Z"
      },
      {
        "duration": 321,
        "start_time": "2023-05-15T20:41:21.004Z"
      },
      {
        "duration": 16,
        "start_time": "2023-05-15T20:41:41.772Z"
      },
      {
        "duration": 18,
        "start_time": "2023-05-15T20:41:58.894Z"
      },
      {
        "duration": 19,
        "start_time": "2023-05-15T20:42:30.078Z"
      },
      {
        "duration": 21,
        "start_time": "2023-05-15T20:42:52.983Z"
      },
      {
        "duration": 16,
        "start_time": "2023-05-15T20:43:07.503Z"
      },
      {
        "duration": 11,
        "start_time": "2023-05-15T20:43:29.799Z"
      },
      {
        "duration": 11,
        "start_time": "2023-05-15T20:43:50.885Z"
      },
      {
        "duration": 10,
        "start_time": "2023-05-15T20:45:08.440Z"
      },
      {
        "duration": 16,
        "start_time": "2023-05-15T20:45:59.760Z"
      },
      {
        "duration": 16,
        "start_time": "2023-05-15T20:55:35.253Z"
      },
      {
        "duration": 22,
        "start_time": "2023-05-15T20:57:09.407Z"
      },
      {
        "duration": 7,
        "start_time": "2023-05-15T20:57:41.119Z"
      },
      {
        "duration": 99,
        "start_time": "2023-05-15T20:58:15.423Z"
      },
      {
        "duration": 14,
        "start_time": "2023-05-15T20:58:22.376Z"
      },
      {
        "duration": 28,
        "start_time": "2023-05-15T20:59:22.808Z"
      },
      {
        "duration": 31,
        "start_time": "2023-05-15T20:59:34.443Z"
      },
      {
        "duration": 5,
        "start_time": "2023-05-15T20:59:49.744Z"
      },
      {
        "duration": 756,
        "start_time": "2023-05-15T20:59:50.370Z"
      },
      {
        "duration": 24,
        "start_time": "2023-05-15T20:59:51.792Z"
      },
      {
        "duration": 5,
        "start_time": "2023-05-15T20:59:52.215Z"
      },
      {
        "duration": 18,
        "start_time": "2023-05-15T20:59:52.872Z"
      },
      {
        "duration": 10,
        "start_time": "2023-05-15T20:59:55.159Z"
      },
      {
        "duration": 129,
        "start_time": "2023-05-15T20:59:56.665Z"
      },
      {
        "duration": 25,
        "start_time": "2023-05-15T20:59:57.720Z"
      },
      {
        "duration": 6,
        "start_time": "2023-05-15T20:59:58.247Z"
      },
      {
        "duration": 12,
        "start_time": "2023-05-15T20:59:58.886Z"
      },
      {
        "duration": 22,
        "start_time": "2023-05-15T21:00:00.208Z"
      },
      {
        "duration": 19,
        "start_time": "2023-05-15T21:00:00.727Z"
      },
      {
        "duration": 11,
        "start_time": "2023-05-15T21:00:01.206Z"
      },
      {
        "duration": 27,
        "start_time": "2023-05-15T21:00:05.488Z"
      },
      {
        "duration": 6,
        "start_time": "2023-05-15T21:00:06.858Z"
      },
      {
        "duration": 7,
        "start_time": "2023-05-15T21:00:09.847Z"
      },
      {
        "duration": 91,
        "start_time": "2023-05-15T21:00:11.007Z"
      },
      {
        "duration": 4,
        "start_time": "2023-05-15T21:00:13.159Z"
      },
      {
        "duration": 14,
        "start_time": "2023-05-15T21:00:19.215Z"
      },
      {
        "duration": 266,
        "start_time": "2023-05-15T21:00:19.896Z"
      },
      {
        "duration": 6,
        "start_time": "2023-05-15T21:00:28.175Z"
      },
      {
        "duration": 10,
        "start_time": "2023-05-15T21:00:28.847Z"
      },
      {
        "duration": 115,
        "start_time": "2023-05-15T21:00:33.039Z"
      },
      {
        "duration": 106,
        "start_time": "2023-05-15T21:00:34.056Z"
      },
      {
        "duration": 31,
        "start_time": "2023-05-15T21:00:54.401Z"
      },
      {
        "duration": 22,
        "start_time": "2023-05-15T21:00:58.163Z"
      },
      {
        "duration": 9,
        "start_time": "2023-05-15T21:00:59.824Z"
      },
      {
        "duration": 329150,
        "start_time": "2023-05-15T21:01:00.976Z"
      },
      {
        "duration": 272,
        "start_time": "2023-05-15T21:06:30.128Z"
      },
      {
        "duration": 219,
        "start_time": "2023-05-15T21:06:30.402Z"
      },
      {
        "duration": 38,
        "start_time": "2023-05-15T21:06:30.623Z"
      },
      {
        "duration": 3,
        "start_time": "2023-05-15T21:06:30.663Z"
      },
      {
        "duration": 51,
        "start_time": "2023-05-15T21:06:30.668Z"
      },
      {
        "duration": 29,
        "start_time": "2023-05-15T21:06:30.721Z"
      },
      {
        "duration": 50,
        "start_time": "2023-05-15T21:06:30.752Z"
      },
      {
        "duration": 51,
        "start_time": "2023-05-15T21:06:30.804Z"
      },
      {
        "duration": 477,
        "start_time": "2023-05-15T21:06:30.857Z"
      },
      {
        "duration": 451,
        "start_time": "2023-05-15T21:06:31.336Z"
      },
      {
        "duration": 438,
        "start_time": "2023-05-15T21:06:31.788Z"
      },
      {
        "duration": 522,
        "start_time": "2023-05-15T21:06:32.228Z"
      },
      {
        "duration": 4,
        "start_time": "2023-05-15T21:06:32.751Z"
      },
      {
        "duration": 16,
        "start_time": "2023-05-15T21:06:32.757Z"
      },
      {
        "duration": 597,
        "start_time": "2023-05-15T21:06:32.775Z"
      },
      {
        "duration": 5,
        "start_time": "2023-05-15T21:06:33.373Z"
      },
      {
        "duration": 587,
        "start_time": "2023-05-15T21:06:33.380Z"
      },
      {
        "duration": 5,
        "start_time": "2023-05-15T21:06:33.968Z"
      },
      {
        "duration": 18,
        "start_time": "2023-05-15T21:06:33.974Z"
      },
      {
        "duration": 924,
        "start_time": "2023-05-15T21:06:33.994Z"
      },
      {
        "duration": 6,
        "start_time": "2023-05-15T21:06:34.920Z"
      },
      {
        "duration": 24,
        "start_time": "2023-05-15T21:06:34.928Z"
      },
      {
        "duration": 32,
        "start_time": "2023-05-15T21:06:34.954Z"
      },
      {
        "duration": 260,
        "start_time": "2023-05-15T21:09:36.420Z"
      },
      {
        "duration": 2,
        "start_time": "2023-05-15T21:09:41.893Z"
      },
      {
        "duration": 11,
        "start_time": "2023-05-15T21:22:36.355Z"
      },
      {
        "duration": 3,
        "start_time": "2023-05-15T21:22:36.907Z"
      },
      {
        "duration": 21,
        "start_time": "2023-05-15T21:22:37.755Z"
      },
      {
        "duration": 4,
        "start_time": "2023-05-15T21:22:38.683Z"
      },
      {
        "duration": 257,
        "start_time": "2023-05-15T21:22:39.555Z"
      },
      {
        "duration": 12,
        "start_time": "2023-05-15T21:22:58.348Z"
      },
      {
        "duration": 10,
        "start_time": "2023-05-15T21:23:14.192Z"
      },
      {
        "duration": 11,
        "start_time": "2023-05-15T21:23:41.932Z"
      },
      {
        "duration": 20,
        "start_time": "2023-05-15T21:23:52.940Z"
      },
      {
        "duration": 19,
        "start_time": "2023-05-15T21:24:10.501Z"
      },
      {
        "duration": 919,
        "start_time": "2023-05-15T21:24:17.170Z"
      },
      {
        "duration": 13,
        "start_time": "2023-05-15T21:25:25.157Z"
      },
      {
        "duration": 16,
        "start_time": "2023-05-15T21:25:37.473Z"
      },
      {
        "duration": 22,
        "start_time": "2023-05-15T21:25:48.694Z"
      },
      {
        "duration": 17,
        "start_time": "2023-05-15T21:26:54.733Z"
      },
      {
        "duration": 22,
        "start_time": "2023-05-15T21:27:04.517Z"
      },
      {
        "duration": 1126,
        "start_time": "2023-05-15T21:27:24.613Z"
      },
      {
        "duration": 819,
        "start_time": "2023-05-15T21:27:38.183Z"
      },
      {
        "duration": 17,
        "start_time": "2023-05-15T21:27:56.622Z"
      },
      {
        "duration": 23,
        "start_time": "2023-05-15T21:28:37.279Z"
      },
      {
        "duration": 13,
        "start_time": "2023-05-15T21:28:59.256Z"
      },
      {
        "duration": 21,
        "start_time": "2023-05-15T21:29:35.032Z"
      },
      {
        "duration": 14,
        "start_time": "2023-05-15T21:29:36.230Z"
      },
      {
        "duration": 884,
        "start_time": "2023-05-15T21:30:13.784Z"
      },
      {
        "duration": 21,
        "start_time": "2023-05-15T21:30:43.785Z"
      },
      {
        "duration": 16,
        "start_time": "2023-05-15T21:32:35.373Z"
      },
      {
        "duration": 14,
        "start_time": "2023-05-15T21:32:48.859Z"
      },
      {
        "duration": 21,
        "start_time": "2023-05-15T21:33:21.773Z"
      },
      {
        "duration": 24,
        "start_time": "2023-05-15T21:34:03.129Z"
      },
      {
        "duration": 13,
        "start_time": "2023-05-15T21:34:50.213Z"
      },
      {
        "duration": 14,
        "start_time": "2023-05-15T21:34:56.778Z"
      },
      {
        "duration": 16,
        "start_time": "2023-05-15T21:35:30.395Z"
      },
      {
        "duration": 12,
        "start_time": "2023-05-15T21:35:40.506Z"
      },
      {
        "duration": 6,
        "start_time": "2023-05-15T21:35:50.994Z"
      },
      {
        "duration": 15,
        "start_time": "2023-05-15T21:36:05.331Z"
      },
      {
        "duration": 37,
        "start_time": "2023-05-15T21:36:28.914Z"
      },
      {
        "duration": 16,
        "start_time": "2023-05-15T21:36:41.212Z"
      },
      {
        "duration": 13,
        "start_time": "2023-05-15T21:36:43.954Z"
      },
      {
        "duration": 9989,
        "start_time": "2023-05-15T21:37:16.820Z"
      },
      {
        "duration": 11,
        "start_time": "2023-05-15T21:37:30.071Z"
      },
      {
        "duration": 16,
        "start_time": "2023-05-15T21:38:20.876Z"
      },
      {
        "duration": 16,
        "start_time": "2023-05-15T21:39:09.472Z"
      },
      {
        "duration": 8,
        "start_time": "2023-05-15T21:39:37.125Z"
      },
      {
        "duration": 4,
        "start_time": "2023-05-15T21:41:32.724Z"
      },
      {
        "duration": 1425,
        "start_time": "2023-05-15T21:45:47.352Z"
      },
      {
        "duration": 2,
        "start_time": "2023-05-15T21:48:37.378Z"
      },
      {
        "duration": 7,
        "start_time": "2023-05-15T21:50:03.776Z"
      },
      {
        "duration": 8,
        "start_time": "2023-05-15T21:52:28.259Z"
      },
      {
        "duration": 16,
        "start_time": "2023-05-15T21:54:18.978Z"
      },
      {
        "duration": 10153,
        "start_time": "2023-05-15T21:54:20.660Z"
      },
      {
        "duration": 42,
        "start_time": "2023-05-15T21:54:30.815Z"
      },
      {
        "duration": 5,
        "start_time": "2023-05-15T21:54:30.859Z"
      },
      {
        "duration": 25,
        "start_time": "2023-05-15T21:54:30.867Z"
      },
      {
        "duration": 2,
        "start_time": "2023-05-15T21:55:19.085Z"
      },
      {
        "duration": 3,
        "start_time": "2023-05-15T21:55:33.877Z"
      },
      {
        "duration": 11,
        "start_time": "2023-05-15T21:55:46.917Z"
      },
      {
        "duration": 4,
        "start_time": "2023-05-15T21:56:11.189Z"
      },
      {
        "duration": 4,
        "start_time": "2023-05-15T21:56:11.820Z"
      },
      {
        "duration": 4,
        "start_time": "2023-05-15T21:56:12.279Z"
      },
      {
        "duration": 422445,
        "start_time": "2023-05-15T21:58:05.576Z"
      },
      {
        "duration": 10,
        "start_time": "2023-05-15T22:06:50.212Z"
      },
      {
        "duration": 4,
        "start_time": "2023-05-15T22:07:02.084Z"
      },
      {
        "duration": 5,
        "start_time": "2023-05-15T22:07:13.397Z"
      },
      {
        "duration": 4,
        "start_time": "2023-05-15T22:07:38.131Z"
      },
      {
        "duration": 4,
        "start_time": "2023-05-15T22:07:50.860Z"
      },
      {
        "duration": 10,
        "start_time": "2023-05-15T22:09:16.005Z"
      },
      {
        "duration": 11,
        "start_time": "2023-05-15T22:10:19.152Z"
      },
      {
        "duration": 8,
        "start_time": "2023-05-15T22:10:52.886Z"
      },
      {
        "duration": 5,
        "start_time": "2023-05-15T22:14:22.904Z"
      },
      {
        "duration": 722,
        "start_time": "2023-05-15T22:14:23.352Z"
      },
      {
        "duration": 23,
        "start_time": "2023-05-15T22:14:24.815Z"
      },
      {
        "duration": 7,
        "start_time": "2023-05-15T22:14:25.337Z"
      },
      {
        "duration": 18,
        "start_time": "2023-05-15T22:14:25.696Z"
      },
      {
        "duration": 10,
        "start_time": "2023-05-15T22:14:26.022Z"
      },
      {
        "duration": 149,
        "start_time": "2023-05-15T22:14:26.541Z"
      },
      {
        "duration": 27,
        "start_time": "2023-05-15T22:14:27.238Z"
      },
      {
        "duration": 7,
        "start_time": "2023-05-15T22:14:27.759Z"
      },
      {
        "duration": 11,
        "start_time": "2023-05-15T22:14:28.326Z"
      },
      {
        "duration": 22,
        "start_time": "2023-05-15T22:14:28.865Z"
      },
      {
        "duration": 25,
        "start_time": "2023-05-15T22:14:29.344Z"
      },
      {
        "duration": 13,
        "start_time": "2023-05-15T22:14:29.855Z"
      },
      {
        "duration": 35,
        "start_time": "2023-05-15T22:14:30.360Z"
      },
      {
        "duration": 8,
        "start_time": "2023-05-15T22:14:31.312Z"
      },
      {
        "duration": 9,
        "start_time": "2023-05-15T22:14:31.743Z"
      },
      {
        "duration": 95,
        "start_time": "2023-05-15T22:14:32.159Z"
      },
      {
        "duration": 4,
        "start_time": "2023-05-15T22:14:32.504Z"
      },
      {
        "duration": 12,
        "start_time": "2023-05-15T22:14:33.178Z"
      },
      {
        "duration": 254,
        "start_time": "2023-05-15T22:14:33.497Z"
      },
      {
        "duration": 5,
        "start_time": "2023-05-15T22:14:34.552Z"
      },
      {
        "duration": 11,
        "start_time": "2023-05-15T22:14:34.824Z"
      },
      {
        "duration": 115,
        "start_time": "2023-05-15T22:14:35.347Z"
      },
      {
        "duration": 110,
        "start_time": "2023-05-15T22:14:35.881Z"
      },
      {
        "duration": 3,
        "start_time": "2023-05-15T22:14:36.807Z"
      },
      {
        "duration": 21,
        "start_time": "2023-05-15T22:14:37.040Z"
      },
      {
        "duration": 20,
        "start_time": "2023-05-15T22:14:37.274Z"
      },
      {
        "duration": 13,
        "start_time": "2023-05-15T22:14:37.513Z"
      },
      {
        "duration": 2,
        "start_time": "2023-05-15T22:14:37.792Z"
      },
      {
        "duration": 270,
        "start_time": "2023-05-15T22:14:38.032Z"
      },
      {
        "duration": 214,
        "start_time": "2023-05-15T22:14:38.304Z"
      },
      {
        "duration": 35,
        "start_time": "2023-05-15T22:14:38.523Z"
      },
      {
        "duration": 2,
        "start_time": "2023-05-15T22:14:39.256Z"
      },
      {
        "duration": 2,
        "start_time": "2023-05-15T22:14:39.737Z"
      },
      {
        "duration": 2,
        "start_time": "2023-05-15T22:14:39.978Z"
      },
      {
        "duration": 4,
        "start_time": "2023-05-15T22:14:40.719Z"
      },
      {
        "duration": 442,
        "start_time": "2023-05-15T22:14:41.015Z"
      },
      {
        "duration": 420,
        "start_time": "2023-05-15T22:14:41.656Z"
      },
      {
        "duration": 516,
        "start_time": "2023-05-15T22:14:42.256Z"
      },
      {
        "duration": 474,
        "start_time": "2023-05-15T22:14:42.775Z"
      },
      {
        "duration": 4,
        "start_time": "2023-05-15T22:14:43.984Z"
      },
      {
        "duration": 10,
        "start_time": "2023-05-15T22:14:44.519Z"
      },
      {
        "duration": 601,
        "start_time": "2023-05-15T22:14:45.506Z"
      },
      {
        "duration": 4,
        "start_time": "2023-05-15T22:14:46.109Z"
      },
      {
        "duration": 615,
        "start_time": "2023-05-15T22:14:46.478Z"
      },
      {
        "duration": 5,
        "start_time": "2023-05-15T22:14:47.096Z"
      },
      {
        "duration": 3,
        "start_time": "2023-05-15T22:14:48.297Z"
      },
      {
        "duration": 2212,
        "start_time": "2023-05-15T22:14:48.808Z"
      },
      {
        "duration": 7,
        "start_time": "2023-05-15T22:14:51.023Z"
      },
      {
        "duration": 3,
        "start_time": "2023-05-15T22:14:51.476Z"
      },
      {
        "duration": 10,
        "start_time": "2023-05-15T22:14:52.520Z"
      },
      {
        "duration": 3,
        "start_time": "2023-05-15T22:14:52.935Z"
      },
      {
        "duration": 22,
        "start_time": "2023-05-15T22:14:53.456Z"
      },
      {
        "duration": 3,
        "start_time": "2023-05-15T22:14:53.856Z"
      },
      {
        "duration": 251,
        "start_time": "2023-05-15T22:14:54.274Z"
      },
      {
        "duration": 3,
        "start_time": "2023-05-15T22:14:55.078Z"
      },
      {
        "duration": 2,
        "start_time": "2023-05-15T22:14:55.624Z"
      },
      {
        "duration": 3,
        "start_time": "2023-05-15T22:14:56.224Z"
      },
      {
        "duration": 3,
        "start_time": "2023-05-15T22:14:57.296Z"
      },
      {
        "duration": 20,
        "start_time": "2023-05-15T22:14:58.616Z"
      },
      {
        "duration": 3,
        "start_time": "2023-05-15T22:14:59.922Z"
      },
      {
        "duration": 2,
        "start_time": "2023-05-15T22:15:00.751Z"
      },
      {
        "duration": 3,
        "start_time": "2023-05-15T22:15:01.255Z"
      },
      {
        "duration": 3,
        "start_time": "2023-05-15T22:15:01.903Z"
      },
      {
        "duration": 4,
        "start_time": "2023-05-15T22:15:02.424Z"
      },
      {
        "duration": 3,
        "start_time": "2023-05-15T22:15:03.584Z"
      },
      {
        "duration": 3,
        "start_time": "2023-05-15T22:15:04.617Z"
      },
      {
        "duration": 4,
        "start_time": "2023-05-15T22:15:08.280Z"
      },
      {
        "duration": 420220,
        "start_time": "2023-05-15T22:15:09.704Z"
      },
      {
        "duration": 9,
        "start_time": "2023-05-15T22:22:09.926Z"
      },
      {
        "duration": 5,
        "start_time": "2023-05-15T22:22:44.477Z"
      },
      {
        "duration": 4,
        "start_time": "2023-05-15T22:22:47.819Z"
      },
      {
        "duration": 4,
        "start_time": "2023-05-15T22:22:49.036Z"
      },
      {
        "duration": 23,
        "start_time": "2023-05-15T22:22:49.827Z"
      },
      {
        "duration": 19,
        "start_time": "2023-05-15T22:22:53.367Z"
      },
      {
        "duration": 8,
        "start_time": "2023-05-15T22:22:54.884Z"
      },
      {
        "duration": 9,
        "start_time": "2023-05-15T22:24:55.412Z"
      },
      {
        "duration": 6,
        "start_time": "2023-05-15T22:25:21.148Z"
      },
      {
        "duration": 3,
        "start_time": "2023-05-15T22:25:26.525Z"
      },
      {
        "duration": 10,
        "start_time": "2023-05-15T22:25:41.629Z"
      },
      {
        "duration": 3,
        "start_time": "2023-05-15T22:25:50.853Z"
      },
      {
        "duration": 9,
        "start_time": "2023-05-15T22:25:51.910Z"
      },
      {
        "duration": 6,
        "start_time": "2023-05-15T22:27:46.877Z"
      },
      {
        "duration": 3,
        "start_time": "2023-05-15T22:28:22.751Z"
      },
      {
        "duration": 8,
        "start_time": "2023-05-15T22:29:12.176Z"
      },
      {
        "duration": 6,
        "start_time": "2023-05-15T22:29:48.560Z"
      },
      {
        "duration": 727,
        "start_time": "2023-05-15T22:29:49.231Z"
      },
      {
        "duration": 27,
        "start_time": "2023-05-15T22:29:51.494Z"
      },
      {
        "duration": 5,
        "start_time": "2023-05-15T22:29:52.543Z"
      },
      {
        "duration": 18,
        "start_time": "2023-05-15T22:29:53.144Z"
      },
      {
        "duration": 9,
        "start_time": "2023-05-15T22:29:53.711Z"
      },
      {
        "duration": 129,
        "start_time": "2023-05-15T22:29:54.279Z"
      },
      {
        "duration": 27,
        "start_time": "2023-05-15T22:29:56.408Z"
      },
      {
        "duration": 6,
        "start_time": "2023-05-15T22:29:57.095Z"
      },
      {
        "duration": 12,
        "start_time": "2023-05-15T22:29:58.117Z"
      },
      {
        "duration": 24,
        "start_time": "2023-05-15T22:29:58.801Z"
      },
      {
        "duration": 20,
        "start_time": "2023-05-15T22:29:59.455Z"
      },
      {
        "duration": 10,
        "start_time": "2023-05-15T22:30:00.519Z"
      },
      {
        "duration": 27,
        "start_time": "2023-05-15T22:30:02.112Z"
      },
      {
        "duration": 7,
        "start_time": "2023-05-15T22:30:02.751Z"
      },
      {
        "duration": 7,
        "start_time": "2023-05-15T22:30:03.398Z"
      },
      {
        "duration": 89,
        "start_time": "2023-05-15T22:30:04.047Z"
      },
      {
        "duration": 3,
        "start_time": "2023-05-15T22:30:04.688Z"
      },
      {
        "duration": 11,
        "start_time": "2023-05-15T22:30:05.927Z"
      },
      {
        "duration": 258,
        "start_time": "2023-05-15T22:30:06.513Z"
      },
      {
        "duration": 6,
        "start_time": "2023-05-15T22:30:08.399Z"
      },
      {
        "duration": 11,
        "start_time": "2023-05-15T22:30:09.199Z"
      },
      {
        "duration": 107,
        "start_time": "2023-05-15T22:30:11.503Z"
      },
      {
        "duration": 111,
        "start_time": "2023-05-15T22:30:12.679Z"
      },
      {
        "duration": 2,
        "start_time": "2023-05-15T22:30:16.159Z"
      },
      {
        "duration": 3,
        "start_time": "2023-05-15T22:30:55.512Z"
      },
      {
        "duration": 20,
        "start_time": "2023-05-15T22:30:56.073Z"
      },
      {
        "duration": 2,
        "start_time": "2023-05-15T22:33:11.713Z"
      },
      {
        "duration": 22,
        "start_time": "2023-05-15T22:33:12.360Z"
      },
      {
        "duration": 22,
        "start_time": "2023-05-15T22:33:12.960Z"
      },
      {
        "duration": 11,
        "start_time": "2023-05-15T22:33:13.593Z"
      },
      {
        "duration": 2,
        "start_time": "2023-05-15T22:33:14.217Z"
      },
      {
        "duration": 237,
        "start_time": "2023-05-15T22:33:15.393Z"
      },
      {
        "duration": 231,
        "start_time": "2023-05-15T22:33:31.562Z"
      },
      {
        "duration": 29,
        "start_time": "2023-05-15T22:35:31.483Z"
      },
      {
        "duration": 2,
        "start_time": "2023-05-15T22:36:20.946Z"
      },
      {
        "duration": 3,
        "start_time": "2023-05-15T22:36:21.827Z"
      },
      {
        "duration": 3,
        "start_time": "2023-05-15T22:36:22.563Z"
      },
      {
        "duration": 4,
        "start_time": "2023-05-15T22:36:25.602Z"
      },
      {
        "duration": 551,
        "start_time": "2023-05-15T22:36:28.209Z"
      },
      {
        "duration": 407,
        "start_time": "2023-05-15T22:36:28.963Z"
      },
      {
        "duration": 426,
        "start_time": "2023-05-15T22:36:30.402Z"
      },
      {
        "duration": 451,
        "start_time": "2023-05-15T22:36:31.697Z"
      },
      {
        "duration": 3,
        "start_time": "2023-05-15T22:36:40.114Z"
      },
      {
        "duration": 10,
        "start_time": "2023-05-15T22:36:44.404Z"
      },
      {
        "duration": 684,
        "start_time": "2023-05-15T22:36:46.338Z"
      },
      {
        "duration": 5,
        "start_time": "2023-05-15T22:36:47.426Z"
      },
      {
        "duration": 663,
        "start_time": "2023-05-15T22:36:50.966Z"
      },
      {
        "duration": 6,
        "start_time": "2023-05-15T22:36:52.563Z"
      },
      {
        "duration": 3,
        "start_time": "2023-05-15T22:36:54.284Z"
      },
      {
        "duration": 922,
        "start_time": "2023-05-15T22:36:55.052Z"
      },
      {
        "duration": 7,
        "start_time": "2023-05-15T22:36:56.203Z"
      },
      {
        "duration": 2,
        "start_time": "2023-05-15T22:36:58.147Z"
      },
      {
        "duration": 10,
        "start_time": "2023-05-15T22:37:08.259Z"
      },
      {
        "duration": 19,
        "start_time": "2023-05-15T22:37:45.026Z"
      },
      {
        "duration": 3,
        "start_time": "2023-05-15T22:37:45.931Z"
      },
      {
        "duration": 354,
        "start_time": "2023-05-15T22:37:47.411Z"
      },
      {
        "duration": 2,
        "start_time": "2023-05-15T22:37:48.699Z"
      },
      {
        "duration": 3,
        "start_time": "2023-05-15T22:37:57.555Z"
      },
      {
        "duration": 3,
        "start_time": "2023-05-15T22:37:58.027Z"
      },
      {
        "duration": 2,
        "start_time": "2023-05-15T22:37:58.547Z"
      },
      {
        "duration": 18,
        "start_time": "2023-05-15T22:45:42.204Z"
      },
      {
        "duration": 3,
        "start_time": "2023-05-15T22:45:43.943Z"
      },
      {
        "duration": 4,
        "start_time": "2023-05-15T22:45:45.599Z"
      },
      {
        "duration": 3,
        "start_time": "2023-05-15T22:45:48.583Z"
      },
      {
        "duration": 5,
        "start_time": "2023-05-15T22:45:51.184Z"
      },
      {
        "duration": 423578,
        "start_time": "2023-05-15T22:45:53.135Z"
      },
      {
        "duration": 17,
        "start_time": "2023-05-15T22:53:09.692Z"
      },
      {
        "duration": 4,
        "start_time": "2023-05-15T22:53:10.355Z"
      },
      {
        "duration": 3,
        "start_time": "2023-05-15T22:53:11.459Z"
      },
      {
        "duration": 3,
        "start_time": "2023-05-15T22:53:14.227Z"
      },
      {
        "duration": 3,
        "start_time": "2023-05-15T22:53:19.747Z"
      },
      {
        "duration": 413195,
        "start_time": "2023-05-15T22:53:23.307Z"
      },
      {
        "duration": 6,
        "start_time": "2023-05-15T23:00:32.871Z"
      },
      {
        "duration": 3,
        "start_time": "2023-05-15T23:00:45.455Z"
      },
      {
        "duration": 5,
        "start_time": "2023-05-15T23:00:47.127Z"
      },
      {
        "duration": 6,
        "start_time": "2023-05-15T23:00:58.647Z"
      },
      {
        "duration": 5,
        "start_time": "2023-05-15T23:01:26.015Z"
      },
      {
        "duration": 4,
        "start_time": "2023-05-15T23:01:43.728Z"
      },
      {
        "duration": 4,
        "start_time": "2023-05-15T23:01:59.696Z"
      },
      {
        "duration": 4,
        "start_time": "2023-05-15T23:02:11.528Z"
      },
      {
        "duration": 4,
        "start_time": "2023-05-15T23:02:14.552Z"
      },
      {
        "duration": 9,
        "start_time": "2023-05-15T23:02:23.632Z"
      },
      {
        "duration": 19,
        "start_time": "2023-05-15T23:02:24.384Z"
      },
      {
        "duration": 8,
        "start_time": "2023-05-15T23:02:25.136Z"
      },
      {
        "duration": 3,
        "start_time": "2023-05-15T23:02:26.520Z"
      },
      {
        "duration": 6,
        "start_time": "2023-05-15T23:02:27.720Z"
      },
      {
        "duration": 4,
        "start_time": "2023-05-15T23:02:28.303Z"
      },
      {
        "duration": 8,
        "start_time": "2023-05-15T23:02:29.856Z"
      },
      {
        "duration": 4,
        "start_time": "2023-05-15T23:07:11.155Z"
      },
      {
        "duration": 4,
        "start_time": "2023-05-15T23:07:14.970Z"
      },
      {
        "duration": 7,
        "start_time": "2023-05-15T23:07:57.979Z"
      },
      {
        "duration": 19,
        "start_time": "2023-05-15T23:08:01.907Z"
      },
      {
        "duration": 9,
        "start_time": "2023-05-15T23:08:21.666Z"
      },
      {
        "duration": 32,
        "start_time": "2023-05-15T23:08:21.978Z"
      },
      {
        "duration": 9,
        "start_time": "2023-05-15T23:08:22.297Z"
      },
      {
        "duration": 3,
        "start_time": "2023-05-15T23:10:44.637Z"
      },
      {
        "duration": 6,
        "start_time": "2023-05-15T23:11:05.493Z"
      },
      {
        "duration": 3,
        "start_time": "2023-05-15T23:12:30.868Z"
      },
      {
        "duration": 8,
        "start_time": "2023-05-15T23:13:06.591Z"
      },
      {
        "duration": 6,
        "start_time": "2023-05-15T23:17:50.297Z"
      },
      {
        "duration": 719,
        "start_time": "2023-05-15T23:17:50.728Z"
      },
      {
        "duration": 25,
        "start_time": "2023-05-15T23:17:51.510Z"
      },
      {
        "duration": 5,
        "start_time": "2023-05-15T23:17:51.768Z"
      },
      {
        "duration": 18,
        "start_time": "2023-05-15T23:17:52.280Z"
      },
      {
        "duration": 9,
        "start_time": "2023-05-15T23:17:52.569Z"
      },
      {
        "duration": 126,
        "start_time": "2023-05-15T23:17:52.800Z"
      },
      {
        "duration": 34,
        "start_time": "2023-05-15T23:17:53.041Z"
      },
      {
        "duration": 6,
        "start_time": "2023-05-15T23:17:53.529Z"
      },
      {
        "duration": 13,
        "start_time": "2023-05-15T23:17:53.808Z"
      },
      {
        "duration": 24,
        "start_time": "2023-05-15T23:17:54.081Z"
      },
      {
        "duration": 21,
        "start_time": "2023-05-15T23:17:54.488Z"
      },
      {
        "duration": 12,
        "start_time": "2023-05-15T23:17:55.312Z"
      },
      {
        "duration": 27,
        "start_time": "2023-05-15T23:17:55.690Z"
      },
      {
        "duration": 8,
        "start_time": "2023-05-15T23:17:56.248Z"
      },
      {
        "duration": 8,
        "start_time": "2023-05-15T23:17:56.832Z"
      },
      {
        "duration": 88,
        "start_time": "2023-05-15T23:17:57.288Z"
      },
      {
        "duration": 4,
        "start_time": "2023-05-15T23:17:57.768Z"
      },
      {
        "duration": 11,
        "start_time": "2023-05-15T23:18:31.129Z"
      },
      {
        "duration": 252,
        "start_time": "2023-05-15T23:18:31.834Z"
      },
      {
        "duration": 6,
        "start_time": "2023-05-15T23:18:41.609Z"
      },
      {
        "duration": 10,
        "start_time": "2023-05-15T23:18:44.049Z"
      },
      {
        "duration": 3,
        "start_time": "2023-05-15T23:20:22.425Z"
      },
      {
        "duration": 21,
        "start_time": "2023-05-15T23:20:24.435Z"
      },
      {
        "duration": 20,
        "start_time": "2023-05-15T23:20:24.945Z"
      },
      {
        "duration": 10,
        "start_time": "2023-05-15T23:20:25.905Z"
      },
      {
        "duration": 3,
        "start_time": "2023-05-15T23:20:26.434Z"
      },
      {
        "duration": 254,
        "start_time": "2023-05-15T23:20:27.609Z"
      },
      {
        "duration": 209,
        "start_time": "2023-05-15T23:20:28.289Z"
      },
      {
        "duration": 29,
        "start_time": "2023-05-15T23:20:29.249Z"
      },
      {
        "duration": 9,
        "start_time": "2023-05-17T05:05:56.968Z"
      },
      {
        "duration": 1634,
        "start_time": "2023-05-17T05:56:07.250Z"
      },
      {
        "duration": 2355,
        "start_time": "2023-05-17T05:57:12.690Z"
      },
      {
        "duration": 26,
        "start_time": "2023-05-17T05:57:18.334Z"
      },
      {
        "duration": 6,
        "start_time": "2023-05-17T05:57:19.091Z"
      },
      {
        "duration": 16,
        "start_time": "2023-05-17T05:57:19.657Z"
      },
      {
        "duration": 8,
        "start_time": "2023-05-17T05:57:20.368Z"
      },
      {
        "duration": 117,
        "start_time": "2023-05-17T05:57:20.832Z"
      },
      {
        "duration": 32,
        "start_time": "2023-05-17T05:57:21.307Z"
      },
      {
        "duration": 6,
        "start_time": "2023-05-17T05:57:21.859Z"
      },
      {
        "duration": 11,
        "start_time": "2023-05-17T05:57:22.329Z"
      },
      {
        "duration": 29,
        "start_time": "2023-05-17T05:57:22.789Z"
      },
      {
        "duration": 24,
        "start_time": "2023-05-17T05:57:23.288Z"
      },
      {
        "duration": 11,
        "start_time": "2023-05-17T05:57:23.809Z"
      },
      {
        "duration": 28,
        "start_time": "2023-05-17T05:57:24.285Z"
      },
      {
        "duration": 6,
        "start_time": "2023-05-17T05:57:24.825Z"
      },
      {
        "duration": 6,
        "start_time": "2023-05-17T05:57:25.258Z"
      },
      {
        "duration": 92,
        "start_time": "2023-05-17T05:57:25.758Z"
      },
      {
        "duration": 3,
        "start_time": "2023-05-17T05:57:28.116Z"
      },
      {
        "duration": 11,
        "start_time": "2023-05-17T05:57:29.757Z"
      },
      {
        "duration": 243,
        "start_time": "2023-05-17T05:57:31.018Z"
      },
      {
        "duration": 7,
        "start_time": "2023-05-17T05:57:32.566Z"
      },
      {
        "duration": 6,
        "start_time": "2023-05-17T05:57:33.851Z"
      },
      {
        "duration": 104,
        "start_time": "2023-05-17T05:57:35.075Z"
      },
      {
        "duration": 106,
        "start_time": "2023-05-17T05:57:36.638Z"
      },
      {
        "duration": 1511,
        "start_time": "2023-05-17T18:36:36.685Z"
      },
      {
        "duration": 2098,
        "start_time": "2023-05-17T18:36:40.531Z"
      },
      {
        "duration": 700,
        "start_time": "2023-05-17T18:37:11.592Z"
      },
      {
        "duration": 26,
        "start_time": "2023-05-17T18:37:38.804Z"
      },
      {
        "duration": 5,
        "start_time": "2023-05-17T18:37:39.722Z"
      },
      {
        "duration": 17,
        "start_time": "2023-05-17T18:37:40.309Z"
      },
      {
        "duration": 11,
        "start_time": "2023-05-17T18:37:40.861Z"
      },
      {
        "duration": 121,
        "start_time": "2023-05-17T18:37:42.332Z"
      },
      {
        "duration": 22,
        "start_time": "2023-05-17T18:37:43.410Z"
      },
      {
        "duration": 6,
        "start_time": "2023-05-17T18:37:43.852Z"
      },
      {
        "duration": 13,
        "start_time": "2023-05-17T18:37:44.435Z"
      },
      {
        "duration": 20,
        "start_time": "2023-05-17T18:37:44.932Z"
      },
      {
        "duration": 17,
        "start_time": "2023-05-17T18:37:45.444Z"
      },
      {
        "duration": 12,
        "start_time": "2023-05-17T18:37:46.131Z"
      },
      {
        "duration": 22,
        "start_time": "2023-05-17T18:37:46.697Z"
      },
      {
        "duration": 6,
        "start_time": "2023-05-17T18:37:47.212Z"
      },
      {
        "duration": 7,
        "start_time": "2023-05-17T18:37:47.860Z"
      },
      {
        "duration": 92,
        "start_time": "2023-05-17T18:37:48.443Z"
      },
      {
        "duration": 3,
        "start_time": "2023-05-17T18:37:48.985Z"
      },
      {
        "duration": 10,
        "start_time": "2023-05-17T18:38:27.613Z"
      },
      {
        "duration": 213,
        "start_time": "2023-05-17T18:38:32.829Z"
      },
      {
        "duration": 6,
        "start_time": "2023-05-17T18:38:40.004Z"
      },
      {
        "duration": 7,
        "start_time": "2023-05-17T18:38:44.037Z"
      },
      {
        "duration": 100,
        "start_time": "2023-05-17T18:38:45.397Z"
      },
      {
        "duration": 2,
        "start_time": "2023-05-17T19:01:14.311Z"
      },
      {
        "duration": 17,
        "start_time": "2023-05-17T19:01:15.841Z"
      },
      {
        "duration": 18,
        "start_time": "2023-05-17T19:01:17.011Z"
      },
      {
        "duration": 8,
        "start_time": "2023-05-17T19:09:49.793Z"
      },
      {
        "duration": 2,
        "start_time": "2023-05-17T19:09:54.207Z"
      },
      {
        "duration": 250,
        "start_time": "2023-05-17T19:09:55.486Z"
      },
      {
        "duration": 360,
        "start_time": "2023-05-17T19:11:16.954Z"
      },
      {
        "duration": 279,
        "start_time": "2023-05-17T19:11:24.976Z"
      },
      {
        "duration": 244,
        "start_time": "2023-05-17T19:11:42.939Z"
      },
      {
        "duration": 242,
        "start_time": "2023-05-17T19:12:03.682Z"
      },
      {
        "duration": 245,
        "start_time": "2023-05-17T19:18:59.434Z"
      },
      {
        "duration": 20,
        "start_time": "2023-05-17T19:21:10.671Z"
      },
      {
        "duration": 19,
        "start_time": "2023-05-17T19:21:42.092Z"
      },
      {
        "duration": 251,
        "start_time": "2023-05-17T19:21:49.276Z"
      },
      {
        "duration": 238,
        "start_time": "2023-05-17T19:24:05.541Z"
      },
      {
        "duration": 27,
        "start_time": "2023-05-17T19:25:08.020Z"
      },
      {
        "duration": 6,
        "start_time": "2023-05-17T19:31:36.724Z"
      },
      {
        "duration": 390,
        "start_time": "2023-05-17T19:31:37.088Z"
      },
      {
        "duration": 461,
        "start_time": "2023-05-17T19:35:22.765Z"
      },
      {
        "duration": 407,
        "start_time": "2023-05-17T19:35:30.011Z"
      },
      {
        "duration": 371,
        "start_time": "2023-05-17T19:35:38.875Z"
      },
      {
        "duration": 522,
        "start_time": "2023-05-17T19:37:00.484Z"
      },
      {
        "duration": 375,
        "start_time": "2023-05-17T19:38:42.283Z"
      },
      {
        "duration": 381,
        "start_time": "2023-05-17T19:41:54.128Z"
      },
      {
        "duration": 396,
        "start_time": "2023-05-17T19:47:17.855Z"
      },
      {
        "duration": 489,
        "start_time": "2023-05-17T19:47:25.879Z"
      },
      {
        "duration": 377,
        "start_time": "2023-05-17T19:48:48.473Z"
      },
      {
        "duration": 386,
        "start_time": "2023-05-17T19:49:23.718Z"
      },
      {
        "duration": 389,
        "start_time": "2023-05-17T19:49:59.892Z"
      },
      {
        "duration": 3,
        "start_time": "2023-05-17T19:50:40.574Z"
      },
      {
        "duration": 8,
        "start_time": "2023-05-17T19:50:41.211Z"
      },
      {
        "duration": 340,
        "start_time": "2023-05-17T20:01:49.045Z"
      },
      {
        "duration": 229,
        "start_time": "2023-05-17T20:02:04.205Z"
      },
      {
        "duration": 5,
        "start_time": "2023-05-17T20:06:59.079Z"
      },
      {
        "duration": 5,
        "start_time": "2023-05-17T20:07:12.633Z"
      },
      {
        "duration": 6,
        "start_time": "2023-05-17T20:07:45.795Z"
      },
      {
        "duration": 8,
        "start_time": "2023-05-17T20:09:04.102Z"
      },
      {
        "duration": 6,
        "start_time": "2023-05-17T20:09:16.534Z"
      },
      {
        "duration": 6,
        "start_time": "2023-05-17T20:09:30.118Z"
      },
      {
        "duration": 8,
        "start_time": "2023-05-17T20:10:26.524Z"
      },
      {
        "duration": 731,
        "start_time": "2023-05-17T20:12:47.192Z"
      },
      {
        "duration": 20,
        "start_time": "2023-05-17T20:14:05.408Z"
      },
      {
        "duration": 58,
        "start_time": "2023-05-17T20:15:56.737Z"
      },
      {
        "duration": 96,
        "start_time": "2023-05-17T20:16:05.587Z"
      },
      {
        "duration": 43,
        "start_time": "2023-05-17T20:16:41.897Z"
      },
      {
        "duration": 3,
        "start_time": "2023-05-17T20:17:56.026Z"
      },
      {
        "duration": 384,
        "start_time": "2023-05-17T20:18:17.346Z"
      },
      {
        "duration": 22,
        "start_time": "2023-05-17T20:18:36.379Z"
      },
      {
        "duration": 4,
        "start_time": "2023-05-17T20:18:53.188Z"
      },
      {
        "duration": 755,
        "start_time": "2023-05-17T20:18:54.180Z"
      },
      {
        "duration": 20,
        "start_time": "2023-05-17T20:18:54.937Z"
      },
      {
        "duration": 6,
        "start_time": "2023-05-17T20:18:54.958Z"
      },
      {
        "duration": 17,
        "start_time": "2023-05-17T20:18:55.097Z"
      },
      {
        "duration": 10,
        "start_time": "2023-05-17T20:18:55.292Z"
      },
      {
        "duration": 120,
        "start_time": "2023-05-17T20:18:55.495Z"
      },
      {
        "duration": 21,
        "start_time": "2023-05-17T20:18:55.683Z"
      },
      {
        "duration": 5,
        "start_time": "2023-05-17T20:18:55.891Z"
      },
      {
        "duration": 11,
        "start_time": "2023-05-17T20:18:56.083Z"
      },
      {
        "duration": 20,
        "start_time": "2023-05-17T20:18:56.304Z"
      },
      {
        "duration": 17,
        "start_time": "2023-05-17T20:18:56.506Z"
      },
      {
        "duration": 10,
        "start_time": "2023-05-17T20:18:56.688Z"
      },
      {
        "duration": 22,
        "start_time": "2023-05-17T20:18:56.883Z"
      },
      {
        "duration": 6,
        "start_time": "2023-05-17T20:18:57.087Z"
      },
      {
        "duration": 6,
        "start_time": "2023-05-17T20:18:57.299Z"
      },
      {
        "duration": 87,
        "start_time": "2023-05-17T20:18:57.487Z"
      },
      {
        "duration": 3,
        "start_time": "2023-05-17T20:18:57.704Z"
      },
      {
        "duration": 8,
        "start_time": "2023-05-17T20:18:58.322Z"
      },
      {
        "duration": 211,
        "start_time": "2023-05-17T20:18:58.787Z"
      },
      {
        "duration": 5,
        "start_time": "2023-05-17T20:18:59.433Z"
      },
      {
        "duration": 9,
        "start_time": "2023-05-17T20:18:59.651Z"
      },
      {
        "duration": 107,
        "start_time": "2023-05-17T20:19:00.094Z"
      },
      {
        "duration": 107,
        "start_time": "2023-05-17T20:19:00.513Z"
      },
      {
        "duration": 2,
        "start_time": "2023-05-17T20:19:01.967Z"
      },
      {
        "duration": 17,
        "start_time": "2023-05-17T20:19:02.183Z"
      },
      {
        "duration": 16,
        "start_time": "2023-05-17T20:19:02.405Z"
      },
      {
        "duration": 9,
        "start_time": "2023-05-17T20:19:03.302Z"
      },
      {
        "duration": 2,
        "start_time": "2023-05-17T20:19:03.493Z"
      },
      {
        "duration": 257,
        "start_time": "2023-05-17T20:19:03.714Z"
      },
      {
        "duration": 220,
        "start_time": "2023-05-17T20:19:04.679Z"
      },
      {
        "duration": 22,
        "start_time": "2023-05-17T20:19:05.714Z"
      },
      {
        "duration": 3,
        "start_time": "2023-05-17T20:19:11.587Z"
      },
      {
        "duration": 389,
        "start_time": "2023-05-17T20:19:11.883Z"
      },
      {
        "duration": 461,
        "start_time": "2023-05-17T20:19:13.095Z"
      },
      {
        "duration": 373,
        "start_time": "2023-05-17T20:19:13.671Z"
      },
      {
        "duration": 395,
        "start_time": "2023-05-17T20:19:14.166Z"
      },
      {
        "duration": 3,
        "start_time": "2023-05-17T20:19:16.450Z"
      },
      {
        "duration": 9,
        "start_time": "2023-05-17T20:19:16.895Z"
      },
      {
        "duration": 52,
        "start_time": "2023-05-17T20:19:33.479Z"
      },
      {
        "duration": 18,
        "start_time": "2023-05-17T20:19:37.634Z"
      },
      {
        "duration": 66,
        "start_time": "2023-05-17T20:19:38.515Z"
      },
      {
        "duration": 49,
        "start_time": "2023-05-17T20:19:44.930Z"
      },
      {
        "duration": 3,
        "start_time": "2023-05-17T20:19:47.079Z"
      },
      {
        "duration": 650,
        "start_time": "2023-05-17T20:20:01.583Z"
      },
      {
        "duration": 4,
        "start_time": "2023-05-17T20:20:08.604Z"
      },
      {
        "duration": 553,
        "start_time": "2023-05-17T20:20:14.091Z"
      },
      {
        "duration": 4,
        "start_time": "2023-05-17T20:20:17.107Z"
      },
      {
        "duration": 3,
        "start_time": "2023-05-17T20:20:18.873Z"
      },
      {
        "duration": 800,
        "start_time": "2023-05-17T20:20:19.802Z"
      },
      {
        "duration": 5,
        "start_time": "2023-05-17T20:20:25.571Z"
      },
      {
        "duration": 2,
        "start_time": "2023-05-17T20:20:27.591Z"
      },
      {
        "duration": 3,
        "start_time": "2023-05-17T20:23:02.341Z"
      },
      {
        "duration": 2,
        "start_time": "2023-05-17T20:23:03.325Z"
      },
      {
        "duration": 7,
        "start_time": "2023-05-17T20:23:05.532Z"
      },
      {
        "duration": 21,
        "start_time": "2023-05-17T20:23:06.019Z"
      },
      {
        "duration": 3,
        "start_time": "2023-05-17T20:23:07.387Z"
      },
      {
        "duration": 246,
        "start_time": "2023-05-17T20:23:09.717Z"
      },
      {
        "duration": 2,
        "start_time": "2023-05-17T20:23:12.444Z"
      },
      {
        "duration": 2,
        "start_time": "2023-05-17T20:23:12.717Z"
      },
      {
        "duration": 2,
        "start_time": "2023-05-17T20:23:13.228Z"
      },
      {
        "duration": 3,
        "start_time": "2023-05-17T20:23:13.479Z"
      },
      {
        "duration": 3,
        "start_time": "2023-05-17T20:23:13.916Z"
      },
      {
        "duration": 2,
        "start_time": "2023-05-17T20:23:14.187Z"
      },
      {
        "duration": 3,
        "start_time": "2023-05-17T20:23:14.422Z"
      },
      {
        "duration": 2,
        "start_time": "2023-05-17T20:23:14.691Z"
      },
      {
        "duration": 15,
        "start_time": "2023-05-17T20:23:15.806Z"
      },
      {
        "duration": 8,
        "start_time": "2023-05-17T20:23:16.828Z"
      },
      {
        "duration": 4,
        "start_time": "2023-05-17T20:23:35.103Z"
      },
      {
        "duration": 2,
        "start_time": "2023-05-17T20:23:48.179Z"
      },
      {
        "duration": 3,
        "start_time": "2023-05-17T20:23:52.214Z"
      },
      {
        "duration": 3,
        "start_time": "2023-05-17T20:23:53.317Z"
      },
      {
        "duration": 4,
        "start_time": "2023-05-17T20:23:54.503Z"
      },
      {
        "duration": 354,
        "start_time": "2023-05-17T20:23:56.045Z"
      },
      {
        "duration": 8,
        "start_time": "2023-05-17T20:23:56.629Z"
      },
      {
        "duration": 4,
        "start_time": "2023-05-17T20:24:47.806Z"
      },
      {
        "duration": 3,
        "start_time": "2023-05-17T20:25:03.483Z"
      },
      {
        "duration": 257,
        "start_time": "2023-05-17T20:25:05.206Z"
      },
      {
        "duration": 5,
        "start_time": "2023-05-17T20:25:27.583Z"
      },
      {
        "duration": 259,
        "start_time": "2023-05-17T20:25:33.279Z"
      },
      {
        "duration": 12,
        "start_time": "2023-05-17T20:25:53.438Z"
      },
      {
        "duration": 5,
        "start_time": "2023-05-17T20:26:40.398Z"
      },
      {
        "duration": 265,
        "start_time": "2023-05-17T20:26:45.903Z"
      },
      {
        "duration": 8,
        "start_time": "2023-05-17T20:27:13.996Z"
      },
      {
        "duration": 2,
        "start_time": "2023-05-17T20:27:50.808Z"
      },
      {
        "duration": 3,
        "start_time": "2023-05-17T20:27:51.800Z"
      },
      {
        "duration": 3,
        "start_time": "2023-05-17T20:27:53.691Z"
      },
      {
        "duration": 248,
        "start_time": "2023-05-17T20:27:55.513Z"
      },
      {
        "duration": 9,
        "start_time": "2023-05-17T20:27:57.648Z"
      },
      {
        "duration": 8,
        "start_time": "2023-05-17T20:27:58.336Z"
      },
      {
        "duration": 8,
        "start_time": "2023-05-17T20:27:59.183Z"
      },
      {
        "duration": 11,
        "start_time": "2023-05-17T20:28:00.839Z"
      },
      {
        "duration": 254,
        "start_time": "2023-05-17T20:28:35.417Z"
      },
      {
        "duration": 15,
        "start_time": "2023-05-17T20:29:05.328Z"
      },
      {
        "duration": 3,
        "start_time": "2023-05-17T20:29:25.679Z"
      },
      {
        "duration": 49,
        "start_time": "2023-05-17T20:30:12.479Z"
      },
      {
        "duration": 545,
        "start_time": "2023-05-17T20:31:05.445Z"
      },
      {
        "duration": 4,
        "start_time": "2023-05-17T20:31:07.201Z"
      },
      {
        "duration": 11,
        "start_time": "2023-05-17T20:32:53.959Z"
      },
      {
        "duration": 1203,
        "start_time": "2023-05-17T20:33:48.229Z"
      },
      {
        "duration": 439,
        "start_time": "2023-05-17T20:34:37.828Z"
      },
      {
        "duration": 502,
        "start_time": "2023-05-17T20:34:47.330Z"
      },
      {
        "duration": 488,
        "start_time": "2023-05-17T20:35:06.948Z"
      },
      {
        "duration": 454,
        "start_time": "2023-05-17T20:36:22.436Z"
      },
      {
        "duration": 590,
        "start_time": "2023-05-17T20:36:37.794Z"
      },
      {
        "duration": 566,
        "start_time": "2023-05-17T20:37:26.615Z"
      },
      {
        "duration": 619,
        "start_time": "2023-05-17T20:39:25.992Z"
      },
      {
        "duration": 501,
        "start_time": "2023-05-17T20:39:47.831Z"
      },
      {
        "duration": 2,
        "start_time": "2023-05-17T20:39:52.248Z"
      },
      {
        "duration": 559,
        "start_time": "2023-05-17T20:40:58.590Z"
      },
      {
        "duration": 509,
        "start_time": "2023-05-17T20:41:08.832Z"
      },
      {
        "duration": 2,
        "start_time": "2023-05-17T20:41:15.634Z"
      },
      {
        "duration": 2,
        "start_time": "2023-05-17T20:45:58.691Z"
      },
      {
        "duration": 3,
        "start_time": "2023-05-17T20:46:15.531Z"
      },
      {
        "duration": 834,
        "start_time": "2023-05-17T20:46:16.686Z"
      },
      {
        "duration": 6,
        "start_time": "2023-05-17T20:46:35.346Z"
      },
      {
        "duration": 7,
        "start_time": "2023-05-17T20:57:10.216Z"
      },
      {
        "duration": 2,
        "start_time": "2023-05-17T20:57:10.910Z"
      },
      {
        "duration": 8,
        "start_time": "2023-05-17T20:57:13.190Z"
      },
      {
        "duration": 16,
        "start_time": "2023-05-17T20:57:13.978Z"
      },
      {
        "duration": 3,
        "start_time": "2023-05-17T20:57:14.371Z"
      },
      {
        "duration": 366,
        "start_time": "2023-05-17T20:57:15.302Z"
      },
      {
        "duration": 4,
        "start_time": "2023-05-17T20:57:16.019Z"
      },
      {
        "duration": 2,
        "start_time": "2023-05-17T20:57:18.558Z"
      },
      {
        "duration": 2,
        "start_time": "2023-05-17T20:57:18.952Z"
      },
      {
        "duration": 3,
        "start_time": "2023-05-17T20:57:19.286Z"
      },
      {
        "duration": 3,
        "start_time": "2023-05-17T20:57:20.153Z"
      },
      {
        "duration": 2,
        "start_time": "2023-05-17T20:57:20.498Z"
      },
      {
        "duration": 2,
        "start_time": "2023-05-17T20:57:21.010Z"
      },
      {
        "duration": 2,
        "start_time": "2023-05-17T20:57:21.398Z"
      },
      {
        "duration": 16,
        "start_time": "2023-05-17T20:57:25.097Z"
      },
      {
        "duration": 3,
        "start_time": "2023-05-17T20:57:26.509Z"
      },
      {
        "duration": 3,
        "start_time": "2023-05-17T20:57:27.705Z"
      },
      {
        "duration": 3,
        "start_time": "2023-05-17T20:57:28.605Z"
      },
      {
        "duration": 4,
        "start_time": "2023-05-17T20:57:29.893Z"
      },
      {
        "duration": 477640,
        "start_time": "2023-05-17T20:57:32.617Z"
      },
      {
        "duration": 3,
        "start_time": "2023-05-17T21:25:00.745Z"
      },
      {
        "duration": 3,
        "start_time": "2023-05-17T21:25:03.239Z"
      },
      {
        "duration": 8,
        "start_time": "2023-05-17T21:25:08.095Z"
      },
      {
        "duration": 18,
        "start_time": "2023-05-17T21:25:08.949Z"
      },
      {
        "duration": 3,
        "start_time": "2023-05-17T21:25:09.538Z"
      },
      {
        "duration": 266,
        "start_time": "2023-05-17T21:25:10.697Z"
      },
      {
        "duration": 2,
        "start_time": "2023-05-17T21:25:11.183Z"
      },
      {
        "duration": 3,
        "start_time": "2023-05-17T21:25:11.592Z"
      },
      {
        "duration": 2,
        "start_time": "2023-05-17T21:25:11.896Z"
      },
      {
        "duration": 2,
        "start_time": "2023-05-17T21:25:12.192Z"
      },
      {
        "duration": 2,
        "start_time": "2023-05-17T21:25:12.876Z"
      },
      {
        "duration": 3,
        "start_time": "2023-05-17T21:25:13.177Z"
      },
      {
        "duration": 2,
        "start_time": "2023-05-17T21:25:13.689Z"
      },
      {
        "duration": 2,
        "start_time": "2023-05-17T21:25:14.103Z"
      },
      {
        "duration": 18,
        "start_time": "2023-05-17T21:25:15.311Z"
      },
      {
        "duration": 2,
        "start_time": "2023-05-17T21:25:18.893Z"
      },
      {
        "duration": 3,
        "start_time": "2023-05-17T21:25:19.885Z"
      },
      {
        "duration": 3,
        "start_time": "2023-05-17T21:25:20.703Z"
      },
      {
        "duration": 3,
        "start_time": "2023-05-17T21:25:30.486Z"
      },
      {
        "duration": 474036,
        "start_time": "2023-05-17T21:25:31.753Z"
      },
      {
        "duration": 9,
        "start_time": "2023-05-17T21:33:31.242Z"
      },
      {
        "duration": 4,
        "start_time": "2023-05-17T21:33:33.011Z"
      },
      {
        "duration": 4,
        "start_time": "2023-05-17T21:33:35.045Z"
      },
      {
        "duration": 4,
        "start_time": "2023-05-17T21:33:41.837Z"
      },
      {
        "duration": 6,
        "start_time": "2023-05-17T21:33:43.477Z"
      },
      {
        "duration": 45,
        "start_time": "2023-05-17T21:33:49.493Z"
      },
      {
        "duration": 14,
        "start_time": "2023-05-17T21:33:50.036Z"
      },
      {
        "duration": 6,
        "start_time": "2023-05-17T21:33:50.452Z"
      },
      {
        "duration": 3,
        "start_time": "2023-05-17T21:33:55.989Z"
      },
      {
        "duration": 5,
        "start_time": "2023-05-17T21:33:56.534Z"
      },
      {
        "duration": 3,
        "start_time": "2023-05-17T21:33:57.335Z"
      },
      {
        "duration": 6,
        "start_time": "2023-05-17T21:33:57.935Z"
      },
      {
        "duration": 64,
        "start_time": "2023-05-17T21:36:26.581Z"
      },
      {
        "duration": 3,
        "start_time": "2023-05-17T21:36:59.191Z"
      },
      {
        "duration": 5,
        "start_time": "2023-05-17T21:37:07.535Z"
      },
      {
        "duration": 3,
        "start_time": "2023-05-17T21:38:02.982Z"
      },
      {
        "duration": 3062703,
        "start_time": "2023-05-17T21:38:07.654Z"
      },
      {
        "duration": 236,
        "start_time": "2023-05-17T22:31:19.941Z"
      },
      {
        "duration": 483,
        "start_time": "2023-05-17T22:31:50.900Z"
      },
      {
        "duration": 573,
        "start_time": "2023-05-17T22:32:18.277Z"
      },
      {
        "duration": 7,
        "start_time": "2023-05-17T22:33:12.301Z"
      },
      {
        "duration": 3,
        "start_time": "2023-05-17T22:33:13.740Z"
      },
      {
        "duration": 4,
        "start_time": "2023-05-17T22:33:14.580Z"
      },
      {
        "duration": 7,
        "start_time": "2023-05-17T22:33:29.167Z"
      },
      {
        "duration": 3,
        "start_time": "2023-05-17T22:33:29.805Z"
      },
      {
        "duration": 4,
        "start_time": "2023-05-17T22:33:30.492Z"
      },
      {
        "duration": 6,
        "start_time": "2023-05-17T22:33:45.125Z"
      },
      {
        "duration": 4,
        "start_time": "2023-05-17T22:33:46.530Z"
      },
      {
        "duration": 17,
        "start_time": "2023-05-17T22:33:53.388Z"
      },
      {
        "duration": 15,
        "start_time": "2023-05-17T22:33:54.764Z"
      },
      {
        "duration": 6,
        "start_time": "2023-05-17T22:33:55.806Z"
      },
      {
        "duration": 3,
        "start_time": "2023-05-17T22:35:06.465Z"
      },
      {
        "duration": 6,
        "start_time": "2023-05-17T22:35:07.060Z"
      },
      {
        "duration": 2,
        "start_time": "2023-05-17T22:35:07.749Z"
      },
      {
        "duration": 6,
        "start_time": "2023-05-17T22:35:08.877Z"
      },
      {
        "duration": 3,
        "start_time": "2023-05-17T22:36:05.459Z"
      },
      {
        "duration": 4,
        "start_time": "2023-05-17T22:36:05.963Z"
      },
      {
        "duration": 3,
        "start_time": "2023-05-17T22:36:25.975Z"
      },
      {
        "duration": 4,
        "start_time": "2023-05-17T22:36:26.590Z"
      },
      {
        "duration": 4,
        "start_time": "2023-05-17T22:36:31.445Z"
      },
      {
        "duration": 4,
        "start_time": "2023-05-17T22:36:32.630Z"
      },
      {
        "duration": 20,
        "start_time": "2023-05-17T22:36:48.571Z"
      },
      {
        "duration": 14,
        "start_time": "2023-05-17T22:36:49.095Z"
      },
      {
        "duration": 5,
        "start_time": "2023-05-17T22:36:49.599Z"
      },
      {
        "duration": 3,
        "start_time": "2023-05-17T22:36:56.150Z"
      },
      {
        "duration": 5,
        "start_time": "2023-05-17T22:36:57.070Z"
      },
      {
        "duration": 3,
        "start_time": "2023-05-17T22:36:57.846Z"
      },
      {
        "duration": 7,
        "start_time": "2023-05-17T22:36:58.287Z"
      },
      {
        "duration": 613,
        "start_time": "2023-05-17T22:39:25.081Z"
      },
      {
        "duration": 504,
        "start_time": "2023-05-17T22:39:31.168Z"
      },
      {
        "duration": 491,
        "start_time": "2023-05-17T22:39:48.569Z"
      },
      {
        "duration": 570,
        "start_time": "2023-05-17T22:39:56.600Z"
      },
      {
        "duration": 534,
        "start_time": "2023-05-17T22:40:10.663Z"
      },
      {
        "duration": 509,
        "start_time": "2023-05-17T22:40:22.273Z"
      },
      {
        "duration": 499,
        "start_time": "2023-05-17T22:40:42.569Z"
      },
      {
        "duration": 227,
        "start_time": "2023-05-17T22:42:01.906Z"
      },
      {
        "duration": 549,
        "start_time": "2023-05-17T22:44:16.410Z"
      },
      {
        "duration": 596,
        "start_time": "2023-05-17T22:45:46.892Z"
      },
      {
        "duration": 644,
        "start_time": "2023-05-17T22:46:25.508Z"
      },
      {
        "duration": 593,
        "start_time": "2023-05-17T22:50:32.295Z"
      },
      {
        "duration": 547,
        "start_time": "2023-05-17T22:51:25.399Z"
      },
      {
        "duration": 529,
        "start_time": "2023-05-17T22:52:41.503Z"
      },
      {
        "duration": 570,
        "start_time": "2023-05-17T22:53:05.280Z"
      },
      {
        "duration": 551,
        "start_time": "2023-05-17T22:54:29.017Z"
      },
      {
        "duration": 573,
        "start_time": "2023-05-17T22:56:05.273Z"
      },
      {
        "duration": 582,
        "start_time": "2023-05-17T22:57:15.786Z"
      },
      {
        "duration": 546,
        "start_time": "2023-05-17T22:57:42.123Z"
      },
      {
        "duration": 66,
        "start_time": "2023-05-17T22:57:50.636Z"
      },
      {
        "duration": 591,
        "start_time": "2023-05-17T22:57:55.890Z"
      },
      {
        "duration": 531,
        "start_time": "2023-05-17T22:58:20.554Z"
      },
      {
        "duration": 2,
        "start_time": "2023-05-17T23:09:06.528Z"
      },
      {
        "duration": 521,
        "start_time": "2023-05-17T23:09:06.849Z"
      },
      {
        "duration": 3,
        "start_time": "2023-05-17T23:09:09.776Z"
      },
      {
        "duration": 2,
        "start_time": "2023-05-17T23:09:22.033Z"
      },
      {
        "duration": 591,
        "start_time": "2023-05-17T23:09:22.936Z"
      },
      {
        "duration": 3,
        "start_time": "2023-05-17T23:09:25.603Z"
      },
      {
        "duration": 3,
        "start_time": "2023-05-17T23:09:28.545Z"
      },
      {
        "duration": 915,
        "start_time": "2023-05-17T23:09:29.552Z"
      },
      {
        "duration": 6,
        "start_time": "2023-05-17T23:09:33.097Z"
      },
      {
        "duration": 48,
        "start_time": "2023-05-17T23:10:09.681Z"
      },
      {
        "duration": 2,
        "start_time": "2023-05-17T23:10:23.697Z"
      },
      {
        "duration": 2,
        "start_time": "2023-05-17T23:10:24.022Z"
      },
      {
        "duration": 7,
        "start_time": "2023-05-17T23:10:27.576Z"
      },
      {
        "duration": 18,
        "start_time": "2023-05-17T23:10:30.694Z"
      },
      {
        "duration": 3,
        "start_time": "2023-05-17T23:10:31.002Z"
      },
      {
        "duration": 229,
        "start_time": "2023-05-17T23:10:33.593Z"
      },
      {
        "duration": 28,
        "start_time": "2023-05-19T06:05:18.332Z"
      },
      {
        "duration": 386,
        "start_time": "2023-05-19T06:05:30.581Z"
      },
      {
        "duration": 5,
        "start_time": "2023-05-19T06:07:19.708Z"
      },
      {
        "duration": 25,
        "start_time": "2023-05-19T06:07:20.378Z"
      },
      {
        "duration": 5758,
        "start_time": "2023-05-19T06:08:16.789Z"
      },
      {
        "duration": 1973,
        "start_time": "2023-05-19T06:08:22.552Z"
      },
      {
        "duration": 52,
        "start_time": "2023-05-19T06:08:24.543Z"
      },
      {
        "duration": 149,
        "start_time": "2023-05-19T06:08:24.603Z"
      },
      {
        "duration": 188,
        "start_time": "2023-05-19T06:08:24.768Z"
      },
      {
        "duration": 112,
        "start_time": "2023-05-19T06:08:24.963Z"
      },
      {
        "duration": 399,
        "start_time": "2023-05-19T06:08:25.092Z"
      },
      {
        "duration": 61,
        "start_time": "2023-05-19T06:08:25.498Z"
      },
      {
        "duration": 147,
        "start_time": "2023-05-19T06:08:25.568Z"
      },
      {
        "duration": 153,
        "start_time": "2023-05-19T06:08:25.729Z"
      },
      {
        "duration": 159,
        "start_time": "2023-05-19T06:08:25.899Z"
      },
      {
        "duration": 168,
        "start_time": "2023-05-19T06:08:26.070Z"
      },
      {
        "duration": 107,
        "start_time": "2023-05-19T06:08:26.252Z"
      },
      {
        "duration": 199,
        "start_time": "2023-05-19T06:08:26.371Z"
      },
      {
        "duration": 58,
        "start_time": "2023-05-19T06:08:26.593Z"
      },
      {
        "duration": 106,
        "start_time": "2023-05-19T06:08:26.671Z"
      },
      {
        "duration": 678,
        "start_time": "2023-05-19T06:08:26.786Z"
      },
      {
        "duration": 13,
        "start_time": "2023-05-19T06:08:27.473Z"
      },
      {
        "duration": 217,
        "start_time": "2023-05-19T06:08:27.494Z"
      },
      {
        "duration": 554,
        "start_time": "2023-05-19T06:08:27.715Z"
      },
      {
        "duration": 19,
        "start_time": "2023-05-19T06:08:28.276Z"
      },
      {
        "duration": 172,
        "start_time": "2023-05-19T06:08:28.299Z"
      },
      {
        "duration": 421,
        "start_time": "2023-05-19T06:08:28.474Z"
      },
      {
        "duration": 201,
        "start_time": "2023-05-19T06:08:28.898Z"
      },
      {
        "duration": 51,
        "start_time": "2023-05-19T06:08:29.102Z"
      },
      {
        "duration": 265,
        "start_time": "2023-05-19T06:08:29.156Z"
      },
      {
        "duration": 177,
        "start_time": "2023-05-19T06:08:29.444Z"
      },
      {
        "duration": 214,
        "start_time": "2023-05-19T06:08:29.637Z"
      },
      {
        "duration": 93,
        "start_time": "2023-05-19T06:08:29.854Z"
      },
      {
        "duration": 895,
        "start_time": "2023-05-19T06:08:29.949Z"
      },
      {
        "duration": 459,
        "start_time": "2023-05-19T06:08:30.851Z"
      },
      {
        "duration": 94,
        "start_time": "2023-05-19T06:08:31.317Z"
      },
      {
        "duration": 151,
        "start_time": "2023-05-19T06:08:31.432Z"
      },
      {
        "duration": 1582,
        "start_time": "2023-05-19T06:08:31.599Z"
      },
      {
        "duration": 876,
        "start_time": "2023-05-19T06:08:33.190Z"
      },
      {
        "duration": 1105,
        "start_time": "2023-05-19T06:08:34.082Z"
      },
      {
        "duration": 1227,
        "start_time": "2023-05-19T06:08:35.199Z"
      },
      {
        "duration": 11,
        "start_time": "2023-05-19T06:08:36.431Z"
      },
      {
        "duration": 164,
        "start_time": "2023-05-19T06:08:36.448Z"
      },
      {
        "duration": 280,
        "start_time": "2023-05-19T06:08:36.615Z"
      },
      {
        "duration": 179,
        "start_time": "2023-05-19T06:08:36.920Z"
      },
      {
        "duration": 21,
        "start_time": "2023-05-19T06:08:37.101Z"
      },
      {
        "duration": 1133,
        "start_time": "2023-05-19T06:08:37.127Z"
      },
      {
        "duration": 1168,
        "start_time": "2023-05-19T06:08:38.295Z"
      },
      {
        "duration": 34,
        "start_time": "2023-05-19T06:08:39.489Z"
      },
      {
        "duration": 193,
        "start_time": "2023-05-19T06:08:39.556Z"
      },
      {
        "duration": 1935,
        "start_time": "2023-05-19T06:08:39.766Z"
      },
      {
        "duration": 16,
        "start_time": "2023-05-19T06:08:41.713Z"
      },
      {
        "duration": 175,
        "start_time": "2023-05-19T06:08:41.731Z"
      },
      {
        "duration": 172,
        "start_time": "2023-05-19T06:08:41.910Z"
      },
      {
        "duration": 19,
        "start_time": "2023-05-19T06:08:42.084Z"
      },
      {
        "duration": 121,
        "start_time": "2023-05-19T06:08:42.110Z"
      },
      {
        "duration": 106,
        "start_time": "2023-05-19T06:08:42.237Z"
      },
      {
        "duration": 42,
        "start_time": "2023-05-19T06:08:42.345Z"
      },
      {
        "duration": 69,
        "start_time": "2023-05-19T06:08:42.396Z"
      },
      {
        "duration": 145,
        "start_time": "2023-05-19T06:08:42.470Z"
      },
      {
        "duration": 94,
        "start_time": "2023-05-19T06:08:42.617Z"
      },
      {
        "duration": 72,
        "start_time": "2023-05-19T06:08:42.713Z"
      },
      {
        "duration": 119,
        "start_time": "2023-05-19T06:08:42.787Z"
      },
      {
        "duration": 118,
        "start_time": "2023-05-19T06:08:42.908Z"
      },
      {
        "duration": 185,
        "start_time": "2023-05-19T06:08:43.028Z"
      },
      {
        "duration": 540,
        "start_time": "2023-05-19T06:08:43.218Z"
      },
      {
        "duration": 22,
        "start_time": "2023-05-19T06:08:43.767Z"
      },
      {
        "duration": 150,
        "start_time": "2023-05-19T06:08:43.800Z"
      },
      {
        "duration": 233,
        "start_time": "2023-05-19T06:08:43.953Z"
      },
      {
        "duration": 203,
        "start_time": "2023-05-19T06:08:44.188Z"
      },
      {
        "duration": 462855,
        "start_time": "2023-05-19T06:08:44.392Z"
      },
      {
        "duration": 41,
        "start_time": "2023-05-19T06:16:27.250Z"
      },
      {
        "duration": 197,
        "start_time": "2023-05-19T06:16:27.294Z"
      },
      {
        "duration": 163,
        "start_time": "2023-05-19T06:16:27.525Z"
      },
      {
        "duration": 127,
        "start_time": "2023-05-19T06:16:27.704Z"
      },
      {
        "duration": 151,
        "start_time": "2023-05-19T06:16:27.841Z"
      },
      {
        "duration": 364,
        "start_time": "2023-05-19T06:16:27.994Z"
      },
      {
        "duration": 137,
        "start_time": "2023-05-19T06:16:28.372Z"
      },
      {
        "duration": 117,
        "start_time": "2023-05-19T06:16:28.517Z"
      },
      {
        "duration": 169,
        "start_time": "2023-05-19T06:16:28.641Z"
      },
      {
        "duration": 207,
        "start_time": "2023-05-19T06:16:28.811Z"
      },
      {
        "duration": 163,
        "start_time": "2023-05-19T06:16:29.024Z"
      },
      {
        "duration": 155,
        "start_time": "2023-05-19T06:16:29.189Z"
      }
    ],
    "kernelspec": {
      "display_name": "Python 3 (ipykernel)",
      "language": "python",
      "name": "python3"
    },
    "language_info": {
      "codemirror_mode": {
        "name": "ipython",
        "version": 3
      },
      "file_extension": ".py",
      "mimetype": "text/x-python",
      "name": "python",
      "nbconvert_exporter": "python",
      "pygments_lexer": "ipython3",
      "version": "3.9.5"
    },
    "toc": {
      "base_numbering": 1,
      "nav_menu": {},
      "number_sections": true,
      "sideBar": true,
      "skip_h1_title": true,
      "title_cell": "Содержание",
      "title_sidebar": "Contents",
      "toc_cell": true,
      "toc_position": {
        "height": "calc(100% - 180px)",
        "left": "10px",
        "top": "150px",
        "width": "222.222px"
      },
      "toc_section_display": true,
      "toc_window_display": true
    },
    "colab": {
      "provenance": []
    }
  },
  "nbformat": 4,
  "nbformat_minor": 0
}