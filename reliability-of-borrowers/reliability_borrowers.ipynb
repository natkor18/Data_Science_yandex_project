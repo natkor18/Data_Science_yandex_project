{
  "cells": [
    {
      "cell_type": "markdown",
      "id": "76dd0719",
      "metadata": {
        "deletable": false,
        "editable": false,
        "id": "76dd0719"
      },
      "source": [
        "# Исследование надежности заемщиков\n"
      ]
    },
    {
      "cell_type": "markdown",
      "id": "66f3b4f4",
      "metadata": {
        "deletable": false,
        "editable": false,
        "id": "66f3b4f4"
      },
      "source": [
        "**Задание 1. Импортируйте библиотеку pandas. Считайте данные из csv-файла в датафрейм и сохраните в переменную `data`. Путь к файлу:**\n",
        "\n",
        "`/data.csv`"
      ]
    },
    {
      "cell_type": "code",
      "source": [
        "import pandas as pd\n",
        "import seaborn as sns"
      ],
      "metadata": {
        "id": "_6bBsM2kN6Pw"
      },
      "id": "_6bBsM2kN6Pw",
      "execution_count": 54,
      "outputs": []
    },
    {
      "cell_type": "code",
      "execution_count": 55,
      "id": "a12f1e1b",
      "metadata": {
        "deletable": false,
        "id": "a12f1e1b"
      },
      "outputs": [],
      "source": [
        "try:\n",
        "    data = pd.read_csv('data.csv')\n",
        "except:\n",
        "    data = pd.read_csv('https://code.s3.yandex.net/datasets/data.csv')"
      ]
    },
    {
      "cell_type": "markdown",
      "id": "786448ba",
      "metadata": {
        "deletable": false,
        "editable": false,
        "id": "786448ba"
      },
      "source": [
        "**Задание 2. Выведите первые 20 строчек датафрейма `data` на экран.**"
      ]
    },
    {
      "cell_type": "code",
      "execution_count": 56,
      "id": "6cf4991e",
      "metadata": {
        "deletable": false,
        "id": "6cf4991e",
        "outputId": "3296a4f0-03a6-45b1-8ea9-32fe1f6d6545",
        "colab": {
          "base_uri": "https://localhost:8080/",
          "height": 1000
        }
      },
      "outputs": [
        {
          "output_type": "execute_result",
          "data": {
            "text/plain": [
              "    children  days_employed  dob_years            education  education_id  \\\n",
              "0          1   -8437.673028         42               высшее             0   \n",
              "1          1   -4024.803754         36              среднее             1   \n",
              "2          0   -5623.422610         33              Среднее             1   \n",
              "3          3   -4124.747207         32              среднее             1   \n",
              "4          0  340266.072047         53              среднее             1   \n",
              "5          0    -926.185831         27               высшее             0   \n",
              "6          0   -2879.202052         43               высшее             0   \n",
              "7          0    -152.779569         50              СРЕДНЕЕ             1   \n",
              "8          2   -6929.865299         35               ВЫСШЕЕ             0   \n",
              "9          0   -2188.756445         41              среднее             1   \n",
              "10         2   -4171.483647         36               высшее             0   \n",
              "11         0    -792.701887         40              среднее             1   \n",
              "12         0            NaN         65              среднее             1   \n",
              "13         0   -1846.641941         54  неоконченное высшее             2   \n",
              "14         0   -1844.956182         56               высшее             0   \n",
              "15         1    -972.364419         26              среднее             1   \n",
              "16         0   -1719.934226         35              среднее             1   \n",
              "17         0   -2369.999720         33               высшее             0   \n",
              "18         0  400281.136913         53              среднее             1   \n",
              "19         0  -10038.818549         48              СРЕДНЕЕ             1   \n",
              "\n",
              "       family_status  family_status_id gender income_type  debt  \\\n",
              "0    женат / замужем                 0      F   сотрудник     0   \n",
              "1    женат / замужем                 0      F   сотрудник     0   \n",
              "2    женат / замужем                 0      M   сотрудник     0   \n",
              "3    женат / замужем                 0      M   сотрудник     0   \n",
              "4   гражданский брак                 1      F   пенсионер     0   \n",
              "5   гражданский брак                 1      M   компаньон     0   \n",
              "6    женат / замужем                 0      F   компаньон     0   \n",
              "7    женат / замужем                 0      M   сотрудник     0   \n",
              "8   гражданский брак                 1      F   сотрудник     0   \n",
              "9    женат / замужем                 0      M   сотрудник     0   \n",
              "10   женат / замужем                 0      M   компаньон     0   \n",
              "11   женат / замужем                 0      F   сотрудник     0   \n",
              "12  гражданский брак                 1      M   пенсионер     0   \n",
              "13   женат / замужем                 0      F   сотрудник     0   \n",
              "14  гражданский брак                 1      F   компаньон     1   \n",
              "15   женат / замужем                 0      F   сотрудник     0   \n",
              "16   женат / замужем                 0      F   сотрудник     0   \n",
              "17  гражданский брак                 1      M   сотрудник     0   \n",
              "18    вдовец / вдова                 2      F   пенсионер     0   \n",
              "19         в разводе                 3      F   сотрудник     0   \n",
              "\n",
              "     total_income                                 purpose  \n",
              "0   253875.639453                           покупка жилья  \n",
              "1   112080.014102                 приобретение автомобиля  \n",
              "2   145885.952297                           покупка жилья  \n",
              "3   267628.550329              дополнительное образование  \n",
              "4   158616.077870                         сыграть свадьбу  \n",
              "5   255763.565419                           покупка жилья  \n",
              "6   240525.971920                       операции с жильем  \n",
              "7   135823.934197                             образование  \n",
              "8    95856.832424                   на проведение свадьбы  \n",
              "9   144425.938277                 покупка жилья для семьи  \n",
              "10  113943.491460                    покупка недвижимости  \n",
              "11   77069.234271       покупка коммерческой недвижимости  \n",
              "12            NaN                         сыграть свадьбу  \n",
              "13  130458.228857                 приобретение автомобиля  \n",
              "14  165127.911772              покупка жилой недвижимости  \n",
              "15  116820.904450  строительство собственной недвижимости  \n",
              "16  289202.704229                            недвижимость  \n",
              "17   90410.586745              строительство недвижимости  \n",
              "18   56823.777243      на покупку подержанного автомобиля  \n",
              "19  242831.107982            на покупку своего автомобиля  "
            ],
            "text/html": [
              "\n",
              "\n",
              "  <div id=\"df-7997f8b5-365d-480b-9eb7-d4c470533290\">\n",
              "    <div class=\"colab-df-container\">\n",
              "      <div>\n",
              "<style scoped>\n",
              "    .dataframe tbody tr th:only-of-type {\n",
              "        vertical-align: middle;\n",
              "    }\n",
              "\n",
              "    .dataframe tbody tr th {\n",
              "        vertical-align: top;\n",
              "    }\n",
              "\n",
              "    .dataframe thead th {\n",
              "        text-align: right;\n",
              "    }\n",
              "</style>\n",
              "<table border=\"1\" class=\"dataframe\">\n",
              "  <thead>\n",
              "    <tr style=\"text-align: right;\">\n",
              "      <th></th>\n",
              "      <th>children</th>\n",
              "      <th>days_employed</th>\n",
              "      <th>dob_years</th>\n",
              "      <th>education</th>\n",
              "      <th>education_id</th>\n",
              "      <th>family_status</th>\n",
              "      <th>family_status_id</th>\n",
              "      <th>gender</th>\n",
              "      <th>income_type</th>\n",
              "      <th>debt</th>\n",
              "      <th>total_income</th>\n",
              "      <th>purpose</th>\n",
              "    </tr>\n",
              "  </thead>\n",
              "  <tbody>\n",
              "    <tr>\n",
              "      <th>0</th>\n",
              "      <td>1</td>\n",
              "      <td>-8437.673028</td>\n",
              "      <td>42</td>\n",
              "      <td>высшее</td>\n",
              "      <td>0</td>\n",
              "      <td>женат / замужем</td>\n",
              "      <td>0</td>\n",
              "      <td>F</td>\n",
              "      <td>сотрудник</td>\n",
              "      <td>0</td>\n",
              "      <td>253875.639453</td>\n",
              "      <td>покупка жилья</td>\n",
              "    </tr>\n",
              "    <tr>\n",
              "      <th>1</th>\n",
              "      <td>1</td>\n",
              "      <td>-4024.803754</td>\n",
              "      <td>36</td>\n",
              "      <td>среднее</td>\n",
              "      <td>1</td>\n",
              "      <td>женат / замужем</td>\n",
              "      <td>0</td>\n",
              "      <td>F</td>\n",
              "      <td>сотрудник</td>\n",
              "      <td>0</td>\n",
              "      <td>112080.014102</td>\n",
              "      <td>приобретение автомобиля</td>\n",
              "    </tr>\n",
              "    <tr>\n",
              "      <th>2</th>\n",
              "      <td>0</td>\n",
              "      <td>-5623.422610</td>\n",
              "      <td>33</td>\n",
              "      <td>Среднее</td>\n",
              "      <td>1</td>\n",
              "      <td>женат / замужем</td>\n",
              "      <td>0</td>\n",
              "      <td>M</td>\n",
              "      <td>сотрудник</td>\n",
              "      <td>0</td>\n",
              "      <td>145885.952297</td>\n",
              "      <td>покупка жилья</td>\n",
              "    </tr>\n",
              "    <tr>\n",
              "      <th>3</th>\n",
              "      <td>3</td>\n",
              "      <td>-4124.747207</td>\n",
              "      <td>32</td>\n",
              "      <td>среднее</td>\n",
              "      <td>1</td>\n",
              "      <td>женат / замужем</td>\n",
              "      <td>0</td>\n",
              "      <td>M</td>\n",
              "      <td>сотрудник</td>\n",
              "      <td>0</td>\n",
              "      <td>267628.550329</td>\n",
              "      <td>дополнительное образование</td>\n",
              "    </tr>\n",
              "    <tr>\n",
              "      <th>4</th>\n",
              "      <td>0</td>\n",
              "      <td>340266.072047</td>\n",
              "      <td>53</td>\n",
              "      <td>среднее</td>\n",
              "      <td>1</td>\n",
              "      <td>гражданский брак</td>\n",
              "      <td>1</td>\n",
              "      <td>F</td>\n",
              "      <td>пенсионер</td>\n",
              "      <td>0</td>\n",
              "      <td>158616.077870</td>\n",
              "      <td>сыграть свадьбу</td>\n",
              "    </tr>\n",
              "    <tr>\n",
              "      <th>5</th>\n",
              "      <td>0</td>\n",
              "      <td>-926.185831</td>\n",
              "      <td>27</td>\n",
              "      <td>высшее</td>\n",
              "      <td>0</td>\n",
              "      <td>гражданский брак</td>\n",
              "      <td>1</td>\n",
              "      <td>M</td>\n",
              "      <td>компаньон</td>\n",
              "      <td>0</td>\n",
              "      <td>255763.565419</td>\n",
              "      <td>покупка жилья</td>\n",
              "    </tr>\n",
              "    <tr>\n",
              "      <th>6</th>\n",
              "      <td>0</td>\n",
              "      <td>-2879.202052</td>\n",
              "      <td>43</td>\n",
              "      <td>высшее</td>\n",
              "      <td>0</td>\n",
              "      <td>женат / замужем</td>\n",
              "      <td>0</td>\n",
              "      <td>F</td>\n",
              "      <td>компаньон</td>\n",
              "      <td>0</td>\n",
              "      <td>240525.971920</td>\n",
              "      <td>операции с жильем</td>\n",
              "    </tr>\n",
              "    <tr>\n",
              "      <th>7</th>\n",
              "      <td>0</td>\n",
              "      <td>-152.779569</td>\n",
              "      <td>50</td>\n",
              "      <td>СРЕДНЕЕ</td>\n",
              "      <td>1</td>\n",
              "      <td>женат / замужем</td>\n",
              "      <td>0</td>\n",
              "      <td>M</td>\n",
              "      <td>сотрудник</td>\n",
              "      <td>0</td>\n",
              "      <td>135823.934197</td>\n",
              "      <td>образование</td>\n",
              "    </tr>\n",
              "    <tr>\n",
              "      <th>8</th>\n",
              "      <td>2</td>\n",
              "      <td>-6929.865299</td>\n",
              "      <td>35</td>\n",
              "      <td>ВЫСШЕЕ</td>\n",
              "      <td>0</td>\n",
              "      <td>гражданский брак</td>\n",
              "      <td>1</td>\n",
              "      <td>F</td>\n",
              "      <td>сотрудник</td>\n",
              "      <td>0</td>\n",
              "      <td>95856.832424</td>\n",
              "      <td>на проведение свадьбы</td>\n",
              "    </tr>\n",
              "    <tr>\n",
              "      <th>9</th>\n",
              "      <td>0</td>\n",
              "      <td>-2188.756445</td>\n",
              "      <td>41</td>\n",
              "      <td>среднее</td>\n",
              "      <td>1</td>\n",
              "      <td>женат / замужем</td>\n",
              "      <td>0</td>\n",
              "      <td>M</td>\n",
              "      <td>сотрудник</td>\n",
              "      <td>0</td>\n",
              "      <td>144425.938277</td>\n",
              "      <td>покупка жилья для семьи</td>\n",
              "    </tr>\n",
              "    <tr>\n",
              "      <th>10</th>\n",
              "      <td>2</td>\n",
              "      <td>-4171.483647</td>\n",
              "      <td>36</td>\n",
              "      <td>высшее</td>\n",
              "      <td>0</td>\n",
              "      <td>женат / замужем</td>\n",
              "      <td>0</td>\n",
              "      <td>M</td>\n",
              "      <td>компаньон</td>\n",
              "      <td>0</td>\n",
              "      <td>113943.491460</td>\n",
              "      <td>покупка недвижимости</td>\n",
              "    </tr>\n",
              "    <tr>\n",
              "      <th>11</th>\n",
              "      <td>0</td>\n",
              "      <td>-792.701887</td>\n",
              "      <td>40</td>\n",
              "      <td>среднее</td>\n",
              "      <td>1</td>\n",
              "      <td>женат / замужем</td>\n",
              "      <td>0</td>\n",
              "      <td>F</td>\n",
              "      <td>сотрудник</td>\n",
              "      <td>0</td>\n",
              "      <td>77069.234271</td>\n",
              "      <td>покупка коммерческой недвижимости</td>\n",
              "    </tr>\n",
              "    <tr>\n",
              "      <th>12</th>\n",
              "      <td>0</td>\n",
              "      <td>NaN</td>\n",
              "      <td>65</td>\n",
              "      <td>среднее</td>\n",
              "      <td>1</td>\n",
              "      <td>гражданский брак</td>\n",
              "      <td>1</td>\n",
              "      <td>M</td>\n",
              "      <td>пенсионер</td>\n",
              "      <td>0</td>\n",
              "      <td>NaN</td>\n",
              "      <td>сыграть свадьбу</td>\n",
              "    </tr>\n",
              "    <tr>\n",
              "      <th>13</th>\n",
              "      <td>0</td>\n",
              "      <td>-1846.641941</td>\n",
              "      <td>54</td>\n",
              "      <td>неоконченное высшее</td>\n",
              "      <td>2</td>\n",
              "      <td>женат / замужем</td>\n",
              "      <td>0</td>\n",
              "      <td>F</td>\n",
              "      <td>сотрудник</td>\n",
              "      <td>0</td>\n",
              "      <td>130458.228857</td>\n",
              "      <td>приобретение автомобиля</td>\n",
              "    </tr>\n",
              "    <tr>\n",
              "      <th>14</th>\n",
              "      <td>0</td>\n",
              "      <td>-1844.956182</td>\n",
              "      <td>56</td>\n",
              "      <td>высшее</td>\n",
              "      <td>0</td>\n",
              "      <td>гражданский брак</td>\n",
              "      <td>1</td>\n",
              "      <td>F</td>\n",
              "      <td>компаньон</td>\n",
              "      <td>1</td>\n",
              "      <td>165127.911772</td>\n",
              "      <td>покупка жилой недвижимости</td>\n",
              "    </tr>\n",
              "    <tr>\n",
              "      <th>15</th>\n",
              "      <td>1</td>\n",
              "      <td>-972.364419</td>\n",
              "      <td>26</td>\n",
              "      <td>среднее</td>\n",
              "      <td>1</td>\n",
              "      <td>женат / замужем</td>\n",
              "      <td>0</td>\n",
              "      <td>F</td>\n",
              "      <td>сотрудник</td>\n",
              "      <td>0</td>\n",
              "      <td>116820.904450</td>\n",
              "      <td>строительство собственной недвижимости</td>\n",
              "    </tr>\n",
              "    <tr>\n",
              "      <th>16</th>\n",
              "      <td>0</td>\n",
              "      <td>-1719.934226</td>\n",
              "      <td>35</td>\n",
              "      <td>среднее</td>\n",
              "      <td>1</td>\n",
              "      <td>женат / замужем</td>\n",
              "      <td>0</td>\n",
              "      <td>F</td>\n",
              "      <td>сотрудник</td>\n",
              "      <td>0</td>\n",
              "      <td>289202.704229</td>\n",
              "      <td>недвижимость</td>\n",
              "    </tr>\n",
              "    <tr>\n",
              "      <th>17</th>\n",
              "      <td>0</td>\n",
              "      <td>-2369.999720</td>\n",
              "      <td>33</td>\n",
              "      <td>высшее</td>\n",
              "      <td>0</td>\n",
              "      <td>гражданский брак</td>\n",
              "      <td>1</td>\n",
              "      <td>M</td>\n",
              "      <td>сотрудник</td>\n",
              "      <td>0</td>\n",
              "      <td>90410.586745</td>\n",
              "      <td>строительство недвижимости</td>\n",
              "    </tr>\n",
              "    <tr>\n",
              "      <th>18</th>\n",
              "      <td>0</td>\n",
              "      <td>400281.136913</td>\n",
              "      <td>53</td>\n",
              "      <td>среднее</td>\n",
              "      <td>1</td>\n",
              "      <td>вдовец / вдова</td>\n",
              "      <td>2</td>\n",
              "      <td>F</td>\n",
              "      <td>пенсионер</td>\n",
              "      <td>0</td>\n",
              "      <td>56823.777243</td>\n",
              "      <td>на покупку подержанного автомобиля</td>\n",
              "    </tr>\n",
              "    <tr>\n",
              "      <th>19</th>\n",
              "      <td>0</td>\n",
              "      <td>-10038.818549</td>\n",
              "      <td>48</td>\n",
              "      <td>СРЕДНЕЕ</td>\n",
              "      <td>1</td>\n",
              "      <td>в разводе</td>\n",
              "      <td>3</td>\n",
              "      <td>F</td>\n",
              "      <td>сотрудник</td>\n",
              "      <td>0</td>\n",
              "      <td>242831.107982</td>\n",
              "      <td>на покупку своего автомобиля</td>\n",
              "    </tr>\n",
              "  </tbody>\n",
              "</table>\n",
              "</div>\n",
              "      <button class=\"colab-df-convert\" onclick=\"convertToInteractive('df-7997f8b5-365d-480b-9eb7-d4c470533290')\"\n",
              "              title=\"Convert this dataframe to an interactive table.\"\n",
              "              style=\"display:none;\">\n",
              "\n",
              "  <svg xmlns=\"http://www.w3.org/2000/svg\" height=\"24px\"viewBox=\"0 0 24 24\"\n",
              "       width=\"24px\">\n",
              "    <path d=\"M0 0h24v24H0V0z\" fill=\"none\"/>\n",
              "    <path d=\"M18.56 5.44l.94 2.06.94-2.06 2.06-.94-2.06-.94-.94-2.06-.94 2.06-2.06.94zm-11 1L8.5 8.5l.94-2.06 2.06-.94-2.06-.94L8.5 2.5l-.94 2.06-2.06.94zm10 10l.94 2.06.94-2.06 2.06-.94-2.06-.94-.94-2.06-.94 2.06-2.06.94z\"/><path d=\"M17.41 7.96l-1.37-1.37c-.4-.4-.92-.59-1.43-.59-.52 0-1.04.2-1.43.59L10.3 9.45l-7.72 7.72c-.78.78-.78 2.05 0 2.83L4 21.41c.39.39.9.59 1.41.59.51 0 1.02-.2 1.41-.59l7.78-7.78 2.81-2.81c.8-.78.8-2.07 0-2.86zM5.41 20L4 18.59l7.72-7.72 1.47 1.35L5.41 20z\"/>\n",
              "  </svg>\n",
              "      </button>\n",
              "\n",
              "\n",
              "\n",
              "    <div id=\"df-2b767813-f50c-4960-b4ab-4843392d77a9\">\n",
              "      <button class=\"colab-df-quickchart\" onclick=\"quickchart('df-2b767813-f50c-4960-b4ab-4843392d77a9')\"\n",
              "              title=\"Suggest charts.\"\n",
              "              style=\"display:none;\">\n",
              "\n",
              "<svg xmlns=\"http://www.w3.org/2000/svg\" height=\"24px\"viewBox=\"0 0 24 24\"\n",
              "     width=\"24px\">\n",
              "    <g>\n",
              "        <path d=\"M19 3H5c-1.1 0-2 .9-2 2v14c0 1.1.9 2 2 2h14c1.1 0 2-.9 2-2V5c0-1.1-.9-2-2-2zM9 17H7v-7h2v7zm4 0h-2V7h2v10zm4 0h-2v-4h2v4z\"/>\n",
              "    </g>\n",
              "</svg>\n",
              "      </button>\n",
              "    </div>\n",
              "\n",
              "<style>\n",
              "  .colab-df-quickchart {\n",
              "    background-color: #E8F0FE;\n",
              "    border: none;\n",
              "    border-radius: 50%;\n",
              "    cursor: pointer;\n",
              "    display: none;\n",
              "    fill: #1967D2;\n",
              "    height: 32px;\n",
              "    padding: 0 0 0 0;\n",
              "    width: 32px;\n",
              "  }\n",
              "\n",
              "  .colab-df-quickchart:hover {\n",
              "    background-color: #E2EBFA;\n",
              "    box-shadow: 0px 1px 2px rgba(60, 64, 67, 0.3), 0px 1px 3px 1px rgba(60, 64, 67, 0.15);\n",
              "    fill: #174EA6;\n",
              "  }\n",
              "\n",
              "  [theme=dark] .colab-df-quickchart {\n",
              "    background-color: #3B4455;\n",
              "    fill: #D2E3FC;\n",
              "  }\n",
              "\n",
              "  [theme=dark] .colab-df-quickchart:hover {\n",
              "    background-color: #434B5C;\n",
              "    box-shadow: 0px 1px 3px 1px rgba(0, 0, 0, 0.15);\n",
              "    filter: drop-shadow(0px 1px 2px rgba(0, 0, 0, 0.3));\n",
              "    fill: #FFFFFF;\n",
              "  }\n",
              "</style>\n",
              "\n",
              "    <script>\n",
              "      async function quickchart(key) {\n",
              "        const containerElement = document.querySelector('#' + key);\n",
              "        const charts = await google.colab.kernel.invokeFunction(\n",
              "            'suggestCharts', [key], {});\n",
              "      }\n",
              "    </script>\n",
              "\n",
              "      <script>\n",
              "\n",
              "function displayQuickchartButton(domScope) {\n",
              "  let quickchartButtonEl =\n",
              "    domScope.querySelector('#df-2b767813-f50c-4960-b4ab-4843392d77a9 button.colab-df-quickchart');\n",
              "  quickchartButtonEl.style.display =\n",
              "    google.colab.kernel.accessAllowed ? 'block' : 'none';\n",
              "}\n",
              "\n",
              "        displayQuickchartButton(document);\n",
              "      </script>\n",
              "      <style>\n",
              "    .colab-df-container {\n",
              "      display:flex;\n",
              "      flex-wrap:wrap;\n",
              "      gap: 12px;\n",
              "    }\n",
              "\n",
              "    .colab-df-convert {\n",
              "      background-color: #E8F0FE;\n",
              "      border: none;\n",
              "      border-radius: 50%;\n",
              "      cursor: pointer;\n",
              "      display: none;\n",
              "      fill: #1967D2;\n",
              "      height: 32px;\n",
              "      padding: 0 0 0 0;\n",
              "      width: 32px;\n",
              "    }\n",
              "\n",
              "    .colab-df-convert:hover {\n",
              "      background-color: #E2EBFA;\n",
              "      box-shadow: 0px 1px 2px rgba(60, 64, 67, 0.3), 0px 1px 3px 1px rgba(60, 64, 67, 0.15);\n",
              "      fill: #174EA6;\n",
              "    }\n",
              "\n",
              "    [theme=dark] .colab-df-convert {\n",
              "      background-color: #3B4455;\n",
              "      fill: #D2E3FC;\n",
              "    }\n",
              "\n",
              "    [theme=dark] .colab-df-convert:hover {\n",
              "      background-color: #434B5C;\n",
              "      box-shadow: 0px 1px 3px 1px rgba(0, 0, 0, 0.15);\n",
              "      filter: drop-shadow(0px 1px 2px rgba(0, 0, 0, 0.3));\n",
              "      fill: #FFFFFF;\n",
              "    }\n",
              "  </style>\n",
              "\n",
              "      <script>\n",
              "        const buttonEl =\n",
              "          document.querySelector('#df-7997f8b5-365d-480b-9eb7-d4c470533290 button.colab-df-convert');\n",
              "        buttonEl.style.display =\n",
              "          google.colab.kernel.accessAllowed ? 'block' : 'none';\n",
              "\n",
              "        async function convertToInteractive(key) {\n",
              "          const element = document.querySelector('#df-7997f8b5-365d-480b-9eb7-d4c470533290');\n",
              "          const dataTable =\n",
              "            await google.colab.kernel.invokeFunction('convertToInteractive',\n",
              "                                                     [key], {});\n",
              "          if (!dataTable) return;\n",
              "\n",
              "          const docLinkHtml = 'Like what you see? Visit the ' +\n",
              "            '<a target=\"_blank\" href=https://colab.research.google.com/notebooks/data_table.ipynb>data table notebook</a>'\n",
              "            + ' to learn more about interactive tables.';\n",
              "          element.innerHTML = '';\n",
              "          dataTable['output_type'] = 'display_data';\n",
              "          await google.colab.output.renderOutput(dataTable, element);\n",
              "          const docLink = document.createElement('div');\n",
              "          docLink.innerHTML = docLinkHtml;\n",
              "          element.appendChild(docLink);\n",
              "        }\n",
              "      </script>\n",
              "    </div>\n",
              "  </div>\n"
            ]
          },
          "metadata": {},
          "execution_count": 56
        }
      ],
      "source": [
        "data.head(20)"
      ]
    },
    {
      "cell_type": "markdown",
      "id": "77257bc7",
      "metadata": {
        "deletable": false,
        "editable": false,
        "id": "77257bc7"
      },
      "source": [
        "**Задание 3. Выведите основную информацию о датафрейме с помощью метода `info()`.**"
      ]
    },
    {
      "cell_type": "code",
      "execution_count": 57,
      "id": "0fb95065",
      "metadata": {
        "deletable": false,
        "id": "0fb95065",
        "outputId": "1ae4fbcc-997f-4c93-9647-6963b231c06b",
        "colab": {
          "base_uri": "https://localhost:8080/"
        }
      },
      "outputs": [
        {
          "output_type": "stream",
          "name": "stdout",
          "text": [
            "<class 'pandas.core.frame.DataFrame'>\n",
            "RangeIndex: 21525 entries, 0 to 21524\n",
            "Data columns (total 12 columns):\n",
            " #   Column            Non-Null Count  Dtype  \n",
            "---  ------            --------------  -----  \n",
            " 0   children          21525 non-null  int64  \n",
            " 1   days_employed     19351 non-null  float64\n",
            " 2   dob_years         21525 non-null  int64  \n",
            " 3   education         21525 non-null  object \n",
            " 4   education_id      21525 non-null  int64  \n",
            " 5   family_status     21525 non-null  object \n",
            " 6   family_status_id  21525 non-null  int64  \n",
            " 7   gender            21525 non-null  object \n",
            " 8   income_type       21525 non-null  object \n",
            " 9   debt              21525 non-null  int64  \n",
            " 10  total_income      19351 non-null  float64\n",
            " 11  purpose           21525 non-null  object \n",
            "dtypes: float64(2), int64(5), object(5)\n",
            "memory usage: 2.0+ MB\n"
          ]
        }
      ],
      "source": [
        "data.info()"
      ]
    },
    {
      "cell_type": "code",
      "source": [
        "data.describe()"
      ],
      "metadata": {
        "colab": {
          "base_uri": "https://localhost:8080/",
          "height": 300
        },
        "id": "4OaLfRJFOFNR",
        "outputId": "c15caf52-035f-452f-9450-07c9f7ae337e"
      },
      "id": "4OaLfRJFOFNR",
      "execution_count": 60,
      "outputs": [
        {
          "output_type": "execute_result",
          "data": {
            "text/plain": [
              "           children  days_employed     dob_years  education_id  \\\n",
              "count  21525.000000   19351.000000  21525.000000  21525.000000   \n",
              "mean       0.538908   63046.497661     43.293380      0.817236   \n",
              "std        1.381587  140827.311974     12.574584      0.548138   \n",
              "min       -1.000000  -18388.949901      0.000000      0.000000   \n",
              "25%        0.000000   -2747.423625     33.000000      1.000000   \n",
              "50%        0.000000   -1203.369529     42.000000      1.000000   \n",
              "75%        1.000000    -291.095954     53.000000      1.000000   \n",
              "max       20.000000  401755.400475     75.000000      4.000000   \n",
              "\n",
              "       family_status_id          debt  total_income  \n",
              "count      21525.000000  21525.000000  2.152500e+04  \n",
              "mean           0.972544      0.080883  1.652253e+05  \n",
              "std            1.420324      0.272661  9.804367e+04  \n",
              "min            0.000000      0.000000  2.066726e+04  \n",
              "25%            0.000000      0.000000  1.077982e+05  \n",
              "50%            0.000000      0.000000  1.425944e+05  \n",
              "75%            1.000000      0.000000  1.955499e+05  \n",
              "max            4.000000      1.000000  2.265604e+06  "
            ],
            "text/html": [
              "\n",
              "\n",
              "  <div id=\"df-10649daf-3df7-406d-a9ae-bc4c0594c6b4\">\n",
              "    <div class=\"colab-df-container\">\n",
              "      <div>\n",
              "<style scoped>\n",
              "    .dataframe tbody tr th:only-of-type {\n",
              "        vertical-align: middle;\n",
              "    }\n",
              "\n",
              "    .dataframe tbody tr th {\n",
              "        vertical-align: top;\n",
              "    }\n",
              "\n",
              "    .dataframe thead th {\n",
              "        text-align: right;\n",
              "    }\n",
              "</style>\n",
              "<table border=\"1\" class=\"dataframe\">\n",
              "  <thead>\n",
              "    <tr style=\"text-align: right;\">\n",
              "      <th></th>\n",
              "      <th>children</th>\n",
              "      <th>days_employed</th>\n",
              "      <th>dob_years</th>\n",
              "      <th>education_id</th>\n",
              "      <th>family_status_id</th>\n",
              "      <th>debt</th>\n",
              "      <th>total_income</th>\n",
              "    </tr>\n",
              "  </thead>\n",
              "  <tbody>\n",
              "    <tr>\n",
              "      <th>count</th>\n",
              "      <td>21525.000000</td>\n",
              "      <td>19351.000000</td>\n",
              "      <td>21525.000000</td>\n",
              "      <td>21525.000000</td>\n",
              "      <td>21525.000000</td>\n",
              "      <td>21525.000000</td>\n",
              "      <td>2.152500e+04</td>\n",
              "    </tr>\n",
              "    <tr>\n",
              "      <th>mean</th>\n",
              "      <td>0.538908</td>\n",
              "      <td>63046.497661</td>\n",
              "      <td>43.293380</td>\n",
              "      <td>0.817236</td>\n",
              "      <td>0.972544</td>\n",
              "      <td>0.080883</td>\n",
              "      <td>1.652253e+05</td>\n",
              "    </tr>\n",
              "    <tr>\n",
              "      <th>std</th>\n",
              "      <td>1.381587</td>\n",
              "      <td>140827.311974</td>\n",
              "      <td>12.574584</td>\n",
              "      <td>0.548138</td>\n",
              "      <td>1.420324</td>\n",
              "      <td>0.272661</td>\n",
              "      <td>9.804367e+04</td>\n",
              "    </tr>\n",
              "    <tr>\n",
              "      <th>min</th>\n",
              "      <td>-1.000000</td>\n",
              "      <td>-18388.949901</td>\n",
              "      <td>0.000000</td>\n",
              "      <td>0.000000</td>\n",
              "      <td>0.000000</td>\n",
              "      <td>0.000000</td>\n",
              "      <td>2.066726e+04</td>\n",
              "    </tr>\n",
              "    <tr>\n",
              "      <th>25%</th>\n",
              "      <td>0.000000</td>\n",
              "      <td>-2747.423625</td>\n",
              "      <td>33.000000</td>\n",
              "      <td>1.000000</td>\n",
              "      <td>0.000000</td>\n",
              "      <td>0.000000</td>\n",
              "      <td>1.077982e+05</td>\n",
              "    </tr>\n",
              "    <tr>\n",
              "      <th>50%</th>\n",
              "      <td>0.000000</td>\n",
              "      <td>-1203.369529</td>\n",
              "      <td>42.000000</td>\n",
              "      <td>1.000000</td>\n",
              "      <td>0.000000</td>\n",
              "      <td>0.000000</td>\n",
              "      <td>1.425944e+05</td>\n",
              "    </tr>\n",
              "    <tr>\n",
              "      <th>75%</th>\n",
              "      <td>1.000000</td>\n",
              "      <td>-291.095954</td>\n",
              "      <td>53.000000</td>\n",
              "      <td>1.000000</td>\n",
              "      <td>1.000000</td>\n",
              "      <td>0.000000</td>\n",
              "      <td>1.955499e+05</td>\n",
              "    </tr>\n",
              "    <tr>\n",
              "      <th>max</th>\n",
              "      <td>20.000000</td>\n",
              "      <td>401755.400475</td>\n",
              "      <td>75.000000</td>\n",
              "      <td>4.000000</td>\n",
              "      <td>4.000000</td>\n",
              "      <td>1.000000</td>\n",
              "      <td>2.265604e+06</td>\n",
              "    </tr>\n",
              "  </tbody>\n",
              "</table>\n",
              "</div>\n",
              "      <button class=\"colab-df-convert\" onclick=\"convertToInteractive('df-10649daf-3df7-406d-a9ae-bc4c0594c6b4')\"\n",
              "              title=\"Convert this dataframe to an interactive table.\"\n",
              "              style=\"display:none;\">\n",
              "\n",
              "  <svg xmlns=\"http://www.w3.org/2000/svg\" height=\"24px\"viewBox=\"0 0 24 24\"\n",
              "       width=\"24px\">\n",
              "    <path d=\"M0 0h24v24H0V0z\" fill=\"none\"/>\n",
              "    <path d=\"M18.56 5.44l.94 2.06.94-2.06 2.06-.94-2.06-.94-.94-2.06-.94 2.06-2.06.94zm-11 1L8.5 8.5l.94-2.06 2.06-.94-2.06-.94L8.5 2.5l-.94 2.06-2.06.94zm10 10l.94 2.06.94-2.06 2.06-.94-2.06-.94-.94-2.06-.94 2.06-2.06.94z\"/><path d=\"M17.41 7.96l-1.37-1.37c-.4-.4-.92-.59-1.43-.59-.52 0-1.04.2-1.43.59L10.3 9.45l-7.72 7.72c-.78.78-.78 2.05 0 2.83L4 21.41c.39.39.9.59 1.41.59.51 0 1.02-.2 1.41-.59l7.78-7.78 2.81-2.81c.8-.78.8-2.07 0-2.86zM5.41 20L4 18.59l7.72-7.72 1.47 1.35L5.41 20z\"/>\n",
              "  </svg>\n",
              "      </button>\n",
              "\n",
              "\n",
              "\n",
              "    <div id=\"df-9979f975-dd55-4923-8e62-ada24383019e\">\n",
              "      <button class=\"colab-df-quickchart\" onclick=\"quickchart('df-9979f975-dd55-4923-8e62-ada24383019e')\"\n",
              "              title=\"Suggest charts.\"\n",
              "              style=\"display:none;\">\n",
              "\n",
              "<svg xmlns=\"http://www.w3.org/2000/svg\" height=\"24px\"viewBox=\"0 0 24 24\"\n",
              "     width=\"24px\">\n",
              "    <g>\n",
              "        <path d=\"M19 3H5c-1.1 0-2 .9-2 2v14c0 1.1.9 2 2 2h14c1.1 0 2-.9 2-2V5c0-1.1-.9-2-2-2zM9 17H7v-7h2v7zm4 0h-2V7h2v10zm4 0h-2v-4h2v4z\"/>\n",
              "    </g>\n",
              "</svg>\n",
              "      </button>\n",
              "    </div>\n",
              "\n",
              "<style>\n",
              "  .colab-df-quickchart {\n",
              "    background-color: #E8F0FE;\n",
              "    border: none;\n",
              "    border-radius: 50%;\n",
              "    cursor: pointer;\n",
              "    display: none;\n",
              "    fill: #1967D2;\n",
              "    height: 32px;\n",
              "    padding: 0 0 0 0;\n",
              "    width: 32px;\n",
              "  }\n",
              "\n",
              "  .colab-df-quickchart:hover {\n",
              "    background-color: #E2EBFA;\n",
              "    box-shadow: 0px 1px 2px rgba(60, 64, 67, 0.3), 0px 1px 3px 1px rgba(60, 64, 67, 0.15);\n",
              "    fill: #174EA6;\n",
              "  }\n",
              "\n",
              "  [theme=dark] .colab-df-quickchart {\n",
              "    background-color: #3B4455;\n",
              "    fill: #D2E3FC;\n",
              "  }\n",
              "\n",
              "  [theme=dark] .colab-df-quickchart:hover {\n",
              "    background-color: #434B5C;\n",
              "    box-shadow: 0px 1px 3px 1px rgba(0, 0, 0, 0.15);\n",
              "    filter: drop-shadow(0px 1px 2px rgba(0, 0, 0, 0.3));\n",
              "    fill: #FFFFFF;\n",
              "  }\n",
              "</style>\n",
              "\n",
              "    <script>\n",
              "      async function quickchart(key) {\n",
              "        const containerElement = document.querySelector('#' + key);\n",
              "        const charts = await google.colab.kernel.invokeFunction(\n",
              "            'suggestCharts', [key], {});\n",
              "      }\n",
              "    </script>\n",
              "\n",
              "      <script>\n",
              "\n",
              "function displayQuickchartButton(domScope) {\n",
              "  let quickchartButtonEl =\n",
              "    domScope.querySelector('#df-9979f975-dd55-4923-8e62-ada24383019e button.colab-df-quickchart');\n",
              "  quickchartButtonEl.style.display =\n",
              "    google.colab.kernel.accessAllowed ? 'block' : 'none';\n",
              "}\n",
              "\n",
              "        displayQuickchartButton(document);\n",
              "      </script>\n",
              "      <style>\n",
              "    .colab-df-container {\n",
              "      display:flex;\n",
              "      flex-wrap:wrap;\n",
              "      gap: 12px;\n",
              "    }\n",
              "\n",
              "    .colab-df-convert {\n",
              "      background-color: #E8F0FE;\n",
              "      border: none;\n",
              "      border-radius: 50%;\n",
              "      cursor: pointer;\n",
              "      display: none;\n",
              "      fill: #1967D2;\n",
              "      height: 32px;\n",
              "      padding: 0 0 0 0;\n",
              "      width: 32px;\n",
              "    }\n",
              "\n",
              "    .colab-df-convert:hover {\n",
              "      background-color: #E2EBFA;\n",
              "      box-shadow: 0px 1px 2px rgba(60, 64, 67, 0.3), 0px 1px 3px 1px rgba(60, 64, 67, 0.15);\n",
              "      fill: #174EA6;\n",
              "    }\n",
              "\n",
              "    [theme=dark] .colab-df-convert {\n",
              "      background-color: #3B4455;\n",
              "      fill: #D2E3FC;\n",
              "    }\n",
              "\n",
              "    [theme=dark] .colab-df-convert:hover {\n",
              "      background-color: #434B5C;\n",
              "      box-shadow: 0px 1px 3px 1px rgba(0, 0, 0, 0.15);\n",
              "      filter: drop-shadow(0px 1px 2px rgba(0, 0, 0, 0.3));\n",
              "      fill: #FFFFFF;\n",
              "    }\n",
              "  </style>\n",
              "\n",
              "      <script>\n",
              "        const buttonEl =\n",
              "          document.querySelector('#df-10649daf-3df7-406d-a9ae-bc4c0594c6b4 button.colab-df-convert');\n",
              "        buttonEl.style.display =\n",
              "          google.colab.kernel.accessAllowed ? 'block' : 'none';\n",
              "\n",
              "        async function convertToInteractive(key) {\n",
              "          const element = document.querySelector('#df-10649daf-3df7-406d-a9ae-bc4c0594c6b4');\n",
              "          const dataTable =\n",
              "            await google.colab.kernel.invokeFunction('convertToInteractive',\n",
              "                                                     [key], {});\n",
              "          if (!dataTable) return;\n",
              "\n",
              "          const docLinkHtml = 'Like what you see? Visit the ' +\n",
              "            '<a target=\"_blank\" href=https://colab.research.google.com/notebooks/data_table.ipynb>data table notebook</a>'\n",
              "            + ' to learn more about interactive tables.';\n",
              "          element.innerHTML = '';\n",
              "          dataTable['output_type'] = 'display_data';\n",
              "          await google.colab.output.renderOutput(dataTable, element);\n",
              "          const docLink = document.createElement('div');\n",
              "          docLink.innerHTML = docLinkHtml;\n",
              "          element.appendChild(docLink);\n",
              "        }\n",
              "      </script>\n",
              "    </div>\n",
              "  </div>\n"
            ]
          },
          "metadata": {},
          "execution_count": 60
        }
      ]
    },
    {
      "cell_type": "markdown",
      "source": [
        "Из таблицы видны аномалии в значениях children, days_employed. Минимальные и максимальные значения вызывают вопросы. Отрицательные значения в трудовом стаже - явные ошибки. Значения в dob_years также требуют отдельного рассмотрения - минимальные значения 0."
      ],
      "metadata": {
        "id": "5QzvpBcSyklH"
      },
      "id": "5QzvpBcSyklH"
    },
    {
      "cell_type": "markdown",
      "id": "41e73fb5",
      "metadata": {
        "deletable": false,
        "editable": false,
        "id": "41e73fb5"
      },
      "source": [
        "## Предобработка данных"
      ]
    },
    {
      "cell_type": "markdown",
      "id": "2e2f5b65",
      "metadata": {
        "deletable": false,
        "editable": false,
        "id": "2e2f5b65"
      },
      "source": [
        "### Удаление пропусков"
      ]
    },
    {
      "cell_type": "markdown",
      "id": "fd7d887c",
      "metadata": {
        "deletable": false,
        "editable": false,
        "id": "fd7d887c"
      },
      "source": [
        "**Задание 4. Выведите количество пропущенных значений для каждого столбца. Используйте комбинацию двух методов.**"
      ]
    },
    {
      "cell_type": "code",
      "execution_count": 61,
      "id": "4a8d4538",
      "metadata": {
        "deletable": false,
        "id": "4a8d4538",
        "outputId": "eb28d88a-d89f-4733-8426-43e7c3aafa59",
        "colab": {
          "base_uri": "https://localhost:8080/"
        }
      },
      "outputs": [
        {
          "output_type": "execute_result",
          "data": {
            "text/plain": [
              "children               0\n",
              "days_employed       2174\n",
              "dob_years              0\n",
              "education              0\n",
              "education_id           0\n",
              "family_status          0\n",
              "family_status_id       0\n",
              "gender                 0\n",
              "income_type            0\n",
              "debt                   0\n",
              "total_income           0\n",
              "purpose                0\n",
              "dtype: int64"
            ]
          },
          "metadata": {},
          "execution_count": 61
        }
      ],
      "source": [
        "data.isna().sum()"
      ]
    },
    {
      "cell_type": "code",
      "source": [
        "#Доля пропусков\n",
        "data.isna().mean() * 100"
      ],
      "metadata": {
        "colab": {
          "base_uri": "https://localhost:8080/"
        },
        "id": "WKlhPqwoUQPq",
        "outputId": "d75d3d8e-00ab-4175-9fba-8242d8141116"
      },
      "id": "WKlhPqwoUQPq",
      "execution_count": 62,
      "outputs": [
        {
          "output_type": "execute_result",
          "data": {
            "text/plain": [
              "children             0.000000\n",
              "days_employed       10.099884\n",
              "dob_years            0.000000\n",
              "education            0.000000\n",
              "education_id         0.000000\n",
              "family_status        0.000000\n",
              "family_status_id     0.000000\n",
              "gender               0.000000\n",
              "income_type          0.000000\n",
              "debt                 0.000000\n",
              "total_income         0.000000\n",
              "purpose              0.000000\n",
              "dtype: float64"
            ]
          },
          "metadata": {},
          "execution_count": 62
        }
      ]
    },
    {
      "cell_type": "markdown",
      "source": [
        "Теперь видим долю пропусков в данных. days_employed и total_income - около 10 процентов."
      ],
      "metadata": {
        "id": "j88yvKtNUaN4"
      },
      "id": "j88yvKtNUaN4"
    },
    {
      "cell_type": "markdown",
      "id": "f2dd7c0a",
      "metadata": {
        "deletable": false,
        "editable": false,
        "id": "f2dd7c0a"
      },
      "source": [
        "**Задание 5. В двух столбцах есть пропущенные значения. Один из них — `days_employed`. Пропуски в этом столбце вы обработаете на следующем этапе. Другой столбец с пропущенными значениями — `total_income` — хранит данные о доходах. На сумму дохода сильнее всего влияет тип занятости, поэтому заполнить пропуски в этом столбце нужно медианным значением по каждому типу из столбца `income_type`. Например, у человека с типом занятости `сотрудник` пропуск в столбце `total_income` должен быть заполнен медианным доходом среди всех записей с тем же типом.**"
      ]
    },
    {
      "cell_type": "markdown",
      "source": [
        "Заполним пропуски медианой по каждому типу занятости."
      ],
      "metadata": {
        "id": "QRU5YuT8U1mC"
      },
      "id": "QRU5YuT8U1mC"
    },
    {
      "cell_type": "code",
      "execution_count": 63,
      "id": "a6f1a9a3",
      "metadata": {
        "deletable": false,
        "id": "a6f1a9a3"
      },
      "outputs": [],
      "source": [
        "for t in data['income_type'].unique():\n",
        "    data.loc[(data['income_type'] == t) & (data['total_income'].isna()), 'total_income'] = \\\n",
        "    data.loc[(data['income_type'] == t), 'total_income'].median()\n",
        "\n",
        "#Можно заполнить с использованием функции transform()\n",
        "#data['total_income'] = data['total_income'].fillna(data.groupby(['income_type'])['total_income'].transform('median'))"
      ]
    },
    {
      "cell_type": "markdown",
      "id": "7430d4d5",
      "metadata": {
        "deletable": false,
        "editable": false,
        "id": "7430d4d5"
      },
      "source": [
        "### Обработка аномальных значений"
      ]
    },
    {
      "cell_type": "markdown",
      "id": "b1a21900",
      "metadata": {
        "deletable": false,
        "editable": false,
        "id": "b1a21900"
      },
      "source": [
        "**Задание 6. В данных могут встречаться артефакты (аномалии) — значения, которые не отражают действительность и появились по какой-то ошибке. таким артефактом будет отрицательное количество дней трудового стажа в столбце `days_employed`. Для реальных данных это нормально. Обработайте значения в этом столбце: замените все отрицательные значения положительными с помощью метода `abs()`.**"
      ]
    },
    {
      "cell_type": "code",
      "execution_count": 64,
      "id": "4ed69d5d",
      "metadata": {
        "deletable": false,
        "id": "4ed69d5d"
      },
      "outputs": [],
      "source": [
        "data['days_employed'] = data['days_employed'].abs()"
      ]
    },
    {
      "cell_type": "markdown",
      "id": "30261422",
      "metadata": {
        "deletable": false,
        "editable": false,
        "id": "30261422"
      },
      "source": [
        "**Задание 7. Для каждого типа занятости выведите медианное значение трудового стажа `days_employed` в днях.**"
      ]
    },
    {
      "cell_type": "code",
      "execution_count": 65,
      "id": "1e5955ec",
      "metadata": {
        "deletable": false,
        "id": "1e5955ec",
        "outputId": "2dae331c-982b-4ede-d469-07a25ffa310d",
        "colab": {
          "base_uri": "https://localhost:8080/"
        }
      },
      "outputs": [
        {
          "output_type": "execute_result",
          "data": {
            "text/plain": [
              "income_type\n",
              "безработный        366413.652744\n",
              "в декрете            3296.759962\n",
              "госслужащий          2689.368353\n",
              "компаньон            1547.382223\n",
              "пенсионер          365213.306266\n",
              "предприниматель       520.848083\n",
              "сотрудник            1574.202821\n",
              "студент               578.751554\n",
              "Name: days_employed, dtype: float64"
            ]
          },
          "metadata": {},
          "execution_count": 65
        }
      ],
      "source": [
        "data.groupby('income_type')['days_employed'].agg('median')"
      ]
    },
    {
      "cell_type": "markdown",
      "id": "1916d4d4",
      "metadata": {
        "deletable": false,
        "editable": false,
        "id": "1916d4d4"
      },
      "source": [
        "У двух типов (безработные и пенсионеры) получаются аномально большие значения. Исправить такие значения сложно, поэтому пока оставим их как есть.\n",
        "\n",
        "---\n",
        "\n"
      ]
    },
    {
      "cell_type": "markdown",
      "id": "d41b393b",
      "metadata": {
        "deletable": false,
        "editable": false,
        "id": "d41b393b"
      },
      "source": [
        "**Задание 8. Выведите перечень уникальных значений столбца `children`.**"
      ]
    },
    {
      "cell_type": "code",
      "execution_count": 66,
      "id": "00366e8d",
      "metadata": {
        "deletable": false,
        "id": "00366e8d",
        "outputId": "0a086bc4-dd7d-43c0-eba0-9b976298587c",
        "colab": {
          "base_uri": "https://localhost:8080/"
        }
      },
      "outputs": [
        {
          "output_type": "execute_result",
          "data": {
            "text/plain": [
              "array([ 1,  0,  3,  2, -1,  4, 20,  5])"
            ]
          },
          "metadata": {},
          "execution_count": 66
        }
      ],
      "source": [
        "data['children'].unique()"
      ]
    },
    {
      "cell_type": "markdown",
      "source": [
        "Видим неправдоподобные значения количества детей - это минус один и 20. Такие данные - ошибочны, их можно удалить."
      ],
      "metadata": {
        "id": "QvswclkUVdxi"
      },
      "id": "QvswclkUVdxi"
    },
    {
      "cell_type": "markdown",
      "id": "871aed54",
      "metadata": {
        "deletable": false,
        "editable": false,
        "id": "871aed54"
      },
      "source": [
        "**Задание 9. В столбце `children` есть два аномальных значения. Удалите строки, в которых встречаются такие аномальные значения из датафрейма `data`.**"
      ]
    },
    {
      "cell_type": "code",
      "execution_count": 67,
      "id": "9b022483",
      "metadata": {
        "deletable": false,
        "id": "9b022483"
      },
      "outputs": [],
      "source": [
        "data = data[(data['children'] != -1) & (data['children'] != 20)]"
      ]
    },
    {
      "cell_type": "markdown",
      "id": "bf666b27",
      "metadata": {
        "deletable": false,
        "editable": false,
        "id": "bf666b27"
      },
      "source": [
        "**Задание 10. Ещё раз выведите перечень уникальных значений столбца `children`, чтобы убедиться, что артефакты удалены.**"
      ]
    },
    {
      "cell_type": "code",
      "execution_count": 68,
      "id": "f97d1f7c",
      "metadata": {
        "deletable": false,
        "id": "f97d1f7c",
        "outputId": "640f03ad-cbc9-4fc9-f9b6-e6e0e806fde0",
        "colab": {
          "base_uri": "https://localhost:8080/"
        }
      },
      "outputs": [
        {
          "output_type": "execute_result",
          "data": {
            "text/plain": [
              "array([1, 0, 3, 2, 4, 5])"
            ]
          },
          "metadata": {},
          "execution_count": 68
        }
      ],
      "source": [
        "data['children'].unique()"
      ]
    },
    {
      "cell_type": "markdown",
      "id": "0cba7c1d",
      "metadata": {
        "deletable": false,
        "editable": false,
        "id": "0cba7c1d"
      },
      "source": [
        "**Задание 11. Заполнили пропуски в столбце `days_employed` медианными значениями по каждого типа занятости `income_type`.**"
      ]
    },
    {
      "cell_type": "code",
      "execution_count": 69,
      "id": "839f8745",
      "metadata": {
        "deletable": false,
        "id": "839f8745"
      },
      "outputs": [],
      "source": [
        "data['days_employed'] = data['days_employed'].fillna(data.groupby(['income_type'])['days_employed'].transform('median'))"
      ]
    },
    {
      "cell_type": "markdown",
      "id": "aeb4da0a",
      "metadata": {
        "deletable": false,
        "editable": false,
        "id": "aeb4da0a"
      },
      "source": [
        "**Задание 12. Убедитесь, что все пропуски заполнены. Проверьте себя и ещё раз выведите количество пропущенных значений для каждого столбца с помощью двух методов.**"
      ]
    },
    {
      "cell_type": "code",
      "execution_count": 70,
      "id": "22f74984",
      "metadata": {
        "deletable": false,
        "id": "22f74984",
        "outputId": "a69e2eb6-0320-4376-f5e0-c598d6c34730",
        "colab": {
          "base_uri": "https://localhost:8080/"
        }
      },
      "outputs": [
        {
          "output_type": "execute_result",
          "data": {
            "text/plain": [
              "children            0\n",
              "days_employed       0\n",
              "dob_years           0\n",
              "education           0\n",
              "education_id        0\n",
              "family_status       0\n",
              "family_status_id    0\n",
              "gender              0\n",
              "income_type         0\n",
              "debt                0\n",
              "total_income        0\n",
              "purpose             0\n",
              "dtype: int64"
            ]
          },
          "metadata": {},
          "execution_count": 70
        }
      ],
      "source": [
        "data.isna().sum()"
      ]
    },
    {
      "cell_type": "markdown",
      "id": "5be78e70",
      "metadata": {
        "deletable": false,
        "editable": false,
        "id": "5be78e70"
      },
      "source": [
        "### Изменение типов данных"
      ]
    },
    {
      "cell_type": "markdown",
      "id": "9e50f77e",
      "metadata": {
        "deletable": false,
        "editable": false,
        "id": "9e50f77e"
      },
      "source": [
        "**Задание 13. Замените вещественный тип данных в столбце `total_income` на целочисленный с помощью метода `astype()`.**"
      ]
    },
    {
      "cell_type": "code",
      "execution_count": 71,
      "id": "6c634eb7",
      "metadata": {
        "deletable": false,
        "id": "6c634eb7"
      },
      "outputs": [],
      "source": [
        "data['total_income'] = data['total_income'].astype(int)"
      ]
    },
    {
      "cell_type": "markdown",
      "id": "facd5d22",
      "metadata": {
        "deletable": false,
        "editable": false,
        "id": "facd5d22"
      },
      "source": [
        "### Обработка дубликатов"
      ]
    },
    {
      "cell_type": "markdown",
      "id": "22c74f8c",
      "metadata": {
        "deletable": false,
        "editable": false,
        "id": "22c74f8c"
      },
      "source": [
        "**Задание 14. Обработайте неявные дубликаты в столбце `education`. В этом столбце есть одни и те же значения, но записанные по-разному: с использованием заглавных и строчных букв. Приведите их к нижнему регистру. Проверьте остальные столбцы.**"
      ]
    },
    {
      "cell_type": "code",
      "execution_count": 72,
      "id": "4f098380",
      "metadata": {
        "deletable": false,
        "id": "4f098380"
      },
      "outputs": [],
      "source": [
        "data['education'] = data['education'].str.lower()"
      ]
    },
    {
      "cell_type": "markdown",
      "id": "72450a51",
      "metadata": {
        "deletable": false,
        "editable": false,
        "id": "72450a51"
      },
      "source": [
        "**Задание 15. Выведите на экран количество строк-дубликатов в данных. Если такие строки присутствуют, удалите их.**"
      ]
    },
    {
      "cell_type": "code",
      "execution_count": 73,
      "id": "71619d2b",
      "metadata": {
        "deletable": false,
        "id": "71619d2b",
        "outputId": "cb63d739-3132-4ec0-823d-abce3944e080",
        "colab": {
          "base_uri": "https://localhost:8080/"
        }
      },
      "outputs": [
        {
          "output_type": "execute_result",
          "data": {
            "text/plain": [
              "71"
            ]
          },
          "metadata": {},
          "execution_count": 73
        }
      ],
      "source": [
        "data.duplicated().sum()"
      ]
    },
    {
      "cell_type": "code",
      "execution_count": 74,
      "id": "565e8c26",
      "metadata": {
        "deletable": false,
        "id": "565e8c26",
        "colab": {
          "base_uri": "https://localhost:8080/"
        },
        "outputId": "efd5ed1f-6996-4aca-bfe3-f8c7b4a62f5d"
      },
      "outputs": [
        {
          "output_type": "execute_result",
          "data": {
            "text/plain": [
              "0"
            ]
          },
          "metadata": {},
          "execution_count": 74
        }
      ],
      "source": [
        "data = data.drop_duplicates()\n",
        "data.duplicated().sum()"
      ]
    },
    {
      "cell_type": "markdown",
      "id": "89cd9b34",
      "metadata": {
        "deletable": false,
        "editable": false,
        "id": "89cd9b34"
      },
      "source": [
        "### Категоризация данных"
      ]
    },
    {
      "cell_type": "markdown",
      "id": "00976dd1",
      "metadata": {
        "deletable": false,
        "editable": false,
        "id": "00976dd1"
      },
      "source": [
        "**Задание 16. На основании диапазонов, указанных ниже, создайте в датафрейме `data` столбец `total_income_category` с категориями:**\n",
        "\n",
        "- 0–30000 — `'E'`;\n",
        "- 30001–50000 — `'D'`;\n",
        "- 50001–200000 — `'C'`;\n",
        "- 200001–1000000 — `'B'`;\n",
        "- 1000001 и выше — `'A'`.\n",
        "\n",
        "\n",
        "**Например, кредитополучателю с доходом 25000 нужно назначить категорию `'E'`, а клиенту, получающему 235000, — `'B'`. Используйте собственную функцию с именем `categorize_income()` и метод `apply()`.**"
      ]
    },
    {
      "cell_type": "code",
      "execution_count": 75,
      "id": "3aad89cb",
      "metadata": {
        "deletable": false,
        "id": "3aad89cb"
      },
      "outputs": [],
      "source": [
        "def categorize_income(income):\n",
        "    try:\n",
        "        if 0 <= income <= 30000:\n",
        "            return 'E'\n",
        "        elif 30001 <= income <= 50000:\n",
        "            return 'D'\n",
        "        elif 50001 <= income <= 200000:\n",
        "            return 'C'\n",
        "        elif 200001 <= income <= 1000000:\n",
        "            return 'B'\n",
        "        elif income >= 1000001:\n",
        "            return 'A'\n",
        "    except:\n",
        "        pass"
      ]
    },
    {
      "cell_type": "code",
      "execution_count": 76,
      "id": "1e914a15",
      "metadata": {
        "deletable": false,
        "id": "1e914a15"
      },
      "outputs": [],
      "source": [
        "data['total_income_category'] = data['total_income'].apply(categorize_income)"
      ]
    },
    {
      "cell_type": "code",
      "source": [
        "data['total_income_category'].value_counts()"
      ],
      "metadata": {
        "colab": {
          "base_uri": "https://localhost:8080/"
        },
        "id": "23vxstuSXg4j",
        "outputId": "792128e8-8d3b-46f3-abfd-7e826f88a836"
      },
      "id": "23vxstuSXg4j",
      "execution_count": 77,
      "outputs": [
        {
          "output_type": "execute_result",
          "data": {
            "text/plain": [
              "C    15921\n",
              "B     5014\n",
              "D      349\n",
              "A       25\n",
              "E       22\n",
              "Name: total_income_category, dtype: int64"
            ]
          },
          "metadata": {},
          "execution_count": 77
        }
      ]
    },
    {
      "cell_type": "markdown",
      "id": "6abe76d3",
      "metadata": {
        "deletable": false,
        "editable": false,
        "id": "6abe76d3"
      },
      "source": [
        "**Задание 17. Выведите на экран перечень уникальных целей взятия кредита из столбца `purpose`.**"
      ]
    },
    {
      "cell_type": "code",
      "execution_count": 78,
      "id": "8a776b89",
      "metadata": {
        "deletable": false,
        "id": "8a776b89",
        "outputId": "afd85f7e-0849-450e-e52a-10fe3733804d",
        "colab": {
          "base_uri": "https://localhost:8080/"
        }
      },
      "outputs": [
        {
          "output_type": "execute_result",
          "data": {
            "text/plain": [
              "array(['покупка жилья', 'приобретение автомобиля',\n",
              "       'дополнительное образование', 'сыграть свадьбу',\n",
              "       'операции с жильем', 'образование', 'на проведение свадьбы',\n",
              "       'покупка жилья для семьи', 'покупка недвижимости',\n",
              "       'покупка коммерческой недвижимости', 'покупка жилой недвижимости',\n",
              "       'строительство собственной недвижимости', 'недвижимость',\n",
              "       'строительство недвижимости', 'на покупку подержанного автомобиля',\n",
              "       'на покупку своего автомобиля',\n",
              "       'операции с коммерческой недвижимостью',\n",
              "       'строительство жилой недвижимости', 'жилье',\n",
              "       'операции со своей недвижимостью', 'автомобили',\n",
              "       'заняться образованием', 'сделка с подержанным автомобилем',\n",
              "       'получение образования', 'автомобиль', 'свадьба',\n",
              "       'получение дополнительного образования', 'покупка своего жилья',\n",
              "       'операции с недвижимостью', 'получение высшего образования',\n",
              "       'свой автомобиль', 'сделка с автомобилем',\n",
              "       'профильное образование', 'высшее образование',\n",
              "       'покупка жилья для сдачи', 'на покупку автомобиля', 'ремонт жилью',\n",
              "       'заняться высшим образованием'], dtype=object)"
            ]
          },
          "metadata": {},
          "execution_count": 78
        }
      ],
      "source": [
        "data['purpose'].unique()"
      ]
    },
    {
      "cell_type": "markdown",
      "id": "e48e7261",
      "metadata": {
        "deletable": false,
        "editable": false,
        "id": "e48e7261"
      },
      "source": [
        "**Задание 18. Создайте функцию, которая на основании данных из столбца `purpose` сформирует новый столбец `purpose_category`, в который войдут следующие категории:**\n",
        "\n",
        "- `'операции с автомобилем'`,\n",
        "- `'операции с недвижимостью'`,\n",
        "- `'проведение свадьбы'`,\n",
        "- `'получение образования'`.\n",
        "\n",
        "**Например, если в столбце `purpose` находится подстрока `'на покупку автомобиля'`, то в столбце `purpose_category` должна появиться строка `'операции с автомобилем'`.**\n",
        "\n",
        "**Используйте собственную функцию с именем `categorize_purpose()` и метод `apply()`. Изучите данные в столбце `purpose` и определите, какие подстроки помогут вам правильно определить категорию.**"
      ]
    },
    {
      "cell_type": "code",
      "execution_count": 79,
      "id": "724ef8bb",
      "metadata": {
        "deletable": false,
        "id": "724ef8bb"
      },
      "outputs": [],
      "source": [
        "def categorize_purpose(row):\n",
        "    try:\n",
        "        if 'автом' in row:\n",
        "            return 'операции с автомобилем'\n",
        "        elif 'жил' in row or 'недвиж' in row:\n",
        "            return 'операции с недвижимостью'\n",
        "        elif 'свад' in row:\n",
        "            return 'проведение свадьбы'\n",
        "        elif 'образов' in row:\n",
        "            return 'получение образования'\n",
        "    except:\n",
        "        return 'нет категории'"
      ]
    },
    {
      "cell_type": "code",
      "execution_count": 80,
      "id": "35f013b8",
      "metadata": {
        "deletable": false,
        "id": "35f013b8"
      },
      "outputs": [],
      "source": [
        "data['purpose_category'] = data['purpose'].apply(categorize_purpose)"
      ]
    },
    {
      "cell_type": "code",
      "source": [
        "data['purpose_category'].value_counts()"
      ],
      "metadata": {
        "colab": {
          "base_uri": "https://localhost:8080/"
        },
        "id": "sLMsRlPTXz72",
        "outputId": "232a9041-b680-463e-bade-72c88e29eb1e"
      },
      "id": "sLMsRlPTXz72",
      "execution_count": 81,
      "outputs": [
        {
          "output_type": "execute_result",
          "data": {
            "text/plain": [
              "операции с недвижимостью    10751\n",
              "операции с автомобилем       4279\n",
              "получение образования        3988\n",
              "проведение свадьбы           2313\n",
              "Name: purpose_category, dtype: int64"
            ]
          },
          "metadata": {},
          "execution_count": 81
        }
      ]
    },
    {
      "cell_type": "markdown",
      "id": "fdd2bbc2",
      "metadata": {
        "deletable": false,
        "editable": false,
        "id": "fdd2bbc2"
      },
      "source": [
        "### Шаг 3. Исследуйте данные и ответьте на вопросы"
      ]
    },
    {
      "cell_type": "markdown",
      "id": "9a9e5390",
      "metadata": {
        "deletable": false,
        "editable": false,
        "id": "9a9e5390"
      },
      "source": [
        "#### 3.1 Есть ли зависимость между количеством детей и возвратом кредита в срок?"
      ]
    },
    {
      "cell_type": "code",
      "execution_count": 82,
      "id": "9ba50476",
      "metadata": {
        "deletable": false,
        "id": "9ba50476",
        "colab": {
          "base_uri": "https://localhost:8080/",
          "height": 357
        },
        "outputId": "df1fff8e-5394-46bb-f16b-62d967111565"
      },
      "outputs": [
        {
          "output_type": "execute_result",
          "data": {
            "text/plain": [
              "   children  days_employed  dob_years education  education_id  \\\n",
              "0         1    8437.673028         42    высшее             0   \n",
              "1         1    4024.803754         36   среднее             1   \n",
              "2         0    5623.422610         33   среднее             1   \n",
              "3         3    4124.747207         32   среднее             1   \n",
              "4         0  340266.072047         53   среднее             1   \n",
              "\n",
              "      family_status  family_status_id gender income_type  debt  total_income  \\\n",
              "0   женат / замужем                 0      F   сотрудник     0        253875   \n",
              "1   женат / замужем                 0      F   сотрудник     0        112080   \n",
              "2   женат / замужем                 0      M   сотрудник     0        145885   \n",
              "3   женат / замужем                 0      M   сотрудник     0        267628   \n",
              "4  гражданский брак                 1      F   пенсионер     0        158616   \n",
              "\n",
              "                      purpose total_income_category          purpose_category  \n",
              "0               покупка жилья                     B  операции с недвижимостью  \n",
              "1     приобретение автомобиля                     C    операции с автомобилем  \n",
              "2               покупка жилья                     C  операции с недвижимостью  \n",
              "3  дополнительное образование                     B     получение образования  \n",
              "4             сыграть свадьбу                     C        проведение свадьбы  "
            ],
            "text/html": [
              "\n",
              "\n",
              "  <div id=\"df-04a04d65-1d44-4647-873f-d6df4b45ef35\">\n",
              "    <div class=\"colab-df-container\">\n",
              "      <div>\n",
              "<style scoped>\n",
              "    .dataframe tbody tr th:only-of-type {\n",
              "        vertical-align: middle;\n",
              "    }\n",
              "\n",
              "    .dataframe tbody tr th {\n",
              "        vertical-align: top;\n",
              "    }\n",
              "\n",
              "    .dataframe thead th {\n",
              "        text-align: right;\n",
              "    }\n",
              "</style>\n",
              "<table border=\"1\" class=\"dataframe\">\n",
              "  <thead>\n",
              "    <tr style=\"text-align: right;\">\n",
              "      <th></th>\n",
              "      <th>children</th>\n",
              "      <th>days_employed</th>\n",
              "      <th>dob_years</th>\n",
              "      <th>education</th>\n",
              "      <th>education_id</th>\n",
              "      <th>family_status</th>\n",
              "      <th>family_status_id</th>\n",
              "      <th>gender</th>\n",
              "      <th>income_type</th>\n",
              "      <th>debt</th>\n",
              "      <th>total_income</th>\n",
              "      <th>purpose</th>\n",
              "      <th>total_income_category</th>\n",
              "      <th>purpose_category</th>\n",
              "    </tr>\n",
              "  </thead>\n",
              "  <tbody>\n",
              "    <tr>\n",
              "      <th>0</th>\n",
              "      <td>1</td>\n",
              "      <td>8437.673028</td>\n",
              "      <td>42</td>\n",
              "      <td>высшее</td>\n",
              "      <td>0</td>\n",
              "      <td>женат / замужем</td>\n",
              "      <td>0</td>\n",
              "      <td>F</td>\n",
              "      <td>сотрудник</td>\n",
              "      <td>0</td>\n",
              "      <td>253875</td>\n",
              "      <td>покупка жилья</td>\n",
              "      <td>B</td>\n",
              "      <td>операции с недвижимостью</td>\n",
              "    </tr>\n",
              "    <tr>\n",
              "      <th>1</th>\n",
              "      <td>1</td>\n",
              "      <td>4024.803754</td>\n",
              "      <td>36</td>\n",
              "      <td>среднее</td>\n",
              "      <td>1</td>\n",
              "      <td>женат / замужем</td>\n",
              "      <td>0</td>\n",
              "      <td>F</td>\n",
              "      <td>сотрудник</td>\n",
              "      <td>0</td>\n",
              "      <td>112080</td>\n",
              "      <td>приобретение автомобиля</td>\n",
              "      <td>C</td>\n",
              "      <td>операции с автомобилем</td>\n",
              "    </tr>\n",
              "    <tr>\n",
              "      <th>2</th>\n",
              "      <td>0</td>\n",
              "      <td>5623.422610</td>\n",
              "      <td>33</td>\n",
              "      <td>среднее</td>\n",
              "      <td>1</td>\n",
              "      <td>женат / замужем</td>\n",
              "      <td>0</td>\n",
              "      <td>M</td>\n",
              "      <td>сотрудник</td>\n",
              "      <td>0</td>\n",
              "      <td>145885</td>\n",
              "      <td>покупка жилья</td>\n",
              "      <td>C</td>\n",
              "      <td>операции с недвижимостью</td>\n",
              "    </tr>\n",
              "    <tr>\n",
              "      <th>3</th>\n",
              "      <td>3</td>\n",
              "      <td>4124.747207</td>\n",
              "      <td>32</td>\n",
              "      <td>среднее</td>\n",
              "      <td>1</td>\n",
              "      <td>женат / замужем</td>\n",
              "      <td>0</td>\n",
              "      <td>M</td>\n",
              "      <td>сотрудник</td>\n",
              "      <td>0</td>\n",
              "      <td>267628</td>\n",
              "      <td>дополнительное образование</td>\n",
              "      <td>B</td>\n",
              "      <td>получение образования</td>\n",
              "    </tr>\n",
              "    <tr>\n",
              "      <th>4</th>\n",
              "      <td>0</td>\n",
              "      <td>340266.072047</td>\n",
              "      <td>53</td>\n",
              "      <td>среднее</td>\n",
              "      <td>1</td>\n",
              "      <td>гражданский брак</td>\n",
              "      <td>1</td>\n",
              "      <td>F</td>\n",
              "      <td>пенсионер</td>\n",
              "      <td>0</td>\n",
              "      <td>158616</td>\n",
              "      <td>сыграть свадьбу</td>\n",
              "      <td>C</td>\n",
              "      <td>проведение свадьбы</td>\n",
              "    </tr>\n",
              "  </tbody>\n",
              "</table>\n",
              "</div>\n",
              "      <button class=\"colab-df-convert\" onclick=\"convertToInteractive('df-04a04d65-1d44-4647-873f-d6df4b45ef35')\"\n",
              "              title=\"Convert this dataframe to an interactive table.\"\n",
              "              style=\"display:none;\">\n",
              "\n",
              "  <svg xmlns=\"http://www.w3.org/2000/svg\" height=\"24px\"viewBox=\"0 0 24 24\"\n",
              "       width=\"24px\">\n",
              "    <path d=\"M0 0h24v24H0V0z\" fill=\"none\"/>\n",
              "    <path d=\"M18.56 5.44l.94 2.06.94-2.06 2.06-.94-2.06-.94-.94-2.06-.94 2.06-2.06.94zm-11 1L8.5 8.5l.94-2.06 2.06-.94-2.06-.94L8.5 2.5l-.94 2.06-2.06.94zm10 10l.94 2.06.94-2.06 2.06-.94-2.06-.94-.94-2.06-.94 2.06-2.06.94z\"/><path d=\"M17.41 7.96l-1.37-1.37c-.4-.4-.92-.59-1.43-.59-.52 0-1.04.2-1.43.59L10.3 9.45l-7.72 7.72c-.78.78-.78 2.05 0 2.83L4 21.41c.39.39.9.59 1.41.59.51 0 1.02-.2 1.41-.59l7.78-7.78 2.81-2.81c.8-.78.8-2.07 0-2.86zM5.41 20L4 18.59l7.72-7.72 1.47 1.35L5.41 20z\"/>\n",
              "  </svg>\n",
              "      </button>\n",
              "\n",
              "\n",
              "\n",
              "    <div id=\"df-1fc62ce4-f30c-4322-90b6-de87ba7b08dd\">\n",
              "      <button class=\"colab-df-quickchart\" onclick=\"quickchart('df-1fc62ce4-f30c-4322-90b6-de87ba7b08dd')\"\n",
              "              title=\"Suggest charts.\"\n",
              "              style=\"display:none;\">\n",
              "\n",
              "<svg xmlns=\"http://www.w3.org/2000/svg\" height=\"24px\"viewBox=\"0 0 24 24\"\n",
              "     width=\"24px\">\n",
              "    <g>\n",
              "        <path d=\"M19 3H5c-1.1 0-2 .9-2 2v14c0 1.1.9 2 2 2h14c1.1 0 2-.9 2-2V5c0-1.1-.9-2-2-2zM9 17H7v-7h2v7zm4 0h-2V7h2v10zm4 0h-2v-4h2v4z\"/>\n",
              "    </g>\n",
              "</svg>\n",
              "      </button>\n",
              "    </div>\n",
              "\n",
              "<style>\n",
              "  .colab-df-quickchart {\n",
              "    background-color: #E8F0FE;\n",
              "    border: none;\n",
              "    border-radius: 50%;\n",
              "    cursor: pointer;\n",
              "    display: none;\n",
              "    fill: #1967D2;\n",
              "    height: 32px;\n",
              "    padding: 0 0 0 0;\n",
              "    width: 32px;\n",
              "  }\n",
              "\n",
              "  .colab-df-quickchart:hover {\n",
              "    background-color: #E2EBFA;\n",
              "    box-shadow: 0px 1px 2px rgba(60, 64, 67, 0.3), 0px 1px 3px 1px rgba(60, 64, 67, 0.15);\n",
              "    fill: #174EA6;\n",
              "  }\n",
              "\n",
              "  [theme=dark] .colab-df-quickchart {\n",
              "    background-color: #3B4455;\n",
              "    fill: #D2E3FC;\n",
              "  }\n",
              "\n",
              "  [theme=dark] .colab-df-quickchart:hover {\n",
              "    background-color: #434B5C;\n",
              "    box-shadow: 0px 1px 3px 1px rgba(0, 0, 0, 0.15);\n",
              "    filter: drop-shadow(0px 1px 2px rgba(0, 0, 0, 0.3));\n",
              "    fill: #FFFFFF;\n",
              "  }\n",
              "</style>\n",
              "\n",
              "    <script>\n",
              "      async function quickchart(key) {\n",
              "        const containerElement = document.querySelector('#' + key);\n",
              "        const charts = await google.colab.kernel.invokeFunction(\n",
              "            'suggestCharts', [key], {});\n",
              "      }\n",
              "    </script>\n",
              "\n",
              "      <script>\n",
              "\n",
              "function displayQuickchartButton(domScope) {\n",
              "  let quickchartButtonEl =\n",
              "    domScope.querySelector('#df-1fc62ce4-f30c-4322-90b6-de87ba7b08dd button.colab-df-quickchart');\n",
              "  quickchartButtonEl.style.display =\n",
              "    google.colab.kernel.accessAllowed ? 'block' : 'none';\n",
              "}\n",
              "\n",
              "        displayQuickchartButton(document);\n",
              "      </script>\n",
              "      <style>\n",
              "    .colab-df-container {\n",
              "      display:flex;\n",
              "      flex-wrap:wrap;\n",
              "      gap: 12px;\n",
              "    }\n",
              "\n",
              "    .colab-df-convert {\n",
              "      background-color: #E8F0FE;\n",
              "      border: none;\n",
              "      border-radius: 50%;\n",
              "      cursor: pointer;\n",
              "      display: none;\n",
              "      fill: #1967D2;\n",
              "      height: 32px;\n",
              "      padding: 0 0 0 0;\n",
              "      width: 32px;\n",
              "    }\n",
              "\n",
              "    .colab-df-convert:hover {\n",
              "      background-color: #E2EBFA;\n",
              "      box-shadow: 0px 1px 2px rgba(60, 64, 67, 0.3), 0px 1px 3px 1px rgba(60, 64, 67, 0.15);\n",
              "      fill: #174EA6;\n",
              "    }\n",
              "\n",
              "    [theme=dark] .colab-df-convert {\n",
              "      background-color: #3B4455;\n",
              "      fill: #D2E3FC;\n",
              "    }\n",
              "\n",
              "    [theme=dark] .colab-df-convert:hover {\n",
              "      background-color: #434B5C;\n",
              "      box-shadow: 0px 1px 3px 1px rgba(0, 0, 0, 0.15);\n",
              "      filter: drop-shadow(0px 1px 2px rgba(0, 0, 0, 0.3));\n",
              "      fill: #FFFFFF;\n",
              "    }\n",
              "  </style>\n",
              "\n",
              "      <script>\n",
              "        const buttonEl =\n",
              "          document.querySelector('#df-04a04d65-1d44-4647-873f-d6df4b45ef35 button.colab-df-convert');\n",
              "        buttonEl.style.display =\n",
              "          google.colab.kernel.accessAllowed ? 'block' : 'none';\n",
              "\n",
              "        async function convertToInteractive(key) {\n",
              "          const element = document.querySelector('#df-04a04d65-1d44-4647-873f-d6df4b45ef35');\n",
              "          const dataTable =\n",
              "            await google.colab.kernel.invokeFunction('convertToInteractive',\n",
              "                                                     [key], {});\n",
              "          if (!dataTable) return;\n",
              "\n",
              "          const docLinkHtml = 'Like what you see? Visit the ' +\n",
              "            '<a target=\"_blank\" href=https://colab.research.google.com/notebooks/data_table.ipynb>data table notebook</a>'\n",
              "            + ' to learn more about interactive tables.';\n",
              "          element.innerHTML = '';\n",
              "          dataTable['output_type'] = 'display_data';\n",
              "          await google.colab.output.renderOutput(dataTable, element);\n",
              "          const docLink = document.createElement('div');\n",
              "          docLink.innerHTML = docLinkHtml;\n",
              "          element.appendChild(docLink);\n",
              "        }\n",
              "      </script>\n",
              "    </div>\n",
              "  </div>\n"
            ]
          },
          "metadata": {},
          "execution_count": 82
        }
      ],
      "source": [
        "data.head()"
      ]
    },
    {
      "cell_type": "code",
      "execution_count": 83,
      "id": "1922c486",
      "metadata": {
        "colab": {
          "base_uri": "https://localhost:8080/"
        },
        "id": "1922c486",
        "outputId": "5450e32b-038b-4a61-dd8f-8f0e1e795b36"
      },
      "outputs": [
        {
          "output_type": "execute_result",
          "data": {
            "text/plain": [
              "children\n",
              "0    1063\n",
              "1     444\n",
              "2     194\n",
              "3      27\n",
              "4       4\n",
              "5       0\n",
              "Name: debt, dtype: int64"
            ]
          },
          "metadata": {},
          "execution_count": 83
        }
      ],
      "source": [
        "data.groupby('children')['debt'].sum() #сгруппируем  и посчитаем суммарное значение задолженностей по категории \"количество детей\""
      ]
    },
    {
      "cell_type": "markdown",
      "id": "69c647a8",
      "metadata": {
        "id": "69c647a8"
      },
      "source": [
        "Сгруппировали по стобцу \"children\" и посчитали количество задолжностей по возврату кредитов, которые были у клиентов ранее по каждой группе.\n",
        "\n",
        "**Казалось бы, наблюдается прямая зависимость возврата кредита от количества детей. Больше всего задолжностей было у клиентов не имеющих детей и ни разу у тех, у кого их 5.**\n",
        "\n",
        "Однако это не отражает объективную картину, так как надо узнать, какое количество клиентов в каждой категории. Поэтому проверим, какое количество клиентов по каждой категории -\"количество детей\".\n",
        "\n",
        "Видно, что большая часть клиентов  не имеют детей. Надо проверить, как это выглядит в процентном соотношении.\n",
        "\n",
        "**Предварительно можно сделать вывод о том, что люди без детей охотнее берут кредиты и чем больше детей, тем менее человек склонен к тому, чтобы брать кредит.**"
      ]
    },
    {
      "cell_type": "code",
      "execution_count": 84,
      "id": "fd2bfb30",
      "metadata": {
        "colab": {
          "base_uri": "https://localhost:8080/"
        },
        "id": "fd2bfb30",
        "outputId": "35ed2e8a-c339-40e8-8ac4-c1490610ecc1"
      },
      "outputs": [
        {
          "output_type": "execute_result",
          "data": {
            "text/plain": [
              "children\n",
              "0    14091\n",
              "1     4808\n",
              "2     2052\n",
              "3      330\n",
              "4       41\n",
              "5        9\n",
              "Name: debt, dtype: int64"
            ]
          },
          "metadata": {},
          "execution_count": 84
        }
      ],
      "source": [
        "data.groupby('children')['debt'].count() #посчитаем количество клиентов по каждой категории \"количество детей\""
      ]
    },
    {
      "cell_type": "markdown",
      "id": "9f16b76a",
      "metadata": {
        "id": "9f16b76a"
      },
      "source": [
        "Для наглядности сведем данные в отдельную таблицу. Добавим в таблицу процентное соотношение задолжности к количеству клиентов."
      ]
    },
    {
      "cell_type": "code",
      "execution_count": 85,
      "id": "e9c06e8e",
      "metadata": {
        "colab": {
          "base_uri": "https://localhost:8080/",
          "height": 237
        },
        "id": "e9c06e8e",
        "outputId": "548af4db-5c5c-4863-e353-edf3a31e77c6"
      },
      "outputs": [
        {
          "output_type": "execute_result",
          "data": {
            "text/plain": [
              "   Кол-во детей  Кол-во клиентов  Кол-во задолжностей\n",
              "0             0            14091                 1063\n",
              "1             1             4808                  444\n",
              "2             2             2052                  194\n",
              "3             3              330                   27\n",
              "4             4               41                    4\n",
              "5             5                9                    0"
            ],
            "text/html": [
              "\n",
              "\n",
              "  <div id=\"df-336f0873-4e91-4951-ab99-c2c8152953c6\">\n",
              "    <div class=\"colab-df-container\">\n",
              "      <div>\n",
              "<style scoped>\n",
              "    .dataframe tbody tr th:only-of-type {\n",
              "        vertical-align: middle;\n",
              "    }\n",
              "\n",
              "    .dataframe tbody tr th {\n",
              "        vertical-align: top;\n",
              "    }\n",
              "\n",
              "    .dataframe thead th {\n",
              "        text-align: right;\n",
              "    }\n",
              "</style>\n",
              "<table border=\"1\" class=\"dataframe\">\n",
              "  <thead>\n",
              "    <tr style=\"text-align: right;\">\n",
              "      <th></th>\n",
              "      <th>Кол-во детей</th>\n",
              "      <th>Кол-во клиентов</th>\n",
              "      <th>Кол-во задолжностей</th>\n",
              "    </tr>\n",
              "  </thead>\n",
              "  <tbody>\n",
              "    <tr>\n",
              "      <th>0</th>\n",
              "      <td>0</td>\n",
              "      <td>14091</td>\n",
              "      <td>1063</td>\n",
              "    </tr>\n",
              "    <tr>\n",
              "      <th>1</th>\n",
              "      <td>1</td>\n",
              "      <td>4808</td>\n",
              "      <td>444</td>\n",
              "    </tr>\n",
              "    <tr>\n",
              "      <th>2</th>\n",
              "      <td>2</td>\n",
              "      <td>2052</td>\n",
              "      <td>194</td>\n",
              "    </tr>\n",
              "    <tr>\n",
              "      <th>3</th>\n",
              "      <td>3</td>\n",
              "      <td>330</td>\n",
              "      <td>27</td>\n",
              "    </tr>\n",
              "    <tr>\n",
              "      <th>4</th>\n",
              "      <td>4</td>\n",
              "      <td>41</td>\n",
              "      <td>4</td>\n",
              "    </tr>\n",
              "    <tr>\n",
              "      <th>5</th>\n",
              "      <td>5</td>\n",
              "      <td>9</td>\n",
              "      <td>0</td>\n",
              "    </tr>\n",
              "  </tbody>\n",
              "</table>\n",
              "</div>\n",
              "      <button class=\"colab-df-convert\" onclick=\"convertToInteractive('df-336f0873-4e91-4951-ab99-c2c8152953c6')\"\n",
              "              title=\"Convert this dataframe to an interactive table.\"\n",
              "              style=\"display:none;\">\n",
              "\n",
              "  <svg xmlns=\"http://www.w3.org/2000/svg\" height=\"24px\"viewBox=\"0 0 24 24\"\n",
              "       width=\"24px\">\n",
              "    <path d=\"M0 0h24v24H0V0z\" fill=\"none\"/>\n",
              "    <path d=\"M18.56 5.44l.94 2.06.94-2.06 2.06-.94-2.06-.94-.94-2.06-.94 2.06-2.06.94zm-11 1L8.5 8.5l.94-2.06 2.06-.94-2.06-.94L8.5 2.5l-.94 2.06-2.06.94zm10 10l.94 2.06.94-2.06 2.06-.94-2.06-.94-.94-2.06-.94 2.06-2.06.94z\"/><path d=\"M17.41 7.96l-1.37-1.37c-.4-.4-.92-.59-1.43-.59-.52 0-1.04.2-1.43.59L10.3 9.45l-7.72 7.72c-.78.78-.78 2.05 0 2.83L4 21.41c.39.39.9.59 1.41.59.51 0 1.02-.2 1.41-.59l7.78-7.78 2.81-2.81c.8-.78.8-2.07 0-2.86zM5.41 20L4 18.59l7.72-7.72 1.47 1.35L5.41 20z\"/>\n",
              "  </svg>\n",
              "      </button>\n",
              "\n",
              "\n",
              "\n",
              "    <div id=\"df-d14d8117-0304-4c0e-af96-a277bb3423a6\">\n",
              "      <button class=\"colab-df-quickchart\" onclick=\"quickchart('df-d14d8117-0304-4c0e-af96-a277bb3423a6')\"\n",
              "              title=\"Suggest charts.\"\n",
              "              style=\"display:none;\">\n",
              "\n",
              "<svg xmlns=\"http://www.w3.org/2000/svg\" height=\"24px\"viewBox=\"0 0 24 24\"\n",
              "     width=\"24px\">\n",
              "    <g>\n",
              "        <path d=\"M19 3H5c-1.1 0-2 .9-2 2v14c0 1.1.9 2 2 2h14c1.1 0 2-.9 2-2V5c0-1.1-.9-2-2-2zM9 17H7v-7h2v7zm4 0h-2V7h2v10zm4 0h-2v-4h2v4z\"/>\n",
              "    </g>\n",
              "</svg>\n",
              "      </button>\n",
              "    </div>\n",
              "\n",
              "<style>\n",
              "  .colab-df-quickchart {\n",
              "    background-color: #E8F0FE;\n",
              "    border: none;\n",
              "    border-radius: 50%;\n",
              "    cursor: pointer;\n",
              "    display: none;\n",
              "    fill: #1967D2;\n",
              "    height: 32px;\n",
              "    padding: 0 0 0 0;\n",
              "    width: 32px;\n",
              "  }\n",
              "\n",
              "  .colab-df-quickchart:hover {\n",
              "    background-color: #E2EBFA;\n",
              "    box-shadow: 0px 1px 2px rgba(60, 64, 67, 0.3), 0px 1px 3px 1px rgba(60, 64, 67, 0.15);\n",
              "    fill: #174EA6;\n",
              "  }\n",
              "\n",
              "  [theme=dark] .colab-df-quickchart {\n",
              "    background-color: #3B4455;\n",
              "    fill: #D2E3FC;\n",
              "  }\n",
              "\n",
              "  [theme=dark] .colab-df-quickchart:hover {\n",
              "    background-color: #434B5C;\n",
              "    box-shadow: 0px 1px 3px 1px rgba(0, 0, 0, 0.15);\n",
              "    filter: drop-shadow(0px 1px 2px rgba(0, 0, 0, 0.3));\n",
              "    fill: #FFFFFF;\n",
              "  }\n",
              "</style>\n",
              "\n",
              "    <script>\n",
              "      async function quickchart(key) {\n",
              "        const containerElement = document.querySelector('#' + key);\n",
              "        const charts = await google.colab.kernel.invokeFunction(\n",
              "            'suggestCharts', [key], {});\n",
              "      }\n",
              "    </script>\n",
              "\n",
              "      <script>\n",
              "\n",
              "function displayQuickchartButton(domScope) {\n",
              "  let quickchartButtonEl =\n",
              "    domScope.querySelector('#df-d14d8117-0304-4c0e-af96-a277bb3423a6 button.colab-df-quickchart');\n",
              "  quickchartButtonEl.style.display =\n",
              "    google.colab.kernel.accessAllowed ? 'block' : 'none';\n",
              "}\n",
              "\n",
              "        displayQuickchartButton(document);\n",
              "      </script>\n",
              "      <style>\n",
              "    .colab-df-container {\n",
              "      display:flex;\n",
              "      flex-wrap:wrap;\n",
              "      gap: 12px;\n",
              "    }\n",
              "\n",
              "    .colab-df-convert {\n",
              "      background-color: #E8F0FE;\n",
              "      border: none;\n",
              "      border-radius: 50%;\n",
              "      cursor: pointer;\n",
              "      display: none;\n",
              "      fill: #1967D2;\n",
              "      height: 32px;\n",
              "      padding: 0 0 0 0;\n",
              "      width: 32px;\n",
              "    }\n",
              "\n",
              "    .colab-df-convert:hover {\n",
              "      background-color: #E2EBFA;\n",
              "      box-shadow: 0px 1px 2px rgba(60, 64, 67, 0.3), 0px 1px 3px 1px rgba(60, 64, 67, 0.15);\n",
              "      fill: #174EA6;\n",
              "    }\n",
              "\n",
              "    [theme=dark] .colab-df-convert {\n",
              "      background-color: #3B4455;\n",
              "      fill: #D2E3FC;\n",
              "    }\n",
              "\n",
              "    [theme=dark] .colab-df-convert:hover {\n",
              "      background-color: #434B5C;\n",
              "      box-shadow: 0px 1px 3px 1px rgba(0, 0, 0, 0.15);\n",
              "      filter: drop-shadow(0px 1px 2px rgba(0, 0, 0, 0.3));\n",
              "      fill: #FFFFFF;\n",
              "    }\n",
              "  </style>\n",
              "\n",
              "      <script>\n",
              "        const buttonEl =\n",
              "          document.querySelector('#df-336f0873-4e91-4951-ab99-c2c8152953c6 button.colab-df-convert');\n",
              "        buttonEl.style.display =\n",
              "          google.colab.kernel.accessAllowed ? 'block' : 'none';\n",
              "\n",
              "        async function convertToInteractive(key) {\n",
              "          const element = document.querySelector('#df-336f0873-4e91-4951-ab99-c2c8152953c6');\n",
              "          const dataTable =\n",
              "            await google.colab.kernel.invokeFunction('convertToInteractive',\n",
              "                                                     [key], {});\n",
              "          if (!dataTable) return;\n",
              "\n",
              "          const docLinkHtml = 'Like what you see? Visit the ' +\n",
              "            '<a target=\"_blank\" href=https://colab.research.google.com/notebooks/data_table.ipynb>data table notebook</a>'\n",
              "            + ' to learn more about interactive tables.';\n",
              "          element.innerHTML = '';\n",
              "          dataTable['output_type'] = 'display_data';\n",
              "          await google.colab.output.renderOutput(dataTable, element);\n",
              "          const docLink = document.createElement('div');\n",
              "          docLink.innerHTML = docLinkHtml;\n",
              "          element.appendChild(docLink);\n",
              "        }\n",
              "      </script>\n",
              "    </div>\n",
              "  </div>\n"
            ]
          },
          "metadata": {},
          "execution_count": 85
        }
      ],
      "source": [
        "x = sorted(data['children'].unique())\n",
        "y = data.groupby('children')['debt'].count()\n",
        "z = data.groupby('children')['debt'].sum()\n",
        "#создадим новую таблицу с данными - количество детей, кол-во клиентов, кол-во задолженностей\n",
        "data_child = pd.DataFrame(data=zip(x,y,z), columns=['Кол-во детей','Кол-во клиентов','Кол-во задолжностей'])\n",
        "data_child"
      ]
    },
    {
      "cell_type": "code",
      "execution_count": 106,
      "id": "46cbfeea",
      "metadata": {
        "colab": {
          "base_uri": "https://localhost:8080/",
          "height": 237
        },
        "id": "46cbfeea",
        "outputId": "6ecfec3b-3deb-40ff-92ee-e27ef3cc77e4"
      },
      "outputs": [
        {
          "output_type": "execute_result",
          "data": {
            "text/plain": [
              "   Кол-во детей  Кол-во клиентов  Кол-во задолжностей   % соотн\n",
              "0             0            14091                 1063  7.543822\n",
              "1             1             4808                  444  9.234609\n",
              "2             2             2052                  194  9.454191\n",
              "3             3              330                   27  8.181818\n",
              "4             4               41                    4  9.756098\n",
              "5             5                9                    0  0.000000"
            ],
            "text/html": [
              "\n",
              "\n",
              "  <div id=\"df-8820025f-4e37-4191-a1ff-f4874d05cb2d\">\n",
              "    <div class=\"colab-df-container\">\n",
              "      <div>\n",
              "<style scoped>\n",
              "    .dataframe tbody tr th:only-of-type {\n",
              "        vertical-align: middle;\n",
              "    }\n",
              "\n",
              "    .dataframe tbody tr th {\n",
              "        vertical-align: top;\n",
              "    }\n",
              "\n",
              "    .dataframe thead th {\n",
              "        text-align: right;\n",
              "    }\n",
              "</style>\n",
              "<table border=\"1\" class=\"dataframe\">\n",
              "  <thead>\n",
              "    <tr style=\"text-align: right;\">\n",
              "      <th></th>\n",
              "      <th>Кол-во детей</th>\n",
              "      <th>Кол-во клиентов</th>\n",
              "      <th>Кол-во задолжностей</th>\n",
              "      <th>% соотн</th>\n",
              "    </tr>\n",
              "  </thead>\n",
              "  <tbody>\n",
              "    <tr>\n",
              "      <th>0</th>\n",
              "      <td>0</td>\n",
              "      <td>14091</td>\n",
              "      <td>1063</td>\n",
              "      <td>7.543822</td>\n",
              "    </tr>\n",
              "    <tr>\n",
              "      <th>1</th>\n",
              "      <td>1</td>\n",
              "      <td>4808</td>\n",
              "      <td>444</td>\n",
              "      <td>9.234609</td>\n",
              "    </tr>\n",
              "    <tr>\n",
              "      <th>2</th>\n",
              "      <td>2</td>\n",
              "      <td>2052</td>\n",
              "      <td>194</td>\n",
              "      <td>9.454191</td>\n",
              "    </tr>\n",
              "    <tr>\n",
              "      <th>3</th>\n",
              "      <td>3</td>\n",
              "      <td>330</td>\n",
              "      <td>27</td>\n",
              "      <td>8.181818</td>\n",
              "    </tr>\n",
              "    <tr>\n",
              "      <th>4</th>\n",
              "      <td>4</td>\n",
              "      <td>41</td>\n",
              "      <td>4</td>\n",
              "      <td>9.756098</td>\n",
              "    </tr>\n",
              "    <tr>\n",
              "      <th>5</th>\n",
              "      <td>5</td>\n",
              "      <td>9</td>\n",
              "      <td>0</td>\n",
              "      <td>0.000000</td>\n",
              "    </tr>\n",
              "  </tbody>\n",
              "</table>\n",
              "</div>\n",
              "      <button class=\"colab-df-convert\" onclick=\"convertToInteractive('df-8820025f-4e37-4191-a1ff-f4874d05cb2d')\"\n",
              "              title=\"Convert this dataframe to an interactive table.\"\n",
              "              style=\"display:none;\">\n",
              "\n",
              "  <svg xmlns=\"http://www.w3.org/2000/svg\" height=\"24px\"viewBox=\"0 0 24 24\"\n",
              "       width=\"24px\">\n",
              "    <path d=\"M0 0h24v24H0V0z\" fill=\"none\"/>\n",
              "    <path d=\"M18.56 5.44l.94 2.06.94-2.06 2.06-.94-2.06-.94-.94-2.06-.94 2.06-2.06.94zm-11 1L8.5 8.5l.94-2.06 2.06-.94-2.06-.94L8.5 2.5l-.94 2.06-2.06.94zm10 10l.94 2.06.94-2.06 2.06-.94-2.06-.94-.94-2.06-.94 2.06-2.06.94z\"/><path d=\"M17.41 7.96l-1.37-1.37c-.4-.4-.92-.59-1.43-.59-.52 0-1.04.2-1.43.59L10.3 9.45l-7.72 7.72c-.78.78-.78 2.05 0 2.83L4 21.41c.39.39.9.59 1.41.59.51 0 1.02-.2 1.41-.59l7.78-7.78 2.81-2.81c.8-.78.8-2.07 0-2.86zM5.41 20L4 18.59l7.72-7.72 1.47 1.35L5.41 20z\"/>\n",
              "  </svg>\n",
              "      </button>\n",
              "\n",
              "\n",
              "\n",
              "    <div id=\"df-4457ecc3-9bfc-473d-a715-6f39b26040f2\">\n",
              "      <button class=\"colab-df-quickchart\" onclick=\"quickchart('df-4457ecc3-9bfc-473d-a715-6f39b26040f2')\"\n",
              "              title=\"Suggest charts.\"\n",
              "              style=\"display:none;\">\n",
              "\n",
              "<svg xmlns=\"http://www.w3.org/2000/svg\" height=\"24px\"viewBox=\"0 0 24 24\"\n",
              "     width=\"24px\">\n",
              "    <g>\n",
              "        <path d=\"M19 3H5c-1.1 0-2 .9-2 2v14c0 1.1.9 2 2 2h14c1.1 0 2-.9 2-2V5c0-1.1-.9-2-2-2zM9 17H7v-7h2v7zm4 0h-2V7h2v10zm4 0h-2v-4h2v4z\"/>\n",
              "    </g>\n",
              "</svg>\n",
              "      </button>\n",
              "    </div>\n",
              "\n",
              "<style>\n",
              "  .colab-df-quickchart {\n",
              "    background-color: #E8F0FE;\n",
              "    border: none;\n",
              "    border-radius: 50%;\n",
              "    cursor: pointer;\n",
              "    display: none;\n",
              "    fill: #1967D2;\n",
              "    height: 32px;\n",
              "    padding: 0 0 0 0;\n",
              "    width: 32px;\n",
              "  }\n",
              "\n",
              "  .colab-df-quickchart:hover {\n",
              "    background-color: #E2EBFA;\n",
              "    box-shadow: 0px 1px 2px rgba(60, 64, 67, 0.3), 0px 1px 3px 1px rgba(60, 64, 67, 0.15);\n",
              "    fill: #174EA6;\n",
              "  }\n",
              "\n",
              "  [theme=dark] .colab-df-quickchart {\n",
              "    background-color: #3B4455;\n",
              "    fill: #D2E3FC;\n",
              "  }\n",
              "\n",
              "  [theme=dark] .colab-df-quickchart:hover {\n",
              "    background-color: #434B5C;\n",
              "    box-shadow: 0px 1px 3px 1px rgba(0, 0, 0, 0.15);\n",
              "    filter: drop-shadow(0px 1px 2px rgba(0, 0, 0, 0.3));\n",
              "    fill: #FFFFFF;\n",
              "  }\n",
              "</style>\n",
              "\n",
              "    <script>\n",
              "      async function quickchart(key) {\n",
              "        const containerElement = document.querySelector('#' + key);\n",
              "        const charts = await google.colab.kernel.invokeFunction(\n",
              "            'suggestCharts', [key], {});\n",
              "      }\n",
              "    </script>\n",
              "\n",
              "      <script>\n",
              "\n",
              "function displayQuickchartButton(domScope) {\n",
              "  let quickchartButtonEl =\n",
              "    domScope.querySelector('#df-4457ecc3-9bfc-473d-a715-6f39b26040f2 button.colab-df-quickchart');\n",
              "  quickchartButtonEl.style.display =\n",
              "    google.colab.kernel.accessAllowed ? 'block' : 'none';\n",
              "}\n",
              "\n",
              "        displayQuickchartButton(document);\n",
              "      </script>\n",
              "      <style>\n",
              "    .colab-df-container {\n",
              "      display:flex;\n",
              "      flex-wrap:wrap;\n",
              "      gap: 12px;\n",
              "    }\n",
              "\n",
              "    .colab-df-convert {\n",
              "      background-color: #E8F0FE;\n",
              "      border: none;\n",
              "      border-radius: 50%;\n",
              "      cursor: pointer;\n",
              "      display: none;\n",
              "      fill: #1967D2;\n",
              "      height: 32px;\n",
              "      padding: 0 0 0 0;\n",
              "      width: 32px;\n",
              "    }\n",
              "\n",
              "    .colab-df-convert:hover {\n",
              "      background-color: #E2EBFA;\n",
              "      box-shadow: 0px 1px 2px rgba(60, 64, 67, 0.3), 0px 1px 3px 1px rgba(60, 64, 67, 0.15);\n",
              "      fill: #174EA6;\n",
              "    }\n",
              "\n",
              "    [theme=dark] .colab-df-convert {\n",
              "      background-color: #3B4455;\n",
              "      fill: #D2E3FC;\n",
              "    }\n",
              "\n",
              "    [theme=dark] .colab-df-convert:hover {\n",
              "      background-color: #434B5C;\n",
              "      box-shadow: 0px 1px 3px 1px rgba(0, 0, 0, 0.15);\n",
              "      filter: drop-shadow(0px 1px 2px rgba(0, 0, 0, 0.3));\n",
              "      fill: #FFFFFF;\n",
              "    }\n",
              "  </style>\n",
              "\n",
              "      <script>\n",
              "        const buttonEl =\n",
              "          document.querySelector('#df-8820025f-4e37-4191-a1ff-f4874d05cb2d button.colab-df-convert');\n",
              "        buttonEl.style.display =\n",
              "          google.colab.kernel.accessAllowed ? 'block' : 'none';\n",
              "\n",
              "        async function convertToInteractive(key) {\n",
              "          const element = document.querySelector('#df-8820025f-4e37-4191-a1ff-f4874d05cb2d');\n",
              "          const dataTable =\n",
              "            await google.colab.kernel.invokeFunction('convertToInteractive',\n",
              "                                                     [key], {});\n",
              "          if (!dataTable) return;\n",
              "\n",
              "          const docLinkHtml = 'Like what you see? Visit the ' +\n",
              "            '<a target=\"_blank\" href=https://colab.research.google.com/notebooks/data_table.ipynb>data table notebook</a>'\n",
              "            + ' to learn more about interactive tables.';\n",
              "          element.innerHTML = '';\n",
              "          dataTable['output_type'] = 'display_data';\n",
              "          await google.colab.output.renderOutput(dataTable, element);\n",
              "          const docLink = document.createElement('div');\n",
              "          docLink.innerHTML = docLinkHtml;\n",
              "          element.appendChild(docLink);\n",
              "        }\n",
              "      </script>\n",
              "    </div>\n",
              "  </div>\n"
            ]
          },
          "metadata": {},
          "execution_count": 106
        }
      ],
      "source": [
        "#рассчитаем и процентное соотношение задолженностей по каждой категории и добавим новый столбец в таблицу\n",
        "data_child['% соотн'] =  (data_child['Кол-во задолжностей'] /data_child['Кол-во клиентов'])*100\n",
        "data_child"
      ]
    },
    {
      "cell_type": "code",
      "source": [
        "#То же самое, но с использованием сводной таблицы\n",
        "data_pivot = data.pivot_table(index=['children'], values='debt', aggfunc=['sum','count', 'mean'])\n",
        "data_pivot['mean'] = data_pivot['mean']  * 100\n",
        "data_pivot"
      ],
      "metadata": {
        "colab": {
          "base_uri": "https://localhost:8080/",
          "height": 300
        },
        "id": "nE4qulHpYopU",
        "outputId": "e799d9a1-877f-43a2-b31f-e0a951762d21"
      },
      "id": "nE4qulHpYopU",
      "execution_count": 104,
      "outputs": [
        {
          "output_type": "execute_result",
          "data": {
            "text/plain": [
              "           sum  count      mean\n",
              "          debt   debt      debt\n",
              "children                       \n",
              "0         1063  14091  7.543822\n",
              "1          444   4808  9.234609\n",
              "2          194   2052  9.454191\n",
              "3           27    330  8.181818\n",
              "4            4     41  9.756098\n",
              "5            0      9  0.000000"
            ],
            "text/html": [
              "\n",
              "\n",
              "  <div id=\"df-a1f77f8c-7735-44f1-90f6-a79b501ad52d\">\n",
              "    <div class=\"colab-df-container\">\n",
              "      <div>\n",
              "<style scoped>\n",
              "    .dataframe tbody tr th:only-of-type {\n",
              "        vertical-align: middle;\n",
              "    }\n",
              "\n",
              "    .dataframe tbody tr th {\n",
              "        vertical-align: top;\n",
              "    }\n",
              "\n",
              "    .dataframe thead tr th {\n",
              "        text-align: left;\n",
              "    }\n",
              "\n",
              "    .dataframe thead tr:last-of-type th {\n",
              "        text-align: right;\n",
              "    }\n",
              "</style>\n",
              "<table border=\"1\" class=\"dataframe\">\n",
              "  <thead>\n",
              "    <tr>\n",
              "      <th></th>\n",
              "      <th>sum</th>\n",
              "      <th>count</th>\n",
              "      <th>mean</th>\n",
              "    </tr>\n",
              "    <tr>\n",
              "      <th></th>\n",
              "      <th>debt</th>\n",
              "      <th>debt</th>\n",
              "      <th>debt</th>\n",
              "    </tr>\n",
              "    <tr>\n",
              "      <th>children</th>\n",
              "      <th></th>\n",
              "      <th></th>\n",
              "      <th></th>\n",
              "    </tr>\n",
              "  </thead>\n",
              "  <tbody>\n",
              "    <tr>\n",
              "      <th>0</th>\n",
              "      <td>1063</td>\n",
              "      <td>14091</td>\n",
              "      <td>7.543822</td>\n",
              "    </tr>\n",
              "    <tr>\n",
              "      <th>1</th>\n",
              "      <td>444</td>\n",
              "      <td>4808</td>\n",
              "      <td>9.234609</td>\n",
              "    </tr>\n",
              "    <tr>\n",
              "      <th>2</th>\n",
              "      <td>194</td>\n",
              "      <td>2052</td>\n",
              "      <td>9.454191</td>\n",
              "    </tr>\n",
              "    <tr>\n",
              "      <th>3</th>\n",
              "      <td>27</td>\n",
              "      <td>330</td>\n",
              "      <td>8.181818</td>\n",
              "    </tr>\n",
              "    <tr>\n",
              "      <th>4</th>\n",
              "      <td>4</td>\n",
              "      <td>41</td>\n",
              "      <td>9.756098</td>\n",
              "    </tr>\n",
              "    <tr>\n",
              "      <th>5</th>\n",
              "      <td>0</td>\n",
              "      <td>9</td>\n",
              "      <td>0.000000</td>\n",
              "    </tr>\n",
              "  </tbody>\n",
              "</table>\n",
              "</div>\n",
              "      <button class=\"colab-df-convert\" onclick=\"convertToInteractive('df-a1f77f8c-7735-44f1-90f6-a79b501ad52d')\"\n",
              "              title=\"Convert this dataframe to an interactive table.\"\n",
              "              style=\"display:none;\">\n",
              "\n",
              "  <svg xmlns=\"http://www.w3.org/2000/svg\" height=\"24px\"viewBox=\"0 0 24 24\"\n",
              "       width=\"24px\">\n",
              "    <path d=\"M0 0h24v24H0V0z\" fill=\"none\"/>\n",
              "    <path d=\"M18.56 5.44l.94 2.06.94-2.06 2.06-.94-2.06-.94-.94-2.06-.94 2.06-2.06.94zm-11 1L8.5 8.5l.94-2.06 2.06-.94-2.06-.94L8.5 2.5l-.94 2.06-2.06.94zm10 10l.94 2.06.94-2.06 2.06-.94-2.06-.94-.94-2.06-.94 2.06-2.06.94z\"/><path d=\"M17.41 7.96l-1.37-1.37c-.4-.4-.92-.59-1.43-.59-.52 0-1.04.2-1.43.59L10.3 9.45l-7.72 7.72c-.78.78-.78 2.05 0 2.83L4 21.41c.39.39.9.59 1.41.59.51 0 1.02-.2 1.41-.59l7.78-7.78 2.81-2.81c.8-.78.8-2.07 0-2.86zM5.41 20L4 18.59l7.72-7.72 1.47 1.35L5.41 20z\"/>\n",
              "  </svg>\n",
              "      </button>\n",
              "\n",
              "\n",
              "\n",
              "    <div id=\"df-2ec0f43b-a0f0-4a9b-b495-251357e3d3e1\">\n",
              "      <button class=\"colab-df-quickchart\" onclick=\"quickchart('df-2ec0f43b-a0f0-4a9b-b495-251357e3d3e1')\"\n",
              "              title=\"Suggest charts.\"\n",
              "              style=\"display:none;\">\n",
              "\n",
              "<svg xmlns=\"http://www.w3.org/2000/svg\" height=\"24px\"viewBox=\"0 0 24 24\"\n",
              "     width=\"24px\">\n",
              "    <g>\n",
              "        <path d=\"M19 3H5c-1.1 0-2 .9-2 2v14c0 1.1.9 2 2 2h14c1.1 0 2-.9 2-2V5c0-1.1-.9-2-2-2zM9 17H7v-7h2v7zm4 0h-2V7h2v10zm4 0h-2v-4h2v4z\"/>\n",
              "    </g>\n",
              "</svg>\n",
              "      </button>\n",
              "    </div>\n",
              "\n",
              "<style>\n",
              "  .colab-df-quickchart {\n",
              "    background-color: #E8F0FE;\n",
              "    border: none;\n",
              "    border-radius: 50%;\n",
              "    cursor: pointer;\n",
              "    display: none;\n",
              "    fill: #1967D2;\n",
              "    height: 32px;\n",
              "    padding: 0 0 0 0;\n",
              "    width: 32px;\n",
              "  }\n",
              "\n",
              "  .colab-df-quickchart:hover {\n",
              "    background-color: #E2EBFA;\n",
              "    box-shadow: 0px 1px 2px rgba(60, 64, 67, 0.3), 0px 1px 3px 1px rgba(60, 64, 67, 0.15);\n",
              "    fill: #174EA6;\n",
              "  }\n",
              "\n",
              "  [theme=dark] .colab-df-quickchart {\n",
              "    background-color: #3B4455;\n",
              "    fill: #D2E3FC;\n",
              "  }\n",
              "\n",
              "  [theme=dark] .colab-df-quickchart:hover {\n",
              "    background-color: #434B5C;\n",
              "    box-shadow: 0px 1px 3px 1px rgba(0, 0, 0, 0.15);\n",
              "    filter: drop-shadow(0px 1px 2px rgba(0, 0, 0, 0.3));\n",
              "    fill: #FFFFFF;\n",
              "  }\n",
              "</style>\n",
              "\n",
              "    <script>\n",
              "      async function quickchart(key) {\n",
              "        const containerElement = document.querySelector('#' + key);\n",
              "        const charts = await google.colab.kernel.invokeFunction(\n",
              "            'suggestCharts', [key], {});\n",
              "      }\n",
              "    </script>\n",
              "\n",
              "      <script>\n",
              "\n",
              "function displayQuickchartButton(domScope) {\n",
              "  let quickchartButtonEl =\n",
              "    domScope.querySelector('#df-2ec0f43b-a0f0-4a9b-b495-251357e3d3e1 button.colab-df-quickchart');\n",
              "  quickchartButtonEl.style.display =\n",
              "    google.colab.kernel.accessAllowed ? 'block' : 'none';\n",
              "}\n",
              "\n",
              "        displayQuickchartButton(document);\n",
              "      </script>\n",
              "      <style>\n",
              "    .colab-df-container {\n",
              "      display:flex;\n",
              "      flex-wrap:wrap;\n",
              "      gap: 12px;\n",
              "    }\n",
              "\n",
              "    .colab-df-convert {\n",
              "      background-color: #E8F0FE;\n",
              "      border: none;\n",
              "      border-radius: 50%;\n",
              "      cursor: pointer;\n",
              "      display: none;\n",
              "      fill: #1967D2;\n",
              "      height: 32px;\n",
              "      padding: 0 0 0 0;\n",
              "      width: 32px;\n",
              "    }\n",
              "\n",
              "    .colab-df-convert:hover {\n",
              "      background-color: #E2EBFA;\n",
              "      box-shadow: 0px 1px 2px rgba(60, 64, 67, 0.3), 0px 1px 3px 1px rgba(60, 64, 67, 0.15);\n",
              "      fill: #174EA6;\n",
              "    }\n",
              "\n",
              "    [theme=dark] .colab-df-convert {\n",
              "      background-color: #3B4455;\n",
              "      fill: #D2E3FC;\n",
              "    }\n",
              "\n",
              "    [theme=dark] .colab-df-convert:hover {\n",
              "      background-color: #434B5C;\n",
              "      box-shadow: 0px 1px 3px 1px rgba(0, 0, 0, 0.15);\n",
              "      filter: drop-shadow(0px 1px 2px rgba(0, 0, 0, 0.3));\n",
              "      fill: #FFFFFF;\n",
              "    }\n",
              "  </style>\n",
              "\n",
              "      <script>\n",
              "        const buttonEl =\n",
              "          document.querySelector('#df-a1f77f8c-7735-44f1-90f6-a79b501ad52d button.colab-df-convert');\n",
              "        buttonEl.style.display =\n",
              "          google.colab.kernel.accessAllowed ? 'block' : 'none';\n",
              "\n",
              "        async function convertToInteractive(key) {\n",
              "          const element = document.querySelector('#df-a1f77f8c-7735-44f1-90f6-a79b501ad52d');\n",
              "          const dataTable =\n",
              "            await google.colab.kernel.invokeFunction('convertToInteractive',\n",
              "                                                     [key], {});\n",
              "          if (!dataTable) return;\n",
              "\n",
              "          const docLinkHtml = 'Like what you see? Visit the ' +\n",
              "            '<a target=\"_blank\" href=https://colab.research.google.com/notebooks/data_table.ipynb>data table notebook</a>'\n",
              "            + ' to learn more about interactive tables.';\n",
              "          element.innerHTML = '';\n",
              "          dataTable['output_type'] = 'display_data';\n",
              "          await google.colab.output.renderOutput(dataTable, element);\n",
              "          const docLink = document.createElement('div');\n",
              "          docLink.innerHTML = docLinkHtml;\n",
              "          element.appendChild(docLink);\n",
              "        }\n",
              "      </script>\n",
              "    </div>\n",
              "  </div>\n"
            ]
          },
          "metadata": {},
          "execution_count": 104
        }
      ]
    },
    {
      "cell_type": "markdown",
      "id": "9d720689",
      "metadata": {
        "id": "9d720689"
      },
      "source": [
        "А вот теперь уже совершенно другое представление. Выводы по клиентам, у которых 4 и5 детей делать некорректно, так как выборка слишком маленькая по сравнению с другими группами. В процентном соотношении видно, что клиенты с детьми (1 и 2) даже чаще имеют задолжености по возврату кредитов, чем без детей.  Что весьма неожиданно. С другой стороны количество клиентов несравнимы разные, без детей 14 тыс, с 1 и 2 = около 7, что в половину меньше.\n",
        "\n",
        "Посмотрим на это на графике."
      ]
    },
    {
      "cell_type": "code",
      "execution_count": 117,
      "id": "69a2a0b6",
      "metadata": {
        "colab": {
          "base_uri": "https://localhost:8080/",
          "height": 496
        },
        "id": "69a2a0b6",
        "outputId": "dd2b4aeb-55d9-4661-8da4-49ee43c08ce4"
      },
      "outputs": [
        {
          "output_type": "display_data",
          "data": {
            "text/plain": [
              "<Figure size 1000x500 with 1 Axes>"
            ],
            "image/png": "[encoded data removed]"
          },
          "metadata": {}
        }
      ],
      "source": [
        "sns.set(rc={'figure.figsize':(10,5)})\n",
        "sns.barplot(data=data_child, x = data_child['Кол-во детей'],\\\n",
        "            y = data_child['% соотн']).\\\n",
        "            set_title('Влияние количества детей у клиента на возврат кредита в срок');"
      ]
    },
    {
      "cell_type": "markdown",
      "id": "8524fca8",
      "metadata": {
        "id": "8524fca8"
      },
      "source": [
        " На диаграмме видно, что клиенты без детей имеют задолжности по возврату кредитов меньше, чем с детьми."
      ]
    },
    {
      "cell_type": "markdown",
      "id": "3179ffba",
      "metadata": {
        "deletable": false,
        "id": "3179ffba"
      },
      "source": [
        "**Вывод:** Таким образом, люди, которые не имеют детей, лучше всего отдают кредит, доля должников здесь составляет  7,5%, хуже обстоит дело с кредиторами, которые имеют одного или двух детей, здесь доля невозврата составляет соответственно 9,2% и 9,4%. Остальные категории уже некорректно сравнивать, так как в них очень маленькая выборка.\n"
      ]
    },
    {
      "cell_type": "markdown",
      "id": "fdee5781",
      "metadata": {
        "deletable": false,
        "editable": false,
        "id": "fdee5781"
      },
      "source": [
        "#### 3.2 Есть ли зависимость между семейным положением и возвратом кредита в срок?"
      ]
    },
    {
      "cell_type": "code",
      "execution_count": 108,
      "id": "18a8e5d0",
      "metadata": {
        "deletable": false,
        "id": "18a8e5d0",
        "colab": {
          "base_uri": "https://localhost:8080/"
        },
        "outputId": "9ace1bb7-66de-46f3-cb57-446ff7db31a4"
      },
      "outputs": [
        {
          "output_type": "execute_result",
          "data": {
            "text/plain": [
              "family_status\n",
              "Не женат / не замужем    273\n",
              "в разводе                 84\n",
              "вдовец / вдова            63\n",
              "гражданский брак         385\n",
              "женат / замужем          927\n",
              "Name: debt, dtype: int64"
            ]
          },
          "metadata": {},
          "execution_count": 108
        }
      ],
      "source": [
        "# сгруппируем клиентов по категории семейное положение найдем суммарное значение по каждой категории\n",
        "total_debt = data.groupby('family_status')['debt'].sum()\n",
        "total_debt"
      ]
    },
    {
      "cell_type": "code",
      "execution_count": 109,
      "id": "54a8899e",
      "metadata": {
        "colab": {
          "base_uri": "https://localhost:8080/"
        },
        "id": "54a8899e",
        "outputId": "ba637554-a4a5-4666-c29b-d6a07bcad691"
      },
      "outputs": [
        {
          "output_type": "execute_result",
          "data": {
            "text/plain": [
              "array(['женат / замужем', 'гражданский брак', 'вдовец / вдова',\n",
              "       'в разводе', 'Не женат / не замужем'], dtype=object)"
            ]
          },
          "metadata": {},
          "execution_count": 109
        }
      ],
      "source": [
        "#найдем уникальные значения столбца family_status\n",
        "family_status_value = data['family_status'].unique()\n",
        "family_status_value"
      ]
    },
    {
      "cell_type": "code",
      "execution_count": 110,
      "id": "69f06d1a",
      "metadata": {
        "colab": {
          "base_uri": "https://localhost:8080/"
        },
        "id": "69f06d1a",
        "outputId": "aebe1592-f8d6-4b79-a09f-e89d6ea440b1"
      },
      "outputs": [
        {
          "output_type": "execute_result",
          "data": {
            "text/plain": [
              "family_status\n",
              "Не женат / не замужем     2796\n",
              "в разводе                 1189\n",
              "вдовец / вдова             951\n",
              "гражданский брак          4134\n",
              "женат / замужем          12261\n",
              "Name: debt, dtype: int64"
            ]
          },
          "metadata": {},
          "execution_count": 110
        }
      ],
      "source": [
        "#найдем количество клиентов по каждой категории\n",
        "total_family_status = data.groupby('family_status')['debt'].count()\n",
        "total_family_status"
      ]
    },
    {
      "cell_type": "code",
      "execution_count": 111,
      "id": "80de1328",
      "metadata": {
        "colab": {
          "base_uri": "https://localhost:8080/",
          "height": 206
        },
        "id": "80de1328",
        "outputId": "d615f113-f0ce-4373-f32b-2dca454865ea"
      },
      "outputs": [
        {
          "output_type": "execute_result",
          "data": {
            "text/plain": [
              "      Семейное положение  Кол-во задолженостей  Кол-во клиентов\n",
              "0        женат / замужем                   273             2796\n",
              "1       гражданский брак                    84             1189\n",
              "2         вдовец / вдова                    63              951\n",
              "3              в разводе                   385             4134\n",
              "4  Не женат / не замужем                   927            12261"
            ],
            "text/html": [
              "\n",
              "\n",
              "  <div id=\"df-6799945b-89ea-49cb-94a7-5c6bc6e9902f\">\n",
              "    <div class=\"colab-df-container\">\n",
              "      <div>\n",
              "<style scoped>\n",
              "    .dataframe tbody tr th:only-of-type {\n",
              "        vertical-align: middle;\n",
              "    }\n",
              "\n",
              "    .dataframe tbody tr th {\n",
              "        vertical-align: top;\n",
              "    }\n",
              "\n",
              "    .dataframe thead th {\n",
              "        text-align: right;\n",
              "    }\n",
              "</style>\n",
              "<table border=\"1\" class=\"dataframe\">\n",
              "  <thead>\n",
              "    <tr style=\"text-align: right;\">\n",
              "      <th></th>\n",
              "      <th>Семейное положение</th>\n",
              "      <th>Кол-во задолженостей</th>\n",
              "      <th>Кол-во клиентов</th>\n",
              "    </tr>\n",
              "  </thead>\n",
              "  <tbody>\n",
              "    <tr>\n",
              "      <th>0</th>\n",
              "      <td>женат / замужем</td>\n",
              "      <td>273</td>\n",
              "      <td>2796</td>\n",
              "    </tr>\n",
              "    <tr>\n",
              "      <th>1</th>\n",
              "      <td>гражданский брак</td>\n",
              "      <td>84</td>\n",
              "      <td>1189</td>\n",
              "    </tr>\n",
              "    <tr>\n",
              "      <th>2</th>\n",
              "      <td>вдовец / вдова</td>\n",
              "      <td>63</td>\n",
              "      <td>951</td>\n",
              "    </tr>\n",
              "    <tr>\n",
              "      <th>3</th>\n",
              "      <td>в разводе</td>\n",
              "      <td>385</td>\n",
              "      <td>4134</td>\n",
              "    </tr>\n",
              "    <tr>\n",
              "      <th>4</th>\n",
              "      <td>Не женат / не замужем</td>\n",
              "      <td>927</td>\n",
              "      <td>12261</td>\n",
              "    </tr>\n",
              "  </tbody>\n",
              "</table>\n",
              "</div>\n",
              "      <button class=\"colab-df-convert\" onclick=\"convertToInteractive('df-6799945b-89ea-49cb-94a7-5c6bc6e9902f')\"\n",
              "              title=\"Convert this dataframe to an interactive table.\"\n",
              "              style=\"display:none;\">\n",
              "\n",
              "  <svg xmlns=\"http://www.w3.org/2000/svg\" height=\"24px\"viewBox=\"0 0 24 24\"\n",
              "       width=\"24px\">\n",
              "    <path d=\"M0 0h24v24H0V0z\" fill=\"none\"/>\n",
              "    <path d=\"M18.56 5.44l.94 2.06.94-2.06 2.06-.94-2.06-.94-.94-2.06-.94 2.06-2.06.94zm-11 1L8.5 8.5l.94-2.06 2.06-.94-2.06-.94L8.5 2.5l-.94 2.06-2.06.94zm10 10l.94 2.06.94-2.06 2.06-.94-2.06-.94-.94-2.06-.94 2.06-2.06.94z\"/><path d=\"M17.41 7.96l-1.37-1.37c-.4-.4-.92-.59-1.43-.59-.52 0-1.04.2-1.43.59L10.3 9.45l-7.72 7.72c-.78.78-.78 2.05 0 2.83L4 21.41c.39.39.9.59 1.41.59.51 0 1.02-.2 1.41-.59l7.78-7.78 2.81-2.81c.8-.78.8-2.07 0-2.86zM5.41 20L4 18.59l7.72-7.72 1.47 1.35L5.41 20z\"/>\n",
              "  </svg>\n",
              "      </button>\n",
              "\n",
              "\n",
              "\n",
              "    <div id=\"df-ef0eaf66-2f2e-4d2f-b08d-80350bb51f69\">\n",
              "      <button class=\"colab-df-quickchart\" onclick=\"quickchart('df-ef0eaf66-2f2e-4d2f-b08d-80350bb51f69')\"\n",
              "              title=\"Suggest charts.\"\n",
              "              style=\"display:none;\">\n",
              "\n",
              "<svg xmlns=\"http://www.w3.org/2000/svg\" height=\"24px\"viewBox=\"0 0 24 24\"\n",
              "     width=\"24px\">\n",
              "    <g>\n",
              "        <path d=\"M19 3H5c-1.1 0-2 .9-2 2v14c0 1.1.9 2 2 2h14c1.1 0 2-.9 2-2V5c0-1.1-.9-2-2-2zM9 17H7v-7h2v7zm4 0h-2V7h2v10zm4 0h-2v-4h2v4z\"/>\n",
              "    </g>\n",
              "</svg>\n",
              "      </button>\n",
              "    </div>\n",
              "\n",
              "<style>\n",
              "  .colab-df-quickchart {\n",
              "    background-color: #E8F0FE;\n",
              "    border: none;\n",
              "    border-radius: 50%;\n",
              "    cursor: pointer;\n",
              "    display: none;\n",
              "    fill: #1967D2;\n",
              "    height: 32px;\n",
              "    padding: 0 0 0 0;\n",
              "    width: 32px;\n",
              "  }\n",
              "\n",
              "  .colab-df-quickchart:hover {\n",
              "    background-color: #E2EBFA;\n",
              "    box-shadow: 0px 1px 2px rgba(60, 64, 67, 0.3), 0px 1px 3px 1px rgba(60, 64, 67, 0.15);\n",
              "    fill: #174EA6;\n",
              "  }\n",
              "\n",
              "  [theme=dark] .colab-df-quickchart {\n",
              "    background-color: #3B4455;\n",
              "    fill: #D2E3FC;\n",
              "  }\n",
              "\n",
              "  [theme=dark] .colab-df-quickchart:hover {\n",
              "    background-color: #434B5C;\n",
              "    box-shadow: 0px 1px 3px 1px rgba(0, 0, 0, 0.15);\n",
              "    filter: drop-shadow(0px 1px 2px rgba(0, 0, 0, 0.3));\n",
              "    fill: #FFFFFF;\n",
              "  }\n",
              "</style>\n",
              "\n",
              "    <script>\n",
              "      async function quickchart(key) {\n",
              "        const containerElement = document.querySelector('#' + key);\n",
              "        const charts = await google.colab.kernel.invokeFunction(\n",
              "            'suggestCharts', [key], {});\n",
              "      }\n",
              "    </script>\n",
              "\n",
              "      <script>\n",
              "\n",
              "function displayQuickchartButton(domScope) {\n",
              "  let quickchartButtonEl =\n",
              "    domScope.querySelector('#df-ef0eaf66-2f2e-4d2f-b08d-80350bb51f69 button.colab-df-quickchart');\n",
              "  quickchartButtonEl.style.display =\n",
              "    google.colab.kernel.accessAllowed ? 'block' : 'none';\n",
              "}\n",
              "\n",
              "        displayQuickchartButton(document);\n",
              "      </script>\n",
              "      <style>\n",
              "    .colab-df-container {\n",
              "      display:flex;\n",
              "      flex-wrap:wrap;\n",
              "      gap: 12px;\n",
              "    }\n",
              "\n",
              "    .colab-df-convert {\n",
              "      background-color: #E8F0FE;\n",
              "      border: none;\n",
              "      border-radius: 50%;\n",
              "      cursor: pointer;\n",
              "      display: none;\n",
              "      fill: #1967D2;\n",
              "      height: 32px;\n",
              "      padding: 0 0 0 0;\n",
              "      width: 32px;\n",
              "    }\n",
              "\n",
              "    .colab-df-convert:hover {\n",
              "      background-color: #E2EBFA;\n",
              "      box-shadow: 0px 1px 2px rgba(60, 64, 67, 0.3), 0px 1px 3px 1px rgba(60, 64, 67, 0.15);\n",
              "      fill: #174EA6;\n",
              "    }\n",
              "\n",
              "    [theme=dark] .colab-df-convert {\n",
              "      background-color: #3B4455;\n",
              "      fill: #D2E3FC;\n",
              "    }\n",
              "\n",
              "    [theme=dark] .colab-df-convert:hover {\n",
              "      background-color: #434B5C;\n",
              "      box-shadow: 0px 1px 3px 1px rgba(0, 0, 0, 0.15);\n",
              "      filter: drop-shadow(0px 1px 2px rgba(0, 0, 0, 0.3));\n",
              "      fill: #FFFFFF;\n",
              "    }\n",
              "  </style>\n",
              "\n",
              "      <script>\n",
              "        const buttonEl =\n",
              "          document.querySelector('#df-6799945b-89ea-49cb-94a7-5c6bc6e9902f button.colab-df-convert');\n",
              "        buttonEl.style.display =\n",
              "          google.colab.kernel.accessAllowed ? 'block' : 'none';\n",
              "\n",
              "        async function convertToInteractive(key) {\n",
              "          const element = document.querySelector('#df-6799945b-89ea-49cb-94a7-5c6bc6e9902f');\n",
              "          const dataTable =\n",
              "            await google.colab.kernel.invokeFunction('convertToInteractive',\n",
              "                                                     [key], {});\n",
              "          if (!dataTable) return;\n",
              "\n",
              "          const docLinkHtml = 'Like what you see? Visit the ' +\n",
              "            '<a target=\"_blank\" href=https://colab.research.google.com/notebooks/data_table.ipynb>data table notebook</a>'\n",
              "            + ' to learn more about interactive tables.';\n",
              "          element.innerHTML = '';\n",
              "          dataTable['output_type'] = 'display_data';\n",
              "          await google.colab.output.renderOutput(dataTable, element);\n",
              "          const docLink = document.createElement('div');\n",
              "          docLink.innerHTML = docLinkHtml;\n",
              "          element.appendChild(docLink);\n",
              "        }\n",
              "      </script>\n",
              "    </div>\n",
              "  </div>\n"
            ]
          },
          "metadata": {},
          "execution_count": 111
        }
      ],
      "source": [
        "#сведем данные в отдельную таблицу\n",
        "x = family_status_value\n",
        "y = total_debt\n",
        "z = total_family_status\n",
        "data_family_status = pd.DataFrame(data=zip(x,y,z), columns = ['Семейное положение','Кол-во задолженостей','Кол-во клиентов'])\n",
        "data_family_status"
      ]
    },
    {
      "cell_type": "code",
      "execution_count": 112,
      "id": "153886dd",
      "metadata": {
        "colab": {
          "base_uri": "https://localhost:8080/",
          "height": 206
        },
        "id": "153886dd",
        "outputId": "62e8a35b-ab83-4357-d4ec-f2289d7eed10"
      },
      "outputs": [
        {
          "output_type": "execute_result",
          "data": {
            "text/plain": [
              "      Семейное положение  Кол-во задолженостей  Кол-во клиентов  % соотношение\n",
              "0        женат / замужем                   273             2796       9.763948\n",
              "1       гражданский брак                    84             1189       7.064760\n",
              "2         вдовец / вдова                    63              951       6.624606\n",
              "3              в разводе                   385             4134       9.313014\n",
              "4  Не женат / не замужем                   927            12261       7.560558"
            ],
            "text/html": [
              "\n",
              "\n",
              "  <div id=\"df-99a4e3ab-6d02-4b0a-85be-1f447b1ece96\">\n",
              "    <div class=\"colab-df-container\">\n",
              "      <div>\n",
              "<style scoped>\n",
              "    .dataframe tbody tr th:only-of-type {\n",
              "        vertical-align: middle;\n",
              "    }\n",
              "\n",
              "    .dataframe tbody tr th {\n",
              "        vertical-align: top;\n",
              "    }\n",
              "\n",
              "    .dataframe thead th {\n",
              "        text-align: right;\n",
              "    }\n",
              "</style>\n",
              "<table border=\"1\" class=\"dataframe\">\n",
              "  <thead>\n",
              "    <tr style=\"text-align: right;\">\n",
              "      <th></th>\n",
              "      <th>Семейное положение</th>\n",
              "      <th>Кол-во задолженостей</th>\n",
              "      <th>Кол-во клиентов</th>\n",
              "      <th>% соотношение</th>\n",
              "    </tr>\n",
              "  </thead>\n",
              "  <tbody>\n",
              "    <tr>\n",
              "      <th>0</th>\n",
              "      <td>женат / замужем</td>\n",
              "      <td>273</td>\n",
              "      <td>2796</td>\n",
              "      <td>9.763948</td>\n",
              "    </tr>\n",
              "    <tr>\n",
              "      <th>1</th>\n",
              "      <td>гражданский брак</td>\n",
              "      <td>84</td>\n",
              "      <td>1189</td>\n",
              "      <td>7.064760</td>\n",
              "    </tr>\n",
              "    <tr>\n",
              "      <th>2</th>\n",
              "      <td>вдовец / вдова</td>\n",
              "      <td>63</td>\n",
              "      <td>951</td>\n",
              "      <td>6.624606</td>\n",
              "    </tr>\n",
              "    <tr>\n",
              "      <th>3</th>\n",
              "      <td>в разводе</td>\n",
              "      <td>385</td>\n",
              "      <td>4134</td>\n",
              "      <td>9.313014</td>\n",
              "    </tr>\n",
              "    <tr>\n",
              "      <th>4</th>\n",
              "      <td>Не женат / не замужем</td>\n",
              "      <td>927</td>\n",
              "      <td>12261</td>\n",
              "      <td>7.560558</td>\n",
              "    </tr>\n",
              "  </tbody>\n",
              "</table>\n",
              "</div>\n",
              "      <button class=\"colab-df-convert\" onclick=\"convertToInteractive('df-99a4e3ab-6d02-4b0a-85be-1f447b1ece96')\"\n",
              "              title=\"Convert this dataframe to an interactive table.\"\n",
              "              style=\"display:none;\">\n",
              "\n",
              "  <svg xmlns=\"http://www.w3.org/2000/svg\" height=\"24px\"viewBox=\"0 0 24 24\"\n",
              "       width=\"24px\">\n",
              "    <path d=\"M0 0h24v24H0V0z\" fill=\"none\"/>\n",
              "    <path d=\"M18.56 5.44l.94 2.06.94-2.06 2.06-.94-2.06-.94-.94-2.06-.94 2.06-2.06.94zm-11 1L8.5 8.5l.94-2.06 2.06-.94-2.06-.94L8.5 2.5l-.94 2.06-2.06.94zm10 10l.94 2.06.94-2.06 2.06-.94-2.06-.94-.94-2.06-.94 2.06-2.06.94z\"/><path d=\"M17.41 7.96l-1.37-1.37c-.4-.4-.92-.59-1.43-.59-.52 0-1.04.2-1.43.59L10.3 9.45l-7.72 7.72c-.78.78-.78 2.05 0 2.83L4 21.41c.39.39.9.59 1.41.59.51 0 1.02-.2 1.41-.59l7.78-7.78 2.81-2.81c.8-.78.8-2.07 0-2.86zM5.41 20L4 18.59l7.72-7.72 1.47 1.35L5.41 20z\"/>\n",
              "  </svg>\n",
              "      </button>\n",
              "\n",
              "\n",
              "\n",
              "    <div id=\"df-626c11c9-ac6b-4770-b388-d2c32e90227e\">\n",
              "      <button class=\"colab-df-quickchart\" onclick=\"quickchart('df-626c11c9-ac6b-4770-b388-d2c32e90227e')\"\n",
              "              title=\"Suggest charts.\"\n",
              "              style=\"display:none;\">\n",
              "\n",
              "<svg xmlns=\"http://www.w3.org/2000/svg\" height=\"24px\"viewBox=\"0 0 24 24\"\n",
              "     width=\"24px\">\n",
              "    <g>\n",
              "        <path d=\"M19 3H5c-1.1 0-2 .9-2 2v14c0 1.1.9 2 2 2h14c1.1 0 2-.9 2-2V5c0-1.1-.9-2-2-2zM9 17H7v-7h2v7zm4 0h-2V7h2v10zm4 0h-2v-4h2v4z\"/>\n",
              "    </g>\n",
              "</svg>\n",
              "      </button>\n",
              "    </div>\n",
              "\n",
              "<style>\n",
              "  .colab-df-quickchart {\n",
              "    background-color: #E8F0FE;\n",
              "    border: none;\n",
              "    border-radius: 50%;\n",
              "    cursor: pointer;\n",
              "    display: none;\n",
              "    fill: #1967D2;\n",
              "    height: 32px;\n",
              "    padding: 0 0 0 0;\n",
              "    width: 32px;\n",
              "  }\n",
              "\n",
              "  .colab-df-quickchart:hover {\n",
              "    background-color: #E2EBFA;\n",
              "    box-shadow: 0px 1px 2px rgba(60, 64, 67, 0.3), 0px 1px 3px 1px rgba(60, 64, 67, 0.15);\n",
              "    fill: #174EA6;\n",
              "  }\n",
              "\n",
              "  [theme=dark] .colab-df-quickchart {\n",
              "    background-color: #3B4455;\n",
              "    fill: #D2E3FC;\n",
              "  }\n",
              "\n",
              "  [theme=dark] .colab-df-quickchart:hover {\n",
              "    background-color: #434B5C;\n",
              "    box-shadow: 0px 1px 3px 1px rgba(0, 0, 0, 0.15);\n",
              "    filter: drop-shadow(0px 1px 2px rgba(0, 0, 0, 0.3));\n",
              "    fill: #FFFFFF;\n",
              "  }\n",
              "</style>\n",
              "\n",
              "    <script>\n",
              "      async function quickchart(key) {\n",
              "        const containerElement = document.querySelector('#' + key);\n",
              "        const charts = await google.colab.kernel.invokeFunction(\n",
              "            'suggestCharts', [key], {});\n",
              "      }\n",
              "    </script>\n",
              "\n",
              "      <script>\n",
              "\n",
              "function displayQuickchartButton(domScope) {\n",
              "  let quickchartButtonEl =\n",
              "    domScope.querySelector('#df-626c11c9-ac6b-4770-b388-d2c32e90227e button.colab-df-quickchart');\n",
              "  quickchartButtonEl.style.display =\n",
              "    google.colab.kernel.accessAllowed ? 'block' : 'none';\n",
              "}\n",
              "\n",
              "        displayQuickchartButton(document);\n",
              "      </script>\n",
              "      <style>\n",
              "    .colab-df-container {\n",
              "      display:flex;\n",
              "      flex-wrap:wrap;\n",
              "      gap: 12px;\n",
              "    }\n",
              "\n",
              "    .colab-df-convert {\n",
              "      background-color: #E8F0FE;\n",
              "      border: none;\n",
              "      border-radius: 50%;\n",
              "      cursor: pointer;\n",
              "      display: none;\n",
              "      fill: #1967D2;\n",
              "      height: 32px;\n",
              "      padding: 0 0 0 0;\n",
              "      width: 32px;\n",
              "    }\n",
              "\n",
              "    .colab-df-convert:hover {\n",
              "      background-color: #E2EBFA;\n",
              "      box-shadow: 0px 1px 2px rgba(60, 64, 67, 0.3), 0px 1px 3px 1px rgba(60, 64, 67, 0.15);\n",
              "      fill: #174EA6;\n",
              "    }\n",
              "\n",
              "    [theme=dark] .colab-df-convert {\n",
              "      background-color: #3B4455;\n",
              "      fill: #D2E3FC;\n",
              "    }\n",
              "\n",
              "    [theme=dark] .colab-df-convert:hover {\n",
              "      background-color: #434B5C;\n",
              "      box-shadow: 0px 1px 3px 1px rgba(0, 0, 0, 0.15);\n",
              "      filter: drop-shadow(0px 1px 2px rgba(0, 0, 0, 0.3));\n",
              "      fill: #FFFFFF;\n",
              "    }\n",
              "  </style>\n",
              "\n",
              "      <script>\n",
              "        const buttonEl =\n",
              "          document.querySelector('#df-99a4e3ab-6d02-4b0a-85be-1f447b1ece96 button.colab-df-convert');\n",
              "        buttonEl.style.display =\n",
              "          google.colab.kernel.accessAllowed ? 'block' : 'none';\n",
              "\n",
              "        async function convertToInteractive(key) {\n",
              "          const element = document.querySelector('#df-99a4e3ab-6d02-4b0a-85be-1f447b1ece96');\n",
              "          const dataTable =\n",
              "            await google.colab.kernel.invokeFunction('convertToInteractive',\n",
              "                                                     [key], {});\n",
              "          if (!dataTable) return;\n",
              "\n",
              "          const docLinkHtml = 'Like what you see? Visit the ' +\n",
              "            '<a target=\"_blank\" href=https://colab.research.google.com/notebooks/data_table.ipynb>data table notebook</a>'\n",
              "            + ' to learn more about interactive tables.';\n",
              "          element.innerHTML = '';\n",
              "          dataTable['output_type'] = 'display_data';\n",
              "          await google.colab.output.renderOutput(dataTable, element);\n",
              "          const docLink = document.createElement('div');\n",
              "          docLink.innerHTML = docLinkHtml;\n",
              "          element.appendChild(docLink);\n",
              "        }\n",
              "      </script>\n",
              "    </div>\n",
              "  </div>\n"
            ]
          },
          "metadata": {},
          "execution_count": 112
        }
      ],
      "source": [
        "#посчитаем процентное соотношение по каждой категории и добавим в таблицу новый столбец\n",
        "data_family_status['% соотношение']= (data_family_status['Кол-во задолженостей']/data_family_status['Кол-во клиентов'])*100\n",
        "data_family_status"
      ]
    },
    {
      "cell_type": "code",
      "execution_count": 116,
      "id": "105dffdd",
      "metadata": {
        "colab": {
          "base_uri": "https://localhost:8080/",
          "height": 497
        },
        "id": "105dffdd",
        "outputId": "a4c45e79-e38d-4f08-97b7-05ddd507b3d4"
      },
      "outputs": [
        {
          "output_type": "display_data",
          "data": {
            "text/plain": [
              "<Figure size 1000x500 with 1 Axes>"
            ],
            "image/png": "[encoded data removed]"
          },
          "metadata": {}
        }
      ],
      "source": [
        "#визуализируем данные\n",
        "sns.set(rc={'figure.figsize':(10,5)})\n",
        "sns.barplot(data=data_family_status, x = data_family_status['Семейное положение'],\\\n",
        "            y = data_family_status['% соотношение']).\\\n",
        "            set_title('Влияние семейного положения на возврат кредита в срок');"
      ]
    },
    {
      "cell_type": "markdown",
      "id": "cce7141d",
      "metadata": {
        "id": "cce7141d"
      },
      "source": [
        "**Вывод.**\n",
        "\n",
        "Так как выборка \"вдовец / вдова\" и \"гражданский брак\" малочисленна, то ее не стоит использовать для анализа. Поэтому можно сделать вывод  о том, что клиенты из группы \"Не женат / не замужем\" лучше отдают кредит чем клиенты из групп \"женат / замужем\" и \"в разводе\". Доля невозврата кредитов клиентов из группы \"Не женат / не замужем\" составляет 7,5% против 9-9,5% групп \"женат / замужем\" и \"в разводе\"."
      ]
    },
    {
      "cell_type": "markdown",
      "id": "0e10dfa2",
      "metadata": {
        "deletable": false,
        "editable": false,
        "id": "0e10dfa2"
      },
      "source": [
        "#### 3.3 Есть ли зависимость между уровнем дохода и возвратом кредита в срок?"
      ]
    },
    {
      "cell_type": "code",
      "execution_count": 139,
      "id": "17d765da",
      "metadata": {
        "deletable": false,
        "id": "17d765da",
        "colab": {
          "base_uri": "https://localhost:8080/"
        },
        "outputId": "992ccfb2-a55e-4142-fb0d-b198db5c0191"
      },
      "outputs": [
        {
          "output_type": "execute_result",
          "data": {
            "text/plain": [
              "20667"
            ]
          },
          "metadata": {},
          "execution_count": 139
        }
      ],
      "source": [
        "#проверим минимальный, максимальный и медианный доходы, чтобы сориентироваться, на какие группы разделить\n",
        "data['total_income'].min()"
      ]
    },
    {
      "cell_type": "code",
      "execution_count": 140,
      "id": "0d6e814d",
      "metadata": {
        "colab": {
          "base_uri": "https://localhost:8080/"
        },
        "id": "0d6e814d",
        "outputId": "b23bc23b-49d5-4892-89f8-6fc12c451e33"
      },
      "outputs": [
        {
          "output_type": "execute_result",
          "data": {
            "text/plain": [
              "2265604"
            ]
          },
          "metadata": {},
          "execution_count": 140
        }
      ],
      "source": [
        "data['total_income'].max()\n"
      ]
    },
    {
      "cell_type": "code",
      "execution_count": 141,
      "id": "d302f6ce",
      "metadata": {
        "colab": {
          "base_uri": "https://localhost:8080/"
        },
        "id": "d302f6ce",
        "outputId": "d87cba7c-d235-4b0a-91b6-0e4937eab850"
      },
      "outputs": [
        {
          "output_type": "execute_result",
          "data": {
            "text/plain": [
              "142594.0"
            ]
          },
          "metadata": {},
          "execution_count": 141
        }
      ],
      "source": [
        "data['total_income'].median()"
      ]
    },
    {
      "cell_type": "markdown",
      "id": "8a797930",
      "metadata": {
        "id": "8a797930"
      },
      "source": [
        "Посмотрим какое количество клиентов в зависимости от уровня дохода берут кредиты."
      ]
    },
    {
      "cell_type": "code",
      "execution_count": 142,
      "id": "4f265038",
      "metadata": {
        "colab": {
          "base_uri": "https://localhost:8080/"
        },
        "id": "4f265038",
        "outputId": "c6fbe696-61fa-4921-b24e-509a5a033782"
      },
      "outputs": [
        {
          "output_type": "execute_result",
          "data": {
            "text/plain": [
              "137"
            ]
          },
          "metadata": {},
          "execution_count": 142
        }
      ],
      "source": [
        "data[data['total_income']<=41_000]['total_income'].count()"
      ]
    },
    {
      "cell_type": "code",
      "execution_count": 143,
      "id": "3f928413",
      "metadata": {
        "colab": {
          "base_uri": "https://localhost:8080/"
        },
        "id": "3f928413",
        "outputId": "b0c062d3-f593-4672-e568-069d05ec335f"
      },
      "outputs": [
        {
          "output_type": "execute_result",
          "data": {
            "text/plain": [
              "664"
            ]
          },
          "metadata": {},
          "execution_count": 143
        }
      ],
      "source": [
        "data[(data['total_income']>41_001)&(data['total_income']<60_000)]['total_income'].count()"
      ]
    },
    {
      "cell_type": "code",
      "execution_count": 144,
      "id": "23174985",
      "metadata": {
        "colab": {
          "base_uri": "https://localhost:8080/"
        },
        "id": "23174985",
        "outputId": "1f233ab1-f32c-4fe8-f49d-59bc9ba5bb4f"
      },
      "outputs": [
        {
          "output_type": "execute_result",
          "data": {
            "text/plain": [
              "1464"
            ]
          },
          "metadata": {},
          "execution_count": 144
        }
      ],
      "source": [
        "data[(data['total_income']>60001)&(data['total_income']<80_000)]['total_income'].count()"
      ]
    },
    {
      "cell_type": "code",
      "execution_count": 145,
      "id": "de9c7b28",
      "metadata": {
        "colab": {
          "base_uri": "https://localhost:8080/"
        },
        "id": "de9c7b28",
        "outputId": "8fb2d84d-e7d3-4e4c-df27-d72e46c09a8e"
      },
      "outputs": [
        {
          "output_type": "execute_result",
          "data": {
            "text/plain": [
              "2179"
            ]
          },
          "metadata": {},
          "execution_count": 145
        }
      ],
      "source": [
        "data[(data['total_income']>80_001)&(data['total_income']<100_000)]['total_income'].count()"
      ]
    },
    {
      "cell_type": "code",
      "execution_count": 146,
      "id": "a6f20506",
      "metadata": {
        "colab": {
          "base_uri": "https://localhost:8080/"
        },
        "id": "a6f20506",
        "outputId": "7255364b-7927-4e38-a35c-0c374304722e"
      },
      "outputs": [
        {
          "output_type": "execute_result",
          "data": {
            "text/plain": [
              "11848"
            ]
          },
          "metadata": {},
          "execution_count": 146
        }
      ],
      "source": [
        "data[(data['total_income']>100_001)&(data['total_income']<200_000)]['total_income'].count()"
      ]
    },
    {
      "cell_type": "code",
      "execution_count": 147,
      "id": "ae9a6b28",
      "metadata": {
        "colab": {
          "base_uri": "https://localhost:8080/"
        },
        "id": "ae9a6b28",
        "outputId": "b12e720a-d761-4102-b204-974d03610ac1"
      },
      "outputs": [
        {
          "output_type": "execute_result",
          "data": {
            "text/plain": [
              "4816"
            ]
          },
          "metadata": {},
          "execution_count": 147
        }
      ],
      "source": [
        "data[(data['total_income']>200_001)&(data['total_income']<500_000)]['total_income'].count()"
      ]
    },
    {
      "cell_type": "code",
      "execution_count": 148,
      "id": "e23c4636",
      "metadata": {
        "colab": {
          "base_uri": "https://localhost:8080/"
        },
        "id": "e23c4636",
        "outputId": "9f41e120-3793-41e8-d5aa-f106acb755bc"
      },
      "outputs": [
        {
          "output_type": "execute_result",
          "data": {
            "text/plain": [
              "197"
            ]
          },
          "metadata": {},
          "execution_count": 148
        }
      ],
      "source": [
        "data[(data['total_income']>500_001)&(data['total_income']<1_000_000)]['total_income'].count()"
      ]
    },
    {
      "cell_type": "code",
      "execution_count": 149,
      "id": "5140eb1f",
      "metadata": {
        "colab": {
          "base_uri": "https://localhost:8080/"
        },
        "id": "5140eb1f",
        "outputId": "38a203dd-b490-4682-cdb2-b7f6996ee651"
      },
      "outputs": [
        {
          "output_type": "execute_result",
          "data": {
            "text/plain": [
              "25"
            ]
          },
          "metadata": {},
          "execution_count": 149
        }
      ],
      "source": [
        "data[(data['total_income']>1_000_001)]['total_income'].count()"
      ]
    },
    {
      "cell_type": "markdown",
      "id": "dc4563a7",
      "metadata": {
        "id": "dc4563a7"
      },
      "source": [
        "Возможно такое разбиение на группы слишком детализировано. Но оно наглядно показывает, что клиенты с доходом 100-200 тыс, охотнее всего берут кредиты. Может быть даже стоит объединить группы 1 и вторую(до 60 тыс). С другой стороны, видна сильная разница в количестве данных групп. Построим новую таблицу с данными."
      ]
    },
    {
      "cell_type": "code",
      "execution_count": 154,
      "id": "163dcfc5",
      "metadata": {
        "colab": {
          "base_uri": "https://localhost:8080/",
          "height": 300
        },
        "id": "163dcfc5",
        "outputId": "077693a4-ce8d-432c-f0db-8df5e713b50d"
      },
      "outputs": [
        {
          "output_type": "execute_result",
          "data": {
            "text/plain": [
              "  категория дохода  кол-во\n",
              "0        до 41 тыс     137\n",
              "1        41-60 тыс     664\n",
              "2        60-80 тыс    1464\n",
              "3       80-100 тыс    2179\n",
              "4      100-200 тыс   11848\n",
              "5     200 -500 тыс    4816\n",
              "6         500-1млн     197\n",
              "7      более 1 млн      25"
            ],
            "text/html": [
              "\n",
              "\n",
              "  <div id=\"df-1f53eeb0-7c8c-459f-b650-35be9f4318b4\">\n",
              "    <div class=\"colab-df-container\">\n",
              "      <div>\n",
              "<style scoped>\n",
              "    .dataframe tbody tr th:only-of-type {\n",
              "        vertical-align: middle;\n",
              "    }\n",
              "\n",
              "    .dataframe tbody tr th {\n",
              "        vertical-align: top;\n",
              "    }\n",
              "\n",
              "    .dataframe thead th {\n",
              "        text-align: right;\n",
              "    }\n",
              "</style>\n",
              "<table border=\"1\" class=\"dataframe\">\n",
              "  <thead>\n",
              "    <tr style=\"text-align: right;\">\n",
              "      <th></th>\n",
              "      <th>категория дохода</th>\n",
              "      <th>кол-во</th>\n",
              "    </tr>\n",
              "  </thead>\n",
              "  <tbody>\n",
              "    <tr>\n",
              "      <th>0</th>\n",
              "      <td>до 41 тыс</td>\n",
              "      <td>137</td>\n",
              "    </tr>\n",
              "    <tr>\n",
              "      <th>1</th>\n",
              "      <td>41-60 тыс</td>\n",
              "      <td>664</td>\n",
              "    </tr>\n",
              "    <tr>\n",
              "      <th>2</th>\n",
              "      <td>60-80 тыс</td>\n",
              "      <td>1464</td>\n",
              "    </tr>\n",
              "    <tr>\n",
              "      <th>3</th>\n",
              "      <td>80-100 тыс</td>\n",
              "      <td>2179</td>\n",
              "    </tr>\n",
              "    <tr>\n",
              "      <th>4</th>\n",
              "      <td>100-200 тыс</td>\n",
              "      <td>11848</td>\n",
              "    </tr>\n",
              "    <tr>\n",
              "      <th>5</th>\n",
              "      <td>200 -500 тыс</td>\n",
              "      <td>4816</td>\n",
              "    </tr>\n",
              "    <tr>\n",
              "      <th>6</th>\n",
              "      <td>500-1млн</td>\n",
              "      <td>197</td>\n",
              "    </tr>\n",
              "    <tr>\n",
              "      <th>7</th>\n",
              "      <td>более 1 млн</td>\n",
              "      <td>25</td>\n",
              "    </tr>\n",
              "  </tbody>\n",
              "</table>\n",
              "</div>\n",
              "      <button class=\"colab-df-convert\" onclick=\"convertToInteractive('df-1f53eeb0-7c8c-459f-b650-35be9f4318b4')\"\n",
              "              title=\"Convert this dataframe to an interactive table.\"\n",
              "              style=\"display:none;\">\n",
              "\n",
              "  <svg xmlns=\"http://www.w3.org/2000/svg\" height=\"24px\"viewBox=\"0 0 24 24\"\n",
              "       width=\"24px\">\n",
              "    <path d=\"M0 0h24v24H0V0z\" fill=\"none\"/>\n",
              "    <path d=\"M18.56 5.44l.94 2.06.94-2.06 2.06-.94-2.06-.94-.94-2.06-.94 2.06-2.06.94zm-11 1L8.5 8.5l.94-2.06 2.06-.94-2.06-.94L8.5 2.5l-.94 2.06-2.06.94zm10 10l.94 2.06.94-2.06 2.06-.94-2.06-.94-.94-2.06-.94 2.06-2.06.94z\"/><path d=\"M17.41 7.96l-1.37-1.37c-.4-.4-.92-.59-1.43-.59-.52 0-1.04.2-1.43.59L10.3 9.45l-7.72 7.72c-.78.78-.78 2.05 0 2.83L4 21.41c.39.39.9.59 1.41.59.51 0 1.02-.2 1.41-.59l7.78-7.78 2.81-2.81c.8-.78.8-2.07 0-2.86zM5.41 20L4 18.59l7.72-7.72 1.47 1.35L5.41 20z\"/>\n",
              "  </svg>\n",
              "      </button>\n",
              "\n",
              "\n",
              "\n",
              "    <div id=\"df-dc45c40b-0174-4c8d-acfb-64d0d05d0caa\">\n",
              "      <button class=\"colab-df-quickchart\" onclick=\"quickchart('df-dc45c40b-0174-4c8d-acfb-64d0d05d0caa')\"\n",
              "              title=\"Suggest charts.\"\n",
              "              style=\"display:none;\">\n",
              "\n",
              "<svg xmlns=\"http://www.w3.org/2000/svg\" height=\"24px\"viewBox=\"0 0 24 24\"\n",
              "     width=\"24px\">\n",
              "    <g>\n",
              "        <path d=\"M19 3H5c-1.1 0-2 .9-2 2v14c0 1.1.9 2 2 2h14c1.1 0 2-.9 2-2V5c0-1.1-.9-2-2-2zM9 17H7v-7h2v7zm4 0h-2V7h2v10zm4 0h-2v-4h2v4z\"/>\n",
              "    </g>\n",
              "</svg>\n",
              "      </button>\n",
              "    </div>\n",
              "\n",
              "<style>\n",
              "  .colab-df-quickchart {\n",
              "    background-color: #E8F0FE;\n",
              "    border: none;\n",
              "    border-radius: 50%;\n",
              "    cursor: pointer;\n",
              "    display: none;\n",
              "    fill: #1967D2;\n",
              "    height: 32px;\n",
              "    padding: 0 0 0 0;\n",
              "    width: 32px;\n",
              "  }\n",
              "\n",
              "  .colab-df-quickchart:hover {\n",
              "    background-color: #E2EBFA;\n",
              "    box-shadow: 0px 1px 2px rgba(60, 64, 67, 0.3), 0px 1px 3px 1px rgba(60, 64, 67, 0.15);\n",
              "    fill: #174EA6;\n",
              "  }\n",
              "\n",
              "  [theme=dark] .colab-df-quickchart {\n",
              "    background-color: #3B4455;\n",
              "    fill: #D2E3FC;\n",
              "  }\n",
              "\n",
              "  [theme=dark] .colab-df-quickchart:hover {\n",
              "    background-color: #434B5C;\n",
              "    box-shadow: 0px 1px 3px 1px rgba(0, 0, 0, 0.15);\n",
              "    filter: drop-shadow(0px 1px 2px rgba(0, 0, 0, 0.3));\n",
              "    fill: #FFFFFF;\n",
              "  }\n",
              "</style>\n",
              "\n",
              "    <script>\n",
              "      async function quickchart(key) {\n",
              "        const containerElement = document.querySelector('#' + key);\n",
              "        const charts = await google.colab.kernel.invokeFunction(\n",
              "            'suggestCharts', [key], {});\n",
              "      }\n",
              "    </script>\n",
              "\n",
              "      <script>\n",
              "\n",
              "function displayQuickchartButton(domScope) {\n",
              "  let quickchartButtonEl =\n",
              "    domScope.querySelector('#df-dc45c40b-0174-4c8d-acfb-64d0d05d0caa button.colab-df-quickchart');\n",
              "  quickchartButtonEl.style.display =\n",
              "    google.colab.kernel.accessAllowed ? 'block' : 'none';\n",
              "}\n",
              "\n",
              "        displayQuickchartButton(document);\n",
              "      </script>\n",
              "      <style>\n",
              "    .colab-df-container {\n",
              "      display:flex;\n",
              "      flex-wrap:wrap;\n",
              "      gap: 12px;\n",
              "    }\n",
              "\n",
              "    .colab-df-convert {\n",
              "      background-color: #E8F0FE;\n",
              "      border: none;\n",
              "      border-radius: 50%;\n",
              "      cursor: pointer;\n",
              "      display: none;\n",
              "      fill: #1967D2;\n",
              "      height: 32px;\n",
              "      padding: 0 0 0 0;\n",
              "      width: 32px;\n",
              "    }\n",
              "\n",
              "    .colab-df-convert:hover {\n",
              "      background-color: #E2EBFA;\n",
              "      box-shadow: 0px 1px 2px rgba(60, 64, 67, 0.3), 0px 1px 3px 1px rgba(60, 64, 67, 0.15);\n",
              "      fill: #174EA6;\n",
              "    }\n",
              "\n",
              "    [theme=dark] .colab-df-convert {\n",
              "      background-color: #3B4455;\n",
              "      fill: #D2E3FC;\n",
              "    }\n",
              "\n",
              "    [theme=dark] .colab-df-convert:hover {\n",
              "      background-color: #434B5C;\n",
              "      box-shadow: 0px 1px 3px 1px rgba(0, 0, 0, 0.15);\n",
              "      filter: drop-shadow(0px 1px 2px rgba(0, 0, 0, 0.3));\n",
              "      fill: #FFFFFF;\n",
              "    }\n",
              "  </style>\n",
              "\n",
              "      <script>\n",
              "        const buttonEl =\n",
              "          document.querySelector('#df-1f53eeb0-7c8c-459f-b650-35be9f4318b4 button.colab-df-convert');\n",
              "        buttonEl.style.display =\n",
              "          google.colab.kernel.accessAllowed ? 'block' : 'none';\n",
              "\n",
              "        async function convertToInteractive(key) {\n",
              "          const element = document.querySelector('#df-1f53eeb0-7c8c-459f-b650-35be9f4318b4');\n",
              "          const dataTable =\n",
              "            await google.colab.kernel.invokeFunction('convertToInteractive',\n",
              "                                                     [key], {});\n",
              "          if (!dataTable) return;\n",
              "\n",
              "          const docLinkHtml = 'Like what you see? Visit the ' +\n",
              "            '<a target=\"_blank\" href=https://colab.research.google.com/notebooks/data_table.ipynb>data table notebook</a>'\n",
              "            + ' to learn more about interactive tables.';\n",
              "          element.innerHTML = '';\n",
              "          dataTable['output_type'] = 'display_data';\n",
              "          await google.colab.output.renderOutput(dataTable, element);\n",
              "          const docLink = document.createElement('div');\n",
              "          docLink.innerHTML = docLinkHtml;\n",
              "          element.appendChild(docLink);\n",
              "        }\n",
              "      </script>\n",
              "    </div>\n",
              "  </div>\n"
            ]
          },
          "metadata": {},
          "execution_count": 154
        }
      ],
      "source": [
        "group_total_income = pd.DataFrame(data = [['до 41 тыс',137],['41-60 тыс', 664],\n",
        "                                   ['60-80 тыс', 1464], ['80-100 тыс',2179], \\\n",
        "                                   ['100-200 тыс', 11848], \\\n",
        "                                   ['200 -500 тыс', 4816], ['500-1млн', 197],\\\n",
        "                                    ['более 1 млн', 25]], \\\n",
        "                                  columns = ['категория дохода', 'кол-во'])\n",
        "group_total_income"
      ]
    },
    {
      "cell_type": "code",
      "execution_count": 155,
      "id": "825674c9",
      "metadata": {
        "colab": {
          "base_uri": "https://localhost:8080/"
        },
        "id": "825674c9",
        "outputId": "5a1268f1-8a4f-4925-b9fe-a79a63c65d47"
      },
      "outputs": [
        {
          "output_type": "execute_result",
          "data": {
            "text/plain": [
              "10"
            ]
          },
          "metadata": {},
          "execution_count": 155
        }
      ],
      "source": [
        "#проверим налчие долгов по возврату кредита по каждой категории\n",
        "data[data['total_income']<=41000]['debt'].sum()"
      ]
    },
    {
      "cell_type": "code",
      "execution_count": 156,
      "id": "29acf696",
      "metadata": {
        "colab": {
          "base_uri": "https://localhost:8080/"
        },
        "id": "29acf696",
        "outputId": "7660ad87-0df3-4798-d593-9b0fe1fa4060"
      },
      "outputs": [
        {
          "output_type": "execute_result",
          "data": {
            "text/plain": [
              "39"
            ]
          },
          "metadata": {},
          "execution_count": 156
        }
      ],
      "source": [
        "data[(data['total_income']>41_001)&(data['total_income']<60_000)]['debt'].sum()"
      ]
    },
    {
      "cell_type": "code",
      "execution_count": 157,
      "id": "8ce566b1",
      "metadata": {
        "colab": {
          "base_uri": "https://localhost:8080/"
        },
        "id": "8ce566b1",
        "outputId": "a5deb389-bcf6-42f7-b509-3dae580984ad"
      },
      "outputs": [
        {
          "output_type": "execute_result",
          "data": {
            "text/plain": [
              "125"
            ]
          },
          "metadata": {},
          "execution_count": 157
        }
      ],
      "source": [
        "data[(data['total_income']>60001)&(data['total_income']<80_000)]['debt'].sum()"
      ]
    },
    {
      "cell_type": "code",
      "execution_count": 158,
      "id": "071ff251",
      "metadata": {
        "colab": {
          "base_uri": "https://localhost:8080/"
        },
        "id": "071ff251",
        "outputId": "6c7a69da-6555-4ef8-87b4-ef9e72998766"
      },
      "outputs": [
        {
          "output_type": "execute_result",
          "data": {
            "text/plain": [
              "180"
            ]
          },
          "metadata": {},
          "execution_count": 158
        }
      ],
      "source": [
        "data[(data['total_income']>80_001)&(data['total_income']<100_000)]['debt'].sum()"
      ]
    },
    {
      "cell_type": "code",
      "execution_count": 159,
      "id": "2992167f",
      "metadata": {
        "colab": {
          "base_uri": "https://localhost:8080/"
        },
        "id": "2992167f",
        "outputId": "e944bade-db36-41b8-9cc3-d8a450ccc06a"
      },
      "outputs": [
        {
          "output_type": "execute_result",
          "data": {
            "text/plain": [
              "1022"
            ]
          },
          "metadata": {},
          "execution_count": 159
        }
      ],
      "source": [
        "data[(data['total_income']>100_001)&(data['total_income']<200_000)]['debt'].sum()"
      ]
    },
    {
      "cell_type": "code",
      "execution_count": 160,
      "id": "0ddae34e",
      "metadata": {
        "colab": {
          "base_uri": "https://localhost:8080/"
        },
        "id": "0ddae34e",
        "outputId": "6a980bf5-a811-44a3-f1e0-81dae933c7d5"
      },
      "outputs": [
        {
          "output_type": "execute_result",
          "data": {
            "text/plain": [
              "342"
            ]
          },
          "metadata": {},
          "execution_count": 160
        }
      ],
      "source": [
        "data[(data['total_income']>200_001)&(data['total_income']<500_000)]['debt'].sum()"
      ]
    },
    {
      "cell_type": "code",
      "execution_count": 161,
      "id": "67077081",
      "metadata": {
        "colab": {
          "base_uri": "https://localhost:8080/"
        },
        "id": "67077081",
        "outputId": "4af7f624-862e-461b-fe5c-132952c9a615"
      },
      "outputs": [
        {
          "output_type": "execute_result",
          "data": {
            "text/plain": [
              "12"
            ]
          },
          "metadata": {},
          "execution_count": 161
        }
      ],
      "source": [
        "data[(data['total_income']>500_001)&(data['total_income']<1_000_000)]['debt'].sum()"
      ]
    },
    {
      "cell_type": "code",
      "execution_count": 162,
      "id": "759bb4f6",
      "metadata": {
        "colab": {
          "base_uri": "https://localhost:8080/"
        },
        "id": "759bb4f6",
        "outputId": "1595cdf0-d38a-44a9-b78d-15294b31b005"
      },
      "outputs": [
        {
          "output_type": "execute_result",
          "data": {
            "text/plain": [
              "2"
            ]
          },
          "metadata": {},
          "execution_count": 162
        }
      ],
      "source": [
        "data[(data['total_income']>1_000_001)]['debt'].sum()"
      ]
    },
    {
      "cell_type": "code",
      "execution_count": 163,
      "id": "5ac717c4",
      "metadata": {
        "colab": {
          "base_uri": "https://localhost:8080/",
          "height": 300
        },
        "id": "5ac717c4",
        "outputId": "3f100e80-a39b-461e-86e4-43d01048a414"
      },
      "outputs": [
        {
          "output_type": "execute_result",
          "data": {
            "text/plain": [
              "  категория дохода  кол-во  Задолженности\n",
              "0        до 41 тыс     137             10\n",
              "1        41-60 тыс     664             39\n",
              "2        60-80 тыс    1464            125\n",
              "3       80-100 тыс    2179            180\n",
              "4      100-200 тыс   11848           1022\n",
              "5     200 -500 тыс    4816            342\n",
              "6         500-1млн     197             12\n",
              "7      более 1 млн      25              2"
            ],
            "text/html": [
              "\n",
              "\n",
              "  <div id=\"df-b111d616-3ce5-49aa-a9ba-5772774fd4cb\">\n",
              "    <div class=\"colab-df-container\">\n",
              "      <div>\n",
              "<style scoped>\n",
              "    .dataframe tbody tr th:only-of-type {\n",
              "        vertical-align: middle;\n",
              "    }\n",
              "\n",
              "    .dataframe tbody tr th {\n",
              "        vertical-align: top;\n",
              "    }\n",
              "\n",
              "    .dataframe thead th {\n",
              "        text-align: right;\n",
              "    }\n",
              "</style>\n",
              "<table border=\"1\" class=\"dataframe\">\n",
              "  <thead>\n",
              "    <tr style=\"text-align: right;\">\n",
              "      <th></th>\n",
              "      <th>категория дохода</th>\n",
              "      <th>кол-во</th>\n",
              "      <th>Задолженности</th>\n",
              "    </tr>\n",
              "  </thead>\n",
              "  <tbody>\n",
              "    <tr>\n",
              "      <th>0</th>\n",
              "      <td>до 41 тыс</td>\n",
              "      <td>137</td>\n",
              "      <td>10</td>\n",
              "    </tr>\n",
              "    <tr>\n",
              "      <th>1</th>\n",
              "      <td>41-60 тыс</td>\n",
              "      <td>664</td>\n",
              "      <td>39</td>\n",
              "    </tr>\n",
              "    <tr>\n",
              "      <th>2</th>\n",
              "      <td>60-80 тыс</td>\n",
              "      <td>1464</td>\n",
              "      <td>125</td>\n",
              "    </tr>\n",
              "    <tr>\n",
              "      <th>3</th>\n",
              "      <td>80-100 тыс</td>\n",
              "      <td>2179</td>\n",
              "      <td>180</td>\n",
              "    </tr>\n",
              "    <tr>\n",
              "      <th>4</th>\n",
              "      <td>100-200 тыс</td>\n",
              "      <td>11848</td>\n",
              "      <td>1022</td>\n",
              "    </tr>\n",
              "    <tr>\n",
              "      <th>5</th>\n",
              "      <td>200 -500 тыс</td>\n",
              "      <td>4816</td>\n",
              "      <td>342</td>\n",
              "    </tr>\n",
              "    <tr>\n",
              "      <th>6</th>\n",
              "      <td>500-1млн</td>\n",
              "      <td>197</td>\n",
              "      <td>12</td>\n",
              "    </tr>\n",
              "    <tr>\n",
              "      <th>7</th>\n",
              "      <td>более 1 млн</td>\n",
              "      <td>25</td>\n",
              "      <td>2</td>\n",
              "    </tr>\n",
              "  </tbody>\n",
              "</table>\n",
              "</div>\n",
              "      <button class=\"colab-df-convert\" onclick=\"convertToInteractive('df-b111d616-3ce5-49aa-a9ba-5772774fd4cb')\"\n",
              "              title=\"Convert this dataframe to an interactive table.\"\n",
              "              style=\"display:none;\">\n",
              "\n",
              "  <svg xmlns=\"http://www.w3.org/2000/svg\" height=\"24px\"viewBox=\"0 0 24 24\"\n",
              "       width=\"24px\">\n",
              "    <path d=\"M0 0h24v24H0V0z\" fill=\"none\"/>\n",
              "    <path d=\"M18.56 5.44l.94 2.06.94-2.06 2.06-.94-2.06-.94-.94-2.06-.94 2.06-2.06.94zm-11 1L8.5 8.5l.94-2.06 2.06-.94-2.06-.94L8.5 2.5l-.94 2.06-2.06.94zm10 10l.94 2.06.94-2.06 2.06-.94-2.06-.94-.94-2.06-.94 2.06-2.06.94z\"/><path d=\"M17.41 7.96l-1.37-1.37c-.4-.4-.92-.59-1.43-.59-.52 0-1.04.2-1.43.59L10.3 9.45l-7.72 7.72c-.78.78-.78 2.05 0 2.83L4 21.41c.39.39.9.59 1.41.59.51 0 1.02-.2 1.41-.59l7.78-7.78 2.81-2.81c.8-.78.8-2.07 0-2.86zM5.41 20L4 18.59l7.72-7.72 1.47 1.35L5.41 20z\"/>\n",
              "  </svg>\n",
              "      </button>\n",
              "\n",
              "\n",
              "\n",
              "    <div id=\"df-e32f5dcb-1ab3-430b-a0f6-d911b8872808\">\n",
              "      <button class=\"colab-df-quickchart\" onclick=\"quickchart('df-e32f5dcb-1ab3-430b-a0f6-d911b8872808')\"\n",
              "              title=\"Suggest charts.\"\n",
              "              style=\"display:none;\">\n",
              "\n",
              "<svg xmlns=\"http://www.w3.org/2000/svg\" height=\"24px\"viewBox=\"0 0 24 24\"\n",
              "     width=\"24px\">\n",
              "    <g>\n",
              "        <path d=\"M19 3H5c-1.1 0-2 .9-2 2v14c0 1.1.9 2 2 2h14c1.1 0 2-.9 2-2V5c0-1.1-.9-2-2-2zM9 17H7v-7h2v7zm4 0h-2V7h2v10zm4 0h-2v-4h2v4z\"/>\n",
              "    </g>\n",
              "</svg>\n",
              "      </button>\n",
              "    </div>\n",
              "\n",
              "<style>\n",
              "  .colab-df-quickchart {\n",
              "    background-color: #E8F0FE;\n",
              "    border: none;\n",
              "    border-radius: 50%;\n",
              "    cursor: pointer;\n",
              "    display: none;\n",
              "    fill: #1967D2;\n",
              "    height: 32px;\n",
              "    padding: 0 0 0 0;\n",
              "    width: 32px;\n",
              "  }\n",
              "\n",
              "  .colab-df-quickchart:hover {\n",
              "    background-color: #E2EBFA;\n",
              "    box-shadow: 0px 1px 2px rgba(60, 64, 67, 0.3), 0px 1px 3px 1px rgba(60, 64, 67, 0.15);\n",
              "    fill: #174EA6;\n",
              "  }\n",
              "\n",
              "  [theme=dark] .colab-df-quickchart {\n",
              "    background-color: #3B4455;\n",
              "    fill: #D2E3FC;\n",
              "  }\n",
              "\n",
              "  [theme=dark] .colab-df-quickchart:hover {\n",
              "    background-color: #434B5C;\n",
              "    box-shadow: 0px 1px 3px 1px rgba(0, 0, 0, 0.15);\n",
              "    filter: drop-shadow(0px 1px 2px rgba(0, 0, 0, 0.3));\n",
              "    fill: #FFFFFF;\n",
              "  }\n",
              "</style>\n",
              "\n",
              "    <script>\n",
              "      async function quickchart(key) {\n",
              "        const containerElement = document.querySelector('#' + key);\n",
              "        const charts = await google.colab.kernel.invokeFunction(\n",
              "            'suggestCharts', [key], {});\n",
              "      }\n",
              "    </script>\n",
              "\n",
              "      <script>\n",
              "\n",
              "function displayQuickchartButton(domScope) {\n",
              "  let quickchartButtonEl =\n",
              "    domScope.querySelector('#df-e32f5dcb-1ab3-430b-a0f6-d911b8872808 button.colab-df-quickchart');\n",
              "  quickchartButtonEl.style.display =\n",
              "    google.colab.kernel.accessAllowed ? 'block' : 'none';\n",
              "}\n",
              "\n",
              "        displayQuickchartButton(document);\n",
              "      </script>\n",
              "      <style>\n",
              "    .colab-df-container {\n",
              "      display:flex;\n",
              "      flex-wrap:wrap;\n",
              "      gap: 12px;\n",
              "    }\n",
              "\n",
              "    .colab-df-convert {\n",
              "      background-color: #E8F0FE;\n",
              "      border: none;\n",
              "      border-radius: 50%;\n",
              "      cursor: pointer;\n",
              "      display: none;\n",
              "      fill: #1967D2;\n",
              "      height: 32px;\n",
              "      padding: 0 0 0 0;\n",
              "      width: 32px;\n",
              "    }\n",
              "\n",
              "    .colab-df-convert:hover {\n",
              "      background-color: #E2EBFA;\n",
              "      box-shadow: 0px 1px 2px rgba(60, 64, 67, 0.3), 0px 1px 3px 1px rgba(60, 64, 67, 0.15);\n",
              "      fill: #174EA6;\n",
              "    }\n",
              "\n",
              "    [theme=dark] .colab-df-convert {\n",
              "      background-color: #3B4455;\n",
              "      fill: #D2E3FC;\n",
              "    }\n",
              "\n",
              "    [theme=dark] .colab-df-convert:hover {\n",
              "      background-color: #434B5C;\n",
              "      box-shadow: 0px 1px 3px 1px rgba(0, 0, 0, 0.15);\n",
              "      filter: drop-shadow(0px 1px 2px rgba(0, 0, 0, 0.3));\n",
              "      fill: #FFFFFF;\n",
              "    }\n",
              "  </style>\n",
              "\n",
              "      <script>\n",
              "        const buttonEl =\n",
              "          document.querySelector('#df-b111d616-3ce5-49aa-a9ba-5772774fd4cb button.colab-df-convert');\n",
              "        buttonEl.style.display =\n",
              "          google.colab.kernel.accessAllowed ? 'block' : 'none';\n",
              "\n",
              "        async function convertToInteractive(key) {\n",
              "          const element = document.querySelector('#df-b111d616-3ce5-49aa-a9ba-5772774fd4cb');\n",
              "          const dataTable =\n",
              "            await google.colab.kernel.invokeFunction('convertToInteractive',\n",
              "                                                     [key], {});\n",
              "          if (!dataTable) return;\n",
              "\n",
              "          const docLinkHtml = 'Like what you see? Visit the ' +\n",
              "            '<a target=\"_blank\" href=https://colab.research.google.com/notebooks/data_table.ipynb>data table notebook</a>'\n",
              "            + ' to learn more about interactive tables.';\n",
              "          element.innerHTML = '';\n",
              "          dataTable['output_type'] = 'display_data';\n",
              "          await google.colab.output.renderOutput(dataTable, element);\n",
              "          const docLink = document.createElement('div');\n",
              "          docLink.innerHTML = docLinkHtml;\n",
              "          element.appendChild(docLink);\n",
              "        }\n",
              "      </script>\n",
              "    </div>\n",
              "  </div>\n"
            ]
          },
          "metadata": {},
          "execution_count": 163
        }
      ],
      "source": [
        "#Добавим данные в новую таблицу\n",
        "group_total_income['Задолженности']=[10,39,125,180,1022,342,12,2]\n",
        "group_total_income"
      ]
    },
    {
      "cell_type": "code",
      "execution_count": 164,
      "id": "bc37f67c",
      "metadata": {
        "colab": {
          "base_uri": "https://localhost:8080/",
          "height": 300
        },
        "id": "bc37f67c",
        "outputId": "986be2c1-5ca5-413c-fe73-63c9ac0ac228"
      },
      "outputs": [
        {
          "output_type": "execute_result",
          "data": {
            "text/plain": [
              "  категория дохода  кол-во  Задолженности  %соотношение\n",
              "0        до 41 тыс     137             10      7.299270\n",
              "1        41-60 тыс     664             39      5.873494\n",
              "2        60-80 тыс    1464            125      8.538251\n",
              "3       80-100 тыс    2179            180      8.260670\n",
              "4      100-200 тыс   11848           1022      8.625928\n",
              "5     200 -500 тыс    4816            342      7.101329\n",
              "6         500-1млн     197             12      6.091371\n",
              "7      более 1 млн      25              2      8.000000"
            ],
            "text/html": [
              "\n",
              "\n",
              "  <div id=\"df-dd69827e-b0ea-46e7-930e-dd4b7e227030\">\n",
              "    <div class=\"colab-df-container\">\n",
              "      <div>\n",
              "<style scoped>\n",
              "    .dataframe tbody tr th:only-of-type {\n",
              "        vertical-align: middle;\n",
              "    }\n",
              "\n",
              "    .dataframe tbody tr th {\n",
              "        vertical-align: top;\n",
              "    }\n",
              "\n",
              "    .dataframe thead th {\n",
              "        text-align: right;\n",
              "    }\n",
              "</style>\n",
              "<table border=\"1\" class=\"dataframe\">\n",
              "  <thead>\n",
              "    <tr style=\"text-align: right;\">\n",
              "      <th></th>\n",
              "      <th>категория дохода</th>\n",
              "      <th>кол-во</th>\n",
              "      <th>Задолженности</th>\n",
              "      <th>%соотношение</th>\n",
              "    </tr>\n",
              "  </thead>\n",
              "  <tbody>\n",
              "    <tr>\n",
              "      <th>0</th>\n",
              "      <td>до 41 тыс</td>\n",
              "      <td>137</td>\n",
              "      <td>10</td>\n",
              "      <td>7.299270</td>\n",
              "    </tr>\n",
              "    <tr>\n",
              "      <th>1</th>\n",
              "      <td>41-60 тыс</td>\n",
              "      <td>664</td>\n",
              "      <td>39</td>\n",
              "      <td>5.873494</td>\n",
              "    </tr>\n",
              "    <tr>\n",
              "      <th>2</th>\n",
              "      <td>60-80 тыс</td>\n",
              "      <td>1464</td>\n",
              "      <td>125</td>\n",
              "      <td>8.538251</td>\n",
              "    </tr>\n",
              "    <tr>\n",
              "      <th>3</th>\n",
              "      <td>80-100 тыс</td>\n",
              "      <td>2179</td>\n",
              "      <td>180</td>\n",
              "      <td>8.260670</td>\n",
              "    </tr>\n",
              "    <tr>\n",
              "      <th>4</th>\n",
              "      <td>100-200 тыс</td>\n",
              "      <td>11848</td>\n",
              "      <td>1022</td>\n",
              "      <td>8.625928</td>\n",
              "    </tr>\n",
              "    <tr>\n",
              "      <th>5</th>\n",
              "      <td>200 -500 тыс</td>\n",
              "      <td>4816</td>\n",
              "      <td>342</td>\n",
              "      <td>7.101329</td>\n",
              "    </tr>\n",
              "    <tr>\n",
              "      <th>6</th>\n",
              "      <td>500-1млн</td>\n",
              "      <td>197</td>\n",
              "      <td>12</td>\n",
              "      <td>6.091371</td>\n",
              "    </tr>\n",
              "    <tr>\n",
              "      <th>7</th>\n",
              "      <td>более 1 млн</td>\n",
              "      <td>25</td>\n",
              "      <td>2</td>\n",
              "      <td>8.000000</td>\n",
              "    </tr>\n",
              "  </tbody>\n",
              "</table>\n",
              "</div>\n",
              "      <button class=\"colab-df-convert\" onclick=\"convertToInteractive('df-dd69827e-b0ea-46e7-930e-dd4b7e227030')\"\n",
              "              title=\"Convert this dataframe to an interactive table.\"\n",
              "              style=\"display:none;\">\n",
              "\n",
              "  <svg xmlns=\"http://www.w3.org/2000/svg\" height=\"24px\"viewBox=\"0 0 24 24\"\n",
              "       width=\"24px\">\n",
              "    <path d=\"M0 0h24v24H0V0z\" fill=\"none\"/>\n",
              "    <path d=\"M18.56 5.44l.94 2.06.94-2.06 2.06-.94-2.06-.94-.94-2.06-.94 2.06-2.06.94zm-11 1L8.5 8.5l.94-2.06 2.06-.94-2.06-.94L8.5 2.5l-.94 2.06-2.06.94zm10 10l.94 2.06.94-2.06 2.06-.94-2.06-.94-.94-2.06-.94 2.06-2.06.94z\"/><path d=\"M17.41 7.96l-1.37-1.37c-.4-.4-.92-.59-1.43-.59-.52 0-1.04.2-1.43.59L10.3 9.45l-7.72 7.72c-.78.78-.78 2.05 0 2.83L4 21.41c.39.39.9.59 1.41.59.51 0 1.02-.2 1.41-.59l7.78-7.78 2.81-2.81c.8-.78.8-2.07 0-2.86zM5.41 20L4 18.59l7.72-7.72 1.47 1.35L5.41 20z\"/>\n",
              "  </svg>\n",
              "      </button>\n",
              "\n",
              "\n",
              "\n",
              "    <div id=\"df-039f3784-1f2b-449b-878b-d9de33fb98dd\">\n",
              "      <button class=\"colab-df-quickchart\" onclick=\"quickchart('df-039f3784-1f2b-449b-878b-d9de33fb98dd')\"\n",
              "              title=\"Suggest charts.\"\n",
              "              style=\"display:none;\">\n",
              "\n",
              "<svg xmlns=\"http://www.w3.org/2000/svg\" height=\"24px\"viewBox=\"0 0 24 24\"\n",
              "     width=\"24px\">\n",
              "    <g>\n",
              "        <path d=\"M19 3H5c-1.1 0-2 .9-2 2v14c0 1.1.9 2 2 2h14c1.1 0 2-.9 2-2V5c0-1.1-.9-2-2-2zM9 17H7v-7h2v7zm4 0h-2V7h2v10zm4 0h-2v-4h2v4z\"/>\n",
              "    </g>\n",
              "</svg>\n",
              "      </button>\n",
              "    </div>\n",
              "\n",
              "<style>\n",
              "  .colab-df-quickchart {\n",
              "    background-color: #E8F0FE;\n",
              "    border: none;\n",
              "    border-radius: 50%;\n",
              "    cursor: pointer;\n",
              "    display: none;\n",
              "    fill: #1967D2;\n",
              "    height: 32px;\n",
              "    padding: 0 0 0 0;\n",
              "    width: 32px;\n",
              "  }\n",
              "\n",
              "  .colab-df-quickchart:hover {\n",
              "    background-color: #E2EBFA;\n",
              "    box-shadow: 0px 1px 2px rgba(60, 64, 67, 0.3), 0px 1px 3px 1px rgba(60, 64, 67, 0.15);\n",
              "    fill: #174EA6;\n",
              "  }\n",
              "\n",
              "  [theme=dark] .colab-df-quickchart {\n",
              "    background-color: #3B4455;\n",
              "    fill: #D2E3FC;\n",
              "  }\n",
              "\n",
              "  [theme=dark] .colab-df-quickchart:hover {\n",
              "    background-color: #434B5C;\n",
              "    box-shadow: 0px 1px 3px 1px rgba(0, 0, 0, 0.15);\n",
              "    filter: drop-shadow(0px 1px 2px rgba(0, 0, 0, 0.3));\n",
              "    fill: #FFFFFF;\n",
              "  }\n",
              "</style>\n",
              "\n",
              "    <script>\n",
              "      async function quickchart(key) {\n",
              "        const containerElement = document.querySelector('#' + key);\n",
              "        const charts = await google.colab.kernel.invokeFunction(\n",
              "            'suggestCharts', [key], {});\n",
              "      }\n",
              "    </script>\n",
              "\n",
              "      <script>\n",
              "\n",
              "function displayQuickchartButton(domScope) {\n",
              "  let quickchartButtonEl =\n",
              "    domScope.querySelector('#df-039f3784-1f2b-449b-878b-d9de33fb98dd button.colab-df-quickchart');\n",
              "  quickchartButtonEl.style.display =\n",
              "    google.colab.kernel.accessAllowed ? 'block' : 'none';\n",
              "}\n",
              "\n",
              "        displayQuickchartButton(document);\n",
              "      </script>\n",
              "      <style>\n",
              "    .colab-df-container {\n",
              "      display:flex;\n",
              "      flex-wrap:wrap;\n",
              "      gap: 12px;\n",
              "    }\n",
              "\n",
              "    .colab-df-convert {\n",
              "      background-color: #E8F0FE;\n",
              "      border: none;\n",
              "      border-radius: 50%;\n",
              "      cursor: pointer;\n",
              "      display: none;\n",
              "      fill: #1967D2;\n",
              "      height: 32px;\n",
              "      padding: 0 0 0 0;\n",
              "      width: 32px;\n",
              "    }\n",
              "\n",
              "    .colab-df-convert:hover {\n",
              "      background-color: #E2EBFA;\n",
              "      box-shadow: 0px 1px 2px rgba(60, 64, 67, 0.3), 0px 1px 3px 1px rgba(60, 64, 67, 0.15);\n",
              "      fill: #174EA6;\n",
              "    }\n",
              "\n",
              "    [theme=dark] .colab-df-convert {\n",
              "      background-color: #3B4455;\n",
              "      fill: #D2E3FC;\n",
              "    }\n",
              "\n",
              "    [theme=dark] .colab-df-convert:hover {\n",
              "      background-color: #434B5C;\n",
              "      box-shadow: 0px 1px 3px 1px rgba(0, 0, 0, 0.15);\n",
              "      filter: drop-shadow(0px 1px 2px rgba(0, 0, 0, 0.3));\n",
              "      fill: #FFFFFF;\n",
              "    }\n",
              "  </style>\n",
              "\n",
              "      <script>\n",
              "        const buttonEl =\n",
              "          document.querySelector('#df-dd69827e-b0ea-46e7-930e-dd4b7e227030 button.colab-df-convert');\n",
              "        buttonEl.style.display =\n",
              "          google.colab.kernel.accessAllowed ? 'block' : 'none';\n",
              "\n",
              "        async function convertToInteractive(key) {\n",
              "          const element = document.querySelector('#df-dd69827e-b0ea-46e7-930e-dd4b7e227030');\n",
              "          const dataTable =\n",
              "            await google.colab.kernel.invokeFunction('convertToInteractive',\n",
              "                                                     [key], {});\n",
              "          if (!dataTable) return;\n",
              "\n",
              "          const docLinkHtml = 'Like what you see? Visit the ' +\n",
              "            '<a target=\"_blank\" href=https://colab.research.google.com/notebooks/data_table.ipynb>data table notebook</a>'\n",
              "            + ' to learn more about interactive tables.';\n",
              "          element.innerHTML = '';\n",
              "          dataTable['output_type'] = 'display_data';\n",
              "          await google.colab.output.renderOutput(dataTable, element);\n",
              "          const docLink = document.createElement('div');\n",
              "          docLink.innerHTML = docLinkHtml;\n",
              "          element.appendChild(docLink);\n",
              "        }\n",
              "      </script>\n",
              "    </div>\n",
              "  </div>\n"
            ]
          },
          "metadata": {},
          "execution_count": 164
        }
      ],
      "source": [
        "#посчитаем процентное соотношение по каждой категории\n",
        "group_total_income['%соотношение'] = (group_total_income['Задолженности']/group_total_income['кол-во'])*100\n",
        "group_total_income"
      ]
    },
    {
      "cell_type": "markdown",
      "id": "77671f17",
      "metadata": {
        "id": "77671f17"
      },
      "source": [
        "Как и в двух предыдущих случаях видим, что все те же около 10% клиентов имеют склонность не возвращать кредит в срок и это не зависит сильно от уровня дохода.\n",
        "\n",
        "Теперь сделаем оценку для ранее созданных категорий - А,В,С,D,E\n",
        "- 0–30000 — `'E'`;\n",
        "- 30001–50000 — `'D'`;\n",
        "- 50001–200000 — `'C'`;\n",
        "- 200001–1000000 — `'B'`;\n",
        "- 1000001 и выше — `'A'`."
      ]
    },
    {
      "cell_type": "code",
      "execution_count": 165,
      "id": "64e993aa",
      "metadata": {
        "colab": {
          "base_uri": "https://localhost:8080/"
        },
        "id": "64e993aa",
        "outputId": "729b9f30-98a4-439d-a27a-a48bbd016d3e"
      },
      "outputs": [
        {
          "output_type": "execute_result",
          "data": {
            "text/plain": [
              "['E', 'D', 'C', 'B', 'A']"
            ]
          },
          "metadata": {},
          "execution_count": 165
        }
      ],
      "source": [
        "x1 = sorted(data['total_income_category'].unique(), reverse=True)\n",
        "x1"
      ]
    },
    {
      "cell_type": "code",
      "execution_count": 166,
      "id": "2392016b",
      "metadata": {
        "colab": {
          "base_uri": "https://localhost:8080/"
        },
        "id": "2392016b",
        "outputId": "8a100285-7a0e-4f3d-d11b-089b71768a9c"
      },
      "outputs": [
        {
          "output_type": "execute_result",
          "data": {
            "text/plain": [
              "total_income_category\n",
              "A       2\n",
              "B     354\n",
              "C    1353\n",
              "D      21\n",
              "E       2\n",
              "Name: debt, dtype: int64"
            ]
          },
          "metadata": {},
          "execution_count": 166
        }
      ],
      "source": [
        "y1 = data.groupby('total_income_category')['debt'].sum()\n",
        "y1"
      ]
    },
    {
      "cell_type": "code",
      "execution_count": 167,
      "id": "b03f288f",
      "metadata": {
        "colab": {
          "base_uri": "https://localhost:8080/"
        },
        "id": "b03f288f",
        "outputId": "6371de8b-580d-4db0-c302-65ac5ca46f61"
      },
      "outputs": [
        {
          "output_type": "execute_result",
          "data": {
            "text/plain": [
              "total_income_category\n",
              "A       25\n",
              "B     5014\n",
              "C    15921\n",
              "D      349\n",
              "E       22\n",
              "Name: debt, dtype: int64"
            ]
          },
          "metadata": {},
          "execution_count": 167
        }
      ],
      "source": [
        "z1 = data.groupby('total_income_category')['debt'].count()\n",
        "z1"
      ]
    },
    {
      "cell_type": "code",
      "execution_count": 168,
      "id": "8fb03eed",
      "metadata": {
        "colab": {
          "base_uri": "https://localhost:8080/",
          "height": 206
        },
        "id": "8fb03eed",
        "outputId": "b7a451ac-cd35-4141-b934-7914d7ab0c2c"
      },
      "outputs": [
        {
          "output_type": "execute_result",
          "data": {
            "text/plain": [
              "  категория дохода  задолженность  кол-во клиентов\n",
              "0                E              2               25\n",
              "1                D            354             5014\n",
              "2                C           1353            15921\n",
              "3                B             21              349\n",
              "4                A              2               22"
            ],
            "text/html": [
              "\n",
              "\n",
              "  <div id=\"df-a0e220c3-99eb-494d-bb2c-4e9dc1cbe092\">\n",
              "    <div class=\"colab-df-container\">\n",
              "      <div>\n",
              "<style scoped>\n",
              "    .dataframe tbody tr th:only-of-type {\n",
              "        vertical-align: middle;\n",
              "    }\n",
              "\n",
              "    .dataframe tbody tr th {\n",
              "        vertical-align: top;\n",
              "    }\n",
              "\n",
              "    .dataframe thead th {\n",
              "        text-align: right;\n",
              "    }\n",
              "</style>\n",
              "<table border=\"1\" class=\"dataframe\">\n",
              "  <thead>\n",
              "    <tr style=\"text-align: right;\">\n",
              "      <th></th>\n",
              "      <th>категория дохода</th>\n",
              "      <th>задолженность</th>\n",
              "      <th>кол-во клиентов</th>\n",
              "    </tr>\n",
              "  </thead>\n",
              "  <tbody>\n",
              "    <tr>\n",
              "      <th>0</th>\n",
              "      <td>E</td>\n",
              "      <td>2</td>\n",
              "      <td>25</td>\n",
              "    </tr>\n",
              "    <tr>\n",
              "      <th>1</th>\n",
              "      <td>D</td>\n",
              "      <td>354</td>\n",
              "      <td>5014</td>\n",
              "    </tr>\n",
              "    <tr>\n",
              "      <th>2</th>\n",
              "      <td>C</td>\n",
              "      <td>1353</td>\n",
              "      <td>15921</td>\n",
              "    </tr>\n",
              "    <tr>\n",
              "      <th>3</th>\n",
              "      <td>B</td>\n",
              "      <td>21</td>\n",
              "      <td>349</td>\n",
              "    </tr>\n",
              "    <tr>\n",
              "      <th>4</th>\n",
              "      <td>A</td>\n",
              "      <td>2</td>\n",
              "      <td>22</td>\n",
              "    </tr>\n",
              "  </tbody>\n",
              "</table>\n",
              "</div>\n",
              "      <button class=\"colab-df-convert\" onclick=\"convertToInteractive('df-a0e220c3-99eb-494d-bb2c-4e9dc1cbe092')\"\n",
              "              title=\"Convert this dataframe to an interactive table.\"\n",
              "              style=\"display:none;\">\n",
              "\n",
              "  <svg xmlns=\"http://www.w3.org/2000/svg\" height=\"24px\"viewBox=\"0 0 24 24\"\n",
              "       width=\"24px\">\n",
              "    <path d=\"M0 0h24v24H0V0z\" fill=\"none\"/>\n",
              "    <path d=\"M18.56 5.44l.94 2.06.94-2.06 2.06-.94-2.06-.94-.94-2.06-.94 2.06-2.06.94zm-11 1L8.5 8.5l.94-2.06 2.06-.94-2.06-.94L8.5 2.5l-.94 2.06-2.06.94zm10 10l.94 2.06.94-2.06 2.06-.94-2.06-.94-.94-2.06-.94 2.06-2.06.94z\"/><path d=\"M17.41 7.96l-1.37-1.37c-.4-.4-.92-.59-1.43-.59-.52 0-1.04.2-1.43.59L10.3 9.45l-7.72 7.72c-.78.78-.78 2.05 0 2.83L4 21.41c.39.39.9.59 1.41.59.51 0 1.02-.2 1.41-.59l7.78-7.78 2.81-2.81c.8-.78.8-2.07 0-2.86zM5.41 20L4 18.59l7.72-7.72 1.47 1.35L5.41 20z\"/>\n",
              "  </svg>\n",
              "      </button>\n",
              "\n",
              "\n",
              "\n",
              "    <div id=\"df-36ab6467-265c-456c-ba23-9fca30ad0848\">\n",
              "      <button class=\"colab-df-quickchart\" onclick=\"quickchart('df-36ab6467-265c-456c-ba23-9fca30ad0848')\"\n",
              "              title=\"Suggest charts.\"\n",
              "              style=\"display:none;\">\n",
              "\n",
              "<svg xmlns=\"http://www.w3.org/2000/svg\" height=\"24px\"viewBox=\"0 0 24 24\"\n",
              "     width=\"24px\">\n",
              "    <g>\n",
              "        <path d=\"M19 3H5c-1.1 0-2 .9-2 2v14c0 1.1.9 2 2 2h14c1.1 0 2-.9 2-2V5c0-1.1-.9-2-2-2zM9 17H7v-7h2v7zm4 0h-2V7h2v10zm4 0h-2v-4h2v4z\"/>\n",
              "    </g>\n",
              "</svg>\n",
              "      </button>\n",
              "    </div>\n",
              "\n",
              "<style>\n",
              "  .colab-df-quickchart {\n",
              "    background-color: #E8F0FE;\n",
              "    border: none;\n",
              "    border-radius: 50%;\n",
              "    cursor: pointer;\n",
              "    display: none;\n",
              "    fill: #1967D2;\n",
              "    height: 32px;\n",
              "    padding: 0 0 0 0;\n",
              "    width: 32px;\n",
              "  }\n",
              "\n",
              "  .colab-df-quickchart:hover {\n",
              "    background-color: #E2EBFA;\n",
              "    box-shadow: 0px 1px 2px rgba(60, 64, 67, 0.3), 0px 1px 3px 1px rgba(60, 64, 67, 0.15);\n",
              "    fill: #174EA6;\n",
              "  }\n",
              "\n",
              "  [theme=dark] .colab-df-quickchart {\n",
              "    background-color: #3B4455;\n",
              "    fill: #D2E3FC;\n",
              "  }\n",
              "\n",
              "  [theme=dark] .colab-df-quickchart:hover {\n",
              "    background-color: #434B5C;\n",
              "    box-shadow: 0px 1px 3px 1px rgba(0, 0, 0, 0.15);\n",
              "    filter: drop-shadow(0px 1px 2px rgba(0, 0, 0, 0.3));\n",
              "    fill: #FFFFFF;\n",
              "  }\n",
              "</style>\n",
              "\n",
              "    <script>\n",
              "      async function quickchart(key) {\n",
              "        const containerElement = document.querySelector('#' + key);\n",
              "        const charts = await google.colab.kernel.invokeFunction(\n",
              "            'suggestCharts', [key], {});\n",
              "      }\n",
              "    </script>\n",
              "\n",
              "      <script>\n",
              "\n",
              "function displayQuickchartButton(domScope) {\n",
              "  let quickchartButtonEl =\n",
              "    domScope.querySelector('#df-36ab6467-265c-456c-ba23-9fca30ad0848 button.colab-df-quickchart');\n",
              "  quickchartButtonEl.style.display =\n",
              "    google.colab.kernel.accessAllowed ? 'block' : 'none';\n",
              "}\n",
              "\n",
              "        displayQuickchartButton(document);\n",
              "      </script>\n",
              "      <style>\n",
              "    .colab-df-container {\n",
              "      display:flex;\n",
              "      flex-wrap:wrap;\n",
              "      gap: 12px;\n",
              "    }\n",
              "\n",
              "    .colab-df-convert {\n",
              "      background-color: #E8F0FE;\n",
              "      border: none;\n",
              "      border-radius: 50%;\n",
              "      cursor: pointer;\n",
              "      display: none;\n",
              "      fill: #1967D2;\n",
              "      height: 32px;\n",
              "      padding: 0 0 0 0;\n",
              "      width: 32px;\n",
              "    }\n",
              "\n",
              "    .colab-df-convert:hover {\n",
              "      background-color: #E2EBFA;\n",
              "      box-shadow: 0px 1px 2px rgba(60, 64, 67, 0.3), 0px 1px 3px 1px rgba(60, 64, 67, 0.15);\n",
              "      fill: #174EA6;\n",
              "    }\n",
              "\n",
              "    [theme=dark] .colab-df-convert {\n",
              "      background-color: #3B4455;\n",
              "      fill: #D2E3FC;\n",
              "    }\n",
              "\n",
              "    [theme=dark] .colab-df-convert:hover {\n",
              "      background-color: #434B5C;\n",
              "      box-shadow: 0px 1px 3px 1px rgba(0, 0, 0, 0.15);\n",
              "      filter: drop-shadow(0px 1px 2px rgba(0, 0, 0, 0.3));\n",
              "      fill: #FFFFFF;\n",
              "    }\n",
              "  </style>\n",
              "\n",
              "      <script>\n",
              "        const buttonEl =\n",
              "          document.querySelector('#df-a0e220c3-99eb-494d-bb2c-4e9dc1cbe092 button.colab-df-convert');\n",
              "        buttonEl.style.display =\n",
              "          google.colab.kernel.accessAllowed ? 'block' : 'none';\n",
              "\n",
              "        async function convertToInteractive(key) {\n",
              "          const element = document.querySelector('#df-a0e220c3-99eb-494d-bb2c-4e9dc1cbe092');\n",
              "          const dataTable =\n",
              "            await google.colab.kernel.invokeFunction('convertToInteractive',\n",
              "                                                     [key], {});\n",
              "          if (!dataTable) return;\n",
              "\n",
              "          const docLinkHtml = 'Like what you see? Visit the ' +\n",
              "            '<a target=\"_blank\" href=https://colab.research.google.com/notebooks/data_table.ipynb>data table notebook</a>'\n",
              "            + ' to learn more about interactive tables.';\n",
              "          element.innerHTML = '';\n",
              "          dataTable['output_type'] = 'display_data';\n",
              "          await google.colab.output.renderOutput(dataTable, element);\n",
              "          const docLink = document.createElement('div');\n",
              "          docLink.innerHTML = docLinkHtml;\n",
              "          element.appendChild(docLink);\n",
              "        }\n",
              "      </script>\n",
              "    </div>\n",
              "  </div>\n"
            ]
          },
          "metadata": {},
          "execution_count": 168
        }
      ],
      "source": [
        "#создадим новую таблицу с данными и добавим туда столбец с процентным соотношением\n",
        "\n",
        "group_total_income2 = pd.DataFrame(data = zip(x1,y1,z1), columns = ['категория дохода', 'задолженность','кол-во клиентов'])\n",
        "group_total_income2\n"
      ]
    },
    {
      "cell_type": "code",
      "execution_count": 169,
      "id": "008f5239",
      "metadata": {
        "colab": {
          "base_uri": "https://localhost:8080/",
          "height": 206
        },
        "id": "008f5239",
        "outputId": "7c221816-27d6-4fd1-bcc3-e873031e1fd2"
      },
      "outputs": [
        {
          "output_type": "execute_result",
          "data": {
            "text/plain": [
              "  категория дохода  задолженность  кол-во клиентов  %соотношение\n",
              "0                E              2               25      8.000000\n",
              "1                D            354             5014      7.060231\n",
              "2                C           1353            15921      8.498210\n",
              "3                B             21              349      6.017192\n",
              "4                A              2               22      9.090909"
            ],
            "text/html": [
              "\n",
              "\n",
              "  <div id=\"df-109148d2-b41a-4af5-b601-7bc3e5b03e43\">\n",
              "    <div class=\"colab-df-container\">\n",
              "      <div>\n",
              "<style scoped>\n",
              "    .dataframe tbody tr th:only-of-type {\n",
              "        vertical-align: middle;\n",
              "    }\n",
              "\n",
              "    .dataframe tbody tr th {\n",
              "        vertical-align: top;\n",
              "    }\n",
              "\n",
              "    .dataframe thead th {\n",
              "        text-align: right;\n",
              "    }\n",
              "</style>\n",
              "<table border=\"1\" class=\"dataframe\">\n",
              "  <thead>\n",
              "    <tr style=\"text-align: right;\">\n",
              "      <th></th>\n",
              "      <th>категория дохода</th>\n",
              "      <th>задолженность</th>\n",
              "      <th>кол-во клиентов</th>\n",
              "      <th>%соотношение</th>\n",
              "    </tr>\n",
              "  </thead>\n",
              "  <tbody>\n",
              "    <tr>\n",
              "      <th>0</th>\n",
              "      <td>E</td>\n",
              "      <td>2</td>\n",
              "      <td>25</td>\n",
              "      <td>8.000000</td>\n",
              "    </tr>\n",
              "    <tr>\n",
              "      <th>1</th>\n",
              "      <td>D</td>\n",
              "      <td>354</td>\n",
              "      <td>5014</td>\n",
              "      <td>7.060231</td>\n",
              "    </tr>\n",
              "    <tr>\n",
              "      <th>2</th>\n",
              "      <td>C</td>\n",
              "      <td>1353</td>\n",
              "      <td>15921</td>\n",
              "      <td>8.498210</td>\n",
              "    </tr>\n",
              "    <tr>\n",
              "      <th>3</th>\n",
              "      <td>B</td>\n",
              "      <td>21</td>\n",
              "      <td>349</td>\n",
              "      <td>6.017192</td>\n",
              "    </tr>\n",
              "    <tr>\n",
              "      <th>4</th>\n",
              "      <td>A</td>\n",
              "      <td>2</td>\n",
              "      <td>22</td>\n",
              "      <td>9.090909</td>\n",
              "    </tr>\n",
              "  </tbody>\n",
              "</table>\n",
              "</div>\n",
              "      <button class=\"colab-df-convert\" onclick=\"convertToInteractive('df-109148d2-b41a-4af5-b601-7bc3e5b03e43')\"\n",
              "              title=\"Convert this dataframe to an interactive table.\"\n",
              "              style=\"display:none;\">\n",
              "\n",
              "  <svg xmlns=\"http://www.w3.org/2000/svg\" height=\"24px\"viewBox=\"0 0 24 24\"\n",
              "       width=\"24px\">\n",
              "    <path d=\"M0 0h24v24H0V0z\" fill=\"none\"/>\n",
              "    <path d=\"M18.56 5.44l.94 2.06.94-2.06 2.06-.94-2.06-.94-.94-2.06-.94 2.06-2.06.94zm-11 1L8.5 8.5l.94-2.06 2.06-.94-2.06-.94L8.5 2.5l-.94 2.06-2.06.94zm10 10l.94 2.06.94-2.06 2.06-.94-2.06-.94-.94-2.06-.94 2.06-2.06.94z\"/><path d=\"M17.41 7.96l-1.37-1.37c-.4-.4-.92-.59-1.43-.59-.52 0-1.04.2-1.43.59L10.3 9.45l-7.72 7.72c-.78.78-.78 2.05 0 2.83L4 21.41c.39.39.9.59 1.41.59.51 0 1.02-.2 1.41-.59l7.78-7.78 2.81-2.81c.8-.78.8-2.07 0-2.86zM5.41 20L4 18.59l7.72-7.72 1.47 1.35L5.41 20z\"/>\n",
              "  </svg>\n",
              "      </button>\n",
              "\n",
              "\n",
              "\n",
              "    <div id=\"df-3dacb852-1d70-4dc6-b0c1-0fce4f9c07ce\">\n",
              "      <button class=\"colab-df-quickchart\" onclick=\"quickchart('df-3dacb852-1d70-4dc6-b0c1-0fce4f9c07ce')\"\n",
              "              title=\"Suggest charts.\"\n",
              "              style=\"display:none;\">\n",
              "\n",
              "<svg xmlns=\"http://www.w3.org/2000/svg\" height=\"24px\"viewBox=\"0 0 24 24\"\n",
              "     width=\"24px\">\n",
              "    <g>\n",
              "        <path d=\"M19 3H5c-1.1 0-2 .9-2 2v14c0 1.1.9 2 2 2h14c1.1 0 2-.9 2-2V5c0-1.1-.9-2-2-2zM9 17H7v-7h2v7zm4 0h-2V7h2v10zm4 0h-2v-4h2v4z\"/>\n",
              "    </g>\n",
              "</svg>\n",
              "      </button>\n",
              "    </div>\n",
              "\n",
              "<style>\n",
              "  .colab-df-quickchart {\n",
              "    background-color: #E8F0FE;\n",
              "    border: none;\n",
              "    border-radius: 50%;\n",
              "    cursor: pointer;\n",
              "    display: none;\n",
              "    fill: #1967D2;\n",
              "    height: 32px;\n",
              "    padding: 0 0 0 0;\n",
              "    width: 32px;\n",
              "  }\n",
              "\n",
              "  .colab-df-quickchart:hover {\n",
              "    background-color: #E2EBFA;\n",
              "    box-shadow: 0px 1px 2px rgba(60, 64, 67, 0.3), 0px 1px 3px 1px rgba(60, 64, 67, 0.15);\n",
              "    fill: #174EA6;\n",
              "  }\n",
              "\n",
              "  [theme=dark] .colab-df-quickchart {\n",
              "    background-color: #3B4455;\n",
              "    fill: #D2E3FC;\n",
              "  }\n",
              "\n",
              "  [theme=dark] .colab-df-quickchart:hover {\n",
              "    background-color: #434B5C;\n",
              "    box-shadow: 0px 1px 3px 1px rgba(0, 0, 0, 0.15);\n",
              "    filter: drop-shadow(0px 1px 2px rgba(0, 0, 0, 0.3));\n",
              "    fill: #FFFFFF;\n",
              "  }\n",
              "</style>\n",
              "\n",
              "    <script>\n",
              "      async function quickchart(key) {\n",
              "        const containerElement = document.querySelector('#' + key);\n",
              "        const charts = await google.colab.kernel.invokeFunction(\n",
              "            'suggestCharts', [key], {});\n",
              "      }\n",
              "    </script>\n",
              "\n",
              "      <script>\n",
              "\n",
              "function displayQuickchartButton(domScope) {\n",
              "  let quickchartButtonEl =\n",
              "    domScope.querySelector('#df-3dacb852-1d70-4dc6-b0c1-0fce4f9c07ce button.colab-df-quickchart');\n",
              "  quickchartButtonEl.style.display =\n",
              "    google.colab.kernel.accessAllowed ? 'block' : 'none';\n",
              "}\n",
              "\n",
              "        displayQuickchartButton(document);\n",
              "      </script>\n",
              "      <style>\n",
              "    .colab-df-container {\n",
              "      display:flex;\n",
              "      flex-wrap:wrap;\n",
              "      gap: 12px;\n",
              "    }\n",
              "\n",
              "    .colab-df-convert {\n",
              "      background-color: #E8F0FE;\n",
              "      border: none;\n",
              "      border-radius: 50%;\n",
              "      cursor: pointer;\n",
              "      display: none;\n",
              "      fill: #1967D2;\n",
              "      height: 32px;\n",
              "      padding: 0 0 0 0;\n",
              "      width: 32px;\n",
              "    }\n",
              "\n",
              "    .colab-df-convert:hover {\n",
              "      background-color: #E2EBFA;\n",
              "      box-shadow: 0px 1px 2px rgba(60, 64, 67, 0.3), 0px 1px 3px 1px rgba(60, 64, 67, 0.15);\n",
              "      fill: #174EA6;\n",
              "    }\n",
              "\n",
              "    [theme=dark] .colab-df-convert {\n",
              "      background-color: #3B4455;\n",
              "      fill: #D2E3FC;\n",
              "    }\n",
              "\n",
              "    [theme=dark] .colab-df-convert:hover {\n",
              "      background-color: #434B5C;\n",
              "      box-shadow: 0px 1px 3px 1px rgba(0, 0, 0, 0.15);\n",
              "      filter: drop-shadow(0px 1px 2px rgba(0, 0, 0, 0.3));\n",
              "      fill: #FFFFFF;\n",
              "    }\n",
              "  </style>\n",
              "\n",
              "      <script>\n",
              "        const buttonEl =\n",
              "          document.querySelector('#df-109148d2-b41a-4af5-b601-7bc3e5b03e43 button.colab-df-convert');\n",
              "        buttonEl.style.display =\n",
              "          google.colab.kernel.accessAllowed ? 'block' : 'none';\n",
              "\n",
              "        async function convertToInteractive(key) {\n",
              "          const element = document.querySelector('#df-109148d2-b41a-4af5-b601-7bc3e5b03e43');\n",
              "          const dataTable =\n",
              "            await google.colab.kernel.invokeFunction('convertToInteractive',\n",
              "                                                     [key], {});\n",
              "          if (!dataTable) return;\n",
              "\n",
              "          const docLinkHtml = 'Like what you see? Visit the ' +\n",
              "            '<a target=\"_blank\" href=https://colab.research.google.com/notebooks/data_table.ipynb>data table notebook</a>'\n",
              "            + ' to learn more about interactive tables.';\n",
              "          element.innerHTML = '';\n",
              "          dataTable['output_type'] = 'display_data';\n",
              "          await google.colab.output.renderOutput(dataTable, element);\n",
              "          const docLink = document.createElement('div');\n",
              "          docLink.innerHTML = docLinkHtml;\n",
              "          element.appendChild(docLink);\n",
              "        }\n",
              "      </script>\n",
              "    </div>\n",
              "  </div>\n"
            ]
          },
          "metadata": {},
          "execution_count": 169
        }
      ],
      "source": [
        "group_total_income2['%соотношение'] = (group_total_income2['задолженность']/group_total_income2['кол-во клиентов'])*100\n",
        "group_total_income2"
      ]
    },
    {
      "cell_type": "code",
      "execution_count": 170,
      "id": "d613b182",
      "metadata": {
        "colab": {
          "base_uri": "https://localhost:8080/",
          "height": 300
        },
        "id": "d613b182",
        "outputId": "788b90a0-2c80-4f2c-dd45-d4e2081eb835"
      },
      "outputs": [
        {
          "output_type": "execute_result",
          "data": {
            "text/plain": [
              "  категория дохода  кол-во  Задолженности  %соотношение\n",
              "0        до 41 тыс     137             10      7.299270\n",
              "1        41-60 тыс     664             39      5.873494\n",
              "2        60-80 тыс    1464            125      8.538251\n",
              "3       80-100 тыс    2179            180      8.260670\n",
              "4      100-200 тыс   11848           1022      8.625928\n",
              "5     200 -500 тыс    4816            342      7.101329\n",
              "6         500-1млн     197             12      6.091371\n",
              "7      более 1 млн      25              2      8.000000"
            ],
            "text/html": [
              "\n",
              "\n",
              "  <div id=\"df-1f79370a-5477-48c3-8b32-ec25008964b4\">\n",
              "    <div class=\"colab-df-container\">\n",
              "      <div>\n",
              "<style scoped>\n",
              "    .dataframe tbody tr th:only-of-type {\n",
              "        vertical-align: middle;\n",
              "    }\n",
              "\n",
              "    .dataframe tbody tr th {\n",
              "        vertical-align: top;\n",
              "    }\n",
              "\n",
              "    .dataframe thead th {\n",
              "        text-align: right;\n",
              "    }\n",
              "</style>\n",
              "<table border=\"1\" class=\"dataframe\">\n",
              "  <thead>\n",
              "    <tr style=\"text-align: right;\">\n",
              "      <th></th>\n",
              "      <th>категория дохода</th>\n",
              "      <th>кол-во</th>\n",
              "      <th>Задолженности</th>\n",
              "      <th>%соотношение</th>\n",
              "    </tr>\n",
              "  </thead>\n",
              "  <tbody>\n",
              "    <tr>\n",
              "      <th>0</th>\n",
              "      <td>до 41 тыс</td>\n",
              "      <td>137</td>\n",
              "      <td>10</td>\n",
              "      <td>7.299270</td>\n",
              "    </tr>\n",
              "    <tr>\n",
              "      <th>1</th>\n",
              "      <td>41-60 тыс</td>\n",
              "      <td>664</td>\n",
              "      <td>39</td>\n",
              "      <td>5.873494</td>\n",
              "    </tr>\n",
              "    <tr>\n",
              "      <th>2</th>\n",
              "      <td>60-80 тыс</td>\n",
              "      <td>1464</td>\n",
              "      <td>125</td>\n",
              "      <td>8.538251</td>\n",
              "    </tr>\n",
              "    <tr>\n",
              "      <th>3</th>\n",
              "      <td>80-100 тыс</td>\n",
              "      <td>2179</td>\n",
              "      <td>180</td>\n",
              "      <td>8.260670</td>\n",
              "    </tr>\n",
              "    <tr>\n",
              "      <th>4</th>\n",
              "      <td>100-200 тыс</td>\n",
              "      <td>11848</td>\n",
              "      <td>1022</td>\n",
              "      <td>8.625928</td>\n",
              "    </tr>\n",
              "    <tr>\n",
              "      <th>5</th>\n",
              "      <td>200 -500 тыс</td>\n",
              "      <td>4816</td>\n",
              "      <td>342</td>\n",
              "      <td>7.101329</td>\n",
              "    </tr>\n",
              "    <tr>\n",
              "      <th>6</th>\n",
              "      <td>500-1млн</td>\n",
              "      <td>197</td>\n",
              "      <td>12</td>\n",
              "      <td>6.091371</td>\n",
              "    </tr>\n",
              "    <tr>\n",
              "      <th>7</th>\n",
              "      <td>более 1 млн</td>\n",
              "      <td>25</td>\n",
              "      <td>2</td>\n",
              "      <td>8.000000</td>\n",
              "    </tr>\n",
              "  </tbody>\n",
              "</table>\n",
              "</div>\n",
              "      <button class=\"colab-df-convert\" onclick=\"convertToInteractive('df-1f79370a-5477-48c3-8b32-ec25008964b4')\"\n",
              "              title=\"Convert this dataframe to an interactive table.\"\n",
              "              style=\"display:none;\">\n",
              "\n",
              "  <svg xmlns=\"http://www.w3.org/2000/svg\" height=\"24px\"viewBox=\"0 0 24 24\"\n",
              "       width=\"24px\">\n",
              "    <path d=\"M0 0h24v24H0V0z\" fill=\"none\"/>\n",
              "    <path d=\"M18.56 5.44l.94 2.06.94-2.06 2.06-.94-2.06-.94-.94-2.06-.94 2.06-2.06.94zm-11 1L8.5 8.5l.94-2.06 2.06-.94-2.06-.94L8.5 2.5l-.94 2.06-2.06.94zm10 10l.94 2.06.94-2.06 2.06-.94-2.06-.94-.94-2.06-.94 2.06-2.06.94z\"/><path d=\"M17.41 7.96l-1.37-1.37c-.4-.4-.92-.59-1.43-.59-.52 0-1.04.2-1.43.59L10.3 9.45l-7.72 7.72c-.78.78-.78 2.05 0 2.83L4 21.41c.39.39.9.59 1.41.59.51 0 1.02-.2 1.41-.59l7.78-7.78 2.81-2.81c.8-.78.8-2.07 0-2.86zM5.41 20L4 18.59l7.72-7.72 1.47 1.35L5.41 20z\"/>\n",
              "  </svg>\n",
              "      </button>\n",
              "\n",
              "\n",
              "\n",
              "    <div id=\"df-53015a00-1d21-403b-b2ef-a433f9537992\">\n",
              "      <button class=\"colab-df-quickchart\" onclick=\"quickchart('df-53015a00-1d21-403b-b2ef-a433f9537992')\"\n",
              "              title=\"Suggest charts.\"\n",
              "              style=\"display:none;\">\n",
              "\n",
              "<svg xmlns=\"http://www.w3.org/2000/svg\" height=\"24px\"viewBox=\"0 0 24 24\"\n",
              "     width=\"24px\">\n",
              "    <g>\n",
              "        <path d=\"M19 3H5c-1.1 0-2 .9-2 2v14c0 1.1.9 2 2 2h14c1.1 0 2-.9 2-2V5c0-1.1-.9-2-2-2zM9 17H7v-7h2v7zm4 0h-2V7h2v10zm4 0h-2v-4h2v4z\"/>\n",
              "    </g>\n",
              "</svg>\n",
              "      </button>\n",
              "    </div>\n",
              "\n",
              "<style>\n",
              "  .colab-df-quickchart {\n",
              "    background-color: #E8F0FE;\n",
              "    border: none;\n",
              "    border-radius: 50%;\n",
              "    cursor: pointer;\n",
              "    display: none;\n",
              "    fill: #1967D2;\n",
              "    height: 32px;\n",
              "    padding: 0 0 0 0;\n",
              "    width: 32px;\n",
              "  }\n",
              "\n",
              "  .colab-df-quickchart:hover {\n",
              "    background-color: #E2EBFA;\n",
              "    box-shadow: 0px 1px 2px rgba(60, 64, 67, 0.3), 0px 1px 3px 1px rgba(60, 64, 67, 0.15);\n",
              "    fill: #174EA6;\n",
              "  }\n",
              "\n",
              "  [theme=dark] .colab-df-quickchart {\n",
              "    background-color: #3B4455;\n",
              "    fill: #D2E3FC;\n",
              "  }\n",
              "\n",
              "  [theme=dark] .colab-df-quickchart:hover {\n",
              "    background-color: #434B5C;\n",
              "    box-shadow: 0px 1px 3px 1px rgba(0, 0, 0, 0.15);\n",
              "    filter: drop-shadow(0px 1px 2px rgba(0, 0, 0, 0.3));\n",
              "    fill: #FFFFFF;\n",
              "  }\n",
              "</style>\n",
              "\n",
              "    <script>\n",
              "      async function quickchart(key) {\n",
              "        const containerElement = document.querySelector('#' + key);\n",
              "        const charts = await google.colab.kernel.invokeFunction(\n",
              "            'suggestCharts', [key], {});\n",
              "      }\n",
              "    </script>\n",
              "\n",
              "      <script>\n",
              "\n",
              "function displayQuickchartButton(domScope) {\n",
              "  let quickchartButtonEl =\n",
              "    domScope.querySelector('#df-53015a00-1d21-403b-b2ef-a433f9537992 button.colab-df-quickchart');\n",
              "  quickchartButtonEl.style.display =\n",
              "    google.colab.kernel.accessAllowed ? 'block' : 'none';\n",
              "}\n",
              "\n",
              "        displayQuickchartButton(document);\n",
              "      </script>\n",
              "      <style>\n",
              "    .colab-df-container {\n",
              "      display:flex;\n",
              "      flex-wrap:wrap;\n",
              "      gap: 12px;\n",
              "    }\n",
              "\n",
              "    .colab-df-convert {\n",
              "      background-color: #E8F0FE;\n",
              "      border: none;\n",
              "      border-radius: 50%;\n",
              "      cursor: pointer;\n",
              "      display: none;\n",
              "      fill: #1967D2;\n",
              "      height: 32px;\n",
              "      padding: 0 0 0 0;\n",
              "      width: 32px;\n",
              "    }\n",
              "\n",
              "    .colab-df-convert:hover {\n",
              "      background-color: #E2EBFA;\n",
              "      box-shadow: 0px 1px 2px rgba(60, 64, 67, 0.3), 0px 1px 3px 1px rgba(60, 64, 67, 0.15);\n",
              "      fill: #174EA6;\n",
              "    }\n",
              "\n",
              "    [theme=dark] .colab-df-convert {\n",
              "      background-color: #3B4455;\n",
              "      fill: #D2E3FC;\n",
              "    }\n",
              "\n",
              "    [theme=dark] .colab-df-convert:hover {\n",
              "      background-color: #434B5C;\n",
              "      box-shadow: 0px 1px 3px 1px rgba(0, 0, 0, 0.15);\n",
              "      filter: drop-shadow(0px 1px 2px rgba(0, 0, 0, 0.3));\n",
              "      fill: #FFFFFF;\n",
              "    }\n",
              "  </style>\n",
              "\n",
              "      <script>\n",
              "        const buttonEl =\n",
              "          document.querySelector('#df-1f79370a-5477-48c3-8b32-ec25008964b4 button.colab-df-convert');\n",
              "        buttonEl.style.display =\n",
              "          google.colab.kernel.accessAllowed ? 'block' : 'none';\n",
              "\n",
              "        async function convertToInteractive(key) {\n",
              "          const element = document.querySelector('#df-1f79370a-5477-48c3-8b32-ec25008964b4');\n",
              "          const dataTable =\n",
              "            await google.colab.kernel.invokeFunction('convertToInteractive',\n",
              "                                                     [key], {});\n",
              "          if (!dataTable) return;\n",
              "\n",
              "          const docLinkHtml = 'Like what you see? Visit the ' +\n",
              "            '<a target=\"_blank\" href=https://colab.research.google.com/notebooks/data_table.ipynb>data table notebook</a>'\n",
              "            + ' to learn more about interactive tables.';\n",
              "          element.innerHTML = '';\n",
              "          dataTable['output_type'] = 'display_data';\n",
              "          await google.colab.output.renderOutput(dataTable, element);\n",
              "          const docLink = document.createElement('div');\n",
              "          docLink.innerHTML = docLinkHtml;\n",
              "          element.appendChild(docLink);\n",
              "        }\n",
              "      </script>\n",
              "    </div>\n",
              "  </div>\n"
            ]
          },
          "metadata": {},
          "execution_count": 170
        }
      ],
      "source": [
        "# выведем старую таблицу и сравним данные\n",
        "group_total_income"
      ]
    },
    {
      "cell_type": "markdown",
      "id": "29b3b7f8",
      "metadata": {
        "deletable": false,
        "id": "29b3b7f8"
      },
      "source": [
        "**Вывод:**\n",
        "\n",
        "Сравнивая группы В и С делаем вывод о том, что у людей с доходом выше 200_000  доля невозрата кредита значительно меньше, чем у людей с доходом ниже 200_000:  6% против 8%."
      ]
    },
    {
      "cell_type": "markdown",
      "id": "4b3336f7",
      "metadata": {
        "deletable": false,
        "editable": false,
        "id": "4b3336f7"
      },
      "source": [
        "#### 3.4 Как разные цели кредита влияют на его возврат в срок?"
      ]
    },
    {
      "cell_type": "code",
      "execution_count": 171,
      "id": "05f6b3ed",
      "metadata": {
        "deletable": false,
        "id": "05f6b3ed",
        "colab": {
          "base_uri": "https://localhost:8080/"
        },
        "outputId": "717ac09c-826c-45a6-ae64-2f792d880c34"
      },
      "outputs": [
        {
          "output_type": "execute_result",
          "data": {
            "text/plain": [
              "array(['операции с недвижимостью', 'операции с автомобилем',\n",
              "       'получение образования', 'проведение свадьбы'], dtype=object)"
            ]
          },
          "metadata": {},
          "execution_count": 171
        }
      ],
      "source": [
        "a= data['purpose_category'].unique() # Ваш код будет здесь. Вы можете создавать новые ячейки.\n",
        "a"
      ]
    },
    {
      "cell_type": "code",
      "execution_count": 172,
      "id": "c0a403c2",
      "metadata": {
        "colab": {
          "base_uri": "https://localhost:8080/"
        },
        "id": "c0a403c2",
        "outputId": "f2d4c3e9-fa0c-4033-d4bc-8c0555b49e5b"
      },
      "outputs": [
        {
          "output_type": "execute_result",
          "data": {
            "text/plain": [
              "purpose_category\n",
              "операции с автомобилем      400\n",
              "операции с недвижимостью    780\n",
              "получение образования       369\n",
              "проведение свадьбы          183\n",
              "Name: debt, dtype: int64"
            ]
          },
          "metadata": {},
          "execution_count": 172
        }
      ],
      "source": [
        "#найдем количество задолженностей по каждой категории\n",
        "b = data.groupby('purpose_category')['debt'].sum()\n",
        "b"
      ]
    },
    {
      "cell_type": "code",
      "execution_count": 173,
      "id": "0b0cd035",
      "metadata": {
        "colab": {
          "base_uri": "https://localhost:8080/"
        },
        "id": "0b0cd035",
        "outputId": "827094d9-ee4f-416d-c566-0c95ee231ff9"
      },
      "outputs": [
        {
          "output_type": "execute_result",
          "data": {
            "text/plain": [
              "purpose_category\n",
              "операции с автомобилем       4279\n",
              "операции с недвижимостью    10751\n",
              "получение образования        3988\n",
              "проведение свадьбы           2313\n",
              "Name: debt, dtype: int64"
            ]
          },
          "metadata": {},
          "execution_count": 173
        }
      ],
      "source": [
        "#найдем количество записей по кадой категории\n",
        "c = data.groupby('purpose_category')['debt'].count()\n",
        "c"
      ]
    },
    {
      "cell_type": "code",
      "execution_count": 174,
      "id": "093f29bb",
      "metadata": {
        "colab": {
          "base_uri": "https://localhost:8080/",
          "height": 175
        },
        "id": "093f29bb",
        "outputId": "45b67f62-837a-45cb-e64a-52f8000947d7"
      },
      "outputs": [
        {
          "output_type": "execute_result",
          "data": {
            "text/plain": [
              "               Цель кредита  Задолженность  Кол-во клиентов\n",
              "0  операции с недвижимостью            400             4279\n",
              "1    операции с автомобилем            780            10751\n",
              "2     получение образования            369             3988\n",
              "3        проведение свадьбы            183             2313"
            ],
            "text/html": [
              "\n",
              "\n",
              "  <div id=\"df-34a0f9a4-a316-4e1b-9e8f-8d15425d5fe1\">\n",
              "    <div class=\"colab-df-container\">\n",
              "      <div>\n",
              "<style scoped>\n",
              "    .dataframe tbody tr th:only-of-type {\n",
              "        vertical-align: middle;\n",
              "    }\n",
              "\n",
              "    .dataframe tbody tr th {\n",
              "        vertical-align: top;\n",
              "    }\n",
              "\n",
              "    .dataframe thead th {\n",
              "        text-align: right;\n",
              "    }\n",
              "</style>\n",
              "<table border=\"1\" class=\"dataframe\">\n",
              "  <thead>\n",
              "    <tr style=\"text-align: right;\">\n",
              "      <th></th>\n",
              "      <th>Цель кредита</th>\n",
              "      <th>Задолженность</th>\n",
              "      <th>Кол-во клиентов</th>\n",
              "    </tr>\n",
              "  </thead>\n",
              "  <tbody>\n",
              "    <tr>\n",
              "      <th>0</th>\n",
              "      <td>операции с недвижимостью</td>\n",
              "      <td>400</td>\n",
              "      <td>4279</td>\n",
              "    </tr>\n",
              "    <tr>\n",
              "      <th>1</th>\n",
              "      <td>операции с автомобилем</td>\n",
              "      <td>780</td>\n",
              "      <td>10751</td>\n",
              "    </tr>\n",
              "    <tr>\n",
              "      <th>2</th>\n",
              "      <td>получение образования</td>\n",
              "      <td>369</td>\n",
              "      <td>3988</td>\n",
              "    </tr>\n",
              "    <tr>\n",
              "      <th>3</th>\n",
              "      <td>проведение свадьбы</td>\n",
              "      <td>183</td>\n",
              "      <td>2313</td>\n",
              "    </tr>\n",
              "  </tbody>\n",
              "</table>\n",
              "</div>\n",
              "      <button class=\"colab-df-convert\" onclick=\"convertToInteractive('df-34a0f9a4-a316-4e1b-9e8f-8d15425d5fe1')\"\n",
              "              title=\"Convert this dataframe to an interactive table.\"\n",
              "              style=\"display:none;\">\n",
              "\n",
              "  <svg xmlns=\"http://www.w3.org/2000/svg\" height=\"24px\"viewBox=\"0 0 24 24\"\n",
              "       width=\"24px\">\n",
              "    <path d=\"M0 0h24v24H0V0z\" fill=\"none\"/>\n",
              "    <path d=\"M18.56 5.44l.94 2.06.94-2.06 2.06-.94-2.06-.94-.94-2.06-.94 2.06-2.06.94zm-11 1L8.5 8.5l.94-2.06 2.06-.94-2.06-.94L8.5 2.5l-.94 2.06-2.06.94zm10 10l.94 2.06.94-2.06 2.06-.94-2.06-.94-.94-2.06-.94 2.06-2.06.94z\"/><path d=\"M17.41 7.96l-1.37-1.37c-.4-.4-.92-.59-1.43-.59-.52 0-1.04.2-1.43.59L10.3 9.45l-7.72 7.72c-.78.78-.78 2.05 0 2.83L4 21.41c.39.39.9.59 1.41.59.51 0 1.02-.2 1.41-.59l7.78-7.78 2.81-2.81c.8-.78.8-2.07 0-2.86zM5.41 20L4 18.59l7.72-7.72 1.47 1.35L5.41 20z\"/>\n",
              "  </svg>\n",
              "      </button>\n",
              "\n",
              "\n",
              "\n",
              "    <div id=\"df-ba3d7b0b-da6a-45b3-8cf1-e6cc824fb9e5\">\n",
              "      <button class=\"colab-df-quickchart\" onclick=\"quickchart('df-ba3d7b0b-da6a-45b3-8cf1-e6cc824fb9e5')\"\n",
              "              title=\"Suggest charts.\"\n",
              "              style=\"display:none;\">\n",
              "\n",
              "<svg xmlns=\"http://www.w3.org/2000/svg\" height=\"24px\"viewBox=\"0 0 24 24\"\n",
              "     width=\"24px\">\n",
              "    <g>\n",
              "        <path d=\"M19 3H5c-1.1 0-2 .9-2 2v14c0 1.1.9 2 2 2h14c1.1 0 2-.9 2-2V5c0-1.1-.9-2-2-2zM9 17H7v-7h2v7zm4 0h-2V7h2v10zm4 0h-2v-4h2v4z\"/>\n",
              "    </g>\n",
              "</svg>\n",
              "      </button>\n",
              "    </div>\n",
              "\n",
              "<style>\n",
              "  .colab-df-quickchart {\n",
              "    background-color: #E8F0FE;\n",
              "    border: none;\n",
              "    border-radius: 50%;\n",
              "    cursor: pointer;\n",
              "    display: none;\n",
              "    fill: #1967D2;\n",
              "    height: 32px;\n",
              "    padding: 0 0 0 0;\n",
              "    width: 32px;\n",
              "  }\n",
              "\n",
              "  .colab-df-quickchart:hover {\n",
              "    background-color: #E2EBFA;\n",
              "    box-shadow: 0px 1px 2px rgba(60, 64, 67, 0.3), 0px 1px 3px 1px rgba(60, 64, 67, 0.15);\n",
              "    fill: #174EA6;\n",
              "  }\n",
              "\n",
              "  [theme=dark] .colab-df-quickchart {\n",
              "    background-color: #3B4455;\n",
              "    fill: #D2E3FC;\n",
              "  }\n",
              "\n",
              "  [theme=dark] .colab-df-quickchart:hover {\n",
              "    background-color: #434B5C;\n",
              "    box-shadow: 0px 1px 3px 1px rgba(0, 0, 0, 0.15);\n",
              "    filter: drop-shadow(0px 1px 2px rgba(0, 0, 0, 0.3));\n",
              "    fill: #FFFFFF;\n",
              "  }\n",
              "</style>\n",
              "\n",
              "    <script>\n",
              "      async function quickchart(key) {\n",
              "        const containerElement = document.querySelector('#' + key);\n",
              "        const charts = await google.colab.kernel.invokeFunction(\n",
              "            'suggestCharts', [key], {});\n",
              "      }\n",
              "    </script>\n",
              "\n",
              "      <script>\n",
              "\n",
              "function displayQuickchartButton(domScope) {\n",
              "  let quickchartButtonEl =\n",
              "    domScope.querySelector('#df-ba3d7b0b-da6a-45b3-8cf1-e6cc824fb9e5 button.colab-df-quickchart');\n",
              "  quickchartButtonEl.style.display =\n",
              "    google.colab.kernel.accessAllowed ? 'block' : 'none';\n",
              "}\n",
              "\n",
              "        displayQuickchartButton(document);\n",
              "      </script>\n",
              "      <style>\n",
              "    .colab-df-container {\n",
              "      display:flex;\n",
              "      flex-wrap:wrap;\n",
              "      gap: 12px;\n",
              "    }\n",
              "\n",
              "    .colab-df-convert {\n",
              "      background-color: #E8F0FE;\n",
              "      border: none;\n",
              "      border-radius: 50%;\n",
              "      cursor: pointer;\n",
              "      display: none;\n",
              "      fill: #1967D2;\n",
              "      height: 32px;\n",
              "      padding: 0 0 0 0;\n",
              "      width: 32px;\n",
              "    }\n",
              "\n",
              "    .colab-df-convert:hover {\n",
              "      background-color: #E2EBFA;\n",
              "      box-shadow: 0px 1px 2px rgba(60, 64, 67, 0.3), 0px 1px 3px 1px rgba(60, 64, 67, 0.15);\n",
              "      fill: #174EA6;\n",
              "    }\n",
              "\n",
              "    [theme=dark] .colab-df-convert {\n",
              "      background-color: #3B4455;\n",
              "      fill: #D2E3FC;\n",
              "    }\n",
              "\n",
              "    [theme=dark] .colab-df-convert:hover {\n",
              "      background-color: #434B5C;\n",
              "      box-shadow: 0px 1px 3px 1px rgba(0, 0, 0, 0.15);\n",
              "      filter: drop-shadow(0px 1px 2px rgba(0, 0, 0, 0.3));\n",
              "      fill: #FFFFFF;\n",
              "    }\n",
              "  </style>\n",
              "\n",
              "      <script>\n",
              "        const buttonEl =\n",
              "          document.querySelector('#df-34a0f9a4-a316-4e1b-9e8f-8d15425d5fe1 button.colab-df-convert');\n",
              "        buttonEl.style.display =\n",
              "          google.colab.kernel.accessAllowed ? 'block' : 'none';\n",
              "\n",
              "        async function convertToInteractive(key) {\n",
              "          const element = document.querySelector('#df-34a0f9a4-a316-4e1b-9e8f-8d15425d5fe1');\n",
              "          const dataTable =\n",
              "            await google.colab.kernel.invokeFunction('convertToInteractive',\n",
              "                                                     [key], {});\n",
              "          if (!dataTable) return;\n",
              "\n",
              "          const docLinkHtml = 'Like what you see? Visit the ' +\n",
              "            '<a target=\"_blank\" href=https://colab.research.google.com/notebooks/data_table.ipynb>data table notebook</a>'\n",
              "            + ' to learn more about interactive tables.';\n",
              "          element.innerHTML = '';\n",
              "          dataTable['output_type'] = 'display_data';\n",
              "          await google.colab.output.renderOutput(dataTable, element);\n",
              "          const docLink = document.createElement('div');\n",
              "          docLink.innerHTML = docLinkHtml;\n",
              "          element.appendChild(docLink);\n",
              "        }\n",
              "      </script>\n",
              "    </div>\n",
              "  </div>\n"
            ]
          },
          "metadata": {},
          "execution_count": 174
        }
      ],
      "source": [
        "data_purpose = pd.DataFrame(data=zip(a,b,c), columns=['Цель кредита','Задолженность','Кол-во клиентов'])\n",
        "data_purpose"
      ]
    },
    {
      "cell_type": "code",
      "execution_count": 175,
      "id": "8d138da0",
      "metadata": {
        "colab": {
          "base_uri": "https://localhost:8080/",
          "height": 175
        },
        "id": "8d138da0",
        "outputId": "7c50747f-af88-499f-9388-eec981bff059"
      },
      "outputs": [
        {
          "output_type": "execute_result",
          "data": {
            "text/plain": [
              "               Цель кредита  Задолженность  Кол-во клиентов  % соотношение\n",
              "0  операции с недвижимостью            400             4279       9.347978\n",
              "1    операции с автомобилем            780            10751       7.255139\n",
              "2     получение образования            369             3988       9.252758\n",
              "3        проведение свадьбы            183             2313       7.911803"
            ],
            "text/html": [
              "\n",
              "\n",
              "  <div id=\"df-82a2b123-3325-4676-ac4c-5e283c450d4a\">\n",
              "    <div class=\"colab-df-container\">\n",
              "      <div>\n",
              "<style scoped>\n",
              "    .dataframe tbody tr th:only-of-type {\n",
              "        vertical-align: middle;\n",
              "    }\n",
              "\n",
              "    .dataframe tbody tr th {\n",
              "        vertical-align: top;\n",
              "    }\n",
              "\n",
              "    .dataframe thead th {\n",
              "        text-align: right;\n",
              "    }\n",
              "</style>\n",
              "<table border=\"1\" class=\"dataframe\">\n",
              "  <thead>\n",
              "    <tr style=\"text-align: right;\">\n",
              "      <th></th>\n",
              "      <th>Цель кредита</th>\n",
              "      <th>Задолженность</th>\n",
              "      <th>Кол-во клиентов</th>\n",
              "      <th>% соотношение</th>\n",
              "    </tr>\n",
              "  </thead>\n",
              "  <tbody>\n",
              "    <tr>\n",
              "      <th>0</th>\n",
              "      <td>операции с недвижимостью</td>\n",
              "      <td>400</td>\n",
              "      <td>4279</td>\n",
              "      <td>9.347978</td>\n",
              "    </tr>\n",
              "    <tr>\n",
              "      <th>1</th>\n",
              "      <td>операции с автомобилем</td>\n",
              "      <td>780</td>\n",
              "      <td>10751</td>\n",
              "      <td>7.255139</td>\n",
              "    </tr>\n",
              "    <tr>\n",
              "      <th>2</th>\n",
              "      <td>получение образования</td>\n",
              "      <td>369</td>\n",
              "      <td>3988</td>\n",
              "      <td>9.252758</td>\n",
              "    </tr>\n",
              "    <tr>\n",
              "      <th>3</th>\n",
              "      <td>проведение свадьбы</td>\n",
              "      <td>183</td>\n",
              "      <td>2313</td>\n",
              "      <td>7.911803</td>\n",
              "    </tr>\n",
              "  </tbody>\n",
              "</table>\n",
              "</div>\n",
              "      <button class=\"colab-df-convert\" onclick=\"convertToInteractive('df-82a2b123-3325-4676-ac4c-5e283c450d4a')\"\n",
              "              title=\"Convert this dataframe to an interactive table.\"\n",
              "              style=\"display:none;\">\n",
              "\n",
              "  <svg xmlns=\"http://www.w3.org/2000/svg\" height=\"24px\"viewBox=\"0 0 24 24\"\n",
              "       width=\"24px\">\n",
              "    <path d=\"M0 0h24v24H0V0z\" fill=\"none\"/>\n",
              "    <path d=\"M18.56 5.44l.94 2.06.94-2.06 2.06-.94-2.06-.94-.94-2.06-.94 2.06-2.06.94zm-11 1L8.5 8.5l.94-2.06 2.06-.94-2.06-.94L8.5 2.5l-.94 2.06-2.06.94zm10 10l.94 2.06.94-2.06 2.06-.94-2.06-.94-.94-2.06-.94 2.06-2.06.94z\"/><path d=\"M17.41 7.96l-1.37-1.37c-.4-.4-.92-.59-1.43-.59-.52 0-1.04.2-1.43.59L10.3 9.45l-7.72 7.72c-.78.78-.78 2.05 0 2.83L4 21.41c.39.39.9.59 1.41.59.51 0 1.02-.2 1.41-.59l7.78-7.78 2.81-2.81c.8-.78.8-2.07 0-2.86zM5.41 20L4 18.59l7.72-7.72 1.47 1.35L5.41 20z\"/>\n",
              "  </svg>\n",
              "      </button>\n",
              "\n",
              "\n",
              "\n",
              "    <div id=\"df-f06cf838-19dd-4f9e-9ca6-da772e29bf6a\">\n",
              "      <button class=\"colab-df-quickchart\" onclick=\"quickchart('df-f06cf838-19dd-4f9e-9ca6-da772e29bf6a')\"\n",
              "              title=\"Suggest charts.\"\n",
              "              style=\"display:none;\">\n",
              "\n",
              "<svg xmlns=\"http://www.w3.org/2000/svg\" height=\"24px\"viewBox=\"0 0 24 24\"\n",
              "     width=\"24px\">\n",
              "    <g>\n",
              "        <path d=\"M19 3H5c-1.1 0-2 .9-2 2v14c0 1.1.9 2 2 2h14c1.1 0 2-.9 2-2V5c0-1.1-.9-2-2-2zM9 17H7v-7h2v7zm4 0h-2V7h2v10zm4 0h-2v-4h2v4z\"/>\n",
              "    </g>\n",
              "</svg>\n",
              "      </button>\n",
              "    </div>\n",
              "\n",
              "<style>\n",
              "  .colab-df-quickchart {\n",
              "    background-color: #E8F0FE;\n",
              "    border: none;\n",
              "    border-radius: 50%;\n",
              "    cursor: pointer;\n",
              "    display: none;\n",
              "    fill: #1967D2;\n",
              "    height: 32px;\n",
              "    padding: 0 0 0 0;\n",
              "    width: 32px;\n",
              "  }\n",
              "\n",
              "  .colab-df-quickchart:hover {\n",
              "    background-color: #E2EBFA;\n",
              "    box-shadow: 0px 1px 2px rgba(60, 64, 67, 0.3), 0px 1px 3px 1px rgba(60, 64, 67, 0.15);\n",
              "    fill: #174EA6;\n",
              "  }\n",
              "\n",
              "  [theme=dark] .colab-df-quickchart {\n",
              "    background-color: #3B4455;\n",
              "    fill: #D2E3FC;\n",
              "  }\n",
              "\n",
              "  [theme=dark] .colab-df-quickchart:hover {\n",
              "    background-color: #434B5C;\n",
              "    box-shadow: 0px 1px 3px 1px rgba(0, 0, 0, 0.15);\n",
              "    filter: drop-shadow(0px 1px 2px rgba(0, 0, 0, 0.3));\n",
              "    fill: #FFFFFF;\n",
              "  }\n",
              "</style>\n",
              "\n",
              "    <script>\n",
              "      async function quickchart(key) {\n",
              "        const containerElement = document.querySelector('#' + key);\n",
              "        const charts = await google.colab.kernel.invokeFunction(\n",
              "            'suggestCharts', [key], {});\n",
              "      }\n",
              "    </script>\n",
              "\n",
              "      <script>\n",
              "\n",
              "function displayQuickchartButton(domScope) {\n",
              "  let quickchartButtonEl =\n",
              "    domScope.querySelector('#df-f06cf838-19dd-4f9e-9ca6-da772e29bf6a button.colab-df-quickchart');\n",
              "  quickchartButtonEl.style.display =\n",
              "    google.colab.kernel.accessAllowed ? 'block' : 'none';\n",
              "}\n",
              "\n",
              "        displayQuickchartButton(document);\n",
              "      </script>\n",
              "      <style>\n",
              "    .colab-df-container {\n",
              "      display:flex;\n",
              "      flex-wrap:wrap;\n",
              "      gap: 12px;\n",
              "    }\n",
              "\n",
              "    .colab-df-convert {\n",
              "      background-color: #E8F0FE;\n",
              "      border: none;\n",
              "      border-radius: 50%;\n",
              "      cursor: pointer;\n",
              "      display: none;\n",
              "      fill: #1967D2;\n",
              "      height: 32px;\n",
              "      padding: 0 0 0 0;\n",
              "      width: 32px;\n",
              "    }\n",
              "\n",
              "    .colab-df-convert:hover {\n",
              "      background-color: #E2EBFA;\n",
              "      box-shadow: 0px 1px 2px rgba(60, 64, 67, 0.3), 0px 1px 3px 1px rgba(60, 64, 67, 0.15);\n",
              "      fill: #174EA6;\n",
              "    }\n",
              "\n",
              "    [theme=dark] .colab-df-convert {\n",
              "      background-color: #3B4455;\n",
              "      fill: #D2E3FC;\n",
              "    }\n",
              "\n",
              "    [theme=dark] .colab-df-convert:hover {\n",
              "      background-color: #434B5C;\n",
              "      box-shadow: 0px 1px 3px 1px rgba(0, 0, 0, 0.15);\n",
              "      filter: drop-shadow(0px 1px 2px rgba(0, 0, 0, 0.3));\n",
              "      fill: #FFFFFF;\n",
              "    }\n",
              "  </style>\n",
              "\n",
              "      <script>\n",
              "        const buttonEl =\n",
              "          document.querySelector('#df-82a2b123-3325-4676-ac4c-5e283c450d4a button.colab-df-convert');\n",
              "        buttonEl.style.display =\n",
              "          google.colab.kernel.accessAllowed ? 'block' : 'none';\n",
              "\n",
              "        async function convertToInteractive(key) {\n",
              "          const element = document.querySelector('#df-82a2b123-3325-4676-ac4c-5e283c450d4a');\n",
              "          const dataTable =\n",
              "            await google.colab.kernel.invokeFunction('convertToInteractive',\n",
              "                                                     [key], {});\n",
              "          if (!dataTable) return;\n",
              "\n",
              "          const docLinkHtml = 'Like what you see? Visit the ' +\n",
              "            '<a target=\"_blank\" href=https://colab.research.google.com/notebooks/data_table.ipynb>data table notebook</a>'\n",
              "            + ' to learn more about interactive tables.';\n",
              "          element.innerHTML = '';\n",
              "          dataTable['output_type'] = 'display_data';\n",
              "          await google.colab.output.renderOutput(dataTable, element);\n",
              "          const docLink = document.createElement('div');\n",
              "          docLink.innerHTML = docLinkHtml;\n",
              "          element.appendChild(docLink);\n",
              "        }\n",
              "      </script>\n",
              "    </div>\n",
              "  </div>\n"
            ]
          },
          "metadata": {},
          "execution_count": 175
        }
      ],
      "source": [
        "data_purpose['% соотношение']=(data_purpose['Задолженность']/data_purpose['Кол-во клиентов'])*100\n",
        "data_purpose"
      ]
    },
    {
      "cell_type": "markdown",
      "id": "a75ce7fd",
      "metadata": {
        "deletable": false,
        "id": "a75ce7fd"
      },
      "source": [
        "**Вывод:** Кредиты взятые на операции с автомобилем или проведение свадьбы чаще возвращают в срок по сравнению с кредитами взятыми на образование или операции с недвижимостью. Доля невозврата кредитов, взятых на операции с недвижимостью или образование составляет 9%, тогда как невозвраты по кредитам с на авто или проведение свадьбы - 7%.\n",
        "\n",
        "Те, кто берет ипотеку явлются самыми надежными кредиторами, так как их банки очень жестко проверяют подобного рода заемщиков."
      ]
    },
    {
      "cell_type": "markdown",
      "id": "324bea3e",
      "metadata": {
        "deletable": false,
        "editable": false,
        "id": "324bea3e"
      },
      "source": [
        "#### 3.5 Приведите возможные причины появления пропусков в исходных данных."
      ]
    },
    {
      "cell_type": "markdown",
      "id": "b0192c25",
      "metadata": {
        "deletable": false,
        "id": "b0192c25"
      },
      "source": [
        "Пропущенные данные в двух столбцах days_employed и total_income. Данные в days_employed - это общий трудовой стаж. Проанализировав количество клиентов категорий типов занятости можно предположить, что пропуски получились вследствие того, что группа \"компаньон\"  могли не заполнить поля потому что затруднились ответить на данный вопрос или \"пенсионеры\" случайно, по возрасту ошиблись и пропустили или не сохранили при вводе. \"Безработные\", \"студенты\", \"в декрете\" - можно не считать, так как даже если они допустили пропуски - их слишком мало.\n",
        "\n",
        "\n",
        "Пропуски в total_income могли возникнуть например, если клиент ввел ошибочное значение, не сохранил.\n",
        "Может быть еще был сбой системы.\n"
      ]
    },
    {
      "cell_type": "code",
      "execution_count": 176,
      "id": "f041e3b7",
      "metadata": {
        "colab": {
          "base_uri": "https://localhost:8080/"
        },
        "id": "f041e3b7",
        "outputId": "e6ae2150-802f-415b-f1a1-9d30df6f514a"
      },
      "outputs": [
        {
          "output_type": "execute_result",
          "data": {
            "text/plain": [
              "income_type\n",
              "безработный            2\n",
              "в декрете              1\n",
              "госслужащий         1451\n",
              "компаньон           5047\n",
              "пенсионер           3812\n",
              "предприниматель        2\n",
              "сотрудник          11015\n",
              "студент                1\n",
              "Name: days_employed, dtype: int64"
            ]
          },
          "metadata": {},
          "execution_count": 176
        }
      ],
      "source": [
        "data.groupby('income_type')['days_employed'].count()"
      ]
    },
    {
      "cell_type": "markdown",
      "id": "2b40e8c2",
      "metadata": {
        "deletable": false,
        "editable": false,
        "id": "2b40e8c2"
      },
      "source": [
        "#### 3.6 Объясните, почему заполнить пропуски медианным значением — лучшее решение для количественных переменных."
      ]
    },
    {
      "cell_type": "markdown",
      "id": "d1a029a3",
      "metadata": {
        "deletable": false,
        "id": "d1a029a3"
      },
      "source": [
        "Заполнение пропусков медианным значением предпочтительнее так как медиана лучше отражает выборку, если есть пропуски или аномалии. Медианное значение более приближено к реальным данным, тогда как, например, среднее значение может сильно искажать ситуацию, особенно на больших диапазонах значений. Медиана не подвержена выбросам."
      ]
    },
    {
      "cell_type": "markdown",
      "id": "9c44a498",
      "metadata": {
        "deletable": false,
        "editable": false,
        "id": "9c44a498"
      },
      "source": [
        "### Шаг 4: общий вывод."
      ]
    },
    {
      "cell_type": "markdown",
      "id": "48ccd2b1",
      "metadata": {
        "deletable": false,
        "id": "48ccd2b1"
      },
      "source": [
        "Проведен анализ влияния семейного положения, количество детей клиента, уровня дохода на факт погашения кредита в срок. Данные факторы влияния были рассмотрены по отдельности.\n",
        "\n",
        "Можно говорить о том, что каждый из факторов по отдельности не является сильным фактором влияния на возврат кредита в срок. Надо рассматривать в факторы совокупности.\n",
        "\n",
        "- Люди, которые не имеют детей, лучше всего отдают кредит, доля должников здесь составляет с 7,5%, хуже обстоит дело с кредиторами, кто имеет одного или двух детей, здесь доля невозврата составляет соответственно 9,2% и 9,4%.\n",
        "- Клиенты из группы \"Не женат / не замужем\" лучше отдают кредит** чем клиенты из групп \"женат / замужем\" и \"в разводе\". Доля невозврата кредитов клиентов из группы \"Не женат / не замужем\" составляет 7,5% против  9-9,5% групп \"женат/замужем\" и \"в разводе\".\n",
        "- Люди с доходом выше 200000 лучше возвращают кредит, чем у люди с доходом ниже 200000: 6% против 8% соответственно.\n",
        "- Кредиты взятые на операции с автомобилем или проведение свадьбы чаще возвращают в срок по сравнению с кредитами взятыми на образование или операции с недвижимостью. Доля невозврата кредитов, взятых на операции с недвижимостью или образование составляет 9%, тогда как невозвраты по кредитам на авто или проведение свадьбы - 7%.\n",
        "\n",
        "Для более полной оценки уровня кредитоспособности клиента стоит включить сбор дополнительных данных, которые также могут быть факторами влияния на возврат кредита.\n",
        "\n",
        "К таким данным можно отнести:\n",
        "- сколько сейчас у человека кредитов и займов;\n",
        "- если у заемщика были просрочки,\n",
        "- брал ли человек займы в МФО\n",
        "- какую сумму кредитов заемщик выплатил без просрочек.\n",
        "- часто ли человек получал отказы других кредиторов.\n",
        "\n",
        "Стоит проанализировать влияние и других факторов: образование, работа.\n"
      ]
    }
  ],
  "metadata": {
    "ExecuteTimeLog": [
      {
        "duration": 54,
        "start_time": "2023-02-04T18:13:47.656Z"
      },
      {
        "duration": 676,
        "start_time": "2023-02-04T18:13:53.753Z"
      },
      {
        "duration": 20,
        "start_time": "2023-02-04T18:13:57.566Z"
      },
      {
        "duration": 16,
        "start_time": "2023-02-04T18:14:01.953Z"
      },
      {
        "duration": 10,
        "start_time": "2023-02-04T18:14:05.021Z"
      },
      {
        "duration": 31,
        "start_time": "2023-02-04T18:14:08.353Z"
      },
      {
        "duration": 4,
        "start_time": "2023-02-04T18:14:15.039Z"
      },
      {
        "duration": 8,
        "start_time": "2023-02-04T18:14:17.553Z"
      },
      {
        "duration": 5,
        "start_time": "2023-02-04T18:14:21.136Z"
      },
      {
        "duration": 7,
        "start_time": "2023-02-04T18:14:23.593Z"
      },
      {
        "duration": 6,
        "start_time": "2023-02-04T18:14:26.557Z"
      },
      {
        "duration": 50,
        "start_time": "2023-02-04T18:14:28.853Z"
      },
      {
        "duration": 15,
        "start_time": "2023-02-04T18:14:31.073Z"
      },
      {
        "duration": 4,
        "start_time": "2023-02-04T18:14:33.934Z"
      },
      {
        "duration": 16,
        "start_time": "2023-02-04T18:14:36.185Z"
      },
      {
        "duration": 19,
        "start_time": "2023-02-04T18:14:38.064Z"
      },
      {
        "duration": 18,
        "start_time": "2023-02-04T18:14:39.853Z"
      },
      {
        "duration": 3,
        "start_time": "2023-02-04T18:14:44.552Z"
      },
      {
        "duration": 9,
        "start_time": "2023-02-04T18:14:46.853Z"
      },
      {
        "duration": 6,
        "start_time": "2023-02-04T18:14:48.772Z"
      },
      {
        "duration": 3,
        "start_time": "2023-02-04T18:14:51.638Z"
      },
      {
        "duration": 8,
        "start_time": "2023-02-04T18:14:53.753Z"
      },
      {
        "duration": 16,
        "start_time": "2023-02-04T18:14:57.479Z"
      },
      {
        "duration": 13,
        "start_time": "2023-02-04T18:18:35.885Z"
      },
      {
        "duration": 20,
        "start_time": "2023-02-04T18:24:04.285Z"
      },
      {
        "duration": 12,
        "start_time": "2023-02-04T18:24:11.782Z"
      },
      {
        "duration": 31,
        "start_time": "2023-02-04T18:24:24.783Z"
      },
      {
        "duration": 4,
        "start_time": "2023-02-04T18:25:15.352Z"
      },
      {
        "duration": 6,
        "start_time": "2023-02-04T18:26:04.153Z"
      },
      {
        "duration": 6,
        "start_time": "2023-02-04T18:36:29.078Z"
      },
      {
        "duration": 11,
        "start_time": "2023-02-04T18:57:42.577Z"
      },
      {
        "duration": 9,
        "start_time": "2023-02-04T18:58:33.159Z"
      },
      {
        "duration": 14,
        "start_time": "2023-02-04T18:58:50.451Z"
      },
      {
        "duration": 11,
        "start_time": "2023-02-04T19:02:44.535Z"
      },
      {
        "duration": 8,
        "start_time": "2023-02-04T19:03:49.684Z"
      },
      {
        "duration": 10,
        "start_time": "2023-02-04T19:04:41.343Z"
      },
      {
        "duration": 9,
        "start_time": "2023-02-04T19:05:00.040Z"
      },
      {
        "duration": 6,
        "start_time": "2023-02-04T19:05:10.539Z"
      },
      {
        "duration": 9,
        "start_time": "2023-02-04T19:05:15.072Z"
      },
      {
        "duration": 9,
        "start_time": "2023-02-04T19:05:28.101Z"
      },
      {
        "duration": 7,
        "start_time": "2023-02-04T19:05:40.951Z"
      },
      {
        "duration": 14,
        "start_time": "2023-02-04T19:05:51.583Z"
      },
      {
        "duration": 902,
        "start_time": "2023-02-04T19:10:20.654Z"
      },
      {
        "duration": 701,
        "start_time": "2023-02-04T19:11:17.276Z"
      },
      {
        "duration": 977,
        "start_time": "2023-02-04T19:14:02.989Z"
      },
      {
        "duration": 895,
        "start_time": "2023-02-04T19:14:16.875Z"
      },
      {
        "duration": 684,
        "start_time": "2023-02-04T19:14:37.038Z"
      },
      {
        "duration": 48,
        "start_time": "2023-02-04T19:20:27.634Z"
      },
      {
        "duration": 9,
        "start_time": "2023-02-04T19:20:33.073Z"
      },
      {
        "duration": 8,
        "start_time": "2023-02-04T19:20:59.678Z"
      },
      {
        "duration": 943,
        "start_time": "2023-02-04T19:29:19.057Z"
      },
      {
        "duration": 138,
        "start_time": "2023-02-04T19:29:35.537Z"
      },
      {
        "duration": 135,
        "start_time": "2023-02-04T19:30:20.888Z"
      },
      {
        "duration": 92,
        "start_time": "2023-02-04T19:32:20.233Z"
      },
      {
        "duration": 138,
        "start_time": "2023-02-04T19:32:37.449Z"
      },
      {
        "duration": 149,
        "start_time": "2023-02-04T19:33:42.734Z"
      },
      {
        "duration": 146,
        "start_time": "2023-02-04T19:34:05.282Z"
      },
      {
        "duration": 11,
        "start_time": "2023-02-04T20:28:37.861Z"
      },
      {
        "duration": 17,
        "start_time": "2023-02-04T20:28:42.634Z"
      },
      {
        "duration": 50,
        "start_time": "2023-02-04T20:30:28.839Z"
      },
      {
        "duration": 7,
        "start_time": "2023-02-04T20:30:34.215Z"
      },
      {
        "duration": 11,
        "start_time": "2023-02-04T20:33:43.491Z"
      },
      {
        "duration": 10,
        "start_time": "2023-02-04T20:33:54.962Z"
      },
      {
        "duration": 20,
        "start_time": "2023-02-04T20:34:21.489Z"
      },
      {
        "duration": 9,
        "start_time": "2023-02-04T20:34:42.625Z"
      },
      {
        "duration": 8,
        "start_time": "2023-02-04T20:34:56.851Z"
      },
      {
        "duration": 5,
        "start_time": "2023-02-04T20:39:55.322Z"
      },
      {
        "duration": 47,
        "start_time": "2023-02-04T20:43:35.968Z"
      },
      {
        "duration": 9,
        "start_time": "2023-02-04T20:43:42.974Z"
      },
      {
        "duration": 4,
        "start_time": "2023-02-04T20:44:01.782Z"
      },
      {
        "duration": 4,
        "start_time": "2023-02-04T20:44:06.318Z"
      },
      {
        "duration": 6,
        "start_time": "2023-02-04T20:44:22.366Z"
      },
      {
        "duration": 5,
        "start_time": "2023-02-04T20:44:26.105Z"
      },
      {
        "duration": 7,
        "start_time": "2023-02-04T20:44:44.135Z"
      },
      {
        "duration": 6,
        "start_time": "2023-02-04T20:44:47.423Z"
      },
      {
        "duration": 7,
        "start_time": "2023-02-04T20:44:49.718Z"
      },
      {
        "duration": 8,
        "start_time": "2023-02-04T20:44:52.839Z"
      },
      {
        "duration": 8,
        "start_time": "2023-02-04T20:46:55.384Z"
      },
      {
        "duration": 11,
        "start_time": "2023-02-04T20:47:06.152Z"
      },
      {
        "duration": 117,
        "start_time": "2023-02-04T20:49:59.538Z"
      },
      {
        "duration": 26,
        "start_time": "2023-02-04T21:08:19.378Z"
      },
      {
        "duration": 9,
        "start_time": "2023-02-04T21:09:13.251Z"
      },
      {
        "duration": 5,
        "start_time": "2023-02-04T21:09:35.780Z"
      },
      {
        "duration": 6,
        "start_time": "2023-02-04T21:10:19.045Z"
      },
      {
        "duration": 6,
        "start_time": "2023-02-04T21:10:26.333Z"
      },
      {
        "duration": 4,
        "start_time": "2023-02-04T21:10:40.020Z"
      },
      {
        "duration": 5,
        "start_time": "2023-02-04T21:10:47.814Z"
      },
      {
        "duration": 4,
        "start_time": "2023-02-04T21:11:47.678Z"
      },
      {
        "duration": 788,
        "start_time": "2023-02-04T21:19:51.819Z"
      },
      {
        "duration": 15,
        "start_time": "2023-02-04T21:20:07.418Z"
      },
      {
        "duration": 1663,
        "start_time": "2023-02-04T21:21:04.318Z"
      },
      {
        "duration": 7,
        "start_time": "2023-02-04T21:21:33.259Z"
      },
      {
        "duration": 5,
        "start_time": "2023-02-04T21:24:45.008Z"
      },
      {
        "duration": 9,
        "start_time": "2023-02-04T21:24:49.844Z"
      },
      {
        "duration": 7,
        "start_time": "2023-02-04T21:25:40.924Z"
      },
      {
        "duration": 6,
        "start_time": "2023-02-04T21:26:04.142Z"
      },
      {
        "duration": 6,
        "start_time": "2023-02-04T21:26:07.796Z"
      },
      {
        "duration": 6,
        "start_time": "2023-02-04T21:26:15.040Z"
      },
      {
        "duration": 6,
        "start_time": "2023-02-04T21:26:20.268Z"
      },
      {
        "duration": 6,
        "start_time": "2023-02-04T21:26:34.869Z"
      },
      {
        "duration": 7,
        "start_time": "2023-02-04T21:27:00.189Z"
      },
      {
        "duration": 6,
        "start_time": "2023-02-04T21:27:41.646Z"
      },
      {
        "duration": 6,
        "start_time": "2023-02-04T21:27:52.350Z"
      },
      {
        "duration": 6,
        "start_time": "2023-02-04T21:28:26.652Z"
      },
      {
        "duration": 6,
        "start_time": "2023-02-04T21:28:51.719Z"
      },
      {
        "duration": 7,
        "start_time": "2023-02-04T21:29:10.126Z"
      },
      {
        "duration": 7,
        "start_time": "2023-02-04T21:29:26.609Z"
      },
      {
        "duration": 8,
        "start_time": "2023-02-04T21:29:51.518Z"
      },
      {
        "duration": 5,
        "start_time": "2023-02-04T21:30:24.247Z"
      },
      {
        "duration": 7,
        "start_time": "2023-02-04T21:30:58.071Z"
      },
      {
        "duration": 6,
        "start_time": "2023-02-04T21:31:01.079Z"
      },
      {
        "duration": 5,
        "start_time": "2023-02-04T21:31:03.441Z"
      },
      {
        "duration": 7,
        "start_time": "2023-02-04T21:33:16.040Z"
      },
      {
        "duration": 6,
        "start_time": "2023-02-04T21:33:18.616Z"
      },
      {
        "duration": 6,
        "start_time": "2023-02-04T21:34:03.670Z"
      },
      {
        "duration": 6,
        "start_time": "2023-02-04T21:34:13.322Z"
      },
      {
        "duration": 5,
        "start_time": "2023-02-04T21:41:13.390Z"
      },
      {
        "duration": 6,
        "start_time": "2023-02-04T21:41:16.676Z"
      },
      {
        "duration": 6,
        "start_time": "2023-02-04T21:41:19.396Z"
      },
      {
        "duration": 7,
        "start_time": "2023-02-04T21:41:21.588Z"
      },
      {
        "duration": 7,
        "start_time": "2023-02-04T21:41:24.245Z"
      },
      {
        "duration": 7,
        "start_time": "2023-02-04T21:41:26.294Z"
      },
      {
        "duration": 7,
        "start_time": "2023-02-04T21:41:28.444Z"
      },
      {
        "duration": 4,
        "start_time": "2023-02-04T21:47:14.849Z"
      },
      {
        "duration": 8,
        "start_time": "2023-02-04T21:47:30.841Z"
      },
      {
        "duration": 8,
        "start_time": "2023-02-04T21:48:26.705Z"
      },
      {
        "duration": 6,
        "start_time": "2023-02-04T21:51:02.521Z"
      },
      {
        "duration": 6,
        "start_time": "2023-02-04T21:54:13.745Z"
      },
      {
        "duration": 7,
        "start_time": "2023-02-04T21:55:11.564Z"
      },
      {
        "duration": 6,
        "start_time": "2023-02-04T21:55:58.891Z"
      },
      {
        "duration": 6,
        "start_time": "2023-02-04T21:56:54.484Z"
      },
      {
        "duration": 7,
        "start_time": "2023-02-04T21:57:30.837Z"
      },
      {
        "duration": 6,
        "start_time": "2023-02-04T21:58:16.782Z"
      },
      {
        "duration": 6,
        "start_time": "2023-02-04T21:58:57.246Z"
      },
      {
        "duration": 4,
        "start_time": "2023-02-04T22:01:04.743Z"
      },
      {
        "duration": 11,
        "start_time": "2023-02-04T22:01:18.208Z"
      },
      {
        "duration": 68,
        "start_time": "2023-02-04T22:03:00.217Z"
      },
      {
        "duration": 20,
        "start_time": "2023-02-04T22:10:24.074Z"
      },
      {
        "duration": 8,
        "start_time": "2023-02-04T22:10:44.358Z"
      },
      {
        "duration": 5,
        "start_time": "2023-02-04T22:12:54.567Z"
      },
      {
        "duration": 3,
        "start_time": "2023-02-04T22:13:37.914Z"
      },
      {
        "duration": 8,
        "start_time": "2023-02-04T22:13:42.010Z"
      },
      {
        "duration": 5,
        "start_time": "2023-02-04T22:13:47.720Z"
      },
      {
        "duration": 6,
        "start_time": "2023-02-04T22:14:14.775Z"
      },
      {
        "duration": 538,
        "start_time": "2023-02-04T22:15:10.017Z"
      },
      {
        "duration": 514,
        "start_time": "2023-02-04T22:15:39.896Z"
      },
      {
        "duration": 8,
        "start_time": "2023-02-04T22:16:03.608Z"
      },
      {
        "duration": 9,
        "start_time": "2023-02-04T22:16:14.584Z"
      },
      {
        "duration": 9,
        "start_time": "2023-02-04T22:17:23.360Z"
      },
      {
        "duration": 7,
        "start_time": "2023-02-04T22:18:33.770Z"
      },
      {
        "duration": 8,
        "start_time": "2023-02-04T22:21:37.660Z"
      },
      {
        "duration": 7,
        "start_time": "2023-02-04T22:22:38.451Z"
      },
      {
        "duration": 8,
        "start_time": "2023-02-04T22:22:40.717Z"
      },
      {
        "duration": 7,
        "start_time": "2023-02-04T22:22:43.939Z"
      },
      {
        "duration": 8,
        "start_time": "2023-02-04T22:22:51.082Z"
      },
      {
        "duration": 8,
        "start_time": "2023-02-04T22:23:59.277Z"
      },
      {
        "duration": 8,
        "start_time": "2023-02-04T22:24:12.555Z"
      },
      {
        "duration": 46,
        "start_time": "2023-02-05T06:30:58.427Z"
      },
      {
        "duration": 683,
        "start_time": "2023-02-05T06:31:48.378Z"
      },
      {
        "duration": 21,
        "start_time": "2023-02-05T06:31:51.787Z"
      },
      {
        "duration": 9,
        "start_time": "2023-02-05T06:31:55.513Z"
      },
      {
        "duration": 34,
        "start_time": "2023-02-05T06:31:57.883Z"
      },
      {
        "duration": 3,
        "start_time": "2023-02-05T06:31:59.801Z"
      },
      {
        "duration": 8,
        "start_time": "2023-02-05T06:32:01.785Z"
      },
      {
        "duration": 5,
        "start_time": "2023-02-05T06:32:04.943Z"
      },
      {
        "duration": 7,
        "start_time": "2023-02-05T06:32:07.385Z"
      },
      {
        "duration": 5,
        "start_time": "2023-02-05T06:32:09.929Z"
      },
      {
        "duration": 32,
        "start_time": "2023-02-05T06:32:13.057Z"
      },
      {
        "duration": 9,
        "start_time": "2023-02-05T06:32:14.810Z"
      },
      {
        "duration": 4,
        "start_time": "2023-02-05T06:32:17.377Z"
      },
      {
        "duration": 12,
        "start_time": "2023-02-05T06:32:19.088Z"
      },
      {
        "duration": 20,
        "start_time": "2023-02-05T06:32:20.962Z"
      },
      {
        "duration": 17,
        "start_time": "2023-02-05T06:32:22.841Z"
      },
      {
        "duration": 5,
        "start_time": "2023-02-05T06:32:26.075Z"
      },
      {
        "duration": 10,
        "start_time": "2023-02-05T06:32:28.360Z"
      },
      {
        "duration": 6,
        "start_time": "2023-02-05T06:32:29.977Z"
      },
      {
        "duration": 3,
        "start_time": "2023-02-05T06:32:35.698Z"
      },
      {
        "duration": 7,
        "start_time": "2023-02-05T06:32:38.489Z"
      },
      {
        "duration": 13,
        "start_time": "2023-02-05T06:32:41.362Z"
      },
      {
        "duration": 6,
        "start_time": "2023-02-05T06:32:44.379Z"
      },
      {
        "duration": 6,
        "start_time": "2023-02-05T06:32:50.761Z"
      },
      {
        "duration": 15,
        "start_time": "2023-02-05T06:32:57.143Z"
      },
      {
        "duration": 11,
        "start_time": "2023-02-05T06:33:03.264Z"
      },
      {
        "duration": 994,
        "start_time": "2023-02-05T06:33:09.992Z"
      },
      {
        "duration": 8,
        "start_time": "2023-02-05T06:33:26.987Z"
      },
      {
        "duration": 5,
        "start_time": "2023-02-05T06:33:32.097Z"
      },
      {
        "duration": 7,
        "start_time": "2023-02-05T06:33:34.337Z"
      },
      {
        "duration": 9,
        "start_time": "2023-02-05T06:33:36.746Z"
      },
      {
        "duration": 10,
        "start_time": "2023-02-05T06:33:39.073Z"
      },
      {
        "duration": 126,
        "start_time": "2023-02-05T06:33:41.225Z"
      },
      {
        "duration": 4,
        "start_time": "2023-02-05T06:33:50.139Z"
      },
      {
        "duration": 4,
        "start_time": "2023-02-05T06:33:51.834Z"
      },
      {
        "duration": 5,
        "start_time": "2023-02-05T06:33:53.778Z"
      },
      {
        "duration": 8,
        "start_time": "2023-02-05T06:33:56.290Z"
      },
      {
        "duration": 7,
        "start_time": "2023-02-05T06:33:59.891Z"
      },
      {
        "duration": 7,
        "start_time": "2023-02-05T06:34:02.492Z"
      },
      {
        "duration": 7,
        "start_time": "2023-02-05T06:34:04.652Z"
      },
      {
        "duration": 6,
        "start_time": "2023-02-05T06:34:06.507Z"
      },
      {
        "duration": 7,
        "start_time": "2023-02-05T06:34:08.996Z"
      },
      {
        "duration": 8,
        "start_time": "2023-02-05T06:34:12.300Z"
      },
      {
        "duration": 6,
        "start_time": "2023-02-05T06:34:17.516Z"
      },
      {
        "duration": 6,
        "start_time": "2023-02-05T06:34:21.369Z"
      },
      {
        "duration": 6,
        "start_time": "2023-02-05T06:34:24.412Z"
      },
      {
        "duration": 7,
        "start_time": "2023-02-05T06:34:26.722Z"
      },
      {
        "duration": 9,
        "start_time": "2023-02-05T06:34:28.425Z"
      },
      {
        "duration": 7,
        "start_time": "2023-02-05T06:34:30.546Z"
      },
      {
        "duration": 7,
        "start_time": "2023-02-05T06:34:32.705Z"
      },
      {
        "duration": 7,
        "start_time": "2023-02-05T06:34:34.512Z"
      },
      {
        "duration": 10,
        "start_time": "2023-02-05T06:34:36.459Z"
      },
      {
        "duration": 9,
        "start_time": "2023-02-05T06:34:43.826Z"
      },
      {
        "duration": 9,
        "start_time": "2023-02-05T06:34:48.701Z"
      },
      {
        "duration": 7,
        "start_time": "2023-02-05T06:36:09.410Z"
      },
      {
        "duration": 60,
        "start_time": "2023-02-05T06:45:06.256Z"
      },
      {
        "duration": 13,
        "start_time": "2023-02-05T06:45:15.168Z"
      },
      {
        "duration": 5,
        "start_time": "2023-02-05T06:45:57.946Z"
      },
      {
        "duration": 8,
        "start_time": "2023-02-05T06:46:02.160Z"
      },
      {
        "duration": 8,
        "start_time": "2023-02-05T06:46:03.969Z"
      },
      {
        "duration": 8,
        "start_time": "2023-02-05T06:47:08.460Z"
      },
      {
        "duration": 9,
        "start_time": "2023-02-05T06:47:13.968Z"
      },
      {
        "duration": 8,
        "start_time": "2023-02-05T06:48:43.414Z"
      },
      {
        "duration": 11,
        "start_time": "2023-02-05T06:48:52.292Z"
      },
      {
        "duration": 9,
        "start_time": "2023-02-05T06:49:28.140Z"
      },
      {
        "duration": 5,
        "start_time": "2023-02-05T06:50:59.757Z"
      },
      {
        "duration": 10,
        "start_time": "2023-02-05T06:51:16.628Z"
      },
      {
        "duration": 6,
        "start_time": "2023-02-05T06:51:24.821Z"
      },
      {
        "duration": 6,
        "start_time": "2023-02-05T06:51:30.821Z"
      },
      {
        "duration": 9,
        "start_time": "2023-02-05T06:51:38.101Z"
      },
      {
        "duration": 12,
        "start_time": "2023-02-05T06:51:54.445Z"
      },
      {
        "duration": 7,
        "start_time": "2023-02-05T07:01:18.818Z"
      },
      {
        "duration": 504,
        "start_time": "2023-02-05T22:44:35.548Z"
      },
      {
        "duration": 23,
        "start_time": "2023-02-05T22:44:36.053Z"
      },
      {
        "duration": 15,
        "start_time": "2023-02-05T22:44:36.077Z"
      },
      {
        "duration": 9,
        "start_time": "2023-02-05T22:44:36.093Z"
      },
      {
        "duration": 38,
        "start_time": "2023-02-05T22:44:36.104Z"
      },
      {
        "duration": 3,
        "start_time": "2023-02-05T22:44:36.143Z"
      },
      {
        "duration": 13,
        "start_time": "2023-02-05T22:44:36.148Z"
      },
      {
        "duration": 3,
        "start_time": "2023-02-05T22:44:36.163Z"
      },
      {
        "duration": 26,
        "start_time": "2023-02-05T22:44:36.168Z"
      },
      {
        "duration": 4,
        "start_time": "2023-02-05T22:44:36.197Z"
      },
      {
        "duration": 36,
        "start_time": "2023-02-05T22:44:36.203Z"
      },
      {
        "duration": 10,
        "start_time": "2023-02-05T22:44:36.241Z"
      },
      {
        "duration": 6,
        "start_time": "2023-02-05T22:44:36.253Z"
      },
      {
        "duration": 12,
        "start_time": "2023-02-05T22:44:36.261Z"
      },
      {
        "duration": 19,
        "start_time": "2023-02-05T22:44:36.294Z"
      },
      {
        "duration": 16,
        "start_time": "2023-02-05T22:44:36.314Z"
      },
      {
        "duration": 4,
        "start_time": "2023-02-05T22:44:36.331Z"
      },
      {
        "duration": 15,
        "start_time": "2023-02-05T22:44:36.337Z"
      },
      {
        "duration": 5,
        "start_time": "2023-02-05T22:44:36.354Z"
      },
      {
        "duration": 3,
        "start_time": "2023-02-05T22:44:36.360Z"
      },
      {
        "duration": 8,
        "start_time": "2023-02-05T22:44:36.394Z"
      },
      {
        "duration": 17,
        "start_time": "2023-02-05T22:44:36.404Z"
      },
      {
        "duration": 8,
        "start_time": "2023-02-05T22:44:36.422Z"
      },
      {
        "duration": 5,
        "start_time": "2023-02-05T22:44:36.432Z"
      },
      {
        "duration": 10,
        "start_time": "2023-02-05T22:44:36.438Z"
      },
      {
        "duration": 9,
        "start_time": "2023-02-05T22:44:36.449Z"
      },
      {
        "duration": 1061,
        "start_time": "2023-02-05T22:44:36.460Z"
      },
      {
        "duration": 10,
        "start_time": "2023-02-05T22:44:37.525Z"
      },
      {
        "duration": 6,
        "start_time": "2023-02-05T22:44:37.536Z"
      },
      {
        "duration": 8,
        "start_time": "2023-02-05T22:44:37.543Z"
      },
      {
        "duration": 11,
        "start_time": "2023-02-05T22:44:37.553Z"
      },
      {
        "duration": 33,
        "start_time": "2023-02-05T22:44:37.565Z"
      },
      {
        "duration": 130,
        "start_time": "2023-02-05T22:44:37.600Z"
      },
      {
        "duration": 5,
        "start_time": "2023-02-05T22:44:37.732Z"
      },
      {
        "duration": 13,
        "start_time": "2023-02-05T22:44:37.739Z"
      },
      {
        "duration": 11,
        "start_time": "2023-02-05T22:44:37.754Z"
      },
      {
        "duration": 11,
        "start_time": "2023-02-05T22:44:37.766Z"
      },
      {
        "duration": 21,
        "start_time": "2023-02-05T22:44:37.778Z"
      },
      {
        "duration": 7,
        "start_time": "2023-02-05T22:44:37.801Z"
      },
      {
        "duration": 7,
        "start_time": "2023-02-05T22:44:37.810Z"
      },
      {
        "duration": 16,
        "start_time": "2023-02-05T22:44:37.819Z"
      },
      {
        "duration": 8,
        "start_time": "2023-02-05T22:44:37.837Z"
      },
      {
        "duration": 8,
        "start_time": "2023-02-05T22:44:37.847Z"
      },
      {
        "duration": 7,
        "start_time": "2023-02-05T22:44:37.856Z"
      },
      {
        "duration": 12,
        "start_time": "2023-02-05T22:44:37.895Z"
      },
      {
        "duration": 8,
        "start_time": "2023-02-05T22:44:37.909Z"
      },
      {
        "duration": 6,
        "start_time": "2023-02-05T22:44:37.920Z"
      },
      {
        "duration": 9,
        "start_time": "2023-02-05T22:44:37.928Z"
      },
      {
        "duration": 7,
        "start_time": "2023-02-05T22:44:37.938Z"
      },
      {
        "duration": 9,
        "start_time": "2023-02-05T22:44:37.947Z"
      },
      {
        "duration": 8,
        "start_time": "2023-02-05T22:44:37.993Z"
      },
      {
        "duration": 7,
        "start_time": "2023-02-05T22:44:38.003Z"
      },
      {
        "duration": 5,
        "start_time": "2023-02-05T22:44:38.012Z"
      },
      {
        "duration": 16,
        "start_time": "2023-02-05T22:44:38.018Z"
      },
      {
        "duration": 10,
        "start_time": "2023-02-05T22:44:38.036Z"
      },
      {
        "duration": 7,
        "start_time": "2023-02-05T22:44:38.047Z"
      },
      {
        "duration": 40,
        "start_time": "2023-02-05T22:44:38.056Z"
      },
      {
        "duration": 7,
        "start_time": "2023-02-05T22:44:38.098Z"
      },
      {
        "duration": 10,
        "start_time": "2023-02-05T22:44:38.107Z"
      },
      {
        "duration": 12,
        "start_time": "2023-02-05T22:44:38.118Z"
      },
      {
        "duration": 12,
        "start_time": "2023-02-05T22:44:38.132Z"
      },
      {
        "duration": 11,
        "start_time": "2023-02-05T22:44:38.145Z"
      },
      {
        "duration": 36,
        "start_time": "2023-02-05T22:44:38.158Z"
      },
      {
        "duration": 6,
        "start_time": "2023-02-05T22:44:38.196Z"
      },
      {
        "duration": 11,
        "start_time": "2023-02-05T22:44:38.204Z"
      },
      {
        "duration": 16,
        "start_time": "2023-02-05T22:44:38.217Z"
      },
      {
        "duration": 10,
        "start_time": "2023-02-05T22:44:38.235Z"
      },
      {
        "duration": 72,
        "start_time": "2023-02-05T23:49:12.608Z"
      },
      {
        "duration": 72,
        "start_time": "2023-02-06T16:33:01.760Z"
      },
      {
        "duration": 685,
        "start_time": "2023-02-06T16:33:11.722Z"
      },
      {
        "duration": 26,
        "start_time": "2023-02-06T16:33:15.580Z"
      },
      {
        "duration": 19,
        "start_time": "2023-02-06T16:33:19.521Z"
      },
      {
        "duration": 10,
        "start_time": "2023-02-06T16:33:21.993Z"
      },
      {
        "duration": 33,
        "start_time": "2023-02-06T16:33:24.384Z"
      },
      {
        "duration": 4,
        "start_time": "2023-02-06T16:33:26.945Z"
      },
      {
        "duration": 9,
        "start_time": "2023-02-06T16:33:28.697Z"
      },
      {
        "duration": 5,
        "start_time": "2023-02-06T16:33:31.257Z"
      },
      {
        "duration": 7,
        "start_time": "2023-02-06T16:33:34.409Z"
      },
      {
        "duration": 5,
        "start_time": "2023-02-06T16:33:36.618Z"
      },
      {
        "duration": 34,
        "start_time": "2023-02-06T16:33:38.729Z"
      },
      {
        "duration": 11,
        "start_time": "2023-02-06T16:33:42.513Z"
      },
      {
        "duration": 4,
        "start_time": "2023-02-06T16:33:45.809Z"
      },
      {
        "duration": 12,
        "start_time": "2023-02-06T16:33:47.928Z"
      },
      {
        "duration": 30,
        "start_time": "2023-02-06T16:33:49.981Z"
      },
      {
        "duration": 19,
        "start_time": "2023-02-06T16:33:52.428Z"
      },
      {
        "duration": 4,
        "start_time": "2023-02-06T16:33:55.058Z"
      },
      {
        "duration": 11,
        "start_time": "2023-02-06T16:33:57.235Z"
      },
      {
        "duration": 7,
        "start_time": "2023-02-06T16:33:59.691Z"
      },
      {
        "duration": 3,
        "start_time": "2023-02-06T16:34:02.098Z"
      },
      {
        "duration": 8,
        "start_time": "2023-02-06T16:34:04.731Z"
      },
      {
        "duration": 14,
        "start_time": "2023-02-06T16:34:08.883Z"
      },
      {
        "duration": 8,
        "start_time": "2023-02-06T16:34:11.823Z"
      },
      {
        "duration": 6,
        "start_time": "2023-02-06T16:34:15.057Z"
      },
      {
        "duration": 13,
        "start_time": "2023-02-06T16:34:17.065Z"
      },
      {
        "duration": 9,
        "start_time": "2023-02-06T16:34:19.776Z"
      },
      {
        "duration": 51,
        "start_time": "2023-02-06T16:34:23.780Z"
      },
      {
        "duration": 54,
        "start_time": "2023-02-06T16:34:48.136Z"
      },
      {
        "duration": 1121,
        "start_time": "2023-02-06T16:35:30.563Z"
      },
      {
        "duration": 129,
        "start_time": "2023-02-06T16:35:48.308Z"
      },
      {
        "duration": 241,
        "start_time": "2023-02-06T16:41:16.580Z"
      },
      {
        "duration": 152,
        "start_time": "2023-02-06T16:41:35.630Z"
      },
      {
        "duration": 150,
        "start_time": "2023-02-06T16:43:21.482Z"
      },
      {
        "duration": 142,
        "start_time": "2023-02-06T16:43:28.150Z"
      },
      {
        "duration": 136,
        "start_time": "2023-02-06T16:43:34.765Z"
      },
      {
        "duration": 205,
        "start_time": "2023-02-06T16:43:41.830Z"
      },
      {
        "duration": 9,
        "start_time": "2023-02-06T16:53:42.404Z"
      },
      {
        "duration": 134,
        "start_time": "2023-02-06T16:54:10.637Z"
      },
      {
        "duration": 135,
        "start_time": "2023-02-06T16:54:31.962Z"
      },
      {
        "duration": 14,
        "start_time": "2023-02-06T16:55:25.750Z"
      },
      {
        "duration": 11,
        "start_time": "2023-02-06T16:56:22.934Z"
      },
      {
        "duration": 10,
        "start_time": "2023-02-06T17:00:50.213Z"
      },
      {
        "duration": 13,
        "start_time": "2023-02-06T17:01:51.382Z"
      },
      {
        "duration": 9,
        "start_time": "2023-02-06T17:01:58.992Z"
      },
      {
        "duration": 9,
        "start_time": "2023-02-06T17:02:10.471Z"
      },
      {
        "duration": 10,
        "start_time": "2023-02-06T17:02:15.129Z"
      },
      {
        "duration": 11,
        "start_time": "2023-02-06T17:02:21.232Z"
      },
      {
        "duration": 5,
        "start_time": "2023-02-06T17:02:24.197Z"
      },
      {
        "duration": 37,
        "start_time": "2023-02-06T17:02:29.064Z"
      },
      {
        "duration": 13,
        "start_time": "2023-02-06T17:02:30.888Z"
      },
      {
        "duration": 4,
        "start_time": "2023-02-06T17:02:33.479Z"
      },
      {
        "duration": 13,
        "start_time": "2023-02-06T17:02:35.269Z"
      },
      {
        "duration": 23,
        "start_time": "2023-02-06T17:02:37.400Z"
      },
      {
        "duration": 21,
        "start_time": "2023-02-06T17:02:41.360Z"
      },
      {
        "duration": 3,
        "start_time": "2023-02-06T17:02:44.864Z"
      },
      {
        "duration": 9,
        "start_time": "2023-02-06T17:02:47.608Z"
      },
      {
        "duration": 6,
        "start_time": "2023-02-06T17:02:49.456Z"
      },
      {
        "duration": 3,
        "start_time": "2023-02-06T17:02:53.249Z"
      },
      {
        "duration": 8,
        "start_time": "2023-02-06T17:02:55.896Z"
      },
      {
        "duration": 15,
        "start_time": "2023-02-06T17:02:58.522Z"
      },
      {
        "duration": 8,
        "start_time": "2023-02-06T17:03:01.256Z"
      },
      {
        "duration": 6,
        "start_time": "2023-02-06T17:03:04.646Z"
      },
      {
        "duration": 12,
        "start_time": "2023-02-06T17:03:14.016Z"
      },
      {
        "duration": 10,
        "start_time": "2023-02-06T17:03:16.335Z"
      },
      {
        "duration": 179,
        "start_time": "2023-02-06T17:03:22.071Z"
      },
      {
        "duration": 9,
        "start_time": "2023-02-06T17:03:45.760Z"
      },
      {
        "duration": 6,
        "start_time": "2023-02-06T17:03:48.113Z"
      },
      {
        "duration": 8,
        "start_time": "2023-02-06T17:03:50.040Z"
      },
      {
        "duration": 7,
        "start_time": "2023-02-06T17:03:52.283Z"
      },
      {
        "duration": 9,
        "start_time": "2023-02-06T17:03:54.544Z"
      },
      {
        "duration": 10,
        "start_time": "2023-02-06T17:03:57.963Z"
      },
      {
        "duration": 175,
        "start_time": "2023-02-06T17:04:00.392Z"
      },
      {
        "duration": 178,
        "start_time": "2023-02-06T17:04:14.946Z"
      },
      {
        "duration": 161,
        "start_time": "2023-02-06T17:04:22.988Z"
      },
      {
        "duration": 191,
        "start_time": "2023-02-06T17:05:05.834Z"
      },
      {
        "duration": 177,
        "start_time": "2023-02-06T17:05:13.897Z"
      },
      {
        "duration": 133,
        "start_time": "2023-02-07T23:30:04.194Z"
      },
      {
        "duration": 144,
        "start_time": "2023-02-07T23:30:41.786Z"
      }
    ],
    "colab": {
      "provenance": []
    },
    "kernelspec": {
      "display_name": "Python 3 (ipykernel)",
      "language": "python",
      "name": "python3"
    },
    "language_info": {
      "codemirror_mode": {
        "name": "ipython",
        "version": 3
      },
      "file_extension": ".py",
      "mimetype": "text/x-python",
      "name": "python",
      "nbconvert_exporter": "python",
      "pygments_lexer": "ipython3",
      "version": "3.9.5"
    },
    "toc": {
      "base_numbering": 1,
      "nav_menu": {},
      "number_sections": true,
      "sideBar": true,
      "skip_h1_title": true,
      "title_cell": "Table of Contents",
      "title_sidebar": "Contents",
      "toc_cell": false,
      "toc_position": {},
      "toc_section_display": true,
      "toc_window_display": false
    }
  },
  "nbformat": 4,
  "nbformat_minor": 5
}