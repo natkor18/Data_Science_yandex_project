{
  "cells": [
    {
      "cell_type": "markdown",
      "metadata": {
        "id": "view-in-github",
        "colab_type": "text"
      },
      "source": [
        "<a href=\"https://colab.research.google.com/github/natkor18/Data_Science_yandex_project/blob/main/toxic_comments_on_git/toxic_comments_on_git.ipynb\" target=\"_parent\"><img src=\"https://colab.research.google.com/assets/colab-badge.svg\" alt=\"Open In Colab\"/></a>"
      ]
    },
    {
      "cell_type": "markdown",
      "metadata": {
        "toc": true,
        "id": "VO-aymDmXJPX"
      },
      "source": [
        "<h1>Содержание<span class=\"tocSkip\"></span></h1>\n",
        "<div class=\"toc\"><ul class=\"toc-item\"><li><span><a href=\"#Подготовка\" data-toc-modified-id=\"Подготовка-1\"><span class=\"toc-item-num\">1&nbsp;&nbsp;</span>Подготовка</a></span></li><li><span><a href=\"#Обучение\" data-toc-modified-id=\"Обучение-2\"><span class=\"toc-item-num\">2&nbsp;&nbsp;</span>Обучение</a></span></li><li><span><a href=\"#Выводы\" data-toc-modified-id=\"Выводы-3\"><span class=\"toc-item-num\">3&nbsp;&nbsp;</span>Выводы</a></span></li><li><span><a href=\"#Чек-лист-проверки\" data-toc-modified-id=\"Чек-лист-проверки-4\"><span class=\"toc-item-num\">4&nbsp;&nbsp;</span>Чек-лист проверки</a></span></li></ul></div>"
      ]
    },
    {
      "cell_type": "markdown",
      "metadata": {
        "id": "sNNFRHqGXJPa"
      },
      "source": [
        "# Проект для «Викишоп»"
      ]
    },
    {
      "cell_type": "markdown",
      "metadata": {
        "id": "5IWw-MLoXJPa"
      },
      "source": [
        "Интернет-магазин «Викишоп» запускает новый сервис. Теперь пользователи могут редактировать и дополнять описания товаров, как в вики-сообществах. То есть клиенты предлагают свои правки и комментируют изменения других. Магазину нужен инструмент, который будет искать токсичные комментарии и отправлять их на модерацию.\n",
        "\n",
        "Обучим модель классифицировать комментарии на позитивные и негативные. В нашем распоряжении набор данных с разметкой о токсичности правок.\n",
        "\n",
        "Необходимо построить модель со значением метрики качества *F1* не меньше 0.75.\n",
        "\n",
        "**Инструкция по выполнению проекта**\n",
        "\n",
        "1. Загрузить и подготовить данные.\n",
        "2. Обучить разные модели.\n",
        "3. Сделайть выводы.\n",
        "\n",
        "Для выполнения проекта применять *BERT* необязательно, но можно попробовать.\n",
        "\n",
        "**Описание данных**\n",
        "\n",
        "Данные находятся в файле `toxic_comments.csv`. Столбец *text* в нём содержит текст комментария, а *toxic* — целевой признак."
      ]
    },
    {
      "cell_type": "markdown",
      "metadata": {
        "id": "_XhddH1AXJPa"
      },
      "source": [
        "## Подготовка\n",
        "\n",
        "План работ:<br/>\n",
        "1. Считать датасет\n",
        "2. Провести токенизацию и лемматизацию (без bert)\n",
        "3. Очистить от стоп слов\n",
        "4. Преобразовать в векторный формат (мешок слов)\n",
        "5. Обучить модели на трейне. Посчитать скор (f1)\n",
        "6. Проверить f1 на тесте"
      ]
    },
    {
      "cell_type": "markdown",
      "metadata": {
        "id": "t8qIdqXoXJPb"
      },
      "source": [
        "Загрузим необходимые модули"
      ]
    },
    {
      "cell_type": "code",
      "execution_count": null,
      "metadata": {
        "id": "S6C7L3nOXJPc",
        "outputId": "e939f8b1-d70b-4edd-bffd-3b32795cf70e"
      },
      "outputs": [
        {
          "name": "stderr",
          "output_type": "stream",
          "text": [
            "[nltk_data] Downloading package stopwords to /home/jovyan/nltk_data...\n",
            "[nltk_data]   Package stopwords is already up-to-date!\n",
            "[nltk_data] Downloading package punkt to /home/jovyan/nltk_data...\n",
            "[nltk_data]   Package punkt is already up-to-date!\n"
          ]
        },
        {
          "data": {
            "text/plain": [
              "True"
            ]
          },
          "execution_count": 2,
          "metadata": {},
          "output_type": "execute_result"
        }
      ],
      "source": [
        "import pandas as pd\n",
        "from sklearn.feature_extraction.text import CountVectorizer, TfidfVectorizer\n",
        "from sklearn.ensemble import RandomForestClassifier, GradientBoostingClassifier\n",
        "from catboost import CatBoostClassifier\n",
        "\n",
        "from sklearn.utils import shuffle\n",
        "\n",
        "import nltk\n",
        "import re\n",
        "from sklearn.linear_model import LogisticRegression\n",
        "from sklearn.model_selection import train_test_split, cross_val_score, GridSearchCV\n",
        "from sklearn.metrics import f1_score\n",
        "\n",
        "import spacy\n",
        "\n",
        "from nltk.stem import WordNetLemmatizer\n",
        "from nltk.corpus import wordnet, stopwords\n",
        "\n",
        "from nltk.tokenize import word_tokenize\n",
        "from sklearn.pipeline import make_pipeline, Pipeline\n",
        "from sklearn.preprocessing import StandardScaler\n",
        "\n",
        "nltk.download('stopwords')\n",
        "nltk.download('punkt')"
      ]
    },
    {
      "cell_type": "markdown",
      "metadata": {
        "id": "4dMsb9YGXJPd"
      },
      "source": [
        "Ситаем данные, посмотрим на них"
      ]
    },
    {
      "cell_type": "code",
      "execution_count": null,
      "metadata": {
        "id": "7TiMlIZVXJPd"
      },
      "outputs": [],
      "source": [
        "data = pd.read_csv('/datasets/toxic_comments.csv', index_col=0).reset_index(drop=True)"
      ]
    },
    {
      "cell_type": "code",
      "execution_count": null,
      "metadata": {
        "id": "LDisU2c8XJPe",
        "outputId": "8918a75f-ef1a-45f0-a362-3331141fd0ee"
      },
      "outputs": [
        {
          "data": {
            "text/html": [
              "<div>\n",
              "<style scoped>\n",
              "    .dataframe tbody tr th:only-of-type {\n",
              "        vertical-align: middle;\n",
              "    }\n",
              "\n",
              "    .dataframe tbody tr th {\n",
              "        vertical-align: top;\n",
              "    }\n",
              "\n",
              "    .dataframe thead th {\n",
              "        text-align: right;\n",
              "    }\n",
              "</style>\n",
              "<table border=\"1\" class=\"dataframe\">\n",
              "  <thead>\n",
              "    <tr style=\"text-align: right;\">\n",
              "      <th></th>\n",
              "      <th>text</th>\n",
              "      <th>toxic</th>\n",
              "    </tr>\n",
              "  </thead>\n",
              "  <tbody>\n",
              "    <tr>\n",
              "      <th>0</th>\n",
              "      <td>Explanation\\nWhy the edits made under my username Hardcore Metallica Fan were reverted? They weren't vandalisms, just closure on some GAs after I voted at New York Dolls FAC. And please don't remove the template from the talk page since I'm retired now.89.205.38.27</td>\n",
              "      <td>0</td>\n",
              "    </tr>\n",
              "    <tr>\n",
              "      <th>1</th>\n",
              "      <td>D'aww! He matches this background colour I'm seemingly stuck with. Thanks.  (talk) 21:51, January 11, 2016 (UTC)</td>\n",
              "      <td>0</td>\n",
              "    </tr>\n",
              "    <tr>\n",
              "      <th>2</th>\n",
              "      <td>Hey man, I'm really not trying to edit war. It's just that this guy is constantly removing relevant information and talking to me through edits instead of my talk page. He seems to care more about the formatting than the actual info.</td>\n",
              "      <td>0</td>\n",
              "    </tr>\n",
              "    <tr>\n",
              "      <th>3</th>\n",
              "      <td>\"\\nMore\\nI can't make any real suggestions on improvement - I wondered if the section statistics should be later on, or a subsection of \"\"types of accidents\"\"  -I think the references may need tidying so that they are all in the exact same format ie date format etc. I can do that later on, if no-one else does first - if you have any preferences for formatting style on references or want to do it yourself please let me know.\\n\\nThere appears to be a backlog on articles for review so I guess there may be a delay until a reviewer turns up. It's listed in the relevant form eg Wikipedia:Good_article_nominations#Transport  \"</td>\n",
              "      <td>0</td>\n",
              "    </tr>\n",
              "    <tr>\n",
              "      <th>4</th>\n",
              "      <td>You, sir, are my hero. Any chance you remember what page that's on?</td>\n",
              "      <td>0</td>\n",
              "    </tr>\n",
              "  </tbody>\n",
              "</table>\n",
              "</div>"
            ],
            "text/plain": [
              "                                                                                                                                                                                                                                                                                                                                                                                                                                                                                                                                                                                                                                                 text  \\\n",
              "0                                                                                                                                                                                                                                                                                                                                                                           Explanation\\nWhy the edits made under my username Hardcore Metallica Fan were reverted? They weren't vandalisms, just closure on some GAs after I voted at New York Dolls FAC. And please don't remove the template from the talk page since I'm retired now.89.205.38.27   \n",
              "1                                                                                                                                                                                                                                                                                                                                                                                                                                                                                                                                    D'aww! He matches this background colour I'm seemingly stuck with. Thanks.  (talk) 21:51, January 11, 2016 (UTC)   \n",
              "2                                                                                                                                                                                                                                                                                                                                                                                                           Hey man, I'm really not trying to edit war. It's just that this guy is constantly removing relevant information and talking to me through edits instead of my talk page. He seems to care more about the formatting than the actual info.   \n",
              "3  \"\\nMore\\nI can't make any real suggestions on improvement - I wondered if the section statistics should be later on, or a subsection of \"\"types of accidents\"\"  -I think the references may need tidying so that they are all in the exact same format ie date format etc. I can do that later on, if no-one else does first - if you have any preferences for formatting style on references or want to do it yourself please let me know.\\n\\nThere appears to be a backlog on articles for review so I guess there may be a delay until a reviewer turns up. It's listed in the relevant form eg Wikipedia:Good_article_nominations#Transport  \"   \n",
              "4                                                                                                                                                                                                                                                                                                                                                                                                                                                                                                                                                                                 You, sir, are my hero. Any chance you remember what page that's on?   \n",
              "\n",
              "   toxic  \n",
              "0      0  \n",
              "1      0  \n",
              "2      0  \n",
              "3      0  \n",
              "4      0  "
            ]
          },
          "execution_count": 4,
          "metadata": {},
          "output_type": "execute_result"
        }
      ],
      "source": [
        "pd.options.display.max_colwidth = 999 #выводим полный текст постов, установив максимальную длину.\n",
        "data.head(5)"
      ]
    },
    {
      "cell_type": "code",
      "execution_count": null,
      "metadata": {
        "id": "Xna8pM-kXJPe",
        "outputId": "be26aba0-68d5-4467-f863-f64d432268de"
      },
      "outputs": [
        {
          "name": "stdout",
          "output_type": "stream",
          "text": [
            "<class 'pandas.core.frame.DataFrame'>\n",
            "RangeIndex: 159292 entries, 0 to 159291\n",
            "Data columns (total 2 columns):\n",
            " #   Column  Non-Null Count   Dtype \n",
            "---  ------  --------------   ----- \n",
            " 0   text    159292 non-null  object\n",
            " 1   toxic   159292 non-null  int64 \n",
            "dtypes: int64(1), object(1)\n",
            "memory usage: 2.4+ MB\n"
          ]
        }
      ],
      "source": [
        "data.info()"
      ]
    },
    {
      "cell_type": "markdown",
      "metadata": {
        "id": "2EzJS6Z1XJPe"
      },
      "source": [
        "Датарейм состоит из более чем 159 тыс. строк, в таблице содержатся комментарии и оценка - положительный или токсичный комментарий. Выполним лемматизацию данных по столбцу 'text'."
      ]
    },
    {
      "cell_type": "markdown",
      "metadata": {
        "id": "Ry_mqASsXJPe"
      },
      "source": [
        "Выполню лемматизацию позже с помощью  spacy. А пока почистим текст от лишних символов.\n"
      ]
    },
    {
      "cell_type": "markdown",
      "metadata": {
        "id": "Dd1NeXJzXJPf"
      },
      "source": [
        "Сделаем функцию для наших целей, апостроф оставим, так как в английском языке много сокращений с этим символом.\n"
      ]
    },
    {
      "cell_type": "code",
      "execution_count": null,
      "metadata": {
        "id": "Zd4dSGpyXJPf"
      },
      "outputs": [],
      "source": [
        "def cleared_text(text):\n",
        "    clear_text = []\n",
        "    for item in text:\n",
        "        corp = ' '.join(re.sub(r\"[^a-z'A-Z]\", ' ', item.lower()).split())\n",
        "        clear_text.append(corp)\n",
        "\n",
        "    return clear_text"
      ]
    },
    {
      "cell_type": "code",
      "execution_count": null,
      "metadata": {
        "id": "-Q3jlG0XXJPg",
        "outputId": "69c95a55-b14e-426e-ab9a-9495a063aa56"
      },
      "outputs": [
        {
          "name": "stdout",
          "output_type": "stream",
          "text": [
            "CPU times: user 4.4 s, sys: 58.5 ms, total: 4.46 s\n",
            "Wall time: 4.47 s\n"
          ]
        }
      ],
      "source": [
        "%%time\n",
        "data['clear_text'] = cleared_text(data['text'])"
      ]
    },
    {
      "cell_type": "code",
      "execution_count": null,
      "metadata": {
        "id": "AUwMur1gXJPg",
        "outputId": "e19164a8-b14e-4efc-b6b5-466cc0449b6a"
      },
      "outputs": [
        {
          "data": {
            "text/html": [
              "<div>\n",
              "<style scoped>\n",
              "    .dataframe tbody tr th:only-of-type {\n",
              "        vertical-align: middle;\n",
              "    }\n",
              "\n",
              "    .dataframe tbody tr th {\n",
              "        vertical-align: top;\n",
              "    }\n",
              "\n",
              "    .dataframe thead th {\n",
              "        text-align: right;\n",
              "    }\n",
              "</style>\n",
              "<table border=\"1\" class=\"dataframe\">\n",
              "  <thead>\n",
              "    <tr style=\"text-align: right;\">\n",
              "      <th></th>\n",
              "      <th>text</th>\n",
              "      <th>toxic</th>\n",
              "      <th>clear_text</th>\n",
              "    </tr>\n",
              "  </thead>\n",
              "  <tbody>\n",
              "    <tr>\n",
              "      <th>0</th>\n",
              "      <td>Explanation\\nWhy the edits made under my username Hardcore Metallica Fan were reverted? They weren't vandalisms, just closure on some GAs after I voted at New York Dolls FAC. And please don't remove the template from the talk page since I'm retired now.89.205.38.27</td>\n",
              "      <td>0</td>\n",
              "      <td>explanation why the edits made under my username hardcore metallica fan were reverted they weren't vandalisms just closure on some gas after i voted at new york dolls fac and please don't remove the template from the talk page since i'm retired now</td>\n",
              "    </tr>\n",
              "    <tr>\n",
              "      <th>1</th>\n",
              "      <td>D'aww! He matches this background colour I'm seemingly stuck with. Thanks.  (talk) 21:51, January 11, 2016 (UTC)</td>\n",
              "      <td>0</td>\n",
              "      <td>d'aww he matches this background colour i'm seemingly stuck with thanks talk january utc</td>\n",
              "    </tr>\n",
              "    <tr>\n",
              "      <th>2</th>\n",
              "      <td>Hey man, I'm really not trying to edit war. It's just that this guy is constantly removing relevant information and talking to me through edits instead of my talk page. He seems to care more about the formatting than the actual info.</td>\n",
              "      <td>0</td>\n",
              "      <td>hey man i'm really not trying to edit war it's just that this guy is constantly removing relevant information and talking to me through edits instead of my talk page he seems to care more about the formatting than the actual info</td>\n",
              "    </tr>\n",
              "    <tr>\n",
              "      <th>3</th>\n",
              "      <td>\"\\nMore\\nI can't make any real suggestions on improvement - I wondered if the section statistics should be later on, or a subsection of \"\"types of accidents\"\"  -I think the references may need tidying so that they are all in the exact same format ie date format etc. I can do that later on, if no-one else does first - if you have any preferences for formatting style on references or want to do it yourself please let me know.\\n\\nThere appears to be a backlog on articles for review so I guess there may be a delay until a reviewer turns up. It's listed in the relevant form eg Wikipedia:Good_article_nominations#Transport  \"</td>\n",
              "      <td>0</td>\n",
              "      <td>more i can't make any real suggestions on improvement i wondered if the section statistics should be later on or a subsection of types of accidents i think the references may need tidying so that they are all in the exact same format ie date format etc i can do that later on if no one else does first if you have any preferences for formatting style on references or want to do it yourself please let me know there appears to be a backlog on articles for review so i guess there may be a delay until a reviewer turns up it's listed in the relevant form eg wikipedia good article nominations transport</td>\n",
              "    </tr>\n",
              "    <tr>\n",
              "      <th>4</th>\n",
              "      <td>You, sir, are my hero. Any chance you remember what page that's on?</td>\n",
              "      <td>0</td>\n",
              "      <td>you sir are my hero any chance you remember what page that's on</td>\n",
              "    </tr>\n",
              "  </tbody>\n",
              "</table>\n",
              "</div>"
            ],
            "text/plain": [
              "                                                                                                                                                                                                                                                                                                                                                                                                                                                                                                                                                                                                                                                 text  \\\n",
              "0                                                                                                                                                                                                                                                                                                                                                                           Explanation\\nWhy the edits made under my username Hardcore Metallica Fan were reverted? They weren't vandalisms, just closure on some GAs after I voted at New York Dolls FAC. And please don't remove the template from the talk page since I'm retired now.89.205.38.27   \n",
              "1                                                                                                                                                                                                                                                                                                                                                                                                                                                                                                                                    D'aww! He matches this background colour I'm seemingly stuck with. Thanks.  (talk) 21:51, January 11, 2016 (UTC)   \n",
              "2                                                                                                                                                                                                                                                                                                                                                                                                           Hey man, I'm really not trying to edit war. It's just that this guy is constantly removing relevant information and talking to me through edits instead of my talk page. He seems to care more about the formatting than the actual info.   \n",
              "3  \"\\nMore\\nI can't make any real suggestions on improvement - I wondered if the section statistics should be later on, or a subsection of \"\"types of accidents\"\"  -I think the references may need tidying so that they are all in the exact same format ie date format etc. I can do that later on, if no-one else does first - if you have any preferences for formatting style on references or want to do it yourself please let me know.\\n\\nThere appears to be a backlog on articles for review so I guess there may be a delay until a reviewer turns up. It's listed in the relevant form eg Wikipedia:Good_article_nominations#Transport  \"   \n",
              "4                                                                                                                                                                                                                                                                                                                                                                                                                                                                                                                                                                                 You, sir, are my hero. Any chance you remember what page that's on?   \n",
              "\n",
              "   toxic  \\\n",
              "0      0   \n",
              "1      0   \n",
              "2      0   \n",
              "3      0   \n",
              "4      0   \n",
              "\n",
              "                                                                                                                                                                                                                                                                                                                                                                                                                                                                                                                                                                                                                  clear_text  \n",
              "0                                                                                                                                                                                                                                                                                                                                                                   explanation why the edits made under my username hardcore metallica fan were reverted they weren't vandalisms just closure on some gas after i voted at new york dolls fac and please don't remove the template from the talk page since i'm retired now  \n",
              "1                                                                                                                                                                                                                                                                                                                                                                                                                                                                                                                                   d'aww he matches this background colour i'm seemingly stuck with thanks talk january utc  \n",
              "2                                                                                                                                                                                                                                                                                                                                                                                      hey man i'm really not trying to edit war it's just that this guy is constantly removing relevant information and talking to me through edits instead of my talk page he seems to care more about the formatting than the actual info  \n",
              "3  more i can't make any real suggestions on improvement i wondered if the section statistics should be later on or a subsection of types of accidents i think the references may need tidying so that they are all in the exact same format ie date format etc i can do that later on if no one else does first if you have any preferences for formatting style on references or want to do it yourself please let me know there appears to be a backlog on articles for review so i guess there may be a delay until a reviewer turns up it's listed in the relevant form eg wikipedia good article nominations transport  \n",
              "4                                                                                                                                                                                                                                                                                                                                                                                                                                                                                                                                                            you sir are my hero any chance you remember what page that's on  "
            ]
          },
          "execution_count": 9,
          "metadata": {},
          "output_type": "execute_result"
        }
      ],
      "source": [
        "data.head()"
      ]
    },
    {
      "cell_type": "code",
      "execution_count": null,
      "metadata": {
        "id": "KZWmxhI7XJPg",
        "outputId": "65dc9479-3b31-4a8e-ee6a-a64a8448d947"
      },
      "outputs": [
        {
          "data": {
            "text/html": [
              "<div>\n",
              "<style scoped>\n",
              "    .dataframe tbody tr th:only-of-type {\n",
              "        vertical-align: middle;\n",
              "    }\n",
              "\n",
              "    .dataframe tbody tr th {\n",
              "        vertical-align: top;\n",
              "    }\n",
              "\n",
              "    .dataframe thead th {\n",
              "        text-align: right;\n",
              "    }\n",
              "</style>\n",
              "<table border=\"1\" class=\"dataframe\">\n",
              "  <thead>\n",
              "    <tr style=\"text-align: right;\">\n",
              "      <th></th>\n",
              "      <th>text</th>\n",
              "      <th>toxic</th>\n",
              "      <th>clear_text</th>\n",
              "    </tr>\n",
              "  </thead>\n",
              "  <tbody>\n",
              "  </tbody>\n",
              "</table>\n",
              "</div>"
            ],
            "text/plain": [
              "Empty DataFrame\n",
              "Columns: [text, toxic, clear_text]\n",
              "Index: []"
            ]
          },
          "execution_count": 11,
          "metadata": {},
          "output_type": "execute_result"
        }
      ],
      "source": [
        "data[data['clear_text'].isnull()]"
      ]
    },
    {
      "cell_type": "markdown",
      "metadata": {
        "id": "PYc0gzWxXJPh"
      },
      "source": [
        "Ну вот теперь создадим функцию лемматизации и прогоним на ней весь очищенных текст.\n"
      ]
    },
    {
      "cell_type": "code",
      "execution_count": null,
      "metadata": {
        "id": "fytjMkoQXJPh",
        "outputId": "c0e02246-9e50-406e-cd91-842b26e29938"
      },
      "outputs": [
        {
          "name": "stdout",
          "output_type": "stream",
          "text": [
            "CPU times: user 503 ms, sys: 39.9 ms, total: 543 ms\n",
            "Wall time: 566 ms\n"
          ]
        }
      ],
      "source": [
        "%%time\n",
        "nlp = spacy.load('en_core_web_sm', disable=['parser', 'ner'])\n",
        "nlp.max_length = 18079000\n",
        "\n",
        "def lemmatise(text):\n",
        "    lemmas_text = []\n",
        "    for line in text:\n",
        "        lemmas_list = nlp(line)\n",
        "        line_lemmas_list = \" \".join([token.lemma_ for token in lemmas_list])\n",
        "        lemmas_text.append(line_lemmas_list)\n",
        "    return lemmas_text"
      ]
    },
    {
      "cell_type": "markdown",
      "metadata": {
        "id": "RfxrQmT6XJPh"
      },
      "source": [
        "Проверим работоспособость нашей функции, если все ок, то передадим ей наши данные."
      ]
    },
    {
      "cell_type": "code",
      "execution_count": null,
      "metadata": {
        "id": "w3SMMbGPXJPh",
        "outputId": "864d12ea-5409-4040-b229-e7adf1c926c8"
      },
      "outputs": [
        {
          "name": "stdout",
          "output_type": "stream",
          "text": [
            "['the stripe bat be hang on their foot for good', 'you should be ashamed of yourself go work']\n"
          ]
        }
      ],
      "source": [
        "sentence1 = \"The striped bats are hanging on their feet for best\"\n",
        "sentence2 = \"you should be ashamed of yourself went worked\"\n",
        "print(lemmatise([sentence1, sentence2]))"
      ]
    },
    {
      "cell_type": "code",
      "execution_count": null,
      "metadata": {
        "id": "7xFjuGmFXJPi",
        "outputId": "8506d1cf-b499-4ad7-dadf-2db8eb42112c"
      },
      "outputs": [
        {
          "name": "stdout",
          "output_type": "stream",
          "text": [
            "CPU times: user 19min, sys: 7.38 s, total: 19min 8s\n",
            "Wall time: 19min 8s\n"
          ]
        }
      ],
      "source": [
        "%%time\n",
        "data['lemm_text'] = lemmatise(data['clear_text'])"
      ]
    },
    {
      "cell_type": "markdown",
      "metadata": {
        "id": "mhZCqq1eXJPi"
      },
      "source": [
        "Получили новые очищенные данные, их и будем использовать в  качестве признаков для обучения и тестирования моделей."
      ]
    },
    {
      "cell_type": "code",
      "execution_count": null,
      "metadata": {
        "id": "p0ptZ3YNXJPi",
        "outputId": "c38eddad-8764-49ea-f07e-b6ccf6b86093"
      },
      "outputs": [
        {
          "data": {
            "text/html": [
              "<div>\n",
              "<style scoped>\n",
              "    .dataframe tbody tr th:only-of-type {\n",
              "        vertical-align: middle;\n",
              "    }\n",
              "\n",
              "    .dataframe tbody tr th {\n",
              "        vertical-align: top;\n",
              "    }\n",
              "\n",
              "    .dataframe thead th {\n",
              "        text-align: right;\n",
              "    }\n",
              "</style>\n",
              "<table border=\"1\" class=\"dataframe\">\n",
              "  <thead>\n",
              "    <tr style=\"text-align: right;\">\n",
              "      <th></th>\n",
              "      <th>text</th>\n",
              "      <th>toxic</th>\n",
              "      <th>clear_text</th>\n",
              "      <th>lemm_text</th>\n",
              "    </tr>\n",
              "  </thead>\n",
              "  <tbody>\n",
              "    <tr>\n",
              "      <th>0</th>\n",
              "      <td>Explanation\\nWhy the edits made under my username Hardcore Metallica Fan were reverted? They weren't vandalisms, just closure on some GAs after I voted at New York Dolls FAC. And please don't remove the template from the talk page since I'm retired now.89.205.38.27</td>\n",
              "      <td>0</td>\n",
              "      <td>explanation why the edits made under my username hardcore metallica fan were reverted they weren't vandalisms just closure on some gas after i voted at new york dolls fac and please don't remove the template from the talk page since i'm retired now</td>\n",
              "      <td>explanation why the edit make under my username hardcore metallica fan be revert they be not vandalism just closure on some gas after I vote at new york doll fac and please do not remove the template from the talk page since I be retire now</td>\n",
              "    </tr>\n",
              "    <tr>\n",
              "      <th>1</th>\n",
              "      <td>D'aww! He matches this background colour I'm seemingly stuck with. Thanks.  (talk) 21:51, January 11, 2016 (UTC)</td>\n",
              "      <td>0</td>\n",
              "      <td>d'aww he matches this background colour i'm seemingly stuck with thanks talk january utc</td>\n",
              "      <td>d'aww he match this background colour I be seemingly stuck with thank talk january utc</td>\n",
              "    </tr>\n",
              "    <tr>\n",
              "      <th>2</th>\n",
              "      <td>Hey man, I'm really not trying to edit war. It's just that this guy is constantly removing relevant information and talking to me through edits instead of my talk page. He seems to care more about the formatting than the actual info.</td>\n",
              "      <td>0</td>\n",
              "      <td>hey man i'm really not trying to edit war it's just that this guy is constantly removing relevant information and talking to me through edits instead of my talk page he seems to care more about the formatting than the actual info</td>\n",
              "      <td>hey man I be really not try to edit war it be just that this guy be constantly remove relevant information and talk to I through edit instead of my talk page he seem to care more about the formatting than the actual info</td>\n",
              "    </tr>\n",
              "    <tr>\n",
              "      <th>3</th>\n",
              "      <td>\"\\nMore\\nI can't make any real suggestions on improvement - I wondered if the section statistics should be later on, or a subsection of \"\"types of accidents\"\"  -I think the references may need tidying so that they are all in the exact same format ie date format etc. I can do that later on, if no-one else does first - if you have any preferences for formatting style on references or want to do it yourself please let me know.\\n\\nThere appears to be a backlog on articles for review so I guess there may be a delay until a reviewer turns up. It's listed in the relevant form eg Wikipedia:Good_article_nominations#Transport  \"</td>\n",
              "      <td>0</td>\n",
              "      <td>more i can't make any real suggestions on improvement i wondered if the section statistics should be later on or a subsection of types of accidents i think the references may need tidying so that they are all in the exact same format ie date format etc i can do that later on if no one else does first if you have any preferences for formatting style on references or want to do it yourself please let me know there appears to be a backlog on articles for review so i guess there may be a delay until a reviewer turns up it's listed in the relevant form eg wikipedia good article nominations transport</td>\n",
              "      <td>more I can not make any real suggestion on improvement I wonder if the section statistic should be later on or a subsection of type of accident I think the reference may need tidy so that they be all in the exact same format ie date format etc I can do that later on if no one else do first if you have any preference for format style on reference or want to do it yourself please let I know there appear to be a backlog on article for review so I guess there may be a delay until a reviewer turn up it be list in the relevant form eg wikipedia good article nomination transport</td>\n",
              "    </tr>\n",
              "    <tr>\n",
              "      <th>4</th>\n",
              "      <td>You, sir, are my hero. Any chance you remember what page that's on?</td>\n",
              "      <td>0</td>\n",
              "      <td>you sir are my hero any chance you remember what page that's on</td>\n",
              "      <td>you sir be my hero any chance you remember what page that be on</td>\n",
              "    </tr>\n",
              "  </tbody>\n",
              "</table>\n",
              "</div>"
            ],
            "text/plain": [
              "                                                                                                                                                                                                                                                                                                                                                                                                                                                                                                                                                                                                                                                 text  \\\n",
              "0                                                                                                                                                                                                                                                                                                                                                                           Explanation\\nWhy the edits made under my username Hardcore Metallica Fan were reverted? They weren't vandalisms, just closure on some GAs after I voted at New York Dolls FAC. And please don't remove the template from the talk page since I'm retired now.89.205.38.27   \n",
              "1                                                                                                                                                                                                                                                                                                                                                                                                                                                                                                                                    D'aww! He matches this background colour I'm seemingly stuck with. Thanks.  (talk) 21:51, January 11, 2016 (UTC)   \n",
              "2                                                                                                                                                                                                                                                                                                                                                                                                           Hey man, I'm really not trying to edit war. It's just that this guy is constantly removing relevant information and talking to me through edits instead of my talk page. He seems to care more about the formatting than the actual info.   \n",
              "3  \"\\nMore\\nI can't make any real suggestions on improvement - I wondered if the section statistics should be later on, or a subsection of \"\"types of accidents\"\"  -I think the references may need tidying so that they are all in the exact same format ie date format etc. I can do that later on, if no-one else does first - if you have any preferences for formatting style on references or want to do it yourself please let me know.\\n\\nThere appears to be a backlog on articles for review so I guess there may be a delay until a reviewer turns up. It's listed in the relevant form eg Wikipedia:Good_article_nominations#Transport  \"   \n",
              "4                                                                                                                                                                                                                                                                                                                                                                                                                                                                                                                                                                                 You, sir, are my hero. Any chance you remember what page that's on?   \n",
              "\n",
              "   toxic  \\\n",
              "0      0   \n",
              "1      0   \n",
              "2      0   \n",
              "3      0   \n",
              "4      0   \n",
              "\n",
              "                                                                                                                                                                                                                                                                                                                                                                                                                                                                                                                                                                                                                  clear_text  \\\n",
              "0                                                                                                                                                                                                                                                                                                                                                                   explanation why the edits made under my username hardcore metallica fan were reverted they weren't vandalisms just closure on some gas after i voted at new york dolls fac and please don't remove the template from the talk page since i'm retired now   \n",
              "1                                                                                                                                                                                                                                                                                                                                                                                                                                                                                                                                   d'aww he matches this background colour i'm seemingly stuck with thanks talk january utc   \n",
              "2                                                                                                                                                                                                                                                                                                                                                                                      hey man i'm really not trying to edit war it's just that this guy is constantly removing relevant information and talking to me through edits instead of my talk page he seems to care more about the formatting than the actual info   \n",
              "3  more i can't make any real suggestions on improvement i wondered if the section statistics should be later on or a subsection of types of accidents i think the references may need tidying so that they are all in the exact same format ie date format etc i can do that later on if no one else does first if you have any preferences for formatting style on references or want to do it yourself please let me know there appears to be a backlog on articles for review so i guess there may be a delay until a reviewer turns up it's listed in the relevant form eg wikipedia good article nominations transport   \n",
              "4                                                                                                                                                                                                                                                                                                                                                                                                                                                                                                                                                            you sir are my hero any chance you remember what page that's on   \n",
              "\n",
              "                                                                                                                                                                                                                                                                                                                                                                                                                                                                                                                                                                                            lemm_text  \n",
              "0                                                                                                                                                                                                                                                                                                                                                    explanation why the edit make under my username hardcore metallica fan be revert they be not vandalism just closure on some gas after I vote at new york doll fac and please do not remove the template from the talk page since I be retire now  \n",
              "1                                                                                                                                                                                                                                                                                                                                                                                                                                                                                                              d'aww he match this background colour I be seemingly stuck with thank talk january utc  \n",
              "2                                                                                                                                                                                                                                                                                                                                                                        hey man I be really not try to edit war it be just that this guy be constantly remove relevant information and talk to I through edit instead of my talk page he seem to care more about the formatting than the actual info  \n",
              "3  more I can not make any real suggestion on improvement I wonder if the section statistic should be later on or a subsection of type of accident I think the reference may need tidy so that they be all in the exact same format ie date format etc I can do that later on if no one else do first if you have any preference for format style on reference or want to do it yourself please let I know there appear to be a backlog on article for review so I guess there may be a delay until a reviewer turn up it be list in the relevant form eg wikipedia good article nomination transport  \n",
              "4                                                                                                                                                                                                                                                                                                                                                                                                                                                                                                                                     you sir be my hero any chance you remember what page that be on  "
            ]
          },
          "execution_count": 15,
          "metadata": {},
          "output_type": "execute_result"
        }
      ],
      "source": [
        "data.head()"
      ]
    },
    {
      "cell_type": "code",
      "execution_count": null,
      "metadata": {
        "id": "kJltXlP1XJPi",
        "outputId": "e3779e55-9158-4603-819b-c72c48c3ff27"
      },
      "outputs": [
        {
          "name": "stdout",
          "output_type": "stream",
          "text": [
            "<class 'pandas.core.frame.DataFrame'>\n",
            "RangeIndex: 159292 entries, 0 to 159291\n",
            "Data columns (total 4 columns):\n",
            " #   Column      Non-Null Count   Dtype \n",
            "---  ------      --------------   ----- \n",
            " 0   text        159292 non-null  object\n",
            " 1   toxic       159292 non-null  int64 \n",
            " 2   clear_text  159292 non-null  object\n",
            " 3   lemm_text   159292 non-null  object\n",
            "dtypes: int64(1), object(3)\n",
            "memory usage: 4.9+ MB\n"
          ]
        }
      ],
      "source": [
        "data.info()"
      ]
    },
    {
      "cell_type": "markdown",
      "metadata": {
        "id": "cgrJR8d1XJPi"
      },
      "source": [
        "Выполним разделение на обучающую и тестовую выборки."
      ]
    },
    {
      "cell_type": "code",
      "execution_count": null,
      "metadata": {
        "id": "fcL18O67XJPm"
      },
      "outputs": [],
      "source": [
        "targets = data['toxic']\n",
        "features = data['lemm_text']"
      ]
    },
    {
      "cell_type": "code",
      "execution_count": null,
      "metadata": {
        "id": "yrsc8AjHXJPm",
        "outputId": "30e9ec64-2efc-430e-8359-8dd8730925af"
      },
      "outputs": [
        {
          "data": {
            "text/plain": [
              "0         0\n",
              "1         0\n",
              "2         0\n",
              "3         0\n",
              "4         0\n",
              "         ..\n",
              "159287    0\n",
              "159288    0\n",
              "159289    0\n",
              "159290    0\n",
              "159291    0\n",
              "Name: toxic, Length: 159292, dtype: int64"
            ]
          },
          "execution_count": 18,
          "metadata": {},
          "output_type": "execute_result"
        }
      ],
      "source": [
        "targets"
      ]
    },
    {
      "cell_type": "markdown",
      "metadata": {
        "id": "DosjBLAKXJPm"
      },
      "source": [
        "Мы и так знали, какие значения имеет таргетс, убедились, еще раз."
      ]
    },
    {
      "cell_type": "code",
      "execution_count": null,
      "metadata": {
        "id": "2wwb0egZXJPm",
        "outputId": "e8115fff-7808-4869-82e4-1575b18257d9"
      },
      "outputs": [
        {
          "data": {
            "text/plain": [
              "array([0, 1])"
            ]
          },
          "execution_count": 19,
          "metadata": {},
          "output_type": "execute_result"
        }
      ],
      "source": [
        "targets.unique()"
      ]
    },
    {
      "cell_type": "markdown",
      "metadata": {
        "id": "TQOymfF-XJPm"
      },
      "source": [
        "Выполним разделение на тренировочную и тестовую выборки."
      ]
    },
    {
      "cell_type": "code",
      "execution_count": null,
      "metadata": {
        "id": "gy7VVX52XJPn"
      },
      "outputs": [],
      "source": [
        "features_train, features_test, targets_train, targets_test = train_test_split(features,\n",
        "                                                                              targets,\n",
        "                                                                              random_state=12345,\n",
        "                                                                              test_size=0.25,\n",
        "                                                                              stratify=targets)"
      ]
    },
    {
      "cell_type": "code",
      "execution_count": null,
      "metadata": {
        "id": "uwefb8atXJPn",
        "outputId": "6b41512d-1fd2-4132-a667-f5444412420e"
      },
      "outputs": [
        {
          "name": "stdout",
          "output_type": "stream",
          "text": [
            "Размер тренировочной выборки: (119469,) (119469,)\n",
            "Размер тестовой выборки (39823,) (39823,)\n"
          ]
        }
      ],
      "source": [
        "print(\"Размер тренировочной выборки:\",features_train.shape, targets_train.shape)\n",
        "print(\"Размер тестовой выборки\",features_test.shape, targets_test.shape)"
      ]
    },
    {
      "cell_type": "code",
      "execution_count": null,
      "metadata": {
        "id": "xhIAc4SoXJPn",
        "outputId": "38f90af4-c063-41bf-d78c-c8af773573fa"
      },
      "outputs": [
        {
          "data": {
            "text/plain": [
              "119469"
            ]
          },
          "execution_count": 22,
          "metadata": {},
          "output_type": "execute_result"
        }
      ],
      "source": [
        "targets_train.size"
      ]
    },
    {
      "cell_type": "code",
      "execution_count": null,
      "metadata": {
        "id": "v28-w2nXXJPn",
        "outputId": "d61b1f02-b013-4837-e7fd-6978f31ba767"
      },
      "outputs": [
        {
          "name": "stdout",
          "output_type": "stream",
          "text": [
            "Положительных отзывов: 107329 - 89.84 %\n",
            "Отрицательных отзывов: 12140 - 10.16 %\n"
          ]
        }
      ],
      "source": [
        "targets_train_size = targets_train.value_counts()\n",
        "\n",
        "print(\"Положительных отзывов:\", targets_train_size[0], \"-\", round(targets_train_size[0] / 119469 * 100, 2), '%' )\n",
        "print(\"Отрицательных отзывов:\", targets_train_size[1], \"-\", round(targets_train_size[1] / 119469 * 100, 2), '%')"
      ]
    },
    {
      "cell_type": "code",
      "execution_count": null,
      "metadata": {
        "id": "KD1paVbUXJPo",
        "outputId": "6fb794e5-2d52-47c6-a053-751ee0821a5b"
      },
      "outputs": [
        {
          "data": {
            "image/png": "[encoded data removed]",
            "text/plain": [
              "<Figure size 504x360 with 1 Axes>"
            ]
          },
          "metadata": {
            "needs_background": "light"
          },
          "output_type": "display_data"
        }
      ],
      "source": [
        "targets_train_size.plot(kind='bar', figsize=(7,5));"
      ]
    },
    {
      "cell_type": "markdown",
      "metadata": {
        "id": "Er1hbk41XJPo"
      },
      "source": [
        "Наблюдается сильный дисбаланс классов."
      ]
    },
    {
      "cell_type": "markdown",
      "metadata": {
        "id": "kJvcB0HWXJPp"
      },
      "source": [
        "## Обучение"
      ]
    },
    {
      "cell_type": "markdown",
      "metadata": {
        "id": "hVTdojxhXJPp"
      },
      "source": [
        "**Логистическая регрессия**\n",
        "\n",
        "Выполним векторизацию без стоп-слов. Обучим логистическую модель на кроссвалидации с параметром class_weight = 'balanced'"
      ]
    },
    {
      "cell_type": "code",
      "execution_count": null,
      "metadata": {
        "id": "Ovpav_HrXJPp"
      },
      "outputs": [],
      "source": [
        "stop_words = set(stopwords.words('english'))"
      ]
    },
    {
      "cell_type": "markdown",
      "metadata": {
        "id": "bhkVT_SNXJPq"
      },
      "source": [
        " Сделаем сразу векторизацию и для теста"
      ]
    },
    {
      "cell_type": "code",
      "execution_count": null,
      "metadata": {
        "id": "ffM_XJKiXJPq"
      },
      "outputs": [],
      "source": [
        "count_tf_idf = TfidfVectorizer(stop_words=stop_words)\n",
        "features_train_tf_idf = count_tf_idf.fit_transform(features_train) #для обучающей\n",
        "features_test_tf_idf = count_tf_idf.transform(features_test)  #для тестовой"
      ]
    },
    {
      "cell_type": "code",
      "execution_count": null,
      "metadata": {
        "id": "hf2vEXsoXJPq",
        "outputId": "f7bed172-0e94-4015-fb14-67c5a870dfd3"
      },
      "outputs": [
        {
          "data": {
            "text/plain": [
              "((119469, 127710), (119469,), (39823, 127710), (39823,))"
            ]
          },
          "execution_count": 31,
          "metadata": {},
          "output_type": "execute_result"
        }
      ],
      "source": [
        "features_train_tf_idf.shape, targets_train.shape, features_test_tf_idf.shape, targets_test.shape"
      ]
    },
    {
      "cell_type": "markdown",
      "metadata": {
        "id": "ECl06NiqXJPq"
      },
      "source": [
        "Логистическая регрессия GridSearchCv"
      ]
    },
    {
      "cell_type": "code",
      "execution_count": null,
      "metadata": {
        "id": "dGxF5bo0XJPq",
        "outputId": "ca10ddfd-d343-4c6a-cbe7-eeb414cfdee4"
      },
      "outputs": [
        {
          "name": "stdout",
          "output_type": "stream",
          "text": [
            "CPU times: user 49.6 s, sys: 1min 27s, total: 2min 17s\n",
            "Wall time: 2min 17s\n"
          ]
        },
        {
          "data": {
            "text/plain": [
              "GridSearchCV(cv=3,\n",
              "             estimator=LogisticRegression(class_weight='balanced',\n",
              "                                          random_state=12345,\n",
              "                                          solver='liblinear'),\n",
              "             param_grid={'C': [0.1, 1, 5]}, scoring='f1')"
            ]
          },
          "execution_count": 32,
          "metadata": {},
          "output_type": "execute_result"
        }
      ],
      "source": [
        "%%time\n",
        "regression = LogisticRegression(fit_intercept=True,\n",
        "                                random_state=12345,\n",
        "                                class_weight='balanced',\n",
        "                                solver='liblinear'\n",
        "                               )\n",
        "regression_parametrs = {'C': [0.1, 1, 5]}\n",
        "\n",
        "regression_grid = GridSearchCV(regression, regression_parametrs, scoring='f1', cv=3)\n",
        "regression_grid.fit(features_train_tf_idf, targets_train)"
      ]
    },
    {
      "cell_type": "code",
      "execution_count": null,
      "metadata": {
        "id": "tFpmD7CcXJPr",
        "outputId": "956ce936-f567-4b1c-e31d-cd60d2a57753"
      },
      "outputs": [
        {
          "name": "stdout",
          "output_type": "stream",
          "text": [
            "Лучшие параметры на логистической регрессии: {'C': 5}\n",
            "F1 на логистической регрессии: 0.7628288576498196\n"
          ]
        }
      ],
      "source": [
        "print(\"Лучшие параметры на логистической регрессии:\", regression_grid.best_params_)\n",
        "print(\"F1 на логистической регрессии:\", regression_grid.best_score_)"
      ]
    },
    {
      "cell_type": "markdown",
      "metadata": {
        "id": "4Hean-MbXJPr"
      },
      "source": [
        "Логистическая регрессия: pipeline + GridSearchCv"
      ]
    },
    {
      "cell_type": "code",
      "execution_count": null,
      "metadata": {
        "id": "frinfxdQXJPr",
        "outputId": "4bc7721b-1c98-490b-fbb8-4c7053b5ce72"
      },
      "outputs": [
        {
          "name": "stdout",
          "output_type": "stream",
          "text": [
            "CPU times: user 1min 23s, sys: 1min 15s, total: 2min 38s\n",
            "Wall time: 2min 38s\n"
          ]
        },
        {
          "data": {
            "text/plain": [
              "GridSearchCV(cv=2,\n",
              "             estimator=Pipeline(steps=[('vect',\n",
              "                                        TfidfVectorizer(stop_words='english',\n",
              "                                                        sublinear_tf=True)),\n",
              "                                       ('lr', LogisticRegression())]),\n",
              "             n_jobs=-1,\n",
              "             param_grid={'lr__C': (0.1, 1, 5, 10),\n",
              "                         'lr__class_weight': ['balanced'],\n",
              "                         'lr__max_iter': [200], 'lr__random_state': [12345],\n",
              "                         'lr__solver': ['liblinear']},\n",
              "             scoring='f1')"
            ]
          },
          "execution_count": 37,
          "metadata": {},
          "output_type": "execute_result"
        }
      ],
      "source": [
        "%%time\n",
        "pipeline = Pipeline([(\"vect\", TfidfVectorizer(stop_words='english', sublinear_tf=True)),\n",
        "                     (\"lr\", LogisticRegression())])\n",
        "\n",
        "parameters = {'lr__solver': ['liblinear'],\n",
        "              'lr__C': (.1, 1, 5, 10),\n",
        "              'lr__random_state': ([12345]),\n",
        "              'lr__max_iter': ([200]),\n",
        "              'lr__class_weight': (['balanced'])}\n",
        "regression_log_p = GridSearchCV(pipeline, parameters, scoring='f1', cv=2, n_jobs=-1)\n",
        "\n",
        "regression_log_p.fit(features_train, targets_train)"
      ]
    },
    {
      "cell_type": "code",
      "execution_count": null,
      "metadata": {
        "id": "wPFVSVyhXJPs",
        "outputId": "07204a3d-a5ee-4f67-cef6-654773bfc76b"
      },
      "outputs": [
        {
          "name": "stdout",
          "output_type": "stream",
          "text": [
            "Лучшие параметры на логистической регрессии: {'lr__C': 10, 'lr__class_weight': 'balanced', 'lr__max_iter': 200, 'lr__random_state': 12345, 'lr__solver': 'liblinear'}\n",
            "F1 логистической регрессии = 0.7645567723569591\n"
          ]
        }
      ],
      "source": [
        "print(\"Лучшие параметры на логистической регрессии:\", regression_log_p.best_params_)\n",
        "print('F1 логистической регрессии =', regression_log_p.best_score_)"
      ]
    },
    {
      "cell_type": "markdown",
      "metadata": {
        "id": "5tWyJLK_XJPu"
      },
      "source": [
        "\n",
        "Случайный лес: pipeline + GridSearchCv\n"
      ]
    },
    {
      "cell_type": "code",
      "execution_count": null,
      "metadata": {
        "id": "8c6N7BjOXJPu",
        "outputId": "ca968a4e-6416-4019-d6c7-800aba25f197"
      },
      "outputs": [
        {
          "name": "stdout",
          "output_type": "stream",
          "text": [
            "CPU times: user 3min 14s, sys: 579 ms, total: 3min 14s\n",
            "Wall time: 3min 14s\n"
          ]
        },
        {
          "data": {
            "text/plain": [
              "GridSearchCV(cv=2,\n",
              "             estimator=Pipeline(steps=[('vect',\n",
              "                                        TfidfVectorizer(stop_words='english',\n",
              "                                                        sublinear_tf=True)),\n",
              "                                       ('rf', RandomForestClassifier())]),\n",
              "             n_jobs=-1,\n",
              "             param_grid={'rf__class_weight': ['balanced'],\n",
              "                         'rf__max_depth': range(5, 7),\n",
              "                         'rf__n_estimators': range(5, 100, 15)},\n",
              "             scoring='f1')"
            ]
          },
          "execution_count": 45,
          "metadata": {},
          "output_type": "execute_result"
        }
      ],
      "source": [
        "%%time\n",
        "pipeline_RFC = Pipeline([(\"vect\", TfidfVectorizer(stop_words='english', sublinear_tf=True)),\n",
        "                     ('rf', RandomForestClassifier())])\n",
        "\n",
        "params_RFC = {'rf__n_estimators': range(5, 100, 15),\n",
        "                     'rf__max_depth': range(5, 7),\n",
        "              'rf__class_weight': (['balanced'])}\n",
        "\n",
        "model_RFC= GridSearchCV(pipeline_RFC, params_RFC, scoring='f1', cv=2, n_jobs=-1)\n",
        "\n",
        "model_RFC.fit(features_train, targets_train)"
      ]
    },
    {
      "cell_type": "code",
      "execution_count": null,
      "metadata": {
        "id": "ma4I-fJoXJPu",
        "outputId": "b9f8eed6-28f6-4df6-f1e3-0c93c6a4d7e4"
      },
      "outputs": [
        {
          "name": "stdout",
          "output_type": "stream",
          "text": [
            "Лучшие параметры на случайном лесе: {'rf__class_weight': 'balanced', 'rf__max_depth': 6, 'rf__n_estimators': 80}\n",
            "F1 на случайном лесе: 0.3687657191346533\n"
          ]
        }
      ],
      "source": [
        "print(\"Лучшие параметры на случайном лесе:\", model_RFC.best_params_)\n",
        "print(\"F1 на случайном лесе:\", model_RFC.best_score_)"
      ]
    },
    {
      "cell_type": "markdown",
      "metadata": {
        "id": "dlRGm5bWXJPv"
      },
      "source": [
        "Случайный лес дает низкое значение f1. Кстати и c class_weight='balanced'  f1 = 0,33 (был) приблизительно, а вот на на oversampling очень даже оптимистично.\n"
      ]
    },
    {
      "cell_type": "markdown",
      "metadata": {
        "id": "GN-AbUV5XJPv"
      },
      "source": [
        "Случайный лес на сбалансированном классе дает луший результат. 0.7708336644197963 против 0.3393419408250063 на том же случайном лесе, но с параметром class_weight='balanced'. Будем считать что это ошибочный прогноз."
      ]
    },
    {
      "cell_type": "markdown",
      "metadata": {
        "id": "8SVEHRQ2XJPv"
      },
      "source": [
        "GradientBoostingClassifier\n"
      ]
    },
    {
      "cell_type": "code",
      "execution_count": null,
      "metadata": {
        "id": "y5XjVfmDXJPw",
        "outputId": "3459a1e4-4c0e-4f05-c9ce-b4da2bdb00da"
      },
      "outputs": [
        {
          "name": "stdout",
          "output_type": "stream",
          "text": [
            "      Iter       Train Loss   Remaining Time \n",
            "         1           0.6113            2.50s\n",
            "         2           0.5897            1.84s\n",
            "         3           0.5746            1.22s\n",
            "         4           0.5632            0.61s\n",
            "         5           0.5509            0.00s\n",
            "      Iter       Train Loss   Remaining Time \n",
            "         1           0.6096            2.46s\n",
            "         2           0.5873            1.78s\n",
            "         3           0.5735            1.18s\n",
            "         4           0.5581            0.58s\n",
            "         5           0.5460            0.00s\n",
            "      Iter       Train Loss   Remaining Time \n",
            "         1           0.6113            5.52s\n",
            "         2           0.5897            4.84s\n",
            "         3           0.5746            4.16s\n",
            "         4           0.5632            3.51s\n",
            "         5           0.5509            2.91s\n",
            "         6           0.5414            2.32s\n",
            "         7           0.5343            1.74s\n",
            "         8           0.5279            1.15s\n",
            "         9           0.5219            0.58s\n",
            "        10           0.5163            0.00s\n",
            "      Iter       Train Loss   Remaining Time \n",
            "         1           0.6096            5.85s\n",
            "         2           0.5873            4.91s\n",
            "         3           0.5735            4.19s\n",
            "         4           0.5581            3.55s\n",
            "         5           0.5460            2.95s\n",
            "         6           0.5367            2.35s\n",
            "         7           0.5293            1.76s\n",
            "         8           0.5219            1.19s\n",
            "         9           0.5163            0.59s\n",
            "        10           0.5109            0.00s\n",
            "      Iter       Train Loss   Remaining Time \n",
            "         1           0.6113            8.44s\n",
            "         2           0.5896            7.66s\n",
            "         3           0.5746            6.99s\n",
            "         4           0.5632            6.40s\n",
            "         5           0.5509            5.77s\n",
            "         6           0.5414            5.32s\n",
            "         7           0.5343            4.70s\n",
            "         8           0.5279            4.09s\n",
            "         9           0.5218            3.49s\n",
            "        10           0.5163            2.91s\n",
            "        11           0.5118            2.33s\n",
            "        12           0.5078            1.76s\n",
            "        13           0.5037            1.17s\n",
            "        14           0.5001            0.59s\n",
            "        15           0.4956            0.00s\n",
            "      Iter       Train Loss   Remaining Time \n",
            "         1           0.6096            8.44s\n",
            "         2           0.5873            7.57s\n",
            "         3           0.5735            6.93s\n",
            "         4           0.5581            6.43s\n",
            "         5           0.5460            5.83s\n",
            "         6           0.5367            5.23s\n",
            "         7           0.5293            4.66s\n",
            "         8           0.5218            4.07s\n",
            "         9           0.5163            3.49s\n",
            "        10           0.5109            2.90s\n",
            "        11           0.5051            2.31s\n",
            "        12           0.5007            1.74s\n",
            "        13           0.4952            1.16s\n",
            "        14           0.4900            0.58s\n",
            "        15           0.4864            0.00s\n",
            "      Iter       Train Loss   Remaining Time \n",
            "         1           0.6113           11.53s\n",
            "         2           0.5896           10.56s\n",
            "         3           0.5746            9.87s\n",
            "         4           0.5632            9.26s\n",
            "         5           0.5509            8.66s\n",
            "         6           0.5414            8.07s\n",
            "         7           0.5343            7.60s\n",
            "         8           0.5279            7.02s\n",
            "         9           0.5218            6.41s\n",
            "        10           0.5163            5.84s\n",
            "        11           0.5118            5.26s\n",
            "        12           0.5078            4.67s\n",
            "        13           0.5037            4.10s\n",
            "        14           0.5001            3.51s\n",
            "        15           0.4956            2.93s\n",
            "        16           0.4926            2.34s\n",
            "        17           0.4880            1.75s\n",
            "        18           0.4849            1.17s\n",
            "        19           0.4816            0.58s\n",
            "        20           0.4791            0.00s\n",
            "      Iter       Train Loss   Remaining Time \n",
            "         1           0.6096           11.84s\n",
            "         2           0.5873           10.80s\n",
            "         3           0.5735           10.01s\n",
            "         4           0.5581            9.38s\n",
            "         5           0.5460            8.85s\n",
            "         6           0.5367            8.22s\n",
            "         7           0.5293            7.60s\n",
            "         8           0.5218            6.99s\n",
            "         9           0.5163            6.40s\n",
            "        10           0.5109            5.80s\n",
            "        11           0.5051            5.22s\n",
            "        12           0.5007            4.69s\n",
            "        13           0.4952            4.10s\n",
            "        14           0.4900            3.51s\n",
            "        15           0.4864            2.92s\n",
            "        16           0.4827            2.34s\n",
            "        17           0.4793            1.75s\n",
            "        18           0.4756            1.17s\n",
            "        19           0.4716            0.58s\n",
            "        20           0.4681            0.00s\n",
            "      Iter       Train Loss   Remaining Time \n",
            "         1           0.6113           14.39s\n",
            "         2           0.5897           13.43s\n",
            "         3           0.5746           12.63s\n",
            "         4           0.5632           12.11s\n",
            "         5           0.5509           11.49s\n",
            "         6           0.5414           11.04s\n",
            "         7           0.5343           10.46s\n",
            "         8           0.5279            9.87s\n",
            "         9           0.5219            9.32s\n",
            "        10           0.5163            8.74s\n",
            "        11           0.5119            8.17s\n",
            "        12           0.5078            7.59s\n",
            "        13           0.5037            7.03s\n",
            "        14           0.5001            6.45s\n",
            "        15           0.4956            5.85s\n",
            "        16           0.4927            5.26s\n",
            "        17           0.4883            4.69s\n",
            "        18           0.4850            4.10s\n",
            "        19           0.4814            3.51s\n",
            "        20           0.4787            2.92s\n",
            "        21           0.4746            2.34s\n",
            "        22           0.4718            1.76s\n",
            "        23           0.4683            1.17s\n",
            "        24           0.4663            0.59s\n",
            "        25           0.4642            0.00s\n",
            "      Iter       Train Loss   Remaining Time \n",
            "         1           0.6096           14.12s\n",
            "         2           0.5873           13.43s\n",
            "         3           0.5735           12.73s\n",
            "         4           0.5581           12.11s\n",
            "         5           0.5460           11.69s\n",
            "         6           0.5367           11.09s\n",
            "         7           0.5293           10.48s\n",
            "         8           0.5219            9.91s\n",
            "         9           0.5163            9.30s\n",
            "        10           0.5109            8.72s\n",
            "        11           0.5051            8.13s\n",
            "        12           0.5008            7.53s\n",
            "        13           0.4952            6.95s\n",
            "        14           0.4900            6.37s\n",
            "        15           0.4864            5.79s\n",
            "        16           0.4827            5.24s\n",
            "        17           0.4794            4.65s\n",
            "        18           0.4756            4.06s\n",
            "        19           0.4716            3.48s\n",
            "        20           0.4681            2.89s\n",
            "        21           0.4643            2.31s\n",
            "        22           0.4618            1.74s\n",
            "        23           0.4592            1.16s\n",
            "        24           0.4555            0.58s\n",
            "        25           0.4526            0.00s\n",
            "      Iter       Train Loss   Remaining Time \n",
            "         1           0.6113           17.25s\n",
            "         2           0.5897           16.49s\n",
            "         3           0.5746           15.61s\n",
            "         4           0.5632           15.23s\n",
            "         5           0.5509           14.70s\n",
            "         6           0.5414           14.18s\n",
            "         7           0.5343           14.00s\n",
            "         8           0.5279           13.36s\n",
            "         9           0.5219           12.71s\n",
            "        10           0.5163           12.07s\n",
            "        11           0.5119           11.43s\n",
            "        12           0.5078           10.82s\n",
            "        13           0.5037           10.18s\n",
            "        14           0.5001            9.57s\n",
            "        15           0.4956            9.01s\n",
            "        16           0.4927            8.37s\n",
            "        17           0.4883            7.74s\n",
            "        18           0.4850            7.13s\n",
            "        19           0.4814            6.53s\n",
            "        20           0.4787            5.93s\n",
            "        21           0.4746            5.35s\n",
            "        22           0.4718            4.77s\n",
            "        23           0.4683            4.17s\n",
            "        24           0.4663            3.57s\n",
            "        25           0.4642            2.97s\n",
            "        26           0.4602            2.38s\n",
            "        27           0.4575            1.78s\n",
            "        28           0.4552            1.19s\n",
            "        29           0.4523            0.59s\n",
            "        30           0.4506            0.00s\n",
            "      Iter       Train Loss   Remaining Time \n",
            "         1           0.6096           18.01s\n",
            "         2           0.5873           16.79s\n",
            "         3           0.5735           16.07s\n",
            "         4           0.5581           15.33s\n",
            "         5           0.5460           14.65s\n",
            "         6           0.5367           14.05s\n",
            "         7           0.5293           13.43s\n",
            "         8           0.5218           12.79s\n",
            "         9           0.5164           12.33s\n",
            "        10           0.5109           11.71s\n",
            "        11           0.5051           11.10s\n",
            "        12           0.5007           10.47s\n",
            "        13           0.4952            9.91s\n",
            "        14           0.4900            9.43s\n",
            "        15           0.4861            8.97s\n",
            "        16           0.4826            8.36s\n",
            "        17           0.4793            7.75s\n",
            "        18           0.4757            7.15s\n",
            "        19           0.4716            6.55s\n",
            "        20           0.4680            5.95s\n",
            "        21           0.4649            5.34s\n",
            "        22           0.4617            4.74s\n",
            "        23           0.4580            4.16s\n",
            "        24           0.4557            3.57s\n",
            "        25           0.4528            2.97s\n",
            "        26           0.4495            2.39s\n",
            "        27           0.4467            1.79s\n",
            "        28           0.4447            1.19s\n",
            "        29           0.4413            0.60s\n",
            "        30           0.4389            0.00s\n",
            "      Iter       Train Loss   Remaining Time \n",
            "         1           0.6113           20.17s\n",
            "         2           0.5896           20.49s\n",
            "         3           0.5746           20.13s\n",
            "         4           0.5632           19.09s\n",
            "         5           0.5509           18.35s\n",
            "         6           0.5414           17.65s\n",
            "         7           0.5343           17.03s\n",
            "         8           0.5279           16.45s\n",
            "         9           0.5218           15.80s\n",
            "        10           0.5163           15.24s\n",
            "        11           0.5118           14.63s\n",
            "        12           0.5078           14.11s\n",
            "        13           0.5037           13.48s\n",
            "        14           0.5001           12.83s\n",
            "        15           0.4956           12.21s\n",
            "        16           0.4926           11.56s\n",
            "        17           0.4880           10.93s\n",
            "        18           0.4849           10.31s\n",
            "        19           0.4816            9.73s\n",
            "        20           0.4791            9.11s\n",
            "        21           0.4749            8.51s\n",
            "        22           0.4719            7.90s\n",
            "        23           0.4685            7.28s\n",
            "        24           0.4664            6.67s\n",
            "        25           0.4638            6.07s\n",
            "        26           0.4597            5.47s\n",
            "        27           0.4572            4.85s\n",
            "        28           0.4549            4.25s\n",
            "        29           0.4525            3.64s\n",
            "        30           0.4505            3.03s\n",
            "        31           0.4478            2.43s\n",
            "        32           0.4461            1.82s\n",
            "        33           0.4439            1.21s\n",
            "        34           0.4408            0.61s\n",
            "        35           0.4391            0.00s\n",
            "      Iter       Train Loss   Remaining Time \n",
            "         1           0.6096           21.44s\n",
            "         2           0.5873           20.19s\n",
            "         3           0.5735           19.07s\n",
            "         4           0.5581           18.33s\n",
            "         5           0.5460           17.72s\n",
            "         6           0.5367           17.04s\n",
            "         7           0.5293           16.56s\n",
            "         8           0.5218           15.82s\n",
            "         9           0.5163           15.25s\n",
            "        10           0.5109           14.66s\n",
            "        11           0.5051           14.11s\n",
            "        12           0.5007           13.55s\n",
            "        13           0.4952           13.02s\n",
            "        14           0.4900           12.44s\n",
            "        15           0.4864           11.86s\n",
            "        16           0.4827           11.28s\n",
            "        17           0.4793           10.71s\n",
            "        18           0.4756           10.13s\n",
            "        19           0.4716            9.55s\n",
            "        20           0.4681            8.96s\n",
            "        21           0.4643            8.38s\n",
            "        22           0.4617            7.77s\n",
            "        23           0.4579            7.19s\n",
            "        24           0.4550            6.61s\n",
            "        25           0.4526            6.00s\n",
            "        26           0.4496            5.39s\n",
            "        27           0.4468            4.78s\n",
            "        28           0.4434            4.18s\n",
            "        29           0.4414            3.58s\n",
            "        30           0.4390            2.99s\n",
            "        31           0.4368            2.38s\n",
            "        32           0.4340            1.79s\n",
            "        33           0.4318            1.19s\n",
            "        34           0.4297            0.59s\n",
            "        35           0.4279            0.00s\n",
            "      Iter       Train Loss   Remaining Time \n",
            "         1           0.6113           23.57s\n",
            "         2           0.5897           22.90s\n",
            "         3           0.5746           22.10s\n",
            "         4           0.5632           21.32s\n",
            "         5           0.5509           20.53s\n",
            "         6           0.5414           19.90s\n",
            "         7           0.5343           19.35s\n",
            "         8           0.5279           18.74s\n",
            "         9           0.5219           18.16s\n",
            "        10           0.5163           17.64s\n",
            "        11           0.5119           17.03s\n",
            "        12           0.5078           16.43s\n",
            "        13           0.5037           16.02s\n",
            "        14           0.5001           15.41s\n",
            "        15           0.4956           14.77s\n",
            "        16           0.4927           14.15s\n",
            "        17           0.4883           13.56s\n",
            "        18           0.4850           12.96s\n",
            "        19           0.4814           12.41s\n",
            "        20           0.4788           11.85s\n",
            "        21           0.4746           11.32s\n",
            "        22           0.4715           10.73s\n",
            "        23           0.4685           10.13s\n",
            "        24           0.4664            9.55s\n",
            "        25           0.4638            8.94s\n",
            "        26           0.4598            8.34s\n",
            "        27           0.4574            7.74s\n",
            "        28           0.4549            7.13s\n",
            "        29           0.4524            6.53s\n",
            "        30           0.4507            5.95s\n",
            "        31           0.4480            5.35s\n",
            "        32           0.4465            4.75s\n",
            "        33           0.4439            4.15s\n",
            "        34           0.4413            3.56s\n",
            "        35           0.4394            2.97s\n",
            "        36           0.4376            2.37s\n",
            "        37           0.4358            1.78s\n",
            "        38           0.4332            1.19s\n",
            "        39           0.4312            0.59s\n",
            "        40           0.4295            0.00s\n",
            "      Iter       Train Loss   Remaining Time \n",
            "         1           0.6096           23.58s\n",
            "         2           0.5873           22.22s\n",
            "         3           0.5735           21.77s\n",
            "         4           0.5581           21.04s\n",
            "         5           0.5460           20.32s\n",
            "         6           0.5367           19.75s\n",
            "         7           0.5293           19.20s\n",
            "         8           0.5218           18.64s\n",
            "         9           0.5163           18.04s\n",
            "        10           0.5109           17.48s\n",
            "        11           0.5051           16.90s\n",
            "        12           0.5007           16.32s\n",
            "        13           0.4952           15.86s\n",
            "        14           0.4900           15.34s\n",
            "        15           0.4864           14.71s\n",
            "        16           0.4827           14.07s\n",
            "        17           0.4793           13.45s\n",
            "        18           0.4756           12.86s\n",
            "        19           0.4716           12.25s\n",
            "        20           0.4681           11.68s\n",
            "        21           0.4643           11.08s\n",
            "        22           0.4617           10.49s\n",
            "        23           0.4579            9.92s\n",
            "        24           0.4550            9.32s\n",
            "        25           0.4526            8.74s\n",
            "        26           0.4496            8.15s\n",
            "        27           0.4468            7.56s\n",
            "        28           0.4434            6.98s\n",
            "        29           0.4414            6.39s\n",
            "        30           0.4390            5.81s\n",
            "        31           0.4368            5.24s\n",
            "        32           0.4340            4.67s\n",
            "        33           0.4318            4.08s\n",
            "        34           0.4297            3.50s\n",
            "        35           0.4279            2.91s\n",
            "        36           0.4251            2.33s\n",
            "        37           0.4235            1.75s\n",
            "        38           0.4219            1.17s\n",
            "        39           0.4195            0.58s\n",
            "        40           0.4180            0.00s\n",
            "      Iter       Train Loss   Remaining Time \n",
            "         1           0.6113           26.47s\n",
            "         2           0.5896           25.39s\n",
            "         3           0.5746           24.26s\n",
            "         4           0.5632           23.58s\n",
            "         5           0.5509           23.31s\n",
            "         6           0.5414           22.82s\n",
            "         7           0.5343           22.21s\n",
            "         8           0.5279           21.63s\n",
            "         9           0.5218           21.00s\n",
            "        10           0.5163           20.37s\n",
            "        11           0.5118           19.77s\n",
            "        12           0.5078           19.15s\n",
            "        13           0.5037           18.56s\n",
            "        14           0.5001           17.95s\n",
            "        15           0.4956           17.35s\n",
            "        16           0.4926           16.87s\n",
            "        17           0.4880           16.25s\n",
            "        18           0.4849           15.65s\n",
            "        19           0.4816           15.06s\n",
            "        20           0.4791           14.48s\n",
            "        21           0.4749           13.93s\n",
            "        22           0.4719           13.36s\n",
            "        23           0.4685           12.76s\n",
            "        24           0.4664           12.20s\n",
            "        25           0.4642           11.62s\n",
            "        26           0.4602           11.03s\n",
            "        27           0.4576           10.46s\n",
            "        28           0.4552            9.86s\n",
            "        29           0.4526            9.28s\n",
            "        30           0.4505            8.71s\n",
            "        31           0.4481            8.13s\n",
            "        32           0.4463            7.56s\n",
            "        33           0.4442            7.01s\n",
            "        34           0.4419            6.43s\n",
            "        35           0.4390            5.86s\n",
            "        36           0.4371            5.28s\n",
            "        37           0.4345            4.69s\n",
            "        38           0.4327            4.11s\n",
            "        39           0.4307            3.52s\n",
            "        40           0.4291            2.94s\n",
            "        41           0.4277            2.35s\n",
            "        42           0.4259            1.77s\n",
            "        43           0.4236            1.18s\n",
            "        44           0.4221            0.59s\n",
            "        45           0.4207            0.00s\n",
            "      Iter       Train Loss   Remaining Time \n",
            "         1           0.6096           28.06s\n",
            "         2           0.5873           26.35s\n",
            "         3           0.5735           25.30s\n",
            "         4           0.5581           24.43s\n",
            "         5           0.5460           23.79s\n",
            "         6           0.5367           23.20s\n",
            "         7           0.5292           22.58s\n",
            "         8           0.5218           22.05s\n",
            "         9           0.5164           21.44s\n",
            "        10           0.5109           20.79s\n",
            "        11           0.5051           20.27s\n",
            "        12           0.5007           19.83s\n",
            "        13           0.4952           19.27s\n",
            "        14           0.4900           18.66s\n",
            "        15           0.4863           18.01s\n",
            "        16           0.4827           17.44s\n",
            "        17           0.4793           16.88s\n",
            "        18           0.4756           16.26s\n",
            "        19           0.4716           15.64s\n",
            "        20           0.4681           15.02s\n",
            "        21           0.4642           14.41s\n",
            "        22           0.4617           13.80s\n",
            "        23           0.4592           13.18s\n",
            "        24           0.4554           12.60s\n",
            "        25           0.4525           11.99s\n",
            "        26           0.4496           11.37s\n",
            "        27           0.4468           10.76s\n",
            "        28           0.4448           10.18s\n",
            "        29           0.4407            9.60s\n",
            "        30           0.4386            8.99s\n",
            "        31           0.4361            8.39s\n",
            "        32           0.4340            7.78s\n",
            "        33           0.4322            7.19s\n",
            "        34           0.4300            6.60s\n",
            "        35           0.4285            5.99s\n",
            "        36           0.4268            5.39s\n",
            "        37           0.4241            4.80s\n",
            "        38           0.4224            4.20s\n",
            "        39           0.4202            3.60s\n",
            "        40           0.4183            3.00s\n",
            "        41           0.4167            2.40s\n",
            "        42           0.4151            1.80s\n",
            "        43           0.4133            1.20s\n",
            "        44           0.4120            0.60s\n",
            "        45           0.4105            0.00s\n",
            "      Iter       Train Loss   Remaining Time \n",
            "         1           0.6046            3.18s\n",
            "         2           0.5810            2.34s\n",
            "         3           0.5633            1.56s\n",
            "         4           0.5484            0.78s\n",
            "         5           0.5379            0.00s\n",
            "      Iter       Train Loss   Remaining Time \n",
            "         1           0.6029            3.37s\n",
            "         2           0.5782            2.46s\n",
            "         3           0.5579            1.64s\n",
            "         4           0.5436            0.81s\n",
            "         5           0.5326            0.00s\n",
            "      Iter       Train Loss   Remaining Time \n",
            "         1           0.6046            8.61s\n",
            "         2           0.5810            7.01s\n",
            "         3           0.5633            6.04s\n",
            "         4           0.5485            5.10s\n",
            "         5           0.5379            4.26s\n",
            "         6           0.5290            3.35s\n",
            "         7           0.5198            2.47s\n",
            "         8           0.5126            1.63s\n",
            "         9           0.5069            0.81s\n",
            "        10           0.5003            0.00s\n",
            "      Iter       Train Loss   Remaining Time \n",
            "         1           0.6029            7.32s\n",
            "         2           0.5782            6.33s\n",
            "         3           0.5580            5.51s\n",
            "         4           0.5437            4.72s\n",
            "         5           0.5326            3.96s\n",
            "         6           0.5224            3.17s\n",
            "         7           0.5139            2.38s\n",
            "         8           0.5056            1.58s\n",
            "         9           0.4985            0.80s\n",
            "        10           0.4917            0.00s\n",
            "      Iter       Train Loss   Remaining Time \n",
            "         1           0.6046           11.74s\n",
            "         2           0.5810           10.54s\n",
            "         3           0.5633            9.61s\n",
            "         4           0.5485            8.75s\n",
            "         5           0.5379            7.94s\n",
            "         6           0.5290            7.16s\n",
            "         7           0.5197            6.36s\n",
            "         8           0.5126            5.60s\n",
            "         9           0.5068            4.77s\n",
            "        10           0.5003            3.95s\n",
            "        11           0.4953            3.15s\n",
            "        12           0.4907            2.35s\n",
            "        13           0.4868            1.57s\n",
            "        14           0.4811            0.79s\n",
            "        15           0.4770            0.00s\n",
            "      Iter       Train Loss   Remaining Time \n",
            "         1           0.6029           11.02s\n",
            "         2           0.5782           10.11s\n",
            "         3           0.5580            9.36s\n",
            "         4           0.5437            8.55s\n",
            "         5           0.5326            7.86s\n",
            "         6           0.5224            7.07s\n",
            "         7           0.5139            6.29s\n",
            "         8           0.5055            5.50s\n",
            "         9           0.4985            4.70s\n",
            "        10           0.4917            3.92s\n",
            "        11           0.4865            3.13s\n",
            "        12           0.4817            2.36s\n",
            "        13           0.4765            1.58s\n",
            "        14           0.4718            0.79s\n",
            "        15           0.4668            0.00s\n",
            "      Iter       Train Loss   Remaining Time \n",
            "         1           0.6046           15.39s\n",
            "         2           0.5810           14.93s\n",
            "         3           0.5633           13.82s\n",
            "         4           0.5485           12.92s\n",
            "         5           0.5379           11.98s\n",
            "         6           0.5290           11.12s\n",
            "         7           0.5197           10.35s\n",
            "         8           0.5126            9.58s\n",
            "         9           0.5068            8.76s\n",
            "        10           0.5003            7.97s\n",
            "        11           0.4953            7.16s\n",
            "        12           0.4907            6.34s\n",
            "        13           0.4868            5.54s\n",
            "        14           0.4811            4.73s\n",
            "        15           0.4770            3.96s\n",
            "        16           0.4725            3.16s\n",
            "        17           0.4688            2.37s\n",
            "        18           0.4639            1.58s\n",
            "        19           0.4604            0.79s\n",
            "        20           0.4571            0.00s\n",
            "      Iter       Train Loss   Remaining Time \n",
            "         1           0.6029           15.94s\n",
            "         2           0.5782           14.83s\n",
            "         3           0.5580           13.79s\n",
            "         4           0.5437           13.01s\n",
            "         5           0.5326           12.21s\n",
            "         6           0.5224           11.35s\n",
            "         7           0.5138           10.54s\n",
            "         8           0.5056            9.71s\n",
            "         9           0.4985            8.85s\n",
            "        10           0.4918            8.00s\n",
            "        11           0.4865            7.18s\n",
            "        12           0.4817            6.42s\n",
            "        13           0.4766            5.61s\n",
            "        14           0.4720            4.80s\n",
            "        15           0.4670            3.98s\n",
            "        16           0.4621            3.18s\n",
            "        17           0.4585            2.39s\n",
            "        18           0.4541            1.59s\n",
            "        19           0.4496            0.80s\n",
            "        20           0.4460            0.00s\n",
            "      Iter       Train Loss   Remaining Time \n",
            "         1           0.6046           19.38s\n",
            "         2           0.5810           18.81s\n",
            "         3           0.5633           17.72s\n",
            "         4           0.5484           16.99s\n",
            "         5           0.5379           16.16s\n",
            "         6           0.5290           15.38s\n",
            "         7           0.5197           14.49s\n",
            "         8           0.5126           13.62s\n",
            "         9           0.5068           12.79s\n",
            "        10           0.5003           12.04s\n",
            "        11           0.4953           11.37s\n",
            "        12           0.4907           10.58s\n",
            "        13           0.4868            9.78s\n",
            "        14           0.4811            8.99s\n",
            "        15           0.4770            8.20s\n",
            "        16           0.4723            7.46s\n",
            "        17           0.4688            6.62s\n",
            "        18           0.4640            5.81s\n",
            "        19           0.4605            4.97s\n",
            "        20           0.4572            4.14s\n",
            "        21           0.4526            3.31s\n",
            "        22           0.4499            2.49s\n",
            "        23           0.4471            1.66s\n",
            "        24           0.4443            0.83s\n",
            "        25           0.4411            0.00s\n",
            "      Iter       Train Loss   Remaining Time \n",
            "         1           0.6029           19.04s\n",
            "         2           0.5782           17.65s\n",
            "         3           0.5579           17.08s\n",
            "         4           0.5436           16.17s\n",
            "         5           0.5326           15.32s\n",
            "         6           0.5224           14.53s\n",
            "         7           0.5138           13.75s\n",
            "         8           0.5055           13.11s\n",
            "         9           0.4985           12.31s\n",
            "        10           0.4917           11.53s\n",
            "        11           0.4864           10.78s\n",
            "        12           0.4816           10.02s\n",
            "        13           0.4765            9.27s\n",
            "        14           0.4719            8.49s\n",
            "        15           0.4672            7.72s\n",
            "        16           0.4622            6.98s\n",
            "        17           0.4590            6.20s\n",
            "        18           0.4543            5.42s\n",
            "        19           0.4496            4.67s\n",
            "        20           0.4461            3.89s\n",
            "        21           0.4426            3.11s\n",
            "        22           0.4393            2.33s\n",
            "        23           0.4361            1.56s\n",
            "        24           0.4312            0.78s\n",
            "        25           0.4284            0.00s\n",
            "      Iter       Train Loss   Remaining Time \n",
            "         1           0.6046           24.38s\n",
            "         2           0.5810           22.27s\n",
            "         3           0.5633           21.35s\n",
            "         4           0.5484           20.29s\n",
            "         5           0.5379           19.37s\n",
            "         6           0.5290           18.53s\n",
            "         7           0.5197           17.72s\n",
            "         8           0.5126           16.90s\n",
            "         9           0.5068           16.24s\n",
            "        10           0.5003           15.39s\n",
            "        11           0.4953           14.59s\n",
            "        12           0.4907           13.81s\n",
            "        13           0.4868           13.00s\n",
            "        14           0.4811           12.23s\n",
            "        15           0.4770           11.48s\n",
            "        16           0.4728           10.71s\n",
            "        17           0.4689            9.94s\n",
            "        18           0.4640            9.20s\n",
            "        19           0.4606            8.42s\n",
            "        20           0.4572            7.64s\n",
            "        21           0.4525            6.89s\n",
            "        22           0.4495            6.15s\n",
            "        23           0.4470            5.38s\n",
            "        24           0.4441            4.61s\n",
            "        25           0.4405            3.84s\n",
            "        26           0.4382            3.07s\n",
            "        27           0.4351            2.31s\n",
            "        28           0.4315            1.54s\n",
            "        29           0.4292            0.77s\n",
            "        30           0.4266            0.00s\n",
            "      Iter       Train Loss   Remaining Time \n",
            "         1           0.6029           22.14s\n",
            "         2           0.5782           21.45s\n",
            "         3           0.5580           20.57s\n",
            "         4           0.5437           19.67s\n",
            "         5           0.5326           18.79s\n",
            "         6           0.5224           18.06s\n",
            "         7           0.5138           17.37s\n",
            "         8           0.5055           16.63s\n",
            "         9           0.4985           15.86s\n",
            "        10           0.4917           15.09s\n",
            "        11           0.4864           14.51s\n",
            "        12           0.4816           13.74s\n",
            "        13           0.4765           12.96s\n",
            "        14           0.4720           12.20s\n",
            "        15           0.4670           11.47s\n",
            "        16           0.4620           10.71s\n",
            "        17           0.4587            9.94s\n",
            "        18           0.4541            9.17s\n",
            "        19           0.4495            8.45s\n",
            "        20           0.4460            7.66s\n",
            "        21           0.4425            6.89s\n",
            "        22           0.4391            6.12s\n",
            "        23           0.4360            5.35s\n",
            "        24           0.4311            4.61s\n",
            "        25           0.4287            3.83s\n",
            "        26           0.4257            3.07s\n",
            "        27           0.4232            2.30s\n",
            "        28           0.4209            1.53s\n",
            "        29           0.4188            0.77s\n",
            "        30           0.4145            0.00s\n",
            "      Iter       Train Loss   Remaining Time \n",
            "         1           0.6046           26.98s\n",
            "         2           0.5810           25.62s\n",
            "         3           0.5633           24.50s\n",
            "         4           0.5485           23.79s\n",
            "         5           0.5379           22.90s\n",
            "         6           0.5290           22.17s\n",
            "         7           0.5197           21.38s\n",
            "         8           0.5126           20.53s\n",
            "         9           0.5068           19.70s\n",
            "        10           0.5003           18.88s\n",
            "        11           0.4953           18.05s\n",
            "        12           0.4907           17.28s\n",
            "        13           0.4868           16.65s\n",
            "        14           0.4811           15.91s\n",
            "        15           0.4770           15.11s\n",
            "        16           0.4725           14.35s\n",
            "        17           0.4688           13.60s\n",
            "        18           0.4639           12.90s\n",
            "        19           0.4604           12.14s\n",
            "        20           0.4571           11.38s\n",
            "        21           0.4524           10.63s\n",
            "        22           0.4497            9.85s\n",
            "        23           0.4467            9.09s\n",
            "        24           0.4438            8.32s\n",
            "        25           0.4408            7.56s\n",
            "        26           0.4378            6.81s\n",
            "        27           0.4348            6.06s\n",
            "        28           0.4311            5.32s\n",
            "        29           0.4288            4.55s\n",
            "        30           0.4261            3.80s\n",
            "        31           0.4236            3.04s\n",
            "        32           0.4214            2.29s\n",
            "        33           0.4193            1.53s\n",
            "        34           0.4171            0.77s\n",
            "        35           0.4152            0.00s\n",
            "      Iter       Train Loss   Remaining Time \n",
            "         1           0.6029           27.86s\n",
            "         2           0.5782           26.20s\n",
            "         3           0.5579           24.96s\n",
            "         4           0.5436           23.98s\n",
            "         5           0.5326           23.01s\n",
            "         6           0.5224           22.11s\n",
            "         7           0.5138           21.38s\n",
            "         8           0.5055           20.55s\n",
            "         9           0.4985           19.72s\n",
            "        10           0.4917           19.08s\n",
            "        11           0.4864           18.34s\n",
            "        12           0.4821           17.54s\n",
            "        13           0.4764           16.77s\n",
            "        14           0.4720           16.02s\n",
            "        15           0.4673           15.25s\n",
            "        16           0.4622           14.45s\n",
            "        17           0.4586           13.68s\n",
            "        18           0.4541           12.93s\n",
            "        19           0.4496           12.20s\n",
            "        20           0.4460           11.43s\n",
            "        21           0.4424           10.65s\n",
            "        22           0.4396            9.89s\n",
            "        23           0.4363            9.15s\n",
            "        24           0.4314            8.41s\n",
            "        25           0.4290            7.63s\n",
            "        26           0.4262            6.88s\n",
            "        27           0.4235            6.12s\n",
            "        28           0.4210            5.35s\n",
            "        29           0.4188            4.58s\n",
            "        30           0.4148            3.83s\n",
            "        31           0.4130            3.06s\n",
            "        32           0.4102            2.30s\n",
            "        33           0.4081            1.53s\n",
            "        34           0.4063            0.76s\n",
            "        35           0.4045            0.00s\n",
            "      Iter       Train Loss   Remaining Time \n",
            "         1           0.6046           30.43s\n",
            "         2           0.5810           29.30s\n",
            "         3           0.5633           28.20s\n",
            "         4           0.5484           27.34s\n",
            "         5           0.5379           26.49s\n",
            "         6           0.5290           25.74s\n",
            "         7           0.5197           25.29s\n",
            "         8           0.5126           24.48s\n",
            "         9           0.5068           23.79s\n",
            "        10           0.5003           22.98s\n",
            "        11           0.4953           22.35s\n",
            "        12           0.4907           21.53s\n",
            "        13           0.4868           20.85s\n",
            "        14           0.4811           20.06s\n",
            "        15           0.4770           19.27s\n",
            "        16           0.4723           18.50s\n",
            "        17           0.4688           17.67s\n",
            "        18           0.4640           16.93s\n",
            "        19           0.4605           16.12s\n",
            "        20           0.4572           15.38s\n",
            "        21           0.4526           14.63s\n",
            "        22           0.4499           13.86s\n",
            "        23           0.4471           13.08s\n",
            "        24           0.4443           12.35s\n",
            "        25           0.4411           11.57s\n",
            "        26           0.4383           10.79s\n",
            "        27           0.4353           10.02s\n",
            "        28           0.4315            9.27s\n",
            "        29           0.4290            8.50s\n",
            "        30           0.4264            7.73s\n",
            "        31           0.4237            6.96s\n",
            "        32           0.4217            6.19s\n",
            "        33           0.4195            5.42s\n",
            "        34           0.4172            4.64s\n",
            "        35           0.4149            3.86s\n",
            "        36           0.4123            3.09s\n",
            "        37           0.4104            2.32s\n",
            "        38           0.4072            1.55s\n",
            "        39           0.4055            0.78s\n",
            "        40           0.4031            0.00s\n",
            "      Iter       Train Loss   Remaining Time \n",
            "         1           0.6029           30.36s\n",
            "         2           0.5782           29.18s\n",
            "         3           0.5580           28.94s\n",
            "         4           0.5436           28.19s\n",
            "         5           0.5326           27.28s\n",
            "         6           0.5224           26.51s\n",
            "         7           0.5138           25.63s\n",
            "         8           0.5056           24.76s\n",
            "         9           0.4985           23.92s\n",
            "        10           0.4917           23.12s\n",
            "        11           0.4864           22.42s\n",
            "        12           0.4816           21.58s\n",
            "        13           0.4765           20.75s\n",
            "        14           0.4719           19.96s\n",
            "        15           0.4672           19.19s\n",
            "        16           0.4622           18.48s\n",
            "        17           0.4590           17.73s\n",
            "        18           0.4543           16.97s\n",
            "        19           0.4496           16.27s\n",
            "        20           0.4461           15.49s\n",
            "        21           0.4426           14.71s\n",
            "        22           0.4393           13.93s\n",
            "        23           0.4362           13.15s\n",
            "        24           0.4313           12.44s\n",
            "        25           0.4289           11.64s\n",
            "        26           0.4259           10.85s\n",
            "        27           0.4233           10.06s\n",
            "        28           0.4210            9.28s\n",
            "        29           0.4189            8.51s\n",
            "        30           0.4146            7.75s\n",
            "        31           0.4127            6.97s\n",
            "        32           0.4102            6.19s\n",
            "        33           0.4084            5.41s\n",
            "        34           0.4063            4.63s\n",
            "        35           0.4047            3.86s\n",
            "        36           0.4024            3.08s\n",
            "        37           0.3992            2.32s\n",
            "        38           0.3971            1.55s\n",
            "        39           0.3947            0.77s\n",
            "        40           0.3931            0.00s\n",
            "      Iter       Train Loss   Remaining Time \n",
            "         1           0.6046           35.45s\n",
            "         2           0.5810           33.65s\n",
            "         3           0.5633           33.32s\n",
            "         4           0.5484           32.27s\n",
            "         5           0.5379           31.28s\n",
            "         6           0.5290           30.36s\n",
            "         7           0.5197           29.59s\n",
            "         8           0.5126           28.75s\n",
            "         9           0.5068           28.00s\n",
            "        10           0.5003           27.67s\n",
            "        11           0.4953           26.85s\n",
            "        12           0.4907           25.95s\n",
            "        13           0.4868           25.22s\n",
            "        14           0.4811           24.33s\n",
            "        15           0.4770           23.54s\n",
            "        16           0.4728           22.89s\n",
            "        17           0.4689           22.00s\n",
            "        18           0.4640           21.20s\n",
            "        19           0.4606           20.34s\n",
            "        20           0.4572           19.54s\n",
            "        21           0.4525           18.77s\n",
            "        22           0.4495           17.95s\n",
            "        23           0.4470           17.19s\n",
            "        24           0.4441           16.40s\n",
            "        25           0.4405           15.57s\n",
            "        26           0.4382           14.75s\n",
            "        27           0.4351           13.96s\n",
            "        28           0.4315           13.18s\n",
            "        29           0.4292           12.41s\n",
            "        30           0.4266           11.63s\n",
            "        31           0.4238           10.83s\n",
            "        32           0.4216           10.03s\n",
            "        33           0.4190            9.25s\n",
            "        34           0.4167            8.47s\n",
            "        35           0.4142            7.71s\n",
            "        36           0.4123            6.93s\n",
            "        37           0.4096            6.17s\n",
            "        38           0.4078            5.40s\n",
            "        39           0.4063            4.63s\n",
            "        40           0.4038            3.85s\n",
            "        41           0.4019            3.08s\n",
            "        42           0.4001            2.31s\n",
            "        43           0.3985            1.54s\n",
            "        44           0.3970            0.77s\n",
            "        45           0.3953            0.00s\n",
            "      Iter       Train Loss   Remaining Time \n",
            "         1           0.6029           34.76s\n",
            "         2           0.5782           32.81s\n",
            "         3           0.5580           32.58s\n",
            "         4           0.5437           31.33s\n",
            "         5           0.5326           30.25s\n",
            "         6           0.5224           29.26s\n",
            "         7           0.5139           28.43s\n",
            "         8           0.5055           27.77s\n",
            "         9           0.4985           27.03s\n",
            "        10           0.4917           26.30s\n",
            "        11           0.4865           25.54s\n",
            "        12           0.4817           24.76s\n",
            "        13           0.4765           24.07s\n",
            "        14           0.4720           23.35s\n",
            "        15           0.4670           22.58s\n",
            "        16           0.4620           21.91s\n",
            "        17           0.4586           21.12s\n",
            "        18           0.4542           20.35s\n",
            "        19           0.4496           19.70s\n",
            "        20           0.4463           18.91s\n",
            "        21           0.4429           18.17s\n",
            "        22           0.4393           17.43s\n",
            "        23           0.4364           16.68s\n",
            "        24           0.4312           15.96s\n",
            "        25           0.4284           15.19s\n",
            "        26           0.4255           14.44s\n",
            "        27           0.4231           13.66s\n",
            "        28           0.4208           12.89s\n",
            "        29           0.4186           12.16s\n",
            "        30           0.4144           11.40s\n",
            "        31           0.4125           10.63s\n",
            "        32           0.4104            9.87s\n",
            "        33           0.4078            9.10s\n",
            "        34           0.4060            8.35s\n",
            "        35           0.4042            7.58s\n",
            "        36           0.4018            6.82s\n",
            "        37           0.3991            6.08s\n",
            "        38           0.3967            5.33s\n",
            "        39           0.3942            4.57s\n",
            "        40           0.3927            3.81s\n",
            "        41           0.3913            3.04s\n",
            "        42           0.3893            2.29s\n",
            "        43           0.3875            1.52s\n",
            "        44           0.3860            0.76s\n",
            "        45           0.3839            0.00s\n",
            "      Iter       Train Loss   Remaining Time \n",
            "         1           0.6041            1.34m\n",
            "         2           0.5805            1.30m\n",
            "         3           0.5623            1.27m\n",
            "         4           0.5464            1.24m\n",
            "         5           0.5358            1.21m\n",
            "         6           0.5260            1.19m\n",
            "         7           0.5184            1.15m\n",
            "         8           0.5103            1.12m\n",
            "         9           0.5035            1.09m\n",
            "        10           0.4970            1.06m\n",
            "        11           0.4912            1.04m\n",
            "        12           0.4865            1.00m\n",
            "        13           0.4824           58.44s\n",
            "        14           0.4769           56.64s\n",
            "        15           0.4732           54.87s\n",
            "        16           0.4688           53.44s\n",
            "        17           0.4654           51.53s\n",
            "        18           0.4614           49.77s\n",
            "        19           0.4574           47.90s\n",
            "        20           0.4536           45.96s\n",
            "        21           0.4504           44.10s\n",
            "        22           0.4460           42.41s\n",
            "        23           0.4436           40.61s\n",
            "        24           0.4405           38.85s\n",
            "        25           0.4378           37.16s\n",
            "        26           0.4352           35.29s\n",
            "        27           0.4329           33.53s\n",
            "        28           0.4288           31.74s\n",
            "        29           0.4267           29.89s\n",
            "        30           0.4240           28.01s\n",
            "        31           0.4221           26.14s\n",
            "        32           0.4200           24.27s\n",
            "        33           0.4180           22.39s\n",
            "        34           0.4151           20.55s\n",
            "        35           0.4130           18.67s\n",
            "        36           0.4109           16.79s\n",
            "        37           0.4077           14.93s\n",
            "        38           0.4059           13.07s\n",
            "        39           0.4039           11.20s\n",
            "        40           0.4023            9.33s\n",
            "        41           0.4006            7.47s\n",
            "        42           0.3990            5.60s\n",
            "        43           0.3969            3.74s\n",
            "        44           0.3955            1.87s\n",
            "        45           0.3938            0.00s\n",
            "CPU times: user 15min 4s, sys: 2.42 s, total: 15min 7s\n",
            "Wall time: 15min 10s\n"
          ]
        },
        {
          "data": {
            "text/plain": [
              "GridSearchCV(cv=2,\n",
              "             estimator=Pipeline(steps=[('vect',\n",
              "                                        TfidfVectorizer(stop_words='english',\n",
              "                                                        sublinear_tf=True)),\n",
              "                                       ('gb', GradientBoostingClassifier())]),\n",
              "             n_jobs=-1,\n",
              "             param_grid={'gb__max_depth': range(3, 5),\n",
              "                         'gb__n_estimators': range(5, 50, 5),\n",
              "                         'gb__verbose': [100]},\n",
              "             scoring='f1')"
            ]
          },
          "execution_count": 50,
          "metadata": {},
          "output_type": "execute_result"
        }
      ],
      "source": [
        "%%time\n",
        "pipeline_GBC = Pipeline([(\"vect\", TfidfVectorizer(stop_words='english', sublinear_tf=True)),\n",
        "                     ('gb', GradientBoostingClassifier())])\n",
        "\n",
        "params_RFC = {'gb__n_estimators': range(5, 50, 5),\n",
        "              'gb__max_depth': range(3, 5),\n",
        "              'gb__verbose' : [100]}\n",
        "\n",
        "model_GBC= GridSearchCV(pipeline_GBC,\n",
        "                        params_RFC,\n",
        "                        scoring='f1',\n",
        "                        cv=2,\n",
        "                        n_jobs=-1)\n",
        "\n",
        "model_GBC.fit(features_train, targets_train)"
      ]
    },
    {
      "cell_type": "code",
      "execution_count": null,
      "metadata": {
        "id": "AVn2fVjjXJPw",
        "outputId": "411fe9d2-5573-49b2-d78a-1a68a1a795b6"
      },
      "outputs": [
        {
          "name": "stdout",
          "output_type": "stream",
          "text": [
            "Лучшие параметры на градиентном бустинге: {'gb__max_depth': 4, 'gb__n_estimators': 45, 'gb__verbose': 100}\n",
            "F1 на градиентном бустинге: 0.5673932518634662\n"
          ]
        }
      ],
      "source": [
        "print(\"Лучшие параметры на градиентном бустинге:\", model_GBC.best_params_)\n",
        "print(\"F1 на градиентном бустинге:\", model_GBC.best_score_)"
      ]
    },
    {
      "cell_type": "markdown",
      "metadata": {
        "id": "qrew8cjpXJPw"
      },
      "source": [
        "CatBoost: pipline + GridSearchCV\n"
      ]
    },
    {
      "cell_type": "code",
      "execution_count": null,
      "metadata": {
        "id": "IA3pp_OMXJPx",
        "outputId": "c51e4a83-8373-455c-9b50-c028a090b93d"
      },
      "outputs": [
        {
          "name": "stdout",
          "output_type": "stream",
          "text": [
            "0:\tlearn: 0.6827647\ttotal: 562ms\tremaining: 16.3s\n",
            "1:\tlearn: 0.6726113\ttotal: 1.02s\tremaining: 14.3s\n",
            "2:\tlearn: 0.6628526\ttotal: 1.45s\tremaining: 13.1s\n",
            "3:\tlearn: 0.6533814\ttotal: 1.91s\tremaining: 12.4s\n",
            "4:\tlearn: 0.6440124\ttotal: 2.37s\tremaining: 11.8s\n",
            "5:\tlearn: 0.6354139\ttotal: 2.83s\tremaining: 11.3s\n",
            "6:\tlearn: 0.6264807\ttotal: 3.29s\tremaining: 10.8s\n",
            "7:\tlearn: 0.6183248\ttotal: 3.73s\tremaining: 10.2s\n",
            "8:\tlearn: 0.6102880\ttotal: 4.18s\tremaining: 9.76s\n",
            "9:\tlearn: 0.6023618\ttotal: 4.63s\tremaining: 9.27s\n",
            "10:\tlearn: 0.5942370\ttotal: 5.1s\tremaining: 8.8s\n",
            "11:\tlearn: 0.5865347\ttotal: 5.56s\tremaining: 8.35s\n",
            "12:\tlearn: 0.5789471\ttotal: 6.03s\tremaining: 7.89s\n",
            "13:\tlearn: 0.5713752\ttotal: 6.47s\tremaining: 7.39s\n",
            "14:\tlearn: 0.5641348\ttotal: 6.89s\tremaining: 6.89s\n",
            "15:\tlearn: 0.5569201\ttotal: 7.36s\tremaining: 6.44s\n",
            "16:\tlearn: 0.5499296\ttotal: 7.82s\tremaining: 5.98s\n",
            "17:\tlearn: 0.5427490\ttotal: 8.27s\tremaining: 5.51s\n",
            "18:\tlearn: 0.5363235\ttotal: 8.71s\tremaining: 5.04s\n",
            "19:\tlearn: 0.5297518\ttotal: 9.18s\tremaining: 4.59s\n",
            "20:\tlearn: 0.5232298\ttotal: 9.63s\tremaining: 4.13s\n",
            "21:\tlearn: 0.5169315\ttotal: 10.1s\tremaining: 3.67s\n",
            "22:\tlearn: 0.5108712\ttotal: 10.6s\tremaining: 3.22s\n",
            "23:\tlearn: 0.5049601\ttotal: 11.1s\tremaining: 2.76s\n",
            "24:\tlearn: 0.4991076\ttotal: 11.5s\tremaining: 2.31s\n",
            "25:\tlearn: 0.4932320\ttotal: 12s\tremaining: 1.84s\n",
            "26:\tlearn: 0.4876339\ttotal: 12.5s\tremaining: 1.38s\n",
            "27:\tlearn: 0.4825346\ttotal: 12.9s\tremaining: 923ms\n",
            "28:\tlearn: 0.4771306\ttotal: 13.4s\tremaining: 461ms\n",
            "29:\tlearn: 0.4719937\ttotal: 13.8s\tremaining: 0us\n",
            "0:\tlearn: 0.6823729\ttotal: 498ms\tremaining: 14.4s\n",
            "1:\tlearn: 0.6721066\ttotal: 954ms\tremaining: 13.4s\n",
            "2:\tlearn: 0.6623255\ttotal: 1.42s\tremaining: 12.8s\n",
            "3:\tlearn: 0.6524969\ttotal: 1.91s\tremaining: 12.4s\n",
            "4:\tlearn: 0.6435229\ttotal: 2.38s\tremaining: 11.9s\n",
            "5:\tlearn: 0.6343515\ttotal: 2.83s\tremaining: 11.3s\n",
            "6:\tlearn: 0.6253242\ttotal: 3.31s\tremaining: 10.9s\n",
            "7:\tlearn: 0.6167484\ttotal: 3.79s\tremaining: 10.4s\n",
            "8:\tlearn: 0.6087453\ttotal: 4.21s\tremaining: 9.82s\n",
            "9:\tlearn: 0.6000837\ttotal: 4.72s\tremaining: 9.44s\n",
            "10:\tlearn: 0.5919041\ttotal: 5.17s\tremaining: 8.93s\n",
            "11:\tlearn: 0.5840305\ttotal: 5.63s\tremaining: 8.44s\n",
            "12:\tlearn: 0.5759429\ttotal: 6.09s\tremaining: 7.96s\n",
            "13:\tlearn: 0.5684423\ttotal: 6.54s\tremaining: 7.47s\n",
            "14:\tlearn: 0.5612907\ttotal: 6.98s\tremaining: 6.98s\n",
            "15:\tlearn: 0.5540183\ttotal: 7.44s\tremaining: 6.51s\n",
            "16:\tlearn: 0.5466979\ttotal: 7.94s\tremaining: 6.07s\n",
            "17:\tlearn: 0.5398822\ttotal: 8.41s\tremaining: 5.6s\n",
            "18:\tlearn: 0.5329899\ttotal: 8.87s\tremaining: 5.13s\n",
            "19:\tlearn: 0.5267048\ttotal: 9.33s\tremaining: 4.67s\n",
            "20:\tlearn: 0.5205015\ttotal: 9.8s\tremaining: 4.2s\n",
            "21:\tlearn: 0.5142672\ttotal: 10.3s\tremaining: 3.73s\n",
            "22:\tlearn: 0.5080697\ttotal: 10.7s\tremaining: 3.26s\n",
            "23:\tlearn: 0.5020491\ttotal: 11.2s\tremaining: 2.79s\n",
            "24:\tlearn: 0.4960589\ttotal: 11.7s\tremaining: 2.33s\n",
            "25:\tlearn: 0.4903227\ttotal: 12.1s\tremaining: 1.87s\n",
            "26:\tlearn: 0.4850224\ttotal: 12.6s\tremaining: 1.4s\n",
            "27:\tlearn: 0.4795572\ttotal: 13.1s\tremaining: 932ms\n",
            "28:\tlearn: 0.4741983\ttotal: 13.6s\tremaining: 467ms\n",
            "29:\tlearn: 0.4690800\ttotal: 14s\tremaining: 0us\n",
            "0:\tlearn: 0.6428352\ttotal: 487ms\tremaining: 14.1s\n",
            "1:\tlearn: 0.5976184\ttotal: 964ms\tremaining: 13.5s\n",
            "2:\tlearn: 0.5590619\ttotal: 1.39s\tremaining: 12.5s\n",
            "3:\tlearn: 0.5251196\ttotal: 1.83s\tremaining: 11.9s\n",
            "4:\tlearn: 0.4940103\ttotal: 2.29s\tremaining: 11.5s\n",
            "5:\tlearn: 0.4683455\ttotal: 2.75s\tremaining: 11s\n",
            "6:\tlearn: 0.4444679\ttotal: 3.21s\tremaining: 10.5s\n",
            "7:\tlearn: 0.4239152\ttotal: 3.66s\tremaining: 10.1s\n",
            "8:\tlearn: 0.4056439\ttotal: 4.12s\tremaining: 9.62s\n",
            "9:\tlearn: 0.3890527\ttotal: 4.63s\tremaining: 9.25s\n",
            "10:\tlearn: 0.3738247\ttotal: 5.1s\tremaining: 8.81s\n",
            "11:\tlearn: 0.3609699\ttotal: 5.56s\tremaining: 8.34s\n",
            "12:\tlearn: 0.3495782\ttotal: 6.02s\tremaining: 7.87s\n",
            "13:\tlearn: 0.3395782\ttotal: 6.48s\tremaining: 7.4s\n",
            "14:\tlearn: 0.3303070\ttotal: 6.94s\tremaining: 6.94s\n",
            "15:\tlearn: 0.3220620\ttotal: 7.39s\tremaining: 6.46s\n",
            "16:\tlearn: 0.3147106\ttotal: 7.85s\tremaining: 6s\n",
            "17:\tlearn: 0.3077984\ttotal: 8.32s\tremaining: 5.55s\n",
            "18:\tlearn: 0.3016332\ttotal: 8.78s\tremaining: 5.08s\n",
            "19:\tlearn: 0.2959766\ttotal: 9.23s\tremaining: 4.62s\n",
            "20:\tlearn: 0.2909885\ttotal: 9.68s\tremaining: 4.15s\n",
            "21:\tlearn: 0.2864452\ttotal: 10.1s\tremaining: 3.68s\n",
            "22:\tlearn: 0.2825193\ttotal: 10.6s\tremaining: 3.22s\n",
            "23:\tlearn: 0.2789133\ttotal: 11s\tremaining: 2.75s\n",
            "24:\tlearn: 0.2754336\ttotal: 11.5s\tremaining: 2.3s\n",
            "25:\tlearn: 0.2723447\ttotal: 11.9s\tremaining: 1.83s\n",
            "26:\tlearn: 0.2697045\ttotal: 12.4s\tremaining: 1.38s\n",
            "27:\tlearn: 0.2672101\ttotal: 12.8s\tremaining: 917ms\n",
            "28:\tlearn: 0.2649079\ttotal: 13.3s\tremaining: 458ms\n",
            "29:\tlearn: 0.2627233\ttotal: 13.7s\tremaining: 0us\n",
            "0:\tlearn: 0.6412660\ttotal: 514ms\tremaining: 14.9s\n",
            "1:\tlearn: 0.5961542\ttotal: 968ms\tremaining: 13.6s\n",
            "2:\tlearn: 0.5573043\ttotal: 1.42s\tremaining: 12.8s\n",
            "3:\tlearn: 0.5223588\ttotal: 1.9s\tremaining: 12.3s\n",
            "4:\tlearn: 0.4918476\ttotal: 2.37s\tremaining: 11.8s\n",
            "5:\tlearn: 0.4655580\ttotal: 2.82s\tremaining: 11.3s\n",
            "6:\tlearn: 0.4416406\ttotal: 3.27s\tremaining: 10.7s\n",
            "7:\tlearn: 0.4205330\ttotal: 3.72s\tremaining: 10.2s\n",
            "8:\tlearn: 0.4017628\ttotal: 4.17s\tremaining: 9.73s\n",
            "9:\tlearn: 0.3850146\ttotal: 4.63s\tremaining: 9.27s\n",
            "10:\tlearn: 0.3705101\ttotal: 5.09s\tremaining: 8.79s\n",
            "11:\tlearn: 0.3569554\ttotal: 5.56s\tremaining: 8.35s\n",
            "12:\tlearn: 0.3456476\ttotal: 6.03s\tremaining: 7.89s\n",
            "13:\tlearn: 0.3353030\ttotal: 6.48s\tremaining: 7.41s\n",
            "14:\tlearn: 0.3257841\ttotal: 6.95s\tremaining: 6.95s\n",
            "15:\tlearn: 0.3172805\ttotal: 7.4s\tremaining: 6.48s\n",
            "16:\tlearn: 0.3095772\ttotal: 7.86s\tremaining: 6.01s\n",
            "17:\tlearn: 0.3028831\ttotal: 8.31s\tremaining: 5.54s\n",
            "18:\tlearn: 0.2965992\ttotal: 8.77s\tremaining: 5.08s\n",
            "19:\tlearn: 0.2911961\ttotal: 9.22s\tremaining: 4.61s\n",
            "20:\tlearn: 0.2862081\ttotal: 9.68s\tremaining: 4.15s\n",
            "21:\tlearn: 0.2819730\ttotal: 10.1s\tremaining: 3.69s\n",
            "22:\tlearn: 0.2779496\ttotal: 10.6s\tremaining: 3.23s\n",
            "23:\tlearn: 0.2739391\ttotal: 11.1s\tremaining: 2.77s\n",
            "24:\tlearn: 0.2702659\ttotal: 11.5s\tremaining: 2.3s\n",
            "25:\tlearn: 0.2672410\ttotal: 12s\tremaining: 1.85s\n",
            "26:\tlearn: 0.2642547\ttotal: 12.5s\tremaining: 1.39s\n",
            "27:\tlearn: 0.2616154\ttotal: 12.9s\tremaining: 923ms\n",
            "28:\tlearn: 0.2592220\ttotal: 13.4s\tremaining: 461ms\n",
            "29:\tlearn: 0.2569005\ttotal: 13.8s\tremaining: 0us\n",
            "0:\tlearn: 0.5965594\ttotal: 502ms\tremaining: 14.6s\n",
            "1:\tlearn: 0.5200804\ttotal: 966ms\tremaining: 13.5s\n",
            "2:\tlearn: 0.4663469\ttotal: 1.41s\tremaining: 12.7s\n",
            "3:\tlearn: 0.4203658\ttotal: 1.89s\tremaining: 12.3s\n",
            "4:\tlearn: 0.3849730\ttotal: 2.35s\tremaining: 11.7s\n",
            "5:\tlearn: 0.3596690\ttotal: 2.83s\tremaining: 11.3s\n",
            "6:\tlearn: 0.3376438\ttotal: 3.29s\tremaining: 10.8s\n",
            "7:\tlearn: 0.3203592\ttotal: 3.79s\tremaining: 10.4s\n",
            "8:\tlearn: 0.3069018\ttotal: 4.32s\tremaining: 10.1s\n",
            "9:\tlearn: 0.2956713\ttotal: 4.87s\tremaining: 9.74s\n",
            "10:\tlearn: 0.2860272\ttotal: 5.33s\tremaining: 9.21s\n",
            "11:\tlearn: 0.2780371\ttotal: 5.8s\tremaining: 8.7s\n",
            "12:\tlearn: 0.2717872\ttotal: 6.26s\tremaining: 8.18s\n",
            "13:\tlearn: 0.2663009\ttotal: 6.72s\tremaining: 7.68s\n",
            "14:\tlearn: 0.2619727\ttotal: 7.19s\tremaining: 7.19s\n",
            "15:\tlearn: 0.2582333\ttotal: 7.65s\tremaining: 6.7s\n",
            "16:\tlearn: 0.2547217\ttotal: 8.13s\tremaining: 6.21s\n",
            "17:\tlearn: 0.2516479\ttotal: 8.59s\tremaining: 5.73s\n",
            "18:\tlearn: 0.2491860\ttotal: 9.1s\tremaining: 5.27s\n",
            "19:\tlearn: 0.2465172\ttotal: 9.57s\tremaining: 4.79s\n",
            "20:\tlearn: 0.2444944\ttotal: 10s\tremaining: 4.3s\n",
            "21:\tlearn: 0.2427055\ttotal: 10.5s\tremaining: 3.81s\n",
            "22:\tlearn: 0.2407572\ttotal: 10.9s\tremaining: 3.33s\n",
            "23:\tlearn: 0.2385005\ttotal: 11.4s\tremaining: 2.86s\n",
            "24:\tlearn: 0.2370453\ttotal: 11.9s\tremaining: 2.37s\n",
            "25:\tlearn: 0.2357283\ttotal: 12.3s\tremaining: 1.9s\n",
            "26:\tlearn: 0.2344104\ttotal: 12.8s\tremaining: 1.42s\n",
            "27:\tlearn: 0.2334128\ttotal: 13.3s\tremaining: 947ms\n",
            "28:\tlearn: 0.2322458\ttotal: 13.7s\tremaining: 472ms\n",
            "29:\tlearn: 0.2307504\ttotal: 14.2s\tremaining: 0us\n",
            "0:\tlearn: 0.5933676\ttotal: 502ms\tremaining: 14.6s\n",
            "1:\tlearn: 0.5174945\ttotal: 969ms\tremaining: 13.6s\n",
            "2:\tlearn: 0.4585334\ttotal: 1.42s\tremaining: 12.8s\n",
            "3:\tlearn: 0.4151269\ttotal: 1.89s\tremaining: 12.3s\n",
            "4:\tlearn: 0.3815212\ttotal: 2.34s\tremaining: 11.7s\n",
            "5:\tlearn: 0.3528088\ttotal: 2.79s\tremaining: 11.2s\n",
            "6:\tlearn: 0.3310343\ttotal: 3.25s\tremaining: 10.7s\n",
            "7:\tlearn: 0.3140380\ttotal: 3.7s\tremaining: 10.2s\n",
            "8:\tlearn: 0.3002885\ttotal: 4.15s\tremaining: 9.69s\n",
            "9:\tlearn: 0.2884225\ttotal: 4.6s\tremaining: 9.21s\n",
            "10:\tlearn: 0.2789684\ttotal: 5.06s\tremaining: 8.74s\n",
            "11:\tlearn: 0.2709481\ttotal: 5.52s\tremaining: 8.28s\n",
            "12:\tlearn: 0.2646406\ttotal: 6.04s\tremaining: 7.89s\n",
            "13:\tlearn: 0.2591425\ttotal: 6.51s\tremaining: 7.44s\n",
            "14:\tlearn: 0.2548964\ttotal: 6.97s\tremaining: 6.97s\n",
            "15:\tlearn: 0.2510070\ttotal: 7.43s\tremaining: 6.5s\n",
            "16:\tlearn: 0.2476028\ttotal: 7.87s\tremaining: 6.01s\n",
            "17:\tlearn: 0.2445893\ttotal: 8.31s\tremaining: 5.54s\n",
            "18:\tlearn: 0.2413947\ttotal: 8.77s\tremaining: 5.08s\n",
            "19:\tlearn: 0.2388948\ttotal: 9.24s\tremaining: 4.62s\n",
            "20:\tlearn: 0.2369583\ttotal: 9.7s\tremaining: 4.16s\n",
            "21:\tlearn: 0.2350071\ttotal: 10.2s\tremaining: 3.69s\n",
            "22:\tlearn: 0.2331594\ttotal: 10.6s\tremaining: 3.23s\n",
            "23:\tlearn: 0.2307170\ttotal: 11.1s\tremaining: 2.77s\n",
            "24:\tlearn: 0.2289749\ttotal: 11.5s\tremaining: 2.31s\n",
            "25:\tlearn: 0.2277897\ttotal: 12s\tremaining: 1.84s\n",
            "26:\tlearn: 0.2264420\ttotal: 12.4s\tremaining: 1.38s\n",
            "27:\tlearn: 0.2250020\ttotal: 12.9s\tremaining: 921ms\n",
            "28:\tlearn: 0.2238813\ttotal: 13.3s\tremaining: 460ms\n",
            "29:\tlearn: 0.2222303\ttotal: 13.8s\tremaining: 0us\n",
            "0:\tlearn: 0.6827647\ttotal: 489ms\tremaining: 24s\n",
            "1:\tlearn: 0.6726113\ttotal: 941ms\tremaining: 22.6s\n",
            "2:\tlearn: 0.6628526\ttotal: 1.48s\tremaining: 23.1s\n",
            "3:\tlearn: 0.6533814\ttotal: 1.93s\tremaining: 22.2s\n",
            "4:\tlearn: 0.6440124\ttotal: 2.38s\tremaining: 21.4s\n",
            "5:\tlearn: 0.6354139\ttotal: 2.85s\tremaining: 20.9s\n",
            "6:\tlearn: 0.6264807\ttotal: 3.37s\tremaining: 20.7s\n",
            "7:\tlearn: 0.6183248\ttotal: 3.8s\tremaining: 19.9s\n",
            "8:\tlearn: 0.6102880\ttotal: 4.25s\tremaining: 19.4s\n",
            "9:\tlearn: 0.6023618\ttotal: 4.68s\tremaining: 18.7s\n",
            "10:\tlearn: 0.5942370\ttotal: 5.14s\tremaining: 18.2s\n",
            "11:\tlearn: 0.5865347\ttotal: 5.59s\tremaining: 17.7s\n",
            "12:\tlearn: 0.5789471\ttotal: 6.04s\tremaining: 17.2s\n",
            "13:\tlearn: 0.5713752\ttotal: 6.51s\tremaining: 16.7s\n",
            "14:\tlearn: 0.5641348\ttotal: 6.94s\tremaining: 16.2s\n",
            "15:\tlearn: 0.5569201\ttotal: 7.4s\tremaining: 15.7s\n",
            "16:\tlearn: 0.5499296\ttotal: 7.86s\tremaining: 15.3s\n",
            "17:\tlearn: 0.5427490\ttotal: 8.31s\tremaining: 14.8s\n",
            "18:\tlearn: 0.5363235\ttotal: 8.75s\tremaining: 14.3s\n",
            "19:\tlearn: 0.5297518\ttotal: 9.22s\tremaining: 13.8s\n",
            "20:\tlearn: 0.5232298\ttotal: 9.71s\tremaining: 13.4s\n",
            "21:\tlearn: 0.5169315\ttotal: 10.2s\tremaining: 12.9s\n",
            "22:\tlearn: 0.5108712\ttotal: 10.6s\tremaining: 12.4s\n",
            "23:\tlearn: 0.5049601\ttotal: 11.1s\tremaining: 12s\n",
            "24:\tlearn: 0.4991076\ttotal: 11.5s\tremaining: 11.5s\n",
            "25:\tlearn: 0.4932320\ttotal: 12s\tremaining: 11s\n",
            "26:\tlearn: 0.4876339\ttotal: 12.4s\tremaining: 10.6s\n",
            "27:\tlearn: 0.4825346\ttotal: 12.9s\tremaining: 10.1s\n",
            "28:\tlearn: 0.4771306\ttotal: 13.4s\tremaining: 9.71s\n",
            "29:\tlearn: 0.4719937\ttotal: 13.9s\tremaining: 9.24s\n",
            "30:\tlearn: 0.4671615\ttotal: 14.3s\tremaining: 8.78s\n",
            "31:\tlearn: 0.4622126\ttotal: 14.8s\tremaining: 8.31s\n",
            "32:\tlearn: 0.4576420\ttotal: 15.2s\tremaining: 7.85s\n",
            "33:\tlearn: 0.4529155\ttotal: 15.7s\tremaining: 7.38s\n",
            "34:\tlearn: 0.4483330\ttotal: 16.1s\tremaining: 6.92s\n",
            "35:\tlearn: 0.4437985\ttotal: 16.6s\tremaining: 6.46s\n",
            "36:\tlearn: 0.4395341\ttotal: 17.1s\tremaining: 6s\n",
            "37:\tlearn: 0.4352871\ttotal: 17.5s\tremaining: 5.53s\n",
            "38:\tlearn: 0.4312531\ttotal: 18s\tremaining: 5.07s\n",
            "39:\tlearn: 0.4273106\ttotal: 18.4s\tremaining: 4.61s\n",
            "40:\tlearn: 0.4232516\ttotal: 18.9s\tremaining: 4.14s\n",
            "41:\tlearn: 0.4196250\ttotal: 19.3s\tremaining: 3.68s\n",
            "42:\tlearn: 0.4158703\ttotal: 19.8s\tremaining: 3.22s\n",
            "43:\tlearn: 0.4124267\ttotal: 20.3s\tremaining: 2.76s\n",
            "44:\tlearn: 0.4088535\ttotal: 20.7s\tremaining: 2.3s\n",
            "45:\tlearn: 0.4054484\ttotal: 21.2s\tremaining: 1.84s\n",
            "46:\tlearn: 0.4020790\ttotal: 21.6s\tremaining: 1.38s\n",
            "47:\tlearn: 0.3989030\ttotal: 22.1s\tremaining: 922ms\n",
            "48:\tlearn: 0.3958581\ttotal: 22.6s\tremaining: 461ms\n",
            "49:\tlearn: 0.3926355\ttotal: 23.1s\tremaining: 0us\n",
            "0:\tlearn: 0.6823729\ttotal: 555ms\tremaining: 27.2s\n",
            "1:\tlearn: 0.6721066\ttotal: 1.03s\tremaining: 24.8s\n",
            "2:\tlearn: 0.6623255\ttotal: 1.49s\tremaining: 23.3s\n",
            "3:\tlearn: 0.6524969\ttotal: 1.94s\tremaining: 22.3s\n",
            "4:\tlearn: 0.6435229\ttotal: 2.39s\tremaining: 21.5s\n",
            "5:\tlearn: 0.6343515\ttotal: 2.86s\tremaining: 21s\n",
            "6:\tlearn: 0.6253242\ttotal: 3.32s\tremaining: 20.4s\n",
            "7:\tlearn: 0.6167484\ttotal: 3.76s\tremaining: 19.7s\n",
            "8:\tlearn: 0.6087453\ttotal: 4.2s\tremaining: 19.1s\n",
            "9:\tlearn: 0.6000837\ttotal: 4.66s\tremaining: 18.6s\n",
            "10:\tlearn: 0.5919041\ttotal: 5.12s\tremaining: 18.1s\n",
            "11:\tlearn: 0.5840305\ttotal: 5.54s\tremaining: 17.6s\n",
            "12:\tlearn: 0.5759429\ttotal: 6s\tremaining: 17.1s\n",
            "13:\tlearn: 0.5684423\ttotal: 6.44s\tremaining: 16.6s\n",
            "14:\tlearn: 0.5612907\ttotal: 6.91s\tremaining: 16.1s\n",
            "15:\tlearn: 0.5540183\ttotal: 7.37s\tremaining: 15.7s\n",
            "16:\tlearn: 0.5466979\ttotal: 7.82s\tremaining: 15.2s\n",
            "17:\tlearn: 0.5398822\ttotal: 8.27s\tremaining: 14.7s\n",
            "18:\tlearn: 0.5329899\ttotal: 8.72s\tremaining: 14.2s\n",
            "19:\tlearn: 0.5267048\ttotal: 9.18s\tremaining: 13.8s\n",
            "20:\tlearn: 0.5205015\ttotal: 9.64s\tremaining: 13.3s\n",
            "21:\tlearn: 0.5142672\ttotal: 10.1s\tremaining: 12.8s\n",
            "22:\tlearn: 0.5080697\ttotal: 10.6s\tremaining: 12.4s\n",
            "23:\tlearn: 0.5020491\ttotal: 11s\tremaining: 12s\n",
            "24:\tlearn: 0.4960589\ttotal: 11.5s\tremaining: 11.5s\n",
            "25:\tlearn: 0.4903227\ttotal: 12s\tremaining: 11s\n",
            "26:\tlearn: 0.4850224\ttotal: 12.4s\tremaining: 10.6s\n",
            "27:\tlearn: 0.4795572\ttotal: 12.9s\tremaining: 10.1s\n",
            "28:\tlearn: 0.4741983\ttotal: 13.3s\tremaining: 9.66s\n",
            "29:\tlearn: 0.4690800\ttotal: 13.9s\tremaining: 9.24s\n",
            "30:\tlearn: 0.4639772\ttotal: 14.3s\tremaining: 8.79s\n",
            "31:\tlearn: 0.4588952\ttotal: 14.8s\tremaining: 8.33s\n",
            "32:\tlearn: 0.4543240\ttotal: 15.3s\tremaining: 7.89s\n",
            "33:\tlearn: 0.4496475\ttotal: 15.9s\tremaining: 7.47s\n",
            "34:\tlearn: 0.4450057\ttotal: 16.3s\tremaining: 7s\n",
            "35:\tlearn: 0.4405725\ttotal: 16.8s\tremaining: 6.53s\n",
            "36:\tlearn: 0.4362806\ttotal: 17.3s\tremaining: 6.06s\n",
            "37:\tlearn: 0.4319173\ttotal: 17.7s\tremaining: 5.6s\n",
            "38:\tlearn: 0.4278110\ttotal: 18.2s\tremaining: 5.13s\n",
            "39:\tlearn: 0.4238106\ttotal: 18.7s\tremaining: 4.66s\n",
            "40:\tlearn: 0.4198823\ttotal: 19.1s\tremaining: 4.19s\n",
            "41:\tlearn: 0.4159729\ttotal: 19.6s\tremaining: 3.73s\n",
            "42:\tlearn: 0.4122828\ttotal: 20s\tremaining: 3.26s\n",
            "43:\tlearn: 0.4087008\ttotal: 20.5s\tremaining: 2.8s\n",
            "44:\tlearn: 0.4051340\ttotal: 21s\tremaining: 2.33s\n",
            "45:\tlearn: 0.4017913\ttotal: 21.4s\tremaining: 1.86s\n",
            "46:\tlearn: 0.3984275\ttotal: 21.9s\tremaining: 1.4s\n",
            "47:\tlearn: 0.3951314\ttotal: 22.4s\tremaining: 932ms\n",
            "48:\tlearn: 0.3917639\ttotal: 22.8s\tremaining: 466ms\n",
            "49:\tlearn: 0.3887636\ttotal: 23.3s\tremaining: 0us\n",
            "0:\tlearn: 0.6428352\ttotal: 495ms\tremaining: 24.3s\n",
            "1:\tlearn: 0.5976184\ttotal: 960ms\tremaining: 23s\n",
            "2:\tlearn: 0.5590619\ttotal: 1.41s\tremaining: 22s\n",
            "3:\tlearn: 0.5251196\ttotal: 1.87s\tremaining: 21.5s\n",
            "4:\tlearn: 0.4940103\ttotal: 2.35s\tremaining: 21.1s\n",
            "5:\tlearn: 0.4683455\ttotal: 2.82s\tremaining: 20.7s\n",
            "6:\tlearn: 0.4444679\ttotal: 3.29s\tremaining: 20.2s\n",
            "7:\tlearn: 0.4239152\ttotal: 3.77s\tremaining: 19.8s\n",
            "8:\tlearn: 0.4056439\ttotal: 4.22s\tremaining: 19.2s\n",
            "9:\tlearn: 0.3890527\ttotal: 4.67s\tremaining: 18.7s\n",
            "10:\tlearn: 0.3738247\ttotal: 5.12s\tremaining: 18.2s\n",
            "11:\tlearn: 0.3609699\ttotal: 5.57s\tremaining: 17.6s\n",
            "12:\tlearn: 0.3495782\ttotal: 6.05s\tremaining: 17.2s\n",
            "13:\tlearn: 0.3395782\ttotal: 6.5s\tremaining: 16.7s\n",
            "14:\tlearn: 0.3303070\ttotal: 6.96s\tremaining: 16.2s\n",
            "15:\tlearn: 0.3220620\ttotal: 7.44s\tremaining: 15.8s\n",
            "16:\tlearn: 0.3147106\ttotal: 7.97s\tremaining: 15.5s\n",
            "17:\tlearn: 0.3077984\ttotal: 8.44s\tremaining: 15s\n",
            "18:\tlearn: 0.3016332\ttotal: 8.91s\tremaining: 14.5s\n",
            "19:\tlearn: 0.2959766\ttotal: 9.38s\tremaining: 14.1s\n",
            "20:\tlearn: 0.2909885\ttotal: 9.87s\tremaining: 13.6s\n",
            "21:\tlearn: 0.2864452\ttotal: 10.3s\tremaining: 13.2s\n",
            "22:\tlearn: 0.2825193\ttotal: 10.8s\tremaining: 12.7s\n",
            "23:\tlearn: 0.2789133\ttotal: 11.3s\tremaining: 12.2s\n",
            "24:\tlearn: 0.2754336\ttotal: 11.7s\tremaining: 11.7s\n",
            "25:\tlearn: 0.2723447\ttotal: 12.2s\tremaining: 11.3s\n",
            "26:\tlearn: 0.2697045\ttotal: 12.7s\tremaining: 10.8s\n",
            "27:\tlearn: 0.2672101\ttotal: 13.1s\tremaining: 10.3s\n",
            "28:\tlearn: 0.2649079\ttotal: 13.6s\tremaining: 9.81s\n",
            "29:\tlearn: 0.2627233\ttotal: 14s\tremaining: 9.33s\n",
            "30:\tlearn: 0.2605618\ttotal: 14.5s\tremaining: 8.86s\n",
            "31:\tlearn: 0.2584192\ttotal: 14.9s\tremaining: 8.38s\n",
            "32:\tlearn: 0.2567392\ttotal: 15.4s\tremaining: 7.91s\n",
            "33:\tlearn: 0.2551391\ttotal: 15.8s\tremaining: 7.44s\n",
            "34:\tlearn: 0.2534529\ttotal: 16.3s\tremaining: 6.96s\n",
            "35:\tlearn: 0.2521347\ttotal: 16.7s\tremaining: 6.5s\n",
            "36:\tlearn: 0.2507683\ttotal: 17.2s\tremaining: 6.03s\n",
            "37:\tlearn: 0.2491303\ttotal: 17.7s\tremaining: 5.59s\n",
            "38:\tlearn: 0.2479240\ttotal: 18.2s\tremaining: 5.12s\n",
            "39:\tlearn: 0.2464255\ttotal: 18.6s\tremaining: 4.66s\n",
            "40:\tlearn: 0.2453432\ttotal: 19.1s\tremaining: 4.19s\n",
            "41:\tlearn: 0.2443930\ttotal: 19.5s\tremaining: 3.72s\n",
            "42:\tlearn: 0.2433931\ttotal: 20s\tremaining: 3.25s\n",
            "43:\tlearn: 0.2425317\ttotal: 20.4s\tremaining: 2.78s\n",
            "44:\tlearn: 0.2416041\ttotal: 20.9s\tremaining: 2.32s\n",
            "45:\tlearn: 0.2408915\ttotal: 21.3s\tremaining: 1.85s\n",
            "46:\tlearn: 0.2399124\ttotal: 21.8s\tremaining: 1.39s\n",
            "47:\tlearn: 0.2391492\ttotal: 22.2s\tremaining: 926ms\n",
            "48:\tlearn: 0.2381798\ttotal: 22.7s\tremaining: 463ms\n",
            "49:\tlearn: 0.2374715\ttotal: 23.1s\tremaining: 0us\n",
            "0:\tlearn: 0.6412660\ttotal: 519ms\tremaining: 25.5s\n",
            "1:\tlearn: 0.5961542\ttotal: 987ms\tremaining: 23.7s\n",
            "2:\tlearn: 0.5573043\ttotal: 1.46s\tremaining: 22.9s\n",
            "3:\tlearn: 0.5223588\ttotal: 1.91s\tremaining: 22s\n",
            "4:\tlearn: 0.4918476\ttotal: 2.38s\tremaining: 21.4s\n",
            "5:\tlearn: 0.4655580\ttotal: 2.83s\tremaining: 20.8s\n",
            "6:\tlearn: 0.4416406\ttotal: 3.29s\tremaining: 20.2s\n",
            "7:\tlearn: 0.4205330\ttotal: 3.75s\tremaining: 19.7s\n",
            "8:\tlearn: 0.4017628\ttotal: 4.21s\tremaining: 19.2s\n",
            "9:\tlearn: 0.3850146\ttotal: 4.72s\tremaining: 18.9s\n",
            "10:\tlearn: 0.3705101\ttotal: 5.2s\tremaining: 18.4s\n",
            "11:\tlearn: 0.3569554\ttotal: 5.67s\tremaining: 18s\n",
            "12:\tlearn: 0.3456476\ttotal: 6.16s\tremaining: 17.5s\n",
            "13:\tlearn: 0.3353030\ttotal: 6.64s\tremaining: 17.1s\n",
            "14:\tlearn: 0.3257841\ttotal: 7.09s\tremaining: 16.6s\n",
            "15:\tlearn: 0.3172805\ttotal: 7.55s\tremaining: 16s\n",
            "16:\tlearn: 0.3095772\ttotal: 8.03s\tremaining: 15.6s\n",
            "17:\tlearn: 0.3028831\ttotal: 8.5s\tremaining: 15.1s\n",
            "18:\tlearn: 0.2965992\ttotal: 8.97s\tremaining: 14.6s\n",
            "19:\tlearn: 0.2911961\ttotal: 9.42s\tremaining: 14.1s\n",
            "20:\tlearn: 0.2862081\ttotal: 9.87s\tremaining: 13.6s\n",
            "21:\tlearn: 0.2819730\ttotal: 10.3s\tremaining: 13.2s\n",
            "22:\tlearn: 0.2779496\ttotal: 10.8s\tremaining: 12.7s\n",
            "23:\tlearn: 0.2739391\ttotal: 11.3s\tremaining: 12.3s\n",
            "24:\tlearn: 0.2702659\ttotal: 11.8s\tremaining: 11.8s\n",
            "25:\tlearn: 0.2672410\ttotal: 12.2s\tremaining: 11.3s\n",
            "26:\tlearn: 0.2642547\ttotal: 12.7s\tremaining: 10.8s\n",
            "27:\tlearn: 0.2616154\ttotal: 13.1s\tremaining: 10.3s\n",
            "28:\tlearn: 0.2592220\ttotal: 13.6s\tremaining: 9.85s\n",
            "29:\tlearn: 0.2569005\ttotal: 14s\tremaining: 9.36s\n",
            "30:\tlearn: 0.2547525\ttotal: 14.6s\tremaining: 8.92s\n",
            "31:\tlearn: 0.2527979\ttotal: 15s\tremaining: 8.44s\n",
            "32:\tlearn: 0.2508057\ttotal: 15.5s\tremaining: 7.96s\n",
            "33:\tlearn: 0.2488907\ttotal: 15.9s\tremaining: 7.49s\n",
            "34:\tlearn: 0.2474248\ttotal: 16.4s\tremaining: 7.01s\n",
            "35:\tlearn: 0.2459917\ttotal: 16.8s\tremaining: 6.54s\n",
            "36:\tlearn: 0.2445599\ttotal: 17.3s\tremaining: 6.07s\n",
            "37:\tlearn: 0.2432448\ttotal: 17.7s\tremaining: 5.6s\n",
            "38:\tlearn: 0.2420734\ttotal: 18.2s\tremaining: 5.14s\n",
            "39:\tlearn: 0.2409668\ttotal: 18.7s\tremaining: 4.67s\n",
            "40:\tlearn: 0.2399802\ttotal: 19.1s\tremaining: 4.2s\n",
            "41:\tlearn: 0.2388861\ttotal: 19.6s\tremaining: 3.73s\n",
            "42:\tlearn: 0.2378739\ttotal: 20s\tremaining: 3.26s\n",
            "43:\tlearn: 0.2363125\ttotal: 20.5s\tremaining: 2.8s\n",
            "44:\tlearn: 0.2352926\ttotal: 21s\tremaining: 2.33s\n",
            "45:\tlearn: 0.2344930\ttotal: 21.5s\tremaining: 1.87s\n",
            "46:\tlearn: 0.2336511\ttotal: 21.9s\tremaining: 1.4s\n",
            "47:\tlearn: 0.2327851\ttotal: 22.4s\tremaining: 933ms\n",
            "48:\tlearn: 0.2314993\ttotal: 22.8s\tremaining: 466ms\n",
            "49:\tlearn: 0.2304002\ttotal: 23.3s\tremaining: 0us\n",
            "0:\tlearn: 0.5965594\ttotal: 504ms\tremaining: 24.7s\n",
            "1:\tlearn: 0.5200804\ttotal: 958ms\tremaining: 23s\n",
            "2:\tlearn: 0.4663469\ttotal: 1.4s\tremaining: 21.9s\n",
            "3:\tlearn: 0.4203658\ttotal: 1.89s\tremaining: 21.8s\n",
            "4:\tlearn: 0.3849730\ttotal: 2.37s\tremaining: 21.3s\n",
            "5:\tlearn: 0.3596690\ttotal: 2.84s\tremaining: 20.8s\n",
            "6:\tlearn: 0.3376438\ttotal: 3.29s\tremaining: 20.2s\n",
            "7:\tlearn: 0.3203592\ttotal: 3.76s\tremaining: 19.7s\n",
            "8:\tlearn: 0.3069018\ttotal: 4.22s\tremaining: 19.2s\n",
            "9:\tlearn: 0.2956713\ttotal: 4.69s\tremaining: 18.8s\n",
            "10:\tlearn: 0.2860272\ttotal: 5.15s\tremaining: 18.3s\n",
            "11:\tlearn: 0.2780371\ttotal: 5.66s\tremaining: 17.9s\n",
            "12:\tlearn: 0.2717872\ttotal: 6.11s\tremaining: 17.4s\n",
            "13:\tlearn: 0.2663009\ttotal: 6.59s\tremaining: 16.9s\n",
            "14:\tlearn: 0.2619727\ttotal: 7.08s\tremaining: 16.5s\n",
            "15:\tlearn: 0.2582333\ttotal: 7.65s\tremaining: 16.3s\n",
            "16:\tlearn: 0.2547217\ttotal: 8.12s\tremaining: 15.8s\n",
            "17:\tlearn: 0.2516479\ttotal: 8.58s\tremaining: 15.3s\n",
            "18:\tlearn: 0.2491860\ttotal: 9.03s\tremaining: 14.7s\n",
            "19:\tlearn: 0.2465172\ttotal: 9.49s\tremaining: 14.2s\n",
            "20:\tlearn: 0.2444944\ttotal: 9.98s\tremaining: 13.8s\n",
            "21:\tlearn: 0.2427055\ttotal: 10.4s\tremaining: 13.3s\n",
            "22:\tlearn: 0.2407572\ttotal: 10.9s\tremaining: 12.8s\n",
            "23:\tlearn: 0.2385005\ttotal: 11.3s\tremaining: 12.3s\n",
            "24:\tlearn: 0.2370453\ttotal: 11.8s\tremaining: 11.8s\n",
            "25:\tlearn: 0.2357283\ttotal: 12.3s\tremaining: 11.3s\n",
            "26:\tlearn: 0.2344104\ttotal: 12.8s\tremaining: 10.9s\n",
            "27:\tlearn: 0.2334128\ttotal: 13.2s\tremaining: 10.4s\n",
            "28:\tlearn: 0.2322458\ttotal: 13.7s\tremaining: 9.9s\n",
            "29:\tlearn: 0.2307504\ttotal: 14.1s\tremaining: 9.43s\n",
            "30:\tlearn: 0.2296925\ttotal: 14.6s\tremaining: 8.95s\n",
            "31:\tlearn: 0.2286617\ttotal: 15s\tremaining: 8.46s\n",
            "32:\tlearn: 0.2274226\ttotal: 15.5s\tremaining: 7.99s\n",
            "33:\tlearn: 0.2263618\ttotal: 16s\tremaining: 7.51s\n",
            "34:\tlearn: 0.2255501\ttotal: 16.4s\tremaining: 7.05s\n",
            "35:\tlearn: 0.2247633\ttotal: 16.9s\tremaining: 6.58s\n",
            "36:\tlearn: 0.2238233\ttotal: 17.4s\tremaining: 6.1s\n",
            "37:\tlearn: 0.2229491\ttotal: 17.8s\tremaining: 5.63s\n",
            "38:\tlearn: 0.2220530\ttotal: 18.3s\tremaining: 5.16s\n",
            "39:\tlearn: 0.2213593\ttotal: 18.7s\tremaining: 4.68s\n",
            "40:\tlearn: 0.2201000\ttotal: 19.2s\tremaining: 4.21s\n",
            "41:\tlearn: 0.2194459\ttotal: 19.7s\tremaining: 3.74s\n",
            "42:\tlearn: 0.2187227\ttotal: 20.1s\tremaining: 3.27s\n",
            "43:\tlearn: 0.2181121\ttotal: 20.6s\tremaining: 2.81s\n",
            "44:\tlearn: 0.2173191\ttotal: 21s\tremaining: 2.33s\n",
            "45:\tlearn: 0.2167155\ttotal: 21.5s\tremaining: 1.86s\n",
            "46:\tlearn: 0.2159123\ttotal: 22s\tremaining: 1.4s\n",
            "47:\tlearn: 0.2153238\ttotal: 22.4s\tremaining: 935ms\n",
            "48:\tlearn: 0.2145229\ttotal: 22.9s\tremaining: 467ms\n",
            "49:\tlearn: 0.2135854\ttotal: 23.3s\tremaining: 0us\n",
            "0:\tlearn: 0.5933676\ttotal: 512ms\tremaining: 25.1s\n",
            "1:\tlearn: 0.5174945\ttotal: 965ms\tremaining: 23.2s\n",
            "2:\tlearn: 0.4585334\ttotal: 1.43s\tremaining: 22.4s\n",
            "3:\tlearn: 0.4151269\ttotal: 1.89s\tremaining: 21.7s\n",
            "4:\tlearn: 0.3815212\ttotal: 2.34s\tremaining: 21s\n",
            "5:\tlearn: 0.3528088\ttotal: 2.83s\tremaining: 20.8s\n",
            "6:\tlearn: 0.3310343\ttotal: 3.32s\tremaining: 20.4s\n",
            "7:\tlearn: 0.3140380\ttotal: 3.78s\tremaining: 19.8s\n",
            "8:\tlearn: 0.3002885\ttotal: 4.23s\tremaining: 19.3s\n",
            "9:\tlearn: 0.2884225\ttotal: 4.7s\tremaining: 18.8s\n",
            "10:\tlearn: 0.2789684\ttotal: 5.2s\tremaining: 18.4s\n",
            "11:\tlearn: 0.2709481\ttotal: 5.68s\tremaining: 18s\n",
            "12:\tlearn: 0.2646406\ttotal: 6.19s\tremaining: 17.6s\n",
            "13:\tlearn: 0.2591425\ttotal: 6.67s\tremaining: 17.1s\n",
            "14:\tlearn: 0.2548964\ttotal: 7.13s\tremaining: 16.6s\n",
            "15:\tlearn: 0.2510070\ttotal: 7.61s\tremaining: 16.2s\n",
            "16:\tlearn: 0.2476028\ttotal: 8.06s\tremaining: 15.6s\n",
            "17:\tlearn: 0.2445893\ttotal: 8.53s\tremaining: 15.2s\n",
            "18:\tlearn: 0.2413947\ttotal: 9.02s\tremaining: 14.7s\n",
            "19:\tlearn: 0.2388948\ttotal: 9.52s\tremaining: 14.3s\n",
            "20:\tlearn: 0.2369583\ttotal: 9.97s\tremaining: 13.8s\n",
            "21:\tlearn: 0.2350071\ttotal: 10.4s\tremaining: 13.3s\n",
            "22:\tlearn: 0.2331594\ttotal: 10.9s\tremaining: 12.8s\n",
            "23:\tlearn: 0.2307170\ttotal: 11.4s\tremaining: 12.3s\n",
            "24:\tlearn: 0.2289749\ttotal: 11.8s\tremaining: 11.8s\n",
            "25:\tlearn: 0.2277897\ttotal: 12.3s\tremaining: 11.3s\n",
            "26:\tlearn: 0.2264420\ttotal: 12.8s\tremaining: 10.9s\n",
            "27:\tlearn: 0.2250020\ttotal: 13.2s\tremaining: 10.4s\n",
            "28:\tlearn: 0.2238813\ttotal: 13.7s\tremaining: 9.93s\n",
            "29:\tlearn: 0.2222303\ttotal: 14.2s\tremaining: 9.45s\n",
            "30:\tlearn: 0.2207957\ttotal: 14.7s\tremaining: 8.98s\n",
            "31:\tlearn: 0.2192692\ttotal: 15.1s\tremaining: 8.5s\n",
            "32:\tlearn: 0.2184036\ttotal: 15.6s\tremaining: 8.04s\n",
            "33:\tlearn: 0.2175572\ttotal: 16.1s\tremaining: 7.59s\n",
            "34:\tlearn: 0.2166055\ttotal: 16.6s\tremaining: 7.12s\n",
            "35:\tlearn: 0.2159476\ttotal: 17.1s\tremaining: 6.64s\n",
            "36:\tlearn: 0.2152904\ttotal: 17.5s\tremaining: 6.15s\n",
            "37:\tlearn: 0.2141410\ttotal: 18s\tremaining: 5.69s\n",
            "38:\tlearn: 0.2132542\ttotal: 18.5s\tremaining: 5.21s\n",
            "39:\tlearn: 0.2123754\ttotal: 18.9s\tremaining: 4.73s\n",
            "40:\tlearn: 0.2111109\ttotal: 19.5s\tremaining: 4.27s\n",
            "41:\tlearn: 0.2104018\ttotal: 19.9s\tremaining: 3.79s\n",
            "42:\tlearn: 0.2096838\ttotal: 20.4s\tremaining: 3.31s\n",
            "43:\tlearn: 0.2087116\ttotal: 20.8s\tremaining: 2.84s\n",
            "44:\tlearn: 0.2072990\ttotal: 21.3s\tremaining: 2.36s\n",
            "45:\tlearn: 0.2066035\ttotal: 21.7s\tremaining: 1.89s\n",
            "46:\tlearn: 0.2060016\ttotal: 22.2s\tremaining: 1.42s\n",
            "47:\tlearn: 0.2052870\ttotal: 22.7s\tremaining: 945ms\n",
            "48:\tlearn: 0.2043066\ttotal: 23.2s\tremaining: 473ms\n",
            "49:\tlearn: 0.2037521\ttotal: 23.6s\tremaining: 0us\n",
            "0:\tlearn: 0.6827647\ttotal: 516ms\tremaining: 51.1s\n",
            "1:\tlearn: 0.6726113\ttotal: 966ms\tremaining: 47.4s\n",
            "2:\tlearn: 0.6628526\ttotal: 1.41s\tremaining: 45.7s\n",
            "3:\tlearn: 0.6533814\ttotal: 1.9s\tremaining: 45.6s\n",
            "4:\tlearn: 0.6440124\ttotal: 2.39s\tremaining: 45.4s\n",
            "5:\tlearn: 0.6354139\ttotal: 2.86s\tremaining: 44.8s\n",
            "6:\tlearn: 0.6264807\ttotal: 3.33s\tremaining: 44.3s\n",
            "7:\tlearn: 0.6183248\ttotal: 3.79s\tremaining: 43.6s\n",
            "8:\tlearn: 0.6102880\ttotal: 4.24s\tremaining: 42.9s\n",
            "9:\tlearn: 0.6023618\ttotal: 4.68s\tremaining: 42.1s\n",
            "10:\tlearn: 0.5942370\ttotal: 5.15s\tremaining: 41.7s\n",
            "11:\tlearn: 0.5865347\ttotal: 5.62s\tremaining: 41.2s\n",
            "12:\tlearn: 0.5789471\ttotal: 6.15s\tremaining: 41.2s\n",
            "13:\tlearn: 0.5713752\ttotal: 6.6s\tremaining: 40.5s\n",
            "14:\tlearn: 0.5641348\ttotal: 7.06s\tremaining: 40s\n",
            "15:\tlearn: 0.5569201\ttotal: 7.54s\tremaining: 39.6s\n",
            "16:\tlearn: 0.5499296\ttotal: 8.01s\tremaining: 39.1s\n",
            "17:\tlearn: 0.5427490\ttotal: 8.48s\tremaining: 38.6s\n",
            "18:\tlearn: 0.5363235\ttotal: 8.95s\tremaining: 38.2s\n",
            "19:\tlearn: 0.5297518\ttotal: 9.46s\tremaining: 37.8s\n",
            "20:\tlearn: 0.5232298\ttotal: 9.95s\tremaining: 37.4s\n",
            "21:\tlearn: 0.5169315\ttotal: 10.4s\tremaining: 37s\n",
            "22:\tlearn: 0.5108712\ttotal: 10.9s\tremaining: 36.5s\n",
            "23:\tlearn: 0.5049601\ttotal: 11.4s\tremaining: 36s\n",
            "24:\tlearn: 0.4991076\ttotal: 11.9s\tremaining: 35.6s\n",
            "25:\tlearn: 0.4932320\ttotal: 12.3s\tremaining: 35.1s\n",
            "26:\tlearn: 0.4876339\ttotal: 12.8s\tremaining: 34.6s\n",
            "27:\tlearn: 0.4825346\ttotal: 13.3s\tremaining: 34.1s\n",
            "28:\tlearn: 0.4771306\ttotal: 13.7s\tremaining: 33.6s\n",
            "29:\tlearn: 0.4719937\ttotal: 14.2s\tremaining: 33.2s\n",
            "30:\tlearn: 0.4671615\ttotal: 14.7s\tremaining: 32.7s\n",
            "31:\tlearn: 0.4622126\ttotal: 15.2s\tremaining: 32.2s\n",
            "32:\tlearn: 0.4576420\ttotal: 15.6s\tremaining: 31.7s\n",
            "33:\tlearn: 0.4529155\ttotal: 16.1s\tremaining: 31.4s\n",
            "34:\tlearn: 0.4483330\ttotal: 16.6s\tremaining: 30.9s\n",
            "35:\tlearn: 0.4437985\ttotal: 17.1s\tremaining: 30.4s\n",
            "36:\tlearn: 0.4395341\ttotal: 17.6s\tremaining: 29.9s\n",
            "37:\tlearn: 0.4352871\ttotal: 18s\tremaining: 29.4s\n",
            "38:\tlearn: 0.4312531\ttotal: 18.5s\tremaining: 28.9s\n",
            "39:\tlearn: 0.4273106\ttotal: 19s\tremaining: 28.5s\n",
            "40:\tlearn: 0.4232516\ttotal: 19.5s\tremaining: 28s\n",
            "41:\tlearn: 0.4196250\ttotal: 19.9s\tremaining: 27.5s\n",
            "42:\tlearn: 0.4158703\ttotal: 20.4s\tremaining: 27.1s\n",
            "43:\tlearn: 0.4124267\ttotal: 20.9s\tremaining: 26.6s\n",
            "44:\tlearn: 0.4088535\ttotal: 21.4s\tremaining: 26.1s\n",
            "45:\tlearn: 0.4054484\ttotal: 21.8s\tremaining: 25.6s\n",
            "46:\tlearn: 0.4020790\ttotal: 22.3s\tremaining: 25.1s\n",
            "47:\tlearn: 0.3989030\ttotal: 22.7s\tremaining: 24.6s\n",
            "48:\tlearn: 0.3958581\ttotal: 23.2s\tremaining: 24.2s\n",
            "49:\tlearn: 0.3926355\ttotal: 23.7s\tremaining: 23.7s\n",
            "50:\tlearn: 0.3895074\ttotal: 24.1s\tremaining: 23.2s\n",
            "51:\tlearn: 0.3863943\ttotal: 24.6s\tremaining: 22.7s\n",
            "52:\tlearn: 0.3833900\ttotal: 25.1s\tremaining: 22.2s\n",
            "53:\tlearn: 0.3804954\ttotal: 25.5s\tremaining: 21.8s\n",
            "54:\tlearn: 0.3777194\ttotal: 26.1s\tremaining: 21.3s\n",
            "55:\tlearn: 0.3750612\ttotal: 26.5s\tremaining: 20.8s\n",
            "56:\tlearn: 0.3723897\ttotal: 27s\tremaining: 20.4s\n",
            "57:\tlearn: 0.3696378\ttotal: 27.5s\tremaining: 19.9s\n",
            "58:\tlearn: 0.3671429\ttotal: 28s\tremaining: 19.4s\n",
            "59:\tlearn: 0.3646647\ttotal: 28.4s\tremaining: 19s\n",
            "60:\tlearn: 0.3622510\ttotal: 28.9s\tremaining: 18.5s\n",
            "61:\tlearn: 0.3599099\ttotal: 29.4s\tremaining: 18s\n",
            "62:\tlearn: 0.3575313\ttotal: 29.9s\tremaining: 17.6s\n",
            "63:\tlearn: 0.3551890\ttotal: 30.4s\tremaining: 17.1s\n",
            "64:\tlearn: 0.3529336\ttotal: 30.9s\tremaining: 16.6s\n",
            "65:\tlearn: 0.3508255\ttotal: 31.4s\tremaining: 16.2s\n",
            "66:\tlearn: 0.3485908\ttotal: 31.9s\tremaining: 15.7s\n",
            "67:\tlearn: 0.3465190\ttotal: 32.4s\tremaining: 15.2s\n",
            "68:\tlearn: 0.3445255\ttotal: 32.8s\tremaining: 14.8s\n",
            "69:\tlearn: 0.3424661\ttotal: 33.3s\tremaining: 14.3s\n",
            "70:\tlearn: 0.3405586\ttotal: 33.8s\tremaining: 13.8s\n",
            "71:\tlearn: 0.3385826\ttotal: 34.2s\tremaining: 13.3s\n",
            "72:\tlearn: 0.3366373\ttotal: 34.7s\tremaining: 12.8s\n",
            "73:\tlearn: 0.3348475\ttotal: 35.1s\tremaining: 12.3s\n",
            "74:\tlearn: 0.3331087\ttotal: 35.7s\tremaining: 11.9s\n",
            "75:\tlearn: 0.3312850\ttotal: 36.2s\tremaining: 11.4s\n",
            "76:\tlearn: 0.3295122\ttotal: 36.6s\tremaining: 10.9s\n",
            "77:\tlearn: 0.3278457\ttotal: 37.1s\tremaining: 10.5s\n",
            "78:\tlearn: 0.3262208\ttotal: 37.6s\tremaining: 10s\n",
            "79:\tlearn: 0.3245292\ttotal: 38.1s\tremaining: 9.53s\n",
            "80:\tlearn: 0.3229356\ttotal: 38.6s\tremaining: 9.06s\n",
            "81:\tlearn: 0.3214145\ttotal: 39.1s\tremaining: 8.58s\n",
            "82:\tlearn: 0.3198650\ttotal: 39.6s\tremaining: 8.11s\n",
            "83:\tlearn: 0.3183875\ttotal: 40.1s\tremaining: 7.63s\n",
            "84:\tlearn: 0.3169743\ttotal: 40.6s\tremaining: 7.16s\n",
            "85:\tlearn: 0.3155278\ttotal: 41.1s\tremaining: 6.7s\n",
            "86:\tlearn: 0.3140993\ttotal: 41.7s\tremaining: 6.23s\n",
            "87:\tlearn: 0.3127679\ttotal: 42.2s\tremaining: 5.75s\n",
            "88:\tlearn: 0.3113805\ttotal: 42.7s\tremaining: 5.27s\n",
            "89:\tlearn: 0.3100380\ttotal: 43.1s\tremaining: 4.79s\n",
            "90:\tlearn: 0.3087791\ttotal: 43.6s\tremaining: 4.31s\n",
            "91:\tlearn: 0.3075560\ttotal: 44.1s\tremaining: 3.83s\n",
            "92:\tlearn: 0.3063445\ttotal: 44.6s\tremaining: 3.35s\n",
            "93:\tlearn: 0.3050860\ttotal: 45s\tremaining: 2.87s\n",
            "94:\tlearn: 0.3039409\ttotal: 45.5s\tremaining: 2.4s\n",
            "95:\tlearn: 0.3027989\ttotal: 46.1s\tremaining: 1.92s\n",
            "96:\tlearn: 0.3016546\ttotal: 46.6s\tremaining: 1.44s\n",
            "97:\tlearn: 0.3005640\ttotal: 47.1s\tremaining: 960ms\n",
            "98:\tlearn: 0.2994964\ttotal: 47.5s\tremaining: 480ms\n",
            "99:\tlearn: 0.2984660\ttotal: 48s\tremaining: 0us\n",
            "0:\tlearn: 0.6823729\ttotal: 597ms\tremaining: 59.1s\n",
            "1:\tlearn: 0.6721066\ttotal: 1.15s\tremaining: 56.2s\n",
            "2:\tlearn: 0.6623255\ttotal: 1.68s\tremaining: 54.3s\n",
            "3:\tlearn: 0.6524969\ttotal: 2.2s\tremaining: 52.7s\n",
            "4:\tlearn: 0.6435229\ttotal: 2.68s\tremaining: 50.9s\n",
            "5:\tlearn: 0.6343515\ttotal: 3.18s\tremaining: 49.8s\n",
            "6:\tlearn: 0.6253242\ttotal: 3.68s\tremaining: 48.9s\n",
            "7:\tlearn: 0.6167484\ttotal: 4.14s\tremaining: 47.6s\n",
            "8:\tlearn: 0.6087453\ttotal: 4.6s\tremaining: 46.5s\n",
            "9:\tlearn: 0.6000837\ttotal: 5.07s\tremaining: 45.7s\n",
            "10:\tlearn: 0.5919041\ttotal: 5.54s\tremaining: 44.9s\n",
            "11:\tlearn: 0.5840305\ttotal: 6s\tremaining: 44s\n",
            "12:\tlearn: 0.5759429\ttotal: 6.47s\tremaining: 43.3s\n",
            "13:\tlearn: 0.5684423\ttotal: 6.94s\tremaining: 42.6s\n",
            "14:\tlearn: 0.5612907\ttotal: 7.47s\tremaining: 42.3s\n",
            "15:\tlearn: 0.5540183\ttotal: 7.94s\tremaining: 41.7s\n",
            "16:\tlearn: 0.5466979\ttotal: 8.4s\tremaining: 41s\n",
            "17:\tlearn: 0.5398822\ttotal: 8.88s\tremaining: 40.5s\n",
            "18:\tlearn: 0.5329899\ttotal: 9.36s\tremaining: 39.9s\n",
            "19:\tlearn: 0.5267048\ttotal: 9.84s\tremaining: 39.4s\n",
            "20:\tlearn: 0.5205015\ttotal: 10.3s\tremaining: 38.8s\n",
            "21:\tlearn: 0.5142672\ttotal: 10.8s\tremaining: 38.3s\n",
            "22:\tlearn: 0.5080697\ttotal: 11.3s\tremaining: 37.7s\n",
            "23:\tlearn: 0.5020491\ttotal: 11.8s\tremaining: 37.3s\n",
            "24:\tlearn: 0.4960589\ttotal: 12.3s\tremaining: 36.8s\n",
            "25:\tlearn: 0.4903227\ttotal: 12.7s\tremaining: 36.2s\n",
            "26:\tlearn: 0.4850224\ttotal: 13.2s\tremaining: 35.7s\n",
            "27:\tlearn: 0.4795572\ttotal: 13.7s\tremaining: 35.2s\n",
            "28:\tlearn: 0.4741983\ttotal: 14.2s\tremaining: 34.7s\n",
            "29:\tlearn: 0.4690800\ttotal: 14.6s\tremaining: 34.1s\n",
            "30:\tlearn: 0.4639772\ttotal: 15.1s\tremaining: 33.6s\n",
            "31:\tlearn: 0.4588952\ttotal: 15.6s\tremaining: 33.1s\n",
            "32:\tlearn: 0.4543240\ttotal: 16s\tremaining: 32.5s\n",
            "33:\tlearn: 0.4496475\ttotal: 16.5s\tremaining: 32s\n",
            "34:\tlearn: 0.4450057\ttotal: 17s\tremaining: 31.5s\n",
            "35:\tlearn: 0.4405725\ttotal: 17.5s\tremaining: 31s\n",
            "36:\tlearn: 0.4362806\ttotal: 17.9s\tremaining: 30.5s\n",
            "37:\tlearn: 0.4319173\ttotal: 18.4s\tremaining: 30s\n",
            "38:\tlearn: 0.4278110\ttotal: 18.8s\tremaining: 29.5s\n",
            "39:\tlearn: 0.4238106\ttotal: 19.3s\tremaining: 29s\n",
            "40:\tlearn: 0.4198823\ttotal: 19.8s\tremaining: 28.5s\n",
            "41:\tlearn: 0.4159729\ttotal: 20.2s\tremaining: 27.9s\n",
            "42:\tlearn: 0.4122828\ttotal: 20.7s\tremaining: 27.4s\n",
            "43:\tlearn: 0.4087008\ttotal: 21.2s\tremaining: 26.9s\n",
            "44:\tlearn: 0.4051340\ttotal: 21.6s\tremaining: 26.4s\n",
            "45:\tlearn: 0.4017913\ttotal: 22.1s\tremaining: 25.9s\n",
            "46:\tlearn: 0.3984275\ttotal: 22.6s\tremaining: 25.5s\n",
            "47:\tlearn: 0.3951314\ttotal: 23s\tremaining: 24.9s\n",
            "48:\tlearn: 0.3917639\ttotal: 23.5s\tremaining: 24.5s\n",
            "49:\tlearn: 0.3887636\ttotal: 24s\tremaining: 24s\n",
            "50:\tlearn: 0.3855594\ttotal: 24.4s\tremaining: 23.5s\n",
            "51:\tlearn: 0.3825257\ttotal: 24.9s\tremaining: 23s\n",
            "52:\tlearn: 0.3795673\ttotal: 25.3s\tremaining: 22.5s\n",
            "53:\tlearn: 0.3767813\ttotal: 25.8s\tremaining: 22s\n",
            "54:\tlearn: 0.3739606\ttotal: 26.3s\tremaining: 21.5s\n",
            "55:\tlearn: 0.3711577\ttotal: 26.7s\tremaining: 21s\n",
            "56:\tlearn: 0.3684806\ttotal: 27.2s\tremaining: 20.5s\n",
            "57:\tlearn: 0.3658148\ttotal: 27.7s\tremaining: 20.1s\n",
            "58:\tlearn: 0.3632764\ttotal: 28.2s\tremaining: 19.6s\n",
            "59:\tlearn: 0.3608702\ttotal: 28.6s\tremaining: 19.1s\n",
            "60:\tlearn: 0.3584855\ttotal: 29.1s\tremaining: 18.6s\n",
            "61:\tlearn: 0.3560064\ttotal: 29.6s\tremaining: 18.1s\n",
            "62:\tlearn: 0.3537603\ttotal: 30s\tremaining: 17.6s\n",
            "63:\tlearn: 0.3514128\ttotal: 30.5s\tremaining: 17.2s\n",
            "64:\tlearn: 0.3491727\ttotal: 31s\tremaining: 16.7s\n",
            "65:\tlearn: 0.3469751\ttotal: 31.5s\tremaining: 16.2s\n",
            "66:\tlearn: 0.3448011\ttotal: 32s\tremaining: 15.7s\n",
            "67:\tlearn: 0.3427029\ttotal: 32.4s\tremaining: 15.3s\n",
            "68:\tlearn: 0.3406780\ttotal: 32.9s\tremaining: 14.8s\n",
            "69:\tlearn: 0.3387154\ttotal: 33.4s\tremaining: 14.3s\n",
            "70:\tlearn: 0.3368592\ttotal: 33.9s\tremaining: 13.8s\n",
            "71:\tlearn: 0.3349556\ttotal: 34.3s\tremaining: 13.3s\n",
            "72:\tlearn: 0.3330378\ttotal: 34.8s\tremaining: 12.9s\n",
            "73:\tlearn: 0.3311500\ttotal: 35.3s\tremaining: 12.4s\n",
            "74:\tlearn: 0.3292674\ttotal: 35.7s\tremaining: 11.9s\n",
            "75:\tlearn: 0.3275038\ttotal: 36.2s\tremaining: 11.4s\n",
            "76:\tlearn: 0.3257752\ttotal: 36.6s\tremaining: 10.9s\n",
            "77:\tlearn: 0.3240211\ttotal: 37.1s\tremaining: 10.5s\n",
            "78:\tlearn: 0.3223004\ttotal: 37.6s\tremaining: 10s\n",
            "79:\tlearn: 0.3207194\ttotal: 38.1s\tremaining: 9.52s\n",
            "80:\tlearn: 0.3191013\ttotal: 38.5s\tremaining: 9.04s\n",
            "81:\tlearn: 0.3174545\ttotal: 39s\tremaining: 8.56s\n",
            "82:\tlearn: 0.3159564\ttotal: 39.4s\tremaining: 8.08s\n",
            "83:\tlearn: 0.3145037\ttotal: 39.9s\tremaining: 7.6s\n",
            "84:\tlearn: 0.3130208\ttotal: 40.4s\tremaining: 7.12s\n",
            "85:\tlearn: 0.3115754\ttotal: 40.8s\tremaining: 6.65s\n",
            "86:\tlearn: 0.3102333\ttotal: 41.3s\tremaining: 6.17s\n",
            "87:\tlearn: 0.3089178\ttotal: 41.8s\tremaining: 5.7s\n",
            "88:\tlearn: 0.3076013\ttotal: 42.2s\tremaining: 5.22s\n",
            "89:\tlearn: 0.3062454\ttotal: 42.7s\tremaining: 4.74s\n",
            "90:\tlearn: 0.3048808\ttotal: 43.2s\tremaining: 4.27s\n",
            "91:\tlearn: 0.3036885\ttotal: 43.6s\tremaining: 3.79s\n",
            "92:\tlearn: 0.3023714\ttotal: 44.1s\tremaining: 3.32s\n",
            "93:\tlearn: 0.3011882\ttotal: 44.6s\tremaining: 2.85s\n",
            "94:\tlearn: 0.2999212\ttotal: 45s\tremaining: 2.37s\n",
            "95:\tlearn: 0.2987612\ttotal: 45.5s\tremaining: 1.9s\n",
            "96:\tlearn: 0.2975761\ttotal: 46s\tremaining: 1.42s\n",
            "97:\tlearn: 0.2964061\ttotal: 46.5s\tremaining: 948ms\n",
            "98:\tlearn: 0.2953519\ttotal: 46.9s\tremaining: 474ms\n",
            "99:\tlearn: 0.2942226\ttotal: 47.4s\tremaining: 0us\n",
            "0:\tlearn: 0.6428352\ttotal: 503ms\tremaining: 49.8s\n",
            "1:\tlearn: 0.5976184\ttotal: 971ms\tremaining: 47.6s\n",
            "2:\tlearn: 0.5590619\ttotal: 1.41s\tremaining: 45.7s\n",
            "3:\tlearn: 0.5251196\ttotal: 1.87s\tremaining: 44.9s\n",
            "4:\tlearn: 0.4940103\ttotal: 2.33s\tremaining: 44.3s\n",
            "5:\tlearn: 0.4683455\ttotal: 2.8s\tremaining: 43.9s\n",
            "6:\tlearn: 0.4444679\ttotal: 3.27s\tremaining: 43.4s\n",
            "7:\tlearn: 0.4239152\ttotal: 3.73s\tremaining: 42.9s\n",
            "8:\tlearn: 0.4056439\ttotal: 4.18s\tremaining: 42.3s\n",
            "9:\tlearn: 0.3890527\ttotal: 4.64s\tremaining: 41.7s\n",
            "10:\tlearn: 0.3738247\ttotal: 5.09s\tremaining: 41.2s\n",
            "11:\tlearn: 0.3609699\ttotal: 5.56s\tremaining: 40.8s\n",
            "12:\tlearn: 0.3495782\ttotal: 6.02s\tremaining: 40.3s\n",
            "13:\tlearn: 0.3395782\ttotal: 6.49s\tremaining: 39.9s\n",
            "14:\tlearn: 0.3303070\ttotal: 6.96s\tremaining: 39.4s\n",
            "15:\tlearn: 0.3220620\ttotal: 7.42s\tremaining: 39s\n",
            "16:\tlearn: 0.3147106\ttotal: 7.89s\tremaining: 38.5s\n",
            "17:\tlearn: 0.3077984\ttotal: 8.36s\tremaining: 38.1s\n",
            "18:\tlearn: 0.3016332\ttotal: 8.82s\tremaining: 37.6s\n",
            "19:\tlearn: 0.2959766\ttotal: 9.33s\tremaining: 37.3s\n",
            "20:\tlearn: 0.2909885\ttotal: 9.78s\tremaining: 36.8s\n",
            "21:\tlearn: 0.2864452\ttotal: 10.3s\tremaining: 36.4s\n",
            "22:\tlearn: 0.2825193\ttotal: 10.7s\tremaining: 35.9s\n",
            "23:\tlearn: 0.2789133\ttotal: 11.2s\tremaining: 35.3s\n",
            "24:\tlearn: 0.2754336\ttotal: 11.6s\tremaining: 34.9s\n",
            "25:\tlearn: 0.2723447\ttotal: 12.1s\tremaining: 34.4s\n",
            "26:\tlearn: 0.2697045\ttotal: 12.6s\tremaining: 34s\n",
            "27:\tlearn: 0.2672101\ttotal: 13s\tremaining: 33.5s\n",
            "28:\tlearn: 0.2649079\ttotal: 13.5s\tremaining: 33.1s\n",
            "29:\tlearn: 0.2627233\ttotal: 14s\tremaining: 32.6s\n",
            "30:\tlearn: 0.2605618\ttotal: 14.5s\tremaining: 32.2s\n",
            "31:\tlearn: 0.2584192\ttotal: 14.9s\tremaining: 31.7s\n",
            "32:\tlearn: 0.2567392\ttotal: 15.4s\tremaining: 31.2s\n",
            "33:\tlearn: 0.2551391\ttotal: 15.9s\tremaining: 30.8s\n",
            "34:\tlearn: 0.2534529\ttotal: 16.3s\tremaining: 30.3s\n",
            "35:\tlearn: 0.2521347\ttotal: 16.8s\tremaining: 29.9s\n",
            "36:\tlearn: 0.2507683\ttotal: 17.3s\tremaining: 29.4s\n",
            "37:\tlearn: 0.2491303\ttotal: 17.7s\tremaining: 29s\n",
            "38:\tlearn: 0.2479240\ttotal: 18.2s\tremaining: 28.5s\n",
            "39:\tlearn: 0.2464255\ttotal: 18.7s\tremaining: 28s\n",
            "40:\tlearn: 0.2453432\ttotal: 19.1s\tremaining: 27.5s\n",
            "41:\tlearn: 0.2443930\ttotal: 19.6s\tremaining: 27.1s\n",
            "42:\tlearn: 0.2433931\ttotal: 20.1s\tremaining: 26.6s\n",
            "43:\tlearn: 0.2425317\ttotal: 20.5s\tremaining: 26.1s\n",
            "44:\tlearn: 0.2416041\ttotal: 21s\tremaining: 25.6s\n",
            "45:\tlearn: 0.2408915\ttotal: 21.5s\tremaining: 25.2s\n",
            "46:\tlearn: 0.2399124\ttotal: 21.9s\tremaining: 24.7s\n",
            "47:\tlearn: 0.2391492\ttotal: 22.4s\tremaining: 24.2s\n",
            "48:\tlearn: 0.2381798\ttotal: 22.9s\tremaining: 23.8s\n",
            "49:\tlearn: 0.2374715\ttotal: 23.3s\tremaining: 23.3s\n",
            "50:\tlearn: 0.2367773\ttotal: 23.8s\tremaining: 22.9s\n",
            "51:\tlearn: 0.2361603\ttotal: 24.3s\tremaining: 22.4s\n",
            "52:\tlearn: 0.2351631\ttotal: 24.8s\tremaining: 22s\n",
            "53:\tlearn: 0.2345264\ttotal: 25.3s\tremaining: 21.6s\n",
            "54:\tlearn: 0.2340136\ttotal: 25.8s\tremaining: 21.1s\n",
            "55:\tlearn: 0.2334502\ttotal: 26.2s\tremaining: 20.6s\n",
            "56:\tlearn: 0.2329494\ttotal: 26.7s\tremaining: 20.1s\n",
            "57:\tlearn: 0.2321881\ttotal: 27.2s\tremaining: 19.7s\n",
            "58:\tlearn: 0.2316516\ttotal: 27.6s\tremaining: 19.2s\n",
            "59:\tlearn: 0.2309261\ttotal: 28.1s\tremaining: 18.7s\n",
            "60:\tlearn: 0.2304922\ttotal: 28.6s\tremaining: 18.3s\n",
            "61:\tlearn: 0.2300404\ttotal: 29s\tremaining: 17.8s\n",
            "62:\tlearn: 0.2295874\ttotal: 29.5s\tremaining: 17.3s\n",
            "63:\tlearn: 0.2291550\ttotal: 30s\tremaining: 16.9s\n",
            "64:\tlearn: 0.2286305\ttotal: 30.4s\tremaining: 16.4s\n",
            "65:\tlearn: 0.2279806\ttotal: 30.9s\tremaining: 15.9s\n",
            "66:\tlearn: 0.2276213\ttotal: 31.3s\tremaining: 15.4s\n",
            "67:\tlearn: 0.2272140\ttotal: 31.8s\tremaining: 15s\n",
            "68:\tlearn: 0.2265460\ttotal: 32.2s\tremaining: 14.5s\n",
            "69:\tlearn: 0.2262379\ttotal: 32.7s\tremaining: 14s\n",
            "70:\tlearn: 0.2256981\ttotal: 33.1s\tremaining: 13.5s\n",
            "71:\tlearn: 0.2253455\ttotal: 33.6s\tremaining: 13.1s\n",
            "72:\tlearn: 0.2249542\ttotal: 34.1s\tremaining: 12.6s\n",
            "73:\tlearn: 0.2245194\ttotal: 34.5s\tremaining: 12.1s\n",
            "74:\tlearn: 0.2241770\ttotal: 35s\tremaining: 11.7s\n",
            "75:\tlearn: 0.2234727\ttotal: 35.4s\tremaining: 11.2s\n",
            "76:\tlearn: 0.2230624\ttotal: 35.9s\tremaining: 10.7s\n",
            "77:\tlearn: 0.2227045\ttotal: 36.3s\tremaining: 10.2s\n",
            "78:\tlearn: 0.2222988\ttotal: 36.8s\tremaining: 9.78s\n",
            "79:\tlearn: 0.2219961\ttotal: 37.2s\tremaining: 9.31s\n",
            "80:\tlearn: 0.2214292\ttotal: 37.7s\tremaining: 8.85s\n",
            "81:\tlearn: 0.2209389\ttotal: 38.2s\tremaining: 8.38s\n",
            "82:\tlearn: 0.2205489\ttotal: 38.6s\tremaining: 7.91s\n",
            "83:\tlearn: 0.2202121\ttotal: 39.1s\tremaining: 7.45s\n",
            "84:\tlearn: 0.2199201\ttotal: 39.5s\tremaining: 6.98s\n",
            "85:\tlearn: 0.2195836\ttotal: 40s\tremaining: 6.51s\n",
            "86:\tlearn: 0.2190112\ttotal: 40.4s\tremaining: 6.04s\n",
            "87:\tlearn: 0.2186219\ttotal: 40.9s\tremaining: 5.58s\n",
            "88:\tlearn: 0.2182248\ttotal: 41.4s\tremaining: 5.11s\n",
            "89:\tlearn: 0.2176881\ttotal: 41.8s\tremaining: 4.65s\n",
            "90:\tlearn: 0.2173483\ttotal: 42.2s\tremaining: 4.18s\n",
            "91:\tlearn: 0.2170208\ttotal: 42.7s\tremaining: 3.71s\n",
            "92:\tlearn: 0.2167180\ttotal: 43.2s\tremaining: 3.25s\n",
            "93:\tlearn: 0.2164285\ttotal: 43.6s\tremaining: 2.78s\n",
            "94:\tlearn: 0.2159261\ttotal: 44.1s\tremaining: 2.32s\n",
            "95:\tlearn: 0.2156245\ttotal: 44.5s\tremaining: 1.85s\n",
            "96:\tlearn: 0.2150835\ttotal: 45s\tremaining: 1.39s\n",
            "97:\tlearn: 0.2146021\ttotal: 45.5s\tremaining: 928ms\n",
            "98:\tlearn: 0.2142983\ttotal: 45.9s\tremaining: 464ms\n",
            "99:\tlearn: 0.2140459\ttotal: 46.4s\tremaining: 0us\n",
            "0:\tlearn: 0.6412660\ttotal: 505ms\tremaining: 50s\n",
            "1:\tlearn: 0.5961542\ttotal: 968ms\tremaining: 47.4s\n",
            "2:\tlearn: 0.5573043\ttotal: 1.45s\tremaining: 46.8s\n",
            "3:\tlearn: 0.5223588\ttotal: 1.93s\tremaining: 46.3s\n",
            "4:\tlearn: 0.4918476\ttotal: 2.41s\tremaining: 45.9s\n",
            "5:\tlearn: 0.4655580\ttotal: 2.87s\tremaining: 44.9s\n",
            "6:\tlearn: 0.4416406\ttotal: 3.32s\tremaining: 44.1s\n",
            "7:\tlearn: 0.4205330\ttotal: 3.78s\tremaining: 43.4s\n",
            "8:\tlearn: 0.4017628\ttotal: 4.23s\tremaining: 42.8s\n",
            "9:\tlearn: 0.3850146\ttotal: 4.69s\tremaining: 42.2s\n",
            "10:\tlearn: 0.3705101\ttotal: 5.14s\tremaining: 41.6s\n",
            "11:\tlearn: 0.3569554\ttotal: 5.64s\tremaining: 41.4s\n",
            "12:\tlearn: 0.3456476\ttotal: 6.11s\tremaining: 40.9s\n",
            "13:\tlearn: 0.3353030\ttotal: 6.58s\tremaining: 40.4s\n",
            "14:\tlearn: 0.3257841\ttotal: 7.05s\tremaining: 39.9s\n",
            "15:\tlearn: 0.3172805\ttotal: 7.52s\tremaining: 39.5s\n",
            "16:\tlearn: 0.3095772\ttotal: 7.98s\tremaining: 39s\n",
            "17:\tlearn: 0.3028831\ttotal: 8.43s\tremaining: 38.4s\n",
            "18:\tlearn: 0.2965992\ttotal: 8.91s\tremaining: 38s\n",
            "19:\tlearn: 0.2911961\ttotal: 9.36s\tremaining: 37.4s\n",
            "20:\tlearn: 0.2862081\ttotal: 9.82s\tremaining: 36.9s\n",
            "21:\tlearn: 0.2819730\ttotal: 10.3s\tremaining: 36.5s\n",
            "22:\tlearn: 0.2779496\ttotal: 10.7s\tremaining: 36s\n",
            "23:\tlearn: 0.2739391\ttotal: 11.2s\tremaining: 35.4s\n",
            "24:\tlearn: 0.2702659\ttotal: 11.7s\tremaining: 35s\n",
            "25:\tlearn: 0.2672410\ttotal: 12.2s\tremaining: 34.6s\n",
            "26:\tlearn: 0.2642547\ttotal: 12.7s\tremaining: 34.2s\n",
            "27:\tlearn: 0.2616154\ttotal: 13.1s\tremaining: 33.7s\n",
            "28:\tlearn: 0.2592220\ttotal: 13.6s\tremaining: 33.3s\n",
            "29:\tlearn: 0.2569005\ttotal: 14.1s\tremaining: 32.8s\n",
            "30:\tlearn: 0.2547525\ttotal: 14.5s\tremaining: 32.4s\n",
            "31:\tlearn: 0.2527979\ttotal: 15s\tremaining: 31.9s\n",
            "32:\tlearn: 0.2508057\ttotal: 15.5s\tremaining: 31.4s\n",
            "33:\tlearn: 0.2488907\ttotal: 15.9s\tremaining: 31s\n",
            "34:\tlearn: 0.2474248\ttotal: 16.4s\tremaining: 30.5s\n",
            "35:\tlearn: 0.2459917\ttotal: 16.9s\tremaining: 30s\n",
            "36:\tlearn: 0.2445599\ttotal: 17.4s\tremaining: 29.6s\n",
            "37:\tlearn: 0.2432448\ttotal: 17.8s\tremaining: 29.1s\n",
            "38:\tlearn: 0.2420734\ttotal: 18.3s\tremaining: 28.6s\n",
            "39:\tlearn: 0.2409668\ttotal: 18.8s\tremaining: 28.2s\n",
            "40:\tlearn: 0.2399802\ttotal: 19.2s\tremaining: 27.7s\n",
            "41:\tlearn: 0.2388861\ttotal: 19.7s\tremaining: 27.2s\n",
            "42:\tlearn: 0.2378739\ttotal: 20.2s\tremaining: 26.8s\n",
            "43:\tlearn: 0.2363125\ttotal: 20.7s\tremaining: 26.3s\n",
            "44:\tlearn: 0.2352926\ttotal: 21.1s\tremaining: 25.8s\n",
            "45:\tlearn: 0.2344930\ttotal: 21.6s\tremaining: 25.4s\n",
            "46:\tlearn: 0.2336511\ttotal: 22.1s\tremaining: 24.9s\n",
            "47:\tlearn: 0.2327851\ttotal: 22.6s\tremaining: 24.5s\n",
            "48:\tlearn: 0.2314993\ttotal: 23.1s\tremaining: 24s\n",
            "49:\tlearn: 0.2304002\ttotal: 23.6s\tremaining: 23.6s\n",
            "50:\tlearn: 0.2295131\ttotal: 24s\tremaining: 23.1s\n",
            "51:\tlearn: 0.2288779\ttotal: 24.5s\tremaining: 22.6s\n",
            "52:\tlearn: 0.2282713\ttotal: 24.9s\tremaining: 22.1s\n",
            "53:\tlearn: 0.2275377\ttotal: 25.4s\tremaining: 21.6s\n",
            "54:\tlearn: 0.2269866\ttotal: 25.9s\tremaining: 21.2s\n",
            "55:\tlearn: 0.2263776\ttotal: 26.4s\tremaining: 20.7s\n",
            "56:\tlearn: 0.2257951\ttotal: 26.8s\tremaining: 20.2s\n",
            "57:\tlearn: 0.2251729\ttotal: 27.3s\tremaining: 19.7s\n",
            "58:\tlearn: 0.2245120\ttotal: 27.7s\tremaining: 19.3s\n",
            "59:\tlearn: 0.2237713\ttotal: 28.2s\tremaining: 18.8s\n",
            "60:\tlearn: 0.2232314\ttotal: 28.7s\tremaining: 18.3s\n",
            "61:\tlearn: 0.2224008\ttotal: 29.1s\tremaining: 17.8s\n",
            "62:\tlearn: 0.2219463\ttotal: 29.5s\tremaining: 17.3s\n",
            "63:\tlearn: 0.2213547\ttotal: 30s\tremaining: 16.9s\n",
            "64:\tlearn: 0.2207006\ttotal: 30.4s\tremaining: 16.4s\n",
            "65:\tlearn: 0.2201704\ttotal: 30.9s\tremaining: 15.9s\n",
            "66:\tlearn: 0.2196757\ttotal: 31.4s\tremaining: 15.4s\n",
            "67:\tlearn: 0.2192045\ttotal: 31.8s\tremaining: 15s\n",
            "68:\tlearn: 0.2187486\ttotal: 32.3s\tremaining: 14.5s\n",
            "69:\tlearn: 0.2182081\ttotal: 32.8s\tremaining: 14s\n",
            "70:\tlearn: 0.2175803\ttotal: 33.2s\tremaining: 13.6s\n",
            "71:\tlearn: 0.2171266\ttotal: 33.7s\tremaining: 13.1s\n",
            "72:\tlearn: 0.2167472\ttotal: 34.1s\tremaining: 12.6s\n",
            "73:\tlearn: 0.2163738\ttotal: 34.6s\tremaining: 12.2s\n",
            "74:\tlearn: 0.2159422\ttotal: 35s\tremaining: 11.7s\n",
            "75:\tlearn: 0.2152243\ttotal: 35.5s\tremaining: 11.2s\n",
            "76:\tlearn: 0.2148703\ttotal: 36s\tremaining: 10.7s\n",
            "77:\tlearn: 0.2141732\ttotal: 36.5s\tremaining: 10.3s\n",
            "78:\tlearn: 0.2137907\ttotal: 36.9s\tremaining: 9.81s\n",
            "79:\tlearn: 0.2134097\ttotal: 37.4s\tremaining: 9.35s\n",
            "80:\tlearn: 0.2130405\ttotal: 37.9s\tremaining: 8.88s\n",
            "81:\tlearn: 0.2123491\ttotal: 38.3s\tremaining: 8.41s\n",
            "82:\tlearn: 0.2120219\ttotal: 38.8s\tremaining: 7.95s\n",
            "83:\tlearn: 0.2116296\ttotal: 39.3s\tremaining: 7.48s\n",
            "84:\tlearn: 0.2112196\ttotal: 39.8s\tremaining: 7.01s\n",
            "85:\tlearn: 0.2105913\ttotal: 40.2s\tremaining: 6.55s\n",
            "86:\tlearn: 0.2102127\ttotal: 40.7s\tremaining: 6.09s\n",
            "87:\tlearn: 0.2096449\ttotal: 41.2s\tremaining: 5.62s\n",
            "88:\tlearn: 0.2091615\ttotal: 41.7s\tremaining: 5.15s\n",
            "89:\tlearn: 0.2085957\ttotal: 42.2s\tremaining: 4.68s\n",
            "90:\tlearn: 0.2082611\ttotal: 42.6s\tremaining: 4.22s\n",
            "91:\tlearn: 0.2078998\ttotal: 43.1s\tremaining: 3.75s\n",
            "92:\tlearn: 0.2076072\ttotal: 43.6s\tremaining: 3.28s\n",
            "93:\tlearn: 0.2071016\ttotal: 44s\tremaining: 2.81s\n",
            "94:\tlearn: 0.2067801\ttotal: 44.5s\tremaining: 2.34s\n",
            "95:\tlearn: 0.2064745\ttotal: 44.9s\tremaining: 1.87s\n",
            "96:\tlearn: 0.2062066\ttotal: 45.4s\tremaining: 1.4s\n",
            "97:\tlearn: 0.2059602\ttotal: 45.9s\tremaining: 936ms\n",
            "98:\tlearn: 0.2056460\ttotal: 46.3s\tremaining: 468ms\n",
            "99:\tlearn: 0.2053389\ttotal: 46.8s\tremaining: 0us\n",
            "0:\tlearn: 0.5965594\ttotal: 508ms\tremaining: 50.3s\n",
            "1:\tlearn: 0.5200804\ttotal: 982ms\tremaining: 48.1s\n",
            "2:\tlearn: 0.4663469\ttotal: 1.41s\tremaining: 45.6s\n",
            "3:\tlearn: 0.4203658\ttotal: 1.87s\tremaining: 44.8s\n",
            "4:\tlearn: 0.3849730\ttotal: 2.34s\tremaining: 44.4s\n",
            "5:\tlearn: 0.3596690\ttotal: 2.79s\tremaining: 43.8s\n",
            "6:\tlearn: 0.3376438\ttotal: 3.26s\tremaining: 43.3s\n",
            "7:\tlearn: 0.3203592\ttotal: 3.72s\tremaining: 42.8s\n",
            "8:\tlearn: 0.3069018\ttotal: 4.19s\tremaining: 42.4s\n",
            "9:\tlearn: 0.2956713\ttotal: 4.71s\tremaining: 42.4s\n",
            "10:\tlearn: 0.2860272\ttotal: 5.17s\tremaining: 41.9s\n",
            "11:\tlearn: 0.2780371\ttotal: 5.63s\tremaining: 41.3s\n",
            "12:\tlearn: 0.2717872\ttotal: 6.11s\tremaining: 40.9s\n",
            "13:\tlearn: 0.2663009\ttotal: 6.6s\tremaining: 40.6s\n",
            "14:\tlearn: 0.2619727\ttotal: 7.08s\tremaining: 40.1s\n",
            "15:\tlearn: 0.2582333\ttotal: 7.55s\tremaining: 39.6s\n",
            "16:\tlearn: 0.2547217\ttotal: 8.04s\tremaining: 39.3s\n",
            "17:\tlearn: 0.2516479\ttotal: 8.51s\tremaining: 38.8s\n",
            "18:\tlearn: 0.2491860\ttotal: 8.99s\tremaining: 38.3s\n",
            "19:\tlearn: 0.2465172\ttotal: 9.47s\tremaining: 37.9s\n",
            "20:\tlearn: 0.2444944\ttotal: 10.1s\tremaining: 37.8s\n",
            "21:\tlearn: 0.2427055\ttotal: 10.5s\tremaining: 37.3s\n",
            "22:\tlearn: 0.2407572\ttotal: 11s\tremaining: 36.8s\n",
            "23:\tlearn: 0.2385005\ttotal: 11.5s\tremaining: 36.3s\n",
            "24:\tlearn: 0.2370453\ttotal: 11.9s\tremaining: 35.7s\n",
            "25:\tlearn: 0.2357283\ttotal: 12.4s\tremaining: 35.3s\n",
            "26:\tlearn: 0.2344104\ttotal: 12.9s\tremaining: 34.8s\n",
            "27:\tlearn: 0.2334128\ttotal: 13.3s\tremaining: 34.3s\n",
            "28:\tlearn: 0.2322458\ttotal: 13.8s\tremaining: 33.8s\n",
            "29:\tlearn: 0.2307504\ttotal: 14.4s\tremaining: 33.5s\n",
            "30:\tlearn: 0.2296925\ttotal: 14.8s\tremaining: 33s\n",
            "31:\tlearn: 0.2286617\ttotal: 15.3s\tremaining: 32.5s\n",
            "32:\tlearn: 0.2274226\ttotal: 15.7s\tremaining: 31.9s\n",
            "33:\tlearn: 0.2263618\ttotal: 16.2s\tremaining: 31.5s\n",
            "34:\tlearn: 0.2255501\ttotal: 16.7s\tremaining: 31s\n",
            "35:\tlearn: 0.2247633\ttotal: 17.2s\tremaining: 30.5s\n",
            "36:\tlearn: 0.2238233\ttotal: 17.7s\tremaining: 30.1s\n",
            "37:\tlearn: 0.2229491\ttotal: 18.1s\tremaining: 29.6s\n",
            "38:\tlearn: 0.2220530\ttotal: 18.6s\tremaining: 29.1s\n",
            "39:\tlearn: 0.2213593\ttotal: 19s\tremaining: 28.6s\n",
            "40:\tlearn: 0.2201000\ttotal: 19.5s\tremaining: 28.1s\n",
            "41:\tlearn: 0.2194459\ttotal: 20s\tremaining: 27.6s\n",
            "42:\tlearn: 0.2187227\ttotal: 20.4s\tremaining: 27.1s\n",
            "43:\tlearn: 0.2181121\ttotal: 20.9s\tremaining: 26.6s\n",
            "44:\tlearn: 0.2173191\ttotal: 21.3s\tremaining: 26.1s\n",
            "45:\tlearn: 0.2167155\ttotal: 21.8s\tremaining: 25.6s\n",
            "46:\tlearn: 0.2159123\ttotal: 22.2s\tremaining: 25s\n",
            "47:\tlearn: 0.2153238\ttotal: 22.7s\tremaining: 24.5s\n",
            "48:\tlearn: 0.2145229\ttotal: 23.1s\tremaining: 24s\n",
            "49:\tlearn: 0.2135854\ttotal: 23.6s\tremaining: 23.6s\n",
            "50:\tlearn: 0.2129721\ttotal: 24s\tremaining: 23.1s\n",
            "51:\tlearn: 0.2124438\ttotal: 24.5s\tremaining: 22.6s\n",
            "52:\tlearn: 0.2119092\ttotal: 25s\tremaining: 22.1s\n",
            "53:\tlearn: 0.2111364\ttotal: 25.4s\tremaining: 21.6s\n",
            "54:\tlearn: 0.2104425\ttotal: 25.9s\tremaining: 21.2s\n",
            "55:\tlearn: 0.2098644\ttotal: 26.3s\tremaining: 20.7s\n",
            "56:\tlearn: 0.2094558\ttotal: 26.8s\tremaining: 20.2s\n",
            "57:\tlearn: 0.2088360\ttotal: 27.2s\tremaining: 19.7s\n",
            "58:\tlearn: 0.2083456\ttotal: 27.7s\tremaining: 19.2s\n",
            "59:\tlearn: 0.2077608\ttotal: 28.1s\tremaining: 18.8s\n",
            "60:\tlearn: 0.2069860\ttotal: 28.6s\tremaining: 18.3s\n",
            "61:\tlearn: 0.2061234\ttotal: 29s\tremaining: 17.8s\n",
            "62:\tlearn: 0.2056596\ttotal: 29.5s\tremaining: 17.3s\n",
            "63:\tlearn: 0.2050001\ttotal: 29.9s\tremaining: 16.8s\n",
            "64:\tlearn: 0.2045429\ttotal: 30.4s\tremaining: 16.4s\n",
            "65:\tlearn: 0.2041734\ttotal: 30.9s\tremaining: 15.9s\n",
            "66:\tlearn: 0.2036351\ttotal: 31.3s\tremaining: 15.4s\n",
            "67:\tlearn: 0.2026916\ttotal: 31.8s\tremaining: 15s\n",
            "68:\tlearn: 0.2023150\ttotal: 32.3s\tremaining: 14.5s\n",
            "69:\tlearn: 0.2019530\ttotal: 32.7s\tremaining: 14s\n",
            "70:\tlearn: 0.2015815\ttotal: 33.2s\tremaining: 13.6s\n",
            "71:\tlearn: 0.2011066\ttotal: 33.6s\tremaining: 13.1s\n",
            "72:\tlearn: 0.2006210\ttotal: 34.1s\tremaining: 12.6s\n",
            "73:\tlearn: 0.2001806\ttotal: 34.6s\tremaining: 12.2s\n",
            "74:\tlearn: 0.1997997\ttotal: 35s\tremaining: 11.7s\n",
            "75:\tlearn: 0.1993332\ttotal: 35.5s\tremaining: 11.2s\n",
            "76:\tlearn: 0.1989445\ttotal: 35.9s\tremaining: 10.7s\n",
            "77:\tlearn: 0.1984656\ttotal: 36.4s\tremaining: 10.3s\n",
            "78:\tlearn: 0.1978703\ttotal: 36.9s\tremaining: 9.8s\n",
            "79:\tlearn: 0.1974907\ttotal: 37.3s\tremaining: 9.34s\n",
            "80:\tlearn: 0.1971718\ttotal: 37.8s\tremaining: 8.87s\n",
            "81:\tlearn: 0.1968429\ttotal: 38.3s\tremaining: 8.4s\n",
            "82:\tlearn: 0.1963585\ttotal: 38.7s\tremaining: 7.93s\n",
            "83:\tlearn: 0.1959882\ttotal: 39.2s\tremaining: 7.46s\n",
            "84:\tlearn: 0.1957065\ttotal: 39.6s\tremaining: 6.99s\n",
            "85:\tlearn: 0.1953478\ttotal: 40.1s\tremaining: 6.52s\n",
            "86:\tlearn: 0.1950249\ttotal: 40.5s\tremaining: 6.05s\n",
            "87:\tlearn: 0.1943658\ttotal: 40.9s\tremaining: 5.58s\n",
            "88:\tlearn: 0.1940825\ttotal: 41.4s\tremaining: 5.11s\n",
            "89:\tlearn: 0.1937194\ttotal: 41.8s\tremaining: 4.65s\n",
            "90:\tlearn: 0.1932729\ttotal: 42.3s\tremaining: 4.18s\n",
            "91:\tlearn: 0.1929577\ttotal: 42.7s\tremaining: 3.71s\n",
            "92:\tlearn: 0.1926309\ttotal: 43.1s\tremaining: 3.25s\n",
            "93:\tlearn: 0.1923810\ttotal: 43.6s\tremaining: 2.78s\n",
            "94:\tlearn: 0.1918570\ttotal: 44s\tremaining: 2.32s\n",
            "95:\tlearn: 0.1915270\ttotal: 44.6s\tremaining: 1.86s\n",
            "96:\tlearn: 0.1909211\ttotal: 45s\tremaining: 1.39s\n",
            "97:\tlearn: 0.1904923\ttotal: 45.5s\tremaining: 929ms\n",
            "98:\tlearn: 0.1900808\ttotal: 45.9s\tremaining: 464ms\n",
            "99:\tlearn: 0.1897660\ttotal: 46.4s\tremaining: 0us\n",
            "0:\tlearn: 0.5933676\ttotal: 553ms\tremaining: 54.8s\n",
            "1:\tlearn: 0.5174945\ttotal: 1.08s\tremaining: 52.8s\n",
            "2:\tlearn: 0.4585334\ttotal: 1.58s\tremaining: 51.2s\n",
            "3:\tlearn: 0.4151269\ttotal: 2.1s\tremaining: 50.4s\n",
            "4:\tlearn: 0.3815212\ttotal: 2.59s\tremaining: 49.2s\n",
            "5:\tlearn: 0.3528088\ttotal: 3.08s\tremaining: 48.3s\n",
            "6:\tlearn: 0.3310343\ttotal: 3.58s\tremaining: 47.5s\n",
            "7:\tlearn: 0.3140380\ttotal: 4.06s\tremaining: 46.7s\n",
            "8:\tlearn: 0.3002885\ttotal: 4.56s\tremaining: 46.1s\n",
            "9:\tlearn: 0.2884225\ttotal: 5.04s\tremaining: 45.4s\n",
            "10:\tlearn: 0.2789684\ttotal: 5.51s\tremaining: 44.6s\n",
            "11:\tlearn: 0.2709481\ttotal: 5.99s\tremaining: 43.9s\n",
            "12:\tlearn: 0.2646406\ttotal: 6.46s\tremaining: 43.3s\n",
            "13:\tlearn: 0.2591425\ttotal: 6.95s\tremaining: 42.7s\n",
            "14:\tlearn: 0.2548964\ttotal: 7.45s\tremaining: 42.2s\n",
            "15:\tlearn: 0.2510070\ttotal: 7.95s\tremaining: 41.7s\n",
            "16:\tlearn: 0.2476028\ttotal: 8.4s\tremaining: 41s\n",
            "17:\tlearn: 0.2445893\ttotal: 8.88s\tremaining: 40.4s\n",
            "18:\tlearn: 0.2413947\ttotal: 9.35s\tremaining: 39.9s\n",
            "19:\tlearn: 0.2388948\ttotal: 9.81s\tremaining: 39.3s\n",
            "20:\tlearn: 0.2369583\ttotal: 10.3s\tremaining: 38.7s\n",
            "21:\tlearn: 0.2350071\ttotal: 10.8s\tremaining: 38.2s\n",
            "22:\tlearn: 0.2331594\ttotal: 11.3s\tremaining: 37.7s\n",
            "23:\tlearn: 0.2307170\ttotal: 11.8s\tremaining: 37.3s\n",
            "24:\tlearn: 0.2289749\ttotal: 12.2s\tremaining: 36.7s\n",
            "25:\tlearn: 0.2277897\ttotal: 12.8s\tremaining: 36.3s\n",
            "26:\tlearn: 0.2264420\ttotal: 13.2s\tremaining: 35.8s\n",
            "27:\tlearn: 0.2250020\ttotal: 13.7s\tremaining: 35.3s\n",
            "28:\tlearn: 0.2238813\ttotal: 14.2s\tremaining: 34.7s\n",
            "29:\tlearn: 0.2222303\ttotal: 14.7s\tremaining: 34.2s\n",
            "30:\tlearn: 0.2207957\ttotal: 15.1s\tremaining: 33.7s\n",
            "31:\tlearn: 0.2192692\ttotal: 15.6s\tremaining: 33.2s\n",
            "32:\tlearn: 0.2184036\ttotal: 16.1s\tremaining: 32.6s\n",
            "33:\tlearn: 0.2175572\ttotal: 16.5s\tremaining: 32.1s\n",
            "34:\tlearn: 0.2166055\ttotal: 17s\tremaining: 31.5s\n",
            "35:\tlearn: 0.2159476\ttotal: 17.5s\tremaining: 31.1s\n",
            "36:\tlearn: 0.2152904\ttotal: 17.9s\tremaining: 30.5s\n",
            "37:\tlearn: 0.2141410\ttotal: 18.4s\tremaining: 30s\n",
            "38:\tlearn: 0.2132542\ttotal: 18.8s\tremaining: 29.4s\n",
            "39:\tlearn: 0.2123754\ttotal: 19.3s\tremaining: 28.9s\n",
            "40:\tlearn: 0.2111109\ttotal: 19.7s\tremaining: 28.4s\n",
            "41:\tlearn: 0.2104018\ttotal: 20.2s\tremaining: 27.8s\n",
            "42:\tlearn: 0.2096838\ttotal: 20.6s\tremaining: 27.3s\n",
            "43:\tlearn: 0.2087116\ttotal: 21.1s\tremaining: 26.8s\n",
            "44:\tlearn: 0.2072990\ttotal: 21.5s\tremaining: 26.3s\n",
            "45:\tlearn: 0.2066035\ttotal: 21.9s\tremaining: 25.7s\n",
            "46:\tlearn: 0.2060016\ttotal: 22.4s\tremaining: 25.2s\n",
            "47:\tlearn: 0.2052870\ttotal: 22.8s\tremaining: 24.7s\n",
            "48:\tlearn: 0.2043066\ttotal: 23.3s\tremaining: 24.2s\n",
            "49:\tlearn: 0.2037521\ttotal: 23.7s\tremaining: 23.7s\n",
            "50:\tlearn: 0.2031741\ttotal: 24.1s\tremaining: 23.2s\n",
            "51:\tlearn: 0.2026697\ttotal: 24.6s\tremaining: 22.7s\n",
            "52:\tlearn: 0.2021189\ttotal: 25s\tremaining: 22.2s\n",
            "53:\tlearn: 0.2016116\ttotal: 25.5s\tremaining: 21.7s\n",
            "54:\tlearn: 0.2010522\ttotal: 25.9s\tremaining: 21.2s\n",
            "55:\tlearn: 0.2005749\ttotal: 26.3s\tremaining: 20.7s\n",
            "56:\tlearn: 0.1998575\ttotal: 26.8s\tremaining: 20.2s\n",
            "57:\tlearn: 0.1992776\ttotal: 27.2s\tremaining: 19.7s\n",
            "58:\tlearn: 0.1988508\ttotal: 27.7s\tremaining: 19.2s\n",
            "59:\tlearn: 0.1983294\ttotal: 28.1s\tremaining: 18.7s\n",
            "60:\tlearn: 0.1978811\ttotal: 28.5s\tremaining: 18.3s\n",
            "61:\tlearn: 0.1973698\ttotal: 29s\tremaining: 17.8s\n",
            "62:\tlearn: 0.1968695\ttotal: 29.4s\tremaining: 17.3s\n",
            "63:\tlearn: 0.1963295\ttotal: 29.9s\tremaining: 16.8s\n",
            "64:\tlearn: 0.1957928\ttotal: 30.3s\tremaining: 16.3s\n",
            "65:\tlearn: 0.1948528\ttotal: 30.7s\tremaining: 15.8s\n",
            "66:\tlearn: 0.1939209\ttotal: 31.2s\tremaining: 15.4s\n",
            "67:\tlearn: 0.1933072\ttotal: 31.6s\tremaining: 14.9s\n",
            "68:\tlearn: 0.1929515\ttotal: 32.1s\tremaining: 14.4s\n",
            "69:\tlearn: 0.1924941\ttotal: 32.5s\tremaining: 13.9s\n",
            "70:\tlearn: 0.1921979\ttotal: 32.9s\tremaining: 13.5s\n",
            "71:\tlearn: 0.1917771\ttotal: 33.4s\tremaining: 13s\n",
            "72:\tlearn: 0.1914024\ttotal: 33.9s\tremaining: 12.5s\n",
            "73:\tlearn: 0.1907009\ttotal: 34.3s\tremaining: 12.1s\n",
            "74:\tlearn: 0.1903172\ttotal: 34.8s\tremaining: 11.6s\n",
            "75:\tlearn: 0.1900019\ttotal: 35.2s\tremaining: 11.1s\n",
            "76:\tlearn: 0.1895462\ttotal: 35.6s\tremaining: 10.6s\n",
            "77:\tlearn: 0.1890438\ttotal: 36.1s\tremaining: 10.2s\n",
            "78:\tlearn: 0.1886671\ttotal: 36.5s\tremaining: 9.7s\n",
            "79:\tlearn: 0.1879414\ttotal: 36.9s\tremaining: 9.23s\n",
            "80:\tlearn: 0.1875790\ttotal: 37.4s\tremaining: 8.77s\n",
            "81:\tlearn: 0.1872329\ttotal: 37.9s\tremaining: 8.31s\n",
            "82:\tlearn: 0.1866426\ttotal: 38.3s\tremaining: 7.85s\n",
            "83:\tlearn: 0.1863173\ttotal: 38.7s\tremaining: 7.38s\n",
            "84:\tlearn: 0.1858738\ttotal: 39.2s\tremaining: 6.91s\n",
            "85:\tlearn: 0.1855984\ttotal: 39.6s\tremaining: 6.44s\n",
            "86:\tlearn: 0.1851990\ttotal: 40s\tremaining: 5.98s\n",
            "87:\tlearn: 0.1848283\ttotal: 40.4s\tremaining: 5.51s\n",
            "88:\tlearn: 0.1845470\ttotal: 40.9s\tremaining: 5.05s\n",
            "89:\tlearn: 0.1842796\ttotal: 41.3s\tremaining: 4.59s\n",
            "90:\tlearn: 0.1840296\ttotal: 41.7s\tremaining: 4.13s\n",
            "91:\tlearn: 0.1836583\ttotal: 42.2s\tremaining: 3.67s\n",
            "92:\tlearn: 0.1832029\ttotal: 42.6s\tremaining: 3.21s\n",
            "93:\tlearn: 0.1826519\ttotal: 43.1s\tremaining: 2.75s\n",
            "94:\tlearn: 0.1822597\ttotal: 43.5s\tremaining: 2.29s\n",
            "95:\tlearn: 0.1819871\ttotal: 44s\tremaining: 1.83s\n",
            "96:\tlearn: 0.1816639\ttotal: 44.4s\tremaining: 1.37s\n",
            "97:\tlearn: 0.1811845\ttotal: 44.9s\tremaining: 916ms\n",
            "98:\tlearn: 0.1808383\ttotal: 45.3s\tremaining: 458ms\n",
            "99:\tlearn: 0.1805700\ttotal: 45.8s\tremaining: 0us\n",
            "0:\tlearn: 0.6827696\ttotal: 723ms\tremaining: 21s\n",
            "1:\tlearn: 0.6727142\ttotal: 1.4s\tremaining: 19.6s\n",
            "2:\tlearn: 0.6631187\ttotal: 2.03s\tremaining: 18.2s\n",
            "3:\tlearn: 0.6534163\ttotal: 2.65s\tremaining: 17.2s\n",
            "4:\tlearn: 0.6443543\ttotal: 3.24s\tremaining: 16.2s\n",
            "5:\tlearn: 0.6351968\ttotal: 3.84s\tremaining: 15.4s\n",
            "6:\tlearn: 0.6261908\ttotal: 4.46s\tremaining: 14.7s\n",
            "7:\tlearn: 0.6174979\ttotal: 5.11s\tremaining: 14.1s\n",
            "8:\tlearn: 0.6086111\ttotal: 5.74s\tremaining: 13.4s\n",
            "9:\tlearn: 0.6004303\ttotal: 6.34s\tremaining: 12.7s\n",
            "10:\tlearn: 0.5921306\ttotal: 6.95s\tremaining: 12s\n",
            "11:\tlearn: 0.5838282\ttotal: 7.58s\tremaining: 11.4s\n",
            "12:\tlearn: 0.5761711\ttotal: 8.19s\tremaining: 10.7s\n",
            "13:\tlearn: 0.5687467\ttotal: 8.81s\tremaining: 10.1s\n",
            "14:\tlearn: 0.5613952\ttotal: 9.46s\tremaining: 9.46s\n",
            "15:\tlearn: 0.5540432\ttotal: 10.1s\tremaining: 8.82s\n",
            "16:\tlearn: 0.5465125\ttotal: 10.7s\tremaining: 8.18s\n",
            "17:\tlearn: 0.5395632\ttotal: 11.4s\tremaining: 7.58s\n",
            "18:\tlearn: 0.5332460\ttotal: 12s\tremaining: 6.96s\n",
            "19:\tlearn: 0.5267686\ttotal: 12.7s\tremaining: 6.33s\n",
            "20:\tlearn: 0.5201500\ttotal: 13.3s\tremaining: 5.7s\n",
            "21:\tlearn: 0.5137467\ttotal: 14s\tremaining: 5.08s\n",
            "22:\tlearn: 0.5075655\ttotal: 14.6s\tremaining: 4.45s\n",
            "23:\tlearn: 0.5017224\ttotal: 15.3s\tremaining: 3.81s\n",
            "24:\tlearn: 0.4958738\ttotal: 15.9s\tremaining: 3.17s\n",
            "25:\tlearn: 0.4903126\ttotal: 16.5s\tremaining: 2.54s\n",
            "26:\tlearn: 0.4848576\ttotal: 17.1s\tremaining: 1.91s\n",
            "27:\tlearn: 0.4793413\ttotal: 17.8s\tremaining: 1.27s\n",
            "28:\tlearn: 0.4741505\ttotal: 18.5s\tremaining: 636ms\n",
            "29:\tlearn: 0.4687338\ttotal: 19.1s\tremaining: 0us\n",
            "0:\tlearn: 0.6823729\ttotal: 733ms\tremaining: 21.3s\n",
            "1:\tlearn: 0.6719428\ttotal: 1.33s\tremaining: 18.6s\n",
            "2:\tlearn: 0.6618823\ttotal: 1.94s\tremaining: 17.5s\n",
            "3:\tlearn: 0.6523896\ttotal: 2.58s\tremaining: 16.8s\n",
            "4:\tlearn: 0.6427582\ttotal: 3.19s\tremaining: 16s\n",
            "5:\tlearn: 0.6332724\ttotal: 3.83s\tremaining: 15.3s\n",
            "6:\tlearn: 0.6238651\ttotal: 4.43s\tremaining: 14.6s\n",
            "7:\tlearn: 0.6148315\ttotal: 5.04s\tremaining: 13.9s\n",
            "8:\tlearn: 0.6064548\ttotal: 5.66s\tremaining: 13.2s\n",
            "9:\tlearn: 0.5977005\ttotal: 6.29s\tremaining: 12.6s\n",
            "10:\tlearn: 0.5896372\ttotal: 6.9s\tremaining: 11.9s\n",
            "11:\tlearn: 0.5818888\ttotal: 7.54s\tremaining: 11.3s\n",
            "12:\tlearn: 0.5740682\ttotal: 8.17s\tremaining: 10.7s\n",
            "13:\tlearn: 0.5665355\ttotal: 8.78s\tremaining: 10s\n",
            "14:\tlearn: 0.5590688\ttotal: 9.39s\tremaining: 9.39s\n",
            "15:\tlearn: 0.5519401\ttotal: 10s\tremaining: 8.77s\n",
            "16:\tlearn: 0.5444989\ttotal: 10.7s\tremaining: 8.16s\n",
            "17:\tlearn: 0.5378044\ttotal: 11.3s\tremaining: 7.53s\n",
            "18:\tlearn: 0.5308841\ttotal: 11.9s\tremaining: 6.91s\n",
            "19:\tlearn: 0.5241042\ttotal: 12.6s\tremaining: 6.28s\n",
            "20:\tlearn: 0.5175053\ttotal: 13.2s\tremaining: 5.66s\n",
            "21:\tlearn: 0.5111573\ttotal: 13.9s\tremaining: 5.04s\n",
            "22:\tlearn: 0.5047849\ttotal: 14.5s\tremaining: 4.41s\n",
            "23:\tlearn: 0.4987533\ttotal: 15.1s\tremaining: 3.78s\n",
            "24:\tlearn: 0.4928491\ttotal: 15.7s\tremaining: 3.15s\n",
            "25:\tlearn: 0.4872069\ttotal: 16.4s\tremaining: 2.52s\n",
            "26:\tlearn: 0.4815993\ttotal: 17s\tremaining: 1.89s\n",
            "27:\tlearn: 0.4761726\ttotal: 17.6s\tremaining: 1.26s\n",
            "28:\tlearn: 0.4705778\ttotal: 18.2s\tremaining: 629ms\n",
            "29:\tlearn: 0.4651342\ttotal: 18.9s\tremaining: 0us\n",
            "0:\tlearn: 0.6428501\ttotal: 703ms\tremaining: 20.4s\n",
            "1:\tlearn: 0.5976140\ttotal: 1.31s\tremaining: 18.4s\n",
            "2:\tlearn: 0.5599785\ttotal: 1.93s\tremaining: 17.3s\n",
            "3:\tlearn: 0.5259189\ttotal: 2.56s\tremaining: 16.6s\n",
            "4:\tlearn: 0.4952775\ttotal: 3.15s\tremaining: 15.8s\n",
            "5:\tlearn: 0.4670230\ttotal: 3.75s\tremaining: 15s\n",
            "6:\tlearn: 0.4436580\ttotal: 4.37s\tremaining: 14.4s\n",
            "7:\tlearn: 0.4225196\ttotal: 4.99s\tremaining: 13.7s\n",
            "8:\tlearn: 0.4025990\ttotal: 5.64s\tremaining: 13.2s\n",
            "9:\tlearn: 0.3858053\ttotal: 6.28s\tremaining: 12.6s\n",
            "10:\tlearn: 0.3703507\ttotal: 6.91s\tremaining: 11.9s\n",
            "11:\tlearn: 0.3570605\ttotal: 7.53s\tremaining: 11.3s\n",
            "12:\tlearn: 0.3446184\ttotal: 8.16s\tremaining: 10.7s\n",
            "13:\tlearn: 0.3342261\ttotal: 8.78s\tremaining: 10s\n",
            "14:\tlearn: 0.3245623\ttotal: 9.42s\tremaining: 9.42s\n",
            "15:\tlearn: 0.3162360\ttotal: 10s\tremaining: 8.79s\n",
            "16:\tlearn: 0.3084662\ttotal: 10.7s\tremaining: 8.15s\n",
            "17:\tlearn: 0.3017193\ttotal: 11.3s\tremaining: 7.52s\n",
            "18:\tlearn: 0.2956377\ttotal: 11.9s\tremaining: 6.9s\n",
            "19:\tlearn: 0.2897582\ttotal: 12.6s\tremaining: 6.28s\n",
            "20:\tlearn: 0.2845503\ttotal: 13.2s\tremaining: 5.64s\n",
            "21:\tlearn: 0.2800316\ttotal: 13.8s\tremaining: 5.01s\n",
            "22:\tlearn: 0.2758601\ttotal: 14.4s\tremaining: 4.38s\n",
            "23:\tlearn: 0.2722524\ttotal: 15s\tremaining: 3.75s\n",
            "24:\tlearn: 0.2687393\ttotal: 15.6s\tremaining: 3.13s\n",
            "25:\tlearn: 0.2656594\ttotal: 16.3s\tremaining: 2.51s\n",
            "26:\tlearn: 0.2626161\ttotal: 16.9s\tremaining: 1.88s\n",
            "27:\tlearn: 0.2600230\ttotal: 17.6s\tremaining: 1.25s\n",
            "28:\tlearn: 0.2575852\ttotal: 18.2s\tremaining: 627ms\n",
            "29:\tlearn: 0.2551240\ttotal: 18.8s\tremaining: 0us\n",
            "0:\tlearn: 0.6412665\ttotal: 711ms\tremaining: 20.6s\n",
            "1:\tlearn: 0.5960787\ttotal: 1.3s\tremaining: 18.2s\n",
            "2:\tlearn: 0.5568715\ttotal: 1.92s\tremaining: 17.3s\n",
            "3:\tlearn: 0.5218917\ttotal: 2.57s\tremaining: 16.7s\n",
            "4:\tlearn: 0.4903257\ttotal: 3.27s\tremaining: 16.3s\n",
            "5:\tlearn: 0.4624700\ttotal: 3.89s\tremaining: 15.6s\n",
            "6:\tlearn: 0.4384371\ttotal: 4.5s\tremaining: 14.8s\n",
            "7:\tlearn: 0.4161336\ttotal: 5.11s\tremaining: 14.1s\n",
            "8:\tlearn: 0.3967655\ttotal: 5.73s\tremaining: 13.4s\n",
            "9:\tlearn: 0.3797679\ttotal: 6.34s\tremaining: 12.7s\n",
            "10:\tlearn: 0.3645306\ttotal: 6.96s\tremaining: 12s\n",
            "11:\tlearn: 0.3512338\ttotal: 7.58s\tremaining: 11.4s\n",
            "12:\tlearn: 0.3390008\ttotal: 8.25s\tremaining: 10.8s\n",
            "13:\tlearn: 0.3285671\ttotal: 8.87s\tremaining: 10.1s\n",
            "14:\tlearn: 0.3188779\ttotal: 9.49s\tremaining: 9.49s\n",
            "15:\tlearn: 0.3103505\ttotal: 10.1s\tremaining: 8.86s\n",
            "16:\tlearn: 0.3026854\ttotal: 10.7s\tremaining: 8.22s\n",
            "17:\tlearn: 0.2959625\ttotal: 11.4s\tremaining: 7.58s\n",
            "18:\tlearn: 0.2896220\ttotal: 12s\tremaining: 6.95s\n",
            "19:\tlearn: 0.2838508\ttotal: 12.6s\tremaining: 6.31s\n",
            "20:\tlearn: 0.2785457\ttotal: 13.2s\tremaining: 5.67s\n",
            "21:\tlearn: 0.2739562\ttotal: 13.8s\tremaining: 5.03s\n",
            "22:\tlearn: 0.2697741\ttotal: 14.4s\tremaining: 4.39s\n",
            "23:\tlearn: 0.2660174\ttotal: 15.1s\tremaining: 3.77s\n",
            "24:\tlearn: 0.2623695\ttotal: 15.7s\tremaining: 3.13s\n",
            "25:\tlearn: 0.2591273\ttotal: 16.3s\tremaining: 2.51s\n",
            "26:\tlearn: 0.2561662\ttotal: 16.9s\tremaining: 1.88s\n",
            "27:\tlearn: 0.2534805\ttotal: 17.5s\tremaining: 1.25s\n",
            "28:\tlearn: 0.2510880\ttotal: 18.2s\tremaining: 627ms\n",
            "29:\tlearn: 0.2488918\ttotal: 18.8s\tremaining: 0us\n",
            "0:\tlearn: 0.5965537\ttotal: 746ms\tremaining: 21.6s\n",
            "1:\tlearn: 0.5204570\ttotal: 1.35s\tremaining: 18.9s\n",
            "2:\tlearn: 0.4628716\ttotal: 1.97s\tremaining: 17.7s\n",
            "3:\tlearn: 0.4211104\ttotal: 2.6s\tremaining: 16.9s\n",
            "4:\tlearn: 0.3858018\ttotal: 3.25s\tremaining: 16.3s\n",
            "5:\tlearn: 0.3564402\ttotal: 3.91s\tremaining: 15.6s\n",
            "6:\tlearn: 0.3327417\ttotal: 4.55s\tremaining: 15s\n",
            "7:\tlearn: 0.3148114\ttotal: 5.22s\tremaining: 14.4s\n",
            "8:\tlearn: 0.3006642\ttotal: 5.89s\tremaining: 13.7s\n",
            "9:\tlearn: 0.2888366\ttotal: 6.59s\tremaining: 13.2s\n",
            "10:\tlearn: 0.2791046\ttotal: 7.32s\tremaining: 12.6s\n",
            "11:\tlearn: 0.2712648\ttotal: 8.03s\tremaining: 12s\n",
            "12:\tlearn: 0.2636174\ttotal: 8.67s\tremaining: 11.3s\n",
            "13:\tlearn: 0.2583052\ttotal: 9.32s\tremaining: 10.7s\n",
            "14:\tlearn: 0.2538406\ttotal: 10s\tremaining: 10s\n",
            "15:\tlearn: 0.2499663\ttotal: 10.6s\tremaining: 9.32s\n",
            "16:\tlearn: 0.2465151\ttotal: 11.3s\tremaining: 8.63s\n",
            "17:\tlearn: 0.2437919\ttotal: 11.9s\tremaining: 7.95s\n",
            "18:\tlearn: 0.2411256\ttotal: 12.6s\tremaining: 7.27s\n",
            "19:\tlearn: 0.2383073\ttotal: 13.2s\tremaining: 6.61s\n",
            "20:\tlearn: 0.2360787\ttotal: 13.9s\tremaining: 5.95s\n",
            "21:\tlearn: 0.2342740\ttotal: 14.5s\tremaining: 5.28s\n",
            "22:\tlearn: 0.2323523\ttotal: 15.2s\tremaining: 4.62s\n",
            "23:\tlearn: 0.2301433\ttotal: 15.8s\tremaining: 3.96s\n",
            "24:\tlearn: 0.2286259\ttotal: 16.5s\tremaining: 3.3s\n",
            "25:\tlearn: 0.2272797\ttotal: 17.1s\tremaining: 2.63s\n",
            "26:\tlearn: 0.2255347\ttotal: 17.8s\tremaining: 1.97s\n",
            "27:\tlearn: 0.2242997\ttotal: 18.4s\tremaining: 1.31s\n",
            "28:\tlearn: 0.2230953\ttotal: 19s\tremaining: 656ms\n",
            "29:\tlearn: 0.2217221\ttotal: 19.7s\tremaining: 0us\n",
            "0:\tlearn: 0.5933674\ttotal: 798ms\tremaining: 23.1s\n",
            "1:\tlearn: 0.5174545\ttotal: 1.4s\tremaining: 19.6s\n",
            "2:\tlearn: 0.4562281\ttotal: 2.05s\tremaining: 18.4s\n",
            "3:\tlearn: 0.4098831\ttotal: 2.7s\tremaining: 17.5s\n",
            "4:\tlearn: 0.3739388\ttotal: 3.35s\tremaining: 16.7s\n",
            "5:\tlearn: 0.3458608\ttotal: 3.99s\tremaining: 16s\n",
            "6:\tlearn: 0.3250237\ttotal: 4.62s\tremaining: 15.2s\n",
            "7:\tlearn: 0.3066846\ttotal: 5.27s\tremaining: 14.5s\n",
            "8:\tlearn: 0.2927699\ttotal: 5.9s\tremaining: 13.8s\n",
            "9:\tlearn: 0.2809673\ttotal: 6.54s\tremaining: 13.1s\n",
            "10:\tlearn: 0.2712519\ttotal: 7.19s\tremaining: 12.4s\n",
            "11:\tlearn: 0.2631819\ttotal: 7.82s\tremaining: 11.7s\n",
            "12:\tlearn: 0.2569794\ttotal: 8.47s\tremaining: 11.1s\n",
            "13:\tlearn: 0.2510208\ttotal: 9.1s\tremaining: 10.4s\n",
            "14:\tlearn: 0.2466972\ttotal: 9.74s\tremaining: 9.74s\n",
            "15:\tlearn: 0.2426652\ttotal: 10.4s\tremaining: 9.09s\n",
            "16:\tlearn: 0.2389708\ttotal: 11s\tremaining: 8.44s\n",
            "17:\tlearn: 0.2361869\ttotal: 11.7s\tremaining: 7.77s\n",
            "18:\tlearn: 0.2323573\ttotal: 12.3s\tremaining: 7.15s\n",
            "19:\tlearn: 0.2298511\ttotal: 13s\tremaining: 6.49s\n",
            "20:\tlearn: 0.2276343\ttotal: 13.6s\tremaining: 5.83s\n",
            "21:\tlearn: 0.2257779\ttotal: 14.3s\tremaining: 5.19s\n",
            "22:\tlearn: 0.2231949\ttotal: 14.9s\tremaining: 4.54s\n",
            "23:\tlearn: 0.2212895\ttotal: 15.6s\tremaining: 3.89s\n",
            "24:\tlearn: 0.2199128\ttotal: 16.2s\tremaining: 3.24s\n",
            "25:\tlearn: 0.2186142\ttotal: 16.9s\tremaining: 2.59s\n",
            "26:\tlearn: 0.2173166\ttotal: 17.5s\tremaining: 1.95s\n",
            "27:\tlearn: 0.2160264\ttotal: 18.1s\tremaining: 1.29s\n",
            "28:\tlearn: 0.2145569\ttotal: 18.8s\tremaining: 647ms\n",
            "29:\tlearn: 0.2133567\ttotal: 19.4s\tremaining: 0us\n",
            "0:\tlearn: 0.6827696\ttotal: 739ms\tremaining: 36.2s\n",
            "1:\tlearn: 0.6727142\ttotal: 1.36s\tremaining: 32.6s\n",
            "2:\tlearn: 0.6631187\ttotal: 2.03s\tremaining: 31.9s\n",
            "3:\tlearn: 0.6534163\ttotal: 2.69s\tremaining: 30.9s\n",
            "4:\tlearn: 0.6443543\ttotal: 3.3s\tremaining: 29.7s\n",
            "5:\tlearn: 0.6351968\ttotal: 3.94s\tremaining: 28.9s\n",
            "6:\tlearn: 0.6261908\ttotal: 4.59s\tremaining: 28.2s\n",
            "7:\tlearn: 0.6174979\ttotal: 5.27s\tremaining: 27.6s\n",
            "8:\tlearn: 0.6086111\ttotal: 5.92s\tremaining: 27s\n",
            "9:\tlearn: 0.6004303\ttotal: 6.61s\tremaining: 26.4s\n",
            "10:\tlearn: 0.5921306\ttotal: 7.39s\tremaining: 26.2s\n",
            "11:\tlearn: 0.5838282\ttotal: 8.07s\tremaining: 25.6s\n",
            "12:\tlearn: 0.5761711\ttotal: 8.68s\tremaining: 24.7s\n",
            "13:\tlearn: 0.5687467\ttotal: 9.32s\tremaining: 24s\n",
            "14:\tlearn: 0.5613952\ttotal: 9.94s\tremaining: 23.2s\n",
            "15:\tlearn: 0.5540432\ttotal: 10.6s\tremaining: 22.5s\n",
            "16:\tlearn: 0.5465125\ttotal: 11.2s\tremaining: 21.8s\n",
            "17:\tlearn: 0.5395632\ttotal: 11.9s\tremaining: 21.2s\n",
            "18:\tlearn: 0.5332460\ttotal: 12.6s\tremaining: 20.5s\n",
            "19:\tlearn: 0.5267686\ttotal: 13.2s\tremaining: 19.8s\n",
            "20:\tlearn: 0.5201500\ttotal: 13.9s\tremaining: 19.1s\n",
            "21:\tlearn: 0.5137467\ttotal: 14.5s\tremaining: 18.5s\n",
            "22:\tlearn: 0.5075655\ttotal: 15.2s\tremaining: 17.8s\n",
            "23:\tlearn: 0.5017224\ttotal: 15.8s\tremaining: 17.1s\n",
            "24:\tlearn: 0.4958738\ttotal: 16.4s\tremaining: 16.4s\n",
            "25:\tlearn: 0.4903126\ttotal: 17.1s\tremaining: 15.8s\n",
            "26:\tlearn: 0.4848576\ttotal: 17.7s\tremaining: 15.1s\n",
            "27:\tlearn: 0.4793413\ttotal: 18.4s\tremaining: 14.4s\n",
            "28:\tlearn: 0.4741505\ttotal: 19s\tremaining: 13.8s\n",
            "29:\tlearn: 0.4687338\ttotal: 19.6s\tremaining: 13.1s\n",
            "30:\tlearn: 0.4635953\ttotal: 20.3s\tremaining: 12.4s\n",
            "31:\tlearn: 0.4586670\ttotal: 20.9s\tremaining: 11.8s\n",
            "32:\tlearn: 0.4537431\ttotal: 21.6s\tremaining: 11.1s\n",
            "33:\tlearn: 0.4488496\ttotal: 22.2s\tremaining: 10.4s\n",
            "34:\tlearn: 0.4445910\ttotal: 22.8s\tremaining: 9.77s\n",
            "35:\tlearn: 0.4399399\ttotal: 23.4s\tremaining: 9.11s\n",
            "36:\tlearn: 0.4356132\ttotal: 24.1s\tremaining: 8.46s\n",
            "37:\tlearn: 0.4312913\ttotal: 24.7s\tremaining: 7.8s\n",
            "38:\tlearn: 0.4270840\ttotal: 25.3s\tremaining: 7.15s\n",
            "39:\tlearn: 0.4229407\ttotal: 26s\tremaining: 6.49s\n",
            "40:\tlearn: 0.4194045\ttotal: 26.6s\tremaining: 5.84s\n",
            "41:\tlearn: 0.4154861\ttotal: 27.2s\tremaining: 5.19s\n",
            "42:\tlearn: 0.4117618\ttotal: 27.8s\tremaining: 4.53s\n",
            "43:\tlearn: 0.4079323\ttotal: 28.5s\tremaining: 3.89s\n",
            "44:\tlearn: 0.4041721\ttotal: 29.1s\tremaining: 3.24s\n",
            "45:\tlearn: 0.4005585\ttotal: 29.8s\tremaining: 2.59s\n",
            "46:\tlearn: 0.3968986\ttotal: 30.4s\tremaining: 1.94s\n",
            "47:\tlearn: 0.3935805\ttotal: 31s\tremaining: 1.29s\n",
            "48:\tlearn: 0.3901720\ttotal: 31.7s\tremaining: 647ms\n",
            "49:\tlearn: 0.3869326\ttotal: 32.3s\tremaining: 0us\n",
            "0:\tlearn: 0.6823729\ttotal: 750ms\tremaining: 36.8s\n",
            "1:\tlearn: 0.6719428\ttotal: 1.37s\tremaining: 32.8s\n",
            "2:\tlearn: 0.6618823\ttotal: 2.03s\tremaining: 31.9s\n",
            "3:\tlearn: 0.6523896\ttotal: 2.66s\tremaining: 30.6s\n",
            "4:\tlearn: 0.6427582\ttotal: 3.32s\tremaining: 29.9s\n",
            "5:\tlearn: 0.6332724\ttotal: 3.98s\tremaining: 29.2s\n",
            "6:\tlearn: 0.6238651\ttotal: 4.66s\tremaining: 28.6s\n",
            "7:\tlearn: 0.6148315\ttotal: 5.35s\tremaining: 28.1s\n",
            "8:\tlearn: 0.6064548\ttotal: 6.01s\tremaining: 27.4s\n",
            "9:\tlearn: 0.5977005\ttotal: 6.68s\tremaining: 26.7s\n",
            "10:\tlearn: 0.5896372\ttotal: 7.32s\tremaining: 26s\n",
            "11:\tlearn: 0.5818888\ttotal: 8.02s\tremaining: 25.4s\n",
            "12:\tlearn: 0.5740682\ttotal: 8.69s\tremaining: 24.7s\n",
            "13:\tlearn: 0.5665355\ttotal: 9.34s\tremaining: 24s\n",
            "14:\tlearn: 0.5590688\ttotal: 10.1s\tremaining: 23.5s\n",
            "15:\tlearn: 0.5519401\ttotal: 10.7s\tremaining: 22.7s\n",
            "16:\tlearn: 0.5444989\ttotal: 11.3s\tremaining: 22s\n",
            "17:\tlearn: 0.5378044\ttotal: 12s\tremaining: 21.3s\n",
            "18:\tlearn: 0.5308841\ttotal: 12.6s\tremaining: 20.5s\n",
            "19:\tlearn: 0.5241042\ttotal: 13.2s\tremaining: 19.9s\n",
            "20:\tlearn: 0.5175053\ttotal: 13.9s\tremaining: 19.2s\n",
            "21:\tlearn: 0.5111573\ttotal: 14.5s\tremaining: 18.5s\n",
            "22:\tlearn: 0.5047849\ttotal: 15.2s\tremaining: 17.8s\n",
            "23:\tlearn: 0.4987533\ttotal: 15.8s\tremaining: 17.2s\n",
            "24:\tlearn: 0.4928491\ttotal: 16.5s\tremaining: 16.5s\n",
            "25:\tlearn: 0.4872069\ttotal: 17.1s\tremaining: 15.8s\n",
            "26:\tlearn: 0.4815993\ttotal: 17.7s\tremaining: 15.1s\n",
            "27:\tlearn: 0.4761726\ttotal: 18.4s\tremaining: 14.5s\n",
            "28:\tlearn: 0.4705778\ttotal: 19.1s\tremaining: 13.8s\n",
            "29:\tlearn: 0.4651342\ttotal: 19.7s\tremaining: 13.1s\n",
            "30:\tlearn: 0.4598640\ttotal: 20.4s\tremaining: 12.5s\n",
            "31:\tlearn: 0.4547639\ttotal: 21.1s\tremaining: 11.8s\n",
            "32:\tlearn: 0.4499623\ttotal: 21.7s\tremaining: 11.2s\n",
            "33:\tlearn: 0.4450179\ttotal: 22.4s\tremaining: 10.5s\n",
            "34:\tlearn: 0.4404598\ttotal: 23s\tremaining: 9.86s\n",
            "35:\tlearn: 0.4358016\ttotal: 23.7s\tremaining: 9.2s\n",
            "36:\tlearn: 0.4314008\ttotal: 24.3s\tremaining: 8.54s\n",
            "37:\tlearn: 0.4270591\ttotal: 25s\tremaining: 7.88s\n",
            "38:\tlearn: 0.4226774\ttotal: 25.6s\tremaining: 7.22s\n",
            "39:\tlearn: 0.4185853\ttotal: 26.3s\tremaining: 6.57s\n",
            "40:\tlearn: 0.4146492\ttotal: 26.9s\tremaining: 5.9s\n",
            "41:\tlearn: 0.4107301\ttotal: 27.5s\tremaining: 5.24s\n",
            "42:\tlearn: 0.4069299\ttotal: 28.2s\tremaining: 4.58s\n",
            "43:\tlearn: 0.4031223\ttotal: 28.8s\tremaining: 3.93s\n",
            "44:\tlearn: 0.3995481\ttotal: 29.5s\tremaining: 3.27s\n",
            "45:\tlearn: 0.3958746\ttotal: 30.1s\tremaining: 2.62s\n",
            "46:\tlearn: 0.3924538\ttotal: 30.8s\tremaining: 1.96s\n",
            "47:\tlearn: 0.3889070\ttotal: 31.4s\tremaining: 1.31s\n",
            "48:\tlearn: 0.3858300\ttotal: 32s\tremaining: 654ms\n",
            "49:\tlearn: 0.3824868\ttotal: 32.7s\tremaining: 0us\n",
            "0:\tlearn: 0.6428501\ttotal: 706ms\tremaining: 34.6s\n",
            "1:\tlearn: 0.5976140\ttotal: 1.32s\tremaining: 31.7s\n",
            "2:\tlearn: 0.5599785\ttotal: 1.92s\tremaining: 30.1s\n",
            "3:\tlearn: 0.5259189\ttotal: 2.53s\tremaining: 29.1s\n",
            "4:\tlearn: 0.4952775\ttotal: 3.13s\tremaining: 28.2s\n",
            "5:\tlearn: 0.4670230\ttotal: 3.75s\tremaining: 27.5s\n",
            "6:\tlearn: 0.4436580\ttotal: 4.36s\tremaining: 26.8s\n",
            "7:\tlearn: 0.4225196\ttotal: 4.99s\tremaining: 26.2s\n",
            "8:\tlearn: 0.4025990\ttotal: 5.61s\tremaining: 25.6s\n",
            "9:\tlearn: 0.3858053\ttotal: 6.24s\tremaining: 24.9s\n",
            "10:\tlearn: 0.3703507\ttotal: 6.86s\tremaining: 24.3s\n",
            "11:\tlearn: 0.3570605\ttotal: 7.56s\tremaining: 23.9s\n",
            "12:\tlearn: 0.3446184\ttotal: 8.18s\tremaining: 23.3s\n",
            "13:\tlearn: 0.3342261\ttotal: 8.79s\tremaining: 22.6s\n",
            "14:\tlearn: 0.3245623\ttotal: 9.41s\tremaining: 22s\n",
            "15:\tlearn: 0.3162360\ttotal: 10s\tremaining: 21.3s\n",
            "16:\tlearn: 0.3084662\ttotal: 10.6s\tremaining: 20.7s\n",
            "17:\tlearn: 0.3017193\ttotal: 11.3s\tremaining: 20s\n",
            "18:\tlearn: 0.2956377\ttotal: 11.9s\tremaining: 19.4s\n",
            "19:\tlearn: 0.2897582\ttotal: 12.5s\tremaining: 18.8s\n",
            "20:\tlearn: 0.2845503\ttotal: 13.1s\tremaining: 18.2s\n",
            "21:\tlearn: 0.2800316\ttotal: 13.8s\tremaining: 17.6s\n",
            "22:\tlearn: 0.2758601\ttotal: 14.4s\tremaining: 16.9s\n",
            "23:\tlearn: 0.2722524\ttotal: 15s\tremaining: 16.3s\n",
            "24:\tlearn: 0.2687393\ttotal: 15.6s\tremaining: 15.6s\n",
            "25:\tlearn: 0.2656594\ttotal: 16.3s\tremaining: 15s\n",
            "26:\tlearn: 0.2626161\ttotal: 16.9s\tremaining: 14.4s\n",
            "27:\tlearn: 0.2600230\ttotal: 17.6s\tremaining: 13.8s\n",
            "28:\tlearn: 0.2575852\ttotal: 18.2s\tremaining: 13.2s\n",
            "29:\tlearn: 0.2551240\ttotal: 18.8s\tremaining: 12.6s\n",
            "30:\tlearn: 0.2531315\ttotal: 19.5s\tremaining: 11.9s\n",
            "31:\tlearn: 0.2512658\ttotal: 20.1s\tremaining: 11.3s\n",
            "32:\tlearn: 0.2493084\ttotal: 20.7s\tremaining: 10.7s\n",
            "33:\tlearn: 0.2475783\ttotal: 21.3s\tremaining: 10s\n",
            "34:\tlearn: 0.2456369\ttotal: 22s\tremaining: 9.41s\n",
            "35:\tlearn: 0.2442561\ttotal: 22.7s\tremaining: 8.81s\n",
            "36:\tlearn: 0.2430118\ttotal: 23.3s\tremaining: 8.19s\n",
            "37:\tlearn: 0.2416480\ttotal: 23.9s\tremaining: 7.56s\n",
            "38:\tlearn: 0.2405224\ttotal: 24.5s\tremaining: 6.92s\n",
            "39:\tlearn: 0.2388097\ttotal: 25.2s\tremaining: 6.3s\n",
            "40:\tlearn: 0.2377850\ttotal: 25.8s\tremaining: 5.67s\n",
            "41:\tlearn: 0.2369508\ttotal: 26.4s\tremaining: 5.03s\n",
            "42:\tlearn: 0.2356881\ttotal: 27.1s\tremaining: 4.41s\n",
            "43:\tlearn: 0.2347245\ttotal: 27.7s\tremaining: 3.78s\n",
            "44:\tlearn: 0.2338664\ttotal: 28.4s\tremaining: 3.15s\n",
            "45:\tlearn: 0.2330143\ttotal: 29s\tremaining: 2.52s\n",
            "46:\tlearn: 0.2319230\ttotal: 29.6s\tremaining: 1.89s\n",
            "47:\tlearn: 0.2311664\ttotal: 30.2s\tremaining: 1.26s\n",
            "48:\tlearn: 0.2300443\ttotal: 30.9s\tremaining: 631ms\n",
            "49:\tlearn: 0.2293363\ttotal: 31.6s\tremaining: 0us\n",
            "0:\tlearn: 0.6412665\ttotal: 725ms\tremaining: 35.5s\n",
            "1:\tlearn: 0.5960787\ttotal: 1.33s\tremaining: 31.8s\n",
            "2:\tlearn: 0.5568715\ttotal: 1.92s\tremaining: 30.1s\n",
            "3:\tlearn: 0.5218917\ttotal: 2.53s\tremaining: 29.1s\n",
            "4:\tlearn: 0.4903257\ttotal: 3.12s\tremaining: 28.1s\n",
            "5:\tlearn: 0.4624700\ttotal: 3.76s\tremaining: 27.6s\n",
            "6:\tlearn: 0.4384371\ttotal: 4.38s\tremaining: 26.9s\n",
            "7:\tlearn: 0.4161336\ttotal: 5.01s\tremaining: 26.3s\n",
            "8:\tlearn: 0.3967655\ttotal: 5.64s\tremaining: 25.7s\n",
            "9:\tlearn: 0.3797679\ttotal: 6.26s\tremaining: 25.1s\n",
            "10:\tlearn: 0.3645306\ttotal: 6.88s\tremaining: 24.4s\n",
            "11:\tlearn: 0.3512338\ttotal: 7.55s\tremaining: 23.9s\n",
            "12:\tlearn: 0.3390008\ttotal: 8.18s\tremaining: 23.3s\n",
            "13:\tlearn: 0.3285671\ttotal: 8.8s\tremaining: 22.6s\n",
            "14:\tlearn: 0.3188779\ttotal: 9.45s\tremaining: 22.1s\n",
            "15:\tlearn: 0.3103505\ttotal: 10.1s\tremaining: 21.4s\n",
            "16:\tlearn: 0.3026854\ttotal: 10.7s\tremaining: 20.8s\n",
            "17:\tlearn: 0.2959625\ttotal: 11.4s\tremaining: 20.2s\n",
            "18:\tlearn: 0.2896220\ttotal: 12s\tremaining: 19.5s\n",
            "19:\tlearn: 0.2838508\ttotal: 12.6s\tremaining: 18.9s\n",
            "20:\tlearn: 0.2785457\ttotal: 13.2s\tremaining: 18.3s\n",
            "21:\tlearn: 0.2739562\ttotal: 13.9s\tremaining: 17.7s\n",
            "22:\tlearn: 0.2697741\ttotal: 14.5s\tremaining: 17s\n",
            "23:\tlearn: 0.2660174\ttotal: 15.1s\tremaining: 16.4s\n",
            "24:\tlearn: 0.2623695\ttotal: 15.7s\tremaining: 15.7s\n",
            "25:\tlearn: 0.2591273\ttotal: 16.4s\tremaining: 15.1s\n",
            "26:\tlearn: 0.2561662\ttotal: 17s\tremaining: 14.5s\n",
            "27:\tlearn: 0.2534805\ttotal: 17.6s\tremaining: 13.9s\n",
            "28:\tlearn: 0.2510880\ttotal: 18.2s\tremaining: 13.2s\n",
            "29:\tlearn: 0.2488918\ttotal: 18.8s\tremaining: 12.6s\n",
            "30:\tlearn: 0.2465979\ttotal: 19.5s\tremaining: 11.9s\n",
            "31:\tlearn: 0.2446342\ttotal: 20.1s\tremaining: 11.3s\n",
            "32:\tlearn: 0.2426770\ttotal: 20.7s\tremaining: 10.7s\n",
            "33:\tlearn: 0.2409600\ttotal: 21.3s\tremaining: 10s\n",
            "34:\tlearn: 0.2392029\ttotal: 21.9s\tremaining: 9.39s\n",
            "35:\tlearn: 0.2378370\ttotal: 22.5s\tremaining: 8.75s\n",
            "36:\tlearn: 0.2363722\ttotal: 23.1s\tremaining: 8.12s\n",
            "37:\tlearn: 0.2345705\ttotal: 23.8s\tremaining: 7.5s\n",
            "38:\tlearn: 0.2333158\ttotal: 24.4s\tremaining: 6.87s\n",
            "39:\tlearn: 0.2320219\ttotal: 25s\tremaining: 6.24s\n",
            "40:\tlearn: 0.2309808\ttotal: 25.6s\tremaining: 5.62s\n",
            "41:\tlearn: 0.2291742\ttotal: 26.2s\tremaining: 4.99s\n",
            "42:\tlearn: 0.2279397\ttotal: 26.8s\tremaining: 4.37s\n",
            "43:\tlearn: 0.2266350\ttotal: 27.5s\tremaining: 3.75s\n",
            "44:\tlearn: 0.2258029\ttotal: 28.1s\tremaining: 3.13s\n",
            "45:\tlearn: 0.2248508\ttotal: 28.8s\tremaining: 2.5s\n",
            "46:\tlearn: 0.2237023\ttotal: 29.4s\tremaining: 1.88s\n",
            "47:\tlearn: 0.2226168\ttotal: 30s\tremaining: 1.25s\n",
            "48:\tlearn: 0.2219610\ttotal: 30.7s\tremaining: 627ms\n",
            "49:\tlearn: 0.2209493\ttotal: 31.3s\tremaining: 0us\n",
            "0:\tlearn: 0.5965537\ttotal: 714ms\tremaining: 35s\n",
            "1:\tlearn: 0.5204570\ttotal: 1.3s\tremaining: 31.3s\n",
            "2:\tlearn: 0.4628716\ttotal: 1.91s\tremaining: 30s\n",
            "3:\tlearn: 0.4211104\ttotal: 2.53s\tremaining: 29.1s\n",
            "4:\tlearn: 0.3858018\ttotal: 3.14s\tremaining: 28.3s\n",
            "5:\tlearn: 0.3564402\ttotal: 3.78s\tremaining: 27.7s\n",
            "6:\tlearn: 0.3327417\ttotal: 4.39s\tremaining: 27s\n",
            "7:\tlearn: 0.3148114\ttotal: 5.02s\tremaining: 26.4s\n",
            "8:\tlearn: 0.3006642\ttotal: 5.66s\tremaining: 25.8s\n",
            "9:\tlearn: 0.2888366\ttotal: 6.29s\tremaining: 25.2s\n",
            "10:\tlearn: 0.2791046\ttotal: 6.96s\tremaining: 24.7s\n",
            "11:\tlearn: 0.2712648\ttotal: 7.58s\tremaining: 24s\n",
            "12:\tlearn: 0.2636174\ttotal: 8.22s\tremaining: 23.4s\n",
            "13:\tlearn: 0.2583052\ttotal: 8.84s\tremaining: 22.7s\n",
            "14:\tlearn: 0.2538406\ttotal: 9.46s\tremaining: 22.1s\n",
            "15:\tlearn: 0.2499663\ttotal: 10.1s\tremaining: 21.4s\n",
            "16:\tlearn: 0.2465151\ttotal: 10.7s\tremaining: 20.8s\n",
            "17:\tlearn: 0.2437919\ttotal: 11.3s\tremaining: 20.2s\n",
            "18:\tlearn: 0.2411256\ttotal: 11.9s\tremaining: 19.5s\n",
            "19:\tlearn: 0.2383073\ttotal: 12.6s\tremaining: 18.8s\n",
            "20:\tlearn: 0.2360787\ttotal: 13.2s\tremaining: 18.2s\n",
            "21:\tlearn: 0.2342740\ttotal: 13.8s\tremaining: 17.6s\n",
            "22:\tlearn: 0.2323523\ttotal: 14.4s\tremaining: 16.9s\n",
            "23:\tlearn: 0.2301433\ttotal: 15s\tremaining: 16.3s\n",
            "24:\tlearn: 0.2286259\ttotal: 15.6s\tremaining: 15.6s\n",
            "25:\tlearn: 0.2272797\ttotal: 16.2s\tremaining: 15s\n",
            "26:\tlearn: 0.2255347\ttotal: 17s\tremaining: 14.4s\n",
            "27:\tlearn: 0.2242997\ttotal: 17.6s\tremaining: 13.8s\n",
            "28:\tlearn: 0.2230953\ttotal: 18.2s\tremaining: 13.2s\n",
            "29:\tlearn: 0.2217221\ttotal: 18.8s\tremaining: 12.5s\n",
            "30:\tlearn: 0.2207105\ttotal: 19.4s\tremaining: 11.9s\n",
            "31:\tlearn: 0.2196967\ttotal: 20s\tremaining: 11.3s\n",
            "32:\tlearn: 0.2188420\ttotal: 20.6s\tremaining: 10.6s\n",
            "33:\tlearn: 0.2179043\ttotal: 21.2s\tremaining: 9.99s\n",
            "34:\tlearn: 0.2164414\ttotal: 21.8s\tremaining: 9.36s\n",
            "35:\tlearn: 0.2156480\ttotal: 22.4s\tremaining: 8.72s\n",
            "36:\tlearn: 0.2147414\ttotal: 23s\tremaining: 8.09s\n",
            "37:\tlearn: 0.2140051\ttotal: 23.6s\tremaining: 7.46s\n",
            "38:\tlearn: 0.2131949\ttotal: 24.2s\tremaining: 6.83s\n",
            "39:\tlearn: 0.2121962\ttotal: 24.8s\tremaining: 6.2s\n",
            "40:\tlearn: 0.2114359\ttotal: 25.4s\tremaining: 5.58s\n",
            "41:\tlearn: 0.2107602\ttotal: 26s\tremaining: 4.96s\n",
            "42:\tlearn: 0.2099735\ttotal: 26.7s\tremaining: 4.34s\n",
            "43:\tlearn: 0.2092464\ttotal: 27.3s\tremaining: 3.72s\n",
            "44:\tlearn: 0.2080975\ttotal: 27.9s\tremaining: 3.1s\n",
            "45:\tlearn: 0.2074903\ttotal: 28.5s\tremaining: 2.48s\n",
            "46:\tlearn: 0.2064153\ttotal: 29.1s\tremaining: 1.86s\n",
            "47:\tlearn: 0.2057552\ttotal: 29.7s\tremaining: 1.24s\n",
            "48:\tlearn: 0.2048113\ttotal: 30.4s\tremaining: 620ms\n",
            "49:\tlearn: 0.2042984\ttotal: 31s\tremaining: 0us\n",
            "0:\tlearn: 0.5933674\ttotal: 732ms\tremaining: 35.9s\n",
            "1:\tlearn: 0.5174545\ttotal: 1.38s\tremaining: 33s\n",
            "2:\tlearn: 0.4562281\ttotal: 2.02s\tremaining: 31.7s\n",
            "3:\tlearn: 0.4098831\ttotal: 2.65s\tremaining: 30.4s\n",
            "4:\tlearn: 0.3739388\ttotal: 3.27s\tremaining: 29.5s\n",
            "5:\tlearn: 0.3458608\ttotal: 3.9s\tremaining: 28.6s\n",
            "6:\tlearn: 0.3250237\ttotal: 4.52s\tremaining: 27.8s\n",
            "7:\tlearn: 0.3066846\ttotal: 5.14s\tremaining: 27s\n",
            "8:\tlearn: 0.2927699\ttotal: 5.75s\tremaining: 26.2s\n",
            "9:\tlearn: 0.2809673\ttotal: 6.42s\tremaining: 25.7s\n",
            "10:\tlearn: 0.2712519\ttotal: 7.04s\tremaining: 25s\n",
            "11:\tlearn: 0.2631819\ttotal: 7.65s\tremaining: 24.2s\n",
            "12:\tlearn: 0.2569794\ttotal: 8.26s\tremaining: 23.5s\n",
            "13:\tlearn: 0.2510208\ttotal: 8.86s\tremaining: 22.8s\n",
            "14:\tlearn: 0.2466972\ttotal: 9.49s\tremaining: 22.1s\n",
            "15:\tlearn: 0.2426652\ttotal: 10.1s\tremaining: 21.5s\n",
            "16:\tlearn: 0.2389708\ttotal: 10.7s\tremaining: 20.8s\n",
            "17:\tlearn: 0.2361869\ttotal: 11.3s\tremaining: 20.1s\n",
            "18:\tlearn: 0.2323573\ttotal: 12s\tremaining: 19.6s\n",
            "19:\tlearn: 0.2298511\ttotal: 12.6s\tremaining: 18.9s\n",
            "20:\tlearn: 0.2276343\ttotal: 13.2s\tremaining: 18.2s\n",
            "21:\tlearn: 0.2257779\ttotal: 13.8s\tremaining: 17.6s\n",
            "22:\tlearn: 0.2231949\ttotal: 14.4s\tremaining: 16.9s\n",
            "23:\tlearn: 0.2212895\ttotal: 15s\tremaining: 16.3s\n",
            "24:\tlearn: 0.2199128\ttotal: 15.6s\tremaining: 15.6s\n",
            "25:\tlearn: 0.2186142\ttotal: 16.3s\tremaining: 15s\n",
            "26:\tlearn: 0.2173166\ttotal: 16.9s\tremaining: 14.4s\n",
            "27:\tlearn: 0.2160264\ttotal: 17.5s\tremaining: 13.7s\n",
            "28:\tlearn: 0.2145569\ttotal: 18.1s\tremaining: 13.1s\n",
            "29:\tlearn: 0.2133567\ttotal: 18.7s\tremaining: 12.5s\n",
            "30:\tlearn: 0.2119666\ttotal: 19.3s\tremaining: 11.8s\n",
            "31:\tlearn: 0.2108416\ttotal: 19.9s\tremaining: 11.2s\n",
            "32:\tlearn: 0.2099958\ttotal: 20.5s\tremaining: 10.6s\n",
            "33:\tlearn: 0.2087856\ttotal: 21.1s\tremaining: 9.93s\n",
            "34:\tlearn: 0.2077939\ttotal: 21.7s\tremaining: 9.3s\n",
            "35:\tlearn: 0.2070741\ttotal: 22.3s\tremaining: 8.67s\n",
            "36:\tlearn: 0.2056300\ttotal: 22.9s\tremaining: 8.05s\n",
            "37:\tlearn: 0.2043957\ttotal: 23.5s\tremaining: 7.43s\n",
            "38:\tlearn: 0.2035542\ttotal: 24.1s\tremaining: 6.81s\n",
            "39:\tlearn: 0.2024452\ttotal: 24.7s\tremaining: 6.19s\n",
            "40:\tlearn: 0.2018198\ttotal: 25.3s\tremaining: 5.56s\n",
            "41:\tlearn: 0.2004577\ttotal: 26s\tremaining: 4.95s\n",
            "42:\tlearn: 0.1997621\ttotal: 26.6s\tremaining: 4.33s\n",
            "43:\tlearn: 0.1988534\ttotal: 27.2s\tremaining: 3.71s\n",
            "44:\tlearn: 0.1982266\ttotal: 27.8s\tremaining: 3.09s\n",
            "45:\tlearn: 0.1976613\ttotal: 28.4s\tremaining: 2.47s\n",
            "46:\tlearn: 0.1963093\ttotal: 29s\tremaining: 1.85s\n",
            "47:\tlearn: 0.1956591\ttotal: 29.6s\tremaining: 1.23s\n",
            "48:\tlearn: 0.1949930\ttotal: 30.2s\tremaining: 617ms\n",
            "49:\tlearn: 0.1942706\ttotal: 30.8s\tremaining: 0us\n",
            "0:\tlearn: 0.6827696\ttotal: 690ms\tremaining: 1m 8s\n",
            "1:\tlearn: 0.6727142\ttotal: 1.28s\tremaining: 1m 2s\n",
            "2:\tlearn: 0.6631187\ttotal: 1.88s\tremaining: 1m\n",
            "3:\tlearn: 0.6534163\ttotal: 2.5s\tremaining: 59.9s\n",
            "4:\tlearn: 0.6443543\ttotal: 3.07s\tremaining: 58.3s\n",
            "5:\tlearn: 0.6351968\ttotal: 3.68s\tremaining: 57.7s\n",
            "6:\tlearn: 0.6261908\ttotal: 4.29s\tremaining: 57s\n",
            "7:\tlearn: 0.6174979\ttotal: 4.91s\tremaining: 56.5s\n",
            "8:\tlearn: 0.6086111\ttotal: 5.51s\tremaining: 55.7s\n",
            "9:\tlearn: 0.6004303\ttotal: 6.1s\tremaining: 54.9s\n",
            "10:\tlearn: 0.5921306\ttotal: 6.73s\tremaining: 54.5s\n",
            "11:\tlearn: 0.5838282\ttotal: 7.35s\tremaining: 53.9s\n",
            "12:\tlearn: 0.5761711\ttotal: 7.93s\tremaining: 53.1s\n",
            "13:\tlearn: 0.5687467\ttotal: 8.53s\tremaining: 52.4s\n",
            "14:\tlearn: 0.5613952\ttotal: 9.13s\tremaining: 51.7s\n",
            "15:\tlearn: 0.5540432\ttotal: 9.73s\tremaining: 51.1s\n",
            "16:\tlearn: 0.5465125\ttotal: 10.4s\tremaining: 50.6s\n",
            "17:\tlearn: 0.5395632\ttotal: 11s\tremaining: 50s\n",
            "18:\tlearn: 0.5332460\ttotal: 11.6s\tremaining: 49.4s\n",
            "19:\tlearn: 0.5267686\ttotal: 12.2s\tremaining: 48.8s\n",
            "20:\tlearn: 0.5201500\ttotal: 12.8s\tremaining: 48.2s\n",
            "21:\tlearn: 0.5137467\ttotal: 13.4s\tremaining: 47.6s\n",
            "22:\tlearn: 0.5075655\ttotal: 14.1s\tremaining: 47.1s\n",
            "23:\tlearn: 0.5017224\ttotal: 14.7s\tremaining: 46.5s\n",
            "24:\tlearn: 0.4958738\ttotal: 15.3s\tremaining: 45.9s\n",
            "25:\tlearn: 0.4903126\ttotal: 15.9s\tremaining: 45.2s\n",
            "26:\tlearn: 0.4848576\ttotal: 16.6s\tremaining: 44.8s\n",
            "27:\tlearn: 0.4793413\ttotal: 17.2s\tremaining: 44.2s\n",
            "28:\tlearn: 0.4741505\ttotal: 17.8s\tremaining: 43.6s\n",
            "29:\tlearn: 0.4687338\ttotal: 18.4s\tremaining: 43s\n",
            "30:\tlearn: 0.4635953\ttotal: 19.1s\tremaining: 42.4s\n",
            "31:\tlearn: 0.4586670\ttotal: 19.7s\tremaining: 41.8s\n",
            "32:\tlearn: 0.4537431\ttotal: 20.3s\tremaining: 41.3s\n",
            "33:\tlearn: 0.4488496\ttotal: 20.9s\tremaining: 40.6s\n",
            "34:\tlearn: 0.4445910\ttotal: 21.5s\tremaining: 40s\n",
            "35:\tlearn: 0.4399399\ttotal: 22.1s\tremaining: 39.4s\n",
            "36:\tlearn: 0.4356132\ttotal: 22.8s\tremaining: 38.8s\n",
            "37:\tlearn: 0.4312913\ttotal: 23.4s\tremaining: 38.2s\n",
            "38:\tlearn: 0.4270840\ttotal: 24s\tremaining: 37.6s\n",
            "39:\tlearn: 0.4229407\ttotal: 24.7s\tremaining: 37s\n",
            "40:\tlearn: 0.4194045\ttotal: 25.3s\tremaining: 36.4s\n",
            "41:\tlearn: 0.4154861\ttotal: 25.9s\tremaining: 35.8s\n",
            "42:\tlearn: 0.4117618\ttotal: 26.6s\tremaining: 35.3s\n",
            "43:\tlearn: 0.4079323\ttotal: 27.2s\tremaining: 34.7s\n",
            "44:\tlearn: 0.4041721\ttotal: 27.8s\tremaining: 34s\n",
            "45:\tlearn: 0.4005585\ttotal: 28.5s\tremaining: 33.4s\n",
            "46:\tlearn: 0.3968986\ttotal: 29.1s\tremaining: 32.8s\n",
            "47:\tlearn: 0.3935805\ttotal: 29.7s\tremaining: 32.2s\n",
            "48:\tlearn: 0.3901720\ttotal: 30.4s\tremaining: 31.6s\n",
            "49:\tlearn: 0.3869326\ttotal: 31s\tremaining: 31s\n",
            "50:\tlearn: 0.3837117\ttotal: 31.7s\tremaining: 30.4s\n",
            "51:\tlearn: 0.3805125\ttotal: 32.3s\tremaining: 29.8s\n",
            "52:\tlearn: 0.3774074\ttotal: 32.9s\tremaining: 29.2s\n",
            "53:\tlearn: 0.3744578\ttotal: 33.5s\tremaining: 28.6s\n",
            "54:\tlearn: 0.3716829\ttotal: 34.2s\tremaining: 27.9s\n",
            "55:\tlearn: 0.3688362\ttotal: 34.8s\tremaining: 27.3s\n",
            "56:\tlearn: 0.3660541\ttotal: 35.4s\tremaining: 26.7s\n",
            "57:\tlearn: 0.3634009\ttotal: 36s\tremaining: 26.1s\n",
            "58:\tlearn: 0.3607164\ttotal: 36.7s\tremaining: 25.5s\n",
            "59:\tlearn: 0.3581791\ttotal: 37.3s\tremaining: 24.9s\n",
            "60:\tlearn: 0.3557529\ttotal: 37.9s\tremaining: 24.3s\n",
            "61:\tlearn: 0.3532554\ttotal: 38.5s\tremaining: 23.6s\n",
            "62:\tlearn: 0.3509859\ttotal: 39.2s\tremaining: 23s\n",
            "63:\tlearn: 0.3485790\ttotal: 39.8s\tremaining: 22.4s\n",
            "64:\tlearn: 0.3462647\ttotal: 40.4s\tremaining: 21.8s\n",
            "65:\tlearn: 0.3439042\ttotal: 41s\tremaining: 21.1s\n",
            "66:\tlearn: 0.3416631\ttotal: 41.6s\tremaining: 20.5s\n",
            "67:\tlearn: 0.3395270\ttotal: 42.3s\tremaining: 19.9s\n",
            "68:\tlearn: 0.3375186\ttotal: 42.9s\tremaining: 19.3s\n",
            "69:\tlearn: 0.3355182\ttotal: 43.5s\tremaining: 18.6s\n",
            "70:\tlearn: 0.3335233\ttotal: 44.1s\tremaining: 18s\n",
            "71:\tlearn: 0.3316244\ttotal: 44.7s\tremaining: 17.4s\n",
            "72:\tlearn: 0.3297098\ttotal: 45.4s\tremaining: 16.8s\n",
            "73:\tlearn: 0.3278920\ttotal: 46s\tremaining: 16.1s\n",
            "74:\tlearn: 0.3260918\ttotal: 46.6s\tremaining: 15.5s\n",
            "75:\tlearn: 0.3243050\ttotal: 47.2s\tremaining: 14.9s\n",
            "76:\tlearn: 0.3225636\ttotal: 47.8s\tremaining: 14.3s\n",
            "77:\tlearn: 0.3208262\ttotal: 48.4s\tremaining: 13.7s\n",
            "78:\tlearn: 0.3191236\ttotal: 49s\tremaining: 13s\n",
            "79:\tlearn: 0.3174304\ttotal: 49.7s\tremaining: 12.4s\n",
            "80:\tlearn: 0.3158063\ttotal: 50.3s\tremaining: 11.8s\n",
            "81:\tlearn: 0.3141711\ttotal: 50.9s\tremaining: 11.2s\n",
            "82:\tlearn: 0.3125999\ttotal: 51.5s\tremaining: 10.5s\n",
            "83:\tlearn: 0.3110795\ttotal: 52.1s\tremaining: 9.93s\n",
            "84:\tlearn: 0.3096226\ttotal: 52.7s\tremaining: 9.31s\n",
            "85:\tlearn: 0.3081906\ttotal: 53.3s\tremaining: 8.68s\n",
            "86:\tlearn: 0.3067826\ttotal: 54s\tremaining: 8.06s\n",
            "87:\tlearn: 0.3054106\ttotal: 54.6s\tremaining: 7.44s\n",
            "88:\tlearn: 0.3040453\ttotal: 55.2s\tremaining: 6.82s\n",
            "89:\tlearn: 0.3026361\ttotal: 55.8s\tremaining: 6.2s\n",
            "90:\tlearn: 0.3013701\ttotal: 56.5s\tremaining: 5.59s\n",
            "91:\tlearn: 0.3001056\ttotal: 57.1s\tremaining: 4.96s\n",
            "92:\tlearn: 0.2988036\ttotal: 57.7s\tremaining: 4.34s\n",
            "93:\tlearn: 0.2975954\ttotal: 58.3s\tremaining: 3.72s\n",
            "94:\tlearn: 0.2964628\ttotal: 59s\tremaining: 3.1s\n",
            "95:\tlearn: 0.2952322\ttotal: 59.6s\tremaining: 2.48s\n",
            "96:\tlearn: 0.2940641\ttotal: 1m\tremaining: 1.86s\n",
            "97:\tlearn: 0.2929159\ttotal: 1m\tremaining: 1.24s\n",
            "98:\tlearn: 0.2917570\ttotal: 1m 1s\tremaining: 622ms\n",
            "99:\tlearn: 0.2907306\ttotal: 1m 2s\tremaining: 0us\n",
            "0:\tlearn: 0.6823729\ttotal: 726ms\tremaining: 1m 11s\n",
            "1:\tlearn: 0.6719428\ttotal: 1.31s\tremaining: 1m 4s\n",
            "2:\tlearn: 0.6618823\ttotal: 1.95s\tremaining: 1m 2s\n",
            "3:\tlearn: 0.6523896\ttotal: 2.53s\tremaining: 1m\n",
            "4:\tlearn: 0.6427582\ttotal: 3.13s\tremaining: 59.4s\n",
            "5:\tlearn: 0.6332724\ttotal: 3.75s\tremaining: 58.7s\n",
            "6:\tlearn: 0.6238651\ttotal: 4.34s\tremaining: 57.7s\n",
            "7:\tlearn: 0.6148315\ttotal: 4.97s\tremaining: 57.2s\n",
            "8:\tlearn: 0.6064548\ttotal: 5.66s\tremaining: 57.2s\n",
            "9:\tlearn: 0.5977005\ttotal: 6.28s\tremaining: 56.5s\n",
            "10:\tlearn: 0.5896372\ttotal: 6.88s\tremaining: 55.7s\n",
            "11:\tlearn: 0.5818888\ttotal: 7.5s\tremaining: 55s\n",
            "12:\tlearn: 0.5740682\ttotal: 8.13s\tremaining: 54.4s\n",
            "13:\tlearn: 0.5665355\ttotal: 8.76s\tremaining: 53.8s\n",
            "14:\tlearn: 0.5590688\ttotal: 9.38s\tremaining: 53.1s\n",
            "15:\tlearn: 0.5519401\ttotal: 9.97s\tremaining: 52.4s\n",
            "16:\tlearn: 0.5444989\ttotal: 10.6s\tremaining: 51.7s\n",
            "17:\tlearn: 0.5378044\ttotal: 11.2s\tremaining: 50.9s\n",
            "18:\tlearn: 0.5308841\ttotal: 11.8s\tremaining: 50.3s\n",
            "19:\tlearn: 0.5241042\ttotal: 12.4s\tremaining: 49.5s\n",
            "20:\tlearn: 0.5175053\ttotal: 13s\tremaining: 48.9s\n",
            "21:\tlearn: 0.5111573\ttotal: 13.6s\tremaining: 48.3s\n",
            "22:\tlearn: 0.5047849\ttotal: 14.2s\tremaining: 47.7s\n",
            "23:\tlearn: 0.4987533\ttotal: 14.8s\tremaining: 47s\n",
            "24:\tlearn: 0.4928491\ttotal: 15.5s\tremaining: 46.5s\n",
            "25:\tlearn: 0.4872069\ttotal: 16.1s\tremaining: 46s\n",
            "26:\tlearn: 0.4815993\ttotal: 16.8s\tremaining: 45.3s\n",
            "27:\tlearn: 0.4761726\ttotal: 17.4s\tremaining: 44.7s\n",
            "28:\tlearn: 0.4705778\ttotal: 18s\tremaining: 44s\n",
            "29:\tlearn: 0.4651342\ttotal: 18.6s\tremaining: 43.4s\n",
            "30:\tlearn: 0.4598640\ttotal: 19.2s\tremaining: 42.8s\n",
            "31:\tlearn: 0.4547639\ttotal: 19.8s\tremaining: 42.1s\n",
            "32:\tlearn: 0.4499623\ttotal: 20.4s\tremaining: 41.5s\n",
            "33:\tlearn: 0.4450179\ttotal: 21.1s\tremaining: 40.9s\n",
            "34:\tlearn: 0.4404598\ttotal: 21.7s\tremaining: 40.3s\n",
            "35:\tlearn: 0.4358016\ttotal: 22.3s\tremaining: 39.7s\n",
            "36:\tlearn: 0.4314008\ttotal: 22.9s\tremaining: 39s\n",
            "37:\tlearn: 0.4270591\ttotal: 23.5s\tremaining: 38.4s\n",
            "38:\tlearn: 0.4226774\ttotal: 24.1s\tremaining: 37.8s\n",
            "39:\tlearn: 0.4185853\ttotal: 24.8s\tremaining: 37.1s\n",
            "40:\tlearn: 0.4146492\ttotal: 25.4s\tremaining: 36.6s\n",
            "41:\tlearn: 0.4107301\ttotal: 26s\tremaining: 36s\n",
            "42:\tlearn: 0.4069299\ttotal: 26.7s\tremaining: 35.3s\n",
            "43:\tlearn: 0.4031223\ttotal: 27.3s\tremaining: 34.7s\n",
            "44:\tlearn: 0.3995481\ttotal: 27.9s\tremaining: 34.1s\n",
            "45:\tlearn: 0.3958746\ttotal: 28.5s\tremaining: 33.5s\n",
            "46:\tlearn: 0.3924538\ttotal: 29.2s\tremaining: 32.9s\n",
            "47:\tlearn: 0.3889070\ttotal: 29.8s\tremaining: 32.3s\n",
            "48:\tlearn: 0.3858300\ttotal: 30.4s\tremaining: 31.7s\n",
            "49:\tlearn: 0.3824868\ttotal: 31.1s\tremaining: 31.1s\n",
            "50:\tlearn: 0.3793986\ttotal: 31.7s\tremaining: 30.5s\n",
            "51:\tlearn: 0.3761600\ttotal: 32.3s\tremaining: 29.8s\n",
            "52:\tlearn: 0.3731755\ttotal: 33s\tremaining: 29.2s\n",
            "53:\tlearn: 0.3702285\ttotal: 33.6s\tremaining: 28.6s\n",
            "54:\tlearn: 0.3675023\ttotal: 34.2s\tremaining: 28s\n",
            "55:\tlearn: 0.3645775\ttotal: 34.8s\tremaining: 27.4s\n",
            "56:\tlearn: 0.3617667\ttotal: 35.5s\tremaining: 26.8s\n",
            "57:\tlearn: 0.3590675\ttotal: 36.1s\tremaining: 26.1s\n",
            "58:\tlearn: 0.3564810\ttotal: 36.7s\tremaining: 25.5s\n",
            "59:\tlearn: 0.3538487\ttotal: 37.4s\tremaining: 24.9s\n",
            "60:\tlearn: 0.3513088\ttotal: 38s\tremaining: 24.3s\n",
            "61:\tlearn: 0.3488438\ttotal: 38.6s\tremaining: 23.7s\n",
            "62:\tlearn: 0.3463540\ttotal: 39.2s\tremaining: 23s\n",
            "63:\tlearn: 0.3439329\ttotal: 39.8s\tremaining: 22.4s\n",
            "64:\tlearn: 0.3416326\ttotal: 40.5s\tremaining: 21.8s\n",
            "65:\tlearn: 0.3393401\ttotal: 41.1s\tremaining: 21.2s\n",
            "66:\tlearn: 0.3371951\ttotal: 41.7s\tremaining: 20.5s\n",
            "67:\tlearn: 0.3350755\ttotal: 42.3s\tremaining: 19.9s\n",
            "68:\tlearn: 0.3329166\ttotal: 42.9s\tremaining: 19.3s\n",
            "69:\tlearn: 0.3308736\ttotal: 43.5s\tremaining: 18.7s\n",
            "70:\tlearn: 0.3288505\ttotal: 44.2s\tremaining: 18s\n",
            "71:\tlearn: 0.3269385\ttotal: 44.8s\tremaining: 17.4s\n",
            "72:\tlearn: 0.3248530\ttotal: 45.4s\tremaining: 16.8s\n",
            "73:\tlearn: 0.3230478\ttotal: 46s\tremaining: 16.2s\n",
            "74:\tlearn: 0.3213067\ttotal: 46.6s\tremaining: 15.5s\n",
            "75:\tlearn: 0.3194172\ttotal: 47.3s\tremaining: 14.9s\n",
            "76:\tlearn: 0.3176789\ttotal: 47.9s\tremaining: 14.3s\n",
            "77:\tlearn: 0.3160275\ttotal: 48.5s\tremaining: 13.7s\n",
            "78:\tlearn: 0.3143326\ttotal: 49.1s\tremaining: 13.1s\n",
            "79:\tlearn: 0.3127354\ttotal: 49.7s\tremaining: 12.4s\n",
            "80:\tlearn: 0.3111628\ttotal: 50.3s\tremaining: 11.8s\n",
            "81:\tlearn: 0.3094783\ttotal: 51s\tremaining: 11.2s\n",
            "82:\tlearn: 0.3079599\ttotal: 51.6s\tremaining: 10.6s\n",
            "83:\tlearn: 0.3065242\ttotal: 52.2s\tremaining: 9.94s\n",
            "84:\tlearn: 0.3050207\ttotal: 52.8s\tremaining: 9.31s\n",
            "85:\tlearn: 0.3035417\ttotal: 53.4s\tremaining: 8.69s\n",
            "86:\tlearn: 0.3021203\ttotal: 54s\tremaining: 8.07s\n",
            "87:\tlearn: 0.3007000\ttotal: 54.6s\tremaining: 7.45s\n",
            "88:\tlearn: 0.2993579\ttotal: 55.3s\tremaining: 6.83s\n",
            "89:\tlearn: 0.2980285\ttotal: 55.9s\tremaining: 6.21s\n",
            "90:\tlearn: 0.2966978\ttotal: 56.5s\tremaining: 5.59s\n",
            "91:\tlearn: 0.2953816\ttotal: 57.1s\tremaining: 4.97s\n",
            "92:\tlearn: 0.2940950\ttotal: 57.7s\tremaining: 4.35s\n",
            "93:\tlearn: 0.2928119\ttotal: 58.3s\tremaining: 3.72s\n",
            "94:\tlearn: 0.2916200\ttotal: 59s\tremaining: 3.1s\n",
            "95:\tlearn: 0.2904315\ttotal: 59.6s\tremaining: 2.48s\n",
            "96:\tlearn: 0.2891168\ttotal: 1m\tremaining: 1.86s\n",
            "97:\tlearn: 0.2880369\ttotal: 1m\tremaining: 1.24s\n",
            "98:\tlearn: 0.2869036\ttotal: 1m 1s\tremaining: 621ms\n",
            "99:\tlearn: 0.2857532\ttotal: 1m 2s\tremaining: 0us\n",
            "0:\tlearn: 0.6428501\ttotal: 721ms\tremaining: 1m 11s\n",
            "1:\tlearn: 0.5976140\ttotal: 1.33s\tremaining: 1m 5s\n",
            "2:\tlearn: 0.5599785\ttotal: 1.93s\tremaining: 1m 2s\n",
            "3:\tlearn: 0.5259189\ttotal: 2.58s\tremaining: 1m 1s\n",
            "4:\tlearn: 0.4952775\ttotal: 3.22s\tremaining: 1m 1s\n",
            "5:\tlearn: 0.4670230\ttotal: 3.86s\tremaining: 1m\n",
            "6:\tlearn: 0.4436580\ttotal: 4.48s\tremaining: 59.6s\n",
            "7:\tlearn: 0.4225196\ttotal: 5.11s\tremaining: 58.7s\n",
            "8:\tlearn: 0.4025990\ttotal: 5.75s\tremaining: 58.1s\n",
            "9:\tlearn: 0.3858053\ttotal: 6.38s\tremaining: 57.4s\n",
            "10:\tlearn: 0.3703507\ttotal: 7.03s\tremaining: 56.9s\n",
            "11:\tlearn: 0.3570605\ttotal: 7.67s\tremaining: 56.2s\n",
            "12:\tlearn: 0.3446184\ttotal: 8.3s\tremaining: 55.5s\n",
            "13:\tlearn: 0.3342261\ttotal: 8.93s\tremaining: 54.9s\n",
            "14:\tlearn: 0.3245623\ttotal: 9.55s\tremaining: 54.1s\n",
            "15:\tlearn: 0.3162360\ttotal: 10.2s\tremaining: 53.5s\n",
            "16:\tlearn: 0.3084662\ttotal: 10.8s\tremaining: 52.8s\n",
            "17:\tlearn: 0.3017193\ttotal: 11.5s\tremaining: 52.2s\n",
            "18:\tlearn: 0.2956377\ttotal: 12.1s\tremaining: 51.5s\n",
            "19:\tlearn: 0.2897582\ttotal: 12.7s\tremaining: 50.8s\n",
            "20:\tlearn: 0.2845503\ttotal: 13.4s\tremaining: 50.3s\n",
            "21:\tlearn: 0.2800316\ttotal: 14s\tremaining: 49.7s\n",
            "22:\tlearn: 0.2758601\ttotal: 14.6s\tremaining: 49s\n",
            "23:\tlearn: 0.2722524\ttotal: 15.3s\tremaining: 48.3s\n",
            "24:\tlearn: 0.2687393\ttotal: 15.9s\tremaining: 47.7s\n",
            "25:\tlearn: 0.2656594\ttotal: 16.5s\tremaining: 47s\n",
            "26:\tlearn: 0.2626161\ttotal: 17.2s\tremaining: 46.5s\n",
            "27:\tlearn: 0.2600230\ttotal: 17.9s\tremaining: 45.9s\n",
            "28:\tlearn: 0.2575852\ttotal: 18.6s\tremaining: 45.6s\n",
            "29:\tlearn: 0.2551240\ttotal: 19.2s\tremaining: 44.9s\n",
            "30:\tlearn: 0.2531315\ttotal: 19.9s\tremaining: 44.2s\n",
            "31:\tlearn: 0.2512658\ttotal: 20.5s\tremaining: 43.5s\n",
            "32:\tlearn: 0.2493084\ttotal: 21.1s\tremaining: 42.8s\n",
            "33:\tlearn: 0.2475783\ttotal: 21.7s\tremaining: 42.1s\n",
            "34:\tlearn: 0.2456369\ttotal: 22.3s\tremaining: 41.5s\n",
            "35:\tlearn: 0.2442561\ttotal: 22.9s\tremaining: 40.8s\n",
            "36:\tlearn: 0.2430118\ttotal: 23.6s\tremaining: 40.2s\n",
            "37:\tlearn: 0.2416480\ttotal: 24.3s\tremaining: 39.6s\n",
            "38:\tlearn: 0.2405224\ttotal: 24.9s\tremaining: 38.9s\n",
            "39:\tlearn: 0.2388097\ttotal: 25.5s\tremaining: 38.2s\n",
            "40:\tlearn: 0.2377850\ttotal: 26.1s\tremaining: 37.6s\n",
            "41:\tlearn: 0.2369508\ttotal: 26.7s\tremaining: 36.9s\n",
            "42:\tlearn: 0.2356881\ttotal: 27.4s\tremaining: 36.3s\n",
            "43:\tlearn: 0.2347245\ttotal: 28s\tremaining: 35.7s\n",
            "44:\tlearn: 0.2338664\ttotal: 28.7s\tremaining: 35s\n",
            "45:\tlearn: 0.2330143\ttotal: 29.3s\tremaining: 34.4s\n",
            "46:\tlearn: 0.2319230\ttotal: 29.9s\tremaining: 33.7s\n",
            "47:\tlearn: 0.2311664\ttotal: 30.5s\tremaining: 33s\n",
            "48:\tlearn: 0.2300443\ttotal: 31.1s\tremaining: 32.4s\n",
            "49:\tlearn: 0.2293363\ttotal: 31.7s\tremaining: 31.7s\n",
            "50:\tlearn: 0.2285996\ttotal: 32.3s\tremaining: 31.1s\n",
            "51:\tlearn: 0.2278607\ttotal: 33s\tremaining: 30.4s\n",
            "52:\tlearn: 0.2269285\ttotal: 33.6s\tremaining: 29.8s\n",
            "53:\tlearn: 0.2262448\ttotal: 34.2s\tremaining: 29.2s\n",
            "54:\tlearn: 0.2256774\ttotal: 34.9s\tremaining: 28.5s\n",
            "55:\tlearn: 0.2250934\ttotal: 35.5s\tremaining: 27.9s\n",
            "56:\tlearn: 0.2245200\ttotal: 36.1s\tremaining: 27.2s\n",
            "57:\tlearn: 0.2238086\ttotal: 36.7s\tremaining: 26.6s\n",
            "58:\tlearn: 0.2233179\ttotal: 37.4s\tremaining: 26s\n",
            "59:\tlearn: 0.2227657\ttotal: 38s\tremaining: 25.3s\n",
            "60:\tlearn: 0.2221567\ttotal: 38.6s\tremaining: 24.7s\n",
            "61:\tlearn: 0.2214970\ttotal: 39.2s\tremaining: 24s\n",
            "62:\tlearn: 0.2208780\ttotal: 39.8s\tremaining: 23.4s\n",
            "63:\tlearn: 0.2203812\ttotal: 40.4s\tremaining: 22.7s\n",
            "64:\tlearn: 0.2199575\ttotal: 41.1s\tremaining: 22.1s\n",
            "65:\tlearn: 0.2192780\ttotal: 41.7s\tremaining: 21.5s\n",
            "66:\tlearn: 0.2188009\ttotal: 42.3s\tremaining: 20.8s\n",
            "67:\tlearn: 0.2181921\ttotal: 42.9s\tremaining: 20.2s\n",
            "68:\tlearn: 0.2177781\ttotal: 43.6s\tremaining: 19.6s\n",
            "69:\tlearn: 0.2170490\ttotal: 44.3s\tremaining: 19s\n",
            "70:\tlearn: 0.2165862\ttotal: 44.9s\tremaining: 18.3s\n",
            "71:\tlearn: 0.2161439\ttotal: 45.5s\tremaining: 17.7s\n",
            "72:\tlearn: 0.2157080\ttotal: 46.2s\tremaining: 17.1s\n",
            "73:\tlearn: 0.2153248\ttotal: 46.8s\tremaining: 16.4s\n",
            "74:\tlearn: 0.2148577\ttotal: 47.4s\tremaining: 15.8s\n",
            "75:\tlearn: 0.2143934\ttotal: 48.1s\tremaining: 15.2s\n",
            "76:\tlearn: 0.2139792\ttotal: 48.7s\tremaining: 14.6s\n",
            "77:\tlearn: 0.2136102\ttotal: 49.3s\tremaining: 13.9s\n",
            "78:\tlearn: 0.2131619\ttotal: 50s\tremaining: 13.3s\n",
            "79:\tlearn: 0.2128471\ttotal: 50.6s\tremaining: 12.6s\n",
            "80:\tlearn: 0.2123059\ttotal: 51.2s\tremaining: 12s\n",
            "81:\tlearn: 0.2119457\ttotal: 51.8s\tremaining: 11.4s\n",
            "82:\tlearn: 0.2115034\ttotal: 52.4s\tremaining: 10.7s\n",
            "83:\tlearn: 0.2111400\ttotal: 53s\tremaining: 10.1s\n",
            "84:\tlearn: 0.2105926\ttotal: 53.7s\tremaining: 9.47s\n",
            "85:\tlearn: 0.2102247\ttotal: 54.3s\tremaining: 8.84s\n",
            "86:\tlearn: 0.2095802\ttotal: 54.9s\tremaining: 8.2s\n",
            "87:\tlearn: 0.2092104\ttotal: 55.5s\tremaining: 7.57s\n",
            "88:\tlearn: 0.2088988\ttotal: 56.1s\tremaining: 6.93s\n",
            "89:\tlearn: 0.2085854\ttotal: 56.7s\tremaining: 6.3s\n",
            "90:\tlearn: 0.2081818\ttotal: 57.3s\tremaining: 5.67s\n",
            "91:\tlearn: 0.2078797\ttotal: 58s\tremaining: 5.04s\n",
            "92:\tlearn: 0.2074780\ttotal: 58.6s\tremaining: 4.41s\n",
            "93:\tlearn: 0.2070945\ttotal: 59.2s\tremaining: 3.78s\n",
            "94:\tlearn: 0.2067833\ttotal: 59.8s\tremaining: 3.15s\n",
            "95:\tlearn: 0.2064005\ttotal: 1m\tremaining: 2.52s\n",
            "96:\tlearn: 0.2059049\ttotal: 1m 1s\tremaining: 1.89s\n",
            "97:\tlearn: 0.2055454\ttotal: 1m 1s\tremaining: 1.26s\n",
            "98:\tlearn: 0.2049978\ttotal: 1m 2s\tremaining: 629ms\n",
            "99:\tlearn: 0.2046310\ttotal: 1m 2s\tremaining: 0us\n",
            "0:\tlearn: 0.6412665\ttotal: 746ms\tremaining: 1m 13s\n",
            "1:\tlearn: 0.5960787\ttotal: 1.37s\tremaining: 1m 7s\n",
            "2:\tlearn: 0.5568715\ttotal: 2.02s\tremaining: 1m 5s\n",
            "3:\tlearn: 0.5218917\ttotal: 2.64s\tremaining: 1m 3s\n",
            "4:\tlearn: 0.4903257\ttotal: 3.25s\tremaining: 1m 1s\n",
            "5:\tlearn: 0.4624700\ttotal: 3.89s\tremaining: 1m\n",
            "6:\tlearn: 0.4384371\ttotal: 4.52s\tremaining: 1m\n",
            "7:\tlearn: 0.4161336\ttotal: 5.18s\tremaining: 59.6s\n",
            "8:\tlearn: 0.3967655\ttotal: 5.81s\tremaining: 58.8s\n",
            "9:\tlearn: 0.3797679\ttotal: 6.44s\tremaining: 57.9s\n",
            "10:\tlearn: 0.3645306\ttotal: 7.07s\tremaining: 57.2s\n",
            "11:\tlearn: 0.3512338\ttotal: 7.72s\tremaining: 56.7s\n",
            "12:\tlearn: 0.3390008\ttotal: 8.35s\tremaining: 55.9s\n",
            "13:\tlearn: 0.3285671\ttotal: 8.97s\tremaining: 55.1s\n",
            "14:\tlearn: 0.3188779\ttotal: 9.6s\tremaining: 54.4s\n",
            "15:\tlearn: 0.3103505\ttotal: 10.2s\tremaining: 53.6s\n",
            "16:\tlearn: 0.3026854\ttotal: 10.8s\tremaining: 52.9s\n",
            "17:\tlearn: 0.2959625\ttotal: 11.5s\tremaining: 52.4s\n",
            "18:\tlearn: 0.2896220\ttotal: 12.1s\tremaining: 51.7s\n",
            "19:\tlearn: 0.2838508\ttotal: 12.8s\tremaining: 51s\n",
            "20:\tlearn: 0.2785457\ttotal: 13.4s\tremaining: 50.3s\n",
            "21:\tlearn: 0.2739562\ttotal: 14s\tremaining: 49.6s\n",
            "22:\tlearn: 0.2697741\ttotal: 14.6s\tremaining: 48.9s\n",
            "23:\tlearn: 0.2660174\ttotal: 15.2s\tremaining: 48.3s\n",
            "24:\tlearn: 0.2623695\ttotal: 15.9s\tremaining: 47.6s\n",
            "25:\tlearn: 0.2591273\ttotal: 16.5s\tremaining: 46.9s\n",
            "26:\tlearn: 0.2561662\ttotal: 17.1s\tremaining: 46.3s\n",
            "27:\tlearn: 0.2534805\ttotal: 17.7s\tremaining: 45.6s\n",
            "28:\tlearn: 0.2510880\ttotal: 18.4s\tremaining: 45s\n",
            "29:\tlearn: 0.2488918\ttotal: 19s\tremaining: 44.3s\n",
            "30:\tlearn: 0.2465979\ttotal: 19.6s\tremaining: 43.6s\n",
            "31:\tlearn: 0.2446342\ttotal: 20.2s\tremaining: 43s\n",
            "32:\tlearn: 0.2426770\ttotal: 20.8s\tremaining: 42.3s\n",
            "33:\tlearn: 0.2409600\ttotal: 21.5s\tremaining: 41.7s\n",
            "34:\tlearn: 0.2392029\ttotal: 22.1s\tremaining: 41.1s\n",
            "35:\tlearn: 0.2378370\ttotal: 22.7s\tremaining: 40.4s\n",
            "36:\tlearn: 0.2363722\ttotal: 23.4s\tremaining: 39.8s\n",
            "37:\tlearn: 0.2345705\ttotal: 24s\tremaining: 39.1s\n",
            "38:\tlearn: 0.2333158\ttotal: 24.6s\tremaining: 38.5s\n",
            "39:\tlearn: 0.2320219\ttotal: 25.2s\tremaining: 37.9s\n",
            "40:\tlearn: 0.2309808\ttotal: 25.8s\tremaining: 37.2s\n",
            "41:\tlearn: 0.2291742\ttotal: 26.5s\tremaining: 36.6s\n",
            "42:\tlearn: 0.2279397\ttotal: 27.1s\tremaining: 35.9s\n",
            "43:\tlearn: 0.2266350\ttotal: 27.7s\tremaining: 35.3s\n",
            "44:\tlearn: 0.2258029\ttotal: 28.4s\tremaining: 34.7s\n",
            "45:\tlearn: 0.2248508\ttotal: 29s\tremaining: 34.1s\n",
            "46:\tlearn: 0.2237023\ttotal: 29.7s\tremaining: 33.4s\n",
            "47:\tlearn: 0.2226168\ttotal: 30.3s\tremaining: 32.8s\n",
            "48:\tlearn: 0.2219610\ttotal: 30.9s\tremaining: 32.2s\n",
            "49:\tlearn: 0.2209493\ttotal: 31.6s\tremaining: 31.6s\n",
            "50:\tlearn: 0.2202664\ttotal: 32.2s\tremaining: 30.9s\n",
            "51:\tlearn: 0.2195756\ttotal: 32.8s\tremaining: 30.3s\n",
            "52:\tlearn: 0.2188735\ttotal: 33.4s\tremaining: 29.6s\n",
            "53:\tlearn: 0.2181347\ttotal: 34s\tremaining: 29s\n",
            "54:\tlearn: 0.2171509\ttotal: 34.6s\tremaining: 28.3s\n",
            "55:\tlearn: 0.2163994\ttotal: 35.2s\tremaining: 27.7s\n",
            "56:\tlearn: 0.2158179\ttotal: 35.9s\tremaining: 27.1s\n",
            "57:\tlearn: 0.2152835\ttotal: 36.5s\tremaining: 26.4s\n",
            "58:\tlearn: 0.2145593\ttotal: 37.1s\tremaining: 25.8s\n",
            "59:\tlearn: 0.2138335\ttotal: 37.7s\tremaining: 25.1s\n",
            "60:\tlearn: 0.2132328\ttotal: 38.3s\tremaining: 24.5s\n",
            "61:\tlearn: 0.2126048\ttotal: 38.9s\tremaining: 23.8s\n",
            "62:\tlearn: 0.2118644\ttotal: 39.5s\tremaining: 23.2s\n",
            "63:\tlearn: 0.2113935\ttotal: 40.1s\tremaining: 22.6s\n",
            "64:\tlearn: 0.2107857\ttotal: 40.7s\tremaining: 21.9s\n",
            "65:\tlearn: 0.2101416\ttotal: 41.3s\tremaining: 21.3s\n",
            "66:\tlearn: 0.2096422\ttotal: 42s\tremaining: 20.7s\n",
            "67:\tlearn: 0.2092118\ttotal: 42.6s\tremaining: 20s\n",
            "68:\tlearn: 0.2086252\ttotal: 43.2s\tremaining: 19.4s\n",
            "69:\tlearn: 0.2079940\ttotal: 43.8s\tremaining: 18.8s\n",
            "70:\tlearn: 0.2073457\ttotal: 44.4s\tremaining: 18.1s\n",
            "71:\tlearn: 0.2066618\ttotal: 45.1s\tremaining: 17.5s\n",
            "72:\tlearn: 0.2060717\ttotal: 45.7s\tremaining: 16.9s\n",
            "73:\tlearn: 0.2056579\ttotal: 46.3s\tremaining: 16.3s\n",
            "74:\tlearn: 0.2052630\ttotal: 46.9s\tremaining: 15.6s\n",
            "75:\tlearn: 0.2048165\ttotal: 47.5s\tremaining: 15s\n",
            "76:\tlearn: 0.2043516\ttotal: 48.1s\tremaining: 14.4s\n",
            "77:\tlearn: 0.2038365\ttotal: 48.8s\tremaining: 13.8s\n",
            "78:\tlearn: 0.2033500\ttotal: 49.4s\tremaining: 13.1s\n",
            "79:\tlearn: 0.2029400\ttotal: 50s\tremaining: 12.5s\n",
            "80:\tlearn: 0.2025325\ttotal: 50.6s\tremaining: 11.9s\n",
            "81:\tlearn: 0.2022325\ttotal: 51.3s\tremaining: 11.3s\n",
            "82:\tlearn: 0.2019170\ttotal: 51.9s\tremaining: 10.6s\n",
            "83:\tlearn: 0.2015662\ttotal: 52.5s\tremaining: 10s\n",
            "84:\tlearn: 0.2012328\ttotal: 53.1s\tremaining: 9.37s\n",
            "85:\tlearn: 0.2008783\ttotal: 53.7s\tremaining: 8.75s\n",
            "86:\tlearn: 0.2005202\ttotal: 54.3s\tremaining: 8.12s\n",
            "87:\tlearn: 0.1999389\ttotal: 54.9s\tremaining: 7.49s\n",
            "88:\tlearn: 0.1995878\ttotal: 55.6s\tremaining: 6.87s\n",
            "89:\tlearn: 0.1991596\ttotal: 56.2s\tremaining: 6.25s\n",
            "90:\tlearn: 0.1986615\ttotal: 56.9s\tremaining: 5.63s\n",
            "91:\tlearn: 0.1981640\ttotal: 57.6s\tremaining: 5.01s\n",
            "92:\tlearn: 0.1977953\ttotal: 58.2s\tremaining: 4.38s\n",
            "93:\tlearn: 0.1974784\ttotal: 58.8s\tremaining: 3.75s\n",
            "94:\tlearn: 0.1971004\ttotal: 59.4s\tremaining: 3.13s\n",
            "95:\tlearn: 0.1965080\ttotal: 1m\tremaining: 2.5s\n",
            "96:\tlearn: 0.1960271\ttotal: 1m\tremaining: 1.88s\n",
            "97:\tlearn: 0.1957546\ttotal: 1m 1s\tremaining: 1.25s\n",
            "98:\tlearn: 0.1953792\ttotal: 1m 1s\tremaining: 626ms\n",
            "99:\tlearn: 0.1949456\ttotal: 1m 2s\tremaining: 0us\n",
            "0:\tlearn: 0.5965537\ttotal: 740ms\tremaining: 1m 13s\n",
            "1:\tlearn: 0.5204570\ttotal: 1.38s\tremaining: 1m 7s\n",
            "2:\tlearn: 0.4628716\ttotal: 2.01s\tremaining: 1m 4s\n",
            "3:\tlearn: 0.4211104\ttotal: 2.65s\tremaining: 1m 3s\n",
            "4:\tlearn: 0.3858018\ttotal: 3.29s\tremaining: 1m 2s\n",
            "5:\tlearn: 0.3564402\ttotal: 3.92s\tremaining: 1m 1s\n",
            "6:\tlearn: 0.3327417\ttotal: 4.57s\tremaining: 1m\n",
            "7:\tlearn: 0.3148114\ttotal: 5.2s\tremaining: 59.8s\n",
            "8:\tlearn: 0.3006642\ttotal: 5.84s\tremaining: 59s\n",
            "9:\tlearn: 0.2888366\ttotal: 6.48s\tremaining: 58.3s\n",
            "10:\tlearn: 0.2791046\ttotal: 7.11s\tremaining: 57.5s\n",
            "11:\tlearn: 0.2712648\ttotal: 7.76s\tremaining: 56.9s\n",
            "12:\tlearn: 0.2636174\ttotal: 8.4s\tremaining: 56.2s\n",
            "13:\tlearn: 0.2583052\ttotal: 9.07s\tremaining: 55.7s\n",
            "14:\tlearn: 0.2538406\ttotal: 9.73s\tremaining: 55.2s\n",
            "15:\tlearn: 0.2499663\ttotal: 10.4s\tremaining: 54.4s\n",
            "16:\tlearn: 0.2465151\ttotal: 11s\tremaining: 53.7s\n",
            "17:\tlearn: 0.2437919\ttotal: 11.6s\tremaining: 53s\n",
            "18:\tlearn: 0.2411256\ttotal: 12.3s\tremaining: 52.2s\n",
            "19:\tlearn: 0.2383073\ttotal: 12.9s\tremaining: 51.6s\n",
            "20:\tlearn: 0.2360787\ttotal: 13.6s\tremaining: 51s\n",
            "21:\tlearn: 0.2342740\ttotal: 14.2s\tremaining: 50.4s\n",
            "22:\tlearn: 0.2323523\ttotal: 14.8s\tremaining: 49.6s\n",
            "23:\tlearn: 0.2301433\ttotal: 15.5s\tremaining: 49s\n",
            "24:\tlearn: 0.2286259\ttotal: 16.1s\tremaining: 48.3s\n",
            "25:\tlearn: 0.2272797\ttotal: 16.7s\tremaining: 47.6s\n",
            "26:\tlearn: 0.2255347\ttotal: 17.4s\tremaining: 47s\n",
            "27:\tlearn: 0.2242997\ttotal: 18s\tremaining: 46.3s\n",
            "28:\tlearn: 0.2230953\ttotal: 18.6s\tremaining: 45.6s\n",
            "29:\tlearn: 0.2217221\ttotal: 19.4s\tremaining: 45.2s\n",
            "30:\tlearn: 0.2207105\ttotal: 20s\tremaining: 44.5s\n",
            "31:\tlearn: 0.2196967\ttotal: 20.6s\tremaining: 43.8s\n",
            "32:\tlearn: 0.2188420\ttotal: 21.2s\tremaining: 43.1s\n",
            "33:\tlearn: 0.2179043\ttotal: 21.8s\tremaining: 42.4s\n",
            "34:\tlearn: 0.2164414\ttotal: 22.5s\tremaining: 41.7s\n",
            "35:\tlearn: 0.2156480\ttotal: 23.1s\tremaining: 41.1s\n",
            "36:\tlearn: 0.2147414\ttotal: 23.7s\tremaining: 40.4s\n",
            "37:\tlearn: 0.2140051\ttotal: 24.4s\tremaining: 39.8s\n",
            "38:\tlearn: 0.2131949\ttotal: 25s\tremaining: 39.1s\n",
            "39:\tlearn: 0.2121962\ttotal: 25.6s\tremaining: 38.4s\n",
            "40:\tlearn: 0.2114359\ttotal: 26.2s\tremaining: 37.7s\n",
            "41:\tlearn: 0.2107602\ttotal: 26.8s\tremaining: 37s\n",
            "42:\tlearn: 0.2099735\ttotal: 27.4s\tremaining: 36.3s\n",
            "43:\tlearn: 0.2092464\ttotal: 28s\tremaining: 35.6s\n",
            "44:\tlearn: 0.2080975\ttotal: 28.6s\tremaining: 35s\n",
            "45:\tlearn: 0.2074903\ttotal: 29.2s\tremaining: 34.3s\n",
            "46:\tlearn: 0.2064153\ttotal: 29.9s\tremaining: 33.7s\n",
            "47:\tlearn: 0.2057552\ttotal: 30.5s\tremaining: 33s\n",
            "48:\tlearn: 0.2048113\ttotal: 31.1s\tremaining: 32.4s\n",
            "49:\tlearn: 0.2042984\ttotal: 31.7s\tremaining: 31.7s\n",
            "50:\tlearn: 0.2035525\ttotal: 32.3s\tremaining: 31.1s\n",
            "51:\tlearn: 0.2027398\ttotal: 33s\tremaining: 30.4s\n",
            "52:\tlearn: 0.2022061\ttotal: 33.6s\tremaining: 29.8s\n",
            "53:\tlearn: 0.2015992\ttotal: 34.2s\tremaining: 29.1s\n",
            "54:\tlearn: 0.2009538\ttotal: 34.8s\tremaining: 28.5s\n",
            "55:\tlearn: 0.2004475\ttotal: 35.4s\tremaining: 27.8s\n",
            "56:\tlearn: 0.1994955\ttotal: 36s\tremaining: 27.2s\n",
            "57:\tlearn: 0.1989793\ttotal: 36.7s\tremaining: 26.5s\n",
            "58:\tlearn: 0.1985042\ttotal: 37.3s\tremaining: 25.9s\n",
            "59:\tlearn: 0.1979433\ttotal: 37.8s\tremaining: 25.2s\n",
            "60:\tlearn: 0.1975132\ttotal: 38.4s\tremaining: 24.6s\n",
            "61:\tlearn: 0.1968295\ttotal: 39.1s\tremaining: 24s\n",
            "62:\tlearn: 0.1963353\ttotal: 39.7s\tremaining: 23.3s\n",
            "63:\tlearn: 0.1956781\ttotal: 40.3s\tremaining: 22.7s\n",
            "64:\tlearn: 0.1952292\ttotal: 40.9s\tremaining: 22s\n",
            "65:\tlearn: 0.1946129\ttotal: 41.5s\tremaining: 21.4s\n",
            "66:\tlearn: 0.1941660\ttotal: 42.1s\tremaining: 20.7s\n",
            "67:\tlearn: 0.1937588\ttotal: 42.7s\tremaining: 20.1s\n",
            "68:\tlearn: 0.1933150\ttotal: 43.3s\tremaining: 19.5s\n",
            "69:\tlearn: 0.1928084\ttotal: 43.9s\tremaining: 18.8s\n",
            "70:\tlearn: 0.1922697\ttotal: 44.5s\tremaining: 18.2s\n",
            "71:\tlearn: 0.1918607\ttotal: 45.1s\tremaining: 17.5s\n",
            "72:\tlearn: 0.1913934\ttotal: 45.7s\tremaining: 16.9s\n",
            "73:\tlearn: 0.1910465\ttotal: 46.3s\tremaining: 16.3s\n",
            "74:\tlearn: 0.1905365\ttotal: 46.9s\tremaining: 15.6s\n",
            "75:\tlearn: 0.1901155\ttotal: 47.5s\tremaining: 15s\n",
            "76:\tlearn: 0.1897965\ttotal: 48.1s\tremaining: 14.4s\n",
            "77:\tlearn: 0.1894541\ttotal: 48.7s\tremaining: 13.7s\n",
            "78:\tlearn: 0.1888733\ttotal: 49.3s\tremaining: 13.1s\n",
            "79:\tlearn: 0.1884830\ttotal: 49.9s\tremaining: 12.5s\n",
            "80:\tlearn: 0.1879922\ttotal: 50.5s\tremaining: 11.9s\n",
            "81:\tlearn: 0.1876241\ttotal: 51.1s\tremaining: 11.2s\n",
            "82:\tlearn: 0.1872789\ttotal: 51.8s\tremaining: 10.6s\n",
            "83:\tlearn: 0.1868237\ttotal: 52.3s\tremaining: 9.97s\n",
            "84:\tlearn: 0.1860466\ttotal: 53s\tremaining: 9.35s\n",
            "85:\tlearn: 0.1857072\ttotal: 53.5s\tremaining: 8.72s\n",
            "86:\tlearn: 0.1853396\ttotal: 54.1s\tremaining: 8.09s\n",
            "87:\tlearn: 0.1845999\ttotal: 54.7s\tremaining: 7.46s\n",
            "88:\tlearn: 0.1841728\ttotal: 55.3s\tremaining: 6.84s\n",
            "89:\tlearn: 0.1838677\ttotal: 55.9s\tremaining: 6.22s\n",
            "90:\tlearn: 0.1834630\ttotal: 56.6s\tremaining: 5.59s\n",
            "91:\tlearn: 0.1831604\ttotal: 57.2s\tremaining: 4.97s\n",
            "92:\tlearn: 0.1828479\ttotal: 57.7s\tremaining: 4.35s\n",
            "93:\tlearn: 0.1824925\ttotal: 58.4s\tremaining: 3.72s\n",
            "94:\tlearn: 0.1820886\ttotal: 59s\tremaining: 3.1s\n",
            "95:\tlearn: 0.1817676\ttotal: 59.6s\tremaining: 2.48s\n",
            "96:\tlearn: 0.1815034\ttotal: 1m\tremaining: 1.86s\n",
            "97:\tlearn: 0.1811543\ttotal: 1m\tremaining: 1.24s\n",
            "98:\tlearn: 0.1808896\ttotal: 1m 1s\tremaining: 620ms\n",
            "99:\tlearn: 0.1805869\ttotal: 1m 1s\tremaining: 0us\n",
            "0:\tlearn: 0.5933674\ttotal: 707ms\tremaining: 1m 9s\n",
            "1:\tlearn: 0.5174545\ttotal: 1.29s\tremaining: 1m 3s\n",
            "2:\tlearn: 0.4562281\ttotal: 1.94s\tremaining: 1m 2s\n",
            "3:\tlearn: 0.4098831\ttotal: 2.56s\tremaining: 1m 1s\n",
            "4:\tlearn: 0.3739388\ttotal: 3.18s\tremaining: 1m\n",
            "5:\tlearn: 0.3458608\ttotal: 3.81s\tremaining: 59.6s\n",
            "6:\tlearn: 0.3250237\ttotal: 4.45s\tremaining: 59.1s\n",
            "7:\tlearn: 0.3066846\ttotal: 5.08s\tremaining: 58.4s\n",
            "8:\tlearn: 0.2927699\ttotal: 5.69s\tremaining: 57.6s\n",
            "9:\tlearn: 0.2809673\ttotal: 6.31s\tremaining: 56.8s\n",
            "10:\tlearn: 0.2712519\ttotal: 6.92s\tremaining: 56s\n",
            "11:\tlearn: 0.2631819\ttotal: 7.54s\tremaining: 55.3s\n",
            "12:\tlearn: 0.2569794\ttotal: 8.2s\tremaining: 54.9s\n",
            "13:\tlearn: 0.2510208\ttotal: 8.81s\tremaining: 54.1s\n",
            "14:\tlearn: 0.2466972\ttotal: 9.45s\tremaining: 53.6s\n",
            "15:\tlearn: 0.2426652\ttotal: 10.1s\tremaining: 53.1s\n",
            "16:\tlearn: 0.2389708\ttotal: 10.7s\tremaining: 52.4s\n",
            "17:\tlearn: 0.2361869\ttotal: 11.4s\tremaining: 51.8s\n",
            "18:\tlearn: 0.2323573\ttotal: 12s\tremaining: 51.3s\n",
            "19:\tlearn: 0.2298511\ttotal: 12.7s\tremaining: 50.7s\n",
            "20:\tlearn: 0.2276343\ttotal: 13.4s\tremaining: 50.4s\n",
            "21:\tlearn: 0.2257779\ttotal: 14s\tremaining: 49.7s\n",
            "22:\tlearn: 0.2231949\ttotal: 14.7s\tremaining: 49.1s\n",
            "23:\tlearn: 0.2212895\ttotal: 15.3s\tremaining: 48.4s\n",
            "24:\tlearn: 0.2199128\ttotal: 15.9s\tremaining: 47.7s\n",
            "25:\tlearn: 0.2186142\ttotal: 16.5s\tremaining: 47s\n",
            "26:\tlearn: 0.2173166\ttotal: 17.1s\tremaining: 46.3s\n",
            "27:\tlearn: 0.2160264\ttotal: 17.8s\tremaining: 45.7s\n",
            "28:\tlearn: 0.2145569\ttotal: 18.4s\tremaining: 45.1s\n",
            "29:\tlearn: 0.2133567\ttotal: 19s\tremaining: 44.3s\n",
            "30:\tlearn: 0.2119666\ttotal: 19.6s\tremaining: 43.6s\n",
            "31:\tlearn: 0.2108416\ttotal: 20.2s\tremaining: 42.9s\n",
            "32:\tlearn: 0.2099958\ttotal: 20.8s\tremaining: 42.2s\n",
            "33:\tlearn: 0.2087856\ttotal: 21.4s\tremaining: 41.6s\n",
            "34:\tlearn: 0.2077939\ttotal: 22s\tremaining: 40.9s\n",
            "35:\tlearn: 0.2070741\ttotal: 22.6s\tremaining: 40.1s\n",
            "36:\tlearn: 0.2056300\ttotal: 23.2s\tremaining: 39.5s\n",
            "37:\tlearn: 0.2043957\ttotal: 23.8s\tremaining: 38.9s\n",
            "38:\tlearn: 0.2035542\ttotal: 24.4s\tremaining: 38.2s\n",
            "39:\tlearn: 0.2024452\ttotal: 25s\tremaining: 37.6s\n",
            "40:\tlearn: 0.2018198\ttotal: 25.6s\tremaining: 36.9s\n",
            "41:\tlearn: 0.2004577\ttotal: 26.3s\tremaining: 36.3s\n",
            "42:\tlearn: 0.1997621\ttotal: 26.9s\tremaining: 35.6s\n",
            "43:\tlearn: 0.1988534\ttotal: 27.5s\tremaining: 35s\n",
            "44:\tlearn: 0.1982266\ttotal: 28.2s\tremaining: 34.5s\n",
            "45:\tlearn: 0.1976613\ttotal: 28.8s\tremaining: 33.8s\n",
            "46:\tlearn: 0.1963093\ttotal: 29.4s\tremaining: 33.2s\n",
            "47:\tlearn: 0.1956591\ttotal: 30s\tremaining: 32.5s\n",
            "48:\tlearn: 0.1949930\ttotal: 30.7s\tremaining: 31.9s\n",
            "49:\tlearn: 0.1942706\ttotal: 31.3s\tremaining: 31.3s\n",
            "50:\tlearn: 0.1935443\ttotal: 31.9s\tremaining: 30.6s\n",
            "51:\tlearn: 0.1929883\ttotal: 32.5s\tremaining: 30s\n",
            "52:\tlearn: 0.1924430\ttotal: 33.1s\tremaining: 29.3s\n",
            "53:\tlearn: 0.1917710\ttotal: 33.6s\tremaining: 28.7s\n",
            "54:\tlearn: 0.1912967\ttotal: 34.3s\tremaining: 28s\n",
            "55:\tlearn: 0.1906276\ttotal: 34.9s\tremaining: 27.4s\n",
            "56:\tlearn: 0.1899696\ttotal: 35.4s\tremaining: 26.7s\n",
            "57:\tlearn: 0.1895393\ttotal: 36s\tremaining: 26.1s\n",
            "58:\tlearn: 0.1889404\ttotal: 36.6s\tremaining: 25.4s\n",
            "59:\tlearn: 0.1883694\ttotal: 37.2s\tremaining: 24.8s\n",
            "60:\tlearn: 0.1876570\ttotal: 37.9s\tremaining: 24.2s\n",
            "61:\tlearn: 0.1871220\ttotal: 38.5s\tremaining: 23.6s\n",
            "62:\tlearn: 0.1866879\ttotal: 39.1s\tremaining: 23s\n",
            "63:\tlearn: 0.1859935\ttotal: 39.7s\tremaining: 22.4s\n",
            "64:\tlearn: 0.1854662\ttotal: 40.4s\tremaining: 21.7s\n",
            "65:\tlearn: 0.1847510\ttotal: 41s\tremaining: 21.1s\n",
            "66:\tlearn: 0.1841307\ttotal: 41.7s\tremaining: 20.5s\n",
            "67:\tlearn: 0.1837599\ttotal: 42.3s\tremaining: 19.9s\n",
            "68:\tlearn: 0.1833314\ttotal: 42.9s\tremaining: 19.3s\n",
            "69:\tlearn: 0.1828326\ttotal: 43.6s\tremaining: 18.7s\n",
            "70:\tlearn: 0.1823615\ttotal: 44.1s\tremaining: 18s\n",
            "71:\tlearn: 0.1817519\ttotal: 44.8s\tremaining: 17.4s\n",
            "72:\tlearn: 0.1813752\ttotal: 45.4s\tremaining: 16.8s\n",
            "73:\tlearn: 0.1810221\ttotal: 46s\tremaining: 16.2s\n",
            "74:\tlearn: 0.1806099\ttotal: 46.6s\tremaining: 15.5s\n",
            "75:\tlearn: 0.1802801\ttotal: 47.3s\tremaining: 14.9s\n",
            "76:\tlearn: 0.1798592\ttotal: 48s\tremaining: 14.3s\n",
            "77:\tlearn: 0.1795378\ttotal: 48.6s\tremaining: 13.7s\n",
            "78:\tlearn: 0.1792080\ttotal: 49.2s\tremaining: 13.1s\n",
            "79:\tlearn: 0.1789137\ttotal: 49.8s\tremaining: 12.4s\n",
            "80:\tlearn: 0.1783673\ttotal: 50.4s\tremaining: 11.8s\n",
            "81:\tlearn: 0.1780580\ttotal: 51s\tremaining: 11.2s\n",
            "82:\tlearn: 0.1777595\ttotal: 51.7s\tremaining: 10.6s\n",
            "83:\tlearn: 0.1772877\ttotal: 52.3s\tremaining: 9.96s\n",
            "84:\tlearn: 0.1767902\ttotal: 52.9s\tremaining: 9.33s\n",
            "85:\tlearn: 0.1764834\ttotal: 53.5s\tremaining: 8.71s\n",
            "86:\tlearn: 0.1761005\ttotal: 54.1s\tremaining: 8.08s\n",
            "87:\tlearn: 0.1758137\ttotal: 54.7s\tremaining: 7.46s\n",
            "88:\tlearn: 0.1753086\ttotal: 55.3s\tremaining: 6.84s\n",
            "89:\tlearn: 0.1748354\ttotal: 55.9s\tremaining: 6.21s\n",
            "90:\tlearn: 0.1743978\ttotal: 56.5s\tremaining: 5.59s\n",
            "91:\tlearn: 0.1740458\ttotal: 57.1s\tremaining: 4.96s\n",
            "92:\tlearn: 0.1737625\ttotal: 57.7s\tremaining: 4.34s\n",
            "93:\tlearn: 0.1734257\ttotal: 58.4s\tremaining: 3.72s\n",
            "94:\tlearn: 0.1730955\ttotal: 58.9s\tremaining: 3.1s\n",
            "95:\tlearn: 0.1727883\ttotal: 59.5s\tremaining: 2.48s\n",
            "96:\tlearn: 0.1724815\ttotal: 1m\tremaining: 1.86s\n",
            "97:\tlearn: 0.1722205\ttotal: 1m\tremaining: 1.24s\n",
            "98:\tlearn: 0.1718323\ttotal: 1m 1s\tremaining: 619ms\n",
            "99:\tlearn: 0.1715422\ttotal: 1m 1s\tremaining: 0us\n",
            "0:\tlearn: 0.5937454\ttotal: 1.34s\tremaining: 2m 12s\n",
            "1:\tlearn: 0.5150904\ttotal: 2.52s\tremaining: 2m 3s\n",
            "2:\tlearn: 0.4547377\ttotal: 3.74s\tremaining: 2m\n",
            "3:\tlearn: 0.4084598\ttotal: 4.96s\tremaining: 1m 59s\n",
            "4:\tlearn: 0.3731409\ttotal: 6.21s\tremaining: 1m 57s\n",
            "5:\tlearn: 0.3450086\ttotal: 7.44s\tremaining: 1m 56s\n",
            "6:\tlearn: 0.3231341\ttotal: 8.65s\tremaining: 1m 54s\n",
            "7:\tlearn: 0.3065610\ttotal: 9.88s\tremaining: 1m 53s\n",
            "8:\tlearn: 0.2923646\ttotal: 11.1s\tremaining: 1m 52s\n",
            "9:\tlearn: 0.2811655\ttotal: 12.3s\tremaining: 1m 50s\n",
            "10:\tlearn: 0.2720673\ttotal: 13.5s\tremaining: 1m 49s\n",
            "11:\tlearn: 0.2645594\ttotal: 14.7s\tremaining: 1m 47s\n",
            "12:\tlearn: 0.2582882\ttotal: 15.9s\tremaining: 1m 46s\n",
            "13:\tlearn: 0.2530454\ttotal: 17.2s\tremaining: 1m 45s\n",
            "14:\tlearn: 0.2484162\ttotal: 18.4s\tremaining: 1m 44s\n",
            "15:\tlearn: 0.2445571\ttotal: 19.6s\tremaining: 1m 42s\n",
            "16:\tlearn: 0.2403269\ttotal: 20.9s\tremaining: 1m 41s\n",
            "17:\tlearn: 0.2374599\ttotal: 22.1s\tremaining: 1m 40s\n",
            "18:\tlearn: 0.2348447\ttotal: 23.4s\tremaining: 1m 39s\n",
            "19:\tlearn: 0.2326594\ttotal: 24.6s\tremaining: 1m 38s\n",
            "20:\tlearn: 0.2307784\ttotal: 25.9s\tremaining: 1m 37s\n",
            "21:\tlearn: 0.2288790\ttotal: 27.1s\tremaining: 1m 36s\n",
            "22:\tlearn: 0.2263829\ttotal: 28.3s\tremaining: 1m 34s\n",
            "23:\tlearn: 0.2250591\ttotal: 29.4s\tremaining: 1m 33s\n",
            "24:\tlearn: 0.2237235\ttotal: 30.6s\tremaining: 1m 31s\n",
            "25:\tlearn: 0.2222468\ttotal: 31.7s\tremaining: 1m 30s\n",
            "26:\tlearn: 0.2209876\ttotal: 32.9s\tremaining: 1m 28s\n",
            "27:\tlearn: 0.2196969\ttotal: 34.1s\tremaining: 1m 27s\n",
            "28:\tlearn: 0.2187595\ttotal: 35.2s\tremaining: 1m 26s\n",
            "29:\tlearn: 0.2176645\ttotal: 36.4s\tremaining: 1m 24s\n",
            "30:\tlearn: 0.2165056\ttotal: 37.6s\tremaining: 1m 23s\n",
            "31:\tlearn: 0.2149148\ttotal: 38.7s\tremaining: 1m 22s\n",
            "32:\tlearn: 0.2139061\ttotal: 39.9s\tremaining: 1m 21s\n",
            "33:\tlearn: 0.2130128\ttotal: 41s\tremaining: 1m 19s\n",
            "34:\tlearn: 0.2119875\ttotal: 42.2s\tremaining: 1m 18s\n",
            "35:\tlearn: 0.2104425\ttotal: 43.4s\tremaining: 1m 17s\n",
            "36:\tlearn: 0.2096431\ttotal: 44.6s\tremaining: 1m 15s\n",
            "37:\tlearn: 0.2086614\ttotal: 45.7s\tremaining: 1m 14s\n",
            "38:\tlearn: 0.2079446\ttotal: 46.8s\tremaining: 1m 13s\n",
            "39:\tlearn: 0.2068998\ttotal: 48s\tremaining: 1m 11s\n",
            "40:\tlearn: 0.2058551\ttotal: 49.1s\tremaining: 1m 10s\n",
            "41:\tlearn: 0.2052431\ttotal: 50.3s\tremaining: 1m 9s\n",
            "42:\tlearn: 0.2044873\ttotal: 51.5s\tremaining: 1m 8s\n",
            "43:\tlearn: 0.2036608\ttotal: 52.7s\tremaining: 1m 7s\n",
            "44:\tlearn: 0.2029118\ttotal: 53.8s\tremaining: 1m 5s\n",
            "45:\tlearn: 0.2021513\ttotal: 55s\tremaining: 1m 4s\n",
            "46:\tlearn: 0.2014953\ttotal: 56.1s\tremaining: 1m 3s\n",
            "47:\tlearn: 0.2005925\ttotal: 57.3s\tremaining: 1m 2s\n",
            "48:\tlearn: 0.2001244\ttotal: 58.5s\tremaining: 1m\n",
            "49:\tlearn: 0.1992484\ttotal: 59.6s\tremaining: 59.6s\n",
            "50:\tlearn: 0.1986733\ttotal: 1m\tremaining: 58.3s\n",
            "51:\tlearn: 0.1981780\ttotal: 1m 1s\tremaining: 57.1s\n",
            "52:\tlearn: 0.1975917\ttotal: 1m 2s\tremaining: 55.8s\n",
            "53:\tlearn: 0.1969384\ttotal: 1m 4s\tremaining: 54.7s\n",
            "54:\tlearn: 0.1965487\ttotal: 1m 5s\tremaining: 53.4s\n",
            "55:\tlearn: 0.1960296\ttotal: 1m 6s\tremaining: 52.2s\n",
            "56:\tlearn: 0.1955234\ttotal: 1m 7s\tremaining: 50.9s\n",
            "57:\tlearn: 0.1948942\ttotal: 1m 8s\tremaining: 49.7s\n",
            "58:\tlearn: 0.1941828\ttotal: 1m 9s\tremaining: 48.6s\n",
            "59:\tlearn: 0.1937045\ttotal: 1m 11s\tremaining: 47.4s\n",
            "60:\tlearn: 0.1930124\ttotal: 1m 12s\tremaining: 46.2s\n",
            "61:\tlearn: 0.1925939\ttotal: 1m 13s\tremaining: 45s\n",
            "62:\tlearn: 0.1922540\ttotal: 1m 14s\tremaining: 43.8s\n",
            "63:\tlearn: 0.1917668\ttotal: 1m 15s\tremaining: 42.5s\n",
            "64:\tlearn: 0.1912049\ttotal: 1m 16s\tremaining: 41.3s\n",
            "65:\tlearn: 0.1907549\ttotal: 1m 17s\tremaining: 40.1s\n",
            "66:\tlearn: 0.1903240\ttotal: 1m 19s\tremaining: 38.9s\n",
            "67:\tlearn: 0.1898589\ttotal: 1m 20s\tremaining: 37.7s\n",
            "68:\tlearn: 0.1894913\ttotal: 1m 21s\tremaining: 36.6s\n",
            "69:\tlearn: 0.1887839\ttotal: 1m 22s\tremaining: 35.3s\n",
            "70:\tlearn: 0.1883299\ttotal: 1m 23s\tremaining: 34.1s\n",
            "71:\tlearn: 0.1879039\ttotal: 1m 24s\tremaining: 32.9s\n",
            "72:\tlearn: 0.1875550\ttotal: 1m 25s\tremaining: 31.7s\n",
            "73:\tlearn: 0.1872810\ttotal: 1m 26s\tremaining: 30.5s\n",
            "74:\tlearn: 0.1868586\ttotal: 1m 27s\tremaining: 29.3s\n",
            "75:\tlearn: 0.1865754\ttotal: 1m 29s\tremaining: 28.1s\n",
            "76:\tlearn: 0.1862498\ttotal: 1m 30s\tremaining: 27s\n",
            "77:\tlearn: 0.1857518\ttotal: 1m 31s\tremaining: 25.8s\n",
            "78:\tlearn: 0.1851559\ttotal: 1m 32s\tremaining: 24.6s\n",
            "79:\tlearn: 0.1845400\ttotal: 1m 33s\tremaining: 23.4s\n",
            "80:\tlearn: 0.1842183\ttotal: 1m 34s\tremaining: 22.2s\n",
            "81:\tlearn: 0.1835377\ttotal: 1m 35s\tremaining: 21.1s\n",
            "82:\tlearn: 0.1831635\ttotal: 1m 37s\tremaining: 19.9s\n",
            "83:\tlearn: 0.1828443\ttotal: 1m 38s\tremaining: 18.7s\n",
            "84:\tlearn: 0.1825132\ttotal: 1m 39s\tremaining: 17.5s\n",
            "85:\tlearn: 0.1819113\ttotal: 1m 40s\tremaining: 16.4s\n",
            "86:\tlearn: 0.1816280\ttotal: 1m 41s\tremaining: 15.2s\n",
            "87:\tlearn: 0.1812987\ttotal: 1m 42s\tremaining: 14s\n",
            "88:\tlearn: 0.1809868\ttotal: 1m 43s\tremaining: 12.8s\n",
            "89:\tlearn: 0.1806892\ttotal: 1m 44s\tremaining: 11.7s\n",
            "90:\tlearn: 0.1801255\ttotal: 1m 46s\tremaining: 10.5s\n",
            "91:\tlearn: 0.1798278\ttotal: 1m 47s\tremaining: 9.32s\n",
            "92:\tlearn: 0.1793965\ttotal: 1m 48s\tremaining: 8.15s\n",
            "93:\tlearn: 0.1791116\ttotal: 1m 49s\tremaining: 6.99s\n",
            "94:\tlearn: 0.1787942\ttotal: 1m 50s\tremaining: 5.82s\n",
            "95:\tlearn: 0.1783553\ttotal: 1m 51s\tremaining: 4.66s\n",
            "96:\tlearn: 0.1780524\ttotal: 1m 52s\tremaining: 3.49s\n",
            "97:\tlearn: 0.1777313\ttotal: 1m 54s\tremaining: 2.33s\n",
            "98:\tlearn: 0.1771951\ttotal: 1m 55s\tremaining: 1.16s\n",
            "99:\tlearn: 0.1769110\ttotal: 1m 56s\tremaining: 0us\n",
            "CPU times: user 33min 5s, sys: 19 s, total: 33min 24s\n",
            "Wall time: 34min 4s\n"
          ]
        },
        {
          "data": {
            "text/plain": [
              "GridSearchCV(cv=2,\n",
              "             estimator=Pipeline(steps=[('vect',\n",
              "                                        TfidfVectorizer(stop_words='english',\n",
              "                                                        sublinear_tf=True)),\n",
              "                                       ('ct',\n",
              "                                        <catboost.core.CatBoostClassifier object at 0x7f1dfb16c160>)]),\n",
              "             n_jobs=-1,\n",
              "             param_grid={'ct__depth': range(3, 5),\n",
              "                         'ct__iterations': [30, 50, 100],\n",
              "                         'ct__learning_rate': [0.01, 0.05, 0.1]},\n",
              "             scoring='f1')"
            ]
          },
          "execution_count": 53,
          "metadata": {},
          "output_type": "execute_result"
        }
      ],
      "source": [
        "%%time\n",
        "pipeline_CtB = Pipeline([(\"vect\", TfidfVectorizer(stop_words='english', sublinear_tf=True)),\n",
        "                     ('ct', CatBoostClassifier(random_state=12345))])\n",
        "\n",
        "params_CtB = {'ct__depth' : range(3,5),\n",
        "              'ct__learning_rate' : [0.01, 0.05, 0.1],\n",
        "              'ct__iterations'    : [30, 50, 100]\n",
        "             }\n",
        "\n",
        "model_CtB= GridSearchCV(pipeline_CtB,\n",
        "                        params_CtB,\n",
        "                        scoring='f1',\n",
        "                        cv=2,\n",
        "                        n_jobs=-1)\n",
        "\n",
        "model_CtB.fit(features_train, targets_train)"
      ]
    },
    {
      "cell_type": "code",
      "execution_count": null,
      "metadata": {
        "id": "kwU-vPTDXJPx",
        "outputId": "1fd826b6-8ec9-4cb0-d237-a67758abeb10"
      },
      "outputs": [
        {
          "name": "stdout",
          "output_type": "stream",
          "text": [
            "Лучшие параметры на градиентном бустинге: {'ct__depth': 4, 'ct__iterations': 100, 'ct__learning_rate': 0.1}\n",
            "F1 на CatBoost: 0.6308623170703284\n"
          ]
        }
      ],
      "source": [
        "print(\"Лучшие параметры на градиентном бустинге:\", model_CtB.best_params_)\n",
        "print(\"F1 на CatBoost:\", model_CtB.best_score_)"
      ]
    },
    {
      "cell_type": "markdown",
      "metadata": {
        "id": "RB4ALOWxXJPx"
      },
      "source": [
        "Выполним предсказание на логистической регрессии, так как эта модель показала самый лучший результат."
      ]
    },
    {
      "cell_type": "markdown",
      "metadata": {
        "id": "rSI57HmcXJPx"
      },
      "source": [
        "Логистическая регрессия по прежнему дает лучший результат.\n",
        "Теперь ничего не падает, считается нормально. Все в пределах разумного времени, кроме catboost. Посчитаем f1 на тесте.\n"
      ]
    },
    {
      "cell_type": "code",
      "execution_count": null,
      "metadata": {
        "id": "47_aDAR1XJPy",
        "outputId": "41dedaea-3135-4826-c598-d720b18d84cf"
      },
      "outputs": [
        {
          "name": "stdout",
          "output_type": "stream",
          "text": [
            "F1 логистической регрессии на тесте 0.7671013498055366\n"
          ]
        }
      ],
      "source": [
        "predictions_test = regression_log_p.predict(features_test)\n",
        "lr_test_f1 = f1_score(targets_test, predictions_test)\n",
        "print('F1 логистической регрессии на тесте', lr_test_f1)"
      ]
    },
    {
      "cell_type": "markdown",
      "metadata": {
        "id": "Ljcf_wGJXJPy"
      },
      "source": [
        "Выведем полученные значения в виде таблицы"
      ]
    },
    {
      "cell_type": "code",
      "execution_count": null,
      "metadata": {
        "id": "Zq5cVbDEXJPy",
        "outputId": "ca311d02-c074-4b47-a9dd-bafbe3471fe2"
      },
      "outputs": [
        {
          "data": {
            "text/html": [
              "<div>\n",
              "<style scoped>\n",
              "    .dataframe tbody tr th:only-of-type {\n",
              "        vertical-align: middle;\n",
              "    }\n",
              "\n",
              "    .dataframe tbody tr th {\n",
              "        vertical-align: top;\n",
              "    }\n",
              "\n",
              "    .dataframe thead th {\n",
              "        text-align: right;\n",
              "    }\n",
              "</style>\n",
              "<table border=\"1\" class=\"dataframe\">\n",
              "  <thead>\n",
              "    <tr style=\"text-align: right;\">\n",
              "      <th></th>\n",
              "      <th>F1</th>\n",
              "    </tr>\n",
              "  </thead>\n",
              "  <tbody>\n",
              "    <tr>\n",
              "      <th>Логистическая регрессия</th>\n",
              "      <td>0.764557</td>\n",
              "    </tr>\n",
              "    <tr>\n",
              "      <th>Случайный лес</th>\n",
              "      <td>0.368766</td>\n",
              "    </tr>\n",
              "    <tr>\n",
              "      <th>Градиентный бустинг</th>\n",
              "      <td>0.567393</td>\n",
              "    </tr>\n",
              "    <tr>\n",
              "      <th>CatBoost</th>\n",
              "      <td>0.630862</td>\n",
              "    </tr>\n",
              "  </tbody>\n",
              "</table>\n",
              "</div>"
            ],
            "text/plain": [
              "                               F1\n",
              "Логистическая регрессия  0.764557\n",
              "Случайный лес            0.368766\n",
              "Градиентный бустинг      0.567393\n",
              "CatBoost                 0.630862"
            ]
          },
          "execution_count": 57,
          "metadata": {},
          "output_type": "execute_result"
        }
      ],
      "source": [
        "col = [regression_log_p.best_score_, model_RFC.best_score_, model_GBC.best_score_, model_CtB.best_score_]\n",
        "row = [\"Логистическая регрессия\", \"Случайный лес\", \"Градиентный бустинг\", \"CatBoost\"]\n",
        "\n",
        "table= pd.DataFrame(index = row, columns = ['F1'])\n",
        "table.loc['Логистическая регрессия', 'F1'] =  col[0]\n",
        "table.loc['Случайный лес', 'F1'] =  col[1]\n",
        "table.loc['Градиентный бустинг', 'F1'] =  col[2]\n",
        "table.loc['CatBoost', 'F1'] =  col[3]\n",
        "table\n"
      ]
    },
    {
      "cell_type": "markdown",
      "metadata": {
        "id": "1BMh1NiMXJPz"
      },
      "source": [
        "## Выводы"
      ]
    },
    {
      "cell_type": "markdown",
      "metadata": {
        "id": "kqWzHZ-jXJPz"
      },
      "source": [
        "   \n",
        "Итак,\n",
        "- текст очищен от лишних символов\n",
        "- выполнена лемматизация\n",
        "- с помощью связки GridSearchCV + pipeline рассмотрены и обучены модели:\n",
        "    - логистическая ргрессия\n",
        "    - случайный лес\n",
        "    - градиентный бустинг\n",
        "    - catboost\n",
        "   \n"
      ]
    },
    {
      "cell_type": "markdown",
      "metadata": {
        "id": "tNd3tgQXXJPz"
      },
      "source": [
        "Задача заключалась в классификации комментариев на положительные или токсичные.\n",
        "\n",
        "Для решения задачи был рассмотрен классифицированный датасет с комментариями, на основе которых нужно было обучить разные модели и выбрать самую лучшую.\n",
        "\n",
        "Данные подготовлены - переведные в начальную форму и преобразованы в числовой формат.\n",
        "\n",
        "Для тренировки использованы модели (с подбором лучших гиперпараметров):\n",
        "- логистическая регрессия\n",
        "- случайный лес\n",
        "- градиентный бустинг\n",
        "- catboost\n",
        "\n",
        "Получены следующие результаты:\n",
        "- F1 модели Логистической регрессии на кросс-валидации: 0.8865420637176058\n",
        "- F1 на случайном лесе: 0.7708336644197963\n",
        "- F1 на градиентном бустинге: 0.7569015495882304\n",
        "- F1 на CatBoost: 0.7569015495882304\n",
        "\n",
        "Самый лучший результат показала логистическая регрессия. На тестовой выборке f1 = 0.764557. Задача решена, нужное значение достигнуто.    \n"
      ]
    }
  ],
  "metadata": {
    "ExecuteTimeLog": [
      {
        "duration": 416,
        "start_time": "2023-07-04T08:56:11.171Z"
      },
      {
        "duration": 65,
        "start_time": "2023-07-04T08:56:48.226Z"
      },
      {
        "duration": 3236,
        "start_time": "2023-07-04T08:56:56.649Z"
      },
      {
        "duration": 17,
        "start_time": "2023-07-04T08:57:14.535Z"
      },
      {
        "duration": 35,
        "start_time": "2023-07-04T08:57:38.284Z"
      },
      {
        "duration": 40,
        "start_time": "2023-07-04T08:59:05.898Z"
      },
      {
        "duration": 5,
        "start_time": "2023-07-04T09:44:56.137Z"
      },
      {
        "duration": 2,
        "start_time": "2023-07-04T09:48:43.654Z"
      },
      {
        "duration": 93410,
        "start_time": "2023-07-04T09:49:09.505Z"
      },
      {
        "duration": 3,
        "start_time": "2023-07-04T10:35:18.673Z"
      },
      {
        "duration": 425,
        "start_time": "2023-07-04T10:35:31.834Z"
      },
      {
        "duration": 2730,
        "start_time": "2023-07-04T10:35:33.873Z"
      },
      {
        "duration": 15,
        "start_time": "2023-07-04T10:35:36.605Z"
      },
      {
        "duration": 29,
        "start_time": "2023-07-04T10:35:39.249Z"
      },
      {
        "duration": 4,
        "start_time": "2023-07-04T10:35:39.968Z"
      },
      {
        "duration": 52,
        "start_time": "2023-07-04T10:35:55.437Z"
      },
      {
        "duration": 4,
        "start_time": "2023-07-04T10:36:14.019Z"
      },
      {
        "duration": 10,
        "start_time": "2023-07-04T10:36:14.897Z"
      },
      {
        "duration": 387,
        "start_time": "2023-07-04T10:36:23.761Z"
      },
      {
        "duration": 2754,
        "start_time": "2023-07-04T10:36:24.783Z"
      },
      {
        "duration": 25,
        "start_time": "2023-07-04T10:36:28.197Z"
      },
      {
        "duration": 28,
        "start_time": "2023-07-04T10:36:29.168Z"
      },
      {
        "duration": 6,
        "start_time": "2023-07-04T10:36:30.006Z"
      },
      {
        "duration": 7,
        "start_time": "2023-07-04T10:38:57.816Z"
      },
      {
        "duration": 49,
        "start_time": "2023-07-04T10:39:00.994Z"
      },
      {
        "duration": 415,
        "start_time": "2023-07-04T10:39:06.097Z"
      },
      {
        "duration": 2776,
        "start_time": "2023-07-04T10:39:09.215Z"
      },
      {
        "duration": 23,
        "start_time": "2023-07-04T10:39:11.993Z"
      },
      {
        "duration": 41,
        "start_time": "2023-07-04T10:39:14.910Z"
      },
      {
        "duration": 4,
        "start_time": "2023-07-04T10:39:17.536Z"
      },
      {
        "duration": 29,
        "start_time": "2023-07-04T10:39:20.159Z"
      },
      {
        "duration": 5,
        "start_time": "2023-07-04T10:39:36.382Z"
      },
      {
        "duration": 12,
        "start_time": "2023-07-04T10:39:40.781Z"
      },
      {
        "duration": 4,
        "start_time": "2023-07-04T10:40:05.149Z"
      },
      {
        "duration": 1060,
        "start_time": "2023-07-04T10:40:06.257Z"
      },
      {
        "duration": 5,
        "start_time": "2023-07-04T10:40:35.973Z"
      },
      {
        "duration": 4,
        "start_time": "2023-07-04T10:41:05.264Z"
      },
      {
        "duration": 7,
        "start_time": "2023-07-04T10:41:07.417Z"
      },
      {
        "duration": 3,
        "start_time": "2023-07-04T10:41:33.188Z"
      },
      {
        "duration": 5,
        "start_time": "2023-07-04T10:41:33.926Z"
      },
      {
        "duration": 3,
        "start_time": "2023-07-04T10:42:02.890Z"
      },
      {
        "duration": 4,
        "start_time": "2023-07-04T10:42:04.047Z"
      },
      {
        "duration": 4,
        "start_time": "2023-07-04T10:42:18.997Z"
      },
      {
        "duration": 4,
        "start_time": "2023-07-04T10:42:19.933Z"
      },
      {
        "duration": 2,
        "start_time": "2023-07-04T10:42:25.348Z"
      },
      {
        "duration": 859,
        "start_time": "2023-07-04T10:42:26.224Z"
      },
      {
        "duration": 9,
        "start_time": "2023-07-04T10:42:27.123Z"
      },
      {
        "duration": 31,
        "start_time": "2023-07-04T10:42:28.117Z"
      },
      {
        "duration": 6,
        "start_time": "2023-07-04T10:42:29.124Z"
      },
      {
        "duration": 9,
        "start_time": "2023-07-04T10:42:30.396Z"
      },
      {
        "duration": 780,
        "start_time": "2023-07-04T10:42:42.138Z"
      },
      {
        "duration": 5,
        "start_time": "2023-07-04T10:42:56.063Z"
      },
      {
        "duration": 5,
        "start_time": "2023-07-04T10:42:58.539Z"
      },
      {
        "duration": 800,
        "start_time": "2023-07-04T10:42:59.239Z"
      },
      {
        "duration": 7,
        "start_time": "2023-07-04T10:43:22.416Z"
      },
      {
        "duration": 785,
        "start_time": "2023-07-04T10:43:31.416Z"
      },
      {
        "duration": 3,
        "start_time": "2023-07-04T10:43:54.362Z"
      },
      {
        "duration": 7,
        "start_time": "2023-07-04T10:43:55.424Z"
      },
      {
        "duration": 827,
        "start_time": "2023-07-04T10:43:57.118Z"
      },
      {
        "duration": 4,
        "start_time": "2023-07-04T10:45:43.520Z"
      },
      {
        "duration": 5,
        "start_time": "2023-07-04T10:45:44.289Z"
      },
      {
        "duration": 728,
        "start_time": "2023-07-04T10:45:52.993Z"
      },
      {
        "duration": 969,
        "start_time": "2023-07-04T10:48:02.125Z"
      },
      {
        "duration": 3,
        "start_time": "2023-07-04T10:48:33.992Z"
      },
      {
        "duration": 663,
        "start_time": "2023-07-04T10:48:37.392Z"
      },
      {
        "duration": 3,
        "start_time": "2023-07-04T10:48:47.630Z"
      },
      {
        "duration": 693,
        "start_time": "2023-07-04T10:48:48.624Z"
      },
      {
        "duration": 413,
        "start_time": "2023-07-04T10:52:45.283Z"
      },
      {
        "duration": 74,
        "start_time": "2023-07-04T10:54:07.242Z"
      },
      {
        "duration": 701,
        "start_time": "2023-07-04T10:54:57.760Z"
      },
      {
        "duration": 14,
        "start_time": "2023-07-04T10:55:11.742Z"
      },
      {
        "duration": 6,
        "start_time": "2023-07-04T10:55:23.720Z"
      },
      {
        "duration": 4,
        "start_time": "2023-07-04T10:55:40.213Z"
      },
      {
        "duration": 1782,
        "start_time": "2023-07-05T20:01:07.384Z"
      },
      {
        "duration": 4056,
        "start_time": "2023-07-05T20:01:12.770Z"
      },
      {
        "duration": 12,
        "start_time": "2023-07-05T20:01:18.988Z"
      },
      {
        "duration": 35,
        "start_time": "2023-07-05T20:01:21.980Z"
      },
      {
        "duration": 4,
        "start_time": "2023-07-05T20:01:39.622Z"
      },
      {
        "duration": 101070,
        "start_time": "2023-07-05T20:01:54.692Z"
      },
      {
        "duration": 102775,
        "start_time": "2023-07-05T20:03:50.242Z"
      },
      {
        "duration": 31,
        "start_time": "2023-07-05T20:06:01.391Z"
      },
      {
        "duration": 4,
        "start_time": "2023-07-05T20:13:08.260Z"
      },
      {
        "duration": 286,
        "start_time": "2023-07-05T20:13:09.698Z"
      },
      {
        "duration": 7,
        "start_time": "2023-07-05T20:13:28.965Z"
      },
      {
        "duration": 4,
        "start_time": "2023-07-05T20:13:35.829Z"
      },
      {
        "duration": 4564,
        "start_time": "2023-07-05T20:13:36.604Z"
      },
      {
        "duration": 22,
        "start_time": "2023-07-05T20:13:50.074Z"
      },
      {
        "duration": 4,
        "start_time": "2023-07-05T20:14:09.783Z"
      },
      {
        "duration": 4340,
        "start_time": "2023-07-05T20:14:11.313Z"
      },
      {
        "duration": 25,
        "start_time": "2023-07-05T20:14:17.631Z"
      },
      {
        "duration": 6,
        "start_time": "2023-07-05T20:15:21.809Z"
      },
      {
        "duration": 4,
        "start_time": "2023-07-05T20:15:43.649Z"
      },
      {
        "duration": 4138,
        "start_time": "2023-07-05T20:15:45.697Z"
      },
      {
        "duration": 25,
        "start_time": "2023-07-05T20:15:52.389Z"
      },
      {
        "duration": 42,
        "start_time": "2023-07-05T20:28:19.556Z"
      },
      {
        "duration": 7,
        "start_time": "2023-07-05T20:28:36.272Z"
      },
      {
        "duration": 7,
        "start_time": "2023-07-05T20:28:49.277Z"
      },
      {
        "duration": 1488,
        "start_time": "2023-07-06T06:53:07.606Z"
      },
      {
        "duration": 7,
        "start_time": "2023-07-06T06:54:01.383Z"
      },
      {
        "duration": 2464,
        "start_time": "2023-07-06T06:54:05.210Z"
      },
      {
        "duration": 10,
        "start_time": "2023-07-06T06:54:07.676Z"
      },
      {
        "duration": 31,
        "start_time": "2023-07-06T06:54:10.651Z"
      },
      {
        "duration": 4,
        "start_time": "2023-07-06T06:54:15.600Z"
      },
      {
        "duration": 90921,
        "start_time": "2023-07-06T06:54:21.297Z"
      },
      {
        "duration": 26,
        "start_time": "2023-07-06T07:14:48.868Z"
      },
      {
        "duration": 3,
        "start_time": "2023-07-06T07:15:08.545Z"
      },
      {
        "duration": 3758,
        "start_time": "2023-07-06T07:15:11.031Z"
      },
      {
        "duration": 20,
        "start_time": "2023-07-06T07:15:18.447Z"
      },
      {
        "duration": 6,
        "start_time": "2023-07-06T07:15:36.244Z"
      },
      {
        "duration": 3,
        "start_time": "2023-07-06T07:18:39.322Z"
      },
      {
        "duration": 47377,
        "start_time": "2023-07-06T07:18:45.169Z"
      },
      {
        "duration": 6,
        "start_time": "2023-07-06T07:19:57.913Z"
      },
      {
        "duration": 10,
        "start_time": "2023-07-06T07:20:55.560Z"
      },
      {
        "duration": 123,
        "start_time": "2023-07-06T07:20:56.765Z"
      },
      {
        "duration": 5,
        "start_time": "2023-07-06T07:21:04.548Z"
      },
      {
        "duration": 3,
        "start_time": "2023-07-06T07:21:11.195Z"
      },
      {
        "duration": 11,
        "start_time": "2023-07-06T07:21:19.497Z"
      },
      {
        "duration": 8,
        "start_time": "2023-07-06T07:21:42.631Z"
      },
      {
        "duration": 5,
        "start_time": "2023-07-06T07:21:43.400Z"
      },
      {
        "duration": 4,
        "start_time": "2023-07-06T07:29:39.291Z"
      },
      {
        "duration": 4,
        "start_time": "2023-07-06T07:29:40.922Z"
      },
      {
        "duration": 3,
        "start_time": "2023-07-06T07:57:59.651Z"
      },
      {
        "duration": 3879,
        "start_time": "2023-07-06T07:58:00.711Z"
      },
      {
        "duration": 19,
        "start_time": "2023-07-06T07:58:14.160Z"
      },
      {
        "duration": 147,
        "start_time": "2023-07-06T07:58:14.197Z"
      },
      {
        "duration": 5,
        "start_time": "2023-07-06T07:58:37.745Z"
      },
      {
        "duration": 4,
        "start_time": "2023-07-06T07:58:41.804Z"
      },
      {
        "duration": 17,
        "start_time": "2023-07-06T07:58:43.712Z"
      },
      {
        "duration": 5,
        "start_time": "2023-07-06T07:59:05.182Z"
      },
      {
        "duration": 945,
        "start_time": "2023-07-06T07:59:07.173Z"
      },
      {
        "duration": 19,
        "start_time": "2023-07-06T07:59:08.120Z"
      },
      {
        "duration": 33,
        "start_time": "2023-07-06T07:59:08.854Z"
      },
      {
        "duration": 3,
        "start_time": "2023-07-06T07:59:09.820Z"
      },
      {
        "duration": 91646,
        "start_time": "2023-07-06T07:59:10.517Z"
      },
      {
        "duration": 25,
        "start_time": "2023-07-06T08:00:42.165Z"
      },
      {
        "duration": 4,
        "start_time": "2023-07-06T08:01:41.215Z"
      },
      {
        "duration": 3,
        "start_time": "2023-07-06T08:01:52.710Z"
      },
      {
        "duration": 3838,
        "start_time": "2023-07-06T08:01:56.132Z"
      },
      {
        "duration": 5,
        "start_time": "2023-07-06T08:02:05.779Z"
      },
      {
        "duration": 5,
        "start_time": "2023-07-06T08:02:13.722Z"
      },
      {
        "duration": 5,
        "start_time": "2023-07-06T08:02:33.751Z"
      },
      {
        "duration": 4,
        "start_time": "2023-07-06T08:02:37.089Z"
      },
      {
        "duration": 13,
        "start_time": "2023-07-06T08:02:38.377Z"
      },
      {
        "duration": 19,
        "start_time": "2023-07-06T08:03:05.729Z"
      },
      {
        "duration": 10,
        "start_time": "2023-07-06T08:03:31.591Z"
      },
      {
        "duration": 6,
        "start_time": "2023-07-06T08:03:44.168Z"
      },
      {
        "duration": 4,
        "start_time": "2023-07-06T08:04:16.888Z"
      },
      {
        "duration": 46776,
        "start_time": "2023-07-06T08:04:18.137Z"
      },
      {
        "duration": 5,
        "start_time": "2023-07-06T08:16:45.613Z"
      },
      {
        "duration": 854,
        "start_time": "2023-07-06T08:16:46.274Z"
      },
      {
        "duration": 14,
        "start_time": "2023-07-06T08:16:47.132Z"
      },
      {
        "duration": 40,
        "start_time": "2023-07-06T08:16:49.315Z"
      },
      {
        "duration": 6,
        "start_time": "2023-07-06T08:16:51.841Z"
      },
      {
        "duration": 87002,
        "start_time": "2023-07-06T08:16:52.867Z"
      },
      {
        "duration": 5,
        "start_time": "2023-07-06T08:19:41.265Z"
      },
      {
        "duration": 3,
        "start_time": "2023-07-06T08:19:49.278Z"
      },
      {
        "duration": 4114,
        "start_time": "2023-07-06T08:19:50.974Z"
      },
      {
        "duration": 3,
        "start_time": "2023-07-06T08:20:22.705Z"
      },
      {
        "duration": 3,
        "start_time": "2023-07-06T08:20:24.197Z"
      },
      {
        "duration": 8164,
        "start_time": "2023-07-06T08:20:25.453Z"
      },
      {
        "duration": 7,
        "start_time": "2023-07-06T08:20:41.351Z"
      },
      {
        "duration": 4,
        "start_time": "2023-07-06T08:21:46.497Z"
      },
      {
        "duration": 11,
        "start_time": "2023-07-06T08:35:07.891Z"
      },
      {
        "duration": 18,
        "start_time": "2023-07-06T08:35:14.751Z"
      },
      {
        "duration": 43,
        "start_time": "2023-07-06T08:35:42.960Z"
      },
      {
        "duration": 7,
        "start_time": "2023-07-06T08:35:50.795Z"
      },
      {
        "duration": 7,
        "start_time": "2023-07-06T08:36:04.609Z"
      },
      {
        "duration": 7,
        "start_time": "2023-07-06T08:36:12.890Z"
      },
      {
        "duration": 7,
        "start_time": "2023-07-06T08:38:20.761Z"
      },
      {
        "duration": 7,
        "start_time": "2023-07-06T08:41:24.203Z"
      },
      {
        "duration": 1079,
        "start_time": "2023-07-06T08:41:24.721Z"
      },
      {
        "duration": 9,
        "start_time": "2023-07-06T08:41:25.802Z"
      },
      {
        "duration": 35,
        "start_time": "2023-07-06T08:41:26.675Z"
      },
      {
        "duration": 4,
        "start_time": "2023-07-06T08:41:28.080Z"
      },
      {
        "duration": 102412,
        "start_time": "2023-07-06T08:41:28.610Z"
      },
      {
        "duration": 15,
        "start_time": "2023-07-06T08:43:11.024Z"
      },
      {
        "duration": 10,
        "start_time": "2023-07-06T08:44:49.252Z"
      },
      {
        "duration": 4951,
        "start_time": "2023-07-06T08:44:51.458Z"
      },
      {
        "duration": 4,
        "start_time": "2023-07-06T08:44:56.411Z"
      },
      {
        "duration": 2,
        "start_time": "2023-07-06T08:45:19.112Z"
      },
      {
        "duration": 5,
        "start_time": "2023-07-06T08:45:19.570Z"
      },
      {
        "duration": 5,
        "start_time": "2023-07-06T08:45:20.048Z"
      },
      {
        "duration": 4,
        "start_time": "2023-07-06T08:45:25.757Z"
      },
      {
        "duration": 70,
        "start_time": "2023-07-06T08:45:27.327Z"
      },
      {
        "duration": 5,
        "start_time": "2023-07-06T08:45:29.823Z"
      },
      {
        "duration": 8,
        "start_time": "2023-07-06T08:45:32.509Z"
      },
      {
        "duration": 8,
        "start_time": "2023-07-06T08:45:33.784Z"
      },
      {
        "duration": 4,
        "start_time": "2023-07-06T08:46:47.350Z"
      },
      {
        "duration": 10,
        "start_time": "2023-07-06T08:49:57.267Z"
      },
      {
        "duration": 7,
        "start_time": "2023-07-06T08:50:22.366Z"
      },
      {
        "duration": 9,
        "start_time": "2023-07-06T08:50:33.202Z"
      },
      {
        "duration": 3,
        "start_time": "2023-07-06T08:51:11.702Z"
      },
      {
        "duration": 32,
        "start_time": "2023-07-06T08:51:12.582Z"
      },
      {
        "duration": 4,
        "start_time": "2023-07-06T08:51:48.202Z"
      },
      {
        "duration": 4,
        "start_time": "2023-07-06T08:52:33.209Z"
      },
      {
        "duration": 3,
        "start_time": "2023-07-06T08:53:35.013Z"
      },
      {
        "duration": 3,
        "start_time": "2023-07-06T08:53:44.023Z"
      },
      {
        "duration": 1753,
        "start_time": "2023-07-06T09:00:30.493Z"
      },
      {
        "duration": 3314,
        "start_time": "2023-07-06T09:00:37.288Z"
      },
      {
        "duration": 8,
        "start_time": "2023-07-06T09:00:40.604Z"
      },
      {
        "duration": 48,
        "start_time": "2023-07-06T09:00:40.614Z"
      },
      {
        "duration": 3,
        "start_time": "2023-07-06T09:00:44.888Z"
      },
      {
        "duration": 92766,
        "start_time": "2023-07-06T09:00:46.744Z"
      },
      {
        "duration": 8,
        "start_time": "2023-07-06T09:02:28.257Z"
      },
      {
        "duration": 5,
        "start_time": "2023-07-06T09:02:35.760Z"
      },
      {
        "duration": 4400,
        "start_time": "2023-07-06T09:02:36.309Z"
      },
      {
        "duration": 4,
        "start_time": "2023-07-06T09:02:52.925Z"
      },
      {
        "duration": 3,
        "start_time": "2023-07-06T09:02:53.769Z"
      },
      {
        "duration": 2,
        "start_time": "2023-07-06T09:02:55.718Z"
      },
      {
        "duration": 2,
        "start_time": "2023-07-06T09:02:56.317Z"
      },
      {
        "duration": 2,
        "start_time": "2023-07-06T09:02:56.800Z"
      },
      {
        "duration": 45,
        "start_time": "2023-07-06T09:02:57.364Z"
      },
      {
        "duration": 6,
        "start_time": "2023-07-06T09:02:58.125Z"
      },
      {
        "duration": 6,
        "start_time": "2023-07-06T09:02:59.014Z"
      },
      {
        "duration": 14,
        "start_time": "2023-07-06T09:03:01.153Z"
      },
      {
        "duration": 12,
        "start_time": "2023-07-06T09:03:03.458Z"
      },
      {
        "duration": 35,
        "start_time": "2023-07-06T09:03:04.259Z"
      },
      {
        "duration": 4,
        "start_time": "2023-07-06T09:03:06.901Z"
      },
      {
        "duration": 1935,
        "start_time": "2023-07-06T09:06:26.361Z"
      },
      {
        "duration": 1038,
        "start_time": "2023-07-06T09:06:30.366Z"
      },
      {
        "duration": 8,
        "start_time": "2023-07-06T09:06:31.406Z"
      },
      {
        "duration": 41,
        "start_time": "2023-07-06T09:06:32.448Z"
      },
      {
        "duration": 7,
        "start_time": "2023-07-06T09:06:33.561Z"
      },
      {
        "duration": 97431,
        "start_time": "2023-07-06T09:06:34.090Z"
      },
      {
        "duration": 9,
        "start_time": "2023-07-06T09:08:11.523Z"
      },
      {
        "duration": 3,
        "start_time": "2023-07-06T09:08:31.310Z"
      },
      {
        "duration": 4642,
        "start_time": "2023-07-06T09:08:31.955Z"
      },
      {
        "duration": 4,
        "start_time": "2023-07-06T09:08:36.599Z"
      },
      {
        "duration": 3,
        "start_time": "2023-07-06T09:09:41.322Z"
      },
      {
        "duration": 2,
        "start_time": "2023-07-06T09:09:43.404Z"
      },
      {
        "duration": 2,
        "start_time": "2023-07-06T09:09:43.818Z"
      },
      {
        "duration": 2,
        "start_time": "2023-07-06T09:09:44.069Z"
      },
      {
        "duration": 2,
        "start_time": "2023-07-06T09:09:44.367Z"
      },
      {
        "duration": 74,
        "start_time": "2023-07-06T09:09:44.921Z"
      },
      {
        "duration": 12,
        "start_time": "2023-07-06T09:09:45.756Z"
      },
      {
        "duration": 7,
        "start_time": "2023-07-06T09:09:46.520Z"
      },
      {
        "duration": 9,
        "start_time": "2023-07-06T09:09:47.777Z"
      },
      {
        "duration": 3,
        "start_time": "2023-07-06T09:09:49.176Z"
      },
      {
        "duration": 42,
        "start_time": "2023-07-06T09:09:49.907Z"
      },
      {
        "duration": 3,
        "start_time": "2023-07-06T09:09:52.472Z"
      },
      {
        "duration": 9,
        "start_time": "2023-07-06T09:10:12.155Z"
      },
      {
        "duration": 7,
        "start_time": "2023-07-06T09:10:19.464Z"
      },
      {
        "duration": 132,
        "start_time": "2023-07-06T09:10:25.476Z"
      },
      {
        "duration": 10,
        "start_time": "2023-07-06T09:10:29.987Z"
      },
      {
        "duration": 5,
        "start_time": "2023-07-06T09:10:43.865Z"
      },
      {
        "duration": 12,
        "start_time": "2023-07-06T09:10:55.840Z"
      },
      {
        "duration": 27,
        "start_time": "2023-07-06T09:11:21.029Z"
      },
      {
        "duration": 6,
        "start_time": "2023-07-06T09:14:34.912Z"
      },
      {
        "duration": 61,
        "start_time": "2023-07-06T09:16:18.164Z"
      },
      {
        "duration": 6,
        "start_time": "2023-07-06T09:16:39.487Z"
      },
      {
        "duration": 13,
        "start_time": "2023-07-06T09:19:31.455Z"
      },
      {
        "duration": 7,
        "start_time": "2023-07-06T09:19:55.011Z"
      },
      {
        "duration": 8,
        "start_time": "2023-07-06T09:20:02.389Z"
      },
      {
        "duration": 12,
        "start_time": "2023-07-06T09:20:38.437Z"
      },
      {
        "duration": 6,
        "start_time": "2023-07-06T09:20:45.866Z"
      },
      {
        "duration": 6,
        "start_time": "2023-07-06T09:20:52.016Z"
      },
      {
        "duration": 7,
        "start_time": "2023-07-06T09:22:36.093Z"
      },
      {
        "duration": 8,
        "start_time": "2023-07-06T09:23:08.189Z"
      },
      {
        "duration": 10,
        "start_time": "2023-07-06T09:23:54.927Z"
      },
      {
        "duration": 4,
        "start_time": "2023-07-06T09:24:38.496Z"
      },
      {
        "duration": 4,
        "start_time": "2023-07-06T09:24:51.910Z"
      },
      {
        "duration": 6,
        "start_time": "2023-07-06T09:25:01.869Z"
      },
      {
        "duration": 6,
        "start_time": "2023-07-06T09:28:23.431Z"
      },
      {
        "duration": 9,
        "start_time": "2023-07-06T09:28:50.418Z"
      },
      {
        "duration": 29,
        "start_time": "2023-07-06T09:28:59.361Z"
      },
      {
        "duration": 6,
        "start_time": "2023-07-06T09:29:38.795Z"
      },
      {
        "duration": 3,
        "start_time": "2023-07-06T09:29:45.490Z"
      },
      {
        "duration": 78,
        "start_time": "2023-07-06T09:29:46.292Z"
      },
      {
        "duration": 65,
        "start_time": "2023-07-06T09:30:08.695Z"
      },
      {
        "duration": 55,
        "start_time": "2023-07-06T09:35:04.468Z"
      },
      {
        "duration": 4,
        "start_time": "2023-07-06T09:35:07.951Z"
      },
      {
        "duration": 56,
        "start_time": "2023-07-06T09:35:08.969Z"
      },
      {
        "duration": 7,
        "start_time": "2023-07-06T09:35:13.245Z"
      },
      {
        "duration": 70,
        "start_time": "2023-07-06T09:35:13.998Z"
      },
      {
        "duration": 4,
        "start_time": "2023-07-06T09:35:21.360Z"
      },
      {
        "duration": 62,
        "start_time": "2023-07-06T09:35:22.055Z"
      },
      {
        "duration": 77,
        "start_time": "2023-07-06T09:35:29.200Z"
      },
      {
        "duration": 79,
        "start_time": "2023-07-06T09:35:34.417Z"
      },
      {
        "duration": 62,
        "start_time": "2023-07-06T09:35:40.765Z"
      },
      {
        "duration": 74,
        "start_time": "2023-07-06T09:35:46.181Z"
      },
      {
        "duration": 87,
        "start_time": "2023-07-06T09:35:54.397Z"
      },
      {
        "duration": 5,
        "start_time": "2023-07-06T09:36:55.603Z"
      },
      {
        "duration": 6,
        "start_time": "2023-07-06T09:37:00.588Z"
      },
      {
        "duration": 6,
        "start_time": "2023-07-06T09:37:20.312Z"
      },
      {
        "duration": 5,
        "start_time": "2023-07-06T09:37:27.285Z"
      },
      {
        "duration": 6,
        "start_time": "2023-07-06T09:37:34.349Z"
      },
      {
        "duration": 5,
        "start_time": "2023-07-06T09:38:15.715Z"
      },
      {
        "duration": 108,
        "start_time": "2023-07-06T09:39:16.006Z"
      },
      {
        "duration": 7,
        "start_time": "2023-07-06T09:40:03.297Z"
      },
      {
        "duration": 99,
        "start_time": "2023-07-06T09:40:05.575Z"
      },
      {
        "duration": 4,
        "start_time": "2023-07-06T09:40:13.295Z"
      },
      {
        "duration": 86,
        "start_time": "2023-07-06T09:40:30.211Z"
      },
      {
        "duration": 72,
        "start_time": "2023-07-06T09:40:38.904Z"
      },
      {
        "duration": 12,
        "start_time": "2023-07-06T09:41:10.893Z"
      },
      {
        "duration": 99,
        "start_time": "2023-07-06T09:41:32.945Z"
      },
      {
        "duration": 158,
        "start_time": "2023-07-06T09:42:36.227Z"
      },
      {
        "duration": 98,
        "start_time": "2023-07-06T09:42:44.311Z"
      },
      {
        "duration": 110,
        "start_time": "2023-07-06T09:42:51.909Z"
      },
      {
        "duration": 102,
        "start_time": "2023-07-06T09:43:05.669Z"
      },
      {
        "duration": 8231,
        "start_time": "2023-07-06T09:45:18.877Z"
      },
      {
        "duration": 5,
        "start_time": "2023-07-06T09:45:35.670Z"
      },
      {
        "duration": 9,
        "start_time": "2023-07-06T09:47:11.492Z"
      },
      {
        "duration": 6,
        "start_time": "2023-07-06T09:47:41.013Z"
      },
      {
        "duration": 13,
        "start_time": "2023-07-06T09:47:52.158Z"
      },
      {
        "duration": 5,
        "start_time": "2023-07-06T09:49:51.648Z"
      },
      {
        "duration": 7,
        "start_time": "2023-07-06T09:50:18.692Z"
      },
      {
        "duration": 4,
        "start_time": "2023-07-06T09:52:46.905Z"
      },
      {
        "duration": 54,
        "start_time": "2023-07-06T09:53:16.299Z"
      },
      {
        "duration": 73,
        "start_time": "2023-07-06T09:53:44.635Z"
      },
      {
        "duration": 1737,
        "start_time": "2023-07-06T10:50:05.477Z"
      },
      {
        "duration": 2722,
        "start_time": "2023-07-06T10:50:08.897Z"
      },
      {
        "duration": 9,
        "start_time": "2023-07-06T10:50:11.621Z"
      },
      {
        "duration": 115,
        "start_time": "2023-07-06T10:50:11.636Z"
      },
      {
        "duration": 31,
        "start_time": "2023-07-06T10:50:11.754Z"
      },
      {
        "duration": 90901,
        "start_time": "2023-07-06T10:50:12.415Z"
      },
      {
        "duration": 3,
        "start_time": "2023-07-06T10:51:43.319Z"
      },
      {
        "duration": 30,
        "start_time": "2023-07-06T10:51:43.339Z"
      },
      {
        "duration": 142,
        "start_time": "2023-07-06T11:09:12.723Z"
      },
      {
        "duration": 4390,
        "start_time": "2023-07-06T11:09:19.112Z"
      },
      {
        "duration": 5,
        "start_time": "2023-07-06T11:09:35.119Z"
      },
      {
        "duration": 3,
        "start_time": "2023-07-06T11:09:39.294Z"
      },
      {
        "duration": 4281,
        "start_time": "2023-07-06T11:09:40.613Z"
      },
      {
        "duration": 5,
        "start_time": "2023-07-06T11:09:53.047Z"
      },
      {
        "duration": 2,
        "start_time": "2023-07-06T11:09:56.962Z"
      },
      {
        "duration": 5,
        "start_time": "2023-07-06T11:09:57.331Z"
      },
      {
        "duration": 2,
        "start_time": "2023-07-06T11:09:57.620Z"
      },
      {
        "duration": 2,
        "start_time": "2023-07-06T11:09:58.287Z"
      },
      {
        "duration": 40,
        "start_time": "2023-07-06T11:09:58.803Z"
      },
      {
        "duration": 7,
        "start_time": "2023-07-06T11:09:59.574Z"
      },
      {
        "duration": 8,
        "start_time": "2023-07-06T11:10:00.148Z"
      },
      {
        "duration": 13,
        "start_time": "2023-07-06T11:10:01.151Z"
      },
      {
        "duration": 3,
        "start_time": "2023-07-06T11:10:03.294Z"
      },
      {
        "duration": 6,
        "start_time": "2023-07-06T11:10:04.764Z"
      },
      {
        "duration": 11,
        "start_time": "2023-07-06T11:10:09.039Z"
      },
      {
        "duration": 37,
        "start_time": "2023-07-06T11:10:10.353Z"
      },
      {
        "duration": 4,
        "start_time": "2023-07-06T11:10:11.283Z"
      },
      {
        "duration": 6,
        "start_time": "2023-07-06T11:10:12.486Z"
      },
      {
        "duration": 126,
        "start_time": "2023-07-06T11:10:14.039Z"
      },
      {
        "duration": 4,
        "start_time": "2023-07-06T11:10:18.473Z"
      },
      {
        "duration": 91,
        "start_time": "2023-07-06T11:10:19.435Z"
      },
      {
        "duration": 125,
        "start_time": "2023-07-06T11:10:23.119Z"
      },
      {
        "duration": 6,
        "start_time": "2023-07-06T11:10:27.498Z"
      },
      {
        "duration": 61,
        "start_time": "2023-07-06T11:10:48.116Z"
      },
      {
        "duration": 2134,
        "start_time": "2023-07-06T11:10:58.540Z"
      },
      {
        "duration": 2854,
        "start_time": "2023-07-06T11:11:00.676Z"
      },
      {
        "duration": 19,
        "start_time": "2023-07-06T11:11:03.535Z"
      },
      {
        "duration": 49,
        "start_time": "2023-07-06T11:11:03.556Z"
      },
      {
        "duration": 5,
        "start_time": "2023-07-06T11:11:08.769Z"
      },
      {
        "duration": 118085,
        "start_time": "2023-07-06T11:11:09.790Z"
      },
      {
        "duration": 6,
        "start_time": "2023-07-06T11:13:19.705Z"
      },
      {
        "duration": 4,
        "start_time": "2023-07-06T11:13:23.831Z"
      },
      {
        "duration": 5782,
        "start_time": "2023-07-06T11:13:27.457Z"
      },
      {
        "duration": 10,
        "start_time": "2023-07-06T11:13:33.244Z"
      },
      {
        "duration": 2,
        "start_time": "2023-07-06T11:13:37.697Z"
      },
      {
        "duration": 3,
        "start_time": "2023-07-06T11:13:38.557Z"
      },
      {
        "duration": 5,
        "start_time": "2023-07-06T11:13:39.315Z"
      },
      {
        "duration": 3,
        "start_time": "2023-07-06T11:13:40.257Z"
      },
      {
        "duration": 62,
        "start_time": "2023-07-06T11:13:41.052Z"
      },
      {
        "duration": 8,
        "start_time": "2023-07-06T11:13:42.128Z"
      },
      {
        "duration": 7,
        "start_time": "2023-07-06T11:13:42.853Z"
      },
      {
        "duration": 12,
        "start_time": "2023-07-06T11:13:44.671Z"
      },
      {
        "duration": 5,
        "start_time": "2023-07-06T11:13:47.663Z"
      },
      {
        "duration": 5,
        "start_time": "2023-07-06T11:13:48.405Z"
      },
      {
        "duration": 6,
        "start_time": "2023-07-06T11:13:49.000Z"
      },
      {
        "duration": 50,
        "start_time": "2023-07-06T11:13:49.871Z"
      },
      {
        "duration": 9,
        "start_time": "2023-07-06T11:13:51.169Z"
      },
      {
        "duration": 9,
        "start_time": "2023-07-06T11:13:53.920Z"
      },
      {
        "duration": 165,
        "start_time": "2023-07-06T11:13:55.111Z"
      },
      {
        "duration": 4,
        "start_time": "2023-07-06T11:13:58.462Z"
      },
      {
        "duration": 110,
        "start_time": "2023-07-06T11:14:00.592Z"
      },
      {
        "duration": 145,
        "start_time": "2023-07-06T11:14:01.740Z"
      },
      {
        "duration": 6,
        "start_time": "2023-07-06T11:14:04.054Z"
      },
      {
        "duration": 2203,
        "start_time": "2023-07-06T11:25:45.009Z"
      },
      {
        "duration": 2839,
        "start_time": "2023-07-06T11:25:47.968Z"
      },
      {
        "duration": 12,
        "start_time": "2023-07-06T11:25:50.809Z"
      },
      {
        "duration": 44,
        "start_time": "2023-07-06T11:25:50.823Z"
      },
      {
        "duration": 5,
        "start_time": "2023-07-06T11:25:50.869Z"
      },
      {
        "duration": 114365,
        "start_time": "2023-07-06T11:25:50.876Z"
      },
      {
        "duration": 10,
        "start_time": "2023-07-06T11:27:45.246Z"
      },
      {
        "duration": 42,
        "start_time": "2023-07-06T11:27:45.259Z"
      },
      {
        "duration": 5367,
        "start_time": "2023-07-06T11:31:56.810Z"
      },
      {
        "duration": 8,
        "start_time": "2023-07-06T11:32:12.034Z"
      },
      {
        "duration": 6,
        "start_time": "2023-07-06T11:32:13.766Z"
      },
      {
        "duration": 2,
        "start_time": "2023-07-06T11:32:14.526Z"
      },
      {
        "duration": 5,
        "start_time": "2023-07-06T11:32:15.269Z"
      },
      {
        "duration": 3,
        "start_time": "2023-07-06T11:32:15.796Z"
      },
      {
        "duration": 88,
        "start_time": "2023-07-06T11:32:16.301Z"
      },
      {
        "duration": 8,
        "start_time": "2023-07-06T11:32:17.110Z"
      },
      {
        "duration": 9,
        "start_time": "2023-07-06T11:32:17.693Z"
      },
      {
        "duration": 11,
        "start_time": "2023-07-06T11:32:18.287Z"
      },
      {
        "duration": 4,
        "start_time": "2023-07-06T11:32:19.504Z"
      },
      {
        "duration": 8,
        "start_time": "2023-07-06T11:32:20.157Z"
      },
      {
        "duration": 5,
        "start_time": "2023-07-06T11:32:20.713Z"
      },
      {
        "duration": 43,
        "start_time": "2023-07-06T11:32:21.461Z"
      },
      {
        "duration": 5,
        "start_time": "2023-07-06T11:32:22.751Z"
      },
      {
        "duration": 9,
        "start_time": "2023-07-06T11:32:25.719Z"
      },
      {
        "duration": 163,
        "start_time": "2023-07-06T11:32:26.405Z"
      },
      {
        "duration": 156,
        "start_time": "2023-07-06T11:33:03.042Z"
      },
      {
        "duration": 11,
        "start_time": "2023-07-06T11:33:19.893Z"
      },
      {
        "duration": 5,
        "start_time": "2023-07-06T11:33:27.101Z"
      },
      {
        "duration": 67,
        "start_time": "2023-07-06T11:34:30.796Z"
      },
      {
        "duration": 60,
        "start_time": "2023-07-06T11:36:39.060Z"
      },
      {
        "duration": 81,
        "start_time": "2023-07-06T11:36:47.966Z"
      },
      {
        "duration": 11,
        "start_time": "2023-07-06T11:36:54.759Z"
      },
      {
        "duration": 4,
        "start_time": "2023-07-06T11:36:56.514Z"
      },
      {
        "duration": 5777,
        "start_time": "2023-07-06T11:36:57.484Z"
      },
      {
        "duration": 10,
        "start_time": "2023-07-06T11:37:03.263Z"
      },
      {
        "duration": 8,
        "start_time": "2023-07-06T11:37:04.551Z"
      },
      {
        "duration": 5,
        "start_time": "2023-07-06T11:37:05.279Z"
      },
      {
        "duration": 6,
        "start_time": "2023-07-06T11:37:05.572Z"
      },
      {
        "duration": 5,
        "start_time": "2023-07-06T11:37:06.070Z"
      },
      {
        "duration": 44,
        "start_time": "2023-07-06T11:37:06.580Z"
      },
      {
        "duration": 11,
        "start_time": "2023-07-06T11:37:08.754Z"
      },
      {
        "duration": 14,
        "start_time": "2023-07-06T11:37:09.487Z"
      },
      {
        "duration": 13,
        "start_time": "2023-07-06T11:37:10.134Z"
      },
      {
        "duration": 63,
        "start_time": "2023-07-06T11:37:10.734Z"
      },
      {
        "duration": 3,
        "start_time": "2023-07-06T11:37:13.506Z"
      },
      {
        "duration": 7,
        "start_time": "2023-07-06T11:37:14.389Z"
      },
      {
        "duration": 7,
        "start_time": "2023-07-06T11:37:15.005Z"
      },
      {
        "duration": 199,
        "start_time": "2023-07-06T11:37:15.699Z"
      },
      {
        "duration": 45,
        "start_time": "2023-07-06T11:37:26.677Z"
      },
      {
        "duration": 4,
        "start_time": "2023-07-06T11:37:29.120Z"
      },
      {
        "duration": 6,
        "start_time": "2023-07-06T11:37:30.797Z"
      },
      {
        "duration": 7,
        "start_time": "2023-07-06T11:37:33.816Z"
      },
      {
        "duration": 158,
        "start_time": "2023-07-06T11:37:34.759Z"
      },
      {
        "duration": 5,
        "start_time": "2023-07-06T11:43:52.208Z"
      },
      {
        "duration": 16,
        "start_time": "2023-07-06T11:43:53.154Z"
      },
      {
        "duration": 76,
        "start_time": "2023-07-06T11:44:18.896Z"
      },
      {
        "duration": 33,
        "start_time": "2023-07-06T11:44:57.153Z"
      },
      {
        "duration": 49,
        "start_time": "2023-07-06T11:46:09.334Z"
      },
      {
        "duration": 74,
        "start_time": "2023-07-06T11:46:18.909Z"
      },
      {
        "duration": 39,
        "start_time": "2023-07-06T11:46:24.434Z"
      },
      {
        "duration": 29,
        "start_time": "2023-07-06T11:46:30.193Z"
      },
      {
        "duration": 55,
        "start_time": "2023-07-06T11:46:35.185Z"
      },
      {
        "duration": 42,
        "start_time": "2023-07-06T11:46:41.798Z"
      },
      {
        "duration": 56,
        "start_time": "2023-07-06T11:46:47.720Z"
      },
      {
        "duration": 30,
        "start_time": "2023-07-06T11:46:52.957Z"
      },
      {
        "duration": 106,
        "start_time": "2023-07-06T11:47:07.349Z"
      },
      {
        "duration": 38,
        "start_time": "2023-07-06T11:48:33.924Z"
      },
      {
        "duration": 114,
        "start_time": "2023-07-06T11:48:34.590Z"
      },
      {
        "duration": 31,
        "start_time": "2023-07-06T11:48:40.986Z"
      },
      {
        "duration": 31,
        "start_time": "2023-07-06T11:48:45.060Z"
      },
      {
        "duration": 29,
        "start_time": "2023-07-06T11:48:52.164Z"
      },
      {
        "duration": 35,
        "start_time": "2023-07-06T11:48:57.130Z"
      },
      {
        "duration": 101,
        "start_time": "2023-07-06T11:48:58.657Z"
      },
      {
        "duration": 7,
        "start_time": "2023-07-06T11:49:14.612Z"
      },
      {
        "duration": 659,
        "start_time": "2023-07-06T11:49:44.958Z"
      },
      {
        "duration": 373,
        "start_time": "2023-07-06T11:50:21.116Z"
      },
      {
        "duration": 419,
        "start_time": "2023-07-06T11:50:29.947Z"
      },
      {
        "duration": 5,
        "start_time": "2023-07-06T11:50:55.998Z"
      },
      {
        "duration": 360,
        "start_time": "2023-07-06T11:51:11.295Z"
      },
      {
        "duration": 453,
        "start_time": "2023-07-06T11:51:27.606Z"
      },
      {
        "duration": 395,
        "start_time": "2023-07-06T11:52:13.792Z"
      },
      {
        "duration": 30,
        "start_time": "2023-07-06T11:52:28.732Z"
      },
      {
        "duration": 1419,
        "start_time": "2023-07-06T11:53:26.342Z"
      },
      {
        "duration": 7,
        "start_time": "2023-07-06T11:53:47.200Z"
      },
      {
        "duration": 309,
        "start_time": "2023-07-06T11:55:04.813Z"
      },
      {
        "duration": 362,
        "start_time": "2023-07-06T11:55:05.564Z"
      },
      {
        "duration": 1342,
        "start_time": "2023-07-06T11:55:11.527Z"
      },
      {
        "duration": 6,
        "start_time": "2023-07-06T11:55:16.038Z"
      },
      {
        "duration": 1479,
        "start_time": "2023-07-06T11:59:03.122Z"
      },
      {
        "duration": 203281,
        "start_time": "2023-07-06T12:00:57.415Z"
      },
      {
        "duration": 7,
        "start_time": "2023-07-06T12:06:46.550Z"
      },
      {
        "duration": 325,
        "start_time": "2023-07-06T12:07:31.492Z"
      },
      {
        "duration": 1449,
        "start_time": "2023-07-06T12:07:32.626Z"
      },
      {
        "duration": 10,
        "start_time": "2023-07-06T12:07:35.411Z"
      },
      {
        "duration": 13125,
        "start_time": "2023-07-06T12:07:54.415Z"
      },
      {
        "duration": 1514,
        "start_time": "2023-07-06T12:10:47.048Z"
      },
      {
        "duration": 6,
        "start_time": "2023-07-06T12:11:33.265Z"
      },
      {
        "duration": 76,
        "start_time": "2023-07-06T12:12:06.631Z"
      },
      {
        "duration": 279,
        "start_time": "2023-07-06T12:12:30.710Z"
      },
      {
        "duration": 6,
        "start_time": "2023-07-06T12:13:36.322Z"
      },
      {
        "duration": 136,
        "start_time": "2023-07-06T12:13:44.985Z"
      },
      {
        "duration": 1712,
        "start_time": "2023-07-06T12:14:02.291Z"
      },
      {
        "duration": 2585,
        "start_time": "2023-07-06T12:14:04.005Z"
      },
      {
        "duration": 8,
        "start_time": "2023-07-06T12:14:06.592Z"
      },
      {
        "duration": 34,
        "start_time": "2023-07-06T12:14:07.318Z"
      },
      {
        "duration": 3,
        "start_time": "2023-07-06T12:14:08.700Z"
      },
      {
        "duration": 90246,
        "start_time": "2023-07-06T12:14:09.287Z"
      },
      {
        "duration": 12,
        "start_time": "2023-07-06T12:15:39.538Z"
      },
      {
        "duration": 9,
        "start_time": "2023-07-06T12:15:39.555Z"
      },
      {
        "duration": 3877,
        "start_time": "2023-07-06T12:15:39.566Z"
      },
      {
        "duration": 5,
        "start_time": "2023-07-06T12:15:43.446Z"
      },
      {
        "duration": 13,
        "start_time": "2023-07-06T12:15:43.453Z"
      },
      {
        "duration": 8,
        "start_time": "2023-07-06T12:23:27.341Z"
      },
      {
        "duration": 1595,
        "start_time": "2023-07-06T12:23:37.805Z"
      },
      {
        "duration": 850,
        "start_time": "2023-07-06T12:23:42.553Z"
      },
      {
        "duration": 10,
        "start_time": "2023-07-06T12:23:43.405Z"
      },
      {
        "duration": 33,
        "start_time": "2023-07-06T12:23:43.634Z"
      },
      {
        "duration": 2,
        "start_time": "2023-07-06T12:23:44.803Z"
      },
      {
        "duration": 83314,
        "start_time": "2023-07-06T12:23:45.393Z"
      },
      {
        "duration": 4,
        "start_time": "2023-07-06T12:25:08.709Z"
      },
      {
        "duration": 4,
        "start_time": "2023-07-06T12:25:16.796Z"
      },
      {
        "duration": 2,
        "start_time": "2023-07-06T12:25:26.446Z"
      },
      {
        "duration": 3750,
        "start_time": "2023-07-06T12:25:29.466Z"
      },
      {
        "duration": 4,
        "start_time": "2023-07-06T12:25:33.218Z"
      },
      {
        "duration": 2,
        "start_time": "2023-07-06T12:25:37.130Z"
      },
      {
        "duration": 2,
        "start_time": "2023-07-06T12:25:37.712Z"
      },
      {
        "duration": 2,
        "start_time": "2023-07-06T12:25:38.499Z"
      },
      {
        "duration": 3,
        "start_time": "2023-07-06T12:25:39.441Z"
      },
      {
        "duration": 40,
        "start_time": "2023-07-06T12:25:40.740Z"
      },
      {
        "duration": 6,
        "start_time": "2023-07-06T12:25:41.248Z"
      },
      {
        "duration": 6,
        "start_time": "2023-07-06T12:25:41.921Z"
      },
      {
        "duration": 8,
        "start_time": "2023-07-06T12:25:42.845Z"
      },
      {
        "duration": 52,
        "start_time": "2023-07-06T12:25:44.416Z"
      },
      {
        "duration": 3,
        "start_time": "2023-07-06T12:25:48.352Z"
      },
      {
        "duration": 6,
        "start_time": "2023-07-06T12:25:50.007Z"
      },
      {
        "duration": 5,
        "start_time": "2023-07-06T12:25:52.603Z"
      },
      {
        "duration": 31,
        "start_time": "2023-07-06T12:25:53.246Z"
      },
      {
        "duration": 3,
        "start_time": "2023-07-06T12:25:55.715Z"
      },
      {
        "duration": 4,
        "start_time": "2023-07-06T12:25:59.945Z"
      },
      {
        "duration": 7,
        "start_time": "2023-07-06T12:26:08.604Z"
      },
      {
        "duration": 125,
        "start_time": "2023-07-06T12:26:11.942Z"
      },
      {
        "duration": 1544,
        "start_time": "2023-07-06T12:26:44.033Z"
      },
      {
        "duration": 341,
        "start_time": "2023-07-06T12:26:45.742Z"
      },
      {
        "duration": 7143,
        "start_time": "2023-07-06T12:28:56.518Z"
      },
      {
        "duration": 201,
        "start_time": "2023-07-06T12:29:07.558Z"
      },
      {
        "duration": 133,
        "start_time": "2023-07-06T12:31:02.345Z"
      },
      {
        "duration": 1691,
        "start_time": "2023-07-06T12:31:21.551Z"
      },
      {
        "duration": 2563,
        "start_time": "2023-07-06T12:31:24.247Z"
      },
      {
        "duration": 8,
        "start_time": "2023-07-06T12:31:26.812Z"
      },
      {
        "duration": 33,
        "start_time": "2023-07-06T12:31:26.822Z"
      },
      {
        "duration": 2,
        "start_time": "2023-07-06T12:31:26.857Z"
      },
      {
        "duration": 82786,
        "start_time": "2023-07-06T12:31:26.861Z"
      },
      {
        "duration": 3,
        "start_time": "2023-07-06T12:32:49.649Z"
      },
      {
        "duration": 24,
        "start_time": "2023-07-06T12:32:49.654Z"
      },
      {
        "duration": 3675,
        "start_time": "2023-07-06T12:32:49.680Z"
      },
      {
        "duration": 4,
        "start_time": "2023-07-06T12:32:53.356Z"
      },
      {
        "duration": 15,
        "start_time": "2023-07-06T12:32:53.361Z"
      },
      {
        "duration": 4,
        "start_time": "2023-07-06T12:32:53.378Z"
      },
      {
        "duration": 22,
        "start_time": "2023-07-06T12:32:53.384Z"
      },
      {
        "duration": 5,
        "start_time": "2023-07-06T12:32:53.408Z"
      },
      {
        "duration": 57,
        "start_time": "2023-07-06T12:32:53.415Z"
      },
      {
        "duration": 12,
        "start_time": "2023-07-06T12:32:53.474Z"
      },
      {
        "duration": 16,
        "start_time": "2023-07-06T12:32:53.487Z"
      },
      {
        "duration": 12,
        "start_time": "2023-07-06T12:32:53.504Z"
      },
      {
        "duration": 77,
        "start_time": "2023-07-06T12:32:53.519Z"
      },
      {
        "duration": 2,
        "start_time": "2023-07-06T12:32:53.598Z"
      },
      {
        "duration": 17,
        "start_time": "2023-07-06T12:32:53.602Z"
      },
      {
        "duration": 35,
        "start_time": "2023-07-06T12:32:53.620Z"
      },
      {
        "duration": 64,
        "start_time": "2023-07-06T12:32:53.656Z"
      },
      {
        "duration": 4,
        "start_time": "2023-07-06T12:32:53.722Z"
      },
      {
        "duration": 47,
        "start_time": "2023-07-06T12:32:53.728Z"
      },
      {
        "duration": 14,
        "start_time": "2023-07-06T12:32:53.777Z"
      },
      {
        "duration": 128,
        "start_time": "2023-07-06T12:32:53.792Z"
      },
      {
        "duration": 3,
        "start_time": "2023-07-06T12:32:53.921Z"
      },
      {
        "duration": 12,
        "start_time": "2023-07-06T12:32:53.931Z"
      },
      {
        "duration": 10,
        "start_time": "2023-07-06T12:32:53.945Z"
      },
      {
        "duration": 22,
        "start_time": "2023-07-06T12:32:53.956Z"
      },
      {
        "duration": 10,
        "start_time": "2023-07-06T12:32:53.979Z"
      },
      {
        "duration": 1595,
        "start_time": "2023-07-06T12:32:53.990Z"
      },
      {
        "duration": 7379,
        "start_time": "2023-07-06T12:32:55.586Z"
      },
      {
        "duration": 325,
        "start_time": "2023-07-06T12:43:19.418Z"
      },
      {
        "duration": 165663,
        "start_time": "2023-07-06T12:44:49.888Z"
      },
      {
        "duration": 153056,
        "start_time": "2023-07-06T12:50:57.196Z"
      },
      {
        "duration": 4,
        "start_time": "2023-07-06T13:20:34.648Z"
      },
      {
        "duration": 41,
        "start_time": "2023-07-06T13:20:41.147Z"
      },
      {
        "duration": 94,
        "start_time": "2023-07-06T13:20:51.488Z"
      },
      {
        "duration": 317,
        "start_time": "2023-07-06T13:21:20.784Z"
      },
      {
        "duration": 1637,
        "start_time": "2023-07-06T13:24:26.740Z"
      },
      {
        "duration": 69,
        "start_time": "2023-07-06T13:26:42.476Z"
      },
      {
        "duration": 94,
        "start_time": "2023-07-06T13:28:13.474Z"
      },
      {
        "duration": 148,
        "start_time": "2023-07-06T13:30:05.627Z"
      },
      {
        "duration": 1712,
        "start_time": "2023-07-06T13:30:20.007Z"
      },
      {
        "duration": 123,
        "start_time": "2023-07-06T13:30:24.429Z"
      },
      {
        "duration": 4,
        "start_time": "2023-07-06T13:32:07.433Z"
      },
      {
        "duration": 5,
        "start_time": "2023-07-06T13:32:31.545Z"
      },
      {
        "duration": 1619,
        "start_time": "2023-07-06T13:32:46.041Z"
      },
      {
        "duration": 99212,
        "start_time": "2023-07-06T13:34:10.545Z"
      },
      {
        "duration": 330,
        "start_time": "2023-07-06T13:35:49.758Z"
      },
      {
        "duration": 45,
        "start_time": "2023-07-06T13:38:43.446Z"
      },
      {
        "duration": 1736,
        "start_time": "2023-07-06T13:38:54.826Z"
      },
      {
        "duration": 2769,
        "start_time": "2023-07-06T13:38:59.914Z"
      },
      {
        "duration": 9,
        "start_time": "2023-07-06T13:39:02.685Z"
      },
      {
        "duration": 34,
        "start_time": "2023-07-06T13:39:03.649Z"
      },
      {
        "duration": 3,
        "start_time": "2023-07-06T13:39:05.177Z"
      },
      {
        "duration": 83781,
        "start_time": "2023-07-06T13:39:05.810Z"
      },
      {
        "duration": 4,
        "start_time": "2023-07-06T13:40:29.593Z"
      },
      {
        "duration": 10,
        "start_time": "2023-07-06T13:40:29.598Z"
      },
      {
        "duration": 3769,
        "start_time": "2023-07-06T13:40:29.609Z"
      },
      {
        "duration": 4,
        "start_time": "2023-07-06T13:40:45.543Z"
      },
      {
        "duration": 2,
        "start_time": "2023-07-06T13:40:48.283Z"
      },
      {
        "duration": 2,
        "start_time": "2023-07-06T13:40:48.794Z"
      },
      {
        "duration": 2,
        "start_time": "2023-07-06T13:40:49.378Z"
      },
      {
        "duration": 2,
        "start_time": "2023-07-06T13:40:50.276Z"
      },
      {
        "duration": 45,
        "start_time": "2023-07-06T13:40:50.899Z"
      },
      {
        "duration": 6,
        "start_time": "2023-07-06T13:40:52.884Z"
      },
      {
        "duration": 9,
        "start_time": "2023-07-06T13:40:53.531Z"
      },
      {
        "duration": 8,
        "start_time": "2023-07-06T13:40:54.341Z"
      },
      {
        "duration": 62,
        "start_time": "2023-07-06T13:40:55.181Z"
      },
      {
        "duration": 3,
        "start_time": "2023-07-06T13:40:57.083Z"
      },
      {
        "duration": 10,
        "start_time": "2023-07-06T13:40:57.625Z"
      },
      {
        "duration": 6,
        "start_time": "2023-07-06T13:40:58.242Z"
      },
      {
        "duration": 33,
        "start_time": "2023-07-06T13:40:59.952Z"
      },
      {
        "duration": 4,
        "start_time": "2023-07-06T13:41:01.584Z"
      },
      {
        "duration": 5,
        "start_time": "2023-07-06T13:41:03.141Z"
      },
      {
        "duration": 6,
        "start_time": "2023-07-06T13:41:04.320Z"
      },
      {
        "duration": 120,
        "start_time": "2023-07-06T13:41:05.849Z"
      },
      {
        "duration": 4,
        "start_time": "2023-07-06T13:41:12.087Z"
      },
      {
        "duration": 39,
        "start_time": "2023-07-06T13:41:14.945Z"
      },
      {
        "duration": 180,
        "start_time": "2023-07-06T13:41:21.230Z"
      },
      {
        "duration": 5,
        "start_time": "2023-07-06T13:41:23.853Z"
      },
      {
        "duration": 1501,
        "start_time": "2023-07-06T13:41:29.692Z"
      },
      {
        "duration": 6709,
        "start_time": "2023-07-06T13:41:40.796Z"
      },
      {
        "duration": 157129,
        "start_time": "2023-07-06T13:41:54.236Z"
      },
      {
        "duration": 13,
        "start_time": "2023-07-06T13:44:54.931Z"
      },
      {
        "duration": 1838,
        "start_time": "2023-07-06T13:44:58.389Z"
      },
      {
        "duration": 46478,
        "start_time": "2023-07-06T13:46:18.577Z"
      },
      {
        "duration": 158,
        "start_time": "2023-07-06T14:51:02.541Z"
      },
      {
        "duration": 730,
        "start_time": "2023-07-06T14:51:08.257Z"
      },
      {
        "duration": 7,
        "start_time": "2023-07-06T14:51:09.208Z"
      },
      {
        "duration": 29,
        "start_time": "2023-07-06T14:51:10.451Z"
      },
      {
        "duration": 3,
        "start_time": "2023-07-06T14:51:12.443Z"
      },
      {
        "duration": 79802,
        "start_time": "2023-07-06T14:51:13.865Z"
      },
      {
        "duration": 4,
        "start_time": "2023-07-06T14:52:33.670Z"
      },
      {
        "duration": 16,
        "start_time": "2023-07-06T14:52:33.675Z"
      },
      {
        "duration": 3545,
        "start_time": "2023-07-06T14:52:33.693Z"
      },
      {
        "duration": 4,
        "start_time": "2023-07-06T14:52:37.240Z"
      },
      {
        "duration": 36,
        "start_time": "2023-07-06T14:52:42.597Z"
      },
      {
        "duration": 5,
        "start_time": "2023-07-06T14:52:44.397Z"
      },
      {
        "duration": 7,
        "start_time": "2023-07-06T14:52:45.552Z"
      },
      {
        "duration": 8,
        "start_time": "2023-07-06T14:52:46.182Z"
      },
      {
        "duration": 50,
        "start_time": "2023-07-06T14:52:46.857Z"
      },
      {
        "duration": 3,
        "start_time": "2023-07-06T14:52:48.753Z"
      },
      {
        "duration": 6,
        "start_time": "2023-07-06T14:52:49.362Z"
      },
      {
        "duration": 5,
        "start_time": "2023-07-06T14:53:00.608Z"
      },
      {
        "duration": 36,
        "start_time": "2023-07-06T14:53:01.848Z"
      },
      {
        "duration": 4,
        "start_time": "2023-07-06T14:53:03.902Z"
      },
      {
        "duration": 4,
        "start_time": "2023-07-06T14:53:06.990Z"
      },
      {
        "duration": 7,
        "start_time": "2023-07-06T14:53:08.334Z"
      },
      {
        "duration": 101,
        "start_time": "2023-07-06T14:53:10.574Z"
      },
      {
        "duration": 7,
        "start_time": "2023-07-06T14:53:23.404Z"
      },
      {
        "duration": 31,
        "start_time": "2023-07-06T14:53:25.365Z"
      },
      {
        "duration": 96,
        "start_time": "2023-07-06T14:53:30.795Z"
      },
      {
        "duration": 5,
        "start_time": "2023-07-06T14:53:36.608Z"
      },
      {
        "duration": 45,
        "start_time": "2023-07-06T14:53:47.409Z"
      },
      {
        "duration": 1735,
        "start_time": "2023-07-06T14:53:59.192Z"
      },
      {
        "duration": 2408,
        "start_time": "2023-07-06T14:54:03.637Z"
      },
      {
        "duration": 9,
        "start_time": "2023-07-06T14:54:06.767Z"
      },
      {
        "duration": 32,
        "start_time": "2023-07-06T14:54:07.310Z"
      },
      {
        "duration": 2,
        "start_time": "2023-07-06T14:54:08.482Z"
      },
      {
        "duration": 79080,
        "start_time": "2023-07-06T14:54:09.080Z"
      },
      {
        "duration": 4,
        "start_time": "2023-07-06T14:55:28.162Z"
      },
      {
        "duration": 3,
        "start_time": "2023-07-06T14:56:10.621Z"
      },
      {
        "duration": 3522,
        "start_time": "2023-07-06T14:56:12.204Z"
      },
      {
        "duration": 5,
        "start_time": "2023-07-06T14:56:15.728Z"
      },
      {
        "duration": 37,
        "start_time": "2023-07-06T14:56:39.875Z"
      },
      {
        "duration": 6,
        "start_time": "2023-07-06T14:56:41.105Z"
      },
      {
        "duration": 7,
        "start_time": "2023-07-06T14:56:43.752Z"
      },
      {
        "duration": 8,
        "start_time": "2023-07-06T14:56:44.382Z"
      },
      {
        "duration": 53,
        "start_time": "2023-07-06T14:56:45.386Z"
      },
      {
        "duration": 2,
        "start_time": "2023-07-06T14:56:46.654Z"
      },
      {
        "duration": 5,
        "start_time": "2023-07-06T14:56:47.215Z"
      },
      {
        "duration": 5,
        "start_time": "2023-07-06T14:56:47.845Z"
      },
      {
        "duration": 31,
        "start_time": "2023-07-06T14:56:48.887Z"
      },
      {
        "duration": 4,
        "start_time": "2023-07-06T14:56:49.880Z"
      },
      {
        "duration": 4,
        "start_time": "2023-07-06T14:56:50.783Z"
      },
      {
        "duration": 5,
        "start_time": "2023-07-06T14:56:51.588Z"
      },
      {
        "duration": 115,
        "start_time": "2023-07-06T14:56:53.622Z"
      },
      {
        "duration": 4,
        "start_time": "2023-07-06T14:56:55.882Z"
      },
      {
        "duration": 34,
        "start_time": "2023-07-06T14:56:57.965Z"
      },
      {
        "duration": 90,
        "start_time": "2023-07-06T14:56:59.925Z"
      },
      {
        "duration": 6,
        "start_time": "2023-07-06T14:57:02.396Z"
      },
      {
        "duration": 1545,
        "start_time": "2023-07-06T14:57:05.481Z"
      },
      {
        "duration": 6481,
        "start_time": "2023-07-06T14:57:12.363Z"
      },
      {
        "duration": 177915,
        "start_time": "2023-07-06T14:57:21.337Z"
      },
      {
        "duration": 4,
        "start_time": "2023-07-06T15:02:59.632Z"
      },
      {
        "duration": 1645,
        "start_time": "2023-07-06T15:03:00.545Z"
      },
      {
        "duration": 28284,
        "start_time": "2023-07-06T15:03:06.551Z"
      },
      {
        "duration": 4,
        "start_time": "2023-07-06T15:07:30.061Z"
      },
      {
        "duration": 111,
        "start_time": "2023-07-06T16:30:52.293Z"
      },
      {
        "duration": 165,
        "start_time": "2023-07-06T16:32:02.028Z"
      },
      {
        "duration": 14,
        "start_time": "2023-07-06T16:32:09.940Z"
      },
      {
        "duration": 10,
        "start_time": "2023-07-06T16:32:40.558Z"
      },
      {
        "duration": 6,
        "start_time": "2023-07-06T16:33:16.554Z"
      },
      {
        "duration": 11,
        "start_time": "2023-07-06T16:33:20.866Z"
      },
      {
        "duration": 357922,
        "start_time": "2023-07-06T16:33:39.168Z"
      },
      {
        "duration": 4,
        "start_time": "2023-07-06T16:40:28.649Z"
      },
      {
        "duration": 1892413,
        "start_time": "2023-07-06T16:41:19.732Z"
      },
      {
        "duration": 12,
        "start_time": "2023-07-06T17:14:44.376Z"
      },
      {
        "duration": 4,
        "start_time": "2023-07-06T17:15:04.064Z"
      },
      {
        "duration": 3156,
        "start_time": "2023-07-06T20:12:36.660Z"
      },
      {
        "duration": 4778,
        "start_time": "2023-07-06T20:12:45.435Z"
      },
      {
        "duration": 141,
        "start_time": "2023-07-06T20:12:50.222Z"
      },
      {
        "duration": 54,
        "start_time": "2023-07-06T20:12:57.998Z"
      },
      {
        "duration": 10,
        "start_time": "2023-07-06T20:13:01.243Z"
      },
      {
        "duration": 160803,
        "start_time": "2023-07-06T20:13:03.406Z"
      },
      {
        "duration": 8,
        "start_time": "2023-07-06T20:15:57.964Z"
      },
      {
        "duration": 5,
        "start_time": "2023-07-06T20:16:00.698Z"
      },
      {
        "duration": 6938,
        "start_time": "2023-07-06T20:16:01.506Z"
      },
      {
        "duration": 30,
        "start_time": "2023-07-06T20:16:08.455Z"
      },
      {
        "duration": 118,
        "start_time": "2023-07-06T20:16:19.329Z"
      },
      {
        "duration": 20,
        "start_time": "2023-07-06T20:16:20.131Z"
      },
      {
        "duration": 14,
        "start_time": "2023-07-06T20:16:21.270Z"
      },
      {
        "duration": 22,
        "start_time": "2023-07-06T20:16:22.167Z"
      },
      {
        "duration": 86,
        "start_time": "2023-07-06T20:16:22.868Z"
      },
      {
        "duration": 12,
        "start_time": "2023-07-06T20:16:24.661Z"
      },
      {
        "duration": 6,
        "start_time": "2023-07-06T20:16:25.199Z"
      },
      {
        "duration": 10,
        "start_time": "2023-07-06T20:16:25.983Z"
      },
      {
        "duration": 64,
        "start_time": "2023-07-06T20:16:26.696Z"
      },
      {
        "duration": 4,
        "start_time": "2023-07-06T20:16:26.773Z"
      },
      {
        "duration": 19,
        "start_time": "2023-07-06T20:16:28.366Z"
      },
      {
        "duration": 40,
        "start_time": "2023-07-06T20:16:29.699Z"
      },
      {
        "duration": 272,
        "start_time": "2023-07-06T20:16:30.734Z"
      },
      {
        "duration": 24,
        "start_time": "2023-07-06T20:16:35.270Z"
      },
      {
        "duration": 130,
        "start_time": "2023-07-06T20:16:38.912Z"
      },
      {
        "duration": 287,
        "start_time": "2023-07-06T20:16:41.706Z"
      },
      {
        "duration": 11,
        "start_time": "2023-07-06T20:16:45.151Z"
      },
      {
        "duration": 8342,
        "start_time": "2023-07-06T20:16:50.674Z"
      },
      {
        "duration": 11545,
        "start_time": "2023-07-06T20:17:01.072Z"
      },
      {
        "duration": 11660,
        "start_time": "2023-07-06T20:20:20.871Z"
      },
      {
        "duration": 9158,
        "start_time": "2023-07-06T20:20:55.452Z"
      },
      {
        "duration": 29,
        "start_time": "2023-07-06T20:21:04.617Z"
      },
      {
        "duration": 98,
        "start_time": "2023-07-06T20:21:08.079Z"
      },
      {
        "duration": 10,
        "start_time": "2023-07-06T20:21:11.651Z"
      },
      {
        "duration": 150517,
        "start_time": "2023-07-06T20:21:12.802Z"
      },
      {
        "duration": 6,
        "start_time": "2023-07-06T20:24:13.992Z"
      },
      {
        "duration": 5,
        "start_time": "2023-07-06T20:24:17.066Z"
      },
      {
        "duration": 6375,
        "start_time": "2023-07-06T20:24:18.490Z"
      },
      {
        "duration": 9,
        "start_time": "2023-07-06T20:24:28.692Z"
      },
      {
        "duration": 70,
        "start_time": "2023-07-06T20:24:31.367Z"
      },
      {
        "duration": 10,
        "start_time": "2023-07-06T20:24:32.452Z"
      },
      {
        "duration": 18,
        "start_time": "2023-07-06T20:24:32.561Z"
      },
      {
        "duration": 10,
        "start_time": "2023-07-06T20:24:33.672Z"
      },
      {
        "duration": 104,
        "start_time": "2023-07-06T20:24:34.299Z"
      },
      {
        "duration": 6,
        "start_time": "2023-07-06T20:24:35.639Z"
      },
      {
        "duration": 9,
        "start_time": "2023-07-06T20:24:36.167Z"
      },
      {
        "duration": 6,
        "start_time": "2023-07-06T20:24:36.699Z"
      },
      {
        "duration": 86,
        "start_time": "2023-07-06T20:24:38.514Z"
      },
      {
        "duration": 6,
        "start_time": "2023-07-06T20:24:39.091Z"
      },
      {
        "duration": 16,
        "start_time": "2023-07-06T20:24:39.567Z"
      },
      {
        "duration": 22,
        "start_time": "2023-07-06T20:24:40.051Z"
      },
      {
        "duration": 164,
        "start_time": "2023-07-06T20:24:40.801Z"
      },
      {
        "duration": 22,
        "start_time": "2023-07-06T20:24:43.967Z"
      },
      {
        "duration": 65,
        "start_time": "2023-07-06T20:24:44.835Z"
      },
      {
        "duration": 207,
        "start_time": "2023-07-06T20:24:46.653Z"
      },
      {
        "duration": 13,
        "start_time": "2023-07-06T20:24:48.834Z"
      },
      {
        "duration": 4387,
        "start_time": "2023-07-06T20:24:51.274Z"
      },
      {
        "duration": 9633,
        "start_time": "2023-07-06T20:25:00.112Z"
      },
      {
        "duration": 156200,
        "start_time": "2023-07-06T20:25:15.457Z"
      },
      {
        "duration": 3,
        "start_time": "2023-07-06T20:28:19.141Z"
      },
      {
        "duration": 11,
        "start_time": "2023-07-06T20:29:33.209Z"
      },
      {
        "duration": 2704,
        "start_time": "2023-07-06T20:29:36.977Z"
      },
      {
        "duration": 40673,
        "start_time": "2023-07-06T20:29:45.308Z"
      },
      {
        "duration": 44400,
        "start_time": "2023-07-06T20:30:34.692Z"
      },
      {
        "duration": 11,
        "start_time": "2023-07-06T20:31:52.344Z"
      },
      {
        "duration": 6,
        "start_time": "2023-07-06T20:32:47.298Z"
      },
      {
        "duration": 352,
        "start_time": "2023-07-06T20:33:49.384Z"
      },
      {
        "duration": 20,
        "start_time": "2023-07-06T20:34:07.806Z"
      },
      {
        "duration": 14,
        "start_time": "2023-07-06T20:35:00.339Z"
      },
      {
        "duration": 14,
        "start_time": "2023-07-06T20:36:03.741Z"
      },
      {
        "duration": 14,
        "start_time": "2023-07-06T20:36:25.970Z"
      },
      {
        "duration": 289,
        "start_time": "2023-07-06T20:37:22.708Z"
      },
      {
        "duration": 145,
        "start_time": "2023-07-06T20:37:40.567Z"
      },
      {
        "duration": 181,
        "start_time": "2023-07-06T20:38:09.964Z"
      },
      {
        "duration": 182,
        "start_time": "2023-07-06T20:41:14.499Z"
      },
      {
        "duration": 128953,
        "start_time": "2023-07-06T20:43:57.155Z"
      },
      {
        "duration": 1081934,
        "start_time": "2023-07-06T20:46:58.858Z"
      },
      {
        "duration": 6,
        "start_time": "2023-07-06T21:06:36.835Z"
      },
      {
        "duration": 2096,
        "start_time": "2023-07-07T05:28:06.833Z"
      },
      {
        "duration": 3674,
        "start_time": "2023-07-07T05:28:12.228Z"
      },
      {
        "duration": 140,
        "start_time": "2023-07-07T05:28:17.938Z"
      },
      {
        "duration": 45,
        "start_time": "2023-07-07T05:28:19.130Z"
      },
      {
        "duration": 6,
        "start_time": "2023-07-07T05:28:20.659Z"
      },
      {
        "duration": 116140,
        "start_time": "2023-07-07T05:28:22.122Z"
      },
      {
        "duration": 5,
        "start_time": "2023-07-07T05:34:50.602Z"
      },
      {
        "duration": 3,
        "start_time": "2023-07-07T05:34:53.617Z"
      },
      {
        "duration": 4200,
        "start_time": "2023-07-07T05:34:54.476Z"
      },
      {
        "duration": 5,
        "start_time": "2023-07-07T05:35:02.878Z"
      },
      {
        "duration": 49,
        "start_time": "2023-07-07T05:35:05.805Z"
      },
      {
        "duration": 11,
        "start_time": "2023-07-07T05:35:06.468Z"
      },
      {
        "duration": 10,
        "start_time": "2023-07-07T05:35:07.102Z"
      },
      {
        "duration": 13,
        "start_time": "2023-07-07T05:35:08.088Z"
      },
      {
        "duration": 65,
        "start_time": "2023-07-07T05:35:08.756Z"
      },
      {
        "duration": 3,
        "start_time": "2023-07-07T05:35:12.444Z"
      },
      {
        "duration": 6,
        "start_time": "2023-07-07T05:35:13.990Z"
      },
      {
        "duration": 6,
        "start_time": "2023-07-07T05:35:14.702Z"
      },
      {
        "duration": 49,
        "start_time": "2023-07-07T05:35:16.325Z"
      },
      {
        "duration": 4,
        "start_time": "2023-07-07T05:35:17.019Z"
      },
      {
        "duration": 4,
        "start_time": "2023-07-07T05:35:17.708Z"
      },
      {
        "duration": 8,
        "start_time": "2023-07-07T05:35:18.873Z"
      },
      {
        "duration": 171,
        "start_time": "2023-07-07T05:35:19.678Z"
      },
      {
        "duration": 6,
        "start_time": "2023-07-07T05:35:23.051Z"
      },
      {
        "duration": 41,
        "start_time": "2023-07-07T05:35:25.003Z"
      },
      {
        "duration": 132,
        "start_time": "2023-07-07T05:35:26.506Z"
      },
      {
        "duration": 7,
        "start_time": "2023-07-07T05:35:29.633Z"
      },
      {
        "duration": 1571,
        "start_time": "2023-07-07T05:35:34.746Z"
      },
      {
        "duration": 7787,
        "start_time": "2023-07-07T05:35:38.595Z"
      },
      {
        "duration": 117110,
        "start_time": "2023-07-07T05:35:46.385Z"
      },
      {
        "duration": 4,
        "start_time": "2023-07-07T05:37:43.498Z"
      },
      {
        "duration": 4,
        "start_time": "2023-07-07T05:37:54.996Z"
      },
      {
        "duration": 1873,
        "start_time": "2023-07-07T05:37:56.237Z"
      },
      {
        "duration": 38979,
        "start_time": "2023-07-07T05:38:02.997Z"
      },
      {
        "duration": 32110,
        "start_time": "2023-07-07T05:38:51.119Z"
      },
      {
        "duration": 4,
        "start_time": "2023-07-07T05:39:29.895Z"
      },
      {
        "duration": 198863,
        "start_time": "2023-07-07T05:41:18.720Z"
      },
      {
        "duration": 5,
        "start_time": "2023-07-07T05:44:37.585Z"
      },
      {
        "duration": 763112,
        "start_time": "2023-07-07T05:45:11.630Z"
      },
      {
        "duration": 4,
        "start_time": "2023-07-07T06:00:37.374Z"
      },
      {
        "duration": 305,
        "start_time": "2023-07-07T06:02:23.105Z"
      },
      {
        "duration": 91,
        "start_time": "2023-07-07T06:26:40.856Z"
      },
      {
        "duration": 2076,
        "start_time": "2023-07-07T06:45:11.750Z"
      },
      {
        "duration": 3419,
        "start_time": "2023-07-07T06:45:13.827Z"
      },
      {
        "duration": 95,
        "start_time": "2023-07-07T06:45:17.248Z"
      },
      {
        "duration": 36,
        "start_time": "2023-07-07T06:45:21.024Z"
      },
      {
        "duration": 5,
        "start_time": "2023-07-07T06:45:22.008Z"
      },
      {
        "duration": 111082,
        "start_time": "2023-07-07T06:45:22.577Z"
      },
      {
        "duration": 5,
        "start_time": "2023-07-07T06:47:13.662Z"
      },
      {
        "duration": 14,
        "start_time": "2023-07-07T06:47:13.669Z"
      },
      {
        "duration": 3847,
        "start_time": "2023-07-07T06:47:13.686Z"
      },
      {
        "duration": 4,
        "start_time": "2023-07-07T06:47:17.535Z"
      },
      {
        "duration": 59,
        "start_time": "2023-07-07T06:47:17.541Z"
      },
      {
        "duration": 7,
        "start_time": "2023-07-07T06:47:17.602Z"
      },
      {
        "duration": 44,
        "start_time": "2023-07-07T06:47:17.610Z"
      },
      {
        "duration": 53,
        "start_time": "2023-07-07T06:47:17.655Z"
      },
      {
        "duration": 72,
        "start_time": "2023-07-07T06:47:17.711Z"
      },
      {
        "duration": 2,
        "start_time": "2023-07-07T06:47:17.785Z"
      },
      {
        "duration": 30,
        "start_time": "2023-07-07T06:47:17.789Z"
      },
      {
        "duration": 10,
        "start_time": "2023-07-07T06:47:17.821Z"
      },
      {
        "duration": 37,
        "start_time": "2023-07-07T06:47:17.832Z"
      },
      {
        "duration": 4,
        "start_time": "2023-07-07T06:47:17.871Z"
      },
      {
        "duration": 12,
        "start_time": "2023-07-07T06:47:17.876Z"
      },
      {
        "duration": 12,
        "start_time": "2023-07-07T06:47:17.889Z"
      },
      {
        "duration": 142,
        "start_time": "2023-07-07T06:47:17.903Z"
      },
      {
        "duration": 13,
        "start_time": "2023-07-07T06:47:18.047Z"
      },
      {
        "duration": 63,
        "start_time": "2023-07-07T06:47:18.061Z"
      },
      {
        "duration": 107,
        "start_time": "2023-07-07T06:47:18.126Z"
      },
      {
        "duration": 6,
        "start_time": "2023-07-07T06:47:18.235Z"
      },
      {
        "duration": 1698,
        "start_time": "2023-07-07T06:48:14.097Z"
      },
      {
        "duration": 8420,
        "start_time": "2023-07-07T06:48:16.513Z"
      },
      {
        "duration": 123398,
        "start_time": "2023-07-07T06:48:28.007Z"
      },
      {
        "duration": 3,
        "start_time": "2023-07-07T06:53:18.093Z"
      },
      {
        "duration": 5,
        "start_time": "2023-07-07T06:53:22.029Z"
      },
      {
        "duration": 1998,
        "start_time": "2023-07-07T06:53:23.117Z"
      },
      {
        "duration": 23887,
        "start_time": "2023-07-07T06:53:29.075Z"
      },
      {
        "duration": 33341,
        "start_time": "2023-07-07T06:54:01.185Z"
      },
      {
        "duration": 4,
        "start_time": "2023-07-07T06:54:40.976Z"
      },
      {
        "duration": 196307,
        "start_time": "2023-07-07T06:54:50.994Z"
      },
      {
        "duration": 5,
        "start_time": "2023-07-07T07:04:32.588Z"
      },
      {
        "duration": 768564,
        "start_time": "2023-07-07T07:04:42.395Z"
      },
      {
        "duration": 10,
        "start_time": "2023-07-07T07:17:30.963Z"
      },
      {
        "duration": 5,
        "start_time": "2023-07-07T07:22:45.524Z"
      },
      {
        "duration": 54,
        "start_time": "2023-07-07T07:34:10.096Z"
      },
      {
        "duration": 1991,
        "start_time": "2023-07-07T07:34:17.305Z"
      },
      {
        "duration": 3631,
        "start_time": "2023-07-07T07:34:21.677Z"
      },
      {
        "duration": 110,
        "start_time": "2023-07-07T07:34:25.310Z"
      },
      {
        "duration": 59,
        "start_time": "2023-07-07T07:34:25.422Z"
      },
      {
        "duration": 64,
        "start_time": "2023-07-07T07:34:25.484Z"
      },
      {
        "duration": 109834,
        "start_time": "2023-07-07T07:34:25.549Z"
      },
      {
        "duration": 5,
        "start_time": "2023-07-07T07:36:15.385Z"
      },
      {
        "duration": 14,
        "start_time": "2023-07-07T07:36:15.392Z"
      },
      {
        "duration": 4031,
        "start_time": "2023-07-07T07:36:15.408Z"
      },
      {
        "duration": 4,
        "start_time": "2023-07-07T07:36:19.442Z"
      },
      {
        "duration": 78,
        "start_time": "2023-07-07T07:36:19.448Z"
      },
      {
        "duration": 19,
        "start_time": "2023-07-07T07:36:19.528Z"
      },
      {
        "duration": 10,
        "start_time": "2023-07-07T07:36:19.549Z"
      },
      {
        "duration": 38,
        "start_time": "2023-07-07T07:36:19.561Z"
      },
      {
        "duration": 74,
        "start_time": "2023-07-07T07:36:19.601Z"
      },
      {
        "duration": 3,
        "start_time": "2023-07-07T07:36:19.677Z"
      },
      {
        "duration": 22,
        "start_time": "2023-07-07T07:36:19.682Z"
      },
      {
        "duration": 11,
        "start_time": "2023-07-07T07:36:19.705Z"
      },
      {
        "duration": 46,
        "start_time": "2023-07-07T07:36:19.717Z"
      },
      {
        "duration": 6,
        "start_time": "2023-07-07T07:36:19.764Z"
      },
      {
        "duration": 6,
        "start_time": "2023-07-07T07:36:19.771Z"
      },
      {
        "duration": 19,
        "start_time": "2023-07-07T07:36:19.780Z"
      },
      {
        "duration": 149,
        "start_time": "2023-07-07T07:36:19.801Z"
      },
      {
        "duration": 4,
        "start_time": "2023-07-07T07:36:19.958Z"
      },
      {
        "duration": 58,
        "start_time": "2023-07-07T07:36:19.964Z"
      },
      {
        "duration": 117,
        "start_time": "2023-07-07T07:36:20.024Z"
      },
      {
        "duration": 5,
        "start_time": "2023-07-07T07:36:20.143Z"
      },
      {
        "duration": 1532,
        "start_time": "2023-07-07T07:37:03.810Z"
      },
      {
        "duration": 7411,
        "start_time": "2023-07-07T07:37:06.119Z"
      },
      {
        "duration": 5,
        "start_time": "2023-07-07T07:37:14.901Z"
      },
      {
        "duration": 5,
        "start_time": "2023-07-07T07:37:34.746Z"
      },
      {
        "duration": 133614,
        "start_time": "2023-07-07T07:38:36.098Z"
      },
      {
        "duration": 5,
        "start_time": "2023-07-07T07:41:13.050Z"
      },
      {
        "duration": 6,
        "start_time": "2023-07-07T07:41:35.424Z"
      },
      {
        "duration": 1768,
        "start_time": "2023-07-07T07:41:36.429Z"
      },
      {
        "duration": 46471,
        "start_time": "2023-07-07T07:41:45.300Z"
      },
      {
        "duration": 115,
        "start_time": "2023-07-07T07:43:29.093Z"
      },
      {
        "duration": 33208,
        "start_time": "2023-07-07T07:43:39.983Z"
      },
      {
        "duration": 4,
        "start_time": "2023-07-07T07:45:32.440Z"
      },
      {
        "duration": 31577,
        "start_time": "2023-07-07T07:46:23.829Z"
      },
      {
        "duration": 5,
        "start_time": "2023-07-07T07:47:46.529Z"
      },
      {
        "duration": 200538,
        "start_time": "2023-07-07T07:47:58.760Z"
      },
      {
        "duration": 5,
        "start_time": "2023-07-07T07:52:22.033Z"
      },
      {
        "duration": 823527,
        "start_time": "2023-07-07T07:52:27.532Z"
      },
      {
        "duration": 5,
        "start_time": "2023-07-07T08:07:38.613Z"
      },
      {
        "duration": 514991,
        "start_time": "2023-07-07T08:07:58.200Z"
      },
      {
        "duration": 6,
        "start_time": "2023-07-07T08:17:24.136Z"
      },
      {
        "duration": 53,
        "start_time": "2023-07-07T08:23:30.145Z"
      },
      {
        "duration": 9,
        "start_time": "2023-07-07T08:23:46.781Z"
      },
      {
        "duration": 7,
        "start_time": "2023-07-07T08:24:03.924Z"
      },
      {
        "duration": 2678,
        "start_time": "2023-07-07T08:24:18.082Z"
      },
      {
        "duration": 3466,
        "start_time": "2023-07-07T08:24:20.762Z"
      },
      {
        "duration": 113,
        "start_time": "2023-07-07T08:24:24.231Z"
      },
      {
        "duration": 41,
        "start_time": "2023-07-07T08:24:24.347Z"
      },
      {
        "duration": 16,
        "start_time": "2023-07-07T08:24:24.390Z"
      },
      {
        "duration": 111952,
        "start_time": "2023-07-07T08:24:24.407Z"
      },
      {
        "duration": 7,
        "start_time": "2023-07-07T08:26:16.362Z"
      },
      {
        "duration": 8,
        "start_time": "2023-07-07T08:26:16.371Z"
      },
      {
        "duration": 3893,
        "start_time": "2023-07-07T08:26:16.382Z"
      },
      {
        "duration": 4,
        "start_time": "2023-07-07T08:26:20.278Z"
      },
      {
        "duration": 76,
        "start_time": "2023-07-07T08:26:20.284Z"
      },
      {
        "duration": 7,
        "start_time": "2023-07-07T08:26:20.362Z"
      },
      {
        "duration": 19,
        "start_time": "2023-07-07T08:26:20.372Z"
      },
      {
        "duration": 33,
        "start_time": "2023-07-07T08:26:20.392Z"
      },
      {
        "duration": 63,
        "start_time": "2023-07-07T08:26:20.427Z"
      },
      {
        "duration": 2,
        "start_time": "2023-07-07T08:26:20.493Z"
      },
      {
        "duration": 18,
        "start_time": "2023-07-07T08:26:20.497Z"
      },
      {
        "duration": 20,
        "start_time": "2023-07-07T08:26:20.517Z"
      },
      {
        "duration": 63,
        "start_time": "2023-07-07T08:26:20.538Z"
      },
      {
        "duration": 4,
        "start_time": "2023-07-07T08:26:20.603Z"
      },
      {
        "duration": 16,
        "start_time": "2023-07-07T08:26:20.609Z"
      },
      {
        "duration": 22,
        "start_time": "2023-07-07T08:26:20.627Z"
      },
      {
        "duration": 128,
        "start_time": "2023-07-07T08:26:20.651Z"
      },
      {
        "duration": 5,
        "start_time": "2023-07-07T08:26:20.781Z"
      },
      {
        "duration": 55,
        "start_time": "2023-07-07T08:26:20.787Z"
      },
      {
        "duration": 141,
        "start_time": "2023-07-07T08:26:20.845Z"
      },
      {
        "duration": 7,
        "start_time": "2023-07-07T08:26:20.989Z"
      },
      {
        "duration": 1608,
        "start_time": "2023-07-07T08:28:02.057Z"
      },
      {
        "duration": 7321,
        "start_time": "2023-07-07T08:28:21.045Z"
      },
      {
        "duration": 4,
        "start_time": "2023-07-07T08:28:29.522Z"
      },
      {
        "duration": 128064,
        "start_time": "2023-07-07T08:28:31.931Z"
      },
      {
        "duration": 5,
        "start_time": "2023-07-07T08:32:32.161Z"
      },
      {
        "duration": 5,
        "start_time": "2023-07-07T08:32:34.922Z"
      },
      {
        "duration": 1767,
        "start_time": "2023-07-07T08:32:35.695Z"
      },
      {
        "duration": 19577,
        "start_time": "2023-07-07T08:32:39.687Z"
      },
      {
        "duration": 4,
        "start_time": "2023-07-07T08:33:53.477Z"
      },
      {
        "duration": 33368,
        "start_time": "2023-07-07T08:33:58.871Z"
      },
      {
        "duration": 4,
        "start_time": "2023-07-07T08:41:33.257Z"
      },
      {
        "duration": 6,
        "start_time": "2023-07-07T08:41:51.724Z"
      },
      {
        "duration": 4,
        "start_time": "2023-07-07T08:42:04.628Z"
      },
      {
        "duration": 103,
        "start_time": "2023-07-07T08:42:15.531Z"
      },
      {
        "duration": 757191,
        "start_time": "2023-07-07T08:42:27.393Z"
      },
      {
        "duration": 5,
        "start_time": "2023-07-07T08:55:04.586Z"
      },
      {
        "duration": 5,
        "start_time": "2023-07-07T08:59:34.100Z"
      },
      {
        "duration": 811232,
        "start_time": "2023-07-07T08:59:47.377Z"
      },
      {
        "duration": 5,
        "start_time": "2023-07-07T09:14:44.741Z"
      },
      {
        "duration": 451403,
        "start_time": "2023-07-07T09:14:50.021Z"
      },
      {
        "duration": 4,
        "start_time": "2023-07-07T09:25:06.002Z"
      },
      {
        "duration": 58,
        "start_time": "2023-07-07T09:25:49.935Z"
      },
      {
        "duration": 2682,
        "start_time": "2023-07-07T09:54:42.530Z"
      },
      {
        "duration": 3384,
        "start_time": "2023-07-07T09:55:28.021Z"
      },
      {
        "duration": 96,
        "start_time": "2023-07-07T09:55:32.512Z"
      },
      {
        "duration": 39,
        "start_time": "2023-07-07T09:55:39.796Z"
      },
      {
        "duration": 5,
        "start_time": "2023-07-07T09:59:38.844Z"
      },
      {
        "duration": 110346,
        "start_time": "2023-07-07T09:59:41.735Z"
      },
      {
        "duration": 5,
        "start_time": "2023-07-07T10:02:08.725Z"
      },
      {
        "duration": 4,
        "start_time": "2023-07-07T10:17:23.810Z"
      },
      {
        "duration": 3678,
        "start_time": "2023-07-07T10:17:26.076Z"
      },
      {
        "duration": 5,
        "start_time": "2023-07-07T10:17:52.035Z"
      },
      {
        "duration": 48,
        "start_time": "2023-07-07T10:18:08.499Z"
      },
      {
        "duration": 7,
        "start_time": "2023-07-07T10:18:09.661Z"
      },
      {
        "duration": 10,
        "start_time": "2023-07-07T10:18:11.506Z"
      },
      {
        "duration": 8,
        "start_time": "2023-07-07T10:19:14.887Z"
      },
      {
        "duration": 60,
        "start_time": "2023-07-07T10:19:17.541Z"
      },
      {
        "duration": 3,
        "start_time": "2023-07-07T10:19:29.313Z"
      },
      {
        "duration": 6,
        "start_time": "2023-07-07T10:19:31.761Z"
      },
      {
        "duration": 5,
        "start_time": "2023-07-07T10:19:32.958Z"
      },
      {
        "duration": 6,
        "start_time": "2023-07-07T10:20:30.292Z"
      },
      {
        "duration": 35,
        "start_time": "2023-07-07T10:21:17.427Z"
      },
      {
        "duration": 4,
        "start_time": "2023-07-07T10:21:20.066Z"
      },
      {
        "duration": 4,
        "start_time": "2023-07-07T10:21:23.698Z"
      },
      {
        "duration": 8,
        "start_time": "2023-07-07T10:21:30.624Z"
      },
      {
        "duration": 132,
        "start_time": "2023-07-07T10:21:41.447Z"
      },
      {
        "duration": 4,
        "start_time": "2023-07-07T10:26:06.131Z"
      },
      {
        "duration": 41,
        "start_time": "2023-07-07T10:26:07.680Z"
      },
      {
        "duration": 104,
        "start_time": "2023-07-07T10:26:10.496Z"
      },
      {
        "duration": 1625,
        "start_time": "2023-07-07T10:26:44.585Z"
      },
      {
        "duration": 7972,
        "start_time": "2023-07-07T10:26:46.212Z"
      },
      {
        "duration": 10,
        "start_time": "2023-07-07T10:26:54.186Z"
      },
      {
        "duration": 125882,
        "start_time": "2023-07-07T10:27:04.106Z"
      },
      {
        "duration": 4,
        "start_time": "2023-07-07T10:30:26.504Z"
      },
      {
        "duration": 5,
        "start_time": "2023-07-07T10:30:46.179Z"
      },
      {
        "duration": 3098,
        "start_time": "2023-07-07T10:30:48.470Z"
      },
      {
        "duration": 20275,
        "start_time": "2023-07-07T10:32:18.990Z"
      },
      {
        "duration": 4,
        "start_time": "2023-07-07T10:32:50.603Z"
      },
      {
        "duration": 3,
        "start_time": "2023-07-07T10:33:09.260Z"
      },
      {
        "duration": 31879,
        "start_time": "2023-07-07T10:33:21.868Z"
      },
      {
        "duration": 6,
        "start_time": "2023-07-07T10:34:14.931Z"
      },
      {
        "duration": 190679,
        "start_time": "2023-07-07T10:34:29.184Z"
      },
      {
        "duration": 5,
        "start_time": "2023-07-07T10:37:50.128Z"
      },
      {
        "duration": 728669,
        "start_time": "2023-07-07T10:40:18.213Z"
      },
      {
        "duration": 4,
        "start_time": "2023-07-07T10:52:48.333Z"
      },
      {
        "duration": 431876,
        "start_time": "2023-07-07T10:52:53.072Z"
      },
      {
        "duration": 5,
        "start_time": "2023-07-07T11:06:50.569Z"
      },
      {
        "duration": 2012,
        "start_time": "2023-07-07T20:34:29.015Z"
      },
      {
        "duration": 6,
        "start_time": "2023-07-07T20:35:25.099Z"
      },
      {
        "duration": 2157,
        "start_time": "2023-07-07T20:35:45.851Z"
      },
      {
        "duration": 10,
        "start_time": "2023-07-07T20:35:50.992Z"
      },
      {
        "duration": 63,
        "start_time": "2023-07-07T20:41:13.369Z"
      },
      {
        "duration": 767,
        "start_time": "2023-07-07T20:41:22.550Z"
      },
      {
        "duration": 7,
        "start_time": "2023-07-07T20:41:25.076Z"
      },
      {
        "duration": 32,
        "start_time": "2023-07-07T20:41:27.869Z"
      },
      {
        "duration": 1989,
        "start_time": "2023-07-12T13:28:25.976Z"
      },
      {
        "duration": 3570,
        "start_time": "2023-07-12T13:29:44.022Z"
      },
      {
        "duration": 9,
        "start_time": "2023-07-12T13:29:52.332Z"
      },
      {
        "duration": 10,
        "start_time": "2023-07-12T13:30:04.127Z"
      },
      {
        "duration": 8,
        "start_time": "2023-07-12T13:30:53.768Z"
      },
      {
        "duration": 9,
        "start_time": "2023-07-12T13:31:01.357Z"
      },
      {
        "duration": 35,
        "start_time": "2023-07-12T13:31:05.590Z"
      },
      {
        "duration": 3,
        "start_time": "2023-07-12T14:13:35.113Z"
      },
      {
        "duration": 5,
        "start_time": "2023-07-12T14:14:30.991Z"
      },
      {
        "duration": 4,
        "start_time": "2023-07-12T14:17:34.987Z"
      },
      {
        "duration": 4150,
        "start_time": "2023-07-12T14:18:01.794Z"
      },
      {
        "duration": 8,
        "start_time": "2023-07-12T14:18:29.020Z"
      },
      {
        "duration": 3,
        "start_time": "2023-07-12T14:22:51.334Z"
      },
      {
        "duration": 3,
        "start_time": "2023-07-12T14:22:55.149Z"
      },
      {
        "duration": 2,
        "start_time": "2023-07-12T14:22:57.304Z"
      },
      {
        "duration": 2,
        "start_time": "2023-07-12T14:22:59.717Z"
      },
      {
        "duration": 2,
        "start_time": "2023-07-12T14:23:00.317Z"
      },
      {
        "duration": 3,
        "start_time": "2023-07-12T14:24:02.448Z"
      },
      {
        "duration": 66,
        "start_time": "2023-07-12T14:25:04.022Z"
      },
      {
        "duration": 209,
        "start_time": "2023-07-12T14:26:41.190Z"
      },
      {
        "duration": 3195,
        "start_time": "2023-07-12T14:27:12.305Z"
      },
      {
        "duration": 591,
        "start_time": "2023-07-12T14:27:25.202Z"
      },
      {
        "duration": 15,
        "start_time": "2023-07-12T14:28:13.306Z"
      },
      {
        "duration": 1019628,
        "start_time": "2023-07-12T14:28:58.167Z"
      },
      {
        "duration": 11,
        "start_time": "2023-07-12T14:46:07.100Z"
      },
      {
        "duration": 84,
        "start_time": "2023-07-12T14:46:30.299Z"
      },
      {
        "duration": 3,
        "start_time": "2023-07-12T14:46:50.619Z"
      },
      {
        "duration": 6,
        "start_time": "2023-07-12T14:46:53.068Z"
      },
      {
        "duration": 5,
        "start_time": "2023-07-12T14:46:55.999Z"
      },
      {
        "duration": 46,
        "start_time": "2023-07-12T14:46:59.901Z"
      },
      {
        "duration": 5,
        "start_time": "2023-07-12T14:47:01.540Z"
      },
      {
        "duration": 4,
        "start_time": "2023-07-12T14:47:03.994Z"
      },
      {
        "duration": 7,
        "start_time": "2023-07-12T14:47:05.868Z"
      },
      {
        "duration": 521,
        "start_time": "2023-07-12T14:47:07.713Z"
      },
      {
        "duration": 3,
        "start_time": "2023-07-12T14:47:28.406Z"
      },
      {
        "duration": 3,
        "start_time": "2023-07-12T14:47:30.460Z"
      },
      {
        "duration": 4,
        "start_time": "2023-07-12T15:00:33.398Z"
      },
      {
        "duration": 58,
        "start_time": "2023-07-12T15:01:50.906Z"
      },
      {
        "duration": 5091,
        "start_time": "2023-07-12T15:02:23.928Z"
      },
      {
        "duration": 5,
        "start_time": "2023-07-12T15:03:01.063Z"
      },
      {
        "duration": 5,
        "start_time": "2023-07-12T15:06:21.228Z"
      },
      {
        "duration": 125896,
        "start_time": "2023-07-12T15:06:29.985Z"
      },
      {
        "duration": 3,
        "start_time": "2023-07-12T15:09:09.402Z"
      },
      {
        "duration": 2,
        "start_time": "2023-07-12T15:09:12.457Z"
      },
      {
        "duration": 2,
        "start_time": "2023-07-12T15:09:43.303Z"
      },
      {
        "duration": 3,
        "start_time": "2023-07-12T15:09:44.170Z"
      },
      {
        "duration": 2,
        "start_time": "2023-07-12T15:09:51.826Z"
      },
      {
        "duration": 3,
        "start_time": "2023-07-12T15:10:11.294Z"
      },
      {
        "duration": 1480,
        "start_time": "2023-07-12T15:12:36.654Z"
      },
      {
        "duration": 1219,
        "start_time": "2023-07-12T15:15:26.465Z"
      },
      {
        "duration": 1254,
        "start_time": "2023-07-12T15:16:04.620Z"
      },
      {
        "duration": 165394,
        "start_time": "2023-07-12T15:16:54.356Z"
      },
      {
        "duration": 2,
        "start_time": "2023-07-12T15:19:39.752Z"
      },
      {
        "duration": 3,
        "start_time": "2023-07-12T15:19:47.342Z"
      },
      {
        "duration": 3,
        "start_time": "2023-07-12T15:20:14.724Z"
      },
      {
        "duration": 2,
        "start_time": "2023-07-12T15:20:31.622Z"
      },
      {
        "duration": 104,
        "start_time": "2023-07-12T15:21:24.550Z"
      },
      {
        "duration": 272841,
        "start_time": "2023-07-12T15:21:36.835Z"
      },
      {
        "duration": 31,
        "start_time": "2023-07-12T15:26:09.678Z"
      },
      {
        "duration": 46,
        "start_time": "2023-07-12T15:26:36.600Z"
      },
      {
        "duration": 5731,
        "start_time": "2023-07-12T19:08:28.836Z"
      },
      {
        "duration": 2986,
        "start_time": "2023-07-12T19:08:44.512Z"
      },
      {
        "duration": 10,
        "start_time": "2023-07-12T19:08:51.001Z"
      },
      {
        "duration": 62,
        "start_time": "2023-07-12T19:08:54.337Z"
      },
      {
        "duration": 4,
        "start_time": "2023-07-12T19:09:01.043Z"
      },
      {
        "duration": 4701,
        "start_time": "2023-07-12T19:09:04.627Z"
      },
      {
        "duration": 9,
        "start_time": "2023-07-12T19:09:10.784Z"
      },
      {
        "duration": 67,
        "start_time": "2023-07-12T19:09:16.852Z"
      },
      {
        "duration": 769,
        "start_time": "2023-07-12T19:09:20.737Z"
      },
      {
        "duration": 15,
        "start_time": "2023-07-12T19:09:26.275Z"
      },
      {
        "duration": 1162892,
        "start_time": "2023-07-12T19:09:28.324Z"
      },
      {
        "duration": 11,
        "start_time": "2023-07-12T19:30:18.922Z"
      },
      {
        "duration": 99,
        "start_time": "2023-07-12T19:30:29.084Z"
      },
      {
        "duration": 5,
        "start_time": "2023-07-12T19:30:34.952Z"
      },
      {
        "duration": 12,
        "start_time": "2023-07-12T19:30:36.354Z"
      },
      {
        "duration": 6,
        "start_time": "2023-07-12T19:30:42.727Z"
      },
      {
        "duration": 41,
        "start_time": "2023-07-12T19:30:44.821Z"
      },
      {
        "duration": 5,
        "start_time": "2023-07-12T19:30:47.312Z"
      },
      {
        "duration": 7,
        "start_time": "2023-07-12T19:30:50.520Z"
      },
      {
        "duration": 91,
        "start_time": "2023-07-12T19:32:22.415Z"
      },
      {
        "duration": 5,
        "start_time": "2023-07-12T19:32:26.337Z"
      },
      {
        "duration": 5,
        "start_time": "2023-07-12T19:32:32.121Z"
      },
      {
        "duration": 6,
        "start_time": "2023-07-12T19:32:33.138Z"
      },
      {
        "duration": 631,
        "start_time": "2023-07-12T19:32:34.952Z"
      },
      {
        "duration": 66,
        "start_time": "2023-07-12T19:34:13.226Z"
      },
      {
        "duration": 6556,
        "start_time": "2023-07-12T19:34:40.779Z"
      },
      {
        "duration": 5,
        "start_time": "2023-07-12T19:35:04.441Z"
      },
      {
        "duration": 3,
        "start_time": "2023-07-12T20:30:41.496Z"
      },
      {
        "duration": 1330187,
        "start_time": "2023-07-12T20:30:45.238Z"
      },
      {
        "duration": 399,
        "start_time": "2023-07-12T20:59:09.097Z"
      },
      {
        "duration": 347,
        "start_time": "2023-07-12T20:59:17.835Z"
      },
      {
        "duration": 131639,
        "start_time": "2023-07-12T20:59:57.805Z"
      },
      {
        "duration": 60,
        "start_time": "2023-07-12T21:15:15.803Z"
      },
      {
        "duration": 6,
        "start_time": "2023-07-12T21:22:31.568Z"
      },
      {
        "duration": 8214,
        "start_time": "2023-07-12T21:22:40.547Z"
      },
      {
        "duration": 22,
        "start_time": "2023-07-12T21:23:16.404Z"
      },
      {
        "duration": 13,
        "start_time": "2023-07-12T21:23:31.346Z"
      },
      {
        "duration": 132620,
        "start_time": "2023-07-12T21:25:02.471Z"
      },
      {
        "duration": 47,
        "start_time": "2023-07-12T21:28:04.028Z"
      },
      {
        "duration": 31,
        "start_time": "2023-07-12T21:28:17.085Z"
      },
      {
        "duration": 3,
        "start_time": "2023-07-12T21:29:01.510Z"
      },
      {
        "duration": 3,
        "start_time": "2023-07-12T21:29:29.924Z"
      },
      {
        "duration": 132910,
        "start_time": "2023-07-12T21:29:33.872Z"
      },
      {
        "duration": 34,
        "start_time": "2023-07-12T21:33:13.746Z"
      },
      {
        "duration": 1425877,
        "start_time": "2023-07-12T21:34:33.934Z"
      },
      {
        "duration": 3,
        "start_time": "2023-07-12T21:58:19.812Z"
      },
      {
        "duration": 30,
        "start_time": "2023-07-12T22:01:11.398Z"
      },
      {
        "duration": 178734,
        "start_time": "2023-07-12T22:02:19.667Z"
      },
      {
        "duration": 9,
        "start_time": "2023-07-12T22:05:51.506Z"
      },
      {
        "duration": 2347,
        "start_time": "2023-07-12T22:05:54.899Z"
      },
      {
        "duration": 32,
        "start_time": "2023-07-12T22:15:27.711Z"
      },
      {
        "duration": 175,
        "start_time": "2023-07-12T22:21:08.101Z"
      },
      {
        "duration": 248376,
        "start_time": "2023-07-12T22:23:23.775Z"
      },
      {
        "duration": 11,
        "start_time": "2023-07-12T22:28:53.591Z"
      },
      {
        "duration": 3,
        "start_time": "2023-07-12T22:33:17.219Z"
      },
      {
        "duration": 112,
        "start_time": "2023-07-12T22:37:26.938Z"
      },
      {
        "duration": 212983,
        "start_time": "2023-07-12T22:37:41.706Z"
      },
      {
        "duration": 4,
        "start_time": "2023-07-12T22:41:33.385Z"
      },
      {
        "duration": 4,
        "start_time": "2023-07-12T22:41:56.680Z"
      },
      {
        "duration": 148,
        "start_time": "2023-07-12T22:44:02.596Z"
      },
      {
        "duration": 150,
        "start_time": "2023-07-12T22:44:23.427Z"
      },
      {
        "duration": 2374252,
        "start_time": "2023-07-12T22:45:00.282Z"
      },
      {
        "duration": 22,
        "start_time": "2023-07-12T23:24:34.541Z"
      },
      {
        "duration": 24,
        "start_time": "2023-07-12T23:24:34.572Z"
      },
      {
        "duration": 3,
        "start_time": "2023-07-12T23:26:23.313Z"
      },
      {
        "duration": 1948,
        "start_time": "2023-07-12T23:27:29.972Z"
      },
      {
        "duration": 28,
        "start_time": "2023-07-12T23:35:56.916Z"
      },
      {
        "duration": 29,
        "start_time": "2023-07-12T23:36:54.331Z"
      },
      {
        "duration": 37,
        "start_time": "2023-07-12T23:37:42.645Z"
      },
      {
        "duration": 6,
        "start_time": "2023-07-12T23:38:26.342Z"
      },
      {
        "duration": 22,
        "start_time": "2023-07-12T23:38:34.318Z"
      },
      {
        "duration": 11,
        "start_time": "2023-07-12T23:38:42.235Z"
      },
      {
        "duration": 17,
        "start_time": "2023-07-12T23:39:12.350Z"
      },
      {
        "duration": 16,
        "start_time": "2023-07-12T23:39:22.971Z"
      },
      {
        "duration": 16,
        "start_time": "2023-07-12T23:39:31.709Z"
      },
      {
        "duration": 13,
        "start_time": "2023-07-12T23:39:42.638Z"
      },
      {
        "duration": 10,
        "start_time": "2023-07-12T23:40:07.264Z"
      },
      {
        "duration": 12,
        "start_time": "2023-07-12T23:40:19.637Z"
      },
      {
        "duration": 12,
        "start_time": "2023-07-12T23:41:11.846Z"
      },
      {
        "duration": 105,
        "start_time": "2023-07-12T23:42:26.198Z"
      },
      {
        "duration": 5,
        "start_time": "2023-07-12T23:43:15.597Z"
      },
      {
        "duration": 43,
        "start_time": "2023-07-12T23:43:27.436Z"
      },
      {
        "duration": 4,
        "start_time": "2023-07-12T23:44:20.038Z"
      },
      {
        "duration": 787670,
        "start_time": "2023-07-12T23:44:26.578Z"
      },
      {
        "duration": 4,
        "start_time": "2023-07-12T23:57:57.971Z"
      },
      {
        "duration": 13,
        "start_time": "2023-07-12T23:58:11.647Z"
      },
      {
        "duration": 10,
        "start_time": "2023-07-12T23:58:58.685Z"
      },
      {
        "duration": 57,
        "start_time": "2023-07-13T06:41:39.339Z"
      },
      {
        "duration": 5057,
        "start_time": "2023-07-13T06:41:52.499Z"
      },
      {
        "duration": 2653,
        "start_time": "2023-07-13T06:42:30.398Z"
      },
      {
        "duration": 14,
        "start_time": "2023-07-13T06:42:43.848Z"
      },
      {
        "duration": 41,
        "start_time": "2023-07-13T06:42:47.895Z"
      },
      {
        "duration": 3,
        "start_time": "2023-07-13T06:42:49.980Z"
      },
      {
        "duration": 6,
        "start_time": "2023-07-13T06:42:53.364Z"
      },
      {
        "duration": 4474,
        "start_time": "2023-07-13T06:42:55.206Z"
      },
      {
        "duration": 10,
        "start_time": "2023-07-13T06:42:59.682Z"
      },
      {
        "duration": 4,
        "start_time": "2023-07-13T06:43:08.036Z"
      },
      {
        "duration": 65,
        "start_time": "2023-07-13T06:43:08.669Z"
      },
      {
        "duration": 571,
        "start_time": "2023-07-13T06:43:12.020Z"
      },
      {
        "duration": 14,
        "start_time": "2023-07-13T06:43:14.366Z"
      },
      {
        "duration": 1148908,
        "start_time": "2023-07-13T06:43:17.895Z"
      },
      {
        "duration": 10,
        "start_time": "2023-07-13T07:02:32.874Z"
      },
      {
        "duration": 87,
        "start_time": "2023-07-13T07:02:36.608Z"
      },
      {
        "duration": 3,
        "start_time": "2023-07-13T07:02:38.186Z"
      },
      {
        "duration": 7,
        "start_time": "2023-07-13T07:02:39.446Z"
      },
      {
        "duration": 6,
        "start_time": "2023-07-13T07:02:40.534Z"
      },
      {
        "duration": 77,
        "start_time": "2023-07-13T07:02:41.786Z"
      },
      {
        "duration": 5,
        "start_time": "2023-07-13T07:02:42.725Z"
      },
      {
        "duration": 4,
        "start_time": "2023-07-13T07:02:44.798Z"
      },
      {
        "duration": 7,
        "start_time": "2023-07-13T07:02:45.662Z"
      },
      {
        "duration": 569,
        "start_time": "2023-07-13T07:02:46.299Z"
      },
      {
        "duration": 3,
        "start_time": "2023-07-13T07:02:53.148Z"
      },
      {
        "duration": 4,
        "start_time": "2023-07-13T07:02:53.615Z"
      },
      {
        "duration": 3,
        "start_time": "2023-07-13T07:02:54.037Z"
      },
      {
        "duration": 3,
        "start_time": "2023-07-13T07:02:54.445Z"
      },
      {
        "duration": 5,
        "start_time": "2023-07-13T07:02:56.532Z"
      },
      {
        "duration": 7501,
        "start_time": "2023-07-13T07:03:22.892Z"
      },
      {
        "duration": 6,
        "start_time": "2023-07-13T07:03:37.352Z"
      },
      {
        "duration": 137349,
        "start_time": "2023-07-13T07:03:43.079Z"
      },
      {
        "duration": 5,
        "start_time": "2023-07-13T07:06:57.124Z"
      },
      {
        "duration": 3,
        "start_time": "2023-07-13T07:07:15.320Z"
      },
      {
        "duration": 2,
        "start_time": "2023-07-13T07:08:16.505Z"
      },
      {
        "duration": 3,
        "start_time": "2023-07-13T07:10:11.583Z"
      },
      {
        "duration": 158932,
        "start_time": "2023-07-13T07:10:16.408Z"
      },
      {
        "duration": 6,
        "start_time": "2023-07-13T07:13:54.084Z"
      },
      {
        "duration": 4,
        "start_time": "2023-07-13T07:14:06.066Z"
      },
      {
        "duration": 3,
        "start_time": "2023-07-13T07:14:27.939Z"
      },
      {
        "duration": 3,
        "start_time": "2023-07-13T07:14:28.486Z"
      },
      {
        "duration": 4,
        "start_time": "2023-07-13T07:14:29.514Z"
      },
      {
        "duration": 3,
        "start_time": "2023-07-13T07:14:30.051Z"
      },
      {
        "duration": 3,
        "start_time": "2023-07-13T07:14:37.731Z"
      },
      {
        "duration": 194926,
        "start_time": "2023-07-13T07:14:41.348Z"
      },
      {
        "duration": 4,
        "start_time": "2023-07-13T07:19:20.070Z"
      },
      {
        "duration": 3,
        "start_time": "2023-07-13T07:19:27.932Z"
      },
      {
        "duration": 2,
        "start_time": "2023-07-13T07:19:28.508Z"
      },
      {
        "duration": 2,
        "start_time": "2023-07-13T07:19:32.692Z"
      },
      {
        "duration": 910894,
        "start_time": "2023-07-13T07:19:39.725Z"
      },
      {
        "duration": 4,
        "start_time": "2023-07-13T07:35:17.327Z"
      },
      {
        "duration": 3,
        "start_time": "2023-07-13T07:35:29.583Z"
      },
      {
        "duration": 2044086,
        "start_time": "2023-07-13T07:35:38.990Z"
      },
      {
        "duration": 5,
        "start_time": "2023-07-13T08:10:19.999Z"
      },
      {
        "duration": 3,
        "start_time": "2023-07-13T08:10:25.313Z"
      },
      {
        "duration": 1754,
        "start_time": "2023-07-13T08:10:29.386Z"
      },
      {
        "duration": 14,
        "start_time": "2023-07-13T08:10:44.957Z"
      },
      {
        "duration": 75,
        "start_time": "2023-07-13T08:12:37.788Z"
      }
    ],
    "kernelspec": {
      "display_name": "Python 3 (ipykernel)",
      "language": "python",
      "name": "python3"
    },
    "language_info": {
      "codemirror_mode": {
        "name": "ipython",
        "version": 3
      },
      "file_extension": ".py",
      "mimetype": "text/x-python",
      "name": "python",
      "nbconvert_exporter": "python",
      "pygments_lexer": "ipython3",
      "version": "3.9.5"
    },
    "toc": {
      "base_numbering": 1,
      "nav_menu": {},
      "number_sections": true,
      "sideBar": true,
      "skip_h1_title": true,
      "title_cell": "Содержание",
      "title_sidebar": "Contents",
      "toc_cell": true,
      "toc_position": {
        "height": "calc(100% - 180px)",
        "left": "10px",
        "top": "150px",
        "width": "302.391px"
      },
      "toc_section_display": true,
      "toc_window_display": false
    },
    "colab": {
      "provenance": [],
      "include_colab_link": true
    }
  },
  "nbformat": 4,
  "nbformat_minor": 0
}